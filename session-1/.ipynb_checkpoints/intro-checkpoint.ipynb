{
 "cells": [
  {
   "cell_type": "markdown",
   "id": "c290548d",
   "metadata": {
    "slideshow": {
     "slide_type": "slide"
    }
   },
   "source": [
    "# Julia for Economics Bootcamp\n",
    "\n",
    "## Session 1: Julia Basics\n",
    "\n",
    "### Cameron Pfiffer (cpfiffer@stanford.edu)"
   ]
  },
  {
   "cell_type": "markdown",
   "id": "09d8ff99",
   "metadata": {
    "slideshow": {
     "slide_type": "slide"
    }
   },
   "source": [
    "# Who am I?\n",
    "\n",
    "My name is Cameron Pfiffer. I'm a visiting PhD student in finance from the University of Oregon. \n",
    "\n",
    "In my research, I mostly work on anything computational, so Bayesian methods, applied metrics, macroeconomics, etc. I really like computers."
   ]
  },
  {
   "cell_type": "markdown",
   "id": "f775abcf",
   "metadata": {
    "slideshow": {
     "slide_type": "slide"
    }
   },
   "source": [
    "# Why does anything I say mean anything?\n",
    "\n",
    "I've been a core developer of Turing.jl and its sattelite packages for four years. Turing.jl is a package for probabilistic programming written in Julia. \n",
    "\n",
    "I've written oodles of Julia code and consider myself reasonably good at producing performant, idiomatic, and easily-read Julia code."
   ]
  },
  {
   "cell_type": "markdown",
   "id": "8148600a",
   "metadata": {
    "slideshow": {
     "slide_type": "slide"
    }
   },
   "source": [
    "# What is this series?\n",
    "\n",
    "I'm going to be presenting one workshop a week. Topics are tailored towards researchers who need to work with non-standard statistical methods or computational tools.\n",
    "\n",
    "- Julia Basics (today)\n",
    "- Parallelization for Economists (Februrary)\n",
    "- Optimization and Automatic Differentiation (March)\n",
    "- Performant Programming and Best Practices (April)\n",
    "- Bayesian Inference and Probabilistic Programming (May)\n",
    "\n",
    "**If there is something you want to know how to do, please contact me!**"
   ]
  },
  {
   "cell_type": "markdown",
   "id": "75032bcd",
   "metadata": {
    "slideshow": {
     "slide_type": "slide"
    }
   },
   "source": [
    "# What is the structure of each session?\n",
    "\n",
    "I will lecture on a specific concept for 10-15 minutes and then provide you small practice tasks to solidify your learning."
   ]
  },
  {
   "cell_type": "markdown",
   "id": "e2dcc6e2",
   "metadata": {
    "slideshow": {
     "slide_type": "slide"
    }
   },
   "source": [
    "During the practice tasks, you will have access to breakout rooms of different interest levels according to how interested you are in completing the task:\n",
    "\n",
    "- Nerd (gotta do it, want to be around others who are interested in completing the task)\n",
    "- Tinkering (mildly interested, unphased if you don't complete it, more solo-work oriented)\n",
    "- Break (if you just want to disappear and not write any code)\n",
    "\n",
    "At the end of each concept check I will bring everyone back together and go through an answer live."
   ]
  },
  {
   "cell_type": "markdown",
   "id": "4967cabc",
   "metadata": {
    "slideshow": {
     "slide_type": "slide"
    }
   },
   "source": [
    "We will have a ten minute break each hour.\n",
    "\n",
    "At noon, I will provide you a small project that you should be able to accomplish within an hour. I will be available to provide guidance or suggestions and answer questions."
   ]
  },
  {
   "cell_type": "markdown",
   "id": "6730f758",
   "metadata": {
    "slideshow": {
     "slide_type": "slide"
    }
   },
   "source": [
    "# House rules: Zoom\n",
    "\n",
    "Since we are unfortunately limited to Zoom, I wanted to outline workshop behavior to make sure we have a productive class.\n",
    "\n",
    "1. **Please speak up!** I am happy to be interrupted! \n",
    "2. If you don't want to speak up, **please put your questions in the chat**. Natalya will be available to answer smaller questions, or to relay them to me if they are more complex.\n",
    "\n",
    "I prefer interactive classes!"
   ]
  },
  {
   "cell_type": "markdown",
   "id": "abaddb59",
   "metadata": {
    "slideshow": {
     "slide_type": "slide"
    }
   },
   "source": [
    "# House rules: \"stupid questions\"\n",
    "\n",
    "Do not start a sentence with \"Maybe this is a stupid question, but...\"\n",
    "\n",
    "There are **literally zero stupid questions**. Programming is suffering and I'm here to make it palatable -- please please **PLEASE** ask me if you start to feel yourself get off track."
   ]
  },
  {
   "cell_type": "markdown",
   "id": "0f29da49",
   "metadata": {
    "slideshow": {
     "slide_type": "slide"
    }
   },
   "source": [
    "Best case scenario, everyone else is confused and asking the question solves a bunch of problems. \n",
    "\n",
    "Worst case scenario, you yourself become less confused and other people concretize their understandings as well!"
   ]
  },
  {
   "cell_type": "markdown",
   "id": "b0307461",
   "metadata": {
    "slideshow": {
     "slide_type": "slide"
    }
   },
   "source": [
    "# My manner of speech\n",
    "\n",
    "When I am excited, like right now, I tend to \n",
    "\n",
    "- Talk fast\n",
    "- Use idioms\n",
    "- Use slang\n",
    "\n",
    "and this can be difficult to follow for non-native English speakers.\n",
    "\n",
    "Please let me know if I slip up!"
   ]
  },
  {
   "cell_type": "markdown",
   "id": "7e17198d",
   "metadata": {
    "slideshow": {
     "slide_type": "slide"
    }
   },
   "source": [
    "# What are we doing today?\n",
    "\n",
    "- What is Julia?\n",
    "- How to install Julia\n",
    "- How to write code in Julia\n",
    "- Julia syntax \n",
    "    - Variables, operators, language primitives\n",
    "    - Functions\n",
    "    - Array types, broadcasting\n",
    "    - Control flow, breaking bad habits from R/Stata/Matlab\n",
    "    - Types\n",
    "    - Julia's superpower, **multiple dispatch**!\n",
    "- Core package tour\n",
    "    - CSV and DataFrames (awesome data goon tools)\n",
    "    - FixedEffectModels (fixed effects, clustering, IVs, etc.)\n",
    "    - Visualization\n",
    "- Maximum likelihood (time permitting)"
   ]
  },
  {
   "cell_type": "markdown",
   "id": "e2d1ad2e",
   "metadata": {
    "slideshow": {
     "slide_type": "slide"
    }
   },
   "source": [
    "# Questions before we start?"
   ]
  },
  {
   "cell_type": "markdown",
   "id": "28fb1ce1",
   "metadata": {
    "slideshow": {
     "slide_type": "slide"
    }
   },
   "source": [
    "# Let's gooOoooOooooooOOOooo\n",
    "\n",
    "![](https://media.giphy.com/media/q1kBdDry3xudsp0DDm/giphy.gif)"
   ]
  },
  {
   "cell_type": "markdown",
   "id": "ccdbacab",
   "metadata": {
    "slideshow": {
     "slide_type": "slide"
    }
   },
   "source": [
    "# Disclaimer!\n",
    "\n",
    "- I am not a salesman\n",
    "- Julia is one of many languages\n",
    "- Julia just happens to be a great tool\n",
    "- All languages are tools, use what works \n",
    "- I will not indulge in your Stata/R flame war because that's where we all lose\n",
    "- Use Julia when (a) it is appropriate or (b) when you want to work with it"
   ]
  },
  {
   "cell_type": "markdown",
   "id": "83b176a8",
   "metadata": {
    "slideshow": {
     "slide_type": "slide"
    }
   },
   "source": [
    "# What is Julia?\n",
    "\n",
    "Julia is \n",
    "\n",
    "- Hilariously fast if you write it correctly, but still fast if write it incorrectly\n",
    "- Just-in-time compiled (JIT), though can be interpreted/AOT compiled\n",
    "- Dynamically typed\n",
    "- Highly reproducible across computing environments\n",
    "- Composable (more on this later!)\n",
    "- General purpose, but extremely good at scientific computing\n",
    "- Open source! The best thing!\n",
    "- Beautiful"
   ]
  },
  {
   "cell_type": "markdown",
   "id": "33bbcb6d",
   "metadata": {
    "slideshow": {
     "slide_type": "slide"
    }
   },
   "source": [
    "# What Julia is NOT (yet)\n",
    "\n",
    "- A smash-and-grab analysis tool (i.e. not a great replacement for random 1-second Python/R/Stata scripts)\n",
    "- A place to find canned, ultra-robust, advanced (classical) statistical tools\n",
    "    - Here I mean stuff like 3SLS, weirdo GMM, etc. You can do them but it's not a one-line call (yet).\n",
    "    - SAS/Stata are very old and have some amazing stuff that is really, really well written!\n",
    "- The perfect tool\n",
    "    - Working with time series can be somewhat more painful than in Python's `pandas`, for example."
   ]
  },
  {
   "cell_type": "markdown",
   "id": "0696e2e2",
   "metadata": {
    "slideshow": {
     "slide_type": "slide"
    }
   },
   "source": [
    "# Demo\n",
    "\n",
    "Let's see some common stuff you might do, starting with some basic stats."
   ]
  },
  {
   "cell_type": "code",
   "execution_count": 9,
   "id": "00f963d4",
   "metadata": {
    "slideshow": {
     "slide_type": "slide"
    }
   },
   "outputs": [
    {
     "name": "stdout",
     "output_type": "stream",
     "text": [
      "\n",
      "----------------------------------------------------------\n",
      "                         SepalLength            SepalWidth\n",
      "               ------------------------------   ----------\n",
      "                    (1)        (2)        (3)          (4)\n",
      "----------------------------------------------------------\n",
      "SepalWidth     0.804***   0.432***   0.496***             \n",
      "                (0.106)    (0.081)    (0.086)             \n",
      "PetalLength               0.776***   0.829***      -0.188*\n",
      "                           (0.064)    (0.069)      (0.083)\n",
      "PetalWidth                            -0.315*     0.626***\n",
      "                                      (0.151)      (0.123)\n",
      "SepalLength                                       0.378***\n",
      "                                                   (0.066)\n",
      "----------------------------------------------------------\n",
      "SpeciesDummy        Yes        Yes        Yes          Yes\n",
      "----------------------------------------------------------\n",
      "Estimator           OLS        OLS        OLS          OLS\n",
      "----------------------------------------------------------\n",
      "N                   150        150        150          150\n",
      "R2                0.726      0.863      0.867        0.635\n",
      "----------------------------------------------------------\n",
      "\n",
      "\n"
     ]
    }
   ],
   "source": [
    "using RegressionTables, DataFrames, FixedEffectModels, RDatasets\n",
    "\n",
    "df = dataset(\"datasets\", \"iris\")\n",
    "df[!,:SpeciesDummy] = string.(df[!,:Species])\n",
    "\n",
    "rr1 = reg(df, @formula(SepalLength ~ SepalWidth + fe(SpeciesDummy)))\n",
    "rr2 = reg(df, @formula(SepalLength ~ SepalWidth + PetalLength + fe(SpeciesDummy)))\n",
    "rr3 = reg(df, @formula(SepalLength ~ SepalWidth + PetalLength + PetalWidth + fe(SpeciesDummy)))\n",
    "rr4 = reg(df, @formula(SepalWidth ~ SepalLength + PetalLength + PetalWidth + fe(SpeciesDummy)))\n",
    "\n",
    "regtable(rr1,rr2,rr3,rr4; renderSettings = asciiOutput())"
   ]
  },
  {
   "cell_type": "markdown",
   "id": "90afc124",
   "metadata": {
    "slideshow": {
     "slide_type": "slide"
    }
   },
   "source": [
    "# Installing Julia\n",
    "\n",
    "- This workshop will be using the current long-term support (LTS) version of Julia, **1.6.5**\n",
    "- Binaries on the website ([julialang.org/downloads/](https://julialang.org/downloads/))\n",
    "    - **WINDOWS**: If you see a check box saying \"Add to path\" or something equivalent, check that. It'll help, I promise.\n",
    "- For the lazy, [jill](https://github.com/abelsiqueira/jill)\n",
    "- Let's take a moment to install Julia!"
   ]
  },
  {
   "cell_type": "markdown",
   "id": "d2252590",
   "metadata": {
    "slideshow": {
     "slide_type": "slide"
    }
   },
   "source": [
    "# How to edit Julia files\n",
    "\n",
    "- Julia code is just text files (most code is!)\n",
    "- You have options for a text editor:\n",
    "    - VS Code (the more contemporary, common one, good support)\n",
    "    - vim (medium nerds)\n",
    "    - emacs (huge nerds with big pinkies)\n",
    "    - Jupyter (more interactive programming)\n",
    "- I will be working in VS Code to make it easy for everyone, but you may choose your own editor if you have one"
   ]
  },
  {
   "cell_type": "markdown",
   "id": "4c598696",
   "metadata": {
    "slideshow": {
     "slide_type": "slide"
    }
   },
   "source": [
    "# Installing VS Code\n",
    "\n",
    "- Download VS Code ([https://code.visualstudio.com/download](https://code.visualstudio.com/download))\n",
    "- Install the Julia extension\n",
    "- Make a folder somewhere on your machine for this workshop!\n",
    "- Open the folder you made in VS Code -- `File > Open Folder` or using the command pallette `Ctrl + Shift + P > Open Folder`"
   ]
  },
  {
   "cell_type": "markdown",
   "id": "655f2e9e",
   "metadata": {
    "slideshow": {
     "slide_type": "slide"
    }
   },
   "source": [
    "# Your first Julia program (maybe)\n",
    "\n",
    "Everyone's first program in a new language is often \"Hello World\".\n",
    "\n",
    "A hello world script is intended to \n",
    "\n",
    "- let you know _real quick_ whether or not your setup is working\n",
    "- to show you the basics of how to make the code you wrote tell your computer what to do"
   ]
  },
  {
   "cell_type": "markdown",
   "id": "a16df79c",
   "metadata": {
    "slideshow": {
     "slide_type": "slide"
    }
   },
   "source": [
    "# Your first Julia program\n",
    "\n",
    "Make a file called `hello-world.jl`. \n",
    "\n",
    "The shortcut for this in VS Code is `Ctrl + N` -- this will open a new buffer, but no filename will be assigned until you save it (using `Ctrl + S`)."
   ]
  },
  {
   "cell_type": "markdown",
   "id": "075e5174",
   "metadata": {
    "slideshow": {
     "slide_type": "slide"
    }
   },
   "source": [
    "# Your first Julia program\n",
    "\n",
    "Type the following in your script:\n",
    "\n",
    "```julia\n",
    "println(\"Hello World!\")\n",
    "```"
   ]
  },
  {
   "cell_type": "markdown",
   "id": "e21e81cc",
   "metadata": {
    "slideshow": {
     "slide_type": "slide"
    }
   },
   "source": [
    "# Running your first Julia program\n",
    "\n",
    "Now we're going to run this. You have several options, depending on whether you are an interactive person or an old-school type (like me).\n",
    "\n",
    "- Interactive way is to move your cursor to a line an hit \n",
    "    - `Ctrl + Enter` to execute the line your cursor is on (or a selection)\n",
    "    - `Shift + Enter` to do the above, but also move down one line.\n",
    "- Old-school way \n",
    "    1. Open a terminal\n",
    "    2. Nagivate to your folder using `cd`\n",
    "    3. Type `julia hello-world.jl`\n",
    "    - Old-school notes\n",
    "        - VS Code has a terminal buffer you can open with `Ctrl + ` (the symbol is the backtick, in the top-left of your keyboard)\n",
    "        - You can use your system terminal if you know how.\n"
   ]
  },
  {
   "cell_type": "markdown",
   "id": "e7e7d2f1",
   "metadata": {
    "slideshow": {
     "slide_type": "slide"
    }
   },
   "source": [
    "# If it went well\n",
    "\n",
    "You should see the words `Hello world!` printed to your display!\n",
    "\n",
    "**CHECK IN!** Please reach out in the chat if anything broke or is not working."
   ]
  },
  {
   "cell_type": "markdown",
   "id": "bb67e251",
   "metadata": {
    "slideshow": {
     "slide_type": "slide"
    }
   },
   "source": [
    "# Going forward\n",
    "\n",
    "You can run your code however you like -- I will be running some code here in a Jupyter notebook.\n",
    "\n",
    "During concept checks, I will make a separate file for each problem to make sure you can see how I work in a live-code environment.\n",
    "\n",
    "Or, you can just dump it all in one file! Go with what works for you."
   ]
  },
  {
   "cell_type": "markdown",
   "id": "ca38ba22",
   "metadata": {
    "slideshow": {
     "slide_type": "slide"
    }
   },
   "source": [
    "# Questions?"
   ]
  },
  {
   "cell_type": "markdown",
   "id": "3384247f",
   "metadata": {
    "slideshow": {
     "slide_type": "slide"
    }
   },
   "source": [
    "# Julia basics\n",
    "\n",
    "Let's get into the language!"
   ]
  },
  {
   "cell_type": "markdown",
   "id": "9d4798b3",
   "metadata": {
    "slideshow": {
     "slide_type": "slide"
    }
   },
   "source": [
    "# Variables\n",
    "\n",
    "The natural place to start is with a __variable__.\n",
    "\n",
    "A variable in Julia is a symbol we bind/assign a value to.\n",
    "\n",
    "```julia\n",
    "# Assign the value of 2 to a variable x\n",
    "x = 2\n",
    "\n",
    "println(x + 2) # Should print out \"4\" to your display\n",
    "\n",
    "# Do some math, then update the value of x\n",
    "x = 5 + 8\n",
    "println(x) # Should display 13\n",
    "\n",
    "# Put a word into y\n",
    "y = \"howdy partner\"\n",
    "```"
   ]
  },
  {
   "cell_type": "code",
   "execution_count": 14,
   "id": "c884bc09",
   "metadata": {
    "slideshow": {
     "slide_type": "slide"
    }
   },
   "outputs": [
    {
     "name": "stdout",
     "output_type": "stream",
     "text": [
      "-1248.4444444444443\n"
     ]
    }
   ],
   "source": [
    "# More with variables\n",
    "x1 = 15\n",
    "red5 = 91\n",
    "hats = 2\n",
    "mapsie = -1\n",
    "tuba = 9\n",
    "\n",
    "answer = (x1 + red5) ^ hats * (mapsie/tuba)\n",
    "println(answer)"
   ]
  },
  {
   "cell_type": "markdown",
   "id": "a5582466",
   "metadata": {
    "slideshow": {
     "slide_type": "slide"
    }
   },
   "source": [
    "# Variable conventions\n",
    "\n",
    "- We typically use snake case in Julia (`long_variable_name` instead of `longVariableName`)\n",
    "- Variables start with a letter, underscore, or a handful of Unicode characters\n",
    "- `const x = 5` defines a constant variable, more on this later, but helpful if you know what that means."
   ]
  },
  {
   "cell_type": "markdown",
   "id": "a6f3cf41",
   "metadata": {
    "slideshow": {
     "slide_type": "slide"
    }
   },
   "source": [
    "# Concept check!\n",
    "\n",
    "Don't run these yet -- try to run them in your head first. What are the values of `c` and `x4`?\n",
    "\n",
    "## Q1\n",
    "\n",
    "```julia\n",
    "a = 3\n",
    "b = a + 1\n",
    "c = b * a\n",
    "println(c)\n",
    "```\n",
    "\n",
    "## Q2\n",
    "\n",
    "```julia\n",
    "x1 = 6\n",
    "x2 = x1 / 2\n",
    "x4 = x3 + x2\n",
    "println(x4)\n",
    "```"
   ]
  },
  {
   "cell_type": "markdown",
   "id": "47517a02",
   "metadata": {
    "slideshow": {
     "slide_type": "slide"
    }
   },
   "source": [
    "# Primitive types\n",
    "\n",
    "Julia has a handful of **primitive types**. Primitive types are variable types that are core to computing, things like\n",
    "\n",
    "- Booleans (`true/false`)\n",
    "- Integers, `Int` or `UInt` for unsigned (positive integers only)\n",
    "    - Comes in `Int8/Int16/Int32/Int64/Int128` sizes\n",
    "- Floating point (decimals), `Float16/Float32/Float64` for different precision\n",
    "- Arbitrary size constructs (very expensive, probably not needed)\n",
    "    - `BigInt`\n",
    "    - `BigFloat`"
   ]
  },
  {
   "cell_type": "markdown",
   "id": "0a3bb48e",
   "metadata": {
    "slideshow": {
     "slide_type": "slide"
    }
   },
   "source": [
    "# Primitive types\n",
    "\n",
    "- Strings & characters\n",
    "    - Quotes indicate a string (`String`), i.e. `\"hello world\"`\n",
    "    - Apostrophes denote a single character (`Char`), i.e. `'c'`\n",
    "- `Complex` numbers are supported natively, written `1 + 2im`\n",
    "- `Rational` numbers are supported with double slashes, `2 // 3`"
   ]
  },
  {
   "cell_type": "code",
   "execution_count": 17,
   "id": "e0d9d3f1",
   "metadata": {
    "slideshow": {
     "slide_type": "slide"
    }
   },
   "outputs": [
    {
     "data": {
      "text/plain": [
       "Int64"
      ]
     },
     "execution_count": 17,
     "metadata": {},
     "output_type": "execute_result"
    }
   ],
   "source": [
    "typeof(5)"
   ]
  },
  {
   "cell_type": "code",
   "execution_count": 18,
   "id": "5eb2c1e7",
   "metadata": {},
   "outputs": [
    {
     "data": {
      "text/plain": [
       "Float64"
      ]
     },
     "execution_count": 18,
     "metadata": {},
     "output_type": "execute_result"
    }
   ],
   "source": [
    "typeof(5.0)"
   ]
  },
  {
   "cell_type": "code",
   "execution_count": 19,
   "id": "3291077c",
   "metadata": {
    "scrolled": true
   },
   "outputs": [
    {
     "data": {
      "text/plain": [
       "Bool"
      ]
     },
     "execution_count": 19,
     "metadata": {},
     "output_type": "execute_result"
    }
   ],
   "source": [
    "typeof(true)"
   ]
  },
  {
   "cell_type": "code",
   "execution_count": 20,
   "id": "e994648f",
   "metadata": {},
   "outputs": [
    {
     "data": {
      "text/plain": [
       "String"
      ]
     },
     "execution_count": 20,
     "metadata": {},
     "output_type": "execute_result"
    }
   ],
   "source": [
    "typeof(\"howdy!\")"
   ]
  },
  {
   "cell_type": "code",
   "execution_count": 21,
   "id": "ab9feb93",
   "metadata": {},
   "outputs": [
    {
     "data": {
      "text/plain": [
       "Char"
      ]
     },
     "execution_count": 21,
     "metadata": {},
     "output_type": "execute_result"
    }
   ],
   "source": [
    "typeof('h')"
   ]
  },
  {
   "cell_type": "markdown",
   "id": "c745465d",
   "metadata": {
    "slideshow": {
     "slide_type": "slide"
    }
   },
   "source": [
    "# Arithmatic operators\n",
    "\n",
    "All the common operators are supported!\n",
    "\n",
    "![](https://user-images.githubusercontent.com/422990/148709622-4bf18e9c-b8ce-4332-a3ec-f45731f49238.png)"
   ]
  },
  {
   "cell_type": "markdown",
   "id": "ecf75d0b",
   "metadata": {
    "slideshow": {
     "slide_type": "slide"
    }
   },
   "source": [
    "# Concept check!\n",
    "\n",
    "1. Define a variable called `z`. Put any numeric type in here -- float or int.\n",
    "2. Print out the remainder of `z` with the quotients (`2`, `4`, and `8`).\n",
    "3. Tinker around and see what happens when you change the value of `z` and rerun the code."
   ]
  },
  {
   "cell_type": "markdown",
   "id": "23c8a664",
   "metadata": {
    "slideshow": {
     "slide_type": "slide"
    }
   },
   "source": [
    "# Boolean operators\n",
    "\n",
    "Boolean algebra is how we work with `true` and `false` values. Julia supports all the common operators.\n",
    "\n",
    "- `!true` is __negation__\n",
    "- `x && y` means __and__. Returns `true` if `x` and `y` are both `true`, otherwise `false`.\n",
    "- `x || y` means __or__. Returns `true` if `x` or `y` is `true`, otherwise `false`.\n",
    "- All the bitwise operators. I won't cover these but they're [here](https://docs.julialang.org/en/v1/manual/mathematical-operations/#Bitwise-Operators).\n"
   ]
  },
  {
   "cell_type": "markdown",
   "id": "2de0a96b",
   "metadata": {
    "slideshow": {
     "slide_type": "slide"
    }
   },
   "source": [
    "# Comparison operators\n",
    "\n",
    "Comparison operators are how you get a `true` or `false` value out of any kind of comparison.\n",
    "\n",
    "- Equality: `x == y` returns `true` if `x` and `y` have the same value.\n",
    "- Inequality: `x != y` returns `true` if `x` and `y` are __NOT__ the same.\n",
    "- Less than: `x < y` returns `true` if `x` is __LESS__ than `y`.\n",
    "- Greater than: `x > y` returns `true` if `x` is __GREATER__ than `y`.\n",
    "    - Less than or greater than using equality are written `<=` or `>=`."
   ]
  },
  {
   "cell_type": "markdown",
   "id": "82be464f",
   "metadata": {
    "slideshow": {
     "slide_type": "slide"
    }
   },
   "source": [
    "# Concept check!\n",
    "\n",
    "`if` statements are a way of conditionally evaluating code (more on this later). For example, you can write\n",
    "\n",
    "```julia\n",
    "some_number = 16\n",
    "if some_number >= 15\n",
    "    println(\"It's larger than 15\")\n",
    "end\n",
    "```\n",
    "\n",
    "1. Make two variables, `var_a` and `var_b`. Put any numeric types in these variables.\n",
    "2. Print out `\"It's complicated\"` if `var_a` is greater than 1 or `var_b` is not less than 2.\n",
    "3. Try tinkering around with composing nots, ands, ors, and less thans if you complete step 2. You can put parentheses around stuff to enforce order of operations."
   ]
  },
  {
   "cell_type": "markdown",
   "id": "24bd097c",
   "metadata": {
    "slideshow": {
     "slide_type": "slide"
    }
   },
   "source": [
    "# Questions?"
   ]
  },
  {
   "cell_type": "markdown",
   "id": "78b3e06e",
   "metadata": {
    "slideshow": {
     "slide_type": "slide"
    }
   },
   "source": [
    "# Fun with Functions\n",
    "\n",
    "Functions are how we write significantly more complex code. \n",
    "\n",
    "In Julia, functions are a _fantastic_ way to get free speed! Write in functions when you can.\n",
    "\n",
    "A function is a construct accepting some number of inputs that returns some number of outputs -- think of it as copy-pasted code which you only write once. \n",
    "\n",
    "If you find yourself copy-pasting code two or more times, you should probably write a function instead."
   ]
  },
  {
   "cell_type": "markdown",
   "id": "dadd1581",
   "metadata": {
    "slideshow": {
     "slide_type": "slide"
    }
   },
   "source": [
    "The most common function definition is\n",
    "\n",
    "```julia\n",
    "function f(x, y)\n",
    "    x + y\n",
    "end\n",
    "```\n",
    "\n",
    "There is also a shorter way of defining functions:\n",
    "\n",
    "```julia\n",
    "f(x, y) = x + y\n",
    "```"
   ]
  },
  {
   "cell_type": "markdown",
   "id": "ce8e14f9",
   "metadata": {
    "slideshow": {
     "slide_type": "slide"
    }
   },
   "source": [
    "Functions are \"called\", which means that we provide the __inputs__ to the function, Julia will evaluate the function using those inputs, and __return__ whatever it has been asked to return.\n",
    "\n",
    "Let's try this with a simple polynomial function."
   ]
  },
  {
   "cell_type": "code",
   "execution_count": 27,
   "id": "b7fd4895",
   "metadata": {
    "scrolled": true,
    "slideshow": {
     "slide_type": "slide"
    }
   },
   "outputs": [
    {
     "data": {
      "text/plain": [
       "poly (generic function with 1 method)"
      ]
     },
     "execution_count": 27,
     "metadata": {},
     "output_type": "execute_result"
    }
   ],
   "source": [
    "# Creating the function.\n",
    "function poly(x, y)\n",
    "    return 3x^2 + 2y^2 - 1*x*y\n",
    "end"
   ]
  },
  {
   "cell_type": "markdown",
   "id": "c59e8856",
   "metadata": {},
   "source": [
    "Note that we've only _defined_ the function -- it is only a recipe for what to do when the function is _called_ with some inputs `x` and `y`."
   ]
  },
  {
   "cell_type": "markdown",
   "id": "8fdb2c04",
   "metadata": {
    "slideshow": {
     "slide_type": "slide"
    }
   },
   "source": [
    "Calling the function is easy:"
   ]
  },
  {
   "cell_type": "code",
   "execution_count": 29,
   "id": "2d41eee4",
   "metadata": {},
   "outputs": [
    {
     "data": {
      "text/plain": [
       "23.0"
      ]
     },
     "execution_count": 29,
     "metadata": {},
     "output_type": "execute_result"
    }
   ],
   "source": [
    "poly(1, 2.5)"
   ]
  },
  {
   "cell_type": "markdown",
   "id": "32a77392",
   "metadata": {
    "slideshow": {
     "slide_type": "slide"
    }
   },
   "source": [
    "# Concept check!\n",
    "\n",
    "Consider a standard polynomial of degree 4:\n",
    "\n",
    "$$\n",
    "g(x) = \\theta_1 x^3 + \\theta_2 x^2 + \\theta_3 x + \\theta_4\n",
    "$$\n",
    "\n",
    "1. Write the polynomial function `g` that accepts a value $x$, but also the four coefficients $\\theta_1, \\dots, \\theta_4$.\n",
    "2. Write a second function `h` that accepts _only_ a value `x`, but evaluates `g` at the coefficients `4`, `-3`, `2`, and `10`.\n",
    "\n",
    "Recall that function syntax is\n",
    "\n",
    "```julia\n",
    "function f(args...)\n",
    "    ...\n",
    "end\n",
    "\n",
    "# Alternatively:\n",
    "f(args...) = ...\n",
    "```"
   ]
  },
  {
   "cell_type": "markdown",
   "id": "f0b96a86",
   "metadata": {
    "slideshow": {
     "slide_type": "slide"
    }
   },
   "source": [
    "# Type annotations\n",
    "\n",
    "We will talk a LOT about the type system today, but I want to introduce you to the idea that you can restrict your function to certain types of inputs by adding `::TypeName` after an argument:"
   ]
  },
  {
   "cell_type": "code",
   "execution_count": 43,
   "id": "f162dfc9",
   "metadata": {
    "slideshow": {
     "slide_type": "-"
    }
   },
   "outputs": [
    {
     "data": {
      "text/plain": [
       "afun (generic function with 2 methods)"
      ]
     },
     "execution_count": 43,
     "metadata": {},
     "output_type": "execute_result"
    }
   ],
   "source": [
    "afun(x::Int) = x + 1\n",
    "afun(x::Float64) = x / 2"
   ]
  },
  {
   "cell_type": "markdown",
   "id": "f00cfccb",
   "metadata": {
    "slideshow": {
     "slide_type": "slide"
    }
   },
   "source": [
    "This is an example of _multiple dispatch_, one of Julia's more wonderful features. See how the return value is different based on the input?"
   ]
  },
  {
   "cell_type": "code",
   "execution_count": 44,
   "id": "0684a9e3",
   "metadata": {},
   "outputs": [
    {
     "data": {
      "text/plain": [
       "2"
      ]
     },
     "execution_count": 44,
     "metadata": {},
     "output_type": "execute_result"
    }
   ],
   "source": [
    "afun(1) # This is calling afun with an Int type"
   ]
  },
  {
   "cell_type": "code",
   "execution_count": 45,
   "id": "a001c5ab",
   "metadata": {},
   "outputs": [
    {
     "data": {
      "text/plain": [
       "0.5"
      ]
     },
     "execution_count": 45,
     "metadata": {},
     "output_type": "execute_result"
    }
   ],
   "source": [
    "afun(1.0) # Calling with a `Float64` type"
   ]
  },
  {
   "cell_type": "markdown",
   "id": "d971777a",
   "metadata": {
    "slideshow": {
     "slide_type": "slide"
    }
   },
   "source": [
    "# What is `return`?\n",
    "\n",
    "`return` can be read as\n",
    "\n",
    "> Exit the function immediately! Give whatever called the function the thing to the right of `return`.\n",
    "\n",
    "For example:\n",
    "\n",
    "```julia\n",
    "function aces(x)\n",
    "    if x > 5\n",
    "        # This exits the function immediately!\n",
    "        return x + 5\n",
    "        \n",
    "        # Note that this occurs AFTER the return statement.\n",
    "        # This line will NEVER run.\n",
    "        println(x - 9)\n",
    "    end\n",
    "    \n",
    "    # If x <= 5, this line will run instead.\n",
    "    return x / 5\n",
    "end\n",
    "```"
   ]
  },
  {
   "cell_type": "markdown",
   "id": "bab07d0c",
   "metadata": {
    "slideshow": {
     "slide_type": "slide"
    }
   },
   "source": [
    "# Default return value\n",
    "\n",
    "If you don't write `return` at the end of a function, it will return the value of the last line.\n",
    "\n",
    "```julia\n",
    "function noreturn(a)\n",
    "    b = a % 2\n",
    "    \n",
    "    b # equivalent to writing return b in this case\n",
    "end\n",
    "```\n",
    "\n",
    "To see how this can change, look at the case where we only ever get `a` back:\n",
    "\n",
    "```julia\n",
    "function noreturn(a)\n",
    "    b = a % 2\n",
    "    \n",
    "    b # This line now means nothing, it is not the last line in the function\n",
    "    a\n",
    "end\n",
    "```"
   ]
  },
  {
   "cell_type": "markdown",
   "id": "82152c82",
   "metadata": {
    "slideshow": {
     "slide_type": "slide"
    }
   },
   "source": [
    "You can return whatever you want! \n",
    "\n",
    "If you separate your returned values with commas, you can get multiple values out of a function."
   ]
  },
  {
   "cell_type": "code",
   "execution_count": 30,
   "id": "a8f36fe9",
   "metadata": {
    "slideshow": {
     "slide_type": ""
    }
   },
   "outputs": [
    {
     "data": {
      "text/plain": [
       "twovals (generic function with 1 method)"
      ]
     },
     "execution_count": 30,
     "metadata": {},
     "output_type": "execute_result"
    }
   ],
   "source": [
    "twovals(a,b) = a*b, a/b, a+b, a-b"
   ]
  },
  {
   "cell_type": "code",
   "execution_count": 31,
   "id": "f53ba3c9",
   "metadata": {},
   "outputs": [
    {
     "data": {
      "text/plain": [
       "(2, 0.5, 3, -1)"
      ]
     },
     "execution_count": 31,
     "metadata": {},
     "output_type": "execute_result"
    }
   ],
   "source": [
    "twovals(1,2)"
   ]
  },
  {
   "cell_type": "markdown",
   "id": "929a23ff",
   "metadata": {
    "slideshow": {
     "slide_type": "slide"
    }
   },
   "source": [
    "# Tuples\n",
    "\n",
    "You may have noted that the return value of `twovals` has parentheses around it -- this is called a __tuple__. \n",
    "\n",
    "We can extract values from the tuple using bracket notation:\n",
    "\n",
    "```julia\n",
    "a_tuple = (5, 10, 15)\n",
    "a_tuple[1] # this is 5\n",
    "a_tuple[3] # this is 15\n",
    "```\n",
    "\n",
    "A tuple is\n",
    "\n",
    "- Immutable (can't change it, i.e. `x=(1,2,3); x[1] = 4` will throw an error)\n",
    "- Ordered\n",
    "- Fixed-length"
   ]
  },
  {
   "cell_type": "markdown",
   "id": "02c431b3",
   "metadata": {
    "slideshow": {
     "slide_type": "slide"
    }
   },
   "source": [
    "We can _unpack_ a tuple by writing assigning variables on the left in the same shape as the tuple.\n",
    "\n",
    "For example, with the tuple `(15, \"red\", 8)`, we can assign `a=15`, `b=\"red\"`, and `c=8`."
   ]
  },
  {
   "cell_type": "code",
   "execution_count": 33,
   "id": "86a331f6",
   "metadata": {},
   "outputs": [
    {
     "name": "stdout",
     "output_type": "stream",
     "text": [
      "8\n"
     ]
    }
   ],
   "source": [
    "a,b,c = (15, \"red\", 8)\n",
    "\n",
    "println(c)"
   ]
  },
  {
   "cell_type": "markdown",
   "id": "9ae1c0e6",
   "metadata": {
    "slideshow": {
     "slide_type": "slide"
    }
   },
   "source": [
    "# Named tuples\n",
    "\n",
    "You can also give names to each position of a named tuple -- `NamedTuples` are amazing and I will talk a lot more about them in the performant Julia workshop.\n",
    "\n",
    "Here's a brief intro:"
   ]
  },
  {
   "cell_type": "code",
   "execution_count": 121,
   "id": "739d3433",
   "metadata": {},
   "outputs": [
    {
     "data": {
      "text/plain": [
       "(thing1 = 'a', thing2 = 15, thing3 = [10, 9, 8])"
      ]
     },
     "execution_count": 121,
     "metadata": {},
     "output_type": "execute_result"
    }
   ],
   "source": [
    "namedtup = (thing1 = 'a', thing2 = 15, thing3 = [10,9,8])"
   ]
  },
  {
   "cell_type": "code",
   "execution_count": 123,
   "id": "367c7741",
   "metadata": {},
   "outputs": [
    {
     "data": {
      "text/plain": [
       "15"
      ]
     },
     "execution_count": 123,
     "metadata": {},
     "output_type": "execute_result"
    }
   ],
   "source": [
    "namedtup.thing2"
   ]
  },
  {
   "cell_type": "markdown",
   "id": "482e8c38",
   "metadata": {
    "slideshow": {
     "slide_type": "slide"
    }
   },
   "source": [
    "# Concept check!\n",
    "\n",
    "Write a function that accepts one argument. \n",
    "\n",
    "- If the argument is _positive_, return twice that argument AND the string `\"positive\"`.\n",
    "- If the argument is _negative_, return the __square__ of that argument AND the string `\"negative\"`. \n",
    "- If the argument is _zero_, return zero AND the string `\"zero\"`. "
   ]
  },
  {
   "cell_type": "markdown",
   "id": "d05bf97b",
   "metadata": {
    "slideshow": {
     "slide_type": "slide"
    }
   },
   "source": [
    "# Keywords\n",
    "\n",
    "You can allow functions to accept a _keyword_ argument, which is an argument you must specify by name when you call the function.\n",
    "\n",
    "Keyword arguments occur after a semicolon in the function definition:"
   ]
  },
  {
   "cell_type": "code",
   "execution_count": 36,
   "id": "240fde73",
   "metadata": {
    "slideshow": {
     "slide_type": "-"
    }
   },
   "outputs": [
    {
     "data": {
      "text/plain": [
       "f (generic function with 2 methods)"
      ]
     },
     "execution_count": 36,
     "metadata": {},
     "output_type": "execute_result"
    }
   ],
   "source": [
    "f(x; coef = 2.0) = x * coef"
   ]
  },
  {
   "cell_type": "markdown",
   "id": "5280314e",
   "metadata": {
    "slideshow": {
     "slide_type": "-"
    }
   },
   "source": [
    "We have assigned a default value to `coef`, so the following will work:"
   ]
  },
  {
   "cell_type": "code",
   "execution_count": 37,
   "id": "0060fe75",
   "metadata": {},
   "outputs": [
    {
     "data": {
      "text/plain": [
       "2.0"
      ]
     },
     "execution_count": 37,
     "metadata": {},
     "output_type": "execute_result"
    }
   ],
   "source": [
    "f(2)"
   ]
  },
  {
   "cell_type": "markdown",
   "id": "c51c5b48",
   "metadata": {
    "slideshow": {
     "slide_type": "slide"
    }
   },
   "source": [
    "Because we've specified a keyword argument, we can also override `coef` if we want another value than `2`:"
   ]
  },
  {
   "cell_type": "code",
   "execution_count": 38,
   "id": "8a95f638",
   "metadata": {
    "scrolled": true
   },
   "outputs": [
    {
     "data": {
      "text/plain": [
       "20"
      ]
     },
     "execution_count": 38,
     "metadata": {},
     "output_type": "execute_result"
    }
   ],
   "source": [
    "f(2; coef=10)"
   ]
  },
  {
   "cell_type": "markdown",
   "id": "23cd43d3",
   "metadata": {},
   "source": [
    "More on these later."
   ]
  },
  {
   "cell_type": "markdown",
   "id": "650d97e8",
   "metadata": {
    "slideshow": {
     "slide_type": "slide"
    }
   },
   "source": [
    "# Questions?"
   ]
  },
  {
   "cell_type": "markdown",
   "id": "e135a61a",
   "metadata": {
    "slideshow": {
     "slide_type": "slide"
    }
   },
   "source": [
    "# Array types\n",
    "\n",
    "Alright, we're all mathy people. We work with data, and that means we typically have lots and lots of numbers. \n",
    "\n",
    "Let's get some practice with how Julia thinks about vectors, matrices, and arrays!"
   ]
  },
  {
   "cell_type": "markdown",
   "id": "9de0b404",
   "metadata": {
    "slideshow": {
     "slide_type": "slide"
    }
   },
   "source": [
    "# Array types\n",
    "\n",
    "Vectors are created by surrounding some values with brackets `([1,2,3])` and separating the values with commas.\n",
    "\n",
    "```julia\n",
    "vector_var = [5,10,19]\n",
    "```\n",
    "\n",
    "Rectangular arrays have values within a row separated by __spaces__ and new columns indicated with a __semicolon__.\n",
    "\n",
    "```julia\n",
    "matrix_var = [1 2 3; 4 5 6]\n",
    "```"
   ]
  },
  {
   "cell_type": "markdown",
   "id": "f4c9b592",
   "metadata": {
    "slideshow": {
     "slide_type": "slide"
    }
   },
   "source": [
    "# Adding values to arrays\n",
    "\n",
    "You can expand arrays using `push!(vector, thing)`. \n",
    "\n",
    "The `!` at the end of the function name has no effect as far as Julia's compiler is concerned -- it is only a social convention to indicate that the function _mutates_ or _changes_ the input."
   ]
  },
  {
   "cell_type": "code",
   "execution_count": 62,
   "id": "4df846cd",
   "metadata": {},
   "outputs": [
    {
     "name": "stdout",
     "output_type": "stream",
     "text": [
      "[5, 6, 7, 10]\n"
     ]
    }
   ],
   "source": [
    "xs = [5,6,7]\n",
    "push!(xs, 10)\n",
    "\n",
    "println(xs)"
   ]
  },
  {
   "cell_type": "markdown",
   "id": "0477285d",
   "metadata": {
    "slideshow": {
     "slide_type": "slide"
    }
   },
   "source": [
    "# Convenience functions\n",
    "\n",
    "- `length(xs)` tells you how long `xs` is. More useful for vector types.\n",
    "- `size(xs)` tells you the size of `xs` in a tuple -- one entry for each dimension. More useful for multidimensional array types.\n",
    "- `zeros(N)` gives you a vector of zeros of length `N`. You can make it multidimensional by adding more arguments, i.e. `zeros(n1, n2, n3)` will provide a 3d array.\n",
    "    - `ones(args...)` is the same but with ones instead of zeros\n",
    "    - By default the type of `zeros(n)` is `Vector{Float64}`, but you can set it to something else: `zeros(Int, 5)` is all integers.\n",
    "- `rand(n)` is random uniform values\n",
    "- `randn(n)` is random values from a standard Normal."
   ]
  },
  {
   "cell_type": "markdown",
   "id": "8a46f210",
   "metadata": {
    "slideshow": {
     "slide_type": "slide"
    }
   },
   "source": [
    "# Extracting values from arrays\n",
    "\n",
    "We extract the value of an array using brackets:\n",
    "\n",
    "```julia\n",
    "xs = [50, 100, 150]\n",
    "println(xs[1]) # this will print 50\n",
    "```\n",
    "\n",
    "For multidimensional arrays, it's the common notation separated by commas:\n",
    "\n",
    "```julia\n",
    "M = [10 11 12; 20 21 22]\n",
    "M[2,2] # This is 21\n",
    "```"
   ]
  },
  {
   "cell_type": "markdown",
   "id": "7e950a25",
   "metadata": {
    "slideshow": {
     "slide_type": "slide"
    }
   },
   "source": [
    "# Getting ranges of values\n",
    "\n",
    "We can get slices of data from array types using colons.\n",
    "\n",
    "- `xs[5:end]` extracts the values of `xs` from index `5` all the way to the end of the vector. `end` is a special word here -- you may be used to using something like `xs[5:length(x)]`, which you can do, but Julia makes it easy.\n",
    "- `xs[:,1]` grabs all values of column `1`.\n",
    "- `xs[1,:]` grabs all values of row `1`."
   ]
  },
  {
   "cell_type": "markdown",
   "id": "e18fe643",
   "metadata": {
    "slideshow": {
     "slide_type": "slide"
    }
   },
   "source": [
    "# Setting ranges of values\n",
    "\n",
    "Everything above allows you to _set_ values instead by putting an equal sign to the right of the indexing operation."
   ]
  },
  {
   "cell_type": "code",
   "execution_count": 52,
   "id": "98f50c9c",
   "metadata": {},
   "outputs": [
    {
     "data": {
      "text/plain": [
       "5-element Vector{Float64}:\n",
       " 3.0\n",
       " 4.0\n",
       " 4.5\n",
       " 1.0\n",
       " 2.0"
      ]
     },
     "execution_count": 52,
     "metadata": {},
     "output_type": "execute_result"
    }
   ],
   "source": [
    "xs = zeros(5)\n",
    "\n",
    "xs[1] = 3\n",
    "xs[2:3] = [4,4.5]\n",
    "xs[4:end] = [1.0, 2.0]\n",
    "\n",
    "xs"
   ]
  },
  {
   "cell_type": "markdown",
   "id": "8c6625dc",
   "metadata": {
    "slideshow": {
     "slide_type": "slide"
    }
   },
   "source": [
    "# `map`\n",
    "\n",
    "`map` is a super common paradigm in many languages. It is how you apply a function to a set of inputs.\n",
    "\n",
    "The syntax is `map(function_name, things_to_input)`.\n",
    "\n",
    "`things_to_input` can be a lot of things:\n",
    "\n",
    "- Iterators, `map(f, 1:5)` returns `[f(1), f(2), f(3), f(4), f(4)]`.\n",
    "- Vectors, `map(f, [1,2,3,4,5])`\n",
    "- Ordered sets, dictionaries, etc. More on these later."
   ]
  },
  {
   "cell_type": "code",
   "execution_count": 64,
   "id": "b78a7ac1",
   "metadata": {},
   "outputs": [
    {
     "data": {
      "text/plain": [
       "3-element Vector{Int64}:\n",
       " 10\n",
       " 20\n",
       " 22"
      ]
     },
     "execution_count": 64,
     "metadata": {},
     "output_type": "execute_result"
    }
   ],
   "source": [
    "xs = [5, 10, 11]\n",
    "doubler(input) = 2*input\n",
    "\n",
    "map(doubler, xs)"
   ]
  },
  {
   "cell_type": "code",
   "execution_count": 65,
   "id": "abbcabd8",
   "metadata": {},
   "outputs": [
    {
     "data": {
      "text/plain": [
       "11-element Vector{Int64}:\n",
       " 20\n",
       " 22\n",
       " 24\n",
       " 26\n",
       " 28\n",
       " 30\n",
       " 32\n",
       " 34\n",
       " 36\n",
       " 38\n",
       " 40"
      ]
     },
     "execution_count": 65,
     "metadata": {},
     "output_type": "execute_result"
    }
   ],
   "source": [
    "map(doubler, 10:20)"
   ]
  },
  {
   "cell_type": "markdown",
   "id": "71184285",
   "metadata": {
    "slideshow": {
     "slide_type": "slide"
    }
   },
   "source": [
    "# Multiple input functions and `map`\n",
    "\n",
    "`map` only works with single-input functions -- if you have a function with multiple inputs, you'll need to either define a function that accepts one input, or write an __anonymous function__.\n",
    "\n",
    "An anonymous function looks like\n",
    "\n",
    "```julia\n",
    "x -> 2 * x\n",
    "```\n",
    "\n",
    "In the context of `map`, our `doubler` function from above could be rewritten as"
   ]
  },
  {
   "cell_type": "code",
   "execution_count": 58,
   "id": "2f58530b",
   "metadata": {},
   "outputs": [
    {
     "data": {
      "text/plain": [
       "3-element Vector{Int64}:\n",
       " 10\n",
       " 20\n",
       " 22"
      ]
     },
     "execution_count": 58,
     "metadata": {},
     "output_type": "execute_result"
    }
   ],
   "source": [
    "xs = [5, 10, 11]\n",
    "\n",
    "map(x -> 2*x, xs)"
   ]
  },
  {
   "cell_type": "markdown",
   "id": "74bf9d6c",
   "metadata": {
    "slideshow": {
     "slide_type": "slide"
    }
   },
   "source": [
    "# Multiple inputs\n",
    "\n",
    "Anonymous functions are super useful when you want to `map` for functions with a lot of inputs. "
   ]
  },
  {
   "cell_type": "code",
   "execution_count": 60,
   "id": "9c2e7856",
   "metadata": {},
   "outputs": [
    {
     "data": {
      "text/plain": [
       "4-element Vector{Float64}:\n",
       " 0.3333333333333333\n",
       " 1.3333333333333333\n",
       " 3.0\n",
       " 5.333333333333333"
      ]
     },
     "execution_count": 60,
     "metadata": {},
     "output_type": "execute_result"
    }
   ],
   "source": [
    "two_input_function(x, y) = x^2 / y\n",
    "\n",
    "map(m -> two_input_function(m, 3), [1,2,3,4])"
   ]
  },
  {
   "cell_type": "markdown",
   "id": "0fff2ce4",
   "metadata": {
    "slideshow": {
     "slide_type": "slide"
    }
   },
   "source": [
    "# Broadcasting\n",
    "\n",
    "If you come from other languages, you might be used to trying real hard to _vectorize_ your functions for performance. \n",
    "\n",
    "Julia makes this hilariously easy using __dot syntax__. Adding a dot between the function name and Julia will essentially call `map` on your behalf."
   ]
  },
  {
   "cell_type": "code",
   "execution_count": 53,
   "id": "2dc7e718",
   "metadata": {},
   "outputs": [
    {
     "data": {
      "text/plain": [
       "3-element Vector{Float64}:\n",
       " 1.0\n",
       " 2.0\n",
       " 3.0"
      ]
     },
     "execution_count": 53,
     "metadata": {},
     "output_type": "execute_result"
    }
   ],
   "source": [
    "a = [1.0,2.0,3.0]"
   ]
  },
  {
   "cell_type": "code",
   "execution_count": 55,
   "id": "cf115821",
   "metadata": {},
   "outputs": [
    {
     "data": {
      "text/plain": [
       "3-element Vector{Float64}:\n",
       " 0.8414709848078965\n",
       " 0.9092974268256817\n",
       " 0.1411200080598672"
      ]
     },
     "execution_count": 55,
     "metadata": {},
     "output_type": "execute_result"
    }
   ],
   "source": [
    "sin.(a)"
   ]
  },
  {
   "cell_type": "markdown",
   "id": "df5ffbeb",
   "metadata": {
    "slideshow": {
     "slide_type": "slide"
    }
   },
   "source": [
    "# Concept check!\n",
    "\n",
    "We'll need a new package for this one. Go to your REPL and type `] add UnicodePlots`.\n",
    "\n",
    "We're going to plot a function we define:\n",
    "\n",
    "```julia\n",
    "function quadratic(x)\n",
    "    return x^2\n",
    "end\n",
    "```\n",
    "\n",
    "Create two variables:\n",
    "\n",
    "1. `xs`, representing the _range_ of this function from -10 to 10.\n",
    "2. `ys`, representing the _domain_ of this function evaluated using `xs`.\n",
    "\n",
    "Both `map` and dot syntax should get you here.\n",
    "\n",
    "Plot the quadratic function using the code\n",
    "\n",
    "```julia\n",
    "using UnicodePlots\n",
    "display(lineplot(xs, ys))\n",
    "```"
   ]
  },
  {
   "cell_type": "markdown",
   "id": "1ac137ee",
   "metadata": {
    "slideshow": {
     "slide_type": "slide"
    }
   },
   "source": [
    "# Linear algebra\n",
    "\n",
    "Econs LOVE linear algebra for some reason (nerds) so I figured I had to show you how to use it.\n",
    "\n",
    "Julia was originally intended to be a scientific computing language, so it comes with a very robust suite of linear algebra tools."
   ]
  },
  {
   "cell_type": "markdown",
   "id": "6df5f1ea",
   "metadata": {
    "slideshow": {
     "slide_type": "slide"
    }
   },
   "source": [
    "# Linear algebra functions\n",
    "\n",
    "If you import the `LinearAlgebra` module, you'll get a bunch of handy tools:\n",
    "\n",
    "- `inv` for matrix inversions\n",
    "- `det` for determinant\n",
    "- `tr` for trace\n",
    "- `eigvals` and `eigvecs` for eigen values and vectors, respectively.\n",
    "- `factorize` for more efficient representations of your matrix (upper, lower, diagonal, etc.)\n",
    "- Many more [here](https://docs.julialang.org/en/v1/stdlib/LinearAlgebra/)."
   ]
  },
  {
   "cell_type": "markdown",
   "id": "80357a79",
   "metadata": {
    "slideshow": {
     "slide_type": "slide"
    }
   },
   "source": [
    "# OLS\n",
    "\n",
    "I imagine many people in the audience are familiar with the normal equations for OLS.\n",
    "\n",
    "Consider the specification\n",
    "\n",
    "$$\n",
    "Y = X \\beta + \\epsilon\n",
    "$$\n",
    "\n",
    "We know that the least squares estimate of $\\beta$ is \n",
    "\n",
    "$$\n",
    "\\hat\\beta = (X'X)^{-1}X'Y\n",
    "$$\n",
    "\n",
    "Let's give it a shot."
   ]
  },
  {
   "cell_type": "code",
   "execution_count": 92,
   "id": "2e73169e",
   "metadata": {
    "slideshow": {
     "slide_type": "slide"
    }
   },
   "outputs": [],
   "source": [
    "# Import the linear algebra functions.\n",
    "using LinearAlgebra\n",
    "\n",
    "# Create a 100x3 matrix of standard Gaussians\n",
    "X = randn(100, 3)\n",
    "X[:,1] = ones(size(X, 1)) # Add a constant column.\n",
    "\n",
    "# Define coefficient: intercept, coef on column 2, coef on column 3.\n",
    "β = [5.0, 2.0, -1.5]\n",
    "Y = X*β + randn(size(X, 1)); # The semicolon at the end prevents this line from displaying"
   ]
  },
  {
   "cell_type": "code",
   "execution_count": 93,
   "id": "a97d8c89",
   "metadata": {
    "slideshow": {
     "slide_type": "slide"
    }
   },
   "outputs": [
    {
     "data": {
      "text/plain": [
       "3×3 Matrix{Float64}:\n",
       " 100.0        9.75438   10.0383\n",
       "   9.75438  103.003      7.40139\n",
       "  10.0383     7.40139  103.424"
      ]
     },
     "execution_count": 93,
     "metadata": {},
     "output_type": "execute_result"
    }
   ],
   "source": [
    "# Matrix squaring\n",
    "X'X"
   ]
  },
  {
   "cell_type": "code",
   "execution_count": 95,
   "id": "487b4049",
   "metadata": {
    "slideshow": {
     "slide_type": "slide"
    }
   },
   "outputs": [
    {
     "data": {
      "text/plain": [
       "3-element Vector{Float64}:\n",
       "  5.054466296266709\n",
       "  2.092546531291758\n",
       " -1.4999947818181325"
      ]
     },
     "execution_count": 95,
     "metadata": {},
     "output_type": "execute_result"
    }
   ],
   "source": [
    "# OLS normal equations\n",
    "β_hat = inv(X'X)X'Y"
   ]
  },
  {
   "cell_type": "code",
   "execution_count": 99,
   "id": "65110751",
   "metadata": {},
   "outputs": [
    {
     "data": {
      "text/plain": [
       "85.53764820852408"
      ]
     },
     "execution_count": 99,
     "metadata": {},
     "output_type": "execute_result"
    }
   ],
   "source": [
    "# Making predictions using β_hat\n",
    "Y_hat = X*β_hat\n",
    "\n",
    "# Calculating the SSE\n",
    "e = Y_hat - Y\n",
    "sse = e'e"
   ]
  },
  {
   "cell_type": "markdown",
   "id": "79ec6ea1",
   "metadata": {
    "slideshow": {
     "slide_type": "slide"
    }
   },
   "source": [
    "# Concept check!\n",
    "\n",
    "Let's do something cool -- let's roll our own little estimator that spits out (a) the coefficient estimates, (b) the variance covariance matrix of beta hat, and (c) t-stats (against null $\\beta_k=0 \\forall k$) for the coefficient estimator.\n",
    "\n",
    "Recall that\n",
    "\n",
    "\\begin{align*}\n",
    "\\hat \\beta &= (X'X)^{-1}X'Y \\\\\n",
    "s^2 &= \\frac{(\\hat Y - Y)'(\\hat Y - Y)}{n - K} \\\\\n",
    "\\Sigma^\\text{SE} &= s^2 (X'X)^{-1} \\\\ \n",
    "t_k &= \\frac{\\hat\\beta_k - \\beta_k}{\\Sigma^\\text{SE}_{kk}}\n",
    "\\end{align*}\n",
    "\n",
    "for number of observations $n$ and number of variables $K$. You can get `n, K = size(X)`.\n",
    "\n",
    "I will put bare-bones code that only has the coefficient estimates in the chat!"
   ]
  },
  {
   "cell_type": "code",
   "execution_count": 126,
   "id": "7e3c70f2",
   "metadata": {
    "slideshow": {
     "slide_type": "skip"
    }
   },
   "outputs": [
    {
     "data": {
      "text/plain": [
       "3-element Vector{Float64}:\n",
       "  5.191666792110101\n",
       "  1.9862935723005717\n",
       " -1.3967602021330958"
      ]
     },
     "execution_count": 126,
     "metadata": {},
     "output_type": "execute_result"
    }
   ],
   "source": [
    "# Create a 100x3 matrix of standard Gaussians\n",
    "X = randn(100, 3)\n",
    "X[:,1] = ones(size(X, 1)) # Add a constant column.\n",
    "\n",
    "# Define coefficient: intercept, coef on column 2, coef on column 3.\n",
    "β = [5.0, 2.0, -1.5]\n",
    "Y = X*β + randn(size(X, 1)); # The semicolon at the end prevents this line from displaying\n",
    "\n",
    "# Expand this function to return\n",
    "# 1. beta_hat\n",
    "# 2. the variance covariance matrix of beta_hat\n",
    "# 3. t-stats for beta_hat\n",
    "function ols(X, Y)\n",
    "    beta_hat = inv(X'X)X'Y\n",
    "end\n",
    "\n",
    "ols(X, Y)"
   ]
  },
  {
   "cell_type": "code",
   "execution_count": 127,
   "id": "4529c162",
   "metadata": {
    "slideshow": {
     "slide_type": "skip"
    }
   },
   "outputs": [
    {
     "data": {
      "text/plain": [
       "([5.191666792110101, 1.9862935723005717, -1.3967602021330958], [0.009569991304587327 -0.0015455411976054343 -0.0012096103978579446; -0.0015455411976054343 0.011100275357529788 -0.0010565846023461198; -0.0012096103978579446 -0.0010565846023461198 0.008087658740792477], [542.4944105875521, 178.9409278890712, -172.7026630201552])"
      ]
     },
     "execution_count": 127,
     "metadata": {},
     "output_type": "execute_result"
    }
   ],
   "source": [
    "# An answer key\n",
    "function ols(X, Y)\n",
    "    beta_hat = inv(X'X)X'Y\n",
    "    Y_hat = X*beta_hat\n",
    "    e = Y_hat - Y\n",
    "    \n",
    "    n = size(X, 1)\n",
    "    K = size(X, 2)\n",
    "    \n",
    "    s2 = e'e / (n-K)\n",
    "    sigma_se = s2 * inv(X'X)\n",
    "    t = beta_hat ./ diag(sigma_se)\n",
    "    \n",
    "    return beta_hat, sigma_se, t\n",
    "end\n",
    "\n",
    "beta_hat, sigma_se, t = ols(X, Y)"
   ]
  },
  {
   "cell_type": "markdown",
   "id": "bcebcb08",
   "metadata": {
    "slideshow": {
     "slide_type": "slide"
    }
   },
   "source": [
    "# Questions?"
   ]
  },
  {
   "cell_type": "markdown",
   "id": "b63fced5",
   "metadata": {
    "slideshow": {
     "slide_type": "slide"
    }
   },
   "source": [
    "# Types\n",
    "\n",
    "Julia does not have \"objects\" like you might be familiar with in R or Python. \n",
    "\n",
    "Julia has types. Everything in Julia has a type that may be a subtype of something else.\n",
    "\n",
    "You can actually have long chains of types. For example, the subgraph of types for `Int64` is"
   ]
  },
  {
   "cell_type": "code",
   "execution_count": 149,
   "id": "6a2a6032",
   "metadata": {},
   "outputs": [
    {
     "data": {
      "text/plain": [
       "true"
      ]
     },
     "execution_count": 149,
     "metadata": {},
     "output_type": "execute_result"
    }
   ],
   "source": [
    "# This line actually returns true/false -- the <: operator says \"left is a subtype of right\"\n",
    "Int64 <: Signed <: Integer <: Real <: Number <: Any"
   ]
  },
  {
   "cell_type": "markdown",
   "id": "431dc16c",
   "metadata": {
    "slideshow": {
     "slide_type": "slide"
    }
   },
   "source": [
    "# Type annotations\n",
    "\n",
    "You will often see code like `thing::NameOfType`. \n",
    "\n",
    "This is how you tell Julia's compiler `thing` should be of type `NameOfType` or a descendant of `NameOfType`. A shorthand operator for this is `typeof(thing) <: NameOfType`. If this does not evaluate to true, Julia will get mad at you."
   ]
  },
  {
   "cell_type": "code",
   "execution_count": 137,
   "id": "ea909094",
   "metadata": {
    "scrolled": true
   },
   "outputs": [
    {
     "data": {
      "text/plain": [
       "\"howdy\""
      ]
     },
     "execution_count": 137,
     "metadata": {},
     "output_type": "execute_result"
    }
   ],
   "source": [
    "\"howdy\"::String"
   ]
  },
  {
   "cell_type": "code",
   "execution_count": 136,
   "id": "a0eb8b36",
   "metadata": {},
   "outputs": [
    {
     "ename": "LoadError",
     "evalue": "TypeError: in typeassert, expected Float64, got a value of type Int64",
     "output_type": "error",
     "traceback": [
      "TypeError: in typeassert, expected Float64, got a value of type Int64",
      "",
      "Stacktrace:",
      " [1] top-level scope",
      "   @ In[136]:2",
      " [2] eval",
      "   @ ./boot.jl:360 [inlined]",
      " [3] include_string(mapexpr::typeof(REPL.softscope), mod::Module, code::String, filename::String)",
      "   @ Base ./loading.jl:1116"
     ]
    }
   ],
   "source": [
    "# Errors because typeof(1) is Int64, not Float64\n",
    "1::Float64"
   ]
  },
  {
   "cell_type": "code",
   "execution_count": 139,
   "id": "a474067d",
   "metadata": {},
   "outputs": [
    {
     "data": {
      "text/plain": [
       "1"
      ]
     },
     "execution_count": 139,
     "metadata": {},
     "output_type": "execute_result"
    }
   ],
   "source": [
    "# Real is a more general type, so you won't get an error here:\n",
    "1::Real"
   ]
  },
  {
   "cell_type": "markdown",
   "id": "a8b259d1",
   "metadata": {
    "slideshow": {
     "slide_type": "slide"
    }
   },
   "source": [
    "# Type annotations\n",
    "\n",
    "You can use type annotations to explicitly say what you think a type should be. In idiomatic Julia, it's not really common to do so outside of \n",
    "\n",
    "1. The argument types, i.e. \n",
    "\n",
    "```julia\n",
    "f(x::Int, y::Float64) = ...\n",
    "```\n",
    "\n",
    "2. The return value:\n",
    "\n",
    "```julia\n",
    "f(x::Float64, y::Float64) = (x+y)::Float64\n",
    "```\n",
    "\n",
    "In case 2, the compiler is typically able to infer the type of `(x+y)` without you needing to do the annotation. \n",
    "\n",
    "My recommendation? Keep type annotations to a **minimum**!"
   ]
  },
  {
   "cell_type": "markdown",
   "id": "e0467b2c",
   "metadata": {
    "slideshow": {
     "slide_type": "slide"
    }
   },
   "source": [
    "# Abstract types\n",
    "\n",
    "The core atom of Julia's type system is called an __abstract type__.\n",
    "\n",
    "An abstract type tells us about the _class of behaviors_ we should expect.\n",
    "\n",
    "In the case of integers, we know that `Integer` is an abstract type telling us that, whatever subtype we get (signed, unsigned, 8/16/32/64/128 bits, etc.), we can do all the things with the values that we do with other integers.\n",
    "\n",
    "Let me cook up an example for you to see how this works."
   ]
  },
  {
   "cell_type": "markdown",
   "id": "caf7b35f",
   "metadata": {
    "slideshow": {
     "slide_type": "slide"
    }
   },
   "source": [
    "# Abstract types & structs\n",
    "\n",
    "Abstract types cannot be __instantiated__, meaning we can't ever create them. They are just a way for us to organize the types we have.\n",
    "\n",
    "The things we _can_ instantiate are called __structs__. A struct is a wrapper around some fields. These are also known as _composite types_, _records_, and sometimes _objects_.\n",
    "\n",
    "Here is an example of how we might define a struct (with no supertype)."
   ]
  },
  {
   "cell_type": "code",
   "execution_count": 159,
   "id": "76895ee5",
   "metadata": {
    "slideshow": {
     "slide_type": "slide"
    }
   },
   "outputs": [
    {
     "data": {
      "text/plain": [
       "SomeStuff(0.5)"
      ]
     },
     "execution_count": 159,
     "metadata": {},
     "output_type": "execute_result"
    }
   ],
   "source": [
    "struct SomeStuff\n",
    "    field::Float64\n",
    "end\n",
    "\n",
    "some_stuff = SomeStuff(0.5)"
   ]
  },
  {
   "cell_type": "code",
   "execution_count": 160,
   "id": "5ea94b0f",
   "metadata": {},
   "outputs": [
    {
     "data": {
      "text/plain": [
       "0.5"
      ]
     },
     "execution_count": 160,
     "metadata": {},
     "output_type": "execute_result"
    }
   ],
   "source": [
    "some_stuff.field"
   ]
  },
  {
   "cell_type": "markdown",
   "id": "62f6596d",
   "metadata": {
    "slideshow": {
     "slide_type": "slide"
    }
   },
   "source": [
    "Now, let me show you how we can combine __structs__ (things we can actually make) and __abstract types__ (concepts that organize our structs).\n",
    "\n",
    "I'm going to wrap these types in a `module`, which you can think of as a little library of types and functions that serve a specific purpose."
   ]
  },
  {
   "cell_type": "code",
   "execution_count": 2,
   "id": "3c79abde",
   "metadata": {
    "slideshow": {
     "slide_type": "slide"
    }
   },
   "outputs": [
    {
     "name": "stderr",
     "output_type": "stream",
     "text": [
      "WARNING: replacing module VehicleTypes.\n"
     ]
    },
    {
     "data": {
      "text/plain": [
       "Main.VehicleTypes"
      ]
     },
     "execution_count": 2,
     "metadata": {},
     "output_type": "execute_result"
    }
   ],
   "source": [
    "module VehicleTypes\n",
    "\n",
    "# Our top level type\n",
    "abstract type MobilityDevice end\n",
    "\n",
    "# Subtypes for car/bicycle\n",
    "abstract type Car <: MobilityDevice end\n",
    "abstract type Bicycle <: MobilityDevice end\n",
    "\n",
    "# Subtypes for car\n",
    "struct Combustion <: Car \n",
    "    gallons::Float64\n",
    "    mpg::Float64\n",
    "end\n",
    "struct Electric <: Car \n",
    "    emiles::Int64\n",
    "end\n",
    "\n",
    "# Subtypes for bicycle\n",
    "struct Road <: Bicycle\n",
    "    purchase_cost::Float64\n",
    "end\n",
    "struct Mountain <: Bicycle\n",
    "    maintenance_cost::Float64\n",
    "end\n",
    "\n",
    "# Make our types available outside the module\n",
    "export Electric, Combustion, \n",
    "    Road, Mountain, \n",
    "    Car, Bicycle, \n",
    "    MobilityDevice\n",
    "\n",
    "end"
   ]
  },
  {
   "cell_type": "code",
   "execution_count": 3,
   "id": "0aa36ad5",
   "metadata": {
    "slideshow": {
     "slide_type": "slide"
    }
   },
   "outputs": [],
   "source": [
    "# Import the types we just made\n",
    "using Main.VehicleTypes"
   ]
  },
  {
   "cell_type": "markdown",
   "id": "b5ea2a3b",
   "metadata": {
    "slideshow": {
     "slide_type": "slide"
    }
   },
   "source": [
    "Now let's _instantiate_ some of the structs we made (`Electric`, `Combustion`, `Road`, `Mountain`)"
   ]
  },
  {
   "cell_type": "code",
   "execution_count": 4,
   "id": "2f45b4b7",
   "metadata": {
    "slideshow": {
     "slide_type": "slide"
    }
   },
   "outputs": [
    {
     "data": {
      "text/plain": [
       "Mountain(49.99)"
      ]
     },
     "execution_count": 4,
     "metadata": {},
     "output_type": "execute_result"
    }
   ],
   "source": [
    "electric_car = Electric(225.0)\n",
    "ice_car = Combustion(11.0, 21.0) # just shy of an 11 gallon tank\n",
    "fast_bike = Road(1500.99)\n",
    "cool_bike = Mountain(49.99)"
   ]
  },
  {
   "cell_type": "code",
   "execution_count": 5,
   "id": "fa83f144",
   "metadata": {
    "slideshow": {
     "slide_type": "slide"
    }
   },
   "outputs": [
    {
     "data": {
      "text/plain": [
       "5-element Vector{Bool}:\n",
       " 1\n",
       " 1\n",
       " 1\n",
       " 1\n",
       " 0"
      ]
     },
     "execution_count": 5,
     "metadata": {},
     "output_type": "execute_result"
    }
   ],
   "source": [
    "# Which ones move?\n",
    "moves(thing::MobilityDevice) = true\n",
    "moves(thing) = false # this is equivalent to moves(thing::Any)\n",
    "\n",
    "map(moves, [electric_car, ice_car, fast_bike, cool_bike, \"hats\"])"
   ]
  },
  {
   "cell_type": "code",
   "execution_count": 6,
   "id": "4f3fd284",
   "metadata": {
    "slideshow": {
     "slide_type": "slide"
    }
   },
   "outputs": [
    {
     "data": {
      "text/plain": [
       "4-element Vector{Bool}:\n",
       " 0\n",
       " 0\n",
       " 1\n",
       " 1"
      ]
     },
     "execution_count": 6,
     "metadata": {},
     "output_type": "execute_result"
    }
   ],
   "source": [
    "# Check which ones are human powered\n",
    "human_powered(thing::Car) = false\n",
    "human_powered(thing::Bicycle) = true\n",
    "\n",
    "map(human_powered, [electric_car, ice_car, fast_bike, cool_bike])"
   ]
  },
  {
   "cell_type": "code",
   "execution_count": 7,
   "id": "7a4ace8a",
   "metadata": {
    "slideshow": {
     "slide_type": "slide"
    }
   },
   "outputs": [
    {
     "data": {
      "text/plain": [
       "2-element Vector{Real}:\n",
       " 225\n",
       " 231.0"
      ]
     },
     "execution_count": 7,
     "metadata": {},
     "output_type": "execute_result"
    }
   ],
   "source": [
    "# How far can we go?\n",
    "distance_avail(thing::Electric) = thing.emiles\n",
    "distance_avail(thing::Combustion) = thing.gallons * thing.mpg\n",
    "\n",
    "map(distance_avail, [electric_car, ice_car])"
   ]
  },
  {
   "cell_type": "code",
   "execution_count": 10,
   "id": "3c027359",
   "metadata": {
    "slideshow": {
     "slide_type": "slide"
    }
   },
   "outputs": [
    {
     "data": {
      "text/plain": [
       "6-element Vector{Car}:\n",
       " Combustion(10.0, 15.0)\n",
       " Combustion(13.0, 12.0)\n",
       " Combustion(11.0, 32.0)\n",
       " Electric(222)\n",
       " Electric(224)\n",
       " Electric(312)"
      ]
     },
     "execution_count": 10,
     "metadata": {},
     "output_type": "execute_result"
    }
   ],
   "source": [
    "# Which car should I buy, using only distance as my criteria?\n",
    "function which_car(cars::Vector{<:Car})\n",
    "    distances = map(distance_avail, cars)\n",
    "    dist, position = findmax(distances)\n",
    "    return cars[position]\n",
    "end\n",
    "\n",
    "cars = [\n",
    "    Combustion(10, 15),\n",
    "    Combustion(13, 12),\n",
    "    Combustion(11, 32),\n",
    "    Electric(222),\n",
    "    Electric(224),\n",
    "    Electric(312)\n",
    "]"
   ]
  },
  {
   "cell_type": "code",
   "execution_count": 14,
   "id": "446f11c5",
   "metadata": {
    "slideshow": {
     "slide_type": "slide"
    }
   },
   "outputs": [
    {
     "data": {
      "text/plain": [
       "Combustion(11.0, 32.0)"
      ]
     },
     "execution_count": 14,
     "metadata": {},
     "output_type": "execute_result"
    }
   ],
   "source": [
    "# Let's call it! What car should I buy?\n",
    "best_car = which_car(cars)"
   ]
  },
  {
   "cell_type": "markdown",
   "id": "01d3e450",
   "metadata": {
    "slideshow": {
     "slide_type": "slide"
    }
   },
   "source": [
    "# Multiple dispatch\n",
    "\n",
    "Everything I've done above is an example of __multiple dispatch__. We defined a hierarchy of types, and defined functions that\n",
    "\n",
    "1. Operated differently on different types\n",
    "2. Operated differently at different _levels_ of types\n",
    "\n",
    "Multiple dispatch turns out to be an amazing tool -- you can define different functions for different inputs that use the same name!"
   ]
  }
 ],
 "metadata": {
  "celltoolbar": "Slideshow",
  "kernelspec": {
   "display_name": "Julia 1.6.5",
   "language": "julia",
   "name": "julia-1.6"
  },
  "language_info": {
   "file_extension": ".jl",
   "mimetype": "application/julia",
   "name": "julia",
   "version": "1.6.5"
  }
 },
 "nbformat": 4,
 "nbformat_minor": 5
}
