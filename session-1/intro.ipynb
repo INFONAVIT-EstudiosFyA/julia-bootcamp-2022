{
 "cells": [
  {
   "cell_type": "markdown",
   "id": "c290548d",
   "metadata": {
    "slideshow": {
     "slide_type": "slide"
    }
   },
   "source": [
    "# Julia for Economics Bootcamp\n",
    "\n",
    "## Session 1: Julia Basics\n",
    "\n",
    "### Cameron Pfiffer (cpfiffer@stanford.edu)"
   ]
  },
  {
   "cell_type": "markdown",
   "id": "09d8ff99",
   "metadata": {
    "slideshow": {
     "slide_type": "slide"
    }
   },
   "source": [
    "# Who am I?\n",
    "\n",
    "My name is Cameron Pfiffer. I'm a visiting PhD student in finance from the University of Oregon. \n",
    "\n",
    "In my research, I mostly work on anything computational, so Bayesian methods, applied metrics, macroeconomics, etc. I really like computers."
   ]
  },
  {
   "cell_type": "markdown",
   "id": "f775abcf",
   "metadata": {
    "slideshow": {
     "slide_type": "slide"
    }
   },
   "source": [
    "# Why does anything I say mean anything?\n",
    "\n",
    "I've been a core developer of Turing.jl and its sattelite packages for four years. Turing.jl is a package for probabilistic programming written in Julia. \n",
    "\n",
    "I've written oodles of Julia code and consider myself reasonably good at producing **performant**, **idiomatic**, and **easily-read** Julia code."
   ]
  },
  {
   "cell_type": "markdown",
   "id": "9d308d0d",
   "metadata": {
    "slideshow": {
     "slide_type": "slide"
    }
   },
   "source": [
    "## Packages I work on\n",
    "\n",
    "- [Turing](https://turing.ml/stable/) for dynamic probabilistic programming\n",
    "- [AbstractMCMC](https://github.com/TuringLang/AbstractMCMC.jl), interface methods for MCMC methods\n",
    "- [AdvancedMH](https://github.com/TuringLang/AdvancedMH.jl), quick and flexible Metropolis-Hastings methods and their extensions\n",
    "- [MCMCChains](https://github.com/TuringLang/AdvancedMH.jl), tools for storing and analayzing MCMC posterior samples\n",
    "- Lots of little private codebases\n",
    "- Others as needed!"
   ]
  },
  {
   "cell_type": "markdown",
   "id": "8148600a",
   "metadata": {
    "slideshow": {
     "slide_type": "slide"
    }
   },
   "source": [
    "# What is this series?\n",
    "\n",
    "I'm going to be presenting one workshop a week. Topics are tailored towards researchers who need to work with non-standard statistical methods or computational tools.\n",
    "\n",
    "- Julia Basics (today)\n",
    "- Parallelization for Economists (Februrary)\n",
    "- Optimization and Automatic Differentiation (March)\n",
    "- Performant Programming and Best Practices (April)\n",
    "- Bayesian Inference and Probabilistic Programming (May)\n",
    "\n",
    "**If there is something you want to know how to do, please contact me!**"
   ]
  },
  {
   "cell_type": "markdown",
   "id": "75032bcd",
   "metadata": {
    "slideshow": {
     "slide_type": "slide"
    }
   },
   "source": [
    "# What is the structure of each session?\n",
    "\n",
    "I will lecture on a specific concept for 10-15 minutes and then provide you small practice tasks to solidify your learning."
   ]
  },
  {
   "cell_type": "markdown",
   "id": "e2dcc6e2",
   "metadata": {
    "slideshow": {
     "slide_type": "slide"
    }
   },
   "source": [
    "During the practice tasks, you will have access to breakout rooms of different interest levels according to how interested you are in completing the task:\n",
    "\n",
    "- **Nerd** (gotta do it, want to be around others who are interested in completing the task)\n",
    "- **Geek** (mildly interested, unphased if you don't complete it, more solo-work oriented)\n",
    "- **Dork** (if you just want to disappear and not write any code)\n",
    "\n",
    "At the end of each concept check I will bring everyone back together and go through an answer live."
   ]
  },
  {
   "cell_type": "markdown",
   "id": "4967cabc",
   "metadata": {
    "slideshow": {
     "slide_type": "slide"
    }
   },
   "source": [
    "We will have a ten minute break each hour, with a fifteen minute break at 10am.\n",
    "\n",
    "At noon, I will provide you a small project that you should be able to accomplish within an hour. I will be available to provide guidance or suggestions and answer questions."
   ]
  },
  {
   "cell_type": "markdown",
   "id": "6730f758",
   "metadata": {
    "slideshow": {
     "slide_type": "slide"
    }
   },
   "source": [
    "# House rules: Zoom\n",
    "\n",
    "Since we are unfortunately limited to Zoom, I wanted to outline workshop behavior to make sure we have a productive class.\n",
    "\n",
    "1. **Please speak up!** I am happy to be interrupted! \n",
    "2. If you don't want to speak up, **please put your questions in the chat**. Someone will be available to answer smaller questions, or to relay them to me if they are more complex.\n",
    "\n",
    "I prefer interactive classes!"
   ]
  },
  {
   "cell_type": "markdown",
   "id": "abaddb59",
   "metadata": {
    "slideshow": {
     "slide_type": "slide"
    }
   },
   "source": [
    "# House rules: \"stupid questions\"\n",
    "\n",
    "Do not start a sentence with \"Maybe this is a stupid question, but...\"\n",
    "\n",
    "There are **literally zero stupid questions**. \n",
    "\n",
    "Programming is suffering and I'm here to make it palatable -- please please **PLEASE** ask me if you start to feel yourself get off track."
   ]
  },
  {
   "cell_type": "markdown",
   "id": "0f29da49",
   "metadata": {
    "slideshow": {
     "slide_type": "slide"
    }
   },
   "source": [
    "Best case scenario, everyone else is confused and asking the question solves a bunch of problems. \n",
    "\n",
    "Worst case scenario, you yourself become less confused and other people concretize their understandings as well!"
   ]
  },
  {
   "cell_type": "markdown",
   "id": "b0307461",
   "metadata": {
    "slideshow": {
     "slide_type": "slide"
    }
   },
   "source": [
    "# My manner of speech\n",
    "\n",
    "When I am excited, like right now, I tend to \n",
    "\n",
    "- Talk fast\n",
    "- Use idioms\n",
    "- Use slang\n",
    "\n",
    "and this can be difficult to follow for non-native English speakers.\n",
    "\n",
    "Please let me know if I slip up!"
   ]
  },
  {
   "cell_type": "markdown",
   "id": "7e17198d",
   "metadata": {
    "slideshow": {
     "slide_type": "slide"
    }
   },
   "source": [
    "# What are we doing today?\n",
    "\n",
    "- What is Julia?\n",
    "- How to install Julia\n",
    "- How to write code in Julia\n",
    "- Julia syntax \n",
    "    - Variables, operators, language primitives\n",
    "    - Functions\n",
    "    - Array types, broadcasting\n",
    "    - Control flow, breaking bad habits from R/Stata/Matlab\n",
    "    - Types\n",
    "    - Julia's superpower, **multiple dispatch**!\n",
    "- Core package tour\n",
    "    - CSV and DataFrames (awesome data goon tools)\n",
    "    - FixedEffectModels (fixed effects, clustering, IVs, etc.)\n",
    "    - Visualization\n",
    "- Maximum likelihood (time permitting)"
   ]
  },
  {
   "cell_type": "markdown",
   "id": "e2d1ad2e",
   "metadata": {
    "slideshow": {
     "slide_type": "slide"
    }
   },
   "source": [
    "# Questions before we start?"
   ]
  },
  {
   "cell_type": "markdown",
   "id": "28fb1ce1",
   "metadata": {
    "slideshow": {
     "slide_type": "slide"
    }
   },
   "source": [
    "# Let's gooOoooOooooooOOOooo\n",
    "\n",
    "![](https://media.giphy.com/media/q1kBdDry3xudsp0DDm/giphy.gif)"
   ]
  },
  {
   "cell_type": "markdown",
   "id": "ccdbacab",
   "metadata": {
    "slideshow": {
     "slide_type": "slide"
    }
   },
   "source": [
    "# Disclaimer!\n",
    "\n",
    "- I am not a salesman\n",
    "- Julia is one of many languages\n",
    "- Julia just happens to be a great tool\n",
    "- All languages are tools, use what works \n",
    "- I will not indulge in your Stata/R flame war because that's where we all lose\n",
    "    - Stata does make me mad though so ask questions about it at your own risk\n",
    "- Use Julia when (a) it is appropriate or (b) when you want to work with it"
   ]
  },
  {
   "cell_type": "markdown",
   "id": "83b176a8",
   "metadata": {
    "slideshow": {
     "slide_type": "slide"
    }
   },
   "source": [
    "# What is Julia?\n",
    "\n",
    "Julia is \n",
    "\n",
    "- Easy to learn, easy to write\n",
    "- Hilariously fast if you write it correctly, but still fast if write it incorrectly\n",
    "- Just-in-time compiled (JIT), though can be interpreted/AOT compiled\n",
    "- Dynamically typed\n",
    "- Highly reproducible across computing environments\n",
    "- Composable (more on this later!)\n",
    "- General purpose, but extremely good at scientific computing\n",
    "- Open source! The best thing!\n",
    "- Beautiful"
   ]
  },
  {
   "cell_type": "markdown",
   "id": "33bbcb6d",
   "metadata": {
    "slideshow": {
     "slide_type": "slide"
    }
   },
   "source": [
    "# What Julia is NOT (yet)\n",
    "\n",
    "- A smash-and-grab analysis tool (i.e. not a great replacement for random 1-second Python/R/Stata scripts)\n",
    "- A place to find canned, ultra-robust, advanced (classical) statistical tools\n",
    "    - Here I mean stuff like 3SLS, weirdo GMM, etc. You can do them but it's not a one-line call (yet).\n",
    "    - SAS/Stata are very old and have some amazing stuff that is really, really well written!\n",
    "    - If this is a need you have and you want it in Julia, reach out to me and I'll see what we can make happen.\n"
   ]
  },
  {
   "cell_type": "markdown",
   "id": "0696e2e2",
   "metadata": {
    "slideshow": {
     "slide_type": "slide"
    }
   },
   "source": [
    "# Demo\n",
    "\n",
    "Let's see some common stuff you might do, starting with some basic stats."
   ]
  },
  {
   "cell_type": "code",
   "execution_count": null,
   "id": "00f963d4",
   "metadata": {
    "slideshow": {
     "slide_type": "slide"
    }
   },
   "outputs": [],
   "source": [
    "using RegressionTables, DataFrames, FixedEffectModels, RDatasets\n",
    "\n",
    "df = dataset(\"datasets\", \"iris\")\n",
    "df[!,:SpeciesDummy] = string.(df[!,:Species])\n",
    "\n",
    "rr1 = reg(df, @formula(SepalLength ~ SepalWidth + fe(SpeciesDummy)))\n",
    "rr2 = reg(df, @formula(SepalLength ~ SepalWidth + PetalLength + fe(SpeciesDummy)))\n",
    "rr3 = reg(df, @formula(SepalLength ~ SepalWidth + PetalLength + PetalWidth + fe(SpeciesDummy)))\n",
    "rr4 = reg(df, @formula(SepalWidth ~ SepalLength + PetalLength + PetalWidth + fe(SpeciesDummy)))\n",
    "\n",
    "regtable(rr1,rr2,rr3,rr4; renderSettings = asciiOutput())"
   ]
  },
  {
   "cell_type": "markdown",
   "id": "012356e1",
   "metadata": {
    "slideshow": {
     "slide_type": "slide"
    }
   },
   "source": [
    "Maybe you want to do some Bayesian stuff instead:"
   ]
  },
  {
   "cell_type": "code",
   "execution_count": null,
   "id": "6ce30654",
   "metadata": {
    "slideshow": {
     "slide_type": "slide"
    }
   },
   "outputs": [],
   "source": [
    "using Turing, LinearAlgebra, StatsPlots\n",
    "\n",
    "@model function flowers(data)\n",
    "    α ~ Normal(4,1)\n",
    "    β ~ Normal(0,1)\n",
    "    s² ~ InverseGamma(2,3)\n",
    "    data[:,:SepalLength] ~ MvNormal(α .+ β .* data[:,:SepalWidth], s²*I)\n",
    "end\n",
    "\n",
    "model = flowers(df)\n",
    "chain = sample(model, NUTS(), MCMCSerial(), 2_000, 4; progress=false)"
   ]
  },
  {
   "cell_type": "code",
   "execution_count": null,
   "id": "e15e9a62",
   "metadata": {
    "slideshow": {
     "slide_type": "slide"
    }
   },
   "outputs": [],
   "source": [
    "# Plot our chain\n",
    "plot(chain)"
   ]
  },
  {
   "cell_type": "markdown",
   "id": "d8b27e73",
   "metadata": {
    "slideshow": {
     "slide_type": "slide"
    }
   },
   "source": [
    "Or maybe differential equations are more your speed?"
   ]
  },
  {
   "cell_type": "code",
   "execution_count": null,
   "id": "158d6256",
   "metadata": {},
   "outputs": [],
   "source": [
    "using DifferentialEquations\n",
    "\n",
    "function lorenz!(du,u,p,t)\n",
    " du[1] = 10.0*(u[2]-u[1])\n",
    " du[2] = u[1]*(28.0-u[3]) - u[2]\n",
    " du[3] = u[1]*u[2] - (8/3)*u[3]\n",
    "end\n",
    "\n",
    "u0 = [1.0;0.0;2.0]\n",
    "tspan = (0.0,100.0)\n",
    "prob = ODEProblem(lorenz!,u0,tspan)\n",
    "sol = solve(prob)\n",
    "\n",
    "plot(sol,vars=(1,2,3))"
   ]
  },
  {
   "cell_type": "markdown",
   "id": "90afc124",
   "metadata": {
    "slideshow": {
     "slide_type": "slide"
    }
   },
   "source": [
    "# Installing Julia\n",
    "\n",
    "- This workshop will be using the current long-term support (LTS) version of Julia, **1.6.5**\n",
    "- Binaries on the website ([julialang.org/downloads/](https://julialang.org/downloads/))\n",
    "    - **WINDOWS**: If you see a check box saying \"Add to path\" or something equivalent, check that. It'll help, I promise.\n",
    "- For the lazy, [jill](https://github.com/abelsiqueira/jill)\n",
    "- Let's take a moment to install Julia!"
   ]
  },
  {
   "cell_type": "markdown",
   "id": "d2252590",
   "metadata": {
    "slideshow": {
     "slide_type": "slide"
    }
   },
   "source": [
    "# How to edit Julia files\n",
    "\n",
    "- Julia code is just text files (most code is!)\n",
    "- You have options for a text editor:\n",
    "    - VS Code (the more contemporary, common one, good support)\n",
    "    - vim (medium nerds)\n",
    "    - emacs (huge nerds with big pinkies)\n",
    "    - Jupyter (more interactive programming)\n",
    "- I will be working in VS Code to make it easy for everyone, but you may choose your own editor if you have one"
   ]
  },
  {
   "cell_type": "markdown",
   "id": "4c598696",
   "metadata": {
    "slideshow": {
     "slide_type": "slide"
    }
   },
   "source": [
    "# Installing VS Code\n",
    "\n",
    "- Download VS Code ([https://code.visualstudio.com/download](https://code.visualstudio.com/download))\n",
    "- Install the Julia extension\n",
    "- Make a folder somewhere on your machine for this workshop!\n",
    "- Open the folder you made in VS Code -- `File > Open Folder` or using the command pallette `Ctrl + Shift + P > Open Folder`"
   ]
  },
  {
   "cell_type": "markdown",
   "id": "655f2e9e",
   "metadata": {
    "slideshow": {
     "slide_type": "slide"
    }
   },
   "source": [
    "# Your first Julia program (maybe)\n",
    "\n",
    "Everyone's first program in a new language is often \"Hello World\".\n",
    "\n",
    "A hello world script is intended to \n",
    "\n",
    "- let you know _real quick_ whether or not your setup is working\n",
    "- to show you the basics of how to make the code you wrote tell your computer what to do"
   ]
  },
  {
   "cell_type": "markdown",
   "id": "a16df79c",
   "metadata": {
    "slideshow": {
     "slide_type": "slide"
    }
   },
   "source": [
    "# Your first Julia program\n",
    "\n",
    "Make a file called `hello-world.jl`. \n",
    "\n",
    "The shortcut for this in VS Code is `Ctrl + N` -- this will open a new buffer, but no filename will be assigned until you save it (using `Ctrl + S`)."
   ]
  },
  {
   "cell_type": "markdown",
   "id": "075e5174",
   "metadata": {
    "slideshow": {
     "slide_type": "slide"
    }
   },
   "source": [
    "# Your first Julia program\n",
    "\n",
    "Type the following in your script:\n",
    "\n",
    "```julia\n",
    "println(\"Hello World!\")\n",
    "```"
   ]
  },
  {
   "cell_type": "markdown",
   "id": "e21e81cc",
   "metadata": {
    "slideshow": {
     "slide_type": "slide"
    }
   },
   "source": [
    "# Running your first Julia program\n",
    "\n",
    "Now we're going to run this. You have several options, depending on whether you are an interactive person or an old-school type (like me).\n",
    "\n",
    "- Interactive way is to move your cursor to a line an hit \n",
    "    - `Ctrl + Enter` to execute the line your cursor is on (or a selection)\n",
    "    - `Shift + Enter` to do the above, but also move down one line.\n",
    "- Old-school way \n",
    "    1. Open a terminal\n",
    "    2. Nagivate to your folder using `cd`\n",
    "    3. Type `julia hello-world.jl`\n",
    "    - Old-school notes\n",
    "        - VS Code has a terminal buffer you can open with `Ctrl + ` (the symbol is the backtick, in the top-left of your keyboard)\n",
    "        - You can use your system terminal if you know how.\n"
   ]
  },
  {
   "cell_type": "markdown",
   "id": "e7e7d2f1",
   "metadata": {
    "slideshow": {
     "slide_type": "slide"
    }
   },
   "source": [
    "# If it went well\n",
    "\n",
    "You should see the words `Hello world!` printed to your display!\n",
    "\n",
    "**CHECK IN!** Please reach out in the chat if anything broke or is not working."
   ]
  },
  {
   "cell_type": "markdown",
   "id": "bb67e251",
   "metadata": {
    "slideshow": {
     "slide_type": "slide"
    }
   },
   "source": [
    "# Going forward\n",
    "\n",
    "You can run your code however you like -- I will be running some code here in a Jupyter notebook.\n",
    "\n",
    "During concept checks, I will make a separate file for each problem to make sure you can see how I work in a live-code environment.\n",
    "\n",
    "Or, you can just dump it all in one file! Go with what works for you."
   ]
  },
  {
   "cell_type": "markdown",
   "id": "ca38ba22",
   "metadata": {
    "slideshow": {
     "slide_type": "slide"
    }
   },
   "source": [
    "# Questions?\n",
    "\n",
    "About installing Julia, VS Code, running code, basic shell commands, etc.?"
   ]
  },
  {
   "cell_type": "markdown",
   "id": "3384247f",
   "metadata": {
    "slideshow": {
     "slide_type": "slide"
    }
   },
   "source": [
    "# Julia basics\n",
    "\n",
    "Let's get into the language!"
   ]
  },
  {
   "cell_type": "markdown",
   "id": "9d4798b3",
   "metadata": {
    "slideshow": {
     "slide_type": "slide"
    }
   },
   "source": [
    "# Variables\n",
    "\n",
    "The natural place to start is with a __variable__.\n",
    "\n",
    "A variable in Julia is a symbol we bind/assign a value to.\n",
    "\n",
    "```julia\n",
    "# Assign the value of 2 to a variable x\n",
    "x = 2\n",
    "\n",
    "println(x + 2) # Should print out \"4\" to your display\n",
    "\n",
    "# Do some math, then update the value of x\n",
    "x = 5 + 8\n",
    "println(x) # Should display 13\n",
    "\n",
    "# Put a word into y\n",
    "y = \"howdy partner\"\n",
    "```"
   ]
  },
  {
   "cell_type": "code",
   "execution_count": null,
   "id": "c884bc09",
   "metadata": {
    "slideshow": {
     "slide_type": "slide"
    }
   },
   "outputs": [],
   "source": [
    "# More with variables\n",
    "x1 = 15\n",
    "red5 = 91\n",
    "hats = 2\n",
    "mapsie = -1\n",
    "tuba = 9\n",
    "\n",
    "answer = (x1 + red5) ^ hats * (mapsie/tuba)\n",
    "println(answer)"
   ]
  },
  {
   "cell_type": "markdown",
   "id": "a5582466",
   "metadata": {
    "slideshow": {
     "slide_type": "slide"
    }
   },
   "source": [
    "# Variable conventions\n",
    "\n",
    "- We typically use snake case in Julia (`long_variable_name` instead of `longVariableName`)\n",
    "- Variables start with a letter, underscore, or a handful of Unicode characters\n",
    "- `const x = 5` defines a constant variable, more on this later, but helpful if you know what that means."
   ]
  },
  {
   "cell_type": "markdown",
   "id": "a6f3cf41",
   "metadata": {
    "slideshow": {
     "slide_type": "slide"
    }
   },
   "source": [
    "# Concept check!\n",
    "\n",
    "Don't run these yet -- try to run them in your head first. What are the values of `c` and `x4`?\n",
    "\n",
    "## Q1\n",
    "\n",
    "```julia\n",
    "a = 3\n",
    "b = a + 1\n",
    "c = b * a\n",
    "println(c)\n",
    "```\n",
    "\n",
    "## Q2\n",
    "\n",
    "```julia\n",
    "x1 = 6\n",
    "x2 = x1 / 2\n",
    "x4 = x3 + x2\n",
    "println(x4)\n",
    "```"
   ]
  },
  {
   "cell_type": "markdown",
   "id": "47517a02",
   "metadata": {
    "slideshow": {
     "slide_type": "slide"
    }
   },
   "source": [
    "# Primitive types\n",
    "\n",
    "Julia has a handful of **primitive types**. Primitive types are variable types that are core to computing, things like\n",
    "\n",
    "- Booleans (`true/false`)\n",
    "- Integers, `Int` or `UInt` for unsigned (positive integers only)\n",
    "    - Comes in `Int8/Int16/Int32/Int64/Int128` sizes\n",
    "- Floating point (decimals), `Float16/Float32/Float64` for different precision\n",
    "- Arbitrary size constructs (very expensive, probably not needed)\n",
    "    - `BigInt`\n",
    "    - `BigFloat`"
   ]
  },
  {
   "cell_type": "markdown",
   "id": "0a3bb48e",
   "metadata": {
    "slideshow": {
     "slide_type": "slide"
    }
   },
   "source": [
    "# Primitive types\n",
    "\n",
    "- Strings & characters\n",
    "    - Quotes indicate a string (`String`), i.e. `\"hello world\"`\n",
    "    - Apostrophes denote a single character (`Char`), i.e. `'c'`\n",
    "- `Complex` numbers are supported natively, written `1 + 2im`\n",
    "- `Rational` numbers are supported with double slashes, `2 // 3`"
   ]
  },
  {
   "cell_type": "code",
   "execution_count": null,
   "id": "e0d9d3f1",
   "metadata": {
    "slideshow": {
     "slide_type": "slide"
    }
   },
   "outputs": [],
   "source": [
    "typeof(5)"
   ]
  },
  {
   "cell_type": "code",
   "execution_count": null,
   "id": "5eb2c1e7",
   "metadata": {},
   "outputs": [],
   "source": [
    "typeof(5.0)"
   ]
  },
  {
   "cell_type": "code",
   "execution_count": null,
   "id": "3291077c",
   "metadata": {
    "scrolled": true
   },
   "outputs": [],
   "source": [
    "typeof(true)"
   ]
  },
  {
   "cell_type": "code",
   "execution_count": null,
   "id": "e994648f",
   "metadata": {},
   "outputs": [],
   "source": [
    "typeof(\"howdy!\")"
   ]
  },
  {
   "cell_type": "code",
   "execution_count": null,
   "id": "ab9feb93",
   "metadata": {},
   "outputs": [],
   "source": [
    "typeof('h')"
   ]
  },
  {
   "cell_type": "markdown",
   "id": "c745465d",
   "metadata": {
    "slideshow": {
     "slide_type": "slide"
    }
   },
   "source": [
    "# Arithmatic operators\n",
    "\n",
    "All the common operators are supported!\n",
    "\n",
    "![](https://user-images.githubusercontent.com/422990/148709622-4bf18e9c-b8ce-4332-a3ec-f45731f49238.png)"
   ]
  },
  {
   "cell_type": "markdown",
   "id": "ecf75d0b",
   "metadata": {
    "slideshow": {
     "slide_type": "slide"
    }
   },
   "source": [
    "# Concept check!\n",
    "\n",
    "1. Define a variable called `z`. Put any numeric type in here -- float or int.\n",
    "2. Print out the remainder of `z` with the quotients (`2`, `4`, and `8`).\n",
    "3. Tinker around and see what happens when you change the value of `z` and rerun the code."
   ]
  },
  {
   "cell_type": "markdown",
   "id": "23c8a664",
   "metadata": {
    "slideshow": {
     "slide_type": "slide"
    }
   },
   "source": [
    "# Boolean operators\n",
    "\n",
    "Boolean algebra is how we work with `true` and `false` values. Julia supports all the common operators.\n",
    "\n",
    "- `!true` is __negation__\n",
    "- `x && y` means __and__. Returns `true` if `x` and `y` are both `true`, otherwise `false`.\n",
    "- `x || y` means __or__. Returns `true` if `x` or `y` is `true`, otherwise `false`.\n",
    "- All the bitwise operators. I won't cover these but they're [here](https://docs.julialang.org/en/v1/manual/mathematical-operations/#Bitwise-Operators).\n"
   ]
  },
  {
   "cell_type": "markdown",
   "id": "2de0a96b",
   "metadata": {
    "slideshow": {
     "slide_type": "slide"
    }
   },
   "source": [
    "# Comparison operators\n",
    "\n",
    "Comparison operators are how you get a `true` or `false` value out of any kind of comparison.\n",
    "\n",
    "- Equality: `x == y` returns `true` if `x` and `y` have the same value.\n",
    "- Inequality: `x != y` returns `true` if `x` and `y` are __NOT__ the same.\n",
    "- Less than: `x < y` returns `true` if `x` is __LESS__ than `y`.\n",
    "- Greater than: `x > y` returns `true` if `x` is __GREATER__ than `y`.\n",
    "    - Less than or greater than using equality are written `<=` or `>=`."
   ]
  },
  {
   "cell_type": "markdown",
   "id": "82be464f",
   "metadata": {
    "slideshow": {
     "slide_type": "slide"
    }
   },
   "source": [
    "# Concept check!\n",
    "\n",
    "`if` statements are a way of conditionally evaluating code (more on this later). For example, you can write\n",
    "\n",
    "```julia\n",
    "some_number = 16\n",
    "if some_number >= 15\n",
    "    println(\"It's larger than 15\")\n",
    "end\n",
    "```\n",
    "\n",
    "1. Make two variables, `var_a` and `var_b`. Put any numeric types in these variables.\n",
    "2. Print out `\"It's complicated\"` if `var_a` is greater than 1 or `var_b` is not less than 2.\n",
    "3. Try tinkering around with composing nots, ands, ors, and less thans if you complete step 2. You can put parentheses around stuff to enforce order of operations."
   ]
  },
  {
   "cell_type": "markdown",
   "id": "24bd097c",
   "metadata": {
    "slideshow": {
     "slide_type": "slide"
    }
   },
   "source": [
    "# Questions?"
   ]
  },
  {
   "cell_type": "markdown",
   "id": "78b3e06e",
   "metadata": {
    "slideshow": {
     "slide_type": "slide"
    }
   },
   "source": [
    "# Fun with Functions\n",
    "\n",
    "Functions are how we write significantly more complex code. \n",
    "\n",
    "In Julia, functions are a _fantastic_ way to get free speed! Write in functions when you can.\n",
    "\n",
    "A function is a construct accepting some number of inputs that returns some number of outputs -- think of it as copy-pasted code which you only write once. \n",
    "\n",
    "If you find yourself copy-pasting code two or more times, you should probably write a function instead."
   ]
  },
  {
   "cell_type": "markdown",
   "id": "dadd1581",
   "metadata": {
    "slideshow": {
     "slide_type": "slide"
    }
   },
   "source": [
    "The most common function definition is\n",
    "\n",
    "```julia\n",
    "function f(x, y)\n",
    "    x + y\n",
    "end\n",
    "```\n",
    "\n",
    "There is also a shorter way of defining functions:\n",
    "\n",
    "```julia\n",
    "f(x, y) = x + y\n",
    "```"
   ]
  },
  {
   "cell_type": "markdown",
   "id": "ce8e14f9",
   "metadata": {
    "slideshow": {
     "slide_type": "slide"
    }
   },
   "source": [
    "Functions are \"called\", which means that we provide the __inputs__ to the function, Julia will evaluate the function using those inputs, and __return__ whatever it has been asked to return.\n",
    "\n",
    "Let's try this with a simple polynomial function."
   ]
  },
  {
   "cell_type": "code",
   "execution_count": null,
   "id": "b7fd4895",
   "metadata": {
    "scrolled": true,
    "slideshow": {
     "slide_type": "slide"
    }
   },
   "outputs": [],
   "source": [
    "# Creating the function.\n",
    "function poly(x, y)\n",
    "    return 3x^2 + 2y^2 - 1*x*y\n",
    "end"
   ]
  },
  {
   "cell_type": "markdown",
   "id": "c59e8856",
   "metadata": {},
   "source": [
    "Note that we've only _defined_ the function -- it is only a recipe for what to do when the function is _called_ with some inputs `x` and `y`."
   ]
  },
  {
   "cell_type": "markdown",
   "id": "8fdb2c04",
   "metadata": {
    "slideshow": {
     "slide_type": "slide"
    }
   },
   "source": [
    "Calling the function is easy:"
   ]
  },
  {
   "cell_type": "code",
   "execution_count": null,
   "id": "2d41eee4",
   "metadata": {},
   "outputs": [],
   "source": [
    "poly(1, 2.5)"
   ]
  },
  {
   "cell_type": "markdown",
   "id": "32a77392",
   "metadata": {
    "slideshow": {
     "slide_type": "slide"
    }
   },
   "source": [
    "# Concept check!\n",
    "\n",
    "Consider a standard polynomial of degree 4:\n",
    "\n",
    "$$\n",
    "g(x) = \\theta_1 x^3 + \\theta_2 x^2 + \\theta_3 x + \\theta_4\n",
    "$$\n",
    "\n",
    "1. Write the polynomial function `g` that accepts a value $x$, but also the four coefficients $\\theta_1, \\dots, \\theta_4$.\n",
    "2. Write a second function `h` that accepts _only_ a value `x`, but evaluates `g` at the coefficients `4`, `-3`, `2`, and `10`.\n",
    "\n",
    "Recall that function syntax is\n",
    "\n",
    "```julia\n",
    "function f(args...)\n",
    "    ...\n",
    "end\n",
    "\n",
    "# Alternatively:\n",
    "f(args...) = ...\n",
    "```"
   ]
  },
  {
   "cell_type": "markdown",
   "id": "f0b96a86",
   "metadata": {
    "slideshow": {
     "slide_type": "slide"
    }
   },
   "source": [
    "# Type annotations\n",
    "\n",
    "We will talk a LOT about the type system today, but I want to introduce you to the idea that you can restrict your function to certain types of inputs by adding `::TypeName` after an argument:"
   ]
  },
  {
   "cell_type": "code",
   "execution_count": null,
   "id": "f162dfc9",
   "metadata": {
    "slideshow": {
     "slide_type": "-"
    }
   },
   "outputs": [],
   "source": [
    "afun(x::Int) = x + 1\n",
    "afun(x::Float64) = x / 2"
   ]
  },
  {
   "cell_type": "markdown",
   "id": "f00cfccb",
   "metadata": {
    "slideshow": {
     "slide_type": "slide"
    }
   },
   "source": [
    "This is an example of _multiple dispatch_, one of Julia's more wonderful features. See how the return value is different based on the input?"
   ]
  },
  {
   "cell_type": "code",
   "execution_count": null,
   "id": "0684a9e3",
   "metadata": {},
   "outputs": [],
   "source": [
    "afun(1) # This is calling afun with an Int type"
   ]
  },
  {
   "cell_type": "code",
   "execution_count": null,
   "id": "a001c5ab",
   "metadata": {},
   "outputs": [],
   "source": [
    "afun(1.0) # Calling with a `Float64` type"
   ]
  },
  {
   "cell_type": "markdown",
   "id": "30dc0f1c",
   "metadata": {
    "slideshow": {
     "slide_type": "slide"
    }
   },
   "source": [
    "# What is `return`?\n",
    "\n",
    "`return` can be read as\n",
    "\n",
    "> Exit the function immediately! Give whatever called the function the thing to the right of `return`.\n",
    "\n",
    "For example:"
   ]
  },
  {
   "cell_type": "code",
   "execution_count": null,
   "id": "d8aa6ba9",
   "metadata": {
    "slideshow": {
     "slide_type": "-"
    }
   },
   "outputs": [],
   "source": [
    "function aces(x)\n",
    "    if x > 5\n",
    "        # This exits the function immediately!\n",
    "        return x + 5\n",
    "        \n",
    "        # Note that this occurs AFTER the return statement.\n",
    "        # This line will NEVER run.\n",
    "        println(x - 9)\n",
    "    end\n",
    "    \n",
    "    # If x <= 5, this line will run instead.\n",
    "    return x / 5\n",
    "end\n"
   ]
  },
  {
   "cell_type": "markdown",
   "id": "bab07d0c",
   "metadata": {
    "slideshow": {
     "slide_type": "slide"
    }
   },
   "source": [
    "# Default return value\n",
    "\n",
    "If you don't write `return` at the end of a function, it will return the value of the last line.\n",
    "\n",
    "```julia\n",
    "function noreturn(a)\n",
    "    b = a % 2\n",
    "    \n",
    "    b # equivalent to writing return b in this case\n",
    "end\n",
    "```\n",
    "\n",
    "To see how this can change, look at the case where we only ever get `a` back:\n",
    "\n",
    "```julia\n",
    "function noreturn(a)\n",
    "    b = a % 2\n",
    "    \n",
    "    b # This line now means nothing, it is not the last line in the function\n",
    "    a\n",
    "end\n",
    "```"
   ]
  },
  {
   "cell_type": "markdown",
   "id": "82152c82",
   "metadata": {
    "slideshow": {
     "slide_type": "slide"
    }
   },
   "source": [
    "You can return whatever you want! \n",
    "\n",
    "If you separate your returned values with commas, you can get multiple values out of a function."
   ]
  },
  {
   "cell_type": "code",
   "execution_count": null,
   "id": "a8f36fe9",
   "metadata": {
    "slideshow": {
     "slide_type": ""
    }
   },
   "outputs": [],
   "source": [
    "twovals(a,b) = a*b, a/b, a+b, a-b"
   ]
  },
  {
   "cell_type": "code",
   "execution_count": null,
   "id": "f53ba3c9",
   "metadata": {},
   "outputs": [],
   "source": [
    "twovals(1,2)"
   ]
  },
  {
   "cell_type": "markdown",
   "id": "929a23ff",
   "metadata": {
    "slideshow": {
     "slide_type": "slide"
    }
   },
   "source": [
    "# Tuples\n",
    "\n",
    "You may have noted that the return value of `twovals` has parentheses around it -- this is called a __tuple__. \n",
    "\n",
    "We can extract values from the tuple using bracket notation:\n",
    "\n",
    "```julia\n",
    "a_tuple = (5, 10, 15)\n",
    "a_tuple[1] # this is 5\n",
    "a_tuple[3] # this is 15\n",
    "```\n",
    "\n",
    "A tuple is\n",
    "\n",
    "- Immutable (can't change it, i.e. `x=(1,2,3); x[1] = 4` will throw an error)\n",
    "- Ordered\n",
    "- Fixed-length"
   ]
  },
  {
   "cell_type": "markdown",
   "id": "02c431b3",
   "metadata": {
    "slideshow": {
     "slide_type": "slide"
    }
   },
   "source": [
    "We can _unpack_ a tuple by writing assigning variables on the left in the same shape as the tuple.\n",
    "\n",
    "For example, with the tuple `(15, \"red\", 8)`, we can assign `a=15`, `b=\"red\"`, and `c=8`."
   ]
  },
  {
   "cell_type": "code",
   "execution_count": null,
   "id": "86a331f6",
   "metadata": {},
   "outputs": [],
   "source": [
    "a,b,c = (15, \"red\", 8)\n",
    "\n",
    "println(c)"
   ]
  },
  {
   "cell_type": "markdown",
   "id": "9ae1c0e6",
   "metadata": {
    "slideshow": {
     "slide_type": "slide"
    }
   },
   "source": [
    "# Named tuples\n",
    "\n",
    "You can also give names to each position of a named tuple -- `NamedTuples` are amazing and I will talk a lot more about them in the performant Julia workshop.\n",
    "\n",
    "Here's a brief intro:"
   ]
  },
  {
   "cell_type": "code",
   "execution_count": null,
   "id": "739d3433",
   "metadata": {},
   "outputs": [],
   "source": [
    "namedtup = (thing1 = 'a', thing2 = 15, thing3 = [10,9,8])"
   ]
  },
  {
   "cell_type": "code",
   "execution_count": null,
   "id": "367c7741",
   "metadata": {},
   "outputs": [],
   "source": [
    "namedtup.thing2"
   ]
  },
  {
   "cell_type": "markdown",
   "id": "482e8c38",
   "metadata": {
    "slideshow": {
     "slide_type": "slide"
    }
   },
   "source": [
    "# Concept check!\n",
    "\n",
    "Write a function that accepts one argument. \n",
    "\n",
    "- If the argument is _positive_, return twice that argument AND the string `\"positive\"`.\n",
    "- If the argument is _negative_, return the __square__ of that argument AND the string `\"negative\"`. \n",
    "- If the argument is _zero_, return zero AND the string `\"zero\"`. "
   ]
  },
  {
   "cell_type": "markdown",
   "id": "d05bf97b",
   "metadata": {
    "slideshow": {
     "slide_type": "slide"
    }
   },
   "source": [
    "# Keywords\n",
    "\n",
    "You can allow functions to accept a _keyword_ argument, which is an argument you must specify by name when you call the function.\n",
    "\n",
    "Keyword arguments occur after a semicolon in the function definition:"
   ]
  },
  {
   "cell_type": "code",
   "execution_count": null,
   "id": "240fde73",
   "metadata": {
    "slideshow": {
     "slide_type": "-"
    }
   },
   "outputs": [],
   "source": [
    "f(x; coef = 2.0) = x * coef"
   ]
  },
  {
   "cell_type": "markdown",
   "id": "5280314e",
   "metadata": {
    "slideshow": {
     "slide_type": "-"
    }
   },
   "source": [
    "We have assigned a default value to `coef`, so the following will work:"
   ]
  },
  {
   "cell_type": "code",
   "execution_count": null,
   "id": "0060fe75",
   "metadata": {},
   "outputs": [],
   "source": [
    "f(2)"
   ]
  },
  {
   "cell_type": "markdown",
   "id": "c51c5b48",
   "metadata": {
    "slideshow": {
     "slide_type": "slide"
    }
   },
   "source": [
    "Because we've specified a keyword argument, we can also override `coef` if we want another value than `2`:"
   ]
  },
  {
   "cell_type": "code",
   "execution_count": null,
   "id": "8a95f638",
   "metadata": {
    "scrolled": true
   },
   "outputs": [],
   "source": [
    "f(2; coef=10)"
   ]
  },
  {
   "cell_type": "markdown",
   "id": "650d97e8",
   "metadata": {
    "slideshow": {
     "slide_type": "slide"
    }
   },
   "source": [
    "# Questions?\n",
    "\n",
    "About functions, keywords, tuples, `return`?"
   ]
  },
  {
   "cell_type": "markdown",
   "id": "e135a61a",
   "metadata": {
    "slideshow": {
     "slide_type": "slide"
    }
   },
   "source": [
    "# Array types\n",
    "\n",
    "Alright, we're all mathy people. We work with data, and that means we typically have lots and lots of numbers. \n",
    "\n",
    "Let's get some practice with how Julia thinks about vectors, matrices, and arrays!"
   ]
  },
  {
   "cell_type": "markdown",
   "id": "9de0b404",
   "metadata": {
    "slideshow": {
     "slide_type": "slide"
    }
   },
   "source": [
    "# Array types\n",
    "\n",
    "Vectors are created by surrounding some values with brackets `([1,2,3])` and separating the values with commas.\n",
    "\n",
    "```julia\n",
    "vector_var = [5,10,19]\n",
    "```\n",
    "\n",
    "Rectangular arrays have values within a row separated by __spaces__ and new columns indicated with a __semicolon__.\n",
    "\n",
    "```julia\n",
    "matrix_var = [1 2 3; 4 5 6]\n",
    "```"
   ]
  },
  {
   "cell_type": "markdown",
   "id": "f4c9b592",
   "metadata": {
    "slideshow": {
     "slide_type": "slide"
    }
   },
   "source": [
    "# Adding values to arrays\n",
    "\n",
    "You can expand arrays using `push!(vector, thing)`. \n",
    "\n",
    "The `!` at the end of the function name has no effect as far as Julia's compiler is concerned -- it is only a social convention to indicate that the function _mutates_ or _changes_ the input."
   ]
  },
  {
   "cell_type": "code",
   "execution_count": null,
   "id": "4df846cd",
   "metadata": {},
   "outputs": [],
   "source": [
    "xs = [5,6,7]\n",
    "push!(xs, 10)\n",
    "\n",
    "println(xs)"
   ]
  },
  {
   "cell_type": "markdown",
   "id": "0477285d",
   "metadata": {
    "slideshow": {
     "slide_type": "slide"
    }
   },
   "source": [
    "# Convenience functions\n",
    "\n",
    "- `length(xs)` tells you how long `xs` is. More useful for vector types.\n",
    "- `size(xs)` tells you the size of `xs` in a tuple -- one entry for each dimension. More useful for multidimensional array types.\n",
    "- `zeros(N)` gives you a vector of zeros of length `N`. You can make it multidimensional by adding more arguments, i.e. `zeros(n1, n2, n3)` will provide a 3d array.\n",
    "    - `ones(args...)` is the same but with ones instead of zeros\n",
    "    - By default the type of `zeros(n)` is `Vector{Float64}`, but you can set it to something else: `zeros(Int, 5)` is all integers.\n",
    "- `rand(n)` is random uniform values\n",
    "- `randn(n)` is random values from a standard Normal."
   ]
  },
  {
   "cell_type": "markdown",
   "id": "8a46f210",
   "metadata": {
    "slideshow": {
     "slide_type": "slide"
    }
   },
   "source": [
    "# Extracting values from arrays\n",
    "\n",
    "We extract the value of an array using brackets:\n",
    "\n",
    "```julia\n",
    "xs = [50, 100, 150]\n",
    "println(xs[1]) # this will print 50\n",
    "```\n",
    "\n",
    "For multidimensional arrays, it's the common notation separated by commas:\n",
    "\n",
    "```julia\n",
    "M = [10 11 12; 20 21 22]\n",
    "M[2,2] # This is 21\n",
    "```"
   ]
  },
  {
   "cell_type": "markdown",
   "id": "7e950a25",
   "metadata": {
    "slideshow": {
     "slide_type": "slide"
    }
   },
   "source": [
    "# Getting ranges of values\n",
    "\n",
    "We can get slices of data from array types using colons.\n",
    "\n",
    "- `xs[5:end]` extracts the values of `xs` from index `5` all the way to the end of the vector. `end` is a special word here -- you may be used to using something like `xs[5:length(x)]`, which you can do, but Julia makes it easy.\n",
    "- `xs[:,1]` grabs all values of column `1`.\n",
    "- `xs[1,:]` grabs all values of row `1`."
   ]
  },
  {
   "cell_type": "markdown",
   "id": "e18fe643",
   "metadata": {
    "slideshow": {
     "slide_type": "slide"
    }
   },
   "source": [
    "# Setting ranges of values\n",
    "\n",
    "Everything above allows you to _set_ values instead by putting an equal sign to the right of the indexing operation."
   ]
  },
  {
   "cell_type": "code",
   "execution_count": null,
   "id": "98f50c9c",
   "metadata": {},
   "outputs": [],
   "source": [
    "xs = zeros(5)\n",
    "\n",
    "xs[1] = 3\n",
    "xs[2:3] = [4,4.5]\n",
    "xs[4:end] = [1.0, 2.0]\n",
    "\n",
    "xs"
   ]
  },
  {
   "cell_type": "markdown",
   "id": "8c6625dc",
   "metadata": {
    "slideshow": {
     "slide_type": "slide"
    }
   },
   "source": [
    "# `map`\n",
    "\n",
    "`map` is a super common paradigm in many languages. It is how you apply a function to a set of inputs.\n",
    "\n",
    "The syntax is `map(function_name, things_to_input)`.\n",
    "\n",
    "`things_to_input` can be a lot of things:\n",
    "\n",
    "- Iterators, `map(f, 1:5)` returns `[f(1), f(2), f(3), f(4), f(4)]`.\n",
    "- Vectors, `map(f, [1,2,3,4,5])`\n",
    "- Ordered sets, dictionaries, etc. More on these later."
   ]
  },
  {
   "cell_type": "code",
   "execution_count": null,
   "id": "b78a7ac1",
   "metadata": {},
   "outputs": [],
   "source": [
    "xs = [5, 10, 11]\n",
    "doubler(input) = 2*input\n",
    "\n",
    "map(doubler, xs)"
   ]
  },
  {
   "cell_type": "code",
   "execution_count": null,
   "id": "abbcabd8",
   "metadata": {},
   "outputs": [],
   "source": [
    "# 10:20 is an iterator, not an array!\n",
    "map(doubler, 10:20)"
   ]
  },
  {
   "cell_type": "markdown",
   "id": "71184285",
   "metadata": {
    "slideshow": {
     "slide_type": "slide"
    }
   },
   "source": [
    "# Multiple input functions and `map`\n",
    "\n",
    "`map` only works with single-input functions -- if you have a function with multiple inputs, you'll need to either define a function that accepts one input, or write an __anonymous function__.\n",
    "\n",
    "An anonymous function looks like\n",
    "\n",
    "```julia\n",
    "x -> 2 * x\n",
    "```\n",
    "\n",
    "In the context of `map`, our `doubler` function from above could be rewritten as"
   ]
  },
  {
   "cell_type": "code",
   "execution_count": null,
   "id": "2f58530b",
   "metadata": {},
   "outputs": [],
   "source": [
    "xs = [5, 10, 11]\n",
    "\n",
    "map(x -> 2*x, xs)"
   ]
  },
  {
   "cell_type": "markdown",
   "id": "74bf9d6c",
   "metadata": {
    "slideshow": {
     "slide_type": "slide"
    }
   },
   "source": [
    "# Multiple inputs\n",
    "\n",
    "Anonymous functions are super useful when you want to `map` for functions with a lot of inputs. "
   ]
  },
  {
   "cell_type": "code",
   "execution_count": null,
   "id": "9c2e7856",
   "metadata": {},
   "outputs": [],
   "source": [
    "two_input_function(x, y) = x^2 / y\n",
    "\n",
    "map(m -> two_input_function(m, 3), [1,2,3,4])"
   ]
  },
  {
   "cell_type": "markdown",
   "id": "0fff2ce4",
   "metadata": {
    "slideshow": {
     "slide_type": "slide"
    }
   },
   "source": [
    "# Broadcasting\n",
    "\n",
    "If you come from other languages, you might be used to trying real hard to _vectorize_ your functions for performance. \n",
    "\n",
    "Julia makes this hilariously easy using __dot syntax__. Adding a dot between the function name and Julia will essentially call `map` on your behalf."
   ]
  },
  {
   "cell_type": "code",
   "execution_count": null,
   "id": "2dc7e718",
   "metadata": {},
   "outputs": [],
   "source": [
    "a = [1.0,2.0,3.0]"
   ]
  },
  {
   "cell_type": "code",
   "execution_count": null,
   "id": "cf115821",
   "metadata": {},
   "outputs": [],
   "source": [
    "sin.(a)"
   ]
  },
  {
   "cell_type": "markdown",
   "id": "df5ffbeb",
   "metadata": {
    "slideshow": {
     "slide_type": "slide"
    }
   },
   "source": [
    "# Concept check!\n",
    "\n",
    "We'll need a new package for this one. Go to your REPL and type `] add UnicodePlots`.\n",
    "\n",
    "We're going to plot a function we define:\n",
    "\n",
    "```julia\n",
    "function quadratic(x)\n",
    "    return x^2\n",
    "end\n",
    "```\n",
    "\n",
    "Create two variables:\n",
    "\n",
    "1. `xs`, representing the _range_ of this function from -10 to 10.\n",
    "2. `ys`, representing the _domain_ of this function evaluated using `xs`.\n",
    "\n",
    "Both `map` and dot syntax should get you here.\n",
    "\n",
    "Plot the quadratic function using the code\n",
    "\n",
    "```julia\n",
    "using UnicodePlots\n",
    "display(lineplot(xs, ys))\n",
    "```"
   ]
  },
  {
   "cell_type": "markdown",
   "id": "7d1e6ffa",
   "metadata": {
    "slideshow": {
     "slide_type": "slide"
    }
   },
   "source": [
    "# Control flow\n",
    "\n",
    "Julia supports the standard control flow constructs:\n",
    "\n",
    "- Conditional evaluation: `if`, `elseif`, and `else`\n",
    "- Loops: `for` and `while`\n",
    "    - `continue` (skip the current iteration) \n",
    "    - `break` (exit loop)\n",
    "- `try`/`catch`/`finally` for error handling\n"
   ]
  },
  {
   "cell_type": "markdown",
   "id": "14997697",
   "metadata": {
    "slideshow": {
     "slide_type": "slide"
    }
   },
   "source": [
    "# Conditional evaluation\n",
    "\n",
    "The format for if/else blocks in Julia is\n",
    "\n",
    "```julia\n",
    "if thing\n",
    "    . . . # Runs if thing == true\n",
    "elseif another_thing\n",
    "    . . . # Runs if thing == false and another_thing == true\n",
    "elseif another_thing2\n",
    "    . . . # Runs if thing == false, another_thing == false, another_thing2 == true\n",
    "else\n",
    "    . . . # Runs if all above are false\n",
    "end\n",
    "```"
   ]
  },
  {
   "cell_type": "markdown",
   "id": "244082e6",
   "metadata": {
    "slideshow": {
     "slide_type": "slide"
    }
   },
   "source": [
    "# Loops: the `for` loop\n",
    "\n",
    "`for` loops in `Julia` have two bits in them.\n",
    "\n",
    "```julia\n",
    "for i in [1,2,3,4,5]\n",
    "    println(i)\n",
    "end\n",
    "```\n",
    "\n",
    "The two parts are:\n",
    "\n",
    "- `[1,2,3,4,5]`, an \"iterable\" value. We want to loop through 1, then 2, then 3, and so on.\n",
    "- `i`, which is new variable that will take on the values in `[1,2,3,4,5]` as the code in the loop is evaluated."
   ]
  },
  {
   "cell_type": "markdown",
   "id": "8629f84c",
   "metadata": {
    "slideshow": {
     "slide_type": "slide"
    }
   },
   "source": [
    "# Loops\n",
    "\n",
    "You can put lots of things on the right-hand side of the loop:\n",
    "\n",
    "- Ranges of numbers: `for i in 1:10`\n",
    "- Strings: `for character in \"howdy partner\"`\n",
    "- Dictionaries: `for pair in Dict(:a => 1, :b => 2)`\n",
    "    - You can also unpack in a loop! Try `for (key, value) in Dict(:a => 1, :b => 2)`"
   ]
  },
  {
   "cell_type": "markdown",
   "id": "1052b421",
   "metadata": {
    "slideshow": {
     "slide_type": "slide"
    }
   },
   "source": [
    "# Concept check!\n",
    "\n",
    "Let's do some **times tables**!\n",
    "\n",
    "Write me a function that does the following:\n",
    "\n",
    "- Accepts `n`, which is the maximum value of a times table. \n",
    "- Returns an `n` by `n` array where the entries of the array are the product of the indices of that array.\n",
    "\n",
    "I.e. for `n=5`, I want to see a $5 \\times 5$ matrix where the `[3,2]` entry is `3 * 2 = 6`. \n",
    "\n",
    "For the math-types, the formulation is this:\n",
    "\n",
    "$$\n",
    "M(n) = \\begin{bmatrix}\n",
    "1 & 2 & 3 & \\dots & n \\\\\n",
    "2 & 4 & 6 & \\dots & 2n \\\\\n",
    "3 & 6 & 9 & \\dots & 3n \\\\\n",
    "\\vdots & & & & \\\\\n",
    "n & \\dots & & & n^2\n",
    "\\end{bmatrix}\n",
    "$$\n",
    "\n",
    "The value of $M(n)_{ij} = i\\times j$."
   ]
  },
  {
   "cell_type": "code",
   "execution_count": null,
   "id": "958ae8ea",
   "metadata": {
    "slideshow": {
     "slide_type": "skip"
    }
   },
   "outputs": [],
   "source": [
    "function times_table(n)\n",
    "    M = zeros(Int, n, n)\n",
    "    \n",
    "    for i in 1:n\n",
    "        for j in 1:n\n",
    "            M[i,j] = i * j\n",
    "        end\n",
    "    end\n",
    "    \n",
    "    return M\n",
    "end\n",
    "\n",
    "times_table(5)"
   ]
  },
  {
   "cell_type": "markdown",
   "id": "05171fbf",
   "metadata": {
    "slideshow": {
     "slide_type": "slide"
    }
   },
   "source": [
    "# The `while` loop\n",
    "\n",
    "A `while` loop, unlike the `for` loop, is more commonly thought of as one where you do not know ahead of time how long your loop is going to run."
   ]
  },
  {
   "cell_type": "code",
   "execution_count": null,
   "id": "1f4c6484",
   "metadata": {
    "slideshow": {
     "slide_type": "-"
    }
   },
   "outputs": [],
   "source": [
    "x = 100\n",
    "while x > 1\n",
    "    println(x)\n",
    "    x = x / 2\n",
    "end\n"
   ]
  },
  {
   "cell_type": "markdown",
   "id": "b152542f",
   "metadata": {
    "slideshow": {
     "slide_type": "slide"
    }
   },
   "source": [
    "# Why use them?\n",
    "\n",
    "`while` loops are a lot more common in systems programming, web services, etc. \n",
    "\n",
    "In research computing we tend to know how much data we have at every point in the program, so `while` loops are just not as common."
   ]
  },
  {
   "cell_type": "markdown",
   "id": "1481f5b4",
   "metadata": {
    "slideshow": {
     "slide_type": "slide"
    }
   },
   "source": [
    "Doesn't mean they aren't useful! `while` loops are an excellent tool for optimizing an objective to within a tolerance, or doing something __until a quantity of interest converges__.\n",
    "\n",
    "For example, we might be looking for a value $V^n(x)$ until $G(V^n(x)) \\le \\epsilon$.\n",
    "\n",
    "```julia \n",
    "value = 0\n",
    "epsilon = 1e-8\n",
    "\n",
    "while loss_function(value) >= epsilon\n",
    "    . . . # Do some mathy stuff\n",
    "    value = new_value\n",
    "end\n",
    "```"
   ]
  },
  {
   "cell_type": "markdown",
   "id": "46179c19",
   "metadata": {
    "slideshow": {
     "slide_type": "slide"
    }
   },
   "source": [
    "# `break` and `continue`\n",
    "\n",
    "Julia (like many languages) supports early skipping/termination of loops.\n",
    "\n",
    "`break` exits the current loop:"
   ]
  },
  {
   "cell_type": "code",
   "execution_count": null,
   "id": "2e56c4ac",
   "metadata": {
    "slideshow": {
     "slide_type": "-"
    }
   },
   "outputs": [],
   "source": [
    "for i in 1:10\n",
    "    println(i)\n",
    "    break\n",
    "end\n",
    "    \n",
    "println(\"all done\")"
   ]
  },
  {
   "cell_type": "markdown",
   "id": "47defe8d",
   "metadata": {
    "slideshow": {
     "slide_type": "slide"
    }
   },
   "source": [
    "`continue` goes to the next iteration (in a `for` loop) or back to the `while` condition:"
   ]
  },
  {
   "cell_type": "code",
   "execution_count": null,
   "id": "0bcbd7ea",
   "metadata": {
    "scrolled": true
   },
   "outputs": [],
   "source": [
    "for i in 1:10\n",
    "    # Skip even numbers\n",
    "    if rem(i, 2) == 0\n",
    "        continue\n",
    "    end\n",
    "    \n",
    "    println(i)\n",
    "end\n"
   ]
  },
  {
   "cell_type": "markdown",
   "id": "852cce95",
   "metadata": {
    "slideshow": {
     "slide_type": "slide"
    }
   },
   "source": [
    "I had a boss once who got mad at me for using `break` and `continue` in production code, because it makes it very difficult to read. \n",
    "\n",
    "He is right! They are not the best tools.\n",
    "\n",
    "If you also have an annoyingly correct boss or care about your style, consider just using conditional evaluation:"
   ]
  },
  {
   "cell_type": "code",
   "execution_count": null,
   "id": "17f3f815",
   "metadata": {
    "scrolled": true,
    "slideshow": {
     "slide_type": ""
    }
   },
   "outputs": [],
   "source": [
    "for i in 1:10\n",
    "    if rem(i, 2) != 0\n",
    "        println(i)\n",
    "    end\n",
    "end"
   ]
  },
  {
   "cell_type": "markdown",
   "id": "a1d34eb0",
   "metadata": {
    "slideshow": {
     "slide_type": "slide"
    }
   },
   "source": [
    "# Exceptions\n",
    "\n",
    "I am not going to teach you how to use `try`, `catch`, and `finally` here, because they are the world's greatest foot-gun if you don't understand them. \n",
    "\n",
    "I'll talk more about these in the __Performant Programming and Best Practices__ workshop.\n",
    "\n",
    "If you understand them already, I want to familiarize you with the syntax:"
   ]
  },
  {
   "cell_type": "code",
   "execution_count": null,
   "id": "76fbfeba",
   "metadata": {},
   "outputs": [],
   "source": [
    "try \n",
    "    hats_are_a_dogs_best_friend(15, \"red\")\n",
    "catch e # e here is the exception struct\n",
    "    println(e)\n",
    "finally # finally executes regardless of whether we fell into the catch block\n",
    "    println(\"I did the work, boss\")\n",
    "end"
   ]
  },
  {
   "cell_type": "markdown",
   "id": "469ffa89",
   "metadata": {
    "slideshow": {
     "slide_type": "slide"
    }
   },
   "source": [
    "# Questions?\n",
    "\n",
    "About control flow, `if`/`elseif`/`else`, `for`, and `while`?"
   ]
  },
  {
   "cell_type": "markdown",
   "id": "1ac137ee",
   "metadata": {
    "slideshow": {
     "slide_type": "slide"
    }
   },
   "source": [
    "# Linear algebra\n",
    "\n",
    "Econs LOVE linear algebra for some reason (nerds) so I figured I had to show you how to use it.\n",
    "\n",
    "Julia was originally intended to be a scientific computing language, so it comes with a very robust suite of linear algebra tools."
   ]
  },
  {
   "cell_type": "markdown",
   "id": "6df5f1ea",
   "metadata": {
    "slideshow": {
     "slide_type": "slide"
    }
   },
   "source": [
    "# Linear algebra functions\n",
    "\n",
    "If you import the `LinearAlgebra` module, you'll get a bunch of handy tools:\n",
    "\n",
    "- `inv` for matrix inversions\n",
    "- `det` for determinant\n",
    "- `tr` for trace\n",
    "- `eigvals` and `eigvecs` for eigen values and vectors, respectively.\n",
    "- `factorize` for more efficient representations of your matrix (upper, lower, diagonal, etc.)\n",
    "- Many more [here](https://docs.julialang.org/en/v1/stdlib/LinearAlgebra/)."
   ]
  },
  {
   "cell_type": "markdown",
   "id": "80357a79",
   "metadata": {
    "slideshow": {
     "slide_type": "slide"
    }
   },
   "source": [
    "# OLS\n",
    "\n",
    "I imagine many people in the audience are familiar with the normal equations for OLS.\n",
    "\n",
    "Consider the specification\n",
    "\n",
    "$$\n",
    "Y = X \\beta + \\epsilon\n",
    "$$\n",
    "\n",
    "We know that the least squares estimate of $\\beta$ is \n",
    "\n",
    "$$\n",
    "\\hat\\beta = (X'X)^{-1}X'Y\n",
    "$$\n",
    "\n",
    "Let's give it a shot."
   ]
  },
  {
   "cell_type": "code",
   "execution_count": null,
   "id": "2e73169e",
   "metadata": {
    "slideshow": {
     "slide_type": "slide"
    }
   },
   "outputs": [],
   "source": [
    "# Import the linear algebra functions.\n",
    "using LinearAlgebra\n",
    "\n",
    "# Create a 100x3 matrix of standard Gaussians\n",
    "X = randn(100, 3)\n",
    "X[:,1] = ones(size(X, 1)) # Add a constant column.\n",
    "\n",
    "# Define coefficient: intercept, coef on column 2, coef on column 3.\n",
    "β = [5.0, 2.0, -1.5]\n",
    "Y = X*β + randn(size(X, 1)); # The semicolon at the end prevents this line from displaying"
   ]
  },
  {
   "cell_type": "code",
   "execution_count": null,
   "id": "a97d8c89",
   "metadata": {
    "slideshow": {
     "slide_type": "slide"
    }
   },
   "outputs": [],
   "source": [
    "# Matrix squaring\n",
    "X'X"
   ]
  },
  {
   "cell_type": "code",
   "execution_count": null,
   "id": "487b4049",
   "metadata": {
    "slideshow": {
     "slide_type": "slide"
    }
   },
   "outputs": [],
   "source": [
    "# OLS normal equations\n",
    "β_hat = inv(X'X)X'Y"
   ]
  },
  {
   "cell_type": "code",
   "execution_count": null,
   "id": "65110751",
   "metadata": {},
   "outputs": [],
   "source": [
    "# Making predictions using β_hat\n",
    "Y_hat = X*β_hat\n",
    "\n",
    "# Calculating the SSE\n",
    "e = Y_hat - Y\n",
    "sse = e'e"
   ]
  },
  {
   "cell_type": "markdown",
   "id": "79ec6ea1",
   "metadata": {
    "slideshow": {
     "slide_type": "slide"
    }
   },
   "source": [
    "# Concept check!\n",
    "\n",
    "Let's do something cool -- let's roll our own little estimator that spits out (a) the coefficient estimates, (b) the variance covariance matrix of beta hat, and (c) t-stats (against null $\\beta_k=0 \\forall k$) for the coefficient estimator.\n",
    "\n",
    "Recall that\n",
    "\n",
    "\\begin{align*}\n",
    "\\hat \\beta &= (X'X)^{-1}X'Y \\\\\n",
    "s^2 &= \\frac{(\\hat Y - Y)'(\\hat Y - Y)}{n - K} \\\\\n",
    "\\Sigma^\\text{SE} &= s^2 (X'X)^{-1} \\\\ \n",
    "t_k &= \\frac{\\hat\\beta_k - \\beta_k}{\\Sigma^\\text{SE}_{kk}}\n",
    "\\end{align*}\n",
    "\n",
    "for number of observations $n$ and number of variables $K$. You can get `n, K = size(X)`.\n",
    "\n",
    "I will put bare-bones code that only has the coefficient estimates in the chat!"
   ]
  },
  {
   "cell_type": "code",
   "execution_count": null,
   "id": "7e3c70f2",
   "metadata": {
    "slideshow": {
     "slide_type": "skip"
    }
   },
   "outputs": [],
   "source": [
    "# Create a 100x3 matrix of standard Gaussians\n",
    "X = randn(100, 3)\n",
    "X[:,1] = ones(size(X, 1)) # Add a constant column.\n",
    "\n",
    "# Define coefficient: intercept, coef on column 2, coef on column 3.\n",
    "β = [5.0, 2.0, -1.5]\n",
    "Y = X*β + randn(size(X, 1)); # The semicolon at the end prevents this line from displaying\n",
    "\n",
    "# Expand this function to return\n",
    "# 1. beta_hat\n",
    "# 2. the variance covariance matrix of beta_hat\n",
    "# 3. t-stats for beta_hat\n",
    "function ols(X, Y)\n",
    "    beta_hat = inv(X'X)X'Y\n",
    "end\n",
    "\n",
    "ols(X, Y)"
   ]
  },
  {
   "cell_type": "code",
   "execution_count": null,
   "id": "4529c162",
   "metadata": {
    "slideshow": {
     "slide_type": "skip"
    }
   },
   "outputs": [],
   "source": [
    "# An answer key\n",
    "function ols(X, Y)\n",
    "    beta_hat = inv(X'X)X'Y\n",
    "    Y_hat = X*beta_hat\n",
    "    e = Y_hat - Y\n",
    "    \n",
    "    n = size(X, 1)\n",
    "    K = size(X, 2)\n",
    "    \n",
    "    s2 = e'e / (n-K)\n",
    "    sigma_se = s2 * inv(X'X)\n",
    "    t = beta_hat ./ diag(sigma_se)\n",
    "    \n",
    "    return beta_hat, sigma_se, t\n",
    "end\n",
    "\n",
    "beta_hat, sigma_se, t = ols(X, Y)"
   ]
  },
  {
   "cell_type": "markdown",
   "id": "bcebcb08",
   "metadata": {
    "slideshow": {
     "slide_type": "slide"
    }
   },
   "source": [
    "# Questions?"
   ]
  },
  {
   "cell_type": "markdown",
   "id": "b63fced5",
   "metadata": {
    "slideshow": {
     "slide_type": "slide"
    }
   },
   "source": [
    "# Types\n",
    "\n",
    "Julia does not have \"objects\" like you might be familiar with in R or Python. \n",
    "\n",
    "Julia has types. Everything in Julia has a type that may be a subtype of something else.\n",
    "\n",
    "You can actually have long chains of types. For example, the subgraph of types for `Int64` is"
   ]
  },
  {
   "cell_type": "code",
   "execution_count": null,
   "id": "6a2a6032",
   "metadata": {},
   "outputs": [],
   "source": [
    "# This line actually returns true/false -- the <: operator says \"left is a subtype of right\"\n",
    "Int64 <: Signed <: Integer <: Real <: Number <: Any"
   ]
  },
  {
   "cell_type": "markdown",
   "id": "431dc16c",
   "metadata": {
    "slideshow": {
     "slide_type": "slide"
    }
   },
   "source": [
    "# Type annotations\n",
    "\n",
    "You will often see code like `thing::NameOfType`. \n",
    "\n",
    "This is how you tell Julia's compiler `thing` should be of type `NameOfType` or a descendant of `NameOfType`. A shorthand operator for this is `typeof(thing) <: NameOfType`. If this does not evaluate to true, Julia will get mad at you."
   ]
  },
  {
   "cell_type": "code",
   "execution_count": null,
   "id": "ea909094",
   "metadata": {
    "scrolled": true
   },
   "outputs": [],
   "source": [
    "\"howdy\"::String"
   ]
  },
  {
   "cell_type": "code",
   "execution_count": null,
   "id": "a0eb8b36",
   "metadata": {},
   "outputs": [],
   "source": [
    "# Errors because typeof(1) is Int64, not Float64\n",
    "1::Float64"
   ]
  },
  {
   "cell_type": "code",
   "execution_count": null,
   "id": "a474067d",
   "metadata": {},
   "outputs": [],
   "source": [
    "# Real is a more general type, so you won't get an error here:\n",
    "1::Real"
   ]
  },
  {
   "cell_type": "markdown",
   "id": "a8b259d1",
   "metadata": {
    "slideshow": {
     "slide_type": "slide"
    }
   },
   "source": [
    "# Type annotations\n",
    "\n",
    "You can use type annotations to explicitly say what you think a type should be. In idiomatic Julia, it's not really common to do so outside of \n",
    "\n",
    "1. The argument types, i.e. \n",
    "\n",
    "```julia\n",
    "f(x::Int, y::Float64) = ...\n",
    "```\n",
    "\n",
    "2. The return value:\n",
    "\n",
    "```julia\n",
    "f(x::Float64, y::Float64) = (x+y)::Float64\n",
    "```\n",
    "\n",
    "In case 2, the compiler is typically able to infer the type of `(x+y)` without you needing to do the annotation. \n",
    "\n",
    "My recommendation? Keep type annotations to a **minimum**!"
   ]
  },
  {
   "cell_type": "markdown",
   "id": "e0467b2c",
   "metadata": {
    "slideshow": {
     "slide_type": "slide"
    }
   },
   "source": [
    "# Abstract types\n",
    "\n",
    "The core atom of Julia's type system is called an __abstract type__.\n",
    "\n",
    "An abstract type tells us about the _class of behaviors_ we should expect.\n",
    "\n",
    "In the case of integers, we know that `Integer` is an abstract type telling us that, whatever subtype we get (signed, unsigned, 8/16/32/64/128 bits, etc.), we can do all the things with the values that we do with other integers.\n",
    "\n",
    "Let me cook up an example for you to see how this works."
   ]
  },
  {
   "cell_type": "markdown",
   "id": "caf7b35f",
   "metadata": {
    "slideshow": {
     "slide_type": "slide"
    }
   },
   "source": [
    "# Abstract types & structs\n",
    "\n",
    "Abstract types cannot be __instantiated__, meaning we can't ever create them. They are just a way for us to organize the types we have.\n",
    "\n",
    "The things we _can_ instantiate are called __structs__. A struct is a wrapper around some fields. These are also known as _composite types_, _records_, and sometimes _objects_.\n",
    "\n",
    "Here is an example of how we might define a struct (with no supertype)."
   ]
  },
  {
   "cell_type": "code",
   "execution_count": null,
   "id": "76895ee5",
   "metadata": {
    "slideshow": {
     "slide_type": "slide"
    }
   },
   "outputs": [],
   "source": [
    "struct SomeStuff\n",
    "    field::Float64\n",
    "end\n",
    "\n",
    "some_stuff = SomeStuff(0.5)"
   ]
  },
  {
   "cell_type": "code",
   "execution_count": null,
   "id": "5ea94b0f",
   "metadata": {},
   "outputs": [],
   "source": [
    "some_stuff.field"
   ]
  },
  {
   "cell_type": "markdown",
   "id": "62f6596d",
   "metadata": {
    "slideshow": {
     "slide_type": "slide"
    }
   },
   "source": [
    "Now, let me show you how we can combine __structs__ (things we can actually make) and __abstract types__ (concepts that organize our structs).\n",
    "\n",
    "I'm going to wrap these types in a `module`, which you can think of as a little library of types and functions that serve a specific purpose."
   ]
  },
  {
   "cell_type": "code",
   "execution_count": null,
   "id": "3c79abde",
   "metadata": {
    "slideshow": {
     "slide_type": "slide"
    }
   },
   "outputs": [],
   "source": [
    "module VehicleTypes\n",
    "\n",
    "# Our top level type\n",
    "abstract type MobilityDevice end\n",
    "\n",
    "# Subtypes for car/bicycle\n",
    "abstract type Car <: MobilityDevice end\n",
    "abstract type Bicycle <: MobilityDevice end\n",
    "\n",
    "# Subtypes for car\n",
    "struct Combustion <: Car \n",
    "    gallons::Float64\n",
    "    mpg::Float64\n",
    "end\n",
    "struct Electric <: Car \n",
    "    emiles::Int64\n",
    "end\n",
    "\n",
    "# Subtypes for bicycle\n",
    "struct Road <: Bicycle\n",
    "    purchase_cost::Float64\n",
    "end\n",
    "struct Mountain <: Bicycle\n",
    "    maintenance_cost::Float64\n",
    "end\n",
    "\n",
    "# Make our types available outside the module\n",
    "export Electric, Combustion, \n",
    "    Road, Mountain, \n",
    "    Car, Bicycle, \n",
    "    MobilityDevice\n",
    "\n",
    "end"
   ]
  },
  {
   "cell_type": "code",
   "execution_count": null,
   "id": "0aa36ad5",
   "metadata": {
    "slideshow": {
     "slide_type": "slide"
    }
   },
   "outputs": [],
   "source": [
    "# Import the types we just made\n",
    "using Main.VehicleTypes"
   ]
  },
  {
   "cell_type": "markdown",
   "id": "b5ea2a3b",
   "metadata": {
    "slideshow": {
     "slide_type": "slide"
    }
   },
   "source": [
    "Now let's _instantiate_ some of the structs we made (`Electric`, `Combustion`, `Road`, `Mountain`)"
   ]
  },
  {
   "cell_type": "code",
   "execution_count": null,
   "id": "2f45b4b7",
   "metadata": {
    "slideshow": {
     "slide_type": "slide"
    }
   },
   "outputs": [],
   "source": [
    "electric_car = Electric(225.0)\n",
    "ice_car = Combustion(11.0, 21.0) # just shy of an 11 gallon tank\n",
    "fast_bike = Road(1500.99)\n",
    "cool_bike = Mountain(49.99)"
   ]
  },
  {
   "cell_type": "code",
   "execution_count": null,
   "id": "fa83f144",
   "metadata": {
    "slideshow": {
     "slide_type": "slide"
    }
   },
   "outputs": [],
   "source": [
    "# Which ones move?\n",
    "moves(thing::MobilityDevice) = true\n",
    "moves(thing) = false # this is equivalent to moves(thing::Any)\n",
    "\n",
    "map(moves, [electric_car, ice_car, fast_bike, cool_bike, \"hats\"])"
   ]
  },
  {
   "cell_type": "code",
   "execution_count": null,
   "id": "4f3fd284",
   "metadata": {
    "slideshow": {
     "slide_type": "slide"
    }
   },
   "outputs": [],
   "source": [
    "# Check which ones are human powered\n",
    "human_powered(thing::Car) = false\n",
    "human_powered(thing::Bicycle) = true\n",
    "\n",
    "map(human_powered, [electric_car, ice_car, fast_bike, cool_bike])"
   ]
  },
  {
   "cell_type": "code",
   "execution_count": null,
   "id": "7a4ace8a",
   "metadata": {
    "slideshow": {
     "slide_type": "slide"
    }
   },
   "outputs": [],
   "source": [
    "# How far can we go?\n",
    "distance_avail(thing::Electric) = thing.emiles\n",
    "distance_avail(thing::Combustion) = thing.gallons * thing.mpg\n",
    "\n",
    "map(distance_avail, [electric_car, ice_car])"
   ]
  },
  {
   "cell_type": "code",
   "execution_count": null,
   "id": "3c027359",
   "metadata": {
    "slideshow": {
     "slide_type": "slide"
    }
   },
   "outputs": [],
   "source": [
    "# Which car should I buy, using only distance as my criteria?\n",
    "function which_car(cars::Vector{<:Car})\n",
    "    distances = map(distance_avail, cars)\n",
    "    dist, position = findmax(distances)\n",
    "    return cars[position]\n",
    "end\n",
    "\n",
    "cars = [\n",
    "    Combustion(10, 15),\n",
    "    Combustion(13, 12),\n",
    "    Combustion(11, 32),\n",
    "    Electric(222),\n",
    "    Electric(224),\n",
    "    Electric(312)\n",
    "]"
   ]
  },
  {
   "cell_type": "code",
   "execution_count": null,
   "id": "446f11c5",
   "metadata": {
    "slideshow": {
     "slide_type": "slide"
    }
   },
   "outputs": [],
   "source": [
    "# Let's call it! What car should I buy?\n",
    "best_car = which_car(cars)"
   ]
  },
  {
   "cell_type": "markdown",
   "id": "01d3e450",
   "metadata": {
    "slideshow": {
     "slide_type": "slide"
    }
   },
   "source": [
    "# Multiple dispatch\n",
    "\n",
    "Everything I've done above is an example of __multiple dispatch__. We defined a hierarchy of types, and defined functions that\n",
    "\n",
    "1. Operated differently on different types\n",
    "2. Operated differently at different _levels_ of types\n",
    "\n",
    "Multiple dispatch turns out to be an amazing tool -- you can define different functions for different inputs that use the same name!"
   ]
  },
  {
   "cell_type": "markdown",
   "id": "d64a11db",
   "metadata": {},
   "source": [
    "# Questions?\n",
    "\n",
    "About the basics of the type system?"
   ]
  },
  {
   "cell_type": "markdown",
   "id": "49c6a126",
   "metadata": {
    "slideshow": {
     "slide_type": "slide"
    }
   },
   "source": [
    "# Data input/output (I/O)\n",
    "\n",
    "The common way to get data into Julia is using CSV files, but you can import basically any data file (.dta, .mat, .b7dat, etc.)\n",
    "\n",
    "I'll show you how to import data with the package `CSV`.\n",
    "\n",
    "First, we need to install it! I'll have you install `DataFrames` too, while we're at it.\n",
    "\n",
    "Access the REPL and type `] add CSV DataFrames`."
   ]
  },
  {
   "cell_type": "markdown",
   "id": "ba287628",
   "metadata": {
    "slideshow": {
     "slide_type": "slide"
    }
   },
   "source": [
    "I've made a demo `.csv` file which you can download from here:\n",
    "\n",
    "https://raw.githubusercontent.com/cpfiffer/julia-bootcamp-2022/main/session-1/example.csv\n",
    "\n",
    "You can do this in Julia with"
   ]
  },
  {
   "cell_type": "code",
   "execution_count": null,
   "id": "79c0e5cb",
   "metadata": {},
   "outputs": [],
   "source": [
    "import Downloads\n",
    "Downloads.download(\n",
    "    \"https://raw.githubusercontent.com/cpfiffer/julia-bootcamp-2022/main/session-1/example.csv\",\n",
    "    \"example.csv\"\n",
    ")"
   ]
  },
  {
   "cell_type": "markdown",
   "id": "484959e3",
   "metadata": {
    "slideshow": {
     "slide_type": "slide"
    }
   },
   "source": [
    "Now let's get our data into Julia!"
   ]
  },
  {
   "cell_type": "code",
   "execution_count": null,
   "id": "788c36e7",
   "metadata": {},
   "outputs": [],
   "source": [
    "using CSV, DataFrames\n",
    "\n",
    "df = DataFrame(CSV.File(\"example.csv\"))"
   ]
  },
  {
   "cell_type": "markdown",
   "id": "775b5a6e",
   "metadata": {
    "slideshow": {
     "slide_type": "slide"
    }
   },
   "source": [
    "## Data frames\n",
    "\n",
    "All languages we're used to have a construct for some kind of rectangular/tabular data.\n",
    "\n",
    "In Julia, we have a very popular package called `DataFrames` that emulates this construct. \n",
    "\n",
    "Using our data from above, we can do all kinds of fun things:\n"
   ]
  },
  {
   "cell_type": "code",
   "execution_count": null,
   "id": "fbcb448d",
   "metadata": {
    "slideshow": {
     "slide_type": "slide"
    }
   },
   "outputs": [],
   "source": [
    "# Get a single column\n",
    "df.name\n",
    "df[:, :name] # is equivalent"
   ]
  },
  {
   "cell_type": "code",
   "execution_count": null,
   "id": "7a673d07",
   "metadata": {
    "scrolled": true,
    "slideshow": {
     "slide_type": "slide"
    }
   },
   "outputs": [],
   "source": [
    "# Get several columns\n",
    "df[:, [:name, :attribute]]"
   ]
  },
  {
   "cell_type": "code",
   "execution_count": null,
   "id": "71c1db3e",
   "metadata": {},
   "outputs": [],
   "source": [
    "# Can also use select:\n",
    "select(df, [:name, :attribute])"
   ]
  },
  {
   "cell_type": "code",
   "execution_count": null,
   "id": "9b604a19",
   "metadata": {
    "slideshow": {
     "slide_type": "slide"
    }
   },
   "outputs": [],
   "source": [
    "# Get a row\n",
    "df[1, :]"
   ]
  },
  {
   "cell_type": "code",
   "execution_count": null,
   "id": "13e056b3",
   "metadata": {
    "slideshow": {
     "slide_type": "slide"
    }
   },
   "outputs": [],
   "source": [
    "# Get several rows\n",
    "df[1:2, :]"
   ]
  },
  {
   "cell_type": "code",
   "execution_count": null,
   "id": "48a50df3",
   "metadata": {
    "slideshow": {
     "slide_type": "slide"
    }
   },
   "outputs": [],
   "source": [
    "# Get rows for which a condition is true\n",
    "df[df.awesomeness .>= 3, :]"
   ]
  },
  {
   "cell_type": "code",
   "execution_count": null,
   "id": "5042f9cc",
   "metadata": {
    "slideshow": {
     "slide_type": "-"
    }
   },
   "outputs": [],
   "source": [
    "# Get hat owners\n",
    "df[df.owns_hat, :]"
   ]
  },
  {
   "cell_type": "code",
   "execution_count": null,
   "id": "31cc7bcb",
   "metadata": {
    "scrolled": true
   },
   "outputs": [],
   "source": [
    "# Side note, we can also use filter here:\n",
    "filter(x -> x.owns_hat, df)"
   ]
  },
  {
   "cell_type": "code",
   "execution_count": null,
   "id": "372ff2ce",
   "metadata": {
    "slideshow": {
     "slide_type": "slide"
    }
   },
   "outputs": [],
   "source": [
    "# Using groupby to get average wealth by hat ownership\n",
    "using Statistics # to get the mean function\n",
    "group = groupby(df, :owns_hat)\n",
    "combine(group, :wealth => mean, :awesomeness => mean, :awesomeness => std)"
   ]
  },
  {
   "cell_type": "code",
   "execution_count": null,
   "id": "41976c71",
   "metadata": {
    "slideshow": {
     "slide_type": "slide"
    }
   },
   "outputs": [],
   "source": [
    "# Make a second datafame with names & ids\n",
    "name_df = DataFrame(\n",
    "    name = [\"jane\", \"emilio\", \"bojack\"],\n",
    "    id = [\"J876-A\", \"E993-B\", \"B261-L\"]\n",
    ")\n",
    "\n",
    "# Left join\n",
    "leftjoin(df, name_df, on=:name)"
   ]
  },
  {
   "cell_type": "code",
   "execution_count": null,
   "id": "dc99e2ef",
   "metadata": {
    "slideshow": {
     "slide_type": "slide"
    }
   },
   "outputs": [],
   "source": [
    "# Right join\n",
    "rightjoin(df, name_df, on=:name)"
   ]
  },
  {
   "cell_type": "code",
   "execution_count": null,
   "id": "9b5aefc0",
   "metadata": {
    "slideshow": {
     "slide_type": "slide"
    }
   },
   "outputs": [],
   "source": [
    "# Inner joins\n",
    "innerjoin(df, name_df, on=:name)"
   ]
  },
  {
   "cell_type": "code",
   "execution_count": null,
   "id": "f2003158",
   "metadata": {
    "slideshow": {
     "slide_type": "slide"
    }
   },
   "outputs": [],
   "source": [
    "# Outer joins\n",
    "outerjoin(df, name_df, on=:name)"
   ]
  },
  {
   "cell_type": "markdown",
   "id": "a9857c53",
   "metadata": {
    "slideshow": {
     "slide_type": "slide"
    }
   },
   "source": [
    "## Writing the data to a `.csv` file\n",
    "\n",
    "So far we've only imported, but you can write a CSV with `CSV.write`:"
   ]
  },
  {
   "cell_type": "code",
   "execution_count": null,
   "id": "9e311749",
   "metadata": {},
   "outputs": [],
   "source": [
    "# Make up some data\n",
    "ndf = DataFrame(\n",
    "    randn(1_000, 5),          # 1k rows, 5 columns of standard normals\n",
    "    [\"a\", \"b\", \"c\", \"d\", \"e\"] # Column names\n",
    ")\n",
    "\n",
    "first(ndf, 3)"
   ]
  },
  {
   "cell_type": "code",
   "execution_count": null,
   "id": "b060f136",
   "metadata": {},
   "outputs": [],
   "source": [
    "# Write the file to disk\n",
    "CSV.write(\"example-write.csv\", ndf)"
   ]
  },
  {
   "cell_type": "markdown",
   "id": "285b4cc5",
   "metadata": {
    "slideshow": {
     "slide_type": "slide"
    }
   },
   "source": [
    "# Questions?\n",
    "\n",
    "About `DataFrames` and `CSV`?"
   ]
  },
  {
   "cell_type": "markdown",
   "id": "731b0718",
   "metadata": {
    "slideshow": {
     "slide_type": "slide"
    }
   },
   "source": [
    "# Visualization\n",
    "\n",
    "Julia has a _really_ good visualization ecosystem. \n",
    "\n",
    "Major packages:\n",
    "- Plots.jl (everything)\n",
    "- UnicodePlots.jl (quick-and-dirty text plots)\n",
    "- Makie.jl (for complex, GPU-enabled stuff)\n",
    "\n",
    "I'll focus on `Plots` and `StatsPlots`, both of which are (currently) the most commonly used in Julia.\n",
    "\n",
    "Install them with `] add Plots StatsPlots`."
   ]
  },
  {
   "cell_type": "markdown",
   "id": "4aafcea6",
   "metadata": {
    "slideshow": {
     "slide_type": "slide"
    }
   },
   "source": [
    "Here's a quick example of how to do a basic plot!"
   ]
  },
  {
   "cell_type": "code",
   "execution_count": null,
   "id": "efd24fe1",
   "metadata": {
    "slideshow": {
     "slide_type": "-"
    }
   },
   "outputs": [],
   "source": [
    "using Plots\n",
    "\n",
    "xs = 0:0.1:15\n",
    "ys = sin.(xs)\n",
    "\n",
    "plot(xs, ys)"
   ]
  },
  {
   "cell_type": "code",
   "execution_count": null,
   "id": "26615259",
   "metadata": {
    "slideshow": {
     "slide_type": "slide"
    }
   },
   "outputs": [],
   "source": [
    "# We can add titles/legends/colors/etc. with keywords:\n",
    "plot(xs, ys, color=:red, title=\"A plot\", label=\"series 1\")"
   ]
  },
  {
   "cell_type": "code",
   "execution_count": null,
   "id": "77e42c68",
   "metadata": {
    "slideshow": {
     "slide_type": "slide"
    }
   },
   "outputs": [],
   "source": [
    "# We can plot multiple series on top of each other\n",
    "ys1 = sin.(xs)\n",
    "ys2 = cos.(xs)\n",
    "\n",
    "plot(xs, ys1)\n",
    "plot!(xs, ys2) # note the !, which means \"modify something\""
   ]
  },
  {
   "cell_type": "code",
   "execution_count": null,
   "id": "a647b077",
   "metadata": {
    "scrolled": true,
    "slideshow": {
     "slide_type": "slide"
    }
   },
   "outputs": [],
   "source": [
    "# lots of types of plots:\n",
    "plot(\n",
    "    scatter(xs, ys1),\n",
    "    plot(xs, ys1),\n",
    "    \n",
    ")"
   ]
  },
  {
   "cell_type": "code",
   "execution_count": null,
   "id": "c4a11c55",
   "metadata": {
    "slideshow": {
     "slide_type": "slide"
    }
   },
   "outputs": [],
   "source": [
    "# Overlay two different plot types on top of each other!\n",
    "plot(xs, ys1)\n",
    "scatter!(xs, ys1)"
   ]
  },
  {
   "cell_type": "code",
   "execution_count": null,
   "id": "b5616ac1",
   "metadata": {
    "slideshow": {
     "slide_type": "slide"
    }
   },
   "outputs": [],
   "source": [
    "# StatsPlots allows the use of densities\n",
    "using StatsPlots\n",
    "\n",
    "draws = randn(1000)\n",
    "\n",
    "plot(\n",
    "    density(draws),\n",
    "    histogram(draws)\n",
    ")\n"
   ]
  },
  {
   "cell_type": "code",
   "execution_count": null,
   "id": "90ee46ed",
   "metadata": {
    "slideshow": {
     "slide_type": "slide"
    }
   },
   "outputs": [],
   "source": [
    "# Plots with marginals!\n",
    "using Distributions, StatsPlots\n",
    "dist = MvNormal([0,0], [1.0 0.5; 0.5 2.0])\n",
    "draws = rand(dist, 1000)\n",
    "\n",
    "scatter(draws[1,:], draws[2,:])"
   ]
  },
  {
   "cell_type": "code",
   "execution_count": null,
   "id": "ce44c5d6",
   "metadata": {
    "slideshow": {
     "slide_type": "slide"
    }
   },
   "outputs": [],
   "source": [
    "marginalkde(draws[1,:], draws[2,:])"
   ]
  },
  {
   "cell_type": "code",
   "execution_count": null,
   "id": "cb798c6c",
   "metadata": {
    "slideshow": {
     "slide_type": "slide"
    }
   },
   "outputs": [],
   "source": [
    "# Plots with marginals!\n",
    "using Distributions, StatsPlots\n",
    "dist = MvNormal(\n",
    "    [0,0,0], \n",
    "    [\n",
    "         1.0 0.5 -0.2; \n",
    "         0.5 2.0  0.0;\n",
    "        -0.2 0.0 4.0\n",
    "    ])\n",
    "draws = rand(dist, 1000)\n",
    "\n",
    "scatter3d(draws[1,:], draws[2,:], draws[3,:], alpha=0.5)"
   ]
  },
  {
   "cell_type": "markdown",
   "id": "49d3d1a1",
   "metadata": {
    "slideshow": {
     "slide_type": "slide"
    }
   },
   "source": [
    "# Questions?\n",
    "\n",
    "About visualization?\n",
    "\n",
    "Next up is the project!"
   ]
  },
  {
   "cell_type": "markdown",
   "id": "5bf769a9",
   "metadata": {
    "slideshow": {
     "slide_type": "slide"
    }
   },
   "source": [
    "# Project time\n",
    "\n",
    "For the individual project today, I want us to do something very simple that should help you figure out how to work with multiple dispatch in a Julian way.\n",
    "\n",
    "We are going to write an `ols` function that allows you to optionally request bootstrapped standard errors!"
   ]
  },
  {
   "cell_type": "markdown",
   "id": "237a452b",
   "metadata": {
    "slideshow": {
     "slide_type": "slide"
    }
   },
   "source": [
    "# Bootstrapping\n",
    "\n",
    "Bootstrapping is a simple statistical procedure that happens to be computationally fun. If you already know how to do this in other languages, feel free to glaze over here.\n",
    "\n",
    "Otherwise, here's the framework. Let's begin with a simple linear model:\n",
    "\n",
    "$$\n",
    "Y = X \\beta + \\epsilon, \\quad \\epsilon \\sim N(0, \\Sigma)\n",
    "$$\n",
    "\n",
    "A simple form for $\\Sigma$, often called spherical or homoscedastic errors, has\n",
    "\n",
    "$$\n",
    "\\Sigma = \\begin{bmatrix}\n",
    "\\sigma^2 & 0        & \\dots \\\\\n",
    "0        & \\sigma^2 &       \\\\\n",
    "\\vdots   &          & \\ddots \\\\ \n",
    "\\end{bmatrix} = \\sigma^2 I\n",
    "$$"
   ]
  },
  {
   "cell_type": "markdown",
   "id": "6275b60a",
   "metadata": {
    "slideshow": {
     "slide_type": "slide"
    }
   },
   "source": [
    "## Spherical errors\n",
    "\n",
    "Consider the OLS estimator \n",
    "\n",
    "$$\n",
    "\\hat\\beta = (X'X)^{-1}X'Y\n",
    "$$\n",
    "\n",
    "we know that assuming spherical standard errors here yields\n",
    "\n",
    "$$\n",
    "\\text{Var}[\\hat\\beta \\mid X] = \\sigma^2 (X'X)^{-1}\n",
    "$$\n",
    "\n",
    "where we can estimate $\\sigma^2$ with $s^2$:\n",
    "\n",
    "$$\n",
    "s^2 = \\frac{(\\hat Y - Y)'(\\hat Y - Y)}{n - K}\n",
    "$$"
   ]
  },
  {
   "cell_type": "markdown",
   "id": "9f1488d8",
   "metadata": {
    "slideshow": {
     "slide_type": "slide"
    }
   },
   "source": [
    "## Bootstrapping\n",
    "\n",
    "If we don't really want to make this assumption, or we don't want to do the math to get the variance structure of our estimator, we can just bootstrap it! (don't @ me if you are mad about this, ain't no amazing econometrician)\n",
    "\n",
    "The bootstrapping procedure goes something like this:\n",
    "\n",
    "1. Estimate $\\hat \\beta$ $T$ times, with different subsamples. For each $t$ in $1,\\dots,T$:\n",
    "    1. Sample $m$ data points from $X$ and $Y$ with replacement. Denote these $X_t$ and $Y_t$.\n",
    "    2. Estimate $\\hat\\beta_t$ using the resampled $(X_t, Y_t)$.\n",
    "2. Calculate the final estimates and their standard errors as\n",
    "\n",
    "\\begin{align*}\n",
    "    \\hat\\beta &= \\frac1T \\sum_{t}^T \\hat\\beta_t \\\\ \n",
    "    SE(\\hat\\beta) &= \\frac{1}{\\sqrt{T}} \\sqrt{\\text{diag}\\bigg(\\sum_{t}^T (\\hat\\beta_t - \\hat \\beta)(\\hat\\beta_t - \\hat \\beta)' \\bigg)}\n",
    "\\end{align*}"
   ]
  },
  {
   "cell_type": "markdown",
   "id": "529c9ffb",
   "metadata": {
    "slideshow": {
     "slide_type": "slide"
    }
   },
   "source": [
    "# Minor helpful note\n",
    " \n",
    "You can very easily extract repeated values from an array.\n",
    "\n",
    "This is really, really useful for sampling with replacement."
   ]
  },
  {
   "cell_type": "code",
   "execution_count": null,
   "id": "fa39592f",
   "metadata": {},
   "outputs": [],
   "source": [
    "# Repeated indexing\n",
    "x = ['a', 'b', 'c', 'd', 'e']\n",
    "inds = [1,1,2]\n",
    "\n",
    "x[inds]"
   ]
  },
  {
   "cell_type": "markdown",
   "id": "6d411689",
   "metadata": {
    "slideshow": {
     "slide_type": "slide"
    }
   },
   "source": [
    "And here's how you might actually sample values with replacement from an array:"
   ]
  },
  {
   "cell_type": "code",
   "execution_count": null,
   "id": "607ceaf8",
   "metadata": {},
   "outputs": [],
   "source": [
    "# Or, drawing random indexes with replacement:\n",
    "inds = rand(1:length(x), 3)\n",
    "x[inds]"
   ]
  },
  {
   "cell_type": "markdown",
   "id": "2bbf0271",
   "metadata": {
    "slideshow": {
     "slide_type": "slide"
    }
   },
   "source": [
    "# Project\n",
    "\n",
    "Your goal for the project is to start with the following code:\n",
    "\n",
    "```julia\n",
    "using LinearAlgebra, Statistics\n",
    "\n",
    "n = 100\n",
    "x = [ones(n) rand(1:0.1:10, n)]\n",
    "b, sigma = [2.5, -1.2], 1\n",
    "y = x*b + sigma .* randn(n);\n",
    "```\n",
    "\n",
    "Next, I want you to write the code to make the following work:\n",
    "\n",
    "```julia\n",
    "ols(x, y, Spherical()) # returns OLS estimates + spherical standard errors\n",
    "ols(x, y, Bootstrapped(10000, 10)) # Bootstrapped estimates with T=10,000, subsample size m = 10\n",
    "```\n",
    "\n",
    "You will need to define `struct`s for `Spherical` and for `Boostrapped`! Signatures for the above might start\n",
    "\n",
    "```julia\n",
    "function ols(x, y, est::Spherical)\n",
    "    . . .\n",
    "end\n",
    "\n",
    "function ols(x, y, est::Boostrapped)\n",
    "    . . .\n",
    "end\n",
    "```"
   ]
  },
  {
   "cell_type": "markdown",
   "id": "249055b8",
   "metadata": {
    "slideshow": {
     "slide_type": "slide"
    }
   },
   "source": [
    "### Bonus tasks\n",
    "\n",
    "Here's some extra stuff to do if you want more of a challenge or you have extra time. You'll need to do some research!\n",
    "\n",
    "1. Wrap up your estimates from `ols` in a `DataFrame`. You'll need to add this to your environment with `] add DataFrames` and put `using DataFrames` at the top of your script.\n",
    "2. Try to parallelize your bootstrapping procedure! Could be challenging but I'm happy to help. Useful tools are\n",
    "    - `Threads.@threads for thing in ...`\n",
    "        - Will require the use of a lock (I recommend `SpinLock`)! Reach out to me if you want to see how this works.\n",
    "    - `ThreadsX.map(z -> beta_hat(x, y, rand(1:length(y), m), 1:T)` requires that you run `]add ThreadsX` first and put `using ThreadsX` at the top of your script.\n",
    "3. Modify your code to plot the distribution of bootstrapped beta estimates, using `UnicodePlots.density` or `Plots.density`. Could be more interesting if you change the error distribution to something more interesting, like `exp.(randn(n))`.\n",
    "4. Try implementing the above but with instrumental variables! You will need to modify your underlying data a little to support this.\n",
    "\n",
    "    To do this you'll need to add support for the instrumentation matrix $Z$. Recall that the beta estimator for 2SLS is\n",
    "\n",
    "    \\begin{align*}\n",
    "    \\hat \\beta^{2SLS} &= (X'Z(Z'Z)^{-1}Z'X)^{-1}X'Z(Z'Z)^{-1}Z'Y \\\\\n",
    "    \\text{Var}\\big[\\hat \\beta^{2SLS}\\big] &= \\sigma^2 (X'Z(Z'Z)^{-1}Z'X)^{-1}\n",
    "    \\end{align*}"
   ]
  }
 ],
 "metadata": {
  "celltoolbar": "Slideshow",
  "kernelspec": {
   "display_name": "Julia 1.6.2",
   "language": "julia",
   "name": "julia-1.6"
  },
  "language_info": {
   "file_extension": ".jl",
   "mimetype": "application/julia",
   "name": "julia",
   "version": "1.6.2"
  }
 },
 "nbformat": 4,
 "nbformat_minor": 5
}
