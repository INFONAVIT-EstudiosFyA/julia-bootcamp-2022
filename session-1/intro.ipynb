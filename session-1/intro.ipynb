{
 "cells": [
  {
   "cell_type": "markdown",
   "id": "c290548d",
   "metadata": {
    "slideshow": {
     "slide_type": "slide"
    }
   },
   "source": [
    "# Julia for Economics Bootcamp\n",
    "\n",
    "## Session 1: Julia Basics\n",
    "\n",
    "### Cameron Pfiffer (cpfiffer@stanford.edu)"
   ]
  },
  {
   "cell_type": "markdown",
   "id": "09d8ff99",
   "metadata": {
    "slideshow": {
     "slide_type": "slide"
    }
   },
   "source": [
    "# Who am I?\n",
    "\n",
    "My name is Cameron Pfiffer. I'm a visiting PhD student in finance from the University of Oregon. \n",
    "\n",
    "In my research, I mostly work on anything computational, so Bayesian methods, applied metrics, macroeconomics, etc. I just really like computers."
   ]
  },
  {
   "cell_type": "markdown",
   "id": "f775abcf",
   "metadata": {
    "slideshow": {
     "slide_type": "slide"
    }
   },
   "source": [
    "# Why does anything I say mean anything?\n",
    "\n",
    "I've been a core developer of Turing.jl for four years. Turing.jl is a package for probabilistic programming written in Julia. \n",
    "\n",
    "I've written oodles of Julia code and consider myself reasonably good at producing performant, idiomatic, and easily-read Julia code."
   ]
  },
  {
   "cell_type": "markdown",
   "id": "8148600a",
   "metadata": {
    "slideshow": {
     "slide_type": "slide"
    }
   },
   "source": [
    "# What is this series?\n",
    "\n",
    "I'm going to be presenting one workshop a week. Topics are tailored towards researchers who need to work with non-standard statistical methods or computational tools.\n",
    "\n",
    "- Julia Basics (today)\n",
    "- Parallelization for Economists (Februrary)\n",
    "- Optimization and Automatic Differentiation (March)\n",
    "- Performant Programming and Best Practices (April)\n",
    "- Bayesian Inference and Probabilistic Programming (May)\n",
    "\n",
    "**If there is something you want to know how to do, please contact me!**"
   ]
  },
  {
   "cell_type": "markdown",
   "id": "4967cabc",
   "metadata": {
    "slideshow": {
     "slide_type": "slide"
    }
   },
   "source": [
    "# What is the structure of each session?\n",
    "\n",
    "I will lecture on a specific concept for 10-15 minutes and then provide you small practice tasks to solidify your learning. \n",
    "\n",
    "During the practice tasks, you will have access to breakout rooms of different interest levels according to how interested you are in completing the task:\n",
    "\n",
    "- Nerd (gotta do it, want to be around others who are interested in completing the task)\n",
    "- Tinkering (mildly interested, unphased if you don't complete it, more solo-work oriented)\n",
    "- Break (if you just want to disappear and not write any code)\n",
    "\n",
    "We will have a ten minute break each hour.\n",
    "\n",
    "At noon, I will provide you a small project that you should be able to accomplish within an hour. I will be available to provide guidance or suggestions and answer questions."
   ]
  },
  {
   "cell_type": "markdown",
   "id": "6730f758",
   "metadata": {
    "slideshow": {
     "slide_type": "slide"
    }
   },
   "source": [
    "# House rules: Zoom\n",
    "\n",
    "Since we are unfortunately limited to Zoom, I wanted to outline workshop behavior to make sure we have a productive class.\n",
    "\n",
    "1. **Please speak up!** I am happy to be interrupted! \n",
    "2. If you don't want to speak up, **please put your questions in the chat**. Natalya will be available to answer smaller questions, or to relay them to me if they are mildly complex.\n",
    "\n",
    "I prefer interactive classes!"
   ]
  },
  {
   "cell_type": "markdown",
   "id": "7e17198d",
   "metadata": {
    "slideshow": {
     "slide_type": "slide"
    }
   },
   "source": [
    "# What are we doing today?\n",
    "\n",
    "- What is Julia?\n",
    "\n",
    "- Julia syntax \n",
    "    - Variables, operators, language primitives\n",
    "    - Functions\n",
    "    - Array types, broadcasting\n",
    "    - Control flow, breaking bad habits from R/Stata/Matlab\n",
    "    - Types\n",
    "    - Julia's superpower, **multiple dispatch**!\n",
    "- Core package tour\n",
    "    - CSV and DataFrames (awesome data goon tools)\n",
    "    - FixedEffectModels (fixed effects, clustering, IVs, etc.)\n",
    "    - Visualization"
   ]
  },
  {
   "cell_type": "code",
   "execution_count": null,
   "id": "21782610",
   "metadata": {},
   "outputs": [],
   "source": []
  }
 ],
 "metadata": {
  "celltoolbar": "Slideshow",
  "kernelspec": {
   "display_name": "Python 3",
   "language": "python",
   "name": "python3"
  },
  "language_info": {
   "codemirror_mode": {
    "name": "ipython",
    "version": 3
   },
   "file_extension": ".py",
   "mimetype": "text/x-python",
   "name": "python",
   "nbconvert_exporter": "python",
   "pygments_lexer": "ipython3",
   "version": "3.8.11"
  }
 },
 "nbformat": 4,
 "nbformat_minor": 5
}
