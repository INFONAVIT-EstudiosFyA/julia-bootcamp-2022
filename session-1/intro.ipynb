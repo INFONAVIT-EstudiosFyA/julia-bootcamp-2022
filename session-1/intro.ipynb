{
 "cells": [
  {
   "cell_type": "markdown",
   "id": "c290548d",
   "metadata": {
    "slideshow": {
     "slide_type": "slide"
    }
   },
   "source": [
    "# Julia for Economics Bootcamp\n",
    "\n",
    "## Session 1: Julia Basics\n",
    "\n",
    "### Cameron Pfiffer (cpfiffer@stanford.edu)"
   ]
  },
  {
   "cell_type": "markdown",
   "id": "09d8ff99",
   "metadata": {
    "slideshow": {
     "slide_type": "slide"
    }
   },
   "source": [
    "# Who am I?\n",
    "\n",
    "My name is Cameron Pfiffer. I'm a visiting PhD student in finance from the University of Oregon. \n",
    "\n",
    "In my research, I mostly work on anything computational, so Bayesian methods, applied metrics, macroeconomics, etc. I really like computers."
   ]
  },
  {
   "cell_type": "markdown",
   "id": "f775abcf",
   "metadata": {
    "slideshow": {
     "slide_type": "slide"
    }
   },
   "source": [
    "# Why does anything I say mean anything?\n",
    "\n",
    "I've been a core developer of Turing.jl and its sattelite packages for four years. Turing.jl is a package for probabilistic programming written in Julia. \n",
    "\n",
    "I've written oodles of Julia code and consider myself reasonably good at producing performant, idiomatic, and easily-read Julia code."
   ]
  },
  {
   "cell_type": "markdown",
   "id": "8148600a",
   "metadata": {
    "slideshow": {
     "slide_type": "slide"
    }
   },
   "source": [
    "# What is this series?\n",
    "\n",
    "I'm going to be presenting one workshop a week. Topics are tailored towards researchers who need to work with non-standard statistical methods or computational tools.\n",
    "\n",
    "- Julia Basics (today)\n",
    "- Parallelization for Economists (Februrary)\n",
    "- Optimization and Automatic Differentiation (March)\n",
    "- Performant Programming and Best Practices (April)\n",
    "- Bayesian Inference and Probabilistic Programming (May)\n",
    "\n",
    "**If there is something you want to know how to do, please contact me!**"
   ]
  },
  {
   "cell_type": "markdown",
   "id": "75032bcd",
   "metadata": {
    "slideshow": {
     "slide_type": "slide"
    }
   },
   "source": [
    "# What is the structure of each session?\n",
    "\n",
    "I will lecture on a specific concept for 10-15 minutes and then provide you small practice tasks to solidify your learning."
   ]
  },
  {
   "cell_type": "markdown",
   "id": "e2dcc6e2",
   "metadata": {
    "slideshow": {
     "slide_type": "slide"
    }
   },
   "source": [
    "During the practice tasks, you will have access to breakout rooms of different interest levels according to how interested you are in completing the task:\n",
    "\n",
    "- **Nerd** (gotta do it, want to be around others who are interested in completing the task)\n",
    "- **Geek** (mildly interested, unphased if you don't complete it, more solo-work oriented)\n",
    "- **Dork** (if you just want to disappear and not write any code)\n",
    "\n",
    "At the end of each concept check I will bring everyone back together and go through an answer live."
   ]
  },
  {
   "cell_type": "markdown",
   "id": "4967cabc",
   "metadata": {
    "slideshow": {
     "slide_type": "slide"
    }
   },
   "source": [
    "We will have a ten minute break each hour, with a fifteen minute break at 10am.\n",
    "\n",
    "At noon, I will provide you a small project that you should be able to accomplish within an hour. I will be available to provide guidance or suggestions and answer questions."
   ]
  },
  {
   "cell_type": "markdown",
   "id": "6730f758",
   "metadata": {
    "slideshow": {
     "slide_type": "slide"
    }
   },
   "source": [
    "# House rules: Zoom\n",
    "\n",
    "Since we are unfortunately limited to Zoom, I wanted to outline workshop behavior to make sure we have a productive class.\n",
    "\n",
    "1. **Please speak up!** I am happy to be interrupted! \n",
    "2. If you don't want to speak up, **please put your questions in the chat**. Natalya will be available to answer smaller questions, or to relay them to me if they are more complex.\n",
    "\n",
    "I prefer interactive classes!"
   ]
  },
  {
   "cell_type": "markdown",
   "id": "abaddb59",
   "metadata": {
    "slideshow": {
     "slide_type": "slide"
    }
   },
   "source": [
    "# House rules: \"stupid questions\"\n",
    "\n",
    "Do not start a sentence with \"Maybe this is a stupid question, but...\"\n",
    "\n",
    "There are **literally zero stupid questions**. \n",
    "\n",
    "Programming is suffering and I'm here to make it palatable -- please please **PLEASE** ask me if you start to feel yourself get off track."
   ]
  },
  {
   "cell_type": "markdown",
   "id": "0f29da49",
   "metadata": {
    "slideshow": {
     "slide_type": "slide"
    }
   },
   "source": [
    "Best case scenario, everyone else is confused and asking the question solves a bunch of problems. \n",
    "\n",
    "Worst case scenario, you yourself become less confused and other people concretize their understandings as well!"
   ]
  },
  {
   "cell_type": "markdown",
   "id": "b0307461",
   "metadata": {
    "slideshow": {
     "slide_type": "slide"
    }
   },
   "source": [
    "# My manner of speech\n",
    "\n",
    "When I am excited, like right now, I tend to \n",
    "\n",
    "- Talk fast\n",
    "- Use idioms\n",
    "- Use slang\n",
    "\n",
    "and this can be difficult to follow for non-native English speakers.\n",
    "\n",
    "Please let me know if I slip up!"
   ]
  },
  {
   "cell_type": "markdown",
   "id": "7e17198d",
   "metadata": {
    "slideshow": {
     "slide_type": "slide"
    }
   },
   "source": [
    "# What are we doing today?\n",
    "\n",
    "- What is Julia?\n",
    "- How to install Julia\n",
    "- How to write code in Julia\n",
    "- Julia syntax \n",
    "    - Variables, operators, language primitives\n",
    "    - Functions\n",
    "    - Array types, broadcasting\n",
    "    - Control flow, breaking bad habits from R/Stata/Matlab\n",
    "    - Types\n",
    "    - Julia's superpower, **multiple dispatch**!\n",
    "- Core package tour\n",
    "    - CSV and DataFrames (awesome data goon tools)\n",
    "    - FixedEffectModels (fixed effects, clustering, IVs, etc.)\n",
    "    - Visualization\n",
    "- Maximum likelihood (time permitting)"
   ]
  },
  {
   "cell_type": "markdown",
   "id": "e2d1ad2e",
   "metadata": {
    "slideshow": {
     "slide_type": "slide"
    }
   },
   "source": [
    "# Questions before we start?"
   ]
  },
  {
   "cell_type": "markdown",
   "id": "28fb1ce1",
   "metadata": {
    "slideshow": {
     "slide_type": "slide"
    }
   },
   "source": [
    "# Let's gooOoooOooooooOOOooo\n",
    "\n",
    "![](https://media.giphy.com/media/q1kBdDry3xudsp0DDm/giphy.gif)"
   ]
  },
  {
   "cell_type": "markdown",
   "id": "ccdbacab",
   "metadata": {
    "slideshow": {
     "slide_type": "slide"
    }
   },
   "source": [
    "# Disclaimer!\n",
    "\n",
    "- I am not a salesman\n",
    "- Julia is one of many languages\n",
    "- Julia just happens to be a great tool\n",
    "- All languages are tools, use what works \n",
    "- I will not indulge in your Stata/R flame war because that's where we all lose\n",
    "    - Stata does make me mad though so ask questions about it at your own risk\n",
    "- Use Julia when (a) it is appropriate or (b) when you want to work with it"
   ]
  },
  {
   "cell_type": "markdown",
   "id": "83b176a8",
   "metadata": {
    "slideshow": {
     "slide_type": "slide"
    }
   },
   "source": [
    "# What is Julia?\n",
    "\n",
    "Julia is \n",
    "\n",
    "- Easy to learn, easy to write\n",
    "- Hilariously fast if you write it correctly, but still fast if write it incorrectly\n",
    "- Just-in-time compiled (JIT), though can be interpreted/AOT compiled\n",
    "- Dynamically typed\n",
    "- Highly reproducible across computing environments\n",
    "- Composable (more on this later!)\n",
    "- General purpose, but extremely good at scientific computing\n",
    "- Open source! The best thing!\n",
    "- Beautiful"
   ]
  },
  {
   "cell_type": "markdown",
   "id": "33bbcb6d",
   "metadata": {
    "slideshow": {
     "slide_type": "slide"
    }
   },
   "source": [
    "# What Julia is NOT (yet)\n",
    "\n",
    "- A smash-and-grab analysis tool (i.e. not a great replacement for random 1-second Python/R/Stata scripts)\n",
    "- A place to find canned, ultra-robust, advanced (classical) statistical tools\n",
    "    - Here I mean stuff like 3SLS, weirdo GMM, etc. You can do them but it's not a one-line call (yet).\n",
    "    - SAS/Stata are very old and have some amazing stuff that is really, really well written!\n",
    "    - If this is a need you have and you want it in Julia, reach out to me and I'll see what we can make happen.\n"
   ]
  },
  {
   "cell_type": "markdown",
   "id": "0696e2e2",
   "metadata": {
    "slideshow": {
     "slide_type": "slide"
    }
   },
   "source": [
    "# Demo\n",
    "\n",
    "Let's see some common stuff you might do, starting with some basic stats."
   ]
  },
  {
   "cell_type": "code",
   "execution_count": null,
   "id": "00f963d4",
   "metadata": {
    "slideshow": {
     "slide_type": "slide"
    }
   },
   "outputs": [],
   "source": [
    "using RegressionTables, DataFrames, FixedEffectModels, RDatasets\n",
    "\n",
    "df = dataset(\"datasets\", \"iris\")\n",
    "df[!,:SpeciesDummy] = string.(df[!,:Species])\n",
    "\n",
    "rr1 = reg(df, @formula(SepalLength ~ SepalWidth + fe(SpeciesDummy)))\n",
    "rr2 = reg(df, @formula(SepalLength ~ SepalWidth + PetalLength + fe(SpeciesDummy)))\n",
    "rr3 = reg(df, @formula(SepalLength ~ SepalWidth + PetalLength + PetalWidth + fe(SpeciesDummy)))\n",
    "rr4 = reg(df, @formula(SepalWidth ~ SepalLength + PetalLength + PetalWidth + fe(SpeciesDummy)))\n",
    "\n",
    "regtable(rr1,rr2,rr3,rr4; renderSettings = asciiOutput())"
   ]
  },
  {
   "cell_type": "markdown",
   "id": "4ca0b658",
   "metadata": {
    "slideshow": {
     "slide_type": "slide"
    }
   },
   "source": [
    "Maybe you want to do some Bayesian stuff instead:"
   ]
  },
  {
   "cell_type": "code",
   "execution_count": null,
   "id": "6f407d9c",
   "metadata": {
    "slideshow": {
     "slide_type": "slide"
    }
   },
   "outputs": [],
   "source": [
    "using Turing, LinearAlgebra, StatsPlots\n",
    "\n",
    "@model function flowers(data)\n",
    "    α ~ Normal(4,1)\n",
    "    β ~ Normal(0,1)\n",
    "    s² ~ InverseGamma(2,3)\n",
    "    data[:,:SepalLength] ~ MvNormal(α .+ β .* data[:,:SepalWidth], s²*I)\n",
    "end\n",
    "\n",
    "model = flowers(df)\n",
    "chain = sample(model, NUTS(), MCMCSerial(), 2_000, 4; progress=false)"
   ]
  },
  {
   "cell_type": "code",
   "execution_count": null,
   "id": "e251a20c",
   "metadata": {
    "slideshow": {
     "slide_type": "slide"
    }
   },
   "outputs": [],
   "source": [
    "# Plot our chain\n",
    "plot(chain)"
   ]
  },
  {
   "cell_type": "markdown",
   "id": "cdaf9147",
   "metadata": {
    "slideshow": {
     "slide_type": "slide"
    }
   },
   "source": [
    "Or maybe differential equations are more your speed?"
   ]
  },
  {
   "cell_type": "code",
   "execution_count": 63,
   "id": "e90218a3",
   "metadata": {},
   "outputs": [
    {
     "data": {
      "image/svg+xml": [
       "<?xml version=\"1.0\" encoding=\"utf-8\"?>\n",
       "<svg xmlns=\"http://www.w3.org/2000/svg\" xmlns:xlink=\"http://www.w3.org/1999/xlink\" width=\"600\" height=\"400\" viewBox=\"0 0 2400 1600\">\n",
       "<defs>\n",
       "  <clipPath id=\"clip970\">\n",
       "    <rect x=\"0\" y=\"0\" width=\"2400\" height=\"1600\"/>\n",
       "  </clipPath>\n",
       "</defs>\n",
       "<path clip-path=\"url(#clip970)\" d=\"\n",
       "M0 1600 L2400 1600 L2400 0 L0 0  Z\n",
       "  \" fill=\"#ffffff\" fill-rule=\"evenodd\" fill-opacity=\"1\"/>\n",
       "<defs>\n",
       "  <clipPath id=\"clip971\">\n",
       "    <rect x=\"480\" y=\"0\" width=\"1681\" height=\"1600\"/>\n",
       "  </clipPath>\n",
       "</defs>\n",
       "<defs>\n",
       "  <clipPath id=\"clip972\">\n",
       "    <rect x=\"141\" y=\"47\" width=\"2212\" height=\"1440\"/>\n",
       "  </clipPath>\n",
       "</defs>\n",
       "<path clip-path=\"url(#clip972)\" d=\"\n",
       "M141.853 1401.43 L141.853 302.298 L951.1 47.2441 L2352.76 132.262 L2352.76 1231.39 L1543.51 1486.45 L141.853 1401.43  Z\n",
       "  \" fill=\"#ffffff\" fill-rule=\"evenodd\" fill-opacity=\"1\"/>\n",
       "<polyline clip-path=\"url(#clip972)\" style=\"stroke:#000000; stroke-linecap:butt; stroke-linejoin:round; stroke-width:2; stroke-opacity:0.1; fill:none\" points=\"\n",
       "  455.862,1420.48 1265.11,1165.42 \n",
       "  \"/>\n",
       "<polyline clip-path=\"url(#clip972)\" style=\"stroke:#000000; stroke-linecap:butt; stroke-linejoin:round; stroke-width:2; stroke-opacity:0.1; fill:none\" points=\"\n",
       "  1265.11,1165.42 1265.11,66.2904 \n",
       "  \"/>\n",
       "<polyline clip-path=\"url(#clip972)\" style=\"stroke:#000000; stroke-linecap:butt; stroke-linejoin:round; stroke-width:2; stroke-opacity:0.1; fill:none\" points=\"\n",
       "  803.13,1441.54 1612.38,1186.49 \n",
       "  \"/>\n",
       "<polyline clip-path=\"url(#clip972)\" style=\"stroke:#000000; stroke-linecap:butt; stroke-linejoin:round; stroke-width:2; stroke-opacity:0.1; fill:none\" points=\"\n",
       "  1612.38,1186.49 1612.38,87.3541 \n",
       "  \"/>\n",
       "<polyline clip-path=\"url(#clip972)\" style=\"stroke:#000000; stroke-linecap:butt; stroke-linejoin:round; stroke-width:2; stroke-opacity:0.1; fill:none\" points=\"\n",
       "  1150.4,1462.6 1959.64,1207.55 \n",
       "  \"/>\n",
       "<polyline clip-path=\"url(#clip972)\" style=\"stroke:#000000; stroke-linecap:butt; stroke-linejoin:round; stroke-width:2; stroke-opacity:0.1; fill:none\" points=\"\n",
       "  1959.64,1207.55 1959.64,108.418 \n",
       "  \"/>\n",
       "<polyline clip-path=\"url(#clip972)\" style=\"stroke:#000000; stroke-linecap:butt; stroke-linejoin:round; stroke-width:2; stroke-opacity:0.1; fill:none\" points=\"\n",
       "  1497.67,1483.67 2306.91,1228.61 \n",
       "  \"/>\n",
       "<polyline clip-path=\"url(#clip972)\" style=\"stroke:#000000; stroke-linecap:butt; stroke-linejoin:round; stroke-width:2; stroke-opacity:0.1; fill:none\" points=\"\n",
       "  2306.91,1228.61 2306.91,129.482 \n",
       "  \"/>\n",
       "<polyline clip-path=\"url(#clip970)\" style=\"stroke:#000000; stroke-linecap:butt; stroke-linejoin:round; stroke-width:4; stroke-opacity:1; fill:none\" points=\"\n",
       "  141.853,1401.43 1543.51,1486.45 \n",
       "  \"/>\n",
       "<polyline clip-path=\"url(#clip970)\" style=\"stroke:#000000; stroke-linecap:butt; stroke-linejoin:round; stroke-width:4; stroke-opacity:1; fill:none\" points=\"\n",
       "  455.862,1420.48 465.573,1417.42 \n",
       "  \"/>\n",
       "<polyline clip-path=\"url(#clip970)\" style=\"stroke:#000000; stroke-linecap:butt; stroke-linejoin:round; stroke-width:4; stroke-opacity:1; fill:none\" points=\"\n",
       "  803.13,1441.54 812.841,1438.48 \n",
       "  \"/>\n",
       "<polyline clip-path=\"url(#clip970)\" style=\"stroke:#000000; stroke-linecap:butt; stroke-linejoin:round; stroke-width:4; stroke-opacity:1; fill:none\" points=\"\n",
       "  1150.4,1462.6 1160.11,1459.54 \n",
       "  \"/>\n",
       "<polyline clip-path=\"url(#clip970)\" style=\"stroke:#000000; stroke-linecap:butt; stroke-linejoin:round; stroke-width:4; stroke-opacity:1; fill:none\" points=\"\n",
       "  1497.67,1483.67 1507.38,1480.61 \n",
       "  \"/>\n",
       "<path clip-path=\"url(#clip970)\" d=\"M362.244 1449.67 L391.919 1449.67 L391.919 1453.61 L362.244 1453.61 L362.244 1449.67 Z\" fill=\"#000000\" fill-rule=\"evenodd\" fill-opacity=\"1\" /><path clip-path=\"url(#clip970)\" d=\"M402.822 1462.57 L410.461 1462.57 L410.461 1436.2 L402.151 1437.87 L402.151 1433.61 L410.415 1431.94 L415.09 1431.94 L415.09 1462.57 L422.729 1462.57 L422.729 1466.5 L402.822 1466.5 L402.822 1462.57 Z\" fill=\"#000000\" fill-rule=\"evenodd\" fill-opacity=\"1\" /><path clip-path=\"url(#clip970)\" d=\"M442.174 1435.02 Q438.563 1435.02 436.734 1438.59 Q434.928 1442.13 434.928 1449.26 Q434.928 1456.36 436.734 1459.93 Q438.563 1463.47 442.174 1463.47 Q445.808 1463.47 447.613 1459.93 Q449.442 1456.36 449.442 1449.26 Q449.442 1442.13 447.613 1438.59 Q445.808 1435.02 442.174 1435.02 M442.174 1431.32 Q447.984 1431.32 451.039 1435.92 Q454.118 1440.51 454.118 1449.26 Q454.118 1457.98 451.039 1462.59 Q447.984 1467.17 442.174 1467.17 Q436.364 1467.17 433.285 1462.59 Q430.229 1457.98 430.229 1449.26 Q430.229 1440.51 433.285 1435.92 Q436.364 1431.32 442.174 1431.32 Z\" fill=\"#000000\" fill-rule=\"evenodd\" fill-opacity=\"1\" /><path clip-path=\"url(#clip970)\" d=\"M789.442 1456.09 Q785.831 1456.09 784.002 1459.65 Q782.196 1463.19 782.196 1470.32 Q782.196 1477.43 784.002 1480.99 Q785.831 1484.53 789.442 1484.53 Q793.076 1484.53 794.882 1480.99 Q796.71 1477.43 796.71 1470.32 Q796.71 1463.19 794.882 1459.65 Q793.076 1456.09 789.442 1456.09 M789.442 1452.38 Q795.252 1452.38 798.307 1456.99 Q801.386 1461.57 801.386 1470.32 Q801.386 1479.05 798.307 1483.65 Q795.252 1488.24 789.442 1488.24 Q783.632 1488.24 780.553 1483.65 Q777.497 1479.05 777.497 1470.32 Q777.497 1461.57 780.553 1456.99 Q783.632 1452.38 789.442 1452.38 Z\" fill=\"#000000\" fill-rule=\"evenodd\" fill-opacity=\"1\" /><path clip-path=\"url(#clip970)\" d=\"M1097.36 1504.7 L1105 1504.7 L1105 1478.33 L1096.69 1480 L1096.69 1475.74 L1104.95 1474.07 L1109.63 1474.07 L1109.63 1504.7 L1117.27 1504.7 L1117.27 1508.63 L1097.36 1508.63 L1097.36 1504.7 Z\" fill=\"#000000\" fill-rule=\"evenodd\" fill-opacity=\"1\" /><path clip-path=\"url(#clip970)\" d=\"M1136.71 1477.15 Q1133.1 1477.15 1131.27 1480.71 Q1129.46 1484.26 1129.46 1491.39 Q1129.46 1498.49 1131.27 1502.06 Q1133.1 1505.6 1136.71 1505.6 Q1140.34 1505.6 1142.15 1502.06 Q1143.98 1498.49 1143.98 1491.39 Q1143.98 1484.26 1142.15 1480.71 Q1140.34 1477.15 1136.71 1477.15 M1136.71 1473.45 Q1142.52 1473.45 1145.58 1478.05 Q1148.65 1482.64 1148.65 1491.39 Q1148.65 1500.11 1145.58 1504.72 Q1142.52 1509.3 1136.71 1509.3 Q1130.9 1509.3 1127.82 1504.72 Q1124.77 1500.11 1124.77 1491.39 Q1124.77 1482.64 1127.82 1478.05 Q1130.9 1473.45 1136.71 1473.45 Z\" fill=\"#000000\" fill-rule=\"evenodd\" fill-opacity=\"1\" /><path clip-path=\"url(#clip970)\" d=\"M1447.84 1525.76 L1464.16 1525.76 L1464.16 1529.69 L1442.22 1529.69 L1442.22 1525.76 Q1444.88 1523 1449.46 1518.38 Q1454.07 1513.72 1455.25 1512.38 Q1457.5 1509.86 1458.38 1508.12 Q1459.28 1506.36 1459.28 1504.67 Q1459.28 1501.92 1457.33 1500.18 Q1455.41 1498.44 1452.31 1498.44 Q1450.11 1498.44 1447.66 1499.21 Q1445.23 1499.97 1442.45 1501.52 L1442.45 1496.8 Q1445.27 1495.67 1447.73 1495.09 Q1450.18 1494.51 1452.22 1494.51 Q1457.59 1494.51 1460.78 1497.19 Q1463.98 1499.88 1463.98 1504.37 Q1463.98 1506.5 1463.17 1508.42 Q1462.38 1510.32 1460.27 1512.91 Q1459.7 1513.58 1456.59 1516.8 Q1453.49 1520 1447.84 1525.76 Z\" fill=\"#000000\" fill-rule=\"evenodd\" fill-opacity=\"1\" /><path clip-path=\"url(#clip970)\" d=\"M1483.98 1498.21 Q1480.37 1498.21 1478.54 1501.78 Q1476.73 1505.32 1476.73 1512.45 Q1476.73 1519.56 1478.54 1523.12 Q1480.37 1526.66 1483.98 1526.66 Q1487.61 1526.66 1489.42 1523.12 Q1491.25 1519.56 1491.25 1512.45 Q1491.25 1505.32 1489.42 1501.78 Q1487.61 1498.21 1483.98 1498.21 M1483.98 1494.51 Q1489.79 1494.51 1492.84 1499.12 Q1495.92 1503.7 1495.92 1512.45 Q1495.92 1521.18 1492.84 1525.78 Q1489.79 1530.37 1483.98 1530.37 Q1478.17 1530.37 1475.09 1525.78 Q1472.03 1521.18 1472.03 1512.45 Q1472.03 1503.7 1475.09 1499.12 Q1478.17 1494.51 1483.98 1494.51 Z\" fill=\"#000000\" fill-rule=\"evenodd\" fill-opacity=\"1\" /><polyline clip-path=\"url(#clip972)\" style=\"stroke:#000000; stroke-linecap:butt; stroke-linejoin:round; stroke-width:2; stroke-opacity:0.1; fill:none\" points=\"\n",
       "  1622.71,1461.48 221.059,1376.47 \n",
       "  \"/>\n",
       "<polyline clip-path=\"url(#clip972)\" style=\"stroke:#000000; stroke-linecap:butt; stroke-linejoin:round; stroke-width:2; stroke-opacity:0.1; fill:none\" points=\"\n",
       "  221.059,1376.47 221.059,277.335 \n",
       "  \"/>\n",
       "<polyline clip-path=\"url(#clip972)\" style=\"stroke:#000000; stroke-linecap:butt; stroke-linejoin:round; stroke-width:2; stroke-opacity:0.1; fill:none\" points=\"\n",
       "  1773.8,1413.87 372.141,1328.85 \n",
       "  \"/>\n",
       "<polyline clip-path=\"url(#clip972)\" style=\"stroke:#000000; stroke-linecap:butt; stroke-linejoin:round; stroke-width:2; stroke-opacity:0.1; fill:none\" points=\"\n",
       "  372.141,1328.85 372.141,229.717 \n",
       "  \"/>\n",
       "<polyline clip-path=\"url(#clip972)\" style=\"stroke:#000000; stroke-linecap:butt; stroke-linejoin:round; stroke-width:2; stroke-opacity:0.1; fill:none\" points=\"\n",
       "  1924.88,1366.25 523.224,1281.23 \n",
       "  \"/>\n",
       "<polyline clip-path=\"url(#clip972)\" style=\"stroke:#000000; stroke-linecap:butt; stroke-linejoin:round; stroke-width:2; stroke-opacity:0.1; fill:none\" points=\"\n",
       "  523.224,1281.23 523.224,182.1 \n",
       "  \"/>\n",
       "<polyline clip-path=\"url(#clip972)\" style=\"stroke:#000000; stroke-linecap:butt; stroke-linejoin:round; stroke-width:2; stroke-opacity:0.1; fill:none\" points=\"\n",
       "  2075.96,1318.63 674.306,1233.61 \n",
       "  \"/>\n",
       "<polyline clip-path=\"url(#clip972)\" style=\"stroke:#000000; stroke-linecap:butt; stroke-linejoin:round; stroke-width:2; stroke-opacity:0.1; fill:none\" points=\"\n",
       "  674.306,1233.61 674.306,134.482 \n",
       "  \"/>\n",
       "<polyline clip-path=\"url(#clip972)\" style=\"stroke:#000000; stroke-linecap:butt; stroke-linejoin:round; stroke-width:2; stroke-opacity:0.1; fill:none\" points=\"\n",
       "  2227.04,1271.01 825.389,1186 \n",
       "  \"/>\n",
       "<polyline clip-path=\"url(#clip972)\" style=\"stroke:#000000; stroke-linecap:butt; stroke-linejoin:round; stroke-width:2; stroke-opacity:0.1; fill:none\" points=\"\n",
       "  825.389,1186 825.389,86.865 \n",
       "  \"/>\n",
       "<polyline clip-path=\"url(#clip970)\" style=\"stroke:#000000; stroke-linecap:butt; stroke-linejoin:round; stroke-width:4; stroke-opacity:1; fill:none\" points=\"\n",
       "  1543.51,1486.45 2352.76,1231.39 \n",
       "  \"/>\n",
       "<polyline clip-path=\"url(#clip970)\" style=\"stroke:#000000; stroke-linecap:butt; stroke-linejoin:round; stroke-width:4; stroke-opacity:1; fill:none\" points=\"\n",
       "  1622.71,1461.48 1605.9,1460.46 \n",
       "  \"/>\n",
       "<polyline clip-path=\"url(#clip970)\" style=\"stroke:#000000; stroke-linecap:butt; stroke-linejoin:round; stroke-width:4; stroke-opacity:1; fill:none\" points=\"\n",
       "  1773.8,1413.87 1756.98,1412.85 \n",
       "  \"/>\n",
       "<polyline clip-path=\"url(#clip970)\" style=\"stroke:#000000; stroke-linecap:butt; stroke-linejoin:round; stroke-width:4; stroke-opacity:1; fill:none\" points=\"\n",
       "  1924.88,1366.25 1908.06,1365.23 \n",
       "  \"/>\n",
       "<polyline clip-path=\"url(#clip970)\" style=\"stroke:#000000; stroke-linecap:butt; stroke-linejoin:round; stroke-width:4; stroke-opacity:1; fill:none\" points=\"\n",
       "  2075.96,1318.63 2059.14,1317.61 \n",
       "  \"/>\n",
       "<polyline clip-path=\"url(#clip970)\" style=\"stroke:#000000; stroke-linecap:butt; stroke-linejoin:round; stroke-width:4; stroke-opacity:1; fill:none\" points=\"\n",
       "  2227.04,1271.01 2210.23,1269.99 \n",
       "  \"/>\n",
       "<path clip-path=\"url(#clip970)\" d=\"M1631.37 1489.4 L1661.05 1489.4 L1661.05 1493.34 L1631.37 1493.34 L1631.37 1489.4 Z\" fill=\"#000000\" fill-rule=\"evenodd\" fill-opacity=\"1\" /><path clip-path=\"url(#clip970)\" d=\"M1675.17 1502.3 L1691.49 1502.3 L1691.49 1506.23 L1669.54 1506.23 L1669.54 1502.3 Q1672.21 1499.54 1676.79 1494.91 Q1681.4 1490.26 1682.58 1488.92 Q1684.82 1486.39 1685.7 1484.66 Q1686.6 1482.9 1686.6 1481.21 Q1686.6 1478.45 1684.66 1476.72 Q1682.74 1474.98 1679.64 1474.98 Q1677.44 1474.98 1674.98 1475.75 Q1672.55 1476.51 1669.77 1478.06 L1669.77 1473.34 Q1672.6 1472.2 1675.05 1471.63 Q1677.51 1471.05 1679.54 1471.05 Q1684.91 1471.05 1688.11 1473.73 Q1691.3 1476.42 1691.3 1480.91 Q1691.3 1483.04 1690.49 1484.96 Q1689.71 1486.86 1687.6 1489.45 Q1687.02 1490.12 1683.92 1493.34 Q1680.82 1496.53 1675.17 1502.3 Z\" fill=\"#000000\" fill-rule=\"evenodd\" fill-opacity=\"1\" /><path clip-path=\"url(#clip970)\" d=\"M1711.3 1474.75 Q1707.69 1474.75 1705.86 1478.32 Q1704.06 1481.86 1704.06 1488.99 Q1704.06 1496.09 1705.86 1499.66 Q1707.69 1503.2 1711.3 1503.2 Q1714.94 1503.2 1716.74 1499.66 Q1718.57 1496.09 1718.57 1488.99 Q1718.57 1481.86 1716.74 1478.32 Q1714.94 1474.75 1711.3 1474.75 M1711.3 1471.05 Q1717.11 1471.05 1720.17 1475.65 Q1723.25 1480.24 1723.25 1488.99 Q1723.25 1497.71 1720.17 1502.32 Q1717.11 1506.9 1711.3 1506.9 Q1705.49 1506.9 1702.41 1502.32 Q1699.36 1497.71 1699.36 1488.99 Q1699.36 1480.24 1702.41 1475.65 Q1705.49 1471.05 1711.3 1471.05 Z\" fill=\"#000000\" fill-rule=\"evenodd\" fill-opacity=\"1\" /><path clip-path=\"url(#clip970)\" d=\"M1782.45 1441.79 L1812.13 1441.79 L1812.13 1445.72 L1782.45 1445.72 L1782.45 1441.79 Z\" fill=\"#000000\" fill-rule=\"evenodd\" fill-opacity=\"1\" /><path clip-path=\"url(#clip970)\" d=\"M1823.03 1454.68 L1830.67 1454.68 L1830.67 1428.31 L1822.36 1429.98 L1822.36 1425.72 L1830.63 1424.05 L1835.3 1424.05 L1835.3 1454.68 L1842.94 1454.68 L1842.94 1458.61 L1823.03 1458.61 L1823.03 1454.68 Z\" fill=\"#000000\" fill-rule=\"evenodd\" fill-opacity=\"1\" /><path clip-path=\"url(#clip970)\" d=\"M1862.38 1427.13 Q1858.77 1427.13 1856.94 1430.7 Q1855.14 1434.24 1855.14 1441.37 Q1855.14 1448.48 1856.94 1452.04 Q1858.77 1455.58 1862.38 1455.58 Q1866.02 1455.58 1867.82 1452.04 Q1869.65 1448.48 1869.65 1441.37 Q1869.65 1434.24 1867.82 1430.7 Q1866.02 1427.13 1862.38 1427.13 M1862.38 1423.43 Q1868.19 1423.43 1871.25 1428.04 Q1874.33 1432.62 1874.33 1441.37 Q1874.33 1450.1 1871.25 1454.7 Q1868.19 1459.29 1862.38 1459.29 Q1856.57 1459.29 1853.5 1454.7 Q1850.44 1450.1 1850.44 1441.37 Q1850.44 1432.62 1853.5 1428.04 Q1856.57 1423.43 1862.38 1423.43 Z\" fill=\"#000000\" fill-rule=\"evenodd\" fill-opacity=\"1\" /><path clip-path=\"url(#clip970)\" d=\"M1945.48 1379.52 Q1941.87 1379.52 1940.04 1383.08 Q1938.24 1386.62 1938.24 1393.75 Q1938.24 1400.86 1940.04 1404.42 Q1941.87 1407.97 1945.48 1407.97 Q1949.12 1407.97 1950.92 1404.42 Q1952.75 1400.86 1952.75 1393.75 Q1952.75 1386.62 1950.92 1383.08 Q1949.12 1379.52 1945.48 1379.52 M1945.48 1375.81 Q1951.29 1375.81 1954.35 1380.42 Q1957.43 1385 1957.43 1393.75 Q1957.43 1402.48 1954.35 1407.09 Q1951.29 1411.67 1945.48 1411.67 Q1939.67 1411.67 1936.59 1407.09 Q1933.54 1402.48 1933.54 1393.75 Q1933.54 1385 1936.59 1380.42 Q1939.67 1375.81 1945.48 1375.81 Z\" fill=\"#000000\" fill-rule=\"evenodd\" fill-opacity=\"1\" /><path clip-path=\"url(#clip970)\" d=\"M2085.29 1359.44 L2092.93 1359.44 L2092.93 1333.08 L2084.62 1334.75 L2084.62 1330.49 L2092.88 1328.82 L2097.56 1328.82 L2097.56 1359.44 L2105.2 1359.44 L2105.2 1363.38 L2085.29 1363.38 L2085.29 1359.44 Z\" fill=\"#000000\" fill-rule=\"evenodd\" fill-opacity=\"1\" /><path clip-path=\"url(#clip970)\" d=\"M2124.64 1331.9 Q2121.03 1331.9 2119.2 1335.46 Q2117.4 1339.01 2117.4 1346.13 Q2117.4 1353.24 2119.2 1356.81 Q2121.03 1360.35 2124.64 1360.35 Q2128.28 1360.35 2130.08 1356.81 Q2131.91 1353.24 2131.91 1346.13 Q2131.91 1339.01 2130.08 1335.46 Q2128.28 1331.9 2124.64 1331.9 M2124.64 1328.19 Q2130.45 1328.19 2133.51 1332.8 Q2136.59 1337.38 2136.59 1346.13 Q2136.59 1354.86 2133.51 1359.47 Q2130.45 1364.05 2124.64 1364.05 Q2118.83 1364.05 2115.75 1359.47 Q2112.7 1354.86 2112.7 1346.13 Q2112.7 1337.38 2115.75 1332.8 Q2118.83 1328.19 2124.64 1328.19 Z\" fill=\"#000000\" fill-rule=\"evenodd\" fill-opacity=\"1\" /><path clip-path=\"url(#clip970)\" d=\"M2241.33 1311.83 L2257.65 1311.83 L2257.65 1315.76 L2235.7 1315.76 L2235.7 1311.83 Q2238.36 1309.07 2242.95 1304.44 Q2247.55 1299.79 2248.73 1298.45 Q2250.98 1295.92 2251.86 1294.19 Q2252.76 1292.43 2252.76 1290.74 Q2252.76 1287.98 2250.82 1286.25 Q2248.9 1284.51 2245.79 1284.51 Q2243.6 1284.51 2241.14 1285.28 Q2238.71 1286.04 2235.93 1287.59 L2235.93 1282.87 Q2238.76 1281.73 2241.21 1281.16 Q2243.67 1280.58 2245.7 1280.58 Q2251.07 1280.58 2254.27 1283.26 Q2257.46 1285.95 2257.46 1290.44 Q2257.46 1292.57 2256.65 1294.49 Q2255.86 1296.39 2253.76 1298.98 Q2253.18 1299.65 2250.08 1302.87 Q2246.98 1306.06 2241.33 1311.83 Z\" fill=\"#000000\" fill-rule=\"evenodd\" fill-opacity=\"1\" /><path clip-path=\"url(#clip970)\" d=\"M2277.46 1284.28 Q2273.85 1284.28 2272.02 1287.85 Q2270.22 1291.39 2270.22 1298.52 Q2270.22 1305.62 2272.02 1309.19 Q2273.85 1312.73 2277.46 1312.73 Q2281.1 1312.73 2282.9 1309.19 Q2284.73 1305.62 2284.73 1298.52 Q2284.73 1291.39 2282.9 1287.85 Q2281.1 1284.28 2277.46 1284.28 M2277.46 1280.58 Q2283.27 1280.58 2286.33 1285.18 Q2289.41 1289.77 2289.41 1298.52 Q2289.41 1307.24 2286.33 1311.85 Q2283.27 1316.43 2277.46 1316.43 Q2271.65 1316.43 2268.57 1311.85 Q2265.52 1307.24 2265.52 1298.52 Q2265.52 1289.77 2268.57 1285.18 Q2271.65 1280.58 2277.46 1280.58 Z\" fill=\"#000000\" fill-rule=\"evenodd\" fill-opacity=\"1\" /><polyline clip-path=\"url(#clip972)\" style=\"stroke:#000000; stroke-linecap:butt; stroke-linejoin:round; stroke-width:2; stroke-opacity:0.1; fill:none\" points=\"\n",
       "  141.853,1180.8 951.1,925.744 \n",
       "  \"/>\n",
       "<polyline clip-path=\"url(#clip972)\" style=\"stroke:#000000; stroke-linecap:butt; stroke-linejoin:round; stroke-width:2; stroke-opacity:0.1; fill:none\" points=\"\n",
       "  951.1,925.744 2352.76,1010.76 \n",
       "  \"/>\n",
       "<polyline clip-path=\"url(#clip972)\" style=\"stroke:#000000; stroke-linecap:butt; stroke-linejoin:round; stroke-width:2; stroke-opacity:0.1; fill:none\" points=\"\n",
       "  141.853,954.718 951.1,699.664 \n",
       "  \"/>\n",
       "<polyline clip-path=\"url(#clip972)\" style=\"stroke:#000000; stroke-linecap:butt; stroke-linejoin:round; stroke-width:2; stroke-opacity:0.1; fill:none\" points=\"\n",
       "  951.1,699.664 2352.76,784.682 \n",
       "  \"/>\n",
       "<polyline clip-path=\"url(#clip972)\" style=\"stroke:#000000; stroke-linecap:butt; stroke-linejoin:round; stroke-width:2; stroke-opacity:0.1; fill:none\" points=\"\n",
       "  141.853,728.639 951.1,473.584 \n",
       "  \"/>\n",
       "<polyline clip-path=\"url(#clip972)\" style=\"stroke:#000000; stroke-linecap:butt; stroke-linejoin:round; stroke-width:2; stroke-opacity:0.1; fill:none\" points=\"\n",
       "  951.1,473.584 2352.76,558.603 \n",
       "  \"/>\n",
       "<polyline clip-path=\"url(#clip972)\" style=\"stroke:#000000; stroke-linecap:butt; stroke-linejoin:round; stroke-width:2; stroke-opacity:0.1; fill:none\" points=\"\n",
       "  141.853,502.559 951.1,247.505 \n",
       "  \"/>\n",
       "<polyline clip-path=\"url(#clip972)\" style=\"stroke:#000000; stroke-linecap:butt; stroke-linejoin:round; stroke-width:2; stroke-opacity:0.1; fill:none\" points=\"\n",
       "  951.1,247.505 2352.76,332.523 \n",
       "  \"/>\n",
       "<polyline clip-path=\"url(#clip970)\" style=\"stroke:#000000; stroke-linecap:butt; stroke-linejoin:round; stroke-width:4; stroke-opacity:1; fill:none\" points=\"\n",
       "  141.853,1401.43 141.853,302.298 \n",
       "  \"/>\n",
       "<polyline clip-path=\"url(#clip970)\" style=\"stroke:#000000; stroke-linecap:butt; stroke-linejoin:round; stroke-width:4; stroke-opacity:1; fill:none\" points=\"\n",
       "  141.853,1180.8 151.564,1177.74 \n",
       "  \"/>\n",
       "<polyline clip-path=\"url(#clip970)\" style=\"stroke:#000000; stroke-linecap:butt; stroke-linejoin:round; stroke-width:4; stroke-opacity:1; fill:none\" points=\"\n",
       "  141.853,954.718 151.564,951.658 \n",
       "  \"/>\n",
       "<polyline clip-path=\"url(#clip970)\" style=\"stroke:#000000; stroke-linecap:butt; stroke-linejoin:round; stroke-width:4; stroke-opacity:1; fill:none\" points=\"\n",
       "  141.853,728.639 151.564,725.578 \n",
       "  \"/>\n",
       "<polyline clip-path=\"url(#clip970)\" style=\"stroke:#000000; stroke-linecap:butt; stroke-linejoin:round; stroke-width:4; stroke-opacity:1; fill:none\" points=\"\n",
       "  141.853,502.559 151.564,499.499 \n",
       "  \"/>\n",
       "<path clip-path=\"url(#clip970)\" d=\"M61.7569 1194.14 L69.3958 1194.14 L69.3958 1167.78 L61.0856 1169.44 L61.0856 1165.18 L69.3495 1163.52 L74.0254 1163.52 L74.0254 1194.14 L81.6642 1194.14 L81.6642 1198.08 L61.7569 1198.08 L61.7569 1194.14 Z\" fill=\"#000000\" fill-rule=\"evenodd\" fill-opacity=\"1\" /><path clip-path=\"url(#clip970)\" d=\"M101.109 1166.6 Q97.4975 1166.6 95.6688 1170.16 Q93.8632 1173.7 93.8632 1180.83 Q93.8632 1187.94 95.6688 1191.5 Q97.4975 1195.05 101.109 1195.05 Q104.743 1195.05 106.548 1191.5 Q108.377 1187.94 108.377 1180.83 Q108.377 1173.7 106.548 1170.16 Q104.743 1166.6 101.109 1166.6 M101.109 1162.89 Q106.919 1162.89 109.974 1167.5 Q113.053 1172.08 113.053 1180.83 Q113.053 1189.56 109.974 1194.17 Q106.919 1198.75 101.109 1198.75 Q95.2984 1198.75 92.2197 1194.17 Q89.1642 1189.56 89.1642 1180.83 Q89.1642 1172.08 92.2197 1167.5 Q95.2984 1162.89 101.109 1162.89 Z\" fill=\"#000000\" fill-rule=\"evenodd\" fill-opacity=\"1\" /><path clip-path=\"url(#clip970)\" d=\"M64.9745 968.063 L81.2939 968.063 L81.2939 971.998 L59.3495 971.998 L59.3495 968.063 Q62.0115 965.309 66.5949 960.679 Q71.2013 956.026 72.3819 954.684 Q74.6272 952.16 75.5068 950.424 Q76.4096 948.665 76.4096 946.975 Q76.4096 944.221 74.4652 942.485 Q72.5439 940.748 69.4421 940.748 Q67.243 940.748 64.7893 941.512 Q62.3588 942.276 59.581 943.827 L59.581 939.105 Q62.4051 937.971 64.8588 937.392 Q67.3124 936.813 69.3495 936.813 Q74.7198 936.813 77.9142 939.498 Q81.1087 942.184 81.1087 946.674 Q81.1087 948.804 80.2985 950.725 Q79.5115 952.623 77.405 955.216 Q76.8263 955.887 73.7245 959.105 Q70.6226 962.299 64.9745 968.063 Z\" fill=\"#000000\" fill-rule=\"evenodd\" fill-opacity=\"1\" /><path clip-path=\"url(#clip970)\" d=\"M101.109 940.517 Q97.4975 940.517 95.6688 944.082 Q93.8632 947.623 93.8632 954.753 Q93.8632 961.859 95.6688 965.424 Q97.4975 968.966 101.109 968.966 Q104.743 968.966 106.548 965.424 Q108.377 961.859 108.377 954.753 Q108.377 947.623 106.548 944.082 Q104.743 940.517 101.109 940.517 M101.109 936.813 Q106.919 936.813 109.974 941.42 Q113.053 946.003 113.053 954.753 Q113.053 963.48 109.974 968.086 Q106.919 972.67 101.109 972.67 Q95.2984 972.67 92.2197 968.086 Q89.1642 963.48 89.1642 954.753 Q89.1642 946.003 92.2197 941.42 Q95.2984 936.813 101.109 936.813 Z\" fill=\"#000000\" fill-rule=\"evenodd\" fill-opacity=\"1\" /><path clip-path=\"url(#clip970)\" d=\"M75.1133 727.285 Q78.4698 728.002 80.3448 730.271 Q82.2429 732.539 82.2429 735.873 Q82.2429 740.988 78.7244 743.789 Q75.2059 746.59 68.7245 746.59 Q66.5486 746.59 64.2338 746.15 Q61.9421 745.734 59.4884 744.877 L59.4884 740.363 Q61.4328 741.498 63.7477 742.076 Q66.0625 742.655 68.5856 742.655 Q72.9837 742.655 75.2754 740.919 Q77.5902 739.183 77.5902 735.873 Q77.5902 732.817 75.4374 731.104 Q73.3078 729.368 69.4884 729.368 L65.4606 729.368 L65.4606 725.525 L69.6735 725.525 Q73.1226 725.525 74.9513 724.16 Q76.78 722.771 76.78 720.178 Q76.78 717.516 74.8819 716.104 Q73.0069 714.669 69.4884 714.669 Q67.5671 714.669 65.368 715.086 Q63.169 715.502 60.5301 716.382 L60.5301 712.215 Q63.1921 711.475 65.5069 711.104 Q67.8449 710.734 69.905 710.734 Q75.2291 710.734 78.3309 713.164 Q81.4327 715.572 81.4327 719.692 Q81.4327 722.562 79.7892 724.553 Q78.1457 726.521 75.1133 727.285 Z\" fill=\"#000000\" fill-rule=\"evenodd\" fill-opacity=\"1\" /><path clip-path=\"url(#clip970)\" d=\"M101.109 714.437 Q97.4975 714.437 95.6688 718.002 Q93.8632 721.544 93.8632 728.674 Q93.8632 735.78 95.6688 739.345 Q97.4975 742.886 101.109 742.886 Q104.743 742.886 106.548 739.345 Q108.377 735.78 108.377 728.674 Q108.377 721.544 106.548 718.002 Q104.743 714.437 101.109 714.437 M101.109 710.734 Q106.919 710.734 109.974 715.34 Q113.053 719.924 113.053 728.674 Q113.053 737.4 109.974 742.007 Q106.919 746.59 101.109 746.59 Q95.2984 746.59 92.2197 742.007 Q89.1642 737.4 89.1642 728.674 Q89.1642 719.924 92.2197 715.34 Q95.2984 710.734 101.109 710.734 Z\" fill=\"#000000\" fill-rule=\"evenodd\" fill-opacity=\"1\" /><path clip-path=\"url(#clip970)\" d=\"M73.7939 489.353 L61.9884 507.802 L73.7939 507.802 L73.7939 489.353 M72.567 485.279 L78.4466 485.279 L78.4466 507.802 L83.3772 507.802 L83.3772 511.691 L78.4466 511.691 L78.4466 519.839 L73.7939 519.839 L73.7939 511.691 L58.1921 511.691 L58.1921 507.177 L72.567 485.279 Z\" fill=\"#000000\" fill-rule=\"evenodd\" fill-opacity=\"1\" /><path clip-path=\"url(#clip970)\" d=\"M101.109 488.358 Q97.4975 488.358 95.6688 491.923 Q93.8632 495.464 93.8632 502.594 Q93.8632 509.7 95.6688 513.265 Q97.4975 516.807 101.109 516.807 Q104.743 516.807 106.548 513.265 Q108.377 509.7 108.377 502.594 Q108.377 495.464 106.548 491.923 Q104.743 488.358 101.109 488.358 M101.109 484.654 Q106.919 484.654 109.974 489.261 Q113.053 493.844 113.053 502.594 Q113.053 511.321 109.974 515.927 Q106.919 520.511 101.109 520.511 Q95.2984 520.511 92.2197 515.927 Q89.1642 511.321 89.1642 502.594 Q89.1642 493.844 92.2197 489.261 Q95.2984 484.654 101.109 484.654 Z\" fill=\"#000000\" fill-rule=\"evenodd\" fill-opacity=\"1\" /><polyline clip-path=\"url(#clip972)\" style=\"stroke:#009af9; stroke-linecap:butt; stroke-linejoin:round; stroke-width:4; stroke-opacity:1; fill:none\" points=\"\n",
       "  1219.23,1283.68 1219.8,1283.53 1220.82,1283.43 1222.27,1283.36 1224.12,1283.31 1226.38,1283.27 1229.04,1283.23 1232.11,1283.15 1235.6,1283.04 1239.52,1282.88 \n",
       "  1243.9,1282.66 1248.76,1282.35 1254.13,1281.95 1260.04,1281.43 1266.54,1280.78 1273.66,1279.97 1281.47,1278.99 1290,1277.8 1299.32,1276.38 1309.51,1274.69 \n",
       "  1320.61,1272.69 1332.72,1270.33 1345.92,1267.56 1360.28,1264.33 1375.92,1260.55 1392.91,1256.15 1411.38,1251.03 1431.42,1245.09 1453.14,1238.2 1476.65,1230.22 \n",
       "  1502.07,1220.98 1529.5,1210.3 1559.02,1197.97 1590.7,1183.76 1624.59,1167.42 1660.71,1148.65 1699.06,1127.15 1739.54,1102.59 1781.95,1074.68 1826.03,1043.1 \n",
       "  1871.41,1007.57 1917.6,967.875 1963.9,923.814 2009.48,875.366 2053.32,822.738 2094.26,766.363 2130.99,706.903 2162.11,645.26 2186.23,582.79 2201.83,521.121 \n",
       "  2207.74,461.927 2203.18,406.927 2187.7,357.881 2161.27,316.592 2124.26,284.717 2077.84,262.863 2023.43,251.173 1962.6,249.358 1897.05,256.673 1828.64,271.918 \n",
       "  1759.32,293.472 1690.54,319.693 1623.46,349.018 1559.04,380.064 1497.95,411.651 1440.64,442.809 1387.27,472.774 1337.86,501.057 1292.4,527.456 1250.73,551.848 \n",
       "  1212.68,574.197 1178.03,594.551 1146.52,613.039 1117.91,629.8 1091.94,645 1068.39,658.803 1047.03,671.365 1027.64,682.825 1010.02,693.31 993.976,702.937 \n",
       "  979.339,711.809 965.946,720.018 953.655,727.638 942.333,734.734 931.856,741.358 922.111,747.557 912.992,753.364 904.403,758.805 896.263,763.904 888.504,768.674 \n",
       "  881.062,773.127 873.879,777.272 866.902,781.114 860.08,784.656 853.371,787.898 846.734,790.837 840.146,793.47 833.584,795.79 827.033,797.792 820.477,799.469 \n",
       "  813.907,800.815 807.314,801.823 800.696,802.489 794.052,802.804 787.387,802.765 780.712,802.366 774.04,801.599 767.39,800.463 760.781,798.954 754.234,797.075 \n",
       "  747.773,794.828 741.426,792.218 735.22,789.253 729.188,785.942 723.359,782.3 717.772,778.341 712.466,774.083 707.482,769.547 702.855,764.759 698.62,759.746 \n",
       "  694.811,754.539 691.459,749.175 688.594,743.693 686.243,738.134 684.433,732.546 683.181,726.97 682.501,721.454 682.406,716.043 682.904,710.784 683.995,705.719 \n",
       "  685.673,700.89 687.928,696.337 690.742,692.096 694.091,688.204 697.946,684.694 702.271,681.598 707.026,678.942 712.172,676.738 717.664,674.994 723.454,673.719 \n",
       "  729.495,672.916 735.739,672.583 742.14,672.717 748.65,673.308 755.222,674.342 761.808,675.801 768.362,677.663 774.836,679.902 781.184,682.487 787.371,685.397 \n",
       "  793.365,688.607 799.136,692.089 804.655,695.815 809.895,699.758 814.836,703.892 819.455,708.19 823.735,712.626 827.661,717.175 831.22,721.809 834.404,726.506 \n",
       "  837.204,731.239 839.616,735.985 841.636,740.727 843.261,745.445 844.491,750.121 845.324,754.734 845.762,759.267 845.806,763.703 845.459,768.023 844.726,772.213 \n",
       "  843.61,776.256 842.119,780.138 840.258,783.844 838.036,787.359 835.462,790.673 832.557,793.774 829.328,796.647 825.776,799.276 821.909,801.645 817.734,803.739 \n",
       "  813.263,805.544 808.51,807.048 803.488,808.239 798.218,809.104 792.719,809.634 787.014,809.82 781.129,809.653 775.091,809.125 768.931,808.23 762.682,806.962 \n",
       "  756.378,805.315 750.057,803.287 743.744,800.88 737.468,798.101 731.272,794.948 725.199,791.429 719.292,787.553 713.594,783.332 708.146,778.785 702.99,773.934 \n",
       "  698.168,768.804 693.722,763.425 689.692,757.832 686.119,752.062 683.045,746.158 680.509,740.166 678.536,734.142 677.147,728.135 676.358,722.191 676.183,716.356 \n",
       "  676.629,710.672 677.698,705.183 679.387,699.93 681.686,694.953 684.58,690.29 688.05,685.979 692.071,682.057 696.61,678.558 701.632,675.518 707.094,672.968 \n",
       "  712.95,670.939 719.145,669.45 725.623,668.474 732.326,668.005 739.2,668.037 746.193,668.562 753.253,669.565 760.331,671.03 767.379,672.938 774.352,675.265 \n",
       "  781.206,677.984 787.898,681.065 794.388,684.472 800.638,688.17 806.61,692.118 812.279,696.295 817.626,700.678 822.631,705.236 827.278,709.941 831.55,714.767 \n",
       "  835.436,719.685 838.924,724.67 842.005,729.699 844.673,734.747 846.922,739.792 848.75,744.813 850.158,749.789 851.145,754.702 851.716,759.532 851.876,764.264 \n",
       "  851.632,768.881 850.984,773.368 849.935,777.708 848.489,781.883 846.65,785.879 844.424,789.68 841.819,793.27 838.845,796.636 835.509,799.762 831.825,802.634 \n",
       "  827.804,805.239 823.459,807.563 818.807,809.594 813.862,811.319 808.643,812.726 803.171,813.81 797.462,814.555 791.532,814.943 785.4,814.959 779.088,814.591 \n",
       "  772.623,813.828 766.031,812.664 759.344,811.092 752.596,809.11 745.822,806.719 739.063,803.919 732.361,800.716 725.76,797.116 719.31,793.129 713.062,788.768 \n",
       "  707.068,784.046 701.363,778.989 695.984,773.631 690.987,768 686.425,762.127 682.345,756.048 678.79,749.799 675.797,743.422 673.398,736.961 671.62,730.462 \n",
       "  670.487,723.975 670.016,717.553 670.218,711.253 671.101,705.133 672.667,699.256 674.915,693.686 677.834,688.49 681.396,683.697 685.562,679.34 690.291,675.454 \n",
       "  695.541,672.064 701.268,669.193 707.424,666.857 713.96,665.07 720.825,663.836 727.963,663.156 735.318,663.028 742.831,663.44 750.441,664.378 758.084,665.823 \n",
       "  765.694,667.748 773.219,670.122 780.616,672.914 787.841,676.092 794.855,679.624 801.62,683.48 808.101,687.628 814.269,692.036 820.096,696.674 825.559,701.51 \n",
       "  830.636,706.513 835.311,711.652 839.57,716.896 843.403,722.214 846.802,727.574 849.765,732.946 852.289,738.302 854.374,743.636 856.019,748.93 857.223,754.163 \n",
       "  857.989,759.316 858.319,764.371 858.216,769.309 857.684,774.113 856.727,778.765 855.352,783.251 853.565,787.554 851.374,791.659 848.787,795.553 845.813,799.221 \n",
       "  842.469,802.654 838.789,805.842 834.773,808.768 830.418,811.411 825.728,813.754 820.707,815.778 815.365,817.468 809.713,818.808 803.769,819.785 797.551,820.385 \n",
       "  791.083,820.598 784.389,820.414 777.502,819.821 770.453,818.814 763.28,817.384 756.022,815.526 748.724,813.236 741.433,810.509 734.199,807.344 727.077,803.739 \n",
       "  720.099,799.705 713.285,795.264 706.696,790.426 700.389,785.209 694.419,779.634 688.838,773.727 683.697,767.519 679.043,761.049 674.921,754.357 671.373,747.491 \n",
       "  668.44,740.502 666.159,733.448 664.565,726.39 663.69,719.395 663.564,712.54 664.191,705.894 665.562,699.51 667.66,693.436 670.464,687.717 673.952,682.394 \n",
       "  678.093,677.505 682.854,673.085 688.199,669.164 694.087,665.771 700.47,662.931 707.299,660.664 714.52,658.989 722.075,657.921 729.899,657.471 737.927,657.646 \n",
       "  746.082,658.427 754.292,659.758 762.495,661.61 770.633,663.957 778.652,666.768 786.504,670.011 794.143,673.654 801.527,677.663 808.617,682.001 815.381,686.632 \n",
       "  821.788,691.517 827.813,696.615 833.433,701.886 838.629,707.287 843.387,712.801 847.699,718.405 851.558,724.072 854.958,729.774 857.896,735.487 860.368,741.186 \n",
       "  862.375,746.848 863.914,752.451 864.988,757.977 865.6,763.404 865.752,768.716 865.45,773.896 864.7,778.928 863.51,783.799 861.896,788.494 859.867,792.996 \n",
       "  857.423,797.29 854.566,801.357 851.3,805.183 847.631,808.75 843.568,812.045 839.119,815.049 834.297,817.749 829.117,820.13 823.593,822.175 817.744,823.87 \n",
       "  811.59,825.201 805.153,826.153 798.457,826.712 791.527,826.864 784.393,826.595 777.074,825.902 769.599,824.773 761.999,823.19 754.312,821.141 746.575,818.617 \n",
       "  738.831,815.614 731.123,812.132 723.499,808.175 716.009,803.753 708.706,798.879 701.643,793.571 694.881,787.852 688.48,781.748 682.503,775.289 677.017,768.513 \n",
       "  672.066,761.475 667.698,754.234 663.964,746.841 660.911,739.35 658.578,731.814 656.996,724.287 656.189,716.827 656.173,709.49 656.958,702.334 658.545,695.421 \n",
       "  660.93,688.81 664.1,682.564 668.035,676.746 672.706,671.42 678.08,666.653 684.114,662.51 690.749,659.021 697.906,656.173 705.514,653.98 713.504,652.447 \n",
       "  721.805,651.576 730.35,651.361 739.071,651.789 747.901,652.841 756.774,654.494 765.625,656.715 774.391,659.469 783.007,662.712 791.412,666.393 799.547,670.464 \n",
       "  807.378,674.901 814.873,679.665 822,684.716 828.733,690.016 835.046,695.527 840.919,701.213 846.333,707.042 851.275,712.979 855.732,718.995 859.696,725.06 \n",
       "  863.164,731.147 866.132,737.228 868.604,743.281 870.584,749.282 872.079,755.21 873.092,761.049 873.624,766.783 873.679,772.392 873.262,777.861 872.378,783.17 \n",
       "  871.032,788.304 869.231,793.246 866.981,797.98 864.292,802.489 861.17,806.759 857.627,810.774 853.671,814.52 849.313,817.982 844.565,821.145 839.454,824.002 \n",
       "  833.992,826.537 828.183,828.725 822.031,830.547 815.547,831.982 808.745,833.011 801.643,833.619 794.262,833.789 786.629,833.508 778.774,832.764 770.731,831.544 \n",
       "  762.537,829.841 754.237,827.645 745.875,824.951 737.501,821.753 729.17,818.048 720.941,813.834 712.871,809.113 704.986,803.91 697.351,798.24 690.041,792.123 \n",
       "  683.123,785.58 676.665,778.643 670.73,771.347 665.374,763.737 660.654,755.86 656.622,747.774 653.325,739.541 650.806,731.229 649.108,722.915 648.267,714.678 \n",
       "  648.316,706.609 649.276,698.8 651.137,691.324 653.872,684.245 657.455,677.618 661.85,671.495 667.019,665.921 672.916,660.937 679.491,656.58 686.69,652.879 \n",
       "  694.451,649.861 702.709,647.544 711.394,645.945 720.427,645.072 729.729,644.931 739.212,645.521 748.787,646.796 758.375,648.701 767.906,651.198 777.313,654.25 \n",
       "  786.535,657.815 795.518,661.855 804.212,666.326 812.57,671.185 820.555,676.389 828.13,681.893 835.267,687.648 841.942,693.609 848.136,699.725 853.833,705.963 \n",
       "  859.021,712.304 863.695,718.718 867.853,725.177 871.491,731.652 874.608,738.116 877.206,744.545 879.284,750.916 880.846,757.208 881.896,763.4 882.437,769.473 \n",
       "  882.477,775.412 882.021,781.2 881.08,786.824 879.669,792.267 877.794,797.513 875.457,802.544 872.66,807.345 869.407,811.901 865.705,816.195 861.56,820.211 \n",
       "  856.983,823.932 851.983,827.342 846.573,830.423 840.767,833.159 834.58,835.533 828.029,837.528 821.132,839.126 813.911,840.309 806.386,841.061 798.579,841.373 \n",
       "  790.512,841.226 782.209,840.593 773.699,839.455 765.016,837.793 756.196,835.596 747.284,832.853 738.325,829.559 729.371,825.712 720.477,821.314 711.705,816.37 \n",
       "  703.117,810.891 694.785,804.89 686.781,798.383 679.176,791.396 672.014,783.979 665.376,776.177 659.346,768.037 653.997,759.61 649.395,750.952 645.597,742.123 \n",
       "  642.651,733.189 640.599,724.218 639.473,715.285 639.296,706.468 640.084,697.851 641.845,689.522 644.577,681.572 648.272,674.098 652.91,667.203 658.452,660.954 \n",
       "  664.825,655.38 671.959,650.525 679.779,646.422 688.212,643.095 697.179,640.56 706.601,638.823 716.396,637.883 726.478,637.728 736.763,638.338 747.16,639.683 \n",
       "  757.578,641.725 767.924,644.418 778.116,647.712 788.1,651.561 797.818,655.916 807.217,660.724 816.25,665.939 824.873,671.512 833.051,677.397 840.751,683.549 \n",
       "  847.947,689.926 854.619,696.486 860.75,703.188 866.332,709.992 871.359,716.861 875.832,723.759 879.756,730.651 883.131,737.519 885.954,744.35 888.232,751.12 \n",
       "  889.97,757.809 891.172,764.397 891.846,770.864 891.997,777.191 891.632,783.362 890.758,789.359 889.382,795.166 887.512,800.769 885.156,806.153 882.323,811.306 \n",
       "  879.039,816.213 875.32,820.859 871.159,825.225 866.551,829.295 861.496,833.049 855.997,836.471 850.059,839.541 843.692,842.242 836.909,844.554 829.726,846.46 \n",
       "  822.161,847.94 814.238,848.976 805.984,849.548 797.427,849.638 788.601,849.226 779.542,848.292 770.289,846.818 760.885,844.783 751.372,842.173 741.773,838.992 \n",
       "  732.142,835.224 722.539,830.856 713.028,825.882 703.674,820.304 694.545,814.133 685.713,807.388 677.251,800.092 669.235,792.281 661.745,783.995 654.861,775.283 \n",
       "  648.668,766.202 643.252,756.816 638.695,747.226 635.051,737.533 632.364,727.815 630.669,718.151 629.99,708.617 630.343,699.288 631.736,690.242 634.165,681.554 \n",
       "  637.62,673.297 642.078,665.547 647.51,658.378 653.877,651.861 661.13,646.071 669.212,641.078 678.055,636.955 687.582,633.77 697.668,631.499 708.19,630.105 \n",
       "  719.046,629.574 730.134,629.886 741.362,631.013 752.639,632.919 763.879,635.565 775.001,638.9 785.93,642.872 796.594,647.418 806.925,652.469 816.861,657.952 \n",
       "  826.35,663.81 835.36,670.013 843.866,676.51 851.843,683.253 859.271,690.195 866.135,697.294 872.422,704.511 878.122,711.809 883.23,719.153 887.742,726.513 \n",
       "  891.661,733.86 894.991,741.17 897.739,748.42 899.917,755.59 901.534,762.659 902.594,769.61 903.105,776.425 903.073,783.087 902.508,789.58 901.415,795.888 \n",
       "  899.802,801.995 897.677,807.885 895.047,813.542 891.922,818.951 888.308,824.097 884.214,828.966 879.648,833.541 874.619,837.81 869.152,841.759 863.254,845.368 \n",
       "  856.92,848.616 850.15,851.479 842.95,853.937 835.328,855.966 827.298,857.545 818.877,858.654 810.087,859.271 800.955,859.375 791.511,858.946 781.792,857.964 \n",
       "  771.835,856.408 761.687,854.26 751.394,851.499 741.01,848.106 730.589,844.066 720.168,839.39 709.819,834.069 699.623,828.095 689.662,821.468 680.018,814.201 \n",
       "  670.774,806.316 662.013,797.846 653.821,788.832 646.281,779.327 639.48,769.393 633.503,759.104 628.437,748.542 624.37,737.8 621.389,726.988 619.547,716.246 \n",
       "  618.865,705.678 619.352,695.374 621.008,685.423 623.823,675.909 627.775,666.913 632.835,658.513 638.962,650.782 646.105,643.792 654.205,637.609 663.19,632.298 \n",
       "  672.981,627.917 683.488,624.525 694.609,622.173 706.222,620.868 718.178,620.52 730.36,621.093 742.658,622.547 754.971,624.837 767.204,627.914 779.269,631.724 \n",
       "  791.086,636.206 802.582,641.296 813.691,646.923 824.354,653.014 834.52,659.488 844.145,666.279 853.199,673.359 861.666,680.679 869.531,688.19 876.781,695.848 \n",
       "  883.41,703.611 889.41,711.442 894.78,719.306 899.518,727.171 903.629,735.009 907.117,742.795 909.991,750.507 912.264,758.128 913.948,765.637 915.052,773.015 \n",
       "  915.586,780.246 915.557,787.314 914.974,794.206 913.845,800.904 912.178,807.395 909.98,813.662 907.261,819.692 904.026,825.468 900.285,830.977 896.045,836.203 \n",
       "  891.312,841.132 886.096,845.748 880.412,850.038 874.27,853.983 867.665,857.56 860.596,860.747 853.067,863.522 845.084,865.862 836.661,867.744 827.812,869.144 \n",
       "  818.558,870.039 808.923,870.404 798.936,870.216 788.629,869.45 778.04,868.082 767.209,866.086 756.182,863.436 745.008,860.11 733.726,856.11 722.403,851.416 \n",
       "  711.112,846.004 699.935,839.862 688.953,832.987 678.252,825.389 667.922,817.087 658.055,808.114 648.748,798.51 640.1,788.329 632.214,777.635 625.196,766.5 \n",
       "  619.157,755.013 614.205,743.273 610.414,731.429 607.839,719.596 606.521,707.882 606.489,696.39 607.758,685.224 610.33,674.484 614.193,664.269 619.322,654.676 \n",
       "  625.679,645.8 633.211,637.735 641.853,630.57 651.527,624.396 662.139,619.299 673.584,615.364 685.716,612.583 698.377,610.894 711.433,610.273 724.756,610.688 \n",
       "  738.226,612.097 751.728,614.451 765.156,617.693 778.411,621.754 791.399,626.561 804.035,632.03 816.24,638.067 827.941,644.576 839.089,651.511 849.65,658.817 \n",
       "  859.598,666.434 868.91,674.304 877.568,682.374 885.558,690.595 892.871,698.921 899.502,707.313 905.452,715.733 910.722,724.149 915.323,732.534 919.267,740.863 \n",
       "  922.57,749.116 925.239,757.269 927.287,765.304 928.726,773.206 929.567,780.958 929.822,788.544 929.5,795.949 928.612,803.16 927.167,810.16 925.174,816.937 \n",
       "  922.642,823.477 919.578,829.768 915.99,835.797 911.885,841.552 907.295,847.017 902.219,852.175 896.647,857.009 890.57,861.502 883.983,865.634 876.887,869.386 \n",
       "  869.284,872.736 861.181,875.662 852.588,878.139 843.52,880.144 833.995,881.65 824.035,882.63 813.665,883.055 802.914,882.897 791.815,882.123 780.406,880.704 \n",
       "  768.725,878.604 756.812,875.802 744.704,872.289 732.46,868.025 720.147,862.98 707.842,857.135 695.624,850.478 683.582,843.011 671.812,834.743 660.416,825.696 \n",
       "  649.502,815.901 639.187,805.398 629.593,794.24 620.849,782.489 613.078,770.241 606.381,757.631 600.862,744.77 596.607,731.769 593.689,718.74 592.163,705.8 \n",
       "  592.068,693.065 593.43,680.653 596.255,668.685 600.537,657.283 606.25,646.571 613.357,636.674 621.8,627.721 631.509,619.841 642.397,613.164 654.333,607.765 \n",
       "  667.13,603.605 680.633,600.683 694.692,598.99 709.164,598.5 723.909,599.174 738.794,600.961 753.689,603.796 768.473,607.599 783.025,612.278 797.235,617.727 \n",
       "  810.994,623.831 824.233,630.53 836.902,637.754 848.955,645.424 860.353,653.466 871.065,661.812 881.066,670.4 890.338,679.171 898.87,688.073 906.656,697.061 \n",
       "  913.7,706.091 920.01,715.129 925.602,724.144 930.498,733.109 934.703,742.001 938.23,750.798 941.095,759.483 943.315,768.037 944.903,776.446 945.874,784.693 \n",
       "  946.24,792.763 946.015,800.644 945.209,808.321 943.833,815.784 941.897,823.02 939.409,830.021 936.382,836.776 932.839,843.267 928.779,849.482 924.193,855.41 \n",
       "  919.076,861.036 913.424,866.346 907.237,871.324 900.514,875.949 893.258,880.204 885.474,884.065 877.169,887.509 868.352,890.511 859.034,893.044 849.228,895.08 \n",
       "  838.949,896.588 828.215,897.536 817.045,897.89 805.459,897.628 793.475,896.718 781.118,895.113 768.424,892.77 755.438,889.652 742.213,885.727 728.815,880.968 \n",
       "  715.317,875.354 701.804,868.869 688.368,861.5 675.114,853.243 662.155,844.097 649.609,834.068 637.553,823.204 626.139,811.56 615.538,799.195 605.905,786.179 \n",
       "  597.382,772.597 590.095,758.547 584.155,744.139 579.658,729.498 576.687,714.759 575.309,700.074 575.576,685.605 577.525,671.529 581.18,658.034 586.548,645.322 \n",
       "  593.616,633.601 602.275,622.985 612.394,613.568 623.841,605.431 636.478,598.636 650.161,593.222 664.738,589.211 680.054,586.604 695.943,585.381 712.239,585.505 \n",
       "  728.763,586.914 745.334,589.53 761.78,593.255 777.986,597.983 793.839,603.606 809.237,610.022 824.091,617.132 838.323,624.842 851.872,633.063 864.687,641.71 \n",
       "  876.73,650.702 887.979,659.963 898.422,669.421 908.061,679.008 916.912,688.664 924.964,698.359 932.225,708.065 938.714,717.75 944.449,727.385 949.446,736.944 \n",
       "  953.723,746.403 957.299,755.741 960.191,764.94 962.416,773.984 963.991,782.86 964.934,791.559 965.264,800.072 965.001,808.383 964.157,816.485 962.739,824.37 \n",
       "  960.754,832.027 958.21,839.447 955.113,846.618 951.467,853.53 947.279,860.171 942.553,866.526 937.291,872.583 931.497,878.326 925.172,883.741 918.32,888.812 \n",
       "  910.941,893.518 903.025,897.84 894.565,901.753 885.557,905.232 876,908.25 865.898,910.777 855.257,912.783 844.089,914.233 832.406,915.092 820.227,915.322 \n",
       "  807.572,914.885 794.466,913.739 780.943,911.853 767.05,909.206 752.828,905.731 738.33,901.367 723.622,896.066 708.78,889.789 693.896,882.512 679.071,874.219 \n",
       "  664.42,864.907 650.071,854.584 636.164,843.27 622.849,830.996 610.293,817.803 598.672,803.746 588.137,788.91 578.815,773.439 570.89,757.468 564.518,741.141 \n",
       "  559.83,724.612 556.932,708.042 555.904,691.604 556.799,675.477 559.645,659.852 564.444,644.928 571.171,630.913 579.776,618.025 590.184,606.489 602.257,596.442 \n",
       "  615.801,587.928 630.625,581.001 646.542,575.696 663.36,572.019 680.891,569.953 698.944,569.458 717.328,570.466 735.854,572.888 754.33,576.609 772.565,581.49 \n",
       "  790.393,587.393 807.721,594.217 824.45,601.838 840.498,610.14 855.793,619.011 870.277,628.353 883.909,638.07 896.657,648.079 908.504,658.303 919.448,668.673 \n",
       "  929.5,679.128 938.683,689.616 947.02,700.096 954.51,710.538 961.179,720.917 967.054,731.208 972.159,741.388 976.52,751.438 980.16,761.34 983.103,771.079 \n",
       "  985.369,780.642 986.981,790.019 987.958,799.203 988.319,808.188 988.089,816.964 987.284,825.524 985.911,833.863 983.978,841.973 981.492,849.848 978.458,857.479 \n",
       "  974.881,864.857 970.764,871.973 966.11,878.816 960.921,885.374 955.198,891.634 948.94,897.584 942.146,903.208 934.811,908.488 926.923,913.406 918.469,917.94 \n",
       "  909.44,922.067 899.83,925.76 889.635,928.989 878.854,931.723 867.487,933.928 855.54,935.565 843.018,936.594 829.931,936.973 816.292,936.659 802.141,935.632 \n",
       "  787.496,933.826 772.38,931.168 756.829,927.591 740.897,923.037 724.652,917.456 708.18,910.808 691.578,903.057 674.965,894.178 658.47,884.155 642.241,872.978 \n",
       "  626.44,860.645 611.246,847.163 596.833,832.558 583.338,816.927 570.998,800.367 560.043,782.988 550.673,764.928 543.067,746.34 537.379,727.405 533.736,708.32 \n",
       "  532.241,689.309 532.973,670.613 535.986,652.499 541.308,635.252 548.942,619.179 558.794,604.51 570.692,591.397 584.458,579.968 599.903,570.322 616.826,562.526 \n",
       "  635.017,556.619 654.254,552.608 674.305,550.471 694.928,550.153 715.867,551.572 736.861,554.614 757.683,559.121 778.173,564.919 798.174,571.852 817.551,579.768 \n",
       "  836.187,588.526 853.99,597.992 870.886,608.038 886.824,618.545 901.774,629.401 915.727,640.504 928.691,651.758 940.653,663.109 951.628,674.51 961.642,685.915 \n",
       "  970.724,697.282 978.9,708.577 986.201,719.767 992.655,730.828 998.293,741.739 1003.15,752.485 1007.25,763.055 1010.63,773.442 1013.33,783.637 1015.37,793.633 \n",
       "  1016.78,803.425 1017.58,813.008 1017.79,822.379 1017.43,831.533 1016.51,840.466 1015.05,849.174 1013.05,857.654 1010.55,865.901 1007.53,873.913 1004.01,881.68 \n",
       "  999.973,889.2 995.427,896.465 990.361,903.467 984.769,910.197 978.645,916.643 971.98,922.792 964.767,928.628 956.995,934.135 948.655,939.293 939.737,944.083 \n",
       "  930.231,948.481 920.122,952.46 909.389,955.991 898.017,959.039 885.991,961.567 873.306,963.533 859.96,964.893 845.955,965.597 831.3,965.594 816.009,964.826 \n",
       "  800.098,963.236 783.592,960.758 766.544,957.37 749.007,953.001 731.028,947.539 712.677,940.891 694.045,932.98 675.245,923.748 656.411,913.154 637.698,901.175 \n",
       "  619.282,887.805 601.363,873.055 584.159,856.953 567.911,839.548 552.883,820.902 539.334,801.11 527.445,780.366 517.488,758.884 509.712,736.885 504.321,714.61 \n",
       "  501.477,692.316 501.295,670.278 503.847,648.789 509.163,628.157 517.226,608.71 527.977,590.793 541.31,574.764 557.014,560.83 574.801,549.087 594.391,539.622 \n",
       "  615.497,532.477 637.835,527.655 661.115,525.114 685.049,524.772 709.343,526.504 733.705,530.144 757.838,535.484 781.477,542.296 804.473,550.404 826.682,559.607 \n",
       "  847.981,569.722 868.268,580.578 887.466,592.02 905.522,603.907 922.406,616.116 938.111,628.536 952.654,641.074 966.076,653.65 978.394,666.207 989.629,678.703 \n",
       "  999.826,691.103 1009.03,703.377 1017.29,715.497 1024.64,727.442 1031.14,739.195 1036.81,750.743 1041.71,762.078 1045.87,773.196 1049.34,784.097 1052.16,794.777 \n",
       "  1054.35,805.236 1055.95,815.473 1056.98,825.49 1057.48,835.287 1057.45,844.864 1056.92,854.222 1055.91,863.361 1054.43,872.284 1052.5,880.99 1050.12,889.479 \n",
       "  1047.29,897.75 1044.01,905.802 1040.28,913.633 1036.1,921.24 1031.45,928.619 1026.33,935.763 1020.73,942.667 1014.65,949.321 1008.06,955.718 1000.96,961.847 \n",
       "  993.315,967.692 985.115,973.24 976.332,978.473 966.942,983.372 956.923,987.911 946.251,992.062 934.905,995.795 922.862,999.072 910.102,1001.85 896.602,1004.1 \n",
       "  882.357,1005.77 867.373,1006.81 851.611,1007.16 835.044,1006.74 817.666,1005.46 799.487,1003.25 780.534,1000.02 760.854,995.694 740.511,990.178 719.587,983.387 \n",
       "  698.182,975.23 676.415,965.615 654.42,954.45 632.349,941.648 610.357,927.201 588.708,911.035 567.692,893.096 547.605,873.386 528.746,851.961 511.418,828.931 \n",
       "  495.932,804.458 482.6,778.762 471.741,752.115 463.679,724.841 458.741,697.324 457.192,670.074 459.098,643.573 464.458,618.19 473.219,594.27 485.282,572.132 \n",
       "  500.498,552.071 518.672,534.357 539.558,519.235 562.862,506.926 588.243,497.624 615.309,491.499 643.576,488.472 672.549,488.211 701.829,490.5 731.057,495.109 \n",
       "  759.918,501.791 788.139,510.281 815.489,520.303 841.778,531.559 866.86,543.739 890.623,556.621 913.009,570.06 933.996,583.892 953.577,597.974 971.755,612.181 \n",
       "  988.551,626.411 1004,640.578 1018.14,654.621 1031.05,668.494 1042.78,682.17 1053.41,695.615 1062.99,708.815 1071.6,721.759 1079.29,734.439 1086.13,746.851 \n",
       "  1092.18,758.991 1097.5,770.862 1102.14,782.465 1106.14,793.809 1109.57,804.899 1112.46,815.739 1114.85,826.337 1116.77,836.698 1118.26,846.829 1119.33,856.734 \n",
       "  1120.03,866.421 1120.37,875.895 1120.37,885.163 1120.06,894.23 1119.45,903.102 1118.53,911.782 1117.33,920.276 1115.84,928.587 1114.07,936.718 1112.02,944.675 \n",
       "  1109.69,952.459 1107.08,960.074 1104.18,967.521 1100.98,974.803 1097.48,981.921 1093.67,988.876 1089.52,995.666 1085.03,1002.29 1080.17,1008.75 1074.93,1015.04 \n",
       "  1069.29,1021.16 1063.23,1027.1 1056.72,1032.85 1049.73,1038.42 1042.23,1043.78 1034.2,1048.94 1025.6,1053.86 1016.39,1058.55 1006.53,1062.97 995.995,1067.1 \n",
       "  984.737,1070.92 972.717,1074.39 959.9,1077.49 946.28,1080.16 931.785,1082.37 916.343,1084.06 899.897,1085.16 882.403,1085.6 863.83,1085.3 844.16,1084.16 \n",
       "  823.39,1082.08 801.527,1078.94 778.594,1074.62 754.626,1068.99 729.671,1061.91 703.792,1053.22 677.065,1042.76 649.644,1030.46 621.715,1016.09 593.501,999.435 \n",
       "  565.28,980.339 537.375,958.713 510.161,934.521 484.063,907.791 459.555,878.611 437.163,847.125 417.459,813.542 401.021,778.183 388.316,741.634 379.814,704.469 \n",
       "  375.881,667.271 376.774,630.631 382.643,595.153 393.525,561.454 409.353,530.159 429.945,501.907 455.015,477.348 484.164,457.139 516.714,441.549 551.877,430.474 \n",
       "  588.969,423.821 627.343,421.403 666.392,422.94 705.545,428.062 744.272,436.304 782.078,447.107 818.524,459.859 853.376,474.199 886.482,489.756 917.718,506.17 \n",
       "  947.003,523.131 974.299,540.375 999.607,557.686 1022.97,574.898 1044.48,591.889 1064.25,608.588 1082.37,624.914 1098.91,640.828 1114.01,656.321 1127.76,671.387 \n",
       "  1140.28,686.022 1151.68,700.228 1162.04,714.005 1171.48,727.359 1180.07,740.298 1187.91,752.832 1195.06,764.975 1201.62,776.744 1207.66,788.159 1213.26,799.235 \n",
       "  1218.46,809.981 1223.34,820.409 1227.93,830.53 1232.31,840.354 1236.51,849.889 1240.59,859.144 1244.58,868.128 1248.53,876.844 1252.46,885.296 1256.41,893.489 \n",
       "  1260.41,901.424 1264.49,909.105 1268.68,916.532 1273.02,923.707 1277.53,930.629 1282.24,937.297 1287.18,943.708 1292.38,949.855 1297.85,955.735 1303.63,961.339 \n",
       "  1309.75,966.658 1316.24,971.685 1323.14,976.407 1330.46,980.813 1338.25,984.885 1346.54,988.606 1355.36,991.955 1364.75,994.909 1374.75,997.438 1385.38,999.513 \n",
       "  1396.69,1001.1 1408.72,1002.16 1421.51,1002.65 1435.1,1002.54 1449.5,1001.76 1464.77,1000.26 1480.95,997.973 1498.07,994.823 1516.16,990.736 1535.23,985.631 \n",
       "  1555.27,979.426 1576.27,972.032 1598.21,963.359 1621.06,953.311 1644.76,941.79 1669.22,928.752 1694.33,914.086 1719.96,897.667 1745.93,879.418 1772.02,859.307 \n",
       "  1797.97,837.349 1823.48,813.605 1848.19,788.184 1871.71,761.241 1893.59,732.976 1913.36,703.636 1930.58,673.561 1944.82,643.237 1955.61,613.16 1962.54,583.82 \n",
       "  1965.3,555.706 1963.69,529.306 1957.58,505.104 1946.97,483.582 1931.92,465.22 1912.61,450.495 1889.36,439.705 1862.71,432.739 1833.21,429.522 1801.39,429.903 \n",
       "  1767.78,433.659 1732.94,440.491 1697.39,450.025 1661.67,461.812 1626.33,475.329 1591.82,490.09 1558.39,505.81 1526.27,522.16 1495.67,538.854 1466.72,555.652 \n",
       "  1439.52,572.358 1414.11,588.823 1390.49,604.943 1368.61,620.658 1348.37,635.947 1329.77,650.779 1312.71,665.156 1297.11,679.088 1282.87,692.59 1269.92,705.677 \n",
       "  1258.16,718.372 1247.51,730.697 1237.86,742.68 1229.14,754.348 1221.26,765.723 1214.14,776.823 1207.71,787.666 1201.9,798.271 1196.65,808.65 1191.89,818.816 \n",
       "  1187.56,828.78 1183.62,838.551 1180,848.136 1176.68,857.542 1173.6,866.776 1170.75,875.842 1168.07,884.746 1165.55,893.492 1163.15,902.083 1160.83,910.522 \n",
       "  1158.59,918.81 1156.38,926.951 1154.19,934.946 1152,942.799 1149.8,950.511 1147.56,958.085 1145.26,965.522 1142.9,972.825 1140.45,979.994 1137.89,987.032 \n",
       "  1135.2,993.939 1132.38,1000.72 1129.41,1007.37 1126.27,1013.9 1122.93,1020.3 1119.39,1026.57 1115.62,1032.72 1111.6,1038.75 1107.3,1044.65 1102.72,1050.42 \n",
       "  1097.82,1056.06 1092.58,1061.57 1086.97,1066.95 1080.97,1072.19 1074.54,1077.28 1067.64,1082.23 1060.26,1087.01 1052.35,1091.61 1043.86,1096.04 1034.77,1100.27 \n",
       "  1025.03,1104.28 1014.59,1108.05 1003.4,1111.56 991.424,1114.77 978.603,1117.65 964.885,1120.16 950.217,1122.25 934.571,1123.87 917.879,1124.96 900.069,1125.44 \n",
       "  881.081,1125.23 860.872,1124.23 839.413,1122.32 816.689,1119.39 792.699,1115.3 767.458,1109.89 740.993,1103.01 713.349,1094.47 684.602,1084.13 654.901,1071.82 \n",
       "  624.392,1057.25 593.283,1040.16 561.851,1020.36 530.442,997.706 499.473,972.11 469.427,943.544 440.858,912.033 414.388,877.663 390.699,840.577 370.359,801.158 \n",
       "  354.077,759.973 342.524,717.629 336.228,674.796 335.575,632.203 340.809,590.637 352.032,550.947 369.203,514.041 392.14,480.888 420.48,452.445 453.457,429.105 \n",
       "  490.268,411.055 530.134,398.354 572.278,390.919 615.932,388.515 660.331,390.761 704.716,397.128 748.333,406.939 790.632,419.538 831.31,434.367 870.081,450.868 \n",
       "  906.734,468.55 941.127,486.988 973.194,505.823 1002.94,524.759 1030.44,543.57 1055.83,562.089 1079.15,580.201 1100.51,597.844 1120.06,614.972 1137.92,631.553 \n",
       "  1154.21,647.567 1169.06,663.006 1182.6,677.874 1194.95,692.19 1206.23,705.976 1216.57,719.255 1226.07,732.045 1234.82,744.368 1242.92,756.242 1250.46,767.687 \n",
       "  1257.52,778.717 1264.19,789.351 1270.55,799.602 1276.65,809.484 1282.56,819.006 1288.34,828.176 1294.04,836.999 1299.7,845.482 1305.37,853.626 1311.11,861.436 \n",
       "  1316.96,868.913 1322.96,876.058 1329.15,882.865 1335.56,889.331 1342.24,895.449 1349.2,901.208 1356.49,906.6 1364.15,911.612 1372.2,916.231 1380.68,920.442 \n",
       "  1389.63,924.227 1399.07,927.564 1409.03,930.427 1419.55,932.789 1430.66,934.618 1442.37,935.881 1454.73,936.54 1467.74,936.557 1481.43,935.888 1495.84,934.487 \n",
       "  1510.94,932.315 1526.76,929.31 1543.32,925.406 1560.6,920.538 1578.59,914.644 1597.26,907.666 1616.55,899.55 1636.4,890.243 1656.73,879.697 1677.44,867.866 \n",
       "  1698.42,854.708 1719.54,840.218 1740.62,824.395 1761.46,807.238 1781.79,788.781 1801.39,769.104 1819.99,748.322 1837.3,726.594 1853.06,704.117 1866.95,681.129 \n",
       "  1878.66,657.908 1887.86,634.772 1894.28,612.09 1897.73,590.252 1898.06,569.603 1895.17,550.456 1889.03,533.092 1879.65,517.765 1867.13,504.697 1851.63,494.08 \n",
       "  1833.35,486.076 1812.58,480.817 1789.67,478.375 1765.02,478.532 1739.05,481.08 1712.15,485.822 1684.68,492.543 1656.98,501.007 1629.37,510.959 1602.13,522.123 \n",
       "  1575.54,534.204 1549.83,546.902 1525.15,560.062 1501.61,573.538 1479.29,587.184 1458.26,600.876 1438.56,614.511 1420.2,628.009 1403.17,641.31 1387.46,654.379 \n",
       "  1373.01,667.199 1359.78,679.759 1347.72,692.044 1336.78,704.054 1326.89,715.792 1317.99,727.263 1310.04,738.473 1302.97,749.428 1296.73,760.136 1291.26,770.608 \n",
       "  1286.52,780.852 1282.44,790.877 1279,800.687 1276.14,810.289 1273.83,819.688 1272.03,828.887 1270.72,837.889 1269.87,846.697 1269.44,855.312 1269.42,863.733 \n",
       "  1269.79,871.961 1270.53,879.996 1271.64,887.837 1273.1,895.484 1274.92,902.935 1277.09,910.186 1279.6,917.234 1282.46,924.074 1285.66,930.7 1289.21,937.107 \n",
       "  1293.13,943.289 1297.41,949.241 1302.09,954.953 1307.17,960.418 1312.66,965.624 1318.6,970.56 1324.99,975.21 1331.86,979.561 1339.23,983.595 1347.13,987.291 \n",
       "  1355.6,990.632 1364.65,993.593 1374.34,996.147 1384.68,998.263 1395.71,999.906 1407.47,1001.04 1420,1001.61 1433.32,1001.59 1447.47,1000.92 1462.48,999.543 \n",
       "  1478.34,997.426 1495.11,994.478 1512.86,990.609 1531.61,985.733 1551.38,979.762 1572.15,972.608 1593.89,964.185 1616.56,954.406 1640.08,943.186 1664.36,930.438 \n",
       "  1689.3,916.077 1714.76,900.019 1740.59,882.184 1766.61,862.578 1792.53,841.173 1818.03,817.97 1842.76,793.035 1866.34,766.503 1888.37,738.573 1908.45,709.512 \n",
       "  1926.12,679.653 1940.92,649.398 1952.37,619.212 1960.01,589.641 1963.57,561.286 1962.83,534.678 1957.66,510.294 1948.01,488.557 1933.96,469.839 1915.68,454.459 \n",
       "  1893.46,442.681 1867.66,434.72 1838.79,430.728 1807.44,430.476 1774.23,433.596 1739.76,439.767 1704.55,448.64 1669.11,459.831 1633.89,472.927 1599.31,487.486 \n",
       "  1565.75,503.032 1533.49,519.167 1502.71,535.696 1473.53,552.387 1446.04,569.046 1420.29,585.514 1396.31,601.675 1374.09,617.446 1353.57,632.785 1334.67,647.687 \n",
       "  1317.33,662.139 1301.47,676.143 1287,689.715 1273.82,702.874 1261.85,715.641 1251,728.036 1241.17,740.085 1232.29,751.812 1224.27,763.242 1217.02,774.395 \n",
       "  1210.48,785.288 1204.57,795.939 1199.23,806.361 1194.4,816.57 1190.03,826.574 1186.05,836.384 1182.42,846.007 1179.08,855.45 1176.01,864.718 1173.16,873.819 \n",
       "  1170.5,882.756 1168,891.533 1165.64,900.155 1163.38,908.625 1161.2,916.944 1159.06,925.115 1156.96,933.14 1154.87,941.023 1152.77,948.764 1150.64,956.367 \n",
       "  1148.48,963.834 1146.26,971.166 1143.96,978.365 1141.56,985.433 1139.06,992.371 1136.44,999.181 1133.67,1005.86 1130.76,1012.42 1127.66,1018.86 1124.38,1025.17 \n",
       "  1120.89,1031.36 1117.17,1037.42 1113.2,1043.37 1108.97,1049.19 1104.44,1054.89 1099.6,1060.46 1094.41,1065.9 1088.87,1071.21 1082.92,1076.39 1076.56,1081.42 \n",
       "  1069.73,1086.31 1062.41,1091.04 1054.57,1095.6 1046.16,1099.98 1037.14,1104.18 1027.47,1108.16 1017.11,1111.91 1006,1115.4 994.103,1118.6 981.36,1121.48 \n",
       "  967.72,1124 953.148,1126.1 937.575,1127.75 920.932,1128.87 903.16,1129.4 884.209,1129.25 864.04,1128.32 842.624,1126.5 819.94,1123.67 795.981,1119.68 \n",
       "  770.747,1114.4 744.247,1107.66 716.551,1099.33 687.748,1089.21 657.915,1077.03 627.197,1062.55 595.809,1045.54 564.037,1025.85 532.234,1003.34 500.822,977.895 \n",
       "  470.296,949.466 441.216,918.019 414.191,883.575 389.752,846.389 368.691,806.836 351.76,765.372 339.591,722.554 332.696,679.04 331.47,635.59 336.186,593.066 \n",
       "  347.001,552.43 363.95,514.747 386.864,481.088 415.117,452.077 448.029,428.101 484.893,409.406 524.968,396.086 567.483,388.086 611.634,385.201 656.587,387.077 \n",
       "  701.475,393.211 745.582,402.934 788.47,415.55 829.734,430.441 869.061,447.05 906.226,464.879 941.095,483.488 973.624,502.499 1003.86,521.592 1031.83,540.543 \n",
       "  1057.6,559.216 1081.28,577.496 1102.99,595.295 1122.83,612.551 1140.95,629.225 1157.47,645.305 1172.53,660.8 1186.27,675.718 1198.81,690.076 1210.27,703.895 \n",
       "  1220.77,717.194 1230.41,729.995 1239.31,742.317 1247.55,754.18 1255.23,765.604 1262.45,776.609 1269.28,787.212 1275.78,797.425 1282.03,807.259 1288.08,816.723 \n",
       "  1293.99,825.826 1299.82,834.574 1305.63,842.975 1311.46,851.033 1317.37,858.751 1323.4,866.13 1329.59,873.165 1335.97,879.853 1342.58,886.188 1349.45,892.162 \n",
       "  1356.63,897.768 1364.15,902.996 1372.04,907.832 1380.34,912.264 1389.08,916.273 1398.29,919.838 1408,922.935 1418.24,925.538 1429.04,927.619 1440.42,929.146 \n",
       "  1452.42,930.085 1465.05,930.4 1478.35,930.053 1492.31,929.002 1506.97,927.195 1522.33,924.574 1538.4,921.084 1555.18,916.669 1572.63,911.273 1590.74,904.842 \n",
       "  1609.45,897.321 1628.72,888.655 1648.49,878.791 1668.66,867.701 1689.12,855.36 1709.74,841.71 1730.35,826.727 1750.78,810.418 1770.8,792.827 1790.22,774.031 \n",
       "  1808.76,754.138 1826.18,733.294 1842.18,711.676 1856.45,689.495 1868.67,666.997 1878.55,644.479 1885.89,622.289 1890.43,600.763 1891.98,580.22 1890.43,560.964 \n",
       "  1885.71,543.286 1877.82,527.458 1866.84,513.739 1852.88,502.373 1836.13,493.587 1816.86,487.51 1795.43,484.02 1772.19,483.032 1747.51,484.432 1721.74,488.069 \n",
       "  1695.22,493.755 1668.29,501.266 1641.28,510.342 1614.51,520.687 1588.3,531.98 1562.85,544.035 1538.29,556.675 1514.78,569.719 1492.42,583.008 1471.28,596.408 \n",
       "  1451.43,609.806 1432.89,623.116 1415.67,636.27 1399.72,649.226 1385.01,661.966 1371.51,674.463 1359.19,686.703 1347.98,698.683 1337.84,710.402 1328.7,721.86 \n",
       "  1320.52,733.061 1313.24,744.01 1306.81,754.713 1301.18,765.179 1296.29,775.42 1292.09,785.438 1288.55,795.24 1285.62,804.831 1283.26,814.216 1281.45,823.397 \n",
       "  1280.14,832.378 1279.31,841.16 1278.94,849.744 1278.99,858.129 1279.46,866.315 1280.33,874.302 1281.59,882.088 1283.24,889.673 1285.26,897.054 1287.66,904.226 \n",
       "  1290.43,911.185 1293.57,917.925 1297.09,924.44 1300.99,930.721 1305.27,936.763 1309.96,942.558 1315.07,948.096 1320.6,953.368 1326.59,958.359 1333.05,963.055 \n",
       "  1340,967.441 1347.47,971.499 1355.47,975.208 1364.03,978.546 1373.19,981.489 1382.98,984.012 1393.42,986.082 1404.57,987.664 1416.43,988.72 1429.05,989.206 \n",
       "  1442.46,989.075 1456.69,988.274 1471.77,986.748 1487.72,984.437 1504.54,981.295 1522.23,977.259 1540.85,972.223 1560.42,966.084 1580.94,958.75 1602.39,950.131 \n",
       "  1624.72,940.146 1647.85,928.721 1671.67,915.787 1696.06,901.28 1720.85,885.147 1745.86,867.337 1770.88,847.807 1795.7,826.554 1820.03,803.666 1843.48,779.226 \n",
       "  1865.64,753.373 1886.1,726.309 1904.48,698.294 1920.37,669.652 1933.39,640.766 1943.16,612.082 1949.28,584.106 1951.4,557.405 1949.32,532.544 1943.01,509.986 \n",
       "  1932.5,490.117 1917.89,473.252 1899.38,459.634 1877.27,449.433 1851.9,442.749 1823.74,439.61 1793.33,439.971 1761.25,443.596 1728.05,450.034 1694.27,458.918 \n",
       "  1660.37,469.884 1626.77,482.566 1593.82,496.6 1561.84,511.621 1531.09,527.267 1501.75,543.204 1473.96,559.276 1447.78,575.331 1423.24,591.234 1400.38,606.878 \n",
       "  1379.17,622.185 1359.58,637.103 1341.56,651.612 1325.03,665.715 1309.92,679.411 1296.14,692.708 1283.6,705.624 1272.23,718.175 1261.94,730.382 1252.65,742.265 \n",
       "  1244.28,753.843 1236.74,765.138 1229.97,776.168 1223.89,786.949 1218.44,797.496 1213.56,807.821 1209.2,817.937 1205.31,827.854 1201.82,837.58 1198.71,847.122 \n",
       "  1195.91,856.485 1193.4,865.675 1191.15,874.697 1189.12,883.556 1187.28,892.255 1185.62,900.798 1184.11,909.188 1182.73,917.428 1181.45,925.519 1180.26,933.463 \n",
       "  1179.15,941.264 1178.09,948.924 1177.09,956.445 1176.12,963.829 1175.18,971.079 1174.25,978.196 1173.33,985.182 1172.4,992.04 1171.46,998.772 1170.5,1005.38 \n",
       "  1169.52,1011.87 1168.5,1018.24 1167.43,1024.49 1166.32,1030.62 1165.15,1036.65 1163.91,1042.56 1162.6,1048.36 1161.21,1054.06 1159.74,1059.66 1158.16,1065.16 \n",
       "  1156.48,1070.55 1154.68,1075.85 1152.75,1081.06 1150.69,1086.17 1148.48,1091.19 1146.1,1096.12 1143.55,1100.97 1140.81,1105.73 1137.87,1110.4 1134.7,1114.99 \n",
       "  1131.3,1119.5 1127.63,1123.92 1123.68,1128.27 1119.43,1132.53 1114.86,1136.7 1109.93,1140.8 1104.62,1144.8 1098.89,1148.71 1092.72,1152.53 1086.07,1156.24 \n",
       "  1078.9,1159.85 1071.18,1163.33 1062.85,1166.69 1053.87,1169.9 1044.19,1172.96 1033.76,1175.84 1022.51,1178.52 1010.4,1180.96 997.359,1183.13 983.321,1184.98 \n",
       "  968.22,1186.48 951.997,1187.56 934.606,1188.15 915.944,1188.19 895.917,1187.58 874.45,1186.22 851.484,1183.97 826.979,1180.7 800.912,1176.23 773.279,1170.39 \n",
       "  744.092,1162.97 713.381,1153.76 681.196,1142.5 647.669,1129.04 612.974,1113.06 577.312,1094.16 540.984,1072.03 504.389,1046.43 468.028,1017.18 432.497,984.195 \n",
       "  398.496,947.464 366.82,907.042 338.363,863.067 313.922,815.942 294.417,766.419 280.769,715.318 273.696,663.542 273.717,612.075 281.149,561.981 296.109,514.408 \n",
       "  318.515,470.587 348.082,431.826 384.234,399.37 425.829,373.631 471.771,354.766 521.002,342.74 572.487,337.311 625.209,338.025 678.173,344.22 730.404,355.022 \n",
       "  781.009,369.409 829.556,386.597 875.713,405.822 919.219,426.399 959.908,447.742 997.705,469.367 1032.63,490.892 1064.81,512.037 1094.41,532.615 1121.53,552.479 \n",
       "  1146.32,571.578 1168.96,589.886 1189.61,607.392 1208.44,624.091 1225.62,639.992 1241.3,655.114 1255.63,669.489 1268.76,683.156 1280.83,696.161 1291.98,708.539 \n",
       "  1302.32,720.321 1311.97,731.537 1321.03,742.214 1329.59,752.375 1337.76,762.042 1345.62,771.232 1353.26,779.962 1360.73,788.242 1368.11,796.077 1375.44,803.472 \n",
       "  1382.79,810.43 1390.2,816.952 1397.73,823.037 1405.42,828.682 1413.32,833.884 1421.47,838.636 1429.9,842.923 1438.63,846.732 1447.7,850.047 1457.13,852.852 \n",
       "  1466.94,855.126 1477.15,856.85 1487.79,858.004 1498.86,858.563 1510.38,858.505 1522.34,857.801 1534.75,856.417 1547.6,854.32 1560.88,851.481 1574.57,847.874 \n",
       "  1588.63,843.471 1603.03,838.25 1617.72,832.19 1632.66,825.269 1647.77,817.481 1662.98,808.828 1678.2,799.297 1693.3,788.891 1708.16,777.629 1722.67,765.55 \n",
       "  1736.67,752.71 1750.04,739.181 1762.61,725.056 1774.22,710.444 1784.71,695.472 1793.9,680.286 1801.61,665.048 1807.73,649.939 1812.11,635.15 1814.65,620.867 \n",
       "  1815.25,607.266 1813.87,594.512 1810.47,582.763 1805.07,572.167 1797.7,562.86 1788.46,554.973 1777.43,548.625 1764.77,543.913 1750.65,540.801 1735.27,539.252 \n",
       "  1718.84,539.223 1701.55,540.655 1683.61,543.468 1665.2,547.564 1646.54,552.828 1627.8,559.126 1609.17,566.304 1590.85,574.195 1572.97,582.693 1555.62,591.702 \n",
       "  1538.9,601.112 1522.9,610.828 1507.69,620.762 1493.3,630.838 1479.79,640.987 1467.17,651.156 1455.46,661.296 1444.66,671.372 1434.73,681.357 1425.69,691.228 \n",
       "  1417.51,700.963 1410.17,710.548 1403.66,719.97 1397.93,729.218 1392.97,738.281 1388.76,747.152 1385.27,755.822 1382.47,764.288 1380.35,772.545 1378.87,780.59 \n",
       "  1378.02,788.412 1377.78,796.007 1378.12,803.37 1379.05,810.493 1380.55,817.369 1382.6,823.989 1385.2,830.343 1388.34,836.42 1392.02,842.207 1396.23,847.691 \n",
       "  1400.97,852.859 1406.23,857.693 1412.02,862.178 1418.36,866.298 1425.25,870.035 1432.69,873.367 1440.7,876.273 1449.27,878.727 1458.42,880.702 1468.15,882.17 \n",
       "  1478.46,883.1 1489.36,883.459 1500.84,883.212 1512.9,882.335 1525.54,880.785 1538.76,878.517 1552.55,875.486 1566.9,871.652 1581.77,866.978 1597.13,861.43 \n",
       "  1612.92,854.976 1629.08,847.588 1645.54,839.244 1662.2,829.921 1678.98,819.6 1695.78,808.281 1712.49,795.996 1728.93,782.764 1744.92,768.621 1760.29,753.63 \n",
       "  1774.84,737.875 1788.39,721.465 1800.76,704.532 1811.76,687.233 1821.2,669.748 1828.89,652.28 1834.65,635.057 1838.28,618.329 1839.63,602.371 1838.69,587.416 \n",
       "  1835.42,573.649 1829.86,561.233 1822.04,550.308 1812.04,540.994 1799.98,533.387 1785.99,527.559 1770.25,523.562 1752.94,521.425 1734.32,521.154 1714.63,522.72 \n",
       "  1694.17,525.923 1673.21,530.586 1651.99,536.558 1630.74,543.688 1609.65,551.826 1588.92,560.817 1568.68,570.51 1549.1,580.75 1530.27,591.381 1512.31,602.252 \n",
       "  1495.27,613.291 1479.21,624.438 1464.13,635.626 1450.06,646.796 1437,657.899 1424.95,668.894 1413.9,679.751 1403.82,690.445 1394.7,700.965 1386.5,711.304 \n",
       "  1379.19,721.457 1372.72,731.411 1367.08,741.162 1362.21,750.709 1358.08,760.048 1354.68,769.176 1351.95,778.092 1349.89,786.792 1348.46,795.274 1347.63,803.535 \n",
       "  1347.39,811.573 1347.71,819.381 1348.57,826.952 1349.96,834.282 1351.88,841.369 1354.32,848.207 1357.28,854.79 1360.75,861.107 1364.74,867.148 1369.25,872.901 \n",
       "  1374.27,878.351 1379.8,883.481 1385.86,888.274 1392.44,892.71 1399.54,896.767 1407.2,900.43 1415.43,903.678 1424.24,906.487 1433.65,908.827 1443.68,910.671 \n",
       "  1454.33,911.985 1465.62,912.734 1477.56,912.881 1490.16,912.384 1503.42,911.202 1517.33,909.31 1531.87,906.661 1547.07,903.186 1562.93,898.818 1579.44,893.501 \n",
       "  1596.57,887.184 1614.25,879.821 1632.44,871.376 1651.04,861.817 1669.95,851.12 1689.06,839.269 1708.22,826.252 1727.29,812.066 1746.1,796.714 1764.5,780.246 \n",
       "  1782.26,762.758 1799.13,744.352 1814.82,725.155 1829.08,705.325 1841.67,685.049 1852.35,664.542 1860.92,644.046 1867.17,623.833 1870.9,604.204 1871.93,585.489 \n",
       "  1870.11,568.044 1865.39,552.187 1857.85,538.119 1847.62,525.993 1834.84,515.932 1819.69,508.02 1802.35,502.312 1783.06,498.824 1762.08,497.54 1739.68,498.409 \n",
       "  1716.17,501.348 1691.89,506.235 1667.2,512.825 1642.41,520.831 1617.79,530.035 1593.57,540.232 1569.95,551.229 1547.11,562.845 1525.18,574.913 1504.26,587.278 \n",
       "  1484.44,599.796 1465.76,612.35 1448.26,624.882 1431.94,637.338 1416.8,649.67 1402.82,661.838 1389.97,673.813 1378.22,685.571 1367.55,697.098 1357.9,708.389 \n",
       "  1349.24,719.447 1341.5,730.28 1334.65,740.88 1328.63,751.253 1323.4,761.4 1318.91,771.327 1315.13,781.035 1312.01,790.528 1309.53,799.807 1307.64,808.875 \n",
       "  1306.32,817.732 1305.53,826.378 1305.24,834.809 1305.45,843.027 1306.14,851.032 1307.29,858.825 1308.91,866.401 1310.98,873.759 1313.49,880.892 1316.45,887.793 \n",
       "  1319.84,894.455 1323.68,900.867 1327.94,907.019 1332.64,912.896 1337.8,918.49 1343.42,923.793 1349.53,928.79 1356.14,933.467 1363.27,937.807 1370.93,941.788 \n",
       "  1379.16,945.39 1387.97,948.587 1397.38,951.352 1407.42,953.659 1418.09,955.476 1429.45,956.766 1441.52,957.489 1454.33,957.6 1467.9,957.053 1482.26,955.794 \n",
       "  1497.42,953.771 1513.38,950.925 1530.14,947.194 1547.71,942.514 1566.07,936.815 1585.2,930.027 1605.08,922.095 1625.63,912.977 1646.81,902.559 1668.54,890.749 \n",
       "  1690.71,877.483 1713.2,862.722 1735.83,846.454 1758.41,828.698 1780.69,809.494 1802.41,788.914 1823.28,767.053 1842.95,744.038 1861.09,720.02 1877.42,695.266 \n",
       "  1891.56,670.108 1903.11,644.884 1911.76,619.937 1917.23,595.621 1919.32,572.298 1917.89,550.338 1912.86,530.119 1904.2,512.029 1891.95,496.463 1876.22,483.81 \n",
       "  1857.3,474.166 1835.58,467.518 1811.46,463.843 1785.31,463.064 1757.54,465.044 1728.55,469.595 1698.76,476.472 1668.57,485.372 1638.43,495.939 1608.74,507.776 \n",
       "  1579.76,520.628 1551.7,534.249 1524.75,548.401 1499.06,562.877 1474.73,577.499 1451.84,592.124 1430.43,606.635 1410.49,620.949 1392,635.013 1374.89,648.799 \n",
       "  1359.16,662.278 1344.75,675.44 1331.59,688.283 1319.63,700.805 1308.79,713.014 1299.01,724.918 1290.22,736.534 1282.35,747.875 1275.34,758.953 1269.11,769.781 \n",
       "  1263.62,780.37 1258.81,790.731 1254.62,800.873 1251.01,810.806 1247.92,820.536 1245.32,830.069 1243.17,839.411 1241.45,848.568 1240.11,857.542 1239.13,866.337 \n",
       "  1238.49,874.955 1238.16,883.397 1238.12,891.665 1238.37,899.761 1238.89,907.684 1239.68,915.436 1240.71,923.016 1242,930.425 1243.52,937.66 1245.29,944.72 \n",
       "  1247.31,951.606 1249.56,958.314 1252.08,964.844 1254.85,971.192 1257.88,977.356 1261.19,983.333 1264.79,989.116 1268.69,994.702 1272.91,1000.08 1277.46,1005.26 \n",
       "  1282.36,1010.21 1287.64,1014.95 1293.31,1019.44 1299.41,1023.69 1305.96,1027.68 1312.98,1031.39 1320.51,1034.81 1328.59,1037.92 1337.24,1040.7 1346.5,1043.12 \n",
       "  1356.43,1045.15 1367.05,1046.77 1378.42,1047.94 1390.57,1048.61 1403.55,1048.73 1417.41,1048.27 1432.19,1047.15 1447.94,1045.33 1464.68,1042.74 1482.45,1039.31 \n",
       "  1501.33,1034.93 1521.37,1029.5 1542.59,1022.91 1565.01,1015.06 1588.61,1005.84 1613.35,995.127 1639.18,982.81 1666.01,968.768 1693.74,952.88 1722.24,935.021 \n",
       "  1751.37,915.113 1780.86,893.106 1810.41,868.896 1839.67,842.462 1868.24,813.869 1895.65,783.261 1921.43,750.869 1945.03,717.008 1965.85,682.077 1983.27,646.556 \n",
       "  1996.65,611.055 2005.51,576.375 2009.46,543.196 2008.24,512.139 2001.68,483.777 1989.76,458.633 1972.58,437.184 1950.34,419.856 1923.39,407.028 1892.19,399.028 \n",
       "  1857.39,396.005 1819.86,397.415 1780.41,402.818 1739.76,411.767 1698.55,423.774 1657.41,438.304 1616.87,454.784 1577.43,472.594 1539.52,491.105 1503.37,510.014 \n",
       "  1469.13,529.048 1436.92,547.953 1406.8,566.523 1378.78,584.606 1352.86,602.1 1328.96,618.956 1306.98,635.176 1286.81,650.779 1268.36,665.759 1251.51,680.156 \n",
       "  1236.14,694.011 1222.12,707.362 1209.35,720.247 1197.72,732.7 1187.12,744.756 1177.44,756.446 1168.6,767.8 1160.5,778.847 1153.03,789.613 1146.13,800.116 \n",
       "  1139.72,810.374 1133.73,820.403 1128.09,830.213 1122.74,839.817 1117.62,849.221 1112.67,858.431 1107.83,867.452 1103.07,876.287 1098.34,884.939 1093.61,893.411 \n",
       "  1088.84,901.702 1083.98,909.814 1079.01,917.744 1073.88,925.491 1068.56,933.052 1063.01,940.424 1057.22,947.602 1051.14,954.581 1044.75,961.356 1038.01,967.917 \n",
       "  1030.9,974.256 1023.38,980.362 1015.41,986.222 1006.97,991.822 998.013,997.144 988.516,1002.17 978.442,1006.88 967.756,1011.25 956.425,1015.25 944.417,1018.83 \n",
       "  931.698,1021.98 918.236,1024.63 904,1026.76 888.968,1028.3 873.128,1029.2 856.443,1029.39 838.888,1028.78 820.459,1027.31 801.163,1024.87 781.026,1021.37 \n",
       "  760.091,1016.71 738.415,1010.8 716.073,1003.53 693.154,994.77 669.766,984.427 646.047,972.446 622.198,958.683 598.447,943.011 575.051,925.355 552.292,905.691 \n",
       "  530.48,884.047 509.948,860.501 491.061,835.182 474.205,808.271 459.796,780 448.26,750.66 439.895,720.697 434.992,690.57 433.784,660.728 436.421,631.615 \n",
       "  442.97,603.678 453.416,577.358 467.66,553.098 485.524,531.336 506.742,512.513 530.97,497.059 557.721,485.089 586.466,476.529 616.709,471.315 647.981,469.324 \n",
       "  679.839,470.37 711.862,474.206 743.658,480.524 774.856,488.955 805.119,499.082 834.235,510.633 862.061,523.34 888.477,536.934 913.395,551.178 936.759,565.862 \n",
       "  958.544,580.81 978.756,595.874 997.432,610.937 1014.64,625.912 1030.45,640.728 1044.89,655.335 1058.06,669.699 1070.03,683.797 1080.88,697.607 1090.67,711.115 \n",
       "  1099.49,724.313 1107.41,737.199 1114.49,749.775 1120.8,762.049 1126.42,774.028 1131.39,785.718 1135.78,797.127 1139.63,808.264 1143,819.135 1145.92,829.749 \n",
       "  1148.45,840.115 1150.61,850.241 1152.44,860.136 1153.97,869.807 1155.23,879.26 1156.23,888.502 1157,897.541 1157.55,906.381 1157.91,915.03 1158.08,923.494 \n",
       "  1158.09,931.779 1157.93,939.89 1157.62,947.831 1157.16,955.608 1156.56,963.224 1155.82,970.686 1154.95,977.997 1153.93,985.161 1152.78,992.183 1151.5,999.066 \n",
       "  1150.07,1005.81 1148.49,1012.43 1146.77,1018.92 1144.89,1025.28 1142.84,1031.51 1140.62,1037.63 1138.22,1043.63 1135.62,1049.52 1132.82,1055.29 1129.8,1060.95 \n",
       "  1126.55,1066.5 1123.05,1071.95 1119.28,1077.28 1115.22,1082.5 1110.86,1087.62 1106.17,1092.62 1101.12,1097.52 1095.69,1102.29 1089.85,1106.96 1083.58,1111.5 \n",
       "  1076.83,1115.91 1069.57,1120.18 1061.77,1124.31 1053.38,1128.27 1044.36,1132.07 1034.67,1135.67 1024.25,1139.05 1013.07,1142.2 1001.07,1145.09 988.174,1147.67 \n",
       "  974.33,1149.93 959.474,1151.8 943.549,1153.22 926.498,1154.14 908.264,1154.45 888.794,1154.09 868.037,1152.95 845.943,1150.91 822.48,1147.87 797.686,1143.71 \n",
       "  771.49,1138.23 743.856,1131.22 714.806,1122.45 684.422,1111.72 652.842,1098.81 620.262,1083.5 586.938,1065.58 553.182,1044.84 519.367,1021.06 485.918,994.034 \n",
       "  453.231,963.731 422.01,930.114 393.054,893.197 367.124,853.161 344.944,810.346 327.198,765.259 314.534,718.569 307.561,671.109 306.852,623.876 312.922,578.024 \n",
       "  325.829,534.726 345.339,494.965 371.105,459.569 402.629,429.21 439.258,404.404 480.19,385.514 524.464,372.746 570.989,366.114 618.788,365.06 666.983,368.926 \n",
       "  714.801,377.073 761.589,388.839 806.82,403.538 850.087,420.461 891.109,438.873 929.702,458.186 965.783,478.067 999.343,498.165 1030.41,518.189 1059.04,537.914 \n",
       "  1085.34,557.175 1109.43,575.873 1131.47,593.941 1151.59,611.34 1169.95,628.067 1186.7,644.126 1201.98,659.524 1215.93,674.277 1228.69,688.405 1240.38,701.933 \n",
       "  1251.14,714.893 1261.07,727.314 1270.29,739.22 1278.89,750.635 1286.97,761.579 1294.61,772.069 1301.9,782.124 1308.91,791.757 1315.73,800.982 1322.41,809.808 \n",
       "  1329.02,818.241 1335.6,826.285 1342.2,833.942 1348.89,841.213 1355.7,848.098 1362.68,854.593 1369.88,860.696 1377.33,866.399 1385.07,871.692 1393.14,876.563 \n",
       "  1401.56,880.997 1410.37,884.977 1419.59,888.485 1429.27,891.501 1439.42,894.002 1450.07,895.965 1461.25,897.363 1472.97,898.162 1485.25,898.327 1498.11,897.818 \n",
       "  1511.56,896.599 1525.59,894.629 1540.2,891.868 1555.38,888.272 1571.13,883.798 1587.4,878.407 1604.17,872.072 1621.37,864.734 1638.97,856.339 1656.87,846.85 \n",
       "  1674.99,836.247 1693.22,824.525 1711.41,811.692 1729.42,797.777 1747.08,782.821 1764.19,766.881 1780.56,750.032 1795.97,732.37 1810.22,714.053 1823.05,695.259 \n",
       "  1834.2,676.181 1843.43,657.028 1850.57,638.025 1855.43,619.411 1857.88,601.443 1857.8,584.393 1855.12,568.547 1849.78,554.207 1841.8,541.598 1831.32,530.856 \n",
       "  1818.49,522.099 1803.47,515.404 1786.48,510.806 1767.74,508.303 1747.51,507.849 1726.06,509.36 1703.72,512.709 1680.81,517.732 1657.62,524.229 1634.4,531.997 \n",
       "  1611.37,540.845 1588.74,550.59 1566.71,561.062 1545.41,572.102 1524.97,583.563 1505.48,595.306 1487.02,607.206 1469.61,619.152 1453.32,631.089 1438.13,642.97 \n",
       "  1424.04,654.75 1411.04,666.391 1399.1,677.863 1388.22,689.145 1378.34,700.221 1369.44,711.084 1361.48,721.736 1354.41,732.172 1348.18,742.39 1342.76,752.391 \n",
       "  1338.11,762.176 1334.19,771.744 1330.96,781.098 1328.39,790.236 1326.45,799.16 1325.11,807.869 1324.34,816.362 1324.11,824.633 1324.4,832.68 1325.2,840.503 \n",
       "  1326.51,848.102 1328.31,855.472 1330.61,862.61 1333.39,869.509 1336.65,876.16 1340.38,882.554 1344.6,888.68 1349.29,894.523 1354.46,900.07 1360.1,905.303 \n",
       "  1366.25,910.211 1372.91,914.78 1380.11,918.993 1387.86,922.83 1396.18,926.268 1405.08,929.281 1414.6,931.842 1424.73,933.92 1435.52,935.482 1446.96,936.496 \n",
       "  1459.07,936.929 1471.87,936.732 1485.41,935.852 1499.69,934.239 1514.74,931.837 1530.54,928.594 1547.09,924.452 1564.37,919.356 1582.35,913.247 1600.99,906.068 \n",
       "  1620.24,897.758 1640.04,888.257 1660.32,877.506 1680.98,865.498 1701.88,852.181 1722.89,837.51 1743.81,821.472 1764.44,804.093 1784.57,785.431 1803.95,765.581 \n",
       "  1822.31,744.674 1839.38,722.875 1854.83,700.385 1868.34,677.441 1879.56,654.325 1888.26,631.423 1894.2,609.085 1897.18,587.63 1897.04,567.365 1893.72,548.577 \n",
       "  1887.18,531.537 1877.46,516.499 1864.64,503.7 1848.87,493.36 1830.35,485.684 1809.36,480.854 1786.28,478.762 1761.54,479.19 1735.54,481.977 1708.65,486.938 \n",
       "  1681.21,493.862 1653.58,502.512 1626.05,512.627 1598.93,523.917 1572.48,536.069 1546.95,548.79 1522.47,561.965 1499.13,575.441 1477.02,589.072 1456.2,602.737 \n",
       "  1436.71,616.336 1418.55,629.789 1401.74,643.039 1386.23,656.049 1371.99,668.805 1358.93,681.309 1347.05,693.54 1336.27,705.497 1326.54,717.184 1317.79,728.607 \n",
       "  1309.97,739.773 1303.03,750.686 1296.9,761.355 1291.54,771.788 1286.9,781.992 1282.93,791.976 1279.58,801.749 1276.81,811.314 1274.59,820.674 1272.87,829.835 \n",
       "  1271.65,838.8 1270.87,847.571 1270.53,856.149 1270.6,864.535 1271.06,872.726 1271.89,880.723 1273.08,888.524 1274.62,896.127 1276.52,903.532 1278.78,910.736 \n",
       "  1281.38,917.736 1284.33,924.527 1287.64,931.103 1291.3,937.459 1295.34,943.587 1299.75,949.478 1304.54,955.125 1309.75,960.52 1315.38,965.652 1321.46,970.509 \n",
       "  1328,975.077 1335.04,979.339 1342.58,983.277 1350.67,986.871 1359.33,990.099 1368.59,992.935 1378.47,995.352 1389.02,997.32 1400.28,998.804 1412.28,999.765 \n",
       "  1425.07,1000.16 1438.66,999.931 1453.1,999.034 1468.41,997.406 1484.62,994.983 1501.76,991.698 1519.85,987.477 1538.88,982.267 1558.82,975.999 1579.72,968.538 \n",
       "  1601.58,959.762 1624.39,949.563 1648.07,937.849 1672.54,924.539 1697.66,909.572 1723.27,892.896 1749.15,874.478 1775.08,854.297 1800.78,832.347 1825.94,808.637 \n",
       "  1850.27,783.245 1873.4,756.373 1894.8,728.246 1913.99,699.143 1930.53,669.396 1944,639.393 1954.03,609.577 1960.27,580.444 1962.43,552.545 1960.22,526.487 \n",
       "  1953.43,502.911 1942.15,482.276 1926.57,464.91 1906.95,451.053 1883.61,440.857 1856.94,434.38 1827.41,431.59 1795.55,432.359 1761.97,436.472 1727.31,443.605 \n",
       "  1692.12,453.277 1656.88,465.041 1622.06,478.486 1588.01,493.23 1555.04,508.916 1523.42,525.215 1493.3,541.825 1464.82,558.471 1438.05,574.988 1413.02,591.282 \n",
       "  1389.72,607.264 1368.13,622.865 1348.21,638.039 1329.89,652.76 1313.12,667.026 1297.79,680.854 1283.81,694.26 1271.1,707.261 1259.57,719.882 1249.12,732.146 \n",
       "  1239.66,744.076 1231.12,755.694 1223.41,767.02 1216.45,778.076 1210.17,788.88 1204.49,799.446 1199.36,809.788 1194.72,819.919 1190.52,829.851 1186.72,839.591 \n",
       "  1183.25,849.15 1180.09,858.532 1177.17,867.744 1174.47,876.788 1171.94,885.668 1169.56,894.388 1167.31,902.954 1165.16,911.368 1163.09,919.633 1161.07,927.752 \n",
       "  1159.08,935.726 1157.11,943.559 1155.13,951.251 1153.12,958.805 1151.08,966.224 1148.99,973.509 1146.82,980.663 1144.58,987.687 1142.23,994.583 1139.76,1001.35 \n",
       "  1137.16,1008 1134.42,1014.52 1131.51,1020.92 1128.43,1027.2 1125.15,1033.35 1121.66,1039.39 1117.93,1045.31 1113.95,1051.11 1109.69,1056.79 1105.14,1062.35 \n",
       "  1100.27,1067.79 1095.05,1073.1 1089.46,1078.29 1083.47,1083.34 1077.05,1088.26 1070.16,1093.02 1062.77,1097.64 1054.84,1102.09 1046.34,1106.36 1037.23,1110.44 \n",
       "  1027.44,1114.31 1016.95,1117.95 1005.7,1121.34 993.647,1124.44 980.729,1127.21 966.897,1129.61 952.096,1131.6 936.269,1133.12 919.375,1134.11 901.381,1134.5 \n",
       "  882.201,1134.2 861.765,1133.11 840.025,1131.11 816.955,1128.07 792.554,1123.86 766.838,1118.31 739.849,1111.26 711.649,1102.52 682.322,1091.9 651.975,1079.18 \n",
       "  620.769,1064.23 588.946,1046.81 556.799,1026.63 524.687,1003.46 493.034,977.195 462.332,947.779 433.137,915.264 406.073,879.782 381.829,841.554 361.161,800.885 \n",
       "  344.768,758.294 333.243,714.574 327.144,670.498 326.872,626.854 332.672,584.445 344.631,544.086 362.682,506.611 386.597,472.866 415.994,443.711 450.325,420.006 \n",
       "  488.681,402.003 530.094,389.595 573.694,382.633 618.661,380.836 664.224,383.792 709.664,390.954 754.31,401.642 797.544,415.05 838.961,430.562 878.349,447.695 \n",
       "  915.531,465.948 950.387,484.887 982.856,504.15 1012.94,523.441 1040.69,542.537 1066.22,561.283 1089.7,579.581 1111.19,597.33 1130.82,614.505 1148.75,631.098 \n",
       "  1165.12,647.106 1180.05,662.53 1193.68,677.375 1206.13,691.651 1217.52,705.371 1227.97,718.555 1237.57,731.225 1246.43,743.41 1254.68,755.135 1262.38,766.419 \n",
       "  1269.62,777.278 1276.48,787.727 1283.03,797.781 1289.35,807.453 1295.5,816.751 1301.55,825.688 1307.54,834.267 1313.53,842.492 1319.56,850.366 1325.67,857.887 \n",
       "  1331.91,865.055 1338.32,871.869 1344.94,878.324 1351.82,884.415 1358.99,890.137 1366.48,895.478 1374.33,900.424 1382.57,904.96 1391.23,909.068 1400.34,912.73 \n",
       "  1409.94,915.924 1420.04,918.625 1430.69,920.809 1441.92,922.447 1453.73,923.507 1466.17,923.948 1479.25,923.729 1492.99,922.805 1507.4,921.131 1522.49,918.658 \n",
       "  1538.25,915.338 1554.67,911.117 1571.76,905.943 1589.47,899.762 1607.76,892.55 1626.58,884.232 1645.88,874.733 1665.58,863.997 1685.56,851.99 1705.71,838.699 \n",
       "  1725.86,824.13 1745.85,808.31 1765.46,791.288 1784.48,773.131 1802.65,753.927 1819.69,733.787 1835.38,712.874 1849.43,691.421 1861.53,669.677 1871.37,647.902 \n",
       "  1878.73,626.374 1883.4,605.382 1885.21,585.231 1884.06,566.241 1879.87,548.745 1872.6,533.091 1862.27,519.603 1849.07,508.413 1833.23,499.623 1814.98,493.292 \n",
       "  1794.61,489.431 1772.4,488 1748.67,488.912 1723.77,492.029 1698.04,497.168 1671.87,504.093 1645.64,512.537 1619.59,522.26 1593.98,533.026 1569.03,544.614 \n",
       "  1544.91,556.828 1521.77,569.488 1499.74,582.436 1478.89,595.535 1459.26,608.665 1440.87,621.731 1423.74,634.672 1407.86,647.452 1393.21,660.038 1379.74,672.404 \n",
       "  1367.42,684.53 1356.22,696.405 1346.08,708.023 1336.95,719.385 1328.78,730.5 1321.52,741.374 1315.11,752.008 1309.49,762.41 1304.63,772.585 1300.48,782.539 \n",
       "  1296.99,792.276 1294.12,801.8 1291.84,811.115 1290.11,820.224 1288.9,829.128 1288.19,837.827 1287.94,846.323 1288.15,854.618 1288.8,862.711 1289.88,870.601 \n",
       "  1291.37,878.285 1293.27,885.76 1295.57,893.021 1298.26,900.062 1301.33,906.876 1304.8,913.457 1308.67,919.8 1312.95,925.897 1317.65,931.741 1322.79,937.32 \n",
       "  1328.37,942.623 1334.41,947.637 1340.93,952.346 1347.95,956.734 1355.5,960.782 1363.58,964.47 1372.24,967.776 1381.5,970.676 1391.4,973.141 1401.95,975.14 \n",
       "  1413.19,976.635 1425.15,977.588 1437.86,977.954 1451.35,977.688 1465.63,976.738 1480.75,975.053 1496.67,972.593 1513.46,969.276 1531.14,965.015 1549.73,959.727 \n",
       "  1569.24,953.33 1589.63,945.746 1610.86,936.9 1632.86,926.72 1655.56,915.136 1678.83,902.083 1702.56,887.497 1726.6,871.317 1750.78,853.5 1774.91,834.081 \n",
       "  1798.68,813.065 1821.76,790.503 1843.83,766.501 1864.52,741.221 1883.47,714.883 1900.33,687.765 1914.7,660.2 1926.2,632.58 1934.42,605.352 1938.99,579.025 \n",
       "  1939.73,554.118 1936.52,531.077 1929.31,510.288 1918.13,492.084 1903.11,476.745 1884.44,464.495 1862.41,455.504 1837.4,449.889 1809.84,447.711 1780.29,448.819 \n",
       "  1749.27,452.824 1717.3,459.423 1684.85,468.299 1652.34,479.123 1620.15,491.552 1588.61,505.229 1558.03,519.786 1528.66,534.851 1500.66,550.234 1474.12,565.773 \n",
       "  1449.12,581.309 1425.7,596.713 1403.87,611.882 1383.63,626.743 1364.94,641.253 1347.75,655.394 1331.98,669.17 1317.56,682.567 1304.43,695.597 1292.51,708.274 \n",
       "  1281.7,720.611 1271.94,732.624 1263.15,744.331 1255.25,755.747 1248.18,766.894 1241.86,777.787 1236.23,788.439 1231.22,798.863 1226.78,809.072 1222.87,819.074 \n",
       "  1219.43,828.88 1216.42,838.496 1213.78,847.929 1211.5,857.183 1209.52,866.263 1207.83,875.174 1206.39,883.919 1205.19,892.502 1204.2,900.927 1203.4,909.194 \n",
       "  1202.77,917.307 1202.31,925.266 1201.98,933.074 1201.79,940.733 1201.73,948.244 1201.79,955.609 1201.95,962.829 1202.22,969.907 1202.6,976.843 1203.06,983.638 \n",
       "  1203.63,990.295 1204.29,996.813 1205.05,1003.2 1205.9,1009.44 1206.85,1015.56 1207.9,1021.54 1209.05,1027.38 1210.31,1033.1 1211.68,1038.68 1213.17,1044.14 \n",
       "  1214.79,1049.46 1216.54,1054.65 1218.43,1059.71 1220.46,1064.65 1222.66,1069.45 1225.03,1074.11 1227.58,1078.65 1230.33,1083.04 1233.29,1087.3 1236.48,1091.42 \n",
       "  1239.92,1095.4 1243.61,1099.22 1247.59,1102.9 1251.88,1106.41 1256.5,1109.76 1261.47,1112.94 1266.83,1115.93 1272.6,1118.73 1278.81,1121.33 1285.5,1123.72 \n",
       "  1292.71,1125.87 1300.48,1127.77 1308.85,1129.39 1317.87,1130.71 1327.58,1131.7 1338.04,1132.34 1349.3,1132.57 1361.42,1132.38 1374.44,1131.7 1388.45,1130.49 \n",
       "  1403.52,1128.69 1419.72,1126.22 1437.11,1123 1455.77,1118.94 1475.74,1113.94 1497.08,1107.88 1519.86,1100.65 1544.11,1092.11 1569.87,1082.12 1597.09,1070.59 \n",
       "  1625.81,1057.27 1656.07,1041.93 1687.83,1024.37 1720.95,1004.4 1755.25,981.865 1790.45,956.644 1826.22,928.643 1862.13,897.793 1897.7,864.056 1932.38,827.428 \n",
       "  1965.66,788.115 1996.62,746.497 2024.34,703.051 2047.92,658.374 2066.59,613.184 2079.63,568.319 2086.41,524.738 2086.37,483.518 2079.03,445.858 2064.09,412.993 \n",
       "  2041.91,385.693 2012.96,364.481 1977.9,349.666 1937.47,341.33 1892.62,339.332 1844.38,343.306 1793.98,352.659 1742.55,366.523 1691.01,383.917 1640.18,403.964 \n",
       "  1590.74,425.86 1543.21,448.879 1498,472.37 1455.34,495.759 1415.37,518.594 1378.15,540.685 1343.66,561.878 1311.84,582.064 1282.59,601.186 1255.8,619.238 \n",
       "  1231.29,636.267 1208.92,652.333 1188.51,667.5 1169.9,681.849 1152.93,695.454 1137.43,708.386 1123.27,720.709 1110.3,732.482 1098.37,743.76 1087.37,754.593 \n",
       "  1077.17,765.021 1067.66,775.08 1058.73,784.798 1050.3,794.199 1042.27,803.302 1034.56,812.12 1027.09,820.665 1019.78,828.941 1012.57,836.953 1005.4,844.702 \n",
       "  998.217,852.185 990.972,859.398 983.616,866.337 976.101,872.994 968.384,879.357 960.42,885.416 952.176,891.156 943.62,896.562 934.723,901.615 925.457,906.295 \n",
       "  915.799,910.58 905.724,914.445 895.211,917.862 884.243,920.803 872.804,923.236 860.887,925.13 848.488,926.444 835.602,927.134 822.238,927.159 808.409,926.472 \n",
       "  794.138,925.03 779.455,922.786 764.398,919.693 749.015,915.704 733.358,910.774 717.497,904.885 701.523,897.977 685.54,889.996 669.663,880.904 654.019,870.687 \n",
       "  638.744,859.346 623.988,846.903 609.909,833.4 596.679,818.896 584.478,803.47 573.501,787.221 563.946,770.267 555.956,752.766 549.693,734.909 545.315,716.89 \n",
       "  542.945,698.909 542.673,681.172 544.55,663.891 548.594,647.284 554.788,631.574 563.079,616.991 573.38,603.769 585.565,592.12 599.454,582.121 614.842,573.847 \n",
       "  631.518,567.349 649.272,562.647 667.889,559.731 687.15,558.559 706.837,559.059 726.726,561.128 746.591,564.633 766.221,569.425 785.48,575.383 804.235,582.363 \n",
       "  822.369,590.227 839.781,598.847 856.389,608.1 872.129,617.874 886.954,628.062 900.836,638.567 913.764,649.3 925.744,660.18 936.791,671.139 946.901,682.138 \n",
       "  956.094,693.138 964.398,704.1 971.837,714.992 978.439,725.785 984.23,736.455 989.238,746.983 993.49,757.351 997.017,767.55 999.847,777.571 1002.01,787.403 \n",
       "  1003.53,797.04 1004.43,806.474 1004.72,815.702 1004.42,824.716 1003.56,833.512 1002.13,842.082 1000.16,850.423 997.656,858.529 994.622,866.393 991.069,874.01 \n",
       "  986.997,881.371 982.403,888.468 977.281,895.293 971.626,901.834 965.43,908.08 958.687,914.015 951.391,919.624 943.533,924.887 935.105,929.784 926.101,934.293 \n",
       "  916.51,938.389 906.327,942.047 895.544,945.235 884.144,947.918 872.116,950.056 859.456,951.609 846.166,952.53 832.257,952.772 817.744,952.284 802.65,951.014 \n",
       "  787.005,948.905 770.844,945.897 754.211,941.929 737.166,936.975 719.786,930.978 702.156,923.84 684.382,915.485 666.582,905.859 648.896,894.928 631.476,882.681 \n",
       "  614.493,869.129 598.136,854.303 582.61,838.256 568.136,821.062 554.953,802.819 543.316,783.643 533.44,763.704 525.491,743.246 519.676,722.5 516.161,701.704 \n",
       "  515.068,681.102 516.48,660.943 520.433,641.483 526.926,622.984 535.911,605.714 547.301,589.945 560.965,575.959 576.725,564.02 594.313,554.179 613.443,546.465 \n",
       "  633.836,540.891 655.222,537.44 677.335,536.057 699.916,536.655 722.712,539.111 745.476,543.268 767.969,548.933 789.957,555.882 811.274,563.948 831.815,572.985 \n",
       "  851.482,582.831 870.193,593.334 887.883,604.357 904.507,615.778 920.037,627.487 934.463,639.389 947.792,651.401 960.049,663.456 971.279,675.499 981.503,687.486 \n",
       "  990.745,699.384 999.048,711.166 1006.45,722.809 1013,734.293 1018.73,745.602 1023.67,756.723 1027.87,767.644 1031.35,778.359 1034.16,788.864 1036.32,799.157 \n",
       "  1037.86,809.236 1038.82,819.099 1039.22,828.744 1039.06,838.172 1038.38,847.381 1037.17,856.369 1035.46,865.135 1033.26,873.676 1030.56,881.991 1027.39,890.077 \n",
       "  1023.74,897.93 1019.62,905.547 1015.01,912.92 1009.91,920.045 1004.31,926.915 998.191,933.519 991.55,939.847 984.37,945.884 976.638,951.616 968.338,957.026 \n",
       "  959.455,962.093 949.97,966.796 939.873,971.111 929.142,975.009 917.747,978.458 905.668,981.421 892.885,983.856 879.389,985.719 865.171,986.958 850.23,987.519 \n",
       "  834.57,987.343 818.201,986.365 801.136,984.518 783.395,981.727 765.03,977.956 746.098,973.13 726.645,967.119 706.743,959.811 686.489,951.113 666.009,940.954 \n",
       "  645.451,929.279 624.992,916.056 604.836,901.268 585.209,884.922 566.368,867.04 548.592,847.667 532.189,826.865 517.423,804.759 504.545,781.582 493.887,757.571 \n",
       "  485.733,732.982 480.313,708.098 477.808,683.225 478.344,658.694 481.999,634.859 488.796,612.098 498.709,590.812 511.659,571.429 527.486,554.331 545.874,539.668 \n",
       "  566.495,527.564 589.021,518.098 613.119,511.296 638.453,507.133 664.683,505.532 691.466,506.364 718.455,509.45 745.3,514.558 771.666,521.418 797.358,529.8 \n",
       "  822.206,539.466 846.059,550.192 868.796,561.771 890.324,574.015 910.581,586.758 929.533,599.851 947.174,613.164 963.53,626.586 978.648,640.028 992.537,653.427 \n",
       "  1005.24,666.737 1016.81,679.92 1027.3,692.943 1036.76,705.777 1045.26,718.4 1052.83,730.798 1059.53,742.958 1065.42,754.877 1070.55,766.555 1074.96,777.992 \n",
       "  1078.71,789.189 1081.84,800.146 1084.37,810.868 1086.36,821.357 1087.82,831.617 1088.79,841.651 1089.3,851.464 1089.37,861.061 1089.03,870.444 1088.27,879.618 \n",
       "  1087.12,888.586 1085.59,897.35 1083.67,905.913 1081.37,914.277 1078.69,922.443 1075.65,930.413 1072.22,938.187 1068.42,945.765 1064.23,953.146 1059.64,960.328 \n",
       "  1054.64,967.307 1049.21,974.081 1043.33,980.642 1036.98,986.984 1030.15,993.099 1022.81,998.975 1014.93,1004.6 1006.5,1009.96 997.481,1015.04 987.847,1019.82 \n",
       "  977.56,1024.27 966.587,1028.38 954.895,1032.1 942.452,1035.41 929.228,1038.25 915.195,1040.58 900.323,1042.36 884.586,1043.51 867.958,1043.99 850.443,1043.72 \n",
       "  832.06,1042.66 812.759,1040.67 792.519,1037.65 771.347,1033.46 749.28,1028.01 726.384,1021.16 702.756,1012.82 678.522,1002.87 653.838,991.206 628.889,977.715 \n",
       "  603.892,962.295 579.09,944.843 554.733,925.292 531.102,903.679 508.639,879.998 487.783,854.307 468.952,826.741 452.546,797.511 438.949,766.908 428.524,735.296 \n",
       "  421.617,703.117 418.553,670.892 419.641,639.216 425.022,608.732 434.628,579.997 448.339,553.494 465.965,529.639 487.235,508.784 511.806,491.218 539.261,477.164 \n",
       "  569.104,466.781 600.768,460.165 633.66,457.213 667.261,457.556 701.08,460.89 734.687,466.899 767.706,475.249 799.821,485.592 830.775,497.563 860.368,510.783 \n",
       "  888.453,524.878 914.933,539.643 939.77,554.876 962.953,570.391 984.49,586.026 1004.41,601.649 1022.74,617.157 1039.57,632.474 1054.97,647.55 1069.02,662.344 \n",
       "  1081.79,676.829 1093.39,690.991 1103.9,704.819 1113.38,718.308 1121.94,731.456 1129.63,744.268 1136.55,756.751 1142.76,768.917 1148.32,780.772 1153.3,792.327 \n",
       "  1157.76,803.59 1161.73,814.571 1165.27,825.278 1168.44,835.723 1171.26,845.912 1173.79,855.857 1176.06,865.566 1178.09,875.047 1179.93,884.306 1181.58,893.35 \n",
       "  1183.07,902.185 1184.43,910.818 1185.67,919.255 1186.82,927.502 1187.88,935.565 1188.87,943.448 1189.81,951.155 1190.7,958.693 1191.56,966.063 1192.39,973.272 \n",
       "  1193.21,980.322 1194.02,987.218 1194.84,993.963 1195.67,1000.56 1196.51,1007.01 1197.37,1013.32 1198.27,1019.49 1199.2,1025.53 1200.17,1031.43 1201.2,1037.19 \n",
       "  1202.28,1042.83 1203.43,1048.34 1204.64,1053.72 1205.94,1058.97 1207.31,1064.1 1208.79,1069.11 1210.36,1074 1212.05,1078.76 1213.85,1083.4 1215.79,1087.92 \n",
       "  1217.87,1092.32 1220.1,1096.6 1222.5,1100.75 1225.08,1104.78 1227.86,1108.68 1230.85,1112.45 1234.06,1116.09 1237.53,1119.59 1241.26,1122.96 1245.28,1126.18 \n",
       "  1249.61,1129.25 1254.27,1132.17 1259.3,1134.92 1264.73,1137.49 1270.58,1139.88 1276.89,1142.07 1283.7,1144.04 1291.04,1145.79 1298.96,1147.29 1307.51,1148.52 \n",
       "  1316.72,1149.46 1326.66,1150.07 1337.38,1150.31 1348.94,1150.16 1361.4,1149.57 1374.82,1148.47 1389.27,1146.84 1404.8,1144.59 1421.49,1141.65 1439.43,1137.95 \n",
       "  1458.72,1133.38 1479.43,1127.82 1501.61,1121.17 1525.31,1113.28 1550.57,1104 1577.41,1093.18 1605.85,1080.64 1635.9,1066.2 1667.49,1049.69 1700.52,1030.96 \n",
       "  1734.91,1009.69 1770.5,985.638 1807.03,958.647 1844.14,928.616 1881.35,895.516 1918.13,859.389 1953.79,820.348 1987.59,778.574 2018.75,734.354 2046.47,688.329 \n",
       "  2069.64,641.325 2087.3,594.218 2098.64,547.943 2103.04,503.483 2100.06,461.879 2089.41,424.223 2070.98,391.662 2044.87,365.384 2011.71,345.986 1972.51,333.487 \n",
       "  1928.27,327.78 1880,328.563 1828.75,335.343 1775.58,347.435 1721.58,363.961 1667.89,383.852 1615.47,405.996 1564.85,429.598 1516.5,453.922 1470.75,478.353 \n",
       "  1427.82,502.402 1387.84,525.706 1350.79,548.027 1316.54,569.245 1285.05,589.284 1256.17,608.158 1229.75,625.909 1205.62,642.586 1183.6,658.255 1163.54,672.987 \n",
       "  1145.26,686.869 1128.59,699.994 1113.36,712.439 1099.42,724.271 1086.62,735.555 1074.84,746.345 1063.94,756.691 1053.8,766.632 1044.3,776.203 1035.35,785.427 \n",
       "  1026.83,794.328 1018.67,802.923 1010.79,811.222 1003.11,819.234 995.584,826.964 988.132,834.415 980.695,841.586 973.215,848.473 965.635,855.068 957.909,861.364 \n",
       "  950.002,867.35 941.878,873.012 933.505,878.338 924.849,883.309 915.884,887.907 906.58,892.113 896.915,895.903 886.867,899.255 876.422,902.142 865.57,904.534 \n",
       "  854.302,906.398 842.616,907.7 830.516,908.404 818.011,908.475 805.117,907.876 791.854,906.568 778.248,904.513 764.333,901.672 750.158,898.021 735.779,893.509 \n",
       "  721.265,888.089 706.694,881.727 692.155,874.397 677.748,866.089 663.584,856.802 649.784,846.546 636.483,835.345 623.824,823.233 611.96,810.256 601.03,796.482 \n",
       "  591.174,782.018 582.57,766.974 575.375,751.477 569.725,735.663 565.732,719.684 563.484,703.706 563.051,687.907 564.476,672.478 567.781,657.625 572.966,643.566 \n",
       "  580.006,630.524 588.811,618.639 599.257,608.032 611.21,598.811 624.523,591.057 639.036,584.825 654.58,580.144 670.97,577.017 688.011,575.422 705.496,575.31 \n",
       "  723.207,576.605 740.974,579.212 758.647,583.018 776.077,587.91 793.132,593.779 809.697,600.515 825.673,608.011 840.977,616.162 855.545,624.863 869.327,634.013 \n",
       "  882.289,643.51 894.417,653.257 905.697,663.178 916.117,673.241 925.683,683.398 934.407,693.601 942.302,703.809 949.382,713.985 955.664,724.098 961.169,734.122 \n",
       "  965.918,744.034 969.933,753.817 973.241,763.457 975.866,772.937 977.827,782.246 979.145,791.375 979.838,800.314 979.921,809.053 979.411,817.582 978.32,825.894 \n",
       "  976.662,833.979 974.445,841.83 971.681,849.439 968.377,856.798 964.543,863.895 960.177,870.72 955.275,877.264 949.832,883.514 943.843,889.456 937.306,895.076 \n",
       "  930.218,900.354 922.576,905.271 914.378,909.806 905.621,913.936 896.306,917.634 886.43,920.873 875.994,923.624 865.003,925.859 853.453,927.54 841.341,928.625 \n",
       "  828.675,929.069 815.468,928.829 801.746,927.861 787.539,926.118 772.889,923.556 757.845,920.127 742.464,915.783 726.813,910.478 710.965,904.168 694.993,896.855 \n",
       "  679.018,888.486 663.177,879.011 647.612,868.4 632.471,856.652 617.91,843.784 604.088,829.842 591.172,814.892 579.335,799.026 568.755,782.358 559.616,765.027 \n",
       "  552.11,747.195 546.432,729.05 542.743,710.816 541.1,692.746 541.568,675.06 544.181,657.964 548.94,641.657 555.818,626.328 564.752,612.156 575.653,599.311 \n",
       "  588.397,587.953 602.831,578.232 618.77,570.291 635.997,564.259 654.261,560.107 673.305,557.737 692.893,557.086 712.802,558.073 732.826,560.602 752.777,564.562 \n",
       "  772.48,569.825 791.778,576.247 810.528,583.668 828.605,591.913 845.902,600.815 862.355,610.303 877.923,620.273 892.574,630.623 906.286,641.263 919.043,652.111 \n",
       "  930.84,663.095 941.681,674.153 951.579,685.233 960.554,696.292 968.637,707.296 975.858,718.217 982.241,729.026 987.819,739.705 992.624,750.238 996.686,760.611 \n",
       "  1000.03,770.811 1002.69,780.827 1004.69,790.65 1006.05,800.271 1006.79,809.686 1006.93,818.889 1006.49,827.878 1005.51,836.646 1003.97,845.187 1001.9,853.499 \n",
       "  999.288,861.578 996.146,869.416 992.473,877.007 988.27,884.343 983.539,891.414 978.279,898.211 972.488,904.722 966.164,910.934 959.304,916.833 951.902,922.404 \n",
       "  943.946,927.629 935.419,932.487 926.304,936.956 916.591,941.01 906.268,944.621 895.329,947.756 883.767,950.379 871.58,952.454 858.767,953.936 845.33,954.782 \n",
       "  831.273,954.945 816.636,954.405 801.429,953.093 785.658,950.926 769.346,947.828 752.536,943.729 735.288,938.567 717.679,932.285 699.806,924.837 681.783,916.18 \n",
       "  663.742,906.281 645.833,895.114 628.225,882.657 611.104,868.899 594.67,853.836 579.069,837.54 564.549,820.097 551.381,801.606 539.81,782.196 530.057,762.026 \n",
       "  522.315,741.281 516.755,720.182 513.521,698.975 512.733,677.937 514.485,657.375 518.845,637.626 525.849,619.05 535.4,601.93 547.328,586.463 561.45,572.812 \n",
       "  577.564,561.108 595.455,551.446 614.888,543.89 635.615,538.468 657.37,535.175 679.87,533.974 702.816,534.792 725.897,537.517 748.864,541.931 771.509,547.827 \n",
       "  793.644,555.025 815.107,563.348 835.763,572.631 855.505,582.713 874.25,593.442 891.944,604.675 908.558,616.274 924.085,628.114 938.504,640.121 951.828,652.232 \n",
       "  964.082,664.385 975.295,676.526 985.497,688.609 994.72,700.594 1003,712.449 1010.37,724.15 1016.88,735.679 1022.56,747.027 1027.46,758.183 1031.62,769.138 \n",
       "  1035.07,779.887 1037.85,790.426 1039.99,800.751 1041.52,810.86 1042.46,820.751 1042.84,830.423 1042.68,839.875 1042,849.108 1040.82,858.121 1039.15,866.911 \n",
       "  1037,875.48 1034.36,883.825 1031.24,891.943 1027.64,899.833 1023.56,907.489 1018.99,914.906 1013.94,922.077 1008.39,928.995 1002.34,935.651 995.776,942.036 \n",
       "  988.691,948.136 981.061,953.938 972.865,959.426 964.084,964.581 954.698,969.382 944.689,973.803 934.038,977.815 922.728,981.386 910.739,984.481 898.055,987.061 \n",
       "  884.667,989.087 870.589,990.522 855.786,991.302 840.236,991.357 823.93,990.617 806.876,989.007 789.099,986.457 770.638,982.889 751.55,978.228 731.906,972.395 \n",
       "  711.794,965.313 691.317,956.899 670.595,947.073 649.764,935.751 628.953,922.913 608.375,908.516 588.287,892.498 568.953,874.847 550.64,855.597 533.618,834.828 \n",
       "  518.165,812.668 504.56,789.293 493.088,764.925 484.037,739.832 477.701,714.331 474.365,688.808 474.17,663.744 477.143,639.496 483.271,616.388 492.495,594.72 \n",
       "  504.713,574.77 519.778,556.799 537.501,541.042 557.648,527.716 579.94,517.014 604.057,509.111 629.629,504.142 656.193,501.9 683.34,502.153 710.717,504.71 \n",
       "  738.009,509.371 764.936,515.914 791.255,524.105 816.758,533.695 841.275,544.416 864.673,555.989 886.846,568.234 907.746,581.014 927.35,594.182 945.646,607.606 \n",
       "  962.636,621.174 978.335,634.788 992.77,648.371 1005.98,661.863 1018.02,675.219 1028.95,688.41 1038.82,701.405 1047.7,714.185 1055.63,726.74 1062.69,739.058 \n",
       "  1068.91,751.133 1074.36,762.962 1079.09,774.541 1083.14,785.873 1086.55,796.96 1089.37,807.807 1091.65,818.419 1093.41,828.798 1094.68,838.951 1095.49,848.879 \n",
       "  1095.85,858.589 1095.78,868.084 1095.31,877.368 1094.45,886.446 1093.22,895.32 1091.63,903.996 1089.7,912.476 1087.41,920.762 1084.76,928.856 1081.76,936.759 \n",
       "  1078.39,944.472 1074.66,951.995 1070.55,959.327 1066.05,966.465 1061.15,973.409 1055.84,980.155 1050.1,986.697 1043.9,993.029 1037.24,999.146 1030.07,1005.04 \n",
       "  1022.38,1010.69 1014.14,1016.1 1005.32,1021.23 995.889,1026.08 985.818,1030.62 975.073,1034.83 963.625,1038.68 951.45,1042.13 938.497,1045.15 924.722,1047.69 \n",
       "  910.088,1049.71 894.563,1051.14 878.123,1051.91 860.75,1051.97 842.436,1051.22 823.177,1049.57 802.976,1046.94 781.844,1043.21 759.8,1038.28 736.927,1032.09 \n",
       "  713.284,1024.49 688.941,1015.28 664.007,1004.3 638.638,991.416 613.032,976.524 587.43,959.548 562.115,940.439 537.416,919.178 513.703,895.776 491.39,870.271 \n",
       "  470.931,842.731 452.683,813.37 437.112,782.524 424.707,750.549 415.878,717.847 410.947,684.86 410.156,652.078 413.664,620.03 421.543,589.294 433.788,560.487 \n",
       "  450.304,534.273 470.874,511.283 495.014,491.786 522.219,475.963 551.988,463.914 583.814,455.651 617.186,451.102 651.588,450.104 686.5,452.411 721.397,457.687 \n",
       "  755.754,465.511 789.211,475.477 821.534,487.207 852.505,500.34 881.953,514.549 909.756,529.543 935.836,545.068 960.166,560.906 982.765,576.875 1003.7,592.829 \n",
       "  1023.02,608.66 1040.76,624.297 1057.01,639.69 1071.87,654.796 1085.4,669.582 1097.7,684.023 1108.86,698.106 1118.95,711.825 1128.07,725.184 1136.3,738.194 \n",
       "  1143.73,750.859 1150.42,763.189 1156.44,775.193 1161.86,786.881 1166.74,798.264 1171.15,809.352 1175.12,820.155 1178.72,830.684 1182,840.949 1184.99,850.96 \n",
       "  1187.72,860.722 1190.23,870.245 1192.55,879.535 1194.71,888.6 1196.73,897.447 1198.65,906.082 1200.49,914.512 1202.27,922.743 1204,930.778 1205.71,938.623 \n",
       "  1207.4,946.281 1209.1,953.756 1210.83,961.052 1212.58,968.173 1214.39,975.121 1216.25,981.9 1218.2,988.511 1220.23,994.956 1222.36,1001.24 1224.6,1007.35 \n",
       "  1226.98,1013.31 1229.49,1019.1 1232.16,1024.73 1235.01,1030.2 1238.04,1035.5 1241.28,1040.64 1244.74,1045.61 1248.44,1050.41 1252.4,1055.04 1256.64,1059.48 \n",
       "  1261.19,1063.74 1266.06,1067.81 1271.29,1071.68 1276.9,1075.35 1282.92,1078.79 1289.39,1082 1296.33,1084.97 1303.78,1087.68 1311.79,1090.1 1320.39,1092.23 \n",
       "  1329.62,1094.02 1339.53,1095.46 1350.17,1096.51 1361.59,1097.14 1373.84,1097.31 1386.99,1096.96 1401.1,1096.05 1416.21,1094.52 1432.39,1092.28 1449.69,1089.27 \n",
       "  1468.16,1085.39 1487.87,1080.56 1508.86,1074.68 1531.13,1067.65 1554.72,1059.34 1579.7,1049.59 1606.09,1038.23 1633.89,1025.08 1663.02,1010.01 1693.38,992.87 \n",
       "  1724.81,973.524 1757.09,951.848 1789.98,927.726 1823.16,901.048 1856.32,871.747 1889.04,839.906 1920.67,805.604 1950.55,769.029 1978,730.494 2002.34,690.44 \n",
       "  2022.9,649.432 2038.99,608.162 2049.93,567.446 2055.03,528.227 2053.75,491.537 2045.96,458.288 2031.67,429.234 2011.02,404.979 1984.35,385.974 1952.17,372.524 \n",
       "  1915.16,364.781 1874.19,362.749 1830.27,366.163 1784.38,374.242 1737.45,386.285 1690.27,401.603 1643.58,419.501 1597.97,439.277 1553.95,460.228 1511.92,481.655 \n",
       "  1472.14,503.145 1434.72,524.419 1399.75,545.217 1367.25,565.344 1337.19,584.671 1309.5,603.131 1284.06,620.723 1260.75,637.464 1239.43,653.38 1219.96,668.528 \n",
       "  1202.2,682.965 1185.99,696.744 1171.21,709.92 1157.71,722.547 1145.37,734.675 1134.06,746.356 1123.65,757.632 1114.04,768.539 1105.12,779.106 1096.8,789.362 \n",
       "  1088.99,799.329 1081.6,809.024 1074.55,818.463 1067.76,827.653 1061.15,836.605 1054.68,845.323 1048.29,853.811 1041.92,862.069 1035.52,870.099 1029.04,877.897 \n",
       "  1022.44,885.458 1015.66,892.778 1008.67,899.849 1001.42,906.662 993.89,913.207 986.039,919.471 977.834,925.44 969.241,931.097 960.229,936.425 950.765,941.403 \n",
       "  940.818,946.008 930.365,950.215 919.379,953.994 907.836,957.313 895.718,960.135 883.007,962.421 869.691,964.128 855.763,965.208 841.217,965.611 826.053,965.284 \n",
       "  810.286,964.179 793.94,962.236 777.03,959.371 759.592,955.509 741.679,950.578 723.361,944.513 704.728,937.253 685.889,928.744 666.969,918.937 648.114,907.79 \n",
       "  629.484,895.263 611.25,881.338 593.585,866.047 576.754,849.405 561.018,831.461 546.627,812.305 533.82,792.062 522.825,770.899 513.861,749.022 507.134,726.675 \n",
       "  502.84,704.14 501.165,681.741 502.252,659.833 506.116,638.755 512.736,618.807 522.05,600.26 533.956,583.356 548.307,568.305 564.913,555.287 583.544,544.454 \n",
       "  603.924,535.927 625.738,529.795 648.636,526.087 672.302,524.635 696.422,525.293 720.71,527.91 744.905,532.322 768.777,538.353 792.122,545.812 814.765,554.495 \n",
       "  836.56,564.185 857.386,574.653 877.156,585.761 895.821,597.387 913.352,609.403 929.732,621.694 944.955,634.163 959.026,646.723 971.964,659.303 983.797,671.848 \n",
       "  994.566,684.313 1004.31,696.664 1013.08,708.869 1020.92,720.91 1027.87,732.769 1033.99,744.434 1039.3,755.892 1043.87,767.137 1047.71,778.162 1050.88,788.965 \n",
       "  1053.41,799.547 1055.33,809.908 1056.68,820.048 1057.48,829.967 1057.75,839.666 1057.51,849.147 1056.77,858.409 1055.55,867.455 1053.86,876.282 1051.72,884.893 \n",
       "  1049.13,893.286 1046.09,901.462 1042.62,909.417 1038.69,917.15 1034.31,924.657 1029.47,931.935 1024.15,938.976 1018.35,945.773 1012.05,952.319 1005.24,958.602 \n",
       "  997.903,964.61 990.019,970.33 981.572,975.744 972.536,980.834 962.883,985.581 952.59,989.957 941.631,993.935 929.984,997.48 917.629,1000.56 904.545,1003.12 \n",
       "  890.715,1005.12 876.122,1006.51 860.75,1007.24 844.617,1007.26 827.723,1006.5 810.043,1004.87 791.577,1002.27 772.346,998.604 752.395,993.787 731.789,987.728 \n",
       "  710.62,980.342 688.999,971.543 667.062,961.25 644.968,949.382 622.896,935.863 601.051,920.617 579.613,903.642 558.87,884.946 539.17,864.529 520.854,842.455 \n",
       "  504.245,818.838 489.658,793.855 477.395,767.734 467.746,740.765 460.99,713.292 457.392,685.716 457.207,658.495 460.598,632.179 467.515,607.221 477.85,583.963 \n",
       "  491.45,562.712 508.119,543.736 527.621,527.266 549.678,513.494 573.97,502.575 600.132,494.627 627.76,489.729 656.405,487.903 685.594,488.835 714.927,492.218 \n",
       "  744.058,497.793 772.686,505.3 800.557,514.476 827.459,525.054 853.228,536.765 877.742,549.336 900.918,562.511 922.69,576.147 943.05,590.106 962.002,604.258 \n",
       "  979.565,618.49 995.764,632.71 1010.64,646.839 1024.24,660.821 1036.62,674.614 1047.86,688.194 1058.02,701.536 1067.16,714.626 1075.36,727.454 1082.66,740.016 \n",
       "  1089.15,752.308 1094.87,764.329 1099.88,776.082 1104.23,787.571 1107.98,798.802 1111.17,809.781 1113.85,820.514 1116.04,831.007 1117.77,841.266 1119.09,851.297 \n",
       "  1120,861.105 1120.53,870.697 1120.72,880.078 1120.57,889.255 1120.12,898.234 1119.37,907.02 1118.34,915.617 1117.02,924.03 1115.43,932.262 1113.55,940.317 \n",
       "  1111.39,948.198 1108.95,955.907 1106.23,963.449 1103.21,970.825 1099.9,978.035 1096.28,985.082 1092.34,991.966 1088.07,998.687 1083.44,1005.24 1078.45,1011.63 \n",
       "  1073.06,1017.85 1067.26,1023.89 1061.03,1029.76 1054.34,1035.44 1047.17,1040.92 1039.48,1046.2 1031.24,1051.26 1022.41,1056.1 1012.96,1060.68 1002.86,1064.99 \n",
       "  992.054,1069.01 980.513,1072.7 968.192,1076.04 955.049,1078.97 941.041,1081.47 926.171,1083.49 910.397,1084.97 893.634,1085.84 875.816,1086.02 856.895,1085.42 \n",
       "  836.845,1083.95 815.659,1081.49 793.351,1077.92 769.953,1073.13 745.517,1066.97 720.117,1059.3 693.843,1049.97 666.809,1038.81 639.146,1025.66 611.017,1010.4 \n",
       "  582.683,992.902 554.47,972.966 526.739,950.46 499.89,925.341 474.357,897.642 450.61,867.484 429.156,835.067 410.54,800.673 395.34,764.666 384.138,727.514 \n",
       "  377.313,689.886 375.217,652.463 378.096,615.901 386.068,580.844 399.123,547.926 417.124,517.767 439.804,490.975 466.768,468.146 497.494,449.851 531.284,436.192 \n",
       "  567.402,427.037 605.165,422.24 643.934,421.566 683.111,424.689 722.143,431.193 760.518,440.572 797.768,452.231 833.556,465.691 867.698,480.592 900.038,496.548 \n",
       "  930.467,513.222 958.922,530.324 985.385,547.613 1009.88,564.899 1032.49,582.037 1053.3,598.927 1072.38,615.484 1089.85,631.665 1105.79,647.438 1120.33,662.781 \n",
       "  1133.57,677.681 1145.61,692.131 1156.55,706.136 1166.5,719.706 1175.56,732.858 1183.81,745.605 1191.35,757.962 1198.25,769.942 1204.59,781.56 1210.43,792.827 \n",
       "  1215.85,803.758 1220.91,814.364 1225.68,824.659 1230.2,834.652 1234.53,844.353 1238.7,853.767 1242.75,862.903 1246.73,871.766 1250.67,880.362 1254.62,888.696 \n",
       "  1258.6,896.771 1262.65,904.592 1266.8,912.16 1271.08,919.474 1275.52,926.535 1280.13,933.34 1284.96,939.887 1290.03,946.172 1295.36,952.192 1301,957.942 \n",
       "  1306.96,963.413 1313.27,968.596 1319.97,973.48 1327.09,978.052 1334.65,982.298 1342.68,986.199 1351.24,989.736 1360.34,992.888 1370.03,995.631 1380.34,997.937 \n",
       "  1391.32,999.775 1402.99,1001.11 1415.41,1001.89 1428.6,1002.09 1442.61,1001.64 1457.46,1000.49 1473.2,998.59 1489.85,995.864 1507.44,992.245 1525.97,987.677 \n",
       "  1545.43,982.079 1565.88,975.334 1587.31,967.333 1609.7,957.973 1633.01,947.164 1657.15,934.821 1682.01,920.87 1707.45,905.244 1733.29,887.885 1759.33,868.744 \n",
       "  1785.33,847.782 1811.07,825.013 1836.2,800.526 1860.29,774.419 1882.9,746.859 1903.62,718.081 1922,688.387 1937.62,658.148 1950.06,627.804 1958.9,597.862 \n",
       "  1963.71,568.899 1964.14,541.583 1960.11,516.491 1951.61,494.032 1938.77,474.546 1921.73,458.314 1900.76,445.549 1876.18,436.4 1848.37,430.954 1817.81,429.231 \n",
       "  1785.06,431.188 1750.75,436.553 1715.55,444.731 1679.98,455.295 1644.55,467.837 1609.66,481.956 1575.68,497.266 1542.88,513.391 1511.51,529.968 1481.72,546.69 \n",
       "  1453.63,563.414 1427.28,579.993 1402.67,596.307 1379.82,612.263 1358.68,627.798 1339.22,642.876 1321.35,657.488 1305,671.654 1290.06,685.379 1276.46,698.679 \n",
       "  1264.09,711.579 1252.87,724.102 1242.7,736.271 1233.5,748.11 1225.19,759.641 1217.68,770.885 1210.89,781.865 1204.75,792.596 1199.2,803.094 1194.17,813.372 \n",
       "  1189.61,823.442 1185.47,833.315 1181.7,843 1178.24,852.505 1175.05,861.834 1172.08,870.993 1169.31,879.985 1166.7,888.815 1164.22,897.488 1161.85,906.007 \n",
       "  1159.56,914.375 1157.33,922.596 1155.13,930.67 1152.94,938.6 1150.74,946.387 1148.51,954.035 1146.23,961.546 1143.9,968.92 1141.48,976.161 1138.97,983.27 \n",
       "  1136.34,990.247 1133.59,997.095 1130.68,1003.81 1127.61,1010.41 1124.36,1016.87 1120.91,1023.22 1117.24,1029.43 1113.33,1035.52 1109.16,1041.49 1104.71,1047.33 \n",
       "  1099.96,1053.04 1094.87,1058.62 1089.43,1064.06 1083.61,1069.37 1077.37,1074.54 1070.69,1079.56 1063.53,1084.42 1055.86,1089.12 1047.64,1093.63 1038.83,1097.96 \n",
       "  1029.39,1102.07 1019.27,1105.95 1008.43,1109.59 996.823,1112.94 984.388,1115.99 971.078,1118.68 956.844,1120.98 941.632,1122.83 925.391,1124.16 908.069,1124.91 \n",
       "  889.614,1125.01 870.025,1124.39 849.244,1122.93 827.199,1120.5 803.848,1116.97 779.183,1112.19 753.23,1105.99 726.047,1098.22 697.725,1088.69 668.388,1077.21 \n",
       "  638.193,1063.59 607.33,1047.62 576.017,1029.11 544.539,1007.96 513.332,983.941 482.882,956.889 453.709,926.758 426.368,893.619 401.451,857.659 379.583,819.183 \n",
       "  361.426,778.613 347.675,736.485 339.011,693.478 335.828,650.491 338.443,608.399 347.029,568.035 361.59,530.19 381.966,495.618 407.831,465.036 438.694,439.123 \n",
       "  473.897,418.517 512.61,403.536 553.915,393.909 596.965,389.398 640.975,389.664 685.232,394.265 729.086,402.653 771.957,414.176 813.335,428.086 852.88,443.833 \n",
       "  890.401,460.968 925.752,479.044 958.843,497.677 989.637,516.547 1018.15,535.398 1044.45,554.039 1068.66,572.339 1090.86,590.189 1111.18,607.537 1129.75,624.351 \n",
       "  1146.7,640.61 1162.16,656.3 1176.26,671.422 1189.11,685.984 1200.84,700.003 1211.57,713.506 1221.42,726.513 1230.48,739.045 1238.85,751.12 1246.62,762.759 \n",
       "  1253.88,773.977 1260.7,784.792 1267.17,795.218 1273.37,805.271 1279.34,814.96 1285.16,824.294 1290.87,833.281 1296.52,841.925 1302.17,850.23 1307.86,858.202 \n",
       "  1313.63,865.84 1319.54,873.146 1325.62,880.119 1331.91,886.754 1338.44,893.044 1345.24,898.981 1352.36,904.557 1359.82,909.76 1367.66,914.579 1375.92,918.998 \n",
       "  1384.62,923.001 1393.8,926.568 1403.5,929.675 1413.73,932.295 1424.54,934.399 1435.94,935.955 1447.97,936.927 1460.65,937.277 1474,936.965 1488.05,935.947 \n",
       "  1502.8,934.181 1518.27,931.608 1534.48,928.164 1551.42,923.788 1569.08,918.418 1587.43,911.997 1606.43,904.468 1626.03,895.776 1646.15,885.867 1666.71,874.69 \n",
       "  1687.61,862.2 1708.73,848.395 1729.91,833.242 1750.93,816.727 1771.58,798.874 1791.64,779.747 1810.85,759.448 1828.94,738.118 1845.61,715.936 1860.58,693.12 \n",
       "  1873.5,669.927 1884.05,646.652 1891.96,623.652 1897.02,601.301 1899.01,579.947 1897.81,559.912 1893.33,541.498 1885.58,524.983 1874.6,510.622 1860.53,498.648 \n",
       "  1843.54,489.269 1823.9,482.672 1801.94,478.9 1778.07,477.752 1752.68,479.09 1726.16,482.745 1698.86,488.519 1671.15,496.184 1643.36,505.479 1615.8,516.115 \n",
       "  1588.78,527.772 1562.57,540.16 1537.3,553.134 1513.11,566.51 1490.11,580.125 1468.38,593.841 1447.97,607.542 1428.91,621.137 1411.2,634.558 1394.81,647.762 \n",
       "  1379.71,660.729 1365.84,673.439 1353.18,685.875 1341.66,698.036 1331.23,709.924 1321.82,721.54 1313.38,732.89 1305.86,743.98 1299.19,754.818 1293.33,765.415 \n",
       "  1288.21,775.782 1283.79,785.925 1280.02,795.85 1276.86,805.565 1274.26,815.073 1272.2,824.381 1270.63,833.49 1269.53,842.405 1268.87,851.125 1268.62,859.651 \n",
       "  1268.77,867.985 1269.3,876.127 1270.2,884.077 1271.47,891.835 1273.08,899.398 1275.04,906.763 1277.35,913.928 1280,920.888 1282.98,927.637 1286.32,934.171 \n",
       "  1290,940.485 1294.06,946.574 1298.49,952.43 1303.31,958.045 1308.54,963.408 1314.19,968.508 1320.29,973.334 1326.85,977.869 1333.89,982.099 1341.45,986.007 \n",
       "  1349.55,989.573 1358.22,992.777 1367.5,995.592 1377.42,997.988 1388,999.935 1399.29,1001.39 1411.32,1002.33 1424.13,1002.69 1437.74,1002.45 1452.17,1001.54 \n",
       "  1467.46,999.922 1483.68,997.503 1500.87,994.212 1519.05,989.97 1538.22,984.695 1558.39,978.304 1579.54,970.71 1601.63,961.824 1624.6,951.556 1648.4,939.813 \n",
       "  1672.94,926.497 1698.13,911.515 1723.82,894.845 1749.81,876.4 1775.86,856.112 1801.71,833.971 1827.04,810.028 1851.51,784.392 1874.73,757.231 1896.28,728.775 \n",
       "  1915.71,699.312 1932.53,669.188 1946.21,638.827 1956.37,608.825 1962.67,579.725 1964.81,552.018 1962.62,526.167 1956.01,502.601 1944.98,481.721 1929.61,463.894 \n",
       "  1910.09,449.46 1886.71,438.724 1859.82,431.965 1829.97,429.212 1797.84,430.039 1764.04,434.158 1729.14,441.249 1693.65,450.956 1658.06,462.886 1622.82,476.606 \n",
       "  1588.35,491.648 1555.02,507.507 1523.09,523.869 1492.68,540.545 1463.92,557.313 1436.88,573.991 1411.61,590.432 1388.12,606.528 1366.38,622.205 1346.34,637.429 \n",
       "  1327.91,652.202 1311,666.535 1295.56,680.416 1281.47,693.868 1268.66,706.912 1257.02,719.572 1246.46,731.87 1236.91,743.829 1228.27,755.47 1220.47,766.817 \n",
       "  1213.42,777.89 1207.06,788.71 1201.3,799.291 1196.09,809.648 1191.37,819.792 1187.08,829.736 1183.17,839.488 1179.6,849.057 1176.32,858.449 1173.28,867.669 \n",
       "  1170.44,876.72 1167.77,885.608 1165.25,894.338 1162.85,902.912 1160.54,911.335 1158.29,919.609 1156.09,927.736 1153.91,935.719 1151.72,943.558 1149.51,951.257 \n",
       "  1147.26,958.817 1144.96,966.241 1142.58,973.53 1140.11,980.687 1137.54,987.712 1134.85,994.608 1132.01,1001.37 1129.01,1008.01 1125.84,1014.53 1122.48,1020.91 \n",
       "  1118.91,1027.18 1115.11,1033.31 1111.06,1039.33 1106.73,1045.21 1102.11,1050.97 1097.17,1056.6 1091.89,1062.1 1086.23,1067.46 1080.17,1072.69 1073.69,1077.77 \n",
       "  1066.74,1082.69 1059.29,1087.45 1051.31,1092.04 1042.76,1096.45 1033.59,1100.65 1023.76,1104.63 1013.24,1108.37 1001.97,1111.84 989.895,1115.02 976.965,1117.86 \n",
       "  963.128,1120.34 948.334,1122.38 932.531,1123.94 915.669,1124.96 897.698,1125.34 878.567,1125.02 858.251,1123.91 836.752,1121.92 813.995,1118.9 789.931,1114.68 \n",
       "  764.553,1109.12 737.895,1102.05 710.028,1093.28 681.064,1082.64 651.156,1069.93 620.494,1054.97 589.31,1037.56 557.874,1017.48 526.469,994.639 495.545,968.913 \n",
       "  465.669,940.155 437.422,908.345 411.396,873.594 388.195,836.142 368.435,796.358 352.746,754.745 341.77,711.931 336.156,668.678 336.323,625.916 342.426,584.588 \n",
       "  354.523,545.541 372.51,509.546 396.128,477.303 424.957,449.436 458.417,426.495 495.772,408.957 536.142,397.081 578.626,390.489 622.38,388.816 666.643,391.642 \n",
       "  710.739,398.469 754.078,408.727 796.154,421.77 836.548,436.877 874.965,453.491 911.255,471.221 945.319,489.663 977.104,508.473 1006.6,527.369 1033.86,546.128 \n",
       "  1058.95,564.593 1082,582.655 1103.11,600.226 1122.41,617.271 1140.04,633.765 1156.12,649.696 1170.78,665.059 1184.15,679.857 1196.34,694.103 1207.49,707.82 \n",
       "  1217.7,721.032 1227.09,733.759 1235.74,746.022 1243.76,757.839 1251.23,769.229 1258.24,780.208 1264.86,790.792 1271.17,800.995 1277.23,810.831 1283.12,820.308 \n",
       "  1288.88,829.434 1294.56,838.215 1300.21,846.656 1305.89,854.761 1311.64,862.531 1317.5,869.969 1323.51,877.073 1329.72,883.841 1336.16,890.266 1342.86,896.342 \n",
       "  1349.86,902.06 1357.19,907.409 1364.88,912.377 1372.98,916.951 1381.51,921.115 1390.51,924.851 1400.01,928.136 1410.03,930.944 1420.62,933.248 1431.79,935.016 \n",
       "  1443.57,936.214 1456,936.805 1469.09,936.748 1482.87,936.002 1497.35,934.522 1512.53,932.262 1528.45,929.157 1545.09,925.144 1562.47,920.16 1580.55,914.147 \n",
       "  1599.29,907.046 1618.65,898.803 1638.57,889.365 1658.95,878.68 1679.71,866.699 1700.73,853.397 1721.88,838.768 1742.95,822.786 1763.74,805.458 1784.02,786.833 \n",
       "  1803.54,766.995 1822.04,746.07 1839.25,724.223 1854.85,701.657 1868.55,678.613 1880.01,655.374 1888.91,632.264 1895.04,609.666 1898.19,587.938 1898.2,567.413 \n",
       "  1894.96,548.4 1888.45,531.185 1878.69,516.026 1865.79,503.161 1849.91,492.802 1831.28,485.136 1810.19,480.31 1787.03,478.192 1762.21,478.61 1736.12,481.405 \n",
       "  1709.12,486.389 1681.58,493.347 1653.83,502.032 1626.2,512.171 1598.99,523.461 1572.49,535.577 1546.89,548.327 1522.32,561.548 1498.89,575.067 1476.7,588.739 \n",
       "  1455.82,602.439 1436.26,616.066 1418.06,629.545 1401.2,642.822 1385.63,655.867 1371.32,668.667 1358.22,681.196 1346.29,693.452 1335.47,705.435 1325.69,717.145 \n",
       "  1316.9,728.588 1309.05,739.769 1302.08,750.695 1295.92,761.376 1290.54,771.822 1285.87,782.044 1281.87,792.045 1278.49,801.833 1275.7,811.413 1273.45,820.79 \n",
       "  1271.71,829.968 1270.45,838.95 1269.64,847.737 1269.25,856.33 1269.27,864.729 1269.67,872.937 1270.45,880.952 1271.6,888.774 1273.1,896.402 1274.96,903.833 \n",
       "  1277.16,911.064 1279.7,918.091 1282.59,924.909 1285.82,931.512 1289.41,937.897 1293.35,944.058 1297.68,949.987 1302.39,955.677 1307.5,961.118 1313.04,966.299 \n",
       "  1319.01,971.208 1325.44,975.831 1332.35,980.153 1339.76,984.155 1347.71,987.822 1356.23,991.131 1365.34,994.058 1375.08,996.575 1385.48,998.651 1396.57,1000.25 \n",
       "  1408.4,1001.33 1420.99,1001.86 1434.38,1001.78 1448.58,1001.06 1463.63,999.642 1479.58,997.449 1496.48,994.405 1514.37,990.431 1533.25,985.447 1553.14,979.367 \n",
       "  1574,972.109 1595.82,963.583 1618.53,953.702 1642.09,942.372 1666.4,929.501 1691.37,914.994 1716.9,898.788 1742.78,880.851 1768.79,861.098 1794.66,839.5 \n",
       "  1820.09,816.086 1844.75,790.949 1868.26,764.24 1890.23,736.172 1910.2,707.018 1927.7,677.112 1942.22,646.847 1953.3,616.76 1960.61,587.449 1963.84,559.413 \n",
       "  1962.8,533.12 1957.37,509.004 1947.54,487.466 1933.36,468.873 1915.01,453.56 1892.72,441.83 1866.85,433.951 1837.83,430.121 1806.34,430.009 1773.03,433.258 \n",
       "  1738.46,439.554 1703.17,448.549 1667.67,459.864 1632.4,473.084 1597.78,487.764 1564.18,503.422 1531.92,519.624 1501.16,536.195 1472,552.916 1444.55,569.598 \n",
       "  1418.84,586.085 1394.9,602.257 1372.72,618.033 1352.25,633.365 1333.43,648.243 1316.14,662.684 1300.32,676.676 1285.9,690.233 1272.77,703.378 1260.84,716.133 \n",
       "  1250.02,728.522 1240.22,740.566 1231.36,752.288 1223.35,763.709 1216.13,774.852 1209.6,785.737 1203.7,796.38 1198.37,806.795 1193.54,816.995 1189.16,826.991 \n",
       "  1185.18,836.794 1181.55,846.411 1178.22,855.849 1175.14,865.115 1172.28,874.21 1169.61,883.142 1167.09,891.913 1164.7,900.529 1162.4,908.992 1160.19,917.306 \n",
       "  1158.03,925.472 1155.89,933.494 1153.76,941.372 1151.62,949.108 1149.45,956.706 1147.23,964.167 1144.95,971.493 1142.59,978.687 1140.14,985.749 1137.57,992.682 \n",
       "  1134.87,999.486 1132.03,1006.16 1129.02,1012.71 1125.83,1019.14 1122.45,1025.44 1118.85,1031.62 1115.02,1037.68 1110.93,1043.61 1106.57,1049.42 1101.9,1055.1 \n",
       "  1096.9,1060.65 1091.56,1066.08 1085.84,1071.36 1079.71,1076.51 1073.14,1081.52 1066.11,1086.37 1058.57,1091.06 1050.48,1095.58 1041.82,1099.91 1032.53,1104.03 \n",
       "  1022.57,1107.94 1011.9,1111.6 1000.47,1114.99 988.217,1118.08 975.101,1120.84 961.066,1123.21 946.061,1125.14 930.033,1126.58 912.929,1127.46 894.697,1127.7 \n",
       "  875.312,1127.24 854.755,1125.97 832.941,1123.77 809.818,1120.5 785.365,1116 759.599,1110.13 732.568,1102.72 704.356,1093.58 675.079,1082.53 644.89,1069.37 \n",
       "  613.973,1053.9 582.547,1035.89 550.861,1015.25 519.317,991.788 488.407,965.299 458.654,935.699 430.614,903.025 404.877,867.435 382.065,829.207 362.831,788.742 \n",
       "  347.863,746.56 337.877,703.304 333.379,659.828 334.679,617.062 341.986,575.867 355.343,537.06 374.624,501.41 399.535,469.644 429.616,442.442 464.235,420.439 \n",
       "  502.596,404.127 543.773,393.312 586.882,387.73 631.11,387.05 675.719,390.844 720.039,398.58 763.478,409.629 805.51,423.258 845.733,438.795 883.939,455.82 \n",
       "  919.978,473.869 953.748,492.542 985.204,511.502 1014.35,530.479 1041.25,549.268 1066.01,567.726 1088.74,585.742 1109.54,603.249 1128.56,620.217 1145.92,636.623 \n",
       "  1161.75,652.454 1176.19,667.707 1189.36,682.389 1201.38,696.518 1212.37,710.119 1222.45,723.213 1231.72,735.823 1240.29,747.968 1248.24,759.668 1255.66,770.94 \n",
       "  1262.63,781.801 1269.24,792.267 1275.56,802.353 1281.66,812.069 1287.58,821.425 1293.4,830.428 1299.15,839.083 1304.89,847.395 1310.67,855.367 1316.53,863.001 \n",
       "  1322.52,870.298 1328.69,877.256 1335.06,883.871 1341.67,890.137 1348.56,896.045 1355.76,901.586 1363.3,906.748 1371.23,911.519 1379.57,915.885 1388.35,919.828 \n",
       "  1397.62,923.329 1407.4,926.362 1417.72,928.902 1428.6,930.919 1440.09,932.379 1452.19,933.248 1464.94,933.487 1478.36,933.055 1492.47,931.908 1507.27,930.005 \n",
       "  1522.78,927.291 1539,923.701 1555.94,919.173 1573.58,913.646 1591.9,907.062 1610.84,899.368 1630.35,890.512 1650.35,880.444 1670.75,869.119 1691.44,856.495 \n",
       "  1712.3,842.561 1733.18,827.315 1753.85,810.746 1774.11,792.884 1793.7,773.795 1812.37,753.588 1829.87,732.405 1845.91,710.432 1860.2,687.891 1872.43,665.042 \n",
       "  1882.27,642.186 1889.44,619.671 1893.77,597.873 1895.07,577.134 1893.22,557.768 1888.16,540.061 1879.9,524.275 1868.51,510.643 1854.13,499.37 1836.94,490.636 \n",
       "  1817.2,484.595 1795.25,481.331 1771.46,480.646 1746.26,482.368 1720.01,486.318 1693.07,492.299 1665.78,500.085 1638.46,509.43 1611.42,520.061 1584.92,531.683 \n",
       "  1559.22,543.995 1534.49,556.844 1510.84,570.071 1488.36,583.521 1467.12,597.065 1447.19,610.592 1428.57,624.016 1411.29,637.27 1395.3,650.312 1380.58,663.122 \n",
       "  1367.07,675.685 1354.75,687.981 1343.55,700.009 1333.41,711.77 1324.29,723.267 1316.12,734.504 1308.84,745.486 1302.41,756.221 1296.78,766.718 1291.88,776.987 \n",
       "  1287.67,787.035 1284.11,796.867 1281.15,806.488 1278.75,815.904 1276.89,825.118 1275.53,834.134 1274.64,842.952 1274.19,851.575 1274.16,860.002 1274.54,868.232 \n",
       "  1275.3,876.266 1276.45,884.104 1277.96,891.744 1279.85,899.183 1282.09,906.42 1284.69,913.448 1287.66,920.264 1290.98,926.861 1294.66,933.233 1298.72,939.373 \n",
       "  1303.17,945.275 1308.02,950.931 1313.28,956.33 1318.98,961.462 1325.13,966.312 1331.75,970.867 1338.87,975.109 1346.5,979.021 1354.68,982.581 1363.43,985.768 \n",
       "  1372.79,988.558 1382.8,990.922 1393.47,992.827 1404.85,994.236 1416.98,995.109 1429.87,995.4 1443.57,995.062 1458.11,994.041 1473.52,992.283 1489.77,989.748 \n",
       "  1506.93,986.356 1525.04,982.008 1544.13,976.612 1564.2,970.078 1585.26,962.318 1607.24,953.247 1630.1,942.785 1653.74,930.851 1678.07,917.372 1702.94,902.273 \n",
       "  1728.2,885.484 1753.68,866.938 1779.18,846.636 1804.43,824.608 1829.05,800.885 1852.68,775.564 1874.92,748.806 1895.38,720.838 1913.65,691.951 1929.32,662.504 \n",
       "  1941.94,632.919 1951.08,603.684 1956.31,575.354 1957.41,548.514 1954.24,523.672 1946.71,501.265 1934.88,481.672 1918.86,465.207 1898.89,452.123 1875.27,442.611 \n",
       "  1848.43,436.799 1818.87,434.753 1787.19,436.245 1754,440.861 1719.84,448.257 1685.23,458.073 1650.63,469.935 1616.45,483.449 1583.06,498.208 1550.77,513.788 \n",
       "  1519.85,529.818 1490.43,546.125 1462.61,562.513 1436.46,578.815 1412.03,594.896 1389.3,610.656 1368.27,626.029 1348.89,640.983 1331.06,655.516 1314.72,669.62 \n",
       "  1299.8,683.299 1286.21,696.572 1273.84,709.454 1262.63,721.967 1252.48,734.131 1243.32,745.968 1235.05,757.503 1227.59,768.756 1220.87,779.745 1214.82,790.486 \n",
       "  1209.39,800.995 1204.5,811.285 1200.09,821.368 1196.13,831.253 1192.55,840.949 1189.3,850.462 1186.35,859.798 1183.66,868.963 1181.19,877.962 1178.93,886.8 \n",
       "  1176.83,895.481 1174.87,904.007 1173.03,912.382 1171.27,920.608 1169.59,928.687 1167.96,936.622 1166.37,944.415 1164.8,952.07 1163.24,959.587 1161.66,966.97 \n",
       "  1160.07,974.22 1158.43,981.339 1156.75,988.33 1155,995.194 1153.19,1001.93 1151.28,1008.55 1149.29,1015.05 1147.18,1021.43 1144.94,1027.69 1142.57,1033.84 \n",
       "  1140.06,1039.88 1137.37,1045.8 1134.51,1051.62 1131.46,1057.33 1128.19,1062.93 1124.69,1068.42 1120.95,1073.8 1116.94,1079.08 1112.64,1084.25 1108.02,1089.32 \n",
       "  1103.07,1094.27 1097.75,1099.11 1092.04,1103.83 1085.91,1108.44 1079.32,1112.92 1072.25,1117.26 1064.64,1121.46 1056.47,1125.5 1047.69,1129.38 1038.26,1133.07 \n",
       "  1028.12,1136.56 1017.23,1139.82 1005.53,1142.84 992.976,1145.57 979.501,1147.97 965.05,1149.99 949.564,1151.59 932.983,1152.7 915.244,1153.26 896.329,1153.19 \n",
       "  876.17,1152.39 854.676,1150.75 831.784,1148.14 807.458,1144.42 781.695,1139.42 754.517,1132.98 725.976,1124.9 696.154,1114.99 665.159,1103.01 633.13,1088.74 \n",
       "  600.238,1071.96 566.747,1052.53 533.019,1030.11 499.486,1004.45 466.642,975.408 435.046,942.946 405.323,907.151 378.165,868.221 354.324,826.466 334.623,782.313 \n",
       "  319.898,736.369 310.754,689.621 307.671,642.99 310.97,597.369 320.806,553.639 337.168,512.666 359.877,475.305 388.591,442.393 422.798,414.759 461.822,393.212 \n",
       "  504.634,377.989 550.101,368.739 597.264,365.152 645.248,366.799 693.261,373.131 740.591,383.48 786.61,397.055 830.779,412.965 872.771,430.615 912.422,449.523 \n",
       "  949.611,469.206 984.276,489.256 1016.41,509.34 1046.05,529.2 1073.31,548.655 1098.33,567.597 1121.23,585.909 1142.15,603.548 1161.24,620.524 1178.66,636.848 \n",
       "  1194.57,652.532 1209.1,667.592 1222.39,682.04 1234.57,695.891 1245.76,709.163 1256.06,721.873 1265.58,734.037 1274.42,745.68 1282.71,756.843 1290.52,767.547 \n",
       "  1297.95,777.809 1305.06,787.644 1311.93,797.064 1318.64,806.08 1325.24,814.702 1331.8,822.936 1338.37,830.787 1345,838.256 1351.74,845.339 1358.62,852.034 \n",
       "  1365.68,858.337 1372.98,864.241 1380.55,869.739 1388.42,874.823 1396.65,879.482 1405.25,883.701 1414.26,887.461 1423.71,890.74 1433.62,893.517 1444.02,895.765 \n",
       "  1454.92,897.459 1466.37,898.568 1478.36,899.062 1490.93,898.907 1504.08,898.071 1517.8,896.513 1532.13,894.182 1547.04,891.031 1562.54,887.016 1578.59,882.092 \n",
       "  1595.16,876.22 1612.2,869.361 1629.65,861.478 1647.45,852.539 1665.52,842.511 1683.76,831.394 1702.06,819.181 1720.25,805.858 1738.16,791.441 1755.61,775.973 \n",
       "  1772.42,759.526 1788.39,742.199 1803.3,724.118 1816.93,705.44 1829.05,686.346 1839.41,667.049 1847.75,647.788 1853.89,628.832 1857.68,610.465 1858.98,592.951 \n",
       "  1857.69,576.532 1853.78,561.433 1847.24,547.858 1838.12,535.99 1826.51,525.995 1812.56,518.018 1796.47,512.183 1778.47,508.582 1758.85,507.104 1737.91,507.625 \n",
       "  1715.97,510.031 1693.3,514.188 1670.17,519.942 1646.84,527.12 1623.56,535.528 1600.57,544.954 1578.08,555.168 1556.29,565.954 1535.31,577.217 1515.23,588.826 \n",
       "  1496.14,600.664 1478.1,612.627 1461.14,624.626 1445.31,636.59 1430.59,648.461 1417,660.199 1404.49,671.778 1393.04,683.184 1382.62,694.393 1373.2,705.396 \n",
       "  1364.72,716.187 1357.16,726.763 1350.46,737.12 1344.6,747.257 1339.52,757.173 1335.19,766.871 1331.58,776.352 1328.65,785.62 1326.36,794.674 1324.67,803.512 \n",
       "  1323.58,812.137 1323.05,820.546 1323.06,828.739 1323.59,836.713 1324.63,844.463 1326.17,851.986 1328.19,859.276 1330.68,866.324 1333.64,873.124 1337.06,879.668 \n",
       "  1340.95,885.949 1345.32,891.958 1350.17,897.684 1355.52,903.114 1361.36,908.234 1367.71,913.028 1374.59,917.477 1382,921.562 1389.96,925.261 1398.5,928.551 \n",
       "  1407.62,931.406 1417.36,933.8 1427.74,935.701 1438.78,937.075 1450.49,937.885 1462.91,938.089 1476.03,937.643 1489.88,936.501 1504.46,934.611 1519.79,931.921 \n",
       "  1535.84,928.396 1552.6,923.981 1570.08,918.587 1588.28,912.134 1607.18,904.553 1626.71,895.784 1646.8,885.779 1667.36,874.5 1688.26,861.917 1709.36,848.014 \n",
       "  1730.49,832.783 1751.47,816.226 1772.09,798.355 1792.13,779.217 1811.37,758.942 1829.47,737.671 1846.08,715.574 1860.91,692.86 1873.66,669.767 1884.06,646.571 \n",
       "  1891.86,623.578 1896.83,601.132 1898.77,579.608 1897.48,559.415 1892.84,540.984 1884.88,524.625 1873.75,510.538 1859.63,498.877 1842.73,489.749 1823.29,483.215 \n",
       "  1801.58,479.291 1777.93,477.944 1752.66,479.097 1726.16,482.626 1698.84,488.362 1671.11,496.022 1643.33,505.257 1615.81,515.797 1588.82,527.389 1562.59,539.8 \n",
       "  1537.3,552.816 1513.11,566.242 1490.11,579.9 1468.38,593.631 1447.96,607.321 1428.89,620.911 1411.15,634.345 1394.72,647.576 1379.57,660.569 1365.66,673.297 \n",
       "  1352.96,685.745 1341.42,697.909 1330.97,709.794 1321.56,721.414 1313.11,732.769 1305.58,743.866 1298.91,754.714 1293.03,765.323 1287.9,775.699 1283.47,785.85 \n",
       "  1279.69,795.783 1276.52,805.504 1273.91,815.02 1271.82,824.331 1270.22,833.443 1269.09,842.36 1268.41,851.085 1268.15,859.619 1268.29,867.964 1268.83,876.12 \n",
       "  1269.73,884.084 1270.99,891.855 1272.59,899.43 1274.52,906.803 1276.8,913.974 1279.41,920.941 1282.37,927.701 1285.68,934.247 1289.34,940.576 1293.37,946.68 \n",
       "  1297.77,952.551 1302.56,958.181 1307.75,963.559 1313.36,968.675 1319.41,973.518 1325.92,978.075 1332.92,982.331 1340.44,986.267 1348.49,989.864 1357.12,993.099 \n",
       "  1366.34,995.945 1376.2,998.375 1386.72,1000.36 1397.93,1001.86 1409.88,1002.85 1422.6,1003.27 1436.13,1003.09 1450.53,1002.23 1465.82,1000.66 1482.03,998.289 \n",
       "  1499.17,995.063 1517.27,990.902 1536.34,985.726 1556.38,979.451 1577.39,971.986 1599.34,963.259 1622.17,953.208 1645.84,941.68 1670.3,928.542 1695.46,913.696 \n",
       "  1721.16,897.073 1747.22,878.634 1773.39,858.374 1799.41,836.316 1824.96,812.516 1849.66,787.059 1873.1,760.064 1894.88,731.694 1914.63,702.285 1931.79,672.234 \n",
       "  1945.86,641.961 1956.41,611.908 1963.08,582.543 1965.6,554.36 1963.77,527.876 1957.44,503.633 1946.58,482.196 1931.2,464.149 1911.58,449.79 1888.17,439.186 \n",
       "  1861.45,432.364 1831.9,429.268 1800.03,429.76 1766.35,433.622 1731.41,440.551 1695.78,450.165 1660.02,461.997 1624.7,475.534 1590.17,490.386 1556.72,506.182 \n",
       "  1524.6,522.589 1494.01,539.324 1465.1,556.148 1437.94,572.871 1412.56,589.348 1388.94,605.483 1367.04,621.21 1346.84,636.497 1328.27,651.333 1311.23,665.716 \n",
       "  1295.65,679.648 1281.44,693.143 1268.51,706.217 1256.79,718.896 1246.16,731.212 1236.53,743.19 1227.83,754.851 1219.96,766.217 1212.85,777.31 1206.43,788.147 \n",
       "  1200.63,798.745 1195.37,809.117 1190.61,819.277 1186.27,829.233 1182.3,838.997 1178.66,848.574 1175.31,857.974 1172.22,867.201 1169.34,876.263 1166.64,885.163 \n",
       "  1164.08,893.905 1161.64,902.491 1159.27,910.924 1156.97,919.206 1154.7,927.341 1152.45,935.331 1150.2,943.178 1147.92,950.885 1145.6,958.453 1143.22,965.884 \n",
       "  1140.77,973.18 1138.21,980.342 1135.54,987.372 1132.75,994.272 1129.81,1001.04 1126.7,1007.69 1123.42,1014.2 1119.93,1020.59 1116.22,1026.85 1112.27,1032.98 \n",
       "  1108.06,1038.99 1103.57,1044.87 1098.77,1050.62 1093.64,1056.24 1088.16,1061.72 1082.29,1067.06 1076,1072.26 1069.27,1077.31 1062.06,1082.19 1054.33,1086.91 \n",
       "  1046.05,1091.44 1037.18,1095.78 1027.67,1099.91 1017.49,1103.81 1006.58,1107.45 994.9,1110.8 982.399,1113.83 969.024,1116.5 954.728,1118.77 939.475,1120.59 \n",
       "  923.194,1121.89 905.818,1122.61 887.291,1122.68 867.571,1121.98 846.627,1120.43 824.441,1117.89 801.005,1114.24 776.328,1109.34 750.425,1103.02 723.329,1095.13 \n",
       "  695.126,1085.52 665.936,1074.01 635.878,1060.31 605.14,1044.18 573.98,1025.43 542.719,1003.92 511.752,979.534 481.538,952.236 452.606,922.017 425.551,888.92 \n",
       "  401.016,853.046 379.54,814.747 361.871,774.512 348.692,732.887 340.554,690.495 337.878,648.033 340.952,606.271 349.933,566.057 364.843,528.31 385.577,494.026 \n",
       "  411.83,464.174 442.885,439.196 478.004,419.352 516.445,404.77 557.459,395.425 600.284,391.149 644.154,391.628 688.289,396.398 731.902,404.851 774.398,416.333 \n",
       "  815.434,430.25 854.687,446.032 891.913,463.175 926.944,481.235 959.688,499.831 990.132,518.646 1018.34,537.423 1044.41,555.972 1068.39,574.175 1090.38,591.953 \n",
       "  1110.52,609.244 1128.92,626.003 1145.71,642.202 1161.02,657.83 1174.97,672.893 1187.69,687.411 1199.3,701.399 1209.93,714.876 1219.67,727.864 1228.63,740.38 \n",
       "  1236.91,752.446 1244.59,764.077 1251.76,775.294 1258.51,786.111 1264.91,796.545 1271.04,806.609 1276.95,816.313 1282.69,825.664 1288.32,834.67 1293.89,843.336 \n",
       "  1299.45,851.668 1305.06,859.669 1310.75,867.343 1316.58,874.691 1322.58,881.708 1328.77,888.39 1335.21,894.733 1341.91,900.728 1348.93,906.367 1356.28,911.639 \n",
       "  1364.02,916.533 1372.17,921.036 1380.76,925.129 1389.82,928.794 1399.4,932.005 1409.51,934.738 1420.18,936.964 1431.45,938.65 1443.35,939.763 1455.9,940.266 \n",
       "  1469.13,940.118 1483.05,939.278 1497.68,937.699 1513.05,935.322 1529.16,932.084 1546.01,927.927 1563.6,922.789 1581.9,916.611 1600.87,909.335 1620.47,900.901 \n",
       "  1640.62,891.252 1661.26,880.331 1682.29,868.111 1703.58,854.563 1724.97,839.634 1746.28,823.307 1767.29,805.604 1787.78,786.582 1807.51,766.338 1826.19,745.005 \n",
       "  1843.54,722.755 1859.24,699.795 1872.95,676.373 1884.32,652.773 1893.11,629.354 1899.06,606.49 1901.95,584.532 1901.61,563.814 1897.96,544.65 1890.96,527.335 \n",
       "  1880.66,512.148 1867.17,499.346 1850.66,489.169 1831.38,481.836 1809.67,477.343 1785.93,475.536 1760.55,476.294 1733.93,479.46 1706.44,484.841 1678.42,492.209 \n",
       "  1650.25,501.298 1622.24,511.805 1594.74,523.395 1568.01,535.776 1542.21,548.794 1517.47,562.254 1493.93,575.982 1471.66,589.832 1450.73,603.68 1431.16,617.428 \n",
       "  1412.97,631.005 1396.13,644.362 1380.59,657.478 1366.31,670.334 1353.26,682.91 1341.37,695.205 1330.59,707.22 1320.85,718.959 1312.11,730.426 1304.29,741.627 \n",
       "  1297.34,752.573 1291.22,763.272 1285.85,773.738 1281.19,783.977 1277.19,793.997 1273.81,803.805 1270.99,813.406 1268.72,822.805 1266.94,832.007 1265.63,841.015 \n",
       "  1264.75,849.829 1264.29,858.452 1264.22,866.884 1264.53,875.128 1265.2,883.182 1266.23,891.048 1267.6,898.724 1269.31,906.207 1271.35,913.495 1273.71,920.584 \n",
       "  1276.4,927.469 1279.42,934.148 1282.78,940.615 1286.48,946.867 1290.54,952.896 1294.98,958.697 1299.79,964.259 1305.01,969.574 1310.64,974.63 1316.7,979.414 \n",
       "  1323.23,983.914 1330.24,988.114 1337.76,991.999 1345.82,995.549 1354.45,998.741 1363.69,1001.55 1373.56,1003.94 1384.1,1005.9 1395.34,1007.37 1407.33,1008.32 \n",
       "  1420.08,1008.72 1433.63,1008.52 1448.04,1007.66 1463.36,1006.08 1479.62,1003.7 1496.85,1000.46 1515.08,996.283 1534.31,991.08 1554.54,984.771 1575.75,977.263 \n",
       "  1597.93,968.463 1621.03,958.273 1645.02,946.587 1669.81,933.343 1695.27,918.457 1721.28,901.794 1747.65,883.265 1774.17,862.831 1800.56,840.501 1826.52,816.335 \n",
       "  1851.68,790.441 1875.64,762.978 1897.95,734.151 1918.11,704.216 1935.66,673.52 1950.18,642.579 1961.16,611.908 1968.2,582.012 1970.99,553.391 1969.32,526.533 \n",
       "  1963.06,501.92 1952.2,480.027 1936.82,461.321 1917.09,446.258 1893.29,435.266 1865.96,428.299 1835.71,425.183 1803.13,425.746 1768.77,429.749 1733.2,436.882 \n",
       "  1696.94,446.767 1660.54,458.956 1624.52,472.932 1589.36,488.126 1555.38,504.207 1522.78,520.894 1491.73,537.899 1462.39,554.978 1434.83,571.935 1409.12,588.617 \n",
       "  1385.24,604.917 1363.15,620.774 1342.76,636.169 1323.98,651.107 1306.78,665.563 1291.06,679.557 1276.72,693.107 1263.66,706.237 1251.8,718.969 1241.03,731.327 \n",
       "  1231.28,743.334 1222.45,755.016 1214.47,766.399 1207.24,777.507 1200.69,788.355 1194.75,798.962 1189.35,809.341 1184.45,819.507 1179.96,829.47 1175.85,839.24 \n",
       "  1172.06,848.825 1168.54,858.231 1165.25,867.462 1162.14,876.526 1159.2,885.426 1156.39,894.166 1153.68,902.751 1151.03,911.183 1148.43,919.465 1145.85,927.599 \n",
       "  1143.25,935.586 1140.62,943.428 1137.94,951.127 1135.18,958.685 1132.34,966.104 1129.39,973.386 1126.3,980.53 1123.07,987.538 1119.67,994.41 1116.07,1001.15 \n",
       "  1112.26,1007.75 1108.23,1014.21 1103.94,1020.54 1099.37,1026.74 1094.51,1032.79 1089.33,1038.71 1083.79,1044.47 1077.88,1050.09 1071.56,1055.55 1064.79,1060.85 \n",
       "  1057.56,1065.98 1049.83,1070.93 1041.55,1075.69 1032.69,1080.24 1023.22,1084.56 1013.08,1088.64 1002.23,1092.45 990.632,1095.96 978.244,1099.14 965.01,1101.95 \n",
       "  950.873,1104.35 935.779,1106.29 919.679,1107.71 902.531,1108.54 884.296,1108.7 864.939,1108.09 844.431,1106.62 822.748,1104.18 799.87,1100.65 775.835,1095.93 \n",
       "  750.668,1089.87 724.365,1082.26 696.977,1072.88 668.609,1061.56 639.421,1048.12 609.626,1032.4 579.492,1014.25 549.343,993.537 519.555,970.147 490.56,943.971 \n",
       "  462.785,914.974 436.726,883.291 413.096,849.064 392.555,812.543 375.697,774.094 363.054,734.199 355.092,693.454 352.212,652.572 354.753,612.38 362.988,573.82 \n",
       "  376.995,537.922 396.429,505.434 420.85,476.858 449.762,452.59 482.609,432.919 518.78,418.025 557.603,407.981 598.351,402.753 640.238,402.201 682.449,405.987 \n",
       "  724.34,413.364 765.387,423.737 805.153,436.563 843.295,451.334 879.559,467.569 913.783,484.822 945.896,502.679 975.863,520.815 1003.68,539.037 1029.41,557.167 \n",
       "  1053.11,575.058 1074.89,592.598 1094.84,609.703 1113.07,626.322 1129.7,642.437 1144.87,658.036 1158.69,673.117 1171.28,687.69 1182.76,701.768 1193.23,715.363 \n",
       "  1202.81,728.49 1211.59,741.166 1219.66,753.409 1227.12,765.238 1234.06,776.672 1240.55,787.726 1246.66,798.411 1252.44,808.741 1257.96,818.725 1263.27,828.373 \n",
       "  1268.44,837.694 1273.51,846.697 1278.55,855.389 1283.6,863.776 1288.69,871.859 1293.86,879.638 1299.15,887.114 1304.59,894.286 1310.23,901.151 1316.08,907.705 \n",
       "  1322.2,913.945 1328.61,919.863 1335.35,925.451 1342.45,930.699 1349.93,935.592 1357.83,940.115 1366.19,944.251 1375.03,947.98 1384.38,951.281 1394.3,954.13 \n",
       "  1404.8,956.5 1415.92,958.361 1427.69,959.677 1440.14,960.407 1453.31,960.508 1467.22,959.933 1481.89,958.63 1497.35,956.544 1513.6,953.617 1530.67,949.788 \n",
       "  1548.54,944.991 1567.19,939.189 1586.6,932.29 1606.78,924.19 1627.68,914.804 1649.25,904.058 1671.38,891.898 1693.95,878.281 1716.8,863.182 1739.77,846.591 \n",
       "  1762.62,828.512 1785.14,808.965 1807.04,787.987 1828.08,765.672 1847.93,742.197 1866.18,717.76 1882.46,692.602 1896.41,667.002 1907.71,641.283 1916.07,615.806 \n",
       "  1921.21,590.974 1922.91,567.233 1920.95,545.065 1915.19,524.957 1905.73,507.238 1892.72,492.149 1876.35,479.873 1856.87,470.532 1834.57,464.186 1809.8,460.837 \n",
       "  1782.95,460.426 1754.45,462.832 1724.79,467.877 1694.46,475.255 1663.89,484.558 1633.46,495.463 1603.5,507.662 1574.28,520.871 1546.05,534.824 1518.98,549.273 \n",
       "  1493.21,563.993 1468.84,578.783 1445.92,593.529 1424.48,608.148 1404.52,622.568 1386.02,636.73 1368.94,650.592 1353.24,664.126 1338.88,677.322 1325.79,690.184 \n",
       "  1313.89,702.727 1303.11,714.953 1293.39,726.875 1284.64,738.506 1276.81,749.859 1269.82,760.948 1263.62,771.785 1258.14,782.382 1253.32,792.752 1249.11,802.904 \n",
       "  1245.46,812.847 1242.33,822.588 1239.68,832.135 1237.47,841.494 1235.66,850.67 1234.23,859.666 1233.15,868.485 1232.38,877.13 1231.9,885.6 1231.71,893.9 \n",
       "  1231.78,902.03 1232.1,909.993 1232.67,917.788 1233.47,925.416 1234.49,932.877 1235.74,940.171 1237.2,947.296 1238.89,954.254 1240.79,961.043 1242.92,967.662 \n",
       "  1245.29,974.109 1247.89,980.383 1250.73,986.48 1253.83,992.398 1257.19,998.132 1260.83,1003.68 1264.76,1009.04 1269,1014.19 1273.57,1019.15 1278.5,1023.9 \n",
       "  1283.79,1028.42 1289.48,1032.72 1295.59,1036.77 1302.14,1040.57 1309.18,1044.1 1316.73,1047.35 1324.83,1050.29 1333.51,1052.91 1342.82,1055.17 1352.79,1057.05 \n",
       "  1363.47,1058.52 1374.9,1059.54 1387.13,1060.06 1400.21,1060.06 1414.15,1059.47 1429.04,1058.24 1444.93,1056.3 1461.89,1053.57 1479.96,1049.98 1499.19,1045.42 \n",
       "  1519.59,1039.81 1541.19,1033.04 1563.99,1025 1587.98,1015.57 1613.15,1004.62 1639.47,992.025 1666.88,977.676 1695.23,961.466 1724.44,943.2 1754.31,922.737 \n",
       "  1784.62,899.993 1815.06,874.939 1845.26,847.606 1874.81,818.08 1903.21,786.505 1929.9,753.082 1954.27,718.071 1975.8,681.91 1993.83,645.218 2007.66,608.627 \n",
       "  2016.76,572.778 2020.71,538.326 2019.2,505.933 2012.05,476.274 1999.21,450.033 1980.76,427.905 1956.9,410.587 1928.15,398.302 1895.28,390.944 1859,388.379 \n",
       "  1820.01,390.365 1779.03,396.547 1736.8,406.46 1694.03,419.525 1651.45,435.052 1609.77,452.283 1569.38,470.74 1530.58,489.974 1493.64,509.575 1458.75,529.199 \n",
       "  1426.02,548.576 1395.52,567.502 1367.23,585.847 1341.04,603.547 1316.88,620.576 1294.69,636.912 1274.36,652.579 1255.76,667.602 1238.77,682.013 1223.28,695.85 \n",
       "  1209.17,709.151 1196.31,721.963 1184.59,734.332 1173.89,746.298 1164.1,757.894 1155.12,769.15 1146.87,780.096 1139.24,790.756 1132.16,801.15 1125.55,811.296 \n",
       "  1119.32,821.207 1113.41,830.895 1107.75,840.368 1102.28,849.636 1096.96,858.703 1091.74,867.574 1086.57,876.252 1081.4,884.739 1076.19,893.035 1070.89,901.139 \n",
       "  1065.46,909.049 1059.87,916.761 1054.08,924.274 1048.06,931.582 1041.78,938.679 1035.2,945.559 1028.3,952.212 1021.02,958.63 1013.35,964.799 1005.25,970.707 \n",
       "  996.686,976.34 987.626,981.679 978.038,986.706 967.892,991.395 957.155,995.721 945.796,999.652 933.783,1003.16 921.084,1006.19 907.672,1008.73 893.532,1010.71 \n",
       "  878.63,1012.09 862.943,1012.79 846.457,1012.76 829.169,1011.93 811.089,1010.21 792.236,1007.52 772.64,1003.79 752.343,998.9 731.399,992.771 709.881,985.328 \n",
       "  687.9,976.492 665.578,966.111 643.068,954.062 620.552,940.258 598.241,924.647 576.377,907.212 555.23,887.968 535.1,866.967 516.317,844.295 499.241,820.072 \n",
       "  484.256,794.454 471.657,767.703 461.772,740.165 454.927,712.195 451.376,684.163 451.303,656.463 454.817,629.502 461.955,603.71 472.682,579.534 486.893,557.44 \n",
       "  504.406,537.91 524.923,521.267 548.028,507.611 573.312,497.031 600.363,489.552 628.772,485.131 658.132,483.659 688.034,484.96 718.072,488.794 747.841,494.853 \n",
       "  776.983,502.807 805.297,512.402 832.588,523.352 858.694,535.392 883.489,548.282 906.882,561.809 928.819,575.782 949.28,590.038 968.281,604.438 985.875,618.866 \n",
       "  1002.11,633.239 1017.01,647.503 1030.63,661.608 1043.03,675.512 1054.28,689.184 1064.45,702.603 1073.61,715.753 1081.81,728.631 1089.14,741.231 1095.65,753.553 \n",
       "  1101.4,765.599 1106.45,777.372 1110.85,788.876 1114.66,800.119 1117.92,811.105 1120.67,821.843 1122.95,832.338 1124.8,842.597 1126.24,852.627 1127.3,862.434 \n",
       "  1128.02,872.025 1128.41,881.406 1128.49,890.584 1128.27,899.564 1127.78,908.35 1127.01,916.948 1125.98,925.363 1124.69,933.6 1123.15,941.662 1121.36,949.554 \n",
       "  1119.32,957.28 1117.02,964.842 1114.46,972.243 1111.64,979.486 1108.54,986.572 1105.16,993.503 1101.48,1000.28 1097.5,1006.9 1093.19,1013.37 1088.54,1019.69 \n",
       "  1083.53,1025.85 1078.13,1031.85 1072.33,1037.68 1066.1,1043.35 1059.41,1048.84 1052.23,1054.14 1044.54,1059.25 1036.3,1064.16 1027.46,1068.84 1018,1073.29 \n",
       "  1007.88,1077.49 997.041,1081.4 985.456,1085 973.077,1088.25 959.859,1091.12 945.756,1093.55 930.721,1095.51 914.73,1096.93 897.752,1097.76 879.711,1097.91 \n",
       "  860.55,1097.3 840.233,1095.81 818.744,1093.34 796.085,1089.76 772.28,1084.94 747.375,1078.75 721.432,1071.02 694.538,1061.59 666.795,1050.3 638.334,1036.97 \n",
       "  609.354,1021.51 580.12,1003.66 550.944,983.25 522.186,960.15 494.257,934.322 467.614,905.804 442.764,874.707 420.26,841.219 400.708,805.606 384.745,768.221 \n",
       "  372.879,729.688 365.572,690.678 363.192,651.844 365.982,613.841 374.063,577.33 387.43,542.973 405.958,511.434 429.394,483.385 457.364,459.497 489.36,440.418 \n",
       "  524.583,426.23 562.228,416.794 601.571,411.952 641.935,411.447 682.687,414.925 723.242,421.933 763.06,431.919 801.648,444.237 838.655,458.37 873.9,473.945 \n",
       "  907.233,490.557 938.549,507.849 967.79,525.519 994.944,543.32 1020.05,561.054 1043.18,578.578 1064.46,595.799 1083.97,612.628 1101.8,629.024 1118.09,644.969 \n",
       "  1132.94,660.45 1146.48,675.46 1158.81,689.997 1170.04,704.064 1180.27,717.667 1189.6,730.819 1198.12,743.538 1205.94,755.846 1213.13,767.758 1219.78,779.291 \n",
       "  1225.95,790.458 1231.72,801.273 1237.15,811.747 1242.3,821.892 1247.23,831.72 1252,841.239 1256.65,850.458 1261.23,859.383 1265.77,868.017 1270.31,876.365 \n",
       "  1274.9,884.43 1279.57,892.213 1284.35,899.718 1289.28,906.944 1294.4,913.889 1299.73,920.552 1305.31,926.926 1311.15,933.006 1317.3,938.784 1323.78,944.252 \n",
       "  1330.63,949.398 1337.88,954.213 1345.56,958.682 1353.7,962.788 1362.35,966.513 1371.52,969.835 1381.26,972.727 1391.6,975.161 1402.57,977.106 1414.21,978.527 \n",
       "  1426.55,979.384 1439.64,979.637 1453.49,979.24 1468.13,978.147 1483.6,976.293 1499.94,973.611 1517.16,970.031 1535.27,965.481 1554.27,959.887 1574.15,953.172 \n",
       "  1594.87,945.259 1616.4,936.066 1638.69,925.512 1661.65,913.516 1685.19,900.05 1709.18,885.016 1733.44,868.331 1757.78,849.96 1781.97,829.908 1805.74,808.228 \n",
       "  1828.79,785.017 1850.78,760.415 1871.33,734.608 1890.04,707.826 1906.45,680.344 1920.22,652.539 1930.97,624.871 1938.31,597.785 1941.97,571.718 1941.71,547.093 \n",
       "  1937.43,524.325 1929.08,503.817 1916.71,485.961 1900.45,471.14 1880.52,459.726 1857.29,451.843 1831.25,447.35 1802.89,446.14 1772.7,448.046 1741.14,452.846 \n",
       "  1708.7,460.255 1675.83,469.931 1643,481.473 1610.65,494.422 1579.14,508.405 1548.69,523.189 1519.48,538.501 1491.67,554.103 1465.39,569.797 1440.71,585.422 \n",
       "  1417.66,600.852 1396.24,616 1376.4,630.814 1358.07,645.278 1341.22,659.365 1325.78,673.068 1311.68,686.396 1298.84,699.357 1287.19,711.963 1276.63,724.229 \n",
       "  1267.11,736.17 1258.54,747.807 1250.84,759.16 1243.94,770.248 1237.78,781.085 1232.28,791.684 1227.4,802.059 1223.07,812.221 1219.24,822.179 1215.86,831.943 \n",
       "  1212.89,841.518 1210.29,850.911 1208.01,860.128 1206.03,869.173 1204.32,878.051 1202.86,886.765 1201.62,895.319 1200.58,903.716 1199.71,911.958 1199,920.046 \n",
       "  1198.44,927.982 1198,935.769 1197.69,943.409 1197.48,950.903 1197.38,958.254 1197.38,965.462 1197.46,972.53 1197.63,979.459 1197.88,986.251 1198.2,992.907 \n",
       "  1198.6,999.429 1199.08,1005.82 1199.63,1012.08 1200.25,1018.21 1200.95,1024.21 1201.73,1030.08 1202.58,1035.83 1203.52,1041.45 1204.54,1046.95 1205.65,1052.32 \n",
       "  1206.86,1057.58 1208.17,1062.71 1209.58,1067.72 1211.11,1072.61 1212.75,1077.38 1214.53,1082.03 1216.45,1086.57 1218.51,1090.98 1220.74,1095.26 1223.14,1099.43 \n",
       "  1225.72,1103.47 1228.51,1107.38 1231.51,1111.17 1234.75,1114.82 1238.23,1118.33 1241.99,1121.71 1246.03,1124.94 1250.39,1128.02 1255.1,1130.95 1260.17,1133.7 \n",
       "  1265.64,1136.28 1271.54,1138.67 1277.91,1140.86 1284.77,1142.84 1292.18,1144.58 1300.16,1146.07 1308.78,1147.29 1318.07,1148.21 1328.09,1148.8 1338.9,1149.03 \n",
       "  1350.55,1148.86 1363.11,1148.23 1376.63,1147.1 1391.2,1145.41 1406.87,1143.1 1423.69,1140.1 1441.72,1136.33 1461.09,1131.68 1481.87,1126.04 1504.16,1119.29 \n",
       "  1528,1111.27 1553.43,1101.86 1580.46,1090.88 1609.09,1078.17 1639.29,1063.53 1671.02,1046.78 1704.2,1027.71 1738.7,1006.19 1774.3,982.025 1810.75,954.936 \n",
       "  1847.71,924.75 1884.73,891.407 1921.27,854.962 1956.67,815.581 1990.19,773.544 2020.97,729.246 2048.06,683.192 2070.51,636.097 2087.5,589.065 2098.18,543.165 \n",
       "  2101.91,499.417 2098.27,458.791 2087.04,422.212 2068.22,390.556 2041.99,364.652 2008.78,345.283 1969.22,333.159 1924.49,328.088 1875.88,329.454 1824.52,336.687 \n",
       "  1771.48,349.091 1717.77,365.851 1664.32,386.027 1612,408.555 1561.61,432.266 1513.62,456.481 1468.23,480.777 1425.63,504.701 1385.92,527.897 1349.15,550.111 \n",
       "  1315.26,571.186 1284.15,591.063 1255.61,609.782 1229.45,627.421 1205.57,643.985 1183.79,659.56 1163.93,674.232 1145.82,688.082 1129.3,701.185 1114.2,713.614 \n",
       "  1100.39,725.435 1087.71,736.711 1076.02,747.498 1065.2,757.846 1055.12,767.792 1045.69,777.369 1036.8,786.605 1028.35,795.523 1020.27,804.138 1012.45,812.462 \n",
       "  1004.82,820.501 997.31,828.26 989.866,835.741 982.433,842.942 974.959,849.859 967.394,856.486 959.692,862.814 951.809,868.834 943.701,874.534 935.33,879.898 \n",
       "  926.667,884.91 917.686,889.552 908.362,893.802 898.674,897.637 888.604,901.033 878.136,903.962 867.257,906.396 855.957,908.303 844.229,909.653 832.08,910.413 \n",
       "  819.516,910.544 806.547,910 793.194,908.74 779.486,906.722 765.461,903.909 751.168,900.261 736.663,895.745 722.013,890.326 707.293,883.971 692.582,876.662 \n",
       "  677.969,868.399 663.588,859.153 649.579,848.915 636.08,837.693 623.235,825.517 611.186,812.439 600.078,798.529 590.056,783.881 581.269,768.608 573.865,752.843 \n",
       "  567.994,736.742 563.808,720.48 561.4,704.247 560.825,688.243 562.138,672.661 565.36,657.686 570.484,643.492 577.474,630.245 586.262,618.099 596.749,607.201 \n",
       "  608.809,597.685 622.282,589.678 636.984,583.286 652.723,578.494 669.295,575.274 686.498,573.597 704.141,573.414 722.041,574.66 740.027,577.254 757.936,581.096 \n",
       "  775.614,586.068 792.919,592.037 809.717,598.85 825.902,606.395 841.41,614.587 856.183,623.322 870.172,632.504 883.34,642.046 895.659,651.867 907.112,661.896 \n",
       "  917.691,672.068 927.399,682.329 936.248,692.629 944.26,702.928 951.442,713.192 957.82,723.393 963.418,733.505 968.259,743.509 972.367,753.383 975.766,763.111 \n",
       "  978.475,772.677 980.516,782.069 981.91,791.276 982.675,800.291 982.831,809.106 982.399,817.712 981.391,826.101 979.815,834.266 977.68,842.2 974.991,849.895 \n",
       "  971.756,857.342 967.977,864.531 963.66,871.45 958.805,878.089 953.416,884.436 947.492,890.477 941.033,896.198 934.036,901.582 926.492,906.611 918.389,911.264 \n",
       "  909.722,915.519 900.483,919.351 890.67,922.731 880.283,925.631 869.323,928.016 857.793,929.851 845.7,931.099 833.052,931.719 819.865,931.674 806.172,930.935 \n",
       "  791.985,929.438 777.327,927.117 762.236,923.916 746.762,919.781 730.971,914.667 714.944,908.534 698.773,901.349 682.566,893.083 666.446,883.715 650.549,873.23 \n",
       "  635.025,861.617 620.034,848.876 605.695,835.066 592.216,820.245 579.821,804.485 568.712,787.883 559.074,770.559 551.075,752.655 544.863,734.34 540.568,715.805 \n",
       "  538.305,697.268 538.166,678.967 540.228,661.167 544.549,644.157 551.116,628.202 559.817,613.494 570.528,600.197 583.104,588.447 597.386,578.355 613.197,570.004 \n",
       "  630.344,563.449 648.617,558.719 667.787,555.815 687.611,554.712 707.827,555.357 728.184,557.638 748.494,561.378 768.568,566.431 788.244,572.657 807.378,579.915 \n",
       "  825.849,588.072 843.556,596.993 860.422,606.549 876.389,616.614 891.422,627.063 905.503,637.779 918.606,648.703 930.733,659.774 941.9,670.934 952.121,682.129 \n",
       "  961.417,693.313 969.81,704.445 977.323,715.492 983.984,726.426 989.822,737.226 994.869,747.879 999.161,758.371 1002.73,768.687 1005.6,778.819 1007.8,788.76 \n",
       "  1009.36,798.503 1010.3,808.042 1010.64,817.37 1010.39,826.482 1009.58,835.375 1008.21,844.043 1006.31,852.483 1003.89,860.69 1000.95,868.657 997.494,876.38 \n",
       "  993.515,883.853 989.011,891.068 983.979,898.018 978.414,904.69 972.312,911.074 965.668,917.153 958.473,922.914 950.723,928.339 942.409,933.409 933.523,938.102 \n",
       "  924.056,942.397 913.987,946.265 903.301,949.676 891.985,952.595 880.031,954.987 867.436,956.809 854.2,958.018 840.33,958.565 825.835,958.4 810.731,957.468 \n",
       "  795.037,955.711 778.794,953.099 762.057,949.584 744.859,945.06 727.257,939.435 709.325,932.631 691.159,924.589 672.875,915.262 654.609,904.619 636.518,892.647 \n",
       "  618.777,879.347 601.583,864.733 585.152,848.839 569.723,831.711 555.553,813.412 542.834,794.07 531.78,773.88 522.653,753.038 515.674,731.756 511.023,710.265 \n",
       "  508.84,688.813 509.226,667.666 512.238,647.109 517.897,627.444 526.18,608.99 537.024,592.085 550.311,577.043 565.803,563.994 583.239,553.046 602.359,544.276 \n",
       "  622.897,537.721 644.584,533.378 667.147,531.205 690.31,531.122 713.793,533.007 737.311,536.703 760.579,542.01 783.368,548.729 805.539,556.682 826.95,565.683 \n",
       "  847.481,575.557 867.035,586.146 885.54,597.303 902.943,608.896 919.218,620.806 934.358,632.929 948.381,645.172 961.321,657.458 973.182,669.736 983.995,681.967 \n",
       "  993.8,694.112 1002.64,706.142 1010.55,718.029 1017.58,729.75 1023.76,741.288 1029.14,752.63 1033.75,763.767 1037.63,774.695 1040.82,785.413 1043.36,795.915 \n",
       "  1045.28,806.201 1046.61,816.268 1047.36,826.118 1047.56,835.748 1047.24,845.159 1046.41,854.35 1045.08,863.321 1043.26,872.071 1040.98,880.601 1038.24,888.908 \n",
       "  1035.03,896.99 1031.35,904.844 1027.2,912.468 1022.57,919.856 1017.45,927.002 1011.84,933.899 1005.73,940.536 999.105,946.904 991.953,952.992 984.259,958.785 \n",
       "  976.006,964.266 967.17,969.418 957.727,974.219 947.654,978.646 936.932,982.668 925.54,986.255 913.459,989.369 900.674,991.968 887.168,994.01 872.928,995.444 \n",
       "  857.944,996.221 842.247,996.307 825.82,995.621 808.643,994.074 790.721,991.574 772.077,988.036 752.758,983.377 732.831,977.515 712.384,970.372 691.529,961.871 \n",
       "  670.397,951.941 649.142,940.509 627.937,927.509 606.978,912.874 586.448,896.589 566.584,878.686 547.722,859.177 530.186,838.119 514.285,815.623 500.313,791.852 \n",
       "  488.55,767.019 479.261,741.389 472.696,715.277 469.092,689.051 468.671,663.131 471.618,638 477.926,614.14 487.48,591.875 500.127,571.487 515.682,553.223 \n",
       "  533.925,537.293 554.6,523.871 577.416,513.096 602.049,505.071 628.138,499.861 655.288,497.498 683.069,497.88 711.073,500.642 738.967,505.531 766.457,512.304 \n",
       "  793.294,520.719 819.269,530.534 844.212,541.507 867.996,553.399 890.535,565.969 911.769,579.011 931.653,592.415 950.192,606.058 967.4,619.831 983.302,633.641 \n",
       "  997.927,647.41 1011.32,661.074 1023.52,674.585 1034.58,687.91 1044.58,701.029 1053.58,713.922 1061.62,726.576 1068.79,738.983 1075.12,751.141 1080.68,763.044 \n",
       "  1085.51,774.694 1089.67,786.091 1093.21,797.238 1096.16,808.141 1098.57,818.806 1100.48,829.236 1101.91,839.436 1102.89,849.412 1103.44,859.168 1103.58,868.709 \n",
       "  1103.32,878.04 1102.7,887.164 1101.71,896.087 1100.38,904.813 1098.73,913.346 1096.74,921.69 1094.43,929.846 1091.78,937.816 1088.8,945.601 1085.47,953.204 \n",
       "  1081.79,960.624 1077.75,967.862 1073.35,974.915 1068.56,981.782 1063.37,988.461 1057.77,994.946 1051.73,1001.23 1045.23,1007.32 1038.25,1013.19 1030.75,1018.84 \n",
       "  1022.71,1024.25 1014.11,1029.41 1004.91,1034.31 995.071,1038.91 984.571,1043.2 973.38,1047.15 961.451,1050.74 948.74,1053.92 935.204,1056.65 920.807,1058.88 \n",
       "  905.516,1060.57 889.304,1061.64 872.146,1062.02 854.024,1061.63 834.922,1060.39 814.831,1058.2 793.749,1054.98 771.747,1050.65 748.832,1045.06 725.023,1038.03 \n",
       "  700.381,1029.4 675.013,1019.02 649.068,1006.76 622.738,992.51 596.26,976.177 569.914,957.683 544.024,936.969 518.957,913.993 495.125,888.728 472.876,861.263 \n",
       "  452.676,831.811 435.089,800.61 420.613,767.964 409.674,734.25 402.632,699.916 399.779,665.478 401.335,631.524 407.454,598.713 418.222,567.772 433.61,539.465 \n",
       "  453.267,514.306 476.761,492.617 503.636,474.634 533.414,460.507 565.589,450.298 599.628,443.984 634.978,441.456 671.055,442.517 707.252,446.885 743.029,454.131 \n",
       "  778.029,463.749 811.932,475.321 844.477,488.459 875.464,502.811 904.752,518.058 932.263,533.911 957.977,550.115 981.919,566.456 1004.09,582.798 1024.55,599.039 \n",
       "  1043.36,615.091 1060.62,630.883 1076.4,646.36 1090.79,661.483 1103.87,676.23 1115.76,690.593 1126.53,704.576 1136.3,718.177 1145.13,731.404 1153.13,744.265 \n",
       "  1160.37,756.769 1166.91,768.927 1172.85,780.75 1178.23,792.249 1183.14,803.437 1187.62,814.327 1191.74,824.928 1195.53,835.25 1199.03,845.301 1202.29,855.09 \n",
       "  1205.35,864.624 1208.24,873.913 1210.99,882.964 1213.66,891.784 1216.25,900.38 1218.81,908.756 1221.34,916.917 1223.87,924.867 1226.42,932.609 1229.02,940.146 \n",
       "  1231.69,947.483 1234.44,954.62 1237.29,961.561 1240.27,968.306 1243.39,974.855 1246.67,981.208 1250.13,987.364 1253.79,993.322 1257.67,999.079 1261.79,1004.63 \n",
       "  1266.18,1009.98 1270.86,1015.12 1275.84,1020.04 1281.17,1024.73 1286.85,1029.19 1292.93,1033.41 1299.42,1037.37 1306.37,1041.06 1313.81,1044.47 1321.77,1047.58 \n",
       "  1330.29,1050.36 1339.4,1052.8 1349.16,1054.86 1359.61,1056.53 1370.78,1057.75 1382.73,1058.5 1395.51,1058.73 1409.16,1058.38 1423.73,1057.41 1439.27,1055.74 \n",
       "  1455.83,1053.33 1473.43,1050.1 1492.13,1045.95 1512,1040.79 1533.08,1034.5 1555.39,1026.97 1578.93,1018.09 1603.67,1007.73 1629.57,995.783 1656.55,982.113 \n",
       "  1684.53,966.593 1713.39,949.09 1742.98,929.512 1773.08,907.794 1803.39,883.804 1833.58,857.494 1863.25,828.898 1891.95,798.137 1919.18,765.418 1944.39,731.034 \n",
       "  1966.97,695.362 1986.26,658.867 2001.58,622.127 2012.42,585.943 2018.3,551.047 2018.88,518.114 2013.93,487.774 2003.38,460.61 1987.26,437.158 1965.78,417.911 \n",
       "  1939.27,403.313 1908.17,393.763 1873.15,389.414 1835.14,389.74 1794.94,394.337 1753.3,402.761 1710.92,414.509 1668.46,429.021 1626.52,445.674 1585.64,463.791 \n",
       "  1546.3,482.695 1508.75,502.078 1473.16,521.625 1439.65,541.051 1408.3,560.129 1379.15,578.691 1352.17,596.624 1327.29,613.876 1304.41,630.45 1283.4,646.363 \n",
       "  1264.18,661.607 1246.63,676.23 1230.61,690.275 1215.99,703.786 1202.67,716.802 1190.52,729.362 1179.43,741.503 1169.3,753.257 1160.04,764.658 1151.53,775.735 \n",
       "  1143.69,786.517 1136.42,797.025 1129.65,807.277 1123.31,817.291 1117.31,827.078 1111.61,836.65 1106.13,846.015 1100.81,855.179 1095.61,864.145 1090.46,872.917 \n",
       "  1085.34,881.499 1080.19,889.89 1074.98,898.091 1069.68,906.101 1064.23,913.918 1058.6,921.538 1052.76,928.957 1046.66,936.17 1040.29,943.171 1033.6,949.953 \n",
       "  1026.56,956.507 1019.15,962.822 1011.34,968.886 1003.07,974.685 994.335,980.202 985.083,985.42 975.289,990.317 964.92,994.869 953.941,999.051 942.322,1002.83 \n",
       "  930.032,1006.17 917.043,1009.03 903.329,1011.36 888.867,1013.12 873.634,1014.25 857.61,1014.7 840.807,1014.4 823.215,1013.28 804.819,1011.24 785.627,1008.2 \n",
       "  765.669,1004.04 744.998,998.684 723.686,992.033 701.831,983.995 679.551,974.477 656.986,963.386 634.299,950.633 611.667,936.137 589.282,919.889 567.446,901.829 \n",
       "  546.48,881.932 526.709,860.234 508.456,836.83 492.049,811.873 477.815,785.575 466.085,758.208 457.19,730.103 451.462,701.648 449.195,673.319 450.498,645.636 \n",
       "  455.414,619.025 463.927,593.88 475.954,570.565 491.353,549.413 509.917,530.729 531.377,514.787 555.399,501.83 581.59,492.073 609.489,485.657 638.59,482.343 \n",
       "  668.435,481.91 698.608,484.145 728.74,488.811 758.499,495.644 787.598,504.357 815.792,514.638 842.878,526.149 868.695,538.591 893.15,551.797 916.192,565.567 \n",
       "  937.786,579.727 957.92,594.122 976.597,608.624 993.842,623.127 1009.7,637.55 1024.22,651.834 1037.49,665.936 1049.55,679.815 1060.48,693.451 1070.36,706.827 \n",
       "  1079.24,719.931 1087.2,732.756 1094.29,745.296 1100.59,757.552 1106.15,769.529 1111.03,781.232 1115.29,792.667 1118.98,803.84 1122.12,814.758 1124.78,825.427 \n",
       "  1126.99,835.853 1128.77,846.044 1130.17,856.008 1131.22,865.751 1131.93,875.28 1132.33,884.601 1132.43,893.719 1132.25,902.64 1131.8,911.37 1131.09,919.914 \n",
       "  1130.14,928.276 1128.94,936.463 1127.51,944.479 1125.84,952.326 1123.93,960.009 1121.78,967.531 1119.38,974.896 1116.73,982.105 1113.83,989.161 1110.66,996.066 \n",
       "  1107.21,1002.82 1103.47,1009.43 1099.43,1015.89 1095.06,1022.2 1090.35,1028.36 1085.28,1034.37 1079.82,1040.22 1073.96,1045.91 1067.67,1051.44 1060.91,1056.8 \n",
       "  1053.66,1061.98 1045.89,1066.97 1037.56,1071.75 1028.63,1076.33 1019.07,1080.67 1008.83,1084.75 997.87,1088.56 986.148,1092.05 973.618,1095.19 960.233,1097.95 \n",
       "  945.944,1100.29 930.74,1102.14 914.565,1103.46 897.339,1104.18 879.001,1104.21 859.507,1103.46 838.829,1101.82 816.96,1099.18 793.905,1095.42 769.691,1090.39 \n",
       "  744.361,1083.95 717.973,1075.94 690.605,1066.19 662.354,1054.51 633.374,1040.82 603.886,1024.88 574.153,1006.46 544.49,985.364 515.271,961.511 486.919,934.869 \n",
       "  459.916,905.485 434.795,873.479 412.146,839.042 392.611,802.439 376.828,764.078 365.298,724.648 358.497,684.812 356.783,645.235 360.388,606.59 369.416,569.555 \n",
       "  383.85,534.816 403.542,503.068 428.224,475.009 457.499,451.349 490.805,432.71 527.259,419.055 566.055,410.264 606.458,406.157 647.779,406.45 689.376,410.756 \n",
       "  730.655,418.588 771.07,429.356 810.122,442.372 847.486,457.136 882.996,473.268 916.513,490.359 947.945,508.054 977.245,526.055 1004.41,544.117 1029.49,562.05 \n",
       "  1052.58,579.72 1073.8,597.044 1093.24,613.929 1110.99,630.338 1127.2,646.268 1141.98,661.716 1155.46,676.683 1167.75,691.172 1178.95,705.186 1189.18,718.733 \n",
       "  1198.53,731.823 1207.1,744.468 1214.95,756.68 1222.2,768.479 1228.92,779.891 1235.19,790.931 1241.08,801.612 1246.65,811.947 1251.97,821.946 1257.09,831.619 \n",
       "  1262.06,840.975 1266.94,850.023 1271.78,858.769 1276.61,867.217 1281.47,875.369 1286.41,883.226 1291.45,890.79 1296.63,898.059 1301.99,905.033 1307.56,911.71 \n",
       "  1313.38,918.086 1319.48,924.156 1325.89,929.91 1332.64,935.339 1339.77,940.432 1347.29,945.174 1355.25,949.55 1363.68,953.542 1372.61,957.132 1382.08,960.297 \n",
       "  1392.13,963.012 1402.77,965.248 1414.06,966.972 1426.02,968.145 1438.68,968.727 1452.08,968.673 1466.24,967.934 1481.19,966.458 1496.95,964.186 1513.54,961.06 \n",
       "  1530.95,957.024 1549.19,952.023 1568.25,945.955 1588.16,938.725 1608.87,930.251 1630.34,920.456 1652.49,909.277 1675.22,896.656 1698.38,882.549 1721.83,866.919 \n",
       "  1745.38,849.739 1768.82,830.992 1791.93,810.69 1814.47,788.927 1836.05,765.805 1856.3,741.472 1874.86,716.129 1891.35,690.027 1905.45,663.469 1916.8,636.809 \n",
       "  1925.09,610.452 1929.99,584.854 1931.19,560.525 1928.51,537.996 1921.98,517.651 1911.67,499.787 1897.72,484.644 1880.3,472.411 1859.69,463.216 1836.18,457.136 \n",
       "  1810.15,454.188 1782.02,454.338 1752.28,457.493 1721.45,463.353 1690.05,471.468 1658.5,481.5 1627.18,493.123 1596.43,506.023 1566.52,519.898 1537.69,534.459 \n",
       "  1510.12,549.429 1483.93,564.557 1459.22,579.718 1436.03,594.804 1414.37,609.718 1394.23,624.385 1375.59,638.748 1358.43,652.769 1342.68,666.431 1328.27,679.738 \n",
       "  1315.14,692.703 1303.22,705.326 1292.41,717.62 1282.66,729.601 1273.88,741.283 1266.01,752.681 1258.97,763.81 1252.7,774.685 1247.14,785.321 1242.22,795.728 \n",
       "  1237.89,805.919 1234.11,815.902 1230.82,825.686 1227.98,835.278 1225.56,844.684 1223.52,853.91 1221.81,862.959 1220.42,871.835 1219.32,880.541 1218.48,889.08 \n",
       "  1217.89,897.455 1217.52,905.667 1217.38,913.719 1217.43,921.611 1217.67,929.345 1218.09,936.921 1218.68,944.342 1219.45,951.607 1220.38,958.718 1221.48,965.675 \n",
       "  1222.74,972.478 1224.17,979.126 1225.76,985.621 1227.52,991.961 1229.46,998.146 1231.58,1004.18 1233.89,1010.05 1236.4,1015.77 1239.12,1021.32 1242.06,1026.72 \n",
       "  1245.24,1031.95 1248.66,1037.01 1252.35,1041.9 1256.32,1046.61 1260.59,1051.15 1265.19,1055.49 1270.13,1059.64 1275.45,1063.58 1281.16,1067.32 1287.3,1070.82 \n",
       "  1293.89,1074.09 1300.97,1077.1 1308.57,1079.84 1316.75,1082.3 1325.52,1084.45 1334.94,1086.25 1345.06,1087.69 1355.91,1088.72 1367.55,1089.31 1380.04,1089.41 \n",
       "  1393.42,1088.98 1407.75,1087.98 1423.07,1086.32 1439.45,1083.96 1456.97,1080.8 1475.68,1076.75 1495.65,1071.71 1516.9,1065.59 1539.45,1058.25 1563.33,1049.58 \n",
       "  1588.54,1039.45 1615.06,1027.7 1642.87,1014.19 1671.89,998.816 1702,981.425 1733.1,961.785 1765.01,939.731 1797.46,915.161 1830.12,888.034 1862.59,858.377 \n",
       "  1894.39,826.277 1924.95,791.888 1953.63,755.423 1979.76,717.17 2002.74,677.643 2021.77,637.552 2036.09,597.622 2045.09,558.597 2048.3,521.235 2045.39,486.311 \n",
       "  2036.18,454.616 2020.65,426.955 1998.88,404.153 1971.21,386.931 1938.4,375.306 1901.28,369.18 1860.65,368.353 1817.34,372.491 1772.17,381.126 1725.97,393.657 \n",
       "  1679.56,409.349 1633.79,427.335 1589.3,446.85 1546.45,467.4 1505.56,488.469 1466.87,509.628 1430.54,530.533 1396.65,550.925 1365.21,570.631 1336.12,589.561 \n",
       "  1309.28,607.681 1284.63,624.962 1262.05,641.436 1241.39,657.137 1222.52,672.106 1205.3,686.389 1189.6,700.037 1175.28,713.106 1162.21,725.656 1150.26,737.735 \n",
       "  1139.3,749.386 1129.22,760.647 1119.92,771.554 1111.3,782.135 1103.26,792.417 1095.71,802.42 1088.55,812.159 1081.72,821.648 1075.14,830.897 1068.76,839.915 \n",
       "  1062.5,848.706 1056.32,857.274 1050.17,865.622 1043.98,873.748 1037.72,881.651 1031.32,889.326 1024.76,896.769 1017.98,903.973 1010.96,910.93 1003.66,917.632 \n",
       "  996.043,924.066 988.075,930.219 979.723,936.076 970.952,941.621 961.727,946.835 952.022,951.695 941.808,956.179 931.057,960.258 919.745,963.901 907.848,967.074 \n",
       "  895.346,969.737 882.224,971.851 868.465,973.368 854.059,974.24 839.001,974.417 823.307,973.85 806.974,972.461 790.013,970.175 772.455,966.919 754.346,962.621 \n",
       "  735.748,957.211 716.741,950.621 697.422,942.787 677.906,933.643 658.324,923.129 638.817,911.192 619.533,897.833 600.705,883.013 582.581,866.721 565.409,848.985 \n",
       "  549.434,829.876 534.905,809.506 522.07,788.029 511.174,765.639 502.466,742.574 496.192,719.11 492.596,695.568 491.815,672.321 493.912,649.717 498.914,628.076 \n",
       "  506.801,607.695 517.501,588.845 530.893,571.78 546.805,556.727 565.016,543.891 585.254,533.457 607.198,525.585 630.49,520.303 654.773,517.442 679.706,516.883 \n",
       "  704.974,518.486 730.29,522.091 755.394,527.513 780.053,534.544 804.061,542.955 827.238,552.494 849.438,562.921 870.567,574.107 890.568,585.893 909.397,598.134 \n",
       "  927.025,610.7 943.439,623.479 958.643,636.374 972.653,649.306 985.501,662.211 997.235,675.042 1007.89,687.755 1017.52,700.321 1026.17,712.717 1033.9,724.925 \n",
       "  1040.75,736.93 1046.76,748.72 1051.99,760.286 1056.48,771.625 1060.27,782.735 1063.41,793.616 1065.93,804.271 1067.86,814.698 1069.24,824.901 1070.08,834.882 \n",
       "  1070.42,844.642 1070.27,854.183 1069.66,863.508 1068.59,872.618 1067.09,881.516 1065.16,890.202 1062.81,898.679 1060.05,906.945 1056.86,915.001 1053.25,922.846 \n",
       "  1049.21,930.477 1044.73,937.892 1039.81,945.086 1034.44,952.055 1028.6,958.792 1022.27,965.29 1015.45,971.539 1008.11,977.527 1000.23,983.243 991.779,988.671 \n",
       "  982.735,993.793 973.074,998.586 962.77,1003.02 951.798,1007.08 940.13,1010.72 927.739,1013.91 914.61,1016.62 900.728,1018.79 886.05,1020.38 870.542,1021.32 \n",
       "  854.184,1021.54 836.968,1020.98 818.898,1019.55 799.994,1017.17 780.285,1013.75 759.816,1009.2 738.642,1003.41 716.832,996.292 694.47,987.724 671.661,977.659 \n",
       "  648.563,965.983 625.365,952.551 602.28,937.258 579.552,920.048 557.448,900.91 536.265,879.878 516.324,857.032 497.977,832.498 481.6,806.447 467.596,779.096 \n",
       "  456.369,750.731 448.196,721.803 443.346,692.734 442.028,663.941 444.378,635.835 450.456,608.827 460.254,583.328 473.687,559.746 490.599,538.489 510.761,519.962 \n",
       "  533.87,504.571 559.515,492.585 587.154,483.885 616.301,478.404 646.5,476.03 677.324,476.599 708.373,479.893 739.273,485.641 769.678,493.519 799.27,503.15 \n",
       "  827.776,514.154 855.05,526.327 880.985,539.421 905.495,553.204 928.522,567.473 950.033,582.05 970.022,596.787 988.509,611.562 1005.54,626.28 1021.19,640.876 \n",
       "  1035.52,655.294 1048.58,669.49 1060.44,683.442 1071.19,697.129 1080.9,710.539 1089.63,723.66 1097.46,736.486 1104.44,749.016 1110.65,761.251 1116.15,773.199 \n",
       "  1120.98,784.866 1125.22,796.261 1128.91,807.389 1132.09,818.259 1134.81,828.877 1137.1,839.251 1139,849.389 1140.55,859.299 1141.76,868.987 1142.68,878.462 \n",
       "  1143.31,887.728 1143.67,896.792 1143.79,905.661 1143.67,914.339 1143.33,922.833 1142.78,931.149 1142.02,939.29 1141.06,947.263 1139.91,955.072 1138.56,962.72 \n",
       "  1137.01,970.212 1135.27,977.551 1133.32,984.741 1131.18,991.785 1128.82,998.687 1126.24,1005.45 1123.43,1012.07 1120.39,1018.56 1117.09,1024.92 1113.53,1031.14 \n",
       "  1109.69,1037.23 1105.55,1043.18 1101.09,1049.01 1096.29,1054.7 1091.13,1060.25 1085.59,1065.66 1079.64,1070.93 1073.24,1076.06 1066.38,1081.02 1059.01,1085.83 \n",
       "  1051.1,1090.46 1042.62,1094.9 1033.52,1099.14 1023.76,1103.15 1013.3,1106.92 1002.11,1110.42 990.125,1113.62 977.292,1116.49 963.547,1119 948.834,1121.09 \n",
       "  933.101,1122.71 916.3,1123.78 898.387,1124.23 879.322,1123.98 859.069,1122.91 837.598,1120.93 814.88,1117.92 790.892,1113.74 765.68,1108.3 739.271,1101.42 \n",
       "  711.666,1092.85 682.93,1082.38 653.186,1069.81 622.618,1054.94 591.47,1037.62 560.048,1017.67 528.716,994.965 497.9,969.374 468.086,940.79 439.706,909.232 \n",
       "  413.387,874.866 389.914,837.895 369.994,798.641 354.25,757.544 343.226,715.166 337.382,672.187 337.098,629.406 342.674,587.743 354.326,548.236 372.065,511.952 \n",
       "  395.428,479.626 423.898,451.822 456.887,428.953 493.731,411.276 533.691,398.895 575.954,391.76 619.632,389.667 663.808,392.228 707.826,398.783 751.1,408.698 \n",
       "  793.13,421.38 833.519,436.267 871.97,452.825 908.287,470.555 942.378,488.985 974.221,507.715 1003.79,526.54 1031.14,545.267 1056.34,563.733 1079.5,581.811 \n",
       "  1100.71,599.41 1120.1,616.477 1137.8,632.991 1153.94,648.936 1168.65,664.315 1182.07,679.141 1194.32,693.428 1205.51,707.19 1215.75,720.445 1225.15,733.213 \n",
       "  1233.83,745.514 1241.86,757.371 1249.35,768.804 1256.38,779.827 1263.01,790.456 1269.31,800.704 1275.35,810.581 1281.19,820.099 1286.91,829.266 1292.54,838.092 \n",
       "  1298.16,846.583 1303.8,854.741 1309.5,862.567 1315.31,870.061 1321.26,877.222 1327.39,884.048 1333.75,890.533 1340.37,896.673 1347.28,902.461 1354.53,907.887 \n",
       "  1362.13,912.938 1370.14,917.6 1378.56,921.855 1387.45,925.685 1396.82,929.068 1406.72,931.98 1417.17,934.397 1428.21,936.289 1439.86,937.625 1452.15,938.365 \n",
       "  1465.11,938.469 1478.75,937.89 1493.11,936.581 1508.18,934.492 1523.98,931.57 1540.51,927.759 1557.75,923 1575.71,917.236 1594.33,910.437 1613.58,902.512 \n",
       "  1633.42,893.378 1653.78,882.966 1674.58,871.229 1695.68,858.137 1716.95,843.681 1738.21,827.867 1759.26,810.723 1779.87,792.296 1799.79,772.649 1818.73,751.868 \n",
       "  1836.48,730.106 1852.68,707.582 1866.99,684.533 1879.08,661.223 1888.68,637.941 1895.53,614.999 1899.42,592.739 1900.2,571.523 1897.71,551.743 1891.87,533.814 \n",
       "  1882.68,518.073 1870.31,504.717 1854.96,493.899 1836.87,485.717 1816.29,480.215 1793.54,477.38 1768.96,477.144 1742.92,479.386 1715.82,483.926 1688.12,490.532 \n",
       "  1660.19,498.904 1632.34,508.749 1604.87,519.798 1578.03,531.804 1552.03,544.54 1527.06,557.798 1503.23,571.39 1480.64,585.148 1459.34,598.924 1439.39,612.63 \n",
       "  1420.78,626.207 1403.5,639.604 1387.53,652.779 1372.83,665.699 1359.37,678.344 1347.1,690.704 1335.96,702.781 1325.9,714.585 1316.85,726.118 1308.75,737.388 \n",
       "  1301.53,748.403 1295.16,759.171 1289.56,769.702 1284.68,780.002 1280.49,790.081 1276.93,799.944 1273.95,809.598 1271.51,819.045 1269.58,828.292 1268.14,837.343 \n",
       "  1267.16,846.201 1266.61,854.869 1266.47,863.348 1266.73,871.639 1267.36,879.741 1268.35,887.651 1269.68,895.366 1271.35,902.884 1273.35,910.203 1275.68,917.323 \n",
       "  1278.36,924.239 1281.37,930.948 1284.73,937.446 1288.44,943.725 1292.51,949.779 1296.96,955.601 1301.79,961.181 1307.02,966.511 1312.67,971.58 1318.76,976.377 \n",
       "  1325.32,980.889 1332.37,985.098 1339.93,988.988 1348.04,992.536 1356.71,995.721 1365.99,998.518 1375.9,1000.9 1386.48,1002.83 1397.76,1004.28 1409.78,1005.21 \n",
       "  1422.6,1005.58 1436.24,1005.33 1450.74,1004.41 1466.12,1002.76 1482.42,1000.32 1499.67,997.015 1517.88,992.767 1537.07,987.499 1557.22,981.151 1578.31,973.65 \n",
       "  1600.35,964.848 1623.35,954.618 1647.26,942.849 1671.98,929.451 1697.41,914.351 1723.36,897.498 1749.64,878.856 1776,858.409 1802.16,836.162 1827.81,812.136 \n",
       "  1852.58,786.376 1876.17,759.052 1898.09,730.421 1917.8,700.778 1934.81,670.468 1948.69,639.888 1959.03,609.486 1965.5,579.762 1967.8,551.265 1965.66,524.598 \n",
       "  1958.88,500.415 1947.44,479.277 1931.57,461.509 1911.56,447.36 1887.75,436.979 1860.56,430.42 1830.45,427.643 1797.97,428.506 1763.72,432.774 1728.36,440.116 \n",
       "  1692.5,450.069 1656.61,462.15 1621.16,475.924 1586.52,490.992 1553.02,506.987 1520.9,523.578 1490.34,540.466 1461.46,557.389 1434.32,574.143 1408.97,590.64 \n",
       "  1385.39,606.797 1363.55,622.551 1343.4,637.857 1324.89,652.693 1307.93,667.053 1292.43,680.956 1278.31,694.427 1265.46,707.481 1253.8,720.144 1243.22,732.443 \n",
       "  1233.65,744.402 1224.98,756.044 1217.15,767.391 1210.07,778.463 1203.66,789.281 1197.85,799.858 1192.57,810.211 1187.78,820.35 1183.41,830.289 1179.43,840.036 \n",
       "  1175.78,849.6 1172.4,858.988 1169.27,868.206 1166.34,877.256 1163.56,886.142 1160.91,894.867 1158.36,903.437 1155.89,911.855 1153.47,920.123 1151.09,928.244 \n",
       "  1148.7,936.22 1146.3,944.053 1143.87,951.744 1141.37,959.296 1138.81,966.711 1136.15,973.989 1133.38,981.134 1130.48,988.145 1127.44,995.024 1124.23,1001.77 \n",
       "  1120.84,1008.39 1117.24,1014.88 1113.42,1021.23 1109.36,1027.46 1105.04,1033.56 1100.42,1039.52 1095.5,1045.35 1090.24,1051.04 1084.61,1056.59 1078.59,1062 \n",
       "  1072.15,1067.25 1065.26,1072.35 1057.88,1077.28 1049.98,1082.03 1041.52,1086.6 1032.45,1090.96 1022.75,1095.09 1012.36,1098.98 1001.24,1102.59 989.338,1105.91 \n",
       "  976.618,1108.88 963.017,1111.49 948.478,1113.68 932.947,1115.39 916.375,1116.57 898.718,1117.13 879.935,1116.99 859.991,1116.06 838.855,1114.23 816.499,1111.39 \n",
       "  792.918,1107.42 768.164,1102.22 742.215,1095.57 715.087,1087.26 686.853,1077.11 657.638,1064.91 627.627,1050.5 597.055,1033.71 566.215,1014.39 535.455,992.378 \n",
       "  505.178,967.557 475.823,939.814 447.811,909.221 421.834,875.863 398.594,839.911 378.733,801.663 362.839,761.542 351.444,720.099 345.022,678.009 343.992,636.075 \n",
       "  348.717,595.224 359.427,556.478 375.927,520.707 397.897,488.608 424.924,460.749 456.491,437.563 491.975,419.353 530.65,406.289 571.686,398.406 614.167,395.586 \n",
       "  657.321,397.295 700.468,402.95 743.005,412.003 784.431,423.906 824.345,438.11 862.443,454.067 898.525,471.231 932.468,489.115 964.197,507.456 993.719,525.993 \n",
       "  1021.06,544.499 1046.29,562.797 1069.47,580.75 1090.73,598.269 1110.17,615.305 1127.92,631.814 1144.12,647.786 1158.89,663.22 1172.35,678.121 1184.62,692.497 \n",
       "  1195.83,706.358 1206.07,719.722 1215.46,732.61 1224.09,745.043 1232.08,757.042 1239.49,768.623 1246.41,779.802 1252.91,790.593 1259.06,801.011 1264.93,811.068 \n",
       "  1270.59,820.774 1276.11,830.142 1281.52,839.178 1286.88,847.887 1292.23,856.273 1297.63,864.338 1303.09,872.085 1308.68,879.513 1314.43,886.622 1320.38,893.41 \n",
       "  1326.56,899.873 1333.01,906.004 1339.75,911.794 1346.83,917.233 1354.28,922.309 1362.12,927.008 1370.39,931.315 1379.13,935.212 1388.37,938.679 1398.14,941.694 \n",
       "  1408.48,944.227 1419.4,946.249 1430.95,947.726 1443.16,948.62 1456.04,948.89 1469.63,948.493 1483.94,947.382 1499,945.507 1514.81,942.821 1531.38,939.265 \n",
       "  1548.72,934.761 1566.83,929.237 1585.7,922.623 1605.29,914.857 1625.53,905.877 1646.36,895.629 1667.67,884.062 1689.37,871.128 1711.31,856.787 1733.35,841.012 \n",
       "  1755.32,823.83 1776.96,805.247 1798,785.311 1818.16,764.113 1837.15,741.792 1854.66,718.528 1870.39,694.552 1884,670.136 1895.17,645.598 1903.55,621.305 \n",
       "  1908.84,597.679 1910.89,575.143 1909.55,554.057 1904.75,534.746 1896.5,517.497 1884.85,502.562 1869.94,490.159 1851.97,480.467 1831.2,473.631 1807.98,469.759 \n",
       "  1782.69,468.858 1755.82,470.622 1727.8,474.813 1699.05,481.192 1669.94,489.505 1640.83,499.48 1612.03,510.828 1583.84,523.246 1556.5,536.412 1530.23,550.063 \n",
       "  1505.15,564.067 1481.35,578.263 1458.9,592.513 1437.85,606.703 1418.21,620.742 1399.98,634.564 1383.14,648.124 1367.64,661.404 1353.43,674.398 1340.45,687.089 \n",
       "  1328.65,699.479 1317.96,711.573 1308.31,723.378 1299.65,734.902 1291.91,746.155 1285.02,757.149 1278.94,767.897 1273.59,778.41 1268.93,788.696 1264.9,798.763 \n",
       "  1261.46,808.621 1258.57,818.275 1256.19,827.73 1254.27,836.992 1252.79,846.063 1251.72,854.947 1251.03,863.647 1250.71,872.165 1250.74,880.503 1251.09,888.66 \n",
       "  1251.76,896.637 1252.73,904.432 1254,912.045 1255.55,919.475 1257.39,926.721 1259.52,933.782 1261.93,940.654 1264.64,947.334 1267.64,953.82 1270.95,960.106 \n",
       "  1274.57,966.188 1278.52,972.06 1282.8,977.717 1287.44,983.151 1292.45,988.355 1297.86,993.319 1303.67,998.031 1309.93,1002.48 1316.65,1006.65 1323.85,1010.53 \n",
       "  1331.57,1014.09 1339.85,1017.32 1348.71,1020.2 1358.19,1022.71 1368.33,1024.8 1379.17,1026.45 1390.75,1027.61 1403.1,1028.26 1416.27,1028.33 1430.31,1027.79 \n",
       "  1445.21,1026.59 1461.03,1024.66 1477.84,1021.93 1495.69,1018.3 1514.63,1013.69 1534.66,1008 1555.81,1001.14 1578.04,993.016 1601.33,983.521 1625.64,972.552 \n",
       "  1650.88,960.001 1676.97,945.759 1703.82,929.711 1731.29,911.783 1759.17,891.924 1787.19,870.037 1815.06,846.092 1842.42,820.127 1868.89,792.253 1894.03,762.652 \n",
       "  1917.37,731.576 1938.38,699.347 1956.5,666.357 1971.15,633.108 1981.88,600.288 1988.28,568.504 1990.05,538.323 1986.96,510.276 1978.93,484.859 1965.97,462.536 \n",
       "  1948.2,443.735 1925.85,428.85 1899.27,418.24 1868.9,412.212 1835.49,410.515 1799.78,412.741 1762.45,418.543 1724.12,427.528 1685.37,439.253 1646.76,453.23 \n",
       "  1608.77,468.92 1571.88,485.739 1536.43,503.202 1502.61,521.085 1470.57,539.112 1440.41,557.052 1412.19,574.718 1385.94,591.973 1361.63,608.725 1339.22,624.929 \n",
       "  1318.59,640.587 1299.64,655.71 1282.31,670.287 1266.49,684.351 1252.07,697.932 1238.93,711.062 1226.98,723.771 1216.12,736.087 1206.24,748.04 1197.26,759.656 \n",
       "  1189.1,770.963 1181.65,781.987 1174.84,792.748 1168.59,803.263 1162.83,813.547 1157.5,823.616 1152.55,833.479 1147.91,843.146 1143.52,852.626 1139.34,861.923 \n",
       "  1135.31,871.043 1131.4,879.989 1127.58,888.768 1123.8,897.38 1120.03,905.829 1116.25,914.117 1112.41,922.245 1108.49,930.212 1104.46,938.02 1100.28,945.666 \n",
       "  1095.94,953.153 1091.4,960.478 1086.64,967.639 1081.64,974.635 1076.37,981.463 1070.79,988.117 1064.88,994.593 1058.61,1000.88 1051.94,1006.99 1044.86,1012.89 \n",
       "  1037.32,1018.58 1029.3,1024.05 1020.76,1029.29 1011.67,1034.27 1001.98,1038.99 991.665,1043.4 980.678,1047.5 968.988,1051.24 956.552,1054.61 943.325,1057.55 \n",
       "  929.264,1060.02 914.333,1061.97 898.498,1063.34 881.731,1064.06 864.008,1064.05 845.307,1063.24 825.612,1061.54 804.921,1058.84 783.287,1055.09 760.701,1050.12 \n",
       "  737.176,1043.77 712.765,1035.89 687.563,1026.33 661.706,1014.96 635.369,1001.67 608.77,986.35 582.169,968.895 555.865,949.223 530.198,927.259 505.525,902.962 \n",
       "  482.194,876.435 460.75,847.787 441.719,817.195 425.581,784.923 412.769,751.319 403.671,716.818 398.629,681.941 397.939,647.293 401.85,613.566 410.534,581.539 \n",
       "  423.86,551.901 441.549,525.115 463.27,501.562 488.641,481.545 517.23,465.287 548.551,452.937 582.067,444.562 617.188,440.156 653.275,439.632 689.693,442.65 \n",
       "  725.943,448.666 761.59,457.258 796.269,468.02 829.684,480.563 861.607,494.51 891.882,509.499 920.42,525.186 947.166,541.289 972.093,557.643 995.233,574.086 \n",
       "  1016.63,590.48 1036.34,606.712 1054.43,622.697 1070.98,638.371 1086.08,653.697 1099.83,668.66 1112.34,683.239 1123.69,697.431 1133.99,711.239 1143.31,724.665 \n",
       "  1151.76,737.716 1159.4,750.399 1166.33,762.726 1172.6,774.709 1178.31,786.363 1183.52,797.699 1188.28,808.728 1192.64,819.459 1196.64,829.903 1200.34,840.068 \n",
       "  1203.78,849.964 1207.01,859.601 1210.06,868.987 1212.98,878.13 1215.81,887.039 1218.56,895.717 1221.26,904.17 1223.94,912.402 1226.61,920.417 1229.31,928.22 \n",
       "  1232.05,935.813 1234.87,943.201 1237.77,950.384 1240.79,957.366 1243.93,964.145 1247.22,970.723 1250.67,977.099 1254.32,983.271 1258.17,989.239 1262.26,995 \n",
       "  1266.6,1000.55 1271.22,1005.89 1276.14,1011 1281.38,1015.89 1286.97,1020.54 1292.95,1024.95 1299.33,1029.1 1306.15,1032.99 1313.45,1036.58 1321.25,1039.88 \n",
       "  1329.59,1042.86 1338.52,1045.5 1348.07,1047.77 1358.29,1049.64 1369.21,1051.09 1380.89,1052.06 1393.37,1052.52 1406.69,1052.43 1420.91,1051.72 1436.08,1050.35 \n",
       "  1452.23,1048.25 1469.39,1045.35 1487.64,1041.57 1507.02,1036.8 1527.59,1030.94 1549.35,1023.89 1572.3,1015.54 1596.43,1005.77 1621.69,994.467 1648.02,981.504 \n",
       "  1675.36,966.753 1703.59,950.084 1732.58,931.445 1762.11,910.701 1791.92,887.729 1821.7,862.483 1851.1,834.992 1879.68,805.364 1906.96,773.78 1932.42,740.498 \n",
       "  1955.46,705.852 1975.44,670.252 1991.74,634.245 2003.85,598.564 2011.25,563.898 2013.55,530.903 2010.48,500.204 2001.92,472.393 1987.87,448.033 1968.46,427.656 \n",
       "  1943.99,411.76 1914.84,400.816 1881.68,394.887 1845.35,393.574 1806.61,396.567 1766.19,403.484 1724.76,413.865 1682.99,427.178 1641.5,442.814 1600.87,460.087 \n",
       "  1561.63,478.331 1524.02,497.234 1488.25,516.446 1454.48,535.66 1422.81,554.628 1393.3,573.159 1365.93,591.124 1340.67,608.45 1317.39,625.127 1295.97,641.173 \n",
       "  1276.36,656.569 1258.44,671.351 1242.07,685.558 1227.14,699.231 1213.53,712.407 1201.13,725.123 1189.82,737.414 1179.51,749.314 1170.1,760.857 1161.48,772.073 \n",
       "  1153.55,782.991 1146.24,793.633 1139.45,804.017 1133.12,814.161 1127.18,824.078 1121.56,833.78 1116.2,843.276 1111.04,852.572 1106.01,861.674 1101.08,870.586 \n",
       "  1096.2,879.311 1091.32,887.851 1086.42,896.208 1081.46,904.381 1076.38,912.37 1071.15,920.172 1065.75,927.785 1060.12,935.204 1054.25,942.426 1048.11,949.446 \n",
       "  1041.65,956.257 1034.86,962.851 1027.69,969.217 1020.11,975.346 1012.1,981.223 1003.61,986.835 994.618,992.165 985.084,997.192 974.978,1001.9 964.266,1006.25 \n",
       "  952.915,1010.23 940.893,1013.79 928.169,1016.9 914.711,1019.51 900.491,1021.59 885.484,1023.07 869.685,1023.9 853.061,1024.02 835.589,1023.34 817.263,1021.78 \n",
       "  798.094,1019.26 778.109,1015.67 757.354,1010.92 735.888,1004.92 713.792,997.562 691.16,988.735 668.104,978.331 644.756,966.297 621.313,952.524 598.012,936.888 \n",
       "  575.112,919.315 552.893,899.784 531.66,878.325 511.739,855.023 493.479,830.011 477.251,803.479 463.449,775.664 452.487,746.861 444.68,717.49 440.277,688.023 \n",
       "  439.49,658.9 442.452,630.557 449.218,603.42 459.765,577.908 473.989,554.435 491.711,533.405 512.67,515.219 536.528,500.266 562.843,488.766 591.085,480.59 \n",
       "  620.764,475.661 651.423,473.852 682.628,474.982 713.978,478.816 745.098,485.063 775.642,493.381 805.292,503.372 833.814,514.724 861.073,527.209 886.96,540.57 \n",
       "  911.389,554.576 934.306,569.026 955.685,583.748 975.528,598.597 993.867,613.459 1010.76,628.246 1026.27,642.892 1040.45,657.341 1053.38,671.561 1065.12,685.526 \n",
       "  1075.75,699.217 1085.34,712.619 1093.97,725.722 1101.7,738.524 1108.6,751.024 1114.73,763.231 1120.17,775.15 1124.96,786.787 1129.17,798.149 1132.83,809.244 \n",
       "  1136.01,820.08 1138.73,830.663 1141.03,841.002 1142.97,851.105 1144.56,860.981 1145.83,870.635 1146.82,880.074 1147.53,889.305 1147.98,898.335 1148.2,907.17 \n",
       "  1148.21,915.815 1148,924.277 1147.6,932.561 1147.01,940.672 1146.23,948.615 1145.27,956.394 1144.13,964.014 1142.81,971.479 1141.32,978.792 1139.64,985.96 \n",
       "  1137.79,992.983 1135.74,999.866 1133.5,1006.61 1131.05,1013.22 1128.4,1019.7 1125.51,1026.05 1122.39,1032.27 1119.03,1038.37 1115.4,1044.33 1111.48,1050.18 \n",
       "  1107.27,1055.89 1102.74,1061.48 1097.87,1066.95 1092.63,1072.28 1087,1077.48 1080.95,1082.54 1074.46,1087.46 1067.48,1092.23 1059.99,1096.84 1051.95,1101.27 \n",
       "  1043.33,1105.53 1034.07,1109.58 1024.13,1113.43 1013.46,1117.04 1002.03,1120.38 989.766,1123.43 976.632,1126.13 962.572,1128.46 947.531,1130.34 931.454,1131.74 \n",
       "  914.285,1132.58 895.995,1132.81 876.551,1132.32 855.863,1131.02 833.871,1128.78 810.541,1125.47 785.867,1120.94 759.873,1115.03 732.61,1107.57 704.157,1098.37 \n",
       "  674.621,1087.25 644.138,1073.99 612.871,1058.37 581.028,1040.3 548.943,1019.53 517.023,995.786 485.725,968.91 455.555,938.849 427.07,905.663 400.875,869.524 \n",
       "  377.625,830.717 358.022,789.638 342.821,746.796 332.741,702.851 328.193,658.722 329.557,615.301 337.054,573.449 350.73,533.995 370.454,497.745 395.923,465.474 \n",
       "  426.658,437.934 462.005,415.844 501.107,399.525 543.014,388.748 586.848,383.302 631.794,382.86 677.103,386.979 722.09,395.097 766.135,406.539 808.682,420.514 \n",
       "  849.354,436.409 887.956,453.774 924.335,472.134 958.394,491.082 990.089,510.28 1019.43,529.455 1046.49,548.404 1071.4,566.99 1094.25,585.102 1115.15,602.677 \n",
       "  1134.26,619.689 1151.7,636.121 1167.61,651.963 1182.12,667.215 1195.36,681.883 1207.45,695.983 1218.52,709.54 1228.67,722.581 1238.02,735.128 1246.67,747.203 \n",
       "  1254.71,758.825 1262.23,770.012 1269.32,780.781 1276.04,791.149 1282.48,801.127 1288.71,810.731 1294.78,819.968 1300.76,828.844 1306.68,837.366 1312.61,845.536 \n",
       "  1318.58,853.356 1324.65,860.829 1330.87,867.954 1337.26,874.729 1343.88,881.15 1350.76,887.21 1357.93,892.899 1365.43,898.206 1373.28,903.118 1381.53,907.621 \n",
       "  1390.2,911.698 1399.34,915.332 1408.96,918.501 1419.11,921.181 1429.81,923.344 1441.08,924.956 1452.96,925.983 1465.46,926.389 1478.61,926.132 1492.42,925.171 \n",
       "  1506.9,923.459 1522.07,920.949 1537.92,917.597 1554.44,913.353 1571.63,908.144 1589.47,901.903 1607.92,894.572 1626.94,886.099 1646.44,876.442 1666.34,865.565 \n",
       "  1686.51,853.442 1706.83,840.052 1727.15,825.385 1747.29,809.44 1767.1,792.273 1786.31,773.946 1804.65,754.548 1821.84,734.204 1837.6,713.077 1851.68,691.366 \n",
       "  1863.8,669.306 1873.71,647.17 1881.16,625.267 1885.88,603.941 1887.65,583.574 1886.38,564.521 1882.04,547.075 1874.63,531.485 1864.22,517.962 1850.94,506.676 \n",
       "  1834.95,497.757 1816.46,491.297 1795.76,487.346 1773.16,485.914 1749.05,486.967 1723.81,490.266 1697.81,495.553 1671.41,502.603 1644.92,511.189 1618.63,521.082 \n",
       "  1592.77,532.052 1567.59,543.866 1543.26,556.288 1519.93,569.085 1497.74,582.124 1476.73,595.305 1456.95,608.523 1438.43,621.692 1421.17,634.74 1405.19,647.611 \n",
       "  1390.45,660.268 1376.92,672.688 1364.56,684.865 1353.32,696.793 1343.14,708.464 1333.97,719.88 1325.76,731.045 1318.46,741.964 1312,752.641 1306.34,763.082 \n",
       "  1301.44,773.294 1297.24,783.282 1293.7,793.055 1290.78,802.616 1288.44,811.967 1286.65,821.114 1285.37,830.059 1284.6,838.804 1284.29,847.349 1284.43,855.694 \n",
       "  1285,863.839 1285.99,871.78 1287.37,879.514 1289.14,887.04 1291.29,894.355 1293.84,901.455 1296.77,908.337 1300.1,914.994 1303.81,921.42 1307.93,927.607 \n",
       "  1312.45,933.546 1317.39,939.226 1322.76,944.636 1328.58,949.766 1334.87,954.602 1341.65,959.13 1348.93,963.333 1356.75,967.19 1365.13,970.681 1374.1,973.779 \n",
       "  1383.68,976.457 1393.9,978.688 1404.79,980.437 1416.38,981.671 1428.71,982.346 1441.82,982.416 1455.73,981.831 1470.49,980.536 1486.1,978.472 1502.58,975.573 \n",
       "  1519.95,971.773 1538.22,966.998 1557.37,961.172 1577.42,954.212 1598.31,946.065 1620,936.66 1642.45,925.863 1665.59,913.565 1689.34,899.685 1713.56,884.167 \n",
       "  1738.05,866.985 1762.62,848.138 1787.01,827.653 1810.93,805.584 1834.04,782.013 1855.99,757.047 1876.41,730.842 1894.97,703.699 1911.18,675.963 1924.59,648.001 \n",
       "  1934.83,620.2 1941.56,592.972 1944.54,566.754 1943.58,542.002 1938.56,519.197 1929.4,498.844 1916.12,481.463 1898.92,467.349 1878.18,456.587 1854.31,449.229 \n",
       "  1827.71,445.255 1798.83,444.571 1768.12,447.012 1736.07,452.343 1703.18,460.253 1669.96,470.362 1636.94,482.229 1604.48,495.487 1572.86,509.797 1542.35,524.85 \n",
       "  1513.14,540.375 1485.4,556.14 1459.22,571.953 1434.66,587.661 1411.73,603.148 1390.4,618.337 1370.66,633.179 1352.47,647.652 1335.75,661.743 1320.44,675.446 \n",
       "  1306.46,688.762 1293.75,701.698 1282.22,714.271 1271.78,726.503 1262.37,738.417 1253.89,750.031 1246.27,761.361 1239.44,772.426 1233.33,783.24 1227.87,793.819 \n",
       "  1223.01,804.174 1218.69,814.317 1214.86,824.258 1211.45,834.004 1208.44,843.563 1205.79,852.942 1203.45,862.146 1201.41,871.182 1199.62,880.052 1198.07,888.761 \n",
       "  1196.71,897.311 1195.53,905.704 1194.51,913.942 1193.63,922.029 1192.88,929.966 1192.25,937.756 1191.72,945.402 1191.28,952.905 1190.92,960.266 1190.63,967.488 \n",
       "  1190.42,974.573 1190.26,981.521 1190.15,988.337 1190.1,995.02 1190.1,1001.57 1190.13,1008 1190.21,1014.3 1190.33,1020.47 1190.49,1026.53 1190.68,1032.46 \n",
       "  1190.9,1038.27 1191.17,1043.97 1191.47,1049.55 1191.8,1055.01 1192.17,1060.37 1192.58,1065.61 1193.03,1070.74 1193.52,1075.77 1194.06,1080.69 1194.64,1085.51 \n",
       "  1195.27,1090.22 1195.95,1094.84 1196.69,1099.35 1197.49,1103.76 1198.35,1108.08 1199.28,1112.29 1200.28,1116.41 1201.36,1120.44 1202.53,1124.37 1203.79,1128.2 \n",
       "  1205.15,1131.94 1206.62,1135.59 1208.2,1139.14 1209.91,1142.59 1211.76,1145.95 1213.75,1149.21 1215.9,1152.38 1218.22,1155.44 1220.73,1158.4 1223.44,1161.26 \n",
       "  1226.37,1164.02 1229.54,1166.66 1232.96,1169.19 1236.67,1171.6 1240.67,1173.89 1244.99,1176.05 1249.67,1178.07 1254.74,1179.94 1260.21,1181.65 1266.14,1183.2 \n",
       "  1272.56,1184.56 1279.5,1185.72 1287.01,1186.67 1295.13,1187.38 1303.92,1187.83 1313.42,1187.99 1323.71,1187.84 1334.84,1187.33 1346.88,1186.42 1359.89,1185.06 \n",
       "  1373.95,1183.19 1389.14,1180.75 1405.52,1177.66 1423.19,1173.85 1442.18,1169.24 1462.6,1163.71 1484.56,1157.13 1508.17,1149.37 1533.5,1140.25 1560.61,1129.61 \n",
       "  1589.51,1117.27 1620.2,1103.02 1652.65,1086.65 1686.8,1067.94 1722.55,1046.65 1759.79,1022.57 1798.22,995.57 1837.57,965.316 1877.4,931.582 1917.2,894.291 \n",
       "  1956.31,853.515 1993.98,809.475 2029.32,762.537 2061.32,713.218 2088.87,662.182 2110.84,610.288 2126.33,558.8 2134.4,509.03 2134.32,462.225 2125.7,419.564 \n",
       "  2108.39,382.166 2082.56,351.082 2048.64,327.303 2007.38,311.68 1960.08,304.032 1908.08,303.839 1852.7,310.494 1795.15,323.208 1736.64,341.009 1678.31,362.745 \n",
       "  1621.26,387.08 1566.37,412.768 1514.04,439.165 1464.6,465.581 1418.29,491.458 1375.23,516.375 1335.44,540.049 1298.83,562.336 1265.2,583.229 1234.38,602.73 \n",
       "  1206.25,620.876 1180.59,637.769 1157.21,653.508 1135.91,668.19 1116.51,681.91 1098.84,694.761 1082.7,706.831 1067.96,718.208 1054.42,728.973 1041.95,739.188 \n",
       "  1030.42,748.908 1019.7,758.181 1009.68,767.046 1000.24,775.534 991.277,783.67 982.698,791.471 974.417,798.95 966.365,806.116 958.477,812.973 950.692,819.523 \n",
       "  942.954,825.764 935.206,831.694 927.399,837.305 919.485,842.588 911.42,847.531 903.176,852.121 894.728,856.343 886.051,860.178 877.126,863.609 867.936,866.615 \n",
       "  858.468,869.175 848.711,871.266 838.659,872.866 828.311,873.95 817.675,874.495 806.762,874.469 795.588,873.841 784.177,872.585 772.559,870.675 760.77,868.087 \n",
       "  748.855,864.801 736.862,860.796 724.849,856.057 712.877,850.571 701.01,844.341 689.338,837.361 677.961,829.629 666.978,821.156 656.49,811.967 646.597,802.099 \n",
       "  637.4,791.603 629.001,780.544 621.503,768.997 615.007,757.054 609.617,744.817 605.436,732.403 602.526,719.936 600.945,707.546 600.743,695.368 601.951,683.527 \n",
       "  604.58,672.149 608.62,661.352 614.04,651.25 620.79,641.955 628.801,633.572 637.98,626.203 648.217,619.945 659.396,614.83 671.382,610.861 684.039,608.046 \n",
       "  697.23,606.376 710.824,605.832 724.693,606.378 738.711,607.968 752.756,610.54 766.71,614.02 780.456,618.321 793.883,623.344 806.916,629.027 819.49,635.297 \n",
       "  831.547,642.078 843.037,649.298 853.918,656.889 864.154,664.787 873.72,672.934 882.596,681.275 890.773,689.759 898.248,698.339 905.025,706.975 911.105,715.632 \n",
       "  916.493,724.28 921.202,732.894 925.242,741.447 928.627,749.917 931.368,758.282 933.477,766.523 934.966,774.621 935.848,782.562 936.133,790.33 935.835,797.915 \n",
       "  934.967,805.303 933.544,812.481 931.571,819.435 929.054,826.155 925.996,832.627 922.402,838.839 918.279,844.774 913.63,850.419 908.461,855.758 902.778,860.773 \n",
       "  896.585,865.446 889.89,869.76 882.696,873.694 875.012,877.229 866.845,880.345 858.197,883.015 849.07,885.211 839.471,886.903 829.413,888.063 818.913,888.662 \n",
       "  807.996,888.67 796.69,888.056 785.027,886.79 773.048,884.842 760.795,882.181 748.319,878.776 735.67,874.606 722.908,869.668 710.117,863.923 697.384,857.341 \n",
       "  684.805,849.907 672.477,841.621 660.505,832.495 648.998,822.556 638.068,811.843 627.834,800.41 618.419,788.326 609.952,775.673 602.566,762.544 596.398,749.051 \n",
       "  591.559,735.33 588.115,721.541 586.138,707.824 585.685,694.318 586.787,681.158 589.46,668.478 593.695,656.406 599.465,645.072 606.723,634.6 615.4,625.114 \n",
       "  625.408,616.733 636.636,609.576 648.955,603.756 662.206,599.282 676.215,596.113 690.818,594.234 705.858,593.615 721.187,594.216 736.661,595.981 752.146,598.842 \n",
       "  767.515,602.719 782.645,607.517 797.423,613.129 811.744,619.435 825.518,626.336 838.694,633.778 851.226,641.679 863.077,649.963 874.216,658.557 884.618,667.396 \n",
       "  894.267,676.422 903.153,685.58 911.271,694.823 918.625,704.108 925.227,713.399 931.093,722.665 936.237,731.878 940.671,741.014 944.411,750.053 947.477,758.976 \n",
       "  949.884,767.765 951.649,776.405 952.787,784.881 953.311,793.177 953.236,801.282 952.573,809.184 951.335,816.872 949.531,824.337 947.175,831.569 944.284,838.553 \n",
       "  940.859,845.279 936.896,851.736 932.395,857.912 927.353,863.792 921.773,869.363 915.655,874.606 909.001,879.504 901.815,884.037 894.1,888.183 885.862,891.919 \n",
       "  877.107,895.221 867.841,898.062 858.072,900.416 847.811,902.254 837.064,903.552 825.836,904.267 814.139,904.361 801.993,903.795 789.428,902.531 776.479,900.532 \n",
       "  763.192,897.765 749.622,894.196 735.83,889.792 721.887,884.523 707.872,878.359 693.87,871.274 679.943,863.285 666.221,854.382 652.848,844.552 639.972,833.802 \n",
       "  627.732,822.157 616.268,809.663 605.715,796.384 596.206,782.403 587.871,767.825 580.835,752.77 575.223,737.381 571.155,721.818 568.748,706.263 568.117,690.914 \n",
       "  569.332,675.987 572.364,661.673 577.179,648.13 583.724,635.5 591.932,623.912 601.715,613.481 612.968,604.305 625.567,596.471 639.373,590.047 654.226,585.091 \n",
       "  669.95,581.643 686.349,579.729 703.217,579.322 720.366,580.282 737.621,582.517 754.82,585.936 771.82,590.444 788.491,595.939 804.718,602.321 820.404,609.481 \n",
       "  835.466,617.309 849.835,625.692 863.459,634.51 876.299,643.655 888.32,653.088 899.514,662.746 909.879,672.57 919.416,682.505 928.129,692.501 936.026,702.516 \n",
       "  943.118,712.51 949.418,722.451 954.946,732.313 959.722,742.075 963.771,751.719 967.115,761.226 969.778,770.582 971.778,779.774 973.135,788.79 973.865,797.621 \n",
       "  973.985,806.255 973.51,814.682 972.452,822.893 970.824,830.879 968.636,838.63 965.898,846.139 962.618,853.398 958.811,860.393 954.476,867.114 949.607,873.55 \n",
       "  944.196,879.69 938.239,885.52 931.732,891.024 924.671,896.185 917.055,900.982 908.884,905.393 900.157,909.395 890.877,912.96 881.045,916.061 870.665,918.669 \n",
       "  859.743,920.749 848.285,922.271 836.298,923.204 823.786,923.5 810.759,923.111 797.238,921.99 783.254,920.093 768.85,917.374 754.077,913.793 738.997,909.306 \n",
       "  723.683,903.875 708.218,897.46 692.695,890.025 677.207,881.542 661.838,872.034 646.753,861.476 632.128,849.857 618.134,837.189 604.938,823.51 592.704,808.881 \n",
       "  581.594,793.387 571.762,777.139 563.362,760.269 556.542,742.937 551.448,725.325 548.221,707.639 547,690.11 547.905,672.994 550.934,656.543 556.039,640.956 \n",
       "  563.161,626.408 572.219,613.057 583.11,601.043 595.71,590.485 609.872,581.486 625.43,574.128 642.194,568.475 659.953,564.575 678.475,562.453 697.513,562.071 \n",
       "  716.844,563.259 736.261,565.9 755.578,569.877 774.628,575.071 793.263,581.358 811.356,588.613 828.798,596.703 845.5,605.496 861.394,614.855 876.429,624.637 \n",
       "  890.562,634.75 903.771,645.142 916.055,655.74 927.414,666.478 937.857,677.297 947.394,688.147 956.039,698.982 963.812,709.764 970.734,720.463 976.834,731.056 \n",
       "  982.141,741.525 986.688,751.851 990.501,762.018 993.608,772.017 996.035,781.836 997.805,791.468 998.94,800.903 999.46,810.133 999.383,819.152 998.727,827.954 \n",
       "  997.506,836.533 995.733,844.884 993.424,853.002 990.593,860.877 987.237,868.503 983.35,875.876 978.93,882.988 973.972,889.83 968.472,896.389 962.426,902.654 \n",
       "  955.829,908.609 948.678,914.237 940.967,919.52 932.694,924.437 923.852,928.966 914.439,933.084 904.449,936.763 893.869,939.976 882.685,942.687 870.886,944.86 \n",
       "  858.468,946.453 845.436,947.422 831.799,947.722 817.574,947.304 802.782,946.116 787.454,944.105 771.626,941.212 755.34,937.381 738.66,932.61 721.661,926.828 \n",
       "  704.426,919.936 687.056,911.855 669.665,902.53 652.384,891.928 635.361,880.036 618.757,866.865 602.752,852.45 587.539,836.844 573.329,820.125 560.346,802.392 \n",
       "  548.832,783.768 539.045,764.396 531.186,744.474 525.375,724.266 521.775,704.014 520.506,683.958 521.651,664.339 525.25,645.397 531.303,627.371 539.77,610.502 \n",
       "  550.569,595.028 563.576,581.189 578.63,569.223 595.52,559.348 613.969,551.559 633.686,545.84 654.399,542.171 675.844,540.506 697.771,540.768 719.94,542.852 \n",
       "  742.122,546.623 764.101,551.92 785.671,558.551 806.637,566.296 826.838,574.956 846.193,584.436 864.633,594.592 882.098,605.289 898.544,616.407 913.942,627.837 \n",
       "  928.272,639.483 941.534,651.263 953.737,663.107 964.905,674.959 975.078,686.773 984.292,698.515 992.569,710.148 999.95,721.653 1006.47,733.009 1012.18,744.202 \n",
       "  1017.1,755.217 1021.28,766.043 1024.75,776.67 1027.53,787.09 1029.67,797.3 1031.17,807.298 1032.08,817.082 1032.42,826.649 1032.21,835.998 1031.46,845.128 \n",
       "  1030.18,854.037 1028.39,862.722 1026.09,871.182 1023.29,879.412 1020,887.409 1016.2,895.168 1011.92,902.684 1007.14,909.95 1001.87,916.96 996.099,923.703 \n",
       "  989.806,930.171 982.98,936.351 975.606,942.23 967.67,947.792 959.155,953.017 950.048,957.884 940.333,962.368 929.993,966.441 919.014,970.075 907.38,973.237 \n",
       "  895.094,975.896 882.132,978.006 868.468,979.515 854.088,980.369 838.988,980.51 823.177,979.878 806.674,978.409 789.507,976.036 771.718,972.69 753.358,968.296 \n",
       "  734.489,962.78 715.186,956.062 695.53,948.067 675.623,938.781 655.617,928.106 635.687,915.949 616.023,902.25 596.83,886.988 578.33,870.177 560.756,851.87 \n",
       "  544.359,832.155 529.404,811.157 516.172,789.038 504.957,765.995 496.07,742.265 489.779,718.167 486.228,694.09 485.54,670.352 487.791,647.265 493.008,625.128 \n",
       "  501.169,604.232 512.207,584.86 526.003,567.282 542.391,551.761 561.158,538.549 582.039,527.89 604.717,519.978 628.768,514.679 653.81,511.874 679.495,511.45 \n",
       "  705.505,513.265 731.542,517.149 757.34,522.907 782.656,530.313 807.274,539.114 831.005,549.03 853.696,559.815 875.266,571.353 895.66,583.48 914.84,596.047 \n",
       "  932.78,608.92 949.47,621.986 964.916,635.146 979.138,648.32 992.171,661.445 1004.07,674.476 1014.88,687.376 1024.64,700.109 1033.42,712.658 1041.26,725.006 \n",
       "  1048.22,737.141 1054.35,749.053 1059.69,760.734 1064.3,772.18 1068.21,783.39 1071.47,794.364 1074.12,805.105 1076.19,815.617 1077.73,825.902 1078.74,835.962 \n",
       "  1079.27,845.801 1079.32,855.421 1078.91,864.826 1078.07,874.018 1076.8,882.999 1075.12,891.772 1073.04,900.339 1070.57,908.702 1067.7,916.861 1064.43,924.816 \n",
       "  1060.76,932.566 1056.68,940.111 1052.18,947.447 1047.25,954.571 1041.88,961.478 1036.05,968.163 1029.75,974.618 1022.95,980.835 1015.65,986.801 1007.82,992.507 \n",
       "  999.415,997.937 990.425,1003.08 980.817,1007.9 970.564,1012.39 959.637,1016.51 948.008,1020.23 935.647,1023.51 922.527,1026.33 908.619,1028.62 893.931,1030.36 \n",
       "  878.422,1031.48 862.047,1031.91 844.776,1031.56 826.597,1030.36 807.516,1028.22 787.556,1025.05 766.757,1020.75 745.177,1015.21 722.892,1008.33 699.994,1000.01 \n",
       "  676.594,990.121 652.82,978.549 628.81,965.24 604.787,950.107 581.028,933.018 557.827,913.902 535.498,892.75 514.371,869.612 494.794,844.6 477.135,817.884 \n",
       "  461.777,789.698 449.123,760.334 439.591,730.146 433.56,699.574 431.216,669.159 432.73,639.397 438.192,610.759 447.609,583.693 460.902,558.629 477.908,535.973 \n",
       "  498.379,516.11 521.983,499.404 548.302,486.196 576.83,476.604 607.022,470.436 638.371,467.559 670.407,467.791 702.695,470.899 734.841,476.603 766.486,484.575 \n",
       "  797.308,494.437 827.024,505.768 855.444,518.289 882.458,531.767 907.98,545.956 931.954,560.639 954.348,575.629 975.157,590.77 994.404,605.933 1012.14,621.022 \n",
       "  1028.44,635.968 1043.35,650.708 1056.96,665.205 1069.33,679.432 1080.56,693.37 1090.71,707.004 1099.86,720.325 1108.08,733.328 1115.45,746.017 1122.03,758.398 \n",
       "  1127.9,770.478 1133.12,782.265 1137.74,793.765 1141.81,804.988 1145.39,815.941 1148.52,826.632 1151.23,837.071 1153.59,847.266 1155.61,857.226 1157.33,866.958 \n",
       "  1158.78,876.47 1159.98,885.767 1160.94,894.858 1161.7,903.747 1162.27,912.443 1162.66,920.951 1162.89,929.277 1162.98,937.426 1162.92,945.404 1162.72,953.216 \n",
       "  1162.4,960.865 1161.96,968.357 1161.4,975.697 1160.72,982.888 1159.93,989.936 1159.03,996.843 1158.01,1003.61 1156.87,1010.25 1155.61,1016.76 1154.22,1023.14 \n",
       "  1152.7,1029.4 1151.05,1035.54 1149.26,1041.56 1147.32,1047.47 1145.22,1053.27 1142.96,1058.96 1140.51,1064.54 1137.87,1070.02 1135.03,1075.39 1131.96,1080.66 \n",
       "  1128.67,1085.83 1125.12,1090.91 1121.3,1095.88 1117.19,1100.75 1112.77,1105.53 1108.01,1110.21 1102.89,1114.78 1097.37,1119.24 1091.44,1123.6 1085.06,1127.84 \n",
       "  1078.18,1131.96 1070.79,1135.95 1062.83,1139.79 1054.27,1143.49 1045.06,1147.02 1035.14,1150.38 1024.48,1153.52 1013,1156.44 1000.67,1159.09 987.415,1161.43 \n",
       "  973.18,1163.42 957.901,1165.02 941.512,1166.16 923.984,1166.78 905.248,1166.81 885.204,1166.14 863.773,1164.67 840.901,1162.27 816.555,1158.81 790.725,1154.11 \n",
       "  763.424,1148 734.688,1140.29 704.576,1130.76 673.168,1119.19 640.57,1105.34 606.981,1089.08 572.658,1070.07 537.919,1047.94 503.168,1022.46 468.887,993.469 \n",
       "  435.645,960.923 404.091,924.875 374.956,885.48 349.054,842.992 327.283,797.769 310.465,750.456 299.27,702.025 294.291,653.398 295.938,605.506 304.44,559.287 \n",
       "  319.844,515.688 342.013,475.663 370.629,440.175 405.194,410.195 444.998,386.645 488.865,369.621 535.671,358.913 584.416,354.247 634.173,355.201 684.09,361.203 \n",
       "  733.388,371.533 781.359,385.326 827.383,401.596 871.134,419.74 912.438,439.219 951.163,459.507 987.237,480.161 1020.65,500.821 1051.45,521.21 1079.75,541.136 \n",
       "  1105.71,560.487 1129.5,579.181 1151.22,597.152 1171.05,614.403 1189.13,630.941 1205.64,646.775 1220.7,661.92 1234.48,676.394 1247.1,690.22 1258.68,703.423 \n",
       "  1269.36,716.035 1279.26,728.092 1288.48,739.622 1297.12,750.648 1305.28,761.191 1313.04,771.269 1320.49,780.898 1327.69,790.093 1334.73,798.864 1341.68,807.223 \n",
       "  1348.59,815.173 1355.51,822.718 1362.49,829.858 1369.58,836.589 1376.82,842.91 1384.26,848.815 1391.94,854.299 1399.9,859.354 1408.18,863.971 1416.81,868.133 \n",
       "  1425.81,871.823 1435.22,875.022 1445.06,877.708 1455.35,879.858 1466.12,881.447 1477.38,882.448 1489.15,882.833 1501.45,882.572 1514.27,881.636 1527.63,879.982 \n",
       "  1541.52,877.568 1555.93,874.353 1570.85,870.3 1586.25,865.373 1602.08,859.54 1618.3,852.769 1634.84,845.032 1651.65,836.304 1668.63,826.573 1685.7,815.847 \n",
       "  1702.71,804.111 1719.52,791.372 1735.98,777.66 1751.92,763.03 1767.17,747.56 1781.55,731.351 1794.86,714.53 1806.9,697.247 1817.47,679.675 1826.36,662.011 \n",
       "  1833.33,644.476 1838.26,627.312 1841.02,610.759 1841.49,595.045 1839.62,580.377 1835.37,566.949 1828.75,554.934 1819.83,544.489 1808.69,535.756 1795.48,528.857 \n",
       "  1780.38,523.897 1763.6,520.92 1745.41,519.809 1726.07,520.479 1705.83,522.834 1684.96,526.759 1663.67,532.122 1642.21,538.772 1620.79,546.542 1599.63,555.246 \n",
       "  1578.91,564.679 1558.81,574.665 1539.44,585.117 1520.88,595.92 1503.21,606.965 1486.49,618.158 1470.76,629.418 1456.06,640.677 1442.39,651.881 1429.75,662.988 \n",
       "  1418.12,673.97 1407.48,684.809 1397.81,695.481 1389.07,705.974 1381.25,716.278 1374.29,726.386 1368.16,736.291 1362.83,745.99 1358.27,755.479 1354.45,764.755 \n",
       "  1351.33,773.818 1348.89,782.669 1347.09,791.305 1345.9,799.722 1345.31,807.918 1345.29,815.89 1345.83,823.635 1346.92,831.148 1348.54,838.422 1350.68,845.451 \n",
       "  1353.33,852.226 1356.49,858.738 1360.15,864.976 1364.3,870.928 1368.96,876.584 1374.13,881.931 1379.81,886.957 1386.03,891.645 1392.79,895.978 1400.09,899.935 \n",
       "  1407.95,903.494 1416.39,906.631 1425.41,909.318 1435.04,911.529 1445.27,913.233 1456.12,914.399 1467.62,914.99 1479.79,914.964 1492.63,914.281 1506.15,912.896 \n",
       "  1520.35,910.764 1535.23,907.838 1550.76,904.069 1566.94,899.406 1583.73,893.797 1601.1,887.187 1619,879.556 1637.36,870.861 1656.11,861.026 1675.16,850 \n",
       "  1694.4,837.753 1713.69,824.282 1732.88,809.603 1751.79,793.758 1770.21,776.812 1787.93,758.854 1804.7,739.995 1820.25,720.37 1834.3,700.138 1846.63,679.52 \n",
       "  1856.99,658.797 1865.12,638.24 1870.8,618.116 1873.85,598.693 1874.14,580.234 1871.6,563.001 1866.19,547.256 1857.94,533.256 1846.9,521.258 1833.2,511.517 \n",
       "  1817.01,504.183 1798.65,499.179 1778.43,496.477 1756.64,496.015 1733.59,497.697 1709.58,501.39 1684.93,506.927 1659.92,514.105 1634.87,522.686 1610.06,532.397 \n",
       "  1585.79,542.966 1562.21,554.262 1539.45,566.111 1517.65,578.354 1496.9,590.848 1477.28,603.474 1458.85,616.129 1441.63,628.73 1425.62,641.216 1410.81,653.544 \n",
       "  1397.14,665.691 1384.6,677.637 1373.17,689.361 1362.79,700.858 1353.42,712.122 1345,723.153 1337.5,733.948 1330.87,744.509 1325.06,754.838 1320.03,764.94 \n",
       "  1315.73,774.821 1312.13,784.486 1309.18,793.937 1306.84,803.175 1305.09,812.204 1303.89,821.024 1303.23,829.636 1303.08,838.04 1303.41,846.234 1304.22,854.216 \n",
       "  1305.48,861.982 1307.18,869.528 1309.31,876.848 1311.87,883.94 1314.87,890.798 1318.29,897.417 1322.16,903.79 1326.46,909.906 1331.22,915.757 1336.43,921.328 \n",
       "  1342.11,926.608 1348.27,931.581 1354.93,936.23 1362.1,940.54 1369.81,944.493 1378.08,948.066 1386.94,951.237 1396.4,953.979 1406.5,956.259 1417.25,958.046 \n",
       "  1428.69,959.303 1440.84,959.99 1453.72,960.065 1467.34,959.495 1481.71,958.222 1496.9,956.181 1512.92,953.304 1529.78,949.527 1547.48,944.782 1566.01,939.003 \n",
       "  1585.33,932.123 1605.41,924.075 1626.18,914.791 1647.57,904.205 1669.5,892.248 1691.87,878.853 1714.55,864.017 1737.37,847.701 1760.11,829.869 1782.51,810.533 \n",
       "  1804.33,789.75 1825.28,767.623 1845.06,744.303 1863.34,719.988 1879.77,694.92 1893.98,669.389 1905.59,643.733 1914.21,618.361 1919.6,593.773 1921.58,570.36 \n",
       "  1920.01,548.475 1914.85,528.441 1906.08,510.551 1893.79,495.068 1878.1,482.227 1859.22,472.23 1837.41,465.253 1812.99,461.438 1786.4,460.804 1758.17,462.968 \n",
       "  1728.8,467.666 1698.72,474.637 1668.32,483.606 1637.98,494.28 1608.02,506.352 1578.75,519.497 1550.43,533.376 1523.27,547.666 1497.4,562.243 1472.91,576.962 \n",
       "  1449.85,591.687 1428.25,606.305 1408.13,620.726 1389.48,634.886 1372.27,648.74 1356.46,662.271 1341.98,675.483 1328.75,688.375 1316.73,700.94 1305.83,713.191 \n",
       "  1295.99,725.139 1287.14,736.796 1279.21,748.175 1272.13,759.287 1265.84,770.145 1260.29,780.762 1255.42,791.15 1251.16,801.32 1247.47,811.28 1244.31,821.038 \n",
       "  1241.63,830.6 1239.4,839.973 1237.58,849.161 1236.14,858.167 1235.05,866.996 1234.29,875.648 1233.83,884.126 1233.66,892.433 1233.76,900.569 1234.12,908.537 \n",
       "  1234.73,916.336 1235.58,923.967 1236.66,931.43 1237.98,938.723 1239.51,945.846 1241.28,952.798 1243.27,959.58 1245.49,966.189 1247.96,972.624 1250.67,978.882 \n",
       "  1253.63,984.961 1256.86,990.857 1260.36,996.566 1264.14,1002.08 1268.24,1007.4 1272.65,1012.52 1277.41,1017.43 1282.52,1022.13 1288.03,1026.59 1293.94,1030.82 \n",
       "  1300.29,1034.8 1307.11,1038.51 1314.42,1041.94 1322.25,1045.08 1330.66,1047.9 1339.66,1050.37 1349.31,1052.48 1359.65,1054.2 1370.72,1055.47 1382.56,1056.28 \n",
       "  1395.22,1056.56 1408.76,1056.28 1423.2,1055.37 1438.62,1053.79 1455.02,1051.47 1472.44,1048.35 1490.97,1044.32 1510.67,1039.27 1531.59,1033.11 1553.73,1025.72 \n",
       "  1577.1,1016.98 1601.67,1006.8 1627.39,995.029 1654.19,981.563 1681.97,966.271 1710.63,949.025 1740.01,929.696 1769.93,908.257 1800.09,884.605 1830.14,858.665 \n",
       "  1859.7,830.451 1888.3,800.067 1915.48,767.708 1940.69,733.658 1963.35,698.291 1982.84,662.07 1998.48,625.551 2009.66,589.409 2015.95,554.442 2016.98,521.38 \n",
       "  2012.49,490.891 2002.37,463.579 1986.67,439.991 1965.59,420.608 1939.47,405.852 1908.82,396.084 1874.3,391.42 1836.76,391.4 1796.99,395.642 1755.73,403.716 \n",
       "  1713.69,415.128 1671.51,429.322 1629.8,445.68 1589.11,463.523 1549.92,482.206 1512.46,501.426 1476.92,520.845 1443.44,540.173 1412.1,559.179 1382.94,577.69 \n",
       "  1355.94,595.595 1331.02,612.842 1308.07,629.435 1287.01,645.36 1267.74,660.635 1250.13,675.295 1234.05,689.38 1219.4,702.925 1206.04,715.97 1193.87,728.554 \n",
       "  1182.78,740.716 1172.66,752.496 1163.39,763.928 1154.88,775.04 1147.04,785.856 1139.8,796.4 1133.06,806.689 1126.75,816.74 1120.8,826.566 1115.14,836.176 \n",
       "  1109.71,845.579 1104.45,854.782 1099.31,863.789 1094.26,872.604 1089.23,881.23 1084.2,889.669 1079.11,897.921 1073.93,905.984 1068.61,913.857 1063.11,921.536 \n",
       "  1057.42,929.02 1051.49,936.302 1045.3,943.379 1038.8,950.243 1031.97,956.885 1024.78,963.296 1017.18,969.464 1009.15,975.378 1000.65,981.021 991.66,986.379 \n",
       "  982.134,991.43 972.046,996.152 961.362,1000.52 950.05,1004.5 938.078,1008.06 925.413,1011.17 912.026,1013.78 897.9,1015.85 883.004,1017.32 867.307,1018.14 \n",
       "  850.794,1018.23 833.458,1017.52 815.303,1015.94 796.348,1013.4 776.62,1009.81 756.158,1005.08 735.015,999.1 713.256,991.788 690.986,983.085 668.328,972.838 \n",
       "  645.432,960.912 622.477,947.207 599.675,931.659 577.267,914.24 555.527,894.957 534.759,873.852 515.296,851.005 497.504,826.529 481.78,800.575 468.44,773.392 \n",
       "  457.82,745.331 450.271,716.751 446.068,688.034 445.411,659.579 448.428,631.811 455.169,605.171 465.613,580.123 479.659,557.151 497.136,536.762 517.752,519.323 \n",
       "  541.081,504.945 566.7,493.731 594.183,485.712 623.108,480.853 653.051,479.044 683.587,480.11 714.294,483.802 744.747,489.804 774.577,497.776 803.571,507.45 \n",
       "  831.525,518.527 858.269,530.73 883.67,543.81 907.636,557.544 930.108,571.734 951.068,586.209 970.535,600.824 988.566,615.459 1005.2,630.029 1020.46,644.477 \n",
       "  1034.42,658.757 1047.14,672.829 1058.7,686.661 1069.16,700.229 1078.58,713.518 1087.04,726.518 1094.61,739.229 1101.34,751.655 1107.32,763.796 1112.59,775.657 \n",
       "  1117.22,787.244 1121.24,798.562 1124.72,809.618 1127.7,820.419 1130.21,830.974 1132.3,841.29 1134,851.372 1135.34,861.23 1136.33,870.868 1137.01,880.293 \n",
       "  1137.4,889.513 1137.51,898.533 1137.37,907.36 1136.98,915.998 1136.35,924.454 1135.49,932.732 1134.41,940.836 1133.1,948.77 1131.57,956.541 1129.83,964.15 \n",
       "  1127.86,971.603 1125.67,978.902 1123.26,986.05 1120.6,993.05 1117.7,999.904 1114.54,1006.61 1111.11,1013.18 1107.4,1019.61 1103.39,1025.89 1099.07,1032.03 \n",
       "  1094.42,1038.03 1089.41,1043.89 1084.02,1049.59 1078.24,1055.15 1072.02,1060.55 1065.35,1065.79 1058.19,1070.86 1050.51,1075.75 1042.28,1080.45 1033.45,1084.93 \n",
       "  1024,1089.19 1013.88,1093.21 1003.03,1096.97 991.413,1100.44 978.976,1103.58 965.674,1106.36 951.459,1108.72 936.284,1110.62 920.103,1111.98 902.869,1112.75 \n",
       "  884.537,1112.84 865.061,1112.17 844.441,1110.67 822.658,1108.21 799.648,1104.66 775.39,1099.84 749.896,1093.61 723.223,1085.79 695.463,1076.23 666.749,1064.74 \n",
       "  637.253,1051.16 607.186,1035.29 576.798,1016.95 546.369,995.972 516.198,972.319 486.808,945.85 458.764,916.489 432.635,884.281 408.99,849.397 388.397,812.129 \n",
       "  371.429,772.891 358.657,732.222 350.655,690.782 347.996,649.355 351.005,608.853 359.724,570.155 374.112,534.036 393.99,501.183 419.04,472.201 448.804,447.609 \n",
       "  482.684,427.838 519.944,413.236 559.729,403.961 601.211,399.601 643.616,399.753 686.248,403.987 728.502,411.818 769.854,422.71 809.87,436.076 848.2,451.277 \n",
       "  884.588,467.746 918.901,485.171 951.07,503.197 981.064,521.523 1008.89,539.9 1034.58,558.132 1058.23,576.077 1079.93,593.642 1099.81,610.752 1117.97,627.369 \n",
       "  1134.55,643.475 1149.67,659.06 1163.45,674.12 1176.01,688.658 1187.46,702.685 1197.91,716.219 1207.48,729.28 1216.27,741.89 1224.36,754.065 1231.85,765.823 \n",
       "  1238.81,777.18 1245.33,788.151 1251.47,798.75 1257.31,808.991 1262.91,818.886 1268.33,828.445 1273.62,837.675 1278.84,846.582 1284.02,855.171 1289.2,863.446 \n",
       "  1294.45,871.409 1299.79,879.064 1305.26,886.409 1310.91,893.445 1316.77,900.167 1322.86,906.569 1329.23,912.646 1335.9,918.388 1342.91,923.786 1350.29,928.828 \n",
       "  1358.08,933.502 1366.32,937.793 1375.02,941.681 1384.23,945.146 1393.97,948.162 1404.29,950.702 1415.2,952.736 1426.75,954.229 1438.95,955.146 1451.85,955.445 \n",
       "  1465.47,955.086 1479.83,954.024 1494.95,952.201 1510.85,949.554 1527.56,946.019 1545.07,941.531 1563.37,936.025 1582.44,929.435 1602.23,921.695 1622.72,912.737 \n",
       "  1643.82,902.492 1665.47,890.901 1687.56,877.942 1709.94,863.537 1732.46,847.636 1754.92,830.225 1777.1,811.332 1798.75,791.023 1819.6,769.401 1839.33,746.61 \n",
       "  1857.62,722.834 1874.11,698.294 1888.41,673.251 1900.23,648.055 1909.25,623.103 1915.16,598.78 1917.71,575.461 1916.76,553.508 1912.21,533.276 1904.04,515.104 \n",
       "  1892.31,499.325 1877.15,486.258 1858.76,476.21 1837.48,469.242 1813.72,465.251 1787.9,464.149 1760.44,465.8 1731.74,470.017 1702.22,476.563 1672.28,485.152 \n",
       "  1642.32,495.449 1612.74,507.066 1583.85,519.698 1555.84,533.134 1528.9,547.134 1503.19,561.488 1478.82,576.017 1455.86,590.571 1434.37,605.031 1414.34,619.309 \n",
       "  1395.77,633.346 1378.59,647.113 1362.75,660.586 1348.24,673.746 1334.99,686.591 1322.93,699.12 1312.01,711.338 1302.15,723.254 1293.28,734.881 1285.34,746.233 \n",
       "  1278.26,757.323 1271.99,768.161 1266.45,778.76 1261.6,789.13 1257.38,799.281 1253.74,809.22 1250.64,818.956 1248.04,828.495 1245.9,837.842 1244.18,847.001 \n",
       "  1242.87,855.977 1241.91,864.772 1241.31,873.388 1241.02,881.828 1241.05,890.091 1241.36,898.181 1241.95,906.096 1242.82,913.838 1243.94,921.406 1245.33,928.8 \n",
       "  1246.96,936.017 1248.85,943.057 1251,949.918 1253.4,956.6 1256.06,963.098 1259,969.411 1262.21,975.534 1265.72,981.464 1269.52,987.195 1273.64,992.722 \n",
       "  1278.09,998.038 1282.9,1003.14 1288.07,1008.01 1293.64,1012.65 1299.62,1017.04 1306.04,1021.17 1312.94,1025.03 1320.34,1028.6 1328.26,1031.86 1336.76,1034.78 \n",
       "  1345.85,1037.36 1355.6,1039.56 1366.02,1041.34 1377.17,1042.68 1389.09,1043.53 1401.82,1043.85 1415.41,1043.58 1429.9,1042.69 1445.34,1041.1 1461.73,1038.77 \n",
       "  1479.15,1035.61 1497.65,1031.52 1517.29,1026.42 1538.1,1020.19 1560.07,1012.73 1583.2,1003.95 1607.45,993.715 1632.78,981.925 1659.1,968.459 1686.33,953.197 \n",
       "  1714.35,936.014 1743.01,916.85 1772.08,895.622 1801.26,872.229 1830.24,846.647 1858.62,818.931 1885.99,789.212 1911.86,757.699 1935.7,724.68 1956.95,690.518 \n",
       "  1974.97,655.655 1989.17,620.683 1999.1,586.338 2004.3,553.273 2004.47,522.1 1999.42,493.393 1989.08,467.688 1973.5,445.482 1952.87,427.235 1927.49,413.367 \n",
       "  1897.79,404.261 1864.38,400.025 1828.13,400.172 1789.77,404.349 1750.02,412.154 1709.52,423.13 1668.88,436.762 1628.67,452.479 1589.41,469.654 1551.56,487.661 \n",
       "  1515.36,506.206 1480.99,524.987 1448.58,543.73 1418.2,562.212 1389.91,580.266 1363.69,597.778 1339.49,614.684 1317.2,630.977 1296.72,646.675 1277.97,661.763 \n",
       "  1260.84,676.274 1245.2,690.246 1230.95,703.715 1217.96,716.717 1206.13,729.284 1195.36,741.45 1185.55,753.248 1176.59,764.706 1168.41,775.855 1160.89,786.72 \n",
       "  1153.96,797.32 1147.54,807.674 1141.57,817.796 1135.98,827.701 1130.71,837.398 1125.68,846.897 1120.86,856.203 1116.18,865.32 1111.59,874.255 1107.07,883.01 \n",
       "  1102.57,891.588 1098.05,899.991 1093.48,908.218 1088.81,916.271 1084.02,924.147 1079.06,931.845 1073.91,939.363 1068.54,946.698 1062.92,953.846 1057.01,960.803 \n",
       "  1050.8,967.562 1044.24,974.117 1037.3,980.457 1029.96,986.575 1022.17,992.457 1013.91,998.091 1005.14,1003.46 995.835,1008.55 985.952,1013.34 975.46,1017.8 \n",
       "  964.323,1021.9 952.508,1025.62 939.977,1028.91 926.694,1031.74 912.639,1034.06 897.778,1035.82 882.072,1036.96 865.491,1037.42 848.019,1037.11 829.65,1035.96 \n",
       "  810.39,1033.88 790.258,1030.77 769.282,1026.54 747.503,1021.07 724.975,1014.26 701.781,1006.02 678.041,996.236 653.885,984.738 629.483,971.383 605.042,956.068 \n",
       "  580.804,938.731 557.047,919.346 534.089,897.928 512.282,874.529 492.017,849.239 473.719,822.188 457.807,793.568 444.618,763.735 434.579,733.076 428.049,702 \n",
       "  425.298,670.944 426.516,640.372 431.807,610.773 441.19,582.664 454.601,556.591 471.89,533.125 492.806,512.808 516.898,495.836 543.682,482.338 572.681,472.376 \n",
       "  603.416,465.932 635.412,462.908 668.192,463.124 701.28,466.318 734.2,472.149 766.499,480.215 797.913,490.195 828.219,501.75 857.222,514.561 884.773,528.337 \n",
       "  910.764,542.822 935.13,557.789 957.85,573.045 978.946,588.425 998.482,603.8 1016.51,619.072 1033.06,634.179 1048.21,649.074 1062.04,663.715 1074.62,678.072 \n",
       "  1086.03,692.122 1096.36,705.848 1105.67,719.246 1114.05,732.318 1121.58,745.07 1128.32,757.505 1134.35,769.631 1139.73,781.457 1144.51,792.989 1148.75,804.237 \n",
       "  1152.51,815.21 1155.82,825.916 1158.75,836.367 1161.33,846.57 1163.58,856.533 1165.55,866.264 1167.26,875.771 1168.73,885.059 1170,894.138 1171.08,903.012 \n",
       "  1172,911.691 1172.77,920.179 1173.4,928.482 1173.92,936.605 1174.32,944.553 1174.63,952.332 1174.84,959.946 1174.97,967.401 1175.02,974.7 1175,981.848 \n",
       "  1174.92,988.848 1174.77,995.706 1174.56,1002.42 1174.29,1009.01 1173.96,1015.45 1173.57,1021.78 1173.13,1027.97 1172.64,1034.04 1172.08,1040 1171.47,1045.84 \n",
       "  1170.79,1051.56 1170.05,1057.18 1169.24,1062.68 1168.37,1068.09 1167.41,1073.39 1166.38,1078.59 1165.27,1083.69 1164.07,1088.7 1162.77,1093.62 1161.36,1098.45 \n",
       "  1159.85,1103.19 1158.22,1107.85 1156.46,1112.43 1154.56,1116.92 1152.52,1121.34 1150.31,1125.67 1147.94,1129.94 1145.38,1134.13 1142.62,1138.25 1139.64,1142.3 \n",
       "  1136.42,1146.28 1132.95,1150.19 1129.21,1154.03 1125.17,1157.8 1120.81,1161.5 1116.11,1165.14 1111.03,1168.7 1105.55,1172.19 1099.63,1175.6 1093.23,1178.92 \n",
       "  1086.32,1182.15 1078.86,1185.29 1070.8,1188.31 1062.1,1191.22 1052.71,1193.98 1042.57,1196.59 1031.62,1199.02 1019.8,1201.26 1007.04,1203.27 993.276,1205 \n",
       "  978.436,1206.4 962.45,1207.42 945.243,1208 926.739,1208.05 906.86,1207.49 885.577,1206.23 862.824,1204.16 838.473,1201.12 812.438,1196.94 784.673,1191.44 \n",
       "  755.173,1184.41 723.977,1175.61 691.162,1164.81 656.849,1151.72 621.2,1136.06 584.416,1117.52 546.742,1095.81 508.544,1070.78 470.369,1041.98 432.844,1009.11 \n",
       "  396.668,972.034 362.613,930.792 331.52,885.608 304.305,836.878 281.954,785.179 265.526,731.265 256.007,676.13 253.937,621.124 259.771,567.554 273.706,516.662 \n",
       "  295.672,469.639 325.323,427.618 362.047,391.679 404.957,362.844 452.881,341.784 504.471,328.191 558.476,321.719 613.755,321.853 669.267,327.901 724.081,338.995 \n",
       "  777.368,354.086 828.429,372.016 876.894,392.049 922.546,413.49 965.234,435.707 1004.89,458.176 1041.52,480.487 1075.22,502.337 1106.15,523.532 1134.46,543.916 \n",
       "  1160.32,563.426 1183.91,582.044 1205.41,599.765 1225.01,616.595 1242.88,632.549 1259.19,647.656 1274.09,661.952 1287.74,675.488 1300.29,688.312 1311.88,700.465 \n",
       "  1322.64,711.982 1332.67,722.898 1342.09,733.243 1351.01,743.043 1359.51,752.321 1367.7,761.099 1375.64,769.391 1383.41,777.209 1391.07,784.559 1398.67,791.447 \n",
       "  1406.28,797.876 1413.94,803.849 1421.71,809.364 1429.64,814.422 1437.76,819.016 1446.1,823.136 1454.7,826.771 1463.58,829.908 1472.77,832.531 1482.28,834.626 \n",
       "  1492.13,836.176 1502.34,837.164 1512.92,837.57 1523.87,837.378 1535.19,836.562 1546.88,835.094 1558.92,832.952 1571.31,830.113 1584,826.558 1596.97,822.27 \n",
       "  1610.18,817.236 1623.58,811.442 1637.12,804.882 1650.73,797.557 1664.35,789.474 1677.87,780.635 1691.19,771.057 1704.2,760.77 1716.79,749.819 1728.84,738.263 \n",
       "  1740.23,726.176 1750.82,713.644 1760.5,700.769 1769.11,687.668 1776.51,674.47 1782.58,661.316 1787.23,648.358 1790.35,635.75 1791.86,623.637 1791.7,612.161 \n",
       "  1789.84,601.452 1786.27,591.637 1781.01,582.831 1774.1,575.146 1765.63,568.686 1755.68,563.545 1744.37,559.766 1731.86,557.314 1718.31,556.172 1703.89,556.309 \n",
       "  1688.74,557.677 1673.05,560.215 1656.96,563.843 1640.64,568.469 1624.26,573.984 1607.97,580.262 1591.92,587.179 1576.23,594.661 1560.97,602.616 1546.25,610.956 \n",
       "  1532.13,619.597 1518.67,628.468 1505.93,637.499 1493.94,646.634 1482.73,655.819 1472.32,665.01 1462.7,674.172 1453.87,683.273 1445.84,692.29 1438.58,701.201 \n",
       "  1432.1,709.989 1426.37,718.636 1421.38,727.13 1417.1,735.455 1413.52,743.601 1410.63,751.558 1408.4,759.316 1406.83,766.87 1405.88,774.212 1405.54,781.33 \n",
       "  1405.79,788.215 1406.64,794.859 1408.05,801.254 1410.04,807.389 1412.58,813.252 1415.67,818.831 1419.31,824.113 1423.49,829.084 1428.2,833.726 1433.44,838.025 \n",
       "  1439.22,841.962 1445.52,845.52 1452.35,848.679 1459.72,851.418 1467.63,853.715 1476.09,855.548 1485.09,856.889 1494.63,857.714 1504.71,857.995 1515.31,857.703 \n",
       "  1526.44,856.807 1538.07,855.277 1550.19,853.078 1562.77,850.194 1575.79,846.595 1589.23,842.238 1603.05,837.088 1617.19,831.119 1631.61,824.311 1646.24,816.656 \n",
       "  1660.98,808.15 1675.76,798.802 1690.45,788.626 1704.94,777.645 1719.11,765.892 1732.81,753.407 1745.93,740.255 1758.31,726.54 1769.78,712.37 1780.14,697.861 \n",
       "  1789.24,683.141 1796.92,668.347 1803.05,653.629 1807.53,639.145 1810.25,625.063 1811.13,611.563 1810.12,598.836 1807.16,587.082 1802.22,576.51 1795.35,567.249 \n",
       "  1786.65,559.369 1776.25,552.942 1764.27,548.011 1750.87,544.599 1736.19,542.705 1720.4,542.303 1703.71,543.345 1686.29,545.758 1668.36,549.447 1650.14,554.292 \n",
       "  1631.84,560.158 1613.62,566.917 1595.63,574.441 1578.02,582.611 1560.89,591.315 1544.37,600.45 1528.52,609.919 1513.43,619.634 1499.15,629.514 1485.71,639.486 \n",
       "  1473.12,649.485 1461.41,659.46 1450.58,669.389 1440.63,679.242 1431.55,688.996 1423.31,698.625 1415.91,708.112 1409.31,717.44 1403.51,726.596 1398.49,735.571 \n",
       "  1394.21,744.358 1390.65,752.953 1387.79,761.351 1385.6,769.541 1384.06,777.518 1383.15,785.276 1382.85,792.81 1383.15,800.111 1384.03,807.173 1385.49,813.985 \n",
       "  1387.5,820.54 1390.06,826.825 1393.17,832.831 1396.8,838.546 1400.97,843.953 1405.66,849.041 1410.89,853.796 1416.66,858.203 1422.98,862.246 1429.85,865.905 \n",
       "  1437.27,869.159 1445.26,871.984 1453.81,874.356 1462.93,876.247 1472.61,877.628 1482.87,878.466 1493.7,878.731 1505.1,878.398 1517.06,877.428 1529.61,875.78 \n",
       "  1542.72,873.415 1556.39,870.293 1570.59,866.379 1585.28,861.639 1600.43,856.04 1615.97,849.554 1631.85,842.151 1648,833.806 1664.33,824.495 1680.77,814.233 \n",
       "  1697.19,803.024 1713.45,790.867 1729.39,777.787 1744.85,763.828 1759.67,749.059 1773.66,733.568 1786.67,717.47 1798.5,700.899 1808.97,684.013 1817.9,666.993 \n",
       "  1825.08,650.04 1830.32,633.38 1833.44,617.265 1834.39,601.943 1833.11,587.608 1829.6,574.434 1823.87,562.573 1815.96,552.161 1805.96,543.309 1793.96,536.113 \n",
       "  1780.11,530.648 1764.57,526.967 1747.55,525.107 1729.28,525.081 1710.02,526.794 1690.05,530.041 1669.61,534.687 1648.95,540.596 1628.26,547.627 1607.73,555.636 \n",
       "  1587.56,564.475 1567.87,573.993 1548.82,584.037 1530.51,594.448 1513.05,605.082 1496.5,615.894 1480.88,626.817 1466.23,637.785 1452.56,648.741 1439.87,659.635 \n",
       "  1428.17,670.428 1417.44,681.09 1407.67,691.596 1398.84,701.935 1390.9,712.1 1383.84,722.085 1377.61,731.875 1372.18,741.467 1367.53,750.857 1363.61,760.041 \n",
       "  1360.4,769.017 1357.87,777.78 1356,786.326 1354.75,794.654 1354.12,802.759 1354.06,810.637 1354.58,818.285 1355.63,825.689 1357.22,832.848 1359.34,839.756 \n",
       "  1361.99,846.409 1365.16,852.799 1368.85,858.916 1373.07,864.748 1377.81,870.281 1383.08,875.502 1388.87,880.392 1395.19,884.932 1402.05,889.101 1409.44,892.877 \n",
       "  1417.38,896.24 1425.9,899.17 1435.01,901.64 1444.72,903.623 1455.05,905.087 1466,906 1477.59,906.324 1489.82,906.022 1502.7,905.053 1516.23,903.374 \n",
       "  1530.4,900.942 1545.17,897.743 1560.55,893.713 1576.53,888.778 1593.11,882.876 1610.23,875.955 1627.85,867.972 1645.9,858.897 1664.27,848.707 1682.87,837.391 \n",
       "  1701.55,824.95 1720.16,811.391 1738.55,796.736 1756.51,781.013 1773.85,764.264 1790.41,746.591 1805.95,728.145 1820.17,709.082 1832.81,689.582 1843.64,669.842 \n",
       "  1852.43,650.081 1859,630.536 1863.19,611.466 1864.85,593.15 1863.87,575.884 1860.14,559.988 1853.63,545.783 1844.41,533.455 1832.66,523.124 1818.56,514.878 \n",
       "  1802.31,508.77 1784.13,504.816 1764.28,502.995 1743,503.253 1720.57,505.496 1697.29,509.596 1673.49,515.389 1649.48,522.672 1625.54,531.202 1601.91,540.763 \n",
       "  1578.78,551.162 1556.34,562.221 1534.73,573.78 1514.06,585.693 1494.43,597.832 1475.89,610.083 1458.47,622.35 1442.18,634.557 1427.05,646.663 1413.06,658.634 \n",
       "  1400.18,670.44 1388.38,682.058 1377.63,693.469 1367.89,704.659 1359.13,715.623 1351.3,726.357 1344.37,736.866 1338.28,747.158 1332.98,757.227 1328.44,767.077 \n",
       "  1324.62,776.709 1321.47,786.127 1318.97,795.332 1317.09,804.323 1315.79,813.102 1315.04,821.668 1314.83,830.02 1315.12,838.154 1315.91,846.067 1317.17,853.757 \n",
       "  1318.91,861.221 1321.11,868.456 1323.78,875.458 1326.9,882.218 1330.49,888.73 1334.54,894.983 1339.05,900.966 1344.03,906.667 1349.48,912.07 1355.41,917.162 \n",
       "  1361.84,921.929 1368.79,926.356 1376.28,930.424 1384.33,934.113 1392.96,937.397 1402.18,940.251 1412.02,942.645 1422.51,944.548 1433.66,945.924 1445.48,946.741 \n",
       "  1457.99,946.962 1471.24,946.535 1485.24,945.406 1500.02,943.52 1515.59,940.82 1531.95,937.249 1549.09,932.747 1566.99,927.252 1585.62,920.702 1604.94,913.033 \n",
       "  1624.9,904.181 1645.44,894.077 1666.49,882.675 1687.93,869.958 1709.61,855.851 1731.39,840.311 1753.06,823.33 1774.41,804.94 1795.21,785.209 1815.2,764.245 \n",
       "  1834.08,742.19 1851.53,719.228 1867.23,695.578 1880.81,671.498 1891.92,647.31 1900.32,623.432 1905.75,600.226 1908,578.036 1906.95,557.184 1902.51,537.979 \n",
       "  1894.67,520.707 1883.49,505.641 1869.07,493.031 1851.6,483.114 1831.31,476.106 1808.54,472.129 1783.74,470.933 1757.36,472.343 1729.81,476.178 1701.46,482.226 \n",
       "  1672.7,490.249 1643.87,499.976 1615.29,511.11 1587.27,523.323 1560.11,536.262 1533.98,549.717 1509.01,563.554 1485.29,577.61 1462.9,591.741 1441.88,605.831 \n",
       "  1422.26,619.785 1404.05,633.532 1387.22,647.025 1371.74,660.241 1357.52,673.179 1344.53,685.833 1332.72,698.188 1322.02,710.252 1312.36,722.034 1303.68,733.54 \n",
       "  1295.92,744.779 1289.01,755.761 1282.91,766.495 1277.56,776.991 1272.9,787.259 1268.9,797.31 1265.48,807.151 1262.62,816.786 1260.27,826.222 1258.41,835.463 \n",
       "  1257,844.514 1256,853.376 1255.41,862.053 1255.18,870.544 1255.3,878.85 1255.76,886.971 1256.55,894.909 1257.65,902.663 1259.07,910.233 1260.79,917.618 \n",
       "  1262.81,924.814 1265.14,931.819 1267.77,938.63 1270.7,945.241 1273.94,951.65 1277.51,957.851 1281.41,963.841 1285.65,969.613 1290.25,975.159 1295.23,980.472 \n",
       "  1300.61,985.54 1306.4,990.353 1312.63,994.899 1319.32,999.163 1326.5,1003.13 1334.2,1006.78 1342.45,1010.1 1351.28,1013.06 1360.73,1015.64 1370.83,1017.81 \n",
       "  1381.62,1019.53 1393.15,1020.77 1405.44,1021.48 1418.53,1021.62 1432.45,1021.16 1447.22,1020.03 1462.92,1018.18 1479.62,1015.51 1497.34,1011.94 1516.13,1007.4 \n",
       "  1535.99,1001.8 1556.92,995.038 1578.9,987.025 1601.9,977.662 1625.88,966.847 1650.76,954.477 1676.46,940.441 1702.9,924.629 1729.92,907.01 1757.31,887.489 \n",
       "  1784.81,865.98 1812.14,842.461 1838.96,816.978 1864.89,789.645 1889.5,760.642 1912.34,730.219 1932.9,698.689 1950.64,666.438 1964.97,633.936 1975.45,601.872 \n",
       "  1981.71,570.844 1983.46,541.391 1980.52,514.017 1972.8,489.191 1960.33,467.343 1943.2,448.872 1921.63,434.136 1895.95,423.461 1866.55,417.137 1834.05,415.174 \n",
       "  1799.24,417.054 1762.81,422.429 1725.35,430.919 1687.45,442.109 1649.63,455.547 1612.35,470.743 1576.06,487.174 1541.12,504.286 1507.78,521.784 1476.16,539.465 \n",
       "  1446.36,557.108 1418.43,574.532 1392.42,591.595 1368.3,608.2 1346.05,624.288 1325.57,639.84 1306.76,654.88 1289.54,669.406 1273.82,683.43 1259.49,696.982 \n",
       "  1246.45,710.096 1234.59,722.799 1223.8,735.122 1214.01,747.09 1205.11,758.729 1197.03,770.062 1189.68,781.112 1182.99,791.899 1176.87,802.441 1171.26,812.755 \n",
       "  1166.08,822.854 1161.29,832.748 1156.84,842.448 1152.66,851.963 1148.71,861.298 1144.95,870.459 1141.32,879.449 1137.79,888.272 1134.33,896.932 1130.91,905.432 \n",
       "  1127.49,913.775 1124.06,921.962 1120.57,929.995 1117,937.874 1113.33,945.599 1109.52,953.172 1105.56,960.591 1101.41,967.858 1097.06,974.971 1092.48,981.928 \n",
       "  1087.64,988.729 1082.53,995.369 1077.11,1001.84 1071.34,1008.15 1065.22,1014.29 1058.7,1020.24 1051.75,1026.01 1044.35,1031.58 1036.46,1036.94 1028.05,1042.09 \n",
       "  1019.08,1046.99 1009.51,1051.64 999.304,1056 988.42,1060.07 976.824,1063.8 964.469,1067.17 951.307,1070.14 937.294,1072.66 922.389,1074.68 906.555,1076.15 \n",
       "  889.758,1076.98 871.969,1077.12 853.162,1076.46 833.314,1074.93 812.412,1072.43 790.509,1068.88 767.589,1064.14 743.65,1058.02 718.735,1050.37 692.927,1041.02 \n",
       "  666.356,1029.85 639.192,1016.71 611.649,1001.48 583.987,984.046 556.505,964.3 529.548,942.146 503.485,917.517 478.668,890.498 455.669,861.173 435.054,829.7 \n",
       "  417.342,796.331 403.008,761.415 392.482,725.396 386.148,688.813 384.349,652.302 387.379,616.593 395.464,582.523 408.508,550.878 426.222,522.172 448.263,496.824 \n",
       "  474.232,475.169 503.675,457.464 536.081,443.883 570.884,434.519 607.464,429.385 645.143,428.412 683.23,431.267 721.167,437.331 758.482,446.145 794.781,457.266 \n",
       "  829.745,470.269 863.133,484.744 894.777,500.299 924.586,516.558 952.502,533.228 978.502,550.13 1002.62,567.09 1024.92,583.963 1045.44,600.633 1064.27,617.01 \n",
       "  1081.5,633.032 1097.22,648.666 1111.55,663.895 1124.59,678.703 1136.45,693.089 1147.22,707.058 1157,720.616 1165.88,733.771 1173.95,746.533 1181.3,758.915 \n",
       "  1188,770.931 1194.14,782.598 1199.79,793.928 1204.99,804.932 1209.82,815.621 1214.31,826.006 1218.54,836.097 1222.53,845.904 1226.35,855.436 1230.04,864.702 \n",
       "  1233.64,873.707 1237.17,882.459 1240.67,890.96 1244.17,899.216 1247.7,907.23 1251.29,915.006 1254.97,922.545 1258.77,929.85 1262.71,936.92 1266.81,943.756 \n",
       "  1271.1,950.355 1275.6,956.714 1280.35,962.832 1285.36,968.702 1290.67,974.32 1296.3,979.681 1302.28,984.774 1308.64,989.591 1315.4,994.119 1322.61,998.344 \n",
       "  1330.28,1002.25 1338.46,1005.82 1347.19,1009.03 1356.49,1011.86 1366.4,1014.29 1376.97,1016.27 1388.24,1017.79 1400.25,1018.8 1413.03,1019.26 1426.64,1019.11 \n",
       "  1441.12,1018.31 1456.49,1016.79 1472.79,1014.49 1490.07,1011.35 1508.35,1007.27 1527.63,1002.22 1547.92,996.069 1569.27,988.71 1591.68,980.026 1615.12,969.911 \n",
       "  1639.54,958.265 1664.85,944.995 1690.92,930.016 1717.6,913.248 1744.71,894.621 1772.04,874.068 1799.34,851.554 1826.33,827.136 1852.59,800.862 1877.67,772.85 \n",
       "  1901.12,743.293 1922.47,712.466 1941.25,680.718 1956.99,648.48 1969.21,616.258 1977.4,584.638 1981.1,554.31 1980.09,525.979 1974.31,500.15 1963.78,477.255 \n",
       "  1948.59,457.661 1928.97,441.665 1905.19,429.499 1877.64,421.327 1846.81,417.245 1813.26,417.282 1777.68,421.217 1740.83,428.411 1703.31,438.406 1665.68,450.752 \n",
       "  1628.44,465.001 1592,480.708 1556.71,497.431 1522.87,514.729 1490.68,532.247 1460.26,549.811 1431.68,567.239 1404.98,584.384 1380.15,601.131 1357.17,617.403 \n",
       "  1335.99,633.157 1316.54,648.387 1298.7,663.111 1282.4,677.333 1267.53,691.075 1253.99,704.367 1241.67,717.236 1230.48,729.711 1220.33,741.819 1211.11,753.586 \n",
       "  1202.75,765.041 1195.15,776.208 1188.23,787.107 1181.91,797.755 1176.14,808.171 1170.84,818.366 1165.96,828.354 1161.43,838.145 1157.21,847.747 1153.24,857.167 \n",
       "  1149.47,866.41 1145.86,875.48 1142.38,884.384 1139,893.124 1135.67,901.704 1132.37,910.127 1129.08,918.395 1125.74,926.509 1122.35,934.469 1118.87,942.278 \n",
       "  1115.28,949.936 1111.56,957.443 1107.68,964.801 1103.63,972.008 1099.36,979.064 1094.87,985.967 1090.11,992.715 1085.08,999.306 1079.74,1005.74 1074.06,1012 \n",
       "  1068.02,1018.1 1061.6,1024.02 1054.75,1029.76 1047.45,1035.31 1039.67,1040.66 1031.36,1045.79 1022.49,1050.68 1013.03,1055.33 1002.94,1059.71 992.167,1063.8 \n",
       "  980.678,1067.57 968.43,1070.98 955.381,1074 941.488,1076.58 926.708,1078.67 910.998,1080.22 894.332,1081.16 876.693,1081.43 858.017,1080.95 838.263,1079.6 \n",
       "  817.408,1077.28 795.453,1073.88 772.423,1069.26 748.362,1063.31 723.339,1055.88 697.444,1046.81 670.789,1035.97 643.51,1023.18 615.769,1008.33 587.816,991.3 \n",
       "  559.961,971.875 532.55,949.939 505.968,925.447 480.636,898.432 457.012,869.003 435.591,837.346 416.907,803.726 401.528,768.481 390.015,732.079 382.755,695.207 \n",
       "  380.081,658.493 382.219,622.549 389.283,587.979 401.277,555.377 418.092,525.328 439.508,498.407 465.195,475.181 494.708,456.205 527.454,441.887 562.645,432.032 \n",
       "  599.583,426.48 637.624,425.011 676.175,427.326 714.691,433.05 752.676,441.727 789.684,452.824 825.323,465.759 859.364,480.173 891.665,495.717 922.114,512.05 \n",
       "  950.643,528.881 977.221,545.963 1001.86,563.094 1024.6,580.119 1045.54,596.928 1064.78,613.444 1082.38,629.598 1098.46,645.364 1113.13,660.72 1126.48,675.653 \n",
       "  1138.63,690.156 1149.67,704.226 1159.7,717.868 1168.82,731.092 1177.11,743.916 1184.67,756.354 1191.58,768.42 1197.91,780.128 1203.73,791.49 1209.1,802.518 \n",
       "  1214.09,813.225 1218.75,823.622 1223.15,833.721 1227.34,843.531 1231.35,853.061 1235.23,862.317 1239.02,871.307 1242.75,880.034 1246.46,888.505 1250.17,896.723 \n",
       "  1253.93,904.693 1257.76,912.418 1261.7,919.9 1265.77,927.139 1269.99,934.134 1274.4,940.884 1279.01,947.386 1283.86,953.638 1288.96,959.636 1294.36,965.373 \n",
       "  1300.08,970.845 1306.15,976.042 1312.59,980.954 1319.44,985.569 1326.72,989.873 1334.47,993.85 1342.73,997.482 1351.52,1000.75 1360.89,1003.62 1370.87,1006.08 \n",
       "  1381.5,1008.1 1392.82,1009.63 1404.87,1010.65 1417.69,1011.1 1431.33,1010.95 1445.82,1010.13 1461.2,1008.59 1477.49,1006.26 1494.73,1003.07 1512.95,998.949 \n",
       "  1532.16,993.832 1552.33,987.644 1573.5,980.257 1595.7,971.549 1618.89,961.412 1643.01,949.746 1667.98,936.465 1693.67,921.493 1719.92,904.764 1746.53,886.225 \n",
       "  1773.29,865.833 1799.91,843.556 1826.14,819.406 1851.64,793.501 1875.93,765.974 1898.52,737.022 1918.96,706.917 1936.8,675.998 1951.58,644.675 1962.88,613.431 \n",
       "  1970.28,582.817 1973.38,553.456 1971.83,526.056 1965.56,501.225 1954.66,479.361 1939.31,460.782 1919.74,445.738 1896.25,434.403 1869.22,426.879 1839.11,423.196 \n",
       "  1806.43,423.309 1771.78,427.103 1735.84,434.246 1699.26,444.092 1662.61,456.176 1626.34,470.061 1590.86,485.334 1556.51,501.603 1523.55,518.499 1492.16,535.677 \n",
       "  1462.49,552.862 1434.62,569.921 1408.57,586.728 1384.32,603.179 1361.87,619.2 1341.16,634.742 1322.12,649.785 1304.69,664.333 1288.75,678.413 1274.21,692.036 \n",
       "  1260.98,705.225 1248.96,718.009 1238.05,730.414 1228.16,742.466 1219.19,754.189 1211.07,765.608 1203.71,776.745 1197.04,787.62 1190.96,798.25 1185.43,808.65 \n",
       "  1180.38,818.833 1175.75,828.812 1171.5,838.597 1167.57,848.196 1163.92,857.617 1160.49,866.864 1157.24,875.941 1154.13,884.852 1151.13,893.603 1148.22,902.196 \n",
       "  1145.37,910.634 1142.55,918.921 1139.73,927.059 1136.89,935.048 1134,942.892 1131.04,950.59 1127.98,958.145 1124.82,965.558 1121.52,972.829 1118.08,979.961 \n",
       "  1114.45,986.952 1110.64,993.803 1106.6,1000.51 1102.32,1007.08 1097.78,1013.51 1092.95,1019.79 1087.81,1025.92 1082.33,1031.91 1076.49,1037.73 1070.25,1043.4 \n",
       "  1063.59,1048.91 1056.48,1054.23 1048.87,1059.37 1040.74,1064.32 1032.05,1069.05 1022.75,1073.56 1012.82,1077.82 1002.2,1081.81 990.852,1085.51 978.732,1088.88 \n",
       "  965.794,1091.87 951.989,1094.46 937.271,1096.6 921.616,1098.22 904.962,1099.27 887.246,1099.68 868.423,1099.35 848.462,1098.19 827.345,1096.09 805.072,1092.93 \n",
       "  781.656,1088.59 757.124,1082.93 731.519,1075.78 704.898,1067 677.358,1056.45 649.051,1043.98 620.145,1029.32 590.864,1012.28 561.487,992.681 532.355,970.439 \n",
       "  503.862,945.507 476.463,917.896 450.67,887.674 427.051,854.961 406.224,819.941 388.689,783.013 375.046,744.722 365.848,705.636 361.521,666.365 362.368,627.559 \n",
       "  368.564,589.912 380.16,554.158 397.08,521.069 419.122,491.464 445.941,466.157 476.868,445.474 511.177,429.537 548.172,418.386 587.166,411.936 627.486,409.979 \n",
       "  668.465,412.184 709.449,418.093 749.795,427.128 788.973,438.696 826.714,452.346 862.763,467.593 896.921,484.005 929.052,501.204 959.079,518.867 986.986,536.726 \n",
       "  1012.82,554.567 1036.68,572.231 1058.66,589.603 1078.82,606.606 1097.28,623.196 1114.14,639.34 1129.52,655.013 1143.54,670.201 1156.3,684.899 1167.92,699.113 \n",
       "  1178.5,712.857 1188.15,726.151 1196.97,739.01 1205.05,751.451 1212.48,763.488 1219.34,775.138 1225.69,786.414 1231.63,797.331 1237.2,807.902 1242.49,818.14 \n",
       "  1247.55,828.057 1252.43,837.66 1257.18,846.957 1261.84,855.953 1266.44,864.655 1271.05,873.066 1275.68,881.192 1280.4,889.034 1285.22,896.595 1290.2,903.875 \n",
       "  1295.35,910.872 1300.7,917.581 1306.29,923.999 1312.15,930.12 1318.31,935.937 1324.8,941.442 1331.66,946.626 1338.92,951.477 1346.6,955.98 1354.75,960.118 \n",
       "  1363.39,963.872 1372.55,967.22 1382.27,970.136 1392.59,972.593 1403.54,974.559 1415.16,976.002 1427.47,976.884 1440.51,977.165 1454.32,976.796 1468.93,975.721 \n",
       "  1484.37,973.881 1500.66,971.216 1517.82,967.658 1535.85,963.138 1554.74,957.584 1574.5,950.917 1595.1,943.058 1616.49,933.939 1638.61,923.512 1661.4,911.653 \n",
       "  1684.76,898.257 1708.58,883.255 1732.68,866.608 1756.88,848.309 1780.93,828.382 1804.55,806.884 1827.44,783.905 1849.25,759.564 1869.59,734.014 1888.09,707.468 \n",
       "  1904.41,680.27 1918.08,652.794 1928.69,625.429 1935.91,598.581 1939.48,572.671 1939.2,548.136 1934.95,525.429 1926.67,505.02 1914.36,487.394 1898.17,472.938 \n",
       "  1878.43,461.743 1855.54,453.877 1829.89,449.334 1801.91,448.038 1772.05,449.843 1740.78,454.526 1708.58,461.794 1675.98,471.284 1643.49,482.568 1611.46,495.295 \n",
       "  1580.19,509.135 1549.94,523.779 1520.93,538.956 1493.31,554.434 1467.21,570.015 1442.68,585.538 1419.74,600.882 1398.37,615.96 1378.57,630.719 1360.3,645.133 \n",
       "  1343.49,659.184 1328.09,672.861 1314.03,686.162 1301.22,699.093 1289.61,711.666 1279.1,723.904 1269.62,735.828 1261.09,747.451 1253.43,758.793 1246.57,769.869 \n",
       "  1240.45,780.695 1235,791.283 1230.16,801.648 1225.88,811.799 1222.1,821.745 1218.77,831.496 1215.86,841.058 1213.33,850.438 1211.13,859.643 1209.25,868.676 \n",
       "  1207.64,877.542 1206.29,886.244 1205.16,894.784 1204.23,903.164 1203.49,911.387 1202.91,919.455 1202.5,927.371 1202.22,935.136 1202.08,942.753 1202.07,950.222 \n",
       "  1202.17,957.546 1202.38,964.725 1202.69,971.761 1203.11,978.655 1203.62,985.41 1204.23,992.026 1204.94,998.504 1205.75,1004.85 1206.65,1011.05 1207.66,1017.12 \n",
       "  1208.76,1023.06 1209.98,1028.87 1211.3,1034.54 1212.74,1040.08 1214.3,1045.5 1216,1050.78 1217.83,1055.93 1219.8,1060.94 1221.94,1065.83 1224.23,1070.58 \n",
       "  1226.71,1075.2 1229.38,1079.68 1232.25,1084.03 1235.35,1088.24 1238.68,1092.3 1242.27,1096.21 1246.14,1099.98 1250.3,1103.58 1254.78,1107.03 1259.61,1110.3 \n",
       "  1264.8,1113.4 1270.4,1116.31 1276.42,1119.02 1282.91,1121.51 1289.91,1123.78 1297.45,1125.79 1305.56,1127.55 1314.31,1129.01 1323.72,1130.16 1333.85,1130.97 \n",
       "  1344.77,1131.4 1356.52,1131.42 1369.17,1130.97 1382.78,1130.01 1397.41,1128.48 1413.13,1126.3 1430,1123.4 1448.09,1119.7 1467.46,1115.11 1488.14,1109.55 \n",
       "  1510.19,1102.89 1533.72,1094.98 1558.79,1085.65 1585.45,1074.75 1613.69,1062.11 1643.46,1047.55 1674.68,1030.92 1707.23,1012.03 1740.93,990.715 1775.6,966.79 \n",
       "  1810.99,940.088 1846.79,910.591 1882.49,878.192 1917.52,842.866 1951.22,804.733 1982.91,764.061 2011.85,721.267 2037.23,676.914 2058.23,631.712 2073.93,586.521 \n",
       "  2083.42,542.351 2086.18,500.358 2081.84,461.615 2070.19,427.05 2051.27,397.454 2025.34,373.485 1992.9,355.66 1954.64,344.362 1911.53,339.807 1864.72,341.476 \n",
       "  1815.36,348.624 1764.49,360.539 1713.05,376.45 1661.92,395.524 1611.84,416.871 1563.48,439.536 1517.33,462.717 1473.63,486.034 1432.56,509.071 1394.2,531.499 \n",
       "  1358.61,553.08 1325.74,573.663 1295.5,593.189 1267.73,611.673 1242.32,629.114 1219.09,645.572 1197.89,661.117 1178.55,675.821 1160.91,689.751 1144.82,702.975 \n",
       "  1130.12,715.559 1116.68,727.567 1104.34,739.061 1092.97,750.092 1082.46,760.704 1072.68,770.933 1063.54,780.812 1054.94,790.365 1046.77,799.614 1038.95,808.574 \n",
       "  1031.39,817.255 1024.03,825.667 1016.8,833.814 1009.64,841.698 1002.5,849.319 995.311,856.674 988.035,863.759 980.617,870.566 973.009,877.086 965.17,883.308 \n",
       "  957.069,889.219 948.672,894.805 939.948,900.047 930.868,904.928 921.404,909.424 911.532,913.514 901.227,917.171 890.469,920.368 879.246,923.076 867.545,925.259 \n",
       "  855.357,926.879 842.681,927.896 829.519,928.268 815.885,927.952 801.794,926.905 787.272,925.078 772.349,922.425 757.062,918.902 741.47,914.479 725.639,909.089 \n",
       "  709.647,902.673 693.585,895.186 677.56,886.596 661.69,876.888 646.109,866.062 630.962,854.129 616.41,841.12 602.627,827.076 589.8,812.056 578.109,796.139 \n",
       "  567.708,779.454 558.805,762.147 551.586,744.375 546.206,726.313 542.793,708.152 541.443,690.097 542.224,672.371 545.174,655.21 550.301,638.868 557.586,623.613 \n",
       "  \n",
       "  \"/>\n",
       "<path clip-path=\"url(#clip970)\" d=\"\n",
       "M1793.8 198.898 L2279.06 198.898 L2279.06 95.2176 L1793.8 95.2176  Z\n",
       "  \" fill=\"#ffffff\" fill-rule=\"evenodd\" fill-opacity=\"1\"/>\n",
       "<polyline clip-path=\"url(#clip970)\" style=\"stroke:#000000; stroke-linecap:butt; stroke-linejoin:round; stroke-width:4; stroke-opacity:1; fill:none\" points=\"\n",
       "  1793.8,198.898 2279.06,198.898 2279.06,95.2176 1793.8,95.2176 1793.8,198.898 \n",
       "  \"/>\n",
       "<polyline clip-path=\"url(#clip970)\" style=\"stroke:#009af9; stroke-linecap:butt; stroke-linejoin:round; stroke-width:4; stroke-opacity:1; fill:none\" points=\"\n",
       "  1818.36,147.058 1965.76,147.058 \n",
       "  \"/>\n",
       "<path clip-path=\"url(#clip970)\" d=\"M2000.95 128.366 Q1997.85 133.69 1996.34 138.898 Q1994.84 144.106 1994.84 149.453 Q1994.84 154.801 1996.34 160.055 Q1997.87 165.287 2000.95 170.588 L1997.24 170.588 Q1993.77 165.148 1992.04 159.893 Q1990.32 154.639 1990.32 149.453 Q1990.32 144.291 1992.04 139.06 Q1993.75 133.828 1997.24 128.366 L2000.95 128.366 Z\" fill=\"#000000\" fill-rule=\"evenodd\" fill-opacity=\"1\" /><path clip-path=\"url(#clip970)\" d=\"M2008.77 154.106 L2008.77 138.412 L2013.03 138.412 L2013.03 153.944 Q2013.03 157.625 2014.47 159.476 Q2015.9 161.305 2018.77 161.305 Q2022.22 161.305 2024.21 159.106 Q2026.23 156.907 2026.23 153.111 L2026.23 138.412 L2030.48 138.412 L2030.48 164.338 L2026.23 164.338 L2026.23 160.356 Q2024.67 162.717 2022.61 163.875 Q2020.58 165.009 2017.87 165.009 Q2013.4 165.009 2011.09 162.231 Q2008.77 159.453 2008.77 154.106 M2019.49 137.787 L2019.49 137.787 Z\" fill=\"#000000\" fill-rule=\"evenodd\" fill-opacity=\"1\" /><path clip-path=\"url(#clip970)\" d=\"M2040.67 160.402 L2048.31 160.402 L2048.31 134.037 L2040 135.703 L2040 131.444 L2048.26 129.778 L2052.94 129.778 L2052.94 160.402 L2060.58 160.402 L2060.58 164.338 L2040.67 164.338 L2040.67 160.402 Z\" fill=\"#000000\" fill-rule=\"evenodd\" fill-opacity=\"1\" /><path clip-path=\"url(#clip970)\" d=\"M2070.51 158.458 L2075.39 158.458 L2075.39 162.439 L2071.6 169.847 L2068.61 169.847 L2070.51 162.439 L2070.51 158.458 Z\" fill=\"#000000\" fill-rule=\"evenodd\" fill-opacity=\"1\" /><path clip-path=\"url(#clip970)\" d=\"M2084.05 154.106 L2084.05 138.412 L2088.31 138.412 L2088.31 153.944 Q2088.31 157.625 2089.74 159.476 Q2091.18 161.305 2094.05 161.305 Q2097.5 161.305 2099.49 159.106 Q2101.5 156.907 2101.5 153.111 L2101.5 138.412 L2105.76 138.412 L2105.76 164.338 L2101.5 164.338 L2101.5 160.356 Q2099.95 162.717 2097.89 163.875 Q2095.85 165.009 2093.15 165.009 Q2088.68 165.009 2086.36 162.231 Q2084.05 159.453 2084.05 154.106 M2094.77 137.787 L2094.77 137.787 Z\" fill=\"#000000\" fill-rule=\"evenodd\" fill-opacity=\"1\" /><path clip-path=\"url(#clip970)\" d=\"M2119.16 160.402 L2135.48 160.402 L2135.48 164.338 L2113.54 164.338 L2113.54 160.402 Q2116.2 157.648 2120.79 153.018 Q2125.39 148.365 2126.57 147.023 Q2128.82 144.5 2129.7 142.764 Q2130.6 141.004 2130.6 139.315 Q2130.6 136.56 2128.66 134.824 Q2126.73 133.088 2123.63 133.088 Q2121.43 133.088 2118.98 133.852 Q2116.55 134.615 2113.77 136.166 L2113.77 131.444 Q2116.6 130.31 2119.05 129.731 Q2121.5 129.153 2123.54 129.153 Q2128.91 129.153 2132.1 131.838 Q2135.3 134.523 2135.3 139.014 Q2135.3 141.143 2134.49 143.065 Q2133.7 144.963 2131.6 147.555 Q2131.02 148.227 2127.91 151.444 Q2124.81 154.639 2119.16 160.402 Z\" fill=\"#000000\" fill-rule=\"evenodd\" fill-opacity=\"1\" /><path clip-path=\"url(#clip970)\" d=\"M2145.78 158.458 L2150.67 158.458 L2150.67 162.439 L2146.87 169.847 L2143.89 169.847 L2145.78 162.439 L2145.78 158.458 Z\" fill=\"#000000\" fill-rule=\"evenodd\" fill-opacity=\"1\" /><path clip-path=\"url(#clip970)\" d=\"M2159.33 154.106 L2159.33 138.412 L2163.59 138.412 L2163.59 153.944 Q2163.59 157.625 2165.02 159.476 Q2166.46 161.305 2169.33 161.305 Q2172.78 161.305 2174.77 159.106 Q2176.78 156.907 2176.78 153.111 L2176.78 138.412 L2181.04 138.412 L2181.04 164.338 L2176.78 164.338 L2176.78 160.356 Q2175.23 162.717 2173.17 163.875 Q2171.13 165.009 2168.42 165.009 Q2163.96 165.009 2161.64 162.231 Q2159.33 159.453 2159.33 154.106 M2170.04 137.787 L2170.04 137.787 Z\" fill=\"#000000\" fill-rule=\"evenodd\" fill-opacity=\"1\" /><path clip-path=\"url(#clip970)\" d=\"M2204.58 145.703 Q2207.94 146.421 2209.81 148.689 Q2211.71 150.958 2211.71 154.291 Q2211.71 159.407 2208.19 162.208 Q2204.67 165.009 2198.19 165.009 Q2196.02 165.009 2193.7 164.569 Q2191.41 164.152 2188.96 163.296 L2188.96 158.782 Q2190.9 159.916 2193.22 160.495 Q2195.53 161.074 2198.05 161.074 Q2202.45 161.074 2204.74 159.338 Q2207.06 157.601 2207.06 154.291 Q2207.06 151.236 2204.9 149.523 Q2202.78 147.787 2198.96 147.787 L2194.93 147.787 L2194.93 143.944 L2199.14 143.944 Q2202.59 143.944 2204.42 142.578 Q2206.25 141.19 2206.25 138.597 Q2206.25 135.935 2204.35 134.523 Q2202.47 133.088 2198.96 133.088 Q2197.03 133.088 2194.84 133.504 Q2192.64 133.921 2190 134.801 L2190 130.634 Q2192.66 129.893 2194.97 129.523 Q2197.31 129.153 2199.37 129.153 Q2204.7 129.153 2207.8 131.583 Q2210.9 133.99 2210.9 138.111 Q2210.9 140.981 2209.26 142.972 Q2207.61 144.94 2204.58 145.703 Z\" fill=\"#000000\" fill-rule=\"evenodd\" fill-opacity=\"1\" /><path clip-path=\"url(#clip970)\" d=\"M2219.3 128.366 L2223.01 128.366 Q2226.48 133.828 2228.19 139.06 Q2229.93 144.291 2229.93 149.453 Q2229.93 154.639 2228.19 159.893 Q2226.48 165.148 2223.01 170.588 L2219.3 170.588 Q2222.38 165.287 2223.89 160.055 Q2225.41 154.801 2225.41 149.453 Q2225.41 144.106 2223.89 138.898 Q2222.38 133.69 2219.3 128.366 Z\" fill=\"#000000\" fill-rule=\"evenodd\" fill-opacity=\"1\" /></svg>\n"
      ]
     },
     "execution_count": 63,
     "metadata": {},
     "output_type": "execute_result"
    }
   ],
   "source": [
    "using DifferentialEquations\n",
    "\n",
    "function lorenz!(du,u,p,t)\n",
    " du[1] = 10.0*(u[2]-u[1])\n",
    " du[2] = u[1]*(28.0-u[3]) - u[2]\n",
    " du[3] = u[1]*u[2] - (8/3)*u[3]\n",
    "end\n",
    "\n",
    "u0 = [1.0;0.0;2.0]\n",
    "tspan = (0.0,100.0)\n",
    "prob = ODEProblem(lorenz!,u0,tspan)\n",
    "sol = solve(prob)\n",
    "\n",
    "plot(sol,vars=(1,2,3))"
   ]
  },
  {
   "cell_type": "markdown",
   "id": "90afc124",
   "metadata": {
    "slideshow": {
     "slide_type": "slide"
    }
   },
   "source": [
    "# Installing Julia\n",
    "\n",
    "- This workshop will be using the current long-term support (LTS) version of Julia, **1.6.5**\n",
    "- Binaries on the website ([julialang.org/downloads/](https://julialang.org/downloads/))\n",
    "    - **WINDOWS**: If you see a check box saying \"Add to path\" or something equivalent, check that. It'll help, I promise.\n",
    "- For the lazy, [jill](https://github.com/abelsiqueira/jill)\n",
    "- Let's take a moment to install Julia!"
   ]
  },
  {
   "cell_type": "markdown",
   "id": "d2252590",
   "metadata": {
    "slideshow": {
     "slide_type": "slide"
    }
   },
   "source": [
    "# How to edit Julia files\n",
    "\n",
    "- Julia code is just text files (most code is!)\n",
    "- You have options for a text editor:\n",
    "    - VS Code (the more contemporary, common one, good support)\n",
    "    - vim (medium nerds)\n",
    "    - emacs (huge nerds with big pinkies)\n",
    "    - Jupyter (more interactive programming)\n",
    "- I will be working in VS Code to make it easy for everyone, but you may choose your own editor if you have one"
   ]
  },
  {
   "cell_type": "markdown",
   "id": "4c598696",
   "metadata": {
    "slideshow": {
     "slide_type": "slide"
    }
   },
   "source": [
    "# Installing VS Code\n",
    "\n",
    "- Download VS Code ([https://code.visualstudio.com/download](https://code.visualstudio.com/download))\n",
    "- Install the Julia extension\n",
    "- Make a folder somewhere on your machine for this workshop!\n",
    "- Open the folder you made in VS Code -- `File > Open Folder` or using the command pallette `Ctrl + Shift + P > Open Folder`"
   ]
  },
  {
   "cell_type": "markdown",
   "id": "655f2e9e",
   "metadata": {
    "slideshow": {
     "slide_type": "slide"
    }
   },
   "source": [
    "# Your first Julia program (maybe)\n",
    "\n",
    "Everyone's first program in a new language is often \"Hello World\".\n",
    "\n",
    "A hello world script is intended to \n",
    "\n",
    "- let you know _real quick_ whether or not your setup is working\n",
    "- to show you the basics of how to make the code you wrote tell your computer what to do"
   ]
  },
  {
   "cell_type": "markdown",
   "id": "a16df79c",
   "metadata": {
    "slideshow": {
     "slide_type": "slide"
    }
   },
   "source": [
    "# Your first Julia program\n",
    "\n",
    "Make a file called `hello-world.jl`. \n",
    "\n",
    "The shortcut for this in VS Code is `Ctrl + N` -- this will open a new buffer, but no filename will be assigned until you save it (using `Ctrl + S`)."
   ]
  },
  {
   "cell_type": "markdown",
   "id": "075e5174",
   "metadata": {
    "slideshow": {
     "slide_type": "slide"
    }
   },
   "source": [
    "# Your first Julia program\n",
    "\n",
    "Type the following in your script:\n",
    "\n",
    "```julia\n",
    "println(\"Hello World!\")\n",
    "```"
   ]
  },
  {
   "cell_type": "markdown",
   "id": "e21e81cc",
   "metadata": {
    "slideshow": {
     "slide_type": "slide"
    }
   },
   "source": [
    "# Running your first Julia program\n",
    "\n",
    "Now we're going to run this. You have several options, depending on whether you are an interactive person or an old-school type (like me).\n",
    "\n",
    "- Interactive way is to move your cursor to a line an hit \n",
    "    - `Ctrl + Enter` to execute the line your cursor is on (or a selection)\n",
    "    - `Shift + Enter` to do the above, but also move down one line.\n",
    "- Old-school way \n",
    "    1. Open a terminal\n",
    "    2. Nagivate to your folder using `cd`\n",
    "    3. Type `julia hello-world.jl`\n",
    "    - Old-school notes\n",
    "        - VS Code has a terminal buffer you can open with `Ctrl + ` (the symbol is the backtick, in the top-left of your keyboard)\n",
    "        - You can use your system terminal if you know how.\n"
   ]
  },
  {
   "cell_type": "markdown",
   "id": "e7e7d2f1",
   "metadata": {
    "slideshow": {
     "slide_type": "slide"
    }
   },
   "source": [
    "# If it went well\n",
    "\n",
    "You should see the words `Hello world!` printed to your display!\n",
    "\n",
    "**CHECK IN!** Please reach out in the chat if anything broke or is not working."
   ]
  },
  {
   "cell_type": "markdown",
   "id": "bb67e251",
   "metadata": {
    "slideshow": {
     "slide_type": "slide"
    }
   },
   "source": [
    "# Going forward\n",
    "\n",
    "You can run your code however you like -- I will be running some code here in a Jupyter notebook.\n",
    "\n",
    "During concept checks, I will make a separate file for each problem to make sure you can see how I work in a live-code environment.\n",
    "\n",
    "Or, you can just dump it all in one file! Go with what works for you."
   ]
  },
  {
   "cell_type": "markdown",
   "id": "ca38ba22",
   "metadata": {
    "slideshow": {
     "slide_type": "slide"
    }
   },
   "source": [
    "# Questions?"
   ]
  },
  {
   "cell_type": "markdown",
   "id": "3384247f",
   "metadata": {
    "slideshow": {
     "slide_type": "slide"
    }
   },
   "source": [
    "# Julia basics\n",
    "\n",
    "Let's get into the language!"
   ]
  },
  {
   "cell_type": "markdown",
   "id": "9d4798b3",
   "metadata": {
    "slideshow": {
     "slide_type": "slide"
    }
   },
   "source": [
    "# Variables\n",
    "\n",
    "The natural place to start is with a __variable__.\n",
    "\n",
    "A variable in Julia is a symbol we bind/assign a value to.\n",
    "\n",
    "```julia\n",
    "# Assign the value of 2 to a variable x\n",
    "x = 2\n",
    "\n",
    "println(x + 2) # Should print out \"4\" to your display\n",
    "\n",
    "# Do some math, then update the value of x\n",
    "x = 5 + 8\n",
    "println(x) # Should display 13\n",
    "\n",
    "# Put a word into y\n",
    "y = \"howdy partner\"\n",
    "```"
   ]
  },
  {
   "cell_type": "code",
   "execution_count": null,
   "id": "c884bc09",
   "metadata": {
    "slideshow": {
     "slide_type": "slide"
    }
   },
   "outputs": [],
   "source": [
    "# More with variables\n",
    "x1 = 15\n",
    "red5 = 91\n",
    "hats = 2\n",
    "mapsie = -1\n",
    "tuba = 9\n",
    "\n",
    "answer = (x1 + red5) ^ hats * (mapsie/tuba)\n",
    "println(answer)"
   ]
  },
  {
   "cell_type": "markdown",
   "id": "a5582466",
   "metadata": {
    "slideshow": {
     "slide_type": "slide"
    }
   },
   "source": [
    "# Variable conventions\n",
    "\n",
    "- We typically use snake case in Julia (`long_variable_name` instead of `longVariableName`)\n",
    "- Variables start with a letter, underscore, or a handful of Unicode characters\n",
    "- `const x = 5` defines a constant variable, more on this later, but helpful if you know what that means."
   ]
  },
  {
   "cell_type": "markdown",
   "id": "a6f3cf41",
   "metadata": {
    "slideshow": {
     "slide_type": "slide"
    }
   },
   "source": [
    "# Concept check!\n",
    "\n",
    "Don't run these yet -- try to run them in your head first. What are the values of `c` and `x4`?\n",
    "\n",
    "## Q1\n",
    "\n",
    "```julia\n",
    "a = 3\n",
    "b = a + 1\n",
    "c = b * a\n",
    "println(c)\n",
    "```\n",
    "\n",
    "## Q2\n",
    "\n",
    "```julia\n",
    "x1 = 6\n",
    "x2 = x1 / 2\n",
    "x4 = x3 + x2\n",
    "println(x4)\n",
    "```"
   ]
  },
  {
   "cell_type": "markdown",
   "id": "47517a02",
   "metadata": {
    "slideshow": {
     "slide_type": "slide"
    }
   },
   "source": [
    "# Primitive types\n",
    "\n",
    "Julia has a handful of **primitive types**. Primitive types are variable types that are core to computing, things like\n",
    "\n",
    "- Booleans (`true/false`)\n",
    "- Integers, `Int` or `UInt` for unsigned (positive integers only)\n",
    "    - Comes in `Int8/Int16/Int32/Int64/Int128` sizes\n",
    "- Floating point (decimals), `Float16/Float32/Float64` for different precision\n",
    "- Arbitrary size constructs (very expensive, probably not needed)\n",
    "    - `BigInt`\n",
    "    - `BigFloat`"
   ]
  },
  {
   "cell_type": "markdown",
   "id": "0a3bb48e",
   "metadata": {
    "slideshow": {
     "slide_type": "slide"
    }
   },
   "source": [
    "# Primitive types\n",
    "\n",
    "- Strings & characters\n",
    "    - Quotes indicate a string (`String`), i.e. `\"hello world\"`\n",
    "    - Apostrophes denote a single character (`Char`), i.e. `'c'`\n",
    "- `Complex` numbers are supported natively, written `1 + 2im`\n",
    "- `Rational` numbers are supported with double slashes, `2 // 3`"
   ]
  },
  {
   "cell_type": "code",
   "execution_count": null,
   "id": "e0d9d3f1",
   "metadata": {
    "slideshow": {
     "slide_type": "slide"
    }
   },
   "outputs": [],
   "source": [
    "typeof(5)"
   ]
  },
  {
   "cell_type": "code",
   "execution_count": null,
   "id": "5eb2c1e7",
   "metadata": {},
   "outputs": [],
   "source": [
    "typeof(5.0)"
   ]
  },
  {
   "cell_type": "code",
   "execution_count": null,
   "id": "3291077c",
   "metadata": {
    "scrolled": true
   },
   "outputs": [],
   "source": [
    "typeof(true)"
   ]
  },
  {
   "cell_type": "code",
   "execution_count": null,
   "id": "e994648f",
   "metadata": {},
   "outputs": [],
   "source": [
    "typeof(\"howdy!\")"
   ]
  },
  {
   "cell_type": "code",
   "execution_count": null,
   "id": "ab9feb93",
   "metadata": {},
   "outputs": [],
   "source": [
    "typeof('h')"
   ]
  },
  {
   "cell_type": "markdown",
   "id": "c745465d",
   "metadata": {
    "slideshow": {
     "slide_type": "slide"
    }
   },
   "source": [
    "# Arithmatic operators\n",
    "\n",
    "All the common operators are supported!\n",
    "\n",
    "![](https://user-images.githubusercontent.com/422990/148709622-4bf18e9c-b8ce-4332-a3ec-f45731f49238.png)"
   ]
  },
  {
   "cell_type": "markdown",
   "id": "ecf75d0b",
   "metadata": {
    "slideshow": {
     "slide_type": "slide"
    }
   },
   "source": [
    "# Concept check!\n",
    "\n",
    "1. Define a variable called `z`. Put any numeric type in here -- float or int.\n",
    "2. Print out the remainder of `z` with the quotients (`2`, `4`, and `8`).\n",
    "3. Tinker around and see what happens when you change the value of `z` and rerun the code."
   ]
  },
  {
   "cell_type": "markdown",
   "id": "23c8a664",
   "metadata": {
    "slideshow": {
     "slide_type": "slide"
    }
   },
   "source": [
    "# Boolean operators\n",
    "\n",
    "Boolean algebra is how we work with `true` and `false` values. Julia supports all the common operators.\n",
    "\n",
    "- `!true` is __negation__\n",
    "- `x && y` means __and__. Returns `true` if `x` and `y` are both `true`, otherwise `false`.\n",
    "- `x || y` means __or__. Returns `true` if `x` or `y` is `true`, otherwise `false`.\n",
    "- All the bitwise operators. I won't cover these but they're [here](https://docs.julialang.org/en/v1/manual/mathematical-operations/#Bitwise-Operators).\n"
   ]
  },
  {
   "cell_type": "markdown",
   "id": "2de0a96b",
   "metadata": {
    "slideshow": {
     "slide_type": "slide"
    }
   },
   "source": [
    "# Comparison operators\n",
    "\n",
    "Comparison operators are how you get a `true` or `false` value out of any kind of comparison.\n",
    "\n",
    "- Equality: `x == y` returns `true` if `x` and `y` have the same value.\n",
    "- Inequality: `x != y` returns `true` if `x` and `y` are __NOT__ the same.\n",
    "- Less than: `x < y` returns `true` if `x` is __LESS__ than `y`.\n",
    "- Greater than: `x > y` returns `true` if `x` is __GREATER__ than `y`.\n",
    "    - Less than or greater than using equality are written `<=` or `>=`."
   ]
  },
  {
   "cell_type": "markdown",
   "id": "82be464f",
   "metadata": {
    "slideshow": {
     "slide_type": "slide"
    }
   },
   "source": [
    "# Concept check!\n",
    "\n",
    "`if` statements are a way of conditionally evaluating code (more on this later). For example, you can write\n",
    "\n",
    "```julia\n",
    "some_number = 16\n",
    "if some_number >= 15\n",
    "    println(\"It's larger than 15\")\n",
    "end\n",
    "```\n",
    "\n",
    "1. Make two variables, `var_a` and `var_b`. Put any numeric types in these variables.\n",
    "2. Print out `\"It's complicated\"` if `var_a` is greater than 1 or `var_b` is not less than 2.\n",
    "3. Try tinkering around with composing nots, ands, ors, and less thans if you complete step 2. You can put parentheses around stuff to enforce order of operations."
   ]
  },
  {
   "cell_type": "markdown",
   "id": "24bd097c",
   "metadata": {
    "slideshow": {
     "slide_type": "slide"
    }
   },
   "source": [
    "# Questions?"
   ]
  },
  {
   "cell_type": "markdown",
   "id": "78b3e06e",
   "metadata": {
    "slideshow": {
     "slide_type": "slide"
    }
   },
   "source": [
    "# Fun with Functions\n",
    "\n",
    "Functions are how we write significantly more complex code. \n",
    "\n",
    "In Julia, functions are a _fantastic_ way to get free speed! Write in functions when you can.\n",
    "\n",
    "A function is a construct accepting some number of inputs that returns some number of outputs -- think of it as copy-pasted code which you only write once. \n",
    "\n",
    "If you find yourself copy-pasting code two or more times, you should probably write a function instead."
   ]
  },
  {
   "cell_type": "markdown",
   "id": "dadd1581",
   "metadata": {
    "slideshow": {
     "slide_type": "slide"
    }
   },
   "source": [
    "The most common function definition is\n",
    "\n",
    "```julia\n",
    "function f(x, y)\n",
    "    x + y\n",
    "end\n",
    "```\n",
    "\n",
    "There is also a shorter way of defining functions:\n",
    "\n",
    "```julia\n",
    "f(x, y) = x + y\n",
    "```"
   ]
  },
  {
   "cell_type": "markdown",
   "id": "ce8e14f9",
   "metadata": {
    "slideshow": {
     "slide_type": "slide"
    }
   },
   "source": [
    "Functions are \"called\", which means that we provide the __inputs__ to the function, Julia will evaluate the function using those inputs, and __return__ whatever it has been asked to return.\n",
    "\n",
    "Let's try this with a simple polynomial function."
   ]
  },
  {
   "cell_type": "code",
   "execution_count": null,
   "id": "b7fd4895",
   "metadata": {
    "scrolled": true,
    "slideshow": {
     "slide_type": "slide"
    }
   },
   "outputs": [],
   "source": [
    "# Creating the function.\n",
    "function poly(x, y)\n",
    "    return 3x^2 + 2y^2 - 1*x*y\n",
    "end"
   ]
  },
  {
   "cell_type": "markdown",
   "id": "c59e8856",
   "metadata": {},
   "source": [
    "Note that we've only _defined_ the function -- it is only a recipe for what to do when the function is _called_ with some inputs `x` and `y`."
   ]
  },
  {
   "cell_type": "markdown",
   "id": "8fdb2c04",
   "metadata": {
    "slideshow": {
     "slide_type": "slide"
    }
   },
   "source": [
    "Calling the function is easy:"
   ]
  },
  {
   "cell_type": "code",
   "execution_count": null,
   "id": "2d41eee4",
   "metadata": {},
   "outputs": [],
   "source": [
    "poly(1, 2.5)"
   ]
  },
  {
   "cell_type": "markdown",
   "id": "32a77392",
   "metadata": {
    "slideshow": {
     "slide_type": "slide"
    }
   },
   "source": [
    "# Concept check!\n",
    "\n",
    "Consider a standard polynomial of degree 4:\n",
    "\n",
    "$$\n",
    "g(x) = \\theta_1 x^3 + \\theta_2 x^2 + \\theta_3 x + \\theta_4\n",
    "$$\n",
    "\n",
    "1. Write the polynomial function `g` that accepts a value $x$, but also the four coefficients $\\theta_1, \\dots, \\theta_4$.\n",
    "2. Write a second function `h` that accepts _only_ a value `x`, but evaluates `g` at the coefficients `4`, `-3`, `2`, and `10`.\n",
    "\n",
    "Recall that function syntax is\n",
    "\n",
    "```julia\n",
    "function f(args...)\n",
    "    ...\n",
    "end\n",
    "\n",
    "# Alternatively:\n",
    "f(args...) = ...\n",
    "```"
   ]
  },
  {
   "cell_type": "markdown",
   "id": "f0b96a86",
   "metadata": {
    "slideshow": {
     "slide_type": "slide"
    }
   },
   "source": [
    "# Type annotations\n",
    "\n",
    "We will talk a LOT about the type system today, but I want to introduce you to the idea that you can restrict your function to certain types of inputs by adding `::TypeName` after an argument:"
   ]
  },
  {
   "cell_type": "code",
   "execution_count": null,
   "id": "f162dfc9",
   "metadata": {
    "slideshow": {
     "slide_type": "-"
    }
   },
   "outputs": [],
   "source": [
    "afun(x::Int) = x + 1\n",
    "afun(x::Float64) = x / 2"
   ]
  },
  {
   "cell_type": "markdown",
   "id": "f00cfccb",
   "metadata": {
    "slideshow": {
     "slide_type": "slide"
    }
   },
   "source": [
    "This is an example of _multiple dispatch_, one of Julia's more wonderful features. See how the return value is different based on the input?"
   ]
  },
  {
   "cell_type": "code",
   "execution_count": null,
   "id": "0684a9e3",
   "metadata": {},
   "outputs": [],
   "source": [
    "afun(1) # This is calling afun with an Int type"
   ]
  },
  {
   "cell_type": "code",
   "execution_count": null,
   "id": "a001c5ab",
   "metadata": {},
   "outputs": [],
   "source": [
    "afun(1.0) # Calling with a `Float64` type"
   ]
  },
  {
   "cell_type": "markdown",
   "id": "d971777a",
   "metadata": {
    "slideshow": {
     "slide_type": "slide"
    }
   },
   "source": [
    "# What is `return`?\n",
    "\n",
    "`return` can be read as\n",
    "\n",
    "> Exit the function immediately! Give whatever called the function the thing to the right of `return`.\n",
    "\n",
    "For example:\n",
    "\n",
    "```julia\n",
    "function aces(x)\n",
    "    if x > 5\n",
    "        # This exits the function immediately!\n",
    "        return x + 5\n",
    "        \n",
    "        # Note that this occurs AFTER the return statement.\n",
    "        # This line will NEVER run.\n",
    "        println(x - 9)\n",
    "    end\n",
    "    \n",
    "    # If x <= 5, this line will run instead.\n",
    "    return x / 5\n",
    "end\n",
    "```"
   ]
  },
  {
   "cell_type": "markdown",
   "id": "bab07d0c",
   "metadata": {
    "slideshow": {
     "slide_type": "slide"
    }
   },
   "source": [
    "# Default return value\n",
    "\n",
    "If you don't write `return` at the end of a function, it will return the value of the last line.\n",
    "\n",
    "```julia\n",
    "function noreturn(a)\n",
    "    b = a % 2\n",
    "    \n",
    "    b # equivalent to writing return b in this case\n",
    "end\n",
    "```\n",
    "\n",
    "To see how this can change, look at the case where we only ever get `a` back:\n",
    "\n",
    "```julia\n",
    "function noreturn(a)\n",
    "    b = a % 2\n",
    "    \n",
    "    b # This line now means nothing, it is not the last line in the function\n",
    "    a\n",
    "end\n",
    "```"
   ]
  },
  {
   "cell_type": "markdown",
   "id": "82152c82",
   "metadata": {
    "slideshow": {
     "slide_type": "slide"
    }
   },
   "source": [
    "You can return whatever you want! \n",
    "\n",
    "If you separate your returned values with commas, you can get multiple values out of a function."
   ]
  },
  {
   "cell_type": "code",
   "execution_count": null,
   "id": "a8f36fe9",
   "metadata": {
    "slideshow": {
     "slide_type": ""
    }
   },
   "outputs": [],
   "source": [
    "twovals(a,b) = a*b, a/b, a+b, a-b"
   ]
  },
  {
   "cell_type": "code",
   "execution_count": null,
   "id": "f53ba3c9",
   "metadata": {},
   "outputs": [],
   "source": [
    "twovals(1,2)"
   ]
  },
  {
   "cell_type": "markdown",
   "id": "929a23ff",
   "metadata": {
    "slideshow": {
     "slide_type": "slide"
    }
   },
   "source": [
    "# Tuples\n",
    "\n",
    "You may have noted that the return value of `twovals` has parentheses around it -- this is called a __tuple__. \n",
    "\n",
    "We can extract values from the tuple using bracket notation:\n",
    "\n",
    "```julia\n",
    "a_tuple = (5, 10, 15)\n",
    "a_tuple[1] # this is 5\n",
    "a_tuple[3] # this is 15\n",
    "```\n",
    "\n",
    "A tuple is\n",
    "\n",
    "- Immutable (can't change it, i.e. `x=(1,2,3); x[1] = 4` will throw an error)\n",
    "- Ordered\n",
    "- Fixed-length"
   ]
  },
  {
   "cell_type": "markdown",
   "id": "02c431b3",
   "metadata": {
    "slideshow": {
     "slide_type": "slide"
    }
   },
   "source": [
    "We can _unpack_ a tuple by writing assigning variables on the left in the same shape as the tuple.\n",
    "\n",
    "For example, with the tuple `(15, \"red\", 8)`, we can assign `a=15`, `b=\"red\"`, and `c=8`."
   ]
  },
  {
   "cell_type": "code",
   "execution_count": null,
   "id": "86a331f6",
   "metadata": {},
   "outputs": [],
   "source": [
    "a,b,c = (15, \"red\", 8)\n",
    "\n",
    "println(c)"
   ]
  },
  {
   "cell_type": "markdown",
   "id": "9ae1c0e6",
   "metadata": {
    "slideshow": {
     "slide_type": "slide"
    }
   },
   "source": [
    "# Named tuples\n",
    "\n",
    "You can also give names to each position of a named tuple -- `NamedTuples` are amazing and I will talk a lot more about them in the performant Julia workshop.\n",
    "\n",
    "Here's a brief intro:"
   ]
  },
  {
   "cell_type": "code",
   "execution_count": null,
   "id": "739d3433",
   "metadata": {},
   "outputs": [],
   "source": [
    "namedtup = (thing1 = 'a', thing2 = 15, thing3 = [10,9,8])"
   ]
  },
  {
   "cell_type": "code",
   "execution_count": null,
   "id": "367c7741",
   "metadata": {},
   "outputs": [],
   "source": [
    "namedtup.thing2"
   ]
  },
  {
   "cell_type": "markdown",
   "id": "482e8c38",
   "metadata": {
    "slideshow": {
     "slide_type": "slide"
    }
   },
   "source": [
    "# Concept check!\n",
    "\n",
    "Write a function that accepts one argument. \n",
    "\n",
    "- If the argument is _positive_, return twice that argument AND the string `\"positive\"`.\n",
    "- If the argument is _negative_, return the __square__ of that argument AND the string `\"negative\"`. \n",
    "- If the argument is _zero_, return zero AND the string `\"zero\"`. "
   ]
  },
  {
   "cell_type": "markdown",
   "id": "d05bf97b",
   "metadata": {
    "slideshow": {
     "slide_type": "slide"
    }
   },
   "source": [
    "# Keywords\n",
    "\n",
    "You can allow functions to accept a _keyword_ argument, which is an argument you must specify by name when you call the function.\n",
    "\n",
    "Keyword arguments occur after a semicolon in the function definition:"
   ]
  },
  {
   "cell_type": "code",
   "execution_count": null,
   "id": "240fde73",
   "metadata": {
    "slideshow": {
     "slide_type": "-"
    }
   },
   "outputs": [],
   "source": [
    "f(x; coef = 2.0) = x * coef"
   ]
  },
  {
   "cell_type": "markdown",
   "id": "5280314e",
   "metadata": {
    "slideshow": {
     "slide_type": "-"
    }
   },
   "source": [
    "We have assigned a default value to `coef`, so the following will work:"
   ]
  },
  {
   "cell_type": "code",
   "execution_count": null,
   "id": "0060fe75",
   "metadata": {},
   "outputs": [],
   "source": [
    "f(2)"
   ]
  },
  {
   "cell_type": "markdown",
   "id": "c51c5b48",
   "metadata": {
    "slideshow": {
     "slide_type": "slide"
    }
   },
   "source": [
    "Because we've specified a keyword argument, we can also override `coef` if we want another value than `2`:"
   ]
  },
  {
   "cell_type": "code",
   "execution_count": null,
   "id": "8a95f638",
   "metadata": {
    "scrolled": true
   },
   "outputs": [],
   "source": [
    "f(2; coef=10)"
   ]
  },
  {
   "cell_type": "markdown",
   "id": "650d97e8",
   "metadata": {
    "slideshow": {
     "slide_type": "slide"
    }
   },
   "source": [
    "# Questions?"
   ]
  },
  {
   "cell_type": "markdown",
   "id": "e135a61a",
   "metadata": {
    "slideshow": {
     "slide_type": "slide"
    }
   },
   "source": [
    "# Array types\n",
    "\n",
    "Alright, we're all mathy people. We work with data, and that means we typically have lots and lots of numbers. \n",
    "\n",
    "Let's get some practice with how Julia thinks about vectors, matrices, and arrays!"
   ]
  },
  {
   "cell_type": "markdown",
   "id": "9de0b404",
   "metadata": {
    "slideshow": {
     "slide_type": "slide"
    }
   },
   "source": [
    "# Array types\n",
    "\n",
    "Vectors are created by surrounding some values with brackets `([1,2,3])` and separating the values with commas.\n",
    "\n",
    "```julia\n",
    "vector_var = [5,10,19]\n",
    "```\n",
    "\n",
    "Rectangular arrays have values within a row separated by __spaces__ and new columns indicated with a __semicolon__.\n",
    "\n",
    "```julia\n",
    "matrix_var = [1 2 3; 4 5 6]\n",
    "```"
   ]
  },
  {
   "cell_type": "markdown",
   "id": "f4c9b592",
   "metadata": {
    "slideshow": {
     "slide_type": "slide"
    }
   },
   "source": [
    "# Adding values to arrays\n",
    "\n",
    "You can expand arrays using `push!(vector, thing)`. \n",
    "\n",
    "The `!` at the end of the function name has no effect as far as Julia's compiler is concerned -- it is only a social convention to indicate that the function _mutates_ or _changes_ the input."
   ]
  },
  {
   "cell_type": "code",
   "execution_count": null,
   "id": "4df846cd",
   "metadata": {},
   "outputs": [],
   "source": [
    "xs = [5,6,7]\n",
    "push!(xs, 10)\n",
    "\n",
    "println(xs)"
   ]
  },
  {
   "cell_type": "markdown",
   "id": "0477285d",
   "metadata": {
    "slideshow": {
     "slide_type": "slide"
    }
   },
   "source": [
    "# Convenience functions\n",
    "\n",
    "- `length(xs)` tells you how long `xs` is. More useful for vector types.\n",
    "- `size(xs)` tells you the size of `xs` in a tuple -- one entry for each dimension. More useful for multidimensional array types.\n",
    "- `zeros(N)` gives you a vector of zeros of length `N`. You can make it multidimensional by adding more arguments, i.e. `zeros(n1, n2, n3)` will provide a 3d array.\n",
    "    - `ones(args...)` is the same but with ones instead of zeros\n",
    "    - By default the type of `zeros(n)` is `Vector{Float64}`, but you can set it to something else: `zeros(Int, 5)` is all integers.\n",
    "- `rand(n)` is random uniform values\n",
    "- `randn(n)` is random values from a standard Normal."
   ]
  },
  {
   "cell_type": "markdown",
   "id": "8a46f210",
   "metadata": {
    "slideshow": {
     "slide_type": "slide"
    }
   },
   "source": [
    "# Extracting values from arrays\n",
    "\n",
    "We extract the value of an array using brackets:\n",
    "\n",
    "```julia\n",
    "xs = [50, 100, 150]\n",
    "println(xs[1]) # this will print 50\n",
    "```\n",
    "\n",
    "For multidimensional arrays, it's the common notation separated by commas:\n",
    "\n",
    "```julia\n",
    "M = [10 11 12; 20 21 22]\n",
    "M[2,2] # This is 21\n",
    "```"
   ]
  },
  {
   "cell_type": "markdown",
   "id": "7e950a25",
   "metadata": {
    "slideshow": {
     "slide_type": "slide"
    }
   },
   "source": [
    "# Getting ranges of values\n",
    "\n",
    "We can get slices of data from array types using colons.\n",
    "\n",
    "- `xs[5:end]` extracts the values of `xs` from index `5` all the way to the end of the vector. `end` is a special word here -- you may be used to using something like `xs[5:length(x)]`, which you can do, but Julia makes it easy.\n",
    "- `xs[:,1]` grabs all values of column `1`.\n",
    "- `xs[1,:]` grabs all values of row `1`."
   ]
  },
  {
   "cell_type": "markdown",
   "id": "e18fe643",
   "metadata": {
    "slideshow": {
     "slide_type": "slide"
    }
   },
   "source": [
    "# Setting ranges of values\n",
    "\n",
    "Everything above allows you to _set_ values instead by putting an equal sign to the right of the indexing operation."
   ]
  },
  {
   "cell_type": "code",
   "execution_count": null,
   "id": "98f50c9c",
   "metadata": {},
   "outputs": [],
   "source": [
    "xs = zeros(5)\n",
    "\n",
    "xs[1] = 3\n",
    "xs[2:3] = [4,4.5]\n",
    "xs[4:end] = [1.0, 2.0]\n",
    "\n",
    "xs"
   ]
  },
  {
   "cell_type": "markdown",
   "id": "8c6625dc",
   "metadata": {
    "slideshow": {
     "slide_type": "slide"
    }
   },
   "source": [
    "# `map`\n",
    "\n",
    "`map` is a super common paradigm in many languages. It is how you apply a function to a set of inputs.\n",
    "\n",
    "The syntax is `map(function_name, things_to_input)`.\n",
    "\n",
    "`things_to_input` can be a lot of things:\n",
    "\n",
    "- Iterators, `map(f, 1:5)` returns `[f(1), f(2), f(3), f(4), f(4)]`.\n",
    "- Vectors, `map(f, [1,2,3,4,5])`\n",
    "- Ordered sets, dictionaries, etc. More on these later."
   ]
  },
  {
   "cell_type": "code",
   "execution_count": null,
   "id": "b78a7ac1",
   "metadata": {},
   "outputs": [],
   "source": [
    "xs = [5, 10, 11]\n",
    "doubler(input) = 2*input\n",
    "\n",
    "map(doubler, xs)"
   ]
  },
  {
   "cell_type": "code",
   "execution_count": null,
   "id": "abbcabd8",
   "metadata": {},
   "outputs": [],
   "source": [
    "map(doubler, 10:20)"
   ]
  },
  {
   "cell_type": "markdown",
   "id": "71184285",
   "metadata": {
    "slideshow": {
     "slide_type": "slide"
    }
   },
   "source": [
    "# Multiple input functions and `map`\n",
    "\n",
    "`map` only works with single-input functions -- if you have a function with multiple inputs, you'll need to either define a function that accepts one input, or write an __anonymous function__.\n",
    "\n",
    "An anonymous function looks like\n",
    "\n",
    "```julia\n",
    "x -> 2 * x\n",
    "```\n",
    "\n",
    "In the context of `map`, our `doubler` function from above could be rewritten as"
   ]
  },
  {
   "cell_type": "code",
   "execution_count": null,
   "id": "2f58530b",
   "metadata": {},
   "outputs": [],
   "source": [
    "xs = [5, 10, 11]\n",
    "\n",
    "map(x -> 2*x, xs)"
   ]
  },
  {
   "cell_type": "markdown",
   "id": "74bf9d6c",
   "metadata": {
    "slideshow": {
     "slide_type": "slide"
    }
   },
   "source": [
    "# Multiple inputs\n",
    "\n",
    "Anonymous functions are super useful when you want to `map` for functions with a lot of inputs. "
   ]
  },
  {
   "cell_type": "code",
   "execution_count": null,
   "id": "9c2e7856",
   "metadata": {},
   "outputs": [],
   "source": [
    "two_input_function(x, y) = x^2 / y\n",
    "\n",
    "map(m -> two_input_function(m, 3), [1,2,3,4])"
   ]
  },
  {
   "cell_type": "markdown",
   "id": "0fff2ce4",
   "metadata": {
    "slideshow": {
     "slide_type": "slide"
    }
   },
   "source": [
    "# Broadcasting\n",
    "\n",
    "If you come from other languages, you might be used to trying real hard to _vectorize_ your functions for performance. \n",
    "\n",
    "Julia makes this hilariously easy using __dot syntax__. Adding a dot between the function name and Julia will essentially call `map` on your behalf."
   ]
  },
  {
   "cell_type": "code",
   "execution_count": null,
   "id": "2dc7e718",
   "metadata": {},
   "outputs": [],
   "source": [
    "a = [1.0,2.0,3.0]"
   ]
  },
  {
   "cell_type": "code",
   "execution_count": null,
   "id": "cf115821",
   "metadata": {},
   "outputs": [],
   "source": [
    "sin.(a)"
   ]
  },
  {
   "cell_type": "markdown",
   "id": "df5ffbeb",
   "metadata": {
    "slideshow": {
     "slide_type": "slide"
    }
   },
   "source": [
    "# Concept check!\n",
    "\n",
    "We'll need a new package for this one. Go to your REPL and type `] add UnicodePlots`.\n",
    "\n",
    "We're going to plot a function we define:\n",
    "\n",
    "```julia\n",
    "function quadratic(x)\n",
    "    return x^2\n",
    "end\n",
    "```\n",
    "\n",
    "Create two variables:\n",
    "\n",
    "1. `xs`, representing the _range_ of this function from -10 to 10.\n",
    "2. `ys`, representing the _domain_ of this function evaluated using `xs`.\n",
    "\n",
    "Both `map` and dot syntax should get you here.\n",
    "\n",
    "Plot the quadratic function using the code\n",
    "\n",
    "```julia\n",
    "using UnicodePlots\n",
    "display(lineplot(xs, ys))\n",
    "```"
   ]
  },
  {
   "cell_type": "markdown",
   "id": "4f18d2e2",
   "metadata": {
    "slideshow": {
     "slide_type": "slide"
    }
   },
   "source": [
    "# Control flow\n",
    "\n",
    "Julia supports the standard control flow constructs:\n",
    "\n",
    "- Conditional evaluation: `if`, `elseif`, and `else`\n",
    "- Loops: `for` and `while`\n",
    "    - `continue` (skip the current iteration) \n",
    "    - `break` (exit loop)\n",
    "- `try`/`catch`/`finally` for error handling\n"
   ]
  },
  {
   "cell_type": "markdown",
   "id": "eb9cccc9",
   "metadata": {
    "slideshow": {
     "slide_type": "slide"
    }
   },
   "source": [
    "# Conditional evaluation\n",
    "\n",
    "The format for if/else blocks in Julia is\n",
    "\n",
    "```julia\n",
    "if thing\n",
    "    . . . # Runs if thing == true\n",
    "elseif another_thing\n",
    "    . . . # Runs if thing == false and another_thing == true\n",
    "elseif another_thing2\n",
    "    . . . # Runs if thing == false, another_thing == false, another_thing2 == true\n",
    "else\n",
    "    . . . # Runs if all above are false\n",
    "end\n",
    "```"
   ]
  },
  {
   "cell_type": "markdown",
   "id": "2cc5afa0",
   "metadata": {
    "slideshow": {
     "slide_type": "slide"
    }
   },
   "source": [
    "# Loops: the `for` loop\n",
    "\n",
    "`for` loops in `Julia` have two bits in them.\n",
    "\n",
    "```julia\n",
    "for i in [1,2,3,4,5]\n",
    "    println(i)\n",
    "end\n",
    "```\n",
    "\n",
    "The two parts are:\n",
    "\n",
    "- `[1,2,3,4,5]`, an \"iterable\" value. We want to loop through 1, then 2, then 3, and so on.\n",
    "- `i`, which is new variable that will take on the values in `[1,2,3,4,5]` as the code in the loop is evaluated."
   ]
  },
  {
   "cell_type": "markdown",
   "id": "ea64755f",
   "metadata": {
    "slideshow": {
     "slide_type": "slide"
    }
   },
   "source": [
    "# Loops\n",
    "\n",
    "You can put lots of things on the right-hand side of the loop:\n",
    "\n",
    "- Ranges of numbers: `for i in 1:10`\n",
    "- Strings: `for character in \"howdy partner\"`\n",
    "- Dictionaries: `for pair in Dict(:a => 1, :b => 2)`\n",
    "    - You can also unpack in a loop! Try `for (key, value) in Dict(:a => 1, :b => 2)`"
   ]
  },
  {
   "cell_type": "markdown",
   "id": "ac670329",
   "metadata": {
    "slideshow": {
     "slide_type": "slide"
    }
   },
   "source": [
    "# Concept check!\n",
    "\n",
    "Let's do some **times tables**!\n",
    "\n",
    "Write me a function that does the following:\n",
    "\n",
    "- Accepts `n`, which is the maximum value of a times table. \n",
    "- Returns an `n` by `n` array where the entries of the array are the product of the indices of that array.\n",
    "\n",
    "I.e. for `n=5`, I want to see a $5 \\times 5$ matrix where the `[3,2]` entry is `3 * 2 = 6`. \n",
    "\n",
    "For the math-types, the formulation is this:\n",
    "\n",
    "$$\n",
    "M(n) = \\begin{bmatrix}\n",
    "1 & 2 & 3 & \\dots & n \\\\\n",
    "2 & 4 & 6 & \\dots & 2n \\\\\n",
    "3 & 6 & 9 & \\dots & 3n \\\\\n",
    "\\vdots & & & & \\\\\n",
    "n & \\dots & & & n^2\n",
    "\\end{bmatrix}\n",
    "$$\n",
    "\n",
    "The value of $M(n)_{ij} = i\\times j$."
   ]
  },
  {
   "cell_type": "code",
   "execution_count": null,
   "id": "f11acf00",
   "metadata": {
    "slideshow": {
     "slide_type": "skip"
    }
   },
   "outputs": [],
   "source": [
    "function times_table(n)\n",
    "    M = zeros(Int, n, n)\n",
    "    \n",
    "    for i in 1:n\n",
    "        for j in 1:n\n",
    "            M[i,j] = i * j\n",
    "        end\n",
    "    end\n",
    "    \n",
    "    return M\n",
    "end\n",
    "\n",
    "times_table(5)"
   ]
  },
  {
   "cell_type": "markdown",
   "id": "67bdce9a",
   "metadata": {
    "slideshow": {
     "slide_type": "slide"
    }
   },
   "source": [
    "# The `while` loop\n",
    "\n",
    "A `while` loop, unlike the `for` loop, is more commonly thought of as one where you do not know ahead of time how long your loop is going to run."
   ]
  },
  {
   "cell_type": "code",
   "execution_count": null,
   "id": "aca68d53",
   "metadata": {
    "slideshow": {
     "slide_type": "-"
    }
   },
   "outputs": [],
   "source": [
    "x = 100\n",
    "while x > 1\n",
    "    println(x)\n",
    "    x = x / 2\n",
    "end\n"
   ]
  },
  {
   "cell_type": "markdown",
   "id": "0909c7c5",
   "metadata": {
    "slideshow": {
     "slide_type": "slide"
    }
   },
   "source": [
    "# Why use them?\n",
    "\n",
    "`while` loops are a lot more common in systems programming, web services, etc. \n",
    "\n",
    "In research computing we tend to know how much data we have at every point in the program, so `while` loops are just not as common."
   ]
  },
  {
   "cell_type": "markdown",
   "id": "7bdfe8a7",
   "metadata": {
    "slideshow": {
     "slide_type": "slide"
    }
   },
   "source": [
    "Doesn't mean they aren't useful! `while` loops are an excellent tool for optimizing an objective to within a tolerance, or doing something __until a quantity of interest converges__.\n",
    "\n",
    "For example, we might be looking for a value $V^n(x)$ until $G(V^n(x)) \\le \\epsilon$.\n",
    "\n",
    "```julia \n",
    "value = 0\n",
    "epsilon = 1e-8\n",
    "\n",
    "while loss_function(value) >= epsilon\n",
    "    . . . # Do some mathy stuff\n",
    "    value = new_value\n",
    "end\n",
    "```"
   ]
  },
  {
   "cell_type": "markdown",
   "id": "c5634ece",
   "metadata": {
    "slideshow": {
     "slide_type": "slide"
    }
   },
   "source": [
    "# `break` and `continue`\n",
    "\n",
    "Julia (like many languages) supports early skipping/termination of loops.\n",
    "\n",
    "`break` exits the current loop:"
   ]
  },
  {
   "cell_type": "code",
   "execution_count": null,
   "id": "01e4026f",
   "metadata": {
    "slideshow": {
     "slide_type": "-"
    }
   },
   "outputs": [],
   "source": [
    "for i in 1:10\n",
    "    println(i)\n",
    "    break\n",
    "end\n",
    "    \n",
    "println(\"all done\")"
   ]
  },
  {
   "cell_type": "markdown",
   "id": "6088ed1a",
   "metadata": {
    "slideshow": {
     "slide_type": "slide"
    }
   },
   "source": [
    "`continue` goes to the next iteration (in a `for` loop) or back to the `while` condition:"
   ]
  },
  {
   "cell_type": "code",
   "execution_count": null,
   "id": "06552091",
   "metadata": {
    "scrolled": true
   },
   "outputs": [],
   "source": [
    "for i in 1:10\n",
    "    # Skip even numbers\n",
    "    if rem(i, 2) == 0\n",
    "        continue\n",
    "    end\n",
    "    \n",
    "    println(i)\n",
    "end\n"
   ]
  },
  {
   "cell_type": "markdown",
   "id": "38154544",
   "metadata": {
    "slideshow": {
     "slide_type": "slide"
    }
   },
   "source": [
    "I had a boss once who got mad at me for using `break` and `continue` in production code, because it makes it very difficult to read. \n",
    "\n",
    "He is right! They are not the best tools.\n",
    "\n",
    "If you also have an annoyingly correct boss or care about your style, consider just using conditional evaluation:"
   ]
  },
  {
   "cell_type": "code",
   "execution_count": null,
   "id": "2df3af59",
   "metadata": {
    "scrolled": true,
    "slideshow": {
     "slide_type": ""
    }
   },
   "outputs": [],
   "source": [
    "for i in 1:10\n",
    "    if rem(i, 2) != 0\n",
    "        println(i)\n",
    "    end\n",
    "end"
   ]
  },
  {
   "cell_type": "markdown",
   "id": "545b36be",
   "metadata": {
    "slideshow": {
     "slide_type": "slide"
    }
   },
   "source": [
    "# Exceptions\n",
    "\n",
    "I am not going to teach you how to use `try`, `catch`, and `finally` here, because they are the world's greatest foot-gun if you don't understand them. \n",
    "\n",
    "I'll talk more about these in the __Performant Programming and Best Practices__ workshop.\n",
    "\n",
    "If you understand them already, I want to familiarize you with the syntax:"
   ]
  },
  {
   "cell_type": "code",
   "execution_count": null,
   "id": "2c034f52",
   "metadata": {},
   "outputs": [],
   "source": [
    "try \n",
    "    hats_are_a_dogs_best_friend(15, \"red\")\n",
    "catch e # e here is the exception struct\n",
    "    println(e)\n",
    "finally # finally executes regardless of whether we fell into the catch block\n",
    "    println(\"I did the work, boss\")\n",
    "end"
   ]
  },
  {
   "cell_type": "markdown",
   "id": "1ac137ee",
   "metadata": {
    "slideshow": {
     "slide_type": "slide"
    }
   },
   "source": [
    "# Linear algebra\n",
    "\n",
    "Econs LOVE linear algebra for some reason (nerds) so I figured I had to show you how to use it.\n",
    "\n",
    "Julia was originally intended to be a scientific computing language, so it comes with a very robust suite of linear algebra tools."
   ]
  },
  {
   "cell_type": "markdown",
   "id": "6df5f1ea",
   "metadata": {
    "slideshow": {
     "slide_type": "slide"
    }
   },
   "source": [
    "# Linear algebra functions\n",
    "\n",
    "If you import the `LinearAlgebra` module, you'll get a bunch of handy tools:\n",
    "\n",
    "- `inv` for matrix inversions\n",
    "- `det` for determinant\n",
    "- `tr` for trace\n",
    "- `eigvals` and `eigvecs` for eigen values and vectors, respectively.\n",
    "- `factorize` for more efficient representations of your matrix (upper, lower, diagonal, etc.)\n",
    "- Many more [here](https://docs.julialang.org/en/v1/stdlib/LinearAlgebra/)."
   ]
  },
  {
   "cell_type": "markdown",
   "id": "80357a79",
   "metadata": {
    "slideshow": {
     "slide_type": "slide"
    }
   },
   "source": [
    "# OLS\n",
    "\n",
    "I imagine many people in the audience are familiar with the normal equations for OLS.\n",
    "\n",
    "Consider the specification\n",
    "\n",
    "$$\n",
    "Y = X \\beta + \\epsilon\n",
    "$$\n",
    "\n",
    "We know that the least squares estimate of $\\beta$ is \n",
    "\n",
    "$$\n",
    "\\hat\\beta = (X'X)^{-1}X'Y\n",
    "$$\n",
    "\n",
    "Let's give it a shot."
   ]
  },
  {
   "cell_type": "code",
   "execution_count": null,
   "id": "2e73169e",
   "metadata": {
    "slideshow": {
     "slide_type": "slide"
    }
   },
   "outputs": [],
   "source": [
    "# Import the linear algebra functions.\n",
    "using LinearAlgebra\n",
    "\n",
    "# Create a 100x3 matrix of standard Gaussians\n",
    "X = randn(100, 3)\n",
    "X[:,1] = ones(size(X, 1)) # Add a constant column.\n",
    "\n",
    "# Define coefficient: intercept, coef on column 2, coef on column 3.\n",
    "β = [5.0, 2.0, -1.5]\n",
    "Y = X*β + randn(size(X, 1)); # The semicolon at the end prevents this line from displaying"
   ]
  },
  {
   "cell_type": "code",
   "execution_count": null,
   "id": "a97d8c89",
   "metadata": {
    "slideshow": {
     "slide_type": "slide"
    }
   },
   "outputs": [],
   "source": [
    "# Matrix squaring\n",
    "X'X"
   ]
  },
  {
   "cell_type": "code",
   "execution_count": null,
   "id": "487b4049",
   "metadata": {
    "slideshow": {
     "slide_type": "slide"
    }
   },
   "outputs": [],
   "source": [
    "# OLS normal equations\n",
    "β_hat = inv(X'X)X'Y"
   ]
  },
  {
   "cell_type": "code",
   "execution_count": null,
   "id": "65110751",
   "metadata": {},
   "outputs": [],
   "source": [
    "# Making predictions using β_hat\n",
    "Y_hat = X*β_hat\n",
    "\n",
    "# Calculating the SSE\n",
    "e = Y_hat - Y\n",
    "sse = e'e"
   ]
  },
  {
   "cell_type": "markdown",
   "id": "79ec6ea1",
   "metadata": {
    "slideshow": {
     "slide_type": "slide"
    }
   },
   "source": [
    "# Concept check!\n",
    "\n",
    "Let's do something cool -- let's roll our own little estimator that spits out (a) the coefficient estimates, (b) the variance covariance matrix of beta hat, and (c) t-stats (against null $\\beta_k=0 \\forall k$) for the coefficient estimator.\n",
    "\n",
    "Recall that\n",
    "\n",
    "\\begin{align*}\n",
    "\\hat \\beta &= (X'X)^{-1}X'Y \\\\\n",
    "s^2 &= \\frac{(\\hat Y - Y)'(\\hat Y - Y)}{n - K} \\\\\n",
    "\\Sigma^\\text{SE} &= s^2 (X'X)^{-1} \\\\ \n",
    "t_k &= \\frac{\\hat\\beta_k - \\beta_k}{\\Sigma^\\text{SE}_{kk}}\n",
    "\\end{align*}\n",
    "\n",
    "for number of observations $n$ and number of variables $K$. You can get `n, K = size(X)`.\n",
    "\n",
    "I will put bare-bones code that only has the coefficient estimates in the chat!"
   ]
  },
  {
   "cell_type": "code",
   "execution_count": null,
   "id": "7e3c70f2",
   "metadata": {
    "slideshow": {
     "slide_type": "skip"
    }
   },
   "outputs": [],
   "source": [
    "# Create a 100x3 matrix of standard Gaussians\n",
    "X = randn(100, 3)\n",
    "X[:,1] = ones(size(X, 1)) # Add a constant column.\n",
    "\n",
    "# Define coefficient: intercept, coef on column 2, coef on column 3.\n",
    "β = [5.0, 2.0, -1.5]\n",
    "Y = X*β + randn(size(X, 1)); # The semicolon at the end prevents this line from displaying\n",
    "\n",
    "# Expand this function to return\n",
    "# 1. beta_hat\n",
    "# 2. the variance covariance matrix of beta_hat\n",
    "# 3. t-stats for beta_hat\n",
    "function ols(X, Y)\n",
    "    beta_hat = inv(X'X)X'Y\n",
    "end\n",
    "\n",
    "ols(X, Y)"
   ]
  },
  {
   "cell_type": "code",
   "execution_count": null,
   "id": "4529c162",
   "metadata": {
    "slideshow": {
     "slide_type": "skip"
    }
   },
   "outputs": [],
   "source": [
    "# An answer key\n",
    "function ols(X, Y)\n",
    "    beta_hat = inv(X'X)X'Y\n",
    "    Y_hat = X*beta_hat\n",
    "    e = Y_hat - Y\n",
    "    \n",
    "    n = size(X, 1)\n",
    "    K = size(X, 2)\n",
    "    \n",
    "    s2 = e'e / (n-K)\n",
    "    sigma_se = s2 * inv(X'X)\n",
    "    t = beta_hat ./ diag(sigma_se)\n",
    "    \n",
    "    return beta_hat, sigma_se, t\n",
    "end\n",
    "\n",
    "beta_hat, sigma_se, t = ols(X, Y)"
   ]
  },
  {
   "cell_type": "markdown",
   "id": "bcebcb08",
   "metadata": {
    "slideshow": {
     "slide_type": "slide"
    }
   },
   "source": [
    "# Questions?"
   ]
  },
  {
   "cell_type": "markdown",
   "id": "b63fced5",
   "metadata": {
    "slideshow": {
     "slide_type": "slide"
    }
   },
   "source": [
    "# Types\n",
    "\n",
    "Julia does not have \"objects\" like you might be familiar with in R or Python. \n",
    "\n",
    "Julia has types. Everything in Julia has a type that may be a subtype of something else.\n",
    "\n",
    "You can actually have long chains of types. For example, the subgraph of types for `Int64` is"
   ]
  },
  {
   "cell_type": "code",
   "execution_count": null,
   "id": "6a2a6032",
   "metadata": {},
   "outputs": [],
   "source": [
    "# This line actually returns true/false -- the <: operator says \"left is a subtype of right\"\n",
    "Int64 <: Signed <: Integer <: Real <: Number <: Any"
   ]
  },
  {
   "cell_type": "markdown",
   "id": "431dc16c",
   "metadata": {
    "slideshow": {
     "slide_type": "slide"
    }
   },
   "source": [
    "# Type annotations\n",
    "\n",
    "You will often see code like `thing::NameOfType`. \n",
    "\n",
    "This is how you tell Julia's compiler `thing` should be of type `NameOfType` or a descendant of `NameOfType`. A shorthand operator for this is `typeof(thing) <: NameOfType`. If this does not evaluate to true, Julia will get mad at you."
   ]
  },
  {
   "cell_type": "code",
   "execution_count": null,
   "id": "ea909094",
   "metadata": {
    "scrolled": true
   },
   "outputs": [],
   "source": [
    "\"howdy\"::String"
   ]
  },
  {
   "cell_type": "code",
   "execution_count": null,
   "id": "a0eb8b36",
   "metadata": {},
   "outputs": [],
   "source": [
    "# Errors because typeof(1) is Int64, not Float64\n",
    "1::Float64"
   ]
  },
  {
   "cell_type": "code",
   "execution_count": null,
   "id": "a474067d",
   "metadata": {},
   "outputs": [],
   "source": [
    "# Real is a more general type, so you won't get an error here:\n",
    "1::Real"
   ]
  },
  {
   "cell_type": "markdown",
   "id": "a8b259d1",
   "metadata": {
    "slideshow": {
     "slide_type": "slide"
    }
   },
   "source": [
    "# Type annotations\n",
    "\n",
    "You can use type annotations to explicitly say what you think a type should be. In idiomatic Julia, it's not really common to do so outside of \n",
    "\n",
    "1. The argument types, i.e. \n",
    "\n",
    "```julia\n",
    "f(x::Int, y::Float64) = ...\n",
    "```\n",
    "\n",
    "2. The return value:\n",
    "\n",
    "```julia\n",
    "f(x::Float64, y::Float64) = (x+y)::Float64\n",
    "```\n",
    "\n",
    "In case 2, the compiler is typically able to infer the type of `(x+y)` without you needing to do the annotation. \n",
    "\n",
    "My recommendation? Keep type annotations to a **minimum**!"
   ]
  },
  {
   "cell_type": "markdown",
   "id": "e0467b2c",
   "metadata": {
    "slideshow": {
     "slide_type": "slide"
    }
   },
   "source": [
    "# Abstract types\n",
    "\n",
    "The core atom of Julia's type system is called an __abstract type__.\n",
    "\n",
    "An abstract type tells us about the _class of behaviors_ we should expect.\n",
    "\n",
    "In the case of integers, we know that `Integer` is an abstract type telling us that, whatever subtype we get (signed, unsigned, 8/16/32/64/128 bits, etc.), we can do all the things with the values that we do with other integers.\n",
    "\n",
    "Let me cook up an example for you to see how this works."
   ]
  },
  {
   "cell_type": "markdown",
   "id": "caf7b35f",
   "metadata": {
    "slideshow": {
     "slide_type": "slide"
    }
   },
   "source": [
    "# Abstract types & structs\n",
    "\n",
    "Abstract types cannot be __instantiated__, meaning we can't ever create them. They are just a way for us to organize the types we have.\n",
    "\n",
    "The things we _can_ instantiate are called __structs__. A struct is a wrapper around some fields. These are also known as _composite types_, _records_, and sometimes _objects_.\n",
    "\n",
    "Here is an example of how we might define a struct (with no supertype)."
   ]
  },
  {
   "cell_type": "code",
   "execution_count": null,
   "id": "76895ee5",
   "metadata": {
    "slideshow": {
     "slide_type": "slide"
    }
   },
   "outputs": [],
   "source": [
    "struct SomeStuff\n",
    "    field::Float64\n",
    "end\n",
    "\n",
    "some_stuff = SomeStuff(0.5)"
   ]
  },
  {
   "cell_type": "code",
   "execution_count": null,
   "id": "5ea94b0f",
   "metadata": {},
   "outputs": [],
   "source": [
    "some_stuff.field"
   ]
  },
  {
   "cell_type": "markdown",
   "id": "62f6596d",
   "metadata": {
    "slideshow": {
     "slide_type": "slide"
    }
   },
   "source": [
    "Now, let me show you how we can combine __structs__ (things we can actually make) and __abstract types__ (concepts that organize our structs).\n",
    "\n",
    "I'm going to wrap these types in a `module`, which you can think of as a little library of types and functions that serve a specific purpose."
   ]
  },
  {
   "cell_type": "code",
   "execution_count": null,
   "id": "3c79abde",
   "metadata": {
    "slideshow": {
     "slide_type": "slide"
    }
   },
   "outputs": [],
   "source": [
    "module VehicleTypes\n",
    "\n",
    "# Our top level type\n",
    "abstract type MobilityDevice end\n",
    "\n",
    "# Subtypes for car/bicycle\n",
    "abstract type Car <: MobilityDevice end\n",
    "abstract type Bicycle <: MobilityDevice end\n",
    "\n",
    "# Subtypes for car\n",
    "struct Combustion <: Car \n",
    "    gallons::Float64\n",
    "    mpg::Float64\n",
    "end\n",
    "struct Electric <: Car \n",
    "    emiles::Int64\n",
    "end\n",
    "\n",
    "# Subtypes for bicycle\n",
    "struct Road <: Bicycle\n",
    "    purchase_cost::Float64\n",
    "end\n",
    "struct Mountain <: Bicycle\n",
    "    maintenance_cost::Float64\n",
    "end\n",
    "\n",
    "# Make our types available outside the module\n",
    "export Electric, Combustion, \n",
    "    Road, Mountain, \n",
    "    Car, Bicycle, \n",
    "    MobilityDevice\n",
    "\n",
    "end"
   ]
  },
  {
   "cell_type": "code",
   "execution_count": null,
   "id": "0aa36ad5",
   "metadata": {
    "slideshow": {
     "slide_type": "slide"
    }
   },
   "outputs": [],
   "source": [
    "# Import the types we just made\n",
    "using Main.VehicleTypes"
   ]
  },
  {
   "cell_type": "markdown",
   "id": "b5ea2a3b",
   "metadata": {
    "slideshow": {
     "slide_type": "slide"
    }
   },
   "source": [
    "Now let's _instantiate_ some of the structs we made (`Electric`, `Combustion`, `Road`, `Mountain`)"
   ]
  },
  {
   "cell_type": "code",
   "execution_count": null,
   "id": "2f45b4b7",
   "metadata": {
    "slideshow": {
     "slide_type": "slide"
    }
   },
   "outputs": [],
   "source": [
    "electric_car = Electric(225.0)\n",
    "ice_car = Combustion(11.0, 21.0) # just shy of an 11 gallon tank\n",
    "fast_bike = Road(1500.99)\n",
    "cool_bike = Mountain(49.99)"
   ]
  },
  {
   "cell_type": "code",
   "execution_count": null,
   "id": "fa83f144",
   "metadata": {
    "slideshow": {
     "slide_type": "slide"
    }
   },
   "outputs": [],
   "source": [
    "# Which ones move?\n",
    "moves(thing::MobilityDevice) = true\n",
    "moves(thing) = false # this is equivalent to moves(thing::Any)\n",
    "\n",
    "map(moves, [electric_car, ice_car, fast_bike, cool_bike, \"hats\"])"
   ]
  },
  {
   "cell_type": "code",
   "execution_count": null,
   "id": "4f3fd284",
   "metadata": {
    "slideshow": {
     "slide_type": "slide"
    }
   },
   "outputs": [],
   "source": [
    "# Check which ones are human powered\n",
    "human_powered(thing::Car) = false\n",
    "human_powered(thing::Bicycle) = true\n",
    "\n",
    "map(human_powered, [electric_car, ice_car, fast_bike, cool_bike])"
   ]
  },
  {
   "cell_type": "code",
   "execution_count": null,
   "id": "7a4ace8a",
   "metadata": {
    "slideshow": {
     "slide_type": "slide"
    }
   },
   "outputs": [],
   "source": [
    "# How far can we go?\n",
    "distance_avail(thing::Electric) = thing.emiles\n",
    "distance_avail(thing::Combustion) = thing.gallons * thing.mpg\n",
    "\n",
    "map(distance_avail, [electric_car, ice_car])"
   ]
  },
  {
   "cell_type": "code",
   "execution_count": null,
   "id": "3c027359",
   "metadata": {
    "slideshow": {
     "slide_type": "slide"
    }
   },
   "outputs": [],
   "source": [
    "# Which car should I buy, using only distance as my criteria?\n",
    "function which_car(cars::Vector{<:Car})\n",
    "    distances = map(distance_avail, cars)\n",
    "    dist, position = findmax(distances)\n",
    "    return cars[position]\n",
    "end\n",
    "\n",
    "cars = [\n",
    "    Combustion(10, 15),\n",
    "    Combustion(13, 12),\n",
    "    Combustion(11, 32),\n",
    "    Electric(222),\n",
    "    Electric(224),\n",
    "    Electric(312)\n",
    "]"
   ]
  },
  {
   "cell_type": "code",
   "execution_count": null,
   "id": "446f11c5",
   "metadata": {
    "slideshow": {
     "slide_type": "slide"
    }
   },
   "outputs": [],
   "source": [
    "# Let's call it! What car should I buy?\n",
    "best_car = which_car(cars)"
   ]
  },
  {
   "cell_type": "markdown",
   "id": "01d3e450",
   "metadata": {
    "slideshow": {
     "slide_type": "slide"
    }
   },
   "source": [
    "# Multiple dispatch\n",
    "\n",
    "Everything I've done above is an example of __multiple dispatch__. We defined a hierarchy of types, and defined functions that\n",
    "\n",
    "1. Operated differently on different types\n",
    "2. Operated differently at different _levels_ of types\n",
    "\n",
    "Multiple dispatch turns out to be an amazing tool -- you can define different functions for different inputs that use the same name!"
   ]
  },
  {
   "cell_type": "markdown",
   "id": "25de1254",
   "metadata": {},
   "source": [
    "# Questions?"
   ]
  },
  {
   "cell_type": "markdown",
   "id": "c750d208",
   "metadata": {
    "slideshow": {
     "slide_type": "slide"
    }
   },
   "source": [
    "# Data input/output (I/O)\n",
    "\n",
    "The common way to get data into Julia is using CSV files, but you can import basically any data file (.dta, .mat, .b7dat, etc.)\n",
    "\n",
    "I'll show you how to import data with the package `CSV`.\n",
    "\n",
    "First, we need to install it! I'll have you install `DataFrames` too, while we're at it.\n",
    "\n",
    "Access the REPL and type `] add CSV DataFrames`."
   ]
  },
  {
   "cell_type": "code",
   "execution_count": null,
   "id": "6984e1d3",
   "metadata": {},
   "outputs": [],
   "source": []
  },
  {
   "cell_type": "markdown",
   "id": "18190a99",
   "metadata": {
    "slideshow": {
     "slide_type": "slide"
    }
   },
   "source": [
    "# Questions?\n",
    "\n",
    "Next up is the project!"
   ]
  },
  {
   "cell_type": "markdown",
   "id": "f34a52ae",
   "metadata": {
    "slideshow": {
     "slide_type": "slide"
    }
   },
   "source": [
    "# Project time\n",
    "\n",
    "For the individual project today, I want us to do something very simple that should help you figure out how to work with multiple dispatch in a Julian way.\n",
    "\n",
    "We are going to write an `ols` function that allows you to optionally request bootstrapped standard errors!"
   ]
  },
  {
   "cell_type": "markdown",
   "id": "68a8f8ee",
   "metadata": {
    "slideshow": {
     "slide_type": "slide"
    }
   },
   "source": [
    "# Bootstrapping\n",
    "\n",
    "Bootstrapping is a simple statistical procedure that happens to be computationally fun. If you already know how to do this in other languages, feel free to glaze over here.\n",
    "\n",
    "Otherwise, here's the framework. Let's begin with a simple linear model:\n",
    "\n",
    "$$\n",
    "Y = X \\beta + \\epsilon, \\quad \\epsilon \\sim N(0, \\Sigma)\n",
    "$$\n",
    "\n",
    "A simple form for $\\Sigma$, often called spherical or homoscedastic errors, has\n",
    "\n",
    "$$\n",
    "\\Sigma = \\begin{bmatrix}\n",
    "\\sigma^2 & 0        & \\dots \\\\\n",
    "0        & \\sigma^2 &       \\\\\n",
    "\\vdots   &          & \\ddots \\\\ \n",
    "\\end{bmatrix} = \\sigma^2 I\n",
    "$$"
   ]
  },
  {
   "cell_type": "markdown",
   "id": "099013e3",
   "metadata": {
    "slideshow": {
     "slide_type": "slide"
    }
   },
   "source": [
    "## Spherical errors\n",
    "\n",
    "Consider the OLS estimator \n",
    "\n",
    "$$\n",
    "\\hat\\beta = (X'X)^{-1}X'Y\n",
    "$$\n",
    "\n",
    "we know that assuming spherical standard errors here yields\n",
    "\n",
    "$$\n",
    "\\text{Var}[\\hat\\beta \\mid X] = \\sigma^2 (X'X)^{-1}\n",
    "$$\n",
    "\n",
    "where we can estimate $\\sigma^2$ with $s^2$:\n",
    "\n",
    "$$\n",
    "s^2 = \\frac{(\\hat Y - Y)'(\\hat Y - Y)}{n - K}\n",
    "$$"
   ]
  },
  {
   "cell_type": "markdown",
   "id": "d02983fc",
   "metadata": {
    "slideshow": {
     "slide_type": "slide"
    }
   },
   "source": [
    "## Bootstrapping\n",
    "\n",
    "If we don't really want to make this assumption, or we don't want to do the math to get the variance structure of our estimator, we can just bootstrap it! (don't @ me if you are mad about this, ain't no amazing econometrician)\n",
    "\n",
    "The bootstrapping procedure goes something like this:\n",
    "\n",
    "1. Estimate $\\hat \\beta$ $T$ times, with different subsamples. For each $t$ in $1,\\dots,T$:\n",
    "    1. Sample $m$ data points from $X$ and $Y$ with replacement. Denote these $X_t$ and $Y_t$.\n",
    "    2. Estimate $\\hat\\beta_t$ using the resampled $(X_t, Y_t)$.\n",
    "2. Calculate the final estimates and their standard errors as\n",
    "\n",
    "\\begin{align*}\n",
    "    \\hat\\beta &= \\frac1T \\sum_{t}^T \\hat\\beta_t \\\\ \n",
    "    SE(\\hat\\beta) &= \\frac{1}{\\sqrt{T}} \\sqrt{\\text{diag}\\bigg(\\sum_{t}^T (\\hat\\beta_t - \\hat \\beta)(\\hat\\beta_t - \\hat \\beta)' \\bigg)}\n",
    "\\end{align*}"
   ]
  },
  {
   "cell_type": "markdown",
   "id": "e5b1a7e7",
   "metadata": {
    "slideshow": {
     "slide_type": "slide"
    }
   },
   "source": [
    "# Project\n",
    "\n",
    "Your goal for the project is to start with the following code:\n",
    "\n",
    "```julia\n",
    "using LinearAlgebra, Statistics\n",
    "\n",
    "n = 100\n",
    "x = [ones(n) rand(1:0.1:10, n)]\n",
    "b,sigma = [2.5, -1.2], 1\n",
    "y = x*b + sigma .* randn(n);\n",
    "```\n",
    "\n",
    "Next, I want you to write the code to make the following work:\n",
    "\n",
    "```julia\n",
    "ols(x, y, Spherical()) # returns OLS estimates + spherical standard errors\n",
    "ols(x, y, Bootstrapped(10000, 10)) # Bootstrapped estimates with T=10,000, subsample size m = 10\n",
    "```\n",
    "\n",
    "You will need to define `struct`s for `Spherical` and for `Boostrapped`! Signatures for the above might start\n",
    "\n",
    "```julia\n",
    "function ols(x, y, est::Spherical)\n",
    "    . . .\n",
    "end\n",
    "\n",
    "function ols(x, y, est::Boostrapped)\n",
    "    . . .\n",
    "end\n",
    "```\n",
    "\n",
    "### Bonus tasks\n",
    "\n",
    "Here's some extra stuff to do if you want more of a challenge or you have extra time. You'll need to do some research!\n",
    "\n",
    "1. Wrap up your estimates from `ols` in a `DataFrame`. You'll need to add this to your environment with `] add DataFrames` and put `using DataFrames` at the top of your script.\n",
    "2. Try to parallelize your bootstrapping procedure! Could be challenging but I'm happy to help. Useful tools are\n",
    "    - `Threads.@threads for thing in ...`\n",
    "        - Will require the use of a lock (I recommend `SpinLock`)! Reach out to me if you want to see how this works.\n",
    "    - `ThreadsX.map(z -> beta_hat(x, y, rand(1:length(y), m), 1:T)` requires that you run `]add ThreadsX` first and put `using ThreadsX` at the top of your script.\n",
    "3. Modify your code to plot the distribution of bootstrapped beta estimates, using `UnicodePlots.density` or `Plots.density`. Could be more interesting if you change the error distribution to something more interesting, like `exp.(randn(n))`.\n",
    "4. Try implementing the above but with instrumental variables! You will need to modify your underlying data a little to support this.\n"
   ]
  }
 ],
 "metadata": {
  "celltoolbar": "Slideshow",
  "kernelspec": {
   "display_name": "Julia 1.6.5",
   "language": "julia",
   "name": "julia-1.6"
  },
  "language_info": {
   "file_extension": ".jl",
   "mimetype": "application/julia",
   "name": "julia",
   "version": "1.6.5"
  }
 },
 "nbformat": 4,
 "nbformat_minor": 5
}
