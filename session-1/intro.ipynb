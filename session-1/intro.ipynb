{
 "cells": [
  {
   "cell_type": "markdown",
   "id": "c290548d",
   "metadata": {
    "slideshow": {
     "slide_type": "slide"
    }
   },
   "source": [
    "# Julia for Economics Bootcamp\n",
    "\n",
    "## Session 1: Julia Basics\n",
    "\n",
    "### Cameron Pfiffer (cpfiffer@stanford.edu)"
   ]
  },
  {
   "cell_type": "markdown",
   "id": "09d8ff99",
   "metadata": {
    "slideshow": {
     "slide_type": "slide"
    }
   },
   "source": [
    "# Who am I?\n",
    "\n",
    "My name is Cameron Pfiffer. I'm a visiting PhD student in finance from the University of Oregon. \n",
    "\n",
    "In my research, I mostly work on anything computational, so Bayesian methods, applied metrics, macroeconomics, etc. I really like computers."
   ]
  },
  {
   "cell_type": "markdown",
   "id": "f775abcf",
   "metadata": {
    "slideshow": {
     "slide_type": "slide"
    }
   },
   "source": [
    "# Why does anything I say mean anything?\n",
    "\n",
    "I've been a core developer of Turing.jl and its sattelite packages for four years. Turing.jl is a package for probabilistic programming written in Julia. \n",
    "\n",
    "I've written oodles of Julia code and consider myself reasonably good at producing performant, idiomatic, and easily-read Julia code."
   ]
  },
  {
   "cell_type": "markdown",
   "id": "8148600a",
   "metadata": {
    "slideshow": {
     "slide_type": "slide"
    }
   },
   "source": [
    "# What is this series?\n",
    "\n",
    "I'm going to be presenting one workshop a week. Topics are tailored towards researchers who need to work with non-standard statistical methods or computational tools.\n",
    "\n",
    "- Julia Basics (today)\n",
    "- Parallelization for Economists (Februrary)\n",
    "- Optimization and Automatic Differentiation (March)\n",
    "- Performant Programming and Best Practices (April)\n",
    "- Bayesian Inference and Probabilistic Programming (May)\n",
    "\n",
    "**If there is something you want to know how to do, please contact me!**"
   ]
  },
  {
   "cell_type": "markdown",
   "id": "75032bcd",
   "metadata": {
    "slideshow": {
     "slide_type": "slide"
    }
   },
   "source": [
    "# What is the structure of each session?\n",
    "\n",
    "I will lecture on a specific concept for 10-15 minutes and then provide you small practice tasks to solidify your learning."
   ]
  },
  {
   "cell_type": "markdown",
   "id": "e2dcc6e2",
   "metadata": {
    "slideshow": {
     "slide_type": "slide"
    }
   },
   "source": [
    "During the practice tasks, you will have access to breakout rooms of different interest levels according to how interested you are in completing the task:\n",
    "\n",
    "- **Nerd** (gotta do it, want to be around others who are interested in completing the task)\n",
    "- **Geek** (mildly interested, unphased if you don't complete it, more solo-work oriented)\n",
    "- **Dork** (if you just want to disappear and not write any code)\n",
    "\n",
    "At the end of each concept check I will bring everyone back together and go through an answer live."
   ]
  },
  {
   "cell_type": "markdown",
   "id": "4967cabc",
   "metadata": {
    "slideshow": {
     "slide_type": "slide"
    }
   },
   "source": [
    "We will have a ten minute break each hour, with a fifteen minute break at 10am.\n",
    "\n",
    "At noon, I will provide you a small project that you should be able to accomplish within an hour. I will be available to provide guidance or suggestions and answer questions."
   ]
  },
  {
   "cell_type": "markdown",
   "id": "6730f758",
   "metadata": {
    "slideshow": {
     "slide_type": "slide"
    }
   },
   "source": [
    "# House rules: Zoom\n",
    "\n",
    "Since we are unfortunately limited to Zoom, I wanted to outline workshop behavior to make sure we have a productive class.\n",
    "\n",
    "1. **Please speak up!** I am happy to be interrupted! \n",
    "2. If you don't want to speak up, **please put your questions in the chat**. Natalya will be available to answer smaller questions, or to relay them to me if they are more complex.\n",
    "\n",
    "I prefer interactive classes!"
   ]
  },
  {
   "cell_type": "markdown",
   "id": "abaddb59",
   "metadata": {
    "slideshow": {
     "slide_type": "slide"
    }
   },
   "source": [
    "# House rules: \"stupid questions\"\n",
    "\n",
    "Do not start a sentence with \"Maybe this is a stupid question, but...\"\n",
    "\n",
    "There are **literally zero stupid questions**. \n",
    "\n",
    "Programming is suffering and I'm here to make it palatable -- please please **PLEASE** ask me if you start to feel yourself get off track."
   ]
  },
  {
   "cell_type": "markdown",
   "id": "0f29da49",
   "metadata": {
    "slideshow": {
     "slide_type": "slide"
    }
   },
   "source": [
    "Best case scenario, everyone else is confused and asking the question solves a bunch of problems. \n",
    "\n",
    "Worst case scenario, you yourself become less confused and other people concretize their understandings as well!"
   ]
  },
  {
   "cell_type": "markdown",
   "id": "b0307461",
   "metadata": {
    "slideshow": {
     "slide_type": "slide"
    }
   },
   "source": [
    "# My manner of speech\n",
    "\n",
    "When I am excited, like right now, I tend to \n",
    "\n",
    "- Talk fast\n",
    "- Use idioms\n",
    "- Use slang\n",
    "\n",
    "and this can be difficult to follow for non-native English speakers.\n",
    "\n",
    "Please let me know if I slip up!"
   ]
  },
  {
   "cell_type": "markdown",
   "id": "7e17198d",
   "metadata": {
    "slideshow": {
     "slide_type": "slide"
    }
   },
   "source": [
    "# What are we doing today?\n",
    "\n",
    "- What is Julia?\n",
    "- How to install Julia\n",
    "- How to write code in Julia\n",
    "- Julia syntax \n",
    "    - Variables, operators, language primitives\n",
    "    - Functions\n",
    "    - Array types, broadcasting\n",
    "    - Control flow, breaking bad habits from R/Stata/Matlab\n",
    "    - Types\n",
    "    - Julia's superpower, **multiple dispatch**!\n",
    "- Core package tour\n",
    "    - CSV and DataFrames (awesome data goon tools)\n",
    "    - FixedEffectModels (fixed effects, clustering, IVs, etc.)\n",
    "    - Visualization\n",
    "- Maximum likelihood (time permitting)"
   ]
  },
  {
   "cell_type": "markdown",
   "id": "e2d1ad2e",
   "metadata": {
    "slideshow": {
     "slide_type": "slide"
    }
   },
   "source": [
    "# Questions before we start?"
   ]
  },
  {
   "cell_type": "markdown",
   "id": "28fb1ce1",
   "metadata": {
    "slideshow": {
     "slide_type": "slide"
    }
   },
   "source": [
    "# Let's gooOoooOooooooOOOooo\n",
    "\n",
    "![](https://media.giphy.com/media/q1kBdDry3xudsp0DDm/giphy.gif)"
   ]
  },
  {
   "cell_type": "markdown",
   "id": "ccdbacab",
   "metadata": {
    "slideshow": {
     "slide_type": "slide"
    }
   },
   "source": [
    "# Disclaimer!\n",
    "\n",
    "- I am not a salesman\n",
    "- Julia is one of many languages\n",
    "- Julia just happens to be a great tool\n",
    "- All languages are tools, use what works \n",
    "- I will not indulge in your Stata/R flame war because that's where we all lose\n",
    "    - Stata does make me mad though so ask questions about it at your own risk\n",
    "- Use Julia when (a) it is appropriate or (b) when you want to work with it"
   ]
  },
  {
   "cell_type": "markdown",
   "id": "83b176a8",
   "metadata": {
    "slideshow": {
     "slide_type": "slide"
    }
   },
   "source": [
    "# What is Julia?\n",
    "\n",
    "Julia is \n",
    "\n",
    "- Easy to learn, easy to write\n",
    "- Hilariously fast if you write it correctly, but still fast if write it incorrectly\n",
    "- Just-in-time compiled (JIT), though can be interpreted/AOT compiled\n",
    "- Dynamically typed\n",
    "- Highly reproducible across computing environments\n",
    "- Composable (more on this later!)\n",
    "- General purpose, but extremely good at scientific computing\n",
    "- Open source! The best thing!\n",
    "- Beautiful"
   ]
  },
  {
   "cell_type": "markdown",
   "id": "33bbcb6d",
   "metadata": {
    "slideshow": {
     "slide_type": "slide"
    }
   },
   "source": [
    "# What Julia is NOT (yet)\n",
    "\n",
    "- A smash-and-grab analysis tool (i.e. not a great replacement for random 1-second Python/R/Stata scripts)\n",
    "- A place to find canned, ultra-robust, advanced (classical) statistical tools\n",
    "    - Here I mean stuff like 3SLS, weirdo GMM, etc. You can do them but it's not a one-line call (yet).\n",
    "    - SAS/Stata are very old and have some amazing stuff that is really, really well written!\n",
    "    - If this is a need you have and you want it in Julia, reach out to me and I'll see what we can make happen.\n"
   ]
  },
  {
   "cell_type": "markdown",
   "id": "0696e2e2",
   "metadata": {
    "slideshow": {
     "slide_type": "slide"
    }
   },
   "source": [
    "# Demo\n",
    "\n",
    "Let's see some common stuff you might do, starting with some basic stats."
   ]
  },
  {
   "cell_type": "code",
   "execution_count": 1,
   "id": "00f963d4",
   "metadata": {
    "slideshow": {
     "slide_type": "slide"
    }
   },
   "outputs": [
    {
     "name": "stdout",
     "output_type": "stream",
     "text": [
      "\n",
      "----------------------------------------------------------\n",
      "                         SepalLength            SepalWidth\n",
      "               ------------------------------   ----------\n",
      "                    (1)        (2)        (3)          (4)\n",
      "----------------------------------------------------------\n",
      "SepalWidth     0.804***   0.432***   0.496***             \n",
      "                (0.106)    (0.081)    (0.086)             \n",
      "PetalLength               0.776***   0.829***      -0.188*\n",
      "                           (0.064)    (0.069)      (0.083)\n",
      "PetalWidth                            -0.315*     0.626***\n",
      "                                      (0.151)      (0.123)\n",
      "SepalLength                                       0.378***\n",
      "                                                   (0.066)\n",
      "----------------------------------------------------------\n",
      "SpeciesDummy        Yes        Yes        Yes          Yes\n",
      "----------------------------------------------------------\n",
      "Estimator           OLS        OLS        OLS          OLS\n",
      "----------------------------------------------------------\n",
      "N                   150        150        150          150\n",
      "R2                0.726      0.863      0.867        0.635\n",
      "----------------------------------------------------------\n",
      "\n",
      "\n"
     ]
    }
   ],
   "source": [
    "using RegressionTables, DataFrames, FixedEffectModels, RDatasets\n",
    "\n",
    "df = dataset(\"datasets\", \"iris\")\n",
    "df[!,:SpeciesDummy] = string.(df[!,:Species])\n",
    "\n",
    "rr1 = reg(df, @formula(SepalLength ~ SepalWidth + fe(SpeciesDummy)))\n",
    "rr2 = reg(df, @formula(SepalLength ~ SepalWidth + PetalLength + fe(SpeciesDummy)))\n",
    "rr3 = reg(df, @formula(SepalLength ~ SepalWidth + PetalLength + PetalWidth + fe(SpeciesDummy)))\n",
    "rr4 = reg(df, @formula(SepalWidth ~ SepalLength + PetalLength + PetalWidth + fe(SpeciesDummy)))\n",
    "\n",
    "regtable(rr1,rr2,rr3,rr4; renderSettings = asciiOutput())"
   ]
  },
  {
   "cell_type": "markdown",
   "id": "bd14f315",
   "metadata": {
    "slideshow": {
     "slide_type": "slide"
    }
   },
   "source": [
    "Maybe you want to do some Bayesian stuff instead:"
   ]
  },
  {
   "cell_type": "code",
   "execution_count": 2,
   "id": "8944aa62",
   "metadata": {
    "slideshow": {
     "slide_type": "slide"
    }
   },
   "outputs": [
    {
     "name": "stderr",
     "output_type": "stream",
     "text": [
      "┌ Info: Found initial step size\n",
      "│   ϵ = 0.00625\n",
      "└ @ Turing.Inference /home/cpfiffer/.julia/packages/Turing/y0DW3/src/inference/hmc.jl:188\n",
      "┌ Info: Found initial step size\n",
      "│   ϵ = 0.025\n",
      "└ @ Turing.Inference /home/cpfiffer/.julia/packages/Turing/y0DW3/src/inference/hmc.jl:188\n",
      "┌ Info: Found initial step size\n",
      "│   ϵ = 0.025\n",
      "└ @ Turing.Inference /home/cpfiffer/.julia/packages/Turing/y0DW3/src/inference/hmc.jl:188\n",
      "┌ Info: Found initial step size\n",
      "│   ϵ = 0.0125\n",
      "└ @ Turing.Inference /home/cpfiffer/.julia/packages/Turing/y0DW3/src/inference/hmc.jl:188\n"
     ]
    },
    {
     "data": {
      "text/plain": [
       "Chains MCMC chain (2000×15×4 Array{Float64, 3}):\n",
       "\n",
       "Iterations        = 1001:1:3000\n",
       "Number of chains  = 4\n",
       "Samples per chain = 2000\n",
       "Wall duration     = 25.06 seconds\n",
       "Compute duration  = 21.82 seconds\n",
       "parameters        = α, s², β\n",
       "internals         = lp, n_steps, is_accept, acceptance_rate, log_density, hamiltonian_energy, hamiltonian_energy_error, max_hamiltonian_energy_error, tree_depth, numerical_error, step_size, nom_step_size\n",
       "\n",
       "Summary Statistics\n",
       " \u001b[1m parameters \u001b[0m \u001b[1m    mean \u001b[0m \u001b[1m     std \u001b[0m \u001b[1m naive_se \u001b[0m \u001b[1m    mcse \u001b[0m \u001b[1m       ess \u001b[0m \u001b[1m    rhat \u001b[0m \u001b[1m \u001b[0m ⋯\n",
       " \u001b[90m     Symbol \u001b[0m \u001b[90m Float64 \u001b[0m \u001b[90m Float64 \u001b[0m \u001b[90m  Float64 \u001b[0m \u001b[90m Float64 \u001b[0m \u001b[90m   Float64 \u001b[0m \u001b[90m Float64 \u001b[0m \u001b[90m \u001b[0m ⋯\n",
       "\n",
       "           α    6.0371    0.4439     0.0050    0.0100   2203.6204    1.0009    ⋯\n",
       "           β   -0.0665    0.1443     0.0016    0.0033   2193.5717    1.0009    ⋯\n",
       "          s²    0.7132    0.0825     0.0009    0.0014   3838.1699    1.0005    ⋯\n",
       "\u001b[36m                                                                1 column omitted\u001b[0m\n",
       "\n",
       "Quantiles\n",
       " \u001b[1m parameters \u001b[0m \u001b[1m    2.5% \u001b[0m \u001b[1m   25.0% \u001b[0m \u001b[1m   50.0% \u001b[0m \u001b[1m   75.0% \u001b[0m \u001b[1m   97.5% \u001b[0m\n",
       " \u001b[90m     Symbol \u001b[0m \u001b[90m Float64 \u001b[0m \u001b[90m Float64 \u001b[0m \u001b[90m Float64 \u001b[0m \u001b[90m Float64 \u001b[0m \u001b[90m Float64 \u001b[0m\n",
       "\n",
       "           α    5.1530    5.7427    6.0410    6.3385    6.8885\n",
       "           β   -0.3436   -0.1635   -0.0681    0.0288    0.2163\n",
       "          s²    0.5726    0.6534    0.7078    0.7652    0.8977\n"
      ]
     },
     "execution_count": 2,
     "metadata": {},
     "output_type": "execute_result"
    }
   ],
   "source": [
    "using Turing, LinearAlgebra, StatsPlots\n",
    "\n",
    "@model function flowers(data)\n",
    "    α ~ Normal(4,1)\n",
    "    β ~ Normal(0,1)\n",
    "    s² ~ InverseGamma(2,3)\n",
    "    data[:,:SepalLength] ~ MvNormal(α .+ β .* data[:,:SepalWidth], s²*I)\n",
    "end\n",
    "\n",
    "model = flowers(df)\n",
    "chain = sample(model, NUTS(), MCMCSerial(), 2_000, 4; progress=false)"
   ]
  },
  {
   "cell_type": "code",
   "execution_count": 3,
   "id": "20b6e8f8",
   "metadata": {
    "slideshow": {
     "slide_type": "slide"
    }
   },
   "outputs": [
    {
     "data": {
      "image/svg+xml": [
       "<?xml version=\"1.0\" encoding=\"utf-8\"?>\n",
       "<svg xmlns=\"http://www.w3.org/2000/svg\" xmlns:xlink=\"http://www.w3.org/1999/xlink\" width=\"1000\" height=\"750\" viewBox=\"0 0 4000 3000\">\n",
       "<defs>\n",
       "  <clipPath id=\"clip040\">\n",
       "    <rect x=\"0\" y=\"0\" width=\"4000\" height=\"3000\"/>\n",
       "  </clipPath>\n",
       "</defs>\n",
       "<path clip-path=\"url(#clip040)\" d=\"\n",
       "M0 3000 L4000 3000 L4000 0 L0 0  Z\n",
       "  \" fill=\"#ffffff\" fill-rule=\"evenodd\" fill-opacity=\"1\"/>\n",
       "<defs>\n",
       "  <clipPath id=\"clip041\">\n",
       "    <rect x=\"800\" y=\"0\" width=\"2801\" height=\"2801\"/>\n",
       "  </clipPath>\n",
       "</defs>\n",
       "<path clip-path=\"url(#clip040)\" d=\"\n",
       "M309.306 798.92 L1986.51 798.92 L1986.51 131.032 L309.306 131.032  Z\n",
       "  \" fill=\"#ffffff\" fill-rule=\"evenodd\" fill-opacity=\"1\"/>\n",
       "<defs>\n",
       "  <clipPath id=\"clip042\">\n",
       "    <rect x=\"309\" y=\"131\" width=\"1678\" height=\"669\"/>\n",
       "  </clipPath>\n",
       "</defs>\n",
       "<polyline clip-path=\"url(#clip042)\" style=\"stroke:#000000; stroke-linecap:butt; stroke-linejoin:round; stroke-width:2; stroke-opacity:0.1; fill:none\" points=\"\n",
       "  355.982,798.92 355.982,131.032 \n",
       "  \"/>\n",
       "<polyline clip-path=\"url(#clip042)\" style=\"stroke:#000000; stroke-linecap:butt; stroke-linejoin:round; stroke-width:2; stroke-opacity:0.1; fill:none\" points=\"\n",
       "  751.746,798.92 751.746,131.032 \n",
       "  \"/>\n",
       "<polyline clip-path=\"url(#clip042)\" style=\"stroke:#000000; stroke-linecap:butt; stroke-linejoin:round; stroke-width:2; stroke-opacity:0.1; fill:none\" points=\"\n",
       "  1147.51,798.92 1147.51,131.032 \n",
       "  \"/>\n",
       "<polyline clip-path=\"url(#clip042)\" style=\"stroke:#000000; stroke-linecap:butt; stroke-linejoin:round; stroke-width:2; stroke-opacity:0.1; fill:none\" points=\"\n",
       "  1543.27,798.92 1543.27,131.032 \n",
       "  \"/>\n",
       "<polyline clip-path=\"url(#clip042)\" style=\"stroke:#000000; stroke-linecap:butt; stroke-linejoin:round; stroke-width:2; stroke-opacity:0.1; fill:none\" points=\"\n",
       "  1939.04,798.92 1939.04,131.032 \n",
       "  \"/>\n",
       "<polyline clip-path=\"url(#clip040)\" style=\"stroke:#000000; stroke-linecap:butt; stroke-linejoin:round; stroke-width:4; stroke-opacity:1; fill:none\" points=\"\n",
       "  309.306,798.92 1986.51,798.92 \n",
       "  \"/>\n",
       "<polyline clip-path=\"url(#clip040)\" style=\"stroke:#000000; stroke-linecap:butt; stroke-linejoin:round; stroke-width:4; stroke-opacity:1; fill:none\" points=\"\n",
       "  355.982,798.92 355.982,780.022 \n",
       "  \"/>\n",
       "<polyline clip-path=\"url(#clip040)\" style=\"stroke:#000000; stroke-linecap:butt; stroke-linejoin:round; stroke-width:4; stroke-opacity:1; fill:none\" points=\"\n",
       "  751.746,798.92 751.746,780.022 \n",
       "  \"/>\n",
       "<polyline clip-path=\"url(#clip040)\" style=\"stroke:#000000; stroke-linecap:butt; stroke-linejoin:round; stroke-width:4; stroke-opacity:1; fill:none\" points=\"\n",
       "  1147.51,798.92 1147.51,780.022 \n",
       "  \"/>\n",
       "<polyline clip-path=\"url(#clip040)\" style=\"stroke:#000000; stroke-linecap:butt; stroke-linejoin:round; stroke-width:4; stroke-opacity:1; fill:none\" points=\"\n",
       "  1543.27,798.92 1543.27,780.022 \n",
       "  \"/>\n",
       "<polyline clip-path=\"url(#clip040)\" style=\"stroke:#000000; stroke-linecap:butt; stroke-linejoin:round; stroke-width:4; stroke-opacity:1; fill:none\" points=\"\n",
       "  1939.04,798.92 1939.04,780.022 \n",
       "  \"/>\n",
       "<path clip-path=\"url(#clip040)\" d=\"M300.508 870.185 L308.147 870.185 L308.147 843.819 L299.837 845.486 L299.837 841.227 L308.101 839.56 L312.777 839.56 L312.777 870.185 L320.415 870.185 L320.415 874.12 L300.508 874.12 L300.508 870.185 Z\" fill=\"#000000\" fill-rule=\"evenodd\" fill-opacity=\"1\" /><path clip-path=\"url(#clip040)\" d=\"M339.86 842.639 Q336.249 842.639 334.42 846.203 Q332.614 849.745 332.614 856.875 Q332.614 863.981 334.42 867.546 Q336.249 871.087 339.86 871.087 Q343.494 871.087 345.299 867.546 Q347.128 863.981 347.128 856.875 Q347.128 849.745 345.299 846.203 Q343.494 842.639 339.86 842.639 M339.86 838.935 Q345.67 838.935 348.725 843.541 Q351.804 848.125 351.804 856.875 Q351.804 865.601 348.725 870.208 Q345.67 874.791 339.86 874.791 Q334.05 874.791 330.971 870.208 Q327.915 865.601 327.915 856.875 Q327.915 848.125 330.971 843.541 Q334.05 838.935 339.86 838.935 Z\" fill=\"#000000\" fill-rule=\"evenodd\" fill-opacity=\"1\" /><path clip-path=\"url(#clip040)\" d=\"M370.022 842.639 Q366.41 842.639 364.582 846.203 Q362.776 849.745 362.776 856.875 Q362.776 863.981 364.582 867.546 Q366.41 871.087 370.022 871.087 Q373.656 871.087 375.461 867.546 Q377.29 863.981 377.29 856.875 Q377.29 849.745 375.461 846.203 Q373.656 842.639 370.022 842.639 M370.022 838.935 Q375.832 838.935 378.887 843.541 Q381.966 848.125 381.966 856.875 Q381.966 865.601 378.887 870.208 Q375.832 874.791 370.022 874.791 Q364.211 874.791 361.133 870.208 Q358.077 865.601 358.077 856.875 Q358.077 848.125 361.133 843.541 Q364.211 838.935 370.022 838.935 Z\" fill=\"#000000\" fill-rule=\"evenodd\" fill-opacity=\"1\" /><path clip-path=\"url(#clip040)\" d=\"M400.183 842.639 Q396.572 842.639 394.744 846.203 Q392.938 849.745 392.938 856.875 Q392.938 863.981 394.744 867.546 Q396.572 871.087 400.183 871.087 Q403.818 871.087 405.623 867.546 Q407.452 863.981 407.452 856.875 Q407.452 849.745 405.623 846.203 Q403.818 842.639 400.183 842.639 M400.183 838.935 Q405.994 838.935 409.049 843.541 Q412.128 848.125 412.128 856.875 Q412.128 865.601 409.049 870.208 Q405.994 874.791 400.183 874.791 Q394.373 874.791 391.295 870.208 Q388.239 865.601 388.239 856.875 Q388.239 848.125 391.295 843.541 Q394.373 838.935 400.183 838.935 Z\" fill=\"#000000\" fill-rule=\"evenodd\" fill-opacity=\"1\" /><path clip-path=\"url(#clip040)\" d=\"M696.272 870.185 L703.911 870.185 L703.911 843.819 L695.601 845.486 L695.601 841.227 L703.864 839.56 L708.54 839.56 L708.54 870.185 L716.179 870.185 L716.179 874.12 L696.272 874.12 L696.272 870.185 Z\" fill=\"#000000\" fill-rule=\"evenodd\" fill-opacity=\"1\" /><path clip-path=\"url(#clip040)\" d=\"M725.67 839.56 L744.026 839.56 L744.026 843.495 L729.952 843.495 L729.952 851.967 Q730.971 851.62 731.989 851.458 Q733.008 851.273 734.026 851.273 Q739.813 851.273 743.193 854.444 Q746.573 857.615 746.573 863.032 Q746.573 868.611 743.1 871.712 Q739.628 874.791 733.309 874.791 Q731.133 874.791 728.864 874.421 Q726.619 874.05 724.212 873.31 L724.212 868.611 Q726.295 869.745 728.517 870.3 Q730.739 870.856 733.216 870.856 Q737.221 870.856 739.559 868.75 Q741.897 866.643 741.897 863.032 Q741.897 859.421 739.559 857.314 Q737.221 855.208 733.216 855.208 Q731.341 855.208 729.466 855.625 Q727.614 856.041 725.67 856.921 L725.67 839.56 Z\" fill=\"#000000\" fill-rule=\"evenodd\" fill-opacity=\"1\" /><path clip-path=\"url(#clip040)\" d=\"M765.785 842.639 Q762.174 842.639 760.346 846.203 Q758.54 849.745 758.54 856.875 Q758.54 863.981 760.346 867.546 Q762.174 871.087 765.785 871.087 Q769.42 871.087 771.225 867.546 Q773.054 863.981 773.054 856.875 Q773.054 849.745 771.225 846.203 Q769.42 842.639 765.785 842.639 M765.785 838.935 Q771.596 838.935 774.651 843.541 Q777.73 848.125 777.73 856.875 Q777.73 865.601 774.651 870.208 Q771.596 874.791 765.785 874.791 Q759.975 874.791 756.897 870.208 Q753.841 865.601 753.841 856.875 Q753.841 848.125 756.897 843.541 Q759.975 838.935 765.785 838.935 Z\" fill=\"#000000\" fill-rule=\"evenodd\" fill-opacity=\"1\" /><path clip-path=\"url(#clip040)\" d=\"M795.947 842.639 Q792.336 842.639 790.508 846.203 Q788.702 849.745 788.702 856.875 Q788.702 863.981 790.508 867.546 Q792.336 871.087 795.947 871.087 Q799.582 871.087 801.387 867.546 Q803.216 863.981 803.216 856.875 Q803.216 849.745 801.387 846.203 Q799.582 842.639 795.947 842.639 M795.947 838.935 Q801.757 838.935 804.813 843.541 Q807.892 848.125 807.892 856.875 Q807.892 865.601 804.813 870.208 Q801.757 874.791 795.947 874.791 Q790.137 874.791 787.058 870.208 Q784.003 865.601 784.003 856.875 Q784.003 848.125 787.058 843.541 Q790.137 838.935 795.947 838.935 Z\" fill=\"#000000\" fill-rule=\"evenodd\" fill-opacity=\"1\" /><path clip-path=\"url(#clip040)\" d=\"M1096.12 870.185 L1112.44 870.185 L1112.44 874.12 L1090.5 874.12 L1090.5 870.185 Q1093.16 867.43 1097.74 862.8 Q1102.35 858.148 1103.53 856.805 Q1105.77 854.282 1106.65 852.546 Q1107.56 850.787 1107.56 849.097 Q1107.56 846.342 1105.61 844.606 Q1103.69 842.87 1100.59 842.87 Q1098.39 842.87 1095.94 843.634 Q1093.51 844.398 1090.73 845.949 L1090.73 841.227 Q1093.55 840.092 1096.01 839.514 Q1098.46 838.935 1100.5 838.935 Q1105.87 838.935 1109.06 841.62 Q1112.26 844.305 1112.26 848.796 Q1112.26 850.926 1111.45 852.847 Q1110.66 854.745 1108.55 857.338 Q1107.97 858.009 1104.87 861.226 Q1101.77 864.421 1096.12 870.185 Z\" fill=\"#000000\" fill-rule=\"evenodd\" fill-opacity=\"1\" /><path clip-path=\"url(#clip040)\" d=\"M1132.26 842.639 Q1128.64 842.639 1126.82 846.203 Q1125.01 849.745 1125.01 856.875 Q1125.01 863.981 1126.82 867.546 Q1128.64 871.087 1132.26 871.087 Q1135.89 871.087 1137.7 867.546 Q1139.52 863.981 1139.52 856.875 Q1139.52 849.745 1137.7 846.203 Q1135.89 842.639 1132.26 842.639 M1132.26 838.935 Q1138.07 838.935 1141.12 843.541 Q1144.2 848.125 1144.2 856.875 Q1144.2 865.601 1141.12 870.208 Q1138.07 874.791 1132.26 874.791 Q1126.45 874.791 1123.37 870.208 Q1120.31 865.601 1120.31 856.875 Q1120.31 848.125 1123.37 843.541 Q1126.45 838.935 1132.26 838.935 Z\" fill=\"#000000\" fill-rule=\"evenodd\" fill-opacity=\"1\" /><path clip-path=\"url(#clip040)\" d=\"M1162.42 842.639 Q1158.81 842.639 1156.98 846.203 Q1155.17 849.745 1155.17 856.875 Q1155.17 863.981 1156.98 867.546 Q1158.81 871.087 1162.42 871.087 Q1166.05 871.087 1167.86 867.546 Q1169.69 863.981 1169.69 856.875 Q1169.69 849.745 1167.86 846.203 Q1166.05 842.639 1162.42 842.639 M1162.42 838.935 Q1168.23 838.935 1171.28 843.541 Q1174.36 848.125 1174.36 856.875 Q1174.36 865.601 1171.28 870.208 Q1168.23 874.791 1162.42 874.791 Q1156.61 874.791 1153.53 870.208 Q1150.47 865.601 1150.47 856.875 Q1150.47 848.125 1153.53 843.541 Q1156.61 838.935 1162.42 838.935 Z\" fill=\"#000000\" fill-rule=\"evenodd\" fill-opacity=\"1\" /><path clip-path=\"url(#clip040)\" d=\"M1192.58 842.639 Q1188.97 842.639 1187.14 846.203 Q1185.33 849.745 1185.33 856.875 Q1185.33 863.981 1187.14 867.546 Q1188.97 871.087 1192.58 871.087 Q1196.21 871.087 1198.02 867.546 Q1199.85 863.981 1199.85 856.875 Q1199.85 849.745 1198.02 846.203 Q1196.21 842.639 1192.58 842.639 M1192.58 838.935 Q1198.39 838.935 1201.44 843.541 Q1204.52 848.125 1204.52 856.875 Q1204.52 865.601 1201.44 870.208 Q1198.39 874.791 1192.58 874.791 Q1186.77 874.791 1183.69 870.208 Q1180.63 865.601 1180.63 856.875 Q1180.63 848.125 1183.69 843.541 Q1186.77 838.935 1192.58 838.935 Z\" fill=\"#000000\" fill-rule=\"evenodd\" fill-opacity=\"1\" /><path clip-path=\"url(#clip040)\" d=\"M1491.89 870.185 L1508.2 870.185 L1508.2 874.12 L1486.26 874.12 L1486.26 870.185 Q1488.92 867.43 1493.51 862.8 Q1498.11 858.148 1499.29 856.805 Q1501.54 854.282 1502.42 852.546 Q1503.32 850.787 1503.32 849.097 Q1503.32 846.342 1501.38 844.606 Q1499.45 842.87 1496.35 842.87 Q1494.15 842.87 1491.7 843.634 Q1489.27 844.398 1486.49 845.949 L1486.49 841.227 Q1489.32 840.092 1491.77 839.514 Q1494.22 838.935 1496.26 838.935 Q1501.63 838.935 1504.83 841.62 Q1508.02 844.305 1508.02 848.796 Q1508.02 850.926 1507.21 852.847 Q1506.42 854.745 1504.32 857.338 Q1503.74 858.009 1500.64 861.226 Q1497.53 864.421 1491.89 870.185 Z\" fill=\"#000000\" fill-rule=\"evenodd\" fill-opacity=\"1\" /><path clip-path=\"url(#clip040)\" d=\"M1518.07 839.56 L1536.42 839.56 L1536.42 843.495 L1522.35 843.495 L1522.35 851.967 Q1523.37 851.62 1524.39 851.458 Q1525.4 851.273 1526.42 851.273 Q1532.21 851.273 1535.59 854.444 Q1538.97 857.615 1538.97 863.032 Q1538.97 868.611 1535.5 871.712 Q1532.02 874.791 1525.7 874.791 Q1523.53 874.791 1521.26 874.421 Q1519.01 874.05 1516.61 873.31 L1516.61 868.611 Q1518.69 869.745 1520.91 870.3 Q1523.14 870.856 1525.61 870.856 Q1529.62 870.856 1531.95 868.75 Q1534.29 866.643 1534.29 863.032 Q1534.29 859.421 1531.95 857.314 Q1529.62 855.208 1525.61 855.208 Q1523.74 855.208 1521.86 855.625 Q1520.01 856.041 1518.07 856.921 L1518.07 839.56 Z\" fill=\"#000000\" fill-rule=\"evenodd\" fill-opacity=\"1\" /><path clip-path=\"url(#clip040)\" d=\"M1558.18 842.639 Q1554.57 842.639 1552.74 846.203 Q1550.94 849.745 1550.94 856.875 Q1550.94 863.981 1552.74 867.546 Q1554.57 871.087 1558.18 871.087 Q1561.82 871.087 1563.62 867.546 Q1565.45 863.981 1565.45 856.875 Q1565.45 849.745 1563.62 846.203 Q1561.82 842.639 1558.18 842.639 M1558.18 838.935 Q1563.99 838.935 1567.05 843.541 Q1570.13 848.125 1570.13 856.875 Q1570.13 865.601 1567.05 870.208 Q1563.99 874.791 1558.18 874.791 Q1552.37 874.791 1549.29 870.208 Q1546.24 865.601 1546.24 856.875 Q1546.24 848.125 1549.29 843.541 Q1552.37 838.935 1558.18 838.935 Z\" fill=\"#000000\" fill-rule=\"evenodd\" fill-opacity=\"1\" /><path clip-path=\"url(#clip040)\" d=\"M1588.34 842.639 Q1584.73 842.639 1582.9 846.203 Q1581.1 849.745 1581.1 856.875 Q1581.1 863.981 1582.9 867.546 Q1584.73 871.087 1588.34 871.087 Q1591.98 871.087 1593.78 867.546 Q1595.61 863.981 1595.61 856.875 Q1595.61 849.745 1593.78 846.203 Q1591.98 842.639 1588.34 842.639 M1588.34 838.935 Q1594.15 838.935 1597.21 843.541 Q1600.29 848.125 1600.29 856.875 Q1600.29 865.601 1597.21 870.208 Q1594.15 874.791 1588.34 874.791 Q1582.53 874.791 1579.45 870.208 Q1576.4 865.601 1576.4 856.875 Q1576.4 848.125 1579.45 843.541 Q1582.53 838.935 1588.34 838.935 Z\" fill=\"#000000\" fill-rule=\"evenodd\" fill-opacity=\"1\" /><path clip-path=\"url(#clip040)\" d=\"M1897.72 855.486 Q1901.08 856.203 1902.95 858.472 Q1904.85 860.74 1904.85 864.074 Q1904.85 869.189 1901.33 871.99 Q1897.81 874.791 1891.33 874.791 Q1889.15 874.791 1886.84 874.351 Q1884.55 873.935 1882.09 873.078 L1882.09 868.564 Q1884.04 869.699 1886.35 870.277 Q1888.67 870.856 1891.19 870.856 Q1895.59 870.856 1897.88 869.12 Q1900.2 867.384 1900.2 864.074 Q1900.2 861.018 1898.04 859.305 Q1895.91 857.569 1892.09 857.569 L1888.07 857.569 L1888.07 853.726 L1892.28 853.726 Q1895.73 853.726 1897.56 852.361 Q1899.39 850.972 1899.39 848.379 Q1899.39 845.717 1897.49 844.305 Q1895.61 842.87 1892.09 842.87 Q1890.17 842.87 1887.97 843.287 Q1885.77 843.703 1883.14 844.583 L1883.14 840.416 Q1885.8 839.676 1888.11 839.305 Q1890.45 838.935 1892.51 838.935 Q1897.83 838.935 1900.94 841.365 Q1904.04 843.773 1904.04 847.893 Q1904.04 850.763 1902.39 852.754 Q1900.75 854.722 1897.72 855.486 Z\" fill=\"#000000\" fill-rule=\"evenodd\" fill-opacity=\"1\" /><path clip-path=\"url(#clip040)\" d=\"M1923.71 842.639 Q1920.1 842.639 1918.27 846.203 Q1916.47 849.745 1916.47 856.875 Q1916.47 863.981 1918.27 867.546 Q1920.1 871.087 1923.71 871.087 Q1927.35 871.087 1929.15 867.546 Q1930.98 863.981 1930.98 856.875 Q1930.98 849.745 1929.15 846.203 Q1927.35 842.639 1923.71 842.639 M1923.71 838.935 Q1929.52 838.935 1932.58 843.541 Q1935.66 848.125 1935.66 856.875 Q1935.66 865.601 1932.58 870.208 Q1929.52 874.791 1923.71 874.791 Q1917.9 874.791 1914.82 870.208 Q1911.77 865.601 1911.77 856.875 Q1911.77 848.125 1914.82 843.541 Q1917.9 838.935 1923.71 838.935 Z\" fill=\"#000000\" fill-rule=\"evenodd\" fill-opacity=\"1\" /><path clip-path=\"url(#clip040)\" d=\"M1953.88 842.639 Q1950.26 842.639 1948.44 846.203 Q1946.63 849.745 1946.63 856.875 Q1946.63 863.981 1948.44 867.546 Q1950.26 871.087 1953.88 871.087 Q1957.51 871.087 1959.32 867.546 Q1961.14 863.981 1961.14 856.875 Q1961.14 849.745 1959.32 846.203 Q1957.51 842.639 1953.88 842.639 M1953.88 838.935 Q1959.69 838.935 1962.74 843.541 Q1965.82 848.125 1965.82 856.875 Q1965.82 865.601 1962.74 870.208 Q1959.69 874.791 1953.88 874.791 Q1948.07 874.791 1944.99 870.208 Q1941.93 865.601 1941.93 856.875 Q1941.93 848.125 1944.99 843.541 Q1948.07 838.935 1953.88 838.935 Z\" fill=\"#000000\" fill-rule=\"evenodd\" fill-opacity=\"1\" /><path clip-path=\"url(#clip040)\" d=\"M1984.04 842.639 Q1980.43 842.639 1978.6 846.203 Q1976.79 849.745 1976.79 856.875 Q1976.79 863.981 1978.6 867.546 Q1980.43 871.087 1984.04 871.087 Q1987.67 871.087 1989.48 867.546 Q1991.31 863.981 1991.31 856.875 Q1991.31 849.745 1989.48 846.203 Q1987.67 842.639 1984.04 842.639 M1984.04 838.935 Q1989.85 838.935 1992.9 843.541 Q1995.98 848.125 1995.98 856.875 Q1995.98 865.601 1992.9 870.208 Q1989.85 874.791 1984.04 874.791 Q1978.23 874.791 1975.15 870.208 Q1972.09 865.601 1972.09 856.875 Q1972.09 848.125 1975.15 843.541 Q1978.23 838.935 1984.04 838.935 Z\" fill=\"#000000\" fill-rule=\"evenodd\" fill-opacity=\"1\" /><path clip-path=\"url(#clip040)\" d=\"M1015.63 920.264 L1022.06 920.264 L1022.06 967.784 L1015.63 967.784 L1015.63 920.264 Z\" fill=\"#000000\" fill-rule=\"evenodd\" fill-opacity=\"1\" /><path clip-path=\"url(#clip040)\" d=\"M1040.39 922.014 L1040.39 932.136 L1052.45 932.136 L1052.45 936.687 L1040.39 936.687 L1040.39 956.039 Q1040.39 960.4 1041.57 961.641 Q1042.78 962.882 1046.44 962.882 L1052.45 962.882 L1052.45 967.784 L1046.44 967.784 Q1039.66 967.784 1037.08 965.269 Q1034.5 962.723 1034.5 956.039 L1034.5 936.687 L1030.2 936.687 L1030.2 932.136 L1034.5 932.136 L1034.5 922.014 L1040.39 922.014 Z\" fill=\"#000000\" fill-rule=\"evenodd\" fill-opacity=\"1\" /><path clip-path=\"url(#clip040)\" d=\"M1090.65 948.496 L1090.65 951.36 L1063.72 951.36 Q1064.1 957.408 1067.35 960.591 Q1070.63 963.742 1076.45 963.742 Q1079.82 963.742 1082.98 962.914 Q1086.16 962.087 1089.28 960.431 L1089.28 965.97 Q1086.13 967.306 1082.82 968.007 Q1079.51 968.707 1076.1 968.707 Q1067.57 968.707 1062.57 963.742 Q1057.61 958.776 1057.61 950.31 Q1057.61 941.557 1062.32 936.433 Q1067.06 931.277 1075.08 931.277 Q1082.28 931.277 1086.44 935.923 Q1090.65 940.539 1090.65 948.496 M1084.79 946.777 Q1084.73 941.971 1082.08 939.106 Q1079.47 936.242 1075.15 936.242 Q1070.24 936.242 1067.28 939.011 Q1064.36 941.78 1063.91 946.809 L1084.79 946.777 Z\" fill=\"#000000\" fill-rule=\"evenodd\" fill-opacity=\"1\" /><path clip-path=\"url(#clip040)\" d=\"M1120.92 937.61 Q1119.93 937.037 1118.75 936.783 Q1117.61 936.496 1116.2 936.496 Q1111.24 936.496 1108.57 939.743 Q1105.92 942.958 1105.92 949.005 L1105.92 967.784 L1100.04 967.784 L1100.04 932.136 L1105.92 932.136 L1105.92 937.674 Q1107.77 934.428 1110.73 932.868 Q1113.69 931.277 1117.92 931.277 Q1118.53 931.277 1119.26 931.372 Q1119.99 931.436 1120.88 931.595 L1120.92 937.61 Z\" fill=\"#000000\" fill-rule=\"evenodd\" fill-opacity=\"1\" /><path clip-path=\"url(#clip040)\" d=\"M1143.26 949.864 Q1136.16 949.864 1133.42 951.488 Q1130.69 953.111 1130.69 957.026 Q1130.69 960.145 1132.72 961.991 Q1134.79 963.805 1138.33 963.805 Q1143.2 963.805 1146.12 960.368 Q1149.08 956.898 1149.08 951.169 L1149.08 949.864 L1143.26 949.864 M1154.94 947.445 L1154.94 967.784 L1149.08 967.784 L1149.08 962.373 Q1147.08 965.62 1144.09 967.179 Q1141.09 968.707 1136.77 968.707 Q1131.29 968.707 1128.04 965.651 Q1124.83 962.564 1124.83 957.408 Q1124.83 951.392 1128.84 948.337 Q1132.88 945.281 1140.87 945.281 L1149.08 945.281 L1149.08 944.708 Q1149.08 940.666 1146.41 938.47 Q1143.77 936.242 1138.96 936.242 Q1135.91 936.242 1133.01 936.974 Q1130.11 937.706 1127.44 939.17 L1127.44 933.759 Q1130.65 932.518 1133.68 931.913 Q1136.7 931.277 1139.57 931.277 Q1147.3 931.277 1151.12 935.287 Q1154.94 939.297 1154.94 947.445 Z\" fill=\"#000000\" fill-rule=\"evenodd\" fill-opacity=\"1\" /><path clip-path=\"url(#clip040)\" d=\"M1172.8 922.014 L1172.8 932.136 L1184.86 932.136 L1184.86 936.687 L1172.8 936.687 L1172.8 956.039 Q1172.8 960.4 1173.97 961.641 Q1175.18 962.882 1178.84 962.882 L1184.86 962.882 L1184.86 967.784 L1178.84 967.784 Q1172.06 967.784 1169.49 965.269 Q1166.91 962.723 1166.91 956.039 L1166.91 936.687 L1162.61 936.687 L1162.61 932.136 L1166.91 932.136 L1166.91 922.014 L1172.8 922.014 Z\" fill=\"#000000\" fill-rule=\"evenodd\" fill-opacity=\"1\" /><path clip-path=\"url(#clip040)\" d=\"M1192.56 932.136 L1198.42 932.136 L1198.42 967.784 L1192.56 967.784 L1192.56 932.136 M1192.56 918.259 L1198.42 918.259 L1198.42 925.675 L1192.56 925.675 L1192.56 918.259 Z\" fill=\"#000000\" fill-rule=\"evenodd\" fill-opacity=\"1\" /><path clip-path=\"url(#clip040)\" d=\"M1224.49 936.242 Q1219.77 936.242 1217.04 939.934 Q1214.3 943.594 1214.3 949.992 Q1214.3 956.389 1217.01 960.081 Q1219.74 963.742 1224.49 963.742 Q1229.16 963.742 1231.9 960.05 Q1234.64 956.357 1234.64 949.992 Q1234.64 943.658 1231.9 939.966 Q1229.16 936.242 1224.49 936.242 M1224.49 931.277 Q1232.12 931.277 1236.48 936.242 Q1240.85 941.207 1240.85 949.992 Q1240.85 958.745 1236.48 963.742 Q1232.12 968.707 1224.49 968.707 Q1216.81 968.707 1212.45 963.742 Q1208.13 958.745 1208.13 949.992 Q1208.13 941.207 1212.45 936.242 Q1216.81 931.277 1224.49 931.277 Z\" fill=\"#000000\" fill-rule=\"evenodd\" fill-opacity=\"1\" /><path clip-path=\"url(#clip040)\" d=\"M1280.19 946.268 L1280.19 967.784 L1274.33 967.784 L1274.33 946.459 Q1274.33 941.398 1272.36 938.884 Q1270.38 936.369 1266.44 936.369 Q1261.69 936.369 1258.96 939.393 Q1256.22 942.417 1256.22 947.636 L1256.22 967.784 L1250.33 967.784 L1250.33 932.136 L1256.22 932.136 L1256.22 937.674 Q1258.32 934.459 1261.15 932.868 Q1264.02 931.277 1267.74 931.277 Q1273.88 931.277 1277.03 935.096 Q1280.19 938.884 1280.19 946.268 Z\" fill=\"#000000\" fill-rule=\"evenodd\" fill-opacity=\"1\" /><polyline clip-path=\"url(#clip042)\" style=\"stroke:#000000; stroke-linecap:butt; stroke-linejoin:round; stroke-width:2; stroke-opacity:0.1; fill:none\" points=\"\n",
       "  309.306,759.081 1986.51,759.081 \n",
       "  \"/>\n",
       "<polyline clip-path=\"url(#clip042)\" style=\"stroke:#000000; stroke-linecap:butt; stroke-linejoin:round; stroke-width:2; stroke-opacity:0.1; fill:none\" points=\"\n",
       "  309.306,662.925 1986.51,662.925 \n",
       "  \"/>\n",
       "<polyline clip-path=\"url(#clip042)\" style=\"stroke:#000000; stroke-linecap:butt; stroke-linejoin:round; stroke-width:2; stroke-opacity:0.1; fill:none\" points=\"\n",
       "  309.306,566.769 1986.51,566.769 \n",
       "  \"/>\n",
       "<polyline clip-path=\"url(#clip042)\" style=\"stroke:#000000; stroke-linecap:butt; stroke-linejoin:round; stroke-width:2; stroke-opacity:0.1; fill:none\" points=\"\n",
       "  309.306,470.613 1986.51,470.613 \n",
       "  \"/>\n",
       "<polyline clip-path=\"url(#clip042)\" style=\"stroke:#000000; stroke-linecap:butt; stroke-linejoin:round; stroke-width:2; stroke-opacity:0.1; fill:none\" points=\"\n",
       "  309.306,374.458 1986.51,374.458 \n",
       "  \"/>\n",
       "<polyline clip-path=\"url(#clip042)\" style=\"stroke:#000000; stroke-linecap:butt; stroke-linejoin:round; stroke-width:2; stroke-opacity:0.1; fill:none\" points=\"\n",
       "  309.306,278.302 1986.51,278.302 \n",
       "  \"/>\n",
       "<polyline clip-path=\"url(#clip042)\" style=\"stroke:#000000; stroke-linecap:butt; stroke-linejoin:round; stroke-width:2; stroke-opacity:0.1; fill:none\" points=\"\n",
       "  309.306,182.146 1986.51,182.146 \n",
       "  \"/>\n",
       "<polyline clip-path=\"url(#clip040)\" style=\"stroke:#000000; stroke-linecap:butt; stroke-linejoin:round; stroke-width:4; stroke-opacity:1; fill:none\" points=\"\n",
       "  309.306,798.92 309.306,131.032 \n",
       "  \"/>\n",
       "<polyline clip-path=\"url(#clip040)\" style=\"stroke:#000000; stroke-linecap:butt; stroke-linejoin:round; stroke-width:4; stroke-opacity:1; fill:none\" points=\"\n",
       "  309.306,759.081 328.204,759.081 \n",
       "  \"/>\n",
       "<polyline clip-path=\"url(#clip040)\" style=\"stroke:#000000; stroke-linecap:butt; stroke-linejoin:round; stroke-width:4; stroke-opacity:1; fill:none\" points=\"\n",
       "  309.306,662.925 328.204,662.925 \n",
       "  \"/>\n",
       "<polyline clip-path=\"url(#clip040)\" style=\"stroke:#000000; stroke-linecap:butt; stroke-linejoin:round; stroke-width:4; stroke-opacity:1; fill:none\" points=\"\n",
       "  309.306,566.769 328.204,566.769 \n",
       "  \"/>\n",
       "<polyline clip-path=\"url(#clip040)\" style=\"stroke:#000000; stroke-linecap:butt; stroke-linejoin:round; stroke-width:4; stroke-opacity:1; fill:none\" points=\"\n",
       "  309.306,470.613 328.204,470.613 \n",
       "  \"/>\n",
       "<polyline clip-path=\"url(#clip040)\" style=\"stroke:#000000; stroke-linecap:butt; stroke-linejoin:round; stroke-width:4; stroke-opacity:1; fill:none\" points=\"\n",
       "  309.306,374.458 328.204,374.458 \n",
       "  \"/>\n",
       "<polyline clip-path=\"url(#clip040)\" style=\"stroke:#000000; stroke-linecap:butt; stroke-linejoin:round; stroke-width:4; stroke-opacity:1; fill:none\" points=\"\n",
       "  309.306,278.302 328.204,278.302 \n",
       "  \"/>\n",
       "<polyline clip-path=\"url(#clip040)\" style=\"stroke:#000000; stroke-linecap:butt; stroke-linejoin:round; stroke-width:4; stroke-opacity:1; fill:none\" points=\"\n",
       "  309.306,182.146 328.204,182.146 \n",
       "  \"/>\n",
       "<path clip-path=\"url(#clip040)\" d=\"M195.973 745.875 L184.167 764.324 L195.973 764.324 L195.973 745.875 M194.746 741.801 L200.626 741.801 L200.626 764.324 L205.556 764.324 L205.556 768.212 L200.626 768.212 L200.626 776.361 L195.973 776.361 L195.973 768.212 L180.371 768.212 L180.371 763.699 L194.746 741.801 Z\" fill=\"#000000\" fill-rule=\"evenodd\" fill-opacity=\"1\" /><path clip-path=\"url(#clip040)\" d=\"M213.288 770.481 L218.172 770.481 L218.172 776.361 L213.288 776.361 L213.288 770.481 Z\" fill=\"#000000\" fill-rule=\"evenodd\" fill-opacity=\"1\" /><path clip-path=\"url(#clip040)\" d=\"M228.403 741.801 L246.76 741.801 L246.76 745.736 L232.686 745.736 L232.686 754.208 Q233.704 753.861 234.723 753.699 Q235.741 753.513 236.76 753.513 Q242.547 753.513 245.926 756.685 Q249.306 759.856 249.306 765.273 Q249.306 770.851 245.834 773.953 Q242.361 777.032 236.042 777.032 Q233.866 777.032 231.598 776.662 Q229.352 776.291 226.945 775.55 L226.945 770.851 Q229.028 771.986 231.25 772.541 Q233.473 773.097 235.949 773.097 Q239.954 773.097 242.292 770.99 Q244.63 768.884 244.63 765.273 Q244.63 761.662 242.292 759.555 Q239.954 757.449 235.949 757.449 Q234.075 757.449 232.2 757.865 Q230.348 758.282 228.403 759.162 L228.403 741.801 Z\" fill=\"#000000\" fill-rule=\"evenodd\" fill-opacity=\"1\" /><path clip-path=\"url(#clip040)\" d=\"M182.177 645.645 L200.533 645.645 L200.533 649.58 L186.459 649.58 L186.459 658.052 Q187.478 657.705 188.496 657.543 Q189.515 657.358 190.533 657.358 Q196.32 657.358 199.7 660.529 Q203.079 663.7 203.079 669.117 Q203.079 674.696 199.607 677.797 Q196.135 680.876 189.815 680.876 Q187.64 680.876 185.371 680.506 Q183.126 680.135 180.718 679.395 L180.718 674.696 Q182.802 675.83 185.024 676.385 Q187.246 676.941 189.723 676.941 Q193.727 676.941 196.065 674.835 Q198.403 672.728 198.403 669.117 Q198.403 665.506 196.065 663.399 Q193.727 661.293 189.723 661.293 Q187.848 661.293 185.973 661.71 Q184.121 662.126 182.177 663.006 L182.177 645.645 Z\" fill=\"#000000\" fill-rule=\"evenodd\" fill-opacity=\"1\" /><path clip-path=\"url(#clip040)\" d=\"M212.292 674.325 L217.176 674.325 L217.176 680.205 L212.292 680.205 L212.292 674.325 Z\" fill=\"#000000\" fill-rule=\"evenodd\" fill-opacity=\"1\" /><path clip-path=\"url(#clip040)\" d=\"M237.362 648.724 Q233.75 648.724 231.922 652.288 Q230.116 655.83 230.116 662.96 Q230.116 670.066 231.922 673.631 Q233.75 677.172 237.362 677.172 Q240.996 677.172 242.801 673.631 Q244.63 670.066 244.63 662.96 Q244.63 655.83 242.801 652.288 Q240.996 648.724 237.362 648.724 M237.362 645.02 Q243.172 645.02 246.227 649.626 Q249.306 654.21 249.306 662.96 Q249.306 671.686 246.227 676.293 Q243.172 680.876 237.362 680.876 Q231.551 680.876 228.473 676.293 Q225.417 671.686 225.417 662.96 Q225.417 654.21 228.473 649.626 Q231.551 645.02 237.362 645.02 Z\" fill=\"#000000\" fill-rule=\"evenodd\" fill-opacity=\"1\" /><path clip-path=\"url(#clip040)\" d=\"M183.172 549.489 L201.528 549.489 L201.528 553.424 L187.454 553.424 L187.454 561.897 Q188.473 561.549 189.491 561.387 Q190.51 561.202 191.528 561.202 Q197.315 561.202 200.695 564.373 Q204.075 567.545 204.075 572.961 Q204.075 578.54 200.602 581.642 Q197.13 584.72 190.811 584.72 Q188.635 584.72 186.366 584.35 Q184.121 583.98 181.714 583.239 L181.714 578.54 Q183.797 579.674 186.019 580.23 Q188.241 580.785 190.718 580.785 Q194.723 580.785 197.061 578.679 Q199.399 576.572 199.399 572.961 Q199.399 569.35 197.061 567.244 Q194.723 565.137 190.718 565.137 Q188.843 565.137 186.968 565.554 Q185.116 565.971 183.172 566.85 L183.172 549.489 Z\" fill=\"#000000\" fill-rule=\"evenodd\" fill-opacity=\"1\" /><path clip-path=\"url(#clip040)\" d=\"M213.288 578.17 L218.172 578.17 L218.172 584.049 L213.288 584.049 L213.288 578.17 Z\" fill=\"#000000\" fill-rule=\"evenodd\" fill-opacity=\"1\" /><path clip-path=\"url(#clip040)\" d=\"M228.403 549.489 L246.76 549.489 L246.76 553.424 L232.686 553.424 L232.686 561.897 Q233.704 561.549 234.723 561.387 Q235.741 561.202 236.76 561.202 Q242.547 561.202 245.926 564.373 Q249.306 567.545 249.306 572.961 Q249.306 578.54 245.834 581.642 Q242.361 584.72 236.042 584.72 Q233.866 584.72 231.598 584.35 Q229.352 583.98 226.945 583.239 L226.945 578.54 Q229.028 579.674 231.25 580.23 Q233.473 580.785 235.949 580.785 Q239.954 580.785 242.292 578.679 Q244.63 576.572 244.63 572.961 Q244.63 569.35 242.292 567.244 Q239.954 565.137 235.949 565.137 Q234.075 565.137 232.2 565.554 Q230.348 565.971 228.403 566.85 L228.403 549.489 Z\" fill=\"#000000\" fill-rule=\"evenodd\" fill-opacity=\"1\" /><path clip-path=\"url(#clip040)\" d=\"M192.709 468.75 Q189.561 468.75 187.709 470.903 Q185.88 473.056 185.88 476.806 Q185.88 480.532 187.709 482.708 Q189.561 484.861 192.709 484.861 Q195.857 484.861 197.686 482.708 Q199.538 480.532 199.538 476.806 Q199.538 473.056 197.686 470.903 Q195.857 468.75 192.709 468.75 M201.991 454.097 L201.991 458.357 Q200.232 457.523 198.427 457.083 Q196.644 456.644 194.885 456.644 Q190.255 456.644 187.802 459.769 Q185.371 462.894 185.024 469.213 Q186.39 467.199 188.45 466.134 Q190.51 465.046 192.987 465.046 Q198.195 465.046 201.204 468.218 Q204.237 471.366 204.237 476.806 Q204.237 482.13 201.089 485.347 Q197.94 488.565 192.709 488.565 Q186.714 488.565 183.542 483.981 Q180.371 479.375 180.371 470.648 Q180.371 462.454 184.26 457.593 Q188.149 452.708 194.7 452.708 Q196.459 452.708 198.241 453.056 Q200.047 453.403 201.991 454.097 Z\" fill=\"#000000\" fill-rule=\"evenodd\" fill-opacity=\"1\" /><path clip-path=\"url(#clip040)\" d=\"M212.292 482.014 L217.176 482.014 L217.176 487.893 L212.292 487.893 L212.292 482.014 Z\" fill=\"#000000\" fill-rule=\"evenodd\" fill-opacity=\"1\" /><path clip-path=\"url(#clip040)\" d=\"M237.362 456.412 Q233.75 456.412 231.922 459.977 Q230.116 463.519 230.116 470.648 Q230.116 477.755 231.922 481.319 Q233.75 484.861 237.362 484.861 Q240.996 484.861 242.801 481.319 Q244.63 477.755 244.63 470.648 Q244.63 463.519 242.801 459.977 Q240.996 456.412 237.362 456.412 M237.362 452.708 Q243.172 452.708 246.227 457.315 Q249.306 461.898 249.306 470.648 Q249.306 479.375 246.227 483.981 Q243.172 488.565 237.362 488.565 Q231.551 488.565 228.473 483.981 Q225.417 479.375 225.417 470.648 Q225.417 461.898 228.473 457.315 Q231.551 452.708 237.362 452.708 Z\" fill=\"#000000\" fill-rule=\"evenodd\" fill-opacity=\"1\" /><path clip-path=\"url(#clip040)\" d=\"M193.704 372.594 Q190.556 372.594 188.704 374.747 Q186.876 376.9 186.876 380.65 Q186.876 384.377 188.704 386.553 Q190.556 388.705 193.704 388.705 Q196.852 388.705 198.681 386.553 Q200.533 384.377 200.533 380.65 Q200.533 376.9 198.681 374.747 Q196.852 372.594 193.704 372.594 M202.987 357.942 L202.987 362.201 Q201.227 361.368 199.422 360.928 Q197.64 360.488 195.88 360.488 Q191.251 360.488 188.797 363.613 Q186.366 366.738 186.019 373.057 Q187.385 371.043 189.445 369.979 Q191.505 368.891 193.982 368.891 Q199.19 368.891 202.2 372.062 Q205.232 375.21 205.232 380.65 Q205.232 385.974 202.084 389.191 Q198.936 392.409 193.704 392.409 Q187.709 392.409 184.538 387.826 Q181.366 383.219 181.366 374.492 Q181.366 366.298 185.255 361.437 Q189.144 356.553 195.695 356.553 Q197.454 356.553 199.237 356.9 Q201.042 357.247 202.987 357.942 Z\" fill=\"#000000\" fill-rule=\"evenodd\" fill-opacity=\"1\" /><path clip-path=\"url(#clip040)\" d=\"M213.288 385.858 L218.172 385.858 L218.172 391.738 L213.288 391.738 L213.288 385.858 Z\" fill=\"#000000\" fill-rule=\"evenodd\" fill-opacity=\"1\" /><path clip-path=\"url(#clip040)\" d=\"M228.403 357.178 L246.76 357.178 L246.76 361.113 L232.686 361.113 L232.686 369.585 Q233.704 369.238 234.723 369.076 Q235.741 368.891 236.76 368.891 Q242.547 368.891 245.926 372.062 Q249.306 375.233 249.306 380.65 Q249.306 386.229 245.834 389.33 Q242.361 392.409 236.042 392.409 Q233.866 392.409 231.598 392.039 Q229.352 391.668 226.945 390.928 L226.945 386.229 Q229.028 387.363 231.25 387.918 Q233.473 388.474 235.949 388.474 Q239.954 388.474 242.292 386.367 Q244.63 384.261 244.63 380.65 Q244.63 377.039 242.292 374.932 Q239.954 372.826 235.949 372.826 Q234.075 372.826 232.2 373.242 Q230.348 373.659 228.403 374.539 L228.403 357.178 Z\" fill=\"#000000\" fill-rule=\"evenodd\" fill-opacity=\"1\" /><path clip-path=\"url(#clip040)\" d=\"M180.95 261.022 L203.172 261.022 L203.172 263.013 L190.626 295.582 L185.741 295.582 L197.547 264.957 L180.95 264.957 L180.95 261.022 Z\" fill=\"#000000\" fill-rule=\"evenodd\" fill-opacity=\"1\" /><path clip-path=\"url(#clip040)\" d=\"M212.292 289.702 L217.176 289.702 L217.176 295.582 L212.292 295.582 L212.292 289.702 Z\" fill=\"#000000\" fill-rule=\"evenodd\" fill-opacity=\"1\" /><path clip-path=\"url(#clip040)\" d=\"M237.362 264.101 Q233.75 264.101 231.922 267.666 Q230.116 271.207 230.116 278.337 Q230.116 285.443 231.922 289.008 Q233.75 292.55 237.362 292.55 Q240.996 292.55 242.801 289.008 Q244.63 285.443 244.63 278.337 Q244.63 271.207 242.801 267.666 Q240.996 264.101 237.362 264.101 M237.362 260.397 Q243.172 260.397 246.227 265.003 Q249.306 269.587 249.306 278.337 Q249.306 287.064 246.227 291.67 Q243.172 296.253 237.362 296.253 Q231.551 296.253 228.473 291.67 Q225.417 287.064 225.417 278.337 Q225.417 269.587 228.473 265.003 Q231.551 260.397 237.362 260.397 Z\" fill=\"#000000\" fill-rule=\"evenodd\" fill-opacity=\"1\" /><path clip-path=\"url(#clip040)\" d=\"M181.945 164.866 L204.167 164.866 L204.167 166.857 L191.621 199.426 L186.737 199.426 L198.542 168.801 L181.945 168.801 L181.945 164.866 Z\" fill=\"#000000\" fill-rule=\"evenodd\" fill-opacity=\"1\" /><path clip-path=\"url(#clip040)\" d=\"M213.288 193.547 L218.172 193.547 L218.172 199.426 L213.288 199.426 L213.288 193.547 Z\" fill=\"#000000\" fill-rule=\"evenodd\" fill-opacity=\"1\" /><path clip-path=\"url(#clip040)\" d=\"M228.403 164.866 L246.76 164.866 L246.76 168.801 L232.686 168.801 L232.686 177.274 Q233.704 176.926 234.723 176.764 Q235.741 176.579 236.76 176.579 Q242.547 176.579 245.926 179.75 Q249.306 182.922 249.306 188.338 Q249.306 193.917 245.834 197.019 Q242.361 200.098 236.042 200.098 Q233.866 200.098 231.598 199.727 Q229.352 199.357 226.945 198.616 L226.945 193.917 Q229.028 195.051 231.25 195.607 Q233.473 196.162 235.949 196.162 Q239.954 196.162 242.292 194.056 Q244.63 191.949 244.63 188.338 Q244.63 184.727 242.292 182.621 Q239.954 180.514 235.949 180.514 Q234.075 180.514 232.2 180.931 Q230.348 181.348 228.403 182.227 L228.403 164.866 Z\" fill=\"#000000\" fill-rule=\"evenodd\" fill-opacity=\"1\" /><path clip-path=\"url(#clip040)\" d=\"M60.1547 652.096 L66.4249 652.096 Q64.6743 655.756 63.815 659.003 Q62.9556 662.249 62.9556 665.273 Q62.9556 670.525 64.9926 673.389 Q67.0296 676.222 70.7854 676.222 Q73.9364 676.222 75.5597 674.344 Q77.1511 672.434 78.1378 667.151 L78.9335 663.268 Q80.3021 656.074 83.7715 652.669 Q87.2089 649.231 93.0017 649.231 Q99.9085 649.231 103.473 653.878 Q107.038 658.493 107.038 667.437 Q107.038 670.811 106.274 674.631 Q105.51 678.418 104.014 682.492 L97.3941 682.492 Q99.5902 678.577 100.704 674.822 Q101.818 671.066 101.818 667.437 Q101.818 661.931 99.6539 658.939 Q97.4896 655.947 93.4792 655.947 Q89.978 655.947 88.0047 658.112 Q86.0313 660.244 85.0446 665.146 L84.2807 669.061 Q82.8484 676.254 79.7929 679.468 Q76.7374 682.683 71.2947 682.683 Q64.9926 682.683 61.3642 678.259 Q57.7357 673.803 57.7357 666.005 Q57.7357 662.663 58.3405 659.194 Q58.9452 655.724 60.1547 652.096 Z\" fill=\"#000000\" fill-rule=\"evenodd\" fill-opacity=\"1\" /><path clip-path=\"url(#clip040)\" d=\"M88.1956 623.259 Q88.1956 630.357 89.8189 633.094 Q91.4421 635.832 95.357 635.832 Q98.4762 635.832 100.322 633.795 Q102.137 631.726 102.137 628.193 Q102.137 623.323 98.699 620.395 Q95.2297 617.435 89.5006 617.435 L88.1956 617.435 L88.1956 623.259 M85.7767 611.578 L106.115 611.578 L106.115 617.435 L100.704 617.435 Q103.951 619.44 105.51 622.432 Q107.038 625.424 107.038 629.752 Q107.038 635.227 103.983 638.473 Q100.895 641.688 95.739 641.688 Q89.7234 641.688 86.6679 637.678 Q83.6123 633.635 83.6123 625.646 L83.6123 617.435 L83.0394 617.435 Q78.9972 617.435 76.801 620.108 Q74.573 622.75 74.573 627.556 Q74.573 630.612 75.3051 633.508 Q76.0371 636.404 77.5012 639.078 L72.0904 639.078 Q70.8491 635.863 70.2443 632.84 Q69.6078 629.816 69.6078 626.951 Q69.6078 619.217 73.6182 615.398 Q77.6286 611.578 85.7767 611.578 Z\" fill=\"#000000\" fill-rule=\"evenodd\" fill-opacity=\"1\" /><path clip-path=\"url(#clip040)\" d=\"M77.3103 571.761 Q73.3635 569.565 71.4856 566.509 Q69.6078 563.453 69.6078 559.316 Q69.6078 553.746 73.5227 550.722 Q77.4058 547.698 84.599 547.698 L106.115 547.698 L106.115 553.587 L84.79 553.587 Q79.6656 553.587 77.183 555.401 Q74.7003 557.215 74.7003 560.939 Q74.7003 565.49 77.724 568.132 Q80.7477 570.774 85.9676 570.774 L106.115 570.774 L106.115 576.662 L84.79 576.662 Q79.6337 576.662 77.183 578.477 Q74.7003 580.291 74.7003 584.078 Q74.7003 588.566 77.7559 591.208 Q80.7796 593.85 85.9676 593.85 L106.115 593.85 L106.115 599.738 L70.4671 599.738 L70.4671 593.85 L76.0053 593.85 Q72.727 591.845 71.1674 589.044 Q69.6078 586.243 69.6078 582.391 Q69.6078 578.508 71.5811 575.803 Q73.5545 573.066 77.3103 571.761 Z\" fill=\"#000000\" fill-rule=\"evenodd\" fill-opacity=\"1\" /><path clip-path=\"url(#clip040)\" d=\"M100.768 530.352 L119.674 530.352 L119.674 536.24 L70.4671 536.24 L70.4671 530.352 L75.878 530.352 Q72.6951 528.506 71.1674 525.705 Q69.6078 522.872 69.6078 518.957 Q69.6078 512.464 74.764 508.422 Q79.9202 504.348 88.3229 504.348 Q96.7257 504.348 101.882 508.422 Q107.038 512.464 107.038 518.957 Q107.038 522.872 105.51 525.705 Q103.951 528.506 100.768 530.352 M88.3229 510.427 Q81.8617 510.427 78.2015 513.101 Q74.5094 515.742 74.5094 520.389 Q74.5094 525.036 78.2015 527.71 Q81.8617 530.352 88.3229 530.352 Q94.7841 530.352 98.4762 527.71 Q102.137 525.036 102.137 520.389 Q102.137 515.742 98.4762 513.101 Q94.7841 510.427 88.3229 510.427 Z\" fill=\"#000000\" fill-rule=\"evenodd\" fill-opacity=\"1\" /><path clip-path=\"url(#clip040)\" d=\"M56.5899 494.64 L56.5899 488.784 L106.115 488.784 L106.115 494.64 L56.5899 494.64 Z\" fill=\"#000000\" fill-rule=\"evenodd\" fill-opacity=\"1\" /><path clip-path=\"url(#clip040)\" d=\"M86.827 446.038 L89.6916 446.038 L89.6916 472.965 Q95.739 472.583 98.9218 469.336 Q102.073 466.058 102.073 460.234 Q102.073 456.86 101.245 453.709 Q100.418 450.526 98.7627 447.407 L104.301 447.407 Q105.638 450.558 106.338 453.868 Q107.038 457.178 107.038 460.584 Q107.038 469.114 102.073 474.111 Q97.1076 479.076 88.6412 479.076 Q79.8884 479.076 74.764 474.365 Q69.6078 469.623 69.6078 461.602 Q69.6078 454.409 74.2547 450.239 Q78.8699 446.038 86.827 446.038 M85.1083 451.894 Q80.3021 451.958 77.4376 454.6 Q74.573 457.21 74.573 461.539 Q74.573 466.44 77.3421 469.4 Q80.1112 472.328 85.1401 472.774 L85.1083 451.894 Z\" fill=\"#000000\" fill-rule=\"evenodd\" fill-opacity=\"1\" /><path clip-path=\"url(#clip040)\" d=\"M70.4671 419.907 L70.4671 413.7 L100.386 402.56 L70.4671 391.42 L70.4671 385.214 L106.115 398.582 L106.115 406.539 L70.4671 419.907 Z\" fill=\"#000000\" fill-rule=\"evenodd\" fill-opacity=\"1\" /><path clip-path=\"url(#clip040)\" d=\"M88.1956 360.929 Q88.1956 368.026 89.8189 370.764 Q91.4421 373.501 95.357 373.501 Q98.4762 373.501 100.322 371.464 Q102.137 369.395 102.137 365.862 Q102.137 360.992 98.699 358.064 Q95.2297 355.104 89.5006 355.104 L88.1956 355.104 L88.1956 360.929 M85.7767 349.247 L106.115 349.247 L106.115 355.104 L100.704 355.104 Q103.951 357.109 105.51 360.101 Q107.038 363.093 107.038 367.422 Q107.038 372.896 103.983 376.143 Q100.895 379.357 95.739 379.357 Q89.7234 379.357 86.6679 375.347 Q83.6123 371.305 83.6123 363.316 L83.6123 355.104 L83.0394 355.104 Q78.9972 355.104 76.801 357.777 Q74.573 360.419 74.573 365.225 Q74.573 368.281 75.3051 371.177 Q76.0371 374.074 77.5012 376.747 L72.0904 376.747 Q70.8491 373.533 70.2443 370.509 Q69.6078 367.485 69.6078 364.621 Q69.6078 356.886 73.6182 353.067 Q77.6286 349.247 85.7767 349.247 Z\" fill=\"#000000\" fill-rule=\"evenodd\" fill-opacity=\"1\" /><path clip-path=\"url(#clip040)\" d=\"M56.5899 337.184 L56.5899 331.328 L106.115 331.328 L106.115 337.184 L56.5899 337.184 Z\" fill=\"#000000\" fill-rule=\"evenodd\" fill-opacity=\"1\" /><path clip-path=\"url(#clip040)\" d=\"M92.0469 319.679 L70.4671 319.679 L70.4671 313.822 L91.8241 313.822 Q96.8848 313.822 99.4311 311.849 Q101.946 309.876 101.946 305.929 Q101.946 301.186 98.9218 298.449 Q95.8981 295.68 90.6782 295.68 L70.4671 295.68 L70.4671 289.824 L106.115 289.824 L106.115 295.68 L100.641 295.68 Q103.887 297.813 105.479 300.645 Q107.038 303.446 107.038 307.17 Q107.038 313.313 103.219 316.496 Q99.3993 319.679 92.0469 319.679 M69.6078 304.942 L69.6078 304.942 Z\" fill=\"#000000\" fill-rule=\"evenodd\" fill-opacity=\"1\" /><path clip-path=\"url(#clip040)\" d=\"M86.827 247.269 L89.6916 247.269 L89.6916 274.196 Q95.739 273.814 98.9218 270.567 Q102.073 267.289 102.073 261.464 Q102.073 258.091 101.245 254.939 Q100.418 251.757 98.7627 248.637 L104.301 248.637 Q105.638 251.788 106.338 255.099 Q107.038 258.409 107.038 261.814 Q107.038 270.345 102.073 275.342 Q97.1076 280.307 88.6412 280.307 Q79.8884 280.307 74.764 275.596 Q69.6078 270.854 69.6078 262.833 Q69.6078 255.64 74.2547 251.47 Q78.8699 247.269 86.827 247.269 M85.1083 253.125 Q80.3021 253.189 77.4376 255.831 Q74.573 258.441 74.573 262.769 Q74.573 267.671 77.3421 270.631 Q80.1112 273.559 85.1401 274.005 L85.1083 253.125 Z\" fill=\"#000000\" fill-rule=\"evenodd\" fill-opacity=\"1\" /><path clip-path=\"url(#clip040)\" d=\"M1154.53 51.4708 L1152.75 42.1132 Q1150.92 32.5126 1143.71 32.5126 Q1138.28 32.5126 1135.81 36.9686 Q1132.69 42.5588 1132.69 49.9314 Q1132.69 58.8434 1135.73 63.0969 Q1138.81 67.4314 1143.71 67.4314 Q1149.14 67.4314 1152.06 58.8029 L1154.53 51.4708 M1158.7 39.075 L1162.71 27.2059 L1169.36 27.2059 L1161.05 51.7949 L1162.67 60.6663 Q1163.04 62.6513 1164.45 64.3122 Q1166.11 66.2566 1167.41 66.2566 L1170.98 66.2566 L1170.98 72.576 L1166.52 72.576 Q1162.71 72.576 1159.31 69.1732 Q1157.65 67.4719 1156.96 63.9071 Q1155.1 68.4036 1151.29 71.9279 Q1149.51 73.5887 1143.71 73.5887 Q1134.19 73.5887 1129.58 67.4314 Q1124.84 61.0714 1124.84 49.9314 Q1124.84 38.0218 1129.98 32.4315 Q1135.69 26.1931 1143.71 26.1931 Q1156.31 26.1931 1158.7 39.075 Z\" fill=\"#000000\" fill-rule=\"evenodd\" fill-opacity=\"1\" /><polyline clip-path=\"url(#clip042)\" style=\"stroke:#009af9; stroke-linecap:butt; stroke-linejoin:round; stroke-width:4; stroke-opacity:1; fill:none\" points=\"\n",
       "  356.774,525.853 357.565,484.404 358.357,449.547 359.148,458.817 359.94,402.751 360.731,459.702 361.523,435.294 362.315,511.922 363.106,582.633 363.898,452.265 \n",
       "  364.689,270.495 365.481,423.665 366.272,427.011 367.064,521.294 367.855,609.721 368.647,586.204 369.438,567.157 370.23,498.526 371.021,473.291 371.813,502.676 \n",
       "  372.604,518.873 373.396,484.449 374.187,453.314 374.979,452.266 375.77,435.192 376.562,603.451 377.354,532.658 378.145,556.923 378.937,556.921 379.728,498.17 \n",
       "  380.52,384.293 381.311,480.578 382.103,423.803 382.894,452.405 383.686,449.918 384.477,413.777 385.269,450.846 386.06,612.971 386.852,366.938 387.643,371.391 \n",
       "  388.435,586.413 389.226,516.314 390.018,484.003 390.81,448.07 391.601,369.343 392.393,446.617 393.184,456.659 393.976,413.185 394.767,506.208 395.559,506.208 \n",
       "  396.35,368.847 397.142,339.36 397.933,338.328 398.725,547.671 399.516,552.994 400.308,550.84 401.099,536.45 401.891,362.382 402.682,320.798 403.474,321.621 \n",
       "  404.265,638.823 405.057,471.965 405.849,370.695 406.64,433.333 407.432,580.481 408.223,478.42 409.015,449.26 409.806,368.63 410.598,449.204 411.389,466.219 \n",
       "  412.181,457.076 412.972,440.512 413.764,531.882 414.555,479.775 415.347,505.866 416.138,404.199 416.93,395.291 417.721,399.686 418.513,513.147 419.305,379.038 \n",
       "  420.096,388.429 420.888,388.429 421.679,382.001 422.471,385.81 423.262,368.088 424.054,368.088 424.845,418.599 425.637,434.586 426.428,494.569 427.22,500.218 \n",
       "  428.011,519.409 428.803,516.858 429.594,516.858 430.386,516.858 431.177,410.321 431.969,468.327 432.76,479.789 433.552,474.259 434.344,488.436 435.135,385.444 \n",
       "  435.927,357.178 436.718,350.776 437.51,469.874 438.301,464.954 439.093,366.947 439.884,425.096 440.676,338.279 441.467,337.987 442.259,516.225 443.05,467.557 \n",
       "  443.842,493.761 444.633,482.668 445.425,423.451 446.216,400.256 447.008,395.995 447.8,588.023 448.591,635.914 449.383,578.678 450.174,490.603 450.966,501.041 \n",
       "  451.757,510.919 452.549,475.356 453.34,469.366 454.132,405.496 454.923,470.229 455.715,525.161 456.506,526.207 457.298,428.387 458.089,419.049 458.881,410.896 \n",
       "  459.672,439.5 460.464,431.589 461.255,579.751 462.047,632.653 462.839,374.314 463.63,374.314 464.422,344.255 465.213,339.207 466.005,328.902 466.796,480.117 \n",
       "  467.588,354.125 468.379,408.671 469.171,463.423 469.962,531.424 470.754,546.308 471.545,528.209 472.337,460.335 473.128,472.884 473.92,436.253 474.711,331.338 \n",
       "  475.503,331.338 476.295,331.338 477.086,397.755 477.878,383.732 478.669,451.022 479.461,450.744 480.252,450.744 481.044,493.06 481.835,500.684 482.627,387.752 \n",
       "  483.418,371.359 484.21,391.247 485.001,308.03 485.793,381.092 486.584,632.642 487.376,498.907 488.167,401.368 488.959,600.601 489.75,546.212 490.542,347.148 \n",
       "  491.334,325.832 492.125,383.109 492.917,438.98 493.708,490.56 494.5,421.841 495.291,453.149 496.083,490.177 496.874,481.184 497.666,523.812 498.457,517.498 \n",
       "  499.249,601.321 500.04,487.946 500.832,434.986 501.623,440.336 502.415,422.793 503.206,435.755 503.998,525.771 504.79,543.282 505.581,495.556 506.373,351.46 \n",
       "  507.164,309.025 507.956,325.656 508.747,426.423 509.539,310.586 510.33,578.198 511.122,539.099 511.913,380.605 512.705,380.605 513.496,407.963 514.288,437.929 \n",
       "  515.079,442.433 515.871,335.641 516.662,408.758 517.454,523.836 518.245,565.856 519.037,336.845 519.829,389.606 520.62,410.266 521.412,454.362 522.203,492.619 \n",
       "  522.995,408.966 523.786,495.252 524.578,389.772 525.369,378.228 526.161,533.916 526.952,450.177 527.744,372.377 528.535,461.39 529.327,417.384 530.118,417.982 \n",
       "  530.91,417.982 531.701,402.925 532.493,479.237 533.285,472.926 534.076,489.774 534.868,462.408 535.659,385.246 536.451,386.041 537.242,373.173 538.034,293.46 \n",
       "  538.825,221.491 539.617,469.656 540.408,464.914 541.2,469.776 541.991,379.75 542.783,295.047 543.574,495.084 544.366,422.515 545.157,489.597 545.949,581.535 \n",
       "  546.74,481.444 547.532,403.819 548.324,401.601 549.115,428.961 549.907,424.562 550.698,460.023 551.49,422.459 552.281,542.741 553.073,414.535 553.864,420.934 \n",
       "  554.656,389.268 555.447,364.675 556.239,376.214 557.03,374.776 557.822,449.766 558.613,443.972 559.405,476.481 560.196,511.678 560.988,478.67 561.78,532.535 \n",
       "  562.571,402.433 563.363,463.199 564.154,462.868 564.946,439.835 565.737,419.892 566.529,444.581 567.32,386.425 568.112,372.246 568.903,318.177 569.695,329.87 \n",
       "  570.486,329.87 571.278,330.197 572.069,394.824 572.861,374.374 573.652,429.453 574.444,522.018 575.235,503.392 576.027,497.946 576.819,381.477 577.61,345.735 \n",
       "  578.402,328.285 579.193,484.19 579.985,399.691 580.776,360.958 581.568,551.117 582.359,558.877 583.151,531.369 583.942,586.011 584.734,554.526 585.525,523.948 \n",
       "  586.317,488.294 587.108,485.414 587.9,461.522 588.691,450.118 589.483,451.898 590.275,451.898 591.066,443.445 591.858,401.038 592.649,486.674 593.441,493.536 \n",
       "  594.232,489.593 595.024,298.007 595.815,322.486 596.607,298.247 597.398,299.276 598.19,438.949 598.981,318.418 599.773,349.791 600.564,318.45 601.356,614.604 \n",
       "  602.147,473.763 602.939,457.723 603.73,532.448 604.522,384.047 605.314,454.077 606.105,414.185 606.897,416.145 607.688,436.835 608.48,479.924 609.271,434.654 \n",
       "  610.063,432.575 610.854,571.895 611.646,522.304 612.437,467.808 613.229,458.278 614.02,464.367 614.812,559.542 615.603,433.78 616.395,491.326 617.186,505.644 \n",
       "  617.978,480.623 618.77,451.133 619.561,459.424 620.353,442.273 621.144,493.682 621.936,352.998 622.727,613.549 623.519,555.933 624.31,505.105 625.102,473.856 \n",
       "  625.893,553.59 626.685,472.587 627.476,453.167 628.268,464.834 629.059,479.108 629.851,553.233 630.642,497.958 631.434,448.082 632.225,347.629 633.017,456.782 \n",
       "  633.809,512.172 634.6,483.469 635.392,503.322 636.183,453.248 636.975,478.939 637.766,369.38 638.558,404.064 639.349,410.755 640.141,391.145 640.932,564.947 \n",
       "  641.724,569.193 642.515,462.677 643.307,506.538 644.098,353.166 644.89,484.265 645.681,481.068 646.473,507.943 647.265,370.527 648.056,378.45 648.848,484.615 \n",
       "  649.639,458.253 650.431,462.412 651.222,383.559 652.014,480.027 652.805,466.856 653.597,391.852 654.388,390.3 655.18,395.481 655.971,430.665 656.763,472.605 \n",
       "  657.554,453.351 658.346,454.646 659.137,438.091 659.929,439.415 660.72,473.189 661.512,473.189 662.304,471.887 663.095,471.887 663.887,481.278 664.678,469.767 \n",
       "  665.47,495.05 666.261,487.218 667.053,472.216 667.844,416.581 668.636,448.835 669.427,448.835 670.219,484.673 671.01,436.509 671.802,505.317 672.593,540.191 \n",
       "  673.385,464.718 674.176,589.689 674.968,575.079 675.76,462.471 676.551,491.037 677.343,542.731 678.134,531.738 678.926,402.632 679.717,399.018 680.509,452.519 \n",
       "  681.3,423.89 682.092,427.473 682.883,427.473 683.675,402.563 684.466,368.48 685.258,182.881 686.049,192.75 686.841,619.43 687.632,512.406 688.424,506.401 \n",
       "  689.215,355.735 690.007,477.962 690.799,590.778 691.59,514.146 692.382,458.686 693.173,421.413 693.965,519.394 694.756,432.836 695.548,460.359 696.339,506.921 \n",
       "  697.131,490.958 697.922,567.463 698.714,558.398 699.505,322.87 700.297,322.87 701.088,303.115 701.88,391.72 702.671,434.966 703.463,447.025 704.255,471.548 \n",
       "  705.046,466.293 705.838,329.41 706.629,347.598 707.421,347.598 708.212,347.598 709.004,415.537 709.795,377.954 710.587,406.716 711.378,431.233 712.17,401.698 \n",
       "  712.961,401.698 713.753,495.161 714.544,631.66 715.336,620.113 716.127,609.76 716.919,401.2 717.71,409.845 718.502,408.191 719.294,471.372 720.085,447.837 \n",
       "  720.877,409.952 721.668,431.108 722.46,529.73 723.251,410.794 724.043,482.636 724.834,506.86 725.626,510.784 726.417,429.008 727.209,435.253 728,519.184 \n",
       "  728.792,522.54 729.583,666.313 730.375,610.856 731.166,593.942 731.958,600.053 732.75,456.183 733.541,455.767 734.333,520.858 735.124,532.988 735.916,286.396 \n",
       "  736.707,360.766 737.499,297.028 738.29,429.933 739.082,439.359 739.873,427.512 740.665,434.55 741.456,433.105 742.248,415.269 743.039,406.715 743.831,305.913 \n",
       "  744.622,305.913 745.414,305.913 746.205,319.307 746.997,271.049 747.789,299.179 748.58,314.299 749.372,309.372 750.163,326.033 750.955,352.883 751.746,393.676 \n",
       "  752.538,387.576 753.329,378.117 754.121,389.789 754.912,315.516 755.704,410.953 756.495,420.973 757.287,399.302 758.078,456.037 758.87,420.695 759.661,432.99 \n",
       "  760.453,517.726 761.245,571.256 762.036,557.272 762.828,434.168 763.619,422.4 764.411,427.502 765.202,539.897 765.994,554.037 766.785,528.939 767.577,531.872 \n",
       "  768.368,377.402 769.16,405.25 769.951,506.406 770.743,452.814 771.534,466.746 772.326,632.793 773.117,632.793 773.909,656.91 774.7,728.978 775.492,727.559 \n",
       "  776.284,693.151 777.075,639.743 777.867,521.3 778.658,402.043 779.45,532.2 780.241,495.166 781.033,396.58 781.824,546.637 782.616,542.674 783.407,560.361 \n",
       "  784.199,448.831 784.99,437.891 785.782,502.896 786.573,543.457 787.365,537.468 788.156,513.039 788.948,428.245 789.74,469.856 790.531,373.298 791.323,461.743 \n",
       "  792.114,564.57 792.906,639.358 793.697,309.386 794.489,296.839 795.28,279.949 796.072,268.401 796.863,429.211 797.655,605.748 798.446,323.487 799.238,333.137 \n",
       "  800.029,503.295 800.821,527.08 801.612,549.865 802.404,474.271 803.195,509.151 803.987,487.137 804.779,412.919 805.57,475.397 806.362,476.773 807.153,591.436 \n",
       "  807.945,559.538 808.736,596.894 809.528,615.791 810.319,613.814 811.111,442.962 811.902,536.268 812.694,533.641 813.485,497.267 814.277,429.809 815.068,251.942 \n",
       "  815.86,256.448 816.651,170.06 817.443,168.206 818.235,451.007 819.026,428.988 819.818,550.052 820.609,369.21 821.401,378.772 822.192,403.155 822.984,400.539 \n",
       "  823.775,451.276 824.567,563.331 825.358,564.934 826.15,535.462 826.941,432.631 827.733,430.732 828.524,433.657 829.316,535.861 830.107,550.511 830.899,551.722 \n",
       "  831.69,479.295 832.482,419.816 833.274,466.505 834.065,501.609 834.857,436.131 835.648,472.54 836.44,472.54 837.231,514.982 838.023,471.116 838.814,350.937 \n",
       "  839.606,539.182 840.397,490.123 841.189,446.341 841.98,466.732 842.772,426.744 843.563,448.026 844.355,481.397 845.146,459.635 845.938,355.547 846.73,414.197 \n",
       "  847.521,459.149 848.313,497.935 849.104,488.947 849.896,457.744 850.687,453.759 851.479,485.49 852.27,570.489 853.062,601.377 853.853,566.308 854.645,534.955 \n",
       "  855.436,623.974 856.228,554.751 857.019,458.688 857.811,550.554 858.602,478.461 859.394,478.554 860.185,509.564 860.977,502.439 861.769,554.856 862.56,522.524 \n",
       "  863.352,556.675 864.143,320.359 864.935,648.243 865.726,556.617 866.518,594.936 867.309,619.254 868.101,723.173 868.892,697.933 869.684,642.335 870.475,630.315 \n",
       "  871.267,432.303 872.058,442.442 872.85,552.231 873.641,537.324 874.433,327.194 875.225,391.471 876.016,457.842 876.808,451.341 877.599,457.234 878.391,440.143 \n",
       "  879.182,436.768 879.974,421.853 880.765,419.954 881.557,380.618 882.348,352.636 883.14,435.79 883.931,546.071 884.723,518.766 885.514,570.616 886.306,618.844 \n",
       "  887.097,241.992 887.889,392.767 888.68,306.381 889.472,405.989 890.264,448.292 891.055,343.213 891.847,323.045 892.638,324.605 893.43,461.945 894.221,443.827 \n",
       "  895.013,483.778 895.804,465.136 896.596,562.928 897.387,626.388 898.179,558.693 898.97,485.113 899.762,459.756 900.553,462.034 901.345,506.624 902.136,458.214 \n",
       "  902.928,416.69 903.72,432.759 904.511,528.601 905.303,576.648 906.094,585.452 906.886,541.892 907.677,544.656 908.469,580.069 909.26,620.185 910.052,620.139 \n",
       "  910.843,406.137 911.635,426.083 912.426,344.801 913.218,370.68 914.009,337.342 914.801,433.019 915.592,369.152 916.384,290.884 917.175,305.822 917.967,318.441 \n",
       "  918.759,404.986 919.55,419.827 920.342,419.827 921.133,403.754 921.925,417.363 922.716,456.268 923.508,360.845 924.299,481.885 925.091,465.965 925.882,400.021 \n",
       "  926.674,455.599 927.465,572.801 928.257,560.014 929.048,515.256 929.84,575.398 930.631,554.43 931.423,536.099 932.215,545.271 933.006,460.874 933.798,378.262 \n",
       "  934.589,379.484 935.381,434.891 936.172,445.868 936.964,441.746 937.755,458.145 938.547,514.904 939.338,328.175 940.13,395.015 940.921,539.629 941.713,348.485 \n",
       "  942.504,419.294 943.296,304.59 944.087,358.612 944.879,372.793 945.67,372.793 946.462,349.186 947.254,420.127 948.045,267.06 948.837,281.592 949.628,277.285 \n",
       "  950.42,277.285 951.211,292.52 952.003,272.915 952.794,456.917 953.586,487.991 954.377,404.624 955.169,436.83 955.96,474.521 956.752,347.797 957.543,375.742 \n",
       "  958.335,375.742 959.126,468.149 959.918,462.872 960.71,448.306 961.501,471.58 962.293,496.787 963.084,486.287 963.876,386.464 964.667,528.171 965.459,468.404 \n",
       "  966.25,434.639 967.042,479.424 967.833,421.115 968.625,386.213 969.416,288.74 970.208,308.009 970.999,284.039 971.791,585.962 972.582,575.339 973.374,510.173 \n",
       "  974.165,516.707 974.957,294.394 975.749,370.842 976.54,427.017 977.332,493.954 978.123,559.125 978.915,456.132 979.706,455.568 980.498,442.998 981.289,492.811 \n",
       "  982.081,406.219 982.872,452.708 983.664,452.708 984.455,450.937 985.247,478.977 986.038,478.977 986.83,546.111 987.621,552.309 988.413,423.916 989.204,400.365 \n",
       "  989.996,334.136 990.788,433.106 991.579,433.106 992.371,390.482 993.162,428.977 993.954,415.18 994.745,632.83 995.537,597.545 996.328,593.083 997.12,579.998 \n",
       "  997.911,515.845 998.703,554.271 999.494,563.196 1000.29,513.452 1001.08,534.087 1001.87,577.142 1002.66,613.345 1003.45,589.3 1004.24,570.788 1005.04,556.989 \n",
       "  1005.83,388.803 1006.62,366.482 1007.41,524.777 1008.2,421.09 1008.99,490.171 1009.78,446.542 1010.58,366.925 1011.37,356.982 1012.16,322.321 1012.95,339.097 \n",
       "  1013.74,344.059 1014.53,361.981 1015.32,541.455 1016.12,506.321 1016.91,493.496 1017.7,528.402 1018.49,563.593 1019.28,518.399 1020.07,394.774 1020.87,420.489 \n",
       "  1021.66,428.281 1022.45,510.66 1023.24,533.031 1024.03,523.572 1024.82,391.058 1025.61,486.941 1026.41,467.802 1027.2,503.237 1027.99,439.704 1028.78,545.611 \n",
       "  1029.57,569.912 1030.36,518.128 1031.16,500.079 1031.95,499.113 1032.74,499.113 1033.53,492.808 1034.32,505.345 1035.11,349.13 1035.9,589.465 1036.7,577.616 \n",
       "  1037.49,572.746 1038.28,318.373 1039.07,521.371 1039.86,470.032 1040.65,415.69 1041.45,450.734 1042.24,589.316 1043.03,481.085 1043.82,523.609 1044.61,536.976 \n",
       "  1045.4,391.438 1046.19,374.237 1046.99,434.065 1047.78,415.713 1048.57,509.737 1049.36,487.368 1050.15,400.416 1050.94,396.331 1051.74,373.612 1052.53,380.088 \n",
       "  1053.32,467.162 1054.11,470.865 1054.9,458.272 1055.69,583.306 1056.48,459.87 1057.28,462.568 1058.07,455.999 1058.86,433.866 1059.65,431.046 1060.44,443.584 \n",
       "  1061.23,447.777 1062.03,407.55 1062.82,394.887 1063.61,621.541 1064.4,587.954 1065.19,503.982 1065.98,399.514 1066.77,405.166 1067.57,378.234 1068.36,462.14 \n",
       "  1069.15,524.508 1069.94,481.574 1070.73,481.574 1071.52,472.699 1072.31,590.841 1073.11,698.693 1073.9,687.047 1074.69,654.415 1075.48,656.472 1076.27,698.711 \n",
       "  1077.06,549.894 1077.86,516.168 1078.65,490.763 1079.44,390.826 1080.23,538.809 1081.02,363.761 1081.81,452.734 1082.6,482.725 1083.4,466.846 1084.19,493.821 \n",
       "  1084.98,516.206 1085.77,511.997 1086.56,444.286 1087.35,434.944 1088.15,458.34 1088.94,534.205 1089.73,504.372 1090.52,427.973 1091.31,448.471 1092.1,479.023 \n",
       "  1092.89,484.426 1093.69,579.767 1094.48,448.355 1095.27,414.665 1096.06,275.91 1096.85,602.346 1097.64,487.403 1098.44,423.22 1099.23,491.877 1100.02,484.863 \n",
       "  1100.81,444.123 1101.6,392.23 1102.39,431.437 1103.18,424.153 1103.98,408.358 1104.77,426.156 1105.56,410.153 1106.35,378.294 1107.14,454.998 1107.93,551.195 \n",
       "  1108.73,560.626 1109.52,579.721 1110.31,533.675 1111.1,616.5 1111.89,606.219 1112.68,531.981 1113.47,531.981 1114.27,358.498 1115.06,383.267 1115.85,445.463 \n",
       "  1116.64,485.885 1117.43,490.669 1118.22,482.103 1119.02,429.634 1119.81,436.069 1120.6,438.643 1121.39,491.041 1122.18,428.58 1122.97,424.015 1123.76,409.253 \n",
       "  1124.56,415.902 1125.35,660.627 1126.14,592.306 1126.93,460.995 1127.72,475.521 1128.51,588.485 1129.3,503.06 1130.1,426.355 1130.89,343.509 1131.68,339.7 \n",
       "  1132.47,393.718 1133.26,340.884 1134.05,345.778 1134.85,418.288 1135.64,430.479 1136.43,527.001 1137.22,618.917 1138.01,615.815 1138.8,587.697 1139.59,531.794 \n",
       "  1140.39,571.87 1141.18,534.373 1141.97,326.087 1142.76,321.541 1143.55,351.025 1144.34,388.412 1145.14,440.359 1145.93,447.233 1146.72,356.835 1147.51,344.889 \n",
       "  1148.3,385.497 1149.09,409.598 1149.88,415.08 1150.68,506.853 1151.47,511.12 1152.26,401.764 1153.05,532.62 1153.84,526.439 1154.63,579.369 1155.43,527.524 \n",
       "  1156.22,517.309 1157.01,444.065 1157.8,581.429 1158.59,562.711 1159.38,435.244 1160.17,491.529 1160.97,375.33 1161.76,300.254 1162.55,390.892 1163.34,379.035 \n",
       "  1164.13,349.087 1164.92,428.038 1165.72,399.14 1166.51,422.559 1167.3,456.158 1168.09,429.668 1168.88,435.03 1169.67,310.374 1170.46,386.913 1171.26,409.557 \n",
       "  1172.05,526.111 1172.84,581.663 1173.63,578.759 1174.42,427.271 1175.21,390.243 1176.01,452.425 1176.8,428.584 1177.59,472.212 1178.38,375.016 1179.17,401.298 \n",
       "  1179.96,382.68 1180.75,352.606 1181.55,433.867 1182.34,491.949 1183.13,463.873 1183.92,511.502 1184.71,489.958 1185.5,495.918 1186.29,326.423 1187.09,349.865 \n",
       "  1187.88,289.308 1188.67,549.408 1189.46,611.05 1190.25,598.681 1191.04,465.808 1191.84,450.665 1192.63,445.437 1193.42,462.541 1194.21,509.207 1195,545.149 \n",
       "  1195.79,578.089 1196.58,549.79 1197.38,523.214 1198.17,555.661 1198.96,546.461 1199.75,526.752 1200.54,521.439 1201.33,540.27 1202.13,542.366 1202.92,338.94 \n",
       "  1203.71,457.636 1204.5,437.383 1205.29,422.291 1206.08,543.257 1206.87,430.356 1207.67,540.534 1208.46,529.107 1209.25,556.81 1210.04,546.657 1210.83,511.61 \n",
       "  1211.62,438.977 1212.42,453.456 1213.21,510.349 1214,485.983 1214.79,414.424 1215.58,407.16 1216.37,429.271 1217.16,438.625 1217.96,348.303 1218.75,298.52 \n",
       "  1219.54,270.349 1220.33,315.207 1221.12,560.697 1221.91,464.107 1222.71,484.48 1223.5,458.007 1224.29,399.297 1225.08,454.774 1225.87,454.774 1226.66,414.109 \n",
       "  1227.45,396.358 1228.25,353.839 1229.04,505.362 1229.83,397.885 1230.62,384.917 1231.41,376.366 1232.2,393.668 1233,384.737 1233.79,369.407 1234.58,376.977 \n",
       "  1235.37,389.4 1236.16,496.963 1236.95,506.104 1237.74,643.144 1238.54,568.514 1239.33,568.514 1240.12,538.632 1240.91,616.379 1241.7,537.135 1242.49,597.732 \n",
       "  1243.28,563.119 1244.08,573.483 1244.87,506.527 1245.66,493.476 1246.45,529.622 1247.24,576.028 1248.03,613.832 1248.83,596.657 1249.62,611.707 1250.41,523.622 \n",
       "  1251.2,524.48 1251.99,562.864 1252.78,543.309 1253.57,453.535 1254.37,491.331 1255.16,567.631 1255.95,580.464 1256.74,468.883 1257.53,496.803 1258.32,495.432 \n",
       "  1259.12,472.557 1259.91,418.342 1260.7,521.607 1261.49,475.47 1262.28,471.623 1263.07,491.365 1263.86,531.52 1264.66,447.422 1265.45,472.831 1266.24,587.787 \n",
       "  1267.03,483.972 1267.82,547.935 1268.61,532.707 1269.41,434.286 1270.2,557.916 1270.99,468.163 1271.78,479.71 1272.57,549.616 1273.36,477.93 1274.15,415.017 \n",
       "  1274.95,475.624 1275.74,531.43 1276.53,331.516 1277.32,521.555 1278.11,439.962 1278.9,442.435 1279.7,455.811 1280.49,392.477 1281.28,392.477 1282.07,342.84 \n",
       "  1282.86,390.57 1283.65,399.183 1284.44,380.545 1285.24,373.434 1286.03,518.433 1286.82,439.585 1287.61,432.945 1288.4,440.809 1289.19,454.175 1289.99,491.554 \n",
       "  1290.78,453.274 1291.57,473.441 1292.36,449.366 1293.15,402.017 1293.94,538.206 1294.73,538.206 1295.53,381.241 1296.32,454.339 1297.11,507.942 1297.9,370.22 \n",
       "  1298.69,360.24 1299.48,373.366 1300.27,387.727 1301.07,388.484 1301.86,554.908 1302.65,522.27 1303.44,559.438 1304.23,603.852 1305.02,600.774 1305.82,492.749 \n",
       "  1306.61,497.242 1307.4,502.987 1308.19,479.5 1308.98,515.241 1309.77,456.71 1310.56,456.71 1311.36,479.246 1312.15,474.834 1312.94,434.773 1313.73,299.522 \n",
       "  1314.52,326.084 1315.31,351.887 1316.11,443.019 1316.9,149.935 1317.69,395.01 1318.48,479.945 1319.27,491.219 1320.06,471.075 1320.85,513.848 1321.65,362.404 \n",
       "  1322.44,384.955 1323.23,389.37 1324.02,500.461 1324.81,492.51 1325.6,491.82 1326.4,492.911 1327.19,471.435 1327.98,407.05 1328.77,385.608 1329.56,449.191 \n",
       "  1330.35,432.485 1331.14,441.588 1331.94,485.98 1332.73,485.98 1333.52,402.205 1334.31,503.094 1335.1,479.905 1335.89,372.597 1336.69,405.123 1337.48,400.316 \n",
       "  1338.27,328.125 1339.06,479.828 1339.85,560.537 1340.64,354.782 1341.43,359.211 1342.23,550.155 1343.02,500.634 1343.81,509.794 1344.6,564.42 1345.39,555.514 \n",
       "  1346.18,569.31 1346.98,497.03 1347.77,507.632 1348.56,629.569 1349.35,430.834 1350.14,439.812 1350.93,371.699 1351.72,460.458 1352.52,408.087 1353.31,387.58 \n",
       "  1354.1,368.258 1354.89,329.162 1355.68,338.251 1356.47,504.402 1357.26,547.563 1358.06,547.563 1358.85,543.38 1359.64,665.029 1360.43,481.012 1361.22,481.941 \n",
       "  1362.01,428.408 1362.81,394.862 1363.6,408.523 1364.39,497.901 1365.18,501.11 1365.97,387.511 1366.76,368.36 1367.55,408.789 1368.35,454.142 1369.14,502.504 \n",
       "  1369.93,505.832 1370.72,503.28 1371.51,428.082 1372.3,432.734 1373.1,454.582 1373.89,464.21 1374.68,444.712 1375.47,405.078 1376.26,492.207 1377.05,520.032 \n",
       "  1377.84,523.977 1378.64,529.187 1379.43,548.73 1380.22,566.767 1381.01,514.337 1381.8,449.804 1382.59,473.13 1383.39,392.518 1384.18,664.877 1384.97,705.127 \n",
       "  1385.76,738.103 1386.55,625.339 1387.34,577.606 1388.13,573.457 1388.93,570.186 1389.72,420.348 1390.51,406.058 1391.3,447.933 1392.09,438.797 1392.88,451.491 \n",
       "  1393.68,476.1 1394.47,487.184 1395.26,477.087 1396.05,364.255 1396.84,415.238 1397.63,467.497 1398.42,462.378 1399.22,481.912 1400.01,462.554 1400.8,573.792 \n",
       "  1401.59,550.898 1402.38,529.128 1403.17,520.169 1403.97,302.671 1404.76,410.361 1405.55,467.477 1406.34,473.087 1407.13,473.087 1407.92,390.017 1408.71,390.017 \n",
       "  1409.51,595.954 1410.3,543.163 1411.09,533.363 1411.88,570.737 1412.67,543.566 1413.46,400.779 1414.25,420.287 1415.05,420.287 1415.84,447.492 1416.63,419.668 \n",
       "  1417.42,418.768 1418.21,440.717 1419,440.717 1419.8,440.979 1420.59,435.238 1421.38,390.458 1422.17,406.121 1422.96,521.939 1423.75,512.593 1424.54,479.911 \n",
       "  1425.34,481.854 1426.13,549.299 1426.92,529.928 1427.71,435.647 1428.5,424.452 1429.29,424.452 1430.09,556.444 1430.88,400.488 1431.67,397.699 1432.46,443.959 \n",
       "  1433.25,418.251 1434.04,431.781 1434.83,448.178 1435.63,361.745 1436.42,368.755 1437.21,361.376 1438,388.532 1438.79,369.269 1439.58,443.759 1440.38,427.578 \n",
       "  1441.17,533.371 1441.96,458.676 1442.75,455.99 1443.54,484.716 1444.33,479.307 1445.12,551.901 1445.92,542.712 1446.71,516.884 1447.5,534.501 1448.29,491.46 \n",
       "  1449.08,488.069 1449.87,406.045 1450.67,395.872 1451.46,398.181 1452.25,497.003 1453.04,504.212 1453.83,516.013 1454.62,427.913 1455.41,409.453 1456.21,415.718 \n",
       "  1457,411.405 1457.79,396.549 1458.58,496.443 1459.37,484.725 1460.16,526.046 1460.96,456.09 1461.75,464.305 1462.54,336.359 1463.33,543.859 1464.12,528.263 \n",
       "  1464.91,528.065 1465.7,497.819 1466.5,477.373 1467.29,509.42 1468.08,499.261 1468.87,417.358 1469.66,440.814 1470.45,549.547 1471.24,544.334 1472.04,580.309 \n",
       "  1472.83,580.309 1473.62,453.101 1474.41,457.822 1475.2,563.471 1475.99,549.565 1476.79,548.764 1477.58,559.315 1478.37,349.453 1479.16,362.062 1479.95,329.797 \n",
       "  1480.74,606.953 1481.53,503.455 1482.33,516.883 1483.12,491.972 1483.91,561.609 1484.7,420.396 1485.49,482.763 1486.28,459.371 1487.08,405.061 1487.87,390.47 \n",
       "  1488.66,454.018 1489.45,461.441 1490.24,499.583 1491.03,459.042 1491.82,434.747 1492.62,502.205 1493.41,484.163 1494.2,323.478 1494.99,368.377 1495.78,372.823 \n",
       "  1496.57,382.989 1497.37,401.828 1498.16,508.917 1498.95,410.289 1499.74,438.469 1500.53,427.34 1501.32,529.469 1502.11,510.513 1502.91,360.332 1503.7,360.332 \n",
       "  1504.49,388.334 1505.28,438.684 1506.07,409.246 1506.86,397.98 1507.66,509.705 1508.45,575.037 1509.24,577.307 1510.03,601.242 1510.82,537.301 1511.61,403.375 \n",
       "  1512.4,504.581 1513.2,383.281 1513.99,397.585 1514.78,526.558 1515.57,505.369 1516.36,469.526 1517.15,291.559 1517.95,446.769 1518.74,396.322 1519.53,510.972 \n",
       "  1520.32,368.751 1521.11,385.594 1521.9,374.855 1522.69,361.483 1523.49,331.791 1524.28,356.979 1525.07,332.145 1525.86,321.96 1526.65,460.929 1527.44,392.537 \n",
       "  1528.23,386.668 1529.03,452.824 1529.82,584.39 1530.61,596.556 1531.4,515.435 1532.19,522.085 1532.98,462.902 1533.78,479.849 1534.57,450.541 1535.36,504.224 \n",
       "  1536.15,395.589 1536.94,384.546 1537.73,409.02 1538.52,410.375 1539.32,440.153 1540.11,549.516 1540.9,565.744 1541.69,597.704 1542.48,547.013 1543.27,505.398 \n",
       "  1544.07,369.761 1544.86,428.685 1545.65,495.368 1546.44,495.155 1547.23,381.619 1548.02,374.816 1548.81,328.723 1549.61,298.078 1550.4,605.651 1551.19,605.651 \n",
       "  1551.98,542.594 1552.77,532.047 1553.56,441.55 1554.36,332.15 1555.15,353.713 1555.94,547.144 1556.73,475.303 1557.52,367.451 1558.31,503.217 1559.1,468.206 \n",
       "  1559.9,334.757 1560.69,561.208 1561.48,561.36 1562.27,522.795 1563.06,572.177 1563.85,513.288 1564.65,389.089 1565.44,391.772 1566.23,450.26 1567.02,462.043 \n",
       "  1567.81,339.02 1568.6,340.35 1569.39,398.739 1570.19,443.332 1570.98,453.838 1571.77,443.572 1572.56,397.503 1573.35,397.503 1574.14,607.301 1574.94,607.301 \n",
       "  1575.73,639.04 1576.52,651.918 1577.31,625.826 1578.1,646.78 1578.89,685.87 1579.68,621.928 1580.48,532.767 1581.27,449.793 1582.06,408.108 1582.85,353.359 \n",
       "  1583.64,453.244 1584.43,452.525 1585.22,493.583 1586.02,352.471 1586.81,305.236 1587.6,245.075 1588.39,365.261 1589.18,472.701 1589.97,574.871 1590.77,549.921 \n",
       "  1591.56,542.092 1592.35,532.791 1593.14,532.791 1593.93,531.376 1594.72,526.26 1595.51,532.51 1596.31,578.378 1597.1,501.686 1597.89,524.368 1598.68,528.912 \n",
       "  1599.47,468.329 1600.26,539.357 1601.06,473.5 1601.85,416.708 1602.64,374.646 1603.43,395.299 1604.22,441.631 1605.01,441.631 1605.8,414.459 1606.6,443.842 \n",
       "  1607.39,479.079 1608.18,477.008 1608.97,448.559 1609.76,492.305 1610.55,497.872 1611.35,475.053 1612.14,491.278 1612.93,585.57 1613.72,517.344 1614.51,520.409 \n",
       "  1615.3,610.676 1616.09,590.168 1616.89,391.394 1617.68,423.424 1618.47,432.963 1619.26,317.778 1620.05,528.956 1620.84,553.643 1621.64,437.671 1622.43,356.987 \n",
       "  1623.22,454.914 1624.01,289.962 1624.8,289.962 1625.59,371.353 1626.38,359.63 1627.18,434.602 1627.97,531.079 1628.76,502.831 1629.55,497.036 1630.34,570.298 \n",
       "  1631.13,549.811 1631.93,545.339 1632.72,543.526 1633.51,359.442 1634.3,403.334 1635.09,419.009 1635.88,420.864 1636.67,412.005 1637.47,495.173 1638.26,496.431 \n",
       "  1639.05,467.252 1639.84,529.303 1640.63,557.606 1641.42,508.067 1642.21,405.744 1643.01,372.627 1643.8,366.609 1644.59,381.428 1645.38,381.428 1646.17,530.01 \n",
       "  1646.96,636.195 1647.76,638.581 1648.55,538.627 1649.34,347.627 1650.13,336 1650.92,480.803 1651.71,478.877 1652.5,470.428 1653.3,512.151 1654.09,601.754 \n",
       "  1654.88,472.374 1655.67,389.132 1656.46,429.995 1657.25,461.189 1658.05,452.866 1658.84,439.696 1659.63,413.805 1660.42,446.985 1661.21,589.085 1662,519.452 \n",
       "  1662.79,337.35 1663.59,341.101 1664.38,391.068 1665.17,390.736 1665.96,399.259 1666.75,373.145 1667.54,564.058 1668.34,553.087 1669.13,655.728 1669.92,543.051 \n",
       "  1670.71,437.659 1671.5,395.665 1672.29,406.071 1673.08,600.792 1673.88,596.705 1674.67,356.974 1675.46,341.254 1676.25,455.007 1677.04,413.909 1677.83,577.216 \n",
       "  1678.63,519.049 1679.42,491.123 1680.21,491.123 1681,517.887 1681.79,555.945 1682.58,283.232 1683.37,319.614 1684.17,520.492 1684.96,420.8 1685.75,506.882 \n",
       "  1686.54,467.846 1687.33,467.975 1688.12,448.782 1688.92,448.782 1689.71,465.427 1690.5,466.432 1691.29,475.073 1692.08,460.072 1692.87,409.764 1693.66,482.55 \n",
       "  1694.46,529.642 1695.25,343.192 1696.04,426.551 1696.83,416.323 1697.62,415.631 1698.41,438.154 1699.2,503.207 1700,511.202 1700.79,463.263 1701.58,468.542 \n",
       "  1702.37,522.412 1703.16,531.29 1703.95,651.469 1704.75,515.374 1705.54,533.231 1706.33,459.767 1707.12,612.655 1707.91,557.831 1708.7,549.966 1709.49,564.685 \n",
       "  1710.29,553.561 1711.08,468.772 1711.87,494.786 1712.66,503.61 1713.45,615.486 1714.24,615.486 1715.04,455.26 1715.83,521.165 1716.62,551.067 1717.41,538.295 \n",
       "  1718.2,601.433 1718.99,604.427 1719.78,601.786 1720.58,519.91 1721.37,386.315 1722.16,419.372 1722.95,450.16 1723.74,523.824 1724.53,508.711 1725.33,490.915 \n",
       "  1726.12,540.313 1726.91,388.125 1727.7,394.382 1728.49,468.929 1729.28,451.169 1730.07,394.073 1730.87,411.806 1731.66,401.172 1732.45,544.512 1733.24,605.586 \n",
       "  1734.03,659.078 1734.82,741.446 1735.62,758.03 1736.41,758.03 1737.2,722.991 1737.99,616.825 1738.78,599.928 1739.57,672.222 1740.36,566.528 1741.16,621.491 \n",
       "  1741.95,596.265 1742.74,601.505 1743.53,466.06 1744.32,466.451 1745.11,466.451 1745.91,478.947 1746.7,401.49 1747.49,443.481 1748.28,455.042 1749.07,442.928 \n",
       "  1749.86,414.742 1750.65,417.053 1751.45,390.666 1752.24,520.477 1753.03,513.609 1753.82,475.141 1754.61,483.955 1755.4,466.011 1756.19,557.105 1756.99,542.706 \n",
       "  1757.78,577.762 1758.57,372.095 1759.36,479.575 1760.15,562.537 1760.94,510.46 1761.74,512.169 1762.53,570.378 1763.32,614.918 1764.11,617.897 1764.9,566.165 \n",
       "  1765.69,451.274 1766.48,445.816 1767.28,567.59 1768.07,474.653 1768.86,567.247 1769.65,549.018 1770.44,553.313 1771.23,570.447 1772.03,627.433 1772.82,589.543 \n",
       "  1773.61,579.287 1774.4,588.389 1775.19,586.571 1775.98,422.31 1776.77,516.359 1777.57,395.153 1778.36,567.136 1779.15,576.427 1779.94,549.4 1780.73,577.9 \n",
       "  1781.52,591.67 1782.32,346.255 1783.11,331.835 1783.9,345.583 1784.69,557.566 1785.48,476.92 1786.27,534.201 1787.06,501.194 1787.86,459.379 1788.65,523.459 \n",
       "  1789.44,462.447 1790.23,468.987 1791.02,405.818 1791.81,348.131 1792.61,385.772 1793.4,491.982 1794.19,379.069 1794.98,396.384 1795.77,384.561 1796.56,474.503 \n",
       "  1797.35,299.759 1798.15,345.902 1798.94,320.776 1799.73,340.678 1800.52,318.095 1801.31,446.761 1802.1,438.209 1802.9,419.35 1803.69,455.631 1804.48,432.092 \n",
       "  1805.27,447.417 1806.06,383.996 1806.85,567.304 1807.64,617.769 1808.44,598.614 1809.23,480.9 1810.02,491.383 1810.81,523.981 1811.6,493.023 1812.39,465.258 \n",
       "  1813.18,446.844 1813.98,501.81 1814.77,583.331 1815.56,574.949 1816.35,448.763 1817.14,497.941 1817.93,496.297 1818.73,476.118 1819.52,500.947 1820.31,545.694 \n",
       "  1821.1,436.334 1821.89,511.648 1822.68,507.732 1823.47,491.234 1824.27,529.373 1825.06,550.314 1825.85,403.749 1826.64,380.089 1827.43,358.406 1828.22,273.857 \n",
       "  1829.02,281.291 1829.81,279.279 1830.6,446.398 1831.39,369.172 1832.18,371.379 1832.97,435.557 1833.76,418.433 1834.56,409.295 1835.35,382.612 1836.14,562.288 \n",
       "  1836.93,411.029 1837.72,475.023 1838.51,410.26 1839.31,472.567 1840.1,567.718 1840.89,548.012 1841.68,496.171 1842.47,516.267 1843.26,492.756 1844.05,528.523 \n",
       "  1844.85,482.834 1845.64,426.075 1846.43,510.651 1847.22,564.631 1848.01,583.984 1848.8,395.174 1849.6,579.226 1850.39,558.64 1851.18,429.114 1851.97,400.054 \n",
       "  1852.76,385.156 1853.55,367.744 1854.34,376.833 1855.14,498.357 1855.93,502.595 1856.72,368.553 1857.51,360.373 1858.3,336.987 1859.09,328.941 1859.89,326.471 \n",
       "  1860.68,376.718 1861.47,376.848 1862.26,255.979 1863.05,265.893 1863.84,258.896 1864.63,306.604 1865.43,780.017 1866.22,719.14 1867.01,728.958 1867.8,690.567 \n",
       "  1868.59,695.581 1869.38,561.913 1870.17,383.316 1870.97,443.32 1871.76,385.068 1872.55,383.152 1873.34,430.802 1874.13,433.845 1874.92,487.87 1875.72,456.37 \n",
       "  1876.51,460.225 1877.3,504.144 1878.09,555.551 1878.88,510.157 1879.67,422.695 1880.46,399.218 1881.26,600.284 1882.05,602.167 1882.84,620.989 1883.63,389.546 \n",
       "  1884.42,343.097 1885.21,344.624 1886.01,383.548 1886.8,469.3 1887.59,470.197 1888.38,467.6 1889.17,419.864 1889.96,360.27 1890.75,436.935 1891.55,436.935 \n",
       "  1892.34,482.977 1893.13,454.557 1893.92,348.849 1894.71,356.927 1895.5,501.758 1896.3,507.38 1897.09,444.534 1897.88,448.913 1898.67,448.913 1899.46,482.557 \n",
       "  1900.25,548.583 1901.04,594.785 1901.84,402.967 1902.63,427.542 1903.42,387.191 1904.21,305.197 1905,305.197 1905.79,207.291 1906.59,232.779 1907.38,306.757 \n",
       "  1908.17,371.874 1908.96,341.358 1909.75,329.256 1910.54,491.078 1911.33,508.343 1912.13,508.343 1912.92,472.483 1913.71,549.258 1914.5,602.495 1915.29,463.684 \n",
       "  1916.08,458.335 1916.88,466.941 1917.67,446.257 1918.46,482.89 1919.25,461.567 1920.04,394.356 1920.83,422.977 1921.62,405.818 1922.42,368.344 1923.21,399.72 \n",
       "  1924,397.483 1924.79,421.599 1925.58,469.408 1926.37,492.807 1927.16,484.273 1927.96,436.059 1928.75,430.437 1929.54,434.615 1930.33,468.732 1931.12,483.842 \n",
       "  1931.91,491.214 1932.71,545.449 1933.5,562.505 1934.29,580.416 1935.08,585.024 1935.87,587.345 1936.66,552.734 1937.45,552.734 1938.25,552.734 1939.04,548.014 \n",
       "  \n",
       "  \"/>\n",
       "<polyline clip-path=\"url(#clip042)\" style=\"stroke:#e26f46; stroke-linecap:butt; stroke-linejoin:round; stroke-width:4; stroke-opacity:1; fill:none\" points=\"\n",
       "  356.774,434.729 357.565,292.029 358.357,448.605 359.148,503.358 359.94,528.149 360.731,488.042 361.523,576.509 362.315,647.729 363.106,486.316 363.898,433.213 \n",
       "  364.689,484.187 365.481,509.556 366.272,431.5 367.064,460.763 367.855,499.056 368.647,576.375 369.438,556.88 370.23,499.193 371.021,549.843 371.813,559.712 \n",
       "  372.604,447.171 373.396,333.885 374.187,416.371 374.979,448.326 375.77,512.327 376.562,452.212 377.354,465.738 378.145,565.124 378.937,407.793 379.728,552.5 \n",
       "  380.52,545.93 381.311,477.602 382.103,477.602 382.894,435.276 383.686,484.364 384.477,476.543 385.269,406.81 386.06,476.122 386.852,604.572 387.643,411.451 \n",
       "  388.435,550.293 389.226,477.361 390.018,537.933 390.81,529.765 391.601,412.955 392.393,363.24 393.184,375.216 393.976,359.637 394.767,439.277 395.559,432.43 \n",
       "  396.35,426.122 397.142,535.811 397.933,393.735 398.725,393.735 399.516,399.886 400.308,461.602 401.099,485.624 401.891,400.01 402.682,451.133 403.474,389.576 \n",
       "  404.265,376.717 405.057,376.081 405.849,534.429 406.64,529.093 407.432,404.072 408.223,413.034 409.015,589.729 409.806,581.97 410.598,652.711 411.389,437.753 \n",
       "  412.181,449.388 412.972,434.579 413.764,384.102 414.555,518.929 415.347,538.144 416.138,535.73 416.93,573.795 417.721,573.795 418.513,560.416 419.305,562.537 \n",
       "  420.096,569.516 420.888,453.325 421.679,472.326 422.471,515.484 423.262,536.006 424.054,548.738 424.845,569.763 425.637,399.744 426.428,420.293 427.22,433.323 \n",
       "  428.011,437.194 428.803,429.453 429.594,460.203 430.386,466.015 431.177,551.661 431.969,519.256 432.76,392.109 433.552,456.869 434.344,466.116 435.135,488.76 \n",
       "  435.927,421.09 436.718,397.151 437.51,540.673 438.301,519.413 439.093,499.882 439.884,468.594 440.676,469.889 441.467,368.066 442.259,367.621 443.05,499.059 \n",
       "  443.842,447.005 444.633,710.26 445.425,471.068 446.216,547.132 447.008,538.197 447.8,442.75 448.591,373.95 449.383,520.452 450.174,407.432 450.966,390.99 \n",
       "  451.757,297.786 452.549,435.818 453.34,392.116 454.132,312.182 454.923,337.747 455.715,337.747 456.506,371.988 457.298,411.798 458.089,465.839 458.881,454.662 \n",
       "  459.672,459.507 460.464,400.505 461.255,485.281 462.047,480.794 462.839,509.573 463.63,471.226 464.422,449.137 465.213,452.045 466.005,463.617 466.796,551.774 \n",
       "  467.588,601.166 468.379,579.229 469.171,408.476 469.962,449.782 470.754,438.976 471.545,512.667 472.337,524.291 473.128,527.017 473.92,472.898 474.711,480.09 \n",
       "  475.503,414.034 476.295,447.386 477.086,446.784 477.878,514.205 478.669,400.726 479.461,394.883 480.252,577.415 481.044,582.149 481.835,533.304 482.627,405.75 \n",
       "  483.418,348.757 484.21,404.782 485.001,378.247 485.793,421.869 486.584,411.922 487.376,422.257 488.167,279.69 488.959,266.826 489.75,554.271 490.542,691.532 \n",
       "  491.334,704.008 492.125,712.526 492.917,657.545 493.708,684.553 494.5,712.825 495.291,739.72 496.083,761.528 496.874,777.847 497.666,685.438 498.457,690.736 \n",
       "  499.249,694.708 500.04,695.015 500.832,620.374 501.623,511.445 502.415,411.952 503.206,421.746 503.998,502.165 504.79,400.77 505.581,374.495 506.373,375.685 \n",
       "  507.164,505.328 507.956,445.324 508.747,542.624 509.539,402.579 510.33,429.816 511.122,496.921 511.913,517.85 512.705,342.87 513.496,329.185 514.288,325.944 \n",
       "  515.079,571.008 515.871,620.019 516.662,637.4 517.454,654.365 518.245,559.742 519.037,530.725 519.829,535.107 520.62,437.549 521.412,370.656 522.203,370.656 \n",
       "  522.995,419.031 523.786,361.564 524.578,358.53 525.369,441.759 526.161,407.342 526.952,501.814 527.744,510.631 528.535,453.291 529.327,446.72 530.118,440.425 \n",
       "  530.91,440.55 531.701,425.501 532.493,421.947 533.285,402.834 534.076,360.233 534.868,349.431 535.659,409.799 536.451,434.197 537.242,434.197 538.034,473.161 \n",
       "  538.825,486.624 539.617,411.274 540.408,512.57 541.2,577.533 541.991,507.381 542.783,530.996 543.574,530.996 544.366,583.311 545.157,531.855 545.949,424.876 \n",
       "  546.74,451.789 547.532,303.37 548.324,283.374 549.115,293.212 549.907,296.735 550.698,353.212 551.49,502.893 552.281,412.491 553.073,347.411 553.864,649.115 \n",
       "  554.656,631.824 555.447,638.057 556.239,687.269 557.03,687.269 557.822,648.136 558.613,631.158 559.405,540.454 560.196,516.817 560.988,452.337 561.78,437.33 \n",
       "  562.571,449.87 563.363,432.948 564.154,514.508 564.946,518.655 565.737,501.741 566.529,358.419 567.32,460.024 568.112,461.992 568.903,510.857 569.695,354.002 \n",
       "  570.486,374.87 571.278,462.913 572.069,446.53 572.861,446.53 573.652,446.53 574.444,436.104 575.235,509.138 576.027,428.813 576.819,533.079 577.61,568.86 \n",
       "  578.402,590.231 579.193,587.388 579.985,554.428 580.776,563.307 581.568,531.6 582.359,515.773 583.151,561.2 583.942,568.31 584.734,592.999 585.525,567.952 \n",
       "  586.317,540.16 587.108,391.091 587.9,492.361 588.691,550.314 589.483,374.108 590.275,374.108 591.066,415.216 591.858,417.475 592.649,320.523 593.441,372.921 \n",
       "  594.232,367.314 595.024,642.267 595.815,637.328 596.607,621.356 597.398,718.19 598.19,209.272 598.981,323.984 599.773,410.231 600.564,376.811 601.356,437.767 \n",
       "  602.147,341.816 602.939,305.743 603.73,425.455 604.522,434.241 605.314,430.289 606.105,459.744 606.897,569.079 607.688,483.165 608.48,483.165 609.271,415.518 \n",
       "  610.063,412.975 610.854,430.896 611.646,367.593 612.437,368.851 613.229,563.283 614.02,540.466 614.812,561.466 615.603,457.149 616.395,500.955 617.186,429.577 \n",
       "  617.978,468.935 618.77,483.164 619.561,414.517 620.353,430.752 621.144,505.383 621.936,435.43 622.727,425.726 623.519,412.328 624.31,462.672 625.102,451.727 \n",
       "  625.893,569.393 626.685,482.012 627.476,380.091 628.268,377.606 629.059,366.824 629.851,320.753 630.642,324.569 631.434,431.276 632.225,459.754 633.017,466.568 \n",
       "  633.809,494.592 634.6,650.842 635.392,628.995 636.183,421.558 636.975,461.58 637.766,521.745 638.558,568.377 639.349,540.883 640.141,533.022 640.932,505.972 \n",
       "  641.724,506.675 642.515,533.09 643.307,440.432 644.098,475.192 644.89,403.269 645.681,565.923 646.473,598.64 647.265,618.67 648.056,216.956 648.848,308.122 \n",
       "  649.639,378.411 650.431,405.393 651.222,377.378 652.014,440.431 652.805,534.902 653.597,515.024 654.388,522.353 655.18,520.459 655.971,295.186 656.763,307.406 \n",
       "  657.554,477.283 658.346,510.904 659.137,646.749 659.929,519.066 660.72,467.44 661.512,427.504 662.304,425.853 663.095,563.435 663.887,506.757 664.678,507.149 \n",
       "  665.47,382.351 666.261,449.44 667.053,470.806 667.844,489.623 668.636,528.087 669.427,490.454 670.219,427.014 671.01,469.788 671.802,455.909 672.593,458.507 \n",
       "  673.385,491.987 674.176,427.909 674.968,564.296 675.76,548.168 676.551,507.629 677.343,478.371 678.134,394.333 678.926,477.28 679.717,484.026 680.509,305.288 \n",
       "  681.3,374.371 682.092,398.578 682.883,416.076 683.675,360.977 684.466,376.935 685.258,381.038 686.049,461.111 686.841,446.767 687.632,438.649 688.424,462.751 \n",
       "  689.215,444.007 690.007,429.635 690.799,444.656 691.59,492.29 692.382,499.121 693.173,568.041 693.965,609.309 694.756,453.402 695.548,428.724 696.339,427.707 \n",
       "  697.131,390.929 697.922,463.637 698.714,463.637 699.505,267.358 700.297,226.633 701.088,393.748 701.88,369.843 702.671,398.612 703.463,395.621 704.255,415.301 \n",
       "  705.046,414.328 705.838,479.164 706.629,563.244 707.421,506.806 708.212,425.658 709.004,414.219 709.795,447.122 710.587,441.568 711.378,321.501 712.17,320.597 \n",
       "  712.961,381.439 713.753,383.579 714.544,358.013 715.336,538.55 716.127,488.583 716.919,504.089 717.71,483.24 718.502,373.966 719.294,368.225 720.085,375.765 \n",
       "  720.877,357.484 721.668,342.142 722.46,489.365 723.251,532.609 724.043,510.32 724.834,539.993 725.626,522.92 726.417,486.442 727.209,490.891 728,553.894 \n",
       "  728.792,579.476 729.583,462.92 730.375,476.342 731.166,429.601 731.958,376.223 732.75,398.668 733.541,421.569 734.333,406.096 735.124,479.956 735.916,515.425 \n",
       "  736.707,484.389 737.499,520.095 738.29,487.52 739.082,571.503 739.873,442.255 740.665,368.18 741.456,518.545 742.248,421.525 743.039,563.579 743.831,565.282 \n",
       "  744.622,454.414 745.414,462.022 746.205,457.987 746.997,444.293 747.789,325.089 748.58,493.601 749.372,583.831 750.163,462.012 750.955,471.286 751.746,516.446 \n",
       "  752.538,505.408 753.329,392.251 754.121,362.826 754.912,438.277 755.704,496.112 756.495,520.201 757.287,404.705 758.078,381.366 758.87,523.713 759.661,493.908 \n",
       "  760.453,405.671 761.245,351.198 762.036,351.547 762.828,307.302 763.619,304.275 764.411,356.013 765.202,480.129 765.994,488.475 766.785,500.472 767.577,443.617 \n",
       "  768.368,432.484 769.16,431.63 769.951,448.811 770.743,467.075 771.534,429.903 772.326,406.524 773.117,471.46 773.909,526.27 774.7,532.785 775.492,486.462 \n",
       "  776.284,513.23 777.075,487.736 777.867,472.568 778.658,462.092 779.45,461.714 780.241,388.846 781.033,399.963 781.824,376.35 782.616,468.882 783.407,478.067 \n",
       "  784.199,533.224 784.99,359.123 785.782,475.775 786.573,336.721 787.365,417.856 788.156,410.499 788.948,417.291 789.74,549.697 790.531,493.521 791.323,508.012 \n",
       "  792.114,458.132 792.906,398.162 793.697,374.894 794.489,457.198 795.28,467.67 796.072,456.115 796.863,588.52 797.655,540.375 798.446,451.229 799.238,303.143 \n",
       "  800.029,303.143 800.821,319.244 801.612,523.206 802.404,479.102 803.195,465.207 803.987,483.942 804.779,403.06 805.57,473.289 806.362,440.514 807.153,450.576 \n",
       "  807.945,418.634 808.736,416.222 809.528,405.416 810.319,296.354 811.111,349.152 811.902,330.666 812.694,409.652 813.485,454.538 814.277,522.142 815.068,465.337 \n",
       "  815.86,466.109 816.651,411.987 817.443,395.25 818.235,350.43 819.026,503.239 819.818,474.413 820.609,581.286 821.401,609.68 822.192,516.844 822.984,462.709 \n",
       "  823.775,448.995 824.567,460.356 825.358,427.065 826.15,379 826.941,362.841 827.733,370.804 828.524,554.72 829.316,547.575 830.107,297.836 830.899,492.993 \n",
       "  831.69,445.032 832.482,409.896 833.274,469.755 834.065,466.994 834.857,589.1 835.648,545.257 836.44,413.416 837.231,453.552 838.023,440.971 838.814,459.171 \n",
       "  839.606,428.212 840.397,396.754 841.189,351.865 841.98,446.374 842.772,478.427 843.563,498.102 844.355,504.713 845.146,499.28 845.938,314.105 846.73,352.515 \n",
       "  847.521,501.739 848.313,495.879 849.104,410.889 849.896,448.496 850.687,448.564 851.479,562.073 852.27,450.622 853.062,440.997 853.853,381.723 854.645,549.01 \n",
       "  855.436,495.099 856.228,586.525 857.019,662.45 857.811,670.184 858.602,574.957 859.394,614.799 860.185,598.94 860.977,412.233 861.769,415.546 862.56,420.081 \n",
       "  863.352,519.964 864.143,455.035 864.935,406.975 865.726,394.294 866.518,489.928 867.309,425.524 868.101,514.309 868.892,444.057 869.684,553.98 870.475,427.656 \n",
       "  871.267,428.851 872.058,414.977 872.85,412.314 873.641,400.598 874.433,402.672 875.225,464.328 876.016,468.176 876.808,520.676 877.599,457.667 878.391,437.076 \n",
       "  879.182,438.745 879.974,537.409 880.765,643.518 881.557,558.374 882.348,587.919 883.14,444.001 883.931,424.888 884.723,483.864 885.514,375.318 886.306,598.604 \n",
       "  887.097,580.111 887.889,350.542 888.68,345.08 889.472,505.487 890.264,521.041 891.055,512.695 891.847,375.309 892.638,488.305 893.43,575.838 894.221,623.068 \n",
       "  895.013,546.975 895.804,486.287 896.596,534.05 897.387,505.933 898.179,487.367 898.97,489.682 899.762,503.276 900.553,441.355 901.345,528.9 902.136,491.561 \n",
       "  902.928,416.095 903.72,416.095 904.511,323.317 905.303,310.737 906.094,342.365 906.886,515.63 907.677,349.225 908.469,279.066 909.26,378.005 910.052,341.688 \n",
       "  910.843,306.617 911.635,334.654 912.426,415.191 913.218,457.476 914.009,476.017 914.801,482.121 915.592,580.399 916.384,620.682 917.175,433.457 917.967,470.571 \n",
       "  918.759,496.567 919.55,545.968 920.342,524.543 921.133,513.888 921.925,535.5 922.716,542.955 923.508,613.63 924.299,491.994 925.091,339.16 925.882,301.725 \n",
       "  926.674,436.752 927.465,452.369 928.257,463.485 929.048,428.141 929.84,474.84 930.631,434.866 931.423,415.148 932.215,397.279 933.006,462.896 933.798,424.413 \n",
       "  934.589,446.29 935.381,511.117 936.172,483.374 936.964,390.646 937.755,545.939 938.547,524.328 939.338,525.062 940.13,519.337 940.921,563.724 941.713,466.14 \n",
       "  942.504,466.14 943.296,466.14 944.087,355.653 944.879,360.312 945.67,356.924 946.462,338.505 947.254,327.762 948.045,590.221 948.837,584.582 949.628,561.777 \n",
       "  950.42,576.544 951.211,526.96 952.003,536.349 952.794,518.772 953.586,290.189 954.377,261.269 955.169,313.24 955.96,391.163 956.752,383.43 957.543,444.476 \n",
       "  958.335,498.056 959.126,432.971 959.918,462.759 960.71,453.051 961.501,466.598 962.293,451.274 963.084,429.974 963.876,496.379 964.667,415.292 965.459,489.704 \n",
       "  966.25,491.324 967.042,439.469 967.833,470.914 968.625,486.162 969.416,387.715 970.208,391.002 970.999,391.087 971.791,407.043 972.582,511.42 973.374,506.252 \n",
       "  974.165,513.79 974.957,616.142 975.749,471.685 976.54,318.373 977.332,450.868 978.123,351.483 978.915,367.641 979.706,385.167 980.498,325.112 981.289,368.846 \n",
       "  982.081,368.846 982.872,414.389 983.664,385.053 984.455,285.229 985.247,596.901 986.038,389.137 986.83,481.129 987.621,468.648 988.413,524.27 989.204,496.43 \n",
       "  989.996,592.634 990.788,452.977 991.579,451.796 992.371,478.88 993.162,398.981 993.954,350.654 994.745,505.868 995.537,412.216 996.328,477.014 997.12,461.501 \n",
       "  997.911,477.236 998.703,456.725 999.494,456.725 1000.29,495.408 1001.08,447.982 1001.87,401.77 1002.66,398.454 1003.45,348.213 1004.24,378.947 1005.04,379.138 \n",
       "  1005.83,616.785 1006.62,311.184 1007.41,602.445 1008.2,504.321 1008.99,498.564 1009.78,410.639 1010.58,410.639 1011.37,372.48 1012.16,374.307 1012.95,344.764 \n",
       "  1013.74,360.524 1014.53,459.953 1015.32,469.519 1016.12,539.382 1016.91,485.771 1017.7,482.247 1018.49,491.727 1019.28,505.116 1020.07,478.483 1020.87,633.741 \n",
       "  1021.66,330.036 1022.45,277.539 1023.24,367.491 1024.03,381.105 1024.82,376.904 1025.61,429.888 1026.41,405.14 1027.2,493.993 1027.99,417.343 1028.78,384.131 \n",
       "  1029.57,357.794 1030.36,332.016 1031.16,368.847 1031.95,431.196 1032.74,456.701 1033.53,388.777 1034.32,516.393 1035.11,482.435 1035.9,438.969 1036.7,448.842 \n",
       "  1037.49,320.286 1038.28,318.331 1039.07,567.071 1039.86,549.127 1040.65,594.182 1041.45,604.124 1042.24,553.191 1043.03,518.029 1043.82,415.181 1044.61,445.551 \n",
       "  1045.4,439.967 1046.19,646.489 1046.99,525.718 1047.78,608.122 1048.57,559.977 1049.36,559.977 1050.15,457.356 1050.94,470.615 1051.74,443.984 1052.53,384.997 \n",
       "  1053.32,395.425 1054.11,348.678 1054.9,372.24 1055.69,460.918 1056.48,457.141 1057.28,458.648 1058.07,471.076 1058.86,527.561 1059.65,506.201 1060.44,404.843 \n",
       "  1061.23,494.982 1062.03,452.304 1062.82,483.045 1063.61,504.115 1064.4,508.024 1065.19,419.267 1065.98,435.848 1066.77,499.281 1067.57,580.311 1068.36,567.97 \n",
       "  1069.15,587.752 1069.94,589.158 1070.73,571.011 1071.52,577.089 1072.31,582.795 1073.11,507.331 1073.9,412.126 1074.69,545.35 1075.48,548.437 1076.27,576.032 \n",
       "  1077.06,590.277 1077.86,441.869 1078.65,441.499 1079.44,479 1080.23,417.648 1081.02,438.824 1081.81,424.207 1082.6,506.032 1083.4,473.999 1084.19,359.269 \n",
       "  1084.98,454.475 1085.77,397.511 1086.56,481.066 1087.35,469.042 1088.15,469.862 1088.94,542.529 1089.73,411.199 1090.52,566.566 1091.31,390.959 1092.1,493.409 \n",
       "  1092.89,428.708 1093.69,442.511 1094.48,395.338 1095.27,385.921 1096.06,414.341 1096.85,539.347 1097.64,619.631 1098.44,390.796 1099.23,350.412 1100.02,454.143 \n",
       "  1100.81,448.503 1101.6,453.262 1102.39,455.51 1103.18,470.931 1103.98,415.603 1104.77,389.278 1105.56,393.829 1106.35,428.229 1107.14,520.881 1107.93,442.183 \n",
       "  1108.73,531.889 1109.52,450.834 1110.31,466.234 1111.1,352.918 1111.89,360.88 1112.68,551.882 1113.47,510.513 1114.27,485.553 1115.06,528.368 1115.85,516.632 \n",
       "  1116.64,477.69 1117.43,476.58 1118.22,564.759 1119.02,365.6 1119.81,442.291 1120.6,498.953 1121.39,367.056 1122.18,524.719 1122.97,545.895 1123.76,552.282 \n",
       "  1124.56,600.133 1125.35,446.813 1126.14,397.984 1126.93,427.526 1127.72,373.613 1128.51,472.323 1129.3,482.924 1130.1,654.411 1130.89,340.215 1131.68,328.87 \n",
       "  1132.47,275.905 1133.26,521.441 1134.05,509.41 1134.85,528.761 1135.64,467.913 1136.43,476.709 1137.22,480.987 1138.01,411.157 1138.8,411.157 1139.59,320.181 \n",
       "  1140.39,351.563 1141.18,415.504 1141.97,477.181 1142.76,518.608 1143.55,656.645 1144.34,614.419 1145.14,347.661 1145.93,551.236 1146.72,500.391 1147.51,410.135 \n",
       "  1148.3,410.038 1149.09,524.01 1149.88,377.369 1150.68,588.006 1151.47,344.631 1152.26,367.123 1153.05,425.942 1153.84,371.125 1154.63,392.563 1155.43,328.957 \n",
       "  1156.22,604.108 1157.01,461.879 1157.8,502.996 1158.59,571.361 1159.38,571.248 1160.17,488.132 1160.97,384.528 1161.76,468.16 1162.55,527.444 1163.34,477.46 \n",
       "  1164.13,401.944 1164.92,418.096 1165.72,464.555 1166.51,402.192 1167.3,366.609 1168.09,417.586 1168.88,497.293 1169.67,348.951 1170.46,344.69 1171.26,497.205 \n",
       "  1172.05,485.345 1172.84,405.094 1173.63,477.897 1174.42,386.01 1175.21,373.141 1176.01,381.253 1176.8,429.498 1177.59,440.867 1178.38,476.508 1179.17,482.652 \n",
       "  1179.96,492.059 1180.75,525.678 1181.55,470.091 1182.34,304.513 1183.13,313.661 1183.92,381.483 1184.71,380.067 1185.5,332.145 1186.29,319.448 1187.09,433.53 \n",
       "  1187.88,534.774 1188.67,534.853 1189.46,539.098 1190.25,513.85 1191.04,516.428 1191.84,410.822 1192.63,421.966 1193.42,454.568 1194.21,416.38 1195,352.634 \n",
       "  1195.79,315.542 1196.58,321.74 1197.38,266.71 1198.17,442.189 1198.96,443.295 1199.75,410.333 1200.54,421.252 1201.33,437.694 1202.13,429.554 1202.92,550.339 \n",
       "  1203.71,342.922 1204.5,336.132 1205.29,339.816 1206.08,405.316 1206.87,375.037 1207.67,487.947 1208.46,465.442 1209.25,408.149 1210.04,382.463 1210.83,436.344 \n",
       "  1211.62,434.184 1212.42,487.875 1213.21,323.263 1214,355.319 1214.79,416.356 1215.58,423.272 1216.37,416.398 1217.16,392.922 1217.96,397.29 1218.75,500.893 \n",
       "  1219.54,481.35 1220.33,448.27 1221.12,514.934 1221.91,421.071 1222.71,384.922 1223.5,291.341 1224.29,371.102 1225.08,366.769 1225.87,468.47 1226.66,445.405 \n",
       "  1227.45,505.363 1228.25,549.407 1229.04,377.569 1229.83,409.479 1230.62,314.952 1231.41,417.191 1232.2,506.521 1233,491.206 1233.79,459.67 1234.58,335.826 \n",
       "  1235.37,504.255 1236.16,452.696 1236.95,430.084 1237.74,552.39 1238.54,362.901 1239.33,350.726 1240.12,497.401 1240.91,478.39 1241.7,492.261 1242.49,485.494 \n",
       "  1243.28,575.218 1244.08,434.458 1244.87,425.306 1245.66,425.306 1246.45,425.306 1247.24,357.28 1248.03,330.269 1248.83,456.779 1249.62,528.747 1250.41,607.386 \n",
       "  1251.2,479.306 1251.99,457.711 1252.78,497.943 1253.57,411.321 1254.37,496.614 1255.16,464.851 1255.95,547.766 1256.74,517.98 1257.53,429.664 1258.32,396.114 \n",
       "  1259.12,311.999 1259.91,396.11 1260.7,410.364 1261.49,410.078 1262.28,488.232 1263.07,471.556 1263.86,464.711 1264.66,485.586 1265.45,513.736 1266.24,442.564 \n",
       "  1267.03,440.572 1267.82,393.712 1268.61,420.683 1269.41,567.621 1270.2,405.874 1270.99,465.208 1271.78,527.645 1272.57,422.729 1273.36,448.895 1274.15,504.344 \n",
       "  1274.95,427.794 1275.74,460.385 1276.53,404.968 1277.32,404.968 1278.11,410.238 1278.9,307.361 1279.7,358.575 1280.49,322.315 1281.28,531.548 1282.07,495.523 \n",
       "  1282.86,505.963 1283.65,715.265 1284.44,503.918 1285.24,401.734 1286.03,357.283 1286.82,634.616 1287.61,290.827 1288.4,549.728 1289.19,568.952 1289.99,552.044 \n",
       "  1290.78,382.556 1291.57,375.411 1292.36,398.622 1293.15,388.736 1293.94,307.47 1294.73,325.519 1295.53,339.223 1296.32,436.078 1297.11,436.078 1297.9,437.033 \n",
       "  1298.69,613.918 1299.48,329.21 1300.27,383.274 1301.07,424.916 1301.86,418.435 1302.65,528.523 1303.44,460.974 1304.23,385.338 1305.02,423.585 1305.82,401.818 \n",
       "  1306.61,489.067 1307.4,406.264 1308.19,352.452 1308.98,360.309 1309.77,311.244 1310.56,376.35 1311.36,358.632 1312.15,384.079 1312.94,436.6 1313.73,539.764 \n",
       "  1314.52,439.405 1315.31,536.343 1316.11,535.715 1316.9,523.093 1317.69,376.213 1318.48,524.946 1319.27,506.654 1320.06,569.169 1320.85,569.169 1321.65,422.482 \n",
       "  1322.44,533.639 1323.23,523.689 1324.02,476.079 1324.81,476.079 1325.6,430.708 1326.4,460.853 1327.19,538.366 1327.98,577.717 1328.77,577.827 1329.56,452.204 \n",
       "  1330.35,460.652 1331.14,573.705 1331.94,576.601 1332.73,543.169 1333.52,658.586 1334.31,668.031 1335.1,497.194 1335.89,550.479 1336.69,540.274 1337.48,555.23 \n",
       "  1338.27,418.799 1339.06,430.918 1339.85,354.427 1340.64,528.568 1341.43,464.961 1342.23,467.363 1343.02,469.977 1343.81,475.973 1344.6,409.565 1345.39,413.259 \n",
       "  1346.18,325.809 1346.98,332.336 1347.77,321.292 1348.56,327.428 1349.35,345.763 1350.14,537.301 1350.93,363.426 1351.72,479.649 1352.52,487.306 1353.31,501.076 \n",
       "  1354.1,422.102 1354.89,603.015 1355.68,475.512 1356.47,564.942 1357.26,495.009 1358.06,417.804 1358.85,528.458 1359.64,539.235 1360.43,407.377 1361.22,344.977 \n",
       "  1362.01,444.112 1362.81,602.725 1363.6,608.567 1364.39,595.619 1365.18,635.646 1365.97,593.427 1366.76,410.967 1367.55,467.806 1368.35,467.173 1369.14,404.588 \n",
       "  1369.93,469.67 1370.72,476.468 1371.51,425.397 1372.3,375.304 1373.1,369.583 1373.89,420.832 1374.68,465.448 1375.47,419.816 1376.26,432.848 1377.05,479.562 \n",
       "  1377.84,532.109 1378.64,524.576 1379.43,536.681 1380.22,385.461 1381.01,385.461 1381.8,483.619 1382.59,481.607 1383.39,604.486 1384.18,643.059 1384.97,649.142 \n",
       "  1385.76,644.393 1386.55,566.935 1387.34,556.63 1388.13,449.034 1388.93,538.52 1389.72,511.169 1390.51,436.259 1391.3,436.259 1392.09,658.72 1392.88,534.415 \n",
       "  1393.68,316.929 1394.47,466.333 1395.26,409.008 1396.05,337.324 1396.84,324.528 1397.63,452.054 1398.42,509.528 1399.22,504.284 1400.01,396.427 1400.8,444.95 \n",
       "  1401.59,429.542 1402.38,398.831 1403.17,399.877 1403.97,386.744 1404.76,407.453 1405.55,505.885 1406.34,471.154 1407.13,536.324 1407.92,530.174 1408.71,394.379 \n",
       "  1409.51,650.935 1410.3,600.83 1411.09,542.837 1411.88,405.242 1412.67,382.014 1413.46,396.364 1414.25,393.541 1415.05,388.801 1415.84,469.138 1416.63,407.442 \n",
       "  1417.42,361.485 1418.21,564.501 1419,629.039 1419.8,622.675 1420.59,485.502 1421.38,598.993 1422.17,558.295 1422.96,545.607 1423.75,541.382 1424.54,441.37 \n",
       "  1425.34,469.259 1426.13,469.259 1426.92,440.119 1427.71,421.751 1428.5,457.853 1429.29,468.277 1430.09,445.639 1430.88,540.306 1431.67,517.657 1432.46,378.015 \n",
       "  1433.25,418.515 1434.04,378.233 1434.83,337.52 1435.63,318.379 1436.42,357.744 1437.21,395.91 1438,416.212 1438.79,385.782 1439.58,363.68 1440.38,405.42 \n",
       "  1441.17,380.25 1441.96,467.606 1442.75,358.771 1443.54,411.223 1444.33,515.488 1445.12,576.469 1445.92,572.394 1446.71,611.268 1447.5,530.91 1448.29,532.534 \n",
       "  1449.08,367.645 1449.87,533.907 1450.67,506.869 1451.46,488.792 1452.25,450.604 1453.04,410.974 1453.83,372.963 1454.62,528.099 1455.41,428.458 1456.21,393.833 \n",
       "  1457,414.099 1457.79,500.906 1458.58,459.407 1459.37,464.391 1460.16,447.762 1460.96,512.072 1461.75,387.01 1462.54,452.112 1463.33,437.012 1464.12,458.119 \n",
       "  1464.91,410.816 1465.7,395.43 1466.5,294.83 1467.29,248.081 1468.08,310.99 1468.87,387.683 1469.66,483.341 1470.45,376.137 1471.24,374.124 1472.04,430.777 \n",
       "  1472.83,493.667 1473.62,510.102 1474.41,510.373 1475.2,406.874 1475.99,439.519 1476.79,568.669 1477.58,591.311 1478.37,574.837 1479.16,584.701 1479.95,569.106 \n",
       "  1480.74,573.547 1481.53,649.144 1482.33,665.191 1483.12,552.588 1483.91,549.782 1484.7,441.818 1485.49,499.531 1486.28,493.02 1487.08,530.97 1487.87,543.591 \n",
       "  1488.66,657.794 1489.45,585.405 1490.24,335.843 1491.03,343.962 1491.82,453.045 1492.62,536.631 1493.41,547.232 1494.2,417.105 1494.99,494.49 1495.78,549.585 \n",
       "  1496.57,362.422 1497.37,179.59 1498.16,234.972 1498.95,397.884 1499.74,405.573 1500.53,314.78 1501.32,390.099 1502.11,410.069 1502.91,472.819 1503.7,461.065 \n",
       "  1504.49,453.994 1505.28,421.623 1506.07,422.998 1506.86,594.276 1507.66,574.474 1508.45,499.407 1509.24,641.326 1510.03,631.453 1510.82,355.295 1511.61,490.093 \n",
       "  1512.4,402.469 1513.2,434.764 1513.99,455.632 1514.78,448.083 1515.57,356.933 1516.36,437.302 1517.15,448.728 1517.95,365.888 1518.74,562.626 1519.53,441.455 \n",
       "  1520.32,441.455 1521.11,426.479 1521.9,506.341 1522.69,332.571 1523.49,412.586 1524.28,462.384 1525.07,386.72 1525.86,368.879 1526.65,532.137 1527.44,520.634 \n",
       "  1528.23,491.479 1529.03,374.243 1529.82,370.197 1530.61,341.477 1531.4,511.339 1532.19,502.371 1532.98,682.338 1533.78,445.307 1534.57,491.167 1535.36,491.051 \n",
       "  1536.15,476.971 1536.94,505.232 1537.73,502.269 1538.52,557.508 1539.32,535.819 1540.11,400.642 1540.9,427.657 1541.69,511.506 1542.48,509.656 1543.27,420.795 \n",
       "  1544.07,503.166 1544.86,478.292 1545.65,580.871 1546.44,539.41 1547.23,606.494 1548.02,569.534 1548.81,522.903 1549.61,376.021 1550.4,381.659 1551.19,639.032 \n",
       "  1551.98,640.146 1552.77,654.552 1553.56,691.78 1554.36,673.27 1555.15,670.206 1555.94,667.989 1556.73,596.62 1557.52,476.661 1558.31,518.299 1559.1,502.197 \n",
       "  1559.9,591.296 1560.69,603.627 1561.48,440.747 1562.27,451.301 1563.06,472.292 1563.85,499.574 1564.65,498.876 1565.44,399.999 1566.23,490.501 1567.02,481.017 \n",
       "  1567.81,428.383 1568.6,505.616 1569.39,461.603 1570.19,433.983 1570.98,431.224 1571.77,404.297 1572.56,307.504 1573.35,263.574 1574.14,263.574 1574.94,281.789 \n",
       "  1575.73,268.039 1576.52,394.329 1577.31,386.704 1578.1,390.229 1578.89,535.173 1579.68,451.929 1580.48,477.469 1581.27,493.247 1582.06,482.18 1582.85,448.757 \n",
       "  1583.64,473.866 1584.43,421.538 1585.22,429.981 1586.02,351.069 1586.81,382.987 1587.6,378.195 1588.39,389.675 1589.18,389.675 1589.97,450.215 1590.77,549.739 \n",
       "  1591.56,497.633 1592.35,442.939 1593.14,464.923 1593.93,473.271 1594.72,558.741 1595.51,467.575 1596.31,407.672 1597.1,413.559 1597.89,481.526 1598.68,499.474 \n",
       "  1599.47,506.251 1600.26,515.51 1601.06,531.864 1601.85,531.864 1602.64,407.29 1603.43,643.024 1604.22,458.814 1605.01,263.371 1605.8,275.84 1606.6,261.931 \n",
       "  1607.39,456.754 1608.18,535.293 1608.97,528.269 1609.76,483.409 1610.55,454.612 1611.35,271.442 1612.14,406.006 1612.93,398.947 1613.72,401.657 1614.51,378.851 \n",
       "  1615.3,539.274 1616.09,509.537 1616.89,422.773 1617.68,467.516 1618.47,394.25 1619.26,410.957 1620.05,519.27 1620.84,634.677 1621.64,590.984 1622.43,428.1 \n",
       "  1623.22,493.152 1624.01,555.223 1624.8,357.877 1625.59,469.957 1626.38,495.825 1627.18,409.412 1627.97,519.929 1628.76,498.49 1629.55,515.166 1630.34,504.686 \n",
       "  1631.13,480.605 1631.93,475.183 1632.72,543.022 1633.51,509.014 1634.3,470.158 1635.09,366.957 1635.88,397.844 1636.67,415.9 1637.47,395.049 1638.26,427.273 \n",
       "  1639.05,491.288 1639.84,475.097 1640.63,489.846 1641.42,502.649 1642.21,561.785 1643.01,599.858 1643.8,613.576 1644.59,625.999 1645.38,558.376 1646.17,565.379 \n",
       "  1646.96,575.106 1647.76,538.401 1648.55,430.61 1649.34,458.981 1650.13,520.686 1650.92,520.34 1651.71,449.164 1652.5,466.917 1653.3,390.664 1654.09,546.523 \n",
       "  1654.88,483.243 1655.67,465.653 1656.46,449.737 1657.25,500.577 1658.05,343.205 1658.84,581.243 1659.63,492.105 1660.42,523.005 1661.21,535.635 1662,528.279 \n",
       "  1662.79,420.439 1663.59,385.2 1664.38,360.416 1665.17,367.275 1665.96,395.606 1666.75,431.547 1667.54,522.299 1668.34,544.925 1669.13,567.266 1669.92,429.144 \n",
       "  1670.71,498.7 1671.5,478.791 1672.29,478.361 1673.08,409.956 1673.88,452.23 1674.67,483.3 1675.46,486.377 1676.25,545.265 1677.04,541.173 1677.83,478.623 \n",
       "  1678.63,323.79 1679.42,375.705 1680.21,393.433 1681,377.78 1681.79,384.046 1682.58,393.572 1683.37,362.263 1684.17,370.295 1684.96,381.447 1685.75,413.617 \n",
       "  1686.54,364.973 1687.33,400.253 1688.12,394.297 1688.92,357.733 1689.71,324.356 1690.5,373.311 1691.29,378.404 1692.08,560.751 1692.87,579.388 1693.66,461.926 \n",
       "  1694.46,367.023 1695.25,367.023 1696.04,437.009 1696.83,410.463 1697.62,385.996 1698.41,461.021 1699.2,509.547 1700,430.623 1700.79,436.771 1701.58,503.532 \n",
       "  1702.37,490.404 1703.16,555.003 1703.95,454.01 1704.75,434.604 1705.54,536.439 1706.33,568.207 1707.12,577.856 1707.91,527.821 1708.7,492.575 1709.49,489.833 \n",
       "  1710.29,436.686 1711.08,526.565 1711.87,461.686 1712.66,374.667 1713.45,381.461 1714.24,422.439 1715.04,441.417 1715.83,468.951 1716.62,463.12 1717.41,390.227 \n",
       "  1718.2,413.07 1718.99,464.942 1719.78,444.896 1720.58,576.909 1721.37,535.33 1722.16,562.105 1722.95,587.391 1723.74,567.19 1724.53,610.139 1725.33,701.937 \n",
       "  1726.12,594.54 1726.91,418.371 1727.7,621.918 1728.49,623.124 1729.28,443.263 1730.07,611.817 1730.87,524.558 1731.66,473.453 1732.45,480.788 1733.24,426.189 \n",
       "  1734.03,600.775 1734.82,494.059 1735.62,514.937 1736.41,536.386 1737.2,552.655 1737.99,485.023 1738.78,620.11 1739.57,593.133 1740.36,644.089 1741.16,498.636 \n",
       "  1741.95,465.712 1742.74,498.076 1743.53,467.906 1744.32,547.533 1745.11,547.533 1745.91,449.034 1746.7,516.375 1747.49,354.595 1748.28,439.337 1749.07,453.09 \n",
       "  1749.86,534.539 1750.65,511.345 1751.45,522.152 1752.24,450.736 1753.03,467.861 1753.82,375.112 1754.61,354.617 1755.4,492.294 1756.19,497.238 1756.99,497.238 \n",
       "  1757.78,556.608 1758.57,609.734 1759.36,505.922 1760.15,458.821 1760.94,442.866 1761.74,481.255 1762.53,405.338 1763.32,416.603 1764.11,247.239 1764.9,505.196 \n",
       "  1765.69,427.641 1766.48,520.948 1767.28,520.948 1768.07,576.991 1768.86,563.754 1769.65,565.824 1770.44,470.035 1771.23,488.246 1772.03,549.282 1772.82,561.438 \n",
       "  1773.61,513.556 1774.4,409.795 1775.19,426.743 1775.98,481.09 1776.77,521.065 1777.57,494.554 1778.36,540.371 1779.15,529.106 1779.94,527.936 1780.73,504.199 \n",
       "  1781.52,499.652 1782.32,501.194 1783.11,446.576 1783.9,483.444 1784.69,484.071 1785.48,520.692 1786.27,510.205 1787.06,459.694 1787.86,476.156 1788.65,452.641 \n",
       "  1789.44,481.43 1790.23,524.711 1791.02,530.644 1791.81,437.201 1792.61,434.6 1793.4,432.895 1794.19,399.627 1794.98,399.425 1795.77,510.334 1796.56,382.686 \n",
       "  1797.35,386.692 1798.15,480.165 1798.94,440.228 1799.73,435.593 1800.52,460.775 1801.31,451.503 1802.1,442.53 1802.9,417.194 1803.69,524.309 1804.48,528.228 \n",
       "  1805.27,442.583 1806.06,440.192 1806.85,419.046 1807.64,419.085 1808.44,343.143 1809.23,321.019 1810.02,402.529 1810.81,396.309 1811.6,395.041 1812.39,429.905 \n",
       "  1813.18,426.312 1813.98,404.789 1814.77,395.542 1815.56,377.751 1816.35,412.703 1817.14,524.256 1817.93,528.665 1818.73,535.813 1819.52,534.191 1820.31,555.386 \n",
       "  1821.1,540.305 1821.89,466.188 1822.68,408.156 1823.47,532.731 1824.27,394.764 1825.06,461.511 1825.85,480.967 1826.64,543.839 1827.43,494.287 1828.22,566.987 \n",
       "  1829.02,513.536 1829.81,540.962 1830.6,476.431 1831.39,596.62 1832.18,541.508 1832.97,534.548 1833.76,479.109 1834.56,493.882 1835.35,513.043 1836.14,503.675 \n",
       "  1836.93,507.95 1837.72,499.337 1838.51,503.914 1839.31,492.352 1840.1,527.908 1840.89,534.585 1841.68,473.445 1842.47,498.867 1843.26,421.967 1844.05,517.301 \n",
       "  1844.85,462.701 1845.64,553.284 1846.43,565.624 1847.22,527.213 1848.01,462.348 1848.8,442.966 1849.6,549.963 1850.39,626.891 1851.18,579.027 1851.97,489.688 \n",
       "  1852.76,384.732 1853.55,395.793 1854.34,411.547 1855.14,376.316 1855.93,557.052 1856.72,421.891 1857.51,547.373 1858.3,555.305 1859.09,563.202 1859.89,543.156 \n",
       "  1860.68,514.446 1861.47,380.792 1862.26,402.023 1863.05,423.442 1863.84,387.719 1864.63,449.92 1865.43,353.451 1866.22,343.608 1867.01,330.421 1867.8,448.509 \n",
       "  1868.59,631.49 1869.38,627.058 1870.17,629.392 1870.97,607.201 1871.76,622.037 1872.55,568.367 1873.34,624.713 1874.13,470.049 1874.92,523.979 1875.72,458.268 \n",
       "  1876.51,494.667 1877.3,524.476 1878.09,519.731 1878.88,520.106 1879.67,488.295 1880.46,478.831 1881.26,516.615 1882.05,464.295 1882.84,560.477 1883.63,537.103 \n",
       "  1884.42,579.166 1885.21,479.073 1886.01,447.154 1886.8,497.043 1887.59,325.755 1888.38,296.07 1889.17,246.981 1889.96,520.807 1890.75,518.166 1891.55,460.728 \n",
       "  1892.34,462.431 1893.13,373.506 1893.92,352.61 1894.71,342.667 1895.5,334.293 1896.3,422.178 1897.09,475.327 1897.88,464.549 1898.67,412.882 1899.46,329.577 \n",
       "  1900.25,362.873 1901.04,452.368 1901.84,438.914 1902.63,391.305 1903.42,384.648 1904.21,452.721 1905,364.533 1905.79,400.056 1906.59,564.367 1907.38,585.054 \n",
       "  1908.17,450.111 1908.96,418.958 1909.75,374.642 1910.54,493.603 1911.33,505.561 1912.13,378.207 1912.92,378.741 1913.71,360.855 1914.5,324.25 1915.29,330.937 \n",
       "  1916.08,648.262 1916.88,615.542 1917.67,533.128 1918.46,388.608 1919.25,530.939 1920.04,411.356 1920.83,483.625 1921.62,423.992 1922.42,473.464 1923.21,428.896 \n",
       "  1924,460.242 1924.79,433.188 1925.58,447.65 1926.37,436.195 1927.16,393.359 1927.96,423.267 1928.75,423.267 1929.54,544.673 1930.33,472.24 1931.12,727.744 \n",
       "  1931.91,578.573 1932.71,334.649 1933.5,332.327 1934.29,328.614 1935.08,447.7 1935.87,408.303 1936.66,444.629 1937.45,504.995 1938.25,547.125 1939.04,555.07 \n",
       "  \n",
       "  \"/>\n",
       "<polyline clip-path=\"url(#clip042)\" style=\"stroke:#3da44d; stroke-linecap:butt; stroke-linejoin:round; stroke-width:4; stroke-opacity:1; fill:none\" points=\"\n",
       "  356.774,421.754 357.565,535.219 358.357,573.822 359.148,475.627 359.94,514.351 360.731,454.064 361.523,471.899 362.315,471.822 363.106,301.099 363.898,347.262 \n",
       "  364.689,345.383 365.481,601.367 366.272,525.443 367.064,527.448 367.855,450.199 368.647,439.08 369.438,469.221 370.23,578.795 371.021,350.67 371.813,635.507 \n",
       "  372.604,639.383 373.396,513.732 374.187,491.701 374.979,450.23 375.77,438.474 376.562,397.604 377.354,374.448 378.145,550.339 378.937,580.737 379.728,589.727 \n",
       "  380.52,616.137 381.311,389.89 382.103,552.617 382.894,623.676 383.686,535.086 384.477,422.904 385.269,547.759 386.06,539.818 386.852,415.133 387.643,473.009 \n",
       "  388.435,537.424 389.226,471.124 390.018,454.224 390.81,451.897 391.601,441.218 392.393,379.087 393.184,437.35 393.976,458.628 394.767,442.418 395.559,523.487 \n",
       "  396.35,471.827 397.142,441.43 397.933,444.067 398.725,451.817 399.516,370.007 400.308,464.374 401.099,383.223 401.891,511.346 402.682,550.374 403.474,511.968 \n",
       "  404.265,511.968 405.057,562.857 405.849,598.642 406.64,602.428 407.432,592.524 408.223,574.977 409.015,454.092 409.806,636.625 410.598,649.695 411.389,652.877 \n",
       "  412.181,663.39 412.972,575.544 413.764,615.411 414.555,534.75 415.347,519.903 416.138,610.548 416.93,605.189 417.721,594.516 418.513,556.125 419.305,556.125 \n",
       "  420.096,316.47 420.888,322.334 421.679,493.299 422.471,515.714 423.262,480.61 424.054,447.662 424.845,554.688 425.637,356.285 426.428,543.973 427.22,472.111 \n",
       "  428.011,478.883 428.803,474.329 429.594,555.692 430.386,565.138 431.177,454.956 431.969,420.586 432.76,546.75 433.552,564.146 434.344,554.128 435.135,418.554 \n",
       "  435.927,492.272 436.718,462.111 437.51,464.274 438.301,516.626 439.093,547.376 439.884,531.726 440.676,552.985 441.467,575.892 442.259,535.033 443.05,409.93 \n",
       "  443.842,465.135 444.633,404.278 445.425,436.275 446.216,441.781 447.008,434.913 447.8,407.445 448.591,419.04 449.383,458.368 450.174,455.521 450.966,384.86 \n",
       "  451.757,530.388 452.549,481.935 453.34,490.613 454.132,422.296 454.923,433.705 455.715,439.252 456.506,360.343 457.298,422.878 458.089,408.304 458.881,404.503 \n",
       "  459.672,418.582 460.464,483.9 461.255,558.166 462.047,552.339 462.839,514.448 463.63,518.055 464.422,562.799 465.213,562.192 466.005,561.278 466.796,523.575 \n",
       "  467.588,550.333 468.379,433.934 469.171,600.976 469.962,611.015 470.754,442.734 471.545,497.45 472.337,503.139 473.128,501.004 473.92,575.539 474.711,426.488 \n",
       "  475.503,538.846 476.295,533.506 477.086,769.53 477.878,731.422 478.669,440.357 479.461,497.747 480.252,490.649 481.044,463.294 481.835,466.802 482.627,469.24 \n",
       "  483.418,675.147 484.21,361.232 485.001,391.431 485.793,402.79 486.584,458.477 487.376,525.413 488.167,327.407 488.959,320.481 489.75,337.978 490.542,327.14 \n",
       "  491.334,643.003 492.125,424.573 492.917,390.396 493.708,608.626 494.5,515.42 495.291,468.893 496.083,417.449 496.874,407.838 497.666,500.752 498.457,488.411 \n",
       "  499.249,493.603 500.04,454.681 500.832,443.744 501.623,500.628 502.415,437.425 503.206,445.165 503.998,401.816 504.79,328.968 505.581,422.627 506.373,497.133 \n",
       "  507.164,497.859 507.956,526.359 508.747,464.014 509.539,449.15 510.33,440.62 511.122,402.578 511.913,352.297 512.705,426.592 513.496,451.326 514.288,511.794 \n",
       "  515.079,502.841 515.871,618.436 516.662,251.289 517.454,295.55 518.245,303.231 519.037,441.559 519.829,450.926 520.62,318.929 521.412,321.296 522.203,513.411 \n",
       "  522.995,484.057 523.786,434.226 524.578,438.418 525.369,434.828 526.161,427.254 526.952,440.114 527.744,446.231 528.535,522.588 529.327,392.657 530.118,360.735 \n",
       "  530.91,409.035 531.701,495.568 532.493,503.737 533.285,416.642 534.076,415.816 534.868,426.04 535.659,368.145 536.451,444.982 537.242,441.925 538.034,328.45 \n",
       "  538.825,486.086 539.617,361.191 540.408,518.025 541.2,318.018 541.991,541.123 542.783,602.818 543.574,571.68 544.366,480.173 545.157,509.035 545.949,480.692 \n",
       "  546.74,407.689 547.532,407.482 548.324,454.26 549.115,476.581 549.907,589.141 550.698,459.999 551.49,495.526 552.281,488.192 553.073,474.504 553.864,544.665 \n",
       "  554.656,536.401 555.447,518.396 556.239,493.389 557.03,426.623 557.822,432.801 558.613,421.005 559.405,437.075 560.196,519.024 560.988,482.684 561.78,452.628 \n",
       "  562.571,395.946 563.363,497.701 564.154,384.631 564.946,466.156 565.737,393.343 566.529,431.655 567.32,530.733 568.112,346.79 568.903,340.047 569.695,529.767 \n",
       "  570.486,534.675 571.278,353.624 572.069,334.319 572.861,244.995 573.652,384.502 574.444,357.469 575.235,341.599 576.027,480.278 576.819,543.861 577.61,512.893 \n",
       "  578.402,364.156 579.193,582.112 579.985,301.685 580.776,399.697 581.568,452.326 582.359,384.744 583.151,444.099 583.942,421.621 584.734,378.983 585.525,368.191 \n",
       "  586.317,613.784 587.108,557.319 587.9,601.612 588.691,631.568 589.483,531.421 590.275,553.386 591.066,572.039 591.858,561.829 592.649,638.236 593.441,636.275 \n",
       "  594.232,635.11 595.024,554.699 595.815,237.383 596.607,239.436 597.398,240.895 598.19,240.895 598.981,233.514 599.773,199.045 600.564,220.808 601.356,599.308 \n",
       "  602.147,501.394 602.939,438.812 603.73,452.147 604.522,367.57 605.314,625.239 606.105,310.779 606.897,610.806 607.688,436.881 608.48,510.783 609.271,511.086 \n",
       "  610.063,524.436 610.854,528.125 611.646,340.511 612.437,404.545 613.229,392.841 614.02,482.22 614.812,425.086 615.603,273.831 616.395,299.414 617.186,605.11 \n",
       "  617.978,439.707 618.77,344.129 619.561,402.245 620.353,352.947 621.144,446.051 621.936,448.54 622.727,370.145 623.519,479.318 624.31,517.334 625.102,504.083 \n",
       "  625.893,438.601 626.685,385.014 627.476,535.216 628.268,488.334 629.059,473.126 629.851,507.004 630.642,503.657 631.434,495.167 632.225,469.101 633.017,465.454 \n",
       "  633.809,444.778 634.6,389.63 635.392,471.471 636.183,508.483 636.975,521.974 637.766,547.739 638.558,545.433 639.349,448.691 640.141,448.691 640.932,458.565 \n",
       "  641.724,564.963 642.515,572.309 643.307,598.924 644.098,537.527 644.89,395.414 645.681,501.82 646.473,500.961 647.265,479.858 648.056,403.364 648.848,595.364 \n",
       "  649.639,593.047 650.431,623.9 651.222,520.113 652.014,508.638 652.805,498.938 653.597,521.276 654.388,484.229 655.18,550.896 655.971,487.657 656.763,512.42 \n",
       "  657.554,524.076 658.346,493.887 659.137,498.743 659.929,543.051 660.72,523.094 661.512,415.37 662.304,424.353 663.095,586.117 663.887,533.016 664.678,439.044 \n",
       "  665.47,510.479 666.261,490.863 667.053,476.339 667.844,492.519 668.636,352.567 669.427,344.184 670.219,319.791 671.01,390.214 671.802,404.686 672.593,405.355 \n",
       "  673.385,434.219 674.176,393.842 674.968,380.129 675.76,379.186 676.551,379.186 677.343,339.59 678.134,460.798 678.926,448.531 679.717,336.001 680.509,379.503 \n",
       "  681.3,418.269 682.092,366.245 682.883,374.534 683.675,500.865 684.466,486.478 685.258,594.66 686.049,562.746 686.841,382.389 687.632,393.004 688.424,387.115 \n",
       "  689.215,422.025 690.007,508.25 690.799,474.959 691.59,560.54 692.382,545.147 693.173,542.395 693.965,548.858 694.756,629.522 695.548,631.687 696.339,375.822 \n",
       "  697.131,629.255 697.922,606.382 698.714,633.983 699.505,638.07 700.297,577.325 701.088,588.965 701.88,548.887 702.671,398.947 703.463,427.366 704.255,447.03 \n",
       "  705.046,520.861 705.838,516.137 706.629,419.675 707.421,535.031 708.212,546.238 709.004,593.7 709.795,567.878 710.587,570.397 711.378,597.563 712.17,562.023 \n",
       "  712.961,308.43 713.753,469.572 714.544,603.459 715.336,624.486 716.127,634.73 716.919,635.871 717.71,388.914 718.502,553.581 719.294,428.621 720.085,612.753 \n",
       "  720.877,511.188 721.668,505.659 722.46,459.175 723.251,459.175 724.043,391.891 724.834,400.663 725.626,325.71 726.417,462.712 727.209,462.712 728,475.203 \n",
       "  728.792,564.508 729.583,463.05 730.375,511.558 731.166,531.228 731.958,427.796 732.75,440.54 733.541,408.526 734.333,387.148 735.124,362.687 735.916,375.343 \n",
       "  736.707,382.058 737.499,495.602 738.29,490.144 739.082,459.979 739.873,411.655 740.665,530.869 741.456,554.393 742.248,492.686 743.039,493.383 743.831,371.015 \n",
       "  744.622,440.049 745.414,343.106 746.205,356.367 746.997,419.665 747.789,407.09 748.58,405.284 749.372,395.204 750.163,520.041 750.955,414.722 751.746,366.465 \n",
       "  752.538,479.336 753.329,524.979 754.121,486.087 754.912,415.276 755.704,392.166 756.495,423.923 757.287,466.092 758.078,445.372 758.87,541.179 759.661,392.53 \n",
       "  760.453,356.063 761.245,354.703 762.036,356.126 762.828,373.907 763.619,403.701 764.411,538.725 765.202,544.472 765.994,389.694 766.785,483.986 767.577,389.885 \n",
       "  768.368,506.463 769.16,479.485 769.951,622.574 770.743,580.847 771.534,546.742 772.326,547.505 773.117,473.5 773.909,479.732 774.7,495.224 775.492,546.834 \n",
       "  776.284,503.086 777.075,493.399 777.867,454.587 778.658,401.233 779.45,490.282 780.241,433.836 781.033,618.348 781.824,661.674 782.616,630.008 783.407,590.367 \n",
       "  784.199,501.293 784.99,505.898 785.782,378.387 786.573,299.188 787.365,672.62 788.156,562.896 788.948,546.696 789.74,484.965 790.531,477.112 791.323,534.733 \n",
       "  792.114,526.901 792.906,492.435 793.697,493.323 794.489,507.077 795.28,400.431 796.072,475.092 796.863,486.58 797.655,476.08 798.446,483.18 799.238,491.744 \n",
       "  800.029,441.878 800.821,447.719 801.612,515.618 802.404,437.94 803.195,488.289 803.987,450.167 804.779,459.523 805.57,464.966 806.362,437.177 807.153,513.952 \n",
       "  807.945,618.39 808.736,572.841 809.528,470.674 810.319,409.619 811.111,297.948 811.902,315.076 812.694,393.423 813.485,470.509 814.277,484.501 815.068,484.501 \n",
       "  815.86,496.483 816.651,491.812 817.443,491.812 818.235,468.618 819.026,519.283 819.818,491.492 820.609,481.814 821.401,335.015 822.192,327.595 822.984,595.658 \n",
       "  823.775,457.668 824.567,470.013 825.358,474.438 826.15,493.322 826.941,490.62 827.733,524.665 828.524,463.325 829.316,479.413 830.107,415.653 830.899,504.345 \n",
       "  831.69,527.74 832.482,490.34 833.274,402.444 834.065,539.498 834.857,413.754 835.648,412.4 836.44,402.508 837.231,466.028 838.023,472.204 838.814,416.974 \n",
       "  839.606,428.006 840.397,428.298 841.189,427.499 841.98,458.625 842.772,396.07 843.563,419.731 844.355,433.428 845.146,456.022 845.938,369.987 846.73,357.272 \n",
       "  847.521,392.428 848.313,406.321 849.104,348.787 849.896,496.705 850.687,460.926 851.479,469.527 852.27,447.506 853.062,457.488 853.853,428.363 854.645,404.935 \n",
       "  855.436,514.285 856.228,487.139 857.019,460.527 857.811,415.765 858.602,578.666 859.394,329.452 860.185,397.015 860.977,414.632 861.769,459.29 862.56,497.539 \n",
       "  863.352,295.276 864.143,383.924 864.935,421.259 865.726,388.235 866.518,446.107 867.309,446.107 868.101,446.127 868.892,469.654 869.684,405.786 870.475,475.717 \n",
       "  871.267,432.871 872.058,501.48 872.85,471.965 873.641,468.437 874.433,458.057 875.225,439.615 876.016,414.687 876.808,468.857 877.599,518.883 878.391,452.526 \n",
       "  879.182,434.234 879.974,450.457 880.765,513.533 881.557,405.827 882.348,364.321 883.14,492.837 883.931,570.501 884.723,504.634 885.514,421.157 886.306,556.076 \n",
       "  887.097,564.921 887.889,526.786 888.68,405.236 889.472,393.441 890.264,390.352 891.055,340.214 891.847,385.459 892.638,369.336 893.43,520.088 894.221,520.088 \n",
       "  895.013,517.451 895.804,506.42 896.596,599.148 897.387,573.211 898.179,483.572 898.97,450.629 899.762,429.727 900.553,479.29 901.345,502.776 902.136,497.144 \n",
       "  902.928,439.438 903.72,500.343 904.511,359.975 905.303,351.302 906.094,385.069 906.886,363.29 907.677,364.872 908.469,397.412 909.26,448.605 910.052,373.743 \n",
       "  910.843,371.552 911.635,426.202 912.426,514.809 913.218,556.593 914.009,557.625 914.801,394.055 915.592,374.666 916.384,478.229 917.175,488.927 917.967,508.063 \n",
       "  918.759,473.239 919.55,446.521 920.342,425.115 921.133,297.103 921.925,484.408 922.716,411.908 923.508,521.266 924.299,516.37 925.091,588.726 925.882,538.243 \n",
       "  926.674,509.065 927.465,513.765 928.257,582.515 929.048,473.657 929.84,470.307 930.631,447.567 931.423,395.068 932.215,374.655 933.006,377.421 933.798,390.326 \n",
       "  934.589,376.168 935.381,443.805 936.172,410.525 936.964,635.276 937.755,534.04 938.547,539.583 939.338,530.08 940.13,525.253 940.921,467.042 941.713,442.015 \n",
       "  942.504,505.602 943.296,482.761 944.087,469.059 944.879,393.022 945.67,475.473 946.462,510.185 947.254,523.826 948.045,533.753 948.837,556.263 949.628,483.505 \n",
       "  950.42,584.203 951.211,524.862 952.003,423.865 952.794,391.725 953.586,520.264 954.377,564.052 955.169,429.458 955.96,435.699 956.752,377.445 957.543,556.493 \n",
       "  958.335,442.744 959.126,316.846 959.918,561.577 960.71,542.889 961.501,531.042 962.293,415.494 963.084,496.043 963.876,477.961 964.667,438.582 965.459,502.008 \n",
       "  966.25,510.726 967.042,582.157 967.833,501.602 968.625,449.749 969.416,608.346 970.208,565.699 970.999,403.135 971.791,406.835 972.582,427.201 973.374,496.174 \n",
       "  974.165,344.823 974.957,328.892 975.749,304.358 976.54,286.802 977.332,346.16 978.123,576.344 978.915,397.823 979.706,506.156 980.498,501.954 981.289,491.297 \n",
       "  982.081,567.2 982.872,548.905 983.664,397.855 984.455,412.658 985.247,425.343 986.038,363.151 986.83,364.632 987.621,354.676 988.413,471.391 989.204,516.391 \n",
       "  989.996,414.188 990.788,320.71 991.579,546.7 992.371,401.686 993.162,545.887 993.954,485.445 994.745,471.514 995.537,457.641 996.328,483.124 997.12,483.124 \n",
       "  997.911,452.152 998.703,439.125 999.494,418.156 1000.29,440.45 1001.08,451.435 1001.87,442.976 1002.66,368.512 1003.45,427.201 1004.24,447.389 1005.04,491.38 \n",
       "  1005.83,491.38 1006.62,315.692 1007.41,324.549 1008.2,326.125 1008.99,423.128 1009.78,415.06 1010.58,467.738 1011.37,544.657 1012.16,468.883 1012.95,327.334 \n",
       "  1013.74,374.116 1014.53,321.79 1015.32,452.675 1016.12,514.011 1016.91,550.187 1017.7,556.439 1018.49,601.754 1019.28,596.244 1020.07,626.936 1020.87,533.591 \n",
       "  1021.66,392.446 1022.45,411.763 1023.24,420.117 1024.03,602.13 1024.82,469.744 1025.61,454.023 1026.41,554.064 1027.2,452.163 1027.99,419.429 1028.78,403.546 \n",
       "  1029.57,463.243 1030.36,467.015 1031.16,446.906 1031.95,331.146 1032.74,327.883 1033.53,351.946 1034.32,349.298 1035.11,577.582 1035.9,606.797 1036.7,611.926 \n",
       "  1037.49,545.157 1038.28,544.836 1039.07,525.45 1039.86,518.968 1040.65,509.199 1041.45,428.319 1042.24,428.844 1043.03,640.009 1043.82,585.944 1044.61,658.412 \n",
       "  1045.4,638.898 1046.19,686.565 1046.99,515.778 1047.78,512.33 1048.57,356.391 1049.36,619.829 1050.15,551.712 1050.94,587.528 1051.74,573.971 1052.53,536.632 \n",
       "  1053.32,545.08 1054.11,561.951 1054.9,586.566 1055.69,497.388 1056.48,560.226 1057.28,504.844 1058.07,504.844 1058.86,340.438 1059.65,402.854 1060.44,374.841 \n",
       "  1061.23,498.229 1062.03,370.704 1062.82,448.209 1063.61,493.843 1064.4,476.057 1065.19,484.04 1065.98,454.607 1066.77,585.6 1067.57,397.396 1068.36,346.979 \n",
       "  1069.15,415.921 1069.94,409.759 1070.73,344.581 1071.52,365.833 1072.31,462.018 1073.11,499.386 1073.9,582.56 1074.69,480.139 1075.48,470.297 1076.27,471.777 \n",
       "  1077.06,458.266 1077.86,322.014 1078.65,224.93 1079.44,492.879 1080.23,403.977 1081.02,552.137 1081.81,553.621 1082.6,524.002 1083.4,526.895 1084.19,354.723 \n",
       "  1084.98,407.793 1085.77,480.914 1086.56,388.002 1087.35,395.358 1088.15,340.043 1088.94,489.243 1089.73,475.461 1090.52,473.997 1091.31,395.733 1092.1,436.508 \n",
       "  1092.89,503.532 1093.69,608.628 1094.48,574.75 1095.27,435.723 1096.06,496.348 1096.85,494.305 1097.64,506.102 1098.44,493.539 1099.23,460.882 1100.02,575.921 \n",
       "  1100.81,542.614 1101.6,584.879 1102.39,423.302 1103.18,589.729 1103.98,364.342 1104.77,542.631 1105.56,352.303 1106.35,388.839 1107.14,354.584 1107.93,456.787 \n",
       "  1108.73,470.09 1109.52,445.745 1110.31,401.323 1111.1,436.459 1111.89,493.537 1112.68,528.66 1113.47,517.514 1114.27,486.867 1115.06,476.894 1115.85,532.67 \n",
       "  1116.64,517.25 1117.43,552.581 1118.22,416.076 1119.02,502.015 1119.81,524.167 1120.6,498.808 1121.39,459.102 1122.18,492.187 1122.97,479.303 1123.76,482.238 \n",
       "  1124.56,441.504 1125.35,496.621 1126.14,473.994 1126.93,447.108 1127.72,446.877 1128.51,420.503 1129.3,416.812 1130.1,425.229 1130.89,419.514 1131.68,335.623 \n",
       "  1132.47,565.529 1133.26,492.255 1134.05,502.386 1134.85,475.506 1135.64,365.812 1136.43,375.919 1137.22,373.053 1138.01,394.49 1138.8,488.558 1139.59,427.552 \n",
       "  1140.39,617.96 1141.18,406.97 1141.97,428.067 1142.76,533.703 1143.55,565.177 1144.34,544.324 1145.14,495.804 1145.93,511.496 1146.72,547.666 1147.51,560.708 \n",
       "  1148.3,563.749 1149.09,549.065 1149.88,522.071 1150.68,509.531 1151.47,518.653 1152.26,556.392 1153.05,519.835 1153.84,563.22 1154.63,364.423 1155.43,330.191 \n",
       "  1156.22,487.861 1157.01,485.537 1157.8,540.858 1158.59,410.222 1159.38,239.499 1160.17,259.611 1160.97,342.065 1161.76,308.605 1162.55,504.9 1163.34,497.239 \n",
       "  1164.13,474.97 1164.92,476.435 1165.72,435.87 1166.51,468.449 1167.3,469.639 1168.09,533.063 1168.88,447.408 1169.67,421.849 1170.46,485.095 1171.26,482.973 \n",
       "  1172.05,468.675 1172.84,460.404 1173.63,322.495 1174.42,516.742 1175.21,510.466 1176.01,545.843 1176.8,522.912 1177.59,434.151 1178.38,365.215 1179.17,440.794 \n",
       "  1179.96,484.23 1180.75,570.27 1181.55,497.836 1182.34,585.144 1183.13,548.426 1183.92,482.825 1184.71,307.551 1185.5,366.644 1186.29,598.791 1187.09,527.301 \n",
       "  1187.88,522.029 1188.67,513.718 1189.46,636.798 1190.25,539.882 1191.04,514.433 1191.84,519.011 1192.63,552.089 1193.42,499.714 1194.21,673.67 1195,682.407 \n",
       "  1195.79,261.586 1196.58,269.124 1197.38,616.189 1198.17,584.447 1198.96,585.999 1199.75,587.211 1200.54,538.648 1201.33,478.848 1202.13,489.473 1202.92,452.337 \n",
       "  1203.71,427.788 1204.5,387.533 1205.29,324.723 1206.08,360.046 1206.87,673.152 1207.67,526.181 1208.46,477.305 1209.25,505.672 1210.04,558.295 1210.83,379.487 \n",
       "  1211.62,523.691 1212.42,452.02 1213.21,444.284 1214,449.347 1214.79,453.111 1215.58,393.545 1216.37,443.208 1217.16,490.85 1217.96,396.791 1218.75,596.857 \n",
       "  1219.54,331.485 1220.33,519.659 1221.12,460.522 1221.91,476.656 1222.71,479.513 1223.5,401.741 1224.29,386.173 1225.08,568.354 1225.87,457.373 1226.66,475.189 \n",
       "  1227.45,442.692 1228.25,415.833 1229.04,523.651 1229.83,545.439 1230.62,458.274 1231.41,475.496 1232.2,437.682 1233,443.739 1233.79,466.788 1234.58,496.743 \n",
       "  1235.37,396.91 1236.16,516.33 1236.95,553.126 1237.74,491.437 1238.54,476.722 1239.33,500.727 1240.12,465.796 1240.91,470.754 1241.7,483.975 1242.49,416.394 \n",
       "  1243.28,449.371 1244.08,370.213 1244.87,350.829 1245.66,304.841 1246.45,330.831 1247.24,330.265 1248.03,506.781 1248.83,620.013 1249.62,570.064 1250.41,621.164 \n",
       "  1251.2,531.772 1251.99,642.095 1252.78,636.423 1253.57,623.872 1254.37,626.572 1255.16,634.393 1255.95,440.339 1256.74,378.315 1257.53,335.363 1258.32,349.196 \n",
       "  1259.12,412.997 1259.91,537.423 1260.7,517.256 1261.49,515.027 1262.28,566.859 1263.07,594.57 1263.86,612.115 1264.66,563.215 1265.45,367.339 1266.24,373.903 \n",
       "  1267.03,301.662 1267.82,597.572 1268.61,561.664 1269.41,569.397 1270.2,561.574 1270.99,541.463 1271.78,450.458 1272.57,416.022 1273.36,403.54 1274.15,394.931 \n",
       "  1274.95,419.787 1275.74,423.611 1276.53,438.972 1277.32,479.505 1278.11,435.204 1278.9,387.272 1279.7,404.044 1280.49,506.618 1281.28,505.485 1282.07,417.571 \n",
       "  1282.86,392.359 1283.65,428.24 1284.44,480.253 1285.24,630.625 1286.03,479.88 1286.82,388.769 1287.61,404.206 1288.4,595.656 1289.19,592.816 1289.99,388.373 \n",
       "  1290.78,252.368 1291.57,555.862 1292.36,335.26 1293.15,390.75 1293.94,328.787 1294.73,377.702 1295.53,436.081 1296.32,445.511 1297.11,527.226 1297.9,502.973 \n",
       "  1298.69,509.282 1299.48,586.115 1300.27,547.097 1301.07,478.3 1301.86,514.926 1302.65,400.501 1303.44,428.512 1304.23,483.035 1305.02,416.449 1305.82,418.951 \n",
       "  1306.61,406.912 1307.4,565.497 1308.19,345.375 1308.98,325.313 1309.77,585.48 1310.56,438.001 1311.36,469.206 1312.15,429.293 1312.94,425.529 1313.73,483.22 \n",
       "  1314.52,446.9 1315.31,416.612 1316.11,421.858 1316.9,411.362 1317.69,357.571 1318.48,347.127 1319.27,440.8 1320.06,499.972 1320.85,589.878 1321.65,372.671 \n",
       "  1322.44,362.52 1323.23,507.778 1324.02,547.261 1324.81,366.116 1325.6,477.205 1326.4,423.332 1327.19,446.461 1327.98,518.076 1328.77,422.117 1329.56,371.32 \n",
       "  1330.35,451.73 1331.14,413.596 1331.94,369.068 1332.73,467.068 1333.52,458.185 1334.31,463.583 1335.1,413.467 1335.89,520.427 1336.69,562.797 1337.48,347.43 \n",
       "  1338.27,344.17 1339.06,444.25 1339.85,430.238 1340.64,437.264 1341.43,469.554 1342.23,463.601 1343.02,472.835 1343.81,435.315 1344.6,516.972 1345.39,599.428 \n",
       "  1346.18,599.428 1346.98,532.456 1347.77,410.144 1348.56,499.225 1349.35,459.299 1350.14,544.107 1350.93,544.268 1351.72,536.806 1352.52,533.584 1353.31,514.534 \n",
       "  1354.1,480.937 1354.89,443.834 1355.68,441.315 1356.47,402.671 1357.26,485.088 1358.06,592.005 1358.85,387.551 1359.64,357.051 1360.43,345.498 1361.22,481.331 \n",
       "  1362.01,447.629 1362.81,422.862 1363.6,395.96 1364.39,402.152 1365.18,366.74 1365.97,589.072 1366.76,438.921 1367.55,493.532 1368.35,437.045 1369.14,505.865 \n",
       "  1369.93,473.642 1370.72,458.288 1371.51,451.713 1372.3,456.914 1373.1,499.401 1373.89,483.974 1374.68,456.968 1375.47,478.789 1376.26,439.791 1377.05,373.75 \n",
       "  1377.84,450.847 1378.64,354.151 1379.43,438.015 1380.22,500.516 1381.01,459.83 1381.8,484.128 1382.59,462.777 1383.39,468.573 1384.18,442.115 1384.97,519.801 \n",
       "  1385.76,506.599 1386.55,419.99 1387.34,414.092 1388.13,414.092 1388.93,511.61 1389.72,527.717 1390.51,321.883 1391.3,539.934 1392.09,487.296 1392.88,397.107 \n",
       "  1393.68,491.853 1394.47,312.931 1395.26,265.562 1396.05,245.475 1396.84,393.644 1397.63,385.772 1398.42,284.43 1399.22,273.574 1400.01,525.782 1400.8,521.381 \n",
       "  1401.59,489.176 1402.38,455.53 1403.17,481.866 1403.97,558.493 1404.76,482.335 1405.55,484.871 1406.34,508.476 1407.13,448.973 1407.92,504.947 1408.71,323.949 \n",
       "  1409.51,452.067 1410.3,518.937 1411.09,514.724 1411.88,522.269 1412.67,543.238 1413.46,425.788 1414.25,483.568 1415.05,360.997 1415.84,625.757 1416.63,315.72 \n",
       "  1417.42,402.886 1418.21,564.333 1419,417.238 1419.8,465.688 1420.59,464.618 1421.38,418.269 1422.17,423.862 1422.96,540.49 1423.75,599.696 1424.54,638.208 \n",
       "  1425.34,528.015 1426.13,615.084 1426.92,575.788 1427.71,580.831 1428.5,626.678 1429.29,272.987 1430.09,335.854 1430.88,426.131 1431.67,442.775 1432.46,394.804 \n",
       "  1433.25,487.794 1434.04,432.679 1434.83,418.938 1435.63,402.922 1436.42,410.329 1437.21,429.255 1438,406.218 1438.79,407.872 1439.58,373.625 1440.38,619.399 \n",
       "  1441.17,620.592 1441.96,604.552 1442.75,478.537 1443.54,391.13 1444.33,369.557 1445.12,335.831 1445.92,330.829 1446.71,311.004 1447.5,347.36 1448.29,593.962 \n",
       "  1449.08,566.626 1449.87,593.025 1450.67,601.734 1451.46,383.612 1452.25,382.148 1453.04,389.354 1453.83,343.138 1454.62,475.836 1455.41,446.954 1456.21,433.903 \n",
       "  1457,563.361 1457.79,491.276 1458.58,422.191 1459.37,342.6 1460.16,315.039 1460.96,506.626 1461.75,346.619 1462.54,314.056 1463.33,634.039 1464.12,664.113 \n",
       "  1464.91,647.821 1465.7,628.653 1466.5,566.098 1467.29,573.448 1468.08,321.586 1468.87,302.575 1469.66,340.757 1470.45,391.384 1471.24,473.56 1472.04,515.335 \n",
       "  1472.83,468.311 1473.62,358.487 1474.41,372.089 1475.2,387.407 1475.99,348.031 1476.79,493.839 1477.58,348.571 1478.37,348.571 1479.16,370.833 1479.95,504.952 \n",
       "  1480.74,549.931 1481.53,426.102 1482.33,436.665 1483.12,426.505 1483.91,385.603 1484.7,424.007 1485.49,463.5 1486.28,432.393 1487.08,431.84 1487.87,517.647 \n",
       "  1488.66,511.162 1489.45,504.732 1490.24,440.18 1491.03,425.736 1491.82,450.826 1492.62,435.416 1493.41,448.443 1494.2,454.389 1494.99,346.633 1495.78,607.873 \n",
       "  1496.57,520.214 1497.37,529.681 1498.16,535.732 1498.95,510.424 1499.74,500.849 1500.53,518.043 1501.32,525.063 1502.11,377.846 1502.91,384.461 1503.7,384.461 \n",
       "  1504.49,410.848 1505.28,429.288 1506.07,421.092 1506.86,453.777 1507.66,508.533 1508.45,574.287 1509.24,563.602 1510.03,503.476 1510.82,514.89 1511.61,400.66 \n",
       "  1512.4,548.9 1513.2,488.023 1513.99,520.314 1514.78,464.595 1515.57,476.034 1516.36,414.518 1517.15,431.322 1517.95,485.93 1518.74,501.425 1519.53,450.406 \n",
       "  1520.32,451.705 1521.11,413.436 1521.9,402.989 1522.69,369.195 1523.49,301.846 1524.28,262.089 1525.07,340.571 1525.86,311.6 1526.65,361.283 1527.44,345.015 \n",
       "  1528.23,355.598 1529.03,425.5 1529.82,436.547 1530.61,490.395 1531.4,506.855 1532.19,470.208 1532.98,331.693 1533.78,626.299 1534.57,504.52 1535.36,508.725 \n",
       "  1536.15,328.534 1536.94,392.321 1537.73,499.076 1538.52,483.703 1539.32,488.521 1540.11,508.952 1540.9,561.506 1541.69,482.478 1542.48,503.526 1543.27,508.662 \n",
       "  1544.07,370.526 1544.86,482.8 1545.65,568.976 1546.44,551.726 1547.23,586.142 1548.02,586.142 1548.81,509.371 1549.61,476.471 1550.4,457.414 1551.19,455.979 \n",
       "  1551.98,530.233 1552.77,387.314 1553.56,480.169 1554.36,518.895 1555.15,494.448 1555.94,462.674 1556.73,512.93 1557.52,467.113 1558.31,458.294 1559.1,330.288 \n",
       "  1559.9,507.733 1560.69,488.728 1561.48,497.346 1562.27,507.474 1563.06,478.397 1563.85,484.751 1564.65,457.643 1565.44,331.399 1566.23,321.784 1567.02,283.043 \n",
       "  1567.81,415.906 1568.6,375.146 1569.39,364.698 1570.19,492.445 1570.98,468.098 1571.77,450.768 1572.56,450.768 1573.35,643.858 1574.14,349.743 1574.94,476.784 \n",
       "  1575.73,526.03 1576.52,508.792 1577.31,488.476 1578.1,361.294 1578.89,366.373 1579.68,455.677 1580.48,425.932 1581.27,436.33 1582.06,547.962 1582.85,361.848 \n",
       "  1583.64,565.987 1584.43,458.393 1585.22,440.749 1586.02,389.732 1586.81,348.081 1587.6,343.055 1588.39,414.875 1589.18,356.211 1589.97,487.947 1590.77,414.701 \n",
       "  1591.56,422.292 1592.35,570.619 1593.14,541.974 1593.93,549.932 1594.72,481.847 1595.51,392.59 1596.31,579.966 1597.1,559.982 1597.89,368.087 1598.68,406.462 \n",
       "  1599.47,399.88 1600.26,363.887 1601.06,458.927 1601.85,500.816 1602.64,648.176 1603.43,597.862 1604.22,635.517 1605.01,468.492 1605.8,462.981 1606.6,462.981 \n",
       "  1607.39,480.734 1608.18,543.543 1608.97,505.819 1609.76,486.897 1610.55,431.581 1611.35,421.073 1612.14,434.844 1612.93,431.461 1613.72,429.719 1614.51,508.653 \n",
       "  1615.3,402.758 1616.09,452.846 1616.89,414.834 1617.68,498.585 1618.47,323.921 1619.26,369.353 1620.05,513.024 1620.84,526.142 1621.64,492.837 1622.43,466.16 \n",
       "  1623.22,431.399 1624.01,418.185 1624.8,334.157 1625.59,295.562 1626.38,635.686 1627.18,623.117 1627.97,557.225 1628.76,489.733 1629.55,612.708 1630.34,510.588 \n",
       "  1631.13,453.779 1631.93,367.169 1632.72,342.191 1633.51,514.979 1634.3,293.271 1635.09,305.653 1635.88,308.723 1636.67,334.046 1637.47,321.566 1638.26,346.475 \n",
       "  1639.05,326.302 1639.84,322.247 1640.63,302.942 1641.42,279.23 1642.21,311.66 1643.01,436.82 1643.8,524.29 1644.59,464.588 1645.38,453.72 1646.17,546.393 \n",
       "  1646.96,492.14 1647.76,510.67 1648.55,516.646 1649.34,529.596 1650.13,450.19 1650.92,556.597 1651.71,544.4 1652.5,318.333 1653.3,387.497 1654.09,429.45 \n",
       "  1654.88,429.45 1655.67,476.911 1656.46,446.975 1657.25,401.919 1658.05,437.897 1658.84,519.369 1659.63,460.654 1660.42,477.301 1661.21,531.949 1662,473.466 \n",
       "  1662.79,490.352 1663.59,416.527 1664.38,450.271 1665.17,466.124 1665.96,413.185 1666.75,376.024 1667.54,482.904 1668.34,502.923 1669.13,403.143 1669.92,460.676 \n",
       "  1670.71,489.958 1671.5,509.838 1672.29,432.638 1673.08,407.456 1673.88,478.084 1674.67,514.307 1675.46,524.803 1676.25,476.534 1677.04,375.945 1677.83,449.802 \n",
       "  1678.63,505.322 1679.42,379.235 1680.21,419.859 1681,544.117 1681.79,544.589 1682.58,550.627 1683.37,454.66 1684.17,485.301 1684.96,565.731 1685.75,477.106 \n",
       "  1686.54,475.387 1687.33,489.844 1688.12,556.206 1688.92,441.558 1689.71,470.607 1690.5,442.919 1691.29,427.63 1692.08,447.793 1692.87,409.365 1693.66,436.216 \n",
       "  1694.46,394.086 1695.25,376.582 1696.04,471.967 1696.83,516.594 1697.62,425.995 1698.41,424.163 1699.2,446.981 1700,322.172 1700.79,350.279 1701.58,303.456 \n",
       "  1702.37,321.907 1703.16,309.059 1703.95,583.617 1704.75,556.937 1705.54,550.979 1706.33,594.948 1707.12,559.859 1707.91,506.344 1708.7,466.513 1709.49,394.595 \n",
       "  1710.29,539.694 1711.08,468.802 1711.87,443.364 1712.66,474.925 1713.45,484.237 1714.24,486.388 1715.04,609.69 1715.83,510.575 1716.62,534.467 1717.41,385.945 \n",
       "  1718.2,306.596 1718.99,336.977 1719.78,404.824 1720.58,449.305 1721.37,503.874 1722.16,552.182 1722.95,676.877 1723.74,618.208 1724.53,606.527 1725.33,615.204 \n",
       "  1726.12,530.045 1726.91,526.652 1727.7,376.269 1728.49,422.279 1729.28,439.242 1730.07,563.034 1730.87,537.593 1731.66,388.036 1732.45,381.777 1733.24,374.055 \n",
       "  1734.03,428.614 1734.82,462.666 1735.62,405.402 1736.41,551.701 1737.2,467.131 1737.99,419.677 1738.78,397.747 1739.57,396.53 1740.36,411.593 1741.16,490.764 \n",
       "  1741.95,451.286 1742.74,433.084 1743.53,491.917 1744.32,535.106 1745.11,424.101 1745.91,370.272 1746.7,481.885 1747.49,486.801 1748.28,415.544 1749.07,469.059 \n",
       "  1749.86,524.235 1750.65,464.696 1751.45,443.125 1752.24,429.421 1753.03,481.828 1753.82,405.782 1754.61,421.675 1755.4,405.89 1756.19,434.707 1756.99,335.164 \n",
       "  1757.78,440.63 1758.57,261.906 1759.36,274.151 1760.15,590.869 1760.94,489.806 1761.74,486.74 1762.53,500.866 1763.32,498.37 1764.11,487.153 1764.9,485.714 \n",
       "  1765.69,501.901 1766.48,522.547 1767.28,455.834 1768.07,441.606 1768.86,408.481 1769.65,354.146 1770.44,316.158 1771.23,479.167 1772.03,367.94 1772.82,469.514 \n",
       "  1773.61,484.846 1774.4,480.723 1775.19,470.462 1775.98,407.545 1776.77,412.712 1777.57,358.848 1778.36,372.561 1779.15,381.012 1779.94,563.632 1780.73,555.478 \n",
       "  1781.52,534.507 1782.32,540.716 1783.11,469.46 1783.9,468.439 1784.69,498.295 1785.48,466.863 1786.27,416.041 1787.06,435.728 1787.86,417.138 1788.65,378.364 \n",
       "  1789.44,359.113 1790.23,411.284 1791.02,434.247 1791.81,503.083 1792.61,483.443 1793.4,437.632 1794.19,424.06 1794.98,382.648 1795.77,382.46 1796.56,381.728 \n",
       "  1797.35,352.783 1798.15,370.499 1798.94,503.097 1799.73,500.246 1800.52,490.321 1801.31,437.127 1802.1,558.046 1802.9,580.803 1803.69,570.052 1804.48,574.695 \n",
       "  1805.27,543.484 1806.06,538.544 1806.85,435.974 1807.64,400.915 1808.44,466.564 1809.23,395.206 1810.02,349.182 1810.81,472.038 1811.6,405.742 1812.39,501.705 \n",
       "  1813.18,426.828 1813.98,499.628 1814.77,516.717 1815.56,548.82 1816.35,538.839 1817.14,517.658 1817.93,428.317 1818.73,406.42 1819.52,464.754 1820.31,430.589 \n",
       "  1821.1,458.154 1821.89,449.55 1822.68,459.02 1823.47,481.245 1824.27,476.439 1825.06,454.791 1825.85,425.988 1826.64,369.572 1827.43,479.715 1828.22,428.67 \n",
       "  1829.02,351.901 1829.81,482.885 1830.6,490.368 1831.39,430.382 1832.18,490.399 1832.97,469.364 1833.76,394.919 1834.56,383.292 1835.35,513.202 1836.14,594.746 \n",
       "  1836.93,584.69 1837.72,450.325 1838.51,366.615 1839.31,350.053 1840.1,376.191 1840.89,575.57 1841.68,469.876 1842.47,409.454 1843.26,395.118 1844.05,435.728 \n",
       "  1844.85,439.471 1845.64,442.346 1846.43,535.4 1847.22,600.667 1848.01,558.273 1848.8,352.557 1849.6,308.691 1850.39,465.696 1851.18,534.989 1851.97,446.766 \n",
       "  1852.76,434.469 1853.55,518.483 1854.34,446.854 1855.14,427.64 1855.93,420.733 1856.72,392.604 1857.51,499.773 1858.3,496.627 1859.09,480.569 1859.89,455.438 \n",
       "  1860.68,452.588 1861.47,480.1 1862.26,453.029 1863.05,484.941 1863.84,444.237 1864.63,455.142 1865.43,495.615 1866.22,494.537 1867.01,540.021 1867.8,690.253 \n",
       "  1868.59,692.077 1869.38,655.152 1870.17,519.634 1870.97,452.873 1871.76,602.37 1872.55,585.522 1873.34,391.989 1874.13,524.898 1874.92,543.604 1875.72,539.052 \n",
       "  1876.51,544.119 1877.3,544.119 1878.09,452.536 1878.88,485.686 1879.67,462.574 1880.46,416.546 1881.26,398.096 1882.05,381.974 1882.84,438.446 1883.63,381.075 \n",
       "  1884.42,415.03 1885.21,393.451 1886.01,440.063 1886.8,362.263 1887.59,381.45 1888.38,543.021 1889.17,543.601 1889.96,669.26 1890.75,288.742 1891.55,269.441 \n",
       "  1892.34,307.964 1893.13,346.526 1893.92,412.53 1894.71,442.487 1895.5,351.901 1896.3,385.973 1897.09,359.106 1897.88,527.025 1898.67,463.104 1899.46,470.655 \n",
       "  1900.25,469.557 1901.04,399.707 1901.84,285.665 1902.63,327.72 1903.42,509.119 1904.21,508.25 1905,542.368 1905.79,485.11 1906.59,561.309 1907.38,413.486 \n",
       "  1908.17,502.583 1908.96,435.609 1909.75,480.435 1910.54,480.435 1911.33,416.534 1912.13,388.609 1912.92,434.741 1913.71,465.238 1914.5,454.149 1915.29,408.795 \n",
       "  1916.08,502.987 1916.88,381.562 1917.67,384.056 1918.46,405.494 1919.25,400.643 1920.04,501.471 1920.83,385.52 1921.62,450.654 1922.42,544.49 1923.21,456.638 \n",
       "  1924,508.905 1924.79,485.544 1925.58,476.127 1926.37,470.959 1927.16,512.403 1927.96,459.269 1928.75,501.818 1929.54,513.733 1930.33,514.245 1931.12,435.832 \n",
       "  1931.91,339.637 1932.71,281.977 1933.5,549.387 1934.29,562.144 1935.08,534.781 1935.87,452.795 1936.66,443.938 1937.45,485.829 1938.25,498.683 1939.04,548.329 \n",
       "  \n",
       "  \"/>\n",
       "<polyline clip-path=\"url(#clip042)\" style=\"stroke:#c271d2; stroke-linecap:butt; stroke-linejoin:round; stroke-width:4; stroke-opacity:1; fill:none\" points=\"\n",
       "  356.774,463.443 357.565,463.443 358.357,434.697 359.148,462.806 359.94,632.865 360.731,491.435 361.523,510.202 362.315,500.333 363.106,437.237 363.898,428.259 \n",
       "  364.689,418.131 365.481,369.844 366.272,433.793 367.064,439.977 367.855,396.189 368.647,403.199 369.438,515.175 370.23,440.632 371.021,450.869 371.813,427.29 \n",
       "  372.604,442.943 373.396,606.709 374.187,560.563 374.979,270.931 375.77,365.128 376.562,365.133 377.354,359.934 378.145,477.095 378.937,444.909 379.728,421.628 \n",
       "  380.52,341.413 381.311,440.808 382.103,496.563 382.894,399.358 383.686,500.713 384.477,437.736 385.269,495.822 386.06,519.545 386.852,511.861 387.643,495.742 \n",
       "  388.435,560.837 389.226,551.862 390.018,395.6 390.81,433.457 391.601,402.759 392.393,409.195 393.184,572.611 393.976,418.873 394.767,359.542 395.559,511.608 \n",
       "  396.35,511.608 397.142,407.661 397.933,389.617 398.725,403.695 399.516,473.538 400.308,544.116 401.099,429.618 401.891,351.707 402.682,520.243 403.474,404.216 \n",
       "  404.265,462.711 405.057,487.839 405.849,508.65 406.64,498.244 407.432,497.003 408.223,499.735 409.015,736.802 409.806,703.324 410.598,725.627 411.389,728.051 \n",
       "  412.181,610.776 412.972,504.674 413.764,349.964 414.555,391.44 415.347,327.051 416.138,310.183 416.93,382.742 417.721,453.303 418.513,589.925 419.305,480.775 \n",
       "  420.096,429.746 420.888,526.37 421.679,515.363 422.471,416.3 423.262,421.001 424.054,508.823 424.845,477.351 425.637,497.141 426.428,492.462 427.22,505.937 \n",
       "  428.011,468.878 428.803,468.982 429.594,485.841 430.386,515.596 431.177,485.449 431.969,451.668 432.76,536.535 433.552,404.399 434.344,456.258 435.135,447.588 \n",
       "  435.927,513.656 436.718,528.363 437.51,525.992 438.301,400.397 439.093,380.957 439.884,318.119 440.676,318.119 441.467,408.509 442.259,382.556 443.05,448.122 \n",
       "  443.842,482.976 444.633,506.74 445.425,455.418 446.216,528.78 447.008,414.705 447.8,405.758 448.591,514.344 449.383,498.087 450.174,415.467 450.966,532.955 \n",
       "  451.757,525.513 452.549,520.096 453.34,456.251 454.132,475.277 454.923,542.249 455.715,544.646 456.506,444.1 457.298,444.742 458.089,481.594 458.881,528.764 \n",
       "  459.672,551.677 460.464,547.6 461.255,600.711 462.047,534.947 462.839,506.874 463.63,651.387 464.422,515.239 465.213,335.004 466.005,380.515 466.796,404.035 \n",
       "  467.588,488.625 468.379,438.112 469.171,412.051 469.962,488.718 470.754,490.468 471.545,482.751 472.337,436.564 473.128,509.418 473.92,526.46 474.711,524.081 \n",
       "  475.503,525.546 476.295,410.84 477.086,479.814 477.878,482.113 478.669,440.825 479.461,471.87 480.252,385.794 481.044,478.012 481.835,463.821 482.627,492.756 \n",
       "  483.418,519.452 484.21,501.974 485.001,543.649 485.793,524.125 486.584,511.982 487.376,511.982 488.167,539.197 488.959,470.89 489.75,408.018 490.542,400.756 \n",
       "  491.334,467.718 492.125,487.635 492.917,382.674 493.708,384.576 494.5,429.858 495.291,476.842 496.083,439.057 496.874,585.895 497.666,631.267 498.457,625.649 \n",
       "  499.249,537.767 500.04,491.929 500.832,505.78 501.623,492.111 502.415,397.349 503.206,396.744 503.998,480.635 504.79,386.035 505.581,433.19 506.373,517.644 \n",
       "  507.164,517.644 507.956,423.165 508.747,649.084 509.539,386.273 510.33,371.024 511.122,383.662 511.913,463.121 512.705,466.55 513.496,401.353 514.288,418.55 \n",
       "  515.079,442.68 515.871,368.504 516.662,408.865 517.454,363.961 518.245,462.017 519.037,467.112 519.829,555.256 520.62,584.805 521.412,585.124 522.203,447.301 \n",
       "  522.995,283.393 523.786,310.431 524.578,300.204 525.369,297.302 526.161,269.774 526.952,405.993 527.744,423.459 528.535,369.108 529.327,471.723 530.118,405.957 \n",
       "  530.91,366.51 531.701,429.655 532.493,530.062 533.285,418.006 534.076,405.518 534.868,400.139 535.659,371.302 536.451,369.894 537.242,366.951 538.034,389.342 \n",
       "  538.825,409.273 539.617,349.873 540.408,434.085 541.2,405.902 541.991,525.86 542.783,493.55 543.574,519.968 544.366,436.656 545.157,405.73 545.949,455.722 \n",
       "  546.74,365.771 547.532,359.305 548.324,393.243 549.115,427.548 549.907,475.1 550.698,511.2 551.49,494.956 552.281,404.022 553.073,502.536 553.864,418.287 \n",
       "  554.656,420.338 555.447,425.926 556.239,407.567 557.03,378.181 557.822,286.389 558.613,352.994 559.405,375.012 560.196,364.758 560.988,565.859 561.78,561.254 \n",
       "  562.571,362.105 563.363,327.016 564.154,402.867 564.946,340.612 565.737,265.346 566.529,252.335 567.32,357.138 568.112,357.138 568.903,310.467 569.695,337.079 \n",
       "  570.486,280.657 571.278,398.443 572.069,602.873 572.861,226.078 573.652,241.611 574.444,564.733 575.235,614.151 576.027,252.801 576.819,386.154 577.61,381.924 \n",
       "  578.402,380.307 579.193,406.344 579.985,449.908 580.776,473.655 581.568,463.099 582.359,479.478 583.151,489.216 583.942,386.236 584.734,379.683 585.525,565.456 \n",
       "  586.317,414.847 587.108,460.139 587.9,453.515 588.691,523.84 589.483,530.769 590.275,550.398 591.066,465.243 591.858,438.438 592.649,615.485 593.441,587.719 \n",
       "  594.232,365.885 595.024,242.871 595.815,345.01 596.607,354.7 597.398,439.465 598.19,363.543 598.981,373.281 599.773,417.699 600.564,488.743 601.356,465.922 \n",
       "  602.147,495.38 602.939,551.12 603.73,532.685 604.522,342.734 605.314,476.883 606.105,403.544 606.897,499.619 607.688,528.281 608.48,498.228 609.271,510.868 \n",
       "  610.063,403.917 610.854,539.329 611.646,604.686 612.437,555.665 613.229,542.175 614.02,532.405 614.812,486.815 615.603,450.827 616.395,499.951 617.186,570.932 \n",
       "  617.978,618.221 618.77,598.016 619.561,600.337 620.353,423.022 621.144,449.029 621.936,483.288 622.727,478.489 623.519,490.955 624.31,416.677 625.102,396.592 \n",
       "  625.893,342.292 626.685,329.825 627.476,459.612 628.268,397.947 629.059,464.79 629.851,464.79 630.642,464.79 631.434,427.882 632.225,440.804 633.017,566.561 \n",
       "  633.809,423.782 634.6,389.09 635.392,391.533 636.183,441.442 636.975,456.541 637.766,463.72 638.558,475.022 639.349,502.652 640.141,457.542 640.932,497.234 \n",
       "  641.724,457.424 642.515,449.801 643.307,408.352 644.098,456.748 644.89,557.539 645.681,565.4 646.473,553.919 647.265,526.878 648.056,610.3 648.848,578.27 \n",
       "  649.639,581.92 650.431,394 651.222,385.678 652.014,388.016 652.805,460.944 653.597,516.104 654.388,480.687 655.18,414.286 655.971,440.248 656.763,441.488 \n",
       "  657.554,449.146 658.346,387.544 659.137,385.558 659.929,390.485 660.72,488.054 661.512,468.072 662.304,469.716 663.095,441.055 663.887,501.937 664.678,585.734 \n",
       "  665.47,514.137 666.261,364.586 667.053,543.014 667.844,517.743 668.636,457.304 669.427,395.972 670.219,417.175 671.01,415.438 671.802,425.279 672.593,363.092 \n",
       "  673.385,487.351 674.176,439.056 674.968,414.183 675.76,427.908 676.551,361.229 677.343,638.795 678.134,474.96 678.926,560.9 679.717,537.221 680.509,633.503 \n",
       "  681.3,233.548 682.092,272.309 682.883,286.887 683.675,388.209 684.466,578.336 685.258,550.364 686.049,578.877 686.841,508.596 687.632,515.149 688.424,477.556 \n",
       "  689.215,351.713 690.007,380.076 690.799,390.39 691.59,296.529 692.382,282.078 693.173,408.469 693.965,553.858 694.756,382.75 695.548,356.17 696.339,358.365 \n",
       "  697.131,379.84 697.922,408.203 698.714,420.84 699.505,427.028 700.297,405.735 701.088,510.104 701.88,371.687 702.671,388.179 703.463,363.936 704.255,379.762 \n",
       "  705.046,435.583 705.838,436.439 706.629,363.142 707.421,386.376 708.212,425.743 709.004,460.616 709.795,453.578 710.587,469.764 711.378,356.345 712.17,358.074 \n",
       "  712.961,318.262 713.753,327.484 714.544,358.85 715.336,446.061 716.127,306.386 716.919,310.944 717.71,304.153 718.502,351.504 719.294,610.33 720.085,636.576 \n",
       "  720.877,642.02 721.668,565.171 722.46,482.618 723.251,471.655 724.043,433.996 724.834,428.251 725.626,444.477 726.417,385.417 727.209,443.613 728,400.922 \n",
       "  728.792,446.091 729.583,469.301 730.375,453.732 731.166,433.365 731.958,422.29 732.75,491.072 733.541,468.854 734.333,545.911 735.124,533.371 735.916,509.071 \n",
       "  736.707,425.476 737.499,515.439 738.29,432.631 739.082,537.21 739.873,525.522 740.665,448.176 741.456,438.944 742.248,478.166 743.039,653.398 743.831,633.113 \n",
       "  744.622,510.615 745.414,536.112 746.205,532.826 746.997,561.163 747.789,266.349 748.58,344.337 749.372,310.607 750.163,346.383 750.955,466.702 751.746,485.558 \n",
       "  752.538,370.257 753.329,604.128 754.121,563.913 754.912,593.895 755.704,565.686 756.495,527.123 757.287,405.847 758.078,463.799 758.87,502.385 759.661,485.68 \n",
       "  760.453,558.214 761.245,534.436 762.036,492.905 762.828,529.815 763.619,524.415 764.411,439.387 765.202,462.911 765.994,427.462 766.785,382.256 767.577,325.462 \n",
       "  768.368,346.194 769.16,437.585 769.951,674.337 770.743,563.963 771.534,672.945 772.326,644.253 773.117,594.063 773.909,464.834 774.7,426.027 775.492,433.38 \n",
       "  776.284,608.388 777.075,579.434 777.867,575.735 778.658,549.24 779.45,549.371 780.241,525.927 781.033,584.78 781.824,579.222 782.616,587.279 783.407,635.526 \n",
       "  784.199,643.976 784.99,609.1 785.782,606.661 786.573,642.517 787.365,645.413 788.156,601.427 788.948,563.144 789.74,603.84 790.531,425.509 791.323,388.682 \n",
       "  792.114,381.049 792.906,381.463 793.697,352.243 794.489,377.18 795.28,583.943 796.072,572.863 796.863,570.145 797.655,427.66 798.446,426.298 799.238,403.975 \n",
       "  800.029,331.426 800.821,459.504 801.612,571.512 802.404,487.995 803.195,408.32 803.987,387.338 804.779,418.995 805.57,434.054 806.362,371.713 807.153,372.262 \n",
       "  807.945,367.193 808.736,484.819 809.528,468.071 810.319,470.128 811.111,435.282 811.902,414.902 812.694,490.066 813.485,390.138 814.277,274.283 815.068,331.41 \n",
       "  815.86,319.831 816.651,517.335 817.443,495.801 818.235,634.019 819.026,606.568 819.818,645.444 820.609,434.397 821.401,505.975 822.192,486.898 822.984,449.195 \n",
       "  823.775,513.982 824.567,540.541 825.358,499.179 826.15,424.512 826.941,561.626 827.733,389.352 828.524,375.325 829.316,336.105 830.107,338.92 830.899,339.049 \n",
       "  831.69,434.482 832.482,446.875 833.274,372.335 834.065,434.667 834.857,422.981 835.648,355.763 836.44,278.606 837.231,321.315 838.023,420.724 838.814,567.023 \n",
       "  839.606,675.333 840.397,566.418 841.189,591.167 841.98,580.32 842.772,518.88 843.563,574.773 844.355,633.155 845.146,651.673 845.938,646.383 846.73,652.12 \n",
       "  847.521,256.509 848.313,221.69 849.104,184.575 849.896,226.621 850.687,327.435 851.479,347.625 852.27,542.701 853.062,524.283 853.853,380.664 854.645,387.1 \n",
       "  855.436,423.343 856.228,462.078 857.019,387.528 857.811,374.83 858.602,467.576 859.394,550.869 860.185,516.166 860.977,482.492 861.769,500.156 862.56,497.327 \n",
       "  863.352,519.214 864.143,577.789 864.935,586.778 865.726,417.966 866.518,433.755 867.309,430.937 868.101,349.739 868.892,354.957 869.684,391.887 870.475,323.938 \n",
       "  871.267,332.624 872.058,385.342 872.85,486.693 873.641,469.656 874.433,491.112 875.225,342.336 876.016,354.387 876.808,501.126 877.599,479.975 878.391,522.115 \n",
       "  879.182,523.057 879.974,537.928 880.765,460.576 881.557,453.301 882.348,422.447 883.14,429.481 883.931,430.795 884.723,398.503 885.514,409.411 886.306,415.931 \n",
       "  887.097,403.58 887.889,354.127 888.68,432.034 889.472,443.748 890.264,516.595 891.055,477.611 891.847,489.612 892.638,454.125 893.43,446.56 894.221,487.048 \n",
       "  895.013,531.2 895.804,507.608 896.596,513.987 897.387,523.284 898.179,513.098 898.97,416.429 899.762,517.381 900.553,488.387 901.345,552.839 902.136,594.501 \n",
       "  902.928,578.792 903.72,385.27 904.511,473.647 905.303,658.665 906.094,554.643 906.886,554.643 907.677,480.942 908.469,455.292 909.26,512.237 910.052,569.581 \n",
       "  910.843,548.941 911.635,547.847 912.426,592.887 913.218,438.146 914.009,424.229 914.801,459.163 915.592,469.073 916.384,446.197 917.175,428.547 917.967,423.366 \n",
       "  918.759,553.237 919.55,425.531 920.342,279.936 921.133,403.615 921.925,461.493 922.716,471.673 923.508,466.597 924.299,358.523 925.091,425.08 925.882,402.266 \n",
       "  926.674,438.225 927.465,362.635 928.257,351.439 929.048,536.364 929.84,567.269 930.631,585.678 931.423,541.216 932.215,509.36 933.006,540.059 933.798,587.953 \n",
       "  934.589,547.639 935.381,555.129 936.172,353.233 936.964,358.334 937.755,369.652 938.547,340.005 939.338,381.194 940.13,449.473 940.921,559.559 941.713,539.203 \n",
       "  942.504,522.397 943.296,511.731 944.087,502.9 944.879,501.241 945.67,485.616 946.462,398.019 947.254,487.833 948.045,513.664 948.837,525.326 949.628,562.976 \n",
       "  950.42,610.867 951.211,616.999 952.003,590.785 952.794,654.817 953.586,660.627 954.377,597.95 955.169,525.108 955.96,541.947 956.752,438.518 957.543,517.061 \n",
       "  958.335,425.65 959.126,483.911 959.918,497.409 960.71,467.591 961.501,446.681 962.293,504.713 963.084,472.362 963.876,515.228 964.667,549.493 965.459,475.271 \n",
       "  966.25,481.351 967.042,472.359 967.833,453.444 968.625,396.935 969.416,279.635 970.208,348.209 970.999,485.856 971.791,459.732 972.582,487.855 973.374,482.701 \n",
       "  974.165,524.016 974.957,522.546 975.749,523.691 976.54,506.736 977.332,489.625 978.123,393.123 978.915,511.017 979.706,427.233 980.498,288.919 981.289,310.95 \n",
       "  982.081,322.296 982.872,326.649 983.664,342.671 984.455,335.581 985.247,253.823 986.038,253.823 986.83,250.043 987.621,317.939 988.413,317.746 989.204,292.234 \n",
       "  989.996,312.168 990.788,550.239 991.579,560.362 992.371,468.089 993.162,350.418 993.954,332.076 994.745,430.171 995.537,430.47 996.328,444.759 997.12,316.361 \n",
       "  997.911,392.607 998.703,461.889 999.494,432.506 1000.29,463.536 1001.08,485.249 1001.87,377.5 1002.66,388.294 1003.45,461.722 1004.24,285.029 1005.04,338.364 \n",
       "  1005.83,553.276 1006.62,513.928 1007.41,508.221 1008.2,541.088 1008.99,503.397 1009.78,551.346 1010.58,458.546 1011.37,453.212 1012.16,445.956 1012.95,482.858 \n",
       "  1013.74,457.072 1014.53,472.917 1015.32,452.95 1016.12,431.888 1016.91,549.805 1017.7,468.697 1018.49,429.07 1019.28,487.023 1020.07,405.001 1020.87,339.844 \n",
       "  1021.66,327.756 1022.45,431.414 1023.24,540.963 1024.03,539.787 1024.82,417.369 1025.61,482.124 1026.41,500.266 1027.2,496.352 1027.99,536.049 1028.78,487.817 \n",
       "  1029.57,481.809 1030.36,421.8 1031.16,444.946 1031.95,457.67 1032.74,338.292 1033.53,326.218 1034.32,335.19 1035.11,317.212 1035.9,558.931 1036.7,516.047 \n",
       "  1037.49,430.164 1038.28,402.469 1039.07,328.461 1039.86,399.392 1040.65,512.236 1041.45,314.49 1042.24,346.561 1043.03,554.512 1043.82,538.154 1044.61,538.154 \n",
       "  1045.4,504.021 1046.19,375.771 1046.99,492.318 1047.78,621.394 1048.57,621.966 1049.36,564.161 1050.15,426.327 1050.94,334.348 1051.74,484.195 1052.53,521.821 \n",
       "  1053.32,522.615 1054.11,511.724 1054.9,529.514 1055.69,517.683 1056.48,499.341 1057.28,415.269 1058.07,514.292 1058.86,519.523 1059.65,517.576 1060.44,533.225 \n",
       "  1061.23,536.66 1062.03,529.076 1062.82,551.031 1063.61,576.373 1064.4,619.826 1065.19,520.28 1065.98,491.494 1066.77,425.373 1067.57,543.826 1068.36,404.109 \n",
       "  1069.15,424.807 1069.94,406.784 1070.73,458.22 1071.52,394.966 1072.31,394.966 1073.11,353.652 1073.9,338.441 1074.69,453.409 1075.48,493.386 1076.27,425.12 \n",
       "  1077.06,412.035 1077.86,440.751 1078.65,421.122 1079.44,490.996 1080.23,365.097 1081.02,418.865 1081.81,434.778 1082.6,366.427 1083.4,361.213 1084.19,484.14 \n",
       "  1084.98,394.746 1085.77,417.406 1086.56,371.692 1087.35,426.375 1088.15,429.53 1088.94,323.795 1089.73,370.481 1090.52,358.288 1091.31,381.054 1092.1,356.437 \n",
       "  1092.89,411.166 1093.69,388.186 1094.48,447.266 1095.27,459.993 1096.06,409.563 1096.85,409.563 1097.64,390.326 1098.44,443.151 1099.23,403.485 1100.02,410.026 \n",
       "  1100.81,408.218 1101.6,408.218 1102.39,478.414 1103.18,465.965 1103.98,490.603 1104.77,572.474 1105.56,559.411 1106.35,570.399 1107.14,555.461 1107.93,447.927 \n",
       "  1108.73,379.173 1109.52,391.091 1110.31,369.818 1111.1,308.808 1111.89,411.397 1112.68,449.966 1113.47,342.256 1114.27,501.885 1115.06,485.753 1115.85,494.798 \n",
       "  1116.64,425.121 1117.43,466.028 1118.22,454.519 1119.02,438.126 1119.81,436.787 1120.6,449.189 1121.39,449.183 1122.18,430.373 1122.97,425.797 1123.76,371.573 \n",
       "  1124.56,332.974 1125.35,563.11 1126.14,410.602 1126.93,494.91 1127.72,581.576 1128.51,611.269 1129.3,440.992 1130.1,368.461 1130.89,432.776 1131.68,406.086 \n",
       "  1132.47,446.862 1133.26,507.395 1134.05,627.142 1134.85,620.507 1135.64,539.956 1136.43,533.125 1137.22,596.553 1138.01,497.493 1138.8,555.273 1139.59,509.286 \n",
       "  1140.39,413.194 1141.18,406.089 1141.97,515.655 1142.76,576.696 1143.55,576.007 1144.34,517.058 1145.14,519.042 1145.93,542.763 1146.72,521.851 1147.51,381.292 \n",
       "  1148.3,397.116 1149.09,396.468 1149.88,330.184 1150.68,576.6 1151.47,544.002 1152.26,523.958 1153.05,608.73 1153.84,525.716 1154.63,571.099 1155.43,436.077 \n",
       "  1156.22,467.512 1157.01,447.439 1157.8,440.064 1158.59,394.99 1159.38,355.48 1160.17,489.776 1160.97,649.098 1161.76,585.197 1162.55,593.937 1163.34,559.173 \n",
       "  1164.13,526.575 1164.92,481.623 1165.72,470.594 1166.51,488.22 1167.3,488.22 1168.09,376.807 1168.88,557.516 1169.67,426.256 1170.46,388.672 1171.26,523.297 \n",
       "  1172.05,501.343 1172.84,478.615 1173.63,443.618 1174.42,438.2 1175.21,432.956 1176.01,426.339 1176.8,533.932 1177.59,315.641 1178.38,358.895 1179.17,361.317 \n",
       "  1179.96,269.39 1180.75,264.528 1181.55,294.011 1182.34,519.946 1183.13,550.276 1183.92,392.377 1184.71,483.459 1185.5,435.238 1186.29,444.76 1187.09,456.319 \n",
       "  1187.88,406.84 1188.67,478.057 1189.46,435.056 1190.25,235.036 1191.04,290.179 1191.84,252.042 1192.63,292.983 1193.42,458.306 1194.21,658.034 1195,576.896 \n",
       "  1195.79,537.986 1196.58,451.87 1197.38,458.965 1198.17,442.63 1198.96,397.358 1199.75,462.637 1200.54,525.178 1201.33,488.796 1202.13,465.04 1202.92,435.604 \n",
       "  1203.71,481.15 1204.5,497.625 1205.29,573.966 1206.08,603.459 1206.87,604.321 1207.67,563.078 1208.46,489.734 1209.25,439.057 1210.04,489.459 1210.83,523.274 \n",
       "  1211.62,450.404 1212.42,533.63 1213.21,565.808 1214,486.554 1214.79,435.496 1215.58,467.238 1216.37,288.58 1217.16,374.586 1217.96,380.961 1218.75,402.498 \n",
       "  1219.54,460.342 1220.33,428.669 1221.12,510.045 1221.91,437.267 1222.71,489.726 1223.5,510.458 1224.29,533.181 1225.08,465.999 1225.87,366.151 1226.66,357.614 \n",
       "  1227.45,383.177 1228.25,502.959 1229.04,291.979 1229.83,304.356 1230.62,319.008 1231.41,409.906 1232.2,374.962 1233,388.296 1233.79,337.27 1234.58,289.177 \n",
       "  1235.37,290.016 1236.16,309.122 1236.95,275.624 1237.74,315.167 1238.54,623.716 1239.33,550.826 1240.12,448.089 1240.91,442.534 1241.7,387.123 1242.49,400.144 \n",
       "  1243.28,447.429 1244.08,460.581 1244.87,332.188 1245.66,301.383 1246.45,293.284 1247.24,253.445 1248.03,448.081 1248.83,486.257 1249.62,472.278 1250.41,496.931 \n",
       "  1251.2,532.312 1251.99,523.584 1252.78,409.237 1253.57,397.975 1254.37,373.262 1255.16,405.131 1255.95,450.135 1256.74,449.364 1257.53,464.571 1258.32,471.447 \n",
       "  1259.12,443.091 1259.91,385.97 1260.7,528.244 1261.49,455.009 1262.28,424.615 1263.07,380.812 1263.86,402.319 1264.66,425.353 1265.45,487.792 1266.24,411.91 \n",
       "  1267.03,406.494 1267.82,355.666 1268.61,345.61 1269.41,394.838 1270.2,391.283 1270.99,386.73 1271.78,399.585 1272.57,400.542 1273.36,517.75 1274.15,586.376 \n",
       "  1274.95,619.536 1275.74,551.402 1276.53,356.632 1277.32,375.195 1278.11,538.402 1278.9,539.354 1279.7,520.201 1280.49,523.513 1281.28,416.576 1282.07,488.06 \n",
       "  1282.86,488.06 1283.65,521.533 1284.44,540.293 1285.24,545.826 1286.03,462.237 1286.82,421.307 1287.61,399.955 1288.4,500.921 1289.19,514.234 1289.99,451.815 \n",
       "  1290.78,367.206 1291.57,340.918 1292.36,417.32 1293.15,448.629 1293.94,666.593 1294.73,658.956 1295.53,569.757 1296.32,458.969 1297.11,268.669 1297.9,275.232 \n",
       "  1298.69,504.161 1299.48,498.453 1300.27,489.401 1301.07,455.164 1301.86,451.121 1302.65,382.99 1303.44,402.205 1304.23,318.235 1305.02,316.115 1305.82,251.44 \n",
       "  1306.61,253.018 1307.4,213.098 1308.19,225.319 1308.98,328.253 1309.77,295.201 1310.56,369.819 1311.36,463.153 1312.15,456.641 1312.94,544.751 1313.73,414.144 \n",
       "  1314.52,499.123 1315.31,425.135 1316.11,444.985 1316.9,515.982 1317.69,429.239 1318.48,338.773 1319.27,316.567 1320.06,517.373 1320.85,524.189 1321.65,477.643 \n",
       "  1322.44,469.01 1323.23,387.462 1324.02,427.519 1324.81,465.391 1325.6,433.307 1326.4,334.281 1327.19,512.085 1327.98,402.095 1328.77,393.137 1329.56,352.97 \n",
       "  1330.35,318.786 1331.14,324.079 1331.94,463.003 1332.73,353.131 1333.52,576.852 1334.31,572.173 1335.1,566.59 1335.89,586.688 1336.69,557.446 1337.48,517.681 \n",
       "  1338.27,374.964 1339.06,402.578 1339.85,522.381 1340.64,436.769 1341.43,398.579 1342.23,431.035 1343.02,555.694 1343.81,413.009 1344.6,514.458 1345.39,462.345 \n",
       "  1346.18,437.41 1346.98,392.254 1347.77,462.87 1348.56,646.775 1349.35,628.857 1350.14,642.262 1350.93,628.712 1351.72,662.39 1352.52,626.535 1353.31,622.312 \n",
       "  1354.1,514.166 1354.89,423.662 1355.68,502.797 1356.47,496.245 1357.26,434.421 1358.06,432.569 1358.85,483.365 1359.64,484.569 1360.43,442.845 1361.22,481.829 \n",
       "  1362.01,380.197 1362.81,445.062 1363.6,367.338 1364.39,310.755 1365.18,569.182 1365.97,516.517 1366.76,487.524 1367.55,538.352 1368.35,613.728 1369.14,569.568 \n",
       "  1369.93,214.784 1370.72,443.655 1371.51,394.149 1372.3,310.449 1373.1,479.554 1373.89,592.984 1374.68,647.168 1375.47,510.386 1376.26,457.899 1377.05,391.486 \n",
       "  1377.84,325.356 1378.64,293.771 1379.43,405.131 1380.22,377.35 1381.01,485.54 1381.8,498.683 1382.59,468.412 1383.39,396.132 1384.18,410.348 1384.97,454.962 \n",
       "  1385.76,698.132 1386.55,658.733 1387.34,471.579 1388.13,486.816 1388.93,393.44 1389.72,556.932 1390.51,591.012 1391.3,563.76 1392.09,599.928 1392.88,527.776 \n",
       "  1393.68,524.744 1394.47,542.055 1395.26,468.789 1396.05,227.63 1396.84,338.351 1397.63,408.374 1398.42,411.331 1399.22,380.311 1400.01,401.516 1400.8,595.138 \n",
       "  1401.59,703.341 1402.38,705.941 1403.17,633.5 1403.97,637.998 1404.76,419.95 1405.55,570.588 1406.34,630.169 1407.13,611.331 1407.92,511.203 1408.71,558.656 \n",
       "  1409.51,584.789 1410.3,589.114 1411.09,565.975 1411.88,538.359 1412.67,561.677 1413.46,240.955 1414.25,214.647 1415.05,258.71 1415.84,267.751 1416.63,510.021 \n",
       "  1417.42,333.329 1418.21,468.472 1419,444.95 1419.8,563.233 1420.59,498.718 1421.38,401.721 1422.17,362.541 1422.96,422.696 1423.75,377.672 1424.54,441.842 \n",
       "  1425.34,441.357 1426.13,362.901 1426.92,571.738 1427.71,538.244 1428.5,472.916 1429.29,445.75 1430.09,510.726 1430.88,437.47 1431.67,459.638 1432.46,522.699 \n",
       "  1433.25,532.531 1434.04,550.42 1434.83,440.699 1435.63,480.774 1436.42,344.142 1437.21,548.463 1438,550.261 1438.79,464.764 1439.58,490.081 1440.38,466.234 \n",
       "  1441.17,425.382 1441.96,403.981 1442.75,444.099 1443.54,359.199 1444.33,374.038 1445.12,349.203 1445.92,374.199 1446.71,632.537 1447.5,463.828 1448.29,491.505 \n",
       "  1449.08,491.505 1449.87,438.178 1450.67,451.859 1451.46,542.127 1452.25,564.48 1453.04,562.006 1453.83,436.006 1454.62,488.056 1455.41,417.325 1456.21,543.995 \n",
       "  1457,376.618 1457.79,394.217 1458.58,411.573 1459.37,455.771 1460.16,330.443 1460.96,314.29 1461.75,471.084 1462.54,431.494 1463.33,527.266 1464.12,538.276 \n",
       "  1464.91,541.361 1465.7,583.091 1466.5,611.185 1467.29,452.73 1468.08,428.314 1468.87,363.444 1469.66,362.247 1470.45,543.481 1471.24,557.833 1472.04,568.466 \n",
       "  1472.83,545.078 1473.62,476.314 1474.41,461.768 1475.2,435.187 1475.99,551.093 1476.79,528.173 1477.58,584.804 1478.37,477.037 1479.16,474.198 1479.95,493.014 \n",
       "  1480.74,493.014 1481.53,492.648 1482.33,492.481 1483.12,398.949 1483.91,350.113 1484.7,351.645 1485.49,310.942 1486.28,305.219 1487.08,338.684 1487.87,374.43 \n",
       "  1488.66,371.908 1489.45,435.353 1490.24,427.426 1491.03,391.219 1491.82,458.209 1492.62,442.819 1493.41,430.223 1494.2,434.009 1494.99,577.174 1495.78,584.328 \n",
       "  1496.57,539.117 1497.37,419.378 1498.16,419.378 1498.95,455.979 1499.74,453.455 1500.53,480.649 1501.32,477.395 1502.11,456.814 1502.91,496.775 1503.7,390.507 \n",
       "  1504.49,605.476 1505.28,528.531 1506.07,537.375 1506.86,546.787 1507.66,479.227 1508.45,558.692 1509.24,309.306 1510.03,507.204 1510.82,453.254 1511.61,469.766 \n",
       "  1512.4,469.766 1513.2,526.421 1513.99,526.421 1514.78,621.835 1515.57,468.291 1516.36,566.133 1517.15,328.329 1517.95,358.767 1518.74,365.961 1519.53,609.225 \n",
       "  1520.32,638.281 1521.11,519.468 1521.9,490.564 1522.69,516.543 1523.49,574.999 1524.28,448.587 1525.07,465.994 1525.86,360.349 1526.65,520.103 1527.44,661.011 \n",
       "  1528.23,516.803 1529.03,391.543 1529.82,355.245 1530.61,347.923 1531.4,396.329 1532.19,454.364 1532.98,445.646 1533.78,432.457 1534.57,373.275 1535.36,513.877 \n",
       "  1536.15,487.182 1536.94,515.161 1537.73,355.34 1538.52,614.115 1539.32,620.932 1540.11,687.138 1540.9,634.742 1541.69,518.908 1542.48,552.19 1543.27,395.114 \n",
       "  1544.07,402.055 1544.86,501.135 1545.65,372.582 1546.44,428.194 1547.23,468.404 1548.02,497.078 1548.81,485.554 1549.61,483.307 1550.4,500.153 1551.19,635.642 \n",
       "  1551.98,312.024 1552.77,294.753 1553.56,316.529 1554.36,425.013 1555.15,420.423 1555.94,366.387 1556.73,363.336 1557.52,454.535 1558.31,561.034 1559.1,492.507 \n",
       "  1559.9,581.454 1560.69,429.135 1561.48,545.639 1562.27,479.952 1563.06,537.098 1563.85,360.356 1564.65,460.49 1565.44,544.009 1566.23,629.192 1567.02,634.372 \n",
       "  1567.81,357.014 1568.6,348.938 1569.39,496.758 1570.19,480.127 1570.98,437.813 1571.77,627.812 1572.56,471.996 1573.35,458.318 1574.14,404.897 1574.94,595.068 \n",
       "  1575.73,589.452 1576.52,368.664 1577.31,429.118 1578.1,388.162 1578.89,420.195 1579.68,446.713 1580.48,421.305 1581.27,425.019 1582.06,516.761 1582.85,366.276 \n",
       "  1583.64,444.277 1584.43,383.111 1585.22,428.923 1586.02,597.155 1586.81,368.735 1587.6,314.034 1588.39,491.554 1589.18,470.404 1589.97,489.468 1590.77,473.255 \n",
       "  1591.56,461.745 1592.35,463.64 1593.14,453.792 1593.93,459.3 1594.72,578.26 1595.51,370.203 1596.31,524.752 1597.1,399.763 1597.89,397.845 1598.68,452.431 \n",
       "  1599.47,501.871 1600.26,489.536 1601.06,478.345 1601.85,494.777 1602.64,452.273 1603.43,443.822 1604.22,464.631 1605.01,452.833 1605.8,451.518 1606.6,492.336 \n",
       "  1607.39,394.611 1608.18,459.71 1608.97,494.006 1609.76,322.633 1610.55,364.661 1611.35,482.45 1612.14,414.011 1612.93,479.305 1613.72,464.21 1614.51,428.844 \n",
       "  1615.3,482.588 1616.09,339.581 1616.89,336.383 1617.68,396.831 1618.47,434.484 1619.26,446.098 1620.05,453.922 1620.84,403.766 1621.64,459.552 1622.43,487.075 \n",
       "  1623.22,487.075 1624.01,495.14 1624.8,503.785 1625.59,494.718 1626.38,405.131 1627.18,453.998 1627.97,460.724 1628.76,492.963 1629.55,484.147 1630.34,481.831 \n",
       "  1631.13,555.939 1631.93,601.026 1632.72,612.811 1633.51,612.811 1634.3,426.996 1635.09,462.571 1635.88,395.214 1636.67,352.064 1637.47,471.104 1638.26,447.194 \n",
       "  1639.05,441.261 1639.84,550.791 1640.63,568.567 1641.42,587.134 1642.21,408.615 1643.01,358.215 1643.8,541.038 1644.59,509.258 1645.38,236.448 1646.17,215.804 \n",
       "  1646.96,200.051 1647.76,328.585 1648.55,408.677 1649.34,357.784 1650.13,368.284 1650.92,372.43 1651.71,560 1652.5,464.663 1653.3,528.757 1654.09,479.062 \n",
       "  1654.88,167.008 1655.67,173.74 1656.46,384.883 1657.25,501.427 1658.05,555.658 1658.84,551.376 1659.63,498.939 1660.42,472.801 1661.21,476.872 1662,431.057 \n",
       "  1662.79,428.388 1663.59,522.861 1664.38,517.343 1665.17,456.406 1665.96,557.223 1666.75,588.645 1667.54,428.614 1668.34,403.505 1669.13,494.699 1669.92,476.241 \n",
       "  1670.71,471.761 1671.5,504.11 1672.29,488.62 1673.08,488.476 1673.88,406.611 1674.67,422.022 1675.46,427.492 1676.25,519.7 1677.04,518.327 1677.83,555.608 \n",
       "  1678.63,501.418 1679.42,533.878 1680.21,399.443 1681,476.424 1681.79,537.617 1682.58,541.251 1683.37,466.389 1684.17,474.648 1684.96,481.202 1685.75,495.091 \n",
       "  1686.54,496.463 1687.33,505.112 1688.12,549.947 1688.92,552.126 1689.71,432.052 1690.5,603.864 1691.29,641.43 1692.08,672.537 1692.87,613.805 1693.66,588.633 \n",
       "  1694.46,575.644 1695.25,599.638 1696.04,613.24 1696.83,498.958 1697.62,484.602 1698.41,512.24 1699.2,477.628 1700,470.114 1700.79,438.897 1701.58,482.318 \n",
       "  1702.37,565.821 1703.16,562.887 1703.95,483.52 1704.75,552.437 1705.54,534.484 1706.33,481.575 1707.12,490.85 1707.91,532.783 1708.7,462.871 1709.49,588.955 \n",
       "  1710.29,336.529 1711.08,308.772 1711.87,285.654 1712.66,292.486 1713.45,312.127 1714.24,331.359 1715.04,613.284 1715.83,563.457 1716.62,499.488 1717.41,494.506 \n",
       "  1718.2,504.369 1718.99,444.003 1719.78,436.54 1720.58,410.326 1721.37,431.8 1722.16,461.399 1722.95,420.091 1723.74,423.506 1724.53,411.786 1725.33,412.867 \n",
       "  1726.12,391.671 1726.91,412.518 1727.7,395.97 1728.49,363.295 1729.28,376.586 1730.07,441.933 1730.87,445.685 1731.66,445.685 1732.45,381.136 1733.24,392.217 \n",
       "  1734.03,394.614 1734.82,394.904 1735.62,386.95 1736.41,385.413 1737.2,368.897 1737.99,373.572 1738.78,433.42 1739.57,442.142 1740.36,377.897 1741.16,422.581 \n",
       "  1741.95,442.165 1742.74,428.039 1743.53,564.076 1744.32,589.64 1745.11,518.968 1745.91,617.314 1746.7,581.346 1747.49,440.838 1748.28,407.499 1749.07,445.382 \n",
       "  1749.86,557.235 1750.65,541.374 1751.45,535.399 1752.24,431.48 1753.03,421.121 1753.82,421.121 1754.61,507.976 1755.4,626.927 1756.19,546.677 1756.99,602.602 \n",
       "  1757.78,569.243 1758.57,415.169 1759.36,422.496 1760.15,447.143 1760.94,487.992 1761.74,461.2 1762.53,497.845 1763.32,481.914 1764.11,484.711 1764.9,487.593 \n",
       "  1765.69,485.064 1766.48,518.418 1767.28,385.003 1768.07,328.942 1768.86,448.69 1769.65,589.202 1770.44,420.465 1771.23,424.123 1772.03,429.688 1772.82,492.086 \n",
       "  1773.61,547.639 1774.4,472.009 1775.19,406.503 1775.98,458.162 1776.77,497.21 1777.57,588.739 1778.36,559.328 1779.15,575.432 1779.94,339.445 1780.73,496.232 \n",
       "  1781.52,464.558 1782.32,437.647 1783.11,379.133 1783.9,373.43 1784.69,523.8 1785.48,484.372 1786.27,391.751 1787.06,236.72 1787.86,261.59 1788.65,234.837 \n",
       "  1789.44,432.025 1790.23,325.52 1791.02,317.443 1791.81,580.243 1792.61,507.81 1793.4,514.227 1794.19,468.732 1794.98,465.757 1795.77,497.969 1796.56,491.479 \n",
       "  1797.35,501.117 1798.15,554.596 1798.94,430.232 1799.73,531.731 1800.52,394.743 1801.31,392.462 1802.1,389.685 1802.9,489.669 1803.69,483.296 1804.48,471.893 \n",
       "  1805.27,431.744 1806.06,488.51 1806.85,411.943 1807.64,566.868 1808.44,573.297 1809.23,494.816 1810.02,507.314 1810.81,434.701 1811.6,386.248 1812.39,437.598 \n",
       "  1813.18,360.571 1813.98,552.205 1814.77,471.302 1815.56,411.867 1816.35,348.157 1817.14,362.824 1817.93,372.406 1818.73,348.643 1819.52,360.145 1820.31,469.004 \n",
       "  1821.1,458.181 1821.89,391.432 1822.68,536.473 1823.47,541.59 1824.27,557.571 1825.06,520.563 1825.85,581.471 1826.64,438.634 1827.43,561.648 1828.22,563.273 \n",
       "  1829.02,444.469 1829.81,514.022 1830.6,543.93 1831.39,543.93 1832.18,614.386 1832.97,651.405 1833.76,432.432 1834.56,433.45 1835.35,315.745 1836.14,357.172 \n",
       "  1836.93,527.195 1837.72,524.847 1838.51,492.444 1839.31,497.909 1840.1,458.9 1840.89,495.354 1841.68,529.022 1842.47,526.232 1843.26,446.627 1844.05,466.897 \n",
       "  1844.85,416.943 1845.64,372.124 1846.43,318.367 1847.22,368.78 1848.01,632.937 1848.8,621.487 1849.6,542.767 1850.39,594.795 1851.18,488.89 1851.97,428.797 \n",
       "  1852.76,478.412 1853.55,443.862 1854.34,259.045 1855.14,393.121 1855.93,532.971 1856.72,532.971 1857.51,399.854 1858.3,467.333 1859.09,455.692 1859.89,455.692 \n",
       "  1860.68,416.416 1861.47,416.416 1862.26,451.225 1863.05,319.982 1863.84,414.808 1864.63,483.369 1865.43,522.42 1866.22,522.42 1867.01,500.735 1867.8,536.383 \n",
       "  1868.59,515.908 1869.38,468.82 1870.17,495.247 1870.97,429.299 1871.76,531.758 1872.55,563.357 1873.34,477.552 1874.13,479.956 1874.92,513.043 1875.72,515.511 \n",
       "  1876.51,455.909 1877.3,435.171 1878.09,467.487 1878.88,482.247 1879.67,338.082 1880.46,640.424 1881.26,618.464 1882.05,537.217 1882.84,530.176 1883.63,499.099 \n",
       "  1884.42,473.705 1885.21,559.85 1886.01,536.468 1886.8,544.193 1887.59,441.351 1888.38,631.223 1889.17,446.598 1889.96,503.856 1890.75,494.37 1891.55,477.423 \n",
       "  1892.34,552.976 1893.13,442.874 1893.92,472.12 1894.71,487.279 1895.5,476.688 1896.3,515.633 1897.09,474.82 1897.88,480.954 1898.67,429.996 1899.46,503.357 \n",
       "  1900.25,494.052 1901.04,448.97 1901.84,554.143 1902.63,570.231 1903.42,411.337 1904.21,475.025 1905,470.95 1905.79,602.341 1906.59,432.976 1907.38,401.134 \n",
       "  1908.17,565.932 1908.96,480.534 1909.75,476.185 1910.54,550.586 1911.33,602.248 1912.13,607.588 1912.92,414.883 1913.71,415.24 1914.5,430.923 1915.29,533.437 \n",
       "  1916.08,553.243 1916.88,545.398 1917.67,346.105 1918.46,347.532 1919.25,461.78 1920.04,467.455 1920.83,445.257 1921.62,462.434 1922.42,472.57 1923.21,405.426 \n",
       "  1924,455.063 1924.79,493.875 1925.58,483.038 1926.37,474.699 1927.16,496.323 1927.96,630.815 1928.75,559.699 1929.54,627.454 1930.33,450.167 1931.12,451.333 \n",
       "  1931.91,385.899 1932.71,427.38 1933.5,421.733 1934.29,355.949 1935.08,460.293 1935.87,445.205 1936.66,445.205 1937.45,442.011 1938.25,423.683 1939.04,462.71 \n",
       "  \n",
       "  \"/>\n",
       "<path clip-path=\"url(#clip040)\" d=\"\n",
       "M2275.56 798.92 L3952.76 798.92 L3952.76 131.032 L2275.56 131.032  Z\n",
       "  \" fill=\"#ffffff\" fill-rule=\"evenodd\" fill-opacity=\"1\"/>\n",
       "<defs>\n",
       "  <clipPath id=\"clip043\">\n",
       "    <rect x=\"2275\" y=\"131\" width=\"1678\" height=\"669\"/>\n",
       "  </clipPath>\n",
       "</defs>\n",
       "<polyline clip-path=\"url(#clip043)\" style=\"stroke:#000000; stroke-linecap:butt; stroke-linejoin:round; stroke-width:2; stroke-opacity:0.1; fill:none\" points=\"\n",
       "  2372.37,798.92 2372.37,131.032 \n",
       "  \"/>\n",
       "<polyline clip-path=\"url(#clip043)\" style=\"stroke:#000000; stroke-linecap:butt; stroke-linejoin:round; stroke-width:2; stroke-opacity:0.1; fill:none\" points=\"\n",
       "  2614.9,798.92 2614.9,131.032 \n",
       "  \"/>\n",
       "<polyline clip-path=\"url(#clip043)\" style=\"stroke:#000000; stroke-linecap:butt; stroke-linejoin:round; stroke-width:2; stroke-opacity:0.1; fill:none\" points=\"\n",
       "  2857.42,798.92 2857.42,131.032 \n",
       "  \"/>\n",
       "<polyline clip-path=\"url(#clip043)\" style=\"stroke:#000000; stroke-linecap:butt; stroke-linejoin:round; stroke-width:2; stroke-opacity:0.1; fill:none\" points=\"\n",
       "  3099.94,798.92 3099.94,131.032 \n",
       "  \"/>\n",
       "<polyline clip-path=\"url(#clip043)\" style=\"stroke:#000000; stroke-linecap:butt; stroke-linejoin:round; stroke-width:2; stroke-opacity:0.1; fill:none\" points=\"\n",
       "  3342.46,798.92 3342.46,131.032 \n",
       "  \"/>\n",
       "<polyline clip-path=\"url(#clip043)\" style=\"stroke:#000000; stroke-linecap:butt; stroke-linejoin:round; stroke-width:2; stroke-opacity:0.1; fill:none\" points=\"\n",
       "  3584.98,798.92 3584.98,131.032 \n",
       "  \"/>\n",
       "<polyline clip-path=\"url(#clip043)\" style=\"stroke:#000000; stroke-linecap:butt; stroke-linejoin:round; stroke-width:2; stroke-opacity:0.1; fill:none\" points=\"\n",
       "  3827.5,798.92 3827.5,131.032 \n",
       "  \"/>\n",
       "<polyline clip-path=\"url(#clip040)\" style=\"stroke:#000000; stroke-linecap:butt; stroke-linejoin:round; stroke-width:4; stroke-opacity:1; fill:none\" points=\"\n",
       "  2275.56,798.92 3952.76,798.92 \n",
       "  \"/>\n",
       "<polyline clip-path=\"url(#clip040)\" style=\"stroke:#000000; stroke-linecap:butt; stroke-linejoin:round; stroke-width:4; stroke-opacity:1; fill:none\" points=\"\n",
       "  2372.37,798.92 2372.37,780.022 \n",
       "  \"/>\n",
       "<polyline clip-path=\"url(#clip040)\" style=\"stroke:#000000; stroke-linecap:butt; stroke-linejoin:round; stroke-width:4; stroke-opacity:1; fill:none\" points=\"\n",
       "  2614.9,798.92 2614.9,780.022 \n",
       "  \"/>\n",
       "<polyline clip-path=\"url(#clip040)\" style=\"stroke:#000000; stroke-linecap:butt; stroke-linejoin:round; stroke-width:4; stroke-opacity:1; fill:none\" points=\"\n",
       "  2857.42,798.92 2857.42,780.022 \n",
       "  \"/>\n",
       "<polyline clip-path=\"url(#clip040)\" style=\"stroke:#000000; stroke-linecap:butt; stroke-linejoin:round; stroke-width:4; stroke-opacity:1; fill:none\" points=\"\n",
       "  3099.94,798.92 3099.94,780.022 \n",
       "  \"/>\n",
       "<polyline clip-path=\"url(#clip040)\" style=\"stroke:#000000; stroke-linecap:butt; stroke-linejoin:round; stroke-width:4; stroke-opacity:1; fill:none\" points=\"\n",
       "  3342.46,798.92 3342.46,780.022 \n",
       "  \"/>\n",
       "<polyline clip-path=\"url(#clip040)\" style=\"stroke:#000000; stroke-linecap:butt; stroke-linejoin:round; stroke-width:4; stroke-opacity:1; fill:none\" points=\"\n",
       "  3584.98,798.92 3584.98,780.022 \n",
       "  \"/>\n",
       "<polyline clip-path=\"url(#clip040)\" style=\"stroke:#000000; stroke-linecap:butt; stroke-linejoin:round; stroke-width:4; stroke-opacity:1; fill:none\" points=\"\n",
       "  3827.5,798.92 3827.5,780.022 \n",
       "  \"/>\n",
       "<path clip-path=\"url(#clip040)\" d=\"M2353.51 843.634 L2341.7 862.083 L2353.51 862.083 L2353.51 843.634 M2352.28 839.56 L2358.16 839.56 L2358.16 862.083 L2363.09 862.083 L2363.09 865.972 L2358.16 865.972 L2358.16 874.12 L2353.51 874.12 L2353.51 865.972 L2337.91 865.972 L2337.91 861.458 L2352.28 839.56 Z\" fill=\"#000000\" fill-rule=\"evenodd\" fill-opacity=\"1\" /><path clip-path=\"url(#clip040)\" d=\"M2370.82 868.24 L2375.71 868.24 L2375.71 874.12 L2370.82 874.12 L2370.82 868.24 Z\" fill=\"#000000\" fill-rule=\"evenodd\" fill-opacity=\"1\" /><path clip-path=\"url(#clip040)\" d=\"M2385.94 839.56 L2404.3 839.56 L2404.3 843.495 L2390.22 843.495 L2390.22 851.967 Q2391.24 851.62 2392.26 851.458 Q2393.28 851.273 2394.3 851.273 Q2400.08 851.273 2403.46 854.444 Q2406.84 857.615 2406.84 863.032 Q2406.84 868.611 2403.37 871.712 Q2399.9 874.791 2393.58 874.791 Q2391.4 874.791 2389.13 874.421 Q2386.89 874.05 2384.48 873.31 L2384.48 868.611 Q2386.56 869.745 2388.79 870.3 Q2391.01 870.856 2393.49 870.856 Q2397.49 870.856 2399.83 868.75 Q2402.17 866.643 2402.17 863.032 Q2402.17 859.421 2399.83 857.314 Q2397.49 855.208 2393.49 855.208 Q2391.61 855.208 2389.74 855.625 Q2387.88 856.041 2385.94 856.921 L2385.94 839.56 Z\" fill=\"#000000\" fill-rule=\"evenodd\" fill-opacity=\"1\" /><path clip-path=\"url(#clip040)\" d=\"M2582.06 839.56 L2600.42 839.56 L2600.42 843.495 L2586.34 843.495 L2586.34 851.967 Q2587.36 851.62 2588.38 851.458 Q2589.4 851.273 2590.42 851.273 Q2596.2 851.273 2599.58 854.444 Q2602.96 857.615 2602.96 863.032 Q2602.96 868.611 2599.49 871.712 Q2596.02 874.791 2589.7 874.791 Q2587.52 874.791 2585.25 874.421 Q2583.01 874.05 2580.6 873.31 L2580.6 868.611 Q2582.68 869.745 2584.91 870.3 Q2587.13 870.856 2589.61 870.856 Q2593.61 870.856 2595.95 868.75 Q2598.29 866.643 2598.29 863.032 Q2598.29 859.421 2595.95 857.314 Q2593.61 855.208 2589.61 855.208 Q2587.73 855.208 2585.86 855.625 Q2584 856.041 2582.06 856.921 L2582.06 839.56 Z\" fill=\"#000000\" fill-rule=\"evenodd\" fill-opacity=\"1\" /><path clip-path=\"url(#clip040)\" d=\"M2612.18 868.24 L2617.06 868.24 L2617.06 874.12 L2612.18 874.12 L2612.18 868.24 Z\" fill=\"#000000\" fill-rule=\"evenodd\" fill-opacity=\"1\" /><path clip-path=\"url(#clip040)\" d=\"M2637.24 842.639 Q2633.63 842.639 2631.81 846.203 Q2630 849.745 2630 856.875 Q2630 863.981 2631.81 867.546 Q2633.63 871.087 2637.24 871.087 Q2640.88 871.087 2642.68 867.546 Q2644.51 863.981 2644.51 856.875 Q2644.51 849.745 2642.68 846.203 Q2640.88 842.639 2637.24 842.639 M2637.24 838.935 Q2643.06 838.935 2646.11 843.541 Q2649.19 848.125 2649.19 856.875 Q2649.19 865.601 2646.11 870.208 Q2643.06 874.791 2637.24 874.791 Q2631.43 874.791 2628.36 870.208 Q2625.3 865.601 2625.3 856.875 Q2625.3 848.125 2628.36 843.541 Q2631.43 838.935 2637.24 838.935 Z\" fill=\"#000000\" fill-rule=\"evenodd\" fill-opacity=\"1\" /><path clip-path=\"url(#clip040)\" d=\"M2825.08 839.56 L2843.44 839.56 L2843.44 843.495 L2829.36 843.495 L2829.36 851.967 Q2830.38 851.62 2831.4 851.458 Q2832.42 851.273 2833.44 851.273 Q2839.22 851.273 2842.6 854.444 Q2845.98 857.615 2845.98 863.032 Q2845.98 868.611 2842.51 871.712 Q2839.04 874.791 2832.72 874.791 Q2830.54 874.791 2828.27 874.421 Q2826.03 874.05 2823.62 873.31 L2823.62 868.611 Q2825.7 869.745 2827.93 870.3 Q2830.15 870.856 2832.62 870.856 Q2836.63 870.856 2838.97 868.75 Q2841.31 866.643 2841.31 863.032 Q2841.31 859.421 2838.97 857.314 Q2836.63 855.208 2832.62 855.208 Q2830.75 855.208 2828.87 855.625 Q2827.02 856.041 2825.08 856.921 L2825.08 839.56 Z\" fill=\"#000000\" fill-rule=\"evenodd\" fill-opacity=\"1\" /><path clip-path=\"url(#clip040)\" d=\"M2855.19 868.24 L2860.08 868.24 L2860.08 874.12 L2855.19 874.12 L2855.19 868.24 Z\" fill=\"#000000\" fill-rule=\"evenodd\" fill-opacity=\"1\" /><path clip-path=\"url(#clip040)\" d=\"M2870.31 839.56 L2888.67 839.56 L2888.67 843.495 L2874.59 843.495 L2874.59 851.967 Q2875.61 851.62 2876.63 851.458 Q2877.65 851.273 2878.67 851.273 Q2884.45 851.273 2887.83 854.444 Q2891.21 857.615 2891.21 863.032 Q2891.21 868.611 2887.74 871.712 Q2884.27 874.791 2877.95 874.791 Q2875.77 874.791 2873.5 874.421 Q2871.26 874.05 2868.85 873.31 L2868.85 868.611 Q2870.93 869.745 2873.16 870.3 Q2875.38 870.856 2877.86 870.856 Q2881.86 870.856 2884.2 868.75 Q2886.54 866.643 2886.54 863.032 Q2886.54 859.421 2884.2 857.314 Q2881.86 855.208 2877.86 855.208 Q2875.98 855.208 2874.11 855.625 Q2872.25 856.041 2870.31 856.921 L2870.31 839.56 Z\" fill=\"#000000\" fill-rule=\"evenodd\" fill-opacity=\"1\" /><path clip-path=\"url(#clip040)\" d=\"M3077.81 854.976 Q3074.66 854.976 3072.81 857.129 Q3070.98 859.282 3070.98 863.032 Q3070.98 866.759 3072.81 868.935 Q3074.66 871.087 3077.81 871.087 Q3080.96 871.087 3082.78 868.935 Q3084.64 866.759 3084.64 863.032 Q3084.64 859.282 3082.78 857.129 Q3080.96 854.976 3077.81 854.976 M3087.09 840.324 L3087.09 844.583 Q3085.33 843.75 3083.53 843.31 Q3081.74 842.87 3079.98 842.87 Q3075.35 842.87 3072.9 845.995 Q3070.47 849.12 3070.12 855.439 Q3071.49 853.426 3073.55 852.361 Q3075.61 851.273 3078.09 851.273 Q3083.29 851.273 3086.3 854.444 Q3089.34 857.592 3089.34 863.032 Q3089.34 868.356 3086.19 871.574 Q3083.04 874.791 3077.81 874.791 Q3071.81 874.791 3068.64 870.208 Q3065.47 865.601 3065.47 856.875 Q3065.47 848.68 3069.36 843.819 Q3073.25 838.935 3079.8 838.935 Q3081.56 838.935 3083.34 839.282 Q3085.15 839.629 3087.09 840.324 Z\" fill=\"#000000\" fill-rule=\"evenodd\" fill-opacity=\"1\" /><path clip-path=\"url(#clip040)\" d=\"M3097.39 868.24 L3102.28 868.24 L3102.28 874.12 L3097.39 874.12 L3097.39 868.24 Z\" fill=\"#000000\" fill-rule=\"evenodd\" fill-opacity=\"1\" /><path clip-path=\"url(#clip040)\" d=\"M3122.46 842.639 Q3118.85 842.639 3117.02 846.203 Q3115.22 849.745 3115.22 856.875 Q3115.22 863.981 3117.02 867.546 Q3118.85 871.087 3122.46 871.087 Q3126.09 871.087 3127.9 867.546 Q3129.73 863.981 3129.73 856.875 Q3129.73 849.745 3127.9 846.203 Q3126.09 842.639 3122.46 842.639 M3122.46 838.935 Q3128.27 838.935 3131.33 843.541 Q3134.4 848.125 3134.4 856.875 Q3134.4 865.601 3131.33 870.208 Q3128.27 874.791 3122.46 874.791 Q3116.65 874.791 3113.57 870.208 Q3110.52 865.601 3110.52 856.875 Q3110.52 848.125 3113.57 843.541 Q3116.65 838.935 3122.46 838.935 Z\" fill=\"#000000\" fill-rule=\"evenodd\" fill-opacity=\"1\" /><path clip-path=\"url(#clip040)\" d=\"M3320.83 854.976 Q3317.68 854.976 3315.83 857.129 Q3314 859.282 3314 863.032 Q3314 866.759 3315.83 868.935 Q3317.68 871.087 3320.83 871.087 Q3323.97 871.087 3325.8 868.935 Q3327.66 866.759 3327.66 863.032 Q3327.66 859.282 3325.8 857.129 Q3323.97 854.976 3320.83 854.976 M3330.11 840.324 L3330.11 844.583 Q3328.35 843.75 3326.54 843.31 Q3324.76 842.87 3323 842.87 Q3318.37 842.87 3315.92 845.995 Q3313.49 849.12 3313.14 855.439 Q3314.51 853.426 3316.57 852.361 Q3318.63 851.273 3321.1 851.273 Q3326.31 851.273 3329.32 854.444 Q3332.35 857.592 3332.35 863.032 Q3332.35 868.356 3329.21 871.574 Q3326.06 874.791 3320.83 874.791 Q3314.83 874.791 3311.66 870.208 Q3308.49 865.601 3308.49 856.875 Q3308.49 848.68 3312.38 843.819 Q3316.27 838.935 3322.82 838.935 Q3324.58 838.935 3326.36 839.282 Q3328.16 839.629 3330.11 840.324 Z\" fill=\"#000000\" fill-rule=\"evenodd\" fill-opacity=\"1\" /><path clip-path=\"url(#clip040)\" d=\"M3340.41 868.24 L3345.29 868.24 L3345.29 874.12 L3340.41 874.12 L3340.41 868.24 Z\" fill=\"#000000\" fill-rule=\"evenodd\" fill-opacity=\"1\" /><path clip-path=\"url(#clip040)\" d=\"M3355.53 839.56 L3373.88 839.56 L3373.88 843.495 L3359.81 843.495 L3359.81 851.967 Q3360.83 851.62 3361.84 851.458 Q3362.86 851.273 3363.88 851.273 Q3369.67 851.273 3373.05 854.444 Q3376.43 857.615 3376.43 863.032 Q3376.43 868.611 3372.96 871.712 Q3369.48 874.791 3363.16 874.791 Q3360.99 874.791 3358.72 874.421 Q3356.47 874.05 3354.07 873.31 L3354.07 868.611 Q3356.15 869.745 3358.37 870.3 Q3360.59 870.856 3363.07 870.856 Q3367.08 870.856 3369.41 868.75 Q3371.75 866.643 3371.75 863.032 Q3371.75 859.421 3369.41 857.314 Q3367.08 855.208 3363.07 855.208 Q3361.2 855.208 3359.32 855.625 Q3357.47 856.041 3355.53 856.921 L3355.53 839.56 Z\" fill=\"#000000\" fill-rule=\"evenodd\" fill-opacity=\"1\" /><path clip-path=\"url(#clip040)\" d=\"M3550.8 839.56 L3573.02 839.56 L3573.02 841.551 L3560.48 874.12 L3555.59 874.12 L3567.4 843.495 L3550.8 843.495 L3550.8 839.56 Z\" fill=\"#000000\" fill-rule=\"evenodd\" fill-opacity=\"1\" /><path clip-path=\"url(#clip040)\" d=\"M3582.14 868.24 L3587.03 868.24 L3587.03 874.12 L3582.14 874.12 L3582.14 868.24 Z\" fill=\"#000000\" fill-rule=\"evenodd\" fill-opacity=\"1\" /><path clip-path=\"url(#clip040)\" d=\"M3607.21 842.639 Q3603.6 842.639 3601.77 846.203 Q3599.97 849.745 3599.97 856.875 Q3599.97 863.981 3601.77 867.546 Q3603.6 871.087 3607.21 871.087 Q3610.85 871.087 3612.65 867.546 Q3614.48 863.981 3614.48 856.875 Q3614.48 849.745 3612.65 846.203 Q3610.85 842.639 3607.21 842.639 M3607.21 838.935 Q3613.02 838.935 3616.08 843.541 Q3619.16 848.125 3619.16 856.875 Q3619.16 865.601 3616.08 870.208 Q3613.02 874.791 3607.21 874.791 Q3601.4 874.791 3598.32 870.208 Q3595.27 865.601 3595.27 856.875 Q3595.27 848.125 3598.32 843.541 Q3601.4 838.935 3607.21 838.935 Z\" fill=\"#000000\" fill-rule=\"evenodd\" fill-opacity=\"1\" /><path clip-path=\"url(#clip040)\" d=\"M3793.82 839.56 L3816.04 839.56 L3816.04 841.551 L3803.5 874.12 L3798.61 874.12 L3810.42 843.495 L3793.82 843.495 L3793.82 839.56 Z\" fill=\"#000000\" fill-rule=\"evenodd\" fill-opacity=\"1\" /><path clip-path=\"url(#clip040)\" d=\"M3825.16 868.24 L3830.05 868.24 L3830.05 874.12 L3825.16 874.12 L3825.16 868.24 Z\" fill=\"#000000\" fill-rule=\"evenodd\" fill-opacity=\"1\" /><path clip-path=\"url(#clip040)\" d=\"M3840.28 839.56 L3858.63 839.56 L3858.63 843.495 L3844.56 843.495 L3844.56 851.967 Q3845.58 851.62 3846.6 851.458 Q3847.62 851.273 3848.63 851.273 Q3854.42 851.273 3857.8 854.444 Q3861.18 857.615 3861.18 863.032 Q3861.18 868.611 3857.71 871.712 Q3854.24 874.791 3847.92 874.791 Q3845.74 874.791 3843.47 874.421 Q3841.23 874.05 3838.82 873.31 L3838.82 868.611 Q3840.9 869.745 3843.13 870.3 Q3845.35 870.856 3847.82 870.856 Q3851.83 870.856 3854.17 868.75 Q3856.5 866.643 3856.5 863.032 Q3856.5 859.421 3854.17 857.314 Q3851.83 855.208 3847.82 855.208 Q3845.95 855.208 3844.07 855.625 Q3842.22 856.041 3840.28 856.921 L3840.28 839.56 Z\" fill=\"#000000\" fill-rule=\"evenodd\" fill-opacity=\"1\" /><path clip-path=\"url(#clip040)\" d=\"M2927.04 921.823 L2927.04 928.094 Q2923.38 926.343 2920.13 925.484 Q2916.88 924.624 2913.86 924.624 Q2908.61 924.624 2905.74 926.661 Q2902.91 928.698 2902.91 932.454 Q2902.91 935.605 2904.79 937.228 Q2906.7 938.82 2911.98 939.807 L2915.86 940.602 Q2923.06 941.971 2926.46 945.44 Q2929.9 948.878 2929.9 954.67 Q2929.9 961.577 2925.25 965.142 Q2920.64 968.707 2911.69 968.707 Q2908.32 968.707 2904.5 967.943 Q2900.71 967.179 2896.64 965.683 L2896.64 959.063 Q2900.55 961.259 2904.31 962.373 Q2908.07 963.487 2911.69 963.487 Q2917.2 963.487 2920.19 961.323 Q2923.18 959.158 2923.18 955.148 Q2923.18 951.647 2921.02 949.673 Q2918.89 947.7 2913.99 946.713 L2910.07 945.949 Q2902.88 944.517 2899.66 941.462 Q2896.45 938.406 2896.45 932.963 Q2896.45 926.661 2900.87 923.033 Q2905.33 919.404 2913.13 919.404 Q2916.47 919.404 2919.94 920.009 Q2923.41 920.614 2927.04 921.823 Z\" fill=\"#000000\" fill-rule=\"evenodd\" fill-opacity=\"1\" /><path clip-path=\"url(#clip040)\" d=\"M2955.87 949.864 Q2948.77 949.864 2946.04 951.488 Q2943.3 953.111 2943.3 957.026 Q2943.3 960.145 2945.34 961.991 Q2947.41 963.805 2950.94 963.805 Q2955.81 963.805 2958.74 960.368 Q2961.7 956.898 2961.7 951.169 L2961.7 949.864 L2955.87 949.864 M2967.55 947.445 L2967.55 967.784 L2961.7 967.784 L2961.7 962.373 Q2959.69 965.62 2956.7 967.179 Q2953.71 968.707 2949.38 968.707 Q2943.91 968.707 2940.66 965.651 Q2937.44 962.564 2937.44 957.408 Q2937.44 951.392 2941.45 948.337 Q2945.5 945.281 2953.49 945.281 L2961.7 945.281 L2961.7 944.708 Q2961.7 940.666 2959.02 938.47 Q2956.38 936.242 2951.58 936.242 Q2948.52 936.242 2945.62 936.974 Q2942.73 937.706 2940.05 939.17 L2940.05 933.759 Q2943.27 932.518 2946.29 931.913 Q2949.32 931.277 2952.18 931.277 Q2959.91 931.277 2963.73 935.287 Q2967.55 939.297 2967.55 947.445 Z\" fill=\"#000000\" fill-rule=\"evenodd\" fill-opacity=\"1\" /><path clip-path=\"url(#clip040)\" d=\"M3007.37 938.979 Q3009.57 935.032 3012.62 933.154 Q3015.68 931.277 3019.82 931.277 Q3025.39 931.277 3028.41 935.191 Q3031.43 939.075 3031.43 946.268 L3031.43 967.784 L3025.55 967.784 L3025.55 946.459 Q3025.55 941.334 3023.73 938.852 Q3021.92 936.369 3018.19 936.369 Q3013.64 936.369 3011 939.393 Q3008.36 942.417 3008.36 947.636 L3008.36 967.784 L3002.47 967.784 L3002.47 946.459 Q3002.47 941.303 3000.66 938.852 Q2998.84 936.369 2995.05 936.369 Q2990.57 936.369 2987.92 939.425 Q2985.28 942.448 2985.28 947.636 L2985.28 967.784 L2979.39 967.784 L2979.39 932.136 L2985.28 932.136 L2985.28 937.674 Q2987.29 934.396 2990.09 932.836 Q2992.89 931.277 2996.74 931.277 Q3000.62 931.277 3003.33 933.25 Q3006.07 935.223 3007.37 938.979 Z\" fill=\"#000000\" fill-rule=\"evenodd\" fill-opacity=\"1\" /><path clip-path=\"url(#clip040)\" d=\"M3048.78 962.437 L3048.78 981.343 L3042.89 981.343 L3042.89 932.136 L3048.78 932.136 L3048.78 937.547 Q3050.63 934.364 3053.43 932.836 Q3056.26 931.277 3060.17 931.277 Q3066.67 931.277 3070.71 936.433 Q3074.78 941.589 3074.78 949.992 Q3074.78 958.394 3070.71 963.551 Q3066.67 968.707 3060.17 968.707 Q3056.26 968.707 3053.43 967.179 Q3050.63 965.62 3048.78 962.437 M3068.7 949.992 Q3068.7 943.531 3066.03 939.87 Q3063.39 936.178 3058.74 936.178 Q3054.1 936.178 3051.42 939.87 Q3048.78 943.531 3048.78 949.992 Q3048.78 956.453 3051.42 960.145 Q3054.1 963.805 3058.74 963.805 Q3063.39 963.805 3066.03 960.145 Q3068.7 956.453 3068.7 949.992 Z\" fill=\"#000000\" fill-rule=\"evenodd\" fill-opacity=\"1\" /><path clip-path=\"url(#clip040)\" d=\"M3084.49 918.259 L3090.35 918.259 L3090.35 967.784 L3084.49 967.784 L3084.49 918.259 Z\" fill=\"#000000\" fill-rule=\"evenodd\" fill-opacity=\"1\" /><path clip-path=\"url(#clip040)\" d=\"M3133.09 948.496 L3133.09 951.36 L3106.17 951.36 Q3106.55 957.408 3109.8 960.591 Q3113.07 963.742 3118.9 963.742 Q3122.27 963.742 3125.42 962.914 Q3128.61 962.087 3131.73 960.431 L3131.73 965.97 Q3128.57 967.306 3125.26 968.007 Q3121.95 968.707 3118.55 968.707 Q3110.02 968.707 3105.02 963.742 Q3100.06 958.776 3100.06 950.31 Q3100.06 941.557 3104.77 936.433 Q3109.51 931.277 3117.53 931.277 Q3124.72 931.277 3128.89 935.923 Q3133.09 940.539 3133.09 948.496 M3127.24 946.777 Q3127.17 941.971 3124.53 939.106 Q3121.92 936.242 3117.59 936.242 Q3112.69 936.242 3109.73 939.011 Q3106.8 941.78 3106.36 946.809 L3127.24 946.777 Z\" fill=\"#000000\" fill-rule=\"evenodd\" fill-opacity=\"1\" /><path clip-path=\"url(#clip040)\" d=\"M3159.23 932.136 L3165.43 932.136 L3176.57 962.055 L3187.71 932.136 L3193.92 932.136 L3180.55 967.784 L3172.59 967.784 L3159.23 932.136 Z\" fill=\"#000000\" fill-rule=\"evenodd\" fill-opacity=\"1\" /><path clip-path=\"url(#clip040)\" d=\"M3218.2 949.864 Q3211.11 949.864 3208.37 951.488 Q3205.63 953.111 3205.63 957.026 Q3205.63 960.145 3207.67 961.991 Q3209.74 963.805 3213.27 963.805 Q3218.14 963.805 3221.07 960.368 Q3224.03 956.898 3224.03 951.169 L3224.03 949.864 L3218.2 949.864 M3229.88 947.445 L3229.88 967.784 L3224.03 967.784 L3224.03 962.373 Q3222.02 965.62 3219.03 967.179 Q3216.04 968.707 3211.71 968.707 Q3206.24 968.707 3202.99 965.651 Q3199.77 962.564 3199.77 957.408 Q3199.77 951.392 3203.79 948.337 Q3207.83 945.281 3215.82 945.281 L3224.03 945.281 L3224.03 944.708 Q3224.03 940.666 3221.35 938.47 Q3218.71 936.242 3213.91 936.242 Q3210.85 936.242 3207.95 936.974 Q3205.06 937.706 3202.38 939.17 L3202.38 933.759 Q3205.6 932.518 3208.62 931.913 Q3211.65 931.277 3214.51 931.277 Q3222.25 931.277 3226.07 935.287 Q3229.88 939.297 3229.88 947.445 Z\" fill=\"#000000\" fill-rule=\"evenodd\" fill-opacity=\"1\" /><path clip-path=\"url(#clip040)\" d=\"M3241.95 918.259 L3247.8 918.259 L3247.8 967.784 L3241.95 967.784 L3241.95 918.259 Z\" fill=\"#000000\" fill-rule=\"evenodd\" fill-opacity=\"1\" /><path clip-path=\"url(#clip040)\" d=\"M3259.45 953.716 L3259.45 932.136 L3265.31 932.136 L3265.31 953.493 Q3265.31 958.554 3267.28 961.1 Q3269.26 963.614 3273.2 963.614 Q3277.95 963.614 3280.68 960.591 Q3283.45 957.567 3283.45 952.347 L3283.45 932.136 L3289.31 932.136 L3289.31 967.784 L3283.45 967.784 L3283.45 962.309 Q3281.32 965.556 3278.49 967.147 Q3275.69 968.707 3271.96 968.707 Q3265.82 968.707 3262.64 964.887 Q3259.45 961.068 3259.45 953.716 M3274.19 931.277 L3274.19 931.277 Z\" fill=\"#000000\" fill-rule=\"evenodd\" fill-opacity=\"1\" /><path clip-path=\"url(#clip040)\" d=\"M3331.86 948.496 L3331.86 951.36 L3304.94 951.36 Q3305.32 957.408 3308.56 960.591 Q3311.84 963.742 3317.67 963.742 Q3321.04 963.742 3324.19 962.914 Q3327.38 962.087 3330.49 960.431 L3330.49 965.97 Q3327.34 967.306 3324.03 968.007 Q3320.72 968.707 3317.32 968.707 Q3308.79 968.707 3303.79 963.742 Q3298.83 958.776 3298.83 950.31 Q3298.83 941.557 3303.54 936.433 Q3308.28 931.277 3316.3 931.277 Q3323.49 931.277 3327.66 935.923 Q3331.86 940.539 3331.86 948.496 M3326.01 946.777 Q3325.94 941.971 3323.3 939.106 Q3320.69 936.242 3316.36 936.242 Q3311.46 936.242 3308.5 939.011 Q3305.57 941.78 3305.13 946.809 L3326.01 946.777 Z\" fill=\"#000000\" fill-rule=\"evenodd\" fill-opacity=\"1\" /><polyline clip-path=\"url(#clip043)\" style=\"stroke:#000000; stroke-linecap:butt; stroke-linejoin:round; stroke-width:2; stroke-opacity:0.1; fill:none\" points=\"\n",
       "  2275.56,781.617 3952.76,781.617 \n",
       "  \"/>\n",
       "<polyline clip-path=\"url(#clip043)\" style=\"stroke:#000000; stroke-linecap:butt; stroke-linejoin:round; stroke-width:2; stroke-opacity:0.1; fill:none\" points=\"\n",
       "  2275.56,646.938 3952.76,646.938 \n",
       "  \"/>\n",
       "<polyline clip-path=\"url(#clip043)\" style=\"stroke:#000000; stroke-linecap:butt; stroke-linejoin:round; stroke-width:2; stroke-opacity:0.1; fill:none\" points=\"\n",
       "  2275.56,512.26 3952.76,512.26 \n",
       "  \"/>\n",
       "<polyline clip-path=\"url(#clip043)\" style=\"stroke:#000000; stroke-linecap:butt; stroke-linejoin:round; stroke-width:2; stroke-opacity:0.1; fill:none\" points=\"\n",
       "  2275.56,377.582 3952.76,377.582 \n",
       "  \"/>\n",
       "<polyline clip-path=\"url(#clip043)\" style=\"stroke:#000000; stroke-linecap:butt; stroke-linejoin:round; stroke-width:2; stroke-opacity:0.1; fill:none\" points=\"\n",
       "  2275.56,242.904 3952.76,242.904 \n",
       "  \"/>\n",
       "<polyline clip-path=\"url(#clip040)\" style=\"stroke:#000000; stroke-linecap:butt; stroke-linejoin:round; stroke-width:4; stroke-opacity:1; fill:none\" points=\"\n",
       "  2275.56,798.92 2275.56,131.032 \n",
       "  \"/>\n",
       "<polyline clip-path=\"url(#clip040)\" style=\"stroke:#000000; stroke-linecap:butt; stroke-linejoin:round; stroke-width:4; stroke-opacity:1; fill:none\" points=\"\n",
       "  2275.56,781.617 2294.45,781.617 \n",
       "  \"/>\n",
       "<polyline clip-path=\"url(#clip040)\" style=\"stroke:#000000; stroke-linecap:butt; stroke-linejoin:round; stroke-width:4; stroke-opacity:1; fill:none\" points=\"\n",
       "  2275.56,646.938 2294.45,646.938 \n",
       "  \"/>\n",
       "<polyline clip-path=\"url(#clip040)\" style=\"stroke:#000000; stroke-linecap:butt; stroke-linejoin:round; stroke-width:4; stroke-opacity:1; fill:none\" points=\"\n",
       "  2275.56,512.26 2294.45,512.26 \n",
       "  \"/>\n",
       "<polyline clip-path=\"url(#clip040)\" style=\"stroke:#000000; stroke-linecap:butt; stroke-linejoin:round; stroke-width:4; stroke-opacity:1; fill:none\" points=\"\n",
       "  2275.56,377.582 2294.45,377.582 \n",
       "  \"/>\n",
       "<polyline clip-path=\"url(#clip040)\" style=\"stroke:#000000; stroke-linecap:butt; stroke-linejoin:round; stroke-width:4; stroke-opacity:1; fill:none\" points=\"\n",
       "  2275.56,242.904 2294.45,242.904 \n",
       "  \"/>\n",
       "<path clip-path=\"url(#clip040)\" d=\"M2158.38 767.415 Q2154.77 767.415 2152.94 770.98 Q2151.14 774.522 2151.14 781.651 Q2151.14 788.758 2152.94 792.323 Q2154.77 795.864 2158.38 795.864 Q2162.01 795.864 2163.82 792.323 Q2165.65 788.758 2165.65 781.651 Q2165.65 774.522 2163.82 770.98 Q2162.01 767.415 2158.38 767.415 M2158.38 763.712 Q2164.19 763.712 2167.25 768.318 Q2170.32 772.901 2170.32 781.651 Q2170.32 790.378 2167.25 794.985 Q2164.19 799.568 2158.38 799.568 Q2152.57 799.568 2149.49 794.985 Q2146.44 790.378 2146.44 781.651 Q2146.44 772.901 2149.49 768.318 Q2152.57 763.712 2158.38 763.712 Z\" fill=\"#000000\" fill-rule=\"evenodd\" fill-opacity=\"1\" /><path clip-path=\"url(#clip040)\" d=\"M2178.54 793.017 L2183.43 793.017 L2183.43 798.897 L2178.54 798.897 L2178.54 793.017 Z\" fill=\"#000000\" fill-rule=\"evenodd\" fill-opacity=\"1\" /><path clip-path=\"url(#clip040)\" d=\"M2203.61 767.415 Q2200 767.415 2198.17 770.98 Q2196.37 774.522 2196.37 781.651 Q2196.37 788.758 2198.17 792.323 Q2200 795.864 2203.61 795.864 Q2207.25 795.864 2209.05 792.323 Q2210.88 788.758 2210.88 781.651 Q2210.88 774.522 2209.05 770.98 Q2207.25 767.415 2203.61 767.415 M2203.61 763.712 Q2209.42 763.712 2212.48 768.318 Q2215.56 772.901 2215.56 781.651 Q2215.56 790.378 2212.48 794.985 Q2209.42 799.568 2203.61 799.568 Q2197.8 799.568 2194.72 794.985 Q2191.67 790.378 2191.67 781.651 Q2191.67 772.901 2194.72 768.318 Q2197.8 763.712 2203.61 763.712 Z\" fill=\"#000000\" fill-rule=\"evenodd\" fill-opacity=\"1\" /><path clip-path=\"url(#clip040)\" d=\"M2159.98 632.737 Q2156.37 632.737 2154.54 636.302 Q2152.73 639.843 2152.73 646.973 Q2152.73 654.08 2154.54 657.644 Q2156.37 661.186 2159.98 661.186 Q2163.61 661.186 2165.42 657.644 Q2167.25 654.08 2167.25 646.973 Q2167.25 639.843 2165.42 636.302 Q2163.61 632.737 2159.98 632.737 M2159.98 629.033 Q2165.79 629.033 2168.84 633.64 Q2171.92 638.223 2171.92 646.973 Q2171.92 655.7 2168.84 660.306 Q2165.79 664.89 2159.98 664.89 Q2154.17 664.89 2151.09 660.306 Q2148.03 655.7 2148.03 646.973 Q2148.03 638.223 2151.09 633.64 Q2154.17 629.033 2159.98 629.033 Z\" fill=\"#000000\" fill-rule=\"evenodd\" fill-opacity=\"1\" /><path clip-path=\"url(#clip040)\" d=\"M2180.14 658.339 L2185.02 658.339 L2185.02 664.218 L2180.14 664.218 L2180.14 658.339 Z\" fill=\"#000000\" fill-rule=\"evenodd\" fill-opacity=\"1\" /><path clip-path=\"url(#clip040)\" d=\"M2199.24 660.283 L2215.56 660.283 L2215.56 664.218 L2193.61 664.218 L2193.61 660.283 Q2196.27 657.529 2200.86 652.899 Q2205.46 648.246 2206.64 646.904 Q2208.89 644.38 2209.77 642.644 Q2210.67 640.885 2210.67 639.195 Q2210.67 636.441 2208.73 634.705 Q2206.81 632.969 2203.7 632.969 Q2201.51 632.969 2199.05 633.732 Q2196.62 634.496 2193.84 636.047 L2193.84 631.325 Q2196.67 630.191 2199.12 629.612 Q2201.57 629.033 2203.61 629.033 Q2208.98 629.033 2212.18 631.719 Q2215.37 634.404 2215.37 638.894 Q2215.37 641.024 2214.56 642.945 Q2213.77 644.843 2211.67 647.436 Q2211.09 648.107 2207.99 651.325 Q2204.88 654.519 2199.24 660.283 Z\" fill=\"#000000\" fill-rule=\"evenodd\" fill-opacity=\"1\" /><path clip-path=\"url(#clip040)\" d=\"M2157.89 498.059 Q2154.28 498.059 2152.45 501.624 Q2150.65 505.165 2150.65 512.295 Q2150.65 519.401 2152.45 522.966 Q2154.28 526.508 2157.89 526.508 Q2161.53 526.508 2163.33 522.966 Q2165.16 519.401 2165.16 512.295 Q2165.16 505.165 2163.33 501.624 Q2161.53 498.059 2157.89 498.059 M2157.89 494.355 Q2163.7 494.355 2166.76 498.962 Q2169.84 503.545 2169.84 512.295 Q2169.84 521.022 2166.76 525.628 Q2163.7 530.211 2157.89 530.211 Q2152.08 530.211 2149.01 525.628 Q2145.95 521.022 2145.95 512.295 Q2145.95 503.545 2149.01 498.962 Q2152.08 494.355 2157.89 494.355 Z\" fill=\"#000000\" fill-rule=\"evenodd\" fill-opacity=\"1\" /><path clip-path=\"url(#clip040)\" d=\"M2178.06 523.66 L2182.94 523.66 L2182.94 529.54 L2178.06 529.54 L2178.06 523.66 Z\" fill=\"#000000\" fill-rule=\"evenodd\" fill-opacity=\"1\" /><path clip-path=\"url(#clip040)\" d=\"M2205.97 499.054 L2194.17 517.503 L2205.97 517.503 L2205.97 499.054 M2204.75 494.98 L2210.63 494.98 L2210.63 517.503 L2215.56 517.503 L2215.56 521.392 L2210.63 521.392 L2210.63 529.54 L2205.97 529.54 L2205.97 521.392 L2190.37 521.392 L2190.37 516.878 L2204.75 494.98 Z\" fill=\"#000000\" fill-rule=\"evenodd\" fill-opacity=\"1\" /><path clip-path=\"url(#clip040)\" d=\"M2158.22 363.38 Q2154.61 363.38 2152.78 366.945 Q2150.97 370.487 2150.97 377.617 Q2150.97 384.723 2152.78 388.288 Q2154.61 391.829 2158.22 391.829 Q2161.85 391.829 2163.66 388.288 Q2165.49 384.723 2165.49 377.617 Q2165.49 370.487 2163.66 366.945 Q2161.85 363.38 2158.22 363.38 M2158.22 359.677 Q2164.03 359.677 2167.08 364.283 Q2170.16 368.867 2170.16 377.617 Q2170.16 386.343 2167.08 390.95 Q2164.03 395.533 2158.22 395.533 Q2152.41 395.533 2149.33 390.95 Q2146.27 386.343 2146.27 377.617 Q2146.27 368.867 2149.33 364.283 Q2152.41 359.677 2158.22 359.677 Z\" fill=\"#000000\" fill-rule=\"evenodd\" fill-opacity=\"1\" /><path clip-path=\"url(#clip040)\" d=\"M2178.38 388.982 L2183.26 388.982 L2183.26 394.862 L2178.38 394.862 L2178.38 388.982 Z\" fill=\"#000000\" fill-rule=\"evenodd\" fill-opacity=\"1\" /><path clip-path=\"url(#clip040)\" d=\"M2204.03 375.718 Q2200.88 375.718 2199.03 377.871 Q2197.2 380.024 2197.2 383.774 Q2197.2 387.501 2199.03 389.677 Q2200.88 391.829 2204.03 391.829 Q2207.18 391.829 2209.01 389.677 Q2210.86 387.501 2210.86 383.774 Q2210.86 380.024 2209.01 377.871 Q2207.18 375.718 2204.03 375.718 M2213.31 361.066 L2213.31 365.325 Q2211.55 364.492 2209.75 364.052 Q2207.96 363.612 2206.2 363.612 Q2201.57 363.612 2199.12 366.737 Q2196.69 369.862 2196.34 376.181 Q2197.71 374.167 2199.77 373.103 Q2201.83 372.015 2204.31 372.015 Q2209.51 372.015 2212.52 375.186 Q2215.56 378.334 2215.56 383.774 Q2215.56 389.098 2212.41 392.316 Q2209.26 395.533 2204.03 395.533 Q2198.03 395.533 2194.86 390.95 Q2191.69 386.343 2191.69 377.617 Q2191.69 369.422 2195.58 364.561 Q2199.47 359.677 2206.02 359.677 Q2207.78 359.677 2209.56 360.024 Q2211.37 360.371 2213.31 361.066 Z\" fill=\"#000000\" fill-rule=\"evenodd\" fill-opacity=\"1\" /><path clip-path=\"url(#clip040)\" d=\"M2158.47 228.702 Q2154.86 228.702 2153.03 232.267 Q2151.23 235.809 2151.23 242.938 Q2151.23 250.045 2153.03 253.609 Q2154.86 257.151 2158.47 257.151 Q2162.11 257.151 2163.91 253.609 Q2165.74 250.045 2165.74 242.938 Q2165.74 235.809 2163.91 232.267 Q2162.11 228.702 2158.47 228.702 M2158.47 224.999 Q2164.28 224.999 2167.34 229.605 Q2170.42 234.188 2170.42 242.938 Q2170.42 251.665 2167.34 256.271 Q2164.28 260.855 2158.47 260.855 Q2152.66 260.855 2149.58 256.271 Q2146.53 251.665 2146.53 242.938 Q2146.53 234.188 2149.58 229.605 Q2152.66 224.999 2158.47 224.999 Z\" fill=\"#000000\" fill-rule=\"evenodd\" fill-opacity=\"1\" /><path clip-path=\"url(#clip040)\" d=\"M2178.63 254.304 L2183.52 254.304 L2183.52 260.184 L2178.63 260.184 L2178.63 254.304 Z\" fill=\"#000000\" fill-rule=\"evenodd\" fill-opacity=\"1\" /><path clip-path=\"url(#clip040)\" d=\"M2203.7 243.772 Q2200.37 243.772 2198.45 245.554 Q2196.55 247.336 2196.55 250.461 Q2196.55 253.586 2198.45 255.369 Q2200.37 257.151 2203.7 257.151 Q2207.04 257.151 2208.96 255.369 Q2210.88 253.563 2210.88 250.461 Q2210.88 247.336 2208.96 245.554 Q2207.06 243.772 2203.7 243.772 M2199.03 241.781 Q2196.02 241.04 2194.33 238.98 Q2192.66 236.92 2192.66 233.957 Q2192.66 229.813 2195.6 227.406 Q2198.57 224.999 2203.7 224.999 Q2208.87 224.999 2211.81 227.406 Q2214.75 229.813 2214.75 233.957 Q2214.75 236.92 2213.06 238.98 Q2211.39 241.04 2208.4 241.781 Q2211.78 242.568 2213.66 244.86 Q2215.56 247.151 2215.56 250.461 Q2215.56 255.484 2212.48 258.17 Q2209.42 260.855 2203.7 260.855 Q2197.99 260.855 2194.91 258.17 Q2191.85 255.484 2191.85 250.461 Q2191.85 247.151 2193.75 244.86 Q2195.65 242.568 2199.03 241.781 M2197.32 234.397 Q2197.32 237.082 2198.98 238.586 Q2200.67 240.091 2203.7 240.091 Q2206.71 240.091 2208.4 238.586 Q2210.12 237.082 2210.12 234.397 Q2210.12 231.711 2208.4 230.207 Q2206.71 228.702 2203.7 228.702 Q2200.67 228.702 2198.98 230.207 Q2197.32 231.711 2197.32 234.397 Z\" fill=\"#000000\" fill-rule=\"evenodd\" fill-opacity=\"1\" /><path clip-path=\"url(#clip040)\" d=\"M2029.46 578.286 L2066.41 578.286 L2066.41 570.519 Q2066.41 560.684 2061.95 556.133 Q2057.5 551.55 2047.89 551.55 Q2038.34 551.55 2033.91 556.133 Q2029.46 560.684 2029.46 570.519 L2029.46 578.286 M2024.17 584.715 L2024.17 571.506 Q2024.17 557.693 2029.93 551.231 Q2035.66 544.77 2047.89 544.77 Q2060.17 544.77 2065.93 551.263 Q2071.69 557.756 2071.69 571.506 L2071.69 584.715 L2024.17 584.715 Z\" fill=\"#000000\" fill-rule=\"evenodd\" fill-opacity=\"1\" /><path clip-path=\"url(#clip040)\" d=\"M2052.41 504.284 L2055.27 504.284 L2055.27 531.211 Q2061.32 530.829 2064.5 527.583 Q2067.65 524.304 2067.65 518.48 Q2067.65 515.106 2066.82 511.955 Q2066 508.772 2064.34 505.653 L2069.88 505.653 Q2071.22 508.804 2071.92 512.114 Q2072.62 515.424 2072.62 518.83 Q2072.62 527.36 2067.65 532.357 Q2062.69 537.322 2054.22 537.322 Q2045.47 537.322 2040.34 532.612 Q2035.19 527.869 2035.19 519.848 Q2035.19 512.655 2039.83 508.486 Q2044.45 504.284 2052.41 504.284 M2050.69 510.141 Q2045.88 510.204 2043.02 512.846 Q2040.15 515.456 2040.15 519.785 Q2040.15 524.686 2042.92 527.646 Q2045.69 530.575 2050.72 531.02 L2050.69 510.141 Z\" fill=\"#000000\" fill-rule=\"evenodd\" fill-opacity=\"1\" /><path clip-path=\"url(#clip040)\" d=\"M2050.18 465.04 L2071.69 465.04 L2071.69 470.896 L2050.37 470.896 Q2045.31 470.896 2042.79 472.869 Q2040.28 474.843 2040.28 478.79 Q2040.28 483.532 2043.3 486.269 Q2046.33 489.007 2051.55 489.007 L2071.69 489.007 L2071.69 494.895 L2036.05 494.895 L2036.05 489.007 L2041.58 489.007 Q2038.37 486.906 2036.78 484.073 Q2035.19 481.209 2035.19 477.485 Q2035.19 471.342 2039.01 468.191 Q2042.79 465.04 2050.18 465.04 Z\" fill=\"#000000\" fill-rule=\"evenodd\" fill-opacity=\"1\" /><path clip-path=\"url(#clip040)\" d=\"M2037.1 430.633 L2042.63 430.633 Q2041.36 433.116 2040.72 435.789 Q2040.09 438.463 2040.09 441.327 Q2040.09 445.688 2041.43 447.884 Q2042.76 450.048 2045.44 450.048 Q2047.47 450.048 2048.65 448.489 Q2049.8 446.929 2050.85 442.219 L2051.29 440.213 Q2052.63 433.975 2055.08 431.365 Q2057.5 428.723 2061.86 428.723 Q2066.82 428.723 2069.72 432.67 Q2072.62 436.585 2072.62 443.46 Q2072.62 446.324 2072.04 449.444 Q2071.5 452.531 2070.39 455.969 L2064.34 455.969 Q2066.03 452.722 2066.89 449.571 Q2067.72 446.42 2067.72 443.333 Q2067.72 439.195 2066.31 436.967 Q2064.88 434.739 2062.3 434.739 Q2059.92 434.739 2058.64 436.362 Q2057.37 437.954 2056.19 443.396 L2055.72 445.433 Q2054.57 450.876 2052.21 453.295 Q2049.83 455.714 2045.69 455.714 Q2040.66 455.714 2037.92 452.149 Q2035.19 448.584 2035.19 442.028 Q2035.19 438.781 2035.66 435.917 Q2036.14 433.052 2037.1 430.633 Z\" fill=\"#000000\" fill-rule=\"evenodd\" fill-opacity=\"1\" /><path clip-path=\"url(#clip040)\" d=\"M2036.05 419.398 L2036.05 413.541 L2071.69 413.541 L2071.69 419.398 L2036.05 419.398 M2022.17 419.398 L2022.17 413.541 L2029.58 413.541 L2029.58 419.398 L2022.17 419.398 Z\" fill=\"#000000\" fill-rule=\"evenodd\" fill-opacity=\"1\" /><path clip-path=\"url(#clip040)\" d=\"M2025.92 395.494 L2036.05 395.494 L2036.05 383.431 L2040.6 383.431 L2040.6 395.494 L2059.95 395.494 Q2064.31 395.494 2065.55 394.317 Q2066.79 393.107 2066.79 389.447 L2066.79 383.431 L2071.69 383.431 L2071.69 389.447 Q2071.69 396.226 2069.18 398.804 Q2066.63 401.383 2059.95 401.383 L2040.6 401.383 L2040.6 405.679 L2036.05 405.679 L2036.05 401.383 L2025.92 401.383 L2025.92 395.494 Z\" fill=\"#000000\" fill-rule=\"evenodd\" fill-opacity=\"1\" /><path clip-path=\"url(#clip040)\" d=\"M2075 360.897 Q2081.37 363.379 2083.31 365.735 Q2085.25 368.09 2085.25 372.037 L2085.25 376.715 L2080.35 376.715 L2080.35 373.278 Q2080.35 370.859 2079.21 369.522 Q2078.06 368.185 2073.79 366.562 L2071.12 365.512 L2036.05 379.93 L2036.05 373.724 L2063.93 362.584 L2036.05 351.444 L2036.05 345.237 L2075 360.897 Z\" fill=\"#000000\" fill-rule=\"evenodd\" fill-opacity=\"1\" /><path clip-path=\"url(#clip040)\" d=\"M3120.78 51.4708 L3119 42.1132 Q3117.17 32.5126 3109.96 32.5126 Q3104.54 32.5126 3102.06 36.9686 Q3098.94 42.5588 3098.94 49.9314 Q3098.94 58.8434 3101.98 63.0969 Q3105.06 67.4314 3109.96 67.4314 Q3115.39 67.4314 3118.31 58.8029 L3120.78 51.4708 M3124.95 39.075 L3128.96 27.2059 L3135.61 27.2059 L3127.3 51.7949 L3128.92 60.6663 Q3129.29 62.6513 3130.7 64.3122 Q3132.36 66.2566 3133.66 66.2566 L3137.23 66.2566 L3137.23 72.576 L3132.77 72.576 Q3128.96 72.576 3125.56 69.1732 Q3123.9 67.4719 3123.21 63.9071 Q3121.35 68.4036 3117.54 71.9279 Q3115.76 73.5887 3109.96 73.5887 Q3100.44 73.5887 3095.83 67.4314 Q3091.09 61.0714 3091.09 49.9314 Q3091.09 38.0218 3096.23 32.4315 Q3101.94 26.1931 3109.96 26.1931 Q3122.56 26.1931 3124.95 39.075 Z\" fill=\"#000000\" fill-rule=\"evenodd\" fill-opacity=\"1\" /><polyline clip-path=\"url(#clip043)\" style=\"stroke:#009af9; stroke-linecap:butt; stroke-linejoin:round; stroke-width:4; stroke-opacity:1; fill:none\" points=\"\n",
       "  2323.02,778.338 2332.73,777.777 2342.44,777.171 2352.15,776.513 2361.85,775.792 2371.56,774.998 2381.27,774.124 2390.97,773.172 2400.68,772.157 2410.39,771.11 \n",
       "  2420.1,770.078 2429.8,769.112 2439.51,768.258 2449.22,767.542 2458.92,766.965 2468.63,766.499 2478.34,766.1 2488.05,765.724 2497.75,765.344 2507.46,764.954 \n",
       "  2517.17,764.566 2526.87,764.192 2536.58,763.825 2546.29,763.416 2556,762.876 2565.7,762.085 2575.41,760.912 2585.12,759.244 2594.82,756.999 2604.53,754.134 \n",
       "  2614.24,750.63 2623.95,746.478 2633.65,741.657 2643.36,736.122 2653.07,729.811 2662.77,722.657 2672.48,714.614 2682.19,705.681 2691.9,695.915 2701.6,685.439 \n",
       "  2711.31,674.424 2721.02,663.062 2730.72,651.533 2740.43,639.961 2750.14,628.396 2759.85,616.799 2769.55,605.051 2779.26,592.983 2788.97,580.409 2798.67,567.163 \n",
       "  2808.38,553.135 2818.09,538.292 2827.8,522.695 2837.5,506.508 2847.21,489.987 2856.92,473.469 2866.62,457.333 2876.33,441.949 2886.04,427.621 2895.75,414.529 \n",
       "  2905.45,402.704 2915.16,392.017 2924.87,382.216 2934.57,372.976 2944.28,363.954 2953.99,354.837 2963.7,345.369 2973.4,335.372 2983.11,324.743 2992.82,313.458 \n",
       "  3002.52,301.564 3012.23,289.168 3021.94,276.431 3031.65,263.538 3041.35,250.688 3051.06,238.071 3060.77,225.87 3070.47,214.262 3080.18,203.438 3089.89,193.627 \n",
       "  3099.6,185.111 3109.3,178.225 3119.01,173.335 3128.72,170.797 3138.42,170.898 3148.13,173.799 3157.84,179.493 3167.55,187.784 3177.25,198.288 3186.96,210.464 \n",
       "  3196.67,223.659 3206.37,237.169 3216.08,250.319 3225.79,262.553 3235.5,273.528 3245.2,283.175 3254.91,291.735 3264.62,299.73 3274.32,307.875 3284.03,316.959 \n",
       "  3293.74,327.7 3303.45,340.621 3313.15,355.957 3322.86,373.627 3332.57,393.246 3342.27,414.193 3351.98,435.705 3361.69,456.994 3371.4,477.355 3381.1,496.261 \n",
       "  3390.81,513.416 3400.52,528.779 3410.22,542.528 3419.93,555.002 3429.64,566.615 3439.35,577.769 3449.05,588.782 3458.76,599.846 3468.47,611.016 3478.17,622.233 \n",
       "  3487.88,633.366 3497.59,644.266 3507.3,654.805 3517,664.906 3526.71,674.545 3536.42,683.73 3546.12,692.484 3555.83,700.827 3565.54,708.765 3575.25,716.291 \n",
       "  3584.95,723.392 3594.66,730.054 3604.37,736.263 3614.07,742.007 3623.78,747.273 3633.49,752.047 3643.2,756.319 3652.9,760.086 3662.61,763.358 3672.32,766.153 \n",
       "  3682.02,768.505 3691.73,770.451 3701.44,772.036 3711.15,773.303 3720.85,774.292 3730.56,775.042 3740.27,775.587 3749.97,775.955 3759.68,776.175 3769.39,776.271 \n",
       "  3779.1,776.268 3788.8,776.19 3798.51,776.065 3808.22,775.921 3817.92,775.787 3827.63,775.694 3837.34,775.666 3847.05,775.726 3856.75,775.886 3866.46,776.151 \n",
       "  3876.17,776.511 3885.87,776.954 3895.58,777.457 3905.29,777.996 \n",
       "  \"/>\n",
       "<polyline clip-path=\"url(#clip043)\" style=\"stroke:#e26f46; stroke-linecap:butt; stroke-linejoin:round; stroke-width:4; stroke-opacity:1; fill:none\" points=\"\n",
       "  2333.36,778.736 2342.63,778.521 2351.9,778.344 2361.17,778.187 2370.43,778.021 2379.7,777.809 2388.97,777.51 2398.24,777.084 2407.51,776.494 2416.78,775.712 \n",
       "  2426.05,774.721 2435.32,773.516 2444.58,772.111 2453.85,770.532 2463.12,768.819 2472.39,767.018 2481.66,765.18 2490.93,763.354 2500.2,761.58 2509.47,759.888 \n",
       "  2518.74,758.292 2528,756.781 2537.27,755.314 2546.54,753.811 2555.81,752.156 2565.08,750.205 2574.35,747.808 2583.62,744.837 2592.89,741.218 2602.15,736.951 \n",
       "  2611.42,732.123 2620.69,726.894 2629.96,721.474 2639.23,716.082 2648.5,710.906 2657.77,706.068 2667.04,701.611 2676.3,697.493 2685.57,693.606 2694.84,689.796 \n",
       "  2704.11,685.891 2713.38,681.713 2722.65,677.089 2731.92,671.853 2741.19,665.837 2750.45,658.874 2759.72,650.802 2768.99,641.479 2778.26,630.807 2787.53,618.76 \n",
       "  2796.8,605.413 2806.07,590.942 2815.34,575.621 2824.6,559.773 2833.87,543.717 2843.14,527.698 2852.41,511.833 2861.68,496.096 2870.95,480.337 2880.22,464.348 \n",
       "  2889.49,447.955 2898.75,431.094 2908.02,413.865 2917.29,396.53 2926.56,379.466 2935.83,363.075 2945.1,347.697 2954.37,333.536 2963.64,320.638 2972.9,308.901 \n",
       "  2982.17,298.13 2991.44,288.094 3000.71,278.575 3009.98,269.401 3019.25,260.448 3028.52,251.636 3037.79,242.92 3047.05,234.295 3056.32,225.805 3065.59,217.561 \n",
       "  3074.86,209.745 3084.13,202.597 3093.4,196.389 3102.67,191.376 3111.94,187.752 3121.2,185.611 3130.47,184.935 3139.74,185.595 3149.01,187.377 3158.28,190.023 \n",
       "  3167.55,193.271 3176.82,196.9 3186.09,200.773 3195.35,204.864 3204.62,209.277 3213.89,214.242 3223.16,220.068 3232.43,227.092 3241.7,235.591 3250.97,245.716 \n",
       "  3260.24,257.448 3269.5,270.604 3278.77,284.889 3288.04,299.983 3297.31,315.634 3306.58,331.719 3315.85,348.265 3325.12,365.41 3334.39,383.326 3343.65,402.126 \n",
       "  3352.92,421.795 3362.19,442.147 3371.46,462.839 3380.73,483.421 3390,503.403 3399.27,522.334 3408.54,539.87 3417.8,555.82 3427.07,570.163 3436.34,583.047 \n",
       "  3445.61,594.754 3454.88,605.646 3464.15,616.103 3473.42,626.456 3482.69,636.936 3491.95,647.645 3501.22,658.552 3510.49,669.514 3519.76,680.311 3529.03,690.694 \n",
       "  3538.3,700.42 3547.57,709.294 3556.84,717.193 3566.1,724.078 3575.37,729.995 3584.64,735.063 3593.91,739.452 3603.18,743.346 3612.45,746.914 3621.72,750.284 \n",
       "  3630.99,753.527 3640.26,756.656 3649.52,759.64 3658.79,762.423 3668.06,764.946 3677.33,767.165 3686.6,769.061 3695.87,770.644 3705.14,771.948 3714.41,773.023 \n",
       "  3723.67,773.926 3732.94,774.709 3742.21,775.415 3751.48,776.07 3760.75,776.686 3770.02,777.257 3779.29,777.774 3788.56,778.225 3797.82,778.604 3807.09,778.915 \n",
       "  3816.36,779.172 3825.63,779.396 \n",
       "  \"/>\n",
       "<polyline clip-path=\"url(#clip043)\" style=\"stroke:#3da44d; stroke-linecap:butt; stroke-linejoin:round; stroke-width:4; stroke-opacity:1; fill:none\" points=\"\n",
       "  2352.75,779.892 2361.6,779.902 2370.45,779.941 2379.31,779.986 2388.16,780.017 2397.02,780.017 2405.87,779.985 2414.72,779.926 2423.58,779.854 2432.43,779.78 \n",
       "  2441.28,779.711 2450.14,779.636 2458.99,779.529 2467.84,779.345 2476.7,779.028 2485.55,778.515 2494.4,777.751 2503.26,776.696 2512.11,775.331 2520.96,773.668 \n",
       "  2529.82,771.743 2538.67,769.614 2547.52,767.348 2556.38,765.008 2565.23,762.635 2574.08,760.227 2582.94,757.729 2591.79,755.024 2600.64,751.94 2609.5,748.269 \n",
       "  2618.35,743.8 2627.2,738.366 2636.06,731.886 2644.91,724.398 2653.76,716.069 2662.62,707.175 2671.47,698.057 2680.33,689.053 2689.18,680.435 2698.03,672.355 \n",
       "  2706.89,664.832 2715.74,657.762 2724.59,650.966 2733.45,644.246 2742.3,637.443 2751.15,630.467 2760.01,623.297 2768.86,615.951 2777.71,608.432 2786.57,600.674 \n",
       "  2795.42,592.505 2804.27,583.651 2813.13,573.774 2821.98,562.543 2830.83,549.725 2839.69,535.261 2848.54,519.314 2857.39,502.263 2866.25,484.65 2875.1,467.082 \n",
       "  2883.95,450.111 2892.81,434.115 2901.66,419.217 2910.51,405.249 2919.37,391.784 2928.22,378.231 2937.07,363.973 2945.93,348.509 2954.78,331.579 2963.63,313.216 \n",
       "  2972.49,293.74 2981.34,273.685 2990.2,253.687 2999.05,234.371 3007.9,216.282 3016.76,199.848 3025.61,185.39 3034.46,173.165 3043.32,163.382 3052.17,156.209 \n",
       "  3061.02,151.739 3069.88,149.935 3078.73,150.579 3087.58,153.258 3096.44,157.397 3105.29,162.345 3114.14,167.492 3123,172.392 3131.85,176.841 3140.7,180.907 \n",
       "  3149.56,184.885 3158.41,189.205 3167.26,194.314 3176.12,200.576 3184.97,208.208 3193.82,217.26 3202.68,227.642 3211.53,239.172 3220.38,251.63 3229.24,264.798 \n",
       "  3238.09,278.492 3246.94,292.566 3255.8,306.918 3264.65,321.479 3273.51,336.207 3282.36,351.068 3291.21,366.023 3300.07,381.012 3308.92,395.949 3317.77,410.725 \n",
       "  3326.63,425.22 3335.48,439.322 3344.33,452.944 3353.19,466.037 3362.04,478.595 3370.89,490.652 3379.75,502.267 3388.6,513.515 3397.45,524.47 3406.31,535.201 \n",
       "  3415.16,545.764 3424.01,556.207 3432.87,566.586 3441.72,576.964 3450.57,587.426 3459.43,598.063 3468.28,608.963 3477.13,620.181 3485.99,631.727 3494.84,643.545 \n",
       "  3503.69,655.514 3512.55,667.455 3521.4,679.149 3530.25,690.355 3539.11,700.84 3547.96,710.397 3556.81,718.876 3565.67,726.195 3574.52,732.351 3583.38,737.411 \n",
       "  3592.23,741.501 3601.08,744.775 3609.94,747.398 3618.79,749.524 3627.64,751.287 3636.5,752.799 3645.35,754.162 3654.2,755.465 3663.06,756.793 3671.91,758.22 \n",
       "  3680.76,759.799 3689.62,761.555 3698.47,763.473 3707.32,765.506 3716.18,767.581 3725.03,769.61 3733.88,771.513 3742.74,773.226 3751.59,774.712 3760.44,775.961 \n",
       "  3769.3,776.988 3778.15,777.825 \n",
       "  \"/>\n",
       "<polyline clip-path=\"url(#clip043)\" style=\"stroke:#c271d2; stroke-linecap:butt; stroke-linejoin:round; stroke-width:4; stroke-opacity:1; fill:none\" points=\"\n",
       "  2435.08,776.197 2444.03,775.562 2452.99,774.961 2461.94,774.392 2470.9,773.847 2479.86,773.314 2488.81,772.78 2497.77,772.226 2506.73,771.624 2515.68,770.931 \n",
       "  2524.64,770.086 2533.6,769.006 2542.55,767.594 2551.51,765.74 2560.47,763.341 2569.42,760.303 2578.38,756.559 2587.34,752.072 2596.29,746.842 2605.25,740.908 \n",
       "  2614.21,734.346 2623.16,727.265 2632.12,719.802 2641.08,712.114 2650.03,704.365 2658.99,696.713 2667.95,689.297 2676.9,682.222 2685.86,675.547 2694.82,669.286 \n",
       "  2703.77,663.4 2712.73,657.81 2721.69,652.399 2730.64,647.022 2739.6,641.513 2748.56,635.69 2757.51,629.363 2766.47,622.342 2775.42,614.443 2784.38,605.507 \n",
       "  2793.34,595.411 2802.29,584.088 2811.25,571.541 2820.21,557.856 2829.16,543.205 2838.12,527.84 2847.08,512.075 2856.03,496.249 2864.99,480.685 2873.95,465.645 \n",
       "  2882.9,451.288 2891.86,437.662 2900.82,424.702 2909.77,412.266 2918.73,400.179 2927.69,388.278 2936.64,376.446 2945.6,364.622 2954.56,352.781 2963.51,340.91 \n",
       "  2972.47,328.97 2981.43,316.886 2990.38,304.566 2999.34,291.944 3008.3,279.041 3017.25,266.018 3026.21,253.192 3035.17,241.006 3044.12,229.953 3053.08,220.478 \n",
       "  3062.04,212.883 3070.99,207.266 3079.95,203.505 3088.9,201.299 3097.86,200.236 3106.82,199.879 3115.77,199.846 3124.73,199.876 3133.69,199.863 3142.64,199.879 \n",
       "  3151.6,200.157 3160.56,201.062 3169.51,203.031 3178.47,206.495 3187.43,211.792 3196.38,219.091 3205.34,228.353 3214.3,239.323 3223.25,251.586 3232.21,264.651 \n",
       "  3241.17,278.05 3250.12,291.424 3259.08,304.577 3268.04,317.473 3276.99,330.197 3285.95,342.896 3294.91,355.709 3303.86,368.725 3312.82,381.966 3321.78,395.407 \n",
       "  3330.73,409.002 3339.69,422.72 3348.65,436.566 3357.6,450.574 3366.56,464.785 3375.52,479.213 3384.47,493.808 3393.43,508.447 3402.38,522.941 3411.34,537.068 \n",
       "  3420.3,550.618 3429.25,563.44 3438.21,575.477 3447.17,586.775 3456.12,597.469 3465.08,607.747 3474.04,617.796 3482.99,627.764 3491.95,637.715 3500.91,647.621 \n",
       "  3509.86,657.37 3518.82,666.794 3527.78,675.711 3536.73,683.961 3545.69,691.437 3554.65,698.094 3563.6,703.948 3572.56,709.06 3581.52,713.516 3590.47,717.415 \n",
       "  3599.43,720.854 3608.39,723.925 3617.34,726.715 3626.3,729.3 3635.26,731.748 3644.21,734.115 3653.17,736.442 3662.13,738.758 3671.08,741.078 3680.04,743.415 \n",
       "  3689,745.776 3697.95,748.17 3706.91,750.606 3715.86,753.088 3724.82,755.614 3733.78,758.163 3742.73,760.702 3751.69,763.179 3760.65,765.533 3769.6,767.703 \n",
       "  3778.56,769.633 3787.52,771.286 3796.47,772.65 3805.43,773.735 3814.39,774.577 3823.34,775.229 3832.3,775.75 3841.26,776.203 3850.21,776.636 3859.17,777.085 \n",
       "  \n",
       "  \"/>\n",
       "<path clip-path=\"url(#clip040)\" d=\"\n",
       "M309.306 1798.92 L1986.51 1798.92 L1986.51 1131.03 L309.306 1131.03  Z\n",
       "  \" fill=\"#ffffff\" fill-rule=\"evenodd\" fill-opacity=\"1\"/>\n",
       "<defs>\n",
       "  <clipPath id=\"clip044\">\n",
       "    <rect x=\"309\" y=\"1131\" width=\"1678\" height=\"669\"/>\n",
       "  </clipPath>\n",
       "</defs>\n",
       "<polyline clip-path=\"url(#clip044)\" style=\"stroke:#000000; stroke-linecap:butt; stroke-linejoin:round; stroke-width:2; stroke-opacity:0.1; fill:none\" points=\"\n",
       "  355.982,1798.92 355.982,1131.03 \n",
       "  \"/>\n",
       "<polyline clip-path=\"url(#clip044)\" style=\"stroke:#000000; stroke-linecap:butt; stroke-linejoin:round; stroke-width:2; stroke-opacity:0.1; fill:none\" points=\"\n",
       "  751.746,1798.92 751.746,1131.03 \n",
       "  \"/>\n",
       "<polyline clip-path=\"url(#clip044)\" style=\"stroke:#000000; stroke-linecap:butt; stroke-linejoin:round; stroke-width:2; stroke-opacity:0.1; fill:none\" points=\"\n",
       "  1147.51,1798.92 1147.51,1131.03 \n",
       "  \"/>\n",
       "<polyline clip-path=\"url(#clip044)\" style=\"stroke:#000000; stroke-linecap:butt; stroke-linejoin:round; stroke-width:2; stroke-opacity:0.1; fill:none\" points=\"\n",
       "  1543.27,1798.92 1543.27,1131.03 \n",
       "  \"/>\n",
       "<polyline clip-path=\"url(#clip044)\" style=\"stroke:#000000; stroke-linecap:butt; stroke-linejoin:round; stroke-width:2; stroke-opacity:0.1; fill:none\" points=\"\n",
       "  1939.04,1798.92 1939.04,1131.03 \n",
       "  \"/>\n",
       "<polyline clip-path=\"url(#clip040)\" style=\"stroke:#000000; stroke-linecap:butt; stroke-linejoin:round; stroke-width:4; stroke-opacity:1; fill:none\" points=\"\n",
       "  309.306,1798.92 1986.51,1798.92 \n",
       "  \"/>\n",
       "<polyline clip-path=\"url(#clip040)\" style=\"stroke:#000000; stroke-linecap:butt; stroke-linejoin:round; stroke-width:4; stroke-opacity:1; fill:none\" points=\"\n",
       "  355.982,1798.92 355.982,1780.02 \n",
       "  \"/>\n",
       "<polyline clip-path=\"url(#clip040)\" style=\"stroke:#000000; stroke-linecap:butt; stroke-linejoin:round; stroke-width:4; stroke-opacity:1; fill:none\" points=\"\n",
       "  751.746,1798.92 751.746,1780.02 \n",
       "  \"/>\n",
       "<polyline clip-path=\"url(#clip040)\" style=\"stroke:#000000; stroke-linecap:butt; stroke-linejoin:round; stroke-width:4; stroke-opacity:1; fill:none\" points=\"\n",
       "  1147.51,1798.92 1147.51,1780.02 \n",
       "  \"/>\n",
       "<polyline clip-path=\"url(#clip040)\" style=\"stroke:#000000; stroke-linecap:butt; stroke-linejoin:round; stroke-width:4; stroke-opacity:1; fill:none\" points=\"\n",
       "  1543.27,1798.92 1543.27,1780.02 \n",
       "  \"/>\n",
       "<polyline clip-path=\"url(#clip040)\" style=\"stroke:#000000; stroke-linecap:butt; stroke-linejoin:round; stroke-width:4; stroke-opacity:1; fill:none\" points=\"\n",
       "  1939.04,1798.92 1939.04,1780.02 \n",
       "  \"/>\n",
       "<path clip-path=\"url(#clip040)\" d=\"M300.508 1870.18 L308.147 1870.18 L308.147 1843.82 L299.837 1845.49 L299.837 1841.23 L308.101 1839.56 L312.777 1839.56 L312.777 1870.18 L320.415 1870.18 L320.415 1874.12 L300.508 1874.12 L300.508 1870.18 Z\" fill=\"#000000\" fill-rule=\"evenodd\" fill-opacity=\"1\" /><path clip-path=\"url(#clip040)\" d=\"M339.86 1842.64 Q336.249 1842.64 334.42 1846.2 Q332.614 1849.74 332.614 1856.87 Q332.614 1863.98 334.42 1867.55 Q336.249 1871.09 339.86 1871.09 Q343.494 1871.09 345.299 1867.55 Q347.128 1863.98 347.128 1856.87 Q347.128 1849.74 345.299 1846.2 Q343.494 1842.64 339.86 1842.64 M339.86 1838.93 Q345.67 1838.93 348.725 1843.54 Q351.804 1848.12 351.804 1856.87 Q351.804 1865.6 348.725 1870.21 Q345.67 1874.79 339.86 1874.79 Q334.05 1874.79 330.971 1870.21 Q327.915 1865.6 327.915 1856.87 Q327.915 1848.12 330.971 1843.54 Q334.05 1838.93 339.86 1838.93 Z\" fill=\"#000000\" fill-rule=\"evenodd\" fill-opacity=\"1\" /><path clip-path=\"url(#clip040)\" d=\"M370.022 1842.64 Q366.41 1842.64 364.582 1846.2 Q362.776 1849.74 362.776 1856.87 Q362.776 1863.98 364.582 1867.55 Q366.41 1871.09 370.022 1871.09 Q373.656 1871.09 375.461 1867.55 Q377.29 1863.98 377.29 1856.87 Q377.29 1849.74 375.461 1846.2 Q373.656 1842.64 370.022 1842.64 M370.022 1838.93 Q375.832 1838.93 378.887 1843.54 Q381.966 1848.12 381.966 1856.87 Q381.966 1865.6 378.887 1870.21 Q375.832 1874.79 370.022 1874.79 Q364.211 1874.79 361.133 1870.21 Q358.077 1865.6 358.077 1856.87 Q358.077 1848.12 361.133 1843.54 Q364.211 1838.93 370.022 1838.93 Z\" fill=\"#000000\" fill-rule=\"evenodd\" fill-opacity=\"1\" /><path clip-path=\"url(#clip040)\" d=\"M400.183 1842.64 Q396.572 1842.64 394.744 1846.2 Q392.938 1849.74 392.938 1856.87 Q392.938 1863.98 394.744 1867.55 Q396.572 1871.09 400.183 1871.09 Q403.818 1871.09 405.623 1867.55 Q407.452 1863.98 407.452 1856.87 Q407.452 1849.74 405.623 1846.2 Q403.818 1842.64 400.183 1842.64 M400.183 1838.93 Q405.994 1838.93 409.049 1843.54 Q412.128 1848.12 412.128 1856.87 Q412.128 1865.6 409.049 1870.21 Q405.994 1874.79 400.183 1874.79 Q394.373 1874.79 391.295 1870.21 Q388.239 1865.6 388.239 1856.87 Q388.239 1848.12 391.295 1843.54 Q394.373 1838.93 400.183 1838.93 Z\" fill=\"#000000\" fill-rule=\"evenodd\" fill-opacity=\"1\" /><path clip-path=\"url(#clip040)\" d=\"M696.272 1870.18 L703.911 1870.18 L703.911 1843.82 L695.601 1845.49 L695.601 1841.23 L703.864 1839.56 L708.54 1839.56 L708.54 1870.18 L716.179 1870.18 L716.179 1874.12 L696.272 1874.12 L696.272 1870.18 Z\" fill=\"#000000\" fill-rule=\"evenodd\" fill-opacity=\"1\" /><path clip-path=\"url(#clip040)\" d=\"M725.67 1839.56 L744.026 1839.56 L744.026 1843.5 L729.952 1843.5 L729.952 1851.97 Q730.971 1851.62 731.989 1851.46 Q733.008 1851.27 734.026 1851.27 Q739.813 1851.27 743.193 1854.44 Q746.573 1857.62 746.573 1863.03 Q746.573 1868.61 743.1 1871.71 Q739.628 1874.79 733.309 1874.79 Q731.133 1874.79 728.864 1874.42 Q726.619 1874.05 724.212 1873.31 L724.212 1868.61 Q726.295 1869.74 728.517 1870.3 Q730.739 1870.86 733.216 1870.86 Q737.221 1870.86 739.559 1868.75 Q741.897 1866.64 741.897 1863.03 Q741.897 1859.42 739.559 1857.31 Q737.221 1855.21 733.216 1855.21 Q731.341 1855.21 729.466 1855.62 Q727.614 1856.04 725.67 1856.92 L725.67 1839.56 Z\" fill=\"#000000\" fill-rule=\"evenodd\" fill-opacity=\"1\" /><path clip-path=\"url(#clip040)\" d=\"M765.785 1842.64 Q762.174 1842.64 760.346 1846.2 Q758.54 1849.74 758.54 1856.87 Q758.54 1863.98 760.346 1867.55 Q762.174 1871.09 765.785 1871.09 Q769.42 1871.09 771.225 1867.55 Q773.054 1863.98 773.054 1856.87 Q773.054 1849.74 771.225 1846.2 Q769.42 1842.64 765.785 1842.64 M765.785 1838.93 Q771.596 1838.93 774.651 1843.54 Q777.73 1848.12 777.73 1856.87 Q777.73 1865.6 774.651 1870.21 Q771.596 1874.79 765.785 1874.79 Q759.975 1874.79 756.897 1870.21 Q753.841 1865.6 753.841 1856.87 Q753.841 1848.12 756.897 1843.54 Q759.975 1838.93 765.785 1838.93 Z\" fill=\"#000000\" fill-rule=\"evenodd\" fill-opacity=\"1\" /><path clip-path=\"url(#clip040)\" d=\"M795.947 1842.64 Q792.336 1842.64 790.508 1846.2 Q788.702 1849.74 788.702 1856.87 Q788.702 1863.98 790.508 1867.55 Q792.336 1871.09 795.947 1871.09 Q799.582 1871.09 801.387 1867.55 Q803.216 1863.98 803.216 1856.87 Q803.216 1849.74 801.387 1846.2 Q799.582 1842.64 795.947 1842.64 M795.947 1838.93 Q801.757 1838.93 804.813 1843.54 Q807.892 1848.12 807.892 1856.87 Q807.892 1865.6 804.813 1870.21 Q801.757 1874.79 795.947 1874.79 Q790.137 1874.79 787.058 1870.21 Q784.003 1865.6 784.003 1856.87 Q784.003 1848.12 787.058 1843.54 Q790.137 1838.93 795.947 1838.93 Z\" fill=\"#000000\" fill-rule=\"evenodd\" fill-opacity=\"1\" /><path clip-path=\"url(#clip040)\" d=\"M1096.12 1870.18 L1112.44 1870.18 L1112.44 1874.12 L1090.5 1874.12 L1090.5 1870.18 Q1093.16 1867.43 1097.74 1862.8 Q1102.35 1858.15 1103.53 1856.81 Q1105.77 1854.28 1106.65 1852.55 Q1107.56 1850.79 1107.56 1849.1 Q1107.56 1846.34 1105.61 1844.61 Q1103.69 1842.87 1100.59 1842.87 Q1098.39 1842.87 1095.94 1843.63 Q1093.51 1844.4 1090.73 1845.95 L1090.73 1841.23 Q1093.55 1840.09 1096.01 1839.51 Q1098.46 1838.93 1100.5 1838.93 Q1105.87 1838.93 1109.06 1841.62 Q1112.26 1844.31 1112.26 1848.8 Q1112.26 1850.93 1111.45 1852.85 Q1110.66 1854.74 1108.55 1857.34 Q1107.97 1858.01 1104.87 1861.23 Q1101.77 1864.42 1096.12 1870.18 Z\" fill=\"#000000\" fill-rule=\"evenodd\" fill-opacity=\"1\" /><path clip-path=\"url(#clip040)\" d=\"M1132.26 1842.64 Q1128.64 1842.64 1126.82 1846.2 Q1125.01 1849.74 1125.01 1856.87 Q1125.01 1863.98 1126.82 1867.55 Q1128.64 1871.09 1132.26 1871.09 Q1135.89 1871.09 1137.7 1867.55 Q1139.52 1863.98 1139.52 1856.87 Q1139.52 1849.74 1137.7 1846.2 Q1135.89 1842.64 1132.26 1842.64 M1132.26 1838.93 Q1138.07 1838.93 1141.12 1843.54 Q1144.2 1848.12 1144.2 1856.87 Q1144.2 1865.6 1141.12 1870.21 Q1138.07 1874.79 1132.26 1874.79 Q1126.45 1874.79 1123.37 1870.21 Q1120.31 1865.6 1120.31 1856.87 Q1120.31 1848.12 1123.37 1843.54 Q1126.45 1838.93 1132.26 1838.93 Z\" fill=\"#000000\" fill-rule=\"evenodd\" fill-opacity=\"1\" /><path clip-path=\"url(#clip040)\" d=\"M1162.42 1842.64 Q1158.81 1842.64 1156.98 1846.2 Q1155.17 1849.74 1155.17 1856.87 Q1155.17 1863.98 1156.98 1867.55 Q1158.81 1871.09 1162.42 1871.09 Q1166.05 1871.09 1167.86 1867.55 Q1169.69 1863.98 1169.69 1856.87 Q1169.69 1849.74 1167.86 1846.2 Q1166.05 1842.64 1162.42 1842.64 M1162.42 1838.93 Q1168.23 1838.93 1171.28 1843.54 Q1174.36 1848.12 1174.36 1856.87 Q1174.36 1865.6 1171.28 1870.21 Q1168.23 1874.79 1162.42 1874.79 Q1156.61 1874.79 1153.53 1870.21 Q1150.47 1865.6 1150.47 1856.87 Q1150.47 1848.12 1153.53 1843.54 Q1156.61 1838.93 1162.42 1838.93 Z\" fill=\"#000000\" fill-rule=\"evenodd\" fill-opacity=\"1\" /><path clip-path=\"url(#clip040)\" d=\"M1192.58 1842.64 Q1188.97 1842.64 1187.14 1846.2 Q1185.33 1849.74 1185.33 1856.87 Q1185.33 1863.98 1187.14 1867.55 Q1188.97 1871.09 1192.58 1871.09 Q1196.21 1871.09 1198.02 1867.55 Q1199.85 1863.98 1199.85 1856.87 Q1199.85 1849.74 1198.02 1846.2 Q1196.21 1842.64 1192.58 1842.64 M1192.58 1838.93 Q1198.39 1838.93 1201.44 1843.54 Q1204.52 1848.12 1204.52 1856.87 Q1204.52 1865.6 1201.44 1870.21 Q1198.39 1874.79 1192.58 1874.79 Q1186.77 1874.79 1183.69 1870.21 Q1180.63 1865.6 1180.63 1856.87 Q1180.63 1848.12 1183.69 1843.54 Q1186.77 1838.93 1192.58 1838.93 Z\" fill=\"#000000\" fill-rule=\"evenodd\" fill-opacity=\"1\" /><path clip-path=\"url(#clip040)\" d=\"M1491.89 1870.18 L1508.2 1870.18 L1508.2 1874.12 L1486.26 1874.12 L1486.26 1870.18 Q1488.92 1867.43 1493.51 1862.8 Q1498.11 1858.15 1499.29 1856.81 Q1501.54 1854.28 1502.42 1852.55 Q1503.32 1850.79 1503.32 1849.1 Q1503.32 1846.34 1501.38 1844.61 Q1499.45 1842.87 1496.35 1842.87 Q1494.15 1842.87 1491.7 1843.63 Q1489.27 1844.4 1486.49 1845.95 L1486.49 1841.23 Q1489.32 1840.09 1491.77 1839.51 Q1494.22 1838.93 1496.26 1838.93 Q1501.63 1838.93 1504.83 1841.62 Q1508.02 1844.31 1508.02 1848.8 Q1508.02 1850.93 1507.21 1852.85 Q1506.42 1854.74 1504.32 1857.34 Q1503.74 1858.01 1500.64 1861.23 Q1497.53 1864.42 1491.89 1870.18 Z\" fill=\"#000000\" fill-rule=\"evenodd\" fill-opacity=\"1\" /><path clip-path=\"url(#clip040)\" d=\"M1518.07 1839.56 L1536.42 1839.56 L1536.42 1843.5 L1522.35 1843.5 L1522.35 1851.97 Q1523.37 1851.62 1524.39 1851.46 Q1525.4 1851.27 1526.42 1851.27 Q1532.21 1851.27 1535.59 1854.44 Q1538.97 1857.62 1538.97 1863.03 Q1538.97 1868.61 1535.5 1871.71 Q1532.02 1874.79 1525.7 1874.79 Q1523.53 1874.79 1521.26 1874.42 Q1519.01 1874.05 1516.61 1873.31 L1516.61 1868.61 Q1518.69 1869.74 1520.91 1870.3 Q1523.14 1870.86 1525.61 1870.86 Q1529.62 1870.86 1531.95 1868.75 Q1534.29 1866.64 1534.29 1863.03 Q1534.29 1859.42 1531.95 1857.31 Q1529.62 1855.21 1525.61 1855.21 Q1523.74 1855.21 1521.86 1855.62 Q1520.01 1856.04 1518.07 1856.92 L1518.07 1839.56 Z\" fill=\"#000000\" fill-rule=\"evenodd\" fill-opacity=\"1\" /><path clip-path=\"url(#clip040)\" d=\"M1558.18 1842.64 Q1554.57 1842.64 1552.74 1846.2 Q1550.94 1849.74 1550.94 1856.87 Q1550.94 1863.98 1552.74 1867.55 Q1554.57 1871.09 1558.18 1871.09 Q1561.82 1871.09 1563.62 1867.55 Q1565.45 1863.98 1565.45 1856.87 Q1565.45 1849.74 1563.62 1846.2 Q1561.82 1842.64 1558.18 1842.64 M1558.18 1838.93 Q1563.99 1838.93 1567.05 1843.54 Q1570.13 1848.12 1570.13 1856.87 Q1570.13 1865.6 1567.05 1870.21 Q1563.99 1874.79 1558.18 1874.79 Q1552.37 1874.79 1549.29 1870.21 Q1546.24 1865.6 1546.24 1856.87 Q1546.24 1848.12 1549.29 1843.54 Q1552.37 1838.93 1558.18 1838.93 Z\" fill=\"#000000\" fill-rule=\"evenodd\" fill-opacity=\"1\" /><path clip-path=\"url(#clip040)\" d=\"M1588.34 1842.64 Q1584.73 1842.64 1582.9 1846.2 Q1581.1 1849.74 1581.1 1856.87 Q1581.1 1863.98 1582.9 1867.55 Q1584.73 1871.09 1588.34 1871.09 Q1591.98 1871.09 1593.78 1867.55 Q1595.61 1863.98 1595.61 1856.87 Q1595.61 1849.74 1593.78 1846.2 Q1591.98 1842.64 1588.34 1842.64 M1588.34 1838.93 Q1594.15 1838.93 1597.21 1843.54 Q1600.29 1848.12 1600.29 1856.87 Q1600.29 1865.6 1597.21 1870.21 Q1594.15 1874.79 1588.34 1874.79 Q1582.53 1874.79 1579.45 1870.21 Q1576.4 1865.6 1576.4 1856.87 Q1576.4 1848.12 1579.45 1843.54 Q1582.53 1838.93 1588.34 1838.93 Z\" fill=\"#000000\" fill-rule=\"evenodd\" fill-opacity=\"1\" /><path clip-path=\"url(#clip040)\" d=\"M1897.72 1855.49 Q1901.08 1856.2 1902.95 1858.47 Q1904.85 1860.74 1904.85 1864.07 Q1904.85 1869.19 1901.33 1871.99 Q1897.81 1874.79 1891.33 1874.79 Q1889.15 1874.79 1886.84 1874.35 Q1884.55 1873.93 1882.09 1873.08 L1882.09 1868.56 Q1884.04 1869.7 1886.35 1870.28 Q1888.67 1870.86 1891.19 1870.86 Q1895.59 1870.86 1897.88 1869.12 Q1900.2 1867.38 1900.2 1864.07 Q1900.2 1861.02 1898.04 1859.31 Q1895.91 1857.57 1892.09 1857.57 L1888.07 1857.57 L1888.07 1853.73 L1892.28 1853.73 Q1895.73 1853.73 1897.56 1852.36 Q1899.39 1850.97 1899.39 1848.38 Q1899.39 1845.72 1897.49 1844.31 Q1895.61 1842.87 1892.09 1842.87 Q1890.17 1842.87 1887.97 1843.29 Q1885.77 1843.7 1883.14 1844.58 L1883.14 1840.42 Q1885.8 1839.68 1888.11 1839.31 Q1890.45 1838.93 1892.51 1838.93 Q1897.83 1838.93 1900.94 1841.37 Q1904.04 1843.77 1904.04 1847.89 Q1904.04 1850.76 1902.39 1852.75 Q1900.75 1854.72 1897.72 1855.49 Z\" fill=\"#000000\" fill-rule=\"evenodd\" fill-opacity=\"1\" /><path clip-path=\"url(#clip040)\" d=\"M1923.71 1842.64 Q1920.1 1842.64 1918.27 1846.2 Q1916.47 1849.74 1916.47 1856.87 Q1916.47 1863.98 1918.27 1867.55 Q1920.1 1871.09 1923.71 1871.09 Q1927.35 1871.09 1929.15 1867.55 Q1930.98 1863.98 1930.98 1856.87 Q1930.98 1849.74 1929.15 1846.2 Q1927.35 1842.64 1923.71 1842.64 M1923.71 1838.93 Q1929.52 1838.93 1932.58 1843.54 Q1935.66 1848.12 1935.66 1856.87 Q1935.66 1865.6 1932.58 1870.21 Q1929.52 1874.79 1923.71 1874.79 Q1917.9 1874.79 1914.82 1870.21 Q1911.77 1865.6 1911.77 1856.87 Q1911.77 1848.12 1914.82 1843.54 Q1917.9 1838.93 1923.71 1838.93 Z\" fill=\"#000000\" fill-rule=\"evenodd\" fill-opacity=\"1\" /><path clip-path=\"url(#clip040)\" d=\"M1953.88 1842.64 Q1950.26 1842.64 1948.44 1846.2 Q1946.63 1849.74 1946.63 1856.87 Q1946.63 1863.98 1948.44 1867.55 Q1950.26 1871.09 1953.88 1871.09 Q1957.51 1871.09 1959.32 1867.55 Q1961.14 1863.98 1961.14 1856.87 Q1961.14 1849.74 1959.32 1846.2 Q1957.51 1842.64 1953.88 1842.64 M1953.88 1838.93 Q1959.69 1838.93 1962.74 1843.54 Q1965.82 1848.12 1965.82 1856.87 Q1965.82 1865.6 1962.74 1870.21 Q1959.69 1874.79 1953.88 1874.79 Q1948.07 1874.79 1944.99 1870.21 Q1941.93 1865.6 1941.93 1856.87 Q1941.93 1848.12 1944.99 1843.54 Q1948.07 1838.93 1953.88 1838.93 Z\" fill=\"#000000\" fill-rule=\"evenodd\" fill-opacity=\"1\" /><path clip-path=\"url(#clip040)\" d=\"M1984.04 1842.64 Q1980.43 1842.64 1978.6 1846.2 Q1976.79 1849.74 1976.79 1856.87 Q1976.79 1863.98 1978.6 1867.55 Q1980.43 1871.09 1984.04 1871.09 Q1987.67 1871.09 1989.48 1867.55 Q1991.31 1863.98 1991.31 1856.87 Q1991.31 1849.74 1989.48 1846.2 Q1987.67 1842.64 1984.04 1842.64 M1984.04 1838.93 Q1989.85 1838.93 1992.9 1843.54 Q1995.98 1848.12 1995.98 1856.87 Q1995.98 1865.6 1992.9 1870.21 Q1989.85 1874.79 1984.04 1874.79 Q1978.23 1874.79 1975.15 1870.21 Q1972.09 1865.6 1972.09 1856.87 Q1972.09 1848.12 1975.15 1843.54 Q1978.23 1838.93 1984.04 1838.93 Z\" fill=\"#000000\" fill-rule=\"evenodd\" fill-opacity=\"1\" /><path clip-path=\"url(#clip040)\" d=\"M1015.63 1920.26 L1022.06 1920.26 L1022.06 1967.78 L1015.63 1967.78 L1015.63 1920.26 Z\" fill=\"#000000\" fill-rule=\"evenodd\" fill-opacity=\"1\" /><path clip-path=\"url(#clip040)\" d=\"M1040.39 1922.01 L1040.39 1932.14 L1052.45 1932.14 L1052.45 1936.69 L1040.39 1936.69 L1040.39 1956.04 Q1040.39 1960.4 1041.57 1961.64 Q1042.78 1962.88 1046.44 1962.88 L1052.45 1962.88 L1052.45 1967.78 L1046.44 1967.78 Q1039.66 1967.78 1037.08 1965.27 Q1034.5 1962.72 1034.5 1956.04 L1034.5 1936.69 L1030.2 1936.69 L1030.2 1932.14 L1034.5 1932.14 L1034.5 1922.01 L1040.39 1922.01 Z\" fill=\"#000000\" fill-rule=\"evenodd\" fill-opacity=\"1\" /><path clip-path=\"url(#clip040)\" d=\"M1090.65 1948.5 L1090.65 1951.36 L1063.72 1951.36 Q1064.1 1957.41 1067.35 1960.59 Q1070.63 1963.74 1076.45 1963.74 Q1079.82 1963.74 1082.98 1962.91 Q1086.16 1962.09 1089.28 1960.43 L1089.28 1965.97 Q1086.13 1967.31 1082.82 1968.01 Q1079.51 1968.71 1076.1 1968.71 Q1067.57 1968.71 1062.57 1963.74 Q1057.61 1958.78 1057.61 1950.31 Q1057.61 1941.56 1062.32 1936.43 Q1067.06 1931.28 1075.08 1931.28 Q1082.28 1931.28 1086.44 1935.92 Q1090.65 1940.54 1090.65 1948.5 M1084.79 1946.78 Q1084.73 1941.97 1082.08 1939.11 Q1079.47 1936.24 1075.15 1936.24 Q1070.24 1936.24 1067.28 1939.01 Q1064.36 1941.78 1063.91 1946.81 L1084.79 1946.78 Z\" fill=\"#000000\" fill-rule=\"evenodd\" fill-opacity=\"1\" /><path clip-path=\"url(#clip040)\" d=\"M1120.92 1937.61 Q1119.93 1937.04 1118.75 1936.78 Q1117.61 1936.5 1116.2 1936.5 Q1111.24 1936.5 1108.57 1939.74 Q1105.92 1942.96 1105.92 1949.01 L1105.92 1967.78 L1100.04 1967.78 L1100.04 1932.14 L1105.92 1932.14 L1105.92 1937.67 Q1107.77 1934.43 1110.73 1932.87 Q1113.69 1931.28 1117.92 1931.28 Q1118.53 1931.28 1119.26 1931.37 Q1119.99 1931.44 1120.88 1931.59 L1120.92 1937.61 Z\" fill=\"#000000\" fill-rule=\"evenodd\" fill-opacity=\"1\" /><path clip-path=\"url(#clip040)\" d=\"M1143.26 1949.86 Q1136.16 1949.86 1133.42 1951.49 Q1130.69 1953.11 1130.69 1957.03 Q1130.69 1960.14 1132.72 1961.99 Q1134.79 1963.81 1138.33 1963.81 Q1143.2 1963.81 1146.12 1960.37 Q1149.08 1956.9 1149.08 1951.17 L1149.08 1949.86 L1143.26 1949.86 M1154.94 1947.45 L1154.94 1967.78 L1149.08 1967.78 L1149.08 1962.37 Q1147.08 1965.62 1144.09 1967.18 Q1141.09 1968.71 1136.77 1968.71 Q1131.29 1968.71 1128.04 1965.65 Q1124.83 1962.56 1124.83 1957.41 Q1124.83 1951.39 1128.84 1948.34 Q1132.88 1945.28 1140.87 1945.28 L1149.08 1945.28 L1149.08 1944.71 Q1149.08 1940.67 1146.41 1938.47 Q1143.77 1936.24 1138.96 1936.24 Q1135.91 1936.24 1133.01 1936.97 Q1130.11 1937.71 1127.44 1939.17 L1127.44 1933.76 Q1130.65 1932.52 1133.68 1931.91 Q1136.7 1931.28 1139.57 1931.28 Q1147.3 1931.28 1151.12 1935.29 Q1154.94 1939.3 1154.94 1947.45 Z\" fill=\"#000000\" fill-rule=\"evenodd\" fill-opacity=\"1\" /><path clip-path=\"url(#clip040)\" d=\"M1172.8 1922.01 L1172.8 1932.14 L1184.86 1932.14 L1184.86 1936.69 L1172.8 1936.69 L1172.8 1956.04 Q1172.8 1960.4 1173.97 1961.64 Q1175.18 1962.88 1178.84 1962.88 L1184.86 1962.88 L1184.86 1967.78 L1178.84 1967.78 Q1172.06 1967.78 1169.49 1965.27 Q1166.91 1962.72 1166.91 1956.04 L1166.91 1936.69 L1162.61 1936.69 L1162.61 1932.14 L1166.91 1932.14 L1166.91 1922.01 L1172.8 1922.01 Z\" fill=\"#000000\" fill-rule=\"evenodd\" fill-opacity=\"1\" /><path clip-path=\"url(#clip040)\" d=\"M1192.56 1932.14 L1198.42 1932.14 L1198.42 1967.78 L1192.56 1967.78 L1192.56 1932.14 M1192.56 1918.26 L1198.42 1918.26 L1198.42 1925.67 L1192.56 1925.67 L1192.56 1918.26 Z\" fill=\"#000000\" fill-rule=\"evenodd\" fill-opacity=\"1\" /><path clip-path=\"url(#clip040)\" d=\"M1224.49 1936.24 Q1219.77 1936.24 1217.04 1939.93 Q1214.3 1943.59 1214.3 1949.99 Q1214.3 1956.39 1217.01 1960.08 Q1219.74 1963.74 1224.49 1963.74 Q1229.16 1963.74 1231.9 1960.05 Q1234.64 1956.36 1234.64 1949.99 Q1234.64 1943.66 1231.9 1939.97 Q1229.16 1936.24 1224.49 1936.24 M1224.49 1931.28 Q1232.12 1931.28 1236.48 1936.24 Q1240.85 1941.21 1240.85 1949.99 Q1240.85 1958.74 1236.48 1963.74 Q1232.12 1968.71 1224.49 1968.71 Q1216.81 1968.71 1212.45 1963.74 Q1208.13 1958.74 1208.13 1949.99 Q1208.13 1941.21 1212.45 1936.24 Q1216.81 1931.28 1224.49 1931.28 Z\" fill=\"#000000\" fill-rule=\"evenodd\" fill-opacity=\"1\" /><path clip-path=\"url(#clip040)\" d=\"M1280.19 1946.27 L1280.19 1967.78 L1274.33 1967.78 L1274.33 1946.46 Q1274.33 1941.4 1272.36 1938.88 Q1270.38 1936.37 1266.44 1936.37 Q1261.69 1936.37 1258.96 1939.39 Q1256.22 1942.42 1256.22 1947.64 L1256.22 1967.78 L1250.33 1967.78 L1250.33 1932.14 L1256.22 1932.14 L1256.22 1937.67 Q1258.32 1934.46 1261.15 1932.87 Q1264.02 1931.28 1267.74 1931.28 Q1273.88 1931.28 1277.03 1935.1 Q1280.19 1938.88 1280.19 1946.27 Z\" fill=\"#000000\" fill-rule=\"evenodd\" fill-opacity=\"1\" /><polyline clip-path=\"url(#clip044)\" style=\"stroke:#000000; stroke-linecap:butt; stroke-linejoin:round; stroke-width:2; stroke-opacity:0.1; fill:none\" points=\"\n",
       "  309.306,1733.76 1986.51,1733.76 \n",
       "  \"/>\n",
       "<polyline clip-path=\"url(#clip044)\" style=\"stroke:#000000; stroke-linecap:butt; stroke-linejoin:round; stroke-width:2; stroke-opacity:0.1; fill:none\" points=\"\n",
       "  309.306,1587.13 1986.51,1587.13 \n",
       "  \"/>\n",
       "<polyline clip-path=\"url(#clip044)\" style=\"stroke:#000000; stroke-linecap:butt; stroke-linejoin:round; stroke-width:2; stroke-opacity:0.1; fill:none\" points=\"\n",
       "  309.306,1440.51 1986.51,1440.51 \n",
       "  \"/>\n",
       "<polyline clip-path=\"url(#clip044)\" style=\"stroke:#000000; stroke-linecap:butt; stroke-linejoin:round; stroke-width:2; stroke-opacity:0.1; fill:none\" points=\"\n",
       "  309.306,1293.88 1986.51,1293.88 \n",
       "  \"/>\n",
       "<polyline clip-path=\"url(#clip044)\" style=\"stroke:#000000; stroke-linecap:butt; stroke-linejoin:round; stroke-width:2; stroke-opacity:0.1; fill:none\" points=\"\n",
       "  309.306,1147.25 1986.51,1147.25 \n",
       "  \"/>\n",
       "<polyline clip-path=\"url(#clip040)\" style=\"stroke:#000000; stroke-linecap:butt; stroke-linejoin:round; stroke-width:4; stroke-opacity:1; fill:none\" points=\"\n",
       "  309.306,1798.92 309.306,1131.03 \n",
       "  \"/>\n",
       "<polyline clip-path=\"url(#clip040)\" style=\"stroke:#000000; stroke-linecap:butt; stroke-linejoin:round; stroke-width:4; stroke-opacity:1; fill:none\" points=\"\n",
       "  309.306,1733.76 328.204,1733.76 \n",
       "  \"/>\n",
       "<polyline clip-path=\"url(#clip040)\" style=\"stroke:#000000; stroke-linecap:butt; stroke-linejoin:round; stroke-width:4; stroke-opacity:1; fill:none\" points=\"\n",
       "  309.306,1587.13 328.204,1587.13 \n",
       "  \"/>\n",
       "<polyline clip-path=\"url(#clip040)\" style=\"stroke:#000000; stroke-linecap:butt; stroke-linejoin:round; stroke-width:4; stroke-opacity:1; fill:none\" points=\"\n",
       "  309.306,1440.51 328.204,1440.51 \n",
       "  \"/>\n",
       "<polyline clip-path=\"url(#clip040)\" style=\"stroke:#000000; stroke-linecap:butt; stroke-linejoin:round; stroke-width:4; stroke-opacity:1; fill:none\" points=\"\n",
       "  309.306,1293.88 328.204,1293.88 \n",
       "  \"/>\n",
       "<polyline clip-path=\"url(#clip040)\" style=\"stroke:#000000; stroke-linecap:butt; stroke-linejoin:round; stroke-width:4; stroke-opacity:1; fill:none\" points=\"\n",
       "  309.306,1147.25 328.204,1147.25 \n",
       "  \"/>\n",
       "<path clip-path=\"url(#clip040)\" d=\"M112.2 1734.21 L141.876 1734.21 L141.876 1738.15 L112.2 1738.15 L112.2 1734.21 Z\" fill=\"#000000\" fill-rule=\"evenodd\" fill-opacity=\"1\" /><path clip-path=\"url(#clip040)\" d=\"M161.968 1719.56 Q158.357 1719.56 156.529 1723.12 Q154.723 1726.67 154.723 1733.8 Q154.723 1740.9 156.529 1744.47 Q158.357 1748.01 161.968 1748.01 Q165.603 1748.01 167.408 1744.47 Q169.237 1740.9 169.237 1733.8 Q169.237 1726.67 167.408 1723.12 Q165.603 1719.56 161.968 1719.56 M161.968 1715.86 Q167.779 1715.86 170.834 1720.46 Q173.913 1725.05 173.913 1733.8 Q173.913 1742.52 170.834 1747.13 Q167.779 1751.71 161.968 1751.71 Q156.158 1751.71 153.08 1747.13 Q150.024 1742.52 150.024 1733.8 Q150.024 1725.05 153.08 1720.46 Q156.158 1715.86 161.968 1715.86 Z\" fill=\"#000000\" fill-rule=\"evenodd\" fill-opacity=\"1\" /><path clip-path=\"url(#clip040)\" d=\"M182.13 1745.16 L187.015 1745.16 L187.015 1751.04 L182.13 1751.04 L182.13 1745.16 Z\" fill=\"#000000\" fill-rule=\"evenodd\" fill-opacity=\"1\" /><path clip-path=\"url(#clip040)\" d=\"M197.246 1716.48 L215.602 1716.48 L215.602 1720.42 L201.528 1720.42 L201.528 1728.89 Q202.547 1728.54 203.565 1728.38 Q204.584 1728.19 205.602 1728.19 Q211.389 1728.19 214.769 1731.36 Q218.149 1734.54 218.149 1739.95 Q218.149 1745.53 214.676 1748.63 Q211.204 1751.71 204.885 1751.71 Q202.709 1751.71 200.44 1751.34 Q198.195 1750.97 195.788 1750.23 L195.788 1745.53 Q197.871 1746.67 200.093 1747.22 Q202.315 1747.78 204.792 1747.78 Q208.797 1747.78 211.135 1745.67 Q213.473 1743.56 213.473 1739.95 Q213.473 1736.34 211.135 1734.24 Q208.797 1732.13 204.792 1732.13 Q202.917 1732.13 201.042 1732.55 Q199.19 1732.96 197.246 1733.84 L197.246 1716.48 Z\" fill=\"#000000\" fill-rule=\"evenodd\" fill-opacity=\"1\" /><path clip-path=\"url(#clip040)\" d=\"M237.362 1719.56 Q233.75 1719.56 231.922 1723.12 Q230.116 1726.67 230.116 1733.8 Q230.116 1740.9 231.922 1744.47 Q233.75 1748.01 237.362 1748.01 Q240.996 1748.01 242.801 1744.47 Q244.63 1740.9 244.63 1733.8 Q244.63 1726.67 242.801 1723.12 Q240.996 1719.56 237.362 1719.56 M237.362 1715.86 Q243.172 1715.86 246.227 1720.46 Q249.306 1725.05 249.306 1733.8 Q249.306 1742.52 246.227 1747.13 Q243.172 1751.71 237.362 1751.71 Q231.551 1751.71 228.473 1747.13 Q225.417 1742.52 225.417 1733.8 Q225.417 1725.05 228.473 1720.46 Q231.551 1715.86 237.362 1715.86 Z\" fill=\"#000000\" fill-rule=\"evenodd\" fill-opacity=\"1\" /><path clip-path=\"url(#clip040)\" d=\"M113.196 1587.58 L142.871 1587.58 L142.871 1591.52 L113.196 1591.52 L113.196 1587.58 Z\" fill=\"#000000\" fill-rule=\"evenodd\" fill-opacity=\"1\" /><path clip-path=\"url(#clip040)\" d=\"M162.964 1572.93 Q159.353 1572.93 157.524 1576.5 Q155.718 1580.04 155.718 1587.17 Q155.718 1594.27 157.524 1597.84 Q159.353 1601.38 162.964 1601.38 Q166.598 1601.38 168.404 1597.84 Q170.232 1594.27 170.232 1587.17 Q170.232 1580.04 168.404 1576.5 Q166.598 1572.93 162.964 1572.93 M162.964 1569.23 Q168.774 1569.23 171.829 1573.83 Q174.908 1578.42 174.908 1587.17 Q174.908 1595.89 171.829 1600.5 Q168.774 1605.08 162.964 1605.08 Q157.154 1605.08 154.075 1600.5 Q151.019 1595.89 151.019 1587.17 Q151.019 1578.42 154.075 1573.83 Q157.154 1569.23 162.964 1569.23 Z\" fill=\"#000000\" fill-rule=\"evenodd\" fill-opacity=\"1\" /><path clip-path=\"url(#clip040)\" d=\"M183.126 1598.53 L188.01 1598.53 L188.01 1604.41 L183.126 1604.41 L183.126 1598.53 Z\" fill=\"#000000\" fill-rule=\"evenodd\" fill-opacity=\"1\" /><path clip-path=\"url(#clip040)\" d=\"M202.223 1600.48 L218.542 1600.48 L218.542 1604.41 L196.598 1604.41 L196.598 1600.48 Q199.26 1597.72 203.843 1593.09 Q208.45 1588.44 209.63 1587.1 Q211.876 1584.58 212.755 1582.84 Q213.658 1581.08 213.658 1579.39 Q213.658 1576.64 211.714 1574.9 Q209.792 1573.16 206.69 1573.16 Q204.491 1573.16 202.038 1573.93 Q199.607 1574.69 196.829 1576.24 L196.829 1571.52 Q199.653 1570.39 202.107 1569.81 Q204.561 1569.23 206.598 1569.23 Q211.968 1569.23 215.163 1571.91 Q218.357 1574.6 218.357 1579.09 Q218.357 1581.22 217.547 1583.14 Q216.76 1585.04 214.653 1587.63 Q214.075 1588.3 210.973 1591.52 Q207.871 1594.71 202.223 1600.48 Z\" fill=\"#000000\" fill-rule=\"evenodd\" fill-opacity=\"1\" /><path clip-path=\"url(#clip040)\" d=\"M228.403 1569.85 L246.76 1569.85 L246.76 1573.79 L232.686 1573.79 L232.686 1582.26 Q233.704 1581.91 234.723 1581.75 Q235.741 1581.57 236.76 1581.57 Q242.547 1581.57 245.926 1584.74 Q249.306 1587.91 249.306 1593.33 Q249.306 1598.9 245.834 1602.01 Q242.361 1605.08 236.042 1605.08 Q233.866 1605.08 231.598 1604.71 Q229.352 1604.34 226.945 1603.6 L226.945 1598.9 Q229.028 1600.04 231.25 1600.59 Q233.473 1601.15 235.949 1601.15 Q239.954 1601.15 242.292 1599.04 Q244.63 1596.94 244.63 1593.33 Q244.63 1589.71 242.292 1587.61 Q239.954 1585.5 235.949 1585.5 Q234.075 1585.5 232.2 1585.92 Q230.348 1586.33 228.403 1587.21 L228.403 1569.85 Z\" fill=\"#000000\" fill-rule=\"evenodd\" fill-opacity=\"1\" /><path clip-path=\"url(#clip040)\" d=\"M161.968 1426.3 Q158.357 1426.3 156.529 1429.87 Q154.723 1433.41 154.723 1440.54 Q154.723 1447.65 156.529 1451.21 Q158.357 1454.75 161.968 1454.75 Q165.603 1454.75 167.408 1451.21 Q169.237 1447.65 169.237 1440.54 Q169.237 1433.41 167.408 1429.87 Q165.603 1426.3 161.968 1426.3 M161.968 1422.6 Q167.779 1422.6 170.834 1427.21 Q173.913 1431.79 173.913 1440.54 Q173.913 1449.27 170.834 1453.87 Q167.779 1458.46 161.968 1458.46 Q156.158 1458.46 153.08 1453.87 Q150.024 1449.27 150.024 1440.54 Q150.024 1431.79 153.08 1427.21 Q156.158 1422.6 161.968 1422.6 Z\" fill=\"#000000\" fill-rule=\"evenodd\" fill-opacity=\"1\" /><path clip-path=\"url(#clip040)\" d=\"M182.13 1451.91 L187.015 1451.91 L187.015 1457.79 L182.13 1457.79 L182.13 1451.91 Z\" fill=\"#000000\" fill-rule=\"evenodd\" fill-opacity=\"1\" /><path clip-path=\"url(#clip040)\" d=\"M207.2 1426.3 Q203.589 1426.3 201.76 1429.87 Q199.954 1433.41 199.954 1440.54 Q199.954 1447.65 201.76 1451.21 Q203.589 1454.75 207.2 1454.75 Q210.834 1454.75 212.639 1451.21 Q214.468 1447.65 214.468 1440.54 Q214.468 1433.41 212.639 1429.87 Q210.834 1426.3 207.2 1426.3 M207.2 1422.6 Q213.01 1422.6 216.065 1427.21 Q219.144 1431.79 219.144 1440.54 Q219.144 1449.27 216.065 1453.87 Q213.01 1458.46 207.2 1458.46 Q201.389 1458.46 198.311 1453.87 Q195.255 1449.27 195.255 1440.54 Q195.255 1431.79 198.311 1427.21 Q201.389 1422.6 207.2 1422.6 Z\" fill=\"#000000\" fill-rule=\"evenodd\" fill-opacity=\"1\" /><path clip-path=\"url(#clip040)\" d=\"M237.362 1426.3 Q233.75 1426.3 231.922 1429.87 Q230.116 1433.41 230.116 1440.54 Q230.116 1447.65 231.922 1451.21 Q233.75 1454.75 237.362 1454.75 Q240.996 1454.75 242.801 1451.21 Q244.63 1447.65 244.63 1440.54 Q244.63 1433.41 242.801 1429.87 Q240.996 1426.3 237.362 1426.3 M237.362 1422.6 Q243.172 1422.6 246.227 1427.21 Q249.306 1431.79 249.306 1440.54 Q249.306 1449.27 246.227 1453.87 Q243.172 1458.46 237.362 1458.46 Q231.551 1458.46 228.473 1453.87 Q225.417 1449.27 225.417 1440.54 Q225.417 1431.79 228.473 1427.21 Q231.551 1422.6 237.362 1422.6 Z\" fill=\"#000000\" fill-rule=\"evenodd\" fill-opacity=\"1\" /><path clip-path=\"url(#clip040)\" d=\"M162.964 1279.68 Q159.353 1279.68 157.524 1283.24 Q155.718 1286.78 155.718 1293.91 Q155.718 1301.02 157.524 1304.58 Q159.353 1308.13 162.964 1308.13 Q166.598 1308.13 168.404 1304.58 Q170.232 1301.02 170.232 1293.91 Q170.232 1286.78 168.404 1283.24 Q166.598 1279.68 162.964 1279.68 M162.964 1275.97 Q168.774 1275.97 171.829 1280.58 Q174.908 1285.16 174.908 1293.91 Q174.908 1302.64 171.829 1307.25 Q168.774 1311.83 162.964 1311.83 Q157.154 1311.83 154.075 1307.25 Q151.019 1302.64 151.019 1293.91 Q151.019 1285.16 154.075 1280.58 Q157.154 1275.97 162.964 1275.97 Z\" fill=\"#000000\" fill-rule=\"evenodd\" fill-opacity=\"1\" /><path clip-path=\"url(#clip040)\" d=\"M183.126 1305.28 L188.01 1305.28 L188.01 1311.16 L183.126 1311.16 L183.126 1305.28 Z\" fill=\"#000000\" fill-rule=\"evenodd\" fill-opacity=\"1\" /><path clip-path=\"url(#clip040)\" d=\"M202.223 1307.22 L218.542 1307.22 L218.542 1311.16 L196.598 1311.16 L196.598 1307.22 Q199.26 1304.47 203.843 1299.84 Q208.45 1295.19 209.63 1293.84 Q211.876 1291.32 212.755 1289.59 Q213.658 1287.83 213.658 1286.14 Q213.658 1283.38 211.714 1281.65 Q209.792 1279.91 206.69 1279.91 Q204.491 1279.91 202.038 1280.67 Q199.607 1281.44 196.829 1282.99 L196.829 1278.27 Q199.653 1277.13 202.107 1276.55 Q204.561 1275.97 206.598 1275.97 Q211.968 1275.97 215.163 1278.66 Q218.357 1281.34 218.357 1285.84 Q218.357 1287.96 217.547 1289.89 Q216.76 1291.78 214.653 1294.38 Q214.075 1295.05 210.973 1298.27 Q207.871 1301.46 202.223 1307.22 Z\" fill=\"#000000\" fill-rule=\"evenodd\" fill-opacity=\"1\" /><path clip-path=\"url(#clip040)\" d=\"M228.403 1276.6 L246.76 1276.6 L246.76 1280.53 L232.686 1280.53 L232.686 1289.01 Q233.704 1288.66 234.723 1288.5 Q235.741 1288.31 236.76 1288.31 Q242.547 1288.31 245.926 1291.48 Q249.306 1294.65 249.306 1300.07 Q249.306 1305.65 245.834 1308.75 Q242.361 1311.83 236.042 1311.83 Q233.866 1311.83 231.598 1311.46 Q229.352 1311.09 226.945 1310.35 L226.945 1305.65 Q229.028 1306.78 231.25 1307.34 Q233.473 1307.9 235.949 1307.9 Q239.954 1307.9 242.292 1305.79 Q244.63 1303.68 244.63 1300.07 Q244.63 1296.46 242.292 1294.35 Q239.954 1292.25 235.949 1292.25 Q234.075 1292.25 232.2 1292.66 Q230.348 1293.08 228.403 1293.96 L228.403 1276.6 Z\" fill=\"#000000\" fill-rule=\"evenodd\" fill-opacity=\"1\" /><path clip-path=\"url(#clip040)\" d=\"M161.968 1133.05 Q158.357 1133.05 156.529 1136.62 Q154.723 1140.16 154.723 1147.29 Q154.723 1154.39 156.529 1157.96 Q158.357 1161.5 161.968 1161.5 Q165.603 1161.5 167.408 1157.96 Q169.237 1154.39 169.237 1147.29 Q169.237 1140.16 167.408 1136.62 Q165.603 1133.05 161.968 1133.05 M161.968 1129.35 Q167.779 1129.35 170.834 1133.95 Q173.913 1138.54 173.913 1147.29 Q173.913 1156.01 170.834 1160.62 Q167.779 1165.2 161.968 1165.2 Q156.158 1165.2 153.08 1160.62 Q150.024 1156.01 150.024 1147.29 Q150.024 1138.54 153.08 1133.95 Q156.158 1129.35 161.968 1129.35 Z\" fill=\"#000000\" fill-rule=\"evenodd\" fill-opacity=\"1\" /><path clip-path=\"url(#clip040)\" d=\"M182.13 1158.65 L187.015 1158.65 L187.015 1164.53 L182.13 1164.53 L182.13 1158.65 Z\" fill=\"#000000\" fill-rule=\"evenodd\" fill-opacity=\"1\" /><path clip-path=\"url(#clip040)\" d=\"M197.246 1129.97 L215.602 1129.97 L215.602 1133.91 L201.528 1133.91 L201.528 1142.38 Q202.547 1142.03 203.565 1141.87 Q204.584 1141.68 205.602 1141.68 Q211.389 1141.68 214.769 1144.86 Q218.149 1148.03 218.149 1153.44 Q218.149 1159.02 214.676 1162.12 Q211.204 1165.2 204.885 1165.2 Q202.709 1165.2 200.44 1164.83 Q198.195 1164.46 195.788 1163.72 L195.788 1159.02 Q197.871 1160.16 200.093 1160.71 Q202.315 1161.27 204.792 1161.27 Q208.797 1161.27 211.135 1159.16 Q213.473 1157.06 213.473 1153.44 Q213.473 1149.83 211.135 1147.73 Q208.797 1145.62 204.792 1145.62 Q202.917 1145.62 201.042 1146.04 Q199.19 1146.45 197.246 1147.33 L197.246 1129.97 Z\" fill=\"#000000\" fill-rule=\"evenodd\" fill-opacity=\"1\" /><path clip-path=\"url(#clip040)\" d=\"M237.362 1133.05 Q233.75 1133.05 231.922 1136.62 Q230.116 1140.16 230.116 1147.29 Q230.116 1154.39 231.922 1157.96 Q233.75 1161.5 237.362 1161.5 Q240.996 1161.5 242.801 1157.96 Q244.63 1154.39 244.63 1147.29 Q244.63 1140.16 242.801 1136.62 Q240.996 1133.05 237.362 1133.05 M237.362 1129.35 Q243.172 1129.35 246.227 1133.95 Q249.306 1138.54 249.306 1147.29 Q249.306 1156.01 246.227 1160.62 Q243.172 1165.2 237.362 1165.2 Q231.551 1165.2 228.473 1160.62 Q225.417 1156.01 225.417 1147.29 Q225.417 1138.54 228.473 1133.95 Q231.551 1129.35 237.362 1129.35 Z\" fill=\"#000000\" fill-rule=\"evenodd\" fill-opacity=\"1\" /><path clip-path=\"url(#clip040)\" d=\"M-8.01624 1652.1 L-1.74602 1652.1 Q-3.49659 1655.76 -4.35596 1659 Q-5.21533 1662.25 -5.21533 1665.27 Q-5.21533 1670.52 -3.17831 1673.39 Q-1.14128 1676.22 2.61449 1676.22 Q5.76551 1676.22 7.38877 1674.34 Q8.98019 1672.43 9.96688 1667.15 L10.7626 1663.27 Q12.1312 1656.07 15.6005 1652.67 Q19.038 1649.23 24.8308 1649.23 Q31.7376 1649.23 35.3024 1653.88 Q38.8672 1658.49 38.8672 1667.44 Q38.8672 1670.81 38.1033 1674.63 Q37.3394 1678.42 35.8435 1682.49 L29.2231 1682.49 Q31.4193 1678.58 32.5333 1674.82 Q33.6473 1671.07 33.6473 1667.44 Q33.6473 1661.93 31.483 1658.94 Q29.3186 1655.95 25.3082 1655.95 Q21.8071 1655.95 19.8337 1658.11 Q17.8604 1660.24 16.8737 1665.15 L16.1098 1669.06 Q14.6775 1676.25 11.622 1679.47 Q8.56642 1682.68 3.12374 1682.68 Q-3.17831 1682.68 -6.80676 1678.26 Q-10.4352 1673.8 -10.4352 1666 Q-10.4352 1662.66 -9.83047 1659.19 Q-9.22573 1655.72 -8.01624 1652.1 Z\" fill=\"#000000\" fill-rule=\"evenodd\" fill-opacity=\"1\" /><path clip-path=\"url(#clip040)\" d=\"M20.0247 1623.26 Q20.0247 1630.36 21.6479 1633.09 Q23.2712 1635.83 27.1861 1635.83 Q30.3053 1635.83 32.1514 1633.79 Q33.9656 1631.73 33.9656 1628.19 Q33.9656 1623.32 30.5281 1620.39 Q27.0588 1617.43 21.3297 1617.43 L20.0247 1617.43 L20.0247 1623.26 M17.6057 1611.58 L37.9442 1611.58 L37.9442 1617.43 L32.5333 1617.43 Q35.7798 1619.44 37.3394 1622.43 Q38.8672 1625.42 38.8672 1629.75 Q38.8672 1635.23 35.8116 1638.47 Q32.7243 1641.69 27.5681 1641.69 Q21.5525 1641.69 18.4969 1637.68 Q15.4414 1633.64 15.4414 1625.65 L15.4414 1617.43 L14.8685 1617.43 Q10.8262 1617.43 8.63008 1620.11 Q6.40208 1622.75 6.40208 1627.56 Q6.40208 1630.61 7.13414 1633.51 Q7.86619 1636.4 9.33031 1639.08 L3.91946 1639.08 Q2.67814 1635.86 2.0734 1632.84 Q1.43683 1629.82 1.43683 1626.95 Q1.43683 1619.22 5.44723 1615.4 Q9.45762 1611.58 17.6057 1611.58 Z\" fill=\"#000000\" fill-rule=\"evenodd\" fill-opacity=\"1\" /><path clip-path=\"url(#clip040)\" d=\"M9.13933 1571.76 Q5.1926 1569.56 3.31471 1566.51 Q1.43683 1563.45 1.43683 1559.32 Q1.43683 1553.75 5.35174 1550.72 Q9.23482 1547.7 16.4281 1547.7 L37.9442 1547.7 L37.9442 1553.59 L16.619 1553.59 Q11.4946 1553.59 9.01202 1555.4 Q6.5294 1557.22 6.5294 1560.94 Q6.5294 1565.49 9.55311 1568.13 Q12.5768 1570.77 17.7967 1570.77 L37.9442 1570.77 L37.9442 1576.66 L16.619 1576.66 Q11.4628 1576.66 9.01202 1578.48 Q6.5294 1580.29 6.5294 1584.08 Q6.5294 1588.57 9.58493 1591.21 Q12.6086 1593.85 17.7967 1593.85 L37.9442 1593.85 L37.9442 1599.74 L2.2962 1599.74 L2.2962 1593.85 L7.83437 1593.85 Q4.55603 1591.84 2.99643 1589.04 Q1.43683 1586.24 1.43683 1582.39 Q1.43683 1578.51 3.4102 1575.8 Q5.38357 1573.07 9.13933 1571.76 Z\" fill=\"#000000\" fill-rule=\"evenodd\" fill-opacity=\"1\" /><path clip-path=\"url(#clip040)\" d=\"M32.597 1530.35 L51.5031 1530.35 L51.5031 1536.24 L2.2962 1536.24 L2.2962 1530.35 L7.70705 1530.35 Q4.5242 1528.51 2.99643 1525.7 Q1.43683 1522.87 1.43683 1518.96 Q1.43683 1512.46 6.59305 1508.42 Q11.7493 1504.35 20.152 1504.35 Q28.5547 1504.35 33.711 1508.42 Q38.8672 1512.46 38.8672 1518.96 Q38.8672 1522.87 37.3394 1525.7 Q35.7798 1528.51 32.597 1530.35 M20.152 1510.43 Q13.6908 1510.43 10.0305 1513.1 Q6.33842 1515.74 6.33842 1520.39 Q6.33842 1525.04 10.0305 1527.71 Q13.6908 1530.35 20.152 1530.35 Q26.6132 1530.35 30.3053 1527.71 Q33.9656 1525.04 33.9656 1520.39 Q33.9656 1515.74 30.3053 1513.1 Q26.6132 1510.43 20.152 1510.43 Z\" fill=\"#000000\" fill-rule=\"evenodd\" fill-opacity=\"1\" /><path clip-path=\"url(#clip040)\" d=\"M-11.581 1494.64 L-11.581 1488.78 L37.9442 1488.78 L37.9442 1494.64 L-11.581 1494.64 Z\" fill=\"#000000\" fill-rule=\"evenodd\" fill-opacity=\"1\" /><path clip-path=\"url(#clip040)\" d=\"M18.6561 1446.04 L21.5206 1446.04 L21.5206 1472.96 Q27.5681 1472.58 30.7509 1469.34 Q33.9019 1466.06 33.9019 1460.23 Q33.9019 1456.86 33.0744 1453.71 Q32.2469 1450.53 30.5918 1447.41 L36.1299 1447.41 Q37.4667 1450.56 38.167 1453.87 Q38.8672 1457.18 38.8672 1460.58 Q38.8672 1469.11 33.9019 1474.11 Q28.9367 1479.08 20.4703 1479.08 Q11.7174 1479.08 6.59305 1474.37 Q1.43683 1469.62 1.43683 1461.6 Q1.43683 1454.41 6.0838 1450.24 Q10.6989 1446.04 18.6561 1446.04 M16.9373 1451.89 Q12.1312 1451.96 9.26665 1454.6 Q6.40208 1457.21 6.40208 1461.54 Q6.40208 1466.44 9.17116 1469.4 Q11.9402 1472.33 16.9692 1472.77 L16.9373 1451.89 Z\" fill=\"#000000\" fill-rule=\"evenodd\" fill-opacity=\"1\" /><path clip-path=\"url(#clip040)\" d=\"M2.2962 1419.91 L2.2962 1413.7 L32.215 1402.56 L2.2962 1391.42 L2.2962 1385.21 L37.9442 1398.58 L37.9442 1406.54 L2.2962 1419.91 Z\" fill=\"#000000\" fill-rule=\"evenodd\" fill-opacity=\"1\" /><path clip-path=\"url(#clip040)\" d=\"M20.0247 1360.93 Q20.0247 1368.03 21.6479 1370.76 Q23.2712 1373.5 27.1861 1373.5 Q30.3053 1373.5 32.1514 1371.46 Q33.9656 1369.39 33.9656 1365.86 Q33.9656 1360.99 30.5281 1358.06 Q27.0588 1355.1 21.3297 1355.1 L20.0247 1355.1 L20.0247 1360.93 M17.6057 1349.25 L37.9442 1349.25 L37.9442 1355.1 L32.5333 1355.1 Q35.7798 1357.11 37.3394 1360.1 Q38.8672 1363.09 38.8672 1367.42 Q38.8672 1372.9 35.8116 1376.14 Q32.7243 1379.36 27.5681 1379.36 Q21.5525 1379.36 18.4969 1375.35 Q15.4414 1371.3 15.4414 1363.32 L15.4414 1355.1 L14.8685 1355.1 Q10.8262 1355.1 8.63008 1357.78 Q6.40208 1360.42 6.40208 1365.23 Q6.40208 1368.28 7.13414 1371.18 Q7.86619 1374.07 9.33031 1376.75 L3.91946 1376.75 Q2.67814 1373.53 2.0734 1370.51 Q1.43683 1367.49 1.43683 1364.62 Q1.43683 1356.89 5.44723 1353.07 Q9.45762 1349.25 17.6057 1349.25 Z\" fill=\"#000000\" fill-rule=\"evenodd\" fill-opacity=\"1\" /><path clip-path=\"url(#clip040)\" d=\"M-11.581 1337.18 L-11.581 1331.33 L37.9442 1331.33 L37.9442 1337.18 L-11.581 1337.18 Z\" fill=\"#000000\" fill-rule=\"evenodd\" fill-opacity=\"1\" /><path clip-path=\"url(#clip040)\" d=\"M23.8759 1319.68 L2.2962 1319.68 L2.2962 1313.82 L23.6531 1313.82 Q28.7139 1313.82 31.2602 1311.85 Q33.7746 1309.88 33.7746 1305.93 Q33.7746 1301.19 30.7509 1298.45 Q27.7272 1295.68 22.5073 1295.68 L2.2962 1295.68 L2.2962 1289.82 L37.9442 1289.82 L37.9442 1295.68 L32.4696 1295.68 Q35.7162 1297.81 37.3076 1300.65 Q38.8672 1303.45 38.8672 1307.17 Q38.8672 1313.31 35.0478 1316.5 Q31.2283 1319.68 23.8759 1319.68 M1.43683 1304.94 L1.43683 1304.94 Z\" fill=\"#000000\" fill-rule=\"evenodd\" fill-opacity=\"1\" /><path clip-path=\"url(#clip040)\" d=\"M18.6561 1247.27 L21.5206 1247.27 L21.5206 1274.2 Q27.5681 1273.81 30.7509 1270.57 Q33.9019 1267.29 33.9019 1261.46 Q33.9019 1258.09 33.0744 1254.94 Q32.2469 1251.76 30.5918 1248.64 L36.1299 1248.64 Q37.4667 1251.79 38.167 1255.1 Q38.8672 1258.41 38.8672 1261.81 Q38.8672 1270.34 33.9019 1275.34 Q28.9367 1280.31 20.4703 1280.31 Q11.7174 1280.31 6.59305 1275.6 Q1.43683 1270.85 1.43683 1262.83 Q1.43683 1255.64 6.0838 1251.47 Q10.6989 1247.27 18.6561 1247.27 M16.9373 1253.13 Q12.1312 1253.19 9.26665 1255.83 Q6.40208 1258.44 6.40208 1262.77 Q6.40208 1267.67 9.17116 1270.63 Q11.9402 1273.56 16.9692 1274 L16.9373 1253.13 Z\" fill=\"#000000\" fill-rule=\"evenodd\" fill-opacity=\"1\" /><path clip-path=\"url(#clip040)\" d=\"M1135.79 1069.78 L1135.79 1089.83 L1128.3 1089.83 L1128.3 1027.49 Q1128.3 1009.02 1145.56 1009.02 Q1163.14 1009.02 1163.14 1024.61 Q1163.14 1035.71 1156.17 1039.76 Q1167.51 1043.41 1167.51 1054.23 Q1167.51 1073.43 1147.99 1073.43 Q1139.4 1073.43 1135.79 1069.78 M1135.79 1060.06 Q1140.29 1067.07 1148.27 1067.07 Q1159.94 1067.07 1159.94 1054.35 Q1159.94 1042.92 1141.14 1043.81 L1141.14 1036.93 Q1155.85 1036.93 1155.85 1023.97 Q1155.85 1015.09 1146.37 1015.09 Q1135.79 1015.09 1135.79 1027.73 L1135.79 1060.06 Z\" fill=\"#000000\" fill-rule=\"evenodd\" fill-opacity=\"1\" /><polyline clip-path=\"url(#clip044)\" style=\"stroke:#009af9; stroke-linecap:butt; stroke-linejoin:round; stroke-width:4; stroke-opacity:1; fill:none\" points=\"\n",
       "  356.774,1409.77 357.565,1465.36 358.357,1493.06 359.148,1483.58 359.94,1539.22 360.731,1478.8 361.523,1507.45 362.315,1430.19 363.106,1366.17 363.898,1491.07 \n",
       "  364.689,1686.39 365.481,1516.78 366.272,1503.36 367.064,1426.46 367.855,1343.07 368.647,1354.97 369.438,1373.68 370.23,1455.76 371.021,1464.42 371.813,1442.74 \n",
       "  372.604,1438.6 373.396,1479.53 374.187,1479.25 374.979,1481.15 375.77,1508.34 376.562,1347.2 377.354,1399.47 378.145,1401.52 378.937,1400.5 379.728,1463.97 \n",
       "  380.52,1549.56 381.311,1446.48 382.103,1503.31 382.894,1506.82 383.686,1503.92 384.477,1515.29 385.269,1468.77 386.06,1333.99 386.852,1580.43 387.643,1588.63 \n",
       "  388.435,1345.79 389.226,1415.68 390.018,1464.46 390.81,1503.71 391.601,1563.45 392.393,1501.54 393.184,1507.37 393.976,1517.81 394.767,1432.25 395.559,1432.25 \n",
       "  396.35,1572.38 397.142,1608.02 397.933,1593.91 398.725,1377.84 399.516,1395.36 400.308,1389.94 401.099,1384.46 401.891,1596.78 402.682,1607.13 403.474,1601.25 \n",
       "  404.265,1321.53 405.057,1477.89 405.849,1574.74 406.64,1496.78 407.432,1376.54 408.223,1451.53 409.015,1473.7 409.806,1550.84 410.598,1491.95 411.389,1509.84 \n",
       "  412.181,1480.18 412.972,1498.24 413.764,1425.08 414.555,1476.91 415.347,1426.12 416.138,1531.7 416.93,1537.8 417.721,1558.26 418.513,1439.52 419.305,1565.59 \n",
       "  420.096,1560.16 420.888,1560.16 421.679,1560.08 422.471,1568.68 423.262,1564.03 424.054,1564.03 424.845,1482.06 425.637,1521.9 426.428,1458.8 427.22,1472.22 \n",
       "  428.011,1451.54 428.803,1441.46 429.594,1441.46 430.386,1441.46 431.177,1531.89 431.969,1464.23 432.76,1459.01 433.552,1454.43 434.344,1468.02 435.135,1546.49 \n",
       "  435.927,1593.46 436.718,1599.34 437.51,1474.49 438.301,1483.71 439.093,1546.52 439.884,1501.04 440.676,1598.32 441.467,1585.81 442.259,1439.12 443.05,1455.14 \n",
       "  443.842,1469.62 444.633,1452.61 445.425,1509.64 446.216,1557.58 447.008,1552.98 447.8,1345.88 448.591,1314.93 449.383,1356.03 450.174,1444.09 450.966,1459.59 \n",
       "  451.757,1431.26 452.549,1466.1 453.34,1468.7 454.132,1533.01 454.923,1476.72 455.715,1408.76 456.506,1427.36 457.298,1524.93 458.089,1513.32 458.881,1524.71 \n",
       "  459.672,1495.89 460.464,1500.62 461.255,1366.58 462.047,1292.82 462.839,1582.09 463.63,1582.09 464.422,1597.25 465.213,1618.36 466.005,1600.37 466.796,1463.12 \n",
       "  467.588,1606.56 468.379,1552.95 469.171,1503.61 469.962,1411.69 470.754,1416.03 471.545,1423.71 472.337,1477.66 473.128,1475.6 473.92,1497.61 474.711,1605.93 \n",
       "  475.503,1605.93 476.295,1605.93 477.086,1574.7 477.878,1554.18 478.669,1497.69 479.461,1497.6 480.252,1497.6 481.044,1441.72 481.835,1446.85 482.627,1561.96 \n",
       "  483.418,1577.12 484.21,1552.01 485.001,1632.75 485.793,1563.12 486.584,1332.78 487.376,1461.15 488.167,1541.68 488.959,1350.04 489.75,1371.87 490.542,1599.88 \n",
       "  491.334,1587.55 492.125,1547.21 492.917,1491.79 493.708,1458.64 494.5,1514.56 495.291,1486.62 496.083,1445.39 496.874,1436.53 497.666,1414.97 498.457,1431.66 \n",
       "  499.249,1336.75 500.04,1460.31 500.832,1507.24 501.623,1516.55 502.415,1507.77 503.206,1507.59 503.998,1428.38 504.79,1414.02 505.581,1447.47 506.373,1591.23 \n",
       "  507.164,1624.28 507.956,1626.58 508.747,1520.92 509.539,1627.37 510.33,1363.13 511.122,1403.95 511.913,1569.75 512.705,1569.75 513.496,1528.31 514.288,1495.66 \n",
       "  515.079,1483.27 515.871,1590.77 516.662,1533.71 517.454,1413.25 518.245,1398.09 519.037,1622.78 519.829,1535.13 520.62,1535.92 521.412,1472.42 522.203,1456.05 \n",
       "  522.995,1540.63 523.786,1460.64 524.578,1542.74 525.369,1570.84 526.161,1411.08 526.952,1504.4 527.744,1572.94 528.535,1479.89 529.327,1534.16 530.118,1526.93 \n",
       "  530.91,1526.93 531.701,1537.12 532.493,1445.12 533.285,1462.81 534.076,1451.93 534.868,1481.11 535.659,1573.39 536.451,1557.45 537.242,1569.66 538.034,1639.29 \n",
       "  538.825,1707.79 539.617,1492.44 540.408,1493.91 541.2,1472.2 541.991,1559.84 542.783,1644.33 543.574,1452.9 544.366,1522.98 545.157,1442.12 545.949,1381.36 \n",
       "  546.74,1471.34 547.532,1525.39 548.324,1553.74 549.115,1509.76 549.907,1538.81 550.698,1466.51 551.49,1510.7 552.281,1400.66 553.073,1525.11 553.864,1514.59 \n",
       "  554.656,1587.62 555.447,1580.42 556.239,1568.59 557.03,1547.58 557.822,1525.86 558.613,1521.49 559.405,1435.05 560.196,1465.26 560.988,1451.92 561.78,1405.65 \n",
       "  562.571,1534.23 563.363,1485.39 564.154,1499.22 564.946,1492.74 565.737,1521.22 566.529,1509.26 567.32,1548.21 568.112,1569.76 568.903,1636.94 569.695,1649.22 \n",
       "  570.486,1649.22 571.278,1605.42 572.069,1555.54 572.861,1582.09 573.652,1508.02 574.444,1429.33 575.235,1441.31 576.027,1443.77 576.819,1571.7 577.61,1595.97 \n",
       "  578.402,1606.31 579.193,1468.97 579.985,1539.01 580.776,1586.04 581.568,1401.73 582.359,1385.69 583.151,1393.75 583.942,1365.16 584.734,1386.55 585.525,1401.77 \n",
       "  586.317,1457.16 587.108,1451.31 587.9,1485.11 588.691,1491.41 589.483,1501.84 590.275,1501.84 591.066,1501.57 591.858,1538.71 592.649,1456.2 593.441,1442.27 \n",
       "  594.232,1440.44 595.024,1655.45 595.815,1659.86 596.607,1638.45 597.398,1636.63 598.19,1498.44 598.981,1615.19 599.773,1602.81 600.564,1634.06 601.356,1340.68 \n",
       "  602.147,1482.61 602.939,1497.45 603.73,1416.05 604.522,1576.81 605.314,1494.89 606.105,1532.52 606.897,1506.48 607.688,1494.64 608.48,1472.83 609.271,1497.2 \n",
       "  610.063,1519.53 610.854,1383.46 611.646,1438.2 612.437,1494.48 613.229,1483.64 614.02,1463.23 614.812,1378.25 615.603,1505.17 616.395,1435.2 617.186,1451.73 \n",
       "  617.978,1442.65 618.77,1460.89 619.561,1475.69 620.353,1499.93 621.144,1436.44 621.936,1583.29 622.727,1357.11 623.519,1371.36 624.31,1439.46 625.102,1470.7 \n",
       "  625.893,1379.7 626.685,1447.16 627.476,1488.81 628.268,1478.08 629.059,1449.77 629.851,1379.48 630.642,1450.57 631.434,1503.91 632.225,1598.48 633.017,1484.24 \n",
       "  633.809,1431.68 634.6,1475.65 635.392,1442.57 636.183,1483.62 636.975,1464.48 637.766,1574.36 638.558,1524.39 639.349,1536.44 640.141,1553.91 640.932,1379.61 \n",
       "  641.724,1375.38 642.515,1480.15 643.307,1425.69 644.098,1600.59 644.89,1487.03 645.681,1471.04 646.473,1425.56 647.265,1571.11 648.056,1574.96 648.848,1484.22 \n",
       "  649.639,1465.66 650.431,1499.65 651.222,1543.91 652.014,1488.61 652.805,1456.47 653.597,1545.07 654.388,1566.74 655.18,1567.23 655.971,1499.06 656.763,1483.38 \n",
       "  657.554,1469.81 658.346,1488.6 659.137,1503.98 659.929,1502.27 660.72,1453.09 661.512,1453.09 662.304,1486.82 663.095,1486.82 663.887,1471.03 664.678,1462.56 \n",
       "  665.47,1439.8 666.261,1447.43 667.053,1477.97 667.844,1520.1 668.636,1484.21 669.427,1484.21 670.219,1442.71 671.01,1522.9 671.802,1441.6 672.593,1392.11 \n",
       "  673.385,1495.45 674.176,1368.43 674.968,1381.78 675.76,1465.51 676.551,1448.75 677.343,1424.3 678.134,1419.77 678.926,1545.19 679.717,1537.14 680.509,1477.73 \n",
       "  681.3,1528.93 682.092,1521.92 682.883,1521.92 683.675,1523.62 684.466,1552.27 685.258,1732.67 686.049,1745.82 686.841,1330.36 687.632,1421.87 688.424,1431.66 \n",
       "  689.215,1595.19 690.007,1476.53 690.799,1349.87 691.59,1450 692.382,1501.5 693.173,1502.13 693.965,1431.27 694.756,1501.49 695.548,1476.71 696.339,1440.08 \n",
       "  697.131,1455.98 697.922,1390.47 698.714,1386.72 699.505,1606.86 700.297,1606.86 701.088,1649.91 701.88,1537.26 702.671,1527.94 703.463,1489.2 704.255,1462.83 \n",
       "  705.046,1489.34 705.838,1627.52 706.629,1590.29 707.421,1590.29 708.212,1590.29 709.004,1527.26 709.795,1554.59 710.587,1530.7 711.378,1503.3 712.17,1540.24 \n",
       "  712.961,1540.24 713.753,1451.19 714.544,1314.47 715.336,1321.09 716.127,1351.21 716.919,1548.49 717.71,1545.26 718.502,1542.88 719.294,1475.99 720.085,1509.77 \n",
       "  720.877,1507.35 721.668,1508.16 722.46,1420.33 723.251,1521.77 724.043,1450.08 724.834,1449.03 725.626,1419.19 726.417,1526.4 727.209,1510.3 728,1413.68 \n",
       "  728.792,1436.83 729.583,1280.31 730.375,1328.93 731.166,1351.89 731.958,1353.05 732.75,1499.82 733.541,1485.49 734.333,1445.31 735.124,1397.51 735.916,1666.61 \n",
       "  736.707,1570.68 737.499,1623.13 738.29,1504.54 739.082,1512.12 739.873,1506.94 740.665,1521.99 741.456,1508.25 742.248,1528.19 743.039,1534.68 743.831,1635.5 \n",
       "  744.622,1635.5 745.414,1635.5 746.205,1614.72 746.997,1659.83 747.789,1647.71 748.58,1623.4 749.372,1617.99 750.163,1615.36 750.955,1602.55 751.746,1534.14 \n",
       "  752.538,1546.28 753.329,1563.09 754.121,1550.83 754.912,1619.54 755.704,1518.67 756.495,1530.46 757.287,1554 758.078,1490.12 758.87,1526.04 759.661,1518.34 \n",
       "  760.453,1421.4 761.245,1377.72 762.036,1366.1 762.828,1487.93 763.619,1485.24 764.411,1499.72 765.202,1408.81 765.994,1406.81 766.785,1422.85 767.577,1428.4 \n",
       "  768.368,1540.74 769.16,1549.81 769.951,1450.78 770.743,1492.74 771.534,1506.91 772.326,1295.5 773.117,1295.5 773.909,1304.3 774.7,1238.13 775.492,1231.88 \n",
       "  776.284,1237.84 777.075,1313.63 777.867,1429.97 778.658,1534.02 779.45,1434.04 780.241,1448.54 781.033,1549.63 781.824,1376.97 782.616,1381.81 783.407,1391.66 \n",
       "  784.199,1488.71 784.99,1504.09 785.782,1456.34 786.573,1387.02 787.365,1403.58 788.156,1429.88 788.948,1503.49 789.74,1451.03 790.531,1580.82 791.323,1470.94 \n",
       "  792.114,1389.36 792.906,1310.55 793.697,1634.12 794.489,1643.04 795.28,1669.72 796.072,1679.18 796.863,1521.73 797.655,1329.59 798.446,1628.47 799.238,1618.35 \n",
       "  800.029,1438.57 800.821,1425.32 801.612,1409.42 802.404,1461.98 803.195,1456.72 803.987,1440.11 804.779,1549.27 805.57,1492.17 806.362,1465.55 807.153,1355.46 \n",
       "  807.945,1371.59 808.736,1325.14 809.528,1344.27 810.319,1342.82 811.111,1490.69 811.902,1416.62 812.694,1424.53 813.485,1449.5 814.277,1513.72 815.068,1698.22 \n",
       "  815.86,1690.14 816.651,1776.78 817.443,1780.02 818.235,1515.88 819.026,1488.45 819.818,1382.24 820.609,1590.46 821.401,1572.17 822.192,1534.91 822.984,1527.05 \n",
       "  823.775,1493.31 824.567,1380.79 825.358,1393.58 826.15,1421.64 826.941,1500.02 827.733,1513.81 828.524,1489.26 829.316,1416.37 830.107,1399.97 830.899,1384.01 \n",
       "  831.69,1480.51 832.482,1504.65 833.274,1470.62 834.065,1434.88 834.857,1511.18 835.648,1467.82 836.44,1467.82 837.231,1430.1 838.023,1473.57 838.814,1589.72 \n",
       "  839.606,1406.02 840.397,1450.42 841.189,1517.46 841.98,1486.94 842.772,1505.66 843.563,1494.46 844.355,1456.44 845.146,1461.67 845.938,1566.12 846.73,1513.58 \n",
       "  847.521,1497.72 848.313,1431.79 849.104,1467.62 849.896,1497.53 850.687,1502.05 851.479,1456.44 852.27,1386.07 853.062,1353.99 853.853,1385.89 854.645,1417 \n",
       "  855.436,1323.74 856.228,1379.52 857.019,1477.09 857.811,1398.04 858.602,1464.21 859.394,1466.65 860.185,1423.43 860.977,1419.85 861.769,1412.42 862.56,1444.28 \n",
       "  863.352,1387.71 864.143,1602.79 864.935,1303.18 865.726,1379.86 866.518,1346.29 867.309,1344.59 868.101,1237.89 868.892,1231.25 869.684,1323.08 870.475,1313.78 \n",
       "  871.267,1510.22 872.058,1495.74 872.85,1399.88 873.641,1406.71 874.433,1617.92 875.225,1551.27 876.016,1483.43 876.808,1487.83 877.599,1501.75 878.391,1494.11 \n",
       "  879.182,1514.47 879.974,1524.42 880.765,1529.88 881.557,1560.09 882.348,1604.36 883.14,1511.44 883.931,1397.83 884.723,1413.18 885.514,1382.47 886.306,1341.57 \n",
       "  887.097,1704.37 887.889,1524.74 888.68,1630.4 889.472,1546.98 890.264,1498.18 891.055,1609.85 891.847,1611.94 892.638,1610.49 893.43,1486.34 894.221,1483.57 \n",
       "  895.013,1435.79 895.804,1453 896.596,1390.29 897.387,1329.71 898.179,1376.16 898.97,1454 899.762,1477.9 900.553,1489.18 901.345,1445.22 902.136,1466.76 \n",
       "  902.928,1533.86 903.72,1508.19 904.511,1437.41 905.303,1409.89 906.094,1400.68 906.886,1393.59 907.677,1385.48 908.469,1370.78 909.26,1325.03 910.052,1315.3 \n",
       "  910.843,1518.3 911.635,1541.49 912.426,1625.27 913.218,1600.86 914.009,1605.9 914.801,1509.1 915.592,1598.64 916.384,1623.92 917.175,1643.43 917.967,1621.67 \n",
       "  918.759,1562.9 919.55,1542.41 920.342,1542.41 921.133,1542.58 921.925,1527.03 922.716,1494.26 923.508,1576.12 924.299,1474.63 925.091,1467.75 925.882,1571.5 \n",
       "  926.674,1489.44 927.465,1377.21 928.257,1386.47 929.048,1427.23 929.84,1370.44 930.631,1393.62 931.423,1415.37 932.215,1384.2 933.006,1483.44 933.798,1563.86 \n",
       "  934.589,1540.31 935.381,1497.35 936.172,1506.46 936.964,1504.98 937.755,1501.84 938.547,1413.55 939.338,1602.04 940.13,1524.69 940.921,1382.08 941.713,1598.55 \n",
       "  942.504,1533.82 943.296,1648.2 944.087,1577.74 944.879,1566.12 945.67,1566.12 946.462,1611.38 947.254,1534.23 948.045,1678.29 948.837,1663.83 949.628,1652.62 \n",
       "  950.42,1652.62 951.211,1638.24 952.003,1663.33 952.794,1472.48 953.586,1454.19 954.377,1534.5 955.169,1517.56 955.96,1452.19 956.752,1577.12 957.543,1578.83 \n",
       "  958.335,1578.83 959.126,1461.74 959.918,1505.88 960.71,1492.3 961.501,1473.43 962.293,1451.08 963.084,1463.45 963.876,1550.19 964.667,1409.12 965.459,1483.38 \n",
       "  966.25,1503.48 967.042,1461.78 967.833,1520.35 968.625,1555.92 969.416,1659.18 970.208,1627.73 970.999,1659.35 971.791,1370.52 972.582,1375.44 973.374,1444.85 \n",
       "  974.165,1412.19 974.957,1627.38 975.749,1565.02 976.54,1541.08 977.332,1448.12 978.123,1386.16 978.915,1487.04 979.706,1488.22 980.498,1524.14 981.289,1438.7 \n",
       "  982.081,1529.29 982.872,1483.3 983.664,1483.3 984.455,1483.79 985.247,1458.33 986.038,1458.33 986.83,1380.83 987.621,1382.94 988.413,1531.94 989.204,1520.34 \n",
       "  989.996,1612.07 990.788,1498.24 991.579,1498.24 992.371,1569.53 993.162,1539.99 993.954,1528.16 994.745,1325.51 995.537,1332.59 996.328,1338.8 997.12,1352.35 \n",
       "  997.911,1424.01 998.703,1400.13 999.494,1386.72 1000.29,1445.46 1001.08,1418.47 1001.87,1367 1002.66,1344.02 1003.45,1358.47 1004.24,1369.52 1005.04,1393.51 \n",
       "  1005.83,1544.39 1006.62,1606.52 1007.41,1438.68 1008.2,1507.54 1008.99,1447.69 1009.78,1490.18 1010.58,1596.41 1011.37,1603.28 1012.16,1620.5 1012.95,1587.83 \n",
       "  1013.74,1611.49 1014.53,1565.94 1015.32,1413.3 1016.12,1447.35 1016.91,1477.37 1017.7,1384.11 1018.49,1401.8 1019.28,1426.31 1020.07,1543.79 1020.87,1514.4 \n",
       "  1021.66,1516.9 1022.45,1429.16 1023.24,1430.69 1024.03,1427.02 1024.82,1544.27 1025.61,1470.29 1026.41,1455.52 1027.2,1427.43 1027.99,1512.59 1028.78,1408.17 \n",
       "  1029.57,1372.5 1030.36,1462.49 1031.16,1421.93 1031.95,1444.22 1032.74,1444.22 1033.53,1432.9 1034.32,1445.12 1035.11,1554.65 1035.9,1351.36 1036.7,1353.92 \n",
       "  1037.49,1362.87 1038.28,1622.82 1039.07,1431.27 1039.86,1489.02 1040.65,1563.31 1041.45,1468.27 1042.24,1360.44 1043.03,1465.65 1043.82,1416.19 1044.61,1400.51 \n",
       "  1045.4,1571.01 1046.19,1566.84 1046.99,1501.2 1047.78,1522.91 1048.57,1412.48 1049.36,1476.19 1050.15,1521.25 1050.94,1552.91 1051.74,1573.41 1052.53,1555.87 \n",
       "  1053.32,1484.08 1054.11,1469.58 1054.9,1456.36 1055.69,1369.17 1056.48,1481.55 1057.28,1466.08 1058.07,1491.91 1058.86,1508.48 1059.65,1507.44 1060.44,1487.84 \n",
       "  1061.23,1490.94 1062.03,1532.16 1062.82,1537.55 1063.61,1345.95 1064.4,1344.96 1065.19,1440.62 1065.98,1523.65 1066.77,1531.02 1067.57,1538.62 1068.36,1495.39 \n",
       "  1069.15,1430.05 1069.94,1469.42 1070.73,1469.42 1071.52,1460.34 1072.31,1361.66 1073.11,1230.86 1073.9,1237.61 1074.69,1281.19 1075.48,1277.8 1076.27,1262.05 \n",
       "  1077.06,1409.79 1077.86,1423.32 1078.65,1442.42 1079.44,1548.84 1080.23,1410.95 1081.02,1584.32 1081.81,1496.84 1082.6,1456.54 1083.4,1460.52 1084.19,1454.44 \n",
       "  1084.98,1426.53 1085.77,1444.3 1086.56,1520.3 1087.35,1512.33 1088.15,1481.02 1088.94,1432.59 1089.73,1405.14 1090.52,1494.82 1091.31,1485.9 1092.1,1439.14 \n",
       "  1092.89,1439.31 1093.69,1391.86 1094.48,1474.72 1095.27,1503.1 1096.06,1643.99 1096.85,1323.96 1097.64,1460.49 1098.44,1507.75 1099.23,1465.25 1100.02,1475.91 \n",
       "  1100.81,1487.73 1101.6,1562.43 1102.39,1510.28 1103.18,1520.25 1103.98,1537.88 1104.77,1521.47 1105.56,1531.63 1106.35,1541.64 1107.14,1480.75 1107.93,1388.44 \n",
       "  1108.73,1385.45 1109.52,1354.6 1110.31,1383.57 1111.1,1349.44 1111.89,1337.66 1112.68,1410.01 1113.47,1410.01 1114.27,1588.27 1115.06,1553.35 1115.85,1503.52 \n",
       "  1116.64,1453.75 1117.43,1478.27 1118.22,1494.71 1119.02,1540.16 1119.81,1538 1120.6,1498.86 1121.39,1477.72 1122.18,1526.39 1122.97,1519.43 1123.76,1529.11 \n",
       "  1124.56,1519.16 1125.35,1287.6 1126.14,1350.86 1126.93,1488.69 1127.72,1480.48 1128.51,1368.78 1129.3,1437.54 1130.1,1501.96 1130.89,1591.85 1131.68,1594.85 \n",
       "  1132.47,1545.22 1133.26,1604.23 1134.05,1592.08 1134.85,1516.74 1135.64,1503.12 1136.43,1394.85 1137.22,1312.52 1138.01,1339.6 1138.8,1323.27 1139.59,1391.21 \n",
       "  1140.39,1371.55 1141.18,1411.16 1141.97,1625.49 1142.76,1606.2 1143.55,1604.28 1144.34,1560.8 1145.14,1526.62 1145.93,1495.7 1146.72,1585.36 1147.51,1614.35 \n",
       "  1148.3,1561.29 1149.09,1530.47 1149.88,1528.5 1150.68,1441.97 1151.47,1427.57 1152.26,1546.27 1153.05,1410.83 1153.84,1415.52 1154.63,1362.72 1155.43,1431.43 \n",
       "  1156.22,1422.93 1157.01,1504.73 1157.8,1366.95 1158.59,1384.83 1159.38,1513.12 1160.17,1459.07 1160.97,1572.34 1161.76,1646.46 1162.55,1551.11 1163.34,1563.24 \n",
       "  1164.13,1602.1 1164.92,1535.58 1165.72,1538.23 1166.51,1519.1 1167.3,1484.96 1168.09,1512.16 1168.88,1481.34 1169.67,1608.69 1170.46,1544.21 1171.26,1529.99 \n",
       "  1172.05,1441.1 1172.84,1342.18 1173.63,1339.68 1174.42,1503.25 1175.21,1545.63 1176.01,1482.71 1176.8,1506.19 1177.59,1466.99 1178.38,1543.99 1179.17,1515.62 \n",
       "  1179.96,1586.2 1180.75,1570.54 1181.55,1511.53 1182.34,1457.9 1183.13,1482.68 1183.92,1419.93 1184.71,1466.13 1185.5,1473.01 1186.29,1625.56 1187.09,1600.39 \n",
       "  1187.88,1646.6 1188.67,1373.42 1189.46,1330.03 1190.25,1341.5 1191.04,1475.3 1191.84,1502.42 1192.63,1482.08 1193.42,1489.75 1194.21,1425.41 1195,1421.02 \n",
       "  1195.79,1365.57 1196.58,1405.24 1197.38,1411.9 1198.17,1398.16 1198.96,1391 1199.75,1414.09 1200.54,1407.68 1201.33,1400.55 1202.13,1399.18 1202.92,1608.07 \n",
       "  1203.71,1498.66 1204.5,1484.73 1205.29,1492.44 1206.08,1392.13 1206.87,1502.72 1207.67,1393.85 1208.46,1415.41 1209.25,1391.08 1210.04,1381.81 1210.83,1401.76 \n",
       "  1211.62,1493.03 1212.42,1514.14 1213.21,1457.88 1214,1444.98 1214.79,1532.16 1215.58,1524.06 1216.37,1518.56 1217.16,1508.76 1217.96,1585.97 1218.75,1648.93 \n",
       "  1219.54,1680.83 1220.33,1633.37 1221.12,1382.31 1221.91,1477.17 1222.71,1466.87 1223.5,1507.17 1224.29,1524.99 1225.08,1477.18 1225.87,1477.18 1226.66,1526.62 \n",
       "  1227.45,1551.48 1228.25,1588.94 1229.04,1440.54 1229.83,1560.85 1230.62,1561.37 1231.41,1572.27 1232.2,1548.43 1233,1568.38 1233.79,1575.24 1234.58,1561.81 \n",
       "  1235.37,1537.83 1236.16,1436.11 1236.95,1451.95 1237.74,1316.18 1238.54,1375.05 1239.33,1375.05 1240.12,1395.02 1240.91,1324.7 1241.7,1415.18 1242.49,1336.55 \n",
       "  1243.28,1368.55 1244.08,1392.74 1244.87,1460.55 1245.66,1434.95 1246.45,1421.78 1247.24,1363.2 1248.03,1353.18 1248.83,1357.24 1249.62,1337.61 1250.41,1428.51 \n",
       "  1251.2,1415.87 1251.99,1389.71 1252.78,1399.65 1253.57,1492.47 1254.37,1448.82 1255.16,1366.16 1255.95,1384.01 1256.74,1483.87 1257.53,1453.52 1258.32,1442.28 \n",
       "  1259.12,1485.83 1259.91,1531.42 1260.7,1429.24 1261.49,1491.03 1262.28,1449.4 1263.07,1437.3 1263.86,1405.48 1264.66,1492.12 1265.45,1457.76 1266.24,1372.94 \n",
       "  1267.03,1432.92 1267.82,1396.56 1268.61,1415.74 1269.41,1481.04 1270.2,1424.78 1270.99,1479.4 1271.78,1458.45 1272.57,1376.52 1273.36,1462.04 1274.15,1529 \n",
       "  1274.95,1470.32 1275.74,1411.47 1276.53,1608.85 1277.32,1411.33 1278.11,1503.85 1278.9,1493.1 1279.7,1491.37 1280.49,1556.72 1281.28,1556.72 1282.07,1604.08 \n",
       "  1282.86,1549.97 1283.65,1560.15 1284.44,1556.23 1285.24,1567.77 1286.03,1420.45 1286.82,1497.61 1287.61,1494.95 1288.4,1489.44 1289.19,1494.9 1289.99,1456.93 \n",
       "  1290.78,1498.62 1291.57,1482.24 1292.36,1491.62 1293.15,1519.13 1293.94,1408.44 1294.73,1408.44 1295.53,1556.35 1296.32,1474.21 1297.11,1437.36 1297.9,1574.55 \n",
       "  1298.69,1578.32 1299.48,1559.54 1300.27,1545.25 1301.07,1562.76 1301.86,1374.56 1302.65,1422.1 1303.44,1380.99 1304.23,1351.39 1305.02,1373.13 1305.82,1437.11 \n",
       "  1306.61,1441.31 1307.4,1450.66 1308.19,1470.57 1308.98,1442.2 1309.77,1476.28 1310.56,1476.28 1311.36,1440.61 1312.15,1452.18 1312.94,1510.32 1313.73,1639.42 \n",
       "  1314.52,1616.42 1315.31,1590.75 1316.11,1489.55 1316.9,1774.97 1317.69,1520.95 1318.48,1443.46 1319.27,1469.51 1320.06,1473.54 1320.85,1426.19 1321.65,1577.73 \n",
       "  1322.44,1558.24 1323.23,1556.94 1324.02,1445.35 1324.81,1448.77 1325.6,1470.91 1326.4,1473.2 1327.19,1480.98 1327.98,1525.63 1328.77,1562.74 1329.56,1484.55 \n",
       "  1330.35,1522.52 1331.14,1501.57 1331.94,1449.09 1332.73,1449.09 1333.52,1552.18 1334.31,1449.94 1335.1,1453.58 1335.89,1576.16 1336.69,1530.44 1337.48,1525.35 \n",
       "  1338.27,1597.12 1339.06,1458.2 1339.85,1382.28 1340.64,1611.44 1341.43,1588.27 1342.23,1414.59 1343.02,1438.93 1343.81,1439.05 1344.6,1354.13 1345.39,1365.35 \n",
       "  1346.18,1394.86 1346.98,1432.73 1347.77,1452.06 1348.56,1338.95 1349.35,1512.02 1350.14,1511.92 1350.93,1577.98 1351.72,1477.45 1352.52,1533.32 1353.31,1552.63 \n",
       "  1354.1,1575.07 1354.89,1588.81 1355.68,1608.7 1356.47,1441.23 1357.26,1391.58 1358.06,1391.58 1358.85,1380.99 1359.64,1288.18 1360.43,1459.74 1361.22,1455.45 \n",
       "  1362.01,1534.04 1362.81,1524.35 1363.6,1533.23 1364.39,1449.75 1365.18,1443.74 1365.97,1558.57 1366.76,1581.59 1367.55,1513.24 1368.35,1508.48 1369.14,1435.08 \n",
       "  1369.93,1438.48 1370.72,1443.59 1371.51,1511.74 1372.3,1519.36 1373.1,1491.6 1373.89,1479.37 1374.68,1486.38 1375.47,1539.87 1376.26,1446.83 1377.05,1436.95 \n",
       "  1377.84,1417.65 1378.64,1420.28 1379.43,1387.95 1380.22,1382.07 1381.01,1414 1381.8,1477.97 1382.59,1469.61 1383.39,1551.41 1384.18,1281.68 1384.97,1240.58 \n",
       "  1385.76,1171.45 1386.55,1330.5 1387.34,1345.85 1388.13,1361.28 1388.93,1383.2 1389.72,1515.06 1390.51,1539.26 1391.3,1499.94 1392.09,1495.73 1392.88,1489.34 \n",
       "  1393.68,1469.16 1394.47,1466.6 1395.26,1467.11 1396.05,1583.7 1396.84,1518.14 1397.63,1489.65 1398.42,1466.89 1399.22,1446.36 1400.01,1462.01 1400.8,1350.45 \n",
       "  1401.59,1368.5 1402.38,1440.45 1403.17,1430.48 1403.97,1627.02 1404.76,1546.19 1405.55,1485.36 1406.34,1476.99 1407.13,1476.99 1407.92,1546.63 1408.71,1546.63 \n",
       "  1409.51,1344.54 1410.3,1415.03 1411.09,1382.86 1411.88,1387.29 1412.67,1371.34 1413.46,1526.82 1414.25,1511.76 1415.05,1511.76 1415.84,1522.58 1416.63,1537.69 \n",
       "  1417.42,1513.17 1418.21,1514.1 1419,1514.1 1419.8,1497.49 1420.59,1489.58 1421.38,1538.1 1422.17,1544.37 1422.96,1444.21 1423.75,1433.72 1424.54,1456.84 \n",
       "  1425.34,1462.02 1426.13,1395.52 1426.92,1422.96 1427.71,1516.92 1428.5,1520.82 1429.29,1520.82 1430.09,1397.7 1430.88,1542.12 1431.67,1542.73 1432.46,1503.74 \n",
       "  1433.25,1533.39 1434.04,1515.55 1434.83,1499.91 1435.63,1590.7 1436.42,1581.86 1437.21,1569.16 1438,1548.33 1438.79,1574.04 1439.58,1504.22 1440.38,1498.64 \n",
       "  1441.17,1414.15 1441.96,1465.75 1442.75,1455.67 1443.54,1457.47 1444.33,1465.26 1445.12,1390.55 1445.92,1402.57 1446.71,1417.83 1447.5,1401.91 1448.29,1427.57 \n",
       "  1449.08,1453.47 1449.87,1533.89 1450.67,1561.58 1451.46,1547.32 1452.25,1437.5 1453.04,1432.27 1453.83,1436.77 1454.62,1511.72 1455.41,1509.95 1456.21,1521.17 \n",
       "  1457,1531.94 1457.79,1539.63 1458.58,1471.41 1459.37,1464.89 1460.16,1428.7 1460.96,1448.99 1461.75,1442.7 1462.54,1583.96 1463.33,1423.79 1464.12,1421.5 \n",
       "  1464.91,1409.67 1465.7,1455.83 1466.5,1469.08 1467.29,1452.11 1468.08,1414.72 1468.87,1496.55 1469.66,1477.02 1470.45,1369.13 1471.24,1363.16 1472.04,1371.21 \n",
       "  1472.83,1371.21 1473.62,1475.65 1474.41,1474.39 1475.2,1397.8 1475.99,1383.01 1476.79,1397.63 1477.58,1385.22 1478.37,1604.6 1479.16,1591.32 1479.95,1630.65 \n",
       "  1480.74,1365.72 1481.53,1427.94 1482.33,1434.28 1483.12,1454.6 1483.91,1368.95 1484.7,1512.42 1485.49,1453.48 1486.28,1491.38 1487.08,1531.3 1487.87,1546.06 \n",
       "  1488.66,1477.85 1489.45,1467.03 1490.24,1449.8 1491.03,1496.17 1491.82,1506.19 1492.62,1433.9 1493.41,1461.43 1494.2,1613.4 1494.99,1557.69 1495.78,1553.17 \n",
       "  1496.57,1576.49 1497.37,1527.5 1498.16,1435.64 1498.95,1537.45 1499.74,1497.93 1500.53,1519.47 1501.32,1416.78 1502.11,1446.71 1502.91,1556.04 1503.7,1556.04 \n",
       "  1504.49,1548.67 1505.28,1509.68 1506.07,1533.16 1506.86,1544.6 1507.66,1433.63 1508.45,1377.92 1509.24,1375.02 1510.03,1343.8 1510.82,1408.24 1511.61,1528.98 \n",
       "  1512.4,1441.96 1513.2,1553.6 1513.99,1535.46 1514.78,1437.35 1515.57,1457.51 1516.36,1456.54 1517.15,1676.65 1517.95,1508.42 1518.74,1530.65 1519.53,1439.47 \n",
       "  1520.32,1580.25 1521.11,1518.26 1521.9,1534.83 1522.69,1612.26 1523.49,1608.84 1524.28,1596.71 1525.07,1584.66 1525.86,1633.94 1526.65,1481.87 1527.44,1554.49 \n",
       "  1528.23,1550.49 1529.03,1497.47 1529.82,1354.02 1530.61,1357.31 1531.4,1410.06 1532.19,1415.61 1532.98,1476.9 1533.78,1472.36 1534.57,1482.49 1535.36,1447.75 \n",
       "  1536.15,1549.04 1536.94,1556.7 1537.73,1520.47 1538.52,1512.71 1539.32,1490.24 1540.11,1379.84 1540.9,1369.52 1541.69,1364.45 1542.48,1381.33 1543.27,1451.25 \n",
       "  1544.07,1566.29 1544.86,1520.63 1545.65,1428.22 1546.44,1462.25 1547.23,1556.58 1548.02,1569 1548.81,1601.38 1549.61,1622.11 1550.4,1311.65 1551.19,1311.65 \n",
       "  1551.98,1419.58 1552.77,1407.65 1553.56,1486.08 1554.36,1593.93 1555.15,1590.29 1555.94,1397.45 1556.73,1459.09 1557.52,1584.03 1558.31,1441.09 1559.1,1474.94 \n",
       "  1559.9,1607.15 1560.69,1368.12 1561.48,1394.51 1562.27,1417.79 1563.06,1351.38 1563.85,1428.06 1564.65,1552.35 1565.44,1537.15 1566.23,1496.14 1567.02,1504.58 \n",
       "  1567.81,1577.87 1568.6,1590.12 1569.39,1538.82 1570.19,1504.57 1570.98,1514.45 1571.77,1521.26 1572.56,1529.82 1573.35,1529.82 1574.14,1322.75 1574.94,1322.75 \n",
       "  1575.73,1302.17 1576.52,1295.75 1577.31,1303.54 1578.1,1317.5 1578.89,1267.95 1579.68,1312.54 1580.48,1405.05 1581.27,1499.98 1582.06,1535.93 1582.85,1603.83 \n",
       "  1583.64,1470.61 1584.43,1496.79 1585.22,1463 1586.02,1619.22 1586.81,1653.94 1587.6,1670.44 1588.39,1591.31 1589.18,1496.08 1589.97,1368.93 1590.77,1372.95 \n",
       "  1591.56,1386.22 1592.35,1419.67 1593.14,1419.67 1593.93,1428.56 1594.72,1415.84 1595.51,1423.85 1596.31,1362.99 1597.1,1456.98 1597.89,1433.48 1598.68,1425.37 \n",
       "  1599.47,1468.1 1600.26,1397.79 1601.06,1471.83 1601.85,1540.98 1602.64,1575.17 1603.43,1568.19 1604.22,1515.83 1605.01,1515.83 1605.8,1513.21 1606.6,1499.84 \n",
       "  1607.39,1465.34 1608.18,1466.71 1608.97,1509.69 1609.76,1453.3 1610.55,1447.41 1611.35,1463.82 1612.14,1467.6 1612.93,1373.94 1613.72,1426.2 1614.51,1403.46 \n",
       "  1615.3,1326.45 1616.09,1333.15 1616.89,1578.67 1617.68,1530.89 1618.47,1526.63 1619.26,1623.3 1620.05,1414.07 1620.84,1378.61 1621.64,1499.71 1622.43,1585.72 \n",
       "  1623.22,1476.38 1624.01,1663.01 1624.8,1663.01 1625.59,1550 1626.38,1549.98 1627.18,1507.45 1627.97,1412.43 1628.76,1437.67 1629.55,1450.47 1630.34,1372.04 \n",
       "  1631.13,1386.11 1631.93,1426.94 1632.72,1414.89 1633.51,1571.32 1634.3,1553.33 1635.09,1510.01 1635.88,1511.44 1636.67,1506.76 1637.47,1471.45 1638.26,1447.48 \n",
       "  1639.05,1481.58 1639.84,1429.56 1640.63,1387.54 1641.42,1423.76 1642.21,1546.86 1643.01,1584.5 1643.8,1555.89 1644.59,1560.75 1645.38,1560.75 1646.17,1402.65 \n",
       "  1646.96,1325.97 1647.76,1299.72 1648.55,1411.01 1649.34,1578.72 1650.13,1616.18 1650.92,1446.01 1651.71,1454.47 1652.5,1441.44 1653.3,1431.34 1654.09,1347.2 \n",
       "  1654.88,1470.03 1655.67,1558.13 1656.46,1506.43 1657.25,1481.61 1658.05,1478.91 1658.84,1493.57 1659.63,1514.31 1660.42,1506.94 1661.21,1358.31 1662,1439.9 \n",
       "  1662.79,1619.64 1663.59,1598.57 1664.38,1570.87 1665.17,1559.53 1665.96,1573.91 1666.75,1555.43 1667.54,1382.86 1668.34,1367.21 1669.13,1267.05 1669.92,1378.62 \n",
       "  1670.71,1514.31 1671.5,1556.76 1672.29,1509.86 1673.08,1335.32 1673.88,1339.7 1674.67,1619.41 1675.46,1603.47 1676.25,1506.81 1677.04,1537.45 1677.83,1371.05 \n",
       "  1678.63,1418.62 1679.42,1442.1 1680.21,1442.1 1681,1437.54 1681.79,1414.55 1682.58,1652.85 1683.37,1610.46 1684.17,1433.51 1684.96,1531.47 1685.75,1443.26 \n",
       "  1686.54,1471.4 1687.33,1469.89 1688.12,1499.59 1688.92,1499.59 1689.71,1476.4 1690.5,1480.88 1691.29,1475.68 1692.08,1486.5 1692.87,1541.89 1693.66,1451.14 \n",
       "  1694.46,1431.91 1695.25,1595.51 1696.04,1511.38 1696.83,1527.59 1697.62,1536.38 1698.41,1503.1 1699.2,1434.94 1700,1436.9 1700.79,1486.78 1701.58,1469.89 \n",
       "  1702.37,1435.95 1703.16,1409.77 1703.95,1298.61 1704.75,1406.31 1705.54,1404.22 1706.33,1462.12 1707.12,1317.95 1707.91,1403.43 1708.7,1388.07 1709.49,1351.36 \n",
       "  1710.29,1418.01 1711.08,1466.57 1711.87,1459.01 1712.66,1466.82 1713.45,1321.57 1714.24,1321.57 1715.04,1460.01 1715.83,1440.42 1716.62,1406.69 1717.41,1393.91 \n",
       "  1718.2,1326.03 1718.99,1340.08 1719.78,1339.59 1720.58,1411.15 1721.37,1552.81 1722.16,1531.8 1722.95,1513.68 1723.74,1436.66 1724.53,1434.11 1725.33,1446.64 \n",
       "  1726.12,1407.15 1726.91,1559.02 1727.7,1545.64 1728.49,1468.86 1729.28,1499.36 1730.07,1548.14 1730.87,1547.41 1731.66,1534.35 1732.45,1391 1733.24,1332.22 \n",
       "  1734.03,1296.8 1734.82,1192.56 1735.62,1192.99 1736.41,1192.99 1737.2,1234.87 1737.99,1333.21 1738.78,1343.59 1739.57,1270.45 1740.36,1368.2 1741.16,1344 \n",
       "  1741.95,1368.31 1742.74,1342.99 1743.53,1492.8 1744.32,1458.12 1745.11,1458.12 1745.91,1486.67 1746.7,1556.59 1747.49,1468.89 1748.28,1481.3 1749.07,1484.27 \n",
       "  1749.86,1544.57 1750.65,1527.54 1751.45,1546.91 1752.24,1422.69 1753.03,1460.78 1753.82,1474.74 1754.61,1453.7 1755.4,1468.29 1756.19,1395.47 1756.99,1389.61 \n",
       "  1757.78,1362.68 1758.57,1569.76 1759.36,1479.97 1760.15,1395.47 1760.94,1417.85 1761.74,1412.02 1762.53,1357.21 1763.32,1351.98 1764.11,1304.44 1764.9,1364.76 \n",
       "  1765.69,1490.21 1766.48,1475.65 1767.28,1389.38 1768.07,1451.6 1768.86,1396.96 1769.65,1386.24 1770.44,1376.97 1771.23,1367.1 1772.03,1314.87 1772.82,1346.72 \n",
       "  1773.61,1368.91 1774.4,1353.08 1775.19,1364.45 1775.98,1520.48 1776.77,1428.4 1777.57,1550.6 1778.36,1368.91 1779.15,1363.05 1779.94,1386.78 1780.73,1335.65 \n",
       "  1781.52,1355 1782.32,1591.86 1783.11,1602.63 1783.9,1605.67 1784.69,1404.51 1785.48,1464.23 1786.27,1408.86 1787.06,1438.06 1787.86,1492.01 1788.65,1412.59 \n",
       "  1789.44,1465.23 1790.23,1468.03 1791.02,1539.95 1791.81,1597.89 1792.61,1555.08 1793.4,1451.8 1794.19,1562.33 1794.98,1534.43 1795.77,1549.4 1796.56,1458.17 \n",
       "  1797.35,1631.88 1798.15,1600.88 1798.94,1614.16 1799.73,1593.71 1800.52,1620.41 1801.31,1518.87 1802.1,1493.93 1802.9,1538.86 1803.69,1483.73 1804.48,1486.67 \n",
       "  1805.27,1484.88 1806.06,1545.5 1806.85,1389.73 1807.64,1314.14 1808.44,1358.37 1809.23,1461.96 1810.02,1444.51 1810.81,1434.46 1811.6,1447.42 1812.39,1471.31 \n",
       "  1813.18,1477.41 1813.98,1431.28 1814.77,1353.68 1815.56,1382.19 1816.35,1509.46 1817.14,1460.65 1817.93,1440.79 1818.73,1474.88 1819.52,1471.45 1820.31,1411.69 \n",
       "  1821.1,1522.01 1821.89,1422.27 1822.68,1415.95 1823.47,1452.59 1824.27,1406.34 1825.06,1382.84 1825.85,1555.25 1826.64,1562.85 1827.43,1573.97 1828.22,1656.53 \n",
       "  1829.02,1651.52 1829.81,1662.72 1830.6,1491.65 1831.39,1578.51 1832.18,1567.55 1832.97,1516.26 1833.76,1521.98 1834.56,1536.13 1835.35,1541.84 1836.14,1393.73 \n",
       "  1836.93,1540.1 1837.72,1482.41 1838.51,1531.4 1839.31,1480.35 1840.1,1392.3 1840.89,1385 1841.68,1456.8 1842.47,1431.34 1843.26,1443.21 1844.05,1424.95 \n",
       "  1844.85,1459.63 1845.64,1513.21 1846.43,1428.87 1847.22,1365.36 1848.01,1351.37 1848.8,1546.19 1849.6,1367.04 1850.39,1356.09 1851.18,1515.28 1851.97,1532.33 \n",
       "  1852.76,1557.19 1853.55,1575.57 1854.34,1549.79 1855.14,1443.51 1855.93,1424.58 1856.72,1583.04 1857.51,1605.78 1858.3,1626.78 1859.09,1622 1859.89,1624.76 \n",
       "  1860.68,1566.46 1861.47,1575.09 1862.26,1671.22 1863.05,1681.32 1863.84,1678.97 1864.63,1628.7 1865.43,1180.01 1866.22,1226.98 1867.01,1202.39 1867.8,1259.06 \n",
       "  1868.59,1264.13 1869.38,1386.05 1870.17,1549.2 1870.97,1502.37 1871.76,1560.15 1872.55,1561.8 1873.34,1513.21 1874.13,1512.29 1874.92,1461.96 1875.72,1481.15 \n",
       "  1876.51,1488.21 1877.3,1445.85 1878.09,1390.72 1878.88,1433.05 1879.67,1517.81 1880.46,1549.57 1881.26,1341.58 1882.05,1343.09 1882.84,1322.89 1883.63,1533.59 \n",
       "  1884.42,1598.21 1885.21,1598.3 1886.01,1568.94 1886.8,1482.38 1887.59,1480.17 1888.38,1491.2 1889.17,1514.53 1889.96,1567.76 1890.75,1508.12 1891.55,1508.12 \n",
       "  1892.34,1462.52 1893.13,1503.48 1893.92,1570.97 1894.71,1565.97 1895.5,1454.03 1896.3,1425.51 1897.09,1509.68 1897.88,1483.61 1898.67,1483.61 1899.46,1490.74 \n",
       "  1900.25,1396.31 1901.04,1375.98 1901.84,1524.11 1902.63,1513.84 1903.42,1554.12 1904.21,1629.42 1905,1629.42 1905.79,1726.72 1906.59,1708.06 1907.38,1617.29 \n",
       "  1908.17,1573.58 1908.96,1610.97 1909.75,1585.66 1910.54,1486.16 1911.33,1437.52 1912.13,1437.52 1912.92,1455.61 1913.71,1394.26 1914.5,1344.03 1915.29,1478.69 \n",
       "  1916.08,1484.33 1916.88,1490.04 1917.67,1509.4 1918.46,1472.9 1919.25,1496.63 1920.04,1535.86 1920.83,1525.76 1921.62,1513.24 1922.42,1580.81 1923.21,1544.39 \n",
       "  1924,1559.83 1924.79,1542.86 1925.58,1475.26 1926.37,1456.28 1927.16,1458 1927.96,1518.33 1928.75,1535.41 1929.54,1495.56 1930.33,1474.82 1931.12,1450.99 \n",
       "  1931.91,1452.51 1932.71,1398.07 1933.5,1413.6 1934.29,1369.75 1935.08,1352.47 1935.87,1354.52 1936.66,1393.95 1937.45,1393.95 1938.25,1393.95 1939.04,1386.98 \n",
       "  \n",
       "  \"/>\n",
       "<polyline clip-path=\"url(#clip044)\" style=\"stroke:#e26f46; stroke-linecap:butt; stroke-linejoin:round; stroke-width:4; stroke-opacity:1; fill:none\" points=\"\n",
       "  356.774,1507.89 357.565,1639.71 358.357,1503.47 359.148,1449.17 359.94,1434.82 360.731,1461.35 361.523,1388.66 362.315,1296.48 363.106,1456.94 363.898,1507.77 \n",
       "  364.689,1455.89 365.481,1415.56 366.272,1502.82 367.064,1509.13 367.855,1437.17 368.647,1362.24 369.438,1381.56 370.23,1438.7 371.021,1387.6 371.813,1375.77 \n",
       "  372.604,1512.35 373.396,1620.16 374.187,1528.01 374.979,1491.31 375.77,1426.34 376.562,1479.92 377.354,1483.84 378.145,1370.67 378.937,1531.75 379.728,1391.33 \n",
       "  380.52,1413.7 381.311,1461.21 382.103,1461.21 382.894,1505.58 383.686,1468.86 384.477,1449.5 385.269,1505.52 386.06,1495.21 386.852,1355.42 387.643,1554.26 \n",
       "  388.435,1420.11 389.226,1451.55 390.018,1423.42 390.81,1422.5 391.601,1535.38 392.393,1605.43 393.184,1588.35 393.976,1592.47 394.767,1515.96 395.559,1503.61 \n",
       "  396.35,1516.3 397.142,1406.87 397.933,1557.55 398.725,1557.55 399.516,1533.03 400.308,1486.19 401.099,1451.94 401.891,1534.27 402.682,1515.57 403.474,1559.1 \n",
       "  404.265,1571.1 405.057,1569.19 405.849,1412.98 406.64,1415.68 407.432,1550.37 408.223,1548.78 409.015,1378.69 409.806,1373.42 410.598,1296.27 411.389,1495.67 \n",
       "  412.181,1503.21 412.972,1510.35 413.764,1570.28 414.555,1414.22 415.347,1414.42 416.138,1411.59 416.93,1369.37 417.721,1369.37 418.513,1385.05 419.305,1388.16 \n",
       "  420.096,1365.01 420.888,1484.89 421.679,1476.37 422.471,1428.72 423.262,1386.1 424.054,1390.23 424.845,1384.53 425.637,1534.16 426.428,1498.89 427.22,1518.36 \n",
       "  428.011,1512.28 428.803,1515.69 429.594,1462.93 430.386,1474.89 431.177,1373.94 431.969,1410.54 432.76,1562.29 433.552,1470.47 434.344,1456.91 435.135,1474.51 \n",
       "  435.927,1505.92 436.718,1531.79 437.51,1415.11 438.301,1415.41 439.093,1440.12 439.884,1472.51 440.676,1479.84 441.467,1588.94 442.259,1576.27 443.05,1440.41 \n",
       "  443.842,1503.15 444.633,1236.46 445.425,1446.32 446.216,1416.93 447.008,1415.55 447.8,1489.65 448.591,1557.36 449.383,1412.64 450.174,1516.95 450.966,1540.05 \n",
       "  451.757,1622.17 452.549,1529.41 453.34,1542.24 454.132,1607.99 454.923,1600.51 455.715,1600.51 456.506,1583.28 457.298,1517.58 458.089,1465.71 458.881,1468 \n",
       "  459.672,1472.53 460.464,1545.92 461.255,1462.24 462.047,1462.52 462.839,1426.47 463.63,1470.4 464.422,1471.19 465.213,1489.03 466.005,1476.29 466.796,1390.74 \n",
       "  467.588,1353.71 468.379,1354.35 469.171,1526.19 469.962,1495.84 470.754,1500.08 471.545,1425.35 472.337,1408.01 473.128,1432.96 473.92,1469.99 474.711,1464.31 \n",
       "  475.503,1530.5 476.295,1490.87 477.086,1493.92 477.878,1435.82 478.669,1545.08 479.461,1545.16 480.252,1370.51 481.044,1364.9 481.835,1395.67 482.627,1535.01 \n",
       "  483.418,1596.49 484.21,1552.56 485.001,1571.43 485.793,1523.36 486.584,1520.95 487.376,1507.32 488.167,1661.94 488.959,1683.01 489.75,1383.42 490.542,1243.01 \n",
       "  491.334,1243.93 492.125,1242.36 492.917,1284.93 493.708,1258.64 494.5,1226.76 495.291,1207.1 496.083,1201.92 496.874,1149.93 497.666,1263.32 498.457,1260.01 \n",
       "  499.249,1245.44 500.04,1251.8 500.832,1311.2 501.623,1441.36 502.415,1507.2 503.206,1497.66 503.998,1428.71 504.79,1556.01 505.581,1560.39 506.373,1572.88 \n",
       "  507.164,1442.22 507.956,1487.33 508.747,1392.38 509.539,1510.99 510.33,1484.43 511.122,1422.64 511.913,1428.85 512.705,1595.77 513.496,1619.75 514.288,1611.35 \n",
       "  515.079,1367.45 515.871,1328.93 516.662,1332.61 517.454,1297.17 518.245,1390.66 519.037,1411.76 519.829,1429.85 520.62,1497.44 521.412,1563.83 522.203,1563.83 \n",
       "  522.995,1526.97 523.786,1579.74 524.578,1583.33 525.369,1500.09 526.161,1534.33 526.952,1441.92 527.744,1432.78 528.535,1498.75 529.327,1501.98 530.118,1488.89 \n",
       "  530.91,1506.69 531.701,1521.41 532.493,1513.24 533.285,1541.26 534.076,1557.08 534.868,1581 535.659,1541.98 536.451,1497.82 537.242,1497.82 538.034,1441.84 \n",
       "  538.825,1451.25 539.617,1518.77 540.408,1412.04 541.2,1351.64 541.991,1409.28 542.783,1398.23 543.574,1398.23 544.366,1372.2 545.157,1400.18 545.949,1516.92 \n",
       "  546.74,1493.41 547.532,1624.27 548.324,1670.54 549.115,1638.19 549.907,1639.85 550.698,1585.4 551.49,1438.79 552.281,1528.61 553.073,1600.77 553.864,1314.3 \n",
       "  554.656,1323.04 555.447,1316.59 556.239,1248.06 557.03,1248.06 557.822,1325.22 558.613,1323.64 559.405,1412.32 560.196,1432.05 560.988,1496.63 561.78,1486.05 \n",
       "  562.571,1502.83 563.363,1519.01 564.154,1430.01 564.946,1423.99 565.737,1437.5 566.529,1586.24 567.32,1487.73 568.112,1490.29 568.903,1454.33 569.695,1567.77 \n",
       "  570.486,1572.76 571.278,1502.12 572.069,1492.39 572.861,1492.39 573.652,1492.39 574.444,1508.87 575.235,1453.95 576.027,1497.03 576.819,1406.07 577.61,1381.8 \n",
       "  578.402,1353.84 579.193,1361 579.985,1387.04 580.776,1382.23 581.568,1388.17 582.359,1417.71 583.151,1396.18 583.942,1389.1 584.734,1338.89 585.525,1388.36 \n",
       "  586.317,1397.22 587.108,1496.23 587.9,1429.44 588.691,1399.42 589.483,1569.14 590.275,1569.14 591.066,1533.93 591.858,1525.03 592.649,1623.13 593.441,1588.57 \n",
       "  594.232,1529.39 595.024,1324.51 595.815,1313.71 596.607,1330.46 597.398,1221.55 598.19,1741.46 598.981,1623.56 599.773,1529.77 600.564,1567.74 601.356,1504.2 \n",
       "  602.147,1599.47 602.939,1627.77 603.73,1510.43 604.522,1514.45 605.314,1514.14 606.105,1489.81 606.897,1395.6 607.688,1448.44 608.48,1448.44 609.271,1507.32 \n",
       "  610.063,1504.18 610.854,1530.09 611.646,1561.95 612.437,1587.52 613.229,1381.64 614.02,1388.28 614.812,1377.67 615.603,1454.62 616.395,1440.71 617.186,1524.14 \n",
       "  617.978,1479.73 618.77,1456.35 619.561,1524.3 620.353,1499.43 621.144,1428.3 621.936,1503.69 622.727,1521.95 623.519,1530.26 624.31,1495.66 625.102,1493.79 \n",
       "  625.893,1376.02 626.685,1461.77 627.476,1559.75 628.268,1555.05 629.059,1596.16 629.851,1621.97 630.642,1621.69 631.434,1527.46 632.225,1508.95 633.017,1471.46 \n",
       "  633.809,1435.98 634.6,1272.53 635.392,1355.05 636.183,1548.05 636.975,1468.04 637.766,1414.68 638.558,1376.81 639.349,1396.5 640.141,1434.58 640.932,1413.56 \n",
       "  641.724,1410.66 642.515,1427.73 643.307,1528.25 644.098,1482.69 644.89,1531.88 645.681,1362.37 646.473,1360.21 647.265,1325.43 648.056,1724.18 648.848,1628.62 \n",
       "  649.639,1561.51 650.431,1531.95 651.222,1557.47 652.014,1497.87 652.805,1378.48 653.597,1407.6 654.388,1440.49 655.18,1434.66 655.971,1630.07 656.763,1654.11 \n",
       "  657.554,1442.65 658.346,1452.99 659.137,1307.63 659.929,1459.45 660.72,1455.09 661.512,1526.86 662.304,1508.91 663.095,1386.18 663.887,1435.3 664.678,1447.59 \n",
       "  665.47,1561.85 666.261,1493.6 667.053,1454.96 667.844,1451.03 668.636,1431.02 669.427,1461.22 670.219,1474.17 671.01,1459.51 671.802,1499.01 672.593,1483.34 \n",
       "  673.385,1455.2 674.176,1530.6 674.968,1361.83 675.76,1396.96 676.551,1424.32 677.343,1456.88 678.134,1567.03 678.926,1473.43 679.717,1448.57 680.509,1653.44 \n",
       "  681.3,1569.56 682.092,1538.09 682.883,1526.04 683.675,1566.51 684.466,1572.84 685.258,1560.07 686.049,1488.2 686.841,1484.55 687.632,1502.43 688.424,1491.85 \n",
       "  689.215,1486.6 690.007,1514.02 690.799,1515.71 691.59,1418.62 692.382,1425.21 693.173,1362.08 693.965,1322.36 694.756,1484.36 695.548,1528.23 696.339,1499.47 \n",
       "  697.131,1545.32 697.922,1480.61 698.714,1480.61 699.505,1668.75 700.297,1718.13 701.088,1550.43 701.88,1587.16 702.671,1547.39 703.463,1537.64 704.255,1536.97 \n",
       "  705.046,1520.13 705.838,1467.81 706.629,1363.91 707.421,1426.26 708.212,1527.86 709.004,1516.1 709.795,1498.11 710.587,1502.3 711.378,1623.7 712.17,1623.24 \n",
       "  712.961,1564.04 713.753,1552.7 714.544,1578.13 715.336,1399.61 716.127,1473.15 716.919,1425.57 717.71,1478.19 718.502,1556.11 719.294,1545.72 720.085,1552.37 \n",
       "  720.877,1557.73 721.668,1612.88 722.46,1453.34 723.251,1410.5 724.043,1453.05 724.834,1424.93 725.626,1429.09 726.417,1469.26 727.209,1440.01 728,1402.5 \n",
       "  728.792,1377.46 729.583,1466.05 730.375,1458.3 731.166,1520.72 731.958,1583.33 732.75,1521.62 733.541,1534.87 734.333,1529.54 735.124,1468.92 735.916,1428.49 \n",
       "  736.707,1468.14 737.499,1416.24 738.29,1438.5 739.082,1390.16 739.873,1485.55 740.665,1559.99 741.456,1438.93 742.248,1538.01 743.039,1381.59 743.831,1377.71 \n",
       "  744.622,1481.86 745.414,1494.08 746.205,1472.8 746.997,1492.82 747.789,1598.91 748.58,1460.72 749.372,1362.43 750.163,1475.44 750.955,1461 751.746,1434.52 \n",
       "  752.538,1431.68 753.329,1548.85 754.121,1575.77 754.912,1508.03 755.704,1424.56 756.495,1425.81 757.287,1541.8 758.078,1560.29 758.87,1415.89 759.661,1443.61 \n",
       "  760.453,1540.95 761.245,1585.42 762.036,1589.46 762.828,1648.59 763.619,1642.42 764.411,1599.05 765.202,1456.92 765.994,1463.31 766.785,1438.19 767.577,1494.34 \n",
       "  768.368,1484.6 769.16,1481.03 769.951,1473.84 770.743,1482.22 771.534,1519.34 772.326,1543.01 773.117,1467.72 773.909,1419.54 774.7,1422.83 775.492,1452.31 \n",
       "  776.284,1436.15 777.075,1460.36 777.867,1465.54 778.658,1482.79 779.45,1482.8 780.241,1550.49 781.033,1545.15 781.824,1555.71 782.616,1490.71 783.407,1483.71 \n",
       "  784.199,1415.8 784.99,1606.94 785.782,1467.09 786.573,1580.42 787.365,1536.78 788.156,1510.98 788.948,1512.96 789.74,1377.71 790.531,1447.04 791.323,1423.47 \n",
       "  792.114,1492.41 792.906,1548.61 793.697,1568.51 794.489,1478.33 795.28,1482.61 796.072,1475.04 796.863,1355.75 797.655,1402.41 798.446,1513.88 799.238,1633.1 \n",
       "  800.029,1633.1 800.821,1616.71 801.612,1417.85 802.404,1461.6 803.195,1485.52 803.987,1450.41 804.779,1542.78 805.57,1472.71 806.362,1497.8 807.153,1493.23 \n",
       "  807.945,1501.7 808.736,1549.52 809.528,1557.66 810.319,1660.45 811.111,1609.94 811.902,1594.23 812.694,1521.89 813.485,1479.09 814.277,1412.59 815.068,1474.39 \n",
       "  815.86,1476.36 816.651,1516.37 817.443,1522.64 818.235,1583.57 819.026,1436.04 819.818,1460.73 820.609,1358.31 821.401,1326.38 822.192,1434.09 822.984,1488.98 \n",
       "  823.775,1487.78 824.567,1470.32 825.358,1528.19 826.15,1554.8 826.941,1575.25 827.733,1572.23 828.524,1404.41 829.316,1372.43 830.107,1617.03 830.899,1430.75 \n",
       "  831.69,1538.83 832.482,1528.01 833.274,1469.76 834.065,1501.09 834.857,1357.11 835.648,1373.81 836.44,1505.59 837.231,1513.63 838.023,1484.93 838.814,1495.02 \n",
       "  839.606,1516.55 840.397,1544.28 841.189,1587.83 841.98,1498.47 842.772,1451.24 843.563,1459.48 844.355,1424.37 845.146,1437.6 845.938,1610.14 846.73,1578.65 \n",
       "  847.521,1448.37 848.313,1460.46 849.104,1531.12 849.896,1499.13 850.687,1490.13 851.479,1393.12 852.27,1488.39 853.062,1499.58 853.853,1557.84 854.645,1391.39 \n",
       "  855.436,1448.32 856.228,1358.21 857.019,1266.48 857.811,1268.26 858.602,1356.94 859.394,1335.73 860.185,1347.2 860.977,1531.4 861.769,1527.97 862.56,1522.75 \n",
       "  863.352,1426.51 864.143,1513.6 864.935,1544.54 865.726,1539.93 866.518,1461.55 867.309,1521.3 868.101,1432.36 868.892,1492.06 869.684,1375.61 870.475,1485.09 \n",
       "  871.267,1538.75 872.058,1534.98 872.85,1519.88 873.641,1524.72 874.433,1537.89 875.225,1477.39 876.016,1483.39 876.808,1414.57 877.599,1492.26 878.391,1506.94 \n",
       "  879.182,1502.82 879.974,1393.76 880.765,1306.26 881.557,1392.99 882.348,1351.28 883.14,1507.9 883.931,1503.06 884.723,1458.22 885.514,1567.79 886.306,1350.57 \n",
       "  887.097,1358.18 887.889,1599.06 888.68,1597.65 889.472,1432.67 890.264,1422.92 891.055,1410.34 891.847,1536.84 892.638,1483.63 893.43,1395.49 894.221,1322.19 \n",
       "  895.013,1400.41 895.804,1453.81 896.596,1399.43 897.387,1422.74 898.179,1445.23 898.97,1456.15 899.762,1450.74 900.553,1499.17 901.345,1416.35 902.136,1449.74 \n",
       "  902.928,1527.79 903.72,1527.79 904.511,1615.02 905.303,1634.92 906.094,1584.83 906.886,1404.42 907.677,1569.01 908.469,1639.56 909.26,1592.12 910.052,1588.82 \n",
       "  910.843,1630.07 911.635,1611.4 912.426,1545.13 913.218,1466.17 914.009,1436.32 914.801,1426.82 915.592,1372.97 916.384,1323.83 917.175,1510.6 917.967,1462.71 \n",
       "  918.759,1446.07 919.55,1364.71 920.342,1413.67 921.133,1432.78 921.925,1409 922.716,1392.02 923.508,1327.16 924.299,1455.35 925.091,1592.35 925.882,1632.29 \n",
       "  926.674,1514.93 927.465,1495.5 928.257,1504.44 929.048,1537.34 929.84,1492.59 930.631,1506.68 931.423,1523.79 932.215,1509.54 933.006,1489.29 933.798,1517.4 \n",
       "  934.589,1497.35 935.381,1442.06 936.172,1485.32 936.964,1566.43 937.755,1377.29 938.547,1416.34 939.338,1417.98 940.13,1421.05 940.921,1382.24 941.713,1472.66 \n",
       "  942.504,1472.66 943.296,1472.66 944.087,1579.13 944.879,1587.43 945.67,1585.6 946.462,1600.13 947.254,1616.81 948.045,1358.43 948.837,1364.01 949.628,1374.62 \n",
       "  950.42,1383.55 951.211,1380.49 952.003,1443.92 952.794,1407.78 953.586,1678.56 954.377,1648.5 955.169,1658.12 955.96,1583.38 956.752,1578.74 957.543,1477.95 \n",
       "  958.335,1459.01 959.126,1503.76 959.918,1501.07 960.71,1471.74 961.501,1482.4 962.293,1483.47 963.084,1521.23 963.876,1431.69 964.667,1533.9 965.459,1469.23 \n",
       "  966.25,1438.77 967.042,1505.97 967.833,1490.48 968.625,1478.14 969.416,1571.92 970.208,1548.64 970.999,1556.35 971.791,1530.44 972.582,1438.79 973.374,1434.8 \n",
       "  974.165,1428.43 974.957,1349.1 975.749,1483.81 976.54,1610.52 977.332,1478.85 978.123,1601.9 978.915,1583.99 979.706,1553.02 980.498,1605.65 981.289,1563.04 \n",
       "  982.081,1563.04 982.872,1522.2 983.664,1557.99 984.455,1662.98 985.247,1379.23 986.038,1543.23 986.83,1475.71 987.621,1481.44 988.413,1435.91 989.204,1426.94 \n",
       "  989.996,1367.52 990.788,1474.99 991.579,1497.1 992.371,1472.62 993.162,1537.36 993.954,1585.94 994.745,1432.86 995.537,1519.84 996.328,1483.21 997.12,1475.84 \n",
       "  997.911,1459.19 998.703,1473.14 999.494,1473.14 1000.29,1452.38 1001.08,1512.22 1001.87,1522.97 1002.66,1523.92 1003.45,1607.79 1004.24,1552.71 1005.04,1552.62 \n",
       "  1005.83,1329.1 1006.62,1622.04 1007.41,1351.7 1008.2,1431 1008.99,1453.55 1009.78,1518.54 1010.58,1518.54 1011.37,1564.56 1012.16,1603 1012.95,1562.07 \n",
       "  1013.74,1574.62 1014.53,1464.49 1015.32,1454.15 1016.12,1390.77 1016.91,1461.64 1017.7,1456.48 1018.49,1465.98 1019.28,1436.82 1020.07,1438.53 1020.87,1337.34 \n",
       "  1021.66,1583.66 1022.45,1638.86 1023.24,1557.31 1024.03,1574.93 1024.82,1576.73 1025.61,1523.81 1026.41,1525.57 1027.2,1428.75 1027.99,1531.72 1028.78,1545.95 \n",
       "  1029.57,1569.58 1030.36,1595.91 1031.16,1561.62 1031.95,1503.38 1032.74,1481.58 1033.53,1547.43 1034.32,1422.32 1035.11,1470.54 1035.9,1470.11 1036.7,1485.42 \n",
       "  1037.49,1635.83 1038.28,1611.86 1039.07,1370.03 1039.86,1400.24 1040.65,1324.59 1041.45,1337.6 1042.24,1395.21 1043.03,1427.15 1043.82,1524.82 1044.61,1480.44 \n",
       "  1045.4,1501.61 1046.19,1304.13 1046.99,1429.06 1047.78,1323.41 1048.57,1359.96 1049.36,1359.96 1050.15,1509.91 1050.94,1454.45 1051.74,1488.27 1052.53,1546.82 \n",
       "  1053.32,1548.54 1054.11,1597.94 1054.9,1574.28 1055.69,1491.25 1056.48,1492.39 1057.28,1474.23 1058.07,1474.9 1058.86,1420.81 1059.65,1427.87 1060.44,1538.14 \n",
       "  1061.23,1454.87 1062.03,1497.96 1062.82,1469.9 1063.61,1428.43 1064.4,1435.21 1065.19,1519.58 1065.98,1499.04 1066.77,1442.75 1067.57,1359.8 1068.36,1380.75 \n",
       "  1069.15,1350.18 1069.94,1385.21 1070.73,1374.33 1071.52,1362.75 1072.31,1367.42 1073.11,1438.03 1073.9,1524.99 1074.69,1384.14 1075.48,1402.34 1076.27,1376.39 \n",
       "  1077.06,1384.16 1077.86,1501.64 1078.65,1498.34 1079.44,1463.81 1080.23,1531.03 1081.02,1497.24 1081.81,1528.55 1082.6,1446 1083.4,1458.84 1084.19,1577.25 \n",
       "  1084.98,1465.46 1085.77,1525.13 1086.56,1442.4 1087.35,1474.61 1088.15,1464.81 1088.94,1436.23 1089.73,1500.86 1090.52,1349.31 1091.31,1544 1092.1,1448.28 \n",
       "  1092.89,1509.96 1093.69,1486.02 1094.48,1537.62 1095.27,1548.96 1096.06,1516.96 1096.85,1404.03 1097.64,1321.86 1098.44,1565.61 1099.23,1574.93 1100.02,1488.23 \n",
       "  1100.81,1490.1 1101.6,1497.02 1102.39,1500.23 1103.18,1499.71 1103.98,1531.19 1104.77,1565.63 1105.56,1550.14 1106.35,1503.51 1107.14,1442.2 1107.93,1476.04 \n",
       "  1108.73,1417.9 1109.52,1480.98 1110.31,1493.33 1111.1,1598.06 1111.89,1607.56 1112.68,1384.24 1113.47,1417.68 1114.27,1441.56 1115.06,1425.72 1115.85,1415.24 \n",
       "  1116.64,1458.05 1117.43,1458.61 1118.22,1376.37 1119.02,1581.55 1119.81,1505.81 1120.6,1440.67 1121.39,1588.2 1122.18,1410.43 1122.97,1387.52 1123.76,1407.23 \n",
       "  1124.56,1341.78 1125.35,1485.7 1126.14,1532.11 1126.93,1506.91 1127.72,1579.75 1128.51,1471.61 1129.3,1444.94 1130.1,1283.98 1130.89,1605.66 1131.68,1614.14 \n",
       "  1132.47,1624.57 1133.26,1445.44 1134.05,1414.02 1134.85,1434.5 1135.64,1469.86 1136.43,1469.64 1137.22,1456.65 1138.01,1537.04 1138.8,1537.04 1139.59,1632.36 \n",
       "  1140.39,1593.58 1141.18,1499.53 1141.97,1483.08 1142.76,1416.3 1143.55,1300.14 1144.34,1341.14 1145.14,1591.9 1145.93,1409.88 1146.72,1429.3 1147.51,1546.17 \n",
       "  1148.3,1517.74 1149.09,1423.26 1149.88,1567.85 1150.68,1361.28 1151.47,1588.06 1152.26,1588.5 1153.05,1495.24 1153.84,1564.52 1154.63,1548.64 1155.43,1613.3 \n",
       "  1156.22,1342.36 1157.01,1482.98 1157.8,1435.09 1158.59,1358.85 1159.38,1390.4 1160.17,1485.61 1160.97,1527.48 1161.76,1505.75 1162.55,1420.96 1163.34,1450.94 \n",
       "  1164.13,1534.47 1164.92,1526.05 1165.72,1488.21 1166.51,1532.87 1167.3,1576.67 1168.09,1524.1 1168.88,1441.66 1169.67,1583.64 1170.46,1612.35 1171.26,1418.56 \n",
       "  1172.05,1482.08 1172.84,1517.48 1173.63,1485.18 1174.42,1536.06 1175.21,1578.46 1176.01,1537.21 1176.8,1486.51 1177.59,1481.59 1178.38,1487.21 1179.17,1443.65 \n",
       "  1179.96,1434.07 1180.75,1427.96 1181.55,1475.22 1182.34,1639.64 1183.13,1617.84 1183.92,1576.6 1184.71,1572.64 1185.5,1617.92 1186.29,1613.07 1187.09,1500.33 \n",
       "  1187.88,1395.98 1188.67,1388.05 1189.46,1390.13 1190.25,1428.38 1191.04,1434.53 1191.84,1532.04 1192.63,1525.93 1193.42,1481.96 1194.21,1532.03 1195,1589.96 \n",
       "  1195.79,1624.65 1196.58,1633.66 1197.38,1668.47 1198.17,1509.81 1198.96,1495.36 1199.75,1510.02 1200.54,1539.34 1201.33,1522.85 1202.13,1490.4 1202.92,1371.71 \n",
       "  1203.71,1576.95 1204.5,1586.2 1205.29,1586.33 1206.08,1544.5 1206.87,1559.88 1207.67,1449.12 1208.46,1466.79 1209.25,1546.64 1210.04,1546.76 1210.83,1507.53 \n",
       "  1211.62,1510.75 1212.42,1458.95 1213.21,1615.17 1214,1589.81 1214.79,1522.91 1215.58,1512.39 1216.37,1536.09 1217.16,1543.7 1217.96,1542.38 1218.75,1428.22 \n",
       "  1219.54,1452.04 1220.33,1499.61 1221.12,1435.23 1221.91,1525.15 1222.71,1558.94 1223.5,1651.46 1224.29,1562.6 1225.08,1575.87 1225.87,1478.97 1226.66,1507.88 \n",
       "  1227.45,1449.48 1228.25,1383.65 1229.04,1540.3 1229.83,1515.08 1230.62,1597.85 1231.41,1510.05 1232.2,1417.58 1233,1456.58 1233.79,1481.67 1234.58,1581.32 \n",
       "  1235.37,1465.62 1236.16,1475.33 1236.95,1493.76 1237.74,1385.98 1238.54,1576.66 1239.33,1590.24 1240.12,1445.53 1240.91,1449.19 1241.7,1470.5 1242.49,1435.85 \n",
       "  1243.28,1370.96 1244.08,1510.48 1244.87,1505.26 1245.66,1505.26 1246.45,1505.26 1247.24,1597.09 1248.03,1627.45 1248.83,1481.41 1249.62,1410.47 1250.41,1358.18 \n",
       "  1251.2,1448.03 1251.99,1469.14 1252.78,1437.02 1253.57,1521.64 1254.37,1460.83 1255.16,1457.93 1255.95,1383.79 1256.74,1410.07 1257.53,1496.31 1258.32,1555.21 \n",
       "  1259.12,1626.31 1259.91,1542.75 1260.7,1540.07 1261.49,1537.7 1262.28,1435.66 1263.07,1491.86 1263.86,1481.61 1264.66,1464.09 1265.45,1441.94 1266.24,1512.7 \n",
       "  1267.03,1511.33 1267.82,1523.41 1268.61,1507.21 1269.41,1375.4 1270.2,1535.53 1270.99,1474.55 1271.78,1410.83 1272.57,1531.82 1273.36,1483.53 1274.15,1440.47 \n",
       "  1274.95,1528.56 1275.74,1476.72 1276.53,1558.9 1277.32,1558.9 1278.11,1524.4 1278.9,1632.76 1279.7,1581.34 1280.49,1611.22 1281.28,1398.07 1282.07,1455.6 \n",
       "  1282.86,1436.87 1283.65,1230.01 1284.44,1423.21 1285.24,1521.06 1286.03,1552.65 1286.82,1317.92 1287.61,1655.12 1288.4,1397.08 1289.19,1371.92 1289.99,1396.29 \n",
       "  1290.78,1569.2 1291.57,1581.37 1292.36,1540.56 1293.15,1550.92 1293.94,1631.06 1294.73,1618.62 1295.53,1600.28 1296.32,1511.03 1297.11,1511.03 1297.9,1517.21 \n",
       "  1298.69,1322.26 1299.48,1617.08 1300.27,1554.61 1301.07,1535.93 1301.86,1534.07 1302.65,1429.34 1303.44,1475.82 1304.23,1566.61 1305.02,1527.38 1305.82,1549.04 \n",
       "  1306.61,1465.69 1307.4,1541.91 1308.19,1583.1 1308.98,1600.59 1309.77,1630.84 1310.56,1569.78 1311.36,1589.98 1312.15,1545.93 1312.94,1509.21 1313.73,1386.54 \n",
       "  1314.52,1490.13 1315.31,1418.18 1316.11,1407.48 1316.9,1452.39 1317.69,1583.22 1318.48,1411.46 1319.27,1446.16 1320.06,1371.78 1320.85,1371.78 1321.65,1519.32 \n",
       "  1322.44,1415.62 1323.23,1423.54 1324.02,1462.98 1324.81,1462.98 1325.6,1513.44 1326.4,1471.81 1327.19,1424.62 1327.98,1376.3 1328.77,1352.78 1329.56,1504.39 \n",
       "  1330.35,1473.24 1331.14,1354.84 1331.94,1354.37 1332.73,1381.73 1333.52,1250.8 1334.31,1258.87 1335.1,1418.01 1335.89,1391.64 1336.69,1382.33 1337.48,1399.67 \n",
       "  1338.27,1521.72 1339.06,1505.98 1339.85,1602.54 1340.64,1429.73 1341.43,1461.54 1342.23,1462.33 1343.02,1447.18 1343.81,1470.88 1344.6,1528.66 1345.39,1530.89 \n",
       "  1346.18,1625.7 1346.98,1640.14 1347.77,1592.3 1348.56,1600.65 1349.35,1617.12 1350.14,1391.75 1350.93,1594.25 1351.72,1473.8 1352.52,1453.36 1353.31,1448.63 \n",
       "  1354.1,1533.8 1354.89,1345.37 1355.68,1477.26 1356.47,1362.93 1357.26,1463.43 1358.06,1540.18 1358.85,1402.37 1359.64,1395.75 1360.43,1532.15 1361.22,1586.43 \n",
       "  1362.01,1499.96 1362.81,1343.19 1363.6,1337.07 1364.39,1351.84 1365.18,1302.13 1365.97,1338.91 1366.76,1519.41 1367.55,1463.95 1368.35,1477.47 1369.14,1529.83 \n",
       "  1369.93,1458.58 1370.72,1459.19 1371.51,1518.53 1372.3,1562.58 1373.1,1582 1373.89,1532.09 1374.68,1487.95 1375.47,1535.42 1376.26,1474.07 1377.05,1457.53 \n",
       "  1377.84,1418.68 1378.64,1417.3 1379.43,1420.96 1380.22,1539.22 1381.01,1539.22 1381.8,1451.34 1382.59,1468.88 1383.39,1327.66 1384.18,1306.14 1384.97,1286.75 \n",
       "  1385.76,1312.78 1386.55,1368.54 1387.34,1382.62 1388.13,1499.37 1388.93,1403.09 1389.72,1417.52 1390.51,1533.45 1391.3,1533.45 1392.09,1295.26 1392.88,1416.2 \n",
       "  1393.68,1632.22 1394.47,1455.11 1395.26,1522.5 1396.05,1598.39 1396.84,1589.1 1397.63,1478.38 1398.42,1454.9 1399.22,1453.8 1400.01,1551.35 1400.8,1496.87 \n",
       "  1401.59,1513.08 1402.38,1562.49 1403.17,1523.59 1403.97,1536.04 1404.76,1533.19 1405.55,1445.51 1406.34,1473.62 1407.13,1400.82 1407.92,1411.6 1408.71,1548.41 \n",
       "  1409.51,1291.87 1410.3,1342.71 1411.09,1383.53 1411.88,1534.41 1412.67,1556.36 1413.46,1547.9 1414.25,1530.67 1415.05,1534.87 1415.84,1497.84 1416.63,1548.55 \n",
       "  1417.42,1600.7 1418.21,1400.07 1419,1331.53 1419.8,1307.17 1420.59,1445.23 1421.38,1349.86 1422.17,1392.11 1422.96,1408.11 1423.75,1402.08 1424.54,1496.83 \n",
       "  1425.34,1461.6 1426.13,1461.6 1426.92,1518.25 1427.71,1506.01 1428.5,1473.75 1429.29,1485.83 1430.09,1497.87 1430.88,1401 1431.67,1418.69 1432.46,1568.07 \n",
       "  1433.25,1513.21 1434.04,1543.01 1434.83,1603.15 1435.63,1624.83 1436.42,1569.92 1437.21,1551.5 1438,1542.12 1438.79,1536.57 1439.58,1592.25 1440.38,1536.37 \n",
       "  1441.17,1574.67 1441.96,1470.54 1442.75,1589.92 1443.54,1544.5 1444.33,1431.66 1445.12,1363.09 1445.92,1362.06 1446.71,1344.88 1447.5,1420.54 1448.29,1419.73 \n",
       "  1449.08,1587.25 1449.87,1412.75 1450.67,1435.19 1451.46,1424.02 1452.25,1474.91 1453.04,1528.86 1453.83,1567.29 1454.62,1417.28 1455.41,1521.25 1456.21,1566.31 \n",
       "  1457,1500.17 1457.79,1466.35 1458.58,1455.33 1459.37,1507.27 1460.16,1501.42 1460.96,1435.36 1461.75,1550.91 1462.54,1489.66 1463.33,1506.05 1464.12,1493.23 \n",
       "  1464.91,1523.25 1465.7,1541.26 1466.5,1637.67 1467.29,1697.73 1468.08,1647.47 1468.87,1558.58 1469.66,1443.64 1470.45,1554.51 1471.24,1584.97 1472.04,1500.18 \n",
       "  1472.83,1437.9 1473.62,1450.75 1474.41,1442.96 1475.2,1537.93 1475.99,1513.94 1476.79,1378.07 1477.58,1350.27 1478.37,1374.73 1479.16,1349.53 1479.95,1362.52 \n",
       "  1480.74,1388.1 1481.53,1314.5 1482.33,1286.23 1483.12,1396.25 1483.91,1393.53 1484.7,1503.11 1485.49,1451.36 1486.28,1440.88 1487.08,1404.33 1487.87,1408.64 \n",
       "  1488.66,1284.71 1489.45,1339.2 1490.24,1625.11 1491.03,1570.14 1491.82,1498.96 1492.62,1409.49 1493.41,1393.68 1494.2,1520.5 1494.99,1439.64 1495.78,1390.73 \n",
       "  1496.57,1582.14 1497.37,1757.31 1498.16,1714.79 1498.95,1533.24 1499.74,1538.26 1500.53,1639.09 1501.32,1532.16 1502.11,1534.55 1502.91,1474.58 1503.7,1469.67 \n",
       "  1504.49,1490.31 1505.28,1525.8 1506.07,1522.04 1506.86,1349.35 1507.66,1355.52 1508.45,1450.65 1509.24,1294.78 1510.03,1287.13 1510.82,1567.74 1511.61,1444.85 \n",
       "  1512.4,1547.51 1513.2,1549.57 1513.99,1513.96 1514.78,1511.9 1515.57,1602.62 1516.36,1515.15 1517.15,1499.07 1517.95,1604.57 1518.74,1397.28 1519.53,1495.16 \n",
       "  1520.32,1495.16 1521.11,1522.37 1521.9,1420.21 1522.69,1595.64 1523.49,1539.76 1524.28,1488.11 1525.07,1561.38 1525.86,1583.46 1526.65,1399.58 1527.44,1397.36 \n",
       "  1528.23,1438.18 1529.03,1574.23 1529.82,1580.46 1530.61,1602.87 1531.4,1408.97 1532.19,1435.57 1532.98,1274.23 1533.78,1480.6 1534.57,1470.22 1535.36,1454.15 \n",
       "  1536.15,1444.96 1536.94,1463.37 1537.73,1455.96 1538.52,1396.16 1539.32,1415.02 1540.11,1554.16 1540.9,1506.57 1541.69,1451.46 1542.48,1430.53 1543.27,1516.96 \n",
       "  1544.07,1442.93 1544.86,1463.55 1545.65,1373.7 1546.44,1399.55 1547.23,1364.94 1548.02,1381.03 1548.81,1418.09 1549.61,1573.01 1550.4,1559.92 1551.19,1302.47 \n",
       "  1551.98,1315.55 1552.77,1237.64 1553.56,1246.81 1554.36,1294.94 1555.15,1282.37 1555.94,1285.77 1556.73,1327.34 1557.52,1488.41 1558.31,1427.82 1559.1,1438.93 \n",
       "  1559.9,1343.94 1560.69,1345.31 1561.48,1497.26 1562.27,1496.55 1563.06,1477.14 1563.85,1450.24 1564.65,1451.15 1565.44,1565.76 1566.23,1455.15 1567.02,1461.23 \n",
       "  1567.81,1510.31 1568.6,1442.28 1569.39,1485.98 1570.19,1505.53 1570.98,1509.45 1571.77,1547.87 1572.56,1643.09 1573.35,1673.71 1574.14,1673.71 1574.94,1653.12 \n",
       "  1575.73,1680.72 1576.52,1547.28 1577.31,1555.53 1578.1,1538.86 1578.89,1419.88 1579.68,1480.39 1580.48,1448.66 1581.27,1464.37 1582.06,1472.49 1582.85,1479.64 \n",
       "  1583.64,1487.32 1584.43,1524.04 1585.22,1509.8 1586.02,1589.21 1586.81,1559.94 1587.6,1566.25 1588.39,1557.66 1589.18,1557.66 1589.97,1478.32 1590.77,1380.43 \n",
       "  1591.56,1465.74 1592.35,1474.36 1593.14,1484.57 1593.93,1481.86 1594.72,1380.37 1595.51,1474.9 1596.31,1525.31 1597.1,1520.34 1597.89,1476.69 1598.68,1429.02 \n",
       "  1599.47,1428.94 1600.26,1425.38 1601.06,1429.66 1601.85,1429.66 1602.64,1530.2 1603.43,1328.17 1604.22,1501.55 1605.01,1675.25 1605.8,1674.89 1606.6,1684.33 \n",
       "  1607.39,1488.51 1608.18,1420.81 1608.97,1417.97 1609.76,1464.32 1610.55,1479.63 1611.35,1656.67 1612.14,1563.2 1612.93,1560.44 1613.72,1522.84 1614.51,1578.4 \n",
       "  1615.3,1387.56 1616.09,1411.75 1616.89,1537.97 1617.68,1485.69 1618.47,1539.81 1619.26,1524.5 1620.05,1427 1620.84,1302.07 1621.64,1345.58 1622.43,1511.22 \n",
       "  1623.22,1457.91 1624.01,1373.99 1624.8,1560.95 1625.59,1488.09 1626.38,1419.13 1627.18,1526.89 1627.97,1424.89 1628.76,1442.36 1629.55,1424.19 1630.34,1446.59 \n",
       "  1631.13,1457.93 1631.93,1451.94 1632.72,1428.2 1633.51,1442.98 1634.3,1458.27 1635.09,1570.8 1635.88,1546.34 1636.67,1542.45 1637.47,1529.17 1638.26,1518.78 \n",
       "  1639.05,1437.29 1639.84,1455.04 1640.63,1463.98 1641.42,1434.7 1642.21,1383.43 1643.01,1341.49 1643.8,1337.33 1644.59,1321.65 1645.38,1366.71 1646.17,1364.83 \n",
       "  1646.96,1390.29 1647.76,1395.4 1648.55,1515.82 1649.34,1491.07 1650.13,1443.99 1650.92,1449.33 1651.71,1500.86 1652.5,1470.51 1653.3,1560.72 1654.09,1395.86 \n",
       "  1654.88,1478.6 1655.67,1461.75 1656.46,1476.5 1657.25,1448.1 1658.05,1609.86 1658.84,1361.8 1659.63,1463.73 1660.42,1413.54 1661.21,1414.57 1662,1409.86 \n",
       "  1662.79,1518.21 1663.59,1561.49 1664.38,1588.92 1665.17,1561.22 1665.96,1537.73 1666.75,1492.95 1667.54,1445.31 1668.34,1406.18 1669.13,1360.1 1669.92,1489.68 \n",
       "  1670.71,1454.86 1671.5,1450.84 1672.29,1444.69 1673.08,1553.88 1673.88,1484.76 1674.67,1454.79 1675.46,1451.95 1676.25,1403.46 1677.04,1411.26 1677.83,1479.34 \n",
       "  1678.63,1604.23 1679.42,1544.15 1680.21,1562.9 1681,1550.28 1681.79,1547.61 1682.58,1557.13 1683.37,1571.32 1684.17,1568.7 1684.96,1562.7 1685.75,1516.7 \n",
       "  1686.54,1572.75 1687.33,1563.69 1688.12,1558.6 1688.92,1573.52 1689.71,1625.52 1690.5,1563.87 1691.29,1559.16 1692.08,1385.72 1692.87,1369.87 1693.66,1492.28 \n",
       "  1694.46,1568.11 1695.25,1568.11 1696.04,1508.62 1696.83,1494.18 1697.62,1547.34 1698.41,1478.66 1699.2,1410.26 1700,1526.62 1700.79,1509.85 1701.58,1437.65 \n",
       "  1702.37,1447.59 1703.16,1370.41 1703.95,1477.88 1704.75,1497.29 1705.54,1416.2 1706.33,1412.91 1707.12,1372.18 1707.91,1417.34 1708.7,1441.09 1709.49,1445.53 \n",
       "  1710.29,1488.28 1711.08,1435.96 1711.87,1476.67 1712.66,1569.29 1713.45,1550.35 1714.24,1508.89 1715.04,1511.64 1715.83,1493.94 1716.62,1484.15 1717.41,1545.95 \n",
       "  1718.2,1524.45 1718.99,1472.12 1719.78,1483.37 1720.58,1383.93 1721.37,1389.32 1722.16,1356.97 1722.95,1362.14 1723.74,1359.09 1724.53,1319.87 1725.33,1251.01 \n",
       "  1726.12,1340.15 1726.91,1519.65 1727.7,1325.81 1728.49,1328.57 1729.28,1495.87 1730.07,1321.8 1730.87,1421.87 1731.66,1439.78 1732.45,1443.53 1733.24,1537.73 \n",
       "  1734.03,1343.78 1734.82,1447.63 1735.62,1422.54 1736.41,1410.71 1737.2,1396.32 1737.99,1453.37 1738.78,1325.84 1739.57,1346.53 1740.36,1305.89 1741.16,1444.05 \n",
       "  1741.95,1480.5 1742.74,1466.24 1743.53,1461.96 1744.32,1402.23 1745.11,1402.23 1745.91,1481.6 1746.7,1438.97 1747.49,1599.36 1748.28,1513.44 1749.07,1476.3 \n",
       "  1749.86,1408.43 1750.65,1425.89 1751.45,1413.5 1752.24,1512.59 1753.03,1475.05 1753.82,1569.07 1754.61,1587.38 1755.4,1450.93 1756.19,1446.96 1756.99,1446.96 \n",
       "  1757.78,1386.04 1758.57,1331.45 1759.36,1450.3 1760.15,1507.93 1760.94,1481.14 1761.74,1492.79 1762.53,1538.11 1763.32,1525.47 1764.11,1706.23 1764.9,1427.19 \n",
       "  1765.69,1489.28 1766.48,1431.14 1767.28,1431.14 1768.07,1377.92 1768.86,1367.8 1769.65,1373.77 1770.44,1471.7 1771.23,1456.87 1772.03,1380.3 1772.82,1383.95 \n",
       "  1773.61,1423.11 1774.4,1534.02 1775.19,1521.24 1775.98,1462.1 1776.77,1428.58 1777.57,1441.08 1778.36,1386.98 1779.15,1397.24 1779.94,1409.95 1780.73,1444.9 \n",
       "  1781.52,1437.51 1782.32,1438.15 1783.11,1483.36 1783.9,1461.77 1784.69,1460.12 1785.48,1421.25 1786.27,1436.12 1787.06,1477.7 1787.86,1471.54 1788.65,1484.23 \n",
       "  1789.44,1455.96 1790.23,1385.92 1791.02,1411.59 1791.81,1509.23 1792.61,1533.78 1793.4,1523.5 1794.19,1537.54 1794.98,1536.49 1795.77,1428.55 1796.56,1551.13 \n",
       "  1797.35,1552.73 1798.15,1467.65 1798.94,1505.1 1799.73,1508.05 1800.52,1474.16 1801.31,1470.48 1802.1,1482.69 1802.9,1530.19 1803.69,1421.06 1804.48,1420.62 \n",
       "  1805.27,1503.46 1806.06,1488.11 1806.85,1523.09 1807.64,1521.04 1808.44,1601.96 1809.23,1627.71 1810.02,1538.58 1810.81,1538.67 1811.6,1531.9 1812.39,1537.23 \n",
       "  1813.18,1525.33 1813.98,1559.93 1814.77,1525.83 1815.56,1541.27 1816.35,1559.29 1817.14,1409.2 1817.93,1417.66 1818.73,1420.36 1819.52,1416.53 1820.31,1403.14 \n",
       "  1821.1,1388.65 1821.89,1461.21 1822.68,1514.47 1823.47,1412.77 1824.27,1541.22 1825.06,1482.77 1825.85,1481.92 1826.64,1391.91 1827.43,1464.05 1828.22,1392.1 \n",
       "  1829.02,1435.07 1829.81,1408.24 1830.6,1459.67 1831.39,1350.35 1832.18,1378.63 1832.97,1409.98 1833.76,1473 1834.56,1432.9 1835.35,1417.5 1836.14,1423.5 \n",
       "  1836.93,1429.39 1837.72,1419.15 1838.51,1419.44 1839.31,1426.52 1840.1,1408.51 1840.89,1409.65 1841.68,1451.02 1842.47,1431.75 1843.26,1540.5 1844.05,1416.58 \n",
       "  1844.85,1470.8 1845.64,1373.74 1846.43,1403 1847.22,1381.35 1848.01,1495.25 1848.8,1478.14 1849.6,1376.52 1850.39,1333.54 1851.18,1387.09 1851.97,1450.6 \n",
       "  1852.76,1587.33 1853.55,1553.08 1854.34,1532.1 1855.14,1565.2 1855.93,1388.05 1856.72,1525.86 1857.51,1387.03 1858.3,1377.7 1859.09,1406.88 1859.89,1421.42 \n",
       "  1860.68,1447.34 1861.47,1572.23 1862.26,1517.27 1863.05,1530.09 1863.84,1543.44 1864.63,1505.37 1865.43,1586.01 1866.22,1620.88 1867.01,1585.83 1867.8,1485.02 \n",
       "  1868.59,1322.87 1869.38,1322.62 1870.17,1335.87 1870.97,1324.26 1871.76,1323.39 1872.55,1366.92 1873.34,1333.01 1874.13,1479.3 1874.92,1432.51 1875.72,1492.3 \n",
       "  1876.51,1452.74 1877.3,1442.46 1878.09,1432.09 1878.88,1425.99 1879.67,1442.01 1880.46,1455.4 1881.26,1436 1882.05,1479.32 1882.84,1396.5 1883.63,1393.54 \n",
       "  1884.42,1351.14 1885.21,1461.16 1886.01,1486.04 1886.8,1453.93 1887.59,1610.21 1888.38,1646.38 1889.17,1686.52 1889.96,1413.41 1890.75,1420.29 1891.55,1476.53 \n",
       "  1892.34,1483.84 1893.13,1569.4 1893.92,1584.46 1894.71,1596.69 1895.5,1600.04 1896.3,1532.7 1897.09,1490.53 1897.88,1467.17 1898.67,1519.15 1899.46,1610.91 \n",
       "  1900.25,1569.5 1901.04,1502.52 1901.84,1511.85 1902.63,1526.61 1903.42,1567.23 1904.21,1509.48 1905,1557.56 1905.79,1528.97 1906.59,1372.19 1907.38,1356.52 \n",
       "  1908.17,1491.81 1908.96,1520.55 1909.75,1564.44 1910.54,1458.51 1911.33,1438.76 1912.13,1545.08 1912.92,1543.03 1913.71,1602.24 1914.5,1590.74 1915.29,1598.05 \n",
       "  1916.08,1307.99 1916.88,1337.72 1917.67,1429.69 1918.46,1557.43 1919.25,1416.73 1920.04,1529 1920.83,1440.13 1921.62,1518.95 1922.42,1467.44 1923.21,1513.99 \n",
       "  1924,1479.87 1924.79,1487.96 1925.58,1507.2 1926.37,1519.72 1927.16,1564.3 1927.96,1531.14 1928.75,1531.14 1929.54,1412.02 1930.33,1445.11 1931.12,1239.28 \n",
       "  1931.91,1357.62 1932.71,1605.88 1933.5,1613.39 1934.29,1608.16 1935.08,1485.99 1935.87,1525.02 1936.66,1488.9 1937.45,1443.84 1938.25,1413.76 1939.04,1414.15 \n",
       "  \n",
       "  \"/>\n",
       "<polyline clip-path=\"url(#clip044)\" style=\"stroke:#3da44d; stroke-linecap:butt; stroke-linejoin:round; stroke-width:4; stroke-opacity:1; fill:none\" points=\"\n",
       "  356.774,1522.11 357.565,1420.06 358.357,1378.94 359.148,1460.92 359.94,1423.94 360.731,1491.15 361.523,1469.3 362.315,1461.45 363.106,1628.79 363.898,1593.06 \n",
       "  364.689,1596.14 365.481,1340.47 366.272,1421.3 367.064,1420.07 367.855,1504.38 368.647,1503.13 369.438,1471.69 370.23,1359.94 371.021,1595.21 371.813,1308.15 \n",
       "  372.604,1292.55 373.396,1433.82 374.187,1463.57 374.979,1484.29 375.77,1495 376.562,1531.12 377.354,1576.72 378.145,1403.65 378.937,1375.11 379.728,1337.29 \n",
       "  380.52,1311.53 381.311,1550.87 382.103,1390.08 382.894,1322.52 383.686,1380.16 384.477,1511.04 385.269,1396.35 386.06,1382.16 386.852,1542.26 387.643,1455.21 \n",
       "  388.435,1426.23 389.226,1475.03 390.018,1497.23 390.81,1497.15 391.601,1492.59 392.393,1582.63 393.184,1494.67 393.976,1501.07 394.767,1476.69 395.559,1422.7 \n",
       "  396.35,1457.91 397.142,1499.57 397.933,1491.91 398.725,1503.97 399.516,1563.45 400.308,1485.48 401.099,1552.86 401.891,1424.39 402.682,1396.55 403.474,1425.58 \n",
       "  404.265,1425.58 405.057,1380.84 405.849,1338.1 406.64,1337.58 407.432,1366.99 408.223,1357.01 409.015,1485.28 409.806,1289.95 410.598,1312.64 411.389,1305.37 \n",
       "  412.181,1309.15 412.972,1357.4 413.764,1334.51 414.555,1422.68 415.347,1421.84 416.138,1332.13 416.93,1337.43 417.721,1352.77 418.513,1392.19 419.305,1392.19 \n",
       "  420.096,1606.06 420.888,1626 421.679,1457.98 422.471,1443.62 423.262,1436.39 424.054,1462.85 424.845,1391.91 425.637,1565.6 426.428,1410.22 427.22,1461.24 \n",
       "  428.011,1465.6 428.803,1437.69 429.594,1392.93 430.386,1390.57 431.177,1483.69 431.969,1520.88 432.76,1395.93 433.552,1376.89 434.344,1382.24 435.135,1525.11 \n",
       "  435.927,1445.57 436.718,1467.66 437.51,1488.35 438.301,1421.26 439.093,1421.22 439.884,1413.86 440.676,1388.37 441.467,1390.49 442.259,1386.95 443.05,1533.66 \n",
       "  443.842,1468.71 444.633,1535.75 445.425,1521.49 446.216,1525.55 447.008,1520.53 447.8,1535.46 448.591,1509.72 449.383,1499.43 450.174,1469.19 450.966,1549.63 \n",
       "  451.757,1434.92 452.549,1481.45 453.34,1438.61 454.132,1513.04 454.923,1505.02 455.715,1485.44 456.506,1573.38 457.298,1519.12 458.089,1550.99 458.881,1515.54 \n",
       "  459.672,1535.79 460.464,1471.81 461.255,1378.4 462.047,1383.94 462.839,1424.92 463.63,1434.88 464.422,1375.6 465.213,1378.91 466.005,1383.15 466.796,1415.18 \n",
       "  467.588,1413.06 468.379,1530.16 469.171,1338.06 469.962,1352.07 470.754,1518.84 471.545,1458.06 472.337,1466.56 473.128,1485.94 473.92,1413.33 474.711,1518.83 \n",
       "  475.503,1402.33 476.295,1399.98 477.086,1157.83 477.878,1226.3 478.669,1488.22 479.461,1458.65 480.252,1454.45 481.044,1486.72 481.835,1486.7 482.627,1486.92 \n",
       "  483.418,1278.36 484.21,1584.43 485.001,1558.67 485.793,1546.76 486.584,1477.51 487.376,1418.82 488.167,1629.75 488.959,1636.64 489.75,1598.02 490.542,1613.28 \n",
       "  491.334,1285.57 492.125,1531.8 492.917,1583.06 493.708,1371.39 494.5,1455.29 495.291,1501.17 496.083,1529.58 496.874,1553.29 497.666,1423.96 498.457,1436.68 \n",
       "  499.249,1450.77 500.04,1476.37 500.832,1492.76 501.623,1441.31 502.415,1510.52 503.206,1505.8 503.998,1540.68 504.79,1620.44 505.581,1521.49 506.373,1443.82 \n",
       "  507.164,1445.04 507.956,1415.63 508.747,1478.33 509.539,1490.04 510.33,1503.64 511.122,1539.05 511.913,1591.92 512.705,1507.4 513.496,1504.3 514.288,1430.6 \n",
       "  515.079,1438.98 515.871,1326.75 516.662,1691.46 517.454,1679.54 518.245,1632.5 519.037,1512.48 519.829,1513.61 520.62,1604.88 521.412,1642.64 522.203,1438.14 \n",
       "  522.995,1468.51 523.786,1521.03 524.578,1496.44 525.369,1510.6 526.161,1526.52 526.952,1507.29 527.744,1493.78 528.535,1412.04 529.327,1566.83 530.118,1590.43 \n",
       "  530.91,1524.9 531.701,1436.09 532.493,1447.18 533.285,1520.17 534.076,1518.77 534.868,1512.06 535.659,1579.49 536.451,1502.93 537.242,1489.63 538.034,1618.02 \n",
       "  538.825,1449.07 539.617,1582.58 540.408,1400.77 541.2,1585.17 541.991,1435.24 542.783,1374.54 543.574,1351.14 544.366,1446.08 545.157,1416.78 545.949,1445.63 \n",
       "  546.74,1518.09 547.532,1546.05 548.324,1486.96 549.115,1469.27 549.907,1352.18 550.698,1489.22 551.49,1454.62 552.281,1442.62 553.073,1484.23 553.864,1395.83 \n",
       "  554.656,1401.28 555.447,1434.05 556.239,1450.34 557.03,1511.05 557.822,1514.36 558.613,1524.68 559.405,1507.7 560.196,1454.01 560.988,1431.65 561.78,1481.98 \n",
       "  562.571,1550.57 563.363,1445.31 564.154,1549.69 564.946,1489.1 565.737,1553.82 566.529,1515.13 567.32,1410.28 568.112,1563.88 568.903,1592.79 569.695,1406.96 \n",
       "  570.486,1414.77 571.278,1593.33 572.069,1606.51 572.861,1702.82 573.652,1557.72 574.444,1601.73 575.235,1580.58 576.027,1463.3 576.819,1407.52 577.61,1433.31 \n",
       "  578.402,1580.29 579.193,1358.27 579.985,1648.74 580.776,1538.82 581.568,1487.57 582.359,1573.46 583.151,1509.21 583.942,1515.11 584.734,1566.68 585.525,1588.24 \n",
       "  586.317,1354.61 587.108,1338.73 587.9,1319.36 588.691,1324.46 589.483,1404.44 590.275,1391.22 591.066,1362.07 591.858,1396.82 592.649,1312.34 593.441,1297.29 \n",
       "  594.232,1327.12 595.024,1380.62 595.815,1699.38 596.607,1699.82 597.398,1696.84 598.19,1696.84 598.981,1690.85 599.773,1720.35 600.564,1742.14 601.356,1325.22 \n",
       "  602.147,1440.09 602.939,1493.23 603.73,1498.21 604.522,1585 605.314,1329.13 606.105,1623.89 606.897,1340.92 607.688,1496.59 608.48,1417.81 609.271,1414.26 \n",
       "  610.063,1424.1 610.854,1419.99 611.646,1588.12 612.437,1547.85 613.229,1545.01 614.02,1469.82 614.812,1515.38 615.603,1673.36 616.395,1646.76 617.186,1336.85 \n",
       "  617.978,1504 618.77,1604.58 619.561,1502.75 620.353,1587.77 621.144,1503.98 621.936,1501.16 622.727,1566.92 623.519,1456.23 624.31,1433.71 625.102,1433.83 \n",
       "  625.893,1504.98 626.685,1555.64 627.476,1403.35 628.268,1441.36 629.059,1465.53 629.851,1444.53 630.642,1432.69 631.434,1449.76 632.225,1473.75 633.017,1479.03 \n",
       "  633.809,1504.84 634.6,1545.89 635.392,1473.6 636.183,1444.43 636.975,1397.16 637.766,1408.66 638.558,1417.42 639.349,1499.53 640.141,1499.53 640.932,1504.68 \n",
       "  641.724,1393 642.515,1385.92 643.307,1359.53 644.098,1400.99 644.89,1544.83 645.681,1433.92 646.473,1445.77 647.265,1459.51 648.056,1535.49 648.848,1350.51 \n",
       "  649.639,1355.72 650.431,1320.14 651.222,1434.8 652.014,1443.43 652.805,1438.81 653.597,1418.97 654.388,1458.52 655.18,1398.2 655.971,1473.09 656.763,1445.41 \n",
       "  657.554,1457.98 658.346,1476.42 659.137,1442.94 659.929,1410.28 660.72,1414.59 661.512,1515.22 662.304,1534.66 663.095,1357.49 663.887,1411.88 664.678,1494.52 \n",
       "  665.47,1460.34 666.261,1456.73 667.053,1440.71 667.844,1468.81 668.636,1606.71 669.427,1580.53 670.219,1602.9 671.01,1555.91 671.802,1569.58 672.593,1561.91 \n",
       "  673.385,1539.29 674.176,1563.1 674.968,1545.57 675.76,1542.29 676.551,1542.29 677.343,1585.86 678.134,1473.61 678.926,1494.38 679.717,1592.2 680.509,1567.81 \n",
       "  681.3,1542.39 682.092,1568.35 682.883,1578.02 683.675,1443.02 684.466,1471.85 685.258,1349.37 686.049,1379.42 686.841,1562.45 687.632,1577.98 688.424,1553.03 \n",
       "  689.215,1529.76 690.007,1449.5 690.799,1466.55 691.59,1415.33 692.382,1408.12 693.173,1407.89 693.965,1389.7 694.756,1337.02 695.548,1315.95 696.339,1568.39 \n",
       "  697.131,1342.24 697.922,1334.54 698.714,1306.39 699.505,1324.26 700.297,1382.37 701.088,1314.28 701.88,1421.45 702.671,1542.5 703.463,1511.87 704.255,1491.18 \n",
       "  705.046,1405.47 705.838,1410.13 706.629,1508.29 707.421,1436.49 708.212,1403.75 709.004,1349.26 709.795,1348.57 710.587,1348.66 711.378,1356.6 712.17,1393.08 \n",
       "  712.961,1626.59 713.753,1479.04 714.544,1335.52 715.336,1323.2 716.127,1302.69 716.919,1308.79 717.71,1546.95 718.502,1397.86 719.294,1525.15 720.085,1359.58 \n",
       "  720.877,1425.41 721.668,1465.34 722.46,1488.94 723.251,1488.94 724.043,1555.23 724.834,1525.66 725.626,1592.79 726.417,1485.06 727.209,1485.06 728,1486.99 \n",
       "  728.792,1362.68 729.583,1470.79 730.375,1425.32 731.166,1417.13 731.958,1512.32 732.75,1512.61 733.541,1523.39 734.333,1545.39 735.124,1576.81 735.916,1571.61 \n",
       "  736.707,1569.68 737.499,1434.18 738.29,1465.27 739.082,1480.22 739.873,1519.12 740.665,1418 741.456,1384.06 742.248,1448.92 743.039,1453.48 743.831,1562.28 \n",
       "  744.622,1494.98 745.414,1595.23 746.205,1587.68 746.997,1517.45 747.789,1541.48 748.58,1533.36 749.372,1548.48 750.163,1424.9 750.955,1542.04 751.746,1586.86 \n",
       "  752.538,1475.87 753.329,1435.89 754.121,1442.56 754.912,1512.94 755.704,1525.83 756.495,1505.14 757.287,1465.48 758.078,1490.18 758.87,1417.66 759.661,1558.64 \n",
       "  760.453,1573.7 761.245,1590.03 762.036,1568.48 762.828,1571.99 763.619,1540.27 764.411,1411.37 765.202,1404.83 765.994,1556.96 766.785,1473.4 767.577,1566.16 \n",
       "  768.368,1413.06 769.16,1501.75 769.951,1328.66 770.743,1355.59 771.534,1411.29 772.326,1408.92 773.117,1482.76 773.909,1483.98 774.7,1437.9 775.492,1394.26 \n",
       "  776.284,1447.67 777.075,1459.6 777.867,1506.98 778.658,1563.06 779.45,1476 780.241,1510.44 781.033,1332.97 781.824,1291.37 782.616,1314.53 783.407,1354.8 \n",
       "  784.199,1441.49 784.99,1444.28 785.782,1562.24 786.573,1659.88 787.365,1263.34 788.156,1375.79 788.948,1397.95 789.74,1468.95 790.531,1465.96 791.323,1408.25 \n",
       "  792.114,1411.3 792.906,1462.21 793.697,1460.36 794.489,1445.44 795.28,1536.25 796.072,1465.78 796.863,1436.6 797.655,1457.96 798.446,1479.35 799.238,1450.03 \n",
       "  800.029,1500.4 800.821,1494.18 801.612,1422.77 802.404,1528.5 803.195,1483.41 803.987,1504.81 804.779,1499.9 805.57,1504.23 806.362,1506.22 807.153,1413.61 \n",
       "  807.945,1310.53 808.736,1358.27 809.528,1470.64 810.319,1534.17 811.111,1640.72 811.902,1628.96 812.694,1554.95 813.485,1477.6 814.277,1472.58 815.068,1472.58 \n",
       "  815.86,1438.75 816.651,1464.45 817.443,1464.45 818.235,1472.88 819.026,1428.74 819.818,1458.52 820.609,1449.91 821.401,1624.72 822.192,1592.03 822.984,1364.44 \n",
       "  823.775,1458.34 824.567,1476.11 825.358,1472.06 826.15,1448.58 826.941,1455.64 827.733,1430.84 828.524,1485.46 829.316,1467.8 830.107,1527.2 830.899,1445.38 \n",
       "  831.69,1417.24 832.482,1454.28 833.274,1549.28 834.065,1416.01 834.857,1538.95 835.648,1535.83 836.44,1537.07 837.231,1490.51 838.023,1491.65 838.814,1530.65 \n",
       "  839.606,1529.29 840.397,1533.73 841.189,1531.55 841.98,1471.68 842.772,1538.96 843.563,1538.53 844.355,1489 845.146,1482.41 845.938,1575.51 846.73,1568.2 \n",
       "  847.521,1558.68 848.313,1545.24 849.104,1583.79 849.896,1455.58 850.687,1503.83 851.479,1495.21 852.27,1471.56 853.062,1487.97 853.853,1515.02 854.645,1528.54 \n",
       "  855.436,1451.48 856.228,1444.87 857.019,1464.36 857.811,1493.85 858.602,1362 859.394,1613.35 860.185,1546.45 860.977,1519.27 861.769,1474.41 862.56,1433.23 \n",
       "  863.352,1652.05 864.143,1546.91 864.935,1510.22 865.726,1565 866.518,1479.62 867.309,1479.62 868.101,1502.01 868.892,1479.23 869.684,1527.84 870.475,1481.3 \n",
       "  871.267,1495.91 872.058,1457.55 872.85,1454.93 873.641,1467.67 874.433,1501.21 875.225,1486.66 876.016,1536.94 876.808,1491.43 877.599,1418.77 878.391,1486.44 \n",
       "  879.182,1497.57 879.974,1508.68 880.765,1417.71 881.557,1521.54 882.348,1592.17 883.14,1438.6 883.931,1381.29 884.723,1430.25 885.514,1530.8 886.306,1407.75 \n",
       "  887.097,1410.67 887.889,1405.69 888.68,1542.15 889.472,1554.58 890.264,1578.7 891.055,1588.02 891.847,1566.15 892.638,1566.68 893.43,1431.44 894.221,1431.44 \n",
       "  895.013,1431.46 895.804,1430.32 896.596,1332.05 897.387,1362.5 898.179,1481.39 898.97,1515.26 899.762,1488.79 900.553,1445.57 901.345,1457.57 902.136,1424.91 \n",
       "  902.928,1481.81 903.72,1455.67 904.511,1609.57 905.303,1599.8 906.094,1553.6 906.886,1583.74 907.677,1583.86 908.469,1538.89 909.26,1500.38 910.052,1578.14 \n",
       "  910.843,1564.39 911.635,1514.34 912.426,1448.68 913.218,1397.57 914.009,1389.87 914.801,1558.2 915.592,1556.34 916.384,1456.78 917.175,1435.31 917.967,1431.67 \n",
       "  918.759,1474.83 919.55,1494.61 920.342,1514.67 921.133,1641.82 921.925,1455.21 922.716,1520.62 923.508,1419.79 924.299,1424.3 925.091,1353.94 925.882,1398.51 \n",
       "  926.674,1431.95 927.465,1443.72 928.257,1379.14 929.048,1476.16 929.84,1464.72 930.631,1499.99 931.423,1558.33 932.215,1559.96 933.006,1566.57 933.798,1561.6 \n",
       "  934.589,1566.33 935.381,1485.47 936.172,1550.16 936.964,1328.12 937.755,1420.63 938.547,1434.48 939.338,1388.13 940.13,1391.26 940.921,1454.46 941.713,1514.96 \n",
       "  942.504,1444.06 943.296,1463.54 944.087,1470.22 944.879,1548.73 945.67,1461.4 946.462,1439.86 947.254,1456.75 948.045,1444.24 948.837,1376.7 949.628,1424.47 \n",
       "  950.42,1380.52 951.211,1410.13 952.003,1521.73 952.794,1578.12 953.586,1421.44 954.377,1371.83 955.169,1512.64 955.96,1520.94 956.752,1572.95 957.543,1386.48 \n",
       "  958.335,1511.02 959.126,1617.22 959.918,1371.42 960.71,1405.78 961.501,1396.09 962.293,1521.06 963.084,1459.39 963.876,1461.13 964.667,1511.14 965.459,1437.2 \n",
       "  966.25,1434.39 967.042,1364.99 967.833,1454.21 968.625,1492.81 969.416,1327.56 970.208,1367.17 970.999,1546.87 971.791,1547.4 972.582,1525.46 973.374,1438.57 \n",
       "  974.165,1593.35 974.957,1620.03 975.749,1642.01 976.54,1652.33 977.332,1608.73 978.123,1369.82 978.915,1547.2 979.706,1437.28 980.498,1447.54 981.289,1466.24 \n",
       "  982.081,1392.69 982.872,1386.04 983.664,1552.32 984.455,1521.48 985.247,1515.79 986.038,1581.27 986.83,1579.21 987.621,1586.27 988.413,1482.86 989.204,1428.96 \n",
       "  989.996,1522 990.788,1622.14 991.579,1390.42 992.371,1529.05 993.162,1409.63 993.954,1475.91 994.745,1499.01 995.537,1462.71 996.328,1478.27 997.12,1478.27 \n",
       "  997.911,1515.28 998.703,1503.61 999.494,1526.12 1000.29,1512.26 1001.08,1487.33 1001.87,1477.05 1002.66,1578.09 1003.45,1531.08 1004.24,1495.69 1005.04,1452.95 \n",
       "  1005.83,1452.95 1006.62,1624.2 1007.41,1601.89 1008.2,1605.23 1008.99,1518.84 1009.78,1513.17 1010.58,1487.11 1011.37,1419.19 1012.16,1453.21 1012.95,1591.44 \n",
       "  1013.74,1590.59 1014.53,1628.83 1015.32,1510.43 1016.12,1408.92 1016.91,1398.05 1017.7,1384.62 1018.49,1331.1 1019.28,1349.66 1020.07,1324.75 1020.87,1413.18 \n",
       "  1021.66,1541.17 1022.45,1541.89 1023.24,1526.98 1024.03,1338.96 1024.82,1473.77 1025.61,1487.06 1026.41,1389.71 1027.2,1468.31 1027.99,1556.73 1028.78,1550.04 \n",
       "  1029.57,1474.32 1030.36,1476.59 1031.16,1499.92 1031.95,1612.21 1032.74,1615.84 1033.53,1596.27 1034.32,1576.24 1035.11,1362.4 1035.9,1333.74 1036.7,1336.48 \n",
       "  1037.49,1394.32 1038.28,1395.93 1039.07,1429.4 1039.86,1419.9 1040.65,1420.06 1041.45,1515.84 1042.24,1503.64 1043.03,1320.08 1043.82,1362.64 1044.61,1283.51 \n",
       "  1045.4,1306.03 1046.19,1280.02 1046.99,1432.23 1047.78,1436.12 1048.57,1580.77 1049.36,1332.09 1050.15,1403.87 1050.94,1351.45 1051.74,1376.31 1052.53,1390.64 \n",
       "  1053.32,1422.23 1054.11,1378.84 1054.9,1337.84 1055.69,1435.22 1056.48,1379.26 1057.28,1439.44 1058.07,1439.44 1058.86,1585.32 1059.65,1550.06 1060.44,1559.71 \n",
       "  1061.23,1433.88 1062.03,1561.6 1062.82,1514.66 1063.61,1447.53 1064.4,1459.12 1065.19,1466.11 1065.98,1486.97 1066.77,1358.03 1067.57,1543.32 1068.36,1594.79 \n",
       "  1069.15,1529.25 1069.94,1532.05 1070.73,1589.38 1071.52,1571.75 1072.31,1477.82 1073.11,1437.94 1073.9,1365.82 1074.69,1460.48 1075.48,1475.62 1076.27,1481.15 \n",
       "  1077.06,1474.4 1077.86,1627.38 1078.65,1723.47 1079.44,1459.21 1080.23,1548.89 1081.02,1389.69 1081.81,1396.98 1082.6,1438.82 1083.4,1431.52 1084.19,1593.91 \n",
       "  1084.98,1542.16 1085.77,1464.62 1086.56,1546.14 1087.35,1568.19 1088.15,1619.99 1088.94,1467.84 1089.73,1454.84 1090.52,1490.44 1091.31,1525.32 1092.1,1497.65 \n",
       "  1092.89,1431 1093.69,1330.93 1094.48,1353.81 1095.27,1535.57 1096.06,1447.86 1096.85,1436.54 1097.64,1444.9 1098.44,1459.57 1099.23,1489.97 1100.02,1357.67 \n",
       "  1100.81,1413.25 1101.6,1352.68 1102.39,1511.81 1103.18,1378.09 1103.98,1579.08 1104.77,1424.01 1105.56,1586.51 1106.35,1542.59 1107.14,1599.74 1107.93,1499.58 \n",
       "  1108.73,1485.55 1109.52,1508.12 1110.31,1547.69 1111.1,1507.11 1111.89,1427.14 1112.68,1432.01 1113.47,1433.42 1114.27,1453.5 1115.06,1470.32 1115.85,1417.93 \n",
       "  1116.64,1423.31 1117.43,1394.46 1118.22,1521.42 1119.02,1430.8 1119.81,1422.19 1120.6,1436.23 1121.39,1507.38 1122.18,1451.42 1122.97,1463.57 1123.76,1449.02 \n",
       "  1124.56,1513.17 1125.35,1434.72 1126.14,1457.51 1126.93,1485.53 1127.72,1486.57 1128.51,1509 1129.3,1548.8 1130.1,1508.56 1130.89,1538.51 1131.68,1592 \n",
       "  1132.47,1370.34 1133.26,1448.23 1134.05,1437.44 1134.85,1482.78 1135.64,1588.52 1136.43,1599.54 1137.22,1534.9 1138.01,1556.89 1138.8,1443.35 1139.59,1504.72 \n",
       "  1140.39,1338.83 1141.18,1516.08 1141.97,1498.49 1142.76,1392.35 1143.55,1402.68 1144.34,1381.93 1145.14,1461.48 1145.93,1423.38 1146.72,1395.8 1147.51,1381.69 \n",
       "  1148.3,1372.17 1149.09,1401.25 1149.88,1427.88 1150.68,1438.77 1151.47,1419.13 1152.26,1382.41 1153.05,1415.89 1153.84,1374.69 1154.63,1563.87 1155.43,1599.78 \n",
       "  1156.22,1452.56 1157.01,1450.76 1157.8,1402.9 1158.59,1543.07 1159.38,1695.06 1160.17,1692.17 1160.97,1606.6 1161.76,1638.45 1162.55,1444.85 1163.34,1452.68 \n",
       "  1164.13,1461.67 1164.92,1494.36 1165.72,1477.14 1166.51,1501.07 1167.3,1478.6 1168.09,1395.4 1168.88,1491.67 1169.67,1529.47 1170.46,1441.79 1171.26,1452.21 \n",
       "  1172.05,1447.15 1172.84,1493.25 1173.63,1586.94 1174.42,1437.17 1175.21,1424.04 1176.01,1391.55 1176.8,1423.65 1177.59,1493.09 1178.38,1568.92 1179.17,1496.34 \n",
       "  1179.96,1453.17 1180.75,1378.78 1181.55,1443.57 1182.34,1359.95 1183.13,1406.23 1183.92,1468.07 1184.71,1633.71 1185.5,1579.56 1186.29,1352.24 1187.09,1412.59 \n",
       "  1187.88,1412.14 1188.67,1434.59 1189.46,1313.51 1190.25,1409.67 1191.04,1420.12 1191.84,1404.01 1192.63,1375.83 1193.42,1432.16 1194.21,1293.09 1195,1286.15 \n",
       "  1195.79,1660.2 1196.58,1664.46 1197.38,1323.25 1198.17,1349.57 1198.96,1368.68 1199.75,1353.54 1200.54,1410.95 1201.33,1454.33 1202.13,1462.84 1202.92,1486.15 \n",
       "  1203.71,1515.9 1204.5,1550.24 1205.29,1624.96 1206.08,1599.91 1206.87,1291.71 1207.67,1407.13 1208.46,1447.21 1209.25,1417.43 1210.04,1378.51 1210.83,1558.73 \n",
       "  1211.62,1429.97 1212.42,1495.09 1213.21,1490.55 1214,1482.93 1214.79,1512.7 1215.58,1544.98 1216.37,1516.62 1217.16,1455.04 1217.96,1557.39 1218.75,1355.95 \n",
       "  1219.54,1634.57 1220.33,1405.8 1221.12,1464.14 1221.91,1452.42 1222.71,1449.88 1223.5,1518.85 1224.29,1534.46 1225.08,1367.82 1225.87,1488.72 1226.66,1464.85 \n",
       "  1227.45,1503.38 1228.25,1523.64 1229.04,1415.97 1229.83,1390.45 1230.62,1481.57 1231.41,1473.73 1232.2,1500.47 1233,1494.97 1233.79,1496.45 1234.58,1468.97 \n",
       "  1235.37,1557.05 1236.16,1414.09 1236.95,1415.36 1237.74,1434.33 1238.54,1440.15 1239.33,1419.94 1240.12,1458.01 1240.91,1481.68 1241.7,1449.91 1242.49,1515.89 \n",
       "  1243.28,1498.02 1244.08,1574.19 1244.87,1598.19 1245.66,1637.38 1246.45,1603.29 1247.24,1612.81 1248.03,1412.92 1248.83,1335.73 1249.62,1393.84 1250.41,1304.4 \n",
       "  1251.2,1393.03 1251.99,1292.42 1252.78,1295.55 1253.57,1297.41 1254.37,1301.29 1255.16,1319.75 1255.95,1485.09 1256.74,1551.89 1257.53,1603.79 1258.32,1591 \n",
       "  1259.12,1531.6 1259.91,1409.72 1260.7,1445.89 1261.49,1428.87 1262.28,1369.71 1263.07,1341.45 1263.86,1351.26 1264.66,1383.31 1265.45,1570.88 1266.24,1575.74 \n",
       "  1267.03,1645.55 1267.82,1342.28 1268.61,1391.08 1269.41,1399.32 1270.2,1358.25 1270.99,1404.22 1271.78,1492.4 1272.57,1521.73 1273.36,1544.68 1274.15,1548.66 \n",
       "  1274.95,1529.32 1275.74,1508.87 1276.53,1530.71 1277.32,1479 1278.11,1533.19 1278.9,1541 1279.7,1553.65 1280.49,1421.45 1281.28,1440.7 1282.07,1529.88 \n",
       "  1282.86,1544.52 1283.65,1520.95 1284.44,1466.15 1285.24,1323.14 1286.03,1473.81 1286.82,1557.21 1287.61,1537.73 1288.4,1362.11 1289.19,1365.01 1289.99,1562.69 \n",
       "  1290.78,1693.59 1291.57,1375.98 1292.36,1619.74 1293.15,1527.17 1293.94,1594.38 1294.73,1582.09 1295.53,1524.36 1296.32,1494.88 1297.11,1411.03 1297.9,1447.19 \n",
       "  1298.69,1430.86 1299.48,1350.74 1300.27,1388.71 1301.07,1478.13 1301.86,1419.38 1302.65,1552.46 1303.44,1507.63 1304.23,1442.51 1305.02,1526.55 1305.82,1531.98 \n",
       "  1306.61,1527.15 1307.4,1385.33 1308.19,1583.02 1308.98,1635.14 1309.77,1352.68 1310.56,1492.35 1311.36,1483.67 1312.15,1520.43 1312.94,1505.73 1313.73,1473.69 \n",
       "  1314.52,1491.31 1315.31,1530.24 1316.11,1545.35 1316.9,1540.19 1317.69,1576.78 1318.48,1563.89 1319.27,1491.84 1320.06,1435.78 1320.85,1371.22 1321.65,1585.93 \n",
       "  1322.44,1575.51 1323.23,1440.74 1324.02,1398.45 1324.81,1576.22 1325.6,1482.22 1326.4,1544.99 1327.19,1495.51 1327.98,1422.32 1328.77,1525.23 1329.56,1582.26 \n",
       "  1330.35,1494.68 1331.14,1523.9 1331.94,1571.94 1332.73,1490.75 1333.52,1460.4 1334.31,1484.96 1335.1,1539.29 1335.89,1416.48 1336.69,1381.63 1337.48,1583.67 \n",
       "  1338.27,1591.7 1339.06,1500.84 1339.85,1503.14 1340.64,1518.13 1341.43,1467.52 1342.23,1486.96 1343.02,1490.35 1343.81,1508.47 1344.6,1440.64 1345.39,1353.75 \n",
       "  1346.18,1353.75 1346.98,1421.54 1347.77,1529.38 1348.56,1449.83 1349.35,1505.04 1350.14,1382.97 1350.93,1377.68 1351.72,1406.92 1352.52,1425.79 1353.31,1414.26 \n",
       "  1354.1,1458.03 1354.89,1503.13 1355.68,1511.72 1356.47,1520.87 1357.26,1480.38 1358.06,1358.89 1358.85,1566.19 1359.64,1573.29 1360.43,1607.48 1361.22,1462.33 \n",
       "  1362.01,1487.33 1362.81,1533.31 1363.6,1528.53 1364.39,1557.81 1365.18,1554.93 1365.97,1372.31 1366.76,1488.04 1367.55,1428.25 1368.35,1509.18 1369.14,1435.68 \n",
       "  1369.93,1466.86 1370.72,1484.65 1371.51,1496.37 1372.3,1473.63 1373.1,1461.7 1373.89,1438.16 1374.68,1507.31 1375.47,1463.39 1376.26,1516.92 1377.05,1563.89 \n",
       "  1377.84,1490.02 1378.64,1587.91 1379.43,1505.9 1380.22,1442.09 1381.01,1479.75 1381.8,1449.95 1382.59,1489.17 1383.39,1477.58 1384.18,1497.12 1384.97,1422.75 \n",
       "  1385.76,1400 1386.55,1504.53 1387.34,1504.87 1388.13,1504.87 1388.93,1410.08 1389.72,1434.51 1390.51,1610.65 1391.3,1415.23 1392.09,1458.53 1392.88,1546.21 \n",
       "  1393.68,1450.69 1394.47,1632.32 1395.26,1660.18 1396.05,1687.29 1396.84,1552.78 1397.63,1556.48 1398.42,1654.11 1399.22,1667.62 1400.01,1408.33 1400.8,1422.26 \n",
       "  1401.59,1463.9 1402.38,1473.78 1403.17,1473.8 1403.97,1364.91 1404.76,1491.45 1405.55,1425.12 1406.34,1445.47 1407.13,1491.29 1407.92,1434.96 1408.71,1625.69 \n",
       "  1409.51,1498.82 1410.3,1446 1411.09,1440.07 1411.88,1444.52 1412.67,1383.84 1413.46,1515.05 1414.25,1465.72 1415.05,1582.66 1415.84,1322.25 1416.63,1603.75 \n",
       "  1417.42,1561.79 1418.21,1396.51 1419,1515.24 1419.8,1484.52 1420.59,1473.01 1421.38,1518.29 1422.17,1516.74 1422.96,1409.2 1423.75,1320.26 1424.54,1336.26 \n",
       "  1425.34,1447.21 1426.13,1351.04 1426.92,1342.82 1427.71,1384.36 1428.5,1308.97 1429.29,1677.62 1430.09,1608.09 1430.88,1524.44 1431.67,1505.15 1432.46,1547.8 \n",
       "  1433.25,1453.29 1434.04,1521.69 1434.83,1543.1 1435.63,1553.95 1436.42,1545.1 1437.21,1518.72 1438,1529.3 1438.79,1527.79 1439.58,1573.85 1440.38,1331.54 \n",
       "  1441.17,1308.42 1441.96,1359.92 1442.75,1444.51 1443.54,1571.5 1444.33,1565.2 1445.12,1600.24 1445.92,1615.92 1446.71,1593.37 1447.5,1582.24 1448.29,1355.51 \n",
       "  1449.08,1366.56 1449.87,1374.71 1450.67,1319.46 1451.46,1537.65 1452.25,1529.7 1453.04,1558.69 1453.83,1604.14 1454.62,1467.42 1455.41,1502.57 1456.21,1507.45 \n",
       "  1457,1383.46 1457.79,1459.94 1458.58,1509.48 1459.37,1589.97 1460.16,1638.46 1460.96,1419.1 1461.75,1606.73 1462.54,1623.19 1463.33,1300.79 1464.12,1283.85 \n",
       "  1464.91,1296.84 1465.7,1310.16 1466.5,1361.54 1467.29,1385.03 1468.08,1627.52 1468.87,1647.77 1469.66,1585.03 1470.45,1553.07 1471.24,1475.74 1472.04,1428.17 \n",
       "  1472.83,1461.54 1473.62,1599.9 1474.41,1560.26 1475.2,1562.96 1475.99,1612.61 1476.79,1469.11 1477.58,1607.29 1478.37,1607.29 1479.16,1564.33 1479.95,1440.91 \n",
       "  1480.74,1397.52 1481.53,1515.28 1482.33,1505.11 1483.12,1517.25 1483.91,1554.67 1484.7,1516.59 1485.49,1478.65 1486.28,1497.07 1487.08,1524.24 1487.87,1448.24 \n",
       "  1488.66,1440.25 1489.45,1437.03 1490.24,1501.39 1491.03,1524.62 1491.82,1480.72 1492.62,1539.4 1493.41,1502.93 1494.2,1476.31 1494.99,1606.05 1495.78,1346.49 \n",
       "  1496.57,1412.78 1497.37,1418.68 1498.16,1406.5 1498.95,1430.07 1499.74,1454.65 1500.53,1414.01 1501.32,1436.08 1502.11,1561.5 1502.91,1556.19 1503.7,1556.19 \n",
       "  1504.49,1528.35 1505.28,1535.52 1506.07,1499.88 1506.86,1473.76 1507.66,1447.59 1508.45,1364.38 1509.24,1392.04 1510.03,1443.6 1510.82,1435.74 1511.61,1544.89 \n",
       "  1512.4,1395.82 1513.2,1454.79 1513.99,1408.72 1514.78,1474.13 1515.57,1503.13 1516.36,1535.34 1517.15,1549.84 1517.95,1449.82 1518.74,1446.23 1519.53,1499.75 \n",
       "  1520.32,1496.99 1521.11,1523.72 1521.9,1544.83 1522.69,1583.09 1523.49,1654.34 1524.28,1651.34 1525.07,1599.44 1525.86,1631.93 1526.65,1582.52 1527.44,1580.01 \n",
       "  1528.23,1584.91 1529.03,1533.1 1529.82,1520.79 1530.61,1447.82 1531.4,1442.53 1532.19,1481.58 1532.98,1607.16 1533.78,1314.96 1534.57,1440.01 1535.36,1418.11 \n",
       "  1536.15,1619.55 1536.94,1549.51 1537.73,1444.85 1538.52,1464.53 1539.32,1454.93 1540.11,1429.55 1540.9,1368.02 1541.69,1460.2 1542.48,1435.15 1543.27,1427.78 \n",
       "  1544.07,1553.29 1544.86,1464.59 1545.65,1367.58 1546.44,1383.11 1547.23,1371.43 1548.02,1371.43 1548.81,1422.09 1549.61,1456.78 1550.4,1489.48 1551.19,1459.95 \n",
       "  1551.98,1417.02 1552.77,1553.06 1553.56,1446.66 1554.36,1436.52 1555.15,1473.44 1555.94,1464.6 1556.73,1420.91 1557.52,1460.91 1558.31,1456.22 1559.1,1621.82 \n",
       "  1559.9,1446.36 1560.69,1465.56 1561.48,1435.47 1562.27,1457.74 1563.06,1453.58 1563.85,1469.47 1564.65,1475.88 1565.44,1619.57 1566.23,1610.34 1567.02,1657.38 \n",
       "  1567.81,1518.54 1568.6,1578.16 1569.39,1562.47 1570.19,1446.85 1570.98,1484.48 1571.77,1475.08 1572.56,1475.08 1573.35,1322.58 1574.14,1574.59 1574.94,1466.7 \n",
       "  1575.73,1438.15 1576.52,1414.88 1577.31,1435.51 1578.1,1592.73 1578.89,1588.66 1579.68,1484.6 1580.48,1508.94 1581.27,1532.48 1582.06,1396.69 1582.85,1578.76 \n",
       "  1583.64,1359.5 1584.43,1465.41 1585.22,1503.63 1586.02,1537.56 1586.81,1606.97 1587.6,1602.1 1588.39,1530.69 1589.18,1574.04 1589.97,1457.33 1590.77,1534.83 \n",
       "  1591.56,1539.65 1592.35,1387.7 1593.14,1427.78 1593.93,1412.08 1594.72,1452.96 1595.51,1530.48 1596.31,1385.38 1597.1,1372.5 1597.89,1587.6 1598.68,1553.24 \n",
       "  1599.47,1539.43 1600.26,1570.21 1601.06,1474.62 1601.85,1427.47 1602.64,1288.45 1603.43,1338.55 1604.22,1306.94 1605.01,1470.89 1605.8,1483.62 1606.6,1483.62 \n",
       "  1607.39,1450.46 1608.18,1400.31 1608.97,1418.04 1609.76,1466.75 1610.55,1529.58 1611.35,1537.43 1612.14,1501.67 1612.93,1496.48 1613.72,1496.14 1614.51,1428.36 \n",
       "  1615.3,1538.38 1616.09,1500.96 1616.89,1536.49 1617.68,1456.14 1618.47,1617.01 1619.26,1577.11 1620.05,1428.18 1620.84,1413.74 1621.64,1453.61 1622.43,1483.6 \n",
       "  1623.22,1517.56 1624.01,1504.75 1624.8,1611.99 1625.59,1646.5 1626.38,1317.46 1627.18,1312.64 1627.97,1369.04 1628.76,1447.24 1629.55,1295.71 1630.34,1426.17 \n",
       "  1631.13,1502.2 1631.93,1558.13 1632.72,1608.14 1633.51,1421.04 1634.3,1642.91 1635.09,1639.83 1635.88,1625.16 1636.67,1612.27 1637.47,1636.34 1638.26,1617.55 \n",
       "  1639.05,1594.94 1639.84,1628.79 1640.63,1637.06 1641.42,1681.69 1642.21,1646.22 1643.01,1482.76 1643.8,1434.39 1644.59,1456.23 1645.38,1499.86 1646.17,1388.82 \n",
       "  1646.96,1444.53 1647.76,1427.39 1648.55,1428.29 1649.34,1440.17 1650.13,1497.74 1650.92,1394.33 1651.71,1399.24 1652.5,1626.21 1653.3,1564.72 1654.09,1490.87 \n",
       "  1654.88,1490.87 1655.67,1486.26 1656.46,1493.86 1657.25,1535.09 1658.05,1494.71 1658.84,1436.93 1659.63,1482.75 1660.42,1445.75 1661.21,1418.26 1662,1438.55 \n",
       "  1662.79,1455.96 1663.59,1512.77 1664.38,1497.99 1665.17,1478.23 1665.96,1508.96 1666.75,1573.28 1667.54,1468.25 1668.34,1434.18 1669.13,1525.99 1669.92,1492.13 \n",
       "  1670.71,1457.88 1671.5,1423.06 1672.29,1503.36 1673.08,1511.76 1673.88,1446.06 1674.67,1439.88 1675.46,1434.49 1676.25,1463.49 1677.04,1573.96 1677.83,1503.04 \n",
       "  1678.63,1459.29 1679.42,1550.55 1680.21,1533.74 1681,1416.3 1681.79,1411.17 1682.58,1415.26 1683.37,1455.43 1684.17,1485.49 1684.96,1353.82 1685.75,1454.04 \n",
       "  1686.54,1471.61 1687.33,1449.78 1688.12,1389.73 1688.92,1508.9 1689.71,1481.3 1690.5,1496.7 1691.29,1519.45 1692.08,1492.29 1692.87,1529.77 1693.66,1505.68 \n",
       "  1694.46,1564.88 1695.25,1545.77 1696.04,1450.66 1696.83,1447.05 1697.62,1491.09 1698.41,1544.61 1699.2,1510.69 1700,1610.27 1700.79,1599.36 1701.58,1650.48 \n",
       "  1702.37,1622.18 1703.16,1643.85 1703.95,1345.63 1704.75,1421.37 1705.54,1359.66 1706.33,1381.96 1707.12,1361.26 1707.91,1454.78 1708.7,1464.79 1709.49,1538.14 \n",
       "  1710.29,1412.24 1711.08,1491.08 1711.87,1491.45 1712.66,1492.64 1713.45,1450.2 1714.24,1459.81 1715.04,1359.05 1715.83,1429.44 1716.62,1420.73 1717.41,1553.67 \n",
       "  1718.2,1639.66 1718.99,1601.61 1719.78,1526.33 1720.58,1510.37 1721.37,1431.99 1722.16,1397.67 1722.95,1280.19 1723.74,1328.26 1724.53,1339.94 1725.33,1343.37 \n",
       "  1726.12,1398.81 1726.91,1415.33 1727.7,1566.4 1728.49,1525.55 1729.28,1507.6 1730.07,1379.13 1730.87,1416.61 1731.66,1558.51 1732.45,1558.97 1733.24,1568.83 \n",
       "  1734.03,1503.11 1734.82,1490.76 1735.62,1538.09 1736.41,1388.31 1737.2,1472.89 1737.99,1513.37 1738.78,1536.86 1739.57,1524.34 1740.36,1541.49 1741.16,1456.97 \n",
       "  1741.95,1486.65 1742.74,1506.89 1743.53,1448.52 1744.32,1392.86 1745.11,1505.78 1745.91,1562.16 1746.7,1464.88 1747.49,1448.64 1748.28,1533.8 1749.07,1467.98 \n",
       "  1749.86,1423.4 1750.65,1487.04 1751.45,1504.66 1752.24,1514.85 1753.03,1441.1 1753.82,1517.04 1754.61,1528.91 1755.4,1529.94 1756.19,1513.37 1756.99,1613.07 \n",
       "  1757.78,1509.59 1758.57,1671.41 1759.36,1682.31 1760.15,1338.18 1760.94,1425.1 1761.74,1431.6 1762.53,1443.53 1763.32,1426.35 1764.11,1456.88 1764.9,1444.58 \n",
       "  1765.69,1446.23 1766.48,1425.59 1767.28,1509.79 1768.07,1523.51 1768.86,1524.12 1769.65,1579.26 1770.44,1606.68 1771.23,1480.98 1772.03,1590.66 1772.82,1457.66 \n",
       "  1773.61,1448.98 1774.4,1446.04 1775.19,1483.16 1775.98,1537.56 1776.77,1524 1777.57,1581.27 1778.36,1570.97 1779.15,1580.43 1779.94,1396.19 1780.73,1372.5 \n",
       "  1781.52,1408.76 1782.32,1423.09 1783.11,1494.44 1783.9,1496.71 1784.69,1427.51 1785.48,1478.38 1786.27,1498.44 1787.06,1531.36 1787.86,1526.92 1788.65,1554.25 \n",
       "  1789.44,1576.04 1790.23,1535.39 1791.02,1513.99 1791.81,1444.29 1792.61,1457.1 1793.4,1495.56 1794.19,1508.15 1794.98,1551.8 1795.77,1557.97 1796.56,1554.88 \n",
       "  1797.35,1600.11 1798.15,1560.13 1798.94,1452.33 1799.73,1441.26 1800.52,1432.73 1801.31,1502.53 1802.1,1371.9 1802.9,1376.59 1803.69,1381.78 1804.48,1371.4 \n",
       "  1805.27,1406.34 1806.06,1421.45 1806.85,1499.32 1807.64,1528.15 1808.44,1479.62 1809.23,1565.64 1810.02,1573.74 1810.81,1486.93 1811.6,1548.28 1812.39,1467.74 \n",
       "  1813.18,1503.96 1813.98,1444.04 1814.77,1444.18 1815.56,1398.95 1816.35,1426.65 1817.14,1419.37 1817.93,1519.77 1818.73,1531.25 1819.52,1475.97 1820.31,1513.24 \n",
       "  1821.1,1489.23 1821.89,1484.79 1822.68,1481.55 1823.47,1457.17 1824.27,1479.09 1825.06,1493.4 1825.85,1509.77 1826.64,1565.69 1827.43,1449.12 1828.22,1499.99 \n",
       "  1829.02,1595.3 1829.81,1460.99 1830.6,1456.39 1831.39,1516.52 1832.18,1466.22 1832.97,1470.66 1833.76,1542.91 1834.56,1565.19 1835.35,1438.88 1836.14,1360.45 \n",
       "  1836.93,1349.32 1837.72,1476.64 1838.51,1575.95 1839.31,1576.15 1840.1,1566.38 1840.89,1386.82 1841.68,1491.74 1842.47,1552.85 1843.26,1511.95 1844.05,1491.74 \n",
       "  1844.85,1493.35 1845.64,1506.59 1846.43,1407.6 1847.22,1345.35 1848.01,1390.01 1848.8,1590.48 1849.6,1644.75 1850.39,1463.04 1851.18,1422.99 1851.97,1466.69 \n",
       "  1852.76,1495.66 1853.55,1409.61 1854.34,1480.46 1855.14,1531.03 1855.93,1531.27 1856.72,1564.96 1857.51,1432.42 1858.3,1450.35 1859.09,1462.37 1859.89,1481.49 \n",
       "  1860.68,1506.36 1861.47,1446.49 1862.26,1484.15 1863.05,1464.04 1863.84,1503.64 1864.63,1502.48 1865.43,1438 1866.22,1467.63 1867.01,1385.32 1867.8,1247.9 \n",
       "  1868.59,1257.98 1869.38,1295.77 1870.17,1423.35 1870.97,1488.18 1871.76,1339.46 1872.55,1362.4 1873.34,1546.28 1874.13,1407.98 1874.92,1403.45 1875.72,1428.28 \n",
       "  1876.51,1394.13 1877.3,1394.13 1878.09,1515.3 1878.88,1491.09 1879.67,1453.65 1880.46,1503.27 1881.26,1551.03 1882.05,1519.41 1882.84,1501.95 1883.63,1552.77 \n",
       "  1884.42,1533.79 1885.21,1554.43 1886.01,1510.33 1886.8,1562.38 1887.59,1546.14 1888.38,1385.09 1889.17,1370.35 1889.96,1256.74 1890.75,1657.06 1891.55,1670.47 \n",
       "  1892.34,1648.4 1893.13,1570.45 1893.92,1528.22 1894.71,1463.08 1895.5,1569.35 1896.3,1574.7 1897.09,1565.18 1897.88,1426.51 1898.67,1470.94 1899.46,1455.76 \n",
       "  1900.25,1462.49 1901.04,1531.32 1901.84,1666.11 1902.63,1606.06 1903.42,1443.39 1904.21,1443.86 1905,1391.5 1905.79,1465.11 1906.59,1380.25 1907.38,1533.38 \n",
       "  1908.17,1445.82 1908.96,1523.95 1909.75,1460.9 1910.54,1460.9 1911.33,1537.05 1912.13,1554.04 1912.92,1520.45 1913.71,1493.59 1914.5,1476.28 1915.29,1545.88 \n",
       "  1916.08,1449.49 1916.88,1569.74 1917.67,1569.59 1918.46,1535.36 1919.25,1534.77 1920.04,1441.5 1920.83,1565.56 1921.62,1492.66 1922.42,1402.96 1923.21,1492.31 \n",
       "  1924,1430.08 1924.79,1456.93 1925.58,1472.15 1926.37,1476.19 1927.16,1446.12 1927.96,1501.43 1928.75,1417.71 1929.54,1423.79 1930.33,1445.63 1931.12,1493.63 \n",
       "  1931.91,1594.98 1932.71,1649.75 1933.5,1388.7 1934.29,1378.44 1935.08,1417.21 1935.87,1491.29 1936.66,1491.45 1937.45,1444.64 1938.25,1460.56 1939.04,1371.36 \n",
       "  \n",
       "  \"/>\n",
       "<polyline clip-path=\"url(#clip044)\" style=\"stroke:#c271d2; stroke-linecap:butt; stroke-linejoin:round; stroke-width:4; stroke-opacity:1; fill:none\" points=\"\n",
       "  356.774,1482.26 357.565,1482.26 358.357,1518.74 359.148,1468.39 359.94,1293.56 360.731,1479.25 361.523,1460.57 362.315,1421.88 363.106,1530.68 363.898,1525.57 \n",
       "  364.689,1513.4 365.481,1543.74 366.272,1520.35 367.064,1500.9 367.855,1528.05 368.647,1534.73 369.438,1412.02 370.23,1511.58 371.021,1479.72 371.813,1503.62 \n",
       "  372.604,1488.34 373.396,1328.75 374.187,1383.08 374.979,1655.21 375.77,1587.79 376.562,1586.5 377.354,1583.29 378.145,1468.22 378.937,1522.32 379.728,1508.25 \n",
       "  380.52,1595.11 381.311,1512.4 382.103,1433.39 382.894,1538.39 383.686,1414.04 384.477,1524.12 385.269,1425.71 386.06,1446.89 386.852,1438.98 387.643,1428.73 \n",
       "  388.435,1402.71 389.226,1408.03 390.018,1543.71 390.81,1528.37 391.601,1520.71 392.393,1547.77 393.184,1389.49 393.976,1530.6 394.767,1570.57 395.559,1445.9 \n",
       "  396.35,1445.9 397.142,1553.85 397.933,1568.49 398.725,1553.44 399.516,1486.24 400.308,1411.61 401.099,1502.52 401.891,1583.48 402.682,1426.28 403.474,1539.84 \n",
       "  404.265,1480.37 405.057,1457.52 405.849,1434.54 406.64,1452.76 407.432,1443.45 408.223,1457.09 409.015,1195.92 409.806,1241.51 410.598,1217.58 411.389,1221.59 \n",
       "  412.181,1340.72 412.972,1430.05 413.764,1577.25 414.555,1564.51 415.347,1624.57 416.138,1621.04 416.93,1562.84 417.721,1485.72 418.513,1366.62 419.305,1479.1 \n",
       "  420.096,1535.65 420.888,1449.83 421.679,1445.45 422.471,1523.31 423.262,1517.9 424.054,1424.7 424.845,1471.07 425.637,1447.68 426.428,1440.37 427.22,1425.04 \n",
       "  428.011,1465.19 428.803,1480.96 429.594,1443.17 430.386,1434.45 431.177,1450.78 431.969,1503.64 432.76,1414.37 433.552,1544.47 434.344,1473.05 435.135,1479.21 \n",
       "  435.927,1419.27 436.718,1428.29 437.51,1430.98 438.301,1556 439.093,1582.26 439.884,1614.44 440.676,1614.44 441.467,1544.06 442.259,1562.78 443.05,1492.92 \n",
       "  443.842,1455.2 444.633,1428.17 445.425,1497.73 446.216,1420.18 447.008,1530.28 447.8,1563.82 448.591,1421.77 449.383,1421.54 450.174,1540.76 450.966,1416.11 \n",
       "  451.757,1404.99 452.549,1399.03 453.34,1470.1 454.132,1484.53 454.923,1392.19 455.715,1386.9 456.506,1497.85 457.298,1483.02 458.089,1471.91 458.881,1404.18 \n",
       "  459.672,1408.56 460.464,1412.43 461.255,1333.61 462.047,1420.88 462.839,1427.57 463.63,1301.73 464.422,1426.07 465.213,1569.2 466.005,1572.17 466.796,1546.47 \n",
       "  467.588,1448.91 468.379,1515.33 469.171,1531.83 469.962,1456.5 470.754,1466.37 471.545,1447.57 472.337,1522.13 473.128,1434.87 473.92,1412.34 474.711,1424.96 \n",
       "  475.503,1419.66 476.295,1555.36 477.086,1446.25 477.878,1445.87 478.669,1490.06 479.461,1469.23 480.252,1545.3 481.044,1476.02 481.835,1504.39 482.627,1449.97 \n",
       "  483.418,1426.56 484.21,1448.91 485.001,1402.32 485.793,1439.09 486.584,1411.62 487.376,1411.62 488.167,1396.47 488.959,1484.5 489.75,1527.35 490.542,1534.15 \n",
       "  491.334,1474.19 492.125,1464.61 492.917,1550.93 493.708,1567.21 494.5,1477.59 495.291,1450.07 496.083,1517.86 496.874,1337.64 497.666,1342.54 498.457,1341.22 \n",
       "  499.249,1429.61 500.04,1433.5 500.832,1440.3 501.623,1446.96 502.415,1550.04 503.206,1538.56 503.998,1453.52 504.79,1565.12 505.581,1511.22 506.373,1438 \n",
       "  507.164,1438 507.956,1525.3 508.747,1305.58 509.539,1545.24 510.33,1585.28 511.122,1572.33 511.913,1477.61 512.705,1491.77 513.496,1519.94 514.288,1548.22 \n",
       "  515.079,1499.12 515.871,1560.8 516.662,1520.19 517.454,1581.88 518.245,1480.19 519.037,1498.19 519.829,1385.11 520.62,1349.69 521.412,1363.82 522.203,1494.33 \n",
       "  522.995,1640.47 523.786,1657.71 524.578,1626.05 525.369,1628.05 526.161,1655.51 526.952,1522.06 527.744,1509 528.535,1556.92 529.327,1457.02 530.118,1541.42 \n",
       "  530.91,1567.53 531.701,1482.68 532.493,1405.96 533.285,1547.92 534.076,1513.54 534.868,1561.01 535.659,1574.69 536.451,1577.17 537.242,1589.66 538.034,1554.68 \n",
       "  538.825,1534.4 539.617,1589.93 540.408,1490.6 541.2,1538.91 541.991,1433.37 542.783,1452 543.574,1409.6 544.366,1512.2 545.157,1514.04 545.949,1490.02 \n",
       "  546.74,1582.84 547.532,1581.13 548.324,1547.69 549.115,1540.86 549.907,1476.65 550.698,1440.3 551.49,1451.74 552.281,1554.58 553.073,1436.01 553.864,1531.92 \n",
       "  554.656,1514.64 555.447,1517.02 556.239,1535.85 557.03,1567.4 557.822,1640.89 558.613,1602.7 559.405,1570.55 560.196,1583.57 560.988,1357.8 561.78,1361.92 \n",
       "  562.571,1599.81 563.363,1638.44 564.154,1543.38 564.946,1604.3 565.737,1676.32 566.529,1687.66 567.32,1588.82 568.112,1588.82 568.903,1620.91 569.695,1616.66 \n",
       "  570.486,1644.95 571.278,1528.54 572.069,1329.75 572.861,1711.19 573.652,1695.77 574.444,1372.05 575.235,1322.17 576.027,1678.36 576.819,1548.13 577.61,1550.34 \n",
       "  578.402,1560.66 579.193,1554.99 579.985,1487.29 580.776,1498.21 581.568,1499.36 582.359,1483.82 583.151,1478.22 583.942,1575.91 584.734,1563.1 585.525,1389.29 \n",
       "  586.317,1547.76 587.108,1484.97 587.9,1492.08 588.691,1413.76 589.483,1399.67 590.275,1383.03 591.066,1483.59 591.858,1499.06 592.649,1346.54 593.441,1342.47 \n",
       "  594.232,1588.42 595.024,1671.68 595.815,1623.34 596.607,1603.44 597.398,1519.23 598.19,1593.1 598.981,1594.55 599.773,1538.91 600.564,1470.62 601.356,1465.01 \n",
       "  602.147,1433.42 602.939,1388.1 603.73,1406.18 604.522,1581.57 605.314,1482.15 606.105,1524.96 606.897,1457.06 607.688,1429.64 608.48,1432.3 609.271,1419.69 \n",
       "  610.063,1523.47 610.854,1401.4 611.646,1344.25 612.437,1398.54 613.229,1389.08 614.02,1403.55 614.812,1426.65 615.603,1518.75 616.395,1443.28 617.186,1392.93 \n",
       "  617.978,1342.22 618.77,1352.41 619.561,1358.26 620.353,1519.24 621.144,1495.04 621.936,1466.15 622.727,1461.72 623.519,1466.84 624.31,1522.07 625.102,1530.87 \n",
       "  625.893,1604.06 626.685,1624.55 627.476,1496.46 628.268,1561.1 629.059,1490.17 629.851,1490.17 630.642,1490.17 631.434,1532.21 632.225,1497.21 633.017,1384.44 \n",
       "  633.809,1522.62 634.6,1551.33 635.392,1554.8 636.183,1506.89 636.975,1499.51 637.766,1478.4 638.558,1469.02 639.349,1439.51 640.141,1462.65 640.932,1460.94 \n",
       "  641.724,1500.34 642.515,1487 643.307,1539.47 644.098,1490.63 644.89,1378.53 645.681,1383.9 646.473,1389.98 647.265,1427.16 648.056,1332.53 648.848,1355.84 \n",
       "  649.639,1388.65 650.431,1549.78 651.222,1563.01 652.014,1560.18 652.805,1479.4 653.597,1436.39 654.388,1460.48 655.18,1524.57 655.971,1499.3 656.763,1501.55 \n",
       "  657.554,1489.78 658.346,1539.23 659.137,1569.38 659.929,1540.27 660.72,1458.13 661.512,1487.83 662.304,1489.59 663.095,1488.54 663.887,1434.73 664.678,1352.68 \n",
       "  665.47,1419.99 666.261,1585.09 667.053,1382.54 667.844,1442.67 668.636,1478.4 669.427,1542.73 670.219,1522.76 671.01,1526.44 671.802,1504.1 672.593,1572.2 \n",
       "  673.385,1458.13 674.176,1502.6 674.968,1534.45 675.76,1516.5 676.551,1582.31 677.343,1326.94 678.134,1493.05 678.926,1358.73 679.717,1406.93 680.509,1310.54 \n",
       "  681.3,1704.99 682.092,1658.53 682.883,1627.73 683.675,1580.58 684.466,1391.44 685.258,1380.13 686.049,1357.4 686.841,1432.03 687.632,1431.91 688.424,1466.81 \n",
       "  689.215,1596.16 690.007,1562.82 690.799,1562.65 691.59,1651.13 692.382,1652.36 693.173,1532.1 693.965,1378.38 694.756,1554.42 695.548,1595.38 696.339,1581.83 \n",
       "  697.131,1564.75 697.922,1535.59 698.714,1522.05 699.505,1513.89 700.297,1538.64 701.088,1451.63 701.88,1590.43 702.671,1540.39 703.463,1581.55 704.255,1557.87 \n",
       "  705.046,1504.17 705.838,1497.26 706.629,1587.14 707.421,1573.81 708.212,1520.12 709.004,1489.89 709.795,1490.92 710.587,1477.39 711.378,1579.03 712.17,1573.02 \n",
       "  712.961,1599.09 713.753,1630.17 714.544,1582.38 715.336,1500.61 716.127,1636.21 716.919,1641.52 717.71,1640.89 718.502,1579.64 719.294,1336.06 720.085,1302.39 \n",
       "  720.877,1305.3 721.668,1392.84 722.46,1475.13 723.251,1462.17 724.043,1515.39 724.834,1526.76 725.626,1504.6 726.417,1561.48 727.209,1511.96 728,1529.41 \n",
       "  728.792,1508.09 729.583,1462.48 730.375,1489.86 731.166,1528.19 731.958,1508.77 732.75,1459.89 733.541,1480.16 734.333,1380.32 735.124,1378.13 735.916,1436.92 \n",
       "  736.707,1518.39 737.499,1442.18 738.29,1525.87 739.082,1406.42 739.873,1410.33 740.665,1495.39 741.456,1505.69 742.248,1467.03 743.039,1285.47 743.831,1264.04 \n",
       "  744.622,1436.74 745.414,1412.47 746.205,1407.3 746.997,1385.05 747.789,1662.11 748.58,1585.34 749.372,1634.75 750.163,1605.13 750.955,1458.79 751.746,1468.5 \n",
       "  752.538,1552.92 753.329,1326.34 754.121,1358.85 754.912,1340.72 755.704,1354.85 756.495,1411.85 757.287,1524.85 758.078,1476.39 758.87,1443.31 759.661,1461.48 \n",
       "  760.453,1370.12 761.245,1399.23 762.036,1442.07 762.828,1391.54 763.619,1431.75 764.411,1515.01 765.202,1479.27 765.994,1503.65 766.785,1554.32 767.577,1609.3 \n",
       "  768.368,1604.94 769.16,1505.14 769.951,1276.11 770.743,1358.79 771.534,1285.46 772.326,1278.84 773.117,1335.71 773.909,1479.91 774.7,1508.04 775.492,1521 \n",
       "  776.284,1326.32 777.075,1371.25 777.867,1359.83 778.658,1382.45 779.45,1382.54 780.241,1416.34 781.033,1370.16 781.824,1346.86 782.616,1343.09 783.407,1295.87 \n",
       "  784.199,1311.03 784.99,1343.53 785.782,1344.06 786.573,1300.69 787.365,1286.78 788.156,1342.14 788.948,1376.17 789.74,1345.42 790.531,1513.07 791.323,1547.67 \n",
       "  792.114,1566.28 792.906,1558.24 793.697,1563.3 794.489,1536.34 795.28,1396.54 796.072,1392.13 796.863,1363.57 797.655,1498.78 798.446,1535.4 799.238,1516.1 \n",
       "  800.029,1612.44 800.821,1481.77 801.612,1388.36 802.404,1438.18 803.195,1543.91 803.987,1571.43 804.779,1518.17 805.57,1495.77 806.362,1566.71 807.153,1568.2 \n",
       "  807.945,1565.77 808.736,1476.9 809.528,1453.74 810.319,1500.95 811.111,1478.23 811.902,1514.16 812.694,1462.51 813.485,1547.19 814.277,1670.33 815.068,1635.16 \n",
       "  815.86,1588.9 816.651,1449.8 817.443,1458.58 818.235,1299.38 819.026,1324.13 819.818,1291.12 820.609,1488.75 821.401,1458.17 822.192,1465.06 822.984,1476.56 \n",
       "  823.775,1412.99 824.567,1415.5 825.358,1456.32 826.15,1518.41 826.941,1386.76 827.733,1553.88 828.524,1552.82 829.316,1606.17 830.107,1604.82 830.899,1603.37 \n",
       "  831.69,1513.92 832.482,1502.96 833.274,1564.68 834.065,1519.97 834.857,1505.98 835.648,1575.61 836.44,1641.54 837.231,1628.13 838.023,1535.41 838.814,1365.6 \n",
       "  839.606,1269.1 840.397,1372.62 841.189,1359.17 841.98,1359.02 842.772,1433.15 843.563,1373.5 844.355,1319.57 845.146,1282.86 845.938,1311.33 846.73,1299.44 \n",
       "  847.521,1675.31 848.313,1731.66 849.104,1756.1 849.896,1716.05 850.687,1620.01 851.479,1599.75 852.27,1412.4 853.062,1432.08 853.853,1579.04 854.645,1526.34 \n",
       "  855.436,1553.21 856.228,1480.99 857.019,1548.75 857.811,1553.9 858.602,1483.56 859.394,1376.55 860.185,1422.12 860.977,1471.89 861.769,1464.26 862.56,1457.81 \n",
       "  863.352,1415.33 864.143,1352.16 864.935,1329.21 865.726,1513.79 866.518,1511.88 867.309,1511.22 868.101,1587.73 868.892,1562.95 869.684,1554.88 870.475,1588.62 \n",
       "  871.267,1575.99 872.058,1565.55 872.85,1475.49 873.641,1456.17 874.433,1472.21 875.225,1610.34 876.016,1580.73 876.808,1459.98 877.599,1452.59 878.391,1432.24 \n",
       "  879.182,1432.25 879.974,1414.05 880.765,1490.59 881.557,1478.07 882.348,1488.51 883.14,1484.25 883.931,1509.26 884.723,1560.6 885.514,1516.59 886.306,1552.84 \n",
       "  887.097,1544.47 887.889,1598.89 888.68,1515.54 889.472,1542.12 890.264,1434.58 891.055,1467.7 891.847,1462.54 892.638,1473.33 893.43,1484.61 894.221,1463.86 \n",
       "  895.013,1415.45 895.804,1431.69 896.596,1429.76 897.387,1423.08 898.179,1423.66 898.97,1528.67 899.762,1422.49 900.553,1458.21 901.345,1398.6 902.136,1338.96 \n",
       "  902.928,1352.99 903.72,1541.54 904.511,1459.75 905.303,1299.1 906.094,1375.84 906.886,1375.84 907.677,1456.03 908.469,1482.4 909.26,1414.07 910.052,1393.01 \n",
       "  910.843,1419.5 911.635,1393.37 912.426,1348.56 913.218,1505.48 914.009,1506.54 914.801,1476.56 915.592,1426.38 916.384,1504.4 917.175,1507.41 917.967,1503.9 \n",
       "  918.759,1386.68 919.55,1532.55 920.342,1675.86 921.133,1554.31 921.925,1458.15 922.716,1460.78 923.508,1466.57 924.299,1580.53 925.091,1537.89 925.882,1534.64 \n",
       "  926.674,1515.57 927.465,1594.57 928.257,1569.87 929.048,1394.11 929.84,1375.23 930.631,1358.35 931.423,1405.38 932.215,1403.06 933.006,1432.77 933.798,1362.58 \n",
       "  934.589,1402.95 935.381,1377.94 936.172,1573.42 936.964,1597.65 937.755,1602.79 938.547,1623.09 939.338,1560.11 940.13,1496.62 940.921,1407.53 941.713,1417.46 \n",
       "  942.504,1410.45 943.296,1444.95 944.087,1431.24 944.879,1424.12 945.67,1435.88 946.462,1542.82 947.254,1453.62 948.045,1430.35 948.837,1410.28 949.628,1371.84 \n",
       "  950.42,1342.88 951.211,1318.62 952.003,1360.66 952.794,1295.4 953.586,1289.35 954.377,1313.19 955.169,1386.71 955.96,1407.51 956.752,1478.34 957.543,1392.29 \n",
       "  958.335,1525.25 959.126,1470.5 959.918,1444.38 960.71,1483.05 961.501,1497.95 962.293,1451.71 963.084,1453.76 963.876,1418.66 964.667,1398.32 965.459,1469.7 \n",
       "  966.25,1466.85 967.042,1462.64 967.833,1478.13 968.625,1533.76 969.416,1649.78 970.208,1600.97 970.999,1463.79 971.791,1502.52 972.582,1474.71 973.374,1478.46 \n",
       "  974.165,1431.01 974.957,1410.01 975.749,1436.3 976.54,1454.97 977.332,1472.74 978.123,1567.96 978.915,1452.13 979.706,1536.71 980.498,1672.16 981.289,1605.77 \n",
       "  982.081,1605.32 982.872,1624.73 983.664,1634.66 984.455,1622.14 985.247,1692.27 986.038,1692.27 986.83,1685.05 987.621,1616.58 988.413,1628.24 989.204,1647.34 \n",
       "  989.996,1641.26 990.788,1369.58 991.579,1365.88 992.371,1460.32 993.162,1588.07 993.954,1593.75 994.745,1496.62 995.537,1511.95 996.328,1512.34 997.12,1599.58 \n",
       "  997.911,1542.34 998.703,1499.79 999.494,1494.19 1000.29,1464.34 1001.08,1447.23 1001.87,1569.45 1002.66,1542.92 1003.45,1457.14 1004.24,1648.22 1005.04,1602.18 \n",
       "  1005.83,1389.16 1006.62,1430.48 1007.41,1429.22 1008.2,1403.3 1008.99,1446.44 1009.78,1417.42 1010.58,1471.47 1011.37,1517.68 1012.16,1507.92 1012.95,1479.79 \n",
       "  1013.74,1471.71 1014.53,1467.03 1015.32,1508.56 1016.12,1527.12 1016.91,1388.47 1017.7,1479.94 1018.49,1508.31 1019.28,1460.32 1020.07,1539.31 1020.87,1610.97 \n",
       "  1021.66,1612.05 1022.45,1519.16 1023.24,1397.07 1024.03,1391.31 1024.82,1537.86 1025.61,1454.49 1026.41,1457.23 1027.2,1432.77 1027.99,1381.53 1028.78,1447.89 \n",
       "  1029.57,1469.12 1030.36,1519.01 1031.16,1495.03 1031.95,1487.51 1032.74,1602.19 1033.53,1609.61 1034.32,1612.84 1035.11,1602.04 1035.9,1373.41 1036.7,1447.62 \n",
       "  1037.49,1510.31 1038.28,1528.36 1039.07,1605.49 1039.86,1543.88 1040.65,1449.08 1041.45,1606.29 1042.24,1579.57 1043.03,1371.89 1043.82,1419.52 1044.61,1419.52 \n",
       "  1045.4,1434.19 1046.19,1558.74 1046.99,1433.44 1047.78,1345.07 1048.57,1340.2 1049.36,1383.84 1050.15,1522.74 1050.94,1600.02 1051.74,1452.56 1052.53,1418.44 \n",
       "  1053.32,1417.6 1054.11,1427.61 1054.9,1409.02 1055.69,1402.83 1056.48,1419.11 1057.28,1540.24 1058.07,1444.66 1058.86,1440.49 1059.65,1427.18 1060.44,1423.65 \n",
       "  1061.23,1428.49 1062.03,1425.23 1062.82,1378.85 1063.61,1383.98 1064.4,1319.88 1065.19,1417.78 1065.98,1449.18 1066.77,1520.65 1067.57,1400.77 1068.36,1530.46 \n",
       "  1069.15,1527.23 1069.94,1529.55 1070.73,1491.52 1071.52,1540.77 1072.31,1540.77 1073.11,1625.16 1073.9,1608.27 1074.69,1467.32 1075.48,1456.48 1076.27,1528.15 \n",
       "  1077.06,1543.35 1077.86,1489.97 1078.65,1512.14 1079.44,1443.33 1080.23,1601.85 1081.02,1498.65 1081.81,1489.87 1082.6,1606.87 1083.4,1625.3 1084.19,1461.72 \n",
       "  1084.98,1561.63 1085.77,1531.28 1086.56,1537.34 1087.35,1509.44 1088.15,1538.55 1088.94,1603.32 1089.73,1582.88 1090.52,1572.46 1091.31,1575.78 1092.1,1565.98 \n",
       "  1092.89,1538.04 1093.69,1536.97 1094.48,1495.55 1095.27,1485.56 1096.06,1531.34 1096.85,1531.34 1097.64,1562.72 1098.44,1489.29 1099.23,1547.38 1100.02,1526.85 \n",
       "  1100.81,1526.41 1101.6,1526.41 1102.39,1473.81 1103.18,1455.76 1103.98,1466.54 1104.77,1376.73 1105.56,1357.46 1106.35,1368.93 1107.14,1389.98 1107.93,1488.4 \n",
       "  1108.73,1553.88 1109.52,1528.16 1110.31,1549.75 1111.1,1621.68 1111.89,1535.73 1112.68,1499.89 1113.47,1594.82 1114.27,1456.87 1115.06,1461.48 1115.85,1457.43 \n",
       "  1116.64,1499.13 1117.43,1455.17 1118.22,1510.18 1119.02,1507.09 1119.81,1515.81 1120.6,1484.57 1121.39,1515.63 1122.18,1512.54 1122.97,1533.28 1123.76,1591.16 \n",
       "  1124.56,1592.42 1125.35,1374.23 1126.14,1533.7 1126.93,1442.79 1127.72,1350.75 1128.51,1347.14 1129.3,1504.26 1130.1,1575.14 1130.89,1487.23 1131.68,1542.16 \n",
       "  1132.47,1486.54 1133.26,1433.05 1134.05,1322.92 1134.85,1311.75 1135.64,1386.87 1136.43,1404.95 1137.22,1381.1 1138.01,1412.8 1138.8,1358.66 1139.59,1435.05 \n",
       "  1140.39,1524.75 1141.18,1522.06 1141.97,1436.35 1142.76,1360.67 1143.55,1374.97 1144.34,1428.9 1145.14,1424.44 1145.93,1401.82 1146.72,1415.49 1147.51,1566.39 \n",
       "  1148.3,1550.44 1149.09,1540.11 1149.88,1620.06 1150.68,1357.22 1151.47,1383.32 1152.26,1428.99 1153.05,1344.79 1153.84,1429.98 1154.63,1362.05 1155.43,1490.94 \n",
       "  1156.22,1485.24 1157.01,1495.32 1157.8,1504.74 1158.59,1556.92 1159.38,1574.76 1160.17,1447.21 1160.97,1304.25 1161.76,1363.16 1162.55,1369.49 1163.34,1402.95 \n",
       "  1164.13,1400.02 1164.92,1455.04 1165.72,1478.58 1166.51,1457.43 1167.3,1457.43 1168.09,1580.58 1168.88,1376.79 1169.67,1522.81 1170.46,1566.89 1171.26,1416.99 \n",
       "  1172.05,1438.09 1172.84,1469.04 1173.63,1502.24 1174.42,1499.1 1175.21,1509.5 1176.01,1515.01 1176.8,1398.61 1177.59,1611.17 1178.38,1599.86 1179.17,1587.37 \n",
       "  1179.96,1671.99 1180.75,1664.56 1181.55,1664.74 1182.34,1425.8 1183.13,1424.24 1183.92,1563.2 1184.71,1436.5 1185.5,1526.29 1186.29,1487.94 1187.09,1499.24 \n",
       "  1187.88,1542.59 1188.67,1474.36 1189.46,1508.12 1190.25,1720.28 1191.04,1676.48 1191.84,1666.07 1192.63,1666.97 1193.42,1493.51 1194.21,1290.87 1195,1353.51 \n",
       "  1195.79,1421.87 1196.58,1519.28 1197.38,1479.59 1198.17,1498.38 1198.96,1546.57 1199.75,1473.14 1200.54,1438.33 1201.33,1458.19 1202.13,1475.66 1202.92,1506.72 \n",
       "  1203.71,1461.44 1204.5,1444.27 1205.29,1368.86 1206.08,1342.28 1206.87,1334.66 1207.67,1380.02 1208.46,1464.34 1209.25,1522.65 1210.04,1435.42 1210.83,1400.79 \n",
       "  1211.62,1462.95 1212.42,1381.87 1213.21,1409.74 1214,1440.21 1214.79,1497.08 1215.58,1484.36 1216.37,1653.4 1217.16,1567.66 1217.96,1568.85 1218.75,1540.2 \n",
       "  1219.54,1471.66 1220.33,1514.11 1221.12,1430.46 1221.91,1495.77 1222.71,1447.37 1223.5,1438.55 1224.29,1418.64 1225.08,1468.29 1225.87,1586.81 1226.66,1571.26 \n",
       "  1227.45,1568.47 1228.25,1441.34 1229.04,1658.59 1229.83,1630.29 1230.62,1630.91 1231.41,1529.15 1232.2,1539.38 1233,1560.9 1233.79,1606.38 1234.58,1650.42 \n",
       "  1235.37,1651.5 1236.16,1633.19 1236.95,1658.94 1237.74,1633.6 1238.54,1311.49 1239.33,1380.03 1240.12,1480.14 1240.91,1476.37 1241.7,1571.84 1242.49,1536.86 \n",
       "  1243.28,1462.85 1244.08,1504.04 1244.87,1606.64 1245.66,1643.96 1246.45,1653.6 1247.24,1690.93 1248.03,1491.39 1248.83,1461.7 1249.62,1469.66 1250.41,1460.17 \n",
       "  1251.2,1429.96 1251.99,1401.59 1252.78,1520.25 1253.57,1521.13 1254.37,1561.72 1255.16,1543.6 1255.95,1491.87 1256.74,1511.57 1257.53,1483.18 1258.32,1480.72 \n",
       "  1259.12,1486.44 1259.91,1542.99 1260.7,1403.96 1261.49,1495.73 1262.28,1540.98 1263.07,1570.98 1263.86,1530.68 1264.66,1513.94 1265.45,1462.07 1266.24,1532.62 \n",
       "  1267.03,1529.91 1267.82,1571.78 1268.61,1558.75 1269.41,1548.08 1270.2,1549.33 1270.99,1561.15 1271.78,1568.78 1272.57,1522.89 1273.36,1415.38 1274.15,1349.52 \n",
       "  1274.95,1315.54 1275.74,1372.09 1276.53,1584.68 1277.32,1540.27 1278.11,1395.55 1278.9,1410.28 1279.7,1418.55 1280.49,1425.77 1281.28,1519.22 1282.07,1451.39 \n",
       "  1282.86,1451.39 1283.65,1422.7 1284.44,1398.82 1285.24,1392.68 1286.03,1481.91 1286.82,1520.91 1287.61,1542.86 1288.4,1437.38 1289.19,1433.27 1289.99,1514.42 \n",
       "  1290.78,1575.53 1291.57,1600.57 1292.36,1520.88 1293.15,1493.37 1293.94,1275.8 1294.73,1314.91 1295.53,1363.84 1296.32,1489.94 1297.11,1667.39 1297.9,1661.22 \n",
       "  1298.69,1441.84 1299.48,1468.59 1300.27,1466.83 1301.07,1498.93 1301.86,1491.49 1302.65,1578.67 1303.44,1530.4 1304.23,1623.15 1305.02,1645.39 1305.82,1707.97 \n",
       "  1306.61,1712.3 1307.4,1703.89 1308.19,1711.17 1308.98,1606.18 1309.77,1651.6 1310.56,1561.19 1311.36,1482.3 1312.15,1479.74 1312.94,1392.61 1313.73,1537.7 \n",
       "  1314.52,1441.68 1315.31,1504.89 1316.11,1486.79 1316.9,1416.18 1317.69,1524.85 1318.48,1594.19 1319.27,1634.72 1320.06,1438.44 1320.85,1430.56 1321.65,1459.24 \n",
       "  1322.44,1471.66 1323.23,1552.79 1324.02,1515.03 1324.81,1493.04 1325.6,1532.6 1326.4,1595.68 1327.19,1443.93 1327.98,1517.78 1328.77,1555.9 1329.56,1573.53 \n",
       "  1330.35,1613.12 1331.14,1617.51 1331.94,1499.46 1332.73,1600.29 1333.52,1372.49 1334.31,1366.79 1335.1,1360.7 1335.89,1359.68 1336.69,1381.61 1337.48,1435.61 \n",
       "  1338.27,1565.04 1339.06,1536.93 1339.85,1413.91 1340.64,1519.17 1341.43,1530.2 1342.23,1528.37 1343.02,1380.51 1343.81,1539.77 1344.6,1425.6 1345.39,1480.27 \n",
       "  1346.18,1491.31 1346.98,1528.34 1347.77,1463.8 1348.56,1305.1 1349.35,1330.21 1350.14,1316.75 1350.93,1331.76 1351.72,1283.31 1352.52,1318.99 1353.31,1317.54 \n",
       "  1354.1,1423.64 1354.89,1522.28 1355.68,1439.35 1356.47,1446.89 1357.26,1512.85 1358.06,1502.27 1358.85,1453.39 1359.64,1469.29 1360.43,1492.31 1361.22,1465.37 \n",
       "  1362.01,1565.38 1362.81,1500.37 1363.6,1580.76 1364.39,1634.83 1365.18,1382.23 1365.97,1438.36 1366.76,1461.13 1367.55,1429.13 1368.35,1319.87 1369.14,1384.22 \n",
       "  1369.93,1715.86 1370.72,1501.16 1371.51,1546.93 1372.3,1616.81 1373.1,1467.25 1373.89,1362.92 1374.68,1306.33 1375.47,1424.39 1376.26,1476.08 1377.05,1547.56 \n",
       "  1377.84,1615.77 1378.64,1630.36 1379.43,1558.27 1380.22,1559.94 1381.01,1454.31 1381.8,1448.89 1382.59,1476 1383.39,1513.94 1384.18,1527.32 1384.97,1483.02 \n",
       "  1385.76,1269.94 1386.55,1266.13 1387.34,1481.51 1388.13,1466.55 1388.93,1525.98 1389.72,1363.01 1390.51,1379.71 1391.3,1369.82 1392.09,1349.31 1392.88,1414.39 \n",
       "  1393.68,1415.43 1394.47,1400.01 1395.26,1463.52 1396.05,1709.21 1396.84,1600 1397.63,1542.3 1398.42,1520.77 1399.22,1555.67 1400.01,1558.53 1400.8,1362.7 \n",
       "  1401.59,1274.56 1402.38,1279.52 1403.17,1330.2 1403.97,1303.5 1404.76,1517.1 1405.55,1381.26 1406.34,1320.62 1407.13,1321.09 1407.92,1427.17 1408.71,1408.47 \n",
       "  1409.51,1343.23 1410.3,1362.34 1411.09,1372.06 1411.88,1400.83 1412.67,1373.63 1413.46,1710.48 1414.25,1721.43 1415.05,1689.15 1415.84,1661.59 1416.63,1435.05 \n",
       "  1417.42,1606.97 1418.21,1474.12 1419,1506.75 1419.8,1390.4 1420.59,1439.22 1421.38,1530.69 1422.17,1584.38 1422.96,1513.98 1423.75,1544.67 1424.54,1478.37 \n",
       "  1425.34,1473.37 1426.13,1582.24 1426.92,1364.67 1427.71,1388.58 1428.5,1455.34 1429.29,1507.88 1430.09,1445.56 1430.88,1517.98 1431.67,1498.05 1432.46,1419.61 \n",
       "  1433.25,1429.03 1434.04,1392.18 1434.83,1494.22 1435.63,1455.76 1436.42,1580.05 1437.21,1385.4 1438,1398.08 1438.79,1462.19 1439.58,1466.15 1440.38,1462.56 \n",
       "  1441.17,1510.8 1441.96,1531.7 1442.75,1491.47 1443.54,1579.88 1444.33,1552.23 1445.12,1590.83 1445.92,1566.25 1446.71,1286.06 1447.5,1467.47 1448.29,1461.86 \n",
       "  1449.08,1461.86 1449.87,1494.56 1450.67,1482.06 1451.46,1387.22 1452.25,1394.57 1453.04,1358.34 1453.83,1496.27 1454.62,1459.01 1455.41,1523.86 1456.21,1393.24 \n",
       "  1457,1563.84 1457.79,1540.13 1458.58,1522.01 1459.37,1470.22 1460.16,1626.25 1460.96,1611.94 1461.75,1456.67 1462.54,1494.5 1463.33,1409.92 1464.12,1420.44 \n",
       "  1464.91,1414.34 1465.7,1370.25 1466.5,1341.45 1467.29,1501.04 1468.08,1504.44 1468.87,1579.78 1469.66,1580.59 1470.45,1394.43 1471.24,1380.58 1472.04,1399.74 \n",
       "  1472.83,1383.68 1473.62,1463.45 1474.41,1482.81 1475.2,1505.22 1475.99,1414.25 1476.79,1407.12 1477.58,1356.5 1478.37,1470.65 1479.16,1464.53 1479.95,1456.17 \n",
       "  1480.74,1456.17 1481.53,1443.95 1482.33,1456.25 1483.12,1542.85 1483.91,1606.55 1484.7,1601.27 1485.49,1638.57 1486.28,1627.45 1487.08,1594.54 1487.87,1563.9 \n",
       "  1488.66,1555.22 1489.45,1505.75 1490.24,1524.46 1491.03,1558.97 1491.82,1483.15 1492.62,1496.81 1493.41,1505.69 1494.2,1507.07 1494.99,1366.29 1495.78,1361.37 \n",
       "  1496.57,1407.26 1497.37,1515.28 1498.16,1515.28 1498.95,1509.45 1499.74,1499.57 1500.53,1458.67 1501.32,1502.26 1502.11,1510.49 1502.91,1449.88 1503.7,1530.8 \n",
       "  1504.49,1356.59 1505.28,1415.7 1506.07,1425.11 1506.86,1377.37 1507.66,1475.2 1508.45,1391.92 1509.24,1618.8 1510.03,1465.12 1510.82,1455.26 1511.61,1475.76 \n",
       "  1512.4,1475.76 1513.2,1418.51 1513.99,1418.51 1514.78,1330.63 1515.57,1463.37 1516.36,1382.07 1517.15,1606.15 1517.95,1585.12 1518.74,1587.23 1519.53,1310.09 \n",
       "  1520.32,1300.8 1521.11,1440.21 1521.9,1456.09 1522.69,1419.24 1523.49,1377.51 1524.28,1494.48 1525.07,1480.33 1525.86,1577.25 1526.65,1410.35 1527.44,1295.34 \n",
       "  1528.23,1441.28 1529.03,1563.07 1529.82,1600.1 1530.61,1614.26 1531.4,1548.48 1532.19,1498.37 1532.98,1501.08 1533.78,1490.08 1534.57,1566.37 1535.36,1431.09 \n",
       "  1536.15,1461.84 1536.94,1431.74 1537.73,1584.31 1538.52,1335.58 1539.32,1345.88 1540.11,1244.83 1540.9,1324.06 1541.69,1433.54 1542.48,1393.55 1543.27,1534.48 \n",
       "  1544.07,1541.12 1544.86,1441.1 1545.65,1582.32 1546.44,1523.09 1547.23,1466.15 1548.02,1457.03 1548.81,1446.95 1549.61,1445.49 1550.4,1464.6 1551.19,1322.96 \n",
       "  1551.98,1615.63 1552.77,1631.63 1553.56,1611.08 1554.36,1527.13 1555.15,1518.67 1555.94,1563.55 1556.73,1579.9 1557.52,1491.69 1558.31,1380.16 1559.1,1448.66 \n",
       "  1559.9,1362.08 1560.69,1514.67 1561.48,1399.49 1562.27,1457.97 1563.06,1404.12 1563.85,1579.44 1564.65,1471.95 1565.44,1406.87 1566.23,1346.22 1567.02,1333.95 \n",
       "  1567.81,1562.72 1568.6,1571.17 1569.39,1460.21 1570.19,1462.82 1570.98,1503.74 1571.77,1313.18 1572.56,1480.87 1573.35,1480.8 1574.14,1518.13 1574.94,1354.93 \n",
       "  1575.73,1357.74 1576.52,1555.64 1577.31,1491.84 1578.1,1541.68 1578.89,1534.44 1579.68,1480.52 1580.48,1520.66 1581.27,1514.11 1582.06,1442.36 1582.85,1559.74 \n",
       "  1583.64,1505.56 1584.43,1541.52 1585.22,1498.52 1586.02,1372.04 1586.81,1578.73 1587.6,1621.91 1588.39,1458.01 1589.18,1445.3 1589.97,1481.2 1590.77,1467.37 \n",
       "  1591.56,1483.98 1592.35,1472.15 1593.14,1487.31 1593.93,1475.44 1594.72,1379.95 1595.51,1550.96 1596.31,1416.05 1597.1,1537.83 1597.89,1538 1598.68,1509.19 \n",
       "  1599.47,1444.74 1600.26,1431.79 1601.06,1479.49 1601.85,1433.02 1602.64,1486.08 1603.43,1487.89 1604.22,1488.32 1605.01,1507.71 1605.8,1501.03 1606.6,1476.29 \n",
       "  1607.39,1572.41 1608.18,1502.93 1608.97,1442.21 1609.76,1617.45 1610.55,1585.63 1611.35,1453.17 1612.14,1530.89 1612.93,1476.46 1613.72,1464.25 1614.51,1537.88 \n",
       "  1615.3,1471.35 1616.09,1594.57 1616.89,1590 1617.68,1559.08 1618.47,1484.04 1619.26,1523.36 1620.05,1516.55 1620.84,1521.1 1621.64,1472.12 1622.43,1449.42 \n",
       "  1623.22,1449.42 1624.01,1468.97 1624.8,1420.75 1625.59,1438.49 1626.38,1527.25 1627.18,1498.51 1627.97,1472.03 1628.76,1451.98 1629.55,1462.54 1630.34,1464.78 \n",
       "  1631.13,1387.89 1631.93,1354.12 1632.72,1333.87 1633.51,1333.87 1634.3,1506.85 1635.09,1471.53 1635.88,1542.99 1636.67,1588.9 1637.47,1471.73 1638.26,1496.1 \n",
       "  1639.05,1500.76 1639.84,1416.3 1640.63,1378.04 1641.42,1368.02 1642.21,1541.92 1643.01,1608.6 1643.8,1419.65 1644.59,1448.74 1645.38,1709.43 1646.17,1715.84 \n",
       "  1646.96,1738.34 1647.76,1620.34 1648.55,1525.8 1649.34,1592.13 1650.13,1567.78 1650.92,1571.88 1651.71,1383.25 1652.5,1472.68 1653.3,1422.34 1654.09,1467.98 \n",
       "  1654.88,1770.59 1655.67,1770.45 1656.46,1574.86 1657.25,1458.26 1658.05,1401.61 1658.84,1383.2 1659.63,1437.55 1660.42,1473.64 1661.21,1465.23 1662,1502.68 \n",
       "  1662.79,1500.01 1663.59,1424.52 1664.38,1423.47 1665.17,1473.46 1665.96,1383.98 1666.75,1393.32 1667.54,1497.16 1668.34,1518.34 1669.13,1466.13 1669.92,1476.46 \n",
       "  1670.71,1451.02 1671.5,1426.93 1672.29,1469.67 1673.08,1449.57 1673.88,1519.08 1674.67,1534.03 1675.46,1545.3 1676.25,1394.96 1677.04,1390.68 1677.83,1420.78 \n",
       "  1678.63,1403.82 1679.42,1427.45 1680.21,1567.65 1681,1447.24 1681.79,1404.62 1682.58,1408.04 1683.37,1475.23 1684.17,1472.24 1684.96,1428.16 1685.75,1445.54 \n",
       "  1686.54,1450.31 1687.33,1437.21 1688.12,1391.34 1688.92,1383.13 1689.71,1500.24 1690.5,1338.37 1691.29,1307.51 1692.08,1286.13 1692.87,1342.56 1693.66,1380.72 \n",
       "  1694.46,1368.59 1695.25,1351.89 1696.04,1341.79 1696.83,1422.71 1697.62,1441.72 1698.41,1449.13 1699.2,1446.89 1700,1448.96 1700.79,1513.85 1701.58,1464 \n",
       "  1702.37,1389.96 1703.16,1371.23 1703.95,1461.84 1704.75,1393.99 1705.54,1404.84 1706.33,1465.62 1707.12,1454.02 1707.91,1411.1 1708.7,1487.18 1709.49,1365.46 \n",
       "  1710.29,1597.9 1711.08,1635.47 1711.87,1646.3 1712.66,1648.11 1713.45,1632.08 1714.24,1608.05 1715.04,1329.56 1715.83,1380.8 1716.62,1432.74 1717.41,1441.98 \n",
       "  1718.2,1426.16 1718.99,1483.48 1719.78,1527.71 1720.58,1552.91 1721.37,1520.29 1722.16,1491.87 1722.95,1534.54 1723.74,1528.73 1724.53,1524.31 1725.33,1532.88 \n",
       "  1726.12,1560.16 1726.91,1555.62 1727.7,1524.98 1728.49,1592.02 1729.28,1551.52 1730.07,1502.15 1730.87,1495.83 1731.66,1495.83 1732.45,1562.05 1733.24,1551.19 \n",
       "  1734.03,1557.36 1734.82,1535.79 1735.62,1545.11 1736.41,1548.15 1737.2,1566.57 1737.99,1581.46 1738.78,1518.09 1739.57,1501.53 1740.36,1577.63 1741.16,1514.19 \n",
       "  1741.95,1522.85 1742.74,1494.41 1743.53,1400.21 1744.32,1370.05 1745.11,1390.68 1745.91,1352.43 1746.7,1385.07 1747.49,1479.79 1748.28,1536.85 1749.07,1497.58 \n",
       "  1749.86,1403.23 1750.65,1410.36 1751.45,1391.99 1752.24,1507.77 1753.03,1507.23 1753.82,1507.23 1754.61,1430.41 1755.4,1308.89 1756.19,1379.47 1756.99,1363.35 \n",
       "  1757.78,1380.07 1758.57,1534.38 1759.36,1529.46 1760.15,1505.42 1760.94,1445.67 1761.74,1469.2 1762.53,1413.71 1763.32,1475.07 1764.11,1444.99 1764.9,1464.23 \n",
       "  1765.69,1468.97 1766.48,1436.24 1767.28,1542.07 1768.07,1603.52 1768.86,1519.57 1769.65,1339.8 1770.44,1506.47 1771.23,1512.88 1772.03,1522.75 1772.82,1441.99 \n",
       "  1773.61,1369.45 1774.4,1501.31 1775.19,1525.94 1775.98,1504.1 1776.77,1424.11 1777.57,1372.89 1778.36,1370.34 1779.15,1380.59 1779.94,1616.13 1780.73,1446.67 \n",
       "  1781.52,1476.7 1782.32,1507.14 1783.11,1569.78 1783.9,1564.93 1784.69,1424.75 1785.48,1469.01 1786.27,1541.26 1787.06,1721.23 1787.86,1665.89 1788.65,1719.89 \n",
       "  1789.44,1531.46 1790.23,1594.47 1791.02,1612.24 1791.81,1354.18 1792.61,1449.78 1793.4,1433.5 1794.19,1473.87 1794.98,1483.42 1795.77,1467.4 1796.56,1465.59 \n",
       "  1797.35,1465.59 1798.15,1386.16 1798.94,1515.79 1799.73,1408.96 1800.52,1544.04 1801.31,1547.53 1802.1,1539.15 1802.9,1461.44 1803.69,1449.22 1804.48,1469.89 \n",
       "  1805.27,1512.25 1806.06,1442.57 1806.85,1549.41 1807.64,1381.67 1808.44,1369.01 1809.23,1445.36 1810.02,1438.05 1810.81,1527.45 1811.6,1540.02 1812.39,1517.12 \n",
       "  1813.18,1564.28 1813.98,1396.74 1814.77,1471.52 1815.56,1526.49 1816.35,1594.08 1817.14,1573.32 1817.93,1564.95 1818.73,1626.53 1819.52,1590.76 1820.31,1463.04 \n",
       "  1821.1,1493.13 1821.89,1578.69 1822.68,1413.67 1823.47,1400.16 1824.27,1404.38 1825.06,1404.82 1825.85,1381.65 1826.64,1513.92 1827.43,1391.95 1828.22,1393.74 \n",
       "  1829.02,1491.38 1829.81,1434.23 1830.6,1397.86 1831.39,1397.86 1832.18,1328.59 1832.97,1291.96 1833.76,1494.65 1834.56,1486.99 1835.35,1603.77 1836.14,1606.94 \n",
       "  1836.93,1407.82 1837.72,1420.37 1838.51,1455.45 1839.31,1457.49 1840.1,1491.85 1840.89,1439.52 1841.68,1403.85 1842.47,1418.43 1843.26,1487.84 1844.05,1473.19 \n",
       "  1844.85,1520.9 1845.64,1560.13 1846.43,1615.79 1847.22,1584.94 1848.01,1309.78 1848.8,1340.07 1849.6,1397.77 1850.39,1358.91 1851.18,1446.11 1851.97,1505.34 \n",
       "  1852.76,1457.5 1853.55,1509.18 1854.34,1684.75 1855.14,1562.15 1855.93,1424.71 1856.72,1424.71 1857.51,1541.38 1858.3,1487.37 1859.09,1499.16 1859.89,1499.16 \n",
       "  1860.68,1529.53 1861.47,1529.53 1862.26,1492.67 1863.05,1618.83 1863.84,1524.39 1864.63,1466.41 1865.43,1410.02 1866.22,1410.02 1867.01,1428.95 1867.8,1409.09 \n",
       "  1868.59,1395.5 1869.38,1468.66 1870.17,1428.86 1870.97,1535.23 1871.76,1416.38 1872.55,1377.74 1873.34,1461.98 1874.13,1454.11 1874.92,1425.42 1875.72,1445.49 \n",
       "  1876.51,1476.86 1877.3,1498.62 1878.09,1469.13 1878.88,1463.55 1879.67,1626.56 1880.46,1328.01 1881.26,1350.51 1882.05,1403.06 1882.84,1416.94 1883.63,1454.94 \n",
       "  1884.42,1486.04 1885.21,1373.32 1886.01,1413.36 1886.8,1406.39 1887.59,1522.89 1888.38,1291.66 1889.17,1502.27 1889.96,1433.15 1890.75,1450.34 1891.55,1464.96 \n",
       "  1892.34,1390.05 1893.13,1497.22 1893.92,1468.4 1894.71,1464.93 1895.5,1449.5 1896.3,1434.53 1897.09,1449.84 1897.88,1454.88 1898.67,1503.96 1899.46,1445.32 \n",
       "  1900.25,1428.81 1901.04,1482.31 1901.84,1408 1902.63,1362.75 1903.42,1522.8 1904.21,1467.73 1905,1472.1 1905.79,1372.23 1906.59,1493.75 1907.38,1532.4 \n",
       "  1908.17,1404.91 1908.96,1440.14 1909.75,1443.85 1910.54,1364.82 1911.33,1340.29 1912.13,1334.74 1912.92,1526.65 1913.71,1528.27 1914.5,1526.19 1915.29,1407.09 \n",
       "  1916.08,1393.81 1916.88,1377.87 1917.67,1590.37 1918.46,1617.58 1919.25,1499.24 1920.04,1493.97 1920.83,1479.87 1921.62,1489.51 1922.42,1470.91 1923.21,1526.39 \n",
       "  1924,1478.58 1924.79,1442.14 1925.58,1454.83 1926.37,1470.86 1927.16,1457.56 1927.96,1320.64 1928.75,1385.39 1929.54,1331.43 1930.33,1480.34 1931.12,1480.44 \n",
       "  1931.91,1544.66 1932.71,1502.79 1933.5,1502.66 1934.29,1561.37 1935.08,1503.78 1935.87,1486.96 1936.66,1486.96 1937.45,1516.89 1938.25,1537.06 1939.04,1498.44 \n",
       "  \n",
       "  \"/>\n",
       "<path clip-path=\"url(#clip040)\" d=\"\n",
       "M2275.56 1798.92 L3952.76 1798.92 L3952.76 1131.03 L2275.56 1131.03  Z\n",
       "  \" fill=\"#ffffff\" fill-rule=\"evenodd\" fill-opacity=\"1\"/>\n",
       "<defs>\n",
       "  <clipPath id=\"clip045\">\n",
       "    <rect x=\"2275\" y=\"1131\" width=\"1678\" height=\"669\"/>\n",
       "  </clipPath>\n",
       "</defs>\n",
       "<polyline clip-path=\"url(#clip045)\" style=\"stroke:#000000; stroke-linecap:butt; stroke-linejoin:round; stroke-width:2; stroke-opacity:0.1; fill:none\" points=\"\n",
       "  2438.24,1798.92 2438.24,1131.03 \n",
       "  \"/>\n",
       "<polyline clip-path=\"url(#clip045)\" style=\"stroke:#000000; stroke-linecap:butt; stroke-linejoin:round; stroke-width:2; stroke-opacity:0.1; fill:none\" points=\"\n",
       "  2807.27,1798.92 2807.27,1131.03 \n",
       "  \"/>\n",
       "<polyline clip-path=\"url(#clip045)\" style=\"stroke:#000000; stroke-linecap:butt; stroke-linejoin:round; stroke-width:2; stroke-opacity:0.1; fill:none\" points=\"\n",
       "  3176.31,1798.92 3176.31,1131.03 \n",
       "  \"/>\n",
       "<polyline clip-path=\"url(#clip045)\" style=\"stroke:#000000; stroke-linecap:butt; stroke-linejoin:round; stroke-width:2; stroke-opacity:0.1; fill:none\" points=\"\n",
       "  3545.35,1798.92 3545.35,1131.03 \n",
       "  \"/>\n",
       "<polyline clip-path=\"url(#clip045)\" style=\"stroke:#000000; stroke-linecap:butt; stroke-linejoin:round; stroke-width:2; stroke-opacity:0.1; fill:none\" points=\"\n",
       "  3914.39,1798.92 3914.39,1131.03 \n",
       "  \"/>\n",
       "<polyline clip-path=\"url(#clip040)\" style=\"stroke:#000000; stroke-linecap:butt; stroke-linejoin:round; stroke-width:4; stroke-opacity:1; fill:none\" points=\"\n",
       "  2275.56,1798.92 3952.76,1798.92 \n",
       "  \"/>\n",
       "<polyline clip-path=\"url(#clip040)\" style=\"stroke:#000000; stroke-linecap:butt; stroke-linejoin:round; stroke-width:4; stroke-opacity:1; fill:none\" points=\"\n",
       "  2438.24,1798.92 2438.24,1780.02 \n",
       "  \"/>\n",
       "<polyline clip-path=\"url(#clip040)\" style=\"stroke:#000000; stroke-linecap:butt; stroke-linejoin:round; stroke-width:4; stroke-opacity:1; fill:none\" points=\"\n",
       "  2807.27,1798.92 2807.27,1780.02 \n",
       "  \"/>\n",
       "<polyline clip-path=\"url(#clip040)\" style=\"stroke:#000000; stroke-linecap:butt; stroke-linejoin:round; stroke-width:4; stroke-opacity:1; fill:none\" points=\"\n",
       "  3176.31,1798.92 3176.31,1780.02 \n",
       "  \"/>\n",
       "<polyline clip-path=\"url(#clip040)\" style=\"stroke:#000000; stroke-linecap:butt; stroke-linejoin:round; stroke-width:4; stroke-opacity:1; fill:none\" points=\"\n",
       "  3545.35,1798.92 3545.35,1780.02 \n",
       "  \"/>\n",
       "<polyline clip-path=\"url(#clip040)\" style=\"stroke:#000000; stroke-linecap:butt; stroke-linejoin:round; stroke-width:4; stroke-opacity:1; fill:none\" points=\"\n",
       "  3914.39,1798.92 3914.39,1780.02 \n",
       "  \"/>\n",
       "<path clip-path=\"url(#clip040)\" d=\"M2369.68 1857.29 L2399.36 1857.29 L2399.36 1861.23 L2369.68 1861.23 L2369.68 1857.29 Z\" fill=\"#000000\" fill-rule=\"evenodd\" fill-opacity=\"1\" /><path clip-path=\"url(#clip040)\" d=\"M2419.45 1842.64 Q2415.84 1842.64 2414.01 1846.2 Q2412.21 1849.74 2412.21 1856.87 Q2412.21 1863.98 2414.01 1867.55 Q2415.84 1871.09 2419.45 1871.09 Q2423.08 1871.09 2424.89 1867.55 Q2426.72 1863.98 2426.72 1856.87 Q2426.72 1849.74 2424.89 1846.2 Q2423.08 1842.64 2419.45 1842.64 M2419.45 1838.93 Q2425.26 1838.93 2428.32 1843.54 Q2431.4 1848.12 2431.4 1856.87 Q2431.4 1865.6 2428.32 1870.21 Q2425.26 1874.79 2419.45 1874.79 Q2413.64 1874.79 2410.56 1870.21 Q2407.51 1865.6 2407.51 1856.87 Q2407.51 1848.12 2410.56 1843.54 Q2413.64 1838.93 2419.45 1838.93 Z\" fill=\"#000000\" fill-rule=\"evenodd\" fill-opacity=\"1\" /><path clip-path=\"url(#clip040)\" d=\"M2439.61 1868.24 L2444.5 1868.24 L2444.5 1874.12 L2439.61 1874.12 L2439.61 1868.24 Z\" fill=\"#000000\" fill-rule=\"evenodd\" fill-opacity=\"1\" /><path clip-path=\"url(#clip040)\" d=\"M2454.73 1839.56 L2473.08 1839.56 L2473.08 1843.5 L2459.01 1843.5 L2459.01 1851.97 Q2460.03 1851.62 2461.05 1851.46 Q2462.07 1851.27 2463.08 1851.27 Q2468.87 1851.27 2472.25 1854.44 Q2475.63 1857.62 2475.63 1863.03 Q2475.63 1868.61 2472.16 1871.71 Q2468.69 1874.79 2462.37 1874.79 Q2460.19 1874.79 2457.92 1874.42 Q2455.68 1874.05 2453.27 1873.31 L2453.27 1868.61 Q2455.35 1869.74 2457.58 1870.3 Q2459.8 1870.86 2462.27 1870.86 Q2466.28 1870.86 2468.62 1868.75 Q2470.96 1866.64 2470.96 1863.03 Q2470.96 1859.42 2468.62 1857.31 Q2466.28 1855.21 2462.27 1855.21 Q2460.4 1855.21 2458.52 1855.62 Q2456.67 1856.04 2454.73 1856.92 L2454.73 1839.56 Z\" fill=\"#000000\" fill-rule=\"evenodd\" fill-opacity=\"1\" /><path clip-path=\"url(#clip040)\" d=\"M2494.84 1842.64 Q2491.23 1842.64 2489.4 1846.2 Q2487.6 1849.74 2487.6 1856.87 Q2487.6 1863.98 2489.4 1867.55 Q2491.23 1871.09 2494.84 1871.09 Q2498.48 1871.09 2500.28 1867.55 Q2502.11 1863.98 2502.11 1856.87 Q2502.11 1849.74 2500.28 1846.2 Q2498.48 1842.64 2494.84 1842.64 M2494.84 1838.93 Q2500.65 1838.93 2503.71 1843.54 Q2506.79 1848.12 2506.79 1856.87 Q2506.79 1865.6 2503.71 1870.21 Q2500.65 1874.79 2494.84 1874.79 Q2489.03 1874.79 2485.95 1870.21 Q2482.9 1865.6 2482.9 1856.87 Q2482.9 1848.12 2485.95 1843.54 Q2489.03 1838.93 2494.84 1838.93 Z\" fill=\"#000000\" fill-rule=\"evenodd\" fill-opacity=\"1\" /><path clip-path=\"url(#clip040)\" d=\"M2739.22 1857.29 L2768.89 1857.29 L2768.89 1861.23 L2739.22 1861.23 L2739.22 1857.29 Z\" fill=\"#000000\" fill-rule=\"evenodd\" fill-opacity=\"1\" /><path clip-path=\"url(#clip040)\" d=\"M2788.99 1842.64 Q2785.38 1842.64 2783.55 1846.2 Q2781.74 1849.74 2781.74 1856.87 Q2781.74 1863.98 2783.55 1867.55 Q2785.38 1871.09 2788.99 1871.09 Q2792.62 1871.09 2794.43 1867.55 Q2796.26 1863.98 2796.26 1856.87 Q2796.26 1849.74 2794.43 1846.2 Q2792.62 1842.64 2788.99 1842.64 M2788.99 1838.93 Q2794.8 1838.93 2797.85 1843.54 Q2800.93 1848.12 2800.93 1856.87 Q2800.93 1865.6 2797.85 1870.21 Q2794.8 1874.79 2788.99 1874.79 Q2783.18 1874.79 2780.1 1870.21 Q2777.04 1865.6 2777.04 1856.87 Q2777.04 1848.12 2780.1 1843.54 Q2783.18 1838.93 2788.99 1838.93 Z\" fill=\"#000000\" fill-rule=\"evenodd\" fill-opacity=\"1\" /><path clip-path=\"url(#clip040)\" d=\"M2809.15 1868.24 L2814.03 1868.24 L2814.03 1874.12 L2809.15 1874.12 L2809.15 1868.24 Z\" fill=\"#000000\" fill-rule=\"evenodd\" fill-opacity=\"1\" /><path clip-path=\"url(#clip040)\" d=\"M2828.25 1870.18 L2844.57 1870.18 L2844.57 1874.12 L2822.62 1874.12 L2822.62 1870.18 Q2825.28 1867.43 2829.87 1862.8 Q2834.47 1858.15 2835.65 1856.81 Q2837.9 1854.28 2838.78 1852.55 Q2839.68 1850.79 2839.68 1849.1 Q2839.68 1846.34 2837.74 1844.61 Q2835.82 1842.87 2832.71 1842.87 Q2830.51 1842.87 2828.06 1843.63 Q2825.63 1844.4 2822.85 1845.95 L2822.85 1841.23 Q2825.68 1840.09 2828.13 1839.51 Q2830.58 1838.93 2832.62 1838.93 Q2837.99 1838.93 2841.19 1841.62 Q2844.38 1844.31 2844.38 1848.8 Q2844.38 1850.93 2843.57 1852.85 Q2842.78 1854.74 2840.68 1857.34 Q2840.1 1858.01 2837 1861.23 Q2833.89 1864.42 2828.25 1870.18 Z\" fill=\"#000000\" fill-rule=\"evenodd\" fill-opacity=\"1\" /><path clip-path=\"url(#clip040)\" d=\"M2854.43 1839.56 L2872.78 1839.56 L2872.78 1843.5 L2858.71 1843.5 L2858.71 1851.97 Q2859.73 1851.62 2860.75 1851.46 Q2861.76 1851.27 2862.78 1851.27 Q2868.57 1851.27 2871.95 1854.44 Q2875.33 1857.62 2875.33 1863.03 Q2875.33 1868.61 2871.86 1871.71 Q2868.39 1874.79 2862.07 1874.79 Q2859.89 1874.79 2857.62 1874.42 Q2855.38 1874.05 2852.97 1873.31 L2852.97 1868.61 Q2855.05 1869.74 2857.27 1870.3 Q2859.5 1870.86 2861.97 1870.86 Q2865.98 1870.86 2868.32 1868.75 Q2870.65 1866.64 2870.65 1863.03 Q2870.65 1859.42 2868.32 1857.31 Q2865.98 1855.21 2861.97 1855.21 Q2860.1 1855.21 2858.22 1855.62 Q2856.37 1856.04 2854.43 1856.92 L2854.43 1839.56 Z\" fill=\"#000000\" fill-rule=\"evenodd\" fill-opacity=\"1\" /><path clip-path=\"url(#clip040)\" d=\"M3138.62 1842.64 Q3135.01 1842.64 3133.18 1846.2 Q3131.37 1849.74 3131.37 1856.87 Q3131.37 1863.98 3133.18 1867.55 Q3135.01 1871.09 3138.62 1871.09 Q3142.25 1871.09 3144.06 1867.55 Q3145.89 1863.98 3145.89 1856.87 Q3145.89 1849.74 3144.06 1846.2 Q3142.25 1842.64 3138.62 1842.64 M3138.62 1838.93 Q3144.43 1838.93 3147.48 1843.54 Q3150.56 1848.12 3150.56 1856.87 Q3150.56 1865.6 3147.48 1870.21 Q3144.43 1874.79 3138.62 1874.79 Q3132.81 1874.79 3129.73 1870.21 Q3126.67 1865.6 3126.67 1856.87 Q3126.67 1848.12 3129.73 1843.54 Q3132.81 1838.93 3138.62 1838.93 Z\" fill=\"#000000\" fill-rule=\"evenodd\" fill-opacity=\"1\" /><path clip-path=\"url(#clip040)\" d=\"M3158.78 1868.24 L3163.66 1868.24 L3163.66 1874.12 L3158.78 1874.12 L3158.78 1868.24 Z\" fill=\"#000000\" fill-rule=\"evenodd\" fill-opacity=\"1\" /><path clip-path=\"url(#clip040)\" d=\"M3183.85 1842.64 Q3180.24 1842.64 3178.41 1846.2 Q3176.6 1849.74 3176.6 1856.87 Q3176.6 1863.98 3178.41 1867.55 Q3180.24 1871.09 3183.85 1871.09 Q3187.48 1871.09 3189.29 1867.55 Q3191.12 1863.98 3191.12 1856.87 Q3191.12 1849.74 3189.29 1846.2 Q3187.48 1842.64 3183.85 1842.64 M3183.85 1838.93 Q3189.66 1838.93 3192.71 1843.54 Q3195.79 1848.12 3195.79 1856.87 Q3195.79 1865.6 3192.71 1870.21 Q3189.66 1874.79 3183.85 1874.79 Q3178.04 1874.79 3174.96 1870.21 Q3171.9 1865.6 3171.9 1856.87 Q3171.9 1848.12 3174.96 1843.54 Q3178.04 1838.93 3183.85 1838.93 Z\" fill=\"#000000\" fill-rule=\"evenodd\" fill-opacity=\"1\" /><path clip-path=\"url(#clip040)\" d=\"M3214.01 1842.64 Q3210.4 1842.64 3208.57 1846.2 Q3206.76 1849.74 3206.76 1856.87 Q3206.76 1863.98 3208.57 1867.55 Q3210.4 1871.09 3214.01 1871.09 Q3217.64 1871.09 3219.45 1867.55 Q3221.28 1863.98 3221.28 1856.87 Q3221.28 1849.74 3219.45 1846.2 Q3217.64 1842.64 3214.01 1842.64 M3214.01 1838.93 Q3219.82 1838.93 3222.88 1843.54 Q3225.95 1848.12 3225.95 1856.87 Q3225.95 1865.6 3222.88 1870.21 Q3219.82 1874.79 3214.01 1874.79 Q3208.2 1874.79 3205.12 1870.21 Q3202.07 1865.6 3202.07 1856.87 Q3202.07 1848.12 3205.12 1843.54 Q3208.2 1838.93 3214.01 1838.93 Z\" fill=\"#000000\" fill-rule=\"evenodd\" fill-opacity=\"1\" /><path clip-path=\"url(#clip040)\" d=\"M3508.15 1842.64 Q3504.54 1842.64 3502.71 1846.2 Q3500.91 1849.74 3500.91 1856.87 Q3500.91 1863.98 3502.71 1867.55 Q3504.54 1871.09 3508.15 1871.09 Q3511.79 1871.09 3513.59 1867.55 Q3515.42 1863.98 3515.42 1856.87 Q3515.42 1849.74 3513.59 1846.2 Q3511.79 1842.64 3508.15 1842.64 M3508.15 1838.93 Q3513.96 1838.93 3517.02 1843.54 Q3520.1 1848.12 3520.1 1856.87 Q3520.1 1865.6 3517.02 1870.21 Q3513.96 1874.79 3508.15 1874.79 Q3502.34 1874.79 3499.26 1870.21 Q3496.21 1865.6 3496.21 1856.87 Q3496.21 1848.12 3499.26 1843.54 Q3502.34 1838.93 3508.15 1838.93 Z\" fill=\"#000000\" fill-rule=\"evenodd\" fill-opacity=\"1\" /><path clip-path=\"url(#clip040)\" d=\"M3528.32 1868.24 L3533.2 1868.24 L3533.2 1874.12 L3528.32 1874.12 L3528.32 1868.24 Z\" fill=\"#000000\" fill-rule=\"evenodd\" fill-opacity=\"1\" /><path clip-path=\"url(#clip040)\" d=\"M3547.41 1870.18 L3563.73 1870.18 L3563.73 1874.12 L3541.79 1874.12 L3541.79 1870.18 Q3544.45 1867.43 3549.03 1862.8 Q3553.64 1858.15 3554.82 1856.81 Q3557.07 1854.28 3557.94 1852.55 Q3558.85 1850.79 3558.85 1849.1 Q3558.85 1846.34 3556.9 1844.61 Q3554.98 1842.87 3551.88 1842.87 Q3549.68 1842.87 3547.23 1843.63 Q3544.8 1844.4 3542.02 1845.95 L3542.02 1841.23 Q3544.84 1840.09 3547.3 1839.51 Q3549.75 1838.93 3551.79 1838.93 Q3557.16 1838.93 3560.35 1841.62 Q3563.55 1844.31 3563.55 1848.8 Q3563.55 1850.93 3562.74 1852.85 Q3561.95 1854.74 3559.84 1857.34 Q3559.26 1858.01 3556.16 1861.23 Q3553.06 1864.42 3547.41 1870.18 Z\" fill=\"#000000\" fill-rule=\"evenodd\" fill-opacity=\"1\" /><path clip-path=\"url(#clip040)\" d=\"M3573.59 1839.56 L3591.95 1839.56 L3591.95 1843.5 L3577.88 1843.5 L3577.88 1851.97 Q3578.89 1851.62 3579.91 1851.46 Q3580.93 1851.27 3581.95 1851.27 Q3587.74 1851.27 3591.12 1854.44 Q3594.5 1857.62 3594.5 1863.03 Q3594.5 1868.61 3591.02 1871.71 Q3587.55 1874.79 3581.23 1874.79 Q3579.06 1874.79 3576.79 1874.42 Q3574.54 1874.05 3572.13 1873.31 L3572.13 1868.61 Q3574.22 1869.74 3576.44 1870.3 Q3578.66 1870.86 3581.14 1870.86 Q3585.14 1870.86 3587.48 1868.75 Q3589.82 1866.64 3589.82 1863.03 Q3589.82 1859.42 3587.48 1857.31 Q3585.14 1855.21 3581.14 1855.21 Q3579.26 1855.21 3577.39 1855.62 Q3575.54 1856.04 3573.59 1856.92 L3573.59 1839.56 Z\" fill=\"#000000\" fill-rule=\"evenodd\" fill-opacity=\"1\" /><path clip-path=\"url(#clip040)\" d=\"M3876.69 1842.64 Q3873.08 1842.64 3871.25 1846.2 Q3869.45 1849.74 3869.45 1856.87 Q3869.45 1863.98 3871.25 1867.55 Q3873.08 1871.09 3876.69 1871.09 Q3880.33 1871.09 3882.13 1867.55 Q3883.96 1863.98 3883.96 1856.87 Q3883.96 1849.74 3882.13 1846.2 Q3880.33 1842.64 3876.69 1842.64 M3876.69 1838.93 Q3882.5 1838.93 3885.56 1843.54 Q3888.64 1848.12 3888.64 1856.87 Q3888.64 1865.6 3885.56 1870.21 Q3882.5 1874.79 3876.69 1874.79 Q3870.88 1874.79 3867.81 1870.21 Q3864.75 1865.6 3864.75 1856.87 Q3864.75 1848.12 3867.81 1843.54 Q3870.88 1838.93 3876.69 1838.93 Z\" fill=\"#000000\" fill-rule=\"evenodd\" fill-opacity=\"1\" /><path clip-path=\"url(#clip040)\" d=\"M3896.86 1868.24 L3901.74 1868.24 L3901.74 1874.12 L3896.86 1874.12 L3896.86 1868.24 Z\" fill=\"#000000\" fill-rule=\"evenodd\" fill-opacity=\"1\" /><path clip-path=\"url(#clip040)\" d=\"M3911.97 1839.56 L3930.33 1839.56 L3930.33 1843.5 L3916.25 1843.5 L3916.25 1851.97 Q3917.27 1851.62 3918.29 1851.46 Q3919.31 1851.27 3920.33 1851.27 Q3926.12 1851.27 3929.5 1854.44 Q3932.87 1857.62 3932.87 1863.03 Q3932.87 1868.61 3929.4 1871.71 Q3925.93 1874.79 3919.61 1874.79 Q3917.44 1874.79 3915.17 1874.42 Q3912.92 1874.05 3910.51 1873.31 L3910.51 1868.61 Q3912.6 1869.74 3914.82 1870.3 Q3917.04 1870.86 3919.52 1870.86 Q3923.52 1870.86 3925.86 1868.75 Q3928.2 1866.64 3928.2 1863.03 Q3928.2 1859.42 3925.86 1857.31 Q3923.52 1855.21 3919.52 1855.21 Q3917.64 1855.21 3915.77 1855.62 Q3913.92 1856.04 3911.97 1856.92 L3911.97 1839.56 Z\" fill=\"#000000\" fill-rule=\"evenodd\" fill-opacity=\"1\" /><path clip-path=\"url(#clip040)\" d=\"M3952.09 1842.64 Q3948.48 1842.64 3946.65 1846.2 Q3944.84 1849.74 3944.84 1856.87 Q3944.84 1863.98 3946.65 1867.55 Q3948.48 1871.09 3952.09 1871.09 Q3955.72 1871.09 3957.53 1867.55 Q3959.36 1863.98 3959.36 1856.87 Q3959.36 1849.74 3957.53 1846.2 Q3955.72 1842.64 3952.09 1842.64 M3952.09 1838.93 Q3957.9 1838.93 3960.95 1843.54 Q3964.03 1848.12 3964.03 1856.87 Q3964.03 1865.6 3960.95 1870.21 Q3957.9 1874.79 3952.09 1874.79 Q3946.28 1874.79 3943.2 1870.21 Q3940.14 1865.6 3940.14 1856.87 Q3940.14 1848.12 3943.2 1843.54 Q3946.28 1838.93 3952.09 1838.93 Z\" fill=\"#000000\" fill-rule=\"evenodd\" fill-opacity=\"1\" /><path clip-path=\"url(#clip040)\" d=\"M2927.04 1921.82 L2927.04 1928.09 Q2923.38 1926.34 2920.13 1925.48 Q2916.88 1924.62 2913.86 1924.62 Q2908.61 1924.62 2905.74 1926.66 Q2902.91 1928.7 2902.91 1932.45 Q2902.91 1935.61 2904.79 1937.23 Q2906.7 1938.82 2911.98 1939.81 L2915.86 1940.6 Q2923.06 1941.97 2926.46 1945.44 Q2929.9 1948.88 2929.9 1954.67 Q2929.9 1961.58 2925.25 1965.14 Q2920.64 1968.71 2911.69 1968.71 Q2908.32 1968.71 2904.5 1967.94 Q2900.71 1967.18 2896.64 1965.68 L2896.64 1959.06 Q2900.55 1961.26 2904.31 1962.37 Q2908.07 1963.49 2911.69 1963.49 Q2917.2 1963.49 2920.19 1961.32 Q2923.18 1959.16 2923.18 1955.15 Q2923.18 1951.65 2921.02 1949.67 Q2918.89 1947.7 2913.99 1946.71 L2910.07 1945.95 Q2902.88 1944.52 2899.66 1941.46 Q2896.45 1938.41 2896.45 1932.96 Q2896.45 1926.66 2900.87 1923.03 Q2905.33 1919.4 2913.13 1919.4 Q2916.47 1919.4 2919.94 1920.01 Q2923.41 1920.61 2927.04 1921.82 Z\" fill=\"#000000\" fill-rule=\"evenodd\" fill-opacity=\"1\" /><path clip-path=\"url(#clip040)\" d=\"M2955.87 1949.86 Q2948.77 1949.86 2946.04 1951.49 Q2943.3 1953.11 2943.3 1957.03 Q2943.3 1960.14 2945.34 1961.99 Q2947.41 1963.81 2950.94 1963.81 Q2955.81 1963.81 2958.74 1960.37 Q2961.7 1956.9 2961.7 1951.17 L2961.7 1949.86 L2955.87 1949.86 M2967.55 1947.45 L2967.55 1967.78 L2961.7 1967.78 L2961.7 1962.37 Q2959.69 1965.62 2956.7 1967.18 Q2953.71 1968.71 2949.38 1968.71 Q2943.91 1968.71 2940.66 1965.65 Q2937.44 1962.56 2937.44 1957.41 Q2937.44 1951.39 2941.45 1948.34 Q2945.5 1945.28 2953.49 1945.28 L2961.7 1945.28 L2961.7 1944.71 Q2961.7 1940.67 2959.02 1938.47 Q2956.38 1936.24 2951.58 1936.24 Q2948.52 1936.24 2945.62 1936.97 Q2942.73 1937.71 2940.05 1939.17 L2940.05 1933.76 Q2943.27 1932.52 2946.29 1931.91 Q2949.32 1931.28 2952.18 1931.28 Q2959.91 1931.28 2963.73 1935.29 Q2967.55 1939.3 2967.55 1947.45 Z\" fill=\"#000000\" fill-rule=\"evenodd\" fill-opacity=\"1\" /><path clip-path=\"url(#clip040)\" d=\"M3007.37 1938.98 Q3009.57 1935.03 3012.62 1933.15 Q3015.68 1931.28 3019.82 1931.28 Q3025.39 1931.28 3028.41 1935.19 Q3031.43 1939.07 3031.43 1946.27 L3031.43 1967.78 L3025.55 1967.78 L3025.55 1946.46 Q3025.55 1941.33 3023.73 1938.85 Q3021.92 1936.37 3018.19 1936.37 Q3013.64 1936.37 3011 1939.39 Q3008.36 1942.42 3008.36 1947.64 L3008.36 1967.78 L3002.47 1967.78 L3002.47 1946.46 Q3002.47 1941.3 3000.66 1938.85 Q2998.84 1936.37 2995.05 1936.37 Q2990.57 1936.37 2987.92 1939.42 Q2985.28 1942.45 2985.28 1947.64 L2985.28 1967.78 L2979.39 1967.78 L2979.39 1932.14 L2985.28 1932.14 L2985.28 1937.67 Q2987.29 1934.4 2990.09 1932.84 Q2992.89 1931.28 2996.74 1931.28 Q3000.62 1931.28 3003.33 1933.25 Q3006.07 1935.22 3007.37 1938.98 Z\" fill=\"#000000\" fill-rule=\"evenodd\" fill-opacity=\"1\" /><path clip-path=\"url(#clip040)\" d=\"M3048.78 1962.44 L3048.78 1981.34 L3042.89 1981.34 L3042.89 1932.14 L3048.78 1932.14 L3048.78 1937.55 Q3050.63 1934.36 3053.43 1932.84 Q3056.26 1931.28 3060.17 1931.28 Q3066.67 1931.28 3070.71 1936.43 Q3074.78 1941.59 3074.78 1949.99 Q3074.78 1958.39 3070.71 1963.55 Q3066.67 1968.71 3060.17 1968.71 Q3056.26 1968.71 3053.43 1967.18 Q3050.63 1965.62 3048.78 1962.44 M3068.7 1949.99 Q3068.7 1943.53 3066.03 1939.87 Q3063.39 1936.18 3058.74 1936.18 Q3054.1 1936.18 3051.42 1939.87 Q3048.78 1943.53 3048.78 1949.99 Q3048.78 1956.45 3051.42 1960.14 Q3054.1 1963.81 3058.74 1963.81 Q3063.39 1963.81 3066.03 1960.14 Q3068.7 1956.45 3068.7 1949.99 Z\" fill=\"#000000\" fill-rule=\"evenodd\" fill-opacity=\"1\" /><path clip-path=\"url(#clip040)\" d=\"M3084.49 1918.26 L3090.35 1918.26 L3090.35 1967.78 L3084.49 1967.78 L3084.49 1918.26 Z\" fill=\"#000000\" fill-rule=\"evenodd\" fill-opacity=\"1\" /><path clip-path=\"url(#clip040)\" d=\"M3133.09 1948.5 L3133.09 1951.36 L3106.17 1951.36 Q3106.55 1957.41 3109.8 1960.59 Q3113.07 1963.74 3118.9 1963.74 Q3122.27 1963.74 3125.42 1962.91 Q3128.61 1962.09 3131.73 1960.43 L3131.73 1965.97 Q3128.57 1967.31 3125.26 1968.01 Q3121.95 1968.71 3118.55 1968.71 Q3110.02 1968.71 3105.02 1963.74 Q3100.06 1958.78 3100.06 1950.31 Q3100.06 1941.56 3104.77 1936.43 Q3109.51 1931.28 3117.53 1931.28 Q3124.72 1931.28 3128.89 1935.92 Q3133.09 1940.54 3133.09 1948.5 M3127.24 1946.78 Q3127.17 1941.97 3124.53 1939.11 Q3121.92 1936.24 3117.59 1936.24 Q3112.69 1936.24 3109.73 1939.01 Q3106.8 1941.78 3106.36 1946.81 L3127.24 1946.78 Z\" fill=\"#000000\" fill-rule=\"evenodd\" fill-opacity=\"1\" /><path clip-path=\"url(#clip040)\" d=\"M3159.23 1932.14 L3165.43 1932.14 L3176.57 1962.05 L3187.71 1932.14 L3193.92 1932.14 L3180.55 1967.78 L3172.59 1967.78 L3159.23 1932.14 Z\" fill=\"#000000\" fill-rule=\"evenodd\" fill-opacity=\"1\" /><path clip-path=\"url(#clip040)\" d=\"M3218.2 1949.86 Q3211.11 1949.86 3208.37 1951.49 Q3205.63 1953.11 3205.63 1957.03 Q3205.63 1960.14 3207.67 1961.99 Q3209.74 1963.81 3213.27 1963.81 Q3218.14 1963.81 3221.07 1960.37 Q3224.03 1956.9 3224.03 1951.17 L3224.03 1949.86 L3218.2 1949.86 M3229.88 1947.45 L3229.88 1967.78 L3224.03 1967.78 L3224.03 1962.37 Q3222.02 1965.62 3219.03 1967.18 Q3216.04 1968.71 3211.71 1968.71 Q3206.24 1968.71 3202.99 1965.65 Q3199.77 1962.56 3199.77 1957.41 Q3199.77 1951.39 3203.79 1948.34 Q3207.83 1945.28 3215.82 1945.28 L3224.03 1945.28 L3224.03 1944.71 Q3224.03 1940.67 3221.35 1938.47 Q3218.71 1936.24 3213.91 1936.24 Q3210.85 1936.24 3207.95 1936.97 Q3205.06 1937.71 3202.38 1939.17 L3202.38 1933.76 Q3205.6 1932.52 3208.62 1931.91 Q3211.65 1931.28 3214.51 1931.28 Q3222.25 1931.28 3226.07 1935.29 Q3229.88 1939.3 3229.88 1947.45 Z\" fill=\"#000000\" fill-rule=\"evenodd\" fill-opacity=\"1\" /><path clip-path=\"url(#clip040)\" d=\"M3241.95 1918.26 L3247.8 1918.26 L3247.8 1967.78 L3241.95 1967.78 L3241.95 1918.26 Z\" fill=\"#000000\" fill-rule=\"evenodd\" fill-opacity=\"1\" /><path clip-path=\"url(#clip040)\" d=\"M3259.45 1953.72 L3259.45 1932.14 L3265.31 1932.14 L3265.31 1953.49 Q3265.31 1958.55 3267.28 1961.1 Q3269.26 1963.61 3273.2 1963.61 Q3277.95 1963.61 3280.68 1960.59 Q3283.45 1957.57 3283.45 1952.35 L3283.45 1932.14 L3289.31 1932.14 L3289.31 1967.78 L3283.45 1967.78 L3283.45 1962.31 Q3281.32 1965.56 3278.49 1967.15 Q3275.69 1968.71 3271.96 1968.71 Q3265.82 1968.71 3262.64 1964.89 Q3259.45 1961.07 3259.45 1953.72 M3274.19 1931.28 L3274.19 1931.28 Z\" fill=\"#000000\" fill-rule=\"evenodd\" fill-opacity=\"1\" /><path clip-path=\"url(#clip040)\" d=\"M3331.86 1948.5 L3331.86 1951.36 L3304.94 1951.36 Q3305.32 1957.41 3308.56 1960.59 Q3311.84 1963.74 3317.67 1963.74 Q3321.04 1963.74 3324.19 1962.91 Q3327.38 1962.09 3330.49 1960.43 L3330.49 1965.97 Q3327.34 1967.31 3324.03 1968.01 Q3320.72 1968.71 3317.32 1968.71 Q3308.79 1968.71 3303.79 1963.74 Q3298.83 1958.78 3298.83 1950.31 Q3298.83 1941.56 3303.54 1936.43 Q3308.28 1931.28 3316.3 1931.28 Q3323.49 1931.28 3327.66 1935.92 Q3331.86 1940.54 3331.86 1948.5 M3326.01 1946.78 Q3325.94 1941.97 3323.3 1939.11 Q3320.69 1936.24 3316.36 1936.24 Q3311.46 1936.24 3308.5 1939.01 Q3305.57 1941.78 3305.13 1946.81 L3326.01 1946.78 Z\" fill=\"#000000\" fill-rule=\"evenodd\" fill-opacity=\"1\" /><polyline clip-path=\"url(#clip045)\" style=\"stroke:#000000; stroke-linecap:butt; stroke-linejoin:round; stroke-width:2; stroke-opacity:0.1; fill:none\" points=\"\n",
       "  2275.56,1780.37 3952.76,1780.37 \n",
       "  \"/>\n",
       "<polyline clip-path=\"url(#clip045)\" style=\"stroke:#000000; stroke-linecap:butt; stroke-linejoin:round; stroke-width:2; stroke-opacity:0.1; fill:none\" points=\"\n",
       "  2275.56,1667.23 3952.76,1667.23 \n",
       "  \"/>\n",
       "<polyline clip-path=\"url(#clip045)\" style=\"stroke:#000000; stroke-linecap:butt; stroke-linejoin:round; stroke-width:2; stroke-opacity:0.1; fill:none\" points=\"\n",
       "  2275.56,1554.09 3952.76,1554.09 \n",
       "  \"/>\n",
       "<polyline clip-path=\"url(#clip045)\" style=\"stroke:#000000; stroke-linecap:butt; stroke-linejoin:round; stroke-width:2; stroke-opacity:0.1; fill:none\" points=\"\n",
       "  2275.56,1440.94 3952.76,1440.94 \n",
       "  \"/>\n",
       "<polyline clip-path=\"url(#clip045)\" style=\"stroke:#000000; stroke-linecap:butt; stroke-linejoin:round; stroke-width:2; stroke-opacity:0.1; fill:none\" points=\"\n",
       "  2275.56,1327.8 3952.76,1327.8 \n",
       "  \"/>\n",
       "<polyline clip-path=\"url(#clip045)\" style=\"stroke:#000000; stroke-linecap:butt; stroke-linejoin:round; stroke-width:2; stroke-opacity:0.1; fill:none\" points=\"\n",
       "  2275.56,1214.66 3952.76,1214.66 \n",
       "  \"/>\n",
       "<polyline clip-path=\"url(#clip040)\" style=\"stroke:#000000; stroke-linecap:butt; stroke-linejoin:round; stroke-width:4; stroke-opacity:1; fill:none\" points=\"\n",
       "  2275.56,1798.92 2275.56,1131.03 \n",
       "  \"/>\n",
       "<polyline clip-path=\"url(#clip040)\" style=\"stroke:#000000; stroke-linecap:butt; stroke-linejoin:round; stroke-width:4; stroke-opacity:1; fill:none\" points=\"\n",
       "  2275.56,1780.37 2294.45,1780.37 \n",
       "  \"/>\n",
       "<polyline clip-path=\"url(#clip040)\" style=\"stroke:#000000; stroke-linecap:butt; stroke-linejoin:round; stroke-width:4; stroke-opacity:1; fill:none\" points=\"\n",
       "  2275.56,1667.23 2294.45,1667.23 \n",
       "  \"/>\n",
       "<polyline clip-path=\"url(#clip040)\" style=\"stroke:#000000; stroke-linecap:butt; stroke-linejoin:round; stroke-width:4; stroke-opacity:1; fill:none\" points=\"\n",
       "  2275.56,1554.09 2294.45,1554.09 \n",
       "  \"/>\n",
       "<polyline clip-path=\"url(#clip040)\" style=\"stroke:#000000; stroke-linecap:butt; stroke-linejoin:round; stroke-width:4; stroke-opacity:1; fill:none\" points=\"\n",
       "  2275.56,1440.94 2294.45,1440.94 \n",
       "  \"/>\n",
       "<polyline clip-path=\"url(#clip040)\" style=\"stroke:#000000; stroke-linecap:butt; stroke-linejoin:round; stroke-width:4; stroke-opacity:1; fill:none\" points=\"\n",
       "  2275.56,1327.8 2294.45,1327.8 \n",
       "  \"/>\n",
       "<polyline clip-path=\"url(#clip040)\" style=\"stroke:#000000; stroke-linecap:butt; stroke-linejoin:round; stroke-width:4; stroke-opacity:1; fill:none\" points=\"\n",
       "  2275.56,1214.66 2294.45,1214.66 \n",
       "  \"/>\n",
       "<path clip-path=\"url(#clip040)\" d=\"M2158.38 1766.17 Q2154.77 1766.17 2152.94 1769.74 Q2151.14 1773.28 2151.14 1780.41 Q2151.14 1787.52 2152.94 1791.08 Q2154.77 1794.62 2158.38 1794.62 Q2162.01 1794.62 2163.82 1791.08 Q2165.65 1787.52 2165.65 1780.41 Q2165.65 1773.28 2163.82 1769.74 Q2162.01 1766.17 2158.38 1766.17 M2158.38 1762.47 Q2164.19 1762.47 2167.25 1767.08 Q2170.32 1771.66 2170.32 1780.41 Q2170.32 1789.14 2167.25 1793.74 Q2164.19 1798.33 2158.38 1798.33 Q2152.57 1798.33 2149.49 1793.74 Q2146.44 1789.14 2146.44 1780.41 Q2146.44 1771.66 2149.49 1767.08 Q2152.57 1762.47 2158.38 1762.47 Z\" fill=\"#000000\" fill-rule=\"evenodd\" fill-opacity=\"1\" /><path clip-path=\"url(#clip040)\" d=\"M2178.54 1791.78 L2183.43 1791.78 L2183.43 1797.65 L2178.54 1797.65 L2178.54 1791.78 Z\" fill=\"#000000\" fill-rule=\"evenodd\" fill-opacity=\"1\" /><path clip-path=\"url(#clip040)\" d=\"M2203.61 1766.17 Q2200 1766.17 2198.17 1769.74 Q2196.37 1773.28 2196.37 1780.41 Q2196.37 1787.52 2198.17 1791.08 Q2200 1794.62 2203.61 1794.62 Q2207.25 1794.62 2209.05 1791.08 Q2210.88 1787.52 2210.88 1780.41 Q2210.88 1773.28 2209.05 1769.74 Q2207.25 1766.17 2203.61 1766.17 M2203.61 1762.47 Q2209.42 1762.47 2212.48 1767.08 Q2215.56 1771.66 2215.56 1780.41 Q2215.56 1789.14 2212.48 1793.74 Q2209.42 1798.33 2203.61 1798.33 Q2197.8 1798.33 2194.72 1793.74 Q2191.67 1789.14 2191.67 1780.41 Q2191.67 1771.66 2194.72 1767.08 Q2197.8 1762.47 2203.61 1762.47 Z\" fill=\"#000000\" fill-rule=\"evenodd\" fill-opacity=\"1\" /><path clip-path=\"url(#clip040)\" d=\"M2159.38 1653.03 Q2155.76 1653.03 2153.94 1656.59 Q2152.13 1660.14 2152.13 1667.27 Q2152.13 1674.37 2153.94 1677.94 Q2155.76 1681.48 2159.38 1681.48 Q2163.01 1681.48 2164.82 1677.94 Q2166.64 1674.37 2166.64 1667.27 Q2166.64 1660.14 2164.82 1656.59 Q2163.01 1653.03 2159.38 1653.03 M2159.38 1649.33 Q2165.19 1649.33 2168.24 1653.93 Q2171.32 1658.52 2171.32 1667.27 Q2171.32 1675.99 2168.24 1680.6 Q2165.19 1685.18 2159.38 1685.18 Q2153.57 1685.18 2150.49 1680.6 Q2147.43 1675.99 2147.43 1667.27 Q2147.43 1658.52 2150.49 1653.93 Q2153.57 1649.33 2159.38 1649.33 Z\" fill=\"#000000\" fill-rule=\"evenodd\" fill-opacity=\"1\" /><path clip-path=\"url(#clip040)\" d=\"M2179.54 1678.63 L2184.42 1678.63 L2184.42 1684.51 L2179.54 1684.51 L2179.54 1678.63 Z\" fill=\"#000000\" fill-rule=\"evenodd\" fill-opacity=\"1\" /><path clip-path=\"url(#clip040)\" d=\"M2194.65 1649.95 L2213.01 1649.95 L2213.01 1653.89 L2198.94 1653.89 L2198.94 1662.36 Q2199.95 1662.01 2200.97 1661.85 Q2201.99 1661.66 2203.01 1661.66 Q2208.8 1661.66 2212.18 1664.84 Q2215.56 1668.01 2215.56 1673.42 Q2215.56 1679 2212.08 1682.1 Q2208.61 1685.18 2202.29 1685.18 Q2200.12 1685.18 2197.85 1684.81 Q2195.6 1684.44 2193.2 1683.7 L2193.2 1679 Q2195.28 1680.14 2197.5 1680.69 Q2199.72 1681.25 2202.2 1681.25 Q2206.2 1681.25 2208.54 1679.14 Q2210.88 1677.03 2210.88 1673.42 Q2210.88 1669.81 2208.54 1667.71 Q2206.2 1665.6 2202.2 1665.6 Q2200.32 1665.6 2198.45 1666.02 Q2196.6 1666.43 2194.65 1667.31 L2194.65 1649.95 Z\" fill=\"#000000\" fill-rule=\"evenodd\" fill-opacity=\"1\" /><path clip-path=\"url(#clip040)\" d=\"M2149.19 1567.43 L2156.83 1567.43 L2156.83 1541.07 L2148.52 1542.73 L2148.52 1538.47 L2156.78 1536.81 L2161.46 1536.81 L2161.46 1567.43 L2169.1 1567.43 L2169.1 1571.37 L2149.19 1571.37 L2149.19 1567.43 Z\" fill=\"#000000\" fill-rule=\"evenodd\" fill-opacity=\"1\" /><path clip-path=\"url(#clip040)\" d=\"M2178.54 1565.49 L2183.43 1565.49 L2183.43 1571.37 L2178.54 1571.37 L2178.54 1565.49 Z\" fill=\"#000000\" fill-rule=\"evenodd\" fill-opacity=\"1\" /><path clip-path=\"url(#clip040)\" d=\"M2203.61 1539.89 Q2200 1539.89 2198.17 1543.45 Q2196.37 1546.99 2196.37 1554.12 Q2196.37 1561.23 2198.17 1564.79 Q2200 1568.33 2203.61 1568.33 Q2207.25 1568.33 2209.05 1564.79 Q2210.88 1561.23 2210.88 1554.12 Q2210.88 1546.99 2209.05 1543.45 Q2207.25 1539.89 2203.61 1539.89 M2203.61 1536.18 Q2209.42 1536.18 2212.48 1540.79 Q2215.56 1545.37 2215.56 1554.12 Q2215.56 1562.85 2212.48 1567.46 Q2209.42 1572.04 2203.61 1572.04 Q2197.8 1572.04 2194.72 1567.46 Q2191.67 1562.85 2191.67 1554.12 Q2191.67 1545.37 2194.72 1540.79 Q2197.8 1536.18 2203.61 1536.18 Z\" fill=\"#000000\" fill-rule=\"evenodd\" fill-opacity=\"1\" /><path clip-path=\"url(#clip040)\" d=\"M2150.19 1454.29 L2157.82 1454.29 L2157.82 1427.92 L2149.51 1429.59 L2149.51 1425.33 L2157.78 1423.66 L2162.45 1423.66 L2162.45 1454.29 L2170.09 1454.29 L2170.09 1458.22 L2150.19 1458.22 L2150.19 1454.29 Z\" fill=\"#000000\" fill-rule=\"evenodd\" fill-opacity=\"1\" /><path clip-path=\"url(#clip040)\" d=\"M2179.54 1452.34 L2184.42 1452.34 L2184.42 1458.22 L2179.54 1458.22 L2179.54 1452.34 Z\" fill=\"#000000\" fill-rule=\"evenodd\" fill-opacity=\"1\" /><path clip-path=\"url(#clip040)\" d=\"M2194.65 1423.66 L2213.01 1423.66 L2213.01 1427.6 L2198.94 1427.6 L2198.94 1436.07 Q2199.95 1435.72 2200.97 1435.56 Q2201.99 1435.38 2203.01 1435.38 Q2208.8 1435.38 2212.18 1438.55 Q2215.56 1441.72 2215.56 1447.14 Q2215.56 1452.71 2212.08 1455.82 Q2208.61 1458.89 2202.29 1458.89 Q2200.12 1458.89 2197.85 1458.52 Q2195.6 1458.15 2193.2 1457.41 L2193.2 1452.71 Q2195.28 1453.85 2197.5 1454.4 Q2199.72 1454.96 2202.2 1454.96 Q2206.2 1454.96 2208.54 1452.85 Q2210.88 1450.75 2210.88 1447.14 Q2210.88 1443.52 2208.54 1441.42 Q2206.2 1439.31 2202.2 1439.31 Q2200.32 1439.31 2198.45 1439.73 Q2196.6 1440.14 2194.65 1441.02 L2194.65 1423.66 Z\" fill=\"#000000\" fill-rule=\"evenodd\" fill-opacity=\"1\" /><path clip-path=\"url(#clip040)\" d=\"M2152.41 1341.14 L2168.73 1341.14 L2168.73 1345.08 L2146.78 1345.08 L2146.78 1341.14 Q2149.45 1338.39 2154.03 1333.76 Q2158.64 1329.11 2159.82 1327.76 Q2162.06 1325.24 2162.94 1323.51 Q2163.84 1321.75 2163.84 1320.06 Q2163.84 1317.3 2161.9 1315.57 Q2159.98 1313.83 2156.88 1313.83 Q2154.68 1313.83 2152.22 1314.59 Q2149.79 1315.36 2147.01 1316.91 L2147.01 1312.19 Q2149.84 1311.05 2152.29 1310.47 Q2154.75 1309.89 2156.78 1309.89 Q2162.15 1309.89 2165.35 1312.58 Q2168.54 1315.26 2168.54 1319.76 Q2168.54 1321.89 2167.73 1323.81 Q2166.95 1325.7 2164.84 1328.3 Q2164.26 1328.97 2161.16 1332.19 Q2158.06 1335.38 2152.41 1341.14 Z\" fill=\"#000000\" fill-rule=\"evenodd\" fill-opacity=\"1\" /><path clip-path=\"url(#clip040)\" d=\"M2178.54 1339.2 L2183.43 1339.2 L2183.43 1345.08 L2178.54 1345.08 L2178.54 1339.2 Z\" fill=\"#000000\" fill-rule=\"evenodd\" fill-opacity=\"1\" /><path clip-path=\"url(#clip040)\" d=\"M2203.61 1313.6 Q2200 1313.6 2198.17 1317.16 Q2196.37 1320.7 2196.37 1327.83 Q2196.37 1334.94 2198.17 1338.51 Q2200 1342.05 2203.61 1342.05 Q2207.25 1342.05 2209.05 1338.51 Q2210.88 1334.94 2210.88 1327.83 Q2210.88 1320.7 2209.05 1317.16 Q2207.25 1313.6 2203.61 1313.6 M2203.61 1309.89 Q2209.42 1309.89 2212.48 1314.5 Q2215.56 1319.08 2215.56 1327.83 Q2215.56 1336.56 2212.48 1341.17 Q2209.42 1345.75 2203.61 1345.75 Q2197.8 1345.75 2194.72 1341.17 Q2191.67 1336.56 2191.67 1327.83 Q2191.67 1319.08 2194.72 1314.5 Q2197.8 1309.89 2203.61 1309.89 Z\" fill=\"#000000\" fill-rule=\"evenodd\" fill-opacity=\"1\" /><path clip-path=\"url(#clip040)\" d=\"M2153.4 1228 L2169.72 1228 L2169.72 1231.94 L2147.78 1231.94 L2147.78 1228 Q2150.44 1225.25 2155.02 1220.62 Q2159.63 1215.96 2160.81 1214.62 Q2163.06 1212.1 2163.94 1210.36 Q2164.84 1208.6 2164.84 1206.91 Q2164.84 1204.16 2162.89 1202.42 Q2160.97 1200.69 2157.87 1200.69 Q2155.67 1200.69 2153.22 1201.45 Q2150.79 1202.21 2148.01 1203.76 L2148.01 1199.04 Q2150.83 1197.91 2153.29 1197.33 Q2155.74 1196.75 2157.78 1196.75 Q2163.15 1196.75 2166.34 1199.44 Q2169.54 1202.12 2169.54 1206.61 Q2169.54 1208.74 2168.73 1210.66 Q2167.94 1212.56 2165.83 1215.15 Q2165.26 1215.82 2162.15 1219.04 Q2159.05 1222.24 2153.4 1228 Z\" fill=\"#000000\" fill-rule=\"evenodd\" fill-opacity=\"1\" /><path clip-path=\"url(#clip040)\" d=\"M2179.54 1226.06 L2184.42 1226.06 L2184.42 1231.94 L2179.54 1231.94 L2179.54 1226.06 Z\" fill=\"#000000\" fill-rule=\"evenodd\" fill-opacity=\"1\" /><path clip-path=\"url(#clip040)\" d=\"M2194.65 1197.38 L2213.01 1197.38 L2213.01 1201.31 L2198.94 1201.31 L2198.94 1209.78 Q2199.95 1209.44 2200.97 1209.27 Q2201.99 1209.09 2203.01 1209.09 Q2208.8 1209.09 2212.18 1212.26 Q2215.56 1215.43 2215.56 1220.85 Q2215.56 1226.43 2212.08 1229.53 Q2208.61 1232.61 2202.29 1232.61 Q2200.12 1232.61 2197.85 1232.24 Q2195.6 1231.87 2193.2 1231.13 L2193.2 1226.43 Q2195.28 1227.56 2197.5 1228.12 Q2199.72 1228.67 2202.2 1228.67 Q2206.2 1228.67 2208.54 1226.57 Q2210.88 1224.46 2210.88 1220.85 Q2210.88 1217.24 2208.54 1215.13 Q2206.2 1213.02 2202.2 1213.02 Q2200.32 1213.02 2198.45 1213.44 Q2196.6 1213.86 2194.65 1214.74 L2194.65 1197.38 Z\" fill=\"#000000\" fill-rule=\"evenodd\" fill-opacity=\"1\" /><path clip-path=\"url(#clip040)\" d=\"M2029.94 1578.29 L2066.9 1578.29 L2066.9 1570.52 Q2066.9 1560.68 2062.44 1556.13 Q2057.98 1551.55 2048.37 1551.55 Q2038.82 1551.55 2034.4 1556.13 Q2029.94 1560.68 2029.94 1570.52 L2029.94 1578.29 M2024.66 1584.71 L2024.66 1571.51 Q2024.66 1557.69 2030.42 1551.23 Q2036.15 1544.77 2048.37 1544.77 Q2060.66 1544.77 2066.42 1551.26 Q2072.18 1557.76 2072.18 1571.51 L2072.18 1584.71 L2024.66 1584.71 Z\" fill=\"#000000\" fill-rule=\"evenodd\" fill-opacity=\"1\" /><path clip-path=\"url(#clip040)\" d=\"M2052.89 1504.28 L2055.76 1504.28 L2055.76 1531.21 Q2061.8 1530.83 2064.99 1527.58 Q2068.14 1524.3 2068.14 1518.48 Q2068.14 1515.11 2067.31 1511.95 Q2066.48 1508.77 2064.83 1505.65 L2070.37 1505.65 Q2071.7 1508.8 2072.4 1512.11 Q2073.1 1515.42 2073.1 1518.83 Q2073.1 1527.36 2068.14 1532.36 Q2063.17 1537.32 2054.71 1537.32 Q2045.95 1537.32 2040.83 1532.61 Q2035.67 1527.87 2035.67 1519.85 Q2035.67 1512.66 2040.32 1508.49 Q2044.93 1504.28 2052.89 1504.28 M2051.17 1510.14 Q2046.37 1510.2 2043.5 1512.85 Q2040.64 1515.46 2040.64 1519.78 Q2040.64 1524.69 2043.41 1527.65 Q2046.18 1530.57 2051.21 1531.02 L2051.17 1510.14 Z\" fill=\"#000000\" fill-rule=\"evenodd\" fill-opacity=\"1\" /><path clip-path=\"url(#clip040)\" d=\"M2050.66 1465.04 L2072.18 1465.04 L2072.18 1470.9 L2050.85 1470.9 Q2045.79 1470.9 2043.28 1472.87 Q2040.77 1474.84 2040.77 1478.79 Q2040.77 1483.53 2043.79 1486.27 Q2046.81 1489.01 2052.03 1489.01 L2072.18 1489.01 L2072.18 1494.89 L2036.53 1494.89 L2036.53 1489.01 L2042.07 1489.01 Q2038.86 1486.91 2037.26 1484.07 Q2035.67 1481.21 2035.67 1477.48 Q2035.67 1471.34 2039.49 1468.19 Q2043.28 1465.04 2050.66 1465.04 Z\" fill=\"#000000\" fill-rule=\"evenodd\" fill-opacity=\"1\" /><path clip-path=\"url(#clip040)\" d=\"M2037.58 1430.63 L2043.12 1430.63 Q2041.85 1433.12 2041.21 1435.79 Q2040.57 1438.46 2040.57 1441.33 Q2040.57 1445.69 2041.91 1447.88 Q2043.25 1450.05 2045.92 1450.05 Q2047.96 1450.05 2049.14 1448.49 Q2050.28 1446.93 2051.33 1442.22 L2051.78 1440.21 Q2053.11 1433.97 2055.57 1431.37 Q2057.98 1428.72 2062.35 1428.72 Q2067.31 1428.72 2070.21 1432.67 Q2073.1 1436.58 2073.1 1443.46 Q2073.1 1446.32 2072.53 1449.44 Q2071.99 1452.53 2070.88 1455.97 L2064.83 1455.97 Q2066.51 1452.72 2067.37 1449.57 Q2068.2 1446.42 2068.2 1443.33 Q2068.2 1439.19 2066.8 1436.97 Q2065.37 1434.74 2062.79 1434.74 Q2060.4 1434.74 2059.13 1436.36 Q2057.86 1437.95 2056.68 1443.4 L2056.2 1445.43 Q2055.06 1450.88 2052.7 1453.29 Q2050.31 1455.71 2046.18 1455.71 Q2041.15 1455.71 2038.41 1452.15 Q2035.67 1448.58 2035.67 1442.03 Q2035.67 1438.78 2036.15 1435.92 Q2036.63 1433.05 2037.58 1430.63 Z\" fill=\"#000000\" fill-rule=\"evenodd\" fill-opacity=\"1\" /><path clip-path=\"url(#clip040)\" d=\"M2036.53 1419.4 L2036.53 1413.54 L2072.18 1413.54 L2072.18 1419.4 L2036.53 1419.4 M2022.65 1419.4 L2022.65 1413.54 L2030.07 1413.54 L2030.07 1419.4 L2022.65 1419.4 Z\" fill=\"#000000\" fill-rule=\"evenodd\" fill-opacity=\"1\" /><path clip-path=\"url(#clip040)\" d=\"M2026.41 1395.49 L2036.53 1395.49 L2036.53 1383.43 L2041.08 1383.43 L2041.08 1395.49 L2060.44 1395.49 Q2064.8 1395.49 2066.04 1394.32 Q2067.28 1393.11 2067.28 1389.45 L2067.28 1383.43 L2072.18 1383.43 L2072.18 1389.45 Q2072.18 1396.23 2069.67 1398.8 Q2067.12 1401.38 2060.44 1401.38 L2041.08 1401.38 L2041.08 1405.68 L2036.53 1405.68 L2036.53 1401.38 L2026.41 1401.38 L2026.41 1395.49 Z\" fill=\"#000000\" fill-rule=\"evenodd\" fill-opacity=\"1\" /><path clip-path=\"url(#clip040)\" d=\"M2075.49 1360.9 Q2081.86 1363.38 2083.8 1365.73 Q2085.74 1368.09 2085.74 1372.04 L2085.74 1376.72 L2080.84 1376.72 L2080.84 1373.28 Q2080.84 1370.86 2079.69 1369.52 Q2078.55 1368.19 2074.28 1366.56 L2071.61 1365.51 L2036.53 1379.93 L2036.53 1373.72 L2064.41 1362.58 L2036.53 1351.44 L2036.53 1345.24 L2075.49 1360.9 Z\" fill=\"#000000\" fill-rule=\"evenodd\" fill-opacity=\"1\" /><path clip-path=\"url(#clip040)\" d=\"M3102.04 1069.78 L3102.04 1089.83 L3094.55 1089.83 L3094.55 1027.49 Q3094.55 1009.02 3111.81 1009.02 Q3129.39 1009.02 3129.39 1024.61 Q3129.39 1035.71 3122.42 1039.76 Q3133.76 1043.41 3133.76 1054.23 Q3133.76 1073.43 3114.24 1073.43 Q3105.65 1073.43 3102.04 1069.78 M3102.04 1060.06 Q3106.54 1067.07 3114.52 1067.07 Q3126.19 1067.07 3126.19 1054.35 Q3126.19 1042.92 3107.39 1043.81 L3107.39 1036.93 Q3122.1 1036.93 3122.1 1023.97 Q3122.1 1015.09 3112.62 1015.09 Q3102.04 1015.09 3102.04 1027.73 L3102.04 1060.06 Z\" fill=\"#000000\" fill-rule=\"evenodd\" fill-opacity=\"1\" /><polyline clip-path=\"url(#clip045)\" style=\"stroke:#009af9; stroke-linecap:butt; stroke-linejoin:round; stroke-width:4; stroke-opacity:1; fill:none\" points=\"\n",
       "  2323.02,1775.46 2332.41,1775.28 2341.79,1775.28 2351.17,1775.4 2360.55,1775.58 2369.93,1775.77 2379.32,1775.9 2388.7,1775.93 2398.08,1775.84 2407.46,1775.63 \n",
       "  2416.84,1775.33 2426.22,1774.94 2435.61,1774.5 2444.99,1773.99 2454.37,1773.41 2463.75,1772.73 2473.13,1771.94 2482.52,1770.99 2491.9,1769.86 2501.28,1768.5 \n",
       "  2510.66,1766.88 2520.04,1764.94 2529.43,1762.65 2538.81,1759.94 2548.19,1756.79 2557.57,1753.18 2566.95,1749.09 2576.34,1744.55 2585.72,1739.57 2595.1,1734.19 \n",
       "  2604.48,1728.42 2613.86,1722.27 2623.24,1715.7 2632.63,1708.66 2642.01,1701.05 2651.39,1692.77 2660.77,1683.7 2670.15,1673.77 2679.54,1662.97 2688.92,1651.34 \n",
       "  2698.3,1639.03 2707.68,1626.24 2717.06,1613.22 2726.45,1600.26 2735.83,1587.63 2745.21,1575.55 2754.59,1564.12 2763.97,1553.36 2773.35,1543.07 2782.74,1532.95 \n",
       "  2792.12,1522.59 2801.5,1511.53 2810.88,1499.36 2820.26,1485.81 2829.65,1470.76 2839.03,1454.3 2848.41,1436.68 2857.79,1418.28 2867.17,1399.57 2876.56,1381 \n",
       "  2885.94,1362.98 2895.32,1345.79 2904.7,1329.61 2914.08,1314.42 2923.47,1300.08 2932.85,1286.33 2942.23,1272.89 2951.61,1259.47 2960.99,1245.92 2970.37,1232.25 \n",
       "  2979.76,1218.61 2989.14,1205.34 2998.52,1192.85 3007.9,1181.58 3017.28,1171.91 3026.67,1164.11 3036.05,1158.34 3045.43,1154.59 3054.81,1152.78 3064.19,1152.75 \n",
       "  3073.58,1154.27 3082.96,1157.09 3092.34,1160.98 3101.72,1165.73 3111.1,1171.23 3120.49,1177.47 3129.87,1184.57 3139.25,1192.74 3148.63,1202.27 3158.01,1213.39 \n",
       "  3167.39,1226.28 3176.78,1240.94 3186.16,1257.18 3195.54,1274.62 3204.92,1292.77 3214.3,1311.04 3223.69,1328.84 3233.07,1345.64 3242.45,1361.02 3251.83,1374.73 \n",
       "  3261.21,1386.66 3270.6,1396.94 3279.98,1405.88 3289.36,1413.95 3298.74,1421.76 3308.12,1429.93 3317.5,1438.99 3326.89,1449.34 3336.27,1461.12 3345.65,1474.25 \n",
       "  3355.03,1488.48 3364.41,1503.41 3373.8,1518.67 3383.18,1533.89 3392.56,1548.83 3401.94,1563.38 3411.32,1577.5 3420.71,1591.22 3430.09,1604.57 3439.47,1617.6 \n",
       "  3448.85,1630.31 3458.23,1642.7 3467.62,1654.73 3477,1666.38 3486.38,1677.58 3495.76,1688.27 3505.14,1698.36 3514.52,1707.76 3523.91,1716.39 3533.29,1724.17 \n",
       "  3542.67,1731.07 3552.05,1737.08 3561.43,1742.25 3570.82,1746.63 3580.2,1750.3 3589.58,1753.36 3598.96,1755.86 3608.34,1757.88 3617.73,1759.45 3627.11,1760.59 \n",
       "  3636.49,1761.33 3645.87,1761.72 3655.25,1761.83 3664.64,1761.79 3674.02,1761.76 3683.4,1761.89 3692.78,1762.32 3702.16,1763.1 3711.54,1764.22 3720.93,1765.57 \n",
       "  3730.31,1767.01 3739.69,1768.36 3749.07,1769.51 3758.45,1770.36 3767.84,1770.92 3777.22,1771.23 3786.6,1771.41 3795.98,1771.55 3805.36,1771.75 3814.75,1772.09 \n",
       "  3824.13,1772.58 3833.51,1773.24 3842.89,1774.02 3852.27,1774.89 \n",
       "  \"/>\n",
       "<polyline clip-path=\"url(#clip045)\" style=\"stroke:#e26f46; stroke-linecap:butt; stroke-linejoin:round; stroke-width:4; stroke-opacity:1; fill:none\" points=\"\n",
       "  2381.31,1777.27 2390.66,1776.86 2400.01,1776.45 2409.36,1776.02 2418.71,1775.57 2428.06,1775.09 2437.41,1774.56 2446.76,1773.99 2456.1,1773.39 2465.45,1772.77 \n",
       "  2474.8,1772.12 2484.15,1771.42 2493.5,1770.62 2502.85,1769.66 2512.2,1768.45 2521.55,1766.94 2530.9,1765.06 2540.25,1762.82 2549.6,1760.24 2558.95,1757.37 \n",
       "  2568.3,1754.27 2577.65,1750.98 2587,1747.5 2596.35,1743.76 2605.7,1739.65 2615.05,1735.01 2624.4,1729.66 2633.75,1723.46 2643.1,1716.29 2652.45,1708.12 \n",
       "  2661.8,1699 2671.14,1689.05 2680.49,1678.43 2689.84,1667.33 2699.19,1655.88 2708.54,1644.18 2717.89,1632.23 2727.24,1619.96 2736.59,1607.27 2745.94,1594.05 \n",
       "  2755.29,1580.22 2764.64,1565.78 2773.99,1550.75 2783.34,1535.21 2792.69,1519.27 2802.04,1502.99 2811.39,1486.44 2820.74,1469.63 2830.09,1452.56 2839.44,1435.23 \n",
       "  2848.79,1417.61 2858.14,1399.67 2867.49,1381.35 2876.84,1362.59 2886.18,1343.36 2895.53,1323.74 2904.88,1303.94 2914.23,1284.38 2923.58,1265.63 2932.93,1248.32 \n",
       "  2942.28,1233.04 2951.63,1220.18 2960.98,1209.86 2970.33,1201.88 2979.68,1195.78 2989.03,1190.98 2998.38,1186.9 3007.73,1183.07 3017.08,1179.29 3026.43,1175.59 \n",
       "  3035.78,1172.21 3045.13,1169.55 3054.48,1168.04 3063.83,1168.02 3073.18,1169.66 3082.53,1172.92 3091.88,1177.56 3101.23,1183.17 3110.57,1189.29 3119.92,1195.49 \n",
       "  3129.27,1201.45 3138.62,1207.04 3147.97,1212.26 3157.32,1217.3 3166.67,1222.47 3176.02,1228.19 3185.37,1234.93 3194.72,1243.19 3204.07,1253.41 3213.42,1265.91 \n",
       "  3222.77,1280.78 3232.12,1297.86 3241.47,1316.67 3250.82,1336.51 3260.17,1356.55 3269.52,1376.01 3278.87,1394.31 3288.22,1411.18 3297.57,1426.66 3306.92,1441.06 \n",
       "  3316.27,1454.86 3325.61,1468.54 3334.96,1482.47 3344.31,1496.87 3353.66,1511.78 3363.01,1527.09 3372.36,1542.58 3381.71,1557.98 3391.06,1572.97 3400.41,1587.27 \n",
       "  3409.76,1600.63 3419.11,1612.9 3428.46,1624.04 3437.81,1634.14 3447.16,1643.41 3456.51,1652.11 3465.86,1660.52 3475.21,1668.82 3484.56,1677.1 3493.91,1685.35 \n",
       "  3503.26,1693.44 3512.61,1701.25 3521.96,1708.61 3531.31,1715.43 3540.65,1721.67 3550,1727.29 3559.35,1732.3 3568.7,1736.66 3578.05,1740.36 3587.4,1743.35 \n",
       "  3596.75,1745.62 3606.1,1747.18 3615.45,1748.11 3624.8,1748.57 3634.15,1748.75 3643.5,1748.9 3652.85,1749.24 3662.2,1749.96 3671.55,1751.18 3680.9,1752.92 \n",
       "  3690.25,1755.11 3699.6,1757.64 3708.95,1760.33 3718.3,1763.02 3727.65,1765.57 3737,1767.87 3746.35,1769.89 3755.69,1771.62 3765.04,1773.09 3774.39,1774.35 \n",
       "  3783.74,1775.43 3793.09,1776.37 3802.44,1777.18 3811.79,1777.86 3821.14,1778.4 3830.49,1778.8 3839.84,1779.06 3849.19,1779.19 3858.54,1779.2 3867.89,1779.13 \n",
       "  3877.24,1779.02 3886.59,1778.9 3895.94,1778.8 3905.29,1778.76 \n",
       "  \"/>\n",
       "<polyline clip-path=\"url(#clip045)\" style=\"stroke:#3da44d; stroke-linecap:butt; stroke-linejoin:round; stroke-width:4; stroke-opacity:1; fill:none\" points=\"\n",
       "  2417.29,1776.88 2426.31,1776.22 2435.33,1775.46 2444.35,1774.57 2453.37,1773.5 2462.39,1772.19 2471.41,1770.59 2480.43,1768.7 2489.45,1766.51 2498.48,1764.08 \n",
       "  2507.5,1761.51 2516.52,1758.91 2525.54,1756.41 2534.56,1754.09 2543.58,1751.98 2552.6,1750.03 2561.62,1748.12 2570.64,1746.06 2579.66,1743.63 2588.68,1740.63 \n",
       "  2597.7,1736.9 2606.72,1732.35 2615.74,1726.98 2624.76,1720.85 2633.78,1714.11 2642.8,1706.91 2651.82,1699.42 2660.84,1691.75 2669.86,1683.96 2678.88,1676.02 \n",
       "  2687.9,1667.85 2696.92,1659.3 2705.94,1650.19 2714.97,1640.36 2723.99,1629.66 2733.01,1617.99 2742.03,1605.35 2751.05,1591.76 2760.07,1577.35 2769.09,1562.26 \n",
       "  2778.11,1546.7 2787.13,1530.88 2796.15,1514.99 2805.17,1499.21 2814.19,1483.67 2823.21,1468.47 2832.23,1453.65 2841.25,1439.22 2850.27,1425.18 2859.29,1411.5 \n",
       "  2868.31,1398.15 2877.33,1385.09 2886.35,1372.28 2895.37,1359.63 2904.39,1347.07 2913.41,1334.48 2922.43,1321.75 2931.46,1308.73 2940.48,1295.31 2949.5,1281.38 \n",
       "  2958.52,1266.9 2967.54,1251.92 2976.56,1236.61 2985.58,1221.31 2994.6,1206.49 3003.62,1192.73 3012.64,1180.64 3021.66,1170.77 3030.68,1163.49 3039.7,1158.9 \n",
       "  3048.72,1156.79 3057.74,1156.65 3066.76,1157.76 3075.78,1159.27 3084.8,1160.39 3093.82,1160.56 3102.84,1159.51 3111.86,1157.36 3120.88,1154.55 3129.9,1151.8 \n",
       "  3138.92,1149.99 3147.95,1149.93 3156.97,1152.37 3165.99,1157.78 3175.01,1166.41 3184.03,1178.28 3193.05,1193.17 3202.07,1210.76 3211.09,1230.64 3220.11,1252.32 \n",
       "  3229.13,1275.27 3238.15,1298.92 3247.17,1322.67 3256.19,1345.95 3265.21,1368.26 3274.23,1389.25 3283.25,1408.74 3292.27,1426.76 3301.29,1443.49 3310.31,1459.14 \n",
       "  3319.33,1473.96 3328.35,1488.09 3337.37,1501.61 3346.39,1514.54 3355.41,1526.88 3364.43,1538.65 3373.46,1549.9 3382.48,1560.72 3391.5,1571.2 3400.52,1581.41 \n",
       "  3409.54,1591.39 3418.56,1601.13 3427.58,1610.61 3436.6,1619.81 3445.62,1628.72 3454.64,1637.35 3463.66,1645.73 3472.68,1653.9 3481.7,1661.88 3490.72,1669.71 \n",
       "  3499.74,1677.43 3508.76,1685.05 3517.78,1692.6 3526.8,1700.11 3535.82,1707.58 3544.84,1715 3553.86,1722.33 3562.88,1729.49 3571.9,1736.37 3580.92,1742.83 \n",
       "  3589.95,1748.73 3598.97,1753.96 3607.99,1758.46 3617.01,1762.23 3626.03,1765.3 3635.05,1767.78 3644.07,1769.77 3653.09,1771.38 3662.11,1772.71 3671.13,1773.83 \n",
       "  3680.15,1774.78 3689.17,1775.59 3698.19,1776.29 3707.21,1776.9 3716.23,1777.43 3725.25,1777.91 3734.27,1778.34 3743.29,1778.73 3752.31,1779.08 3761.33,1779.38 \n",
       "  3770.35,1779.63 3779.37,1779.82 3788.39,1779.95 3797.41,1780.02 3806.44,1780.02 3815.46,1779.96 3824.48,1779.84 3833.5,1779.68 3842.52,1779.48 3851.54,1779.27 \n",
       "  3860.56,1779.06 3869.58,1778.89 3878.6,1778.77 3887.62,1778.73 \n",
       "  \"/>\n",
       "<polyline clip-path=\"url(#clip045)\" style=\"stroke:#c271d2; stroke-linecap:butt; stroke-linejoin:round; stroke-width:4; stroke-opacity:1; fill:none\" points=\"\n",
       "  2354.34,1775.26 2363.32,1774.85 2372.31,1774.42 2381.29,1773.89 2390.28,1773.17 2399.27,1772.18 2408.25,1770.84 2417.24,1769.11 2426.22,1766.98 2435.21,1764.49 \n",
       "  2444.2,1761.74 2453.18,1758.86 2462.17,1756.02 2471.15,1753.37 2480.14,1751.06 2489.13,1749.14 2498.11,1747.64 2507.1,1746.46 2516.08,1745.49 2525.07,1744.54 \n",
       "  2534.06,1743.41 2543.04,1741.95 2552.03,1740.02 2561.01,1737.53 2570,1734.49 2578.99,1730.9 2587.97,1726.82 2596.96,1722.31 2605.94,1717.44 2614.93,1712.21 \n",
       "  2623.92,1706.64 2632.9,1700.67 2641.89,1694.25 2650.87,1687.28 2659.86,1679.69 2668.85,1671.4 2677.83,1662.4 2686.82,1652.69 2695.8,1642.34 2704.79,1631.43 \n",
       "  2713.78,1620.08 2722.76,1608.44 2731.75,1596.63 2740.73,1584.75 2749.72,1572.88 2758.71,1561.02 2767.69,1549.16 2776.68,1537.22 2785.66,1525.11 2794.65,1512.75 \n",
       "  2803.64,1500.09 2812.62,1487.1 2821.61,1473.82 2830.59,1460.31 2839.58,1446.6 2848.57,1432.73 2857.55,1418.65 2866.54,1404.27 2875.52,1389.42 2884.51,1373.99 \n",
       "  2893.5,1357.87 2902.48,1341.11 2911.47,1323.88 2920.45,1306.53 2929.44,1289.49 2938.42,1273.28 2947.41,1258.36 2956.4,1245.11 2965.38,1233.72 2974.37,1224.24 \n",
       "  2983.35,1216.55 2992.34,1210.39 3001.33,1205.45 3010.31,1201.38 3019.3,1197.84 3028.28,1194.57 3037.27,1191.35 3046.26,1188.06 3055.24,1184.71 3064.23,1181.43 \n",
       "  3073.21,1178.47 3082.2,1176.22 3091.19,1175.14 3100.17,1175.68 3109.16,1178.21 3118.14,1182.95 3127.13,1189.9 3136.12,1198.88 3145.1,1209.52 3154.09,1221.38 \n",
       "  3163.07,1233.98 3172.06,1246.95 3181.05,1260.04 3190.03,1273.11 3199.02,1286.14 3208,1299.17 3216.99,1312.24 3225.98,1325.36 3234.96,1338.46 3243.95,1351.43 \n",
       "  3252.93,1364.12 3261.92,1376.42 3270.91,1388.24 3279.89,1399.6 3288.88,1410.61 3297.86,1421.49 3306.85,1432.47 3315.84,1443.81 3324.82,1455.72 3333.81,1468.3 \n",
       "  3342.79,1481.57 3351.78,1495.4 3360.77,1509.61 3369.75,1523.97 3378.74,1538.24 3387.72,1552.19 3396.71,1565.69 3405.7,1578.62 3414.68,1590.94 3423.67,1602.63 \n",
       "  3432.65,1613.72 3441.64,1624.2 3450.63,1634.09 3459.61,1643.39 3468.6,1652.11 3477.58,1660.25 3486.57,1667.85 3495.56,1674.97 3504.54,1681.68 3513.53,1688.07 \n",
       "  3522.51,1694.24 3531.5,1700.28 3540.49,1706.27 3549.47,1712.26 3558.46,1718.27 3567.44,1724.28 3576.43,1730.26 3585.42,1736.13 3594.4,1741.81 3603.39,1747.19 \n",
       "  3612.37,1752.19 3621.36,1756.7 3630.35,1760.67 3639.33,1764.06 3648.32,1766.85 3657.3,1769.09 3666.29,1770.83 3675.28,1772.13 3684.26,1773.09 3693.25,1773.78 \n",
       "  3702.23,1774.28 3711.22,1774.65 3720.21,1774.96 3729.19,1775.23 3738.18,1775.51 3747.16,1775.8 3756.15,1776.11 3765.14,1776.45 3774.12,1776.81 3783.11,1777.18 \n",
       "  \n",
       "  \"/>\n",
       "<path clip-path=\"url(#clip040)\" d=\"\n",
       "M309.306 2798.92 L1986.51 2798.92 L1986.51 2131.03 L309.306 2131.03  Z\n",
       "  \" fill=\"#ffffff\" fill-rule=\"evenodd\" fill-opacity=\"1\"/>\n",
       "<defs>\n",
       "  <clipPath id=\"clip046\">\n",
       "    <rect x=\"309\" y=\"2131\" width=\"1678\" height=\"669\"/>\n",
       "  </clipPath>\n",
       "</defs>\n",
       "<polyline clip-path=\"url(#clip046)\" style=\"stroke:#000000; stroke-linecap:butt; stroke-linejoin:round; stroke-width:2; stroke-opacity:0.1; fill:none\" points=\"\n",
       "  355.982,2798.92 355.982,2131.03 \n",
       "  \"/>\n",
       "<polyline clip-path=\"url(#clip046)\" style=\"stroke:#000000; stroke-linecap:butt; stroke-linejoin:round; stroke-width:2; stroke-opacity:0.1; fill:none\" points=\"\n",
       "  751.746,2798.92 751.746,2131.03 \n",
       "  \"/>\n",
       "<polyline clip-path=\"url(#clip046)\" style=\"stroke:#000000; stroke-linecap:butt; stroke-linejoin:round; stroke-width:2; stroke-opacity:0.1; fill:none\" points=\"\n",
       "  1147.51,2798.92 1147.51,2131.03 \n",
       "  \"/>\n",
       "<polyline clip-path=\"url(#clip046)\" style=\"stroke:#000000; stroke-linecap:butt; stroke-linejoin:round; stroke-width:2; stroke-opacity:0.1; fill:none\" points=\"\n",
       "  1543.27,2798.92 1543.27,2131.03 \n",
       "  \"/>\n",
       "<polyline clip-path=\"url(#clip046)\" style=\"stroke:#000000; stroke-linecap:butt; stroke-linejoin:round; stroke-width:2; stroke-opacity:0.1; fill:none\" points=\"\n",
       "  1939.04,2798.92 1939.04,2131.03 \n",
       "  \"/>\n",
       "<polyline clip-path=\"url(#clip040)\" style=\"stroke:#000000; stroke-linecap:butt; stroke-linejoin:round; stroke-width:4; stroke-opacity:1; fill:none\" points=\"\n",
       "  309.306,2798.92 1986.51,2798.92 \n",
       "  \"/>\n",
       "<polyline clip-path=\"url(#clip040)\" style=\"stroke:#000000; stroke-linecap:butt; stroke-linejoin:round; stroke-width:4; stroke-opacity:1; fill:none\" points=\"\n",
       "  355.982,2798.92 355.982,2780.02 \n",
       "  \"/>\n",
       "<polyline clip-path=\"url(#clip040)\" style=\"stroke:#000000; stroke-linecap:butt; stroke-linejoin:round; stroke-width:4; stroke-opacity:1; fill:none\" points=\"\n",
       "  751.746,2798.92 751.746,2780.02 \n",
       "  \"/>\n",
       "<polyline clip-path=\"url(#clip040)\" style=\"stroke:#000000; stroke-linecap:butt; stroke-linejoin:round; stroke-width:4; stroke-opacity:1; fill:none\" points=\"\n",
       "  1147.51,2798.92 1147.51,2780.02 \n",
       "  \"/>\n",
       "<polyline clip-path=\"url(#clip040)\" style=\"stroke:#000000; stroke-linecap:butt; stroke-linejoin:round; stroke-width:4; stroke-opacity:1; fill:none\" points=\"\n",
       "  1543.27,2798.92 1543.27,2780.02 \n",
       "  \"/>\n",
       "<polyline clip-path=\"url(#clip040)\" style=\"stroke:#000000; stroke-linecap:butt; stroke-linejoin:round; stroke-width:4; stroke-opacity:1; fill:none\" points=\"\n",
       "  1939.04,2798.92 1939.04,2780.02 \n",
       "  \"/>\n",
       "<path clip-path=\"url(#clip040)\" d=\"M300.508 2870.18 L308.147 2870.18 L308.147 2843.82 L299.837 2845.49 L299.837 2841.23 L308.101 2839.56 L312.777 2839.56 L312.777 2870.18 L320.415 2870.18 L320.415 2874.12 L300.508 2874.12 L300.508 2870.18 Z\" fill=\"#000000\" fill-rule=\"evenodd\" fill-opacity=\"1\" /><path clip-path=\"url(#clip040)\" d=\"M339.86 2842.64 Q336.249 2842.64 334.42 2846.2 Q332.614 2849.74 332.614 2856.87 Q332.614 2863.98 334.42 2867.55 Q336.249 2871.09 339.86 2871.09 Q343.494 2871.09 345.299 2867.55 Q347.128 2863.98 347.128 2856.87 Q347.128 2849.74 345.299 2846.2 Q343.494 2842.64 339.86 2842.64 M339.86 2838.93 Q345.67 2838.93 348.725 2843.54 Q351.804 2848.12 351.804 2856.87 Q351.804 2865.6 348.725 2870.21 Q345.67 2874.79 339.86 2874.79 Q334.05 2874.79 330.971 2870.21 Q327.915 2865.6 327.915 2856.87 Q327.915 2848.12 330.971 2843.54 Q334.05 2838.93 339.86 2838.93 Z\" fill=\"#000000\" fill-rule=\"evenodd\" fill-opacity=\"1\" /><path clip-path=\"url(#clip040)\" d=\"M370.022 2842.64 Q366.41 2842.64 364.582 2846.2 Q362.776 2849.74 362.776 2856.87 Q362.776 2863.98 364.582 2867.55 Q366.41 2871.09 370.022 2871.09 Q373.656 2871.09 375.461 2867.55 Q377.29 2863.98 377.29 2856.87 Q377.29 2849.74 375.461 2846.2 Q373.656 2842.64 370.022 2842.64 M370.022 2838.93 Q375.832 2838.93 378.887 2843.54 Q381.966 2848.12 381.966 2856.87 Q381.966 2865.6 378.887 2870.21 Q375.832 2874.79 370.022 2874.79 Q364.211 2874.79 361.133 2870.21 Q358.077 2865.6 358.077 2856.87 Q358.077 2848.12 361.133 2843.54 Q364.211 2838.93 370.022 2838.93 Z\" fill=\"#000000\" fill-rule=\"evenodd\" fill-opacity=\"1\" /><path clip-path=\"url(#clip040)\" d=\"M400.183 2842.64 Q396.572 2842.64 394.744 2846.2 Q392.938 2849.74 392.938 2856.87 Q392.938 2863.98 394.744 2867.55 Q396.572 2871.09 400.183 2871.09 Q403.818 2871.09 405.623 2867.55 Q407.452 2863.98 407.452 2856.87 Q407.452 2849.74 405.623 2846.2 Q403.818 2842.64 400.183 2842.64 M400.183 2838.93 Q405.994 2838.93 409.049 2843.54 Q412.128 2848.12 412.128 2856.87 Q412.128 2865.6 409.049 2870.21 Q405.994 2874.79 400.183 2874.79 Q394.373 2874.79 391.295 2870.21 Q388.239 2865.6 388.239 2856.87 Q388.239 2848.12 391.295 2843.54 Q394.373 2838.93 400.183 2838.93 Z\" fill=\"#000000\" fill-rule=\"evenodd\" fill-opacity=\"1\" /><path clip-path=\"url(#clip040)\" d=\"M696.272 2870.18 L703.911 2870.18 L703.911 2843.82 L695.601 2845.49 L695.601 2841.23 L703.864 2839.56 L708.54 2839.56 L708.54 2870.18 L716.179 2870.18 L716.179 2874.12 L696.272 2874.12 L696.272 2870.18 Z\" fill=\"#000000\" fill-rule=\"evenodd\" fill-opacity=\"1\" /><path clip-path=\"url(#clip040)\" d=\"M725.67 2839.56 L744.026 2839.56 L744.026 2843.5 L729.952 2843.5 L729.952 2851.97 Q730.971 2851.62 731.989 2851.46 Q733.008 2851.27 734.026 2851.27 Q739.813 2851.27 743.193 2854.44 Q746.573 2857.62 746.573 2863.03 Q746.573 2868.61 743.1 2871.71 Q739.628 2874.79 733.309 2874.79 Q731.133 2874.79 728.864 2874.42 Q726.619 2874.05 724.212 2873.31 L724.212 2868.61 Q726.295 2869.74 728.517 2870.3 Q730.739 2870.86 733.216 2870.86 Q737.221 2870.86 739.559 2868.75 Q741.897 2866.64 741.897 2863.03 Q741.897 2859.42 739.559 2857.31 Q737.221 2855.21 733.216 2855.21 Q731.341 2855.21 729.466 2855.62 Q727.614 2856.04 725.67 2856.92 L725.67 2839.56 Z\" fill=\"#000000\" fill-rule=\"evenodd\" fill-opacity=\"1\" /><path clip-path=\"url(#clip040)\" d=\"M765.785 2842.64 Q762.174 2842.64 760.346 2846.2 Q758.54 2849.74 758.54 2856.87 Q758.54 2863.98 760.346 2867.55 Q762.174 2871.09 765.785 2871.09 Q769.42 2871.09 771.225 2867.55 Q773.054 2863.98 773.054 2856.87 Q773.054 2849.74 771.225 2846.2 Q769.42 2842.64 765.785 2842.64 M765.785 2838.93 Q771.596 2838.93 774.651 2843.54 Q777.73 2848.12 777.73 2856.87 Q777.73 2865.6 774.651 2870.21 Q771.596 2874.79 765.785 2874.79 Q759.975 2874.79 756.897 2870.21 Q753.841 2865.6 753.841 2856.87 Q753.841 2848.12 756.897 2843.54 Q759.975 2838.93 765.785 2838.93 Z\" fill=\"#000000\" fill-rule=\"evenodd\" fill-opacity=\"1\" /><path clip-path=\"url(#clip040)\" d=\"M795.947 2842.64 Q792.336 2842.64 790.508 2846.2 Q788.702 2849.74 788.702 2856.87 Q788.702 2863.98 790.508 2867.55 Q792.336 2871.09 795.947 2871.09 Q799.582 2871.09 801.387 2867.55 Q803.216 2863.98 803.216 2856.87 Q803.216 2849.74 801.387 2846.2 Q799.582 2842.64 795.947 2842.64 M795.947 2838.93 Q801.757 2838.93 804.813 2843.54 Q807.892 2848.12 807.892 2856.87 Q807.892 2865.6 804.813 2870.21 Q801.757 2874.79 795.947 2874.79 Q790.137 2874.79 787.058 2870.21 Q784.003 2865.6 784.003 2856.87 Q784.003 2848.12 787.058 2843.54 Q790.137 2838.93 795.947 2838.93 Z\" fill=\"#000000\" fill-rule=\"evenodd\" fill-opacity=\"1\" /><path clip-path=\"url(#clip040)\" d=\"M1096.12 2870.18 L1112.44 2870.18 L1112.44 2874.12 L1090.5 2874.12 L1090.5 2870.18 Q1093.16 2867.43 1097.74 2862.8 Q1102.35 2858.15 1103.53 2856.81 Q1105.77 2854.28 1106.65 2852.55 Q1107.56 2850.79 1107.56 2849.1 Q1107.56 2846.34 1105.61 2844.61 Q1103.69 2842.87 1100.59 2842.87 Q1098.39 2842.87 1095.94 2843.63 Q1093.51 2844.4 1090.73 2845.95 L1090.73 2841.23 Q1093.55 2840.09 1096.01 2839.51 Q1098.46 2838.93 1100.5 2838.93 Q1105.87 2838.93 1109.06 2841.62 Q1112.26 2844.31 1112.26 2848.8 Q1112.26 2850.93 1111.45 2852.85 Q1110.66 2854.74 1108.55 2857.34 Q1107.97 2858.01 1104.87 2861.23 Q1101.77 2864.42 1096.12 2870.18 Z\" fill=\"#000000\" fill-rule=\"evenodd\" fill-opacity=\"1\" /><path clip-path=\"url(#clip040)\" d=\"M1132.26 2842.64 Q1128.64 2842.64 1126.82 2846.2 Q1125.01 2849.74 1125.01 2856.87 Q1125.01 2863.98 1126.82 2867.55 Q1128.64 2871.09 1132.26 2871.09 Q1135.89 2871.09 1137.7 2867.55 Q1139.52 2863.98 1139.52 2856.87 Q1139.52 2849.74 1137.7 2846.2 Q1135.89 2842.64 1132.26 2842.64 M1132.26 2838.93 Q1138.07 2838.93 1141.12 2843.54 Q1144.2 2848.12 1144.2 2856.87 Q1144.2 2865.6 1141.12 2870.21 Q1138.07 2874.79 1132.26 2874.79 Q1126.45 2874.79 1123.37 2870.21 Q1120.31 2865.6 1120.31 2856.87 Q1120.31 2848.12 1123.37 2843.54 Q1126.45 2838.93 1132.26 2838.93 Z\" fill=\"#000000\" fill-rule=\"evenodd\" fill-opacity=\"1\" /><path clip-path=\"url(#clip040)\" d=\"M1162.42 2842.64 Q1158.81 2842.64 1156.98 2846.2 Q1155.17 2849.74 1155.17 2856.87 Q1155.17 2863.98 1156.98 2867.55 Q1158.81 2871.09 1162.42 2871.09 Q1166.05 2871.09 1167.86 2867.55 Q1169.69 2863.98 1169.69 2856.87 Q1169.69 2849.74 1167.86 2846.2 Q1166.05 2842.64 1162.42 2842.64 M1162.42 2838.93 Q1168.23 2838.93 1171.28 2843.54 Q1174.36 2848.12 1174.36 2856.87 Q1174.36 2865.6 1171.28 2870.21 Q1168.23 2874.79 1162.42 2874.79 Q1156.61 2874.79 1153.53 2870.21 Q1150.47 2865.6 1150.47 2856.87 Q1150.47 2848.12 1153.53 2843.54 Q1156.61 2838.93 1162.42 2838.93 Z\" fill=\"#000000\" fill-rule=\"evenodd\" fill-opacity=\"1\" /><path clip-path=\"url(#clip040)\" d=\"M1192.58 2842.64 Q1188.97 2842.64 1187.14 2846.2 Q1185.33 2849.74 1185.33 2856.87 Q1185.33 2863.98 1187.14 2867.55 Q1188.97 2871.09 1192.58 2871.09 Q1196.21 2871.09 1198.02 2867.55 Q1199.85 2863.98 1199.85 2856.87 Q1199.85 2849.74 1198.02 2846.2 Q1196.21 2842.64 1192.58 2842.64 M1192.58 2838.93 Q1198.39 2838.93 1201.44 2843.54 Q1204.52 2848.12 1204.52 2856.87 Q1204.52 2865.6 1201.44 2870.21 Q1198.39 2874.79 1192.58 2874.79 Q1186.77 2874.79 1183.69 2870.21 Q1180.63 2865.6 1180.63 2856.87 Q1180.63 2848.12 1183.69 2843.54 Q1186.77 2838.93 1192.58 2838.93 Z\" fill=\"#000000\" fill-rule=\"evenodd\" fill-opacity=\"1\" /><path clip-path=\"url(#clip040)\" d=\"M1491.89 2870.18 L1508.2 2870.18 L1508.2 2874.12 L1486.26 2874.12 L1486.26 2870.18 Q1488.92 2867.43 1493.51 2862.8 Q1498.11 2858.15 1499.29 2856.81 Q1501.54 2854.28 1502.42 2852.55 Q1503.32 2850.79 1503.32 2849.1 Q1503.32 2846.34 1501.38 2844.61 Q1499.45 2842.87 1496.35 2842.87 Q1494.15 2842.87 1491.7 2843.63 Q1489.27 2844.4 1486.49 2845.95 L1486.49 2841.23 Q1489.32 2840.09 1491.77 2839.51 Q1494.22 2838.93 1496.26 2838.93 Q1501.63 2838.93 1504.83 2841.62 Q1508.02 2844.31 1508.02 2848.8 Q1508.02 2850.93 1507.21 2852.85 Q1506.42 2854.74 1504.32 2857.34 Q1503.74 2858.01 1500.64 2861.23 Q1497.53 2864.42 1491.89 2870.18 Z\" fill=\"#000000\" fill-rule=\"evenodd\" fill-opacity=\"1\" /><path clip-path=\"url(#clip040)\" d=\"M1518.07 2839.56 L1536.42 2839.56 L1536.42 2843.5 L1522.35 2843.5 L1522.35 2851.97 Q1523.37 2851.62 1524.39 2851.46 Q1525.4 2851.27 1526.42 2851.27 Q1532.21 2851.27 1535.59 2854.44 Q1538.97 2857.62 1538.97 2863.03 Q1538.97 2868.61 1535.5 2871.71 Q1532.02 2874.79 1525.7 2874.79 Q1523.53 2874.79 1521.26 2874.42 Q1519.01 2874.05 1516.61 2873.31 L1516.61 2868.61 Q1518.69 2869.74 1520.91 2870.3 Q1523.14 2870.86 1525.61 2870.86 Q1529.62 2870.86 1531.95 2868.75 Q1534.29 2866.64 1534.29 2863.03 Q1534.29 2859.42 1531.95 2857.31 Q1529.62 2855.21 1525.61 2855.21 Q1523.74 2855.21 1521.86 2855.62 Q1520.01 2856.04 1518.07 2856.92 L1518.07 2839.56 Z\" fill=\"#000000\" fill-rule=\"evenodd\" fill-opacity=\"1\" /><path clip-path=\"url(#clip040)\" d=\"M1558.18 2842.64 Q1554.57 2842.64 1552.74 2846.2 Q1550.94 2849.74 1550.94 2856.87 Q1550.94 2863.98 1552.74 2867.55 Q1554.57 2871.09 1558.18 2871.09 Q1561.82 2871.09 1563.62 2867.55 Q1565.45 2863.98 1565.45 2856.87 Q1565.45 2849.74 1563.62 2846.2 Q1561.82 2842.64 1558.18 2842.64 M1558.18 2838.93 Q1563.99 2838.93 1567.05 2843.54 Q1570.13 2848.12 1570.13 2856.87 Q1570.13 2865.6 1567.05 2870.21 Q1563.99 2874.79 1558.18 2874.79 Q1552.37 2874.79 1549.29 2870.21 Q1546.24 2865.6 1546.24 2856.87 Q1546.24 2848.12 1549.29 2843.54 Q1552.37 2838.93 1558.18 2838.93 Z\" fill=\"#000000\" fill-rule=\"evenodd\" fill-opacity=\"1\" /><path clip-path=\"url(#clip040)\" d=\"M1588.34 2842.64 Q1584.73 2842.64 1582.9 2846.2 Q1581.1 2849.74 1581.1 2856.87 Q1581.1 2863.98 1582.9 2867.55 Q1584.73 2871.09 1588.34 2871.09 Q1591.98 2871.09 1593.78 2867.55 Q1595.61 2863.98 1595.61 2856.87 Q1595.61 2849.74 1593.78 2846.2 Q1591.98 2842.64 1588.34 2842.64 M1588.34 2838.93 Q1594.15 2838.93 1597.21 2843.54 Q1600.29 2848.12 1600.29 2856.87 Q1600.29 2865.6 1597.21 2870.21 Q1594.15 2874.79 1588.34 2874.79 Q1582.53 2874.79 1579.45 2870.21 Q1576.4 2865.6 1576.4 2856.87 Q1576.4 2848.12 1579.45 2843.54 Q1582.53 2838.93 1588.34 2838.93 Z\" fill=\"#000000\" fill-rule=\"evenodd\" fill-opacity=\"1\" /><path clip-path=\"url(#clip040)\" d=\"M1897.72 2855.49 Q1901.08 2856.2 1902.95 2858.47 Q1904.85 2860.74 1904.85 2864.07 Q1904.85 2869.19 1901.33 2871.99 Q1897.81 2874.79 1891.33 2874.79 Q1889.15 2874.79 1886.84 2874.35 Q1884.55 2873.93 1882.09 2873.08 L1882.09 2868.56 Q1884.04 2869.7 1886.35 2870.28 Q1888.67 2870.86 1891.19 2870.86 Q1895.59 2870.86 1897.88 2869.12 Q1900.2 2867.38 1900.2 2864.07 Q1900.2 2861.02 1898.04 2859.31 Q1895.91 2857.57 1892.09 2857.57 L1888.07 2857.57 L1888.07 2853.73 L1892.28 2853.73 Q1895.73 2853.73 1897.56 2852.36 Q1899.39 2850.97 1899.39 2848.38 Q1899.39 2845.72 1897.49 2844.31 Q1895.61 2842.87 1892.09 2842.87 Q1890.17 2842.87 1887.97 2843.29 Q1885.77 2843.7 1883.14 2844.58 L1883.14 2840.42 Q1885.8 2839.68 1888.11 2839.31 Q1890.45 2838.93 1892.51 2838.93 Q1897.83 2838.93 1900.94 2841.37 Q1904.04 2843.77 1904.04 2847.89 Q1904.04 2850.76 1902.39 2852.75 Q1900.75 2854.72 1897.72 2855.49 Z\" fill=\"#000000\" fill-rule=\"evenodd\" fill-opacity=\"1\" /><path clip-path=\"url(#clip040)\" d=\"M1923.71 2842.64 Q1920.1 2842.64 1918.27 2846.2 Q1916.47 2849.74 1916.47 2856.87 Q1916.47 2863.98 1918.27 2867.55 Q1920.1 2871.09 1923.71 2871.09 Q1927.35 2871.09 1929.15 2867.55 Q1930.98 2863.98 1930.98 2856.87 Q1930.98 2849.74 1929.15 2846.2 Q1927.35 2842.64 1923.71 2842.64 M1923.71 2838.93 Q1929.52 2838.93 1932.58 2843.54 Q1935.66 2848.12 1935.66 2856.87 Q1935.66 2865.6 1932.58 2870.21 Q1929.52 2874.79 1923.71 2874.79 Q1917.9 2874.79 1914.82 2870.21 Q1911.77 2865.6 1911.77 2856.87 Q1911.77 2848.12 1914.82 2843.54 Q1917.9 2838.93 1923.71 2838.93 Z\" fill=\"#000000\" fill-rule=\"evenodd\" fill-opacity=\"1\" /><path clip-path=\"url(#clip040)\" d=\"M1953.88 2842.64 Q1950.26 2842.64 1948.44 2846.2 Q1946.63 2849.74 1946.63 2856.87 Q1946.63 2863.98 1948.44 2867.55 Q1950.26 2871.09 1953.88 2871.09 Q1957.51 2871.09 1959.32 2867.55 Q1961.14 2863.98 1961.14 2856.87 Q1961.14 2849.74 1959.32 2846.2 Q1957.51 2842.64 1953.88 2842.64 M1953.88 2838.93 Q1959.69 2838.93 1962.74 2843.54 Q1965.82 2848.12 1965.82 2856.87 Q1965.82 2865.6 1962.74 2870.21 Q1959.69 2874.79 1953.88 2874.79 Q1948.07 2874.79 1944.99 2870.21 Q1941.93 2865.6 1941.93 2856.87 Q1941.93 2848.12 1944.99 2843.54 Q1948.07 2838.93 1953.88 2838.93 Z\" fill=\"#000000\" fill-rule=\"evenodd\" fill-opacity=\"1\" /><path clip-path=\"url(#clip040)\" d=\"M1984.04 2842.64 Q1980.43 2842.64 1978.6 2846.2 Q1976.79 2849.74 1976.79 2856.87 Q1976.79 2863.98 1978.6 2867.55 Q1980.43 2871.09 1984.04 2871.09 Q1987.67 2871.09 1989.48 2867.55 Q1991.31 2863.98 1991.31 2856.87 Q1991.31 2849.74 1989.48 2846.2 Q1987.67 2842.64 1984.04 2842.64 M1984.04 2838.93 Q1989.85 2838.93 1992.9 2843.54 Q1995.98 2848.12 1995.98 2856.87 Q1995.98 2865.6 1992.9 2870.21 Q1989.85 2874.79 1984.04 2874.79 Q1978.23 2874.79 1975.15 2870.21 Q1972.09 2865.6 1972.09 2856.87 Q1972.09 2848.12 1975.15 2843.54 Q1978.23 2838.93 1984.04 2838.93 Z\" fill=\"#000000\" fill-rule=\"evenodd\" fill-opacity=\"1\" /><path clip-path=\"url(#clip040)\" d=\"M1015.63 2920.26 L1022.06 2920.26 L1022.06 2967.78 L1015.63 2967.78 L1015.63 2920.26 Z\" fill=\"#000000\" fill-rule=\"evenodd\" fill-opacity=\"1\" /><path clip-path=\"url(#clip040)\" d=\"M1040.39 2922.01 L1040.39 2932.14 L1052.45 2932.14 L1052.45 2936.69 L1040.39 2936.69 L1040.39 2956.04 Q1040.39 2960.4 1041.57 2961.64 Q1042.78 2962.88 1046.44 2962.88 L1052.45 2962.88 L1052.45 2967.78 L1046.44 2967.78 Q1039.66 2967.78 1037.08 2965.27 Q1034.5 2962.72 1034.5 2956.04 L1034.5 2936.69 L1030.2 2936.69 L1030.2 2932.14 L1034.5 2932.14 L1034.5 2922.01 L1040.39 2922.01 Z\" fill=\"#000000\" fill-rule=\"evenodd\" fill-opacity=\"1\" /><path clip-path=\"url(#clip040)\" d=\"M1090.65 2948.5 L1090.65 2951.36 L1063.72 2951.36 Q1064.1 2957.41 1067.35 2960.59 Q1070.63 2963.74 1076.45 2963.74 Q1079.82 2963.74 1082.98 2962.91 Q1086.16 2962.09 1089.28 2960.43 L1089.28 2965.97 Q1086.13 2967.31 1082.82 2968.01 Q1079.51 2968.71 1076.1 2968.71 Q1067.57 2968.71 1062.57 2963.74 Q1057.61 2958.78 1057.61 2950.31 Q1057.61 2941.56 1062.32 2936.43 Q1067.06 2931.28 1075.08 2931.28 Q1082.28 2931.28 1086.44 2935.92 Q1090.65 2940.54 1090.65 2948.5 M1084.79 2946.78 Q1084.73 2941.97 1082.08 2939.11 Q1079.47 2936.24 1075.15 2936.24 Q1070.24 2936.24 1067.28 2939.01 Q1064.36 2941.78 1063.91 2946.81 L1084.79 2946.78 Z\" fill=\"#000000\" fill-rule=\"evenodd\" fill-opacity=\"1\" /><path clip-path=\"url(#clip040)\" d=\"M1120.92 2937.61 Q1119.93 2937.04 1118.75 2936.78 Q1117.61 2936.5 1116.2 2936.5 Q1111.24 2936.5 1108.57 2939.74 Q1105.92 2942.96 1105.92 2949.01 L1105.92 2967.78 L1100.04 2967.78 L1100.04 2932.14 L1105.92 2932.14 L1105.92 2937.67 Q1107.77 2934.43 1110.73 2932.87 Q1113.69 2931.28 1117.92 2931.28 Q1118.53 2931.28 1119.26 2931.37 Q1119.99 2931.44 1120.88 2931.59 L1120.92 2937.61 Z\" fill=\"#000000\" fill-rule=\"evenodd\" fill-opacity=\"1\" /><path clip-path=\"url(#clip040)\" d=\"M1143.26 2949.86 Q1136.16 2949.86 1133.42 2951.49 Q1130.69 2953.11 1130.69 2957.03 Q1130.69 2960.14 1132.72 2961.99 Q1134.79 2963.81 1138.33 2963.81 Q1143.2 2963.81 1146.12 2960.37 Q1149.08 2956.9 1149.08 2951.17 L1149.08 2949.86 L1143.26 2949.86 M1154.94 2947.45 L1154.94 2967.78 L1149.08 2967.78 L1149.08 2962.37 Q1147.08 2965.62 1144.09 2967.18 Q1141.09 2968.71 1136.77 2968.71 Q1131.29 2968.71 1128.04 2965.65 Q1124.83 2962.56 1124.83 2957.41 Q1124.83 2951.39 1128.84 2948.34 Q1132.88 2945.28 1140.87 2945.28 L1149.08 2945.28 L1149.08 2944.71 Q1149.08 2940.67 1146.41 2938.47 Q1143.77 2936.24 1138.96 2936.24 Q1135.91 2936.24 1133.01 2936.97 Q1130.11 2937.71 1127.44 2939.17 L1127.44 2933.76 Q1130.65 2932.52 1133.68 2931.91 Q1136.7 2931.28 1139.57 2931.28 Q1147.3 2931.28 1151.12 2935.29 Q1154.94 2939.3 1154.94 2947.45 Z\" fill=\"#000000\" fill-rule=\"evenodd\" fill-opacity=\"1\" /><path clip-path=\"url(#clip040)\" d=\"M1172.8 2922.01 L1172.8 2932.14 L1184.86 2932.14 L1184.86 2936.69 L1172.8 2936.69 L1172.8 2956.04 Q1172.8 2960.4 1173.97 2961.64 Q1175.18 2962.88 1178.84 2962.88 L1184.86 2962.88 L1184.86 2967.78 L1178.84 2967.78 Q1172.06 2967.78 1169.49 2965.27 Q1166.91 2962.72 1166.91 2956.04 L1166.91 2936.69 L1162.61 2936.69 L1162.61 2932.14 L1166.91 2932.14 L1166.91 2922.01 L1172.8 2922.01 Z\" fill=\"#000000\" fill-rule=\"evenodd\" fill-opacity=\"1\" /><path clip-path=\"url(#clip040)\" d=\"M1192.56 2932.14 L1198.42 2932.14 L1198.42 2967.78 L1192.56 2967.78 L1192.56 2932.14 M1192.56 2918.26 L1198.42 2918.26 L1198.42 2925.67 L1192.56 2925.67 L1192.56 2918.26 Z\" fill=\"#000000\" fill-rule=\"evenodd\" fill-opacity=\"1\" /><path clip-path=\"url(#clip040)\" d=\"M1224.49 2936.24 Q1219.77 2936.24 1217.04 2939.93 Q1214.3 2943.59 1214.3 2949.99 Q1214.3 2956.39 1217.01 2960.08 Q1219.74 2963.74 1224.49 2963.74 Q1229.16 2963.74 1231.9 2960.05 Q1234.64 2956.36 1234.64 2949.99 Q1234.64 2943.66 1231.9 2939.97 Q1229.16 2936.24 1224.49 2936.24 M1224.49 2931.28 Q1232.12 2931.28 1236.48 2936.24 Q1240.85 2941.21 1240.85 2949.99 Q1240.85 2958.74 1236.48 2963.74 Q1232.12 2968.71 1224.49 2968.71 Q1216.81 2968.71 1212.45 2963.74 Q1208.13 2958.74 1208.13 2949.99 Q1208.13 2941.21 1212.45 2936.24 Q1216.81 2931.28 1224.49 2931.28 Z\" fill=\"#000000\" fill-rule=\"evenodd\" fill-opacity=\"1\" /><path clip-path=\"url(#clip040)\" d=\"M1280.19 2946.27 L1280.19 2967.78 L1274.33 2967.78 L1274.33 2946.46 Q1274.33 2941.4 1272.36 2938.88 Q1270.38 2936.37 1266.44 2936.37 Q1261.69 2936.37 1258.96 2939.39 Q1256.22 2942.42 1256.22 2947.64 L1256.22 2967.78 L1250.33 2967.78 L1250.33 2932.14 L1256.22 2932.14 L1256.22 2937.67 Q1258.32 2934.46 1261.15 2932.87 Q1264.02 2931.28 1267.74 2931.28 Q1273.88 2931.28 1277.03 2935.1 Q1280.19 2938.88 1280.19 2946.27 Z\" fill=\"#000000\" fill-rule=\"evenodd\" fill-opacity=\"1\" /><polyline clip-path=\"url(#clip046)\" style=\"stroke:#000000; stroke-linecap:butt; stroke-linejoin:round; stroke-width:2; stroke-opacity:0.1; fill:none\" points=\"\n",
       "  309.306,2763.29 1986.51,2763.29 \n",
       "  \"/>\n",
       "<polyline clip-path=\"url(#clip046)\" style=\"stroke:#000000; stroke-linecap:butt; stroke-linejoin:round; stroke-width:2; stroke-opacity:0.1; fill:none\" points=\"\n",
       "  309.306,2660.84 1986.51,2660.84 \n",
       "  \"/>\n",
       "<polyline clip-path=\"url(#clip046)\" style=\"stroke:#000000; stroke-linecap:butt; stroke-linejoin:round; stroke-width:2; stroke-opacity:0.1; fill:none\" points=\"\n",
       "  309.306,2558.38 1986.51,2558.38 \n",
       "  \"/>\n",
       "<polyline clip-path=\"url(#clip046)\" style=\"stroke:#000000; stroke-linecap:butt; stroke-linejoin:round; stroke-width:2; stroke-opacity:0.1; fill:none\" points=\"\n",
       "  309.306,2455.93 1986.51,2455.93 \n",
       "  \"/>\n",
       "<polyline clip-path=\"url(#clip046)\" style=\"stroke:#000000; stroke-linecap:butt; stroke-linejoin:round; stroke-width:2; stroke-opacity:0.1; fill:none\" points=\"\n",
       "  309.306,2353.48 1986.51,2353.48 \n",
       "  \"/>\n",
       "<polyline clip-path=\"url(#clip046)\" style=\"stroke:#000000; stroke-linecap:butt; stroke-linejoin:round; stroke-width:2; stroke-opacity:0.1; fill:none\" points=\"\n",
       "  309.306,2251.02 1986.51,2251.02 \n",
       "  \"/>\n",
       "<polyline clip-path=\"url(#clip046)\" style=\"stroke:#000000; stroke-linecap:butt; stroke-linejoin:round; stroke-width:2; stroke-opacity:0.1; fill:none\" points=\"\n",
       "  309.306,2148.57 1986.51,2148.57 \n",
       "  \"/>\n",
       "<polyline clip-path=\"url(#clip040)\" style=\"stroke:#000000; stroke-linecap:butt; stroke-linejoin:round; stroke-width:4; stroke-opacity:1; fill:none\" points=\"\n",
       "  309.306,2798.92 309.306,2131.03 \n",
       "  \"/>\n",
       "<polyline clip-path=\"url(#clip040)\" style=\"stroke:#000000; stroke-linecap:butt; stroke-linejoin:round; stroke-width:4; stroke-opacity:1; fill:none\" points=\"\n",
       "  309.306,2763.29 328.204,2763.29 \n",
       "  \"/>\n",
       "<polyline clip-path=\"url(#clip040)\" style=\"stroke:#000000; stroke-linecap:butt; stroke-linejoin:round; stroke-width:4; stroke-opacity:1; fill:none\" points=\"\n",
       "  309.306,2660.84 328.204,2660.84 \n",
       "  \"/>\n",
       "<polyline clip-path=\"url(#clip040)\" style=\"stroke:#000000; stroke-linecap:butt; stroke-linejoin:round; stroke-width:4; stroke-opacity:1; fill:none\" points=\"\n",
       "  309.306,2558.38 328.204,2558.38 \n",
       "  \"/>\n",
       "<polyline clip-path=\"url(#clip040)\" style=\"stroke:#000000; stroke-linecap:butt; stroke-linejoin:round; stroke-width:4; stroke-opacity:1; fill:none\" points=\"\n",
       "  309.306,2455.93 328.204,2455.93 \n",
       "  \"/>\n",
       "<polyline clip-path=\"url(#clip040)\" style=\"stroke:#000000; stroke-linecap:butt; stroke-linejoin:round; stroke-width:4; stroke-opacity:1; fill:none\" points=\"\n",
       "  309.306,2353.48 328.204,2353.48 \n",
       "  \"/>\n",
       "<polyline clip-path=\"url(#clip040)\" style=\"stroke:#000000; stroke-linecap:butt; stroke-linejoin:round; stroke-width:4; stroke-opacity:1; fill:none\" points=\"\n",
       "  309.306,2251.02 328.204,2251.02 \n",
       "  \"/>\n",
       "<polyline clip-path=\"url(#clip040)\" style=\"stroke:#000000; stroke-linecap:butt; stroke-linejoin:round; stroke-width:4; stroke-opacity:1; fill:none\" points=\"\n",
       "  309.306,2148.57 328.204,2148.57 \n",
       "  \"/>\n",
       "<path clip-path=\"url(#clip040)\" d=\"M193.126 2749.09 Q189.515 2749.09 187.686 2752.66 Q185.88 2756.2 185.88 2763.33 Q185.88 2770.43 187.686 2774 Q189.515 2777.54 193.126 2777.54 Q196.76 2777.54 198.565 2774 Q200.394 2770.43 200.394 2763.33 Q200.394 2756.2 198.565 2752.66 Q196.76 2749.09 193.126 2749.09 M193.126 2745.39 Q198.936 2745.39 201.991 2749.99 Q205.07 2754.58 205.07 2763.33 Q205.07 2772.05 201.991 2776.66 Q198.936 2781.24 193.126 2781.24 Q187.315 2781.24 184.237 2776.66 Q181.181 2772.05 181.181 2763.33 Q181.181 2754.58 184.237 2749.99 Q187.315 2745.39 193.126 2745.39 Z\" fill=\"#000000\" fill-rule=\"evenodd\" fill-opacity=\"1\" /><path clip-path=\"url(#clip040)\" d=\"M213.288 2774.69 L218.172 2774.69 L218.172 2780.57 L213.288 2780.57 L213.288 2774.69 Z\" fill=\"#000000\" fill-rule=\"evenodd\" fill-opacity=\"1\" /><path clip-path=\"url(#clip040)\" d=\"M228.403 2746.01 L246.76 2746.01 L246.76 2749.95 L232.686 2749.95 L232.686 2758.42 Q233.704 2758.07 234.723 2757.91 Q235.741 2757.72 236.76 2757.72 Q242.547 2757.72 245.926 2760.9 Q249.306 2764.07 249.306 2769.48 Q249.306 2775.06 245.834 2778.16 Q242.361 2781.24 236.042 2781.24 Q233.866 2781.24 231.598 2780.87 Q229.352 2780.5 226.945 2779.76 L226.945 2775.06 Q229.028 2776.2 231.25 2776.75 Q233.473 2777.31 235.949 2777.31 Q239.954 2777.31 242.292 2775.2 Q244.63 2773.1 244.63 2769.48 Q244.63 2765.87 242.292 2763.77 Q239.954 2761.66 235.949 2761.66 Q234.075 2761.66 232.2 2762.08 Q230.348 2762.49 228.403 2763.37 L228.403 2746.01 Z\" fill=\"#000000\" fill-rule=\"evenodd\" fill-opacity=\"1\" /><path clip-path=\"url(#clip040)\" d=\"M191.968 2646.64 Q188.357 2646.64 186.528 2650.2 Q184.723 2653.74 184.723 2660.87 Q184.723 2667.98 186.528 2671.54 Q188.357 2675.09 191.968 2675.09 Q195.602 2675.09 197.408 2671.54 Q199.237 2667.98 199.237 2660.87 Q199.237 2653.74 197.408 2650.2 Q195.602 2646.64 191.968 2646.64 M191.968 2642.93 Q197.778 2642.93 200.834 2647.54 Q203.913 2652.12 203.913 2660.87 Q203.913 2669.6 200.834 2674.21 Q197.778 2678.79 191.968 2678.79 Q186.158 2678.79 183.079 2674.21 Q180.024 2669.6 180.024 2660.87 Q180.024 2652.12 183.079 2647.54 Q186.158 2642.93 191.968 2642.93 Z\" fill=\"#000000\" fill-rule=\"evenodd\" fill-opacity=\"1\" /><path clip-path=\"url(#clip040)\" d=\"M212.13 2672.24 L217.014 2672.24 L217.014 2678.12 L212.13 2678.12 L212.13 2672.24 Z\" fill=\"#000000\" fill-rule=\"evenodd\" fill-opacity=\"1\" /><path clip-path=\"url(#clip040)\" d=\"M237.778 2658.97 Q234.63 2658.97 232.778 2661.13 Q230.95 2663.28 230.95 2667.03 Q230.95 2670.76 232.778 2672.93 Q234.63 2675.09 237.778 2675.09 Q240.926 2675.09 242.755 2672.93 Q244.607 2670.76 244.607 2667.03 Q244.607 2663.28 242.755 2661.13 Q240.926 2658.97 237.778 2658.97 M247.061 2644.32 L247.061 2648.58 Q245.301 2647.75 243.496 2647.31 Q241.713 2646.87 239.954 2646.87 Q235.324 2646.87 232.871 2649.99 Q230.44 2653.12 230.093 2659.44 Q231.459 2657.42 233.519 2656.36 Q235.579 2655.27 238.056 2655.27 Q243.264 2655.27 246.274 2658.44 Q249.306 2661.59 249.306 2667.03 Q249.306 2672.35 246.158 2675.57 Q243.01 2678.79 237.778 2678.79 Q231.783 2678.79 228.612 2674.21 Q225.44 2669.6 225.44 2660.87 Q225.44 2652.68 229.329 2647.82 Q233.218 2642.93 239.769 2642.93 Q241.528 2642.93 243.311 2643.28 Q245.116 2643.63 247.061 2644.32 Z\" fill=\"#000000\" fill-rule=\"evenodd\" fill-opacity=\"1\" /><path clip-path=\"url(#clip040)\" d=\"M193.033 2544.18 Q189.422 2544.18 187.593 2547.75 Q185.788 2551.29 185.788 2558.42 Q185.788 2565.53 187.593 2569.09 Q189.422 2572.63 193.033 2572.63 Q196.667 2572.63 198.473 2569.09 Q200.302 2565.53 200.302 2558.42 Q200.302 2551.29 198.473 2547.75 Q196.667 2544.18 193.033 2544.18 M193.033 2540.48 Q198.843 2540.48 201.899 2545.09 Q204.977 2549.67 204.977 2558.42 Q204.977 2567.15 201.899 2571.75 Q198.843 2576.34 193.033 2576.34 Q187.223 2576.34 184.144 2571.75 Q181.089 2567.15 181.089 2558.42 Q181.089 2549.67 184.144 2545.09 Q187.223 2540.48 193.033 2540.48 Z\" fill=\"#000000\" fill-rule=\"evenodd\" fill-opacity=\"1\" /><path clip-path=\"url(#clip040)\" d=\"M213.195 2569.79 L218.079 2569.79 L218.079 2575.66 L213.195 2575.66 L213.195 2569.79 Z\" fill=\"#000000\" fill-rule=\"evenodd\" fill-opacity=\"1\" /><path clip-path=\"url(#clip040)\" d=\"M227.084 2541.1 L249.306 2541.1 L249.306 2543.1 L236.76 2575.66 L231.875 2575.66 L243.681 2545.04 L227.084 2545.04 L227.084 2541.1 Z\" fill=\"#000000\" fill-rule=\"evenodd\" fill-opacity=\"1\" /><path clip-path=\"url(#clip040)\" d=\"M192.223 2441.73 Q188.612 2441.73 186.783 2445.29 Q184.978 2448.84 184.978 2455.97 Q184.978 2463.07 186.783 2466.64 Q188.612 2470.18 192.223 2470.18 Q195.857 2470.18 197.663 2466.64 Q199.491 2463.07 199.491 2455.97 Q199.491 2448.84 197.663 2445.29 Q195.857 2441.73 192.223 2441.73 M192.223 2438.03 Q198.033 2438.03 201.089 2442.63 Q204.167 2447.22 204.167 2455.97 Q204.167 2464.69 201.089 2469.3 Q198.033 2473.88 192.223 2473.88 Q186.413 2473.88 183.334 2469.3 Q180.278 2464.69 180.278 2455.97 Q180.278 2447.22 183.334 2442.63 Q186.413 2438.03 192.223 2438.03 Z\" fill=\"#000000\" fill-rule=\"evenodd\" fill-opacity=\"1\" /><path clip-path=\"url(#clip040)\" d=\"M212.385 2467.33 L217.269 2467.33 L217.269 2473.21 L212.385 2473.21 L212.385 2467.33 Z\" fill=\"#000000\" fill-rule=\"evenodd\" fill-opacity=\"1\" /><path clip-path=\"url(#clip040)\" d=\"M237.454 2456.8 Q234.121 2456.8 232.2 2458.58 Q230.301 2460.36 230.301 2463.49 Q230.301 2466.61 232.2 2468.4 Q234.121 2470.18 237.454 2470.18 Q240.787 2470.18 242.709 2468.4 Q244.63 2466.59 244.63 2463.49 Q244.63 2460.36 242.709 2458.58 Q240.811 2456.8 237.454 2456.8 M232.778 2454.81 Q229.769 2454.07 228.079 2452.01 Q226.413 2449.95 226.413 2446.98 Q226.413 2442.84 229.352 2440.43 Q232.315 2438.03 237.454 2438.03 Q242.616 2438.03 245.556 2440.43 Q248.496 2442.84 248.496 2446.98 Q248.496 2449.95 246.806 2452.01 Q245.139 2454.07 242.153 2454.81 Q245.533 2455.6 247.408 2457.89 Q249.306 2460.18 249.306 2463.49 Q249.306 2468.51 246.227 2471.2 Q243.172 2473.88 237.454 2473.88 Q231.737 2473.88 228.658 2471.2 Q225.602 2468.51 225.602 2463.49 Q225.602 2460.18 227.5 2457.89 Q229.399 2455.6 232.778 2454.81 M231.065 2447.42 Q231.065 2450.11 232.732 2451.61 Q234.422 2453.12 237.454 2453.12 Q240.463 2453.12 242.153 2451.61 Q243.866 2450.11 243.866 2447.42 Q243.866 2444.74 242.153 2443.23 Q240.463 2441.73 237.454 2441.73 Q234.422 2441.73 232.732 2443.23 Q231.065 2444.74 231.065 2447.42 Z\" fill=\"#000000\" fill-rule=\"evenodd\" fill-opacity=\"1\" /><path clip-path=\"url(#clip040)\" d=\"M192.315 2339.28 Q188.704 2339.28 186.876 2342.84 Q185.07 2346.38 185.07 2353.51 Q185.07 2360.62 186.876 2364.18 Q188.704 2367.73 192.315 2367.73 Q195.95 2367.73 197.755 2364.18 Q199.584 2360.62 199.584 2353.51 Q199.584 2346.38 197.755 2342.84 Q195.95 2339.28 192.315 2339.28 M192.315 2335.57 Q198.126 2335.57 201.181 2340.18 Q204.26 2344.76 204.26 2353.51 Q204.26 2362.24 201.181 2366.85 Q198.126 2371.43 192.315 2371.43 Q186.505 2371.43 183.427 2366.85 Q180.371 2362.24 180.371 2353.51 Q180.371 2344.76 183.427 2340.18 Q186.505 2335.57 192.315 2335.57 Z\" fill=\"#000000\" fill-rule=\"evenodd\" fill-opacity=\"1\" /><path clip-path=\"url(#clip040)\" d=\"M212.477 2364.88 L217.362 2364.88 L217.362 2370.76 L212.477 2370.76 L212.477 2364.88 Z\" fill=\"#000000\" fill-rule=\"evenodd\" fill-opacity=\"1\" /><path clip-path=\"url(#clip040)\" d=\"M227.686 2370.04 L227.686 2365.78 Q229.445 2366.61 231.25 2367.05 Q233.056 2367.49 234.792 2367.49 Q239.422 2367.49 241.852 2364.39 Q244.306 2361.27 244.653 2354.92 Q243.311 2356.92 241.25 2357.98 Q239.19 2359.04 236.69 2359.04 Q231.505 2359.04 228.473 2355.92 Q225.463 2352.77 225.463 2347.33 Q225.463 2342.01 228.612 2338.79 Q231.76 2335.57 236.991 2335.57 Q242.986 2335.57 246.135 2340.18 Q249.306 2344.76 249.306 2353.51 Q249.306 2361.68 245.417 2366.57 Q241.551 2371.43 235 2371.43 Q233.241 2371.43 231.436 2371.08 Q229.63 2370.73 227.686 2370.04 M236.991 2355.39 Q240.139 2355.39 241.968 2353.23 Q243.82 2351.08 243.82 2347.33 Q243.82 2343.61 241.968 2341.45 Q240.139 2339.28 236.991 2339.28 Q233.843 2339.28 231.991 2341.45 Q230.162 2343.61 230.162 2347.33 Q230.162 2351.08 231.991 2353.23 Q233.843 2355.39 236.991 2355.39 Z\" fill=\"#000000\" fill-rule=\"evenodd\" fill-opacity=\"1\" /><path clip-path=\"url(#clip040)\" d=\"M182.941 2264.37 L190.579 2264.37 L190.579 2238 L182.269 2239.67 L182.269 2235.41 L190.533 2233.74 L195.209 2233.74 L195.209 2264.37 L202.848 2264.37 L202.848 2268.3 L182.941 2268.3 L182.941 2264.37 Z\" fill=\"#000000\" fill-rule=\"evenodd\" fill-opacity=\"1\" /><path clip-path=\"url(#clip040)\" d=\"M212.292 2262.42 L217.176 2262.42 L217.176 2268.3 L212.292 2268.3 L212.292 2262.42 Z\" fill=\"#000000\" fill-rule=\"evenodd\" fill-opacity=\"1\" /><path clip-path=\"url(#clip040)\" d=\"M237.362 2236.82 Q233.75 2236.82 231.922 2240.39 Q230.116 2243.93 230.116 2251.06 Q230.116 2258.17 231.922 2261.73 Q233.75 2265.27 237.362 2265.27 Q240.996 2265.27 242.801 2261.73 Q244.63 2258.17 244.63 2251.06 Q244.63 2243.93 242.801 2240.39 Q240.996 2236.82 237.362 2236.82 M237.362 2233.12 Q243.172 2233.12 246.227 2237.73 Q249.306 2242.31 249.306 2251.06 Q249.306 2259.79 246.227 2264.39 Q243.172 2268.98 237.362 2268.98 Q231.551 2268.98 228.473 2264.39 Q225.417 2259.79 225.417 2251.06 Q225.417 2242.31 228.473 2237.73 Q231.551 2233.12 237.362 2233.12 Z\" fill=\"#000000\" fill-rule=\"evenodd\" fill-opacity=\"1\" /><path clip-path=\"url(#clip040)\" d=\"M184.167 2161.92 L191.806 2161.92 L191.806 2135.55 L183.496 2137.22 L183.496 2132.96 L191.76 2131.29 L196.436 2131.29 L196.436 2161.92 L204.075 2161.92 L204.075 2165.85 L184.167 2165.85 L184.167 2161.92 Z\" fill=\"#000000\" fill-rule=\"evenodd\" fill-opacity=\"1\" /><path clip-path=\"url(#clip040)\" d=\"M213.519 2159.97 L218.403 2159.97 L218.403 2165.85 L213.519 2165.85 L213.519 2159.97 Z\" fill=\"#000000\" fill-rule=\"evenodd\" fill-opacity=\"1\" /><path clip-path=\"url(#clip040)\" d=\"M229.399 2161.92 L237.037 2161.92 L237.037 2135.55 L228.727 2137.22 L228.727 2132.96 L236.991 2131.29 L241.667 2131.29 L241.667 2161.92 L249.306 2161.92 L249.306 2165.85 L229.399 2165.85 L229.399 2161.92 Z\" fill=\"#000000\" fill-rule=\"evenodd\" fill-opacity=\"1\" /><path clip-path=\"url(#clip040)\" d=\"M59.8075 2652.1 L66.0777 2652.1 Q64.3271 2655.76 63.4677 2659 Q62.6084 2662.25 62.6084 2665.27 Q62.6084 2670.52 64.6454 2673.39 Q66.6824 2676.22 70.4382 2676.22 Q73.5892 2676.22 75.2125 2674.34 Q76.8039 2672.43 77.7906 2667.15 L78.5863 2663.27 Q79.9549 2656.07 83.4242 2652.67 Q86.8617 2649.23 92.6545 2649.23 Q99.5613 2649.23 103.126 2653.88 Q106.691 2658.49 106.691 2667.44 Q106.691 2670.81 105.927 2674.63 Q105.163 2678.42 103.667 2682.49 L97.0469 2682.49 Q99.243 2678.58 100.357 2674.82 Q101.471 2671.07 101.471 2667.44 Q101.471 2661.93 99.3067 2658.94 Q97.1423 2655.95 93.1319 2655.95 Q89.6308 2655.95 87.6574 2658.11 Q85.6841 2660.24 84.6974 2665.15 L83.9335 2669.06 Q82.5012 2676.25 79.4457 2679.47 Q76.3901 2682.68 70.9475 2682.68 Q64.6454 2682.68 61.017 2678.26 Q57.3885 2673.8 57.3885 2666 Q57.3885 2662.66 57.9932 2659.19 Q58.598 2655.72 59.8075 2652.1 Z\" fill=\"#000000\" fill-rule=\"evenodd\" fill-opacity=\"1\" /><path clip-path=\"url(#clip040)\" d=\"M87.8484 2623.26 Q87.8484 2630.36 89.4717 2633.09 Q91.0949 2635.83 95.0098 2635.83 Q98.129 2635.83 99.9751 2633.79 Q101.789 2631.73 101.789 2628.19 Q101.789 2623.32 98.3518 2620.39 Q94.8825 2617.43 89.1534 2617.43 L87.8484 2617.43 L87.8484 2623.26 M85.4294 2611.58 L105.768 2611.58 L105.768 2617.43 L100.357 2617.43 Q103.604 2619.44 105.163 2622.43 Q106.691 2625.42 106.691 2629.75 Q106.691 2635.23 103.635 2638.47 Q100.548 2641.69 95.3918 2641.69 Q89.3762 2641.69 86.3206 2637.68 Q83.2651 2633.64 83.2651 2625.65 L83.2651 2617.43 L82.6922 2617.43 Q78.65 2617.43 76.4538 2620.11 Q74.2258 2622.75 74.2258 2627.56 Q74.2258 2630.61 74.9578 2633.51 Q75.6899 2636.4 77.154 2639.08 L71.7432 2639.08 Q70.5019 2635.86 69.8971 2632.84 Q69.2605 2629.82 69.2605 2626.95 Q69.2605 2619.22 73.2709 2615.4 Q77.2813 2611.58 85.4294 2611.58 Z\" fill=\"#000000\" fill-rule=\"evenodd\" fill-opacity=\"1\" /><path clip-path=\"url(#clip040)\" d=\"M76.963 2571.76 Q73.0163 2569.56 71.1384 2566.51 Q69.2605 2563.45 69.2605 2559.32 Q69.2605 2553.75 73.1755 2550.72 Q77.0585 2547.7 84.2518 2547.7 L105.768 2547.7 L105.768 2553.59 L84.4428 2553.59 Q79.3184 2553.59 76.8357 2555.4 Q74.3531 2557.22 74.3531 2560.94 Q74.3531 2565.49 77.3768 2568.13 Q80.4005 2570.77 85.6204 2570.77 L105.768 2570.77 L105.768 2576.66 L84.4428 2576.66 Q79.2865 2576.66 76.8357 2578.48 Q74.3531 2580.29 74.3531 2584.08 Q74.3531 2588.57 77.4086 2591.21 Q80.4324 2593.85 85.6204 2593.85 L105.768 2593.85 L105.768 2599.74 L70.1199 2599.74 L70.1199 2593.85 L75.6581 2593.85 Q72.3797 2591.84 70.8201 2589.04 Q69.2605 2586.24 69.2605 2582.39 Q69.2605 2578.51 71.2339 2575.8 Q73.2073 2573.07 76.963 2571.76 Z\" fill=\"#000000\" fill-rule=\"evenodd\" fill-opacity=\"1\" /><path clip-path=\"url(#clip040)\" d=\"M100.421 2530.35 L119.327 2530.35 L119.327 2536.24 L70.1199 2536.24 L70.1199 2530.35 L75.5308 2530.35 Q72.3479 2528.51 70.8201 2525.7 Q69.2605 2522.87 69.2605 2518.96 Q69.2605 2512.46 74.4168 2508.42 Q79.573 2504.35 87.9757 2504.35 Q96.3785 2504.35 101.535 2508.42 Q106.691 2512.46 106.691 2518.96 Q106.691 2522.87 105.163 2525.7 Q103.604 2528.51 100.421 2530.35 M87.9757 2510.43 Q81.5145 2510.43 77.8542 2513.1 Q74.1621 2515.74 74.1621 2520.39 Q74.1621 2525.04 77.8542 2527.71 Q81.5145 2530.35 87.9757 2530.35 Q94.4369 2530.35 98.129 2527.71 Q101.789 2525.04 101.789 2520.39 Q101.789 2515.74 98.129 2513.1 Q94.4369 2510.43 87.9757 2510.43 Z\" fill=\"#000000\" fill-rule=\"evenodd\" fill-opacity=\"1\" /><path clip-path=\"url(#clip040)\" d=\"M56.2427 2494.64 L56.2427 2488.78 L105.768 2488.78 L105.768 2494.64 L56.2427 2494.64 Z\" fill=\"#000000\" fill-rule=\"evenodd\" fill-opacity=\"1\" /><path clip-path=\"url(#clip040)\" d=\"M86.4798 2446.04 L89.3443 2446.04 L89.3443 2472.96 Q95.3918 2472.58 98.5746 2469.34 Q101.726 2466.06 101.726 2460.23 Q101.726 2456.86 100.898 2453.71 Q100.071 2450.53 98.4155 2447.41 L103.954 2447.41 Q105.29 2450.56 105.991 2453.87 Q106.691 2457.18 106.691 2460.58 Q106.691 2469.11 101.726 2474.11 Q96.7604 2479.08 88.294 2479.08 Q79.5412 2479.08 74.4168 2474.37 Q69.2605 2469.62 69.2605 2461.6 Q69.2605 2454.41 73.9075 2450.24 Q78.5226 2446.04 86.4798 2446.04 M84.761 2451.89 Q79.9549 2451.96 77.0904 2454.6 Q74.2258 2457.21 74.2258 2461.54 Q74.2258 2466.44 76.9949 2469.4 Q79.764 2472.33 84.7929 2472.77 L84.761 2451.89 Z\" fill=\"#000000\" fill-rule=\"evenodd\" fill-opacity=\"1\" /><path clip-path=\"url(#clip040)\" d=\"M70.1199 2419.91 L70.1199 2413.7 L100.039 2402.56 L70.1199 2391.42 L70.1199 2385.21 L105.768 2398.58 L105.768 2406.54 L70.1199 2419.91 Z\" fill=\"#000000\" fill-rule=\"evenodd\" fill-opacity=\"1\" /><path clip-path=\"url(#clip040)\" d=\"M87.8484 2360.93 Q87.8484 2368.03 89.4717 2370.76 Q91.0949 2373.5 95.0098 2373.5 Q98.129 2373.5 99.9751 2371.46 Q101.789 2369.39 101.789 2365.86 Q101.789 2360.99 98.3518 2358.06 Q94.8825 2355.1 89.1534 2355.1 L87.8484 2355.1 L87.8484 2360.93 M85.4294 2349.25 L105.768 2349.25 L105.768 2355.1 L100.357 2355.1 Q103.604 2357.11 105.163 2360.1 Q106.691 2363.09 106.691 2367.42 Q106.691 2372.9 103.635 2376.14 Q100.548 2379.36 95.3918 2379.36 Q89.3762 2379.36 86.3206 2375.35 Q83.2651 2371.3 83.2651 2363.32 L83.2651 2355.1 L82.6922 2355.1 Q78.65 2355.1 76.4538 2357.78 Q74.2258 2360.42 74.2258 2365.23 Q74.2258 2368.28 74.9578 2371.18 Q75.6899 2374.07 77.154 2376.75 L71.7432 2376.75 Q70.5019 2373.53 69.8971 2370.51 Q69.2605 2367.49 69.2605 2364.62 Q69.2605 2356.89 73.2709 2353.07 Q77.2813 2349.25 85.4294 2349.25 Z\" fill=\"#000000\" fill-rule=\"evenodd\" fill-opacity=\"1\" /><path clip-path=\"url(#clip040)\" d=\"M56.2427 2337.18 L56.2427 2331.33 L105.768 2331.33 L105.768 2337.18 L56.2427 2337.18 Z\" fill=\"#000000\" fill-rule=\"evenodd\" fill-opacity=\"1\" /><path clip-path=\"url(#clip040)\" d=\"M91.6997 2319.68 L70.1199 2319.68 L70.1199 2313.82 L91.4769 2313.82 Q96.5376 2313.82 99.0839 2311.85 Q101.598 2309.88 101.598 2305.93 Q101.598 2301.19 98.5746 2298.45 Q95.5509 2295.68 90.331 2295.68 L70.1199 2295.68 L70.1199 2289.82 L105.768 2289.82 L105.768 2295.68 L100.293 2295.68 Q103.54 2297.81 105.131 2300.65 Q106.691 2303.45 106.691 2307.17 Q106.691 2313.31 102.871 2316.5 Q99.052 2319.68 91.6997 2319.68 M69.2605 2304.94 L69.2605 2304.94 Z\" fill=\"#000000\" fill-rule=\"evenodd\" fill-opacity=\"1\" /><path clip-path=\"url(#clip040)\" d=\"M86.4798 2247.27 L89.3443 2247.27 L89.3443 2274.2 Q95.3918 2273.81 98.5746 2270.57 Q101.726 2267.29 101.726 2261.46 Q101.726 2258.09 100.898 2254.94 Q100.071 2251.76 98.4155 2248.64 L103.954 2248.64 Q105.29 2251.79 105.991 2255.1 Q106.691 2258.41 106.691 2261.81 Q106.691 2270.34 101.726 2275.34 Q96.7604 2280.31 88.294 2280.31 Q79.5412 2280.31 74.4168 2275.6 Q69.2605 2270.85 69.2605 2262.83 Q69.2605 2255.64 73.9075 2251.47 Q78.5226 2247.27 86.4798 2247.27 M84.761 2253.13 Q79.9549 2253.19 77.0904 2255.83 Q74.2258 2258.44 74.2258 2262.77 Q74.2258 2267.67 76.9949 2270.63 Q79.764 2273.56 84.7929 2274 L84.761 2253.13 Z\" fill=\"#000000\" fill-rule=\"evenodd\" fill-opacity=\"1\" /><path clip-path=\"url(#clip040)\" d=\"M1146.77 2028.54 L1146.77 2035.59 Q1143.61 2033.97 1140.21 2033.16 Q1136.81 2032.35 1133.16 2032.35 Q1127.61 2032.35 1124.82 2034.05 Q1122.06 2035.75 1122.06 2039.16 Q1122.06 2041.75 1124.05 2043.25 Q1126.03 2044.71 1132.03 2046.04 L1134.58 2046.61 Q1142.52 2048.31 1145.84 2051.43 Q1149.2 2054.51 1149.2 2060.06 Q1149.2 2066.38 1144.18 2070.06 Q1139.2 2073.75 1130.45 2073.75 Q1126.8 2073.75 1122.83 2073.02 Q1118.9 2072.33 1114.53 2070.92 L1114.53 2063.22 Q1118.66 2065.37 1122.67 2066.46 Q1126.68 2067.51 1130.61 2067.51 Q1135.87 2067.51 1138.71 2065.73 Q1141.55 2063.91 1141.55 2060.63 Q1141.55 2057.59 1139.48 2055.97 Q1137.45 2054.35 1130.53 2052.85 L1127.93 2052.24 Q1121.01 2050.78 1117.93 2047.78 Q1114.85 2044.75 1114.85 2039.48 Q1114.85 2033.08 1119.39 2029.6 Q1123.92 2026.11 1132.27 2026.11 Q1136.4 2026.11 1140.05 2026.72 Q1143.69 2027.33 1146.77 2028.54 Z\" fill=\"#000000\" fill-rule=\"evenodd\" fill-opacity=\"1\" /><path clip-path=\"url(#clip040)\" d=\"M1164.11 2040.9 L1181.29 2040.9 L1181.29 2045.52 L1157.06 2045.52 L1157.06 2041.06 Q1158.44 2039.8 1160.99 2037.54 Q1174.93 2025.18 1174.93 2021.37 Q1174.93 2018.7 1172.82 2017.08 Q1170.71 2015.42 1167.27 2015.42 Q1165.16 2015.42 1162.69 2016.15 Q1160.22 2016.84 1157.3 2018.25 L1157.3 2013.27 Q1160.42 2012.14 1163.1 2011.57 Q1165.81 2011 1168.12 2011 Q1173.99 2011 1177.52 2013.68 Q1181.04 2016.35 1181.04 2020.72 Q1181.04 2026.36 1167.63 2037.86 Q1165.37 2039.8 1164.11 2040.9 Z\" fill=\"#000000\" fill-rule=\"evenodd\" fill-opacity=\"1\" /><polyline clip-path=\"url(#clip046)\" style=\"stroke:#009af9; stroke-linecap:butt; stroke-linejoin:round; stroke-width:4; stroke-opacity:1; fill:none\" points=\"\n",
       "  356.774,2586.72 357.565,2637.16 358.357,2610.96 359.148,2348.96 359.94,2259.82 360.731,2674.16 361.523,2504.18 362.315,2516.93 363.106,2586.37 363.898,2600.31 \n",
       "  364.689,2612.37 365.481,2526.49 366.272,2377.67 367.064,2626.99 367.855,2403.53 368.647,2431.33 369.438,2478.19 370.23,2622.23 371.021,2561.11 371.813,2550.12 \n",
       "  372.604,2527.82 373.396,2531.23 374.187,2598.95 374.979,2461.02 375.77,2479.6 376.562,2489.69 377.354,2556.08 378.145,2449.99 378.937,2477.88 379.728,2516.8 \n",
       "  380.52,2392.78 381.311,2456.01 382.103,2350.69 382.894,2415.77 383.686,2419.32 384.477,2481.71 385.269,2592.41 386.06,2517.2 386.852,2654.4 387.643,2656.97 \n",
       "  388.435,2407.38 389.226,2313.1 390.018,2348 390.81,2596.3 391.601,2570.76 392.393,2516.63 393.184,2516.4 393.976,2496.76 394.767,2556.14 395.559,2556.14 \n",
       "  396.35,2618.26 397.142,2483.66 397.933,2491.63 398.725,2474.88 399.516,2446.1 400.308,2434.43 401.099,2399.22 401.891,2428.79 402.682,2486.2 403.474,2494.28 \n",
       "  404.265,2549.98 405.057,2528.63 405.849,2548.21 406.64,2523.47 407.432,2519.63 408.223,2501.03 409.015,2378.52 409.806,2458.63 410.598,2656.44 411.389,2652.34 \n",
       "  412.181,2621.45 412.972,2499.23 413.764,2630.93 414.555,2622.69 415.347,2596.77 416.138,2652.63 416.93,2571.64 417.721,2563.57 418.513,2605.1 419.305,2495.65 \n",
       "  420.096,2524.18 420.888,2524.18 421.679,2651.63 422.471,2651.54 423.262,2667.72 424.054,2667.72 424.845,2506.17 425.637,2489.01 426.428,2508.76 427.22,2520.19 \n",
       "  428.011,2542.37 428.803,2538.56 429.594,2538.56 430.386,2538.56 431.177,2581.91 431.969,2498.01 432.76,2641.79 433.552,2646.29 434.344,2548.19 435.135,2595.83 \n",
       "  435.927,2616.3 436.718,2619.15 437.51,2664.85 438.301,2675.59 439.093,2327.34 439.884,2721.81 440.676,2638.9 441.467,2453.73 442.259,2663.46 443.05,2560.1 \n",
       "  443.842,2504.55 444.633,2494.55 445.425,2642.48 446.216,2521.01 447.008,2518.37 447.8,2572.67 448.591,2594.41 449.383,2620.86 450.174,2447.34 450.966,2488.56 \n",
       "  451.757,2493.01 452.549,2420.1 453.34,2415.96 454.132,2574.49 454.923,2574.56 455.715,2539 456.506,2505.29 457.298,2630.68 458.089,2647.73 458.881,2649.58 \n",
       "  459.672,2677.27 460.464,2567.18 461.255,2568.48 462.047,2449.39 462.839,2612.04 463.63,2612.04 464.422,2570.36 465.213,2590.07 466.005,2557.75 466.796,2611.61 \n",
       "  467.588,2563.23 468.379,2527.42 469.171,2556.57 469.962,2635.26 470.754,2638.32 471.545,2633.79 472.337,2582.54 473.128,2618.88 473.92,2493.75 474.711,2596.73 \n",
       "  475.503,2596.73 476.295,2596.73 477.086,2618.66 477.878,2612.51 478.669,2638.16 479.461,2642.23 480.252,2642.23 481.044,2595.3 481.835,2604.37 482.627,2520.08 \n",
       "  483.418,2484.65 484.21,2552.41 485.001,2615.66 485.793,2607.37 486.584,2429.66 487.376,2644.39 488.167,2598.16 488.959,2600.07 489.75,2647.9 490.542,2476.41 \n",
       "  491.334,2472.27 492.125,2655.71 492.917,2647.52 493.708,2679.19 494.5,2567.03 495.291,2524.71 496.083,2482.07 496.874,2478.85 497.666,2674.68 498.457,2703.25 \n",
       "  499.249,2363.92 500.04,2489.14 500.832,2643.51 501.623,2661.26 502.415,2565.91 503.206,2466.73 503.998,2415.67 504.79,2587.59 505.581,2496.15 506.373,2698.35 \n",
       "  507.164,2543.43 507.956,2507.63 508.747,2530.76 509.539,2569.6 510.33,2345.4 511.122,2614.18 511.913,2617.63 512.705,2617.63 513.496,2555.65 514.288,2563.69 \n",
       "  515.079,2573.94 515.871,2557.02 516.662,2517.73 517.454,2602.59 518.245,2553.77 519.037,2569.03 519.829,2581.91 520.62,2537.73 521.412,2490.05 522.203,2585.33 \n",
       "  522.995,2545.87 523.786,2640.53 524.578,2465.35 525.369,2503.55 526.161,2510.14 526.952,2638.74 527.744,2697.81 528.535,2703.2 529.327,2741.56 530.118,2738.15 \n",
       "  530.91,2738.15 531.701,2711.26 532.493,2698.06 533.285,2691.42 534.076,2682.08 534.868,2617.83 535.659,2480.75 536.451,2663.71 537.242,2401.88 538.034,2465.4 \n",
       "  538.825,2612.31 539.617,2579.59 540.408,2578.41 541.2,2660.14 541.991,2469.81 542.783,2562.54 543.574,2431.19 544.366,2567.24 545.157,2654.55 545.949,2484.85 \n",
       "  546.74,2477.37 547.532,2465.2 548.324,2392.78 549.115,2601.63 549.907,2566.97 550.698,2669.34 551.49,2623.48 552.281,2553.81 553.073,2668.89 553.864,2378.91 \n",
       "  554.656,2359.13 555.447,2547.01 556.239,2415.11 557.03,2613.99 557.822,2352.52 558.613,2366.75 559.405,2330.94 560.196,2522.5 560.988,2492.43 561.78,2590.32 \n",
       "  562.571,2567.64 563.363,2420.51 564.154,2509.24 564.946,2453.69 565.737,2489.47 566.529,2518.83 567.32,2620.18 568.112,2621.22 568.903,2443.02 569.695,2456.06 \n",
       "  570.486,2456.06 571.278,2559.36 572.069,2619.41 572.861,2479.96 573.652,2609.92 574.444,2518.15 575.235,2553.03 576.027,2484.94 576.819,2597.83 577.61,2562.04 \n",
       "  578.402,2551.66 579.193,2603.87 579.985,2518.43 580.776,2535.55 581.568,2621.59 582.359,2555.83 583.151,2332.44 583.942,2534.06 584.734,2518.6 585.525,2581.05 \n",
       "  586.317,2531.88 587.108,2515.63 587.9,2633.72 588.691,2579.57 589.483,2564.81 590.275,2564.81 591.066,2467.93 591.858,2644.04 592.649,2598.72 593.441,2576.61 \n",
       "  594.232,2569.87 595.024,2566.75 595.815,2565.32 596.607,2557.31 597.398,2567.41 598.19,2542.04 598.981,2577.49 599.773,2566.35 600.564,2538.61 601.356,2608.14 \n",
       "  602.147,2665.03 602.939,2637.37 603.73,2589.28 604.522,2652.17 605.314,2672.94 606.105,2633.25 606.897,2643.26 607.688,2604.14 608.48,2524.93 609.271,2473.57 \n",
       "  610.063,2611.73 610.854,2504.33 611.646,2596.33 612.437,2547.19 613.229,2544.72 614.02,2542.02 614.812,2563.04 615.603,2529.45 616.395,2427.32 617.186,2584.3 \n",
       "  617.978,2582.72 618.77,2574.36 619.561,2567.34 620.353,2581.6 621.144,2572.87 621.936,2478.87 622.727,2497.87 623.519,2447.46 624.31,2618.7 625.102,2610.8 \n",
       "  625.893,2546.12 626.685,2570.59 627.476,2584.68 628.268,2565 629.059,2556.55 629.851,2561.96 630.642,2594.27 631.434,2543.4 632.225,2558.15 633.017,2540.48 \n",
       "  633.809,2552.13 634.6,2514.82 635.392,2586.26 636.183,2505.57 636.975,2613.75 637.766,2484.65 638.558,2526.98 639.349,2684.97 640.141,2660.53 640.932,2530.66 \n",
       "  641.724,2504.04 642.515,2548.64 643.307,2588.12 644.098,2533.35 644.89,2560.24 645.681,2572.66 646.473,2624.78 647.265,2445.05 648.056,2528.21 648.848,2597.95 \n",
       "  649.639,2595.91 650.431,2552.41 651.222,2538.79 652.014,2550.69 652.805,2568.33 653.597,2559.32 654.388,2625.75 655.18,2582.2 655.971,2571.2 656.763,2344.33 \n",
       "  657.554,2313.35 658.346,2374.98 659.137,2360.42 659.929,2411.58 660.72,2551.4 661.512,2551.4 662.304,2574.49 663.095,2574.49 663.887,2554.35 664.678,2592.81 \n",
       "  665.47,2540.97 666.261,2512.31 667.053,2604.66 667.844,2545.89 668.636,2530.71 669.427,2530.71 670.219,2472.37 671.01,2605.18 671.802,2483.01 672.593,2565.35 \n",
       "  673.385,2543.14 674.176,2606.17 674.968,2463.96 675.76,2637.11 676.551,2711.29 677.343,2446.95 678.134,2412.79 678.926,2584.94 679.717,2376.05 680.509,2519.34 \n",
       "  681.3,2567.41 682.092,2553.57 682.883,2553.57 683.675,2552.3 684.466,2477 685.258,2504.35 686.049,2507.45 686.841,2625.67 687.632,2560.44 688.424,2550.88 \n",
       "  689.215,2545.97 690.007,2541.01 690.799,2425.97 691.59,2387.17 692.382,2402.07 693.173,2525.41 693.965,2600.04 694.756,2682.24 695.548,2636.08 696.339,2653.92 \n",
       "  697.131,2636.43 697.922,2556.88 698.714,2556.65 699.505,2601.68 700.297,2601.68 701.088,2586.73 701.88,2543.35 702.671,2533.52 703.463,2393.43 704.255,2629.86 \n",
       "  705.046,2667.66 705.838,2537.55 706.629,2621.35 707.421,2621.35 708.212,2621.35 709.004,2560.5 709.795,2551.19 710.587,2546.17 711.378,2602.85 712.17,2678.67 \n",
       "  712.961,2678.67 713.753,2623.5 714.544,2427.49 715.336,2427.13 716.127,2464.2 716.919,2563.17 717.71,2488.07 718.502,2519.74 719.294,2487.33 720.085,2526.12 \n",
       "  720.877,2579.92 721.668,2566.19 722.46,2541.45 723.251,2628.55 724.043,2623.28 724.834,2442.62 725.626,2614.97 726.417,2524.35 727.209,2499.33 728,2436.88 \n",
       "  728.792,2450.09 729.583,2409.3 730.375,2433.51 731.166,2540.2 731.958,2489.36 732.75,2546.75 733.541,2560.21 734.333,2657.74 735.124,2457.73 735.916,2491.91 \n",
       "  736.707,2452.47 737.499,2628.12 738.29,2373.8 739.082,2354.86 739.873,2425.03 740.665,2414.11 741.456,2381.5 742.248,2379.71 743.039,2325.06 743.831,2655.59 \n",
       "  744.622,2655.59 745.414,2655.59 746.205,2642.82 746.997,2641.53 747.789,2551.56 748.58,2603.86 749.372,2604.09 750.163,2604.78 750.955,2536.78 751.746,2661.65 \n",
       "  752.538,2661.89 753.329,2485.12 754.121,2524.46 754.912,2527.2 755.704,2452.66 756.495,2654.53 757.287,2688.19 758.078,2661.63 758.87,2670.9 759.661,2669.37 \n",
       "  760.453,2694.54 761.245,2559.82 762.036,2539.61 762.828,2533.3 763.619,2530.76 764.411,2579.26 765.202,2482.25 765.994,2472.85 766.785,2458.17 767.577,2464.97 \n",
       "  768.368,2475.54 769.16,2483.85 769.951,2558.99 770.743,2491.41 771.534,2492.58 772.326,2548.25 773.117,2548.25 773.909,2552.24 774.7,2424.52 775.492,2428.2 \n",
       "  776.284,2411.09 777.075,2535.98 777.867,2582.38 778.658,2513.92 779.45,2529.47 780.241,2496.32 781.033,2617.81 781.824,2667.35 782.616,2691.58 783.407,2640 \n",
       "  784.199,2591.68 784.99,2510.24 785.782,2527.88 786.573,2587.03 787.365,2572.35 788.156,2602.5 788.948,2529.2 789.74,2563.25 790.531,2549.56 791.323,2617.85 \n",
       "  792.114,2478.88 792.906,2512.36 793.697,2507.22 794.489,2489.45 795.28,2617.98 796.072,2609.22 796.863,2511.42 797.655,2272.46 798.446,2653.98 799.238,2650.34 \n",
       "  800.029,2602.05 800.821,2571.49 801.612,2494.89 802.404,2439.55 803.195,2511.85 803.987,2468.08 804.779,2502.52 805.57,2534.28 806.362,2496.29 807.153,2584.6 \n",
       "  807.945,2581.53 808.736,2583.38 809.528,2582.37 810.319,2584.1 811.111,2659.39 811.902,2437.61 812.694,2606.43 813.485,2654.44 814.277,2544.17 815.068,2685.04 \n",
       "  815.86,2672.46 816.651,2666.21 817.443,2664.56 818.235,2402.28 819.026,2401.87 819.818,2596.89 820.609,2511.04 821.401,2593.57 822.192,2617.19 822.984,2636.35 \n",
       "  823.775,2688.58 824.567,2394.74 825.358,2401.33 826.15,2445.21 826.941,2602.45 827.733,2548.95 828.524,2525.1 829.316,2466.34 830.107,2443.58 830.899,2413.88 \n",
       "  831.69,2552.25 832.482,2651.95 833.274,2635.08 834.065,2660.61 834.857,2548.27 835.648,2632.76 836.44,2632.76 837.231,2721.93 838.023,2713.23 838.814,2310.15 \n",
       "  839.606,2564.52 840.397,2560.15 841.189,2531.37 841.98,2621.52 842.772,2481.11 843.563,2554.87 844.355,2518.33 845.146,2454.93 845.938,2581.95 846.73,2525.13 \n",
       "  847.521,2504.65 848.313,2631.03 849.104,2448.88 849.896,2393.83 850.687,2489.8 851.479,2604.25 852.27,2561.01 853.062,2520.36 853.853,2466.39 854.645,2595.84 \n",
       "  855.436,2634.45 856.228,2419.29 857.019,2314.49 857.811,2693.63 858.602,2657.07 859.394,2462.21 860.185,2615.82 860.977,2612.86 861.769,2587.97 862.56,2672.12 \n",
       "  863.352,2675.85 864.143,2499.06 864.935,2546.31 865.726,2570.75 866.518,2615.02 867.309,2601.4 868.101,2492.04 868.892,2603.64 869.684,2586.9 870.475,2586.65 \n",
       "  871.267,2564.26 872.058,2592.26 872.85,2543.86 873.641,2511.78 874.433,2507.71 875.225,2545.35 876.016,2632.49 876.808,2586.91 877.599,2506.01 878.391,2484.64 \n",
       "  879.182,2553.62 879.974,2608.55 880.765,2621.28 881.557,2570.59 882.348,2511.7 883.14,2676.46 883.931,2352.57 884.723,2603.76 885.514,2570.38 886.306,2503.92 \n",
       "  887.097,2601.86 887.889,2641.77 888.68,2465.32 889.472,2622.21 890.264,2617.33 891.055,2502.35 891.847,2452.92 892.638,2647.95 893.43,2561.16 894.221,2527.91 \n",
       "  895.013,2562.77 895.804,2454.29 896.596,2622.99 897.387,2560.77 898.179,2568.6 898.97,2440.46 899.762,2482.19 900.553,2592.66 901.345,2549.7 902.136,2609.13 \n",
       "  902.928,2634.07 903.72,2561.31 904.511,2602.53 905.303,2475.8 906.094,2494.58 906.886,2678.71 907.677,2683.66 908.469,2521.16 909.26,2548.43 910.052,2568.23 \n",
       "  910.843,2473.11 911.635,2362.29 912.426,2658.89 913.218,2635.32 914.009,2618.75 914.801,2521.56 915.592,2466.62 916.384,2531.15 917.175,2589.38 917.967,2597 \n",
       "  918.759,2592.02 919.55,2599.76 920.342,2599.76 921.133,2525.97 921.925,2550.96 922.716,2629.47 923.508,2621.09 924.299,2508.96 925.091,2668.82 925.882,2516.03 \n",
       "  926.674,2627 927.465,2472.07 928.257,2486.71 929.048,2469.49 929.84,2530.13 930.631,2584.81 931.423,2379.12 932.215,2529.04 933.006,2527.78 933.798,2576.93 \n",
       "  934.589,2521.09 935.381,2506.26 936.172,2507.3 936.964,2523.69 937.755,2491.1 938.547,2611.35 939.338,2571.73 940.13,2472.09 940.921,2573.4 941.713,2592.05 \n",
       "  942.504,2482.51 943.296,2617 944.087,2639.71 944.879,2643.75 945.67,2643.75 946.462,2526.06 947.254,2568.95 948.045,2658.8 948.837,2679.54 949.628,2738.4 \n",
       "  950.42,2738.4 951.211,2704.37 952.003,2693.67 952.794,2541.87 953.586,2540.5 954.377,2601.15 955.169,2502.39 955.96,2496.11 956.752,2534.83 957.543,2531.53 \n",
       "  958.335,2531.53 959.126,2505.33 959.918,2520.38 960.71,2519.33 961.501,2574.13 962.293,2561 963.084,2568.27 963.876,2540.01 964.667,2541.84 965.459,2644.42 \n",
       "  966.25,2450.62 967.042,2531.75 967.833,2618.48 968.625,2646.42 969.416,2605.73 970.208,2632.41 970.999,2576.28 971.791,2510.37 972.582,2523.6 973.374,2596.62 \n",
       "  974.165,2601.69 974.957,2606.82 975.749,2455.03 976.54,2499.15 977.332,2615.28 978.123,2602.69 978.915,2614.35 979.706,2609.3 980.498,2617.13 981.289,2522.25 \n",
       "  982.081,2553.09 982.872,2448.7 983.664,2448.7 984.455,2448 985.247,2491.11 986.038,2491.11 986.83,2502.59 987.621,2438.17 988.413,2542.63 989.204,2485.15 \n",
       "  989.996,2554.92 990.788,2530.1 991.579,2530.1 992.371,2562.42 993.162,2510.59 993.954,2504.93 994.745,2590.13 995.537,2570.39 996.328,2689.81 997.12,2638.79 \n",
       "  997.911,2533.79 998.703,2588.64 999.494,2586.14 1000.29,2469.05 1001.08,2562.16 1001.87,2615.53 1002.66,2544.27 1003.45,2502.64 1004.24,2559.5 1005.04,2568.16 \n",
       "  1005.83,2678.86 1006.62,2686.45 1007.41,2501.89 1008.2,2594.95 1008.99,2569.43 1009.78,2605.41 1010.58,2566.49 1011.37,2539.89 1012.16,2584.11 1012.95,2535.06 \n",
       "  1013.74,2570.77 1014.53,2597 1015.32,2432.17 1016.12,2458.31 1016.91,2454.16 1017.7,2590.26 1018.49,2599.42 1019.28,2642.73 1020.07,2478.88 1020.87,2539.83 \n",
       "  1021.66,2609.86 1022.45,2569.48 1023.24,2578.63 1024.03,2568.31 1024.82,2638.63 1025.61,2575.15 1026.41,2576.1 1027.2,2514.57 1027.99,2538.23 1028.78,2573.06 \n",
       "  1029.57,2545.47 1030.36,2475.05 1031.16,2500.79 1031.95,2539.99 1032.74,2539.99 1033.53,2542.23 1034.32,2574.44 1035.11,2421.73 1035.9,2579.89 1036.7,2593.14 \n",
       "  1037.49,2564.01 1038.28,2490.82 1039.07,2542.35 1039.86,2609.15 1040.65,2496.63 1041.45,2484.07 1042.24,2439.16 1043.03,2425.56 1043.82,2335.43 1044.61,2528.55 \n",
       "  1045.4,2577.78 1046.19,2587.7 1046.99,2541.27 1047.78,2550.6 1048.57,2511.4 1049.36,2598.08 1050.15,2606.71 1050.94,2557.36 1051.74,2565.85 1052.53,2567.23 \n",
       "  1053.32,2522.4 1054.11,2570.72 1054.9,2567.4 1055.69,2523.33 1056.48,2523.36 1057.28,2543.47 1058.07,2653.18 1058.86,2522.4 1059.65,2539.22 1060.44,2617.29 \n",
       "  1061.23,2595.95 1062.03,2458.08 1062.82,2586.98 1063.61,2468.25 1064.4,2522 1065.19,2536.28 1065.98,2589.04 1066.77,2596.37 1067.57,2530.07 1068.36,2485.79 \n",
       "  1069.15,2454.66 1069.94,2621.65 1070.73,2621.65 1071.52,2500.15 1072.31,2344.61 1073.11,2484.81 1073.9,2392.44 1074.69,2524.99 1075.48,2527.08 1076.27,2547.65 \n",
       "  1077.06,2510.77 1077.86,2493.38 1078.65,2513.76 1079.44,2631.07 1080.23,2456.44 1081.02,2663.98 1081.81,2626.06 1082.6,2622.38 1083.4,2561.53 1084.19,2621.05 \n",
       "  1084.98,2676.76 1085.77,2712.4 1086.56,2511.67 1087.35,2506.74 1088.15,2626.81 1088.94,2505.55 1089.73,2474.21 1090.52,2379.09 1091.31,2495.42 1092.1,2633.67 \n",
       "  1092.89,2627.14 1093.69,2400.15 1094.48,2400.79 1095.27,2437.97 1096.06,2421.06 1096.85,2639.67 1097.64,2612.76 1098.44,2595.85 1099.23,2615.16 1100.02,2604.84 \n",
       "  1100.81,2576.37 1101.6,2623.95 1102.39,2513.48 1103.18,2589.69 1103.98,2567.43 1104.77,2531.46 1105.56,2483.48 1106.35,2503 1107.14,2551.66 1107.93,2435.92 \n",
       "  1108.73,2425.56 1109.52,2496.4 1110.31,2431.97 1111.1,2537.01 1111.89,2463.85 1112.68,2445.62 1113.47,2445.62 1114.27,2646.36 1115.06,2619.25 1115.85,2586.3 \n",
       "  1116.64,2402.57 1117.43,2607.6 1118.22,2687.42 1119.02,2539.61 1119.81,2428.3 1120.6,2493.29 1121.39,2438.77 1122.18,2507.49 1122.97,2509.23 1123.76,2459.73 \n",
       "  1124.56,2582.89 1125.35,2515.28 1126.14,2556.1 1126.93,2621.76 1127.72,2494.9 1128.51,2576.02 1129.3,2622.56 1130.1,2530.69 1130.89,2566.64 1131.68,2473.45 \n",
       "  1132.47,2441.63 1133.26,2480.74 1134.05,2620.1 1134.85,2285.09 1135.64,2298.22 1136.43,2619.84 1137.22,2544.15 1138.01,2657.87 1138.8,2646.07 1139.59,2629.59 \n",
       "  1140.39,2514.72 1141.18,2561.97 1141.97,2616.78 1142.76,2518.46 1143.55,2527.87 1144.34,2652.43 1145.14,2557.73 1145.93,2552.94 1146.72,2528.73 1147.51,2509.93 \n",
       "  1148.3,2356.92 1149.09,2336.68 1149.88,2331.25 1150.68,2308.76 1151.47,2309.65 1152.26,2465.74 1153.05,2664.39 1153.84,2640.58 1154.63,2644.35 1155.43,2583.71 \n",
       "  1156.22,2585.17 1157.01,2618.16 1157.8,2443.55 1158.59,2520.5 1159.38,2473.26 1160.17,2584.79 1160.97,2593.29 1161.76,2594.98 1162.55,2515.6 1163.34,2510.84 \n",
       "  1164.13,2529.18 1164.92,2728.85 1165.72,2694.04 1166.51,2634.16 1167.3,2602.2 1168.09,2590.01 1168.88,2567.57 1169.67,2525.97 1170.46,2303.43 1171.26,2718.35 \n",
       "  1172.05,2484.69 1172.84,2355.88 1173.63,2352.1 1174.42,2594.89 1175.21,2468.79 1176.01,2682.39 1176.8,2456.21 1177.59,2592.56 1178.38,2528.93 1179.17,2600.81 \n",
       "  1179.96,2592.46 1180.75,2686.06 1181.55,2569.22 1182.34,2602.71 1183.13,2611.54 1183.92,2533.8 1184.71,2613.81 1185.5,2495.62 1186.29,2536.68 1187.09,2480.96 \n",
       "  1187.88,2617.72 1188.67,2604.8 1189.46,2560.29 1190.25,2487.24 1191.04,2389.09 1191.84,2445.96 1192.63,2530.25 1193.42,2539.74 1194.21,2515.25 1195,2527.2 \n",
       "  1195.79,2557.08 1196.58,2376.18 1197.38,2435.15 1198.17,2430.65 1198.96,2503.94 1199.75,2393.93 1200.54,2392.16 1201.33,2677.69 1202.13,2671.3 1202.92,2582.73 \n",
       "  1203.71,2653.11 1204.5,2617.8 1205.29,2524.29 1206.08,2550.14 1206.87,2516.32 1207.67,2618.21 1208.46,2640.83 1209.25,2466.19 1210.04,2508.42 1210.83,2600.09 \n",
       "  1211.62,2440.79 1212.42,2494.65 1213.21,2487.2 1214,2423.31 1214.79,2637.82 1215.58,2623.88 1216.37,2636.56 1217.16,2646.76 1217.96,2614.12 1218.75,2552.29 \n",
       "  1219.54,2581.69 1220.33,2525.01 1221.12,2490.49 1221.91,2576.74 1222.71,2538.45 1223.5,2552.57 1224.29,2476.09 1225.08,2631.84 1225.87,2631.84 1226.66,2568.94 \n",
       "  1227.45,2591.32 1228.25,2595.16 1229.04,2549.53 1229.83,2415.83 1230.62,2465.32 1231.41,2474.75 1232.2,2689.44 1233,2694.23 1233.79,2550.29 1234.58,2443.66 \n",
       "  1235.37,2288.16 1236.16,2442.29 1236.95,2469.74 1237.74,2517.96 1238.54,2713.71 1239.33,2713.71 1240.12,2696.2 1240.91,2613.49 1241.7,2622.39 1242.49,2542.55 \n",
       "  1243.28,2534 1244.08,2540.42 1244.87,2496.28 1245.66,2455.93 1246.45,2407.58 1247.24,2389.66 1248.03,2461.98 1248.83,2498.97 1249.62,2552.45 1250.41,2437.02 \n",
       "  1251.2,2628.86 1251.99,2637.06 1252.78,2571.28 1253.57,2554.04 1254.37,2555.6 1255.16,2587.35 1255.95,2558.28 1256.74,2648.95 1257.53,2669.29 1258.32,2657.61 \n",
       "  1259.12,2393.11 1259.91,2424.39 1260.7,2631.02 1261.49,2502.16 1262.28,2470.41 1263.07,2596.26 1263.86,2551.59 1264.66,2582.66 1265.45,2476.51 1266.24,2533.14 \n",
       "  1267.03,2566.64 1267.82,2569.28 1268.61,2508.09 1269.41,2519.44 1270.2,2479.72 1270.99,2537.82 1271.78,2597.35 1272.57,2605.81 1273.36,2570.63 1274.15,2562.1 \n",
       "  1274.95,2665.08 1275.74,2678.54 1276.53,2303.25 1277.32,2741.57 1278.11,2542.79 1278.9,2586.08 1279.7,2641.71 1280.49,2692.78 1281.28,2692.78 1282.07,2641.19 \n",
       "  1282.86,2467.86 1283.65,2468.16 1284.44,2684.25 1285.24,2489.4 1286.03,2484.17 1286.82,2652.87 1287.61,2684.38 1288.4,2635.8 1289.19,2597.66 1289.99,2598.81 \n",
       "  1290.78,2480.1 1291.57,2454.48 1292.36,2616.16 1293.15,2492.68 1293.94,2621.31 1294.73,2621.31 1295.53,2529.56 1296.32,2440.79 1297.11,2651.38 1297.9,2636.71 \n",
       "  1298.69,2640.44 1299.48,2606.88 1300.27,2596.76 1301.07,2522.66 1301.86,2589.7 1302.65,2400.35 1303.44,2502.95 1304.23,2598.24 1305.02,2589.55 1305.82,2653.65 \n",
       "  1306.61,2626.68 1307.4,2554.86 1308.19,2466.77 1308.98,2573.5 1309.77,2640.38 1310.56,2640.38 1311.36,2629.8 1312.15,2556 1312.94,2574.47 1313.73,2635.37 \n",
       "  1314.52,2651.76 1315.31,2618.41 1316.11,2461.48 1316.9,2585.06 1317.69,2581.98 1318.48,2581.41 1319.27,2648.21 1320.06,2580.86 1320.85,2669.16 1321.65,2625.59 \n",
       "  1322.44,2643.71 1323.23,2642.35 1324.02,2477.15 1324.81,2375.49 1325.6,2504.67 1326.4,2511.88 1327.19,2556.29 1327.98,2578.73 1328.77,2521.9 1329.56,2694.5 \n",
       "  1330.35,2604.32 1331.14,2512.94 1331.94,2601.9 1332.73,2601.9 1333.52,2504.14 1334.31,2547.15 1335.1,2728.07 1335.89,2493.68 1336.69,2653.48 1337.48,2651.9 \n",
       "  1338.27,2582.19 1339.06,2536.48 1339.85,2544.56 1340.64,2531.61 1341.43,2502.75 1342.23,2435.96 1343.02,2452.26 1343.81,2429.36 1344.6,2630.81 1345.39,2644.09 \n",
       "  1346.18,2540.61 1346.98,2458.78 1347.77,2457.58 1348.56,2403.43 1349.35,2579.79 1350.14,2527.02 1350.93,2567.66 1351.72,2543.72 1352.52,2563.19 1353.31,2565.45 \n",
       "  1354.1,2618.51 1354.89,2459.9 1355.68,2445.33 1356.47,2654.64 1357.26,2579.02 1358.06,2579.02 1358.85,2561.23 1359.64,2508.94 1360.43,2645.79 1361.22,2651.31 \n",
       "  1362.01,2679.32 1362.81,2687.73 1363.6,2684.43 1364.39,2556.63 1365.18,2548.09 1365.97,2585.91 1366.76,2454.27 1367.55,2582.81 1368.35,2501.72 1369.14,2569.53 \n",
       "  1369.93,2592.5 1370.72,2585.33 1371.51,2616.13 1372.3,2472.25 1373.1,2475.96 1373.89,2565.34 1374.68,2618.76 1375.47,2569.88 1376.26,2555.32 1377.05,2550.16 \n",
       "  1377.84,2479.3 1378.64,2488.64 1379.43,2591.78 1380.22,2612.95 1381.01,2540.01 1381.8,2559.88 1382.59,2355.66 1383.39,2415.91 1384.18,2553.97 1384.97,2630.45 \n",
       "  1385.76,2602.47 1386.55,2477.37 1387.34,2463.65 1388.13,2567.99 1388.93,2563.95 1389.72,2534.39 1390.51,2543.31 1391.3,2623.69 1392.09,2531.66 1392.88,2508.73 \n",
       "  1393.68,2444.71 1394.47,2540.2 1395.26,2550.63 1396.05,2597.01 1396.84,2606.2 1397.63,2357.82 1398.42,2392.63 1399.22,2653.18 1400.01,2700.56 1400.8,2452.22 \n",
       "  1401.59,2331.99 1402.38,2512.1 1403.17,2594.87 1403.97,2542.52 1404.76,2659.7 1405.55,2702.33 1406.34,2675.84 1407.13,2675.84 1407.92,2566.53 1408.71,2566.53 \n",
       "  1409.51,2542.44 1410.3,2610.71 1411.09,2586.09 1411.88,2560.41 1412.67,2533.35 1413.46,2530.59 1414.25,2603.08 1415.05,2603.08 1415.84,2626.35 1416.63,2626.17 \n",
       "  1417.42,2648.83 1418.21,2652.37 1419,2652.37 1419.8,2668.51 1420.59,2672.56 1421.38,2617.34 1422.17,2606.5 1422.96,2503.26 1423.75,2508.09 1424.54,2589.16 \n",
       "  1425.34,2623.62 1426.13,2692.6 1426.92,2684.97 1427.71,2562.17 1428.5,2607 1429.29,2607 1430.09,2340.76 1430.88,2488.82 1431.67,2626.39 1432.46,2669.68 \n",
       "  1433.25,2693.48 1434.04,2700.05 1434.83,2638.04 1435.63,2597.64 1436.42,2488.82 1437.21,2549.95 1438,2443.51 1438.79,2598.95 1439.58,2643.74 1440.38,2633.13 \n",
       "  1441.17,2439.08 1441.96,2504.97 1442.75,2606.31 1443.54,2525.97 1444.33,2463.46 1445.12,2613.21 1445.92,2609.94 1446.71,2555.02 1447.5,2538.55 1448.29,2468.73 \n",
       "  1449.08,2603.03 1449.87,2530.59 1450.67,2500.33 1451.46,2521.3 1452.25,2544.01 1453.04,2642.13 1453.83,2583.64 1454.62,2577.38 1455.41,2557.21 1456.21,2454.72 \n",
       "  1457,2422.21 1457.79,2648.27 1458.58,2530.11 1459.37,2513.3 1460.16,2522.92 1460.96,2527.01 1461.75,2458.39 1462.54,2636.85 1463.33,2581.04 1464.12,2620.32 \n",
       "  1464.91,2532.38 1465.7,2530.38 1466.5,2579.93 1467.29,2534.31 1468.08,2534.29 1468.87,2531.71 1469.66,2527.38 1470.45,2541.89 1471.24,2547.75 1472.04,2560.86 \n",
       "  1472.83,2560.86 1473.62,2610.33 1474.41,2639.19 1475.2,2548.41 1475.99,2599.75 1476.79,2646.86 1477.58,2541.27 1478.37,2664.49 1479.16,2644.37 1479.95,2639.16 \n",
       "  1480.74,2454.67 1481.53,2733.19 1482.33,2729.41 1483.12,2682.71 1483.91,2577.89 1484.7,2546.33 1485.49,2564.15 1486.28,2580.88 1487.08,2540.21 1487.87,2520.29 \n",
       "  1488.66,2630.04 1489.45,2659.92 1490.24,2577.57 1491.03,2550.81 1491.82,2621.33 1492.62,2449.06 1493.41,2576.68 1494.2,2604.19 1494.99,2464.77 1495.78,2624.67 \n",
       "  1496.57,2638.02 1497.37,2399.56 1498.16,2351.35 1498.95,2552.37 1499.74,2502.12 1500.53,2546.94 1501.32,2590.14 1502.11,2589.13 1502.91,2537.35 1503.7,2537.35 \n",
       "  1504.49,2541.43 1505.28,2616.28 1506.07,2584.56 1506.86,2506.28 1507.66,2671.84 1508.45,2535.81 1509.24,2494.82 1510.03,2453.55 1510.82,2561.47 1511.61,2270.73 \n",
       "  1512.4,2333.89 1513.2,2557.05 1513.99,2572.2 1514.78,2589.03 1515.57,2462.32 1516.36,2611.66 1517.15,2513.65 1517.95,2640.68 1518.74,2482.85 1519.53,2370.15 \n",
       "  1520.32,2561.9 1521.11,2682.94 1521.9,2417.69 1522.69,2351.26 1523.49,2704.13 1524.28,2679.45 1525.07,2489.78 1525.86,2480.27 1526.65,2707.73 1527.44,2699.6 \n",
       "  1528.23,2402.95 1529.03,2437.58 1529.82,2603.02 1530.61,2593.94 1531.4,2521.61 1532.19,2514.9 1532.98,2700.93 1533.78,2745.87 1534.57,2714.08 1535.36,2669.96 \n",
       "  1536.15,2596.55 1536.94,2473.07 1537.73,2459.11 1538.52,2434.89 1539.32,2426.55 1540.11,2605.37 1540.9,2596.9 1541.69,2583.07 1542.48,2488.34 1543.27,2513.67 \n",
       "  1544.07,2544.63 1544.86,2549.3 1545.65,2391.47 1546.44,2528.42 1547.23,2463.86 1548.02,2649.53 1548.81,2618.01 1549.61,2637.34 1550.4,2543.63 1551.19,2543.63 \n",
       "  1551.98,2606.3 1552.77,2605.62 1553.56,2324.16 1554.36,2494.35 1555.15,2506.79 1555.94,2592.68 1556.73,2586.41 1557.52,2460.34 1558.31,2445.62 1559.1,2384.85 \n",
       "  1559.9,2624.36 1560.69,2403.45 1561.48,2481.72 1562.27,2538.18 1563.06,2578.09 1563.85,2552.57 1564.65,2617.42 1565.44,2558.94 1566.23,2487.57 1567.02,2509.66 \n",
       "  1567.81,2504.05 1568.6,2498.02 1569.39,2413.51 1570.19,2369.16 1570.98,2375.46 1571.77,2618 1572.56,2577.71 1573.35,2577.71 1574.14,2296.03 1574.94,2296.03 \n",
       "  1575.73,2351.3 1576.52,2344.85 1577.31,2247.43 1578.1,2248.85 1578.89,2367.46 1579.68,2432.07 1580.48,2332.18 1581.27,2507.61 1582.06,2500.69 1582.85,2537.01 \n",
       "  1583.64,2679.2 1584.43,2601.99 1585.22,2612.4 1586.02,2474.94 1586.81,2460.75 1587.6,2455.79 1588.39,2611.35 1589.18,2498.61 1589.97,2544.14 1590.77,2579.38 \n",
       "  1591.56,2560.43 1592.35,2572.03 1593.14,2572.03 1593.93,2654.07 1594.72,2647.4 1595.51,2426.3 1596.31,2394.86 1597.1,2644.47 1597.89,2489.54 1598.68,2470.84 \n",
       "  1599.47,2638.56 1600.26,2528.41 1601.06,2471.73 1601.85,2464.97 1602.64,2499.02 1603.43,2594.41 1604.22,2615.59 1605.01,2615.59 1605.8,2682.98 1606.6,2731.96 \n",
       "  1607.39,2565.31 1608.18,2484.75 1608.97,2607.94 1609.76,2632.7 1610.55,2525.27 1611.35,2472.19 1612.14,2576.69 1612.93,2487.63 1613.72,2516.38 1614.51,2435.15 \n",
       "  1615.3,2521.93 1616.09,2397.72 1616.89,2709.35 1617.68,2650.39 1618.47,2619.2 1619.26,2586.61 1620.05,2563.09 1620.84,2615.2 1621.64,2497.79 1622.43,2509.54 \n",
       "  1623.22,2580.11 1624.01,2542.44 1624.8,2542.44 1625.59,2502.12 1626.38,2502.93 1627.18,2582.34 1627.97,2438.3 1628.76,2560.74 1629.55,2620.13 1630.34,2575.55 \n",
       "  1631.13,2519.33 1631.93,2418.62 1632.72,2388.91 1633.51,2520.67 1634.3,2535.72 1635.09,2655.65 1635.88,2623.25 1636.67,2638.85 1637.47,2714.85 1638.26,2684.28 \n",
       "  1639.05,2610.54 1639.84,2545.68 1640.63,2521.63 1641.42,2563.35 1642.21,2620.32 1643.01,2542.03 1643.8,2555.18 1644.59,2644.73 1645.38,2644.73 1646.17,2575.92 \n",
       "  1646.96,2557.92 1647.76,2570.87 1648.55,2514.44 1649.34,2598.6 1650.13,2528.69 1650.92,2503.05 1651.71,2504.67 1652.5,2497.98 1653.3,2531.79 1654.09,2535.64 \n",
       "  1654.88,2393.89 1655.67,2579.94 1656.46,2624.27 1657.25,2667.28 1658.05,2672.4 1658.84,2690.03 1659.63,2671.33 1660.42,2456.86 1661.21,2515.59 1662,2522.33 \n",
       "  1662.79,2569.99 1663.59,2563.57 1664.38,2436.24 1665.17,2445.92 1665.96,2442.37 1666.75,2551.26 1667.54,2623.06 1668.34,2620.01 1669.13,2325.62 1669.92,2617.49 \n",
       "  1670.71,2511.15 1671.5,2487.74 1672.29,2501.41 1673.08,2591.01 1673.88,2548.67 1674.67,2623.68 1675.46,2620.41 1676.25,2647.15 1677.04,2619.53 1677.83,2510.62 \n",
       "  1678.63,2534.6 1679.42,2531.97 1680.21,2531.97 1681,2544.99 1681.79,2601.58 1682.58,2541.62 1683.37,2535.9 1684.17,2492.87 1684.96,2540.85 1685.75,2674.59 \n",
       "  1686.54,2486.52 1687.33,2593.16 1688.12,2730.41 1688.92,2730.41 1689.71,2696.65 1690.5,2668.8 1691.29,2678.9 1692.08,2617.97 1692.87,2593.47 1693.66,2502.43 \n",
       "  1694.46,2605.83 1695.25,2703.77 1696.04,2466.22 1696.83,2474.79 1697.62,2579.13 1698.41,2608.49 1699.2,2615.51 1700,2578.48 1700.79,2504.39 1701.58,2499.5 \n",
       "  1702.37,2605.91 1703.16,2610.74 1703.95,2640.16 1704.75,2379.83 1705.54,2344.27 1706.33,2563.86 1707.12,2506.19 1707.91,2584.81 1708.7,2589.81 1709.49,2503.43 \n",
       "  1710.29,2510.05 1711.08,2491.58 1711.87,2566.93 1712.66,2632.19 1713.45,2465.33 1714.24,2465.33 1715.04,2491.82 1715.83,2563.33 1716.62,2531.83 1717.41,2499.96 \n",
       "  1718.2,2634.57 1718.99,2581.23 1719.78,2604.55 1720.58,2601.26 1721.37,2532.68 1722.16,2518.31 1722.95,2439.18 1723.74,2535.65 1724.53,2698.01 1725.33,2649.16 \n",
       "  1726.12,2513.72 1726.91,2569.1 1727.7,2475.16 1728.49,2598.1 1729.28,2529.39 1730.07,2561.81 1730.87,2553.77 1731.66,2554.6 1732.45,2587.84 1733.24,2451.68 \n",
       "  1734.03,2540.07 1734.82,2562.45 1735.62,2574.55 1736.41,2574.55 1737.2,2539.76 1737.99,2448.15 1738.78,2474.46 1739.57,2370.68 1740.36,2609.99 1741.16,2442.11 \n",
       "  1741.95,2394.55 1742.74,2625.46 1743.53,2523.82 1744.32,2697.47 1745.11,2697.47 1745.91,2621.34 1746.7,2534.45 1747.49,2510.13 1748.28,2513.43 1749.07,2571.8 \n",
       "  1749.86,2573.24 1750.65,2577.88 1751.45,2435.83 1752.24,2561.06 1753.03,2506.97 1753.82,2608.77 1754.61,2400.51 1755.4,2634.68 1756.19,2458.66 1756.99,2471.79 \n",
       "  1757.78,2458.51 1758.57,2554.39 1759.36,2572.17 1760.15,2602.32 1760.94,2606.15 1761.74,2615.51 1762.53,2590.21 1763.32,2484.04 1764.11,2455.31 1764.9,2574.17 \n",
       "  1765.69,2587.23 1766.48,2582.24 1767.28,2582.85 1768.07,2601 1768.86,2549.16 1769.65,2557.37 1770.44,2602.65 1771.23,2684.71 1772.03,2652.49 1772.82,2458.95 \n",
       "  1773.61,2435.04 1774.4,2481.38 1775.19,2488.71 1775.98,2637.93 1776.77,2483.57 1777.57,2527.94 1778.36,2583.01 1779.15,2462.8 1779.94,2561.05 1780.73,2559.97 \n",
       "  1781.52,2529.68 1782.32,2650.22 1783.11,2476.39 1783.9,2483.17 1784.69,2483.2 1785.48,2584.16 1786.27,2538.48 1787.06,2518.54 1787.86,2517.84 1788.65,2595.12 \n",
       "  1789.44,2591.48 1790.23,2599.59 1791.02,2685.44 1791.81,2395.86 1792.61,2469.42 1793.4,2573.69 1794.19,2558.6 1794.98,2602.87 1795.77,2617.43 1796.56,2474.55 \n",
       "  1797.35,2616.85 1798.15,2477.82 1798.94,2521.45 1799.73,2510.78 1800.52,2531.57 1801.31,2527.98 1802.1,2535.09 1802.9,2597.85 1803.69,2499.31 1804.48,2409.34 \n",
       "  1805.27,2404.44 1806.06,2684.11 1806.85,2455.55 1807.64,2540.77 1808.44,2568.41 1809.23,2422.52 1810.02,2562.9 1810.81,2480.94 1811.6,2537.39 1812.39,2640.76 \n",
       "  1813.18,2689.43 1813.98,2595.12 1814.77,2556.48 1815.56,2440.96 1816.35,2629.72 1817.14,2513.26 1817.93,2520.12 1818.73,2597.69 1819.52,2457.96 1820.31,2330.65 \n",
       "  1821.1,2570.23 1821.89,2560.69 1822.68,2563.08 1823.47,2616.92 1824.27,2578.19 1825.06,2508.64 1825.85,2509.43 1826.64,2510.89 1827.43,2495.46 1828.22,2518.85 \n",
       "  1829.02,2512.23 1829.81,2520.25 1830.6,2571.72 1831.39,2646.27 1832.18,2669.04 1832.97,2438.67 1833.76,2443.17 1834.56,2558.34 1835.35,2531.4 1836.14,2571.33 \n",
       "  1836.93,2420.07 1837.72,2485.18 1838.51,2574.09 1839.31,2473.31 1840.1,2386.14 1840.89,2615.14 1841.68,2438.92 1842.47,2638.31 1843.26,2524.12 1844.05,2544.61 \n",
       "  1844.85,2569.68 1845.64,2509.92 1846.43,2428.38 1847.22,2683.56 1848.01,2636.37 1848.8,2443.92 1849.6,2609.32 1850.39,2622.36 1851.18,2422.73 1851.97,2519.49 \n",
       "  1852.76,2502.87 1853.55,2585.66 1854.34,2577.25 1855.14,2542.3 1855.93,2476.11 1856.72,2606.29 1857.51,2501.93 1858.3,2478.91 1859.09,2480.4 1859.89,2495.16 \n",
       "  1860.68,2635.52 1861.47,2618.62 1862.26,2575.88 1863.05,2502.09 1863.84,2431.19 1864.63,2431.15 1865.43,2610.99 1866.22,2510.34 1867.01,2488.44 1867.8,2502.57 \n",
       "  1868.59,2509.98 1869.38,2562.15 1870.17,2501.86 1870.97,2653.35 1871.76,2476.23 1872.55,2384.51 1873.34,2718.35 1874.13,2730.87 1874.92,2656.22 1875.72,2485.12 \n",
       "  1876.51,2473.31 1877.3,2589.79 1878.09,2535.96 1878.88,2452.38 1879.67,2625.04 1880.46,2494.44 1881.26,2388.89 1882.05,2384.7 1882.84,2397.43 1883.63,2496.72 \n",
       "  1884.42,2566.25 1885.21,2556.34 1886.01,2552.03 1886.8,2545.91 1887.59,2580.86 1888.38,2527.53 1889.17,2589.1 1889.96,2504.34 1890.75,2449.69 1891.55,2449.69 \n",
       "  1892.34,2578.56 1893.13,2577.07 1893.92,2562.48 1894.71,2555.99 1895.5,2515.57 1896.3,2503.99 1897.09,2530.39 1897.88,2596.83 1898.67,2596.83 1899.46,2586.3 \n",
       "  1900.25,2655.35 1901.04,2519.01 1901.84,2564.51 1902.63,2653.09 1903.42,2486.84 1904.21,2652.12 1905,2652.12 1905.79,2606.06 1906.59,2618.14 1907.38,2667.68 \n",
       "  1908.17,2638.36 1908.96,2579.48 1909.75,2574.83 1910.54,2559.13 1911.33,2524.35 1912.13,2524.35 1912.92,2506.11 1913.71,2346.76 1914.5,2489.34 1915.29,2629.29 \n",
       "  1916.08,2521.46 1916.88,2504.58 1917.67,2539.96 1918.46,2604.21 1919.25,2696.53 1920.04,2624.37 1920.83,2496.72 1921.62,2483.38 1922.42,2595.62 1923.21,2521.76 \n",
       "  1924,2521.26 1924.79,2450.79 1925.58,2513.79 1926.37,2558.4 1927.16,2510.69 1927.96,2460.1 1928.75,2543.31 1929.54,2550.84 1930.33,2561.73 1931.12,2610.38 \n",
       "  1931.91,2606.17 1932.71,2546.61 1933.5,2565.71 1934.29,2510.95 1935.08,2503.36 1935.87,2612.37 1936.66,2642.28 1937.45,2642.28 1938.25,2642.28 1939.04,2640.66 \n",
       "  \n",
       "  \"/>\n",
       "<polyline clip-path=\"url(#clip046)\" style=\"stroke:#e26f46; stroke-linecap:butt; stroke-linejoin:round; stroke-width:4; stroke-opacity:1; fill:none\" points=\"\n",
       "  356.774,2718.56 357.565,2468.7 358.357,2512.81 359.148,2526.8 359.94,2483.74 360.731,2609.09 361.523,2453.82 362.315,2460.84 363.106,2587.98 363.898,2514.75 \n",
       "  364.689,2546.35 365.481,2486.6 366.272,2473.11 367.064,2522.12 367.855,2697.96 368.647,2586.96 369.438,2525.56 370.23,2507.96 371.021,2547.63 371.813,2563.06 \n",
       "  372.604,2496.49 373.396,2567.33 374.187,2580.17 374.979,2584.46 375.77,2514.81 376.562,2413.49 377.354,2435.68 378.145,2586.36 378.937,2575.66 379.728,2465.53 \n",
       "  380.52,2522.04 381.311,2621.11 382.103,2621.11 382.894,2511.63 383.686,2598.04 384.477,2584.98 385.269,2619.19 386.06,2349.57 386.852,2475.86 387.643,2538.93 \n",
       "  388.435,2523.75 389.226,2563.3 390.018,2596.38 390.81,2596.43 391.601,2423.7 392.393,2490 393.184,2579.18 393.976,2621.42 394.767,2672.53 395.559,2445.62 \n",
       "  396.35,2580.03 397.142,2489.75 397.933,2448.61 398.725,2448.61 399.516,2490.56 400.308,2433.89 401.099,2506.47 401.891,2615 402.682,2692.42 403.474,2400.01 \n",
       "  404.265,2407.79 405.057,2407.74 405.849,2454.84 406.64,2565.11 407.432,2575.12 408.223,2575.79 409.015,2467.72 409.806,2472.88 410.598,2476.32 411.389,2446.64 \n",
       "  412.181,2447.8 412.972,2639.67 413.764,2466.54 414.555,2596.08 415.347,2627.09 416.138,2649.45 416.93,2608.93 417.721,2608.93 418.513,2514.93 419.305,2504.25 \n",
       "  420.096,2568.82 420.888,2529.24 421.679,2544.45 422.471,2401.37 423.262,2330.36 424.054,2327.58 424.845,2356.63 425.637,2693.82 426.428,2366.76 427.22,2373.85 \n",
       "  428.011,2677.87 428.803,2606.06 429.594,2523.07 430.386,2403.95 431.177,2577.63 431.969,2664.15 432.76,2522.23 433.552,2449.74 434.344,2570.5 435.135,2558.62 \n",
       "  435.927,2613.71 436.718,2609.02 437.51,2428.4 438.301,2540.44 439.093,2579.06 439.884,2566.35 440.676,2529.23 441.467,2559.64 442.259,2680.56 443.05,2352.01 \n",
       "  443.842,2461.43 444.633,2533.88 445.425,2613.94 446.216,2537.9 447.008,2590.64 447.8,2297.86 448.591,2592.47 449.383,2507.62 450.174,2688.35 450.966,2581.3 \n",
       "  451.757,2614.58 452.549,2481.87 453.34,2604.74 454.132,2577.5 454.923,2648.58 455.715,2648.58 456.506,2635.87 457.298,2583.67 458.089,2423.92 458.881,2340.01 \n",
       "  459.672,2337.52 460.464,2521.38 461.255,2520.16 462.047,2640.76 462.839,2552.06 463.63,2602.5 464.422,2620.94 465.213,2528.25 466.005,2592.86 466.796,2456.57 \n",
       "  467.588,2587.96 468.379,2580.88 469.171,2567.02 469.962,2559.7 470.754,2523.35 471.545,2597.77 472.337,2489.28 473.128,2489.41 473.92,2542.78 474.711,2504.49 \n",
       "  475.503,2572.77 476.295,2552.36 477.086,2527.93 477.878,2569.53 478.669,2531.65 479.461,2571.03 480.252,2506.67 481.044,2504.23 481.835,2450.51 482.627,2634.61 \n",
       "  483.418,2566.56 484.21,2688.3 485.001,2514.76 485.793,2496.66 486.584,2572.27 487.376,2569.99 488.167,2641.81 488.959,2497.35 489.75,2592.15 490.542,2282.74 \n",
       "  491.334,2286.34 492.125,2404.57 492.917,2390.61 493.708,2382.28 494.5,2414.11 495.291,2524.97 496.083,2514.81 496.874,2457.47 497.666,2508.19 498.457,2476.65 \n",
       "  499.249,2468.35 500.04,2461.26 500.832,2407.95 501.623,2581.6 502.415,2580.48 503.206,2459.76 503.998,2541.59 504.79,2596.57 505.581,2604.64 506.373,2619.9 \n",
       "  507.164,2599.8 507.956,2501.97 508.747,2568.23 509.539,2570.78 510.33,2516.6 511.122,2563.6 511.913,2663.83 512.705,2551.25 513.496,2561.8 514.288,2422.34 \n",
       "  515.079,2451.03 515.871,2588.23 516.662,2654.27 517.454,2640.43 518.245,2435.24 519.037,2458.46 519.829,2410.85 520.62,2493.3 521.412,2526.5 522.203,2526.5 \n",
       "  522.995,2459.38 523.786,2627.83 524.578,2618.1 525.369,2427.18 526.161,2624.08 526.952,2433.15 527.744,2618.96 528.535,2412.76 529.327,2668.19 530.118,2635.96 \n",
       "  530.91,2366.16 531.701,2430.73 532.493,2402.09 533.285,2519.23 534.076,2575.8 534.868,2524.83 535.659,2531.35 536.451,2436.72 537.242,2436.72 538.034,2488.47 \n",
       "  538.825,2469.81 539.617,2563.81 540.408,2466.92 541.2,2406.91 541.991,2391.07 542.783,2478.1 543.574,2478.1 544.366,2504.22 545.157,2461.21 545.949,2583.36 \n",
       "  546.74,2291.49 547.532,2569.42 548.324,2551.02 549.115,2676.04 549.907,2664.88 550.698,2555.95 551.49,2476.51 552.281,2638.1 553.073,2565.56 553.864,2322.14 \n",
       "  554.656,2575.87 555.447,2468.38 556.239,2468.64 557.03,2468.64 557.822,2621.19 558.613,2629.55 559.405,2477.02 560.196,2683.68 560.988,2487.08 561.78,2627.7 \n",
       "  562.571,2632.15 563.363,2713.29 564.154,2638.73 564.946,2653.65 565.737,2517.76 566.529,2551.11 567.32,2537.84 568.112,2454.96 568.903,2433.76 569.695,2388.91 \n",
       "  570.486,2450.81 571.278,2623.06 572.069,2638.49 572.861,2638.49 573.652,2638.49 574.444,2611.32 575.235,2606.52 576.027,2529.69 576.819,2620.92 577.61,2681.98 \n",
       "  578.402,2402.32 579.193,2632.56 579.985,2688.35 580.776,2652.94 581.568,2524.32 582.359,2640.39 583.151,2527.88 583.942,2509.11 584.734,2547.29 585.525,2559.17 \n",
       "  586.317,2571.17 587.108,2351.85 587.9,2475.97 588.691,2465.08 589.483,2605.15 590.275,2605.15 591.066,2554.97 591.858,2581.09 592.649,2634.48 593.441,2522.49 \n",
       "  594.232,2548.28 595.024,2487.29 595.815,2487.01 596.607,2482.64 597.398,2457.29 598.19,2454.8 598.981,2457.04 599.773,2656 600.564,2639.83 601.356,2682.71 \n",
       "  602.147,2672.97 602.939,2664.69 603.73,2555.67 604.522,2624.27 605.314,2528.87 606.105,2492.73 606.897,2499.15 607.688,2528.07 608.48,2528.07 609.271,2487.51 \n",
       "  610.063,2488.49 610.854,2474.57 611.646,2409.7 612.437,2499.29 613.229,2450.97 614.02,2378.95 614.812,2370.36 615.603,2694.87 616.395,2473.34 617.186,2427.5 \n",
       "  617.978,2642.39 618.77,2560.81 619.561,2565.95 620.353,2532.31 621.144,2630.59 621.936,2627.14 622.727,2621.91 623.519,2574.67 624.31,2339.69 625.102,2329.95 \n",
       "  625.893,2593.98 626.685,2698.71 627.476,2378.33 628.268,2497.66 629.059,2552.44 629.851,2606.79 630.642,2644.64 631.434,2569.31 632.225,2586.46 633.017,2647.39 \n",
       "  633.809,2445.1 634.6,2384.5 635.392,2335.38 636.183,2525.23 636.975,2421.64 637.766,2428.74 638.558,2423.73 639.349,2569.75 640.141,2454.73 640.932,2431.51 \n",
       "  641.724,2559.36 642.515,2572.39 643.307,2582.82 644.098,2582.07 644.89,2513.81 645.681,2553.16 646.473,2500.59 647.265,2491.38 648.056,2590.53 648.848,2483.63 \n",
       "  649.639,2439.99 650.431,2636.15 651.222,2490.08 652.014,2534.26 652.805,2612.77 653.597,2452.99 654.388,2490.82 655.18,2496.32 655.971,2581.13 656.763,2637.51 \n",
       "  657.554,2462.97 658.346,2402.93 659.137,2610.76 659.929,2550.69 660.72,2593.72 661.512,2665.49 662.304,2402.3 663.095,2532.89 663.887,2594.15 664.678,2523.98 \n",
       "  665.47,2569.64 666.261,2570.43 667.053,2592.79 667.844,2497.36 668.636,2476.38 669.427,2472.08 670.219,2480.67 671.01,2488.59 671.802,2558.65 672.593,2495.45 \n",
       "  673.385,2479.55 674.176,2593.22 674.968,2629.79 675.76,2666.47 676.551,2467.21 677.343,2514.53 678.134,2441.28 678.926,2584.65 679.717,2578.01 680.509,2529.91 \n",
       "  681.3,2594.7 682.092,2711.06 682.883,2434.64 683.675,2666.78 684.466,2540.79 685.258,2679.24 686.049,2590.91 686.841,2664.71 687.632,2721.12 688.424,2653.08 \n",
       "  689.215,2631.33 690.007,2576.95 690.799,2591.3 691.59,2494.38 692.382,2615 693.173,2630.87 693.965,2394.69 694.756,2604.55 695.548,2507.66 696.339,2487.69 \n",
       "  697.131,2578.9 697.922,2634.47 698.714,2634.47 699.505,2391.43 700.297,2380.22 701.088,2627.72 701.88,2573.89 702.671,2657.82 703.463,2660.97 704.255,2590.27 \n",
       "  705.046,2564.44 705.838,2463.24 706.629,2544.71 707.421,2468.39 708.212,2440.93 709.004,2515.71 709.795,2638.94 710.587,2634.84 711.378,2733.63 712.17,2716.37 \n",
       "  712.961,2707.94 713.753,2705.43 714.544,2540.72 715.336,2520.8 716.127,2602.77 716.919,2470.31 717.71,2384.65 718.502,2654.27 719.294,2641.81 720.085,2646.57 \n",
       "  720.877,2679.94 721.668,2620.51 722.46,2422.94 723.251,2506.3 724.043,2468.95 724.834,2584.35 725.626,2554.93 726.417,2503.47 727.209,2519.03 728,2524.51 \n",
       "  728.792,2527.28 729.583,2466.05 730.375,2536.86 731.166,2437.98 731.958,2581.87 732.75,2382.19 733.541,2385.25 734.333,2385.51 735.124,2678.36 735.916,2456.96 \n",
       "  736.707,2395.38 737.499,2469.08 738.29,2333.75 739.082,2466.49 739.873,2529.44 740.665,2539.48 741.456,2545.72 742.248,2514.41 743.039,2424.21 743.831,2436.71 \n",
       "  744.622,2597.73 745.414,2676.71 746.205,2615.79 746.997,2565.33 747.789,2553.45 748.58,2545.42 749.372,2528.58 750.163,2666.68 750.955,2620.48 751.746,2688.69 \n",
       "  752.538,2465.47 753.329,2531.82 754.121,2467.01 754.912,2694.05 755.704,2264.87 756.495,2149.93 757.287,2697.27 758.078,2705.73 758.87,2526.88 759.661,2560.6 \n",
       "  760.453,2681.07 761.245,2413.21 762.036,2580.21 762.828,2616.23 763.619,2588.02 764.411,2552.16 765.202,2689.06 765.994,2685.47 766.785,2720.58 767.577,2527.58 \n",
       "  768.368,2524.13 769.16,2514.59 769.951,2425.32 770.743,2517.46 771.534,2559.02 772.326,2547.65 773.117,2573.08 773.909,2622.02 774.7,2625.11 775.492,2453.76 \n",
       "  776.284,2525.08 777.075,2542.12 777.867,2523.15 778.658,2599.71 779.45,2579.08 780.241,2551.56 781.033,2669.98 781.824,2602.13 782.616,2543.5 783.407,2620.69 \n",
       "  784.199,2518.13 784.99,2553.1 785.782,2572.28 786.573,2532.22 787.365,2581.89 788.156,2504.73 788.948,2539.98 789.74,2440.47 790.531,2420.81 791.323,2581.33 \n",
       "  792.114,2595.07 792.906,2566.33 793.697,2602.57 794.489,2556.83 795.28,2546.42 796.072,2582.14 796.863,2512.49 797.655,2544.81 798.446,2618.88 799.238,2581.84 \n",
       "  800.029,2581.84 800.821,2475.14 801.612,2562.43 802.404,2506.45 803.195,2569.63 803.987,2585.19 804.779,2575.37 805.57,2600.92 806.362,2593.5 807.153,2500.76 \n",
       "  807.945,2626.7 808.736,2528.62 809.528,2567.76 810.319,2536.01 811.111,2601.36 811.902,2517.93 812.694,2560.73 813.485,2505.94 814.277,2533.26 815.068,2429.67 \n",
       "  815.86,2562.63 816.651,2593.4 817.443,2446.63 818.235,2374.23 819.026,2758.65 819.818,2702.42 820.609,2437.46 821.401,2514.07 822.192,2537.84 822.984,2558.7 \n",
       "  823.775,2548.6 824.567,2535.46 825.358,2535.73 826.15,2592.85 826.941,2543.3 827.733,2545.97 828.524,2570.81 829.316,2608.39 830.107,2450.21 830.899,2664.9 \n",
       "  831.69,2600.58 832.482,2583.83 833.274,2632.06 834.065,2624.44 834.857,2496.33 835.648,2611.67 836.44,2430.18 837.231,2611.09 838.023,2599.78 838.814,2618.33 \n",
       "  839.606,2642.19 840.397,2545.66 841.189,2553.02 841.98,2484.51 842.772,2439.31 843.563,2447.24 844.355,2503.85 845.146,2479.52 845.938,2538.89 846.73,2480.03 \n",
       "  847.521,2715.04 848.313,2659.3 849.104,2643.57 849.896,2520.58 850.687,2548.36 851.479,2573.4 852.27,2527.53 853.062,2553.75 853.853,2564.4 854.645,2460.03 \n",
       "  855.436,2523.41 856.228,2436.24 857.019,2406.51 857.811,2398.85 858.602,2594.16 859.394,2534.26 860.185,2459.87 860.977,2478.66 861.769,2474.24 862.56,2547.14 \n",
       "  863.352,2516.57 864.143,2664.02 864.935,2450.92 865.726,2345.31 866.518,2662.46 867.309,2378.01 868.101,2388.96 868.892,2460.57 869.684,2600.76 870.475,2627.78 \n",
       "  871.267,2585.96 872.058,2592.76 872.85,2610.53 873.641,2534.24 874.433,2585.66 875.225,2528.02 876.016,2517.81 876.808,2528.05 877.599,2610.84 878.391,2514.62 \n",
       "  879.182,2528.75 879.974,2418.83 880.765,2567.79 881.557,2432.68 882.348,2608.63 883.14,2518.62 883.931,2510.77 884.723,2538.28 885.514,2594.87 886.306,2490.66 \n",
       "  887.097,2520.03 887.889,2534.97 888.68,2532.7 889.472,2560.37 890.264,2440.45 891.055,2441.11 891.847,2432.93 892.638,2304.62 893.43,2372.09 894.221,2568.78 \n",
       "  895.013,2484.45 895.804,2446.32 896.596,2641.36 897.387,2602.27 898.179,2527.53 898.97,2455.45 899.762,2464.43 900.553,2403.86 901.345,2545.27 902.136,2559.43 \n",
       "  902.928,2538.09 903.72,2538.09 904.511,2515.58 905.303,2504.34 906.094,2421.23 906.886,2549.13 907.677,2520.34 908.469,2596.19 909.26,2477.41 910.052,2583.38 \n",
       "  910.843,2548.85 911.635,2553.62 912.426,2312.8 913.218,2675.88 914.009,2520.48 914.801,2545.68 915.592,2608.7 916.384,2619.34 917.175,2521.92 917.967,2486.08 \n",
       "  918.759,2618.06 919.55,2499.4 920.342,2492.3 921.133,2579.88 921.925,2598.62 922.716,2593.55 923.508,2567.17 924.299,2551.43 925.091,2603.89 925.882,2526.42 \n",
       "  926.674,2593.04 927.465,2629.93 928.257,2635.98 929.048,2484.7 929.84,2393.68 930.631,2474.64 931.423,2494.89 932.215,2492.81 933.006,2477.27 933.798,2600.22 \n",
       "  934.589,2651.61 935.381,2514.9 936.172,2613.38 936.964,2608.47 937.755,2538.05 938.547,2585.09 939.338,2646.02 940.13,2423.14 940.921,2574.01 941.713,2632.64 \n",
       "  942.504,2632.64 943.296,2632.64 944.087,2673.46 944.879,2687.99 945.67,2735.1 946.462,2769.65 947.254,2764.13 948.045,2423.79 948.837,2411.12 949.628,2463.27 \n",
       "  950.42,2445.05 951.211,2594.89 952.003,2425.62 952.794,2614.83 953.586,2302.58 954.377,2338.01 955.169,2398 955.96,2607.1 956.752,2624.24 957.543,2489.86 \n",
       "  958.335,2639.02 959.126,2708.17 959.918,2686.28 960.71,2691.03 961.501,2615.52 962.293,2651.39 963.084,2558.15 963.876,2632.31 964.667,2608.21 965.459,2641.65 \n",
       "  966.25,2624.46 967.042,2657.03 967.833,2687.63 968.625,2624.17 969.416,2582.66 970.208,2514.26 970.999,2507.85 971.791,2558.99 972.582,2436.91 973.374,2436.27 \n",
       "  974.165,2396.17 974.957,2606.57 975.749,2447.03 976.54,2604.54 977.332,2637.94 978.123,2399.42 978.915,2433.83 979.706,2487.26 980.498,2580.48 981.289,2689.73 \n",
       "  982.081,2689.73 982.872,2637.62 983.664,2450.44 984.455,2611.37 985.247,2535.47 986.038,2647.96 986.83,2675.16 987.621,2674.34 988.413,2547.99 989.204,2585.82 \n",
       "  989.996,2616.77 990.788,2687.21 991.579,2644.33 992.371,2604.88 993.162,2631.01 993.954,2678.52 994.745,2596.27 995.537,2390.66 996.328,2526.31 997.12,2515.65 \n",
       "  997.911,2570.9 998.703,2634.74 999.494,2634.74 1000.29,2647.5 1001.08,2616.93 1001.87,2515.09 1002.66,2513.88 1003.45,2558.53 1004.24,2559.26 1005.04,2530.95 \n",
       "  1005.83,2606.87 1006.62,2512.82 1007.41,2577.94 1008.2,2474.09 1008.99,2603.71 1009.78,2645.96 1010.58,2645.96 1011.37,2703.14 1012.16,2473.84 1012.95,2613.85 \n",
       "  1013.74,2614.95 1014.53,2512.45 1015.32,2537.35 1016.12,2442.19 1016.91,2647.76 1017.7,2640.81 1018.49,2646.26 1019.28,2528.27 1020.07,2559.89 1020.87,2425.1 \n",
       "  1021.66,2621.68 1022.45,2464.06 1023.24,2405.78 1024.03,2409.49 1024.82,2491.8 1025.61,2497.55 1026.41,2480.22 1027.2,2442.66 1027.99,2627.23 1028.78,2652.44 \n",
       "  1029.57,2461.01 1030.36,2625.58 1031.16,2603.3 1031.95,2564.06 1032.74,2632.46 1033.53,2561.76 1034.32,2604.06 1035.11,2501.89 1035.9,2472.12 1036.7,2676.21 \n",
       "  1037.49,2520.17 1038.28,2606.47 1039.07,2508.31 1039.86,2593.27 1040.65,2598.98 1041.45,2603.42 1042.24,2657.83 1043.03,2612.47 1043.82,2541.32 1044.61,2573.09 \n",
       "  1045.4,2488.86 1046.19,2516.69 1046.99,2565.55 1047.78,2442.16 1048.57,2582.88 1049.36,2582.88 1050.15,2624.03 1050.94,2577.55 1051.74,2449.26 1052.53,2668.08 \n",
       "  1053.32,2654.46 1054.11,2638.26 1054.9,2709.24 1055.69,2353.05 1056.48,2341.15 1057.28,2381.66 1058.07,2461.52 1058.86,2582.77 1059.65,2597.28 1060.44,2647.83 \n",
       "  1061.23,2546.42 1062.03,2549.03 1062.82,2457.55 1063.61,2482.81 1064.4,2634.42 1065.19,2532.05 1065.98,2467.86 1066.77,2479.4 1067.57,2525.49 1068.36,2529.47 \n",
       "  1069.15,2528.25 1069.94,2535.32 1070.73,2473.26 1071.52,2488.11 1072.31,2486.9 1073.11,2460.44 1073.9,2543.78 1074.69,2598.42 1075.48,2588.05 1076.27,2459.4 \n",
       "  1077.06,2448.93 1077.86,2559.85 1078.65,2511.7 1079.44,2484.33 1080.23,2440.62 1081.02,2495.85 1081.81,2505.77 1082.6,2543.9 1083.4,2527.56 1084.19,2607.93 \n",
       "  1084.98,2539.71 1085.77,2548.52 1086.56,2435.4 1087.35,2412.38 1088.15,2346.45 1088.94,2398.15 1089.73,2463.23 1090.52,2550.68 1091.31,2411.78 1092.1,2483.06 \n",
       "  1092.89,2582.83 1093.69,2584.21 1094.48,2510.45 1095.27,2439.64 1096.06,2421.46 1096.85,2554.66 1097.64,2536.99 1098.44,2506.84 1099.23,2507.7 1100.02,2434 \n",
       "  1100.81,2407.88 1101.6,2431.72 1102.39,2407.75 1103.18,2317.91 1103.98,2457.83 1104.77,2508.73 1105.56,2573.01 1106.35,2548.48 1107.14,2534.26 1107.93,2592.64 \n",
       "  1108.73,2563.86 1109.52,2595.66 1110.31,2571.19 1111.1,2530.44 1111.89,2602.54 1112.68,2491.35 1113.47,2598.2 1114.27,2668.45 1115.06,2683.62 1115.85,2640.21 \n",
       "  1116.64,2472.22 1117.43,2446.97 1118.22,2532.13 1119.02,2579.71 1119.81,2598.23 1120.6,2603.11 1121.39,2513.85 1122.18,2436.44 1122.97,2474.9 1123.76,2662.23 \n",
       "  1124.56,2582.23 1125.35,2599.39 1126.14,2543.94 1126.93,2542.84 1127.72,2422.83 1128.51,2661.66 1129.3,2732.87 1130.1,2380.87 1130.89,2661.87 1131.68,2489.83 \n",
       "  1132.47,2571.05 1133.26,2540.29 1134.05,2535.78 1134.85,2509.19 1135.64,2463.45 1136.43,2483.16 1137.22,2599.56 1138.01,2609.9 1138.8,2609.9 1139.59,2648.15 \n",
       "  1140.39,2574.19 1141.18,2541.78 1141.97,2611.19 1142.76,2465.08 1143.55,2445.43 1144.34,2541.89 1145.14,2482.62 1145.93,2553.73 1146.72,2609.81 1147.51,2512.84 \n",
       "  1148.3,2554.2 1149.09,2545.76 1149.88,2694.07 1150.68,2398.51 1151.47,2559.32 1152.26,2571.25 1153.05,2568.11 1153.84,2541.37 1154.63,2468.53 1155.43,2643.12 \n",
       "  1156.22,2424.26 1157.01,2670.63 1157.8,2530.17 1158.59,2526.6 1159.38,2504.9 1160.17,2611.89 1160.97,2594.65 1161.76,2448.44 1162.55,2641.87 1163.34,2470.78 \n",
       "  1164.13,2560.6 1164.92,2582.61 1165.72,2502.77 1166.51,2515.61 1167.3,2575.13 1168.09,2457.19 1168.88,2549.6 1169.67,2532.98 1170.46,2588.37 1171.26,2508.2 \n",
       "  1172.05,2544.04 1172.84,2585.4 1173.63,2453.24 1174.42,2568.38 1175.21,2490.49 1176.01,2611.22 1176.8,2524.81 1177.59,2517.42 1178.38,2475.56 1179.17,2463.48 \n",
       "  1179.96,2568.77 1180.75,2616.51 1181.55,2605.38 1182.34,2602.3 1183.13,2499.13 1183.92,2684.65 1184.71,2681.78 1185.5,2476.6 1186.29,2550.01 1187.09,2515.84 \n",
       "  1187.88,2529.35 1188.67,2473.82 1189.46,2475.82 1190.25,2625.83 1191.04,2640.88 1191.84,2498.83 1192.63,2505.1 1193.42,2520.11 1194.21,2487.23 1195,2438.38 \n",
       "  1195.79,2456.51 1196.58,2477.4 1197.38,2535.83 1198.17,2651.34 1198.96,2665.39 1199.75,2582.25 1200.54,2562.07 1201.33,2483.85 1202.13,2514.24 1202.92,2521.1 \n",
       "  1203.71,2542.52 1204.5,2465.3 1205.29,2462.46 1206.08,2458.34 1206.87,2447.05 1207.67,2544.34 1208.46,2546.2 1209.25,2574.52 1210.04,2535.81 1210.83,2614.16 \n",
       "  1211.62,2635.84 1212.42,2646.34 1213.21,2499.02 1214,2534 1214.79,2685.17 1215.58,2682.29 1216.37,2648.86 1217.16,2575.71 1217.96,2604.19 1218.75,2673.97 \n",
       "  1219.54,2587.51 1220.33,2570.44 1221.12,2606.33 1221.91,2651.49 1222.71,2464.21 1223.5,2598.2 1224.29,2581.66 1225.08,2597.98 1225.87,2590.66 1226.66,2588.73 \n",
       "  1227.45,2453.19 1228.25,2590.36 1229.04,2431.6 1229.83,2474.96 1230.62,2583.73 1231.41,2542.71 1232.2,2585.43 1233,2491.01 1233.79,2452.18 1234.58,2644.27 \n",
       "  1235.37,2541.88 1236.16,2531.4 1236.95,2511.59 1237.74,2551.95 1238.54,2469.96 1239.33,2534.42 1240.12,2611.06 1240.91,2599.29 1241.7,2495.89 1242.49,2513.99 \n",
       "  1243.28,2425.77 1244.08,2603.56 1244.87,2607.21 1245.66,2607.21 1246.45,2607.21 1247.24,2545.67 1248.03,2587.4 1248.83,2562.93 1249.62,2478.29 1250.41,2520.2 \n",
       "  1251.2,2483.69 1251.99,2547.83 1252.78,2562.02 1253.57,2535.94 1254.37,2584.83 1255.16,2580.81 1255.95,2567.92 1256.74,2643.72 1257.53,2514.28 1258.32,2520.99 \n",
       "  1259.12,2664.74 1259.91,2663.82 1260.7,2689.02 1261.49,2656.15 1262.28,2657.94 1263.07,2668.67 1263.86,2669.7 1264.66,2543.99 1265.45,2518 1266.24,2523.47 \n",
       "  1267.03,2522.73 1267.82,2548.07 1268.61,2537.79 1269.41,2554.64 1270.2,2525.65 1270.99,2539.42 1271.78,2535.76 1272.57,2477.4 1273.36,2501.48 1274.15,2594.36 \n",
       "  1274.95,2434.66 1275.74,2460.29 1276.53,2632.48 1277.32,2632.48 1278.11,2663.86 1278.9,2639.27 1279.7,2629.55 1280.49,2525.8 1281.28,2591.01 1282.07,2701.12 \n",
       "  1282.86,2706.43 1283.65,2541.79 1284.44,2400.59 1285.24,2372.47 1286.03,2514.88 1286.82,2403.15 1287.61,2460.83 1288.4,2660.21 1289.19,2545.01 1289.99,2532.38 \n",
       "  1290.78,2402.03 1291.57,2442.44 1292.36,2620.53 1293.15,2651.6 1293.94,2499.23 1294.73,2515.06 1295.53,2515.41 1296.32,2630.17 1297.11,2630.17 1297.9,2443.39 \n",
       "  1298.69,2407.74 1299.48,2681.55 1300.27,2642.46 1301.07,2669.35 1301.86,2673.65 1302.65,2581.92 1303.44,2637 1304.23,2523.14 1305.02,2608.4 1305.82,2569.55 \n",
       "  1306.61,2488.51 1307.4,2399.72 1308.19,2581.04 1308.98,2605.02 1309.77,2617.89 1310.56,2424.26 1311.36,2431.33 1312.15,2661.42 1312.94,2626.29 1313.73,2484.6 \n",
       "  1314.52,2530.84 1315.31,2522.71 1316.11,2475.72 1316.9,2621.77 1317.69,2533.77 1318.48,2606.17 1319.27,2540.55 1320.06,2579.17 1320.85,2579.17 1321.65,2540.66 \n",
       "  1322.44,2457.11 1323.23,2459.57 1324.02,2517.38 1324.81,2517.38 1325.6,2635.07 1326.4,2656.16 1327.19,2439.59 1327.98,2540.24 1328.77,2574.2 1329.56,2643.5 \n",
       "  1330.35,2478.25 1331.14,2470.66 1331.94,2488.92 1332.73,2515.98 1333.52,2530.64 1334.31,2522.17 1335.1,2429.93 1335.89,2274.48 1336.69,2275.88 1337.48,2428.76 \n",
       "  1338.27,2558.25 1339.06,2529.87 1339.85,2585.14 1340.64,2580.39 1341.43,2552.85 1342.23,2564 1343.02,2546.7 1343.81,2496.45 1344.6,2482.42 1345.39,2425.35 \n",
       "  1346.18,2484.87 1346.98,2479.82 1347.77,2617.02 1348.56,2614.59 1349.35,2626.44 1350.14,2504.04 1350.93,2483.26 1351.72,2623.05 1352.52,2565.65 1353.31,2581.25 \n",
       "  1354.1,2524.58 1354.89,2504.95 1355.68,2565.14 1356.47,2432.65 1357.26,2631.95 1358.06,2650.79 1358.85,2621.47 1359.64,2668.94 1360.43,2571.57 1361.22,2580.57 \n",
       "  1362.01,2604.01 1362.81,2406.95 1363.6,2405.58 1364.39,2427.85 1365.18,2482.89 1365.97,2524.5 1366.76,2612.93 1367.55,2404.71 1368.35,2420.01 1369.14,2533.19 \n",
       "  1369.93,2541.11 1370.72,2550.76 1371.51,2639.04 1372.3,2585.64 1373.1,2540.7 1373.89,2522.7 1374.68,2522.21 1375.47,2540.87 1376.26,2575.09 1377.05,2567.85 \n",
       "  1377.84,2474.72 1378.64,2349.03 1379.43,2326.07 1380.22,2547.7 1381.01,2547.7 1381.8,2550.3 1382.59,2523 1383.39,2375.37 1384.18,2502.96 1384.97,2502.01 \n",
       "  1385.76,2503.47 1386.55,2455.76 1387.34,2497.33 1388.13,2607.97 1388.93,2493.31 1389.72,2527.93 1390.51,2501.11 1391.3,2501.11 1392.09,2507.76 1392.88,2491.8 \n",
       "  1393.68,2579.07 1394.47,2565.97 1395.26,2527.14 1396.05,2588.45 1396.84,2585.11 1397.63,2620.22 1398.42,2544.88 1399.22,2542.77 1400.01,2563.68 1400.8,2634.3 \n",
       "  1401.59,2598.78 1402.38,2557.67 1403.17,2474.53 1403.97,2553.11 1404.76,2546.19 1405.55,2602.58 1406.34,2543.53 1407.13,2434.98 1407.92,2460.84 1408.71,2566.49 \n",
       "  1409.51,2519.81 1410.3,2495.34 1411.09,2527.15 1411.88,2573.81 1412.67,2616.33 1413.46,2647.96 1414.25,2614.92 1415.05,2542.85 1415.84,2385.77 1416.63,2413.4 \n",
       "  1417.42,2423.61 1418.21,2447.7 1419,2451.7 1419.8,2521.53 1420.59,2654.67 1421.38,2504.7 1422.17,2450.61 1422.96,2458.18 1423.75,2573.83 1424.54,2464.49 \n",
       "  1425.34,2580.84 1426.13,2580.84 1426.92,2590.74 1427.71,2558.11 1428.5,2458.96 1429.29,2487.41 1430.09,2550.09 1430.88,2563.32 1431.67,2526.41 1432.46,2636.83 \n",
       "  1433.25,2638.72 1434.04,2561.42 1434.83,2541.09 1435.63,2539.94 1436.42,2626.89 1437.21,2668.59 1438,2690.65 1438.79,2628.32 1439.58,2621.2 1440.38,2370.35 \n",
       "  1441.17,2681.07 1441.96,2604.15 1442.75,2501.5 1443.54,2615.01 1444.33,2571.03 1445.12,2480.35 1445.92,2482.71 1446.71,2495.27 1447.5,2619.26 1448.29,2622.43 \n",
       "  1449.08,2450.21 1449.87,2685.75 1450.67,2644.61 1451.46,2649.02 1452.25,2580.91 1453.04,2556.21 1453.83,2469.13 1454.62,2564.06 1455.41,2599.42 1456.21,2587.93 \n",
       "  1457,2473.02 1457.79,2584.63 1458.58,2528.56 1459.37,2536.49 1460.16,2547.67 1460.96,2528.52 1461.75,2579.7 1462.54,2539.71 1463.33,2513.39 1464.12,2609.72 \n",
       "  1464.91,2511.76 1465.7,2378.82 1466.5,2581.67 1467.29,2584.75 1468.08,2526.18 1468.87,2562.65 1469.66,2522.45 1470.45,2469.89 1471.24,2609 1472.04,2495.17 \n",
       "  1472.83,2491.73 1473.62,2587.32 1474.41,2581.8 1475.2,2603.03 1475.99,2565.49 1476.79,2559.65 1477.58,2556.79 1478.37,2606.02 1479.16,2566.57 1479.95,2497.53 \n",
       "  1480.74,2394.02 1481.53,2609.07 1482.33,2615.58 1483.12,2618.82 1483.91,2614.56 1484.7,2646.15 1485.49,2587.79 1486.28,2598.86 1487.08,2501.44 1487.87,2535.13 \n",
       "  1488.66,2625.12 1489.45,2436.5 1490.24,2606.85 1491.03,2540.94 1491.82,2590.4 1492.62,2511.49 1493.41,2546.24 1494.2,2431.56 1494.99,2475.14 1495.78,2435.91 \n",
       "  1496.57,2441.04 1497.37,2414.19 1498.16,2517.3 1498.95,2607.46 1499.74,2644.46 1500.53,2545.42 1501.32,2584.86 1502.11,2624.71 1502.91,2714.95 1503.7,2685.79 \n",
       "  1504.49,2600.36 1505.28,2571.38 1506.07,2565.97 1506.86,2543.22 1507.66,2547.21 1508.45,2329.34 1509.24,2350.92 1510.03,2359.74 1510.82,2640.53 1511.61,2548.14 \n",
       "  1512.4,2611.19 1513.2,2631.45 1513.99,2592.09 1514.78,2608.21 1515.57,2541.35 1516.36,2684.11 1517.15,2608.33 1517.95,2557.19 1518.74,2425 1519.53,2647.58 \n",
       "  1520.32,2647.58 1521.11,2647.61 1521.9,2594.72 1522.69,2605.95 1523.49,2386.23 1524.28,2476.82 1525.07,2517.14 1525.86,2526.73 1526.65,2601.98 1527.44,2367.89 \n",
       "  1528.23,2502.76 1529.03,2611.09 1529.82,2629.18 1530.61,2595.15 1531.4,2541.61 1532.19,2581.68 1532.98,2589.77 1533.78,2413.37 1534.57,2338.99 1535.36,2332.07 \n",
       "  1536.15,2336.4 1536.94,2388.93 1537.73,2397.95 1538.52,2452.13 1539.32,2433.71 1540.11,2650.3 1540.9,2661.11 1541.69,2568.38 1542.48,2507.28 1543.27,2470.95 \n",
       "  1544.07,2502.37 1544.86,2452.3 1545.65,2593.49 1546.44,2615.67 1547.23,2463.97 1548.02,2402.25 1548.81,2480.64 1549.61,2688.26 1550.4,2686.33 1551.19,2288.25 \n",
       "  1551.98,2300.31 1552.77,2435.1 1553.56,2448.4 1554.36,2503.95 1555.15,2492.27 1555.94,2494.64 1556.73,2438.41 1557.52,2586.87 1558.31,2525.73 1559.1,2501.95 \n",
       "  1559.9,2598.55 1560.69,2489.46 1561.48,2509.1 1562.27,2530.09 1563.06,2534.19 1563.85,2546.11 1564.65,2545.99 1565.44,2578.63 1566.23,2491.6 1567.02,2520.98 \n",
       "  1567.81,2488.34 1568.6,2498.78 1569.39,2381.86 1570.19,2588.82 1570.98,2626.78 1571.77,2486.18 1572.56,2525.47 1573.35,2596.35 1574.14,2596.35 1574.94,2489.75 \n",
       "  1575.73,2460.92 1576.52,2622.79 1577.31,2585.7 1578.1,2681.7 1578.89,2435.51 1579.68,2579.34 1580.48,2588.33 1581.27,2567.72 1582.06,2593.02 1582.85,2628.17 \n",
       "  1583.64,2593.81 1584.43,2516.48 1585.22,2519.12 1586.02,2553.07 1586.81,2511.15 1587.6,2557.09 1588.39,2627.25 1589.18,2627.25 1589.97,2443.21 1590.77,2498.32 \n",
       "  1591.56,2647.57 1592.35,2649.64 1593.14,2670.44 1593.93,2677.91 1594.72,2507.75 1595.51,2484.65 1596.31,2499.47 1597.1,2495.25 1597.89,2507.89 1598.68,2647.94 \n",
       "  1599.47,2651.6 1600.26,2670.88 1601.06,2667.7 1601.85,2667.7 1602.64,2488.68 1603.43,2565.09 1604.22,2417.44 1605.01,2636.14 1605.8,2617.79 1606.6,2640.59 \n",
       "  1607.39,2600.45 1608.18,2542.1 1608.97,2540.98 1609.76,2585.37 1610.55,2498.44 1611.35,2549.86 1612.14,2478.32 1612.93,2484.39 1613.72,2511.82 1614.51,2583.82 \n",
       "  1615.3,2524.32 1616.09,2676.5 1616.89,2441.52 1617.68,2525.03 1618.47,2603.45 1619.26,2616.39 1620.05,2539.14 1620.84,2522.98 1621.64,2557.92 1622.43,2512.54 \n",
       "  1623.22,2499.71 1624.01,2337.39 1624.8,2728.41 1625.59,2613.13 1626.38,2549.59 1627.18,2420.39 1627.97,2556.08 1628.76,2572.61 1629.55,2602.44 1630.34,2606.58 \n",
       "  1631.13,2688.73 1631.93,2687.85 1632.72,2384.52 1633.51,2333.73 1634.3,2258.43 1635.09,2256.19 1635.88,2358.22 1636.67,2294.88 1637.47,2247.64 1638.26,2550.7 \n",
       "  1639.05,2534.46 1639.84,2590.43 1640.63,2592.42 1641.42,2562.55 1642.21,2491.12 1643.01,2454.61 1643.8,2455.57 1644.59,2413.95 1645.38,2590.02 1646.17,2567.54 \n",
       "  1646.96,2517 1647.76,2546.04 1648.55,2565.22 1649.34,2489.33 1650.13,2560.05 1650.92,2558.08 1651.71,2560.77 1652.5,2552.79 1653.3,2639.27 1654.09,2458.09 \n",
       "  1654.88,2610.85 1655.67,2581.61 1656.46,2469.41 1657.25,2637.47 1658.05,2601 1658.84,2521.38 1659.63,2608.5 1660.42,2500.67 1661.21,2482.96 1662,2501.29 \n",
       "  1662.79,2622.22 1663.59,2491 1664.38,2369.49 1665.17,2345.53 1665.96,2511.24 1666.75,2498.21 1667.54,2471.6 1668.34,2599.15 1669.13,2502.54 1669.92,2467.86 \n",
       "  1670.71,2389.17 1671.5,2371.82 1672.29,2471.27 1673.08,2633.33 1673.88,2554.51 1674.67,2513.4 1675.46,2470.39 1676.25,2619.69 1677.04,2598.87 1677.83,2417.26 \n",
       "  1678.63,2487.04 1679.42,2395.94 1680.21,2365.75 1681,2359.65 1681.79,2291.62 1682.58,2286.04 1683.37,2719.16 1684.17,2592.5 1684.96,2651.71 1685.75,2669.64 \n",
       "  1686.54,2564.98 1687.33,2510.79 1688.12,2513.99 1688.92,2512.76 1689.71,2653.71 1690.5,2623.15 1691.29,2682.46 1692.08,2515.74 1692.87,2526.33 1693.66,2627.62 \n",
       "  1694.46,2336.83 1695.25,2336.83 1696.04,2343.82 1696.83,2320.56 1697.62,2401.23 1698.41,2529.98 1699.2,2451.78 1700,2419.7 1700.79,2392.74 1701.58,2514.65 \n",
       "  1702.37,2601.59 1703.16,2534.57 1703.95,2450.52 1704.75,2398.92 1705.54,2627.79 1706.33,2603.94 1707.12,2628.47 1707.91,2580.39 1708.7,2483.67 1709.49,2635.4 \n",
       "  1710.29,2612.23 1711.08,2622.88 1711.87,2564.71 1712.66,2537.94 1713.45,2616.59 1714.24,2658.42 1715.04,2685.83 1715.83,2526.8 1716.62,2549.51 1717.41,2558.31 \n",
       "  1718.2,2667.82 1718.99,2578.33 1719.78,2632.64 1720.58,2503.9 1721.37,2565.56 1722.16,2629.84 1722.95,2517.76 1723.74,2514.97 1724.53,2443.41 1725.33,2469.65 \n",
       "  1726.12,2576.2 1726.91,2550.73 1727.7,2541.54 1728.49,2553.71 1729.28,2537.53 1730.07,2571.05 1730.87,2478.81 1731.66,2567.28 1732.45,2571.27 1733.24,2463.94 \n",
       "  1734.03,2543.35 1734.82,2568.35 1735.62,2661.9 1736.41,2684.8 1737.2,2628.74 1737.99,2377.7 1738.78,2306.99 1739.57,2326.18 1740.36,2545 1741.16,2449.64 \n",
       "  1741.95,2475.28 1742.74,2301.37 1743.53,2290.84 1744.32,2539.58 1745.11,2539.58 1745.91,2645.49 1746.7,2573.81 1747.49,2423.08 1748.28,2489.69 1749.07,2480.98 \n",
       "  1749.86,2454.8 1750.65,2443.12 1751.45,2592.55 1752.24,2594.43 1753.03,2394.52 1753.82,2680.14 1754.61,2629.95 1755.4,2400.63 1756.19,2612.23 1756.99,2612.23 \n",
       "  1757.78,2580.67 1758.57,2589.88 1759.36,2662.92 1760.15,2608.15 1760.94,2417 1761.74,2385.82 1762.53,2581.55 1763.32,2461.08 1764.11,2649.09 1764.9,2511.8 \n",
       "  1765.69,2506.35 1766.48,2617.7 1767.28,2617.7 1768.07,2679.02 1768.86,2678.79 1769.65,2677.34 1770.44,2630.56 1771.23,2428.71 1772.03,2513.25 1772.82,2511.46 \n",
       "  1773.61,2502.6 1774.4,2564.75 1775.19,2542.02 1775.98,2589.43 1776.77,2550.09 1777.57,2551.23 1778.36,2528.13 1779.15,2539.5 1779.94,2551.01 1780.73,2495.13 \n",
       "  1781.52,2492.67 1782.32,2490.46 1783.11,2549.88 1783.9,2453.03 1784.69,2454.43 1785.48,2537.1 1786.27,2529.07 1787.06,2666.28 1787.86,2577.8 1788.65,2572.73 \n",
       "  1789.44,2488.06 1790.23,2520.43 1791.02,2505.74 1791.81,2609.19 1792.61,2627.04 1793.4,2625.41 1794.19,2468.51 1794.98,2490.22 1795.77,2596.65 1796.56,2669.71 \n",
       "  1797.35,2663.06 1798.15,2542.99 1798.94,2553.02 1799.73,2566.06 1800.52,2626.83 1801.31,2625.96 1802.1,2554.45 1802.9,2591.1 1803.69,2469.49 1804.48,2579.55 \n",
       "  1805.27,2531.68 1806.06,2506.43 1806.85,2429.66 1807.64,2429.65 1808.44,2641.83 1809.23,2662.09 1810.02,2473.46 1810.81,2457.28 1811.6,2457.47 1812.39,2528.17 \n",
       "  1813.18,2533.33 1813.98,2545.11 1814.77,2522.79 1815.56,2503.29 1816.35,2438.29 1817.14,2636.86 1817.93,2694.05 1818.73,2694.49 1819.52,2651.25 1820.31,2698.12 \n",
       "  1821.1,2379.43 1821.89,2458.31 1822.68,2492.06 1823.47,2544.67 1824.27,2526.11 1825.06,2477.92 1825.85,2484.88 1826.64,2499.51 1827.43,2506.91 1828.22,2532.39 \n",
       "  1829.02,2503.61 1829.81,2537.43 1830.6,2527.43 1831.39,2512.17 1832.18,2529.21 1832.97,2589.28 1833.76,2613.49 1834.56,2639.38 1835.35,2625.67 1836.14,2622.9 \n",
       "  1836.93,2625.76 1837.72,2622.55 1838.51,2646.71 1839.31,2585.01 1840.1,2579.59 1840.89,2575.99 1841.68,2345.7 1842.47,2408.75 1843.26,2636.26 1844.05,2550.83 \n",
       "  1844.85,2489.03 1845.64,2541.21 1846.43,2554.82 1847.22,2549.09 1848.01,2595.36 1848.8,2611.55 1849.6,2499.66 1850.39,2534.33 1851.18,2483.05 1851.97,2363.9 \n",
       "  1852.76,2568.02 1853.55,2416.41 1854.34,2636.99 1855.14,2577.86 1855.93,2469.82 1856.72,2509.24 1857.51,2551.65 1858.3,2474.48 1859.09,2476.85 1859.89,2544.91 \n",
       "  1860.68,2599.71 1861.47,2657.23 1862.26,2420.98 1863.05,2524.22 1863.84,2557.36 1864.63,2537.13 1865.43,2539.43 1866.22,2603.58 1867.01,2588.29 1867.8,2537.94 \n",
       "  1868.59,2683.62 1869.38,2698.45 1870.17,2694.45 1870.97,2698.68 1871.76,2665.45 1872.55,2657.16 1873.34,2742.12 1874.13,2467.81 1874.92,2545.24 1875.72,2610.07 \n",
       "  1876.51,2470.4 1877.3,2535.46 1878.09,2518.04 1878.88,2577.49 1879.67,2580.49 1880.46,2512.41 1881.26,2527.08 1882.05,2558.97 1882.84,2504.48 1883.63,2514.18 \n",
       "  1884.42,2501.25 1885.21,2671.58 1886.01,2619.44 1886.8,2449.5 1887.59,2549.23 1888.38,2504.04 1889.17,2380.57 1889.96,2624.12 1890.75,2557.63 1891.55,2522.76 \n",
       "  1892.34,2618.85 1893.13,2675.68 1893.92,2350.39 1894.71,2365.33 1895.5,2365.58 1896.3,2425.36 1897.09,2481.72 1897.88,2538.1 1898.67,2683.56 1899.46,2491.63 \n",
       "  1900.25,2559.77 1901.04,2546.21 1901.84,2647.68 1902.63,2610.66 1903.42,2635.69 1904.21,2583.74 1905,2589.46 1905.79,2421.09 1906.59,2622.56 1907.38,2560.29 \n",
       "  1908.17,2456.66 1908.96,2487.82 1909.75,2545.94 1910.54,2641.1 1911.33,2643.53 1912.13,2479.72 1912.92,2484.08 1913.71,2588.68 1914.5,2599.21 1915.29,2559.47 \n",
       "  1916.08,2571.49 1916.88,2533.13 1917.67,2493.56 1918.46,2671.33 1919.25,2442.6 1920.04,2587.71 1920.83,2557.67 1921.62,2572.34 1922.42,2505.69 1923.21,2659.47 \n",
       "  1924,2697.19 1924.79,2697.72 1925.58,2559.09 1926.37,2589.96 1927.16,2660.17 1927.96,2536.42 1928.75,2536.42 1929.54,2520.09 1930.33,2541.64 1931.12,2506.54 \n",
       "  1931.91,2489.58 1932.71,2636.97 1933.5,2616.07 1934.29,2545.55 1935.08,2456.03 1935.87,2482.45 1936.66,2555.79 1937.45,2537.28 1938.25,2639.59 1939.04,2654.07 \n",
       "  \n",
       "  \"/>\n",
       "<polyline clip-path=\"url(#clip046)\" style=\"stroke:#3da44d; stroke-linecap:butt; stroke-linejoin:round; stroke-width:4; stroke-opacity:1; fill:none\" points=\"\n",
       "  356.774,2542.77 357.565,2535.94 358.357,2525.59 359.148,2467.1 359.94,2485.31 360.731,2632.77 361.523,2553.2 362.315,2606.41 363.106,2654.27 363.898,2551.18 \n",
       "  364.689,2550.88 365.481,2674.72 366.272,2291.04 367.064,2309.7 367.855,2487.28 368.647,2529.67 369.438,2540.71 370.23,2602.49 371.021,2599.93 371.813,2545.51 \n",
       "  372.604,2541.54 373.396,2440.34 374.187,2533.54 374.979,2647.67 375.77,2665.09 376.562,2559.59 377.354,2512.96 378.145,2495.36 378.937,2644.16 379.728,2549.79 \n",
       "  380.52,2491.54 381.311,2608.56 382.103,2476.86 382.894,2596.36 383.686,2559.5 384.477,2477.49 385.269,2453.49 386.06,2447.28 386.852,2644.33 387.643,2643.27 \n",
       "  388.435,2651.59 389.226,2612.01 390.018,2557.51 390.81,2623.24 391.601,2638.99 392.393,2504.4 393.184,2526.4 393.976,2549.17 394.767,2485.48 395.559,2498.32 \n",
       "  396.35,2570.17 397.142,2586.9 397.933,2528.3 398.725,2522.51 399.516,2554.3 400.308,2597.54 401.099,2545.97 401.891,2556.53 402.682,2557.03 403.474,2500.2 \n",
       "  404.265,2500.2 405.057,2649.05 405.849,2502.73 406.64,2342.05 407.432,2611.31 408.223,2612.67 409.015,2546.66 409.806,2671.94 410.598,2641.89 411.389,2649.27 \n",
       "  412.181,2649.16 412.972,2674.9 413.764,2639.59 414.555,2343.24 415.347,2348.16 416.138,2653.02 416.93,2624.45 417.721,2595.59 418.513,2643.05 419.305,2643.05 \n",
       "  420.096,2440.34 420.888,2448.13 421.679,2680.65 422.471,2557.91 423.262,2538.09 424.054,2504.21 424.845,2445.76 425.637,2531.15 426.428,2547.07 427.22,2648.53 \n",
       "  428.011,2654.53 428.803,2357.44 429.594,2650.05 430.386,2581.3 431.177,2541.05 431.969,2574.5 432.76,2532.58 433.552,2558.27 434.344,2548.85 435.135,2617.78 \n",
       "  435.927,2599.5 436.718,2557.5 437.51,2553.92 438.301,2433.64 439.093,2606.22 439.884,2599.48 440.676,2503.36 441.467,2635.41 442.259,2612.1 443.05,2570.68 \n",
       "  443.842,2560.77 444.633,2591.74 445.425,2515.28 446.216,2600.99 447.008,2597.43 447.8,2612.3 448.591,2656.21 449.383,2661.78 450.174,2659.75 450.966,2498.39 \n",
       "  451.757,2606.24 452.549,2584.92 453.34,2562.47 454.132,2530.9 454.923,2533.34 455.715,2547.16 456.506,2511.93 457.298,2428.75 458.089,2668.83 458.881,2407.74 \n",
       "  459.672,2414.87 460.464,2535.51 461.255,2579.86 462.047,2591.37 462.839,2596.45 463.63,2598.18 464.422,2605.67 465.213,2607.66 466.005,2611.75 466.796,2554.06 \n",
       "  467.588,2537.48 468.379,2598.11 469.171,2444.12 469.962,2425.7 470.754,2601.64 471.545,2555.35 472.337,2555.48 473.128,2479.89 473.92,2445.06 474.711,2523.15 \n",
       "  475.503,2447.49 476.295,2407.12 477.086,2491.96 477.878,2489 478.669,2630.97 479.461,2529.09 480.252,2521.94 481.044,2542.55 481.835,2460.01 482.627,2438.81 \n",
       "  483.418,2522.42 484.21,2526.39 485.001,2581.85 485.793,2594.45 486.584,2521.54 487.376,2549.89 488.167,2332.47 488.959,2469.95 489.75,2549.54 490.542,2557.22 \n",
       "  491.334,2545 492.125,2687.68 492.917,2586.06 493.708,2531.65 494.5,2664.13 495.291,2605 496.083,2470.53 496.874,2453.38 497.666,2640.48 498.457,2639.72 \n",
       "  499.249,2436.69 500.04,2624 500.832,2627.14 501.623,2448.88 502.415,2393.67 503.206,2459.32 503.998,2629.51 504.79,2626.04 505.581,2585.52 506.373,2696.21 \n",
       "  507.164,2684.36 507.956,2688.04 508.747,2585.88 509.539,2524.4 510.33,2406.56 511.122,2518.12 511.913,2607.81 512.705,2662.63 513.496,2432.64 514.288,2287.97 \n",
       "  515.079,2343.7 515.871,2622.94 516.662,2515.43 517.454,2516.26 518.245,2498.21 519.037,2631.07 519.829,2643.96 520.62,2488.59 521.412,2484.4 522.203,2505.46 \n",
       "  522.995,2464.25 523.786,2459.84 524.578,2560.64 525.369,2559.51 526.161,2554.72 526.952,2594.56 527.744,2464.29 528.535,2626.97 529.327,2439.4 530.118,2518.48 \n",
       "  530.91,2459.39 531.701,2627.74 532.493,2620.98 533.285,2470.48 534.076,2470.39 534.868,2604.54 535.659,2669.91 536.451,2441.77 537.242,2504.16 538.034,2492.13 \n",
       "  538.825,2489.54 539.617,2522.32 540.408,2576.79 541.2,2496.3 541.991,2636.85 542.783,2550.44 543.574,2544.71 544.366,2461.36 545.157,2614.43 545.949,2642.1 \n",
       "  546.74,2602.58 547.532,2592.39 548.324,2505 549.115,2491.21 549.907,2542.46 550.698,2364.73 551.49,2596.12 552.281,2531.87 553.073,2598.82 553.864,2530.93 \n",
       "  554.656,2533.46 555.447,2548.96 556.239,2542.34 557.03,2661.82 557.822,2666.82 558.613,2660.11 559.405,2659.8 560.196,2590.45 560.988,2577.66 561.78,2524.04 \n",
       "  562.571,2536.19 563.363,2587.58 564.154,2606.98 564.946,2490.3 565.737,2602.54 566.529,2691.55 567.32,2455.46 568.112,2622.13 568.903,2600.29 569.695,2452.65 \n",
       "  570.486,2564.3 571.278,2588.67 572.069,2593.78 572.861,2542.19 573.652,2621.96 574.444,2608.17 575.235,2600.76 576.027,2607.27 576.819,2441.26 577.61,2633.28 \n",
       "  578.402,2561.99 579.193,2579.14 579.985,2437.94 580.776,2497.17 581.568,2522.84 582.359,2584.58 583.151,2573.87 583.942,2554.84 584.734,2539.39 585.525,2535.54 \n",
       "  586.317,2555.5 587.108,2526.02 587.9,2449.53 588.691,2406.95 589.483,2465.13 590.275,2661.59 591.066,2482.51 591.858,2422.89 592.649,2495.74 593.441,2489.67 \n",
       "  594.232,2532.31 595.024,2613.79 595.815,2586.99 596.607,2646.94 597.398,2673.14 598.19,2673.14 598.981,2719.28 599.773,2590.3 600.564,2572.82 601.356,2560.04 \n",
       "  602.147,2453.29 602.939,2555.7 603.73,2560.18 604.522,2572.28 605.314,2511.61 606.105,2622.93 606.897,2504.05 607.688,2679.13 608.48,2516.14 609.271,2516.83 \n",
       "  610.063,2548.01 610.854,2545.31 611.646,2620.88 612.437,2582.64 613.229,2582.92 614.02,2510.18 614.812,2521.65 615.603,2757.23 616.395,2657.56 617.186,2505.93 \n",
       "  617.978,2470.23 618.77,2557.52 619.561,2594.98 620.353,2588.31 621.144,2601.24 621.936,2588.76 622.727,2608.72 623.519,2537.3 624.31,2587.74 625.102,2579.16 \n",
       "  625.893,2593.42 626.685,2601.49 627.476,2444.84 628.268,2632.99 629.059,2509.94 629.851,2620.52 630.642,2649.76 631.434,2513.5 632.225,2474.91 633.017,2537.6 \n",
       "  633.809,2506.97 634.6,2572.94 635.392,2375.93 636.183,2503.49 636.975,2461.66 637.766,2433.87 638.558,2451.66 639.349,2529.85 640.141,2529.85 640.932,2494.52 \n",
       "  641.724,2649.69 642.515,2626.36 643.307,2640.61 644.098,2533.24 644.89,2546.9 645.681,2610.33 646.473,2588.49 647.265,2408.03 648.056,2688.9 648.848,2360.07 \n",
       "  649.639,2312.46 650.431,2304.13 651.222,2412.18 652.014,2403.49 652.805,2620.99 653.597,2458.61 654.388,2534.32 655.18,2551.4 655.971,2654.93 656.763,2548.81 \n",
       "  657.554,2541.63 658.346,2554.71 659.137,2518.08 659.929,2641.92 660.72,2621.13 661.512,2465.82 662.304,2457.21 663.095,2594.93 663.887,2428.14 664.678,2699.94 \n",
       "  665.47,2513.98 666.261,2474.22 667.053,2463.47 667.844,2477.82 668.636,2642.89 669.427,2669.08 670.219,2668.94 671.01,2464.01 671.802,2474.15 672.593,2585.56 \n",
       "  673.385,2507.34 674.176,2468.04 674.968,2456.84 675.76,2468.03 676.551,2468.03 677.343,2495.17 678.134,2614.3 678.926,2554.19 679.717,2552.32 680.509,2564.84 \n",
       "  681.3,2539.77 682.092,2553.85 682.883,2558.98 683.675,2528.5 684.466,2497.89 685.258,2616.7 686.049,2650.59 686.841,2350.79 687.632,2363.1 688.424,2384.41 \n",
       "  689.215,2580.96 690.007,2544.51 690.799,2459.28 691.59,2333.83 692.382,2340.45 693.173,2351.82 693.965,2352.36 694.756,2574.31 695.548,2597.68 696.339,2525.59 \n",
       "  697.131,2580.31 697.922,2573.68 698.714,2559.35 699.505,2472.48 700.297,2468.8 701.088,2469.84 701.88,2579.55 702.671,2530.1 703.463,2544.87 704.255,2519.12 \n",
       "  705.046,2512.15 705.838,2532.09 706.629,2558.39 707.421,2615.67 708.212,2570.44 709.004,2643.12 709.795,2639.87 710.587,2661.37 711.378,2717.94 712.17,2516.79 \n",
       "  712.961,2488.61 713.753,2505.7 714.544,2533.59 715.336,2538.75 716.127,2512.64 716.919,2519.79 717.71,2510.35 718.502,2677.71 719.294,2449.26 720.085,2444.95 \n",
       "  720.877,2595.28 721.668,2557.93 722.46,2646.94 723.251,2646.94 724.043,2668.27 724.834,2505.41 725.626,2355.64 726.417,2689.52 727.209,2689.52 728,2653.33 \n",
       "  728.792,2515.51 729.583,2630.36 730.375,2526.22 731.166,2514.66 731.958,2587.89 732.75,2516.95 733.541,2509.72 734.333,2599.98 735.124,2474.88 735.916,2489.73 \n",
       "  736.707,2525.59 737.499,2518.84 738.29,2593.39 739.082,2624.06 739.873,2474.7 740.665,2611.87 741.456,2574.79 742.248,2466.27 743.039,2412.13 743.831,2645.2 \n",
       "  744.622,2628.79 745.414,2611.94 746.205,2561.02 746.997,2496.36 747.789,2606.67 748.58,2593.46 749.372,2535.58 750.163,2563.49 750.955,2629.92 751.746,2577.01 \n",
       "  752.538,2529.38 753.329,2528.48 754.121,2605.37 754.912,2579.53 755.704,2590.91 756.495,2619.68 757.287,2571.66 758.078,2535.55 758.87,2503.16 759.661,2580.81 \n",
       "  760.453,2522.38 761.245,2491.74 762.036,2504.15 762.828,2500.37 763.619,2503.4 764.411,2617.22 765.202,2482.21 765.994,2580.89 766.785,2654.69 767.577,2439.72 \n",
       "  768.368,2522.07 769.16,2472.15 769.951,2503.45 770.743,2496.69 771.534,2499.1 772.326,2510.64 773.117,2523.87 773.909,2526.31 774.7,2632.89 775.492,2574.53 \n",
       "  776.284,2573.68 777.075,2472.5 777.867,2597.38 778.658,2658.23 779.45,2608.91 780.241,2624.02 781.033,2545.3 781.824,2297.86 782.616,2353.04 783.407,2413.26 \n",
       "  784.199,2393.48 784.99,2407.05 785.782,2647.69 786.573,2642.39 787.365,2384.05 788.156,2450.08 788.948,2635.91 789.74,2431.03 790.531,2434.75 791.323,2545.53 \n",
       "  792.114,2542.83 792.906,2529.62 793.697,2373.71 794.489,2428.76 795.28,2573.02 796.072,2678.44 796.863,2564.37 797.655,2511.16 798.446,2443.21 799.238,2453.7 \n",
       "  800.029,2324.14 800.821,2472.33 801.612,2491.83 802.404,2584 803.195,2525.12 803.987,2562.05 804.779,2561.17 805.57,2547.84 806.362,2511.39 807.153,2652.18 \n",
       "  807.945,2640.24 808.736,2487.3 809.528,2636.85 810.319,2624.9 811.111,2624.47 811.902,2670.14 812.694,2653.11 813.485,2649.53 814.277,2663.77 815.068,2663.77 \n",
       "  815.86,2620.84 816.651,2704.84 817.443,2704.84 818.235,2704.92 819.026,2491.62 819.818,2589.08 820.609,2491.18 821.401,2634.48 822.192,2612.31 822.984,2355.12 \n",
       "  823.775,2448.97 824.567,2447.3 825.358,2570.74 826.15,2540.57 826.941,2590.55 827.733,2545.73 828.524,2592.62 829.316,2554.63 830.107,2597.05 830.899,2628.71 \n",
       "  831.69,2590.13 832.482,2508.33 833.274,2514.09 834.065,2620.68 834.857,2591.45 835.648,2593.24 836.44,2465.98 837.231,2638.29 838.023,2619.41 838.814,2433.03 \n",
       "  839.606,2413.59 840.397,2411.91 841.189,2413.24 841.98,2626.22 842.772,2477.65 843.563,2503.36 844.355,2491.74 845.146,2635.53 845.938,2535.3 846.73,2537.27 \n",
       "  847.521,2520.93 848.313,2524.21 849.104,2560.19 849.896,2662.26 850.687,2647.53 851.479,2668.66 852.27,2660.31 853.062,2668.06 853.853,2590.67 854.645,2562.14 \n",
       "  855.436,2539.71 856.228,2582.2 857.019,2587.82 857.811,2499.57 858.602,2510.89 859.394,2574.16 860.185,2656.72 860.977,2545.74 861.769,2633.46 862.56,2586.03 \n",
       "  863.352,2555.51 864.143,2667 864.935,2635.1 865.726,2593.45 866.518,2727.02 867.309,2727.02 868.101,2547.91 868.892,2559.68 869.684,2630.69 870.475,2604.39 \n",
       "  871.267,2584.81 872.058,2529.72 872.85,2530.79 873.641,2531.02 874.433,2549.72 875.225,2555.08 876.016,2542.81 876.808,2571.43 877.599,2627.72 878.391,2529.85 \n",
       "  879.182,2572.24 879.974,2446.52 880.765,2597.25 881.557,2526.45 882.348,2551.52 883.14,2514.14 883.931,2510.49 884.723,2552.18 885.514,2565.53 886.306,2518.88 \n",
       "  887.097,2518.38 887.889,2615.25 888.68,2607.77 889.472,2519.93 890.264,2523.58 891.055,2470.42 891.847,2458.76 892.638,2428.03 893.43,2622.88 894.221,2622.88 \n",
       "  895.013,2623.23 895.804,2614.14 896.596,2598.78 897.387,2495.41 898.179,2580.71 898.97,2584.25 899.762,2578.58 900.553,2609.61 901.345,2599.67 902.136,2415.03 \n",
       "  902.928,2457.9 903.72,2649.63 904.511,2497.35 905.303,2494.2 906.094,2718.05 906.886,2648.9 907.677,2661.21 908.469,2626.72 909.26,2445.64 910.052,2434.68 \n",
       "  910.843,2565.21 911.635,2568.22 912.426,2609.84 913.218,2607.74 914.009,2544.32 914.801,2626.58 915.592,2632.38 916.384,2485.71 917.175,2514.76 917.967,2550.77 \n",
       "  918.759,2578.2 919.55,2606.71 920.342,2568.81 921.133,2646.95 921.925,2467.01 922.716,2568.22 923.508,2558.02 924.299,2519.93 925.091,2532.57 925.882,2508.13 \n",
       "  926.674,2422.73 927.465,2449.26 928.257,2432.29 929.048,2589.45 929.84,2587.3 930.631,2665.55 931.423,2693.19 932.215,2655.52 933.006,2511.39 933.798,2537.62 \n",
       "  934.589,2614.97 935.381,2587.5 936.172,2587.26 936.964,2618.89 937.755,2608.94 938.547,2548.5 939.338,2525.18 940.13,2529.94 940.921,2524.73 941.713,2597.95 \n",
       "  942.504,2601.57 943.296,2573.36 944.087,2516.2 944.879,2634.95 945.67,2583.03 946.462,2518.52 947.254,2517.05 948.045,2510.67 948.837,2500.33 949.628,2516.51 \n",
       "  950.42,2549.3 951.211,2584.29 952.003,2646.71 952.794,2686.98 953.586,2503.75 954.377,2525.72 955.169,2499.94 955.96,2498.74 956.752,2548.34 957.543,2589.4 \n",
       "  958.335,2567.68 959.126,2606.4 959.918,2504.07 960.71,2512.04 961.501,2560.55 962.293,2518.86 963.084,2597.03 963.876,2593.17 964.667,2564.27 965.459,2486.79 \n",
       "  966.25,2540.79 967.042,2553.71 967.833,2539.76 968.625,2650.3 969.416,2503.28 970.208,2474.02 970.999,2633.47 971.791,2612.04 972.582,2552.44 973.374,2434.3 \n",
       "  974.165,2488.83 974.957,2573.11 975.749,2496.99 976.54,2493.78 977.332,2510.57 978.123,2485.5 978.915,2521.09 979.706,2517.72 980.498,2554.65 981.289,2545.06 \n",
       "  982.081,2401.86 982.872,2407.05 983.664,2705.44 984.455,2570.86 985.247,2578.9 986.038,2549.15 986.83,2556.91 987.621,2593.55 988.413,2603.19 989.204,2616.95 \n",
       "  989.996,2517.27 990.788,2526.52 991.579,2497.11 992.371,2599.07 993.162,2554.42 993.954,2497.02 994.745,2526.18 995.537,2494.79 996.328,2502.29 997.12,2502.29 \n",
       "  997.911,2530.42 998.703,2530.64 999.494,2485.81 1000.29,2496.69 1001.08,2615.4 1001.87,2577.65 1002.66,2547.44 1003.45,2519.14 1004.24,2641.08 1005.04,2678.2 \n",
       "  1005.83,2678.2 1006.62,2498.6 1007.41,2566.26 1008.2,2567.14 1008.99,2622.79 1009.78,2605.48 1010.58,2579.36 1011.37,2575.29 1012.16,2643.45 1012.95,2576.18 \n",
       "  1013.74,2702.98 1014.53,2292.35 1015.32,2681.98 1016.12,2598.33 1016.91,2421.23 1017.7,2495.55 1018.49,2475.31 1019.28,2485.78 1020.07,2534.9 1020.87,2395.19 \n",
       "  1021.66,2582.7 1022.45,2570.16 1023.24,2349.41 1024.03,2549.99 1024.82,2681.95 1025.61,2563.37 1026.41,2531.39 1027.2,2447.82 1027.99,2475.62 1028.78,2470.62 \n",
       "  1029.57,2476.49 1030.36,2524.28 1031.16,2459.67 1031.95,2461.85 1032.74,2449.79 1033.53,2560.57 1034.32,2576.21 1035.11,2555.03 1035.9,2434.97 1036.7,2506.01 \n",
       "  1037.49,2555.45 1038.28,2551.34 1039.07,2541.67 1039.86,2606.76 1040.65,2588.31 1041.45,2612.16 1042.24,2411.89 1043.03,2546.87 1043.82,2495.94 1044.61,2538.17 \n",
       "  1045.4,2580.25 1046.19,2532.49 1046.99,2418.97 1047.78,2418.88 1048.57,2341.67 1049.36,2560.88 1050.15,2449.88 1050.94,2284.64 1051.74,2398.42 1052.53,2530.84 \n",
       "  1053.32,2542.57 1054.11,2572.54 1054.9,2578.96 1055.69,2620.16 1056.48,2507.09 1057.28,2495.22 1058.07,2495.22 1058.86,2411.63 1059.65,2497.48 1060.44,2602.55 \n",
       "  1061.23,2541.09 1062.03,2572.42 1062.82,2573.74 1063.61,2613.23 1064.4,2472.95 1065.19,2486.18 1065.98,2595.85 1066.77,2642.33 1067.57,2415.32 1068.36,2547.17 \n",
       "  1069.15,2602.04 1069.94,2587.8 1070.73,2614.71 1071.52,2505.11 1072.31,2609.96 1073.11,2622.87 1073.9,2529.66 1074.69,2591.04 1075.48,2661.29 1076.27,2648.1 \n",
       "  1077.06,2682.21 1077.86,2447.05 1078.65,2632.61 1079.44,2571.63 1080.23,2605.21 1081.02,2482.99 1081.81,2482.13 1082.6,2538.16 1083.4,2467.1 1084.19,2550.22 \n",
       "  1084.98,2540.22 1085.77,2501.86 1086.56,2623.34 1087.35,2492.83 1088.15,2518.91 1088.94,2491.84 1089.73,2497.7 1090.52,2535.93 1091.31,2409.69 1092.1,2391.13 \n",
       "  1092.89,2416.38 1093.69,2485.72 1094.48,2514.26 1095.27,2573.03 1096.06,2627.09 1096.85,2579.7 1097.64,2575.92 1098.44,2607.46 1099.23,2509.41 1100.02,2484.13 \n",
       "  1100.81,2496.94 1101.6,2551.23 1102.39,2602.95 1103.18,2427.04 1103.98,2670.79 1104.77,2481.96 1105.56,2605.69 1106.35,2615.47 1107.14,2494.05 1107.93,2568.13 \n",
       "  1108.73,2454.37 1109.52,2620.71 1110.31,2601.35 1111.1,2532.84 1111.89,2598.37 1112.68,2534.62 1113.47,2589.34 1114.27,2559.4 1115.06,2573.78 1115.85,2601.89 \n",
       "  1116.64,2577.44 1117.43,2663.99 1118.22,2648.5 1119.02,2666.61 1119.81,2554.44 1120.6,2617.46 1121.39,2480.57 1122.18,2428.07 1122.97,2609.81 1123.76,2616.5 \n",
       "  1124.56,2654 1125.35,2605.55 1126.14,2484.36 1126.93,2569.96 1127.72,2570.18 1128.51,2549.31 1129.3,2522.43 1130.1,2544.69 1130.89,2607.67 1131.68,2519.04 \n",
       "  1132.47,2482.32 1133.26,2663.32 1134.05,2522.15 1134.85,2504.93 1135.64,2464.46 1136.43,2460.55 1137.22,2396.92 1138.01,2419.52 1138.8,2612.93 1139.59,2608.62 \n",
       "  1140.39,2424.5 1141.18,2618.08 1141.97,2597.71 1142.76,2562.21 1143.55,2555.65 1144.34,2554.37 1145.14,2628.85 1145.93,2550.05 1146.72,2577.05 1147.51,2586.24 \n",
       "  1148.3,2584 1149.09,2624.94 1149.88,2561.52 1150.68,2569.04 1151.47,2626.41 1152.26,2482.17 1153.05,2526.53 1153.84,2587.92 1154.63,2605.53 1155.43,2583.93 \n",
       "  1156.22,2560.94 1157.01,2574.36 1157.8,2490.72 1158.59,2630.77 1159.38,2432.48 1160.17,2443.99 1160.97,2693.17 1161.76,2660 1162.55,2432.06 1163.34,2455.26 \n",
       "  1164.13,2515.5 1164.92,2556.22 1165.72,2537.73 1166.51,2550.69 1167.3,2536.23 1168.09,2474.05 1168.88,2527.55 1169.67,2568.88 1170.46,2444.57 1171.26,2629.93 \n",
       "  1172.05,2656.83 1172.84,2602.74 1173.63,2592.73 1174.42,2405.24 1175.21,2420.4 1176.01,2616.99 1176.8,2592.73 1177.59,2555.48 1178.38,2598.41 1179.17,2571.56 \n",
       "  1179.96,2426.92 1180.75,2556.99 1181.55,2519.03 1182.34,2474.99 1183.13,2562.41 1183.92,2579.58 1184.71,2584.54 1185.5,2535.78 1186.29,2622.01 1187.09,2586.98 \n",
       "  1187.88,2459.67 1188.67,2578.97 1189.46,2472.87 1190.25,2574.02 1191.04,2443.26 1191.84,2445.72 1192.63,2418.84 1193.42,2647.5 1194.21,2546.7 1195,2552.43 \n",
       "  1195.79,2633.92 1196.58,2632.32 1197.38,2357.23 1198.17,2539.58 1198.96,2545.51 1199.75,2555.1 1200.54,2530.66 1201.33,2498.75 1202.13,2491.21 1202.92,2501.46 \n",
       "  1203.71,2584.14 1204.5,2554.24 1205.29,2577.2 1206.08,2555.53 1206.87,2476.04 1207.67,2477.91 1208.46,2610.03 1209.25,2505.88 1210.04,2549.66 1210.83,2565.16 \n",
       "  1211.62,2539.84 1212.42,2540.01 1213.21,2524.32 1214,2571.38 1214.79,2573.76 1215.58,2555 1216.37,2616.29 1217.16,2374.14 1217.96,2667.13 1218.75,2512.38 \n",
       "  1219.54,2595.97 1220.33,2528.32 1221.12,2463.87 1221.91,2400.97 1222.71,2342.48 1223.5,2375.6 1224.29,2686.92 1225.08,2438.19 1225.87,2483.98 1226.66,2449.22 \n",
       "  1227.45,2506.81 1228.25,2585.87 1229.04,2572.26 1229.83,2513.12 1230.62,2575.37 1231.41,2456.79 1232.2,2542.34 1233,2497.43 1233.79,2611.33 1234.58,2639.72 \n",
       "  1235.37,2349.5 1236.16,2610.91 1236.95,2462.94 1237.74,2422.81 1238.54,2616.07 1239.33,2629.28 1240.12,2501.76 1240.91,2498.11 1241.7,2503.58 1242.49,2656.1 \n",
       "  1243.28,2484.51 1244.08,2545.14 1244.87,2582.11 1245.66,2560.6 1246.45,2467.44 1247.24,2450.96 1248.03,2683.51 1248.83,2415.19 1249.62,2443.05 1250.41,2465.63 \n",
       "  1251.2,2496.83 1251.99,2451.18 1252.78,2454.11 1253.57,2464.37 1254.37,2468.21 1255.16,2466.41 1255.95,2504.98 1256.74,2512.35 1257.53,2582.6 1258.32,2417.69 \n",
       "  1259.12,2583.91 1259.91,2531.13 1260.7,2592.75 1261.49,2446.09 1262.28,2607.21 1263.07,2665.86 1263.86,2697.48 1264.66,2352.33 1265.45,2602.03 1266.24,2515.61 \n",
       "  1267.03,2542.62 1267.82,2635.09 1268.61,2510.19 1269.41,2505.81 1270.2,2500.25 1270.99,2651.46 1271.78,2575.73 1272.57,2613.27 1273.36,2587.24 1274.15,2593.98 \n",
       "  1274.95,2348.46 1275.74,2385.35 1276.53,2391.01 1277.32,2534.6 1278.11,2582 1278.9,2612.44 1279.7,2589.98 1280.49,2542.24 1281.28,2560.57 1282.07,2585.35 \n",
       "  1282.86,2560.54 1283.65,2561 1284.44,2609.59 1285.24,2518.81 1286.03,2501.65 1286.82,2551.8 1287.61,2491.72 1288.4,2537.06 1289.19,2524.8 1289.99,2579.94 \n",
       "  1290.78,2664.6 1291.57,2451.19 1292.36,2616.07 1293.15,2608.09 1293.94,2659.04 1294.73,2545.13 1295.53,2500.89 1296.32,2523.16 1297.11,2627.13 1297.9,2464.04 \n",
       "  1298.69,2406.44 1299.48,2629.57 1300.27,2592.43 1301.07,2636.78 1301.86,2620.73 1302.65,2541.02 1303.44,2588.65 1304.23,2615.33 1305.02,2609.52 1305.82,2632.43 \n",
       "  1306.61,2626.13 1307.4,2596.36 1308.19,2540.89 1308.98,2487.03 1309.77,2523.67 1310.56,2581.54 1311.36,2557.25 1312.15,2665.62 1312.94,2635.19 1313.73,2579.77 \n",
       "  1314.52,2509.35 1315.31,2642.3 1316.11,2606.9 1316.9,2603.04 1317.69,2442.02 1318.48,2451.49 1319.27,2541.37 1320.06,2578.19 1320.85,2598.34 1321.65,2528.87 \n",
       "  1322.44,2534.86 1323.23,2639.2 1324.02,2512.37 1324.81,2572.78 1325.6,2601.98 1326.4,2569.86 1327.19,2650.66 1327.98,2614.47 1328.77,2626.98 1329.56,2454.19 \n",
       "  1330.35,2509.07 1331.14,2454.32 1331.94,2480.9 1332.73,2622.43 1333.52,2625.39 1334.31,2480.28 1335.1,2499.38 1335.89,2381.73 1336.69,2454.81 1337.48,2533.19 \n",
       "  1338.27,2571.28 1339.06,2596.15 1339.85,2532.1 1340.64,2530.53 1341.43,2666.79 1342.23,2674.33 1343.02,2623.33 1343.81,2604.36 1344.6,2621.06 1345.39,2594.34 \n",
       "  1346.18,2594.34 1346.98,2547.3 1347.77,2552.85 1348.56,2565.44 1349.35,2566.1 1350.14,2494.46 1350.93,2446.18 1351.72,2383.91 1352.52,2381 1353.31,2397.1 \n",
       "  1354.1,2393.93 1354.89,2484.95 1355.68,2497.69 1356.47,2655.28 1357.26,2655.04 1358.06,2422.37 1358.85,2623.63 1359.64,2657.45 1360.43,2630.92 1361.22,2482.52 \n",
       "  1362.01,2495.09 1362.81,2627.14 1363.6,2642.38 1364.39,2656.48 1365.18,2542.48 1365.97,2570.9 1366.76,2574.11 1367.55,2439.73 1368.35,2679.36 1369.14,2567.8 \n",
       "  1369.93,2571.68 1370.72,2668.29 1371.51,2455.76 1372.3,2511.02 1373.1,2551.31 1373.89,2535.43 1374.68,2533.26 1375.47,2506.7 1376.26,2546.88 1377.05,2583.78 \n",
       "  1377.84,2637.52 1378.64,2578.13 1379.43,2650.49 1380.22,2643.82 1381.01,2617.39 1381.8,2552.33 1382.59,2653.71 1383.39,2716.72 1384.18,2661.84 1384.97,2640.55 \n",
       "  1385.76,2636.25 1386.55,2582.17 1387.34,2582.63 1388.13,2582.63 1388.93,2524.87 1389.72,2605.49 1390.51,2554.54 1391.3,2452.56 1392.09,2603.3 1392.88,2517.02 \n",
       "  1393.68,2649.99 1394.47,2436.36 1395.26,2613.92 1396.05,2632.28 1396.84,2501.05 1397.63,2514.06 1398.42,2538.69 1399.22,2525.59 1400.01,2622.48 1400.8,2617.24 \n",
       "  1401.59,2441.77 1402.38,2658.88 1403.17,2660.55 1403.97,2654.52 1404.76,2588.46 1405.55,2551.13 1406.34,2549.79 1407.13,2632.47 1407.92,2467.7 1408.71,2518.47 \n",
       "  1409.51,2549.69 1410.3,2443.49 1411.09,2636.72 1411.88,2641.62 1412.67,2551.98 1413.46,2688.17 1414.25,2493.51 1415.05,2563.62 1415.84,2687.79 1416.63,2270.71 \n",
       "  1417.42,2215.06 1418.21,2511.26 1419,2546.65 1419.8,2582.2 1420.59,2600.39 1421.38,2540.9 1422.17,2552.86 1422.96,2588.76 1423.75,2580.15 1424.54,2595.86 \n",
       "  1425.34,2416.89 1426.13,2608.59 1426.92,2591.08 1427.71,2579.9 1428.5,2536.41 1429.29,2476.53 1430.09,2560.44 1430.88,2425.78 1431.67,2409.96 1432.46,2574.91 \n",
       "  1433.25,2607.19 1434.04,2555.48 1434.83,2496.71 1435.63,2424.77 1436.42,2448.83 1437.21,2657.17 1438,2596.46 1438.79,2440.14 1439.58,2651.8 1440.38,2463.27 \n",
       "  1441.17,2457.18 1441.96,2460.89 1442.75,2460.84 1443.54,2487.84 1444.33,2484.41 1445.12,2621.11 1445.92,2663.09 1446.71,2625.24 1447.5,2665.88 1448.29,2511.64 \n",
       "  1449.08,2547.5 1449.87,2455.67 1450.67,2499.41 1451.46,2628.75 1452.25,2627.57 1453.04,2650.75 1453.83,2612.66 1454.62,2505.17 1455.41,2561.91 1456.21,2542.92 \n",
       "  1457,2595.06 1457.79,2589.83 1458.58,2625.48 1459.37,2599.16 1460.16,2568.7 1460.96,2496.12 1461.75,2550.78 1462.54,2550.37 1463.33,2507.78 1464.12,2447.53 \n",
       "  1464.91,2529.63 1465.7,2531.49 1466.5,2375.81 1467.29,2378.55 1468.08,2772.74 1468.87,2780.02 1469.66,2713.66 1470.45,2696.05 1471.24,2380.72 1472.04,2685.93 \n",
       "  1472.83,2382.04 1473.62,2667.93 1474.41,2695.01 1475.2,2678.53 1475.99,2646.05 1476.79,2594.84 1477.58,2560.42 1478.37,2560.42 1479.16,2586.79 1479.95,2560.88 \n",
       "  1480.74,2610.79 1481.53,2487.44 1482.33,2508.56 1483.12,2624.35 1483.91,2657.93 1484.7,2631.42 1485.49,2632.11 1486.28,2591 1487.08,2497.62 1487.87,2524.58 \n",
       "  1488.66,2534.2 1489.45,2466.4 1490.24,2569.71 1491.03,2605.33 1491.82,2601.73 1492.62,2564.28 1493.41,2565.78 1494.2,2563 1494.99,2638.34 1495.78,2455.96 \n",
       "  1496.57,2549.76 1497.37,2541.65 1498.16,2602.69 1498.95,2475.72 1499.74,2588.5 1500.53,2589.2 1501.32,2622.82 1502.11,2555.53 1502.91,2527.04 1503.7,2527.04 \n",
       "  1504.49,2510.92 1505.28,2517.78 1506.07,2453.86 1506.86,2514.3 1507.66,2611.56 1508.45,2561.52 1509.24,2417.88 1510.03,2499.6 1510.82,2567.04 1511.61,2535.36 \n",
       "  1512.4,2619.44 1513.2,2575.53 1513.99,2582.42 1514.78,2628.97 1515.57,2588.2 1516.36,2553.45 1517.15,2558.83 1517.95,2519.3 1518.74,2478.66 1519.53,2510.64 \n",
       "  1520.32,2543.05 1521.11,2573.66 1521.9,2538.37 1522.69,2404.76 1523.49,2268.44 1524.28,2349.88 1525.07,2457.88 1525.86,2658.14 1526.65,2627.85 1527.44,2620.18 \n",
       "  1528.23,2633.29 1529.03,2596.27 1529.82,2636.77 1530.61,2523.5 1531.4,2482.46 1532.19,2614.62 1532.98,2559.25 1533.78,2489.98 1534.57,2555.81 1535.36,2569.31 \n",
       "  1536.15,2383.67 1536.94,2633.67 1537.73,2425.14 1538.52,2450.01 1539.32,2495.41 1540.11,2538.91 1540.9,2562.28 1541.69,2626.81 1542.48,2550.9 1543.27,2533.46 \n",
       "  1544.07,2537.04 1544.86,2597.35 1545.65,2580.71 1546.44,2583.17 1547.23,2626.15 1548.02,2626.15 1548.81,2544.26 1549.61,2545.08 1550.4,2535.08 1551.19,2572.29 \n",
       "  1551.98,2465.6 1552.77,2580.11 1553.56,2503.29 1554.36,2579.43 1555.15,2564.9 1555.94,2547.38 1556.73,2599.12 1557.52,2469.13 1558.31,2464.88 1559.1,2478.64 \n",
       "  1559.9,2648.57 1560.69,2615.37 1561.48,2651.01 1562.27,2407.57 1563.06,2624.38 1563.85,2610.55 1564.65,2611.37 1565.44,2650.19 1566.23,2652.35 1567.02,2693.2 \n",
       "  1567.81,2608.56 1568.6,2610.5 1569.39,2612.66 1570.19,2508.61 1570.98,2430.81 1571.77,2424.8 1572.56,2424.8 1573.35,2479.21 1574.14,2596.93 1574.94,2618.11 \n",
       "  1575.73,2285.17 1576.52,2199.71 1577.31,2233.48 1578.1,2754.82 1578.89,2750.38 1579.68,2591.75 1580.48,2466.87 1581.27,2462.07 1582.06,2435.89 1582.85,2705.26 \n",
       "  1583.64,2387.83 1584.43,2609.27 1585.22,2502.22 1586.02,2503.02 1586.81,2516.61 1587.6,2516.17 1588.39,2608.07 1589.18,2507.26 1589.97,2654.19 1590.77,2599.32 \n",
       "  1591.56,2594.39 1592.35,2501.15 1593.14,2614.17 1593.93,2484.82 1594.72,2602.75 1595.51,2501.59 1596.31,2580.26 1597.1,2509.93 1597.89,2625.87 1598.68,2436.06 \n",
       "  1599.47,2404.6 1600.26,2455.87 1601.06,2597.01 1601.85,2599.77 1602.64,2528.01 1603.43,2468.4 1604.22,2403.28 1605.01,2529.54 1605.8,2596.72 1606.6,2596.72 \n",
       "  1607.39,2523.72 1608.18,2598.07 1608.97,2471.36 1609.76,2467.71 1610.55,2543.11 1611.35,2598.68 1612.14,2533.9 1612.93,2534.3 1613.72,2465.35 1614.51,2573.09 \n",
       "  1615.3,2568.41 1616.09,2527.3 1616.89,2501.47 1617.68,2491.06 1618.47,2535.52 1619.26,2516.1 1620.05,2759.23 1620.84,2612.05 1621.64,2584.44 1622.43,2455.61 \n",
       "  1623.22,2475.43 1624.01,2484.58 1624.8,2378.23 1625.59,2426.57 1626.38,2645.88 1627.18,2635.26 1627.97,2662.04 1628.76,2373.96 1629.55,2553.52 1630.34,2391.82 \n",
       "  1631.13,2633.33 1631.93,2573.44 1632.72,2553.13 1633.51,2551.87 1634.3,2633.54 1635.09,2635.19 1635.88,2591.59 1636.67,2657.34 1637.47,2674.25 1638.26,2693.33 \n",
       "  1639.05,2692.94 1639.84,2711.4 1640.63,2761.28 1641.42,2766.5 1642.21,2754.65 1643.01,2659.61 1643.8,2511.51 1644.59,2498.28 1645.38,2546.23 1646.17,2574.28 \n",
       "  1646.96,2380.35 1647.76,2306.94 1648.55,2259.19 1649.34,2300.64 1650.13,2523.97 1650.92,2557.05 1651.71,2601.35 1652.5,2620.11 1653.3,2534.22 1654.09,2523.97 \n",
       "  1654.88,2523.97 1655.67,2500.7 1656.46,2618.64 1657.25,2516.97 1658.05,2577.79 1658.84,2456.03 1659.63,2613.68 1660.42,2550.43 1661.21,2571.27 1662,2467.87 \n",
       "  1662.79,2463.57 1663.59,2482.88 1664.38,2513.31 1665.17,2552 1665.96,2598.25 1666.75,2595.31 1667.54,2648.12 1668.34,2572.88 1669.13,2524.03 1669.92,2646.54 \n",
       "  1670.71,2558.47 1671.5,2590.68 1672.29,2628.93 1673.08,2633.14 1673.88,2497.35 1674.67,2437.66 1675.46,2465.04 1676.25,2620.81 1677.04,2611.24 1677.83,2492.71 \n",
       "  1678.63,2518.53 1679.42,2412.56 1680.21,2619.36 1681,2527.3 1681.79,2511.99 1682.58,2501.61 1683.37,2599.85 1684.17,2508.6 1684.96,2533.43 1685.75,2486.21 \n",
       "  1686.54,2605.25 1687.33,2559.13 1688.12,2510.22 1688.92,2544.93 1689.71,2538.17 1690.5,2556.34 1691.29,2599.01 1692.08,2634.36 1692.87,2699.74 1693.66,2454.43 \n",
       "  1694.46,2407.76 1695.25,2679.28 1696.04,2629.72 1696.83,2624.55 1697.62,2578.14 1698.41,2358.8 1699.2,2684.86 1700,2573.6 1700.79,2572.98 1701.58,2535.86 \n",
       "  1702.37,2536.57 1703.16,2545.2 1703.95,2531.95 1704.75,2534.96 1705.54,2478.21 1706.33,2473.01 1707.12,2465.95 1707.91,2546.53 1708.7,2585.12 1709.49,2575.84 \n",
       "  1710.29,2526.66 1711.08,2537.02 1711.87,2505.48 1712.66,2518.14 1713.45,2501.13 1714.24,2511.19 1715.04,2469.35 1715.83,2543.07 1716.62,2538.1 1717.41,2451.84 \n",
       "  1718.2,2421.73 1718.99,2628.62 1719.78,2573.78 1720.58,2518.92 1721.37,2556.1 1722.16,2571.56 1722.95,2458.17 1723.74,2563.06 1724.53,2473.04 1725.33,2470.16 \n",
       "  1726.12,2515.9 1726.91,2521.82 1727.7,2592.35 1728.49,2558.71 1729.28,2653.66 1730.07,2621.32 1730.87,2418.84 1731.66,2670.49 1732.45,2675.29 1733.24,2676.28 \n",
       "  1734.03,2646.64 1734.82,2636.41 1735.62,2445.13 1736.41,2501.93 1737.2,2500.81 1737.99,2495.59 1738.78,2436.47 1739.57,2530.95 1740.36,2645.17 1741.16,2651.81 \n",
       "  1741.95,2602.4 1742.74,2536.99 1743.53,2499.5 1744.32,2555.76 1745.11,2541.19 1745.91,2486.78 1746.7,2622.43 1747.49,2523.08 1748.28,2645.47 1749.07,2476.09 \n",
       "  1749.86,2540.44 1750.65,2529.51 1751.45,2598.79 1752.24,2586.02 1753.03,2589.58 1753.82,2694.68 1754.61,2597.4 1755.4,2501.81 1756.19,2352.42 1756.99,2612.48 \n",
       "  1757.78,2479.98 1758.57,2549.74 1759.36,2544.05 1760.15,2519.05 1760.94,2471.94 1761.74,2409.28 1762.53,2399.73 1763.32,2356.68 1764.11,2430.51 1764.9,2435.29 \n",
       "  1765.69,2642.63 1766.48,2645.02 1767.28,2570.16 1768.07,2621.78 1768.86,2554.6 1769.65,2397.4 1770.44,2591.28 1771.23,2595.46 1772.03,2495.45 1772.82,2451.8 \n",
       "  1773.61,2592.64 1774.4,2501.05 1775.19,2652.76 1775.98,2663.03 1776.77,2452.23 1777.57,2658.15 1778.36,2658.36 1779.15,2665.64 1779.94,2642.59 1780.73,2653.45 \n",
       "  1781.52,2633.11 1782.32,2630.85 1783.11,2383.15 1783.9,2415.11 1784.69,2431.13 1785.48,2675.6 1786.27,2602.78 1787.06,2578.25 1787.86,2634.95 1788.65,2693.6 \n",
       "  1789.44,2648.93 1790.23,2525.47 1791.02,2675.88 1791.81,2402.4 1792.61,2464.95 1793.4,2633.26 1794.19,2481.28 1794.98,2492.89 1795.77,2488.59 1796.56,2490.35 \n",
       "  1797.35,2688.93 1798.15,2690.27 1798.94,2527.03 1799.73,2465.39 1800.52,2464.91 1801.31,2537.43 1802.1,2480.69 1802.9,2427.93 1803.69,2492.96 1804.48,2368.43 \n",
       "  1805.27,2472.38 1806.06,2432.51 1806.85,2331.79 1807.64,2528.76 1808.44,2513.85 1809.23,2554.69 1810.02,2520.72 1810.81,2465.56 1811.6,2435.37 1812.39,2481.59 \n",
       "  1813.18,2489.59 1813.98,2620.34 1814.77,2632.33 1815.56,2558.43 1816.35,2578.89 1817.14,2599.59 1817.93,2411.91 1818.73,2488.64 1819.52,2608.83 1820.31,2558.56 \n",
       "  1821.1,2520.32 1821.89,2489.92 1822.68,2518.12 1823.47,2568.71 1824.27,2599.28 1825.06,2483.41 1825.85,2594.62 1826.64,2443.58 1827.43,2634.71 1828.22,2636.96 \n",
       "  1829.02,2552.61 1829.81,2600.66 1830.6,2615 1831.39,2617.35 1832.18,2480.42 1832.97,2484.43 1833.76,2485.84 1834.56,2410.4 1835.35,2430.21 1836.14,2601.05 \n",
       "  1836.93,2603.88 1837.72,2433.39 1838.51,2497.84 1839.31,2487.35 1840.1,2550.91 1840.89,2453.81 1841.68,2600.42 1842.47,2590.26 1843.26,2564.71 1844.05,2498.87 \n",
       "  1844.85,2543.94 1845.64,2552.62 1846.43,2485.75 1847.22,2625.97 1848.01,2587.13 1848.8,2542.33 1849.6,2531.76 1850.39,2592.15 1851.18,2658.45 1851.97,2651.18 \n",
       "  1852.76,2665.51 1853.55,2658.3 1854.34,2618.77 1855.14,2596.57 1855.93,2503.23 1856.72,2539.18 1857.51,2570.51 1858.3,2487.1 1859.09,2467.92 1859.89,2600.16 \n",
       "  1860.68,2549.02 1861.47,2540.88 1862.26,2563.88 1863.05,2499.15 1863.84,2524.23 1864.63,2535.36 1865.43,2524.18 1866.22,2610.14 1867.01,2411.42 1867.8,2546.51 \n",
       "  1868.59,2535.47 1869.38,2528.95 1870.17,2499.93 1870.97,2624 1871.76,2428.21 1872.55,2488.03 1873.34,2654.19 1874.13,2571.38 1874.92,2467.94 1875.72,2523.79 \n",
       "  1876.51,2554.51 1877.3,2554.51 1878.09,2556.68 1878.88,2504.84 1879.67,2523.28 1880.46,2451.56 1881.26,2521.13 1882.05,2628.32 1882.84,2589.13 1883.63,2600.51 \n",
       "  1884.42,2549.81 1885.21,2563.25 1886.01,2601.91 1886.8,2608.75 1887.59,2636.24 1888.38,2468.69 1889.17,2460.05 1889.96,2459.92 1890.75,2575.63 1891.55,2536.75 \n",
       "  1892.34,2554.29 1893.13,2579.88 1893.92,2582.86 1894.71,2404.57 1895.5,2481.01 1896.3,2438.54 1897.09,2402.02 1897.88,2550.6 1898.67,2546.94 1899.46,2610.78 \n",
       "  1900.25,2546.8 1901.04,2570.79 1901.84,2648.28 1902.63,2666.26 1903.42,2421.74 1904.21,2424.48 1905,2605.44 1905.79,2470.83 1906.59,2487.98 1907.38,2568.49 \n",
       "  1908.17,2568.01 1908.96,2382.57 1909.75,2468.24 1910.54,2468.24 1911.33,2419.55 1912.13,2558.26 1912.92,2518.62 1913.71,2599.4 1914.5,2503.87 1915.29,2506.33 \n",
       "  1916.08,2565.54 1916.88,2633.23 1917.67,2631.72 1918.46,2590.02 1919.25,2570.44 1920.04,2549.04 1920.83,2585.85 1921.62,2506.86 1922.42,2586.57 1923.21,2669.18 \n",
       "  1924,2550.87 1924.79,2498.1 1925.58,2558.81 1926.37,2553.26 1927.16,2621.19 1927.96,2539.94 1928.75,2589.38 1929.54,2592.24 1930.33,2673.12 1931.12,2662.52 \n",
       "  1931.91,2545.64 1932.71,2560.19 1933.5,2501.91 1934.29,2502.59 1935.08,2502.97 1935.87,2512.2 1936.66,2491.48 1937.45,2405.75 1938.25,2439.04 1939.04,2507 \n",
       "  \n",
       "  \"/>\n",
       "<polyline clip-path=\"url(#clip046)\" style=\"stroke:#c271d2; stroke-linecap:butt; stroke-linejoin:round; stroke-width:4; stroke-opacity:1; fill:none\" points=\"\n",
       "  356.774,2398.76 357.565,2398.76 358.357,2441.41 359.148,2372.41 359.94,2613.09 360.731,2390.73 361.523,2480.64 362.315,2523.17 363.106,2602.04 363.898,2611.32 \n",
       "  364.689,2618.28 365.481,2581.74 366.272,2464.31 367.064,2418.61 367.855,2393.85 368.647,2396.15 369.438,2590.09 370.23,2510.66 371.021,2548.89 371.813,2471.7 \n",
       "  372.604,2582.08 373.396,2424.13 374.187,2560.44 374.979,2570.96 375.77,2563.22 376.562,2562.31 377.354,2613.1 378.145,2458.13 378.937,2537.08 379.728,2597.22 \n",
       "  380.52,2581.61 381.311,2626.52 382.103,2437.28 382.894,2725.41 383.686,2603.57 384.477,2411.55 385.269,2401.21 386.06,2447.05 386.852,2435.65 387.643,2401.32 \n",
       "  388.435,2618.02 389.226,2574.95 390.018,2603.27 390.81,2579.61 391.601,2592.48 392.393,2581.6 393.184,2352.29 393.976,2472.56 394.767,2581.87 395.559,2633.04 \n",
       "  396.35,2633.04 397.142,2479.47 397.933,2476.09 398.725,2621.37 399.516,2689.6 400.308,2405 401.099,2657.3 401.891,2459.61 402.682,2566.29 403.474,2655.24 \n",
       "  404.265,2669.24 405.057,2704.11 405.849,2667.79 406.64,2645.92 407.432,2666.53 408.223,2630.57 409.015,2512.66 409.806,2439.64 410.598,2425.49 411.389,2503.52 \n",
       "  412.181,2595.39 412.972,2633.27 413.764,2408.37 414.555,2509.79 415.347,2529.1 416.138,2529.46 416.93,2664.74 417.721,2686.08 418.513,2540.2 419.305,2574.7 \n",
       "  420.096,2630.4 420.888,2478.07 421.679,2479.11 422.471,2511.63 423.262,2516.56 424.054,2560.37 424.845,2576.13 425.637,2557.9 426.428,2407.19 427.22,2657.5 \n",
       "  428.011,2655.16 428.803,2668.19 429.594,2608.62 430.386,2536.46 431.177,2495.47 431.969,2560.59 432.76,2397.17 433.552,2489.73 434.344,2522.65 435.135,2429.44 \n",
       "  435.927,2648.55 436.718,2678.01 437.51,2669.2 438.301,2438.07 439.093,2365.36 439.884,2703.14 440.676,2703.14 441.467,2418.31 442.259,2682.24 443.05,2661.68 \n",
       "  443.842,2546.5 444.633,2492.04 445.425,2586.03 446.216,2516.87 447.008,2688.22 447.8,2662.29 448.591,2334.47 449.383,2332.87 450.174,2379.17 450.966,2483.53 \n",
       "  451.757,2435.15 452.549,2434.51 453.34,2511.51 454.132,2477.6 454.923,2594.88 455.715,2592.05 456.506,2588.36 457.298,2513.5 458.089,2530.25 458.881,2549.33 \n",
       "  459.672,2600.21 460.464,2524.67 461.255,2524.88 462.047,2538.95 462.839,2582.31 463.63,2500.15 464.422,2408.23 465.213,2509.47 466.005,2515.94 466.796,2473.49 \n",
       "  467.588,2439.75 468.379,2516.79 469.171,2607.83 469.962,2593.11 470.754,2537.22 471.545,2609.89 472.337,2664.4 473.128,2629.86 473.92,2547.4 474.711,2542.96 \n",
       "  475.503,2605.47 476.295,2533.09 477.086,2602.82 477.878,2601.02 478.669,2416.38 479.461,2485.21 480.252,2556.16 481.044,2572.25 481.835,2563.93 482.627,2573.31 \n",
       "  483.418,2599.85 484.21,2487.28 485.001,2519.52 485.793,2550.84 486.584,2528.1 487.376,2528.1 488.167,2686.76 488.959,2526.74 489.75,2567.51 490.542,2516.21 \n",
       "  491.334,2548.13 492.125,2586.07 492.917,2514.89 493.708,2494.81 494.5,2549.03 495.291,2507.53 496.083,2501.35 496.874,2528.21 497.666,2427.25 498.457,2445.28 \n",
       "  499.249,2419.05 500.04,2395.69 500.832,2340.96 501.623,2316.66 502.415,2401.31 503.206,2405.33 503.998,2758.58 504.79,2640.09 505.581,2672.57 506.373,2400.74 \n",
       "  507.164,2400.74 507.956,2470.9 508.747,2566.99 509.539,2498.38 510.33,2431.53 511.122,2421.24 511.913,2710.04 512.705,2649.82 513.496,2420.96 514.288,2429.57 \n",
       "  515.079,2680.84 515.871,2332.91 516.662,2258.75 517.454,2642.87 518.245,2604.39 519.037,2602.52 519.829,2360.76 520.62,2481.14 521.412,2524.37 522.203,2556.88 \n",
       "  522.995,2648.82 523.786,2633.76 524.578,2524.32 525.369,2503.72 526.161,2631.15 526.952,2614.41 527.744,2557.71 528.535,2447.06 529.327,2409.87 530.118,2641.28 \n",
       "  530.91,2564.51 531.701,2567.24 532.493,2526.59 533.285,2613.34 534.076,2460.56 534.868,2639.82 535.659,2646.14 536.451,2651.05 537.242,2693.13 538.034,2500.42 \n",
       "  538.825,2612.42 539.617,2569.75 540.408,2709.46 541.2,2404.09 541.991,2622.71 542.783,2614.82 543.574,2446.85 544.366,2615.16 545.157,2602.96 545.949,2618.03 \n",
       "  546.74,2501.52 547.532,2494.58 548.324,2403.4 549.115,2495.62 549.907,2622.46 550.698,2655.67 551.49,2566.67 552.281,2558.91 553.073,2547.46 553.864,2545.46 \n",
       "  554.656,2504.85 555.447,2645.85 556.239,2483.39 557.03,2490.78 557.822,2630.84 558.613,2609.8 559.405,2584.46 560.196,2580.37 560.988,2419.77 561.78,2483.92 \n",
       "  562.571,2468.7 563.363,2625.11 564.154,2620.08 564.946,2533.07 565.737,2554.92 566.529,2556.16 567.32,2638.86 568.112,2638.86 568.903,2647.96 569.695,2535.99 \n",
       "  570.486,2555.53 571.278,2517.81 572.069,2562.51 572.861,2430.01 573.652,2450.48 574.444,2648.13 575.235,2615.1 576.027,2678.22 576.819,2629.09 577.61,2619.26 \n",
       "  578.402,2649.18 579.193,2455.73 579.985,2481.06 580.776,2483.28 581.568,2571.75 582.359,2481.18 583.151,2530.53 583.942,2529.94 584.734,2535.78 585.525,2462.32 \n",
       "  586.317,2546.52 587.108,2515.93 587.9,2604.02 588.691,2596.9 589.483,2497.77 590.275,2495.36 591.066,2565.05 591.858,2456.36 592.649,2594.48 593.441,2584.02 \n",
       "  594.232,2686.38 595.024,2627.59 595.815,2654.7 596.607,2617.37 597.398,2684.49 598.19,2627.24 598.981,2580 599.773,2474.35 600.564,2598.24 601.356,2582.32 \n",
       "  602.147,2588.76 602.939,2581.58 603.73,2483.02 604.522,2390.29 605.314,2417.82 606.105,2523.45 606.897,2562.03 607.688,2521.16 608.48,2468.59 609.271,2434.29 \n",
       "  610.063,2570.39 610.854,2582.58 611.646,2439.78 612.437,2434.44 613.229,2674.35 614.02,2338.21 614.812,2412.76 615.603,2503.3 616.395,2595.95 617.186,2618.28 \n",
       "  617.978,2510.84 618.77,2598.32 619.561,2594.93 620.353,2515.23 621.144,2631.79 621.936,2575.69 622.727,2588.42 623.519,2586.96 624.31,2666.08 625.102,2676.95 \n",
       "  625.893,2591.74 626.685,2676.58 627.476,2626.34 628.268,2560.85 629.059,2523.58 629.851,2523.58 630.642,2523.58 631.434,2396.13 632.225,2387.95 633.017,2504.89 \n",
       "  633.809,2568.14 634.6,2546.23 635.392,2517.35 636.183,2600.68 636.975,2601.88 637.766,2541.06 638.558,2527.79 639.349,2646.35 640.141,2627.6 640.932,2539.19 \n",
       "  641.724,2521.71 642.515,2520.98 643.307,2529.12 644.098,2604.97 644.89,2653.42 645.681,2635.02 646.473,2645.3 647.265,2402.86 648.056,2613.03 648.848,2561.77 \n",
       "  649.639,2604.36 650.431,2468.73 651.222,2479.2 652.014,2462.78 652.805,2521.49 653.597,2536.34 654.388,2633.52 655.18,2534.66 655.971,2590.13 656.763,2615.04 \n",
       "  657.554,2620.19 658.346,2563.84 659.137,2553.95 659.929,2559.91 660.72,2622.09 661.512,2686.77 662.304,2681.21 663.095,2697.96 663.887,2542.38 664.678,2503.64 \n",
       "  665.47,2522.17 666.261,2606.91 667.053,2466.81 667.844,2583.53 668.636,2520.89 669.427,2503.86 670.219,2665.85 671.01,2654.52 671.802,2628.84 672.593,2548.36 \n",
       "  673.385,2608.24 674.176,2518.76 674.968,2624.51 675.76,2553.71 676.551,2538.38 677.343,2503.17 678.134,2489.02 678.926,2566.63 679.717,2441.64 680.509,2295 \n",
       "  681.3,2731.53 682.092,2678.78 682.883,2531.04 683.675,2599.33 684.466,2621.69 685.258,2618.67 686.049,2604.14 686.841,2432.56 687.632,2494.34 688.424,2515.58 \n",
       "  689.215,2672.07 690.007,2660.98 690.799,2713.58 691.59,2720.52 692.382,2662.05 693.173,2564.5 693.965,2512.61 694.756,2601.13 695.548,2563.94 696.339,2601.14 \n",
       "  697.131,2490.23 697.922,2416.17 698.714,2571.91 699.505,2570.06 700.297,2608.13 701.088,2547.65 701.88,2584.43 702.671,2640.46 703.463,2506.41 704.255,2526.49 \n",
       "  705.046,2281.17 705.838,2288.67 706.629,2390.52 707.421,2639.54 708.212,2588.25 709.004,2636.63 709.795,2630.44 710.587,2576.9 711.378,2605.13 712.17,2572.24 \n",
       "  712.961,2644.68 713.753,2621.51 714.544,2652.35 715.336,2558.62 716.127,2630.56 716.919,2631.59 717.71,2634.57 718.502,2580.9 719.294,2686.28 720.085,2448.64 \n",
       "  720.877,2453.22 721.668,2552.28 722.46,2525.58 723.251,2491.86 724.043,2508.1 724.834,2723.11 725.626,2713.1 726.417,2617.8 727.209,2649.62 728,2512.37 \n",
       "  728.792,2648.65 729.583,2572.99 730.375,2586.92 731.166,2485.89 731.958,2493.59 732.75,2628.3 733.541,2678.49 734.333,2425.16 735.124,2422.01 735.916,2622.33 \n",
       "  736.707,2607.19 737.499,2548.69 738.29,2443.93 739.082,2481.07 739.873,2611.33 740.665,2482.73 741.456,2612.72 742.248,2490.2 743.039,2495.29 743.831,2494.64 \n",
       "  744.622,2537.19 745.414,2501.67 746.205,2495.71 746.997,2598.16 747.789,2601.3 748.58,2600.98 749.372,2635.14 750.163,2481.64 750.955,2441.35 751.746,2400.19 \n",
       "  752.538,2520.2 753.329,2629.8 754.121,2477.72 754.912,2465.63 755.704,2574.2 756.495,2494.78 757.287,2519.62 758.078,2538.99 758.87,2587.5 759.661,2619.21 \n",
       "  760.453,2531.4 761.245,2588.16 762.036,2598.86 762.828,2609.64 763.619,2566.57 764.411,2690.36 765.202,2614.25 765.994,2641.43 766.785,2513.79 767.577,2538.75 \n",
       "  768.368,2637.67 769.16,2466.92 769.951,2559.75 770.743,2428.37 771.534,2603.36 772.326,2468.21 773.117,2480.51 773.909,2672.22 774.7,2481.39 775.492,2485.79 \n",
       "  776.284,2688.66 777.075,2669.07 777.867,2630.57 778.658,2627.05 779.45,2633.59 780.241,2632.9 781.033,2577.39 781.824,2520.87 782.616,2594.93 783.407,2441.75 \n",
       "  784.199,2467.35 784.99,2493.94 785.782,2450.43 786.573,2572.93 787.365,2610.61 788.156,2477.02 788.948,2478.73 789.74,2486.62 790.531,2423.88 791.323,2543.9 \n",
       "  792.114,2540.65 792.906,2528.5 793.697,2665.63 794.489,2389.98 795.28,2656.38 796.072,2640.75 796.863,2661.92 797.655,2369.94 798.446,2400.74 799.238,2358.56 \n",
       "  800.029,2490.43 800.821,2304.37 801.612,2468.71 802.404,2442.89 803.195,2616.26 803.987,2632.96 804.779,2571.4 805.57,2524.65 806.362,2472.7 807.153,2685.92 \n",
       "  807.945,2669.91 808.736,2457.32 809.528,2490.38 810.319,2564.23 811.111,2544.51 811.902,2636.08 812.694,2538.13 813.485,2639.53 814.277,2546.37 815.068,2509.66 \n",
       "  815.86,2488.68 816.651,2547.57 817.443,2587.19 818.235,2492.61 819.026,2491.23 819.818,2377.67 820.609,2380.53 821.401,2433.07 822.192,2524.07 822.984,2503.11 \n",
       "  823.775,2591.66 824.567,2520.05 825.358,2542.56 826.15,2537.83 826.941,2579.79 827.733,2631.63 828.524,2597.01 829.316,2552.74 830.107,2637.86 830.899,2677.74 \n",
       "  831.69,2615.16 832.482,2513.19 833.274,2602.86 834.065,2521.59 834.857,2442.62 835.648,2613.94 836.44,2648.85 837.231,2646.25 838.023,2612.7 838.814,2488.57 \n",
       "  839.606,2437.38 840.397,2284.83 841.189,2346.86 841.98,2362.68 842.772,2494.58 843.563,2477.04 844.355,2512.52 845.146,2391.56 845.938,2436.15 846.73,2494.03 \n",
       "  847.521,2471.38 848.313,2571.36 849.104,2672.79 849.896,2612.36 850.687,2595.15 851.479,2552.94 852.27,2591.49 853.062,2542.27 853.853,2492.43 854.645,2389.56 \n",
       "  855.436,2421.88 856.228,2641.61 857.019,2566.25 857.811,2589.84 858.602,2473.93 859.394,2616.14 860.185,2601.52 860.977,2640.09 861.769,2402.62 862.56,2516.94 \n",
       "  863.352,2462.71 864.143,2479.23 864.935,2302.37 865.726,2714.58 866.518,2744.57 867.309,2745.7 868.101,2584.04 868.892,2439.08 869.684,2382.17 870.475,2419.4 \n",
       "  871.267,2616.19 872.058,2508.67 872.85,2431.46 873.641,2412.54 874.433,2434.64 875.225,2696.37 876.016,2407.82 876.808,2521.57 877.599,2615.41 878.391,2456.83 \n",
       "  879.182,2462.29 879.974,2569.42 880.765,2652.46 881.557,2706.27 882.348,2323.04 883.14,2521.04 883.931,2585.41 884.723,2561.67 885.514,2535.2 886.306,2563.74 \n",
       "  887.097,2561.41 887.889,2453.24 888.68,2489.71 889.472,2486.4 890.264,2617.97 891.055,2639.05 891.847,2635.18 892.638,2524.84 893.43,2429.22 894.221,2462.09 \n",
       "  895.013,2457.3 895.804,2698.14 896.596,2716.15 897.387,2573.22 898.179,2575.94 898.97,2593.15 899.762,2572.09 900.553,2557.34 901.345,2529.27 902.136,2471.93 \n",
       "  902.928,2501.52 903.72,2560.08 904.511,2461.77 905.303,2512.12 906.094,2502.3 906.886,2502.3 907.677,2620.04 908.469,2606.49 909.26,2521.75 910.052,2531.98 \n",
       "  910.843,2406.47 911.635,2393.75 912.426,2532.6 913.218,2591.37 914.009,2627.14 914.801,2629.04 915.592,2607.12 916.384,2541.45 917.175,2588.57 917.967,2592.41 \n",
       "  918.759,2577.99 919.55,2568.08 920.342,2596.44 921.133,2432.07 921.925,2568.83 922.716,2570.55 923.508,2556.67 924.299,2449.17 925.091,2495.17 925.882,2501.97 \n",
       "  926.674,2512.92 927.465,2514.35 928.257,2514.39 929.048,2560.41 929.84,2477.29 930.631,2472.17 931.423,2567.29 932.215,2576.03 933.006,2539.12 933.798,2569.88 \n",
       "  934.589,2504.18 935.381,2603.25 936.172,2535.76 936.964,2562.6 937.755,2565.34 938.547,2610.76 939.338,2426.15 940.13,2471.1 940.921,2664.72 941.713,2617.81 \n",
       "  942.504,2600.76 943.296,2613.6 944.087,2624.31 944.879,2641.05 945.67,2477.93 946.462,2474.62 947.254,2294.22 948.045,2329.11 948.837,2370.77 949.628,2588.12 \n",
       "  950.42,2488.79 951.211,2463.99 952.003,2435.88 952.794,2444.62 953.586,2483.92 954.377,2581.47 955.169,2330.58 955.96,2361.74 956.752,2457.76 957.543,2553.35 \n",
       "  958.335,2483.96 959.126,2519.97 959.918,2548.04 960.71,2594.37 961.501,2576.28 962.293,2585.21 963.084,2553.9 963.876,2563.51 964.667,2428.17 965.459,2355.23 \n",
       "  966.25,2420.54 967.042,2419.04 967.833,2490.62 968.625,2592.63 969.416,2687.43 970.208,2483.94 970.999,2446.49 971.791,2542.63 972.582,2527.34 973.374,2585.47 \n",
       "  974.165,2578.98 974.957,2591.89 975.749,2572.5 976.54,2633.52 977.332,2537.45 978.123,2316.61 978.915,2532.3 979.706,2526.91 980.498,2566.17 981.289,2435.24 \n",
       "  982.081,2382.34 982.872,2310.13 983.664,2342.71 984.455,2342.72 985.247,2570.94 986.038,2570.94 986.83,2550.69 987.621,2578.58 988.413,2602.64 989.204,2576.1 \n",
       "  989.996,2531.76 990.788,2583.99 991.579,2584.31 992.371,2579.64 993.162,2583.63 993.954,2585.9 994.745,2627.85 995.537,2452.55 996.328,2576.19 997.12,2616.53 \n",
       "  997.911,2594.69 998.703,2522.76 999.494,2527.26 1000.29,2606.69 1001.08,2487.28 1001.87,2568.94 1002.66,2571.56 1003.45,2520.45 1004.24,2473.13 1005.04,2592.03 \n",
       "  1005.83,2427.97 1006.62,2491.78 1007.41,2615.38 1008.2,2655.48 1008.99,2505.72 1009.78,2625.13 1010.58,2639.79 1011.37,2563.03 1012.16,2559.41 1012.95,2598.76 \n",
       "  1013.74,2547.08 1014.53,2413.76 1015.32,2580.65 1016.12,2616.3 1016.91,2540.12 1017.7,2532.16 1018.49,2545.18 1019.28,2659.93 1020.07,2633.35 1020.87,2638.4 \n",
       "  1021.66,2656.24 1022.45,2679.31 1023.24,2396.66 1024.03,2472.92 1024.82,2599.68 1025.61,2449.77 1026.41,2337.57 1027.2,2618.21 1027.99,2505.31 1028.78,2496.89 \n",
       "  1029.57,2514.89 1030.36,2450.56 1031.16,2442.65 1031.95,2552.93 1032.74,2599.74 1033.53,2624.11 1034.32,2640.75 1035.11,2651.91 1035.9,2560.91 1036.7,2552.01 \n",
       "  1037.49,2629.56 1038.28,2628.86 1039.07,2613.35 1039.86,2504.3 1040.65,2575.46 1041.45,2495.14 1042.24,2504.34 1043.03,2559.58 1043.82,2498.84 1044.61,2498.84 \n",
       "  1045.4,2627.23 1046.19,2532.37 1046.99,2599.4 1047.78,2641.74 1048.57,2650.89 1049.36,2655.67 1050.15,2660.41 1050.94,2580.33 1051.74,2711.09 1052.53,2436.47 \n",
       "  1053.32,2401.14 1054.11,2422.81 1054.9,2514.95 1055.69,2519.35 1056.48,2584.36 1057.28,2597.3 1058.07,2508.51 1058.86,2538.85 1059.65,2596.39 1060.44,2657.7 \n",
       "  1061.23,2486.29 1062.03,2490.24 1062.82,2471.77 1063.61,2447.66 1064.4,2519.85 1065.19,2394.94 1065.98,2728.26 1066.77,2612.82 1067.57,2461 1068.36,2446.54 \n",
       "  1069.15,2619.31 1069.94,2575.15 1070.73,2557.77 1071.52,2669.78 1072.31,2669.78 1073.11,2470.63 1073.9,2467.81 1074.69,2536.44 1075.48,2491.96 1076.27,2645.44 \n",
       "  1077.06,2568.41 1077.86,2607.17 1078.65,2564.09 1079.44,2720.61 1080.23,2553.14 1081.02,2455.73 1081.81,2445.09 1082.6,2634.66 1083.4,2351.57 1084.19,2678.55 \n",
       "  1084.98,2587.06 1085.77,2652.57 1086.56,2670.8 1087.35,2702.7 1088.15,2688.44 1088.94,2603.61 1089.73,2409.91 1090.52,2426.05 1091.31,2395.3 1092.1,2363.62 \n",
       "  1092.89,2631.14 1093.69,2654.3 1094.48,2570.03 1095.27,2566.45 1096.06,2661.9 1096.85,2661.9 1097.64,2653.99 1098.44,2704.2 1099.23,2710.61 1100.02,2384 \n",
       "  1100.81,2384.6 1101.6,2384.6 1102.39,2676.48 1103.18,2498.12 1103.98,2366.49 1104.77,2620.87 1105.56,2632.93 1106.35,2631.98 1107.14,2598.09 1107.93,2595.4 \n",
       "  1108.73,2439.83 1109.52,2474.66 1110.31,2560.61 1111.1,2534.03 1111.89,2514.88 1112.68,2455.65 1113.47,2639.3 1114.27,2503.39 1115.06,2549.65 1115.85,2606.93 \n",
       "  1116.64,2569.75 1117.43,2605.92 1118.22,2628.08 1119.02,2714.52 1119.81,2321.29 1120.6,2682.03 1121.39,2644.56 1122.18,2580.7 1122.97,2524.31 1123.76,2471.12 \n",
       "  1124.56,2578.7 1125.35,2554.61 1126.14,2577 1126.93,2581.93 1127.72,2528.46 1128.51,2488.43 1129.3,2441.55 1130.1,2613.08 1130.89,2656.98 1131.68,2669.34 \n",
       "  1132.47,2574.85 1133.26,2687.87 1134.05,2409.67 1134.85,2429.72 1135.64,2508.83 1136.43,2355.01 1137.22,2452.44 1138.01,2462.29 1138.8,2520.51 1139.59,2641.34 \n",
       "  1140.39,2478.98 1141.18,2478.74 1141.97,2662.61 1142.76,2474.88 1143.55,2582.55 1144.34,2497.79 1145.14,2519.51 1145.93,2526.24 1146.72,2637.48 1147.51,2527.51 \n",
       "  1148.3,2537.32 1149.09,2548.52 1149.88,2485.52 1150.68,2442.01 1151.47,2451.16 1152.26,2489.12 1153.05,2584.11 1153.84,2580.06 1154.63,2521.92 1155.43,2585.52 \n",
       "  1156.22,2533.35 1157.01,2407.92 1157.8,2474.52 1158.59,2480.25 1159.38,2632.88 1160.17,2515.47 1160.97,2508.39 1161.76,2504.25 1162.55,2510.78 1163.34,2467.68 \n",
       "  1164.13,2396.98 1164.92,2633.33 1165.72,2648.2 1166.51,2577.61 1167.3,2577.61 1168.09,2534.04 1168.88,2513.72 1169.67,2590.84 1170.46,2542.7 1171.26,2580.32 \n",
       "  1172.05,2533.94 1172.84,2616.44 1173.63,2582.73 1174.42,2616.55 1175.21,2532.51 1176.01,2638.13 1176.8,2497.03 1177.59,2538.67 1178.38,2568.52 1179.17,2619.44 \n",
       "  1179.96,2451.69 1180.75,2452.03 1181.55,2595.83 1182.34,2611.02 1183.13,2480.62 1183.92,2510.76 1184.71,2678.14 1185.5,2539.47 1186.29,2477.06 1187.09,2475.8 \n",
       "  1187.88,2574.33 1188.67,2472.11 1189.46,2645.27 1190.25,2547.56 1191.04,2520.3 1191.84,2615.26 1192.63,2577.1 1193.42,2580.71 1194.21,2572.46 1195,2546.35 \n",
       "  1195.79,2568.25 1196.58,2652.35 1197.38,2601.48 1198.17,2531.01 1198.96,2498.16 1199.75,2617.86 1200.54,2518.47 1201.33,2448.99 1202.13,2562.99 1202.92,2552.15 \n",
       "  1203.71,2499.07 1204.5,2512.58 1205.29,2558.86 1206.08,2505.32 1206.87,2560.37 1207.67,2471.92 1208.46,2547.68 1209.25,2504.13 1210.04,2486.41 1210.83,2564.94 \n",
       "  1211.62,2548.58 1212.42,2358.01 1213.21,2336.64 1214,2673.9 1214.79,2601.3 1215.58,2589.84 1216.37,2576.36 1217.16,2624.14 1217.96,2627.16 1218.75,2630.59 \n",
       "  1219.54,2503.72 1220.33,2457.62 1221.12,2481.65 1221.91,2479.97 1222.71,2502.25 1223.5,2546.9 1224.29,2589.61 1225.08,2513.28 1225.87,2613.83 1226.66,2597.77 \n",
       "  1227.45,2591.25 1228.25,2623.22 1229.04,2579.61 1229.83,2568.9 1230.62,2512.58 1231.41,2372.25 1232.2,2563.54 1233,2580.94 1233.79,2627.57 1234.58,2620.1 \n",
       "  1235.37,2603.67 1236.16,2609.08 1236.95,2600.12 1237.74,2593.77 1238.54,2540.83 1239.33,2465.08 1240.12,2466.41 1240.91,2466.97 1241.7,2552.09 1242.49,2553.13 \n",
       "  1243.28,2570.27 1244.08,2612.8 1244.87,2525.7 1245.66,2526.56 1246.45,2565.99 1247.24,2549.64 1248.03,2469.29 1248.83,2559.42 1249.62,2433.63 1250.41,2434.71 \n",
       "  1251.2,2558.28 1251.99,2577.37 1252.78,2332.35 1253.57,2373.43 1254.37,2417.63 1255.16,2420.35 1255.95,2655.09 1256.74,2680.78 1257.53,2698.49 1258.32,2689.72 \n",
       "  1259.12,2661.89 1259.91,2472.51 1260.7,2487.82 1261.49,2453.53 1262.28,2500.29 1263.07,2571.46 1263.86,2559.32 1264.66,2586.32 1265.45,2474.69 1266.24,2336.52 \n",
       "  1267.03,2335.84 1267.82,2382.99 1268.61,2384.68 1269.41,2571.34 1270.2,2498.82 1270.99,2545.57 1271.78,2542.19 1272.57,2440.92 1273.36,2517.82 1274.15,2520.9 \n",
       "  1274.95,2443.09 1275.74,2422.39 1276.53,2504.77 1277.32,2638.66 1278.11,2380.72 1278.9,2349.05 1279.7,2426.07 1280.49,2477.47 1281.28,2629.15 1282.07,2650.5 \n",
       "  1282.86,2650.5 1283.65,2575.41 1284.44,2551.73 1285.24,2539.17 1286.03,2471.19 1286.82,2519.51 1287.61,2517.18 1288.4,2584.34 1289.19,2589.2 1289.99,2592.35 \n",
       "  1290.78,2552.71 1291.57,2582.64 1292.36,2590.63 1293.15,2381.26 1293.94,2421.26 1294.73,2500.72 1295.53,2600.55 1296.32,2488.64 1297.11,2435.08 1297.9,2533.88 \n",
       "  1298.69,2512.66 1299.48,2506.94 1300.27,2606.91 1301.07,2575.32 1301.86,2628.17 1302.65,2609.26 1303.44,2475.9 1304.23,2503.65 1305.02,2486.58 1305.82,2586.2 \n",
       "  1306.61,2583.35 1307.4,2581.58 1308.19,2585.42 1308.98,2421.72 1309.77,2629.41 1310.56,2642.32 1311.36,2396.12 1312.15,2527.72 1312.94,2545.3 1313.73,2520.16 \n",
       "  1314.52,2656.94 1315.31,2569.12 1316.11,2601.85 1316.9,2571.95 1317.69,2485.23 1318.48,2622.2 1319.27,2657.39 1320.06,2515.93 1320.85,2636.65 1321.65,2614.68 \n",
       "  1322.44,2569.59 1323.23,2582.72 1324.02,2534.81 1324.81,2532.82 1325.6,2524.81 1326.4,2556.82 1327.19,2506.97 1327.98,2537.8 1328.77,2615.68 1329.56,2521.39 \n",
       "  1330.35,2591.58 1331.14,2603.81 1331.94,2480.73 1332.73,2596.37 1333.52,2523.88 1334.31,2525.96 1335.1,2526.67 1335.89,2460.99 1336.69,2521.76 1337.48,2617.76 \n",
       "  1338.27,2586.13 1339.06,2639.74 1339.85,2523.38 1340.64,2569.47 1341.43,2475.92 1342.23,2642.77 1343.02,2562.94 1343.81,2625.33 1344.6,2630.12 1345.39,2639.55 \n",
       "  1346.18,2635.09 1346.98,2581.07 1347.77,2598.84 1348.56,2509.35 1349.35,2376.61 1350.14,2396.15 1350.93,2617.29 1351.72,2567.5 1352.52,2580.31 1353.31,2495.23 \n",
       "  1354.1,2594.94 1354.89,2584.93 1355.68,2564.13 1356.47,2574.08 1357.26,2569.45 1358.06,2545.8 1358.85,2555.7 1359.64,2481.88 1360.43,2501.07 1361.22,2597.41 \n",
       "  1362.01,2584.8 1362.81,2594.19 1363.6,2552.23 1364.39,2552.94 1365.18,2506.28 1365.97,2535.53 1366.76,2591.18 1367.55,2587.64 1368.35,2489.77 1369.14,2674.28 \n",
       "  1369.93,2479.39 1370.72,2544.34 1371.51,2600.61 1372.3,2617.39 1373.1,2488.42 1373.89,2466.88 1374.68,2509.01 1375.47,2563.95 1376.26,2470.3 1377.05,2646.92 \n",
       "  1377.84,2451.7 1378.64,2464.07 1379.43,2492.87 1380.22,2518.96 1381.01,2452.38 1381.8,2460.31 1382.59,2461.31 1383.39,2595.66 1384.18,2468.77 1384.97,2630.69 \n",
       "  1385.76,2496.67 1386.55,2508.89 1387.34,2575.15 1388.13,2498.14 1388.93,2470.65 1389.72,2491.87 1390.51,2476.66 1391.3,2582.89 1392.09,2350.51 1392.88,2258.49 \n",
       "  1393.68,2263.16 1394.47,2338.49 1395.26,2327.55 1396.05,2673.51 1396.84,2606.15 1397.63,2662.35 1398.42,2642.01 1399.22,2632.39 1400.01,2690.05 1400.8,2421.39 \n",
       "  1401.59,2469.85 1402.38,2465.65 1403.17,2393.06 1403.97,2322.15 1404.76,2713.5 1405.55,2508.16 1406.34,2623.01 1407.13,2616.3 1407.92,2416.53 1408.71,2393.16 \n",
       "  1409.51,2624.87 1410.3,2631.94 1411.09,2592.73 1411.88,2474.08 1412.67,2410.08 1413.46,2709.62 1414.25,2713.46 1415.05,2520.16 1415.84,2519.65 1416.63,2530.18 \n",
       "  1417.42,2622.63 1418.21,2415.33 1419,2538.04 1419.8,2658.04 1420.59,2492.24 1421.38,2630.33 1422.17,2613.23 1422.96,2642.85 1423.75,2569.35 1424.54,2434.01 \n",
       "  1425.34,2429 1426.13,2586.33 1426.92,2500.79 1427.71,2418 1428.5,2608.64 1429.29,2524.07 1430.09,2569.48 1430.88,2574.7 1431.67,2537.46 1432.46,2659.89 \n",
       "  1433.25,2673.51 1434.04,2594.94 1434.83,2562.13 1435.63,2514.98 1436.42,2528.14 1437.21,2517.62 1438,2577.86 1438.79,2403.23 1439.58,2458.32 1440.38,2534.97 \n",
       "  1441.17,2531.7 1441.96,2555.53 1442.75,2641.43 1443.54,2584.03 1444.33,2628.4 1445.12,2620.8 1445.92,2523.44 1446.71,2539.55 1447.5,2573.44 1448.29,2568.84 \n",
       "  1449.08,2568.84 1449.87,2485.86 1450.67,2485.64 1451.46,2483.98 1452.25,2425.95 1453.04,2652.01 1453.83,2462.18 1454.62,2509.42 1455.41,2586.68 1456.21,2596.34 \n",
       "  1457,2558.84 1457.79,2586.02 1458.58,2667.08 1459.37,2337.15 1460.16,2549 1460.96,2558.53 1461.75,2511.91 1462.54,2544.18 1463.33,2373.17 1464.12,2394.01 \n",
       "  1464.91,2369.34 1465.7,2555.27 1466.5,2487.1 1467.29,2369.01 1468.08,2337.2 1468.87,2502.23 1469.66,2507.94 1470.45,2530.99 1471.24,2506.14 1472.04,2612.04 \n",
       "  1472.83,2594.88 1473.62,2467.44 1474.41,2546.16 1475.2,2552.54 1475.99,2526.48 1476.79,2529.64 1477.58,2605.68 1478.37,2659.6 1479.16,2650.24 1479.95,2451.4 \n",
       "  1480.74,2451.4 1481.53,2454.21 1482.33,2512.18 1483.12,2679.7 1483.91,2646.74 1484.7,2473.36 1485.49,2556.93 1486.28,2556.71 1487.08,2529.14 1487.87,2593.38 \n",
       "  1488.66,2593.74 1489.45,2595.77 1490.24,2567.39 1491.03,2448.71 1491.82,2550.32 1492.62,2448.27 1493.41,2566.67 1494.2,2565.84 1494.99,2499.04 1495.78,2517.05 \n",
       "  1496.57,2525.93 1497.37,2194.37 1498.16,2194.37 1498.95,2316.23 1499.74,2325 1500.53,2487.5 1501.32,2503.22 1502.11,2582.84 1502.91,2549.26 1503.7,2600.43 \n",
       "  1504.49,2519.84 1505.28,2486.43 1506.07,2483.28 1506.86,2593.17 1507.66,2641.52 1508.45,2524.56 1509.24,2524.6 1510.03,2644.94 1510.82,2608.87 1511.61,2620.44 \n",
       "  1512.4,2620.44 1513.2,2671.93 1513.99,2671.93 1514.78,2552.66 1515.57,2501.36 1516.36,2581.74 1517.15,2646.37 1517.95,2710.46 1518.74,2689.97 1519.53,2533.6 \n",
       "  1520.32,2530.43 1521.11,2596.23 1521.9,2670.2 1522.69,2695.87 1523.49,2541.66 1524.28,2450.12 1525.07,2496.22 1525.86,2532.41 1526.65,2666.34 1527.44,2506.03 \n",
       "  1528.23,2503.05 1529.03,2539.85 1529.82,2427.2 1530.61,2458.87 1531.4,2337.47 1532.19,2426.27 1532.98,2530.54 1533.78,2518.42 1534.57,2534.43 1535.36,2344.35 \n",
       "  1536.15,2421.98 1536.94,2540.72 1537.73,2615.85 1538.52,2582.85 1539.32,2594.94 1540.11,2569.95 1540.9,2615.83 1541.69,2413.19 1542.48,2498.51 1543.27,2503.81 \n",
       "  1544.07,2472.75 1544.86,2561.05 1545.65,2580.27 1546.44,2609.54 1547.23,2559.32 1548.02,2560.07 1548.81,2512.88 1549.61,2513.03 1550.4,2541.19 1551.19,2585.42 \n",
       "  1551.98,2522.38 1552.77,2561 1553.56,2633.25 1554.36,2675.38 1555.15,2663.35 1555.94,2656.71 1556.73,2691.59 1557.52,2579.7 1558.31,2602.42 1559.1,2589.17 \n",
       "  1559.9,2497.87 1560.69,2601.15 1561.48,2449.89 1562.27,2340.13 1563.06,2490.82 1563.85,2630.49 1564.65,2586.31 1565.44,2596.38 1566.23,2563.17 1567.02,2542.65 \n",
       "  1567.81,2506.47 1568.6,2461.79 1569.39,2492.59 1570.19,2665.37 1570.98,2539.55 1571.77,2478.24 1572.56,2615.64 1573.35,2630.97 1574.14,2524.88 1574.94,2581.9 \n",
       "  1575.73,2578.53 1576.52,2436.46 1577.31,2524.69 1578.1,2559.42 1578.89,2548.68 1579.68,2711.11 1580.48,2686.26 1581.27,2678.41 1582.06,2649.63 1582.85,2566.69 \n",
       "  1583.64,2430.62 1584.43,2557.47 1585.22,2554.46 1586.02,2419.65 1586.81,2473.84 1587.6,2511.18 1588.39,2632.26 1589.18,2555.29 1589.97,2510.73 1590.77,2503.37 \n",
       "  1591.56,2574.26 1592.35,2538.26 1593.14,2557.08 1593.93,2547.4 1594.72,2368.62 1595.51,2629.56 1596.31,2576.5 1597.1,2518.46 1597.89,2518.28 1598.68,2537.76 \n",
       "  1599.47,2607.99 1600.26,2616.5 1601.06,2631.52 1601.85,2630.34 1602.64,2550.29 1603.43,2582.9 1604.22,2602.35 1605.01,2535.94 1605.8,2533.99 1606.6,2493.93 \n",
       "  1607.39,2429.49 1608.18,2648.49 1608.97,2499.95 1609.76,2638.61 1610.55,2519.56 1611.35,2656.05 1612.14,2638.01 1612.93,2617.18 1613.72,2597 1614.51,2606.3 \n",
       "  1615.3,2356.8 1616.09,2568.3 1616.89,2381.02 1617.68,2387.78 1618.47,2465.11 1619.26,2605.24 1620.05,2495.13 1620.84,2564.82 1621.64,2410.32 1622.43,2485.08 \n",
       "  1623.22,2485.08 1624.01,2478.57 1624.8,2428.77 1625.59,2539.81 1626.38,2534.06 1627.18,2554.38 1627.97,2588.51 1628.76,2603.27 1629.55,2588.49 1630.34,2643.58 \n",
       "  1631.13,2491.14 1631.93,2631.31 1632.72,2640.43 1633.51,2640.43 1634.3,2481.32 1635.09,2583.23 1635.88,2425.91 1636.67,2638.94 1637.47,2558.93 1638.26,2494.98 \n",
       "  1639.05,2561.74 1639.84,2480.92 1640.63,2450.45 1641.42,2673.13 1642.21,2613.96 1643.01,2506.18 1643.8,2575.24 1644.59,2486.22 1645.38,2630.4 1646.17,2625.87 \n",
       "  1646.96,2595.28 1647.76,2532.17 1648.55,2540.11 1649.34,2564.68 1650.13,2559.38 1650.92,2663.84 1651.71,2581.71 1652.5,2421.97 1653.3,2600.43 1654.09,2594.02 \n",
       "  1654.88,2477.04 1655.67,2479.82 1656.46,2449.68 1657.25,2584.56 1658.05,2554.22 1658.84,2549.67 1659.63,2352.23 1660.42,2678.97 1661.21,2690.1 1662,2452.39 \n",
       "  1662.79,2455.61 1663.59,2446.9 1664.38,2446.54 1665.17,2544.51 1665.96,2558.23 1666.75,2517.77 1667.54,2466.63 1668.34,2527.98 1669.13,2485.56 1669.92,2593.77 \n",
       "  1670.71,2541.55 1671.5,2527.82 1672.29,2513.98 1673.08,2589.33 1673.88,2550.63 1674.67,2497.17 1675.46,2603.8 1676.25,2443.09 1677.04,2448.46 1677.83,2494.81 \n",
       "  1678.63,2521.23 1679.42,2535.64 1680.21,2451.3 1681,2551.51 1681.79,2620.22 1682.58,2483.98 1683.37,2523.64 1684.17,2612.9 1684.96,2411.26 1685.75,2453.98 \n",
       "  1686.54,2613.12 1687.33,2646.01 1688.12,2516.58 1688.92,2530.81 1689.71,2565.44 1690.5,2634.97 1691.29,2547.87 1692.08,2545.49 1692.87,2655.99 1693.66,2635.11 \n",
       "  1694.46,2624.69 1695.25,2627.96 1696.04,2629.11 1696.83,2537.93 1697.62,2526.41 1698.41,2570.81 1699.2,2540.11 1700,2640.78 1700.79,2617.07 1701.58,2515.42 \n",
       "  1702.37,2451.49 1703.16,2509.66 1703.95,2538.13 1704.75,2582.79 1705.54,2403.48 1706.33,2548.07 1707.12,2612.81 1707.91,2465.63 1708.7,2523.98 1709.49,2507.04 \n",
       "  1710.29,2603.6 1711.08,2616.38 1711.87,2616.59 1712.66,2642.79 1713.45,2564.08 1714.24,2429.66 1715.04,2505.85 1715.83,2577.72 1716.62,2493.18 1717.41,2588.49 \n",
       "  1718.2,2667.46 1718.99,2521.57 1719.78,2426.87 1720.58,2476.97 1721.37,2533.19 1722.16,2429.73 1722.95,2664.01 1723.74,2426.09 1724.53,2426.76 1725.33,2453.48 \n",
       "  1726.12,2433.87 1726.91,2427.77 1727.7,2515.02 1728.49,2553.48 1729.28,2558.51 1730.07,2537.72 1730.87,2566.9 1731.66,2566.9 1732.45,2627.8 1733.24,2686.19 \n",
       "  1734.03,2695.68 1734.82,2642.49 1735.62,2555.85 1736.41,2648.97 1737.2,2614.44 1737.99,2612.62 1738.78,2670.09 1739.57,2641.52 1740.36,2603.99 1741.16,2616.87 \n",
       "  1741.95,2536.22 1742.74,2474.23 1743.53,2613.33 1744.32,2490.31 1745.11,2478.82 1745.91,2458.47 1746.7,2549.28 1747.49,2407.39 1748.28,2581.24 1749.07,2515.22 \n",
       "  1749.86,2629.7 1750.65,2620.33 1751.45,2556.37 1752.24,2655.37 1753.03,2647.69 1753.82,2647.69 1754.61,2459.28 1755.4,2424.46 1756.19,2438.31 1756.99,2415.67 \n",
       "  1757.78,2561.25 1758.57,2424.64 1759.36,2410.04 1760.15,2376.71 1760.94,2679.17 1761.74,2667.45 1762.53,2440.13 1763.32,2515.17 1764.11,2532.35 1764.9,2577.45 \n",
       "  1765.69,2552.18 1766.48,2558.63 1767.28,2628.89 1768.07,2520.07 1768.86,2461.11 1769.65,2473.94 1770.44,2373.34 1771.23,2336.57 1772.03,2427.21 1772.82,2483.69 \n",
       "  1773.61,2520 1774.4,2354.4 1775.19,2585.92 1775.98,2568.16 1776.77,2473.19 1777.57,2508.25 1778.36,2542.79 1779.15,2558.42 1779.94,2512.59 1780.73,2580.16 \n",
       "  1781.52,2639.34 1782.32,2539.37 1783.11,2635.41 1783.9,2640.56 1784.69,2626.74 1785.48,2661.92 1786.27,2630.44 1787.06,2500.21 1787.86,2386.38 1788.65,2524.96 \n",
       "  1789.44,2686.4 1790.23,2393 1791.02,2526.53 1791.81,2632.85 1792.61,2393.02 1793.4,2385.63 1794.19,2617.96 1794.98,2477.53 1795.77,2365.2 1796.56,2365.2 \n",
       "  1797.35,2357.58 1798.15,2501.78 1798.94,2573.04 1799.73,2601.79 1800.52,2517.92 1801.31,2523.31 1802.1,2581.21 1802.9,2494.36 1803.69,2466.36 1804.48,2499.74 \n",
       "  1805.27,2580.41 1806.06,2457.81 1806.85,2668.81 1807.64,2580.31 1808.44,2594.83 1809.23,2449.03 1810.02,2525.61 1810.81,2459.13 1811.6,2559.71 1812.39,2629.33 \n",
       "  1813.18,2639.33 1813.98,2483.17 1814.77,2484.47 1815.56,2517.48 1816.35,2460.94 1817.14,2501.93 1817.93,2498.08 1818.73,2595.99 1819.52,2625.36 1820.31,2489.93 \n",
       "  1821.1,2442.94 1821.89,2523.51 1822.68,2392.65 1823.47,2376.19 1824.27,2336.02 1825.06,2394.42 1825.85,2590.22 1826.64,2469.9 1827.43,2600.68 1828.22,2599.42 \n",
       "  1829.02,2565.47 1829.81,2654.41 1830.6,2664.83 1831.39,2664.83 1832.18,2602.32 1832.97,2490.47 1833.76,2641.75 1834.56,2614.31 1835.35,2453.91 1836.14,2508.54 \n",
       "  1836.93,2567.87 1837.72,2612.35 1838.51,2517.5 1839.31,2519.11 1840.1,2445.46 1840.89,2538.72 1841.68,2609.6 1842.47,2559.93 1843.26,2424.1 1844.05,2661.34 \n",
       "  1844.85,2691.21 1845.64,2439.2 1846.43,2471.03 1847.22,2631.23 1848.01,2501.78 1848.8,2536.4 1849.6,2592.97 1850.39,2615.73 1851.18,2437.55 1851.97,2624.05 \n",
       "  1852.76,2454.78 1853.55,2535.29 1854.34,2511.96 1855.14,2475.12 1855.93,2552.78 1856.72,2552.78 1857.51,2564.68 1858.3,2575.31 1859.09,2538.33 1859.89,2538.33 \n",
       "  1860.68,2558.68 1861.47,2558.68 1862.26,2595.52 1863.05,2658.75 1863.84,2362.24 1864.63,2343.83 1865.43,2659 1866.22,2659 1867.01,2494.1 1867.8,2509.17 \n",
       "  1868.59,2525.62 1869.38,2496.41 1870.17,2564.77 1870.97,2529.35 1871.76,2502.32 1872.55,2626.64 1873.34,2565.59 1874.13,2587.87 1874.92,2529.71 1875.72,2421.71 \n",
       "  1876.51,2573.52 1877.3,2613.89 1878.09,2645.04 1878.88,2638.39 1879.67,2502.37 1880.46,2564.6 1881.26,2487.78 1882.05,2598.78 1882.84,2701.49 1883.63,2631.11 \n",
       "  1884.42,2638.67 1885.21,2645.56 1886.01,2507.25 1886.8,2638.78 1887.59,2424.04 1888.38,2560.8 1889.17,2499.82 1889.96,2611.72 1890.75,2588.89 1891.55,2538.84 \n",
       "  1892.34,2561.49 1893.13,2531.83 1893.92,2605.96 1894.71,2585.17 1895.5,2518.73 1896.3,2578.11 1897.09,2563.44 1897.88,2562.3 1898.67,2580.15 1899.46,2573.97 \n",
       "  1900.25,2599.47 1901.04,2537.05 1901.84,2645.56 1902.63,2681.76 1903.42,2401 1904.21,2545.99 1905,2596.91 1905.79,2474.48 1906.59,2599.67 1907.38,2582.16 \n",
       "  1908.17,2504.44 1908.96,2489.8 1909.75,2559.74 1910.54,2564.61 1911.33,2550.01 1912.13,2582.52 1912.92,2497.8 1913.71,2596.52 1914.5,2626.72 1915.29,2572.55 \n",
       "  1916.08,2478.89 1916.88,2483 1917.67,2609.54 1918.46,2604.52 1919.25,2560.26 1920.04,2519.61 1920.83,2477.95 1921.62,2466.46 1922.42,2599.98 1923.21,2612.91 \n",
       "  1924,2682.94 1924.79,2362.7 1925.58,2371.16 1926.37,2459.84 1927.16,2470.6 1927.96,2479.49 1928.75,2498.51 1929.54,2452.2 1930.33,2601.15 1931.12,2517.65 \n",
       "  1931.91,2592.44 1932.71,2527.16 1933.5,2525.31 1934.29,2524.48 1935.08,2715.1 1935.87,2693.66 1936.66,2693.66 1937.45,2367.61 1938.25,2344.78 1939.04,2661.83 \n",
       "  \n",
       "  \"/>\n",
       "<path clip-path=\"url(#clip040)\" d=\"\n",
       "M2275.56 2798.92 L3952.76 2798.92 L3952.76 2131.03 L2275.56 2131.03  Z\n",
       "  \" fill=\"#ffffff\" fill-rule=\"evenodd\" fill-opacity=\"1\"/>\n",
       "<defs>\n",
       "  <clipPath id=\"clip047\">\n",
       "    <rect x=\"2275\" y=\"2131\" width=\"1678\" height=\"669\"/>\n",
       "  </clipPath>\n",
       "</defs>\n",
       "<polyline clip-path=\"url(#clip047)\" style=\"stroke:#000000; stroke-linecap:butt; stroke-linejoin:round; stroke-width:2; stroke-opacity:0.1; fill:none\" points=\"\n",
       "  2364.22,2798.92 2364.22,2131.03 \n",
       "  \"/>\n",
       "<polyline clip-path=\"url(#clip047)\" style=\"stroke:#000000; stroke-linecap:butt; stroke-linejoin:round; stroke-width:2; stroke-opacity:0.1; fill:none\" points=\"\n",
       "  2621.68,2798.92 2621.68,2131.03 \n",
       "  \"/>\n",
       "<polyline clip-path=\"url(#clip047)\" style=\"stroke:#000000; stroke-linecap:butt; stroke-linejoin:round; stroke-width:2; stroke-opacity:0.1; fill:none\" points=\"\n",
       "  2879.13,2798.92 2879.13,2131.03 \n",
       "  \"/>\n",
       "<polyline clip-path=\"url(#clip047)\" style=\"stroke:#000000; stroke-linecap:butt; stroke-linejoin:round; stroke-width:2; stroke-opacity:0.1; fill:none\" points=\"\n",
       "  3136.59,2798.92 3136.59,2131.03 \n",
       "  \"/>\n",
       "<polyline clip-path=\"url(#clip047)\" style=\"stroke:#000000; stroke-linecap:butt; stroke-linejoin:round; stroke-width:2; stroke-opacity:0.1; fill:none\" points=\"\n",
       "  3394.04,2798.92 3394.04,2131.03 \n",
       "  \"/>\n",
       "<polyline clip-path=\"url(#clip047)\" style=\"stroke:#000000; stroke-linecap:butt; stroke-linejoin:round; stroke-width:2; stroke-opacity:0.1; fill:none\" points=\"\n",
       "  3651.49,2798.92 3651.49,2131.03 \n",
       "  \"/>\n",
       "<polyline clip-path=\"url(#clip047)\" style=\"stroke:#000000; stroke-linecap:butt; stroke-linejoin:round; stroke-width:2; stroke-opacity:0.1; fill:none\" points=\"\n",
       "  3908.95,2798.92 3908.95,2131.03 \n",
       "  \"/>\n",
       "<polyline clip-path=\"url(#clip040)\" style=\"stroke:#000000; stroke-linecap:butt; stroke-linejoin:round; stroke-width:4; stroke-opacity:1; fill:none\" points=\"\n",
       "  2275.56,2798.92 3952.76,2798.92 \n",
       "  \"/>\n",
       "<polyline clip-path=\"url(#clip040)\" style=\"stroke:#000000; stroke-linecap:butt; stroke-linejoin:round; stroke-width:4; stroke-opacity:1; fill:none\" points=\"\n",
       "  2364.22,2798.92 2364.22,2780.02 \n",
       "  \"/>\n",
       "<polyline clip-path=\"url(#clip040)\" style=\"stroke:#000000; stroke-linecap:butt; stroke-linejoin:round; stroke-width:4; stroke-opacity:1; fill:none\" points=\"\n",
       "  2621.68,2798.92 2621.68,2780.02 \n",
       "  \"/>\n",
       "<polyline clip-path=\"url(#clip040)\" style=\"stroke:#000000; stroke-linecap:butt; stroke-linejoin:round; stroke-width:4; stroke-opacity:1; fill:none\" points=\"\n",
       "  2879.13,2798.92 2879.13,2780.02 \n",
       "  \"/>\n",
       "<polyline clip-path=\"url(#clip040)\" style=\"stroke:#000000; stroke-linecap:butt; stroke-linejoin:round; stroke-width:4; stroke-opacity:1; fill:none\" points=\"\n",
       "  3136.59,2798.92 3136.59,2780.02 \n",
       "  \"/>\n",
       "<polyline clip-path=\"url(#clip040)\" style=\"stroke:#000000; stroke-linecap:butt; stroke-linejoin:round; stroke-width:4; stroke-opacity:1; fill:none\" points=\"\n",
       "  3394.04,2798.92 3394.04,2780.02 \n",
       "  \"/>\n",
       "<polyline clip-path=\"url(#clip040)\" style=\"stroke:#000000; stroke-linecap:butt; stroke-linejoin:round; stroke-width:4; stroke-opacity:1; fill:none\" points=\"\n",
       "  3651.49,2798.92 3651.49,2780.02 \n",
       "  \"/>\n",
       "<polyline clip-path=\"url(#clip040)\" style=\"stroke:#000000; stroke-linecap:butt; stroke-linejoin:round; stroke-width:4; stroke-opacity:1; fill:none\" points=\"\n",
       "  3908.95,2798.92 3908.95,2780.02 \n",
       "  \"/>\n",
       "<path clip-path=\"url(#clip040)\" d=\"M2342.11 2842.64 Q2338.49 2842.64 2336.67 2846.2 Q2334.86 2849.74 2334.86 2856.87 Q2334.86 2863.98 2336.67 2867.55 Q2338.49 2871.09 2342.11 2871.09 Q2345.74 2871.09 2347.55 2867.55 Q2349.37 2863.98 2349.37 2856.87 Q2349.37 2849.74 2347.55 2846.2 Q2345.74 2842.64 2342.11 2842.64 M2342.11 2838.93 Q2347.92 2838.93 2350.97 2843.54 Q2354.05 2848.12 2354.05 2856.87 Q2354.05 2865.6 2350.97 2870.21 Q2347.92 2874.79 2342.11 2874.79 Q2336.3 2874.79 2333.22 2870.21 Q2330.16 2865.6 2330.16 2856.87 Q2330.16 2848.12 2333.22 2843.54 Q2336.3 2838.93 2342.11 2838.93 Z\" fill=\"#000000\" fill-rule=\"evenodd\" fill-opacity=\"1\" /><path clip-path=\"url(#clip040)\" d=\"M2362.27 2868.24 L2367.15 2868.24 L2367.15 2874.12 L2362.27 2874.12 L2362.27 2868.24 Z\" fill=\"#000000\" fill-rule=\"evenodd\" fill-opacity=\"1\" /><path clip-path=\"url(#clip040)\" d=\"M2377.38 2839.56 L2395.74 2839.56 L2395.74 2843.5 L2381.67 2843.5 L2381.67 2851.97 Q2382.68 2851.62 2383.7 2851.46 Q2384.72 2851.27 2385.74 2851.27 Q2391.53 2851.27 2394.91 2854.44 Q2398.29 2857.62 2398.29 2863.03 Q2398.29 2868.61 2394.81 2871.71 Q2391.34 2874.79 2385.02 2874.79 Q2382.85 2874.79 2380.58 2874.42 Q2378.33 2874.05 2375.93 2873.31 L2375.93 2868.61 Q2378.01 2869.74 2380.23 2870.3 Q2382.45 2870.86 2384.93 2870.86 Q2388.93 2870.86 2391.27 2868.75 Q2393.61 2866.64 2393.61 2863.03 Q2393.61 2859.42 2391.27 2857.31 Q2388.93 2855.21 2384.93 2855.21 Q2383.05 2855.21 2381.18 2855.62 Q2379.33 2856.04 2377.38 2856.92 L2377.38 2839.56 Z\" fill=\"#000000\" fill-rule=\"evenodd\" fill-opacity=\"1\" /><path clip-path=\"url(#clip040)\" d=\"M2598.98 2842.64 Q2595.37 2842.64 2593.54 2846.2 Q2591.74 2849.74 2591.74 2856.87 Q2591.74 2863.98 2593.54 2867.55 Q2595.37 2871.09 2598.98 2871.09 Q2602.62 2871.09 2604.42 2867.55 Q2606.25 2863.98 2606.25 2856.87 Q2606.25 2849.74 2604.42 2846.2 Q2602.62 2842.64 2598.98 2842.64 M2598.98 2838.93 Q2604.79 2838.93 2607.85 2843.54 Q2610.93 2848.12 2610.93 2856.87 Q2610.93 2865.6 2607.85 2870.21 Q2604.79 2874.79 2598.98 2874.79 Q2593.17 2874.79 2590.09 2870.21 Q2587.04 2865.6 2587.04 2856.87 Q2587.04 2848.12 2590.09 2843.54 Q2593.17 2838.93 2598.98 2838.93 Z\" fill=\"#000000\" fill-rule=\"evenodd\" fill-opacity=\"1\" /><path clip-path=\"url(#clip040)\" d=\"M2619.14 2868.24 L2624.03 2868.24 L2624.03 2874.12 L2619.14 2874.12 L2619.14 2868.24 Z\" fill=\"#000000\" fill-rule=\"evenodd\" fill-opacity=\"1\" /><path clip-path=\"url(#clip040)\" d=\"M2644.79 2854.98 Q2641.64 2854.98 2639.79 2857.13 Q2637.96 2859.28 2637.96 2863.03 Q2637.96 2866.76 2639.79 2868.93 Q2641.64 2871.09 2644.79 2871.09 Q2647.94 2871.09 2649.77 2868.93 Q2651.62 2866.76 2651.62 2863.03 Q2651.62 2859.28 2649.77 2857.13 Q2647.94 2854.98 2644.79 2854.98 M2654.07 2840.32 L2654.07 2844.58 Q2652.31 2843.75 2650.51 2843.31 Q2648.73 2842.87 2646.97 2842.87 Q2642.34 2842.87 2639.88 2845.99 Q2637.45 2849.12 2637.11 2855.44 Q2638.47 2853.43 2640.53 2852.36 Q2642.59 2851.27 2645.07 2851.27 Q2650.28 2851.27 2653.29 2854.44 Q2656.32 2857.59 2656.32 2863.03 Q2656.32 2868.36 2653.17 2871.57 Q2650.02 2874.79 2644.79 2874.79 Q2638.8 2874.79 2635.62 2870.21 Q2632.45 2865.6 2632.45 2856.87 Q2632.45 2848.68 2636.34 2843.82 Q2640.23 2838.93 2646.78 2838.93 Q2648.54 2838.93 2650.32 2839.28 Q2652.13 2839.63 2654.07 2840.32 Z\" fill=\"#000000\" fill-rule=\"evenodd\" fill-opacity=\"1\" /><path clip-path=\"url(#clip040)\" d=\"M2856.97 2842.64 Q2853.36 2842.64 2851.53 2846.2 Q2849.72 2849.74 2849.72 2856.87 Q2849.72 2863.98 2851.53 2867.55 Q2853.36 2871.09 2856.97 2871.09 Q2860.6 2871.09 2862.41 2867.55 Q2864.24 2863.98 2864.24 2856.87 Q2864.24 2849.74 2862.41 2846.2 Q2860.6 2842.64 2856.97 2842.64 M2856.97 2838.93 Q2862.78 2838.93 2865.83 2843.54 Q2868.91 2848.12 2868.91 2856.87 Q2868.91 2865.6 2865.83 2870.21 Q2862.78 2874.79 2856.97 2874.79 Q2851.16 2874.79 2848.08 2870.21 Q2845.02 2865.6 2845.02 2856.87 Q2845.02 2848.12 2848.08 2843.54 Q2851.16 2838.93 2856.97 2838.93 Z\" fill=\"#000000\" fill-rule=\"evenodd\" fill-opacity=\"1\" /><path clip-path=\"url(#clip040)\" d=\"M2877.13 2868.24 L2882.01 2868.24 L2882.01 2874.12 L2877.13 2874.12 L2877.13 2868.24 Z\" fill=\"#000000\" fill-rule=\"evenodd\" fill-opacity=\"1\" /><path clip-path=\"url(#clip040)\" d=\"M2891.02 2839.56 L2913.24 2839.56 L2913.24 2841.55 L2900.69 2874.12 L2895.81 2874.12 L2907.62 2843.5 L2891.02 2843.5 L2891.02 2839.56 Z\" fill=\"#000000\" fill-rule=\"evenodd\" fill-opacity=\"1\" /><path clip-path=\"url(#clip040)\" d=\"M3114.02 2842.64 Q3110.4 2842.64 3108.58 2846.2 Q3106.77 2849.74 3106.77 2856.87 Q3106.77 2863.98 3108.58 2867.55 Q3110.4 2871.09 3114.02 2871.09 Q3117.65 2871.09 3119.46 2867.55 Q3121.28 2863.98 3121.28 2856.87 Q3121.28 2849.74 3119.46 2846.2 Q3117.65 2842.64 3114.02 2842.64 M3114.02 2838.93 Q3119.83 2838.93 3122.88 2843.54 Q3125.96 2848.12 3125.96 2856.87 Q3125.96 2865.6 3122.88 2870.21 Q3119.83 2874.79 3114.02 2874.79 Q3108.21 2874.79 3105.13 2870.21 Q3102.07 2865.6 3102.07 2856.87 Q3102.07 2848.12 3105.13 2843.54 Q3108.21 2838.93 3114.02 2838.93 Z\" fill=\"#000000\" fill-rule=\"evenodd\" fill-opacity=\"1\" /><path clip-path=\"url(#clip040)\" d=\"M3134.18 2868.24 L3139.06 2868.24 L3139.06 2874.12 L3134.18 2874.12 L3134.18 2868.24 Z\" fill=\"#000000\" fill-rule=\"evenodd\" fill-opacity=\"1\" /><path clip-path=\"url(#clip040)\" d=\"M3159.25 2857.71 Q3155.91 2857.71 3153.99 2859.49 Q3152.09 2861.27 3152.09 2864.4 Q3152.09 2867.52 3153.99 2869.31 Q3155.91 2871.09 3159.25 2871.09 Q3162.58 2871.09 3164.5 2869.31 Q3166.42 2867.5 3166.42 2864.4 Q3166.42 2861.27 3164.5 2859.49 Q3162.6 2857.71 3159.25 2857.71 M3154.57 2855.72 Q3151.56 2854.98 3149.87 2852.92 Q3148.21 2850.86 3148.21 2847.89 Q3148.21 2843.75 3151.15 2841.34 Q3154.11 2838.93 3159.25 2838.93 Q3164.41 2838.93 3167.35 2841.34 Q3170.29 2843.75 3170.29 2847.89 Q3170.29 2850.86 3168.6 2852.92 Q3166.93 2854.98 3163.95 2855.72 Q3167.33 2856.5 3169.2 2858.8 Q3171.1 2861.09 3171.1 2864.4 Q3171.1 2869.42 3168.02 2872.11 Q3164.96 2874.79 3159.25 2874.79 Q3153.53 2874.79 3150.45 2872.11 Q3147.4 2869.42 3147.4 2864.4 Q3147.4 2861.09 3149.29 2858.8 Q3151.19 2856.5 3154.57 2855.72 M3152.86 2848.33 Q3152.86 2851.02 3154.53 2852.52 Q3156.21 2854.03 3159.25 2854.03 Q3162.26 2854.03 3163.95 2852.52 Q3165.66 2851.02 3165.66 2848.33 Q3165.66 2845.65 3163.95 2844.14 Q3162.26 2842.64 3159.25 2842.64 Q3156.21 2842.64 3154.53 2844.14 Q3152.86 2845.65 3152.86 2848.33 Z\" fill=\"#000000\" fill-rule=\"evenodd\" fill-opacity=\"1\" /><path clip-path=\"url(#clip040)\" d=\"M3371.52 2842.64 Q3367.91 2842.64 3366.08 2846.2 Q3364.27 2849.74 3364.27 2856.87 Q3364.27 2863.98 3366.08 2867.55 Q3367.91 2871.09 3371.52 2871.09 Q3375.15 2871.09 3376.96 2867.55 Q3378.78 2863.98 3378.78 2856.87 Q3378.78 2849.74 3376.96 2846.2 Q3375.15 2842.64 3371.52 2842.64 M3371.52 2838.93 Q3377.33 2838.93 3380.38 2843.54 Q3383.46 2848.12 3383.46 2856.87 Q3383.46 2865.6 3380.38 2870.21 Q3377.33 2874.79 3371.52 2874.79 Q3365.71 2874.79 3362.63 2870.21 Q3359.57 2865.6 3359.57 2856.87 Q3359.57 2848.12 3362.63 2843.54 Q3365.71 2838.93 3371.52 2838.93 Z\" fill=\"#000000\" fill-rule=\"evenodd\" fill-opacity=\"1\" /><path clip-path=\"url(#clip040)\" d=\"M3391.68 2868.24 L3396.56 2868.24 L3396.56 2874.12 L3391.68 2874.12 L3391.68 2868.24 Z\" fill=\"#000000\" fill-rule=\"evenodd\" fill-opacity=\"1\" /><path clip-path=\"url(#clip040)\" d=\"M3406.89 2873.4 L3406.89 2869.14 Q3408.65 2869.98 3410.45 2870.42 Q3412.26 2870.86 3413.99 2870.86 Q3418.62 2870.86 3421.05 2867.75 Q3423.51 2864.63 3423.85 2858.29 Q3422.51 2860.28 3420.45 2861.34 Q3418.39 2862.41 3415.89 2862.41 Q3410.71 2862.41 3407.67 2859.28 Q3404.66 2856.13 3404.66 2850.69 Q3404.66 2845.37 3407.81 2842.15 Q3410.96 2838.93 3416.19 2838.93 Q3422.19 2838.93 3425.34 2843.54 Q3428.51 2848.12 3428.51 2856.87 Q3428.51 2865.05 3424.62 2869.93 Q3420.75 2874.79 3414.2 2874.79 Q3412.44 2874.79 3410.64 2874.44 Q3408.83 2874.1 3406.89 2873.4 M3416.19 2858.75 Q3419.34 2858.75 3421.17 2856.6 Q3423.02 2854.44 3423.02 2850.69 Q3423.02 2846.97 3421.17 2844.81 Q3419.34 2842.64 3416.19 2842.64 Q3413.04 2842.64 3411.19 2844.81 Q3409.36 2846.97 3409.36 2850.69 Q3409.36 2854.44 3411.19 2856.6 Q3413.04 2858.75 3416.19 2858.75 Z\" fill=\"#000000\" fill-rule=\"evenodd\" fill-opacity=\"1\" /><path clip-path=\"url(#clip040)\" d=\"M3618.65 2870.18 L3626.28 2870.18 L3626.28 2843.82 L3617.97 2845.49 L3617.97 2841.23 L3626.24 2839.56 L3630.91 2839.56 L3630.91 2870.18 L3638.55 2870.18 L3638.55 2874.12 L3618.65 2874.12 L3618.65 2870.18 Z\" fill=\"#000000\" fill-rule=\"evenodd\" fill-opacity=\"1\" /><path clip-path=\"url(#clip040)\" d=\"M3648 2868.24 L3652.88 2868.24 L3652.88 2874.12 L3648 2874.12 L3648 2868.24 Z\" fill=\"#000000\" fill-rule=\"evenodd\" fill-opacity=\"1\" /><path clip-path=\"url(#clip040)\" d=\"M3673.07 2842.64 Q3669.46 2842.64 3667.63 2846.2 Q3665.82 2849.74 3665.82 2856.87 Q3665.82 2863.98 3667.63 2867.55 Q3669.46 2871.09 3673.07 2871.09 Q3676.7 2871.09 3678.51 2867.55 Q3680.34 2863.98 3680.34 2856.87 Q3680.34 2849.74 3678.51 2846.2 Q3676.7 2842.64 3673.07 2842.64 M3673.07 2838.93 Q3678.88 2838.93 3681.93 2843.54 Q3685.01 2848.12 3685.01 2856.87 Q3685.01 2865.6 3681.93 2870.21 Q3678.88 2874.79 3673.07 2874.79 Q3667.26 2874.79 3664.18 2870.21 Q3661.12 2865.6 3661.12 2856.87 Q3661.12 2848.12 3664.18 2843.54 Q3667.26 2838.93 3673.07 2838.93 Z\" fill=\"#000000\" fill-rule=\"evenodd\" fill-opacity=\"1\" /><path clip-path=\"url(#clip040)\" d=\"M3876.71 2870.18 L3884.35 2870.18 L3884.35 2843.82 L3876.04 2845.49 L3876.04 2841.23 L3884.31 2839.56 L3888.98 2839.56 L3888.98 2870.18 L3896.62 2870.18 L3896.62 2874.12 L3876.71 2874.12 L3876.71 2870.18 Z\" fill=\"#000000\" fill-rule=\"evenodd\" fill-opacity=\"1\" /><path clip-path=\"url(#clip040)\" d=\"M3906.07 2868.24 L3910.95 2868.24 L3910.95 2874.12 L3906.07 2874.12 L3906.07 2868.24 Z\" fill=\"#000000\" fill-rule=\"evenodd\" fill-opacity=\"1\" /><path clip-path=\"url(#clip040)\" d=\"M3921.94 2870.18 L3929.58 2870.18 L3929.58 2843.82 L3921.27 2845.49 L3921.27 2841.23 L3929.54 2839.56 L3934.21 2839.56 L3934.21 2870.18 L3941.85 2870.18 L3941.85 2874.12 L3921.94 2874.12 L3921.94 2870.18 Z\" fill=\"#000000\" fill-rule=\"evenodd\" fill-opacity=\"1\" /><path clip-path=\"url(#clip040)\" d=\"M2927.04 2921.82 L2927.04 2928.09 Q2923.38 2926.34 2920.13 2925.48 Q2916.88 2924.62 2913.86 2924.62 Q2908.61 2924.62 2905.74 2926.66 Q2902.91 2928.7 2902.91 2932.45 Q2902.91 2935.61 2904.79 2937.23 Q2906.7 2938.82 2911.98 2939.81 L2915.86 2940.6 Q2923.06 2941.97 2926.46 2945.44 Q2929.9 2948.88 2929.9 2954.67 Q2929.9 2961.58 2925.25 2965.14 Q2920.64 2968.71 2911.69 2968.71 Q2908.32 2968.71 2904.5 2967.94 Q2900.71 2967.18 2896.64 2965.68 L2896.64 2959.06 Q2900.55 2961.26 2904.31 2962.37 Q2908.07 2963.49 2911.69 2963.49 Q2917.2 2963.49 2920.19 2961.32 Q2923.18 2959.16 2923.18 2955.15 Q2923.18 2951.65 2921.02 2949.67 Q2918.89 2947.7 2913.99 2946.71 L2910.07 2945.95 Q2902.88 2944.52 2899.66 2941.46 Q2896.45 2938.41 2896.45 2932.96 Q2896.45 2926.66 2900.87 2923.03 Q2905.33 2919.4 2913.13 2919.4 Q2916.47 2919.4 2919.94 2920.01 Q2923.41 2920.61 2927.04 2921.82 Z\" fill=\"#000000\" fill-rule=\"evenodd\" fill-opacity=\"1\" /><path clip-path=\"url(#clip040)\" d=\"M2955.87 2949.86 Q2948.77 2949.86 2946.04 2951.49 Q2943.3 2953.11 2943.3 2957.03 Q2943.3 2960.14 2945.34 2961.99 Q2947.41 2963.81 2950.94 2963.81 Q2955.81 2963.81 2958.74 2960.37 Q2961.7 2956.9 2961.7 2951.17 L2961.7 2949.86 L2955.87 2949.86 M2967.55 2947.45 L2967.55 2967.78 L2961.7 2967.78 L2961.7 2962.37 Q2959.69 2965.62 2956.7 2967.18 Q2953.71 2968.71 2949.38 2968.71 Q2943.91 2968.71 2940.66 2965.65 Q2937.44 2962.56 2937.44 2957.41 Q2937.44 2951.39 2941.45 2948.34 Q2945.5 2945.28 2953.49 2945.28 L2961.7 2945.28 L2961.7 2944.71 Q2961.7 2940.67 2959.02 2938.47 Q2956.38 2936.24 2951.58 2936.24 Q2948.52 2936.24 2945.62 2936.97 Q2942.73 2937.71 2940.05 2939.17 L2940.05 2933.76 Q2943.27 2932.52 2946.29 2931.91 Q2949.32 2931.28 2952.18 2931.28 Q2959.91 2931.28 2963.73 2935.29 Q2967.55 2939.3 2967.55 2947.45 Z\" fill=\"#000000\" fill-rule=\"evenodd\" fill-opacity=\"1\" /><path clip-path=\"url(#clip040)\" d=\"M3007.37 2938.98 Q3009.57 2935.03 3012.62 2933.15 Q3015.68 2931.28 3019.82 2931.28 Q3025.39 2931.28 3028.41 2935.19 Q3031.43 2939.07 3031.43 2946.27 L3031.43 2967.78 L3025.55 2967.78 L3025.55 2946.46 Q3025.55 2941.33 3023.73 2938.85 Q3021.92 2936.37 3018.19 2936.37 Q3013.64 2936.37 3011 2939.39 Q3008.36 2942.42 3008.36 2947.64 L3008.36 2967.78 L3002.47 2967.78 L3002.47 2946.46 Q3002.47 2941.3 3000.66 2938.85 Q2998.84 2936.37 2995.05 2936.37 Q2990.57 2936.37 2987.92 2939.42 Q2985.28 2942.45 2985.28 2947.64 L2985.28 2967.78 L2979.39 2967.78 L2979.39 2932.14 L2985.28 2932.14 L2985.28 2937.67 Q2987.29 2934.4 2990.09 2932.84 Q2992.89 2931.28 2996.74 2931.28 Q3000.62 2931.28 3003.33 2933.25 Q3006.07 2935.22 3007.37 2938.98 Z\" fill=\"#000000\" fill-rule=\"evenodd\" fill-opacity=\"1\" /><path clip-path=\"url(#clip040)\" d=\"M3048.78 2962.44 L3048.78 2981.34 L3042.89 2981.34 L3042.89 2932.14 L3048.78 2932.14 L3048.78 2937.55 Q3050.63 2934.36 3053.43 2932.84 Q3056.26 2931.28 3060.17 2931.28 Q3066.67 2931.28 3070.71 2936.43 Q3074.78 2941.59 3074.78 2949.99 Q3074.78 2958.39 3070.71 2963.55 Q3066.67 2968.71 3060.17 2968.71 Q3056.26 2968.71 3053.43 2967.18 Q3050.63 2965.62 3048.78 2962.44 M3068.7 2949.99 Q3068.7 2943.53 3066.03 2939.87 Q3063.39 2936.18 3058.74 2936.18 Q3054.1 2936.18 3051.42 2939.87 Q3048.78 2943.53 3048.78 2949.99 Q3048.78 2956.45 3051.42 2960.14 Q3054.1 2963.81 3058.74 2963.81 Q3063.39 2963.81 3066.03 2960.14 Q3068.7 2956.45 3068.7 2949.99 Z\" fill=\"#000000\" fill-rule=\"evenodd\" fill-opacity=\"1\" /><path clip-path=\"url(#clip040)\" d=\"M3084.49 2918.26 L3090.35 2918.26 L3090.35 2967.78 L3084.49 2967.78 L3084.49 2918.26 Z\" fill=\"#000000\" fill-rule=\"evenodd\" fill-opacity=\"1\" /><path clip-path=\"url(#clip040)\" d=\"M3133.09 2948.5 L3133.09 2951.36 L3106.17 2951.36 Q3106.55 2957.41 3109.8 2960.59 Q3113.07 2963.74 3118.9 2963.74 Q3122.27 2963.74 3125.42 2962.91 Q3128.61 2962.09 3131.73 2960.43 L3131.73 2965.97 Q3128.57 2967.31 3125.26 2968.01 Q3121.95 2968.71 3118.55 2968.71 Q3110.02 2968.71 3105.02 2963.74 Q3100.06 2958.78 3100.06 2950.31 Q3100.06 2941.56 3104.77 2936.43 Q3109.51 2931.28 3117.53 2931.28 Q3124.72 2931.28 3128.89 2935.92 Q3133.09 2940.54 3133.09 2948.5 M3127.24 2946.78 Q3127.17 2941.97 3124.53 2939.11 Q3121.92 2936.24 3117.59 2936.24 Q3112.69 2936.24 3109.73 2939.01 Q3106.8 2941.78 3106.36 2946.81 L3127.24 2946.78 Z\" fill=\"#000000\" fill-rule=\"evenodd\" fill-opacity=\"1\" /><path clip-path=\"url(#clip040)\" d=\"M3159.23 2932.14 L3165.43 2932.14 L3176.57 2962.05 L3187.71 2932.14 L3193.92 2932.14 L3180.55 2967.78 L3172.59 2967.78 L3159.23 2932.14 Z\" fill=\"#000000\" fill-rule=\"evenodd\" fill-opacity=\"1\" /><path clip-path=\"url(#clip040)\" d=\"M3218.2 2949.86 Q3211.11 2949.86 3208.37 2951.49 Q3205.63 2953.11 3205.63 2957.03 Q3205.63 2960.14 3207.67 2961.99 Q3209.74 2963.81 3213.27 2963.81 Q3218.14 2963.81 3221.07 2960.37 Q3224.03 2956.9 3224.03 2951.17 L3224.03 2949.86 L3218.2 2949.86 M3229.88 2947.45 L3229.88 2967.78 L3224.03 2967.78 L3224.03 2962.37 Q3222.02 2965.62 3219.03 2967.18 Q3216.04 2968.71 3211.71 2968.71 Q3206.24 2968.71 3202.99 2965.65 Q3199.77 2962.56 3199.77 2957.41 Q3199.77 2951.39 3203.79 2948.34 Q3207.83 2945.28 3215.82 2945.28 L3224.03 2945.28 L3224.03 2944.71 Q3224.03 2940.67 3221.35 2938.47 Q3218.71 2936.24 3213.91 2936.24 Q3210.85 2936.24 3207.95 2936.97 Q3205.06 2937.71 3202.38 2939.17 L3202.38 2933.76 Q3205.6 2932.52 3208.62 2931.91 Q3211.65 2931.28 3214.51 2931.28 Q3222.25 2931.28 3226.07 2935.29 Q3229.88 2939.3 3229.88 2947.45 Z\" fill=\"#000000\" fill-rule=\"evenodd\" fill-opacity=\"1\" /><path clip-path=\"url(#clip040)\" d=\"M3241.95 2918.26 L3247.8 2918.26 L3247.8 2967.78 L3241.95 2967.78 L3241.95 2918.26 Z\" fill=\"#000000\" fill-rule=\"evenodd\" fill-opacity=\"1\" /><path clip-path=\"url(#clip040)\" d=\"M3259.45 2953.72 L3259.45 2932.14 L3265.31 2932.14 L3265.31 2953.49 Q3265.31 2958.55 3267.28 2961.1 Q3269.26 2963.61 3273.2 2963.61 Q3277.95 2963.61 3280.68 2960.59 Q3283.45 2957.57 3283.45 2952.35 L3283.45 2932.14 L3289.31 2932.14 L3289.31 2967.78 L3283.45 2967.78 L3283.45 2962.31 Q3281.32 2965.56 3278.49 2967.15 Q3275.69 2968.71 3271.96 2968.71 Q3265.82 2968.71 3262.64 2964.89 Q3259.45 2961.07 3259.45 2953.72 M3274.19 2931.28 L3274.19 2931.28 Z\" fill=\"#000000\" fill-rule=\"evenodd\" fill-opacity=\"1\" /><path clip-path=\"url(#clip040)\" d=\"M3331.86 2948.5 L3331.86 2951.36 L3304.94 2951.36 Q3305.32 2957.41 3308.56 2960.59 Q3311.84 2963.74 3317.67 2963.74 Q3321.04 2963.74 3324.19 2962.91 Q3327.38 2962.09 3330.49 2960.43 L3330.49 2965.97 Q3327.34 2967.31 3324.03 2968.01 Q3320.72 2968.71 3317.32 2968.71 Q3308.79 2968.71 3303.79 2963.74 Q3298.83 2958.78 3298.83 2950.31 Q3298.83 2941.56 3303.54 2936.43 Q3308.28 2931.28 3316.3 2931.28 Q3323.49 2931.28 3327.66 2935.92 Q3331.86 2940.54 3331.86 2948.5 M3326.01 2946.78 Q3325.94 2941.97 3323.3 2939.11 Q3320.69 2936.24 3316.36 2936.24 Q3311.46 2936.24 3308.5 2939.01 Q3305.57 2941.78 3305.13 2946.81 L3326.01 2946.78 Z\" fill=\"#000000\" fill-rule=\"evenodd\" fill-opacity=\"1\" /><polyline clip-path=\"url(#clip047)\" style=\"stroke:#000000; stroke-linecap:butt; stroke-linejoin:round; stroke-width:2; stroke-opacity:0.1; fill:none\" points=\"\n",
       "  2275.56,2780.08 3952.76,2780.08 \n",
       "  \"/>\n",
       "<polyline clip-path=\"url(#clip047)\" style=\"stroke:#000000; stroke-linecap:butt; stroke-linejoin:round; stroke-width:2; stroke-opacity:0.1; fill:none\" points=\"\n",
       "  2275.56,2652.84 3952.76,2652.84 \n",
       "  \"/>\n",
       "<polyline clip-path=\"url(#clip047)\" style=\"stroke:#000000; stroke-linecap:butt; stroke-linejoin:round; stroke-width:2; stroke-opacity:0.1; fill:none\" points=\"\n",
       "  2275.56,2525.61 3952.76,2525.61 \n",
       "  \"/>\n",
       "<polyline clip-path=\"url(#clip047)\" style=\"stroke:#000000; stroke-linecap:butt; stroke-linejoin:round; stroke-width:2; stroke-opacity:0.1; fill:none\" points=\"\n",
       "  2275.56,2398.37 3952.76,2398.37 \n",
       "  \"/>\n",
       "<polyline clip-path=\"url(#clip047)\" style=\"stroke:#000000; stroke-linecap:butt; stroke-linejoin:round; stroke-width:2; stroke-opacity:0.1; fill:none\" points=\"\n",
       "  2275.56,2271.13 3952.76,2271.13 \n",
       "  \"/>\n",
       "<polyline clip-path=\"url(#clip047)\" style=\"stroke:#000000; stroke-linecap:butt; stroke-linejoin:round; stroke-width:2; stroke-opacity:0.1; fill:none\" points=\"\n",
       "  2275.56,2143.9 3952.76,2143.9 \n",
       "  \"/>\n",
       "<polyline clip-path=\"url(#clip040)\" style=\"stroke:#000000; stroke-linecap:butt; stroke-linejoin:round; stroke-width:4; stroke-opacity:1; fill:none\" points=\"\n",
       "  2275.56,2798.92 2275.56,2131.03 \n",
       "  \"/>\n",
       "<polyline clip-path=\"url(#clip040)\" style=\"stroke:#000000; stroke-linecap:butt; stroke-linejoin:round; stroke-width:4; stroke-opacity:1; fill:none\" points=\"\n",
       "  2275.56,2780.08 2294.45,2780.08 \n",
       "  \"/>\n",
       "<polyline clip-path=\"url(#clip040)\" style=\"stroke:#000000; stroke-linecap:butt; stroke-linejoin:round; stroke-width:4; stroke-opacity:1; fill:none\" points=\"\n",
       "  2275.56,2652.84 2294.45,2652.84 \n",
       "  \"/>\n",
       "<polyline clip-path=\"url(#clip040)\" style=\"stroke:#000000; stroke-linecap:butt; stroke-linejoin:round; stroke-width:4; stroke-opacity:1; fill:none\" points=\"\n",
       "  2275.56,2525.61 2294.45,2525.61 \n",
       "  \"/>\n",
       "<polyline clip-path=\"url(#clip040)\" style=\"stroke:#000000; stroke-linecap:butt; stroke-linejoin:round; stroke-width:4; stroke-opacity:1; fill:none\" points=\"\n",
       "  2275.56,2398.37 2294.45,2398.37 \n",
       "  \"/>\n",
       "<polyline clip-path=\"url(#clip040)\" style=\"stroke:#000000; stroke-linecap:butt; stroke-linejoin:round; stroke-width:4; stroke-opacity:1; fill:none\" points=\"\n",
       "  2275.56,2271.13 2294.45,2271.13 \n",
       "  \"/>\n",
       "<polyline clip-path=\"url(#clip040)\" style=\"stroke:#000000; stroke-linecap:butt; stroke-linejoin:round; stroke-width:4; stroke-opacity:1; fill:none\" points=\"\n",
       "  2275.56,2143.9 2294.45,2143.9 \n",
       "  \"/>\n",
       "<path clip-path=\"url(#clip040)\" d=\"M2203.61 2765.88 Q2200 2765.88 2198.17 2769.44 Q2196.37 2772.99 2196.37 2780.12 Q2196.37 2787.22 2198.17 2790.79 Q2200 2794.33 2203.61 2794.33 Q2207.25 2794.33 2209.05 2790.79 Q2210.88 2787.22 2210.88 2780.12 Q2210.88 2772.99 2209.05 2769.44 Q2207.25 2765.88 2203.61 2765.88 M2203.61 2762.18 Q2209.42 2762.18 2212.48 2766.78 Q2215.56 2771.37 2215.56 2780.12 Q2215.56 2788.84 2212.48 2793.45 Q2209.42 2798.03 2203.61 2798.03 Q2197.8 2798.03 2194.72 2793.45 Q2191.67 2788.84 2191.67 2780.12 Q2191.67 2771.37 2194.72 2766.78 Q2197.8 2762.18 2203.61 2762.18 Z\" fill=\"#000000\" fill-rule=\"evenodd\" fill-opacity=\"1\" /><path clip-path=\"url(#clip040)\" d=\"M2195.65 2666.19 L2203.29 2666.19 L2203.29 2639.82 L2194.98 2641.49 L2194.98 2637.23 L2203.24 2635.56 L2207.92 2635.56 L2207.92 2666.19 L2215.56 2666.19 L2215.56 2670.12 L2195.65 2670.12 L2195.65 2666.19 Z\" fill=\"#000000\" fill-rule=\"evenodd\" fill-opacity=\"1\" /><path clip-path=\"url(#clip040)\" d=\"M2199.24 2538.95 L2215.56 2538.95 L2215.56 2542.89 L2193.61 2542.89 L2193.61 2538.95 Q2196.27 2536.2 2200.86 2531.57 Q2205.46 2526.92 2206.64 2525.57 Q2208.89 2523.05 2209.77 2521.31 Q2210.67 2519.55 2210.67 2517.86 Q2210.67 2515.11 2208.73 2513.37 Q2206.81 2511.64 2203.7 2511.64 Q2201.51 2511.64 2199.05 2512.4 Q2196.62 2513.17 2193.84 2514.72 L2193.84 2509.99 Q2196.67 2508.86 2199.12 2508.28 Q2201.57 2507.7 2203.61 2507.7 Q2208.98 2507.7 2212.18 2510.39 Q2215.37 2513.07 2215.37 2517.56 Q2215.37 2519.69 2214.56 2521.61 Q2213.77 2523.51 2211.67 2526.11 Q2211.09 2526.78 2207.99 2529.99 Q2204.88 2533.19 2199.24 2538.95 Z\" fill=\"#000000\" fill-rule=\"evenodd\" fill-opacity=\"1\" /><path clip-path=\"url(#clip040)\" d=\"M2208.43 2397.02 Q2211.78 2397.73 2213.66 2400 Q2215.56 2402.27 2215.56 2405.6 Q2215.56 2410.72 2212.04 2413.52 Q2208.52 2416.32 2202.04 2416.32 Q2199.86 2416.32 2197.55 2415.88 Q2195.26 2415.47 2192.8 2414.61 L2192.8 2410.1 Q2194.75 2411.23 2197.06 2411.81 Q2199.38 2412.39 2201.9 2412.39 Q2206.3 2412.39 2208.59 2410.65 Q2210.9 2408.91 2210.9 2405.6 Q2210.9 2402.55 2208.75 2400.84 Q2206.62 2399.1 2202.8 2399.1 L2198.77 2399.1 L2198.77 2395.26 L2202.99 2395.26 Q2206.44 2395.26 2208.26 2393.89 Q2210.09 2392.5 2210.09 2389.91 Q2210.09 2387.25 2208.2 2385.84 Q2206.32 2384.4 2202.8 2384.4 Q2200.88 2384.4 2198.68 2384.82 Q2196.48 2385.23 2193.84 2386.11 L2193.84 2381.95 Q2196.51 2381.21 2198.82 2380.84 Q2201.16 2380.47 2203.22 2380.47 Q2208.54 2380.47 2211.64 2382.9 Q2214.75 2385.3 2214.75 2389.42 Q2214.75 2392.29 2213.1 2394.29 Q2211.46 2396.25 2208.43 2397.02 Z\" fill=\"#000000\" fill-rule=\"evenodd\" fill-opacity=\"1\" /><path clip-path=\"url(#clip040)\" d=\"M2205.97 2257.93 L2194.17 2276.38 L2205.97 2276.38 L2205.97 2257.93 M2204.75 2253.85 L2210.63 2253.85 L2210.63 2276.38 L2215.56 2276.38 L2215.56 2280.27 L2210.63 2280.27 L2210.63 2288.41 L2205.97 2288.41 L2205.97 2280.27 L2190.37 2280.27 L2190.37 2275.75 L2204.75 2253.85 Z\" fill=\"#000000\" fill-rule=\"evenodd\" fill-opacity=\"1\" /><path clip-path=\"url(#clip040)\" d=\"M2194.65 2126.62 L2213.01 2126.62 L2213.01 2130.55 L2198.94 2130.55 L2198.94 2139.02 Q2199.95 2138.68 2200.97 2138.52 Q2201.99 2138.33 2203.01 2138.33 Q2208.8 2138.33 2212.18 2141.5 Q2215.56 2144.67 2215.56 2150.09 Q2215.56 2155.67 2212.08 2158.77 Q2208.61 2161.85 2202.29 2161.85 Q2200.12 2161.85 2197.85 2161.48 Q2195.6 2161.11 2193.2 2160.37 L2193.2 2155.67 Q2195.28 2156.8 2197.5 2157.36 Q2199.72 2157.91 2202.2 2157.91 Q2206.2 2157.91 2208.54 2155.81 Q2210.88 2153.7 2210.88 2150.09 Q2210.88 2146.48 2208.54 2144.37 Q2206.2 2142.27 2202.2 2142.27 Q2200.32 2142.27 2198.45 2142.68 Q2196.6 2143.1 2194.65 2143.98 L2194.65 2126.62 Z\" fill=\"#000000\" fill-rule=\"evenodd\" fill-opacity=\"1\" /><path clip-path=\"url(#clip040)\" d=\"M2073.88 2578.29 L2110.83 2578.29 L2110.83 2570.52 Q2110.83 2560.68 2106.38 2556.13 Q2101.92 2551.55 2092.31 2551.55 Q2082.76 2551.55 2078.33 2556.13 Q2073.88 2560.68 2073.88 2570.52 L2073.88 2578.29 M2068.6 2584.71 L2068.6 2571.51 Q2068.6 2557.69 2074.36 2551.23 Q2080.09 2544.77 2092.31 2544.77 Q2104.59 2544.77 2110.35 2551.26 Q2116.12 2557.76 2116.12 2571.51 L2116.12 2584.71 L2068.6 2584.71 Z\" fill=\"#000000\" fill-rule=\"evenodd\" fill-opacity=\"1\" /><path clip-path=\"url(#clip040)\" d=\"M2096.83 2504.28 L2099.69 2504.28 L2099.69 2531.21 Q2105.74 2530.83 2108.92 2527.58 Q2112.07 2524.3 2112.07 2518.48 Q2112.07 2515.11 2111.25 2511.95 Q2110.42 2508.77 2108.76 2505.65 L2114.3 2505.65 Q2115.64 2508.8 2116.34 2512.11 Q2117.04 2515.42 2117.04 2518.83 Q2117.04 2527.36 2112.07 2532.36 Q2107.11 2537.32 2098.64 2537.32 Q2089.89 2537.32 2084.76 2532.61 Q2079.61 2527.87 2079.61 2519.85 Q2079.61 2512.66 2084.25 2508.49 Q2088.87 2504.28 2096.83 2504.28 M2095.11 2510.14 Q2090.3 2510.2 2087.44 2512.85 Q2084.57 2515.46 2084.57 2519.78 Q2084.57 2524.69 2087.34 2527.65 Q2090.11 2530.57 2095.14 2531.02 L2095.11 2510.14 Z\" fill=\"#000000\" fill-rule=\"evenodd\" fill-opacity=\"1\" /><path clip-path=\"url(#clip040)\" d=\"M2094.6 2465.04 L2116.12 2465.04 L2116.12 2470.9 L2094.79 2470.9 Q2089.73 2470.9 2087.21 2472.87 Q2084.7 2474.84 2084.7 2478.79 Q2084.7 2483.53 2087.72 2486.27 Q2090.75 2489.01 2095.97 2489.01 L2116.12 2489.01 L2116.12 2494.89 L2080.47 2494.89 L2080.47 2489.01 L2086.01 2489.01 Q2082.79 2486.91 2081.2 2484.07 Q2079.61 2481.21 2079.61 2477.48 Q2079.61 2471.34 2083.43 2468.19 Q2087.21 2465.04 2094.6 2465.04 Z\" fill=\"#000000\" fill-rule=\"evenodd\" fill-opacity=\"1\" /><path clip-path=\"url(#clip040)\" d=\"M2081.52 2430.63 L2087.06 2430.63 Q2085.78 2433.12 2085.15 2435.79 Q2084.51 2438.46 2084.51 2441.33 Q2084.51 2445.69 2085.85 2447.88 Q2087.18 2450.05 2089.86 2450.05 Q2091.89 2450.05 2093.07 2448.49 Q2094.22 2446.93 2095.27 2442.22 L2095.71 2440.21 Q2097.05 2433.97 2099.5 2431.37 Q2101.92 2428.72 2106.28 2428.72 Q2111.25 2428.72 2114.14 2432.67 Q2117.04 2436.58 2117.04 2443.46 Q2117.04 2446.32 2116.47 2449.44 Q2115.92 2452.53 2114.81 2455.97 L2108.76 2455.97 Q2110.45 2452.72 2111.31 2449.57 Q2112.14 2446.42 2112.14 2443.33 Q2112.14 2439.19 2110.74 2436.97 Q2109.3 2434.74 2106.73 2434.74 Q2104.34 2434.74 2103.07 2436.36 Q2101.79 2437.95 2100.61 2443.4 L2100.14 2445.43 Q2098.99 2450.88 2096.64 2453.29 Q2094.25 2455.71 2090.11 2455.71 Q2085.08 2455.71 2082.34 2452.15 Q2079.61 2448.58 2079.61 2442.03 Q2079.61 2438.78 2080.09 2435.92 Q2080.56 2433.05 2081.52 2430.63 Z\" fill=\"#000000\" fill-rule=\"evenodd\" fill-opacity=\"1\" /><path clip-path=\"url(#clip040)\" d=\"M2080.47 2419.4 L2080.47 2413.54 L2116.12 2413.54 L2116.12 2419.4 L2080.47 2419.4 M2066.59 2419.4 L2066.59 2413.54 L2074.01 2413.54 L2074.01 2419.4 L2066.59 2419.4 Z\" fill=\"#000000\" fill-rule=\"evenodd\" fill-opacity=\"1\" /><path clip-path=\"url(#clip040)\" d=\"M2070.35 2395.49 L2080.47 2395.49 L2080.47 2383.43 L2085.02 2383.43 L2085.02 2395.49 L2104.37 2395.49 Q2108.73 2395.49 2109.97 2394.32 Q2111.21 2393.11 2111.21 2389.45 L2111.21 2383.43 L2116.12 2383.43 L2116.12 2389.45 Q2116.12 2396.23 2113.6 2398.8 Q2111.05 2401.38 2104.37 2401.38 L2085.02 2401.38 L2085.02 2405.68 L2080.47 2405.68 L2080.47 2401.38 L2070.35 2401.38 L2070.35 2395.49 Z\" fill=\"#000000\" fill-rule=\"evenodd\" fill-opacity=\"1\" /><path clip-path=\"url(#clip040)\" d=\"M2119.43 2360.9 Q2125.79 2363.38 2127.73 2365.73 Q2129.67 2368.09 2129.67 2372.04 L2129.67 2376.72 L2124.77 2376.72 L2124.77 2373.28 Q2124.77 2370.86 2123.63 2369.52 Q2122.48 2368.19 2118.22 2366.56 L2115.54 2365.51 L2080.47 2379.93 L2080.47 2373.72 L2108.35 2362.58 L2080.47 2351.44 L2080.47 2345.24 L2119.43 2360.9 Z\" fill=\"#000000\" fill-rule=\"evenodd\" fill-opacity=\"1\" /><path clip-path=\"url(#clip040)\" d=\"M3113.02 2028.54 L3113.02 2035.59 Q3109.86 2033.97 3106.46 2033.16 Q3103.06 2032.35 3099.41 2032.35 Q3093.86 2032.35 3091.07 2034.05 Q3088.31 2035.75 3088.31 2039.16 Q3088.31 2041.75 3090.3 2043.25 Q3092.28 2044.71 3098.28 2046.04 L3100.83 2046.61 Q3108.77 2048.31 3112.09 2051.43 Q3115.45 2054.51 3115.45 2060.06 Q3115.45 2066.38 3110.43 2070.06 Q3105.45 2073.75 3096.7 2073.75 Q3093.05 2073.75 3089.08 2073.02 Q3085.15 2072.33 3080.78 2070.92 L3080.78 2063.22 Q3084.91 2065.37 3088.92 2066.46 Q3092.93 2067.51 3096.86 2067.51 Q3102.12 2067.51 3104.96 2065.73 Q3107.8 2063.91 3107.8 2060.63 Q3107.8 2057.59 3105.73 2055.97 Q3103.7 2054.35 3096.78 2052.85 L3094.19 2052.24 Q3087.26 2050.78 3084.18 2047.78 Q3081.1 2044.75 3081.1 2039.48 Q3081.1 2033.08 3085.64 2029.6 Q3090.17 2026.11 3098.52 2026.11 Q3102.65 2026.11 3106.3 2026.72 Q3109.94 2027.33 3113.02 2028.54 Z\" fill=\"#000000\" fill-rule=\"evenodd\" fill-opacity=\"1\" /><path clip-path=\"url(#clip040)\" d=\"M3130.36 2040.9 L3147.54 2040.9 L3147.54 2045.52 L3123.31 2045.52 L3123.31 2041.06 Q3124.69 2039.8 3127.24 2037.54 Q3141.18 2025.18 3141.18 2021.37 Q3141.18 2018.7 3139.07 2017.08 Q3136.96 2015.42 3133.52 2015.42 Q3131.41 2015.42 3128.94 2016.15 Q3126.47 2016.84 3123.55 2018.25 L3123.55 2013.27 Q3126.67 2012.14 3129.35 2011.57 Q3132.06 2011 3134.37 2011 Q3140.24 2011 3143.77 2013.68 Q3147.29 2016.35 3147.29 2020.72 Q3147.29 2026.36 3133.88 2037.86 Q3131.62 2039.8 3130.36 2040.9 Z\" fill=\"#000000\" fill-rule=\"evenodd\" fill-opacity=\"1\" /><polyline clip-path=\"url(#clip047)\" style=\"stroke:#009af9; stroke-linecap:butt; stroke-linejoin:round; stroke-width:4; stroke-opacity:1; fill:none\" points=\"\n",
       "  2411.9,2755.04 2419.83,2750.97 2427.75,2746.8 2435.68,2742.52 2443.61,2738.09 2451.54,2733.41 2459.47,2728.33 2467.4,2722.68 2475.32,2716.32 2483.25,2709.1 \n",
       "  2491.18,2700.95 2499.11,2691.87 2507.04,2681.93 2514.96,2671.27 2522.89,2660.08 2530.82,2648.55 2538.75,2636.9 2546.68,2625.25 2554.61,2613.69 2562.53,2602.18 \n",
       "  2570.46,2590.59 2578.39,2578.74 2586.32,2566.36 2594.25,2553.2 2602.17,2539.04 2610.1,2523.76 2618.03,2507.36 2625.96,2489.96 2633.89,2471.77 2641.82,2453.07 \n",
       "  2649.74,2434.15 2657.67,2415.24 2665.6,2396.52 2673.53,2378.08 2681.46,2359.94 2689.38,2342.12 2697.31,2324.68 2705.24,2307.73 2713.17,2291.49 2721.1,2276.22 \n",
       "  2729.03,2262.22 2736.95,2249.75 2744.88,2238.98 2752.81,2229.95 2760.74,2222.54 2768.67,2216.52 2776.59,2211.5 2784.52,2207.06 2792.45,2202.79 2800.38,2198.34 \n",
       "  2808.31,2193.45 2816.24,2188.05 2824.16,2182.21 2832.09,2176.15 2840.02,2170.21 2847.95,2164.77 2855.88,2160.21 2863.8,2156.83 2871.73,2154.84 2879.66,2154.29 \n",
       "  2887.59,2155.14 2895.52,2157.25 2903.45,2160.47 2911.37,2164.61 2919.3,2169.55 2927.23,2175.21 2935.16,2181.54 2943.09,2188.53 2951.01,2196.2 2958.94,2204.54 \n",
       "  2966.87,2213.56 2974.8,2223.26 2982.73,2233.62 2990.66,2244.65 2998.58,2256.35 3006.51,2268.7 3014.44,2281.69 3022.37,2295.27 3030.3,2309.37 3038.22,2323.89 \n",
       "  3046.15,2338.69 3054.08,2353.64 3062.01,2368.6 3069.94,2383.41 3077.87,2397.96 3085.79,2412.14 3093.72,2425.87 3101.65,2439.13 3109.58,2451.9 3117.51,2464.25 \n",
       "  3125.43,2476.28 3133.36,2488.09 3141.29,2499.84 3149.22,2511.65 3157.15,2523.61 3165.08,2535.77 3173,2548.13 3180.93,2560.62 3188.86,2573.1 3196.79,2585.39 \n",
       "  3204.72,2597.28 3212.64,2608.54 3220.57,2618.97 3228.5,2628.41 3236.43,2636.76 3244.36,2644 3252.29,2650.22 3260.21,2655.58 3268.14,2660.29 3276.07,2664.61 \n",
       "  3284,2668.76 3291.93,2672.96 3299.85,2677.31 3307.78,2681.86 3315.71,2686.56 3323.64,2691.31 3331.57,2695.95 3339.5,2700.32 3347.42,2704.29 3355.35,2707.77 \n",
       "  3363.28,2710.72 3371.21,2713.19 3379.14,2715.25 3387.06,2717.04 3394.99,2718.71 3402.92,2720.4 3410.85,2722.22 3418.78,2724.25 3426.71,2726.52 3434.63,2729.02 \n",
       "  3442.56,2731.7 3450.49,2734.48 3458.42,2737.31 3466.35,2740.09 3474.27,2742.78 3482.2,2745.33 3490.13,2747.73 3498.06,2749.97 3505.99,2752.09 3513.92,2754.1 \n",
       "  3521.84,2756.02 3529.77,2757.89 3537.7,2759.69 3545.63,2761.43 3553.56,2763.09 3561.48,2764.63 3569.41,2766.04 3577.34,2767.29 3585.27,2768.39 3593.2,2769.33 \n",
       "  3601.13,2770.12 3609.05,2770.79 3616.98,2771.38 3624.91,2771.91 3632.84,2772.42 3640.77,2772.94 3648.69,2773.49 3656.62,2774.08 \n",
       "  \"/>\n",
       "<polyline clip-path=\"url(#clip047)\" style=\"stroke:#e26f46; stroke-linecap:butt; stroke-linejoin:round; stroke-width:4; stroke-opacity:1; fill:none\" points=\"\n",
       "  2348.48,2774.69 2358.04,2773.86 2367.59,2772.97 2377.14,2771.96 2386.69,2770.75 2396.24,2769.24 2405.79,2767.32 2415.34,2764.88 2424.89,2761.81 2434.44,2757.98 \n",
       "  2443.99,2753.28 2453.54,2747.56 2463.1,2740.65 2472.65,2732.42 2482.2,2722.74 2491.75,2711.53 2501.3,2698.82 2510.85,2684.75 2520.4,2669.59 2529.95,2653.74 \n",
       "  2539.5,2637.63 2549.05,2621.69 2558.61,2606.25 2568.16,2591.48 2577.71,2577.34 2587.26,2563.6 2596.81,2549.87 2606.36,2535.68 2615.91,2520.6 2625.46,2504.34 \n",
       "  2635.01,2486.79 2644.56,2468.06 2654.11,2448.47 2663.67,2428.48 2673.22,2408.6 2682.77,2389.29 2692.32,2370.91 2701.87,2353.66 2711.42,2337.62 2720.97,2322.77 \n",
       "  2730.52,2309.03 2740.07,2296.31 2749.62,2284.55 2759.18,2273.77 2768.73,2264.01 2778.28,2255.39 2787.83,2248.02 2797.38,2242 2806.93,2237.34 2816.48,2233.92 \n",
       "  2826.03,2231.44 2835.58,2229.45 2845.13,2227.39 2854.68,2224.71 2864.24,2221 2873.79,2216.06 2883.34,2210.02 2892.89,2203.32 2902.44,2196.68 2911.99,2190.93 \n",
       "  2921.54,2186.96 2931.09,2185.5 2940.64,2187.08 2950.19,2191.95 2959.74,2200.04 2969.3,2211.03 2978.85,2224.36 2988.4,2239.31 2997.95,2255.12 3007.5,2271.05 \n",
       "  3017.05,2286.51 3026.6,2301.08 3036.15,2314.59 3045.7,2327.07 3055.25,2338.73 3064.81,2349.89 3074.36,2360.88 3083.91,2372.03 3093.46,2383.58 3103.01,2395.68 \n",
       "  3112.56,2408.4 3122.11,2421.7 3131.66,2435.51 3141.21,2449.7 3150.76,2464.11 3160.31,2478.62 3169.87,2493.1 3179.42,2507.45 3188.97,2521.6 3198.52,2535.44 \n",
       "  3208.07,2548.88 3217.62,2561.82 3227.17,2574.14 3236.72,2585.77 3246.27,2596.68 3255.82,2606.94 3265.37,2616.64 3274.93,2625.92 3284.48,2634.94 3294.03,2643.8 \n",
       "  3303.58,2652.56 3313.13,2661.22 3322.68,2669.7 3332.23,2677.86 3341.78,2685.52 3351.33,2692.51 3360.88,2698.66 3370.44,2703.87 3379.99,2708.13 3389.54,2711.54 \n",
       "  3399.09,2714.29 3408.64,2716.65 3418.19,2718.92 3427.74,2721.38 3437.29,2724.2 3446.84,2727.44 3456.39,2731.03 3465.94,2734.81 3475.5,2738.54 3485.05,2741.99 \n",
       "  3494.6,2744.98 3504.15,2747.45 3513.7,2749.4 3523.25,2750.96 3532.8,2752.28 3542.35,2753.53 3551.9,2754.85 3561.45,2756.33 3571.01,2758 3580.56,2759.81 \n",
       "  3590.11,2761.71 3599.66,2763.61 3609.21,2765.45 3618.76,2767.19 3628.31,2768.81 3637.86,2770.31 3647.41,2771.72 3656.96,2773.04 3666.51,2774.26 3676.07,2775.39 \n",
       "  3685.62,2776.4 3695.17,2777.29 3704.72,2778.03 3714.27,2778.63 3723.82,2779.09 3733.37,2779.43 3742.92,2779.67 3752.47,2779.83 3762.02,2779.93 3771.57,2779.99 \n",
       "  3781.13,2780.02 3790.68,2780.02 3800.23,2780 3809.78,2779.95 3819.33,2779.88 3828.88,2779.77 3838.43,2779.63 3847.98,2779.46 3857.53,2779.27 3867.08,2779.06 \n",
       "  3876.64,2778.87 3886.19,2778.71 3895.74,2778.6 3905.29,2778.56 \n",
       "  \"/>\n",
       "<polyline clip-path=\"url(#clip047)\" style=\"stroke:#3da44d; stroke-linecap:butt; stroke-linejoin:round; stroke-width:4; stroke-opacity:1; fill:none\" points=\"\n",
       "  2323.02,2772.37 2331.96,2770.94 2340.9,2769.59 2349.83,2768.41 2358.77,2767.48 2367.7,2766.88 2376.64,2766.61 2385.58,2766.62 2394.51,2766.81 2403.45,2767.01 \n",
       "  2412.38,2767.01 2421.32,2766.62 2430.26,2765.64 2439.19,2763.93 2448.13,2761.37 2457.07,2757.91 2466,2753.48 2474.94,2748.07 2483.87,2741.64 2492.81,2734.17 \n",
       "  2501.75,2725.64 2510.68,2716.05 2519.62,2705.34 2528.55,2693.49 2537.49,2680.41 2546.43,2665.98 2555.36,2650.07 2564.3,2632.55 2573.23,2613.39 2582.17,2592.66 \n",
       "  2591.11,2570.61 2600.04,2547.65 2608.98,2524.27 2617.91,2501.02 2626.85,2478.34 2635.79,2456.52 2644.72,2435.69 2653.66,2415.75 2662.6,2396.52 2671.53,2377.75 \n",
       "  2680.47,2359.24 2689.4,2340.88 2698.34,2322.67 2707.28,2304.66 2716.21,2287 2725.15,2269.9 2734.08,2253.59 2743.02,2238.39 2751.96,2224.69 2760.89,2212.88 \n",
       "  2769.83,2203.34 2778.76,2196.3 2787.7,2191.79 2796.64,2189.53 2805.57,2188.99 2814.51,2189.35 2823.44,2189.72 2832.38,2189.2 2841.32,2187.14 2850.25,2183.21 \n",
       "  2859.19,2177.53 2868.13,2170.65 2877.06,2163.46 2886,2156.99 2894.93,2152.22 2903.87,2149.93 2912.81,2150.52 2921.74,2154 2930.68,2160.05 2939.61,2168.13 \n",
       "  2948.55,2177.58 2957.49,2187.79 2966.42,2198.28 2975.36,2208.78 2984.29,2219.28 2993.23,2229.98 3002.17,2241.27 3011.1,2253.64 3020.04,2267.46 3028.97,2282.96 \n",
       "  3037.91,2300.03 3046.85,2318.28 3055.78,2337.07 3064.72,2355.67 3073.66,2373.42 3082.59,2389.86 3091.53,2404.87 3100.46,2418.61 3109.4,2431.46 3118.34,2443.91 \n",
       "  3127.27,2456.44 3136.21,2469.36 3145.14,2482.83 3154.08,2496.78 3163.02,2511.02 3171.95,2525.26 3180.89,2539.19 3189.82,2552.56 3198.76,2565.23 3207.7,2577.18 \n",
       "  3216.63,2588.49 3225.57,2599.35 3234.5,2609.98 3243.44,2620.57 3252.38,2631.23 3261.31,2641.97 3270.25,2652.67 3279.19,2663.14 3288.12,2673.14 3297.06,2682.44 \n",
       "  3305.99,2690.86 3314.93,2698.29 3323.87,2704.69 3332.8,2710.05 3341.74,2714.42 3350.67,2717.86 3359.61,2720.53 3368.55,2722.62 3377.48,2724.39 3386.42,2726.16 \n",
       "  3395.35,2728.19 3404.29,2730.73 3413.23,2733.86 3422.16,2737.56 3431.1,2741.68 3440.03,2745.95 3448.97,2750.1 3457.91,2753.85 3466.84,2756.99 3475.78,2759.41 \n",
       "  3484.72,2761.1 3493.65,2762.14 3502.59,2762.66 3511.52,2762.85 3520.46,2762.89 3529.4,2762.93 3538.33,2763.12 3547.27,2763.51 3556.2,2764.15 3565.14,2765.01 \n",
       "  3574.08,2766.06 3583.01,2767.23 3591.95,2768.47 3600.88,2769.72 3609.82,2770.94 3618.76,2772.09 3627.69,2773.14 3636.63,2774.08 3645.56,2774.88 3654.5,2775.53 \n",
       "  3663.44,2776.03 3672.37,2776.38 3681.31,2776.59 3690.25,2776.69 3699.18,2776.71 3708.12,2776.68 3717.05,2776.63 3725.99,2776.57 3734.93,2776.54 3743.86,2776.55 \n",
       "  3752.8,2776.62 3761.73,2776.75 3770.67,2776.95 3779.61,2777.22 \n",
       "  \"/>\n",
       "<polyline clip-path=\"url(#clip047)\" style=\"stroke:#c271d2; stroke-linecap:butt; stroke-linejoin:round; stroke-width:4; stroke-opacity:1; fill:none\" points=\"\n",
       "  2381.75,2773.31 2390.6,2771.67 2399.44,2769.65 2408.29,2767.16 2417.13,2764.11 2425.98,2760.42 2434.82,2756.02 2443.67,2750.88 2452.51,2745.01 2461.36,2738.44 \n",
       "  2470.21,2731.21 2479.05,2723.37 2487.9,2714.92 2496.74,2705.85 2505.59,2696.11 2514.43,2685.65 2523.28,2674.4 2532.12,2662.32 2540.97,2649.39 2549.81,2635.66 \n",
       "  2558.66,2621.17 2567.5,2605.97 2576.35,2590.12 2585.19,2573.62 2594.04,2556.45 2602.89,2538.56 2611.73,2519.89 2620.58,2500.41 2629.42,2480.17 2638.27,2459.28 \n",
       "  2647.11,2438 2655.96,2416.7 2664.8,2395.79 2673.65,2375.74 2682.49,2356.96 2691.34,2339.74 2700.18,2324.22 2709.03,2310.39 2717.88,2298.07 2726.72,2286.96 \n",
       "  2735.57,2276.75 2744.41,2267.13 2753.26,2257.84 2762.1,2248.77 2770.95,2239.91 2779.79,2231.36 2788.64,2223.35 2797.48,2216.16 2806.33,2210.08 2815.17,2205.45 \n",
       "  2824.02,2202.53 2832.87,2201.51 2841.71,2202.47 2850.56,2205.35 2859.4,2209.89 2868.25,2215.68 2877.09,2222.14 2885.94,2228.59 2894.78,2234.38 2903.63,2238.94 \n",
       "  2912.47,2241.94 2921.32,2243.31 2930.16,2243.32 2939.01,2242.48 2947.85,2241.48 2956.7,2241.06 2965.55,2241.87 2974.39,2244.36 2983.24,2248.75 2992.08,2255.01 \n",
       "  3000.93,2262.91 3009.77,2272.13 3018.62,2282.32 3027.46,2293.24 3036.31,2304.75 3045.15,2316.82 3054,2329.55 3062.84,2343.05 3071.69,2357.39 3080.54,2372.58 \n",
       "  3089.38,2388.48 3098.23,2404.83 3107.07,2421.27 3115.92,2437.37 3124.76,2452.74 3133.61,2467.06 3142.45,2480.13 3151.3,2491.89 3160.14,2502.43 3168.99,2511.96 \n",
       "  3177.83,2520.76 3186.68,2529.18 3195.53,2537.5 3204.37,2545.98 3213.22,2554.75 3222.06,2563.86 3230.91,2573.24 3239.75,2582.76 3248.6,2592.27 3257.44,2601.64 \n",
       "  3266.29,2610.78 3275.13,2619.63 3283.98,2628.19 3292.82,2636.48 3301.67,2644.48 3310.51,2652.18 3319.36,2659.53 3328.21,2666.44 3337.05,2672.85 3345.9,2678.69 \n",
       "  3354.74,2683.92 3363.59,2688.53 3372.43,2692.56 3381.28,2696.08 3390.12,2699.21 3398.97,2702.08 3407.81,2704.89 3416.66,2707.8 3425.5,2710.99 3434.35,2714.59 \n",
       "  3443.2,2718.65 3452.04,2723.16 3460.89,2728.02 3469.73,2733.09 3478.58,2738.16 3487.42,2743.04 3496.27,2747.58 3505.11,2751.66 3513.96,2755.21 3522.8,2758.24 \n",
       "  3531.65,2760.78 3540.49,2762.89 3549.34,2764.66 3558.19,2766.15 3567.03,2767.43 3575.88,2768.54 3584.72,2769.51 3593.57,2770.39 3602.41,2771.18 3611.26,2771.93 \n",
       "  3620.1,2772.66 3628.95,2773.39 3637.79,2774.13 3646.64,2774.89 3655.48,2775.66 3664.33,2776.4 3673.18,2777.1 3682.02,2777.71 3690.87,2778.21 3699.71,2778.58 \n",
       "  3708.56,2778.81 3717.4,2778.89 3726.25,2778.84 3735.09,2778.66 3743.94,2778.4 3752.78,2778.08 3761.63,2777.75 3770.47,2777.44 3779.32,2777.2 3788.16,2777.06 \n",
       "  \n",
       "  \"/>\n",
       "</svg>\n"
      ]
     },
     "execution_count": 3,
     "metadata": {},
     "output_type": "execute_result"
    }
   ],
   "source": [
    "# Plot our chain\n",
    "plot(chain)"
   ]
  },
  {
   "cell_type": "markdown",
   "id": "0d493289",
   "metadata": {
    "slideshow": {
     "slide_type": "slide"
    }
   },
   "source": [
    "Or maybe differential equations are more your speed?"
   ]
  },
  {
   "cell_type": "code",
   "execution_count": null,
   "id": "6e270a6d",
   "metadata": {},
   "outputs": [],
   "source": [
    "using DifferentialEquations\n",
    "\n",
    "function lorenz!(du,u,p,t)\n",
    " du[1] = 10.0*(u[2]-u[1])\n",
    " du[2] = u[1]*(28.0-u[3]) - u[2]\n",
    " du[3] = u[1]*u[2] - (8/3)*u[3]\n",
    "end\n",
    "\n",
    "u0 = [1.0;0.0;2.0]\n",
    "tspan = (0.0,100.0)\n",
    "prob = ODEProblem(lorenz!,u0,tspan)\n",
    "sol = solve(prob)\n",
    "\n",
    "plot(sol,vars=(1,2,3))"
   ]
  },
  {
   "cell_type": "markdown",
   "id": "90afc124",
   "metadata": {
    "slideshow": {
     "slide_type": "slide"
    }
   },
   "source": [
    "# Installing Julia\n",
    "\n",
    "- This workshop will be using the current long-term support (LTS) version of Julia, **1.6.5**\n",
    "- Binaries on the website ([julialang.org/downloads/](https://julialang.org/downloads/))\n",
    "    - **WINDOWS**: If you see a check box saying \"Add to path\" or something equivalent, check that. It'll help, I promise.\n",
    "- For the lazy, [jill](https://github.com/abelsiqueira/jill)\n",
    "- Let's take a moment to install Julia!"
   ]
  },
  {
   "cell_type": "markdown",
   "id": "d2252590",
   "metadata": {
    "slideshow": {
     "slide_type": "slide"
    }
   },
   "source": [
    "# How to edit Julia files\n",
    "\n",
    "- Julia code is just text files (most code is!)\n",
    "- You have options for a text editor:\n",
    "    - VS Code (the more contemporary, common one, good support)\n",
    "    - vim (medium nerds)\n",
    "    - emacs (huge nerds with big pinkies)\n",
    "    - Jupyter (more interactive programming)\n",
    "- I will be working in VS Code to make it easy for everyone, but you may choose your own editor if you have one"
   ]
  },
  {
   "cell_type": "markdown",
   "id": "4c598696",
   "metadata": {
    "slideshow": {
     "slide_type": "slide"
    }
   },
   "source": [
    "# Installing VS Code\n",
    "\n",
    "- Download VS Code ([https://code.visualstudio.com/download](https://code.visualstudio.com/download))\n",
    "- Install the Julia extension\n",
    "- Make a folder somewhere on your machine for this workshop!\n",
    "- Open the folder you made in VS Code -- `File > Open Folder` or using the command pallette `Ctrl + Shift + P > Open Folder`"
   ]
  },
  {
   "cell_type": "markdown",
   "id": "655f2e9e",
   "metadata": {
    "slideshow": {
     "slide_type": "slide"
    }
   },
   "source": [
    "# Your first Julia program (maybe)\n",
    "\n",
    "Everyone's first program in a new language is often \"Hello World\".\n",
    "\n",
    "A hello world script is intended to \n",
    "\n",
    "- let you know _real quick_ whether or not your setup is working\n",
    "- to show you the basics of how to make the code you wrote tell your computer what to do"
   ]
  },
  {
   "cell_type": "markdown",
   "id": "a16df79c",
   "metadata": {
    "slideshow": {
     "slide_type": "slide"
    }
   },
   "source": [
    "# Your first Julia program\n",
    "\n",
    "Make a file called `hello-world.jl`. \n",
    "\n",
    "The shortcut for this in VS Code is `Ctrl + N` -- this will open a new buffer, but no filename will be assigned until you save it (using `Ctrl + S`)."
   ]
  },
  {
   "cell_type": "markdown",
   "id": "075e5174",
   "metadata": {
    "slideshow": {
     "slide_type": "slide"
    }
   },
   "source": [
    "# Your first Julia program\n",
    "\n",
    "Type the following in your script:\n",
    "\n",
    "```julia\n",
    "println(\"Hello World!\")\n",
    "```"
   ]
  },
  {
   "cell_type": "markdown",
   "id": "e21e81cc",
   "metadata": {
    "slideshow": {
     "slide_type": "slide"
    }
   },
   "source": [
    "# Running your first Julia program\n",
    "\n",
    "Now we're going to run this. You have several options, depending on whether you are an interactive person or an old-school type (like me).\n",
    "\n",
    "- Interactive way is to move your cursor to a line an hit \n",
    "    - `Ctrl + Enter` to execute the line your cursor is on (or a selection)\n",
    "    - `Shift + Enter` to do the above, but also move down one line.\n",
    "- Old-school way \n",
    "    1. Open a terminal\n",
    "    2. Nagivate to your folder using `cd`\n",
    "    3. Type `julia hello-world.jl`\n",
    "    - Old-school notes\n",
    "        - VS Code has a terminal buffer you can open with `Ctrl + ` (the symbol is the backtick, in the top-left of your keyboard)\n",
    "        - You can use your system terminal if you know how.\n"
   ]
  },
  {
   "cell_type": "markdown",
   "id": "e7e7d2f1",
   "metadata": {
    "slideshow": {
     "slide_type": "slide"
    }
   },
   "source": [
    "# If it went well\n",
    "\n",
    "You should see the words `Hello world!` printed to your display!\n",
    "\n",
    "**CHECK IN!** Please reach out in the chat if anything broke or is not working."
   ]
  },
  {
   "cell_type": "markdown",
   "id": "bb67e251",
   "metadata": {
    "slideshow": {
     "slide_type": "slide"
    }
   },
   "source": [
    "# Going forward\n",
    "\n",
    "You can run your code however you like -- I will be running some code here in a Jupyter notebook.\n",
    "\n",
    "During concept checks, I will make a separate file for each problem to make sure you can see how I work in a live-code environment.\n",
    "\n",
    "Or, you can just dump it all in one file! Go with what works for you."
   ]
  },
  {
   "cell_type": "markdown",
   "id": "ca38ba22",
   "metadata": {
    "slideshow": {
     "slide_type": "slide"
    }
   },
   "source": [
    "# Questions?"
   ]
  },
  {
   "cell_type": "markdown",
   "id": "3384247f",
   "metadata": {
    "slideshow": {
     "slide_type": "slide"
    }
   },
   "source": [
    "# Julia basics\n",
    "\n",
    "Let's get into the language!"
   ]
  },
  {
   "cell_type": "markdown",
   "id": "9d4798b3",
   "metadata": {
    "slideshow": {
     "slide_type": "slide"
    }
   },
   "source": [
    "# Variables\n",
    "\n",
    "The natural place to start is with a __variable__.\n",
    "\n",
    "A variable in Julia is a symbol we bind/assign a value to.\n",
    "\n",
    "```julia\n",
    "# Assign the value of 2 to a variable x\n",
    "x = 2\n",
    "\n",
    "println(x + 2) # Should print out \"4\" to your display\n",
    "\n",
    "# Do some math, then update the value of x\n",
    "x = 5 + 8\n",
    "println(x) # Should display 13\n",
    "\n",
    "# Put a word into y\n",
    "y = \"howdy partner\"\n",
    "```"
   ]
  },
  {
   "cell_type": "code",
   "execution_count": null,
   "id": "c884bc09",
   "metadata": {
    "slideshow": {
     "slide_type": "slide"
    }
   },
   "outputs": [],
   "source": [
    "# More with variables\n",
    "x1 = 15\n",
    "red5 = 91\n",
    "hats = 2\n",
    "mapsie = -1\n",
    "tuba = 9\n",
    "\n",
    "answer = (x1 + red5) ^ hats * (mapsie/tuba)\n",
    "println(answer)"
   ]
  },
  {
   "cell_type": "markdown",
   "id": "a5582466",
   "metadata": {
    "slideshow": {
     "slide_type": "slide"
    }
   },
   "source": [
    "# Variable conventions\n",
    "\n",
    "- We typically use snake case in Julia (`long_variable_name` instead of `longVariableName`)\n",
    "- Variables start with a letter, underscore, or a handful of Unicode characters\n",
    "- `const x = 5` defines a constant variable, more on this later, but helpful if you know what that means."
   ]
  },
  {
   "cell_type": "markdown",
   "id": "a6f3cf41",
   "metadata": {
    "slideshow": {
     "slide_type": "slide"
    }
   },
   "source": [
    "# Concept check!\n",
    "\n",
    "Don't run these yet -- try to run them in your head first. What are the values of `c` and `x4`?\n",
    "\n",
    "## Q1\n",
    "\n",
    "```julia\n",
    "a = 3\n",
    "b = a + 1\n",
    "c = b * a\n",
    "println(c)\n",
    "```\n",
    "\n",
    "## Q2\n",
    "\n",
    "```julia\n",
    "x1 = 6\n",
    "x2 = x1 / 2\n",
    "x4 = x3 + x2\n",
    "println(x4)\n",
    "```"
   ]
  },
  {
   "cell_type": "markdown",
   "id": "47517a02",
   "metadata": {
    "slideshow": {
     "slide_type": "slide"
    }
   },
   "source": [
    "# Primitive types\n",
    "\n",
    "Julia has a handful of **primitive types**. Primitive types are variable types that are core to computing, things like\n",
    "\n",
    "- Booleans (`true/false`)\n",
    "- Integers, `Int` or `UInt` for unsigned (positive integers only)\n",
    "    - Comes in `Int8/Int16/Int32/Int64/Int128` sizes\n",
    "- Floating point (decimals), `Float16/Float32/Float64` for different precision\n",
    "- Arbitrary size constructs (very expensive, probably not needed)\n",
    "    - `BigInt`\n",
    "    - `BigFloat`"
   ]
  },
  {
   "cell_type": "markdown",
   "id": "0a3bb48e",
   "metadata": {
    "slideshow": {
     "slide_type": "slide"
    }
   },
   "source": [
    "# Primitive types\n",
    "\n",
    "- Strings & characters\n",
    "    - Quotes indicate a string (`String`), i.e. `\"hello world\"`\n",
    "    - Apostrophes denote a single character (`Char`), i.e. `'c'`\n",
    "- `Complex` numbers are supported natively, written `1 + 2im`\n",
    "- `Rational` numbers are supported with double slashes, `2 // 3`"
   ]
  },
  {
   "cell_type": "code",
   "execution_count": null,
   "id": "e0d9d3f1",
   "metadata": {
    "slideshow": {
     "slide_type": "slide"
    }
   },
   "outputs": [],
   "source": [
    "typeof(5)"
   ]
  },
  {
   "cell_type": "code",
   "execution_count": null,
   "id": "5eb2c1e7",
   "metadata": {},
   "outputs": [],
   "source": [
    "typeof(5.0)"
   ]
  },
  {
   "cell_type": "code",
   "execution_count": null,
   "id": "3291077c",
   "metadata": {
    "scrolled": true
   },
   "outputs": [],
   "source": [
    "typeof(true)"
   ]
  },
  {
   "cell_type": "code",
   "execution_count": null,
   "id": "e994648f",
   "metadata": {},
   "outputs": [],
   "source": [
    "typeof(\"howdy!\")"
   ]
  },
  {
   "cell_type": "code",
   "execution_count": null,
   "id": "ab9feb93",
   "metadata": {},
   "outputs": [],
   "source": [
    "typeof('h')"
   ]
  },
  {
   "cell_type": "markdown",
   "id": "c745465d",
   "metadata": {
    "slideshow": {
     "slide_type": "slide"
    }
   },
   "source": [
    "# Arithmatic operators\n",
    "\n",
    "All the common operators are supported!\n",
    "\n",
    "![](https://user-images.githubusercontent.com/422990/148709622-4bf18e9c-b8ce-4332-a3ec-f45731f49238.png)"
   ]
  },
  {
   "cell_type": "markdown",
   "id": "ecf75d0b",
   "metadata": {
    "slideshow": {
     "slide_type": "slide"
    }
   },
   "source": [
    "# Concept check!\n",
    "\n",
    "1. Define a variable called `z`. Put any numeric type in here -- float or int.\n",
    "2. Print out the remainder of `z` with the quotients (`2`, `4`, and `8`).\n",
    "3. Tinker around and see what happens when you change the value of `z` and rerun the code."
   ]
  },
  {
   "cell_type": "markdown",
   "id": "23c8a664",
   "metadata": {
    "slideshow": {
     "slide_type": "slide"
    }
   },
   "source": [
    "# Boolean operators\n",
    "\n",
    "Boolean algebra is how we work with `true` and `false` values. Julia supports all the common operators.\n",
    "\n",
    "- `!true` is __negation__\n",
    "- `x && y` means __and__. Returns `true` if `x` and `y` are both `true`, otherwise `false`.\n",
    "- `x || y` means __or__. Returns `true` if `x` or `y` is `true`, otherwise `false`.\n",
    "- All the bitwise operators. I won't cover these but they're [here](https://docs.julialang.org/en/v1/manual/mathematical-operations/#Bitwise-Operators).\n"
   ]
  },
  {
   "cell_type": "markdown",
   "id": "2de0a96b",
   "metadata": {
    "slideshow": {
     "slide_type": "slide"
    }
   },
   "source": [
    "# Comparison operators\n",
    "\n",
    "Comparison operators are how you get a `true` or `false` value out of any kind of comparison.\n",
    "\n",
    "- Equality: `x == y` returns `true` if `x` and `y` have the same value.\n",
    "- Inequality: `x != y` returns `true` if `x` and `y` are __NOT__ the same.\n",
    "- Less than: `x < y` returns `true` if `x` is __LESS__ than `y`.\n",
    "- Greater than: `x > y` returns `true` if `x` is __GREATER__ than `y`.\n",
    "    - Less than or greater than using equality are written `<=` or `>=`."
   ]
  },
  {
   "cell_type": "markdown",
   "id": "82be464f",
   "metadata": {
    "slideshow": {
     "slide_type": "slide"
    }
   },
   "source": [
    "# Concept check!\n",
    "\n",
    "`if` statements are a way of conditionally evaluating code (more on this later). For example, you can write\n",
    "\n",
    "```julia\n",
    "some_number = 16\n",
    "if some_number >= 15\n",
    "    println(\"It's larger than 15\")\n",
    "end\n",
    "```\n",
    "\n",
    "1. Make two variables, `var_a` and `var_b`. Put any numeric types in these variables.\n",
    "2. Print out `\"It's complicated\"` if `var_a` is greater than 1 or `var_b` is not less than 2.\n",
    "3. Try tinkering around with composing nots, ands, ors, and less thans if you complete step 2. You can put parentheses around stuff to enforce order of operations."
   ]
  },
  {
   "cell_type": "markdown",
   "id": "24bd097c",
   "metadata": {
    "slideshow": {
     "slide_type": "slide"
    }
   },
   "source": [
    "# Questions?"
   ]
  },
  {
   "cell_type": "markdown",
   "id": "78b3e06e",
   "metadata": {
    "slideshow": {
     "slide_type": "slide"
    }
   },
   "source": [
    "# Fun with Functions\n",
    "\n",
    "Functions are how we write significantly more complex code. \n",
    "\n",
    "In Julia, functions are a _fantastic_ way to get free speed! Write in functions when you can.\n",
    "\n",
    "A function is a construct accepting some number of inputs that returns some number of outputs -- think of it as copy-pasted code which you only write once. \n",
    "\n",
    "If you find yourself copy-pasting code two or more times, you should probably write a function instead."
   ]
  },
  {
   "cell_type": "markdown",
   "id": "dadd1581",
   "metadata": {
    "slideshow": {
     "slide_type": "slide"
    }
   },
   "source": [
    "The most common function definition is\n",
    "\n",
    "```julia\n",
    "function f(x, y)\n",
    "    x + y\n",
    "end\n",
    "```\n",
    "\n",
    "There is also a shorter way of defining functions:\n",
    "\n",
    "```julia\n",
    "f(x, y) = x + y\n",
    "```"
   ]
  },
  {
   "cell_type": "markdown",
   "id": "ce8e14f9",
   "metadata": {
    "slideshow": {
     "slide_type": "slide"
    }
   },
   "source": [
    "Functions are \"called\", which means that we provide the __inputs__ to the function, Julia will evaluate the function using those inputs, and __return__ whatever it has been asked to return.\n",
    "\n",
    "Let's try this with a simple polynomial function."
   ]
  },
  {
   "cell_type": "code",
   "execution_count": null,
   "id": "b7fd4895",
   "metadata": {
    "scrolled": true,
    "slideshow": {
     "slide_type": "slide"
    }
   },
   "outputs": [],
   "source": [
    "# Creating the function.\n",
    "function poly(x, y)\n",
    "    return 3x^2 + 2y^2 - 1*x*y\n",
    "end"
   ]
  },
  {
   "cell_type": "markdown",
   "id": "c59e8856",
   "metadata": {},
   "source": [
    "Note that we've only _defined_ the function -- it is only a recipe for what to do when the function is _called_ with some inputs `x` and `y`."
   ]
  },
  {
   "cell_type": "markdown",
   "id": "8fdb2c04",
   "metadata": {
    "slideshow": {
     "slide_type": "slide"
    }
   },
   "source": [
    "Calling the function is easy:"
   ]
  },
  {
   "cell_type": "code",
   "execution_count": null,
   "id": "2d41eee4",
   "metadata": {},
   "outputs": [],
   "source": [
    "poly(1, 2.5)"
   ]
  },
  {
   "cell_type": "markdown",
   "id": "32a77392",
   "metadata": {
    "slideshow": {
     "slide_type": "slide"
    }
   },
   "source": [
    "# Concept check!\n",
    "\n",
    "Consider a standard polynomial of degree 4:\n",
    "\n",
    "$$\n",
    "g(x) = \\theta_1 x^3 + \\theta_2 x^2 + \\theta_3 x + \\theta_4\n",
    "$$\n",
    "\n",
    "1. Write the polynomial function `g` that accepts a value $x$, but also the four coefficients $\\theta_1, \\dots, \\theta_4$.\n",
    "2. Write a second function `h` that accepts _only_ a value `x`, but evaluates `g` at the coefficients `4`, `-3`, `2`, and `10`.\n",
    "\n",
    "Recall that function syntax is\n",
    "\n",
    "```julia\n",
    "function f(args...)\n",
    "    ...\n",
    "end\n",
    "\n",
    "# Alternatively:\n",
    "f(args...) = ...\n",
    "```"
   ]
  },
  {
   "cell_type": "markdown",
   "id": "f0b96a86",
   "metadata": {
    "slideshow": {
     "slide_type": "slide"
    }
   },
   "source": [
    "# Type annotations\n",
    "\n",
    "We will talk a LOT about the type system today, but I want to introduce you to the idea that you can restrict your function to certain types of inputs by adding `::TypeName` after an argument:"
   ]
  },
  {
   "cell_type": "code",
   "execution_count": null,
   "id": "f162dfc9",
   "metadata": {
    "slideshow": {
     "slide_type": "-"
    }
   },
   "outputs": [],
   "source": [
    "afun(x::Int) = x + 1\n",
    "afun(x::Float64) = x / 2"
   ]
  },
  {
   "cell_type": "markdown",
   "id": "f00cfccb",
   "metadata": {
    "slideshow": {
     "slide_type": "slide"
    }
   },
   "source": [
    "This is an example of _multiple dispatch_, one of Julia's more wonderful features. See how the return value is different based on the input?"
   ]
  },
  {
   "cell_type": "code",
   "execution_count": null,
   "id": "0684a9e3",
   "metadata": {},
   "outputs": [],
   "source": [
    "afun(1) # This is calling afun with an Int type"
   ]
  },
  {
   "cell_type": "code",
   "execution_count": null,
   "id": "a001c5ab",
   "metadata": {},
   "outputs": [],
   "source": [
    "afun(1.0) # Calling with a `Float64` type"
   ]
  },
  {
   "cell_type": "markdown",
   "id": "d971777a",
   "metadata": {
    "slideshow": {
     "slide_type": "slide"
    }
   },
   "source": [
    "# What is `return`?\n",
    "\n",
    "`return` can be read as\n",
    "\n",
    "> Exit the function immediately! Give whatever called the function the thing to the right of `return`.\n",
    "\n",
    "For example:\n",
    "\n",
    "```julia\n",
    "function aces(x)\n",
    "    if x > 5\n",
    "        # This exits the function immediately!\n",
    "        return x + 5\n",
    "        \n",
    "        # Note that this occurs AFTER the return statement.\n",
    "        # This line will NEVER run.\n",
    "        println(x - 9)\n",
    "    end\n",
    "    \n",
    "    # If x <= 5, this line will run instead.\n",
    "    return x / 5\n",
    "end\n",
    "```"
   ]
  },
  {
   "cell_type": "markdown",
   "id": "bab07d0c",
   "metadata": {
    "slideshow": {
     "slide_type": "slide"
    }
   },
   "source": [
    "# Default return value\n",
    "\n",
    "If you don't write `return` at the end of a function, it will return the value of the last line.\n",
    "\n",
    "```julia\n",
    "function noreturn(a)\n",
    "    b = a % 2\n",
    "    \n",
    "    b # equivalent to writing return b in this case\n",
    "end\n",
    "```\n",
    "\n",
    "To see how this can change, look at the case where we only ever get `a` back:\n",
    "\n",
    "```julia\n",
    "function noreturn(a)\n",
    "    b = a % 2\n",
    "    \n",
    "    b # This line now means nothing, it is not the last line in the function\n",
    "    a\n",
    "end\n",
    "```"
   ]
  },
  {
   "cell_type": "markdown",
   "id": "82152c82",
   "metadata": {
    "slideshow": {
     "slide_type": "slide"
    }
   },
   "source": [
    "You can return whatever you want! \n",
    "\n",
    "If you separate your returned values with commas, you can get multiple values out of a function."
   ]
  },
  {
   "cell_type": "code",
   "execution_count": null,
   "id": "a8f36fe9",
   "metadata": {
    "slideshow": {
     "slide_type": ""
    }
   },
   "outputs": [],
   "source": [
    "twovals(a,b) = a*b, a/b, a+b, a-b"
   ]
  },
  {
   "cell_type": "code",
   "execution_count": null,
   "id": "f53ba3c9",
   "metadata": {},
   "outputs": [],
   "source": [
    "twovals(1,2)"
   ]
  },
  {
   "cell_type": "markdown",
   "id": "929a23ff",
   "metadata": {
    "slideshow": {
     "slide_type": "slide"
    }
   },
   "source": [
    "# Tuples\n",
    "\n",
    "You may have noted that the return value of `twovals` has parentheses around it -- this is called a __tuple__. \n",
    "\n",
    "We can extract values from the tuple using bracket notation:\n",
    "\n",
    "```julia\n",
    "a_tuple = (5, 10, 15)\n",
    "a_tuple[1] # this is 5\n",
    "a_tuple[3] # this is 15\n",
    "```\n",
    "\n",
    "A tuple is\n",
    "\n",
    "- Immutable (can't change it, i.e. `x=(1,2,3); x[1] = 4` will throw an error)\n",
    "- Ordered\n",
    "- Fixed-length"
   ]
  },
  {
   "cell_type": "markdown",
   "id": "02c431b3",
   "metadata": {
    "slideshow": {
     "slide_type": "slide"
    }
   },
   "source": [
    "We can _unpack_ a tuple by writing assigning variables on the left in the same shape as the tuple.\n",
    "\n",
    "For example, with the tuple `(15, \"red\", 8)`, we can assign `a=15`, `b=\"red\"`, and `c=8`."
   ]
  },
  {
   "cell_type": "code",
   "execution_count": null,
   "id": "86a331f6",
   "metadata": {},
   "outputs": [],
   "source": [
    "a,b,c = (15, \"red\", 8)\n",
    "\n",
    "println(c)"
   ]
  },
  {
   "cell_type": "markdown",
   "id": "9ae1c0e6",
   "metadata": {
    "slideshow": {
     "slide_type": "slide"
    }
   },
   "source": [
    "# Named tuples\n",
    "\n",
    "You can also give names to each position of a named tuple -- `NamedTuples` are amazing and I will talk a lot more about them in the performant Julia workshop.\n",
    "\n",
    "Here's a brief intro:"
   ]
  },
  {
   "cell_type": "code",
   "execution_count": null,
   "id": "739d3433",
   "metadata": {},
   "outputs": [],
   "source": [
    "namedtup = (thing1 = 'a', thing2 = 15, thing3 = [10,9,8])"
   ]
  },
  {
   "cell_type": "code",
   "execution_count": null,
   "id": "367c7741",
   "metadata": {},
   "outputs": [],
   "source": [
    "namedtup.thing2"
   ]
  },
  {
   "cell_type": "markdown",
   "id": "482e8c38",
   "metadata": {
    "slideshow": {
     "slide_type": "slide"
    }
   },
   "source": [
    "# Concept check!\n",
    "\n",
    "Write a function that accepts one argument. \n",
    "\n",
    "- If the argument is _positive_, return twice that argument AND the string `\"positive\"`.\n",
    "- If the argument is _negative_, return the __square__ of that argument AND the string `\"negative\"`. \n",
    "- If the argument is _zero_, return zero AND the string `\"zero\"`. "
   ]
  },
  {
   "cell_type": "markdown",
   "id": "d05bf97b",
   "metadata": {
    "slideshow": {
     "slide_type": "slide"
    }
   },
   "source": [
    "# Keywords\n",
    "\n",
    "You can allow functions to accept a _keyword_ argument, which is an argument you must specify by name when you call the function.\n",
    "\n",
    "Keyword arguments occur after a semicolon in the function definition:"
   ]
  },
  {
   "cell_type": "code",
   "execution_count": null,
   "id": "240fde73",
   "metadata": {
    "slideshow": {
     "slide_type": "-"
    }
   },
   "outputs": [],
   "source": [
    "f(x; coef = 2.0) = x * coef"
   ]
  },
  {
   "cell_type": "markdown",
   "id": "5280314e",
   "metadata": {
    "slideshow": {
     "slide_type": "-"
    }
   },
   "source": [
    "We have assigned a default value to `coef`, so the following will work:"
   ]
  },
  {
   "cell_type": "code",
   "execution_count": null,
   "id": "0060fe75",
   "metadata": {},
   "outputs": [],
   "source": [
    "f(2)"
   ]
  },
  {
   "cell_type": "markdown",
   "id": "c51c5b48",
   "metadata": {
    "slideshow": {
     "slide_type": "slide"
    }
   },
   "source": [
    "Because we've specified a keyword argument, we can also override `coef` if we want another value than `2`:"
   ]
  },
  {
   "cell_type": "code",
   "execution_count": null,
   "id": "8a95f638",
   "metadata": {
    "scrolled": true
   },
   "outputs": [],
   "source": [
    "f(2; coef=10)"
   ]
  },
  {
   "cell_type": "markdown",
   "id": "650d97e8",
   "metadata": {
    "slideshow": {
     "slide_type": "slide"
    }
   },
   "source": [
    "# Questions?"
   ]
  },
  {
   "cell_type": "markdown",
   "id": "e135a61a",
   "metadata": {
    "slideshow": {
     "slide_type": "slide"
    }
   },
   "source": [
    "# Array types\n",
    "\n",
    "Alright, we're all mathy people. We work with data, and that means we typically have lots and lots of numbers. \n",
    "\n",
    "Let's get some practice with how Julia thinks about vectors, matrices, and arrays!"
   ]
  },
  {
   "cell_type": "markdown",
   "id": "9de0b404",
   "metadata": {
    "slideshow": {
     "slide_type": "slide"
    }
   },
   "source": [
    "# Array types\n",
    "\n",
    "Vectors are created by surrounding some values with brackets `([1,2,3])` and separating the values with commas.\n",
    "\n",
    "```julia\n",
    "vector_var = [5,10,19]\n",
    "```\n",
    "\n",
    "Rectangular arrays have values within a row separated by __spaces__ and new columns indicated with a __semicolon__.\n",
    "\n",
    "```julia\n",
    "matrix_var = [1 2 3; 4 5 6]\n",
    "```"
   ]
  },
  {
   "cell_type": "markdown",
   "id": "f4c9b592",
   "metadata": {
    "slideshow": {
     "slide_type": "slide"
    }
   },
   "source": [
    "# Adding values to arrays\n",
    "\n",
    "You can expand arrays using `push!(vector, thing)`. \n",
    "\n",
    "The `!` at the end of the function name has no effect as far as Julia's compiler is concerned -- it is only a social convention to indicate that the function _mutates_ or _changes_ the input."
   ]
  },
  {
   "cell_type": "code",
   "execution_count": null,
   "id": "4df846cd",
   "metadata": {},
   "outputs": [],
   "source": [
    "xs = [5,6,7]\n",
    "push!(xs, 10)\n",
    "\n",
    "println(xs)"
   ]
  },
  {
   "cell_type": "markdown",
   "id": "0477285d",
   "metadata": {
    "slideshow": {
     "slide_type": "slide"
    }
   },
   "source": [
    "# Convenience functions\n",
    "\n",
    "- `length(xs)` tells you how long `xs` is. More useful for vector types.\n",
    "- `size(xs)` tells you the size of `xs` in a tuple -- one entry for each dimension. More useful for multidimensional array types.\n",
    "- `zeros(N)` gives you a vector of zeros of length `N`. You can make it multidimensional by adding more arguments, i.e. `zeros(n1, n2, n3)` will provide a 3d array.\n",
    "    - `ones(args...)` is the same but with ones instead of zeros\n",
    "    - By default the type of `zeros(n)` is `Vector{Float64}`, but you can set it to something else: `zeros(Int, 5)` is all integers.\n",
    "- `rand(n)` is random uniform values\n",
    "- `randn(n)` is random values from a standard Normal."
   ]
  },
  {
   "cell_type": "markdown",
   "id": "8a46f210",
   "metadata": {
    "slideshow": {
     "slide_type": "slide"
    }
   },
   "source": [
    "# Extracting values from arrays\n",
    "\n",
    "We extract the value of an array using brackets:\n",
    "\n",
    "```julia\n",
    "xs = [50, 100, 150]\n",
    "println(xs[1]) # this will print 50\n",
    "```\n",
    "\n",
    "For multidimensional arrays, it's the common notation separated by commas:\n",
    "\n",
    "```julia\n",
    "M = [10 11 12; 20 21 22]\n",
    "M[2,2] # This is 21\n",
    "```"
   ]
  },
  {
   "cell_type": "markdown",
   "id": "7e950a25",
   "metadata": {
    "slideshow": {
     "slide_type": "slide"
    }
   },
   "source": [
    "# Getting ranges of values\n",
    "\n",
    "We can get slices of data from array types using colons.\n",
    "\n",
    "- `xs[5:end]` extracts the values of `xs` from index `5` all the way to the end of the vector. `end` is a special word here -- you may be used to using something like `xs[5:length(x)]`, which you can do, but Julia makes it easy.\n",
    "- `xs[:,1]` grabs all values of column `1`.\n",
    "- `xs[1,:]` grabs all values of row `1`."
   ]
  },
  {
   "cell_type": "markdown",
   "id": "e18fe643",
   "metadata": {
    "slideshow": {
     "slide_type": "slide"
    }
   },
   "source": [
    "# Setting ranges of values\n",
    "\n",
    "Everything above allows you to _set_ values instead by putting an equal sign to the right of the indexing operation."
   ]
  },
  {
   "cell_type": "code",
   "execution_count": null,
   "id": "98f50c9c",
   "metadata": {},
   "outputs": [],
   "source": [
    "xs = zeros(5)\n",
    "\n",
    "xs[1] = 3\n",
    "xs[2:3] = [4,4.5]\n",
    "xs[4:end] = [1.0, 2.0]\n",
    "\n",
    "xs"
   ]
  },
  {
   "cell_type": "markdown",
   "id": "8c6625dc",
   "metadata": {
    "slideshow": {
     "slide_type": "slide"
    }
   },
   "source": [
    "# `map`\n",
    "\n",
    "`map` is a super common paradigm in many languages. It is how you apply a function to a set of inputs.\n",
    "\n",
    "The syntax is `map(function_name, things_to_input)`.\n",
    "\n",
    "`things_to_input` can be a lot of things:\n",
    "\n",
    "- Iterators, `map(f, 1:5)` returns `[f(1), f(2), f(3), f(4), f(4)]`.\n",
    "- Vectors, `map(f, [1,2,3,4,5])`\n",
    "- Ordered sets, dictionaries, etc. More on these later."
   ]
  },
  {
   "cell_type": "code",
   "execution_count": null,
   "id": "b78a7ac1",
   "metadata": {},
   "outputs": [],
   "source": [
    "xs = [5, 10, 11]\n",
    "doubler(input) = 2*input\n",
    "\n",
    "map(doubler, xs)"
   ]
  },
  {
   "cell_type": "code",
   "execution_count": null,
   "id": "abbcabd8",
   "metadata": {},
   "outputs": [],
   "source": [
    "map(doubler, 10:20)"
   ]
  },
  {
   "cell_type": "markdown",
   "id": "71184285",
   "metadata": {
    "slideshow": {
     "slide_type": "slide"
    }
   },
   "source": [
    "# Multiple input functions and `map`\n",
    "\n",
    "`map` only works with single-input functions -- if you have a function with multiple inputs, you'll need to either define a function that accepts one input, or write an __anonymous function__.\n",
    "\n",
    "An anonymous function looks like\n",
    "\n",
    "```julia\n",
    "x -> 2 * x\n",
    "```\n",
    "\n",
    "In the context of `map`, our `doubler` function from above could be rewritten as"
   ]
  },
  {
   "cell_type": "code",
   "execution_count": null,
   "id": "2f58530b",
   "metadata": {},
   "outputs": [],
   "source": [
    "xs = [5, 10, 11]\n",
    "\n",
    "map(x -> 2*x, xs)"
   ]
  },
  {
   "cell_type": "markdown",
   "id": "74bf9d6c",
   "metadata": {
    "slideshow": {
     "slide_type": "slide"
    }
   },
   "source": [
    "# Multiple inputs\n",
    "\n",
    "Anonymous functions are super useful when you want to `map` for functions with a lot of inputs. "
   ]
  },
  {
   "cell_type": "code",
   "execution_count": null,
   "id": "9c2e7856",
   "metadata": {},
   "outputs": [],
   "source": [
    "two_input_function(x, y) = x^2 / y\n",
    "\n",
    "map(m -> two_input_function(m, 3), [1,2,3,4])"
   ]
  },
  {
   "cell_type": "markdown",
   "id": "0fff2ce4",
   "metadata": {
    "slideshow": {
     "slide_type": "slide"
    }
   },
   "source": [
    "# Broadcasting\n",
    "\n",
    "If you come from other languages, you might be used to trying real hard to _vectorize_ your functions for performance. \n",
    "\n",
    "Julia makes this hilariously easy using __dot syntax__. Adding a dot between the function name and Julia will essentially call `map` on your behalf."
   ]
  },
  {
   "cell_type": "code",
   "execution_count": null,
   "id": "2dc7e718",
   "metadata": {},
   "outputs": [],
   "source": [
    "a = [1.0,2.0,3.0]"
   ]
  },
  {
   "cell_type": "code",
   "execution_count": null,
   "id": "cf115821",
   "metadata": {},
   "outputs": [],
   "source": [
    "sin.(a)"
   ]
  },
  {
   "cell_type": "markdown",
   "id": "df5ffbeb",
   "metadata": {
    "slideshow": {
     "slide_type": "slide"
    }
   },
   "source": [
    "# Concept check!\n",
    "\n",
    "We'll need a new package for this one. Go to your REPL and type `] add UnicodePlots`.\n",
    "\n",
    "We're going to plot a function we define:\n",
    "\n",
    "```julia\n",
    "function quadratic(x)\n",
    "    return x^2\n",
    "end\n",
    "```\n",
    "\n",
    "Create two variables:\n",
    "\n",
    "1. `xs`, representing the _range_ of this function from -10 to 10.\n",
    "2. `ys`, representing the _domain_ of this function evaluated using `xs`.\n",
    "\n",
    "Both `map` and dot syntax should get you here.\n",
    "\n",
    "Plot the quadratic function using the code\n",
    "\n",
    "```julia\n",
    "using UnicodePlots\n",
    "display(lineplot(xs, ys))\n",
    "```"
   ]
  },
  {
   "cell_type": "markdown",
   "id": "4af0d24c",
   "metadata": {
    "slideshow": {
     "slide_type": "slide"
    }
   },
   "source": [
    "# Control flow\n",
    "\n",
    "Julia supports the standard control flow constructs:\n",
    "\n",
    "- Conditional evaluation: `if`, `elseif`, and `else`\n",
    "- Loops: `for` and `while`\n",
    "    - `continue` (skip the current iteration) \n",
    "    - `break` (exit loop)\n",
    "- `try`/`catch`/`finally` for error handling\n"
   ]
  },
  {
   "cell_type": "markdown",
   "id": "94bf2830",
   "metadata": {
    "slideshow": {
     "slide_type": "slide"
    }
   },
   "source": [
    "# Conditional evaluation\n",
    "\n",
    "The format for if/else blocks in Julia is\n",
    "\n",
    "```julia\n",
    "if thing\n",
    "    . . . # Runs if thing == true\n",
    "elseif another_thing\n",
    "    . . . # Runs if thing == false and another_thing == true\n",
    "elseif another_thing2\n",
    "    . . . # Runs if thing == false, another_thing == false, another_thing2 == true\n",
    "else\n",
    "    . . . # Runs if all above are false\n",
    "end\n",
    "```"
   ]
  },
  {
   "cell_type": "markdown",
   "id": "bb50234a",
   "metadata": {
    "slideshow": {
     "slide_type": "slide"
    }
   },
   "source": [
    "# Loops: the `for` loop\n",
    "\n",
    "`for` loops in `Julia` have two bits in them.\n",
    "\n",
    "```julia\n",
    "for i in [1,2,3,4,5]\n",
    "    println(i)\n",
    "end\n",
    "```\n",
    "\n",
    "The two parts are:\n",
    "\n",
    "- `[1,2,3,4,5]`, an \"iterable\" value. We want to loop through 1, then 2, then 3, and so on.\n",
    "- `i`, which is new variable that will take on the values in `[1,2,3,4,5]` as the code in the loop is evaluated."
   ]
  },
  {
   "cell_type": "markdown",
   "id": "1d8afc21",
   "metadata": {
    "slideshow": {
     "slide_type": "slide"
    }
   },
   "source": [
    "# Loops\n",
    "\n",
    "You can put lots of things on the right-hand side of the loop:\n",
    "\n",
    "- Ranges of numbers: `for i in 1:10`\n",
    "- Strings: `for character in \"howdy partner\"`\n",
    "- Dictionaries: `for pair in Dict(:a => 1, :b => 2)`\n",
    "    - You can also unpack in a loop! Try `for (key, value) in Dict(:a => 1, :b => 2)`"
   ]
  },
  {
   "cell_type": "markdown",
   "id": "e29dcac1",
   "metadata": {
    "slideshow": {
     "slide_type": "slide"
    }
   },
   "source": [
    "# Concept check!\n",
    "\n",
    "Let's do some **times tables**!\n",
    "\n",
    "Write me a function that does the following:\n",
    "\n",
    "- Accepts `n`, which is the maximum value of a times table. \n",
    "- Returns an `n` by `n` array where the entries of the array are the product of the indices of that array.\n",
    "\n",
    "I.e. for `n=5`, I want to see a $5 \\times 5$ matrix where the `[3,2]` entry is `3 * 2 = 6`. \n",
    "\n",
    "For the math-types, the formulation is this:\n",
    "\n",
    "$$\n",
    "M(n) = \\begin{bmatrix}\n",
    "1 & 2 & 3 & \\dots & n \\\\\n",
    "2 & 4 & 6 & \\dots & 2n \\\\\n",
    "3 & 6 & 9 & \\dots & 3n \\\\\n",
    "\\vdots & & & & \\\\\n",
    "n & \\dots & & & n^2\n",
    "\\end{bmatrix}\n",
    "$$\n",
    "\n",
    "The value of $M(n)_{ij} = i\\times j$."
   ]
  },
  {
   "cell_type": "code",
   "execution_count": null,
   "id": "0be7d94f",
   "metadata": {
    "slideshow": {
     "slide_type": "skip"
    }
   },
   "outputs": [],
   "source": [
    "function times_table(n)\n",
    "    M = zeros(Int, n, n)\n",
    "    \n",
    "    for i in 1:n\n",
    "        for j in 1:n\n",
    "            M[i,j] = i * j\n",
    "        end\n",
    "    end\n",
    "    \n",
    "    return M\n",
    "end\n",
    "\n",
    "times_table(5)"
   ]
  },
  {
   "cell_type": "markdown",
   "id": "cc31aee3",
   "metadata": {
    "slideshow": {
     "slide_type": "slide"
    }
   },
   "source": [
    "# The `while` loop\n",
    "\n",
    "A `while` loop, unlike the `for` loop, is more commonly thought of as one where you do not know ahead of time how long your loop is going to run."
   ]
  },
  {
   "cell_type": "code",
   "execution_count": null,
   "id": "54600307",
   "metadata": {
    "slideshow": {
     "slide_type": "-"
    }
   },
   "outputs": [],
   "source": [
    "x = 100\n",
    "while x > 1\n",
    "    println(x)\n",
    "    x = x / 2\n",
    "end\n"
   ]
  },
  {
   "cell_type": "markdown",
   "id": "89b736c5",
   "metadata": {
    "slideshow": {
     "slide_type": "slide"
    }
   },
   "source": [
    "# Why use them?\n",
    "\n",
    "`while` loops are a lot more common in systems programming, web services, etc. \n",
    "\n",
    "In research computing we tend to know how much data we have at every point in the program, so `while` loops are just not as common."
   ]
  },
  {
   "cell_type": "markdown",
   "id": "6e1afcf2",
   "metadata": {
    "slideshow": {
     "slide_type": "slide"
    }
   },
   "source": [
    "Doesn't mean they aren't useful! `while` loops are an excellent tool for optimizing an objective to within a tolerance, or doing something __until a quantity of interest converges__.\n",
    "\n",
    "For example, we might be looking for a value $V^n(x)$ until $G(V^n(x)) \\le \\epsilon$.\n",
    "\n",
    "```julia \n",
    "value = 0\n",
    "epsilon = 1e-8\n",
    "\n",
    "while loss_function(value) >= epsilon\n",
    "    . . . # Do some mathy stuff\n",
    "    value = new_value\n",
    "end\n",
    "```"
   ]
  },
  {
   "cell_type": "markdown",
   "id": "34bb8dbd",
   "metadata": {
    "slideshow": {
     "slide_type": "slide"
    }
   },
   "source": [
    "# `break` and `continue`\n",
    "\n",
    "Julia (like many languages) supports early skipping/termination of loops.\n",
    "\n",
    "`break` exits the current loop:"
   ]
  },
  {
   "cell_type": "code",
   "execution_count": null,
   "id": "a956e968",
   "metadata": {
    "slideshow": {
     "slide_type": "-"
    }
   },
   "outputs": [],
   "source": [
    "for i in 1:10\n",
    "    println(i)\n",
    "    break\n",
    "end\n",
    "    \n",
    "println(\"all done\")"
   ]
  },
  {
   "cell_type": "markdown",
   "id": "50ac0dac",
   "metadata": {
    "slideshow": {
     "slide_type": "slide"
    }
   },
   "source": [
    "`continue` goes to the next iteration (in a `for` loop) or back to the `while` condition:"
   ]
  },
  {
   "cell_type": "code",
   "execution_count": null,
   "id": "b37fd6ea",
   "metadata": {
    "scrolled": true
   },
   "outputs": [],
   "source": [
    "for i in 1:10\n",
    "    # Skip even numbers\n",
    "    if rem(i, 2) == 0\n",
    "        continue\n",
    "    end\n",
    "    \n",
    "    println(i)\n",
    "end\n"
   ]
  },
  {
   "cell_type": "markdown",
   "id": "e2f915d2",
   "metadata": {
    "slideshow": {
     "slide_type": "slide"
    }
   },
   "source": [
    "I had a boss once who got mad at me for using `break` and `continue` in production code, because it makes it very difficult to read. \n",
    "\n",
    "He is right! They are not the best tools.\n",
    "\n",
    "If you also have an annoyingly correct boss or care about your style, consider just using conditional evaluation:"
   ]
  },
  {
   "cell_type": "code",
   "execution_count": null,
   "id": "c76c7495",
   "metadata": {
    "scrolled": true,
    "slideshow": {
     "slide_type": ""
    }
   },
   "outputs": [],
   "source": [
    "for i in 1:10\n",
    "    if rem(i, 2) != 0\n",
    "        println(i)\n",
    "    end\n",
    "end"
   ]
  },
  {
   "cell_type": "markdown",
   "id": "7d6afd3d",
   "metadata": {
    "slideshow": {
     "slide_type": "slide"
    }
   },
   "source": [
    "# Exceptions\n",
    "\n",
    "I am not going to teach you how to use `try`, `catch`, and `finally` here, because they are the world's greatest foot-gun if you don't understand them. \n",
    "\n",
    "I'll talk more about these in the __Performant Programming and Best Practices__ workshop.\n",
    "\n",
    "If you understand them already, I want to familiarize you with the syntax:"
   ]
  },
  {
   "cell_type": "code",
   "execution_count": null,
   "id": "9712f92b",
   "metadata": {},
   "outputs": [],
   "source": [
    "try \n",
    "    hats_are_a_dogs_best_friend(15, \"red\")\n",
    "catch e # e here is the exception struct\n",
    "    println(e)\n",
    "finally # finally executes regardless of whether we fell into the catch block\n",
    "    println(\"I did the work, boss\")\n",
    "end"
   ]
  },
  {
   "cell_type": "markdown",
   "id": "1ac137ee",
   "metadata": {
    "slideshow": {
     "slide_type": "slide"
    }
   },
   "source": [
    "# Linear algebra\n",
    "\n",
    "Econs LOVE linear algebra for some reason (nerds) so I figured I had to show you how to use it.\n",
    "\n",
    "Julia was originally intended to be a scientific computing language, so it comes with a very robust suite of linear algebra tools."
   ]
  },
  {
   "cell_type": "markdown",
   "id": "6df5f1ea",
   "metadata": {
    "slideshow": {
     "slide_type": "slide"
    }
   },
   "source": [
    "# Linear algebra functions\n",
    "\n",
    "If you import the `LinearAlgebra` module, you'll get a bunch of handy tools:\n",
    "\n",
    "- `inv` for matrix inversions\n",
    "- `det` for determinant\n",
    "- `tr` for trace\n",
    "- `eigvals` and `eigvecs` for eigen values and vectors, respectively.\n",
    "- `factorize` for more efficient representations of your matrix (upper, lower, diagonal, etc.)\n",
    "- Many more [here](https://docs.julialang.org/en/v1/stdlib/LinearAlgebra/)."
   ]
  },
  {
   "cell_type": "markdown",
   "id": "80357a79",
   "metadata": {
    "slideshow": {
     "slide_type": "slide"
    }
   },
   "source": [
    "# OLS\n",
    "\n",
    "I imagine many people in the audience are familiar with the normal equations for OLS.\n",
    "\n",
    "Consider the specification\n",
    "\n",
    "$$\n",
    "Y = X \\beta + \\epsilon\n",
    "$$\n",
    "\n",
    "We know that the least squares estimate of $\\beta$ is \n",
    "\n",
    "$$\n",
    "\\hat\\beta = (X'X)^{-1}X'Y\n",
    "$$\n",
    "\n",
    "Let's give it a shot."
   ]
  },
  {
   "cell_type": "code",
   "execution_count": null,
   "id": "2e73169e",
   "metadata": {
    "slideshow": {
     "slide_type": "slide"
    }
   },
   "outputs": [],
   "source": [
    "# Import the linear algebra functions.\n",
    "using LinearAlgebra\n",
    "\n",
    "# Create a 100x3 matrix of standard Gaussians\n",
    "X = randn(100, 3)\n",
    "X[:,1] = ones(size(X, 1)) # Add a constant column.\n",
    "\n",
    "# Define coefficient: intercept, coef on column 2, coef on column 3.\n",
    "β = [5.0, 2.0, -1.5]\n",
    "Y = X*β + randn(size(X, 1)); # The semicolon at the end prevents this line from displaying"
   ]
  },
  {
   "cell_type": "code",
   "execution_count": null,
   "id": "a97d8c89",
   "metadata": {
    "slideshow": {
     "slide_type": "slide"
    }
   },
   "outputs": [],
   "source": [
    "# Matrix squaring\n",
    "X'X"
   ]
  },
  {
   "cell_type": "code",
   "execution_count": null,
   "id": "487b4049",
   "metadata": {
    "slideshow": {
     "slide_type": "slide"
    }
   },
   "outputs": [],
   "source": [
    "# OLS normal equations\n",
    "β_hat = inv(X'X)X'Y"
   ]
  },
  {
   "cell_type": "code",
   "execution_count": null,
   "id": "65110751",
   "metadata": {},
   "outputs": [],
   "source": [
    "# Making predictions using β_hat\n",
    "Y_hat = X*β_hat\n",
    "\n",
    "# Calculating the SSE\n",
    "e = Y_hat - Y\n",
    "sse = e'e"
   ]
  },
  {
   "cell_type": "markdown",
   "id": "79ec6ea1",
   "metadata": {
    "slideshow": {
     "slide_type": "slide"
    }
   },
   "source": [
    "# Concept check!\n",
    "\n",
    "Let's do something cool -- let's roll our own little estimator that spits out (a) the coefficient estimates, (b) the variance covariance matrix of beta hat, and (c) t-stats (against null $\\beta_k=0 \\forall k$) for the coefficient estimator.\n",
    "\n",
    "Recall that\n",
    "\n",
    "\\begin{align*}\n",
    "\\hat \\beta &= (X'X)^{-1}X'Y \\\\\n",
    "s^2 &= \\frac{(\\hat Y - Y)'(\\hat Y - Y)}{n - K} \\\\\n",
    "\\Sigma^\\text{SE} &= s^2 (X'X)^{-1} \\\\ \n",
    "t_k &= \\frac{\\hat\\beta_k - \\beta_k}{\\Sigma^\\text{SE}_{kk}}\n",
    "\\end{align*}\n",
    "\n",
    "for number of observations $n$ and number of variables $K$. You can get `n, K = size(X)`.\n",
    "\n",
    "I will put bare-bones code that only has the coefficient estimates in the chat!"
   ]
  },
  {
   "cell_type": "code",
   "execution_count": null,
   "id": "7e3c70f2",
   "metadata": {
    "slideshow": {
     "slide_type": "skip"
    }
   },
   "outputs": [],
   "source": [
    "# Create a 100x3 matrix of standard Gaussians\n",
    "X = randn(100, 3)\n",
    "X[:,1] = ones(size(X, 1)) # Add a constant column.\n",
    "\n",
    "# Define coefficient: intercept, coef on column 2, coef on column 3.\n",
    "β = [5.0, 2.0, -1.5]\n",
    "Y = X*β + randn(size(X, 1)); # The semicolon at the end prevents this line from displaying\n",
    "\n",
    "# Expand this function to return\n",
    "# 1. beta_hat\n",
    "# 2. the variance covariance matrix of beta_hat\n",
    "# 3. t-stats for beta_hat\n",
    "function ols(X, Y)\n",
    "    beta_hat = inv(X'X)X'Y\n",
    "end\n",
    "\n",
    "ols(X, Y)"
   ]
  },
  {
   "cell_type": "code",
   "execution_count": null,
   "id": "4529c162",
   "metadata": {
    "slideshow": {
     "slide_type": "skip"
    }
   },
   "outputs": [],
   "source": [
    "# An answer key\n",
    "function ols(X, Y)\n",
    "    beta_hat = inv(X'X)X'Y\n",
    "    Y_hat = X*beta_hat\n",
    "    e = Y_hat - Y\n",
    "    \n",
    "    n = size(X, 1)\n",
    "    K = size(X, 2)\n",
    "    \n",
    "    s2 = e'e / (n-K)\n",
    "    sigma_se = s2 * inv(X'X)\n",
    "    t = beta_hat ./ diag(sigma_se)\n",
    "    \n",
    "    return beta_hat, sigma_se, t\n",
    "end\n",
    "\n",
    "beta_hat, sigma_se, t = ols(X, Y)"
   ]
  },
  {
   "cell_type": "markdown",
   "id": "bcebcb08",
   "metadata": {
    "slideshow": {
     "slide_type": "slide"
    }
   },
   "source": [
    "# Questions?"
   ]
  },
  {
   "cell_type": "markdown",
   "id": "b63fced5",
   "metadata": {
    "slideshow": {
     "slide_type": "slide"
    }
   },
   "source": [
    "# Types\n",
    "\n",
    "Julia does not have \"objects\" like you might be familiar with in R or Python. \n",
    "\n",
    "Julia has types. Everything in Julia has a type that may be a subtype of something else.\n",
    "\n",
    "You can actually have long chains of types. For example, the subgraph of types for `Int64` is"
   ]
  },
  {
   "cell_type": "code",
   "execution_count": null,
   "id": "6a2a6032",
   "metadata": {},
   "outputs": [],
   "source": [
    "# This line actually returns true/false -- the <: operator says \"left is a subtype of right\"\n",
    "Int64 <: Signed <: Integer <: Real <: Number <: Any"
   ]
  },
  {
   "cell_type": "markdown",
   "id": "431dc16c",
   "metadata": {
    "slideshow": {
     "slide_type": "slide"
    }
   },
   "source": [
    "# Type annotations\n",
    "\n",
    "You will often see code like `thing::NameOfType`. \n",
    "\n",
    "This is how you tell Julia's compiler `thing` should be of type `NameOfType` or a descendant of `NameOfType`. A shorthand operator for this is `typeof(thing) <: NameOfType`. If this does not evaluate to true, Julia will get mad at you."
   ]
  },
  {
   "cell_type": "code",
   "execution_count": null,
   "id": "ea909094",
   "metadata": {
    "scrolled": true
   },
   "outputs": [],
   "source": [
    "\"howdy\"::String"
   ]
  },
  {
   "cell_type": "code",
   "execution_count": null,
   "id": "a0eb8b36",
   "metadata": {},
   "outputs": [],
   "source": [
    "# Errors because typeof(1) is Int64, not Float64\n",
    "1::Float64"
   ]
  },
  {
   "cell_type": "code",
   "execution_count": null,
   "id": "a474067d",
   "metadata": {},
   "outputs": [],
   "source": [
    "# Real is a more general type, so you won't get an error here:\n",
    "1::Real"
   ]
  },
  {
   "cell_type": "markdown",
   "id": "a8b259d1",
   "metadata": {
    "slideshow": {
     "slide_type": "slide"
    }
   },
   "source": [
    "# Type annotations\n",
    "\n",
    "You can use type annotations to explicitly say what you think a type should be. In idiomatic Julia, it's not really common to do so outside of \n",
    "\n",
    "1. The argument types, i.e. \n",
    "\n",
    "```julia\n",
    "f(x::Int, y::Float64) = ...\n",
    "```\n",
    "\n",
    "2. The return value:\n",
    "\n",
    "```julia\n",
    "f(x::Float64, y::Float64) = (x+y)::Float64\n",
    "```\n",
    "\n",
    "In case 2, the compiler is typically able to infer the type of `(x+y)` without you needing to do the annotation. \n",
    "\n",
    "My recommendation? Keep type annotations to a **minimum**!"
   ]
  },
  {
   "cell_type": "markdown",
   "id": "e0467b2c",
   "metadata": {
    "slideshow": {
     "slide_type": "slide"
    }
   },
   "source": [
    "# Abstract types\n",
    "\n",
    "The core atom of Julia's type system is called an __abstract type__.\n",
    "\n",
    "An abstract type tells us about the _class of behaviors_ we should expect.\n",
    "\n",
    "In the case of integers, we know that `Integer` is an abstract type telling us that, whatever subtype we get (signed, unsigned, 8/16/32/64/128 bits, etc.), we can do all the things with the values that we do with other integers.\n",
    "\n",
    "Let me cook up an example for you to see how this works."
   ]
  },
  {
   "cell_type": "markdown",
   "id": "caf7b35f",
   "metadata": {
    "slideshow": {
     "slide_type": "slide"
    }
   },
   "source": [
    "# Abstract types & structs\n",
    "\n",
    "Abstract types cannot be __instantiated__, meaning we can't ever create them. They are just a way for us to organize the types we have.\n",
    "\n",
    "The things we _can_ instantiate are called __structs__. A struct is a wrapper around some fields. These are also known as _composite types_, _records_, and sometimes _objects_.\n",
    "\n",
    "Here is an example of how we might define a struct (with no supertype)."
   ]
  },
  {
   "cell_type": "code",
   "execution_count": null,
   "id": "76895ee5",
   "metadata": {
    "slideshow": {
     "slide_type": "slide"
    }
   },
   "outputs": [],
   "source": [
    "struct SomeStuff\n",
    "    field::Float64\n",
    "end\n",
    "\n",
    "some_stuff = SomeStuff(0.5)"
   ]
  },
  {
   "cell_type": "code",
   "execution_count": null,
   "id": "5ea94b0f",
   "metadata": {},
   "outputs": [],
   "source": [
    "some_stuff.field"
   ]
  },
  {
   "cell_type": "markdown",
   "id": "62f6596d",
   "metadata": {
    "slideshow": {
     "slide_type": "slide"
    }
   },
   "source": [
    "Now, let me show you how we can combine __structs__ (things we can actually make) and __abstract types__ (concepts that organize our structs).\n",
    "\n",
    "I'm going to wrap these types in a `module`, which you can think of as a little library of types and functions that serve a specific purpose."
   ]
  },
  {
   "cell_type": "code",
   "execution_count": null,
   "id": "3c79abde",
   "metadata": {
    "slideshow": {
     "slide_type": "slide"
    }
   },
   "outputs": [],
   "source": [
    "module VehicleTypes\n",
    "\n",
    "# Our top level type\n",
    "abstract type MobilityDevice end\n",
    "\n",
    "# Subtypes for car/bicycle\n",
    "abstract type Car <: MobilityDevice end\n",
    "abstract type Bicycle <: MobilityDevice end\n",
    "\n",
    "# Subtypes for car\n",
    "struct Combustion <: Car \n",
    "    gallons::Float64\n",
    "    mpg::Float64\n",
    "end\n",
    "struct Electric <: Car \n",
    "    emiles::Int64\n",
    "end\n",
    "\n",
    "# Subtypes for bicycle\n",
    "struct Road <: Bicycle\n",
    "    purchase_cost::Float64\n",
    "end\n",
    "struct Mountain <: Bicycle\n",
    "    maintenance_cost::Float64\n",
    "end\n",
    "\n",
    "# Make our types available outside the module\n",
    "export Electric, Combustion, \n",
    "    Road, Mountain, \n",
    "    Car, Bicycle, \n",
    "    MobilityDevice\n",
    "\n",
    "end"
   ]
  },
  {
   "cell_type": "code",
   "execution_count": null,
   "id": "0aa36ad5",
   "metadata": {
    "slideshow": {
     "slide_type": "slide"
    }
   },
   "outputs": [],
   "source": [
    "# Import the types we just made\n",
    "using Main.VehicleTypes"
   ]
  },
  {
   "cell_type": "markdown",
   "id": "b5ea2a3b",
   "metadata": {
    "slideshow": {
     "slide_type": "slide"
    }
   },
   "source": [
    "Now let's _instantiate_ some of the structs we made (`Electric`, `Combustion`, `Road`, `Mountain`)"
   ]
  },
  {
   "cell_type": "code",
   "execution_count": null,
   "id": "2f45b4b7",
   "metadata": {
    "slideshow": {
     "slide_type": "slide"
    }
   },
   "outputs": [],
   "source": [
    "electric_car = Electric(225.0)\n",
    "ice_car = Combustion(11.0, 21.0) # just shy of an 11 gallon tank\n",
    "fast_bike = Road(1500.99)\n",
    "cool_bike = Mountain(49.99)"
   ]
  },
  {
   "cell_type": "code",
   "execution_count": null,
   "id": "fa83f144",
   "metadata": {
    "slideshow": {
     "slide_type": "slide"
    }
   },
   "outputs": [],
   "source": [
    "# Which ones move?\n",
    "moves(thing::MobilityDevice) = true\n",
    "moves(thing) = false # this is equivalent to moves(thing::Any)\n",
    "\n",
    "map(moves, [electric_car, ice_car, fast_bike, cool_bike, \"hats\"])"
   ]
  },
  {
   "cell_type": "code",
   "execution_count": null,
   "id": "4f3fd284",
   "metadata": {
    "slideshow": {
     "slide_type": "slide"
    }
   },
   "outputs": [],
   "source": [
    "# Check which ones are human powered\n",
    "human_powered(thing::Car) = false\n",
    "human_powered(thing::Bicycle) = true\n",
    "\n",
    "map(human_powered, [electric_car, ice_car, fast_bike, cool_bike])"
   ]
  },
  {
   "cell_type": "code",
   "execution_count": null,
   "id": "7a4ace8a",
   "metadata": {
    "slideshow": {
     "slide_type": "slide"
    }
   },
   "outputs": [],
   "source": [
    "# How far can we go?\n",
    "distance_avail(thing::Electric) = thing.emiles\n",
    "distance_avail(thing::Combustion) = thing.gallons * thing.mpg\n",
    "\n",
    "map(distance_avail, [electric_car, ice_car])"
   ]
  },
  {
   "cell_type": "code",
   "execution_count": null,
   "id": "3c027359",
   "metadata": {
    "slideshow": {
     "slide_type": "slide"
    }
   },
   "outputs": [],
   "source": [
    "# Which car should I buy, using only distance as my criteria?\n",
    "function which_car(cars::Vector{<:Car})\n",
    "    distances = map(distance_avail, cars)\n",
    "    dist, position = findmax(distances)\n",
    "    return cars[position]\n",
    "end\n",
    "\n",
    "cars = [\n",
    "    Combustion(10, 15),\n",
    "    Combustion(13, 12),\n",
    "    Combustion(11, 32),\n",
    "    Electric(222),\n",
    "    Electric(224),\n",
    "    Electric(312)\n",
    "]"
   ]
  },
  {
   "cell_type": "code",
   "execution_count": null,
   "id": "446f11c5",
   "metadata": {
    "slideshow": {
     "slide_type": "slide"
    }
   },
   "outputs": [],
   "source": [
    "# Let's call it! What car should I buy?\n",
    "best_car = which_car(cars)"
   ]
  },
  {
   "cell_type": "markdown",
   "id": "01d3e450",
   "metadata": {
    "slideshow": {
     "slide_type": "slide"
    }
   },
   "source": [
    "# Multiple dispatch\n",
    "\n",
    "Everything I've done above is an example of __multiple dispatch__. We defined a hierarchy of types, and defined functions that\n",
    "\n",
    "1. Operated differently on different types\n",
    "2. Operated differently at different _levels_ of types\n",
    "\n",
    "Multiple dispatch turns out to be an amazing tool -- you can define different functions for different inputs that use the same name!"
   ]
  },
  {
   "cell_type": "markdown",
   "id": "11f4457a",
   "metadata": {},
   "source": [
    "# Questions?"
   ]
  },
  {
   "cell_type": "markdown",
   "id": "c93fe993",
   "metadata": {
    "slideshow": {
     "slide_type": "slide"
    }
   },
   "source": [
    "# Data input/output (I/O)\n",
    "\n",
    "The common way to get data into Julia is using CSV files, but you can import basically any data file (.dta, .mat, .b7dat, etc.)\n",
    "\n",
    "I'll show you how to import data with the package `CSV`.\n",
    "\n",
    "First, we need to install it! I'll have you install `DataFrames` too, while we're at it.\n",
    "\n",
    "Access the REPL and type `] add CSV DataFrames`."
   ]
  },
  {
   "cell_type": "markdown",
   "id": "5aaceea7",
   "metadata": {
    "slideshow": {
     "slide_type": "slide"
    }
   },
   "source": [
    "I've made a demo `.csv` file which you can download from here:\n",
    "\n",
    "https://raw.githubusercontent.com/cpfiffer/julia-bootcamp-2022/main/session-1/example.csv\n",
    "\n",
    "You can do this in Julia with"
   ]
  },
  {
   "cell_type": "code",
   "execution_count": null,
   "id": "44f7ac9f",
   "metadata": {},
   "outputs": [],
   "source": [
    "import Downloads\n",
    "Downloads.download(\n",
    "    \"https://raw.githubusercontent.com/cpfiffer/julia-bootcamp-2022/main/session-1/example.csv\",\n",
    "    \"example.csv\"\n",
    ")"
   ]
  },
  {
   "cell_type": "markdown",
   "id": "5ec895e1",
   "metadata": {
    "slideshow": {
     "slide_type": "slide"
    }
   },
   "source": [
    "Now let's get our data into Julia!"
   ]
  },
  {
   "cell_type": "code",
   "execution_count": null,
   "id": "61f7151c",
   "metadata": {},
   "outputs": [],
   "source": [
    "using CSV, DataFrames\n",
    "\n",
    "df = DataFrame(CSV.File(\"example.csv\"))"
   ]
  },
  {
   "cell_type": "markdown",
   "id": "357171d0",
   "metadata": {
    "slideshow": {
     "slide_type": "slide"
    }
   },
   "source": [
    "## Data frames\n",
    "\n",
    "All languages we're used to have a construct for some kind of rectangular/tabular data.\n",
    "\n",
    "In Julia, we have a very popular package called `DataFrames` that emulates this construct. \n",
    "\n",
    "Using our data from above, we can do all kinds of fun things:\n"
   ]
  },
  {
   "cell_type": "code",
   "execution_count": null,
   "id": "a94852a6",
   "metadata": {
    "slideshow": {
     "slide_type": "slide"
    }
   },
   "outputs": [],
   "source": [
    "# Get a single column\n",
    "df.name\n",
    "df[:, :name] # is equivalent"
   ]
  },
  {
   "cell_type": "code",
   "execution_count": null,
   "id": "d2194604",
   "metadata": {
    "scrolled": true,
    "slideshow": {
     "slide_type": "slide"
    }
   },
   "outputs": [],
   "source": [
    "# Get several columns\n",
    "df[:, [:name, :attribute]]"
   ]
  },
  {
   "cell_type": "code",
   "execution_count": null,
   "id": "05b7521d",
   "metadata": {},
   "outputs": [],
   "source": [
    "# Can also use select:\n",
    "select(df, [:name, :attribute])"
   ]
  },
  {
   "cell_type": "code",
   "execution_count": null,
   "id": "84bf4724",
   "metadata": {
    "slideshow": {
     "slide_type": "slide"
    }
   },
   "outputs": [],
   "source": [
    "# Get a row\n",
    "df[1, :]"
   ]
  },
  {
   "cell_type": "code",
   "execution_count": null,
   "id": "319d456e",
   "metadata": {
    "slideshow": {
     "slide_type": "slide"
    }
   },
   "outputs": [],
   "source": [
    "# Get several rows\n",
    "df[1:2, :]"
   ]
  },
  {
   "cell_type": "code",
   "execution_count": null,
   "id": "baeaa92d",
   "metadata": {
    "slideshow": {
     "slide_type": "slide"
    }
   },
   "outputs": [],
   "source": [
    "# Get rows for which a condition is true\n",
    "df[df.awesomeness .>= 3, :]"
   ]
  },
  {
   "cell_type": "code",
   "execution_count": null,
   "id": "029ff4d9",
   "metadata": {
    "slideshow": {
     "slide_type": "-"
    }
   },
   "outputs": [],
   "source": [
    "# Get hat owners\n",
    "df[df.owns_hat, :]"
   ]
  },
  {
   "cell_type": "code",
   "execution_count": null,
   "id": "38791b3f",
   "metadata": {
    "scrolled": true
   },
   "outputs": [],
   "source": [
    "# Side note, we can also use filter here:\n",
    "filter(x -> x.owns_hat, df)"
   ]
  },
  {
   "cell_type": "code",
   "execution_count": null,
   "id": "7036b2a4",
   "metadata": {
    "slideshow": {
     "slide_type": "slide"
    }
   },
   "outputs": [],
   "source": [
    "# Using groupby to get average wealth by hat ownership\n",
    "using Statistics # to get the mean function\n",
    "group = groupby(df, :owns_hat)\n",
    "combine(group, :wealth => mean, :awesomeness => mean, :awesomeness => std)"
   ]
  },
  {
   "cell_type": "code",
   "execution_count": null,
   "id": "47bbfc66",
   "metadata": {
    "slideshow": {
     "slide_type": "slide"
    }
   },
   "outputs": [],
   "source": [
    "# Make a second datafame with names & ids\n",
    "name_df = DataFrame(\n",
    "    name = [\"jane\", \"emilio\", \"bojack\"],\n",
    "    id = [\"J876-A\", \"E993-B\", \"B261-L\"]\n",
    ")\n",
    "\n",
    "# Left join\n",
    "leftjoin(df, name_df, on=:name)"
   ]
  },
  {
   "cell_type": "code",
   "execution_count": null,
   "id": "929ad7ac",
   "metadata": {
    "slideshow": {
     "slide_type": "slide"
    }
   },
   "outputs": [],
   "source": [
    "# Right join\n",
    "rightjoin(df, name_df, on=:name)"
   ]
  },
  {
   "cell_type": "code",
   "execution_count": null,
   "id": "06d1e39c",
   "metadata": {
    "slideshow": {
     "slide_type": "slide"
    }
   },
   "outputs": [],
   "source": [
    "# Inner joins\n",
    "innerjoin(df, name_df, on=:name)"
   ]
  },
  {
   "cell_type": "code",
   "execution_count": null,
   "id": "43eac1dd",
   "metadata": {
    "slideshow": {
     "slide_type": "slide"
    }
   },
   "outputs": [],
   "source": [
    "# Outer joins\n",
    "outerjoin(df, name_df, on=:name)"
   ]
  },
  {
   "cell_type": "markdown",
   "id": "4662c149",
   "metadata": {
    "slideshow": {
     "slide_type": "slide"
    }
   },
   "source": [
    "# Questions?"
   ]
  },
  {
   "cell_type": "markdown",
   "id": "0b3f1431",
   "metadata": {
    "slideshow": {
     "slide_type": "slide"
    }
   },
   "source": [
    "# Visualization\n",
    "\n",
    "Julia has a _really_ good visualization ecosystem. \n",
    "\n",
    "Major packages:\n",
    "- Plots.jl (everything)\n",
    "- UnicodePlots.jl (quick-and-dirty text plots)\n",
    "- Makie.jl (for complex, GPU-enabled stuff)\n",
    "\n",
    "I'll focus on `Plots` and `StatsPlots`, both of which are (currently) the most commonly used in Julia.\n",
    "\n",
    "Install them with `] add Plots StatsPlots`."
   ]
  },
  {
   "cell_type": "markdown",
   "id": "945c879b",
   "metadata": {
    "slideshow": {
     "slide_type": "slide"
    }
   },
   "source": [
    "Here's a quick example of how to do a basic plot!"
   ]
  },
  {
   "cell_type": "code",
   "execution_count": null,
   "id": "50f1f34f",
   "metadata": {
    "slideshow": {
     "slide_type": "-"
    }
   },
   "outputs": [],
   "source": [
    "using Plots\n",
    "\n",
    "xs = 0:0.1:15\n",
    "ys = sin.(xs)\n",
    "\n",
    "plot(xs, ys)"
   ]
  },
  {
   "cell_type": "code",
   "execution_count": null,
   "id": "787e1235",
   "metadata": {
    "slideshow": {
     "slide_type": "slide"
    }
   },
   "outputs": [],
   "source": [
    "# We can add titles/legends/colors/etc. with keywords:\n",
    "plot(xs, ys, color=:red, title=\"A plot\", label=\"series 1\")"
   ]
  },
  {
   "cell_type": "code",
   "execution_count": null,
   "id": "1e151828",
   "metadata": {
    "slideshow": {
     "slide_type": "slide"
    }
   },
   "outputs": [],
   "source": [
    "# We can plot multiple series on top of each other\n",
    "ys1 = sin.(xs)\n",
    "ys2 = cos.(xs)\n",
    "\n",
    "plot(xs, ys1)\n",
    "plot!(xs, ys2) # note the !, which means \"modify something\""
   ]
  },
  {
   "cell_type": "code",
   "execution_count": null,
   "id": "9fc606f2",
   "metadata": {
    "scrolled": true,
    "slideshow": {
     "slide_type": "slide"
    }
   },
   "outputs": [],
   "source": [
    "# lots of types of plots:\n",
    "plot(\n",
    "    scatter(xs, ys1),\n",
    "    plot(xs, ys1),\n",
    "    \n",
    ")"
   ]
  },
  {
   "cell_type": "code",
   "execution_count": null,
   "id": "fd19044b",
   "metadata": {
    "slideshow": {
     "slide_type": "slide"
    }
   },
   "outputs": [],
   "source": [
    "# Overlay two different plot types on top of each other!\n",
    "plot(xs, ys1)\n",
    "scatter!(xs, ys1)"
   ]
  },
  {
   "cell_type": "code",
   "execution_count": null,
   "id": "f62f5035",
   "metadata": {
    "slideshow": {
     "slide_type": "slide"
    }
   },
   "outputs": [],
   "source": [
    "# StatsPlots allows the use of densities\n",
    "using StatsPlots\n",
    "\n",
    "draws = randn(1000)\n",
    "\n",
    "plot(\n",
    "    density(draws),\n",
    "    histogram(draws)\n",
    ")\n"
   ]
  },
  {
   "cell_type": "code",
   "execution_count": null,
   "id": "2abca85f",
   "metadata": {
    "slideshow": {
     "slide_type": "slide"
    }
   },
   "outputs": [],
   "source": [
    "# Plots with marginals!\n",
    "using Distributions, StatsPlots\n",
    "dist = MvNormal([0,0], [1.0 0.5; 0.5 2.0])\n",
    "draws = rand(dist, 1000)\n",
    "\n",
    "scatter(draws[1,:], draws[2,:])"
   ]
  },
  {
   "cell_type": "code",
   "execution_count": null,
   "id": "39aaed44",
   "metadata": {
    "slideshow": {
     "slide_type": "slide"
    }
   },
   "outputs": [],
   "source": [
    "marginalkde(draws[1,:], draws[2,:])"
   ]
  },
  {
   "cell_type": "code",
   "execution_count": null,
   "id": "0be6684a",
   "metadata": {
    "slideshow": {
     "slide_type": "slide"
    }
   },
   "outputs": [],
   "source": [
    "# Plots with marginals!\n",
    "using Distributions, StatsPlots\n",
    "dist = MvNormal(\n",
    "    [0,0,0], \n",
    "    [\n",
    "         1.0 0.5 -0.2; \n",
    "         0.5 2.0  0.0;\n",
    "        -0.2 0.0 4.0\n",
    "    ])\n",
    "draws = rand(dist, 1000)\n",
    "\n",
    "scatter3d(draws[1,:], draws[2,:], draws[3,:], alpha=0.5)"
   ]
  },
  {
   "cell_type": "markdown",
   "id": "d443aedc",
   "metadata": {
    "slideshow": {
     "slide_type": "slide"
    }
   },
   "source": [
    "# Questions?\n",
    "\n",
    "Next up is the project!"
   ]
  },
  {
   "cell_type": "markdown",
   "id": "638d4f71",
   "metadata": {
    "slideshow": {
     "slide_type": "slide"
    }
   },
   "source": [
    "# Project time\n",
    "\n",
    "For the individual project today, I want us to do something very simple that should help you figure out how to work with multiple dispatch in a Julian way.\n",
    "\n",
    "We are going to write an `ols` function that allows you to optionally request bootstrapped standard errors!"
   ]
  },
  {
   "cell_type": "markdown",
   "id": "bae21197",
   "metadata": {
    "slideshow": {
     "slide_type": "slide"
    }
   },
   "source": [
    "# Bootstrapping\n",
    "\n",
    "Bootstrapping is a simple statistical procedure that happens to be computationally fun. If you already know how to do this in other languages, feel free to glaze over here.\n",
    "\n",
    "Otherwise, here's the framework. Let's begin with a simple linear model:\n",
    "\n",
    "$$\n",
    "Y = X \\beta + \\epsilon, \\quad \\epsilon \\sim N(0, \\Sigma)\n",
    "$$\n",
    "\n",
    "A simple form for $\\Sigma$, often called spherical or homoscedastic errors, has\n",
    "\n",
    "$$\n",
    "\\Sigma = \\begin{bmatrix}\n",
    "\\sigma^2 & 0        & \\dots \\\\\n",
    "0        & \\sigma^2 &       \\\\\n",
    "\\vdots   &          & \\ddots \\\\ \n",
    "\\end{bmatrix} = \\sigma^2 I\n",
    "$$"
   ]
  },
  {
   "cell_type": "markdown",
   "id": "e4ba8261",
   "metadata": {
    "slideshow": {
     "slide_type": "slide"
    }
   },
   "source": [
    "## Spherical errors\n",
    "\n",
    "Consider the OLS estimator \n",
    "\n",
    "$$\n",
    "\\hat\\beta = (X'X)^{-1}X'Y\n",
    "$$\n",
    "\n",
    "we know that assuming spherical standard errors here yields\n",
    "\n",
    "$$\n",
    "\\text{Var}[\\hat\\beta \\mid X] = \\sigma^2 (X'X)^{-1}\n",
    "$$\n",
    "\n",
    "where we can estimate $\\sigma^2$ with $s^2$:\n",
    "\n",
    "$$\n",
    "s^2 = \\frac{(\\hat Y - Y)'(\\hat Y - Y)}{n - K}\n",
    "$$"
   ]
  },
  {
   "cell_type": "markdown",
   "id": "7f5891eb",
   "metadata": {
    "slideshow": {
     "slide_type": "slide"
    }
   },
   "source": [
    "## Bootstrapping\n",
    "\n",
    "If we don't really want to make this assumption, or we don't want to do the math to get the variance structure of our estimator, we can just bootstrap it! (don't @ me if you are mad about this, ain't no amazing econometrician)\n",
    "\n",
    "The bootstrapping procedure goes something like this:\n",
    "\n",
    "1. Estimate $\\hat \\beta$ $T$ times, with different subsamples. For each $t$ in $1,\\dots,T$:\n",
    "    1. Sample $m$ data points from $X$ and $Y$ with replacement. Denote these $X_t$ and $Y_t$.\n",
    "    2. Estimate $\\hat\\beta_t$ using the resampled $(X_t, Y_t)$.\n",
    "2. Calculate the final estimates and their standard errors as\n",
    "\n",
    "\\begin{align*}\n",
    "    \\hat\\beta &= \\frac1T \\sum_{t}^T \\hat\\beta_t \\\\ \n",
    "    SE(\\hat\\beta) &= \\frac{1}{\\sqrt{T}} \\sqrt{\\text{diag}\\bigg(\\sum_{t}^T (\\hat\\beta_t - \\hat \\beta)(\\hat\\beta_t - \\hat \\beta)' \\bigg)}\n",
    "\\end{align*}"
   ]
  },
  {
   "cell_type": "markdown",
   "id": "b8b8cd69",
   "metadata": {
    "slideshow": {
     "slide_type": "slide"
    }
   },
   "source": [
    "# Minor helpful note\n",
    " \n",
    "You can very easily extract repeated values from an array.\n",
    "\n",
    "This is really, really useful for sampling with replacement."
   ]
  },
  {
   "cell_type": "code",
   "execution_count": null,
   "id": "abf21869",
   "metadata": {},
   "outputs": [],
   "source": [
    "# Repeated indexing\n",
    "x = ['a', 'b', 'c', 'd', 'e']\n",
    "inds = [1,1,2]\n",
    "\n",
    "x[inds]"
   ]
  },
  {
   "cell_type": "markdown",
   "id": "609553c2",
   "metadata": {
    "slideshow": {
     "slide_type": "slide"
    }
   },
   "source": [
    "And here's how you might actually sample values with replacement from an array:"
   ]
  },
  {
   "cell_type": "code",
   "execution_count": null,
   "id": "f5ad12ec",
   "metadata": {},
   "outputs": [],
   "source": [
    "# Or, drawing random indexes with replacement:\n",
    "inds = rand(1:length(x), 3)\n",
    "x[inds]"
   ]
  },
  {
   "cell_type": "markdown",
   "id": "22766dd2",
   "metadata": {
    "slideshow": {
     "slide_type": "slide"
    }
   },
   "source": [
    "# Project\n",
    "\n",
    "Your goal for the project is to start with the following code:\n",
    "\n",
    "```julia\n",
    "using LinearAlgebra, Statistics\n",
    "\n",
    "n = 100\n",
    "x = [ones(n) rand(1:0.1:10, n)]\n",
    "b, sigma = [2.5, -1.2], 1\n",
    "y = x*b + sigma .* randn(n);\n",
    "```\n",
    "\n",
    "Next, I want you to write the code to make the following work:\n",
    "\n",
    "```julia\n",
    "ols(x, y, Spherical()) # returns OLS estimates + spherical standard errors\n",
    "ols(x, y, Bootstrapped(10000, 10)) # Bootstrapped estimates with T=10,000, subsample size m = 10\n",
    "```\n",
    "\n",
    "You will need to define `struct`s for `Spherical` and for `Boostrapped`! Signatures for the above might start\n",
    "\n",
    "```julia\n",
    "function ols(x, y, est::Spherical)\n",
    "    . . .\n",
    "end\n",
    "\n",
    "function ols(x, y, est::Boostrapped)\n",
    "    . . .\n",
    "end\n",
    "```"
   ]
  },
  {
   "cell_type": "markdown",
   "id": "024f0f57",
   "metadata": {
    "slideshow": {
     "slide_type": "slide"
    }
   },
   "source": [
    "### Bonus tasks\n",
    "\n",
    "Here's some extra stuff to do if you want more of a challenge or you have extra time. You'll need to do some research!\n",
    "\n",
    "1. Wrap up your estimates from `ols` in a `DataFrame`. You'll need to add this to your environment with `] add DataFrames` and put `using DataFrames` at the top of your script.\n",
    "2. Try to parallelize your bootstrapping procedure! Could be challenging but I'm happy to help. Useful tools are\n",
    "    - `Threads.@threads for thing in ...`\n",
    "        - Will require the use of a lock (I recommend `SpinLock`)! Reach out to me if you want to see how this works.\n",
    "    - `ThreadsX.map(z -> beta_hat(x, y, rand(1:length(y), m), 1:T)` requires that you run `]add ThreadsX` first and put `using ThreadsX` at the top of your script.\n",
    "3. Modify your code to plot the distribution of bootstrapped beta estimates, using `UnicodePlots.density` or `Plots.density`. Could be more interesting if you change the error distribution to something more interesting, like `exp.(randn(n))`.\n",
    "4. Try implementing the above but with instrumental variables! You will need to modify your underlying data a little to support this.\n",
    "\n",
    "    To do this you'll need to add support for the instrumentation matrix $Z$. Recall that the beta estimator for 2SLS is\n",
    "\n",
    "    \\begin{align*}\n",
    "    \\hat \\beta^{2SLS} &= (X'Z(Z'Z)^{-1}Z'X)^{-1}X'Z(Z'Z)^{-1}Z'Y \\\\\n",
    "    \\text{Var}\\big[\\hat \\beta^{2SLS}\\big] &= \\sigma^2 (X'Z(Z'Z)^{-1}Z'X)^{-1}\n",
    "    \\end{align*}"
   ]
  }
 ],
 "metadata": {
  "celltoolbar": "Slideshow",
  "kernelspec": {
   "display_name": "Julia 1.6.5",
   "language": "julia",
   "name": "julia-1.6"
  },
  "language_info": {
   "file_extension": ".jl",
   "mimetype": "application/julia",
   "name": "julia",
   "version": "1.6.5"
  }
 },
 "nbformat": 4,
 "nbformat_minor": 5
}
